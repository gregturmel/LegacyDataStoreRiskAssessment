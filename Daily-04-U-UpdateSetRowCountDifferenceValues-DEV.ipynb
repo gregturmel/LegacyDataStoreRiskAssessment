{
 "cells": [
  {
   "cell_type": "code",
   "execution_count": 1,
   "metadata": {},
   "outputs": [],
   "source": [
    "#ProgramName: Daily-U-UpdateRowCountDifferenceValues-DEV\n",
    "#Purpose: Update default values(zero) differences with calculated changes captured\n",
    "#Author:  Greg Turmel, Director, Data Governance \n",
    "#Date:    2020.08.30 - 2021.06.30\n",
    "#Errata:  0.1 Improvements can be made to script using for/looping through the metadata captured\n",
    "\n",
    "import os, sys, argparse, csv, pyodbc, sql, time, datetime\n",
    "import sqlalchemy as db\n",
    "\n",
    "from dotenv import load_dotenv # add this line\n",
    "import pandas as pd\n",
    "import numpy as np\n",
    "\n",
    "load_dotenv() # add this line\n",
    "user = os.getenv('MySQLeUser')\n",
    "password = os.getenv('MySQLeUserPass')\n",
    "host = os.getenv('MySQLeHOST')\n",
    "db = os.getenv('MySQLeDB')"
   ]
  },
  {
   "cell_type": "code",
   "execution_count": 2,
   "metadata": {},
   "outputs": [],
   "source": [
    "################################################################################\n",
    "# Variables: Constructing environment variables for automation steps \n",
    "################################################################################\n",
    "now01 = datetime.datetime.now()\n",
    "csvtype = 'Base' # csvtype - use 'Test or Base'\n",
    "Dbug = 'Off'     # Debugging - use On or Off  \n",
    "# Process files in procpath\n",
    "pfile00 = 'dbList.csv'\n",
    "pfile01 = 'tblList.csv'\n",
    "pfile02 = 'schemaList.csv'\n",
    "# Used for debugging output\n",
    "file00 = 'DiffReport0.csv' \n",
    "file01 = 'DiffReport1.csv' #ApplicationData - used for new tables found (begin plots)\n",
    "file02 = 'DiffReport2.csv' #Assessment - used for new tables found (begin plots)\n",
    "file03 = 'DiffReport3.csv' #Control - used for new tables found (begin plots)\n",
    "file04 = 'DiffReport4.csv' #Downstreamfeeds - used for new tables found (begin plots)\n",
    "file05 = 'DiffReport5.csv' #DownstreamFeedsV15 - used for new tables found (begin plots)\n",
    "file06 = 'DiffReport6.csv' #GCPS_Operations - used for new tables found (begin plots)\n",
    "file07 = 'DiffReport7.csv' #GSDR - used for new tables found (begin plots)\n",
    "file08 = 'DiffReport8.csv' #GSDR_Synergy - used for new tables found (begin plots)\n",
    "file09 = 'DiffReport9.csv' #GSDR_Synergy_Temp - used for new tables found (begin plots)\n",
    "file10 = 'DiffReport10.csv'#GSDR_Temp - used for new tables found (begin plots)\n",
    "file11 = 'DiffReport11.csv'#ODS_WebApps - used for new tables found (begin plots)\n",
    "file12 = 'DiffReport12.csv'#PPROD  - used for new tables found (begin plots)\n",
    "file13 = 'DiffReport13.csv'#Predictive_Analytics - used for new tables found (begin plots)\n",
    "file14 = 'DiffReport14.csv'\n",
    "file15 = 'DiffReport15.csv'\n",
    "\n"
   ]
  },
  {
   "cell_type": "code",
   "execution_count": 3,
   "metadata": {},
   "outputs": [
    {
     "name": "stdout",
     "output_type": "stream",
     "text": [
      "Processing Complete:  2021-05-05 07:15:03\n"
     ]
    }
   ],
   "source": [
    "################################################################################\n",
    "# Specify pathariables: Make sure output location is available for write: ex. UNIX touch \n",
    "################################################################################\n",
    "now01 = datetime.datetime.now()\n",
    "import os, errno, pathlib2\n",
    "try:\n",
    "    os.makedirs(r\"C:\\Users\\e201873842\\Documents\\Jupyter\\Daily\\Difference\\Process\", exist_ok=True)  # succeeds even if directory exists.\n",
    "    os.makedirs(r\"C:\\Users\\e201873842\\Documents\\Jupyter\\Daily\\Difference\\Reports\", exist_ok=True)\n",
    "    os.makedirs(r\"C:\\Users\\e201873842\\Documents\\Jupyter\\Daily\\Difference\\sql\\config\", exist_ok=True)\n",
    "except FileExistsError:\n",
    "    # directory already exists\n",
    "    pass\n",
    "\n",
    "procpath = (r'C:\\Users\\e201873842\\Documents\\Jupyter\\Daily\\Difference\\Process')\n",
    "csvpath = (r'C:\\Users\\e201873842\\Documents\\Jupyter\\Daily\\Difference\\Reports')\n",
    "sqlpath = (r'C:\\Users\\e201873842\\Documents\\Jupyter\\Daily\\Difference\\sql')\n",
    "configpath = (r'C:\\Users\\e201873842\\Documents\\Jupyter\\Daily\\Difference\\sql\\config')\n",
    "\n",
    "krange = (0,1,2,3,4,5,6,7,8,9)\n",
    "for k in krange:\n",
    "    with open(os.path.join(sqlpath, 'sqlfile0{0}.sql').format(k), 'w') as fp: pass\n",
    "    with open(os.path.join(sqlpath, 'sqlfile1{0}.sql').format(k), 'w') as fp: pass\n",
    "    with open(os.path.join(csvpath, 'DiffReport0{0}.csv').format(k), 'w') as fp: pass\n",
    "    with open(os.path.join(csvpath, 'DiffReport1{0}.csv').format(k), 'w') as fp: pass\n",
    "now01 = datetime.datetime.now()\n",
    "print('Processing Complete: ',now01.strftime(\"%Y-%m-%d %H:%M:%S\"))"
   ]
  },
  {
   "cell_type": "code",
   "execution_count": 4,
   "metadata": {},
   "outputs": [],
   "source": [
    "#Read excel file with core source tables\n",
    "dbList = pd.read_csv(r'C:\\Users\\e201873842\\Documents\\Jupyter\\Daily\\Difference\\Process\\dbList.csv', encoding='1252')\n",
    "tblList = pd.read_csv(r'C:\\Users\\e201873842\\Documents\\Jupyter\\Daily\\Difference\\Process\\tblList.csv', encoding='1252')\n",
    "schemaList = pd.read_csv(r'C:\\Users\\e201873842\\Documents\\Jupyter\\Daily\\Difference\\Process\\schemaList.csv', encoding='1252')"
   ]
  },
  {
   "cell_type": "code",
   "execution_count": 5,
   "metadata": {},
   "outputs": [
    {
     "data": {
      "text/html": [
       "<div>\n",
       "<style scoped>\n",
       "    .dataframe tbody tr th:only-of-type {\n",
       "        vertical-align: middle;\n",
       "    }\n",
       "\n",
       "    .dataframe tbody tr th {\n",
       "        vertical-align: top;\n",
       "    }\n",
       "\n",
       "    .dataframe thead th {\n",
       "        text-align: right;\n",
       "    }\n",
       "</style>\n",
       "<table border=\"1\" class=\"dataframe\">\n",
       "  <thead>\n",
       "    <tr style=\"text-align: right;\">\n",
       "      <th></th>\n",
       "      <th>Greg</th>\n",
       "    </tr>\n",
       "  </thead>\n",
       "  <tbody>\n",
       "  </tbody>\n",
       "</table>\n",
       "</div>"
      ],
      "text/plain": [
       "Empty DataFrame\n",
       "Columns: [Greg]\n",
       "Index: []"
      ]
     },
     "execution_count": 5,
     "metadata": {},
     "output_type": "execute_result"
    }
   ],
   "source": [
    "dbList.head()"
   ]
  },
  {
   "cell_type": "code",
   "execution_count": 6,
   "metadata": {},
   "outputs": [
    {
     "data": {
      "text/html": [
       "<div>\n",
       "<style scoped>\n",
       "    .dataframe tbody tr th:only-of-type {\n",
       "        vertical-align: middle;\n",
       "    }\n",
       "\n",
       "    .dataframe tbody tr th {\n",
       "        vertical-align: top;\n",
       "    }\n",
       "\n",
       "    .dataframe thead th {\n",
       "        text-align: right;\n",
       "    }\n",
       "</style>\n",
       "<table border=\"1\" class=\"dataframe\">\n",
       "  <thead>\n",
       "    <tr style=\"text-align: right;\">\n",
       "      <th></th>\n",
       "      <th>tableRowCountApplicationData</th>\n",
       "    </tr>\n",
       "  </thead>\n",
       "  <tbody>\n",
       "    <tr>\n",
       "      <th>0</th>\n",
       "      <td>tableRowCountAssessment</td>\n",
       "    </tr>\n",
       "    <tr>\n",
       "      <th>1</th>\n",
       "      <td>tableRowCountControl</td>\n",
       "    </tr>\n",
       "    <tr>\n",
       "      <th>2</th>\n",
       "      <td>tableRowCountDownstreamFeeds</td>\n",
       "    </tr>\n",
       "    <tr>\n",
       "      <th>3</th>\n",
       "      <td>tableRowCountDownstreamFeedsV15</td>\n",
       "    </tr>\n",
       "    <tr>\n",
       "      <th>4</th>\n",
       "      <td>tableRowCountGCPS_Operations</td>\n",
       "    </tr>\n",
       "  </tbody>\n",
       "</table>\n",
       "</div>"
      ],
      "text/plain": [
       "      tableRowCountApplicationData\n",
       "0          tableRowCountAssessment\n",
       "1             tableRowCountControl\n",
       "2     tableRowCountDownstreamFeeds\n",
       "3  tableRowCountDownstreamFeedsV15\n",
       "4     tableRowCountGCPS_Operations"
      ]
     },
     "execution_count": 6,
     "metadata": {},
     "output_type": "execute_result"
    }
   ],
   "source": [
    "tblList.head()"
   ]
  },
  {
   "cell_type": "code",
   "execution_count": 7,
   "metadata": {},
   "outputs": [
    {
     "data": {
      "text/html": [
       "<div>\n",
       "<style scoped>\n",
       "    .dataframe tbody tr th:only-of-type {\n",
       "        vertical-align: middle;\n",
       "    }\n",
       "\n",
       "    .dataframe tbody tr th {\n",
       "        vertical-align: top;\n",
       "    }\n",
       "\n",
       "    .dataframe thead th {\n",
       "        text-align: right;\n",
       "    }\n",
       "</style>\n",
       "<table border=\"1\" class=\"dataframe\">\n",
       "  <thead>\n",
       "    <tr style=\"text-align: right;\">\n",
       "      <th></th>\n",
       "      <th>dbo</th>\n",
       "    </tr>\n",
       "  </thead>\n",
       "  <tbody>\n",
       "  </tbody>\n",
       "</table>\n",
       "</div>"
      ],
      "text/plain": [
       "Empty DataFrame\n",
       "Columns: [dbo]\n",
       "Index: []"
      ]
     },
     "execution_count": 7,
     "metadata": {},
     "output_type": "execute_result"
    }
   ],
   "source": [
    "schemaList.head()"
   ]
  },
  {
   "cell_type": "code",
   "execution_count": 8,
   "metadata": {},
   "outputs": [],
   "source": [
    "conn = pyodbc.connect('Server=DEVODSSQL;'\n",
    "                      'Trusted_Connection=yes;'\n",
    "                      'DRIVER={SQL Server};'\n",
    "                      'Database=Greg')\n",
    "sql_query = pd.read_sql_query(''' \n",
    "SELECT DISTINCT [TableName] FROM [Greg].[dbo].[tableRowCountApplicationData] ORDER BY 1;\n",
    "'''\n",
    "                              ,conn)\n",
    "conn.close()"
   ]
  },
  {
   "cell_type": "code",
   "execution_count": 9,
   "metadata": {},
   "outputs": [
    {
     "data": {
      "text/html": [
       "<div>\n",
       "<style scoped>\n",
       "    .dataframe tbody tr th:only-of-type {\n",
       "        vertical-align: middle;\n",
       "    }\n",
       "\n",
       "    .dataframe tbody tr th {\n",
       "        vertical-align: top;\n",
       "    }\n",
       "\n",
       "    .dataframe thead th {\n",
       "        text-align: right;\n",
       "    }\n",
       "</style>\n",
       "<table border=\"1\" class=\"dataframe\">\n",
       "  <thead>\n",
       "    <tr style=\"text-align: right;\">\n",
       "      <th></th>\n",
       "      <th>TableName</th>\n",
       "    </tr>\n",
       "  </thead>\n",
       "  <tbody>\n",
       "    <tr>\n",
       "      <th>0</th>\n",
       "      <td>AcademicContract</td>\n",
       "    </tr>\n",
       "    <tr>\n",
       "      <th>1</th>\n",
       "      <td>AcademicContractIntervention</td>\n",
       "    </tr>\n",
       "    <tr>\n",
       "      <th>2</th>\n",
       "      <td>AccessRights</td>\n",
       "    </tr>\n",
       "    <tr>\n",
       "      <th>3</th>\n",
       "      <td>AccommodationToColMap</td>\n",
       "    </tr>\n",
       "    <tr>\n",
       "      <th>4</th>\n",
       "      <td>Addendum_Log</td>\n",
       "    </tr>\n",
       "  </tbody>\n",
       "</table>\n",
       "</div>"
      ],
      "text/plain": [
       "                      TableName\n",
       "0              AcademicContract\n",
       "1  AcademicContractIntervention\n",
       "2                  AccessRights\n",
       "3         AccommodationToColMap\n",
       "4                  Addendum_Log"
      ]
     },
     "execution_count": 9,
     "metadata": {},
     "output_type": "execute_result"
    }
   ],
   "source": [
    "sql_query.head()"
   ]
  },
  {
   "cell_type": "markdown",
   "metadata": {},
   "source": [
    "#Manually update existing tables and diff data values - automate to capture new tables IRT (in real time pending) "
   ]
  },
  {
   "cell_type": "code",
   "execution_count": 10,
   "metadata": {},
   "outputs": [
    {
     "name": "stdout",
     "output_type": "stream",
     "text": [
      "Difference Value updated - Process Complete:  2021-05-05 07:15:23\n"
     ]
    }
   ],
   "source": [
    "#Read into the df the sql file built as a CTE update command\n",
    "        \n",
    "s01 = open(r'C:\\Users\\e201873842\\Documents\\Jupyter\\Daily\\Difference\\sql\\update_appdata_set_difference.sql')\n",
    "sqlFile01 = s01.read()\n",
    "s01.close()\n",
    "\n",
    "for sqlCmd in sqlFile01.split(';'):\n",
    "    try:\n",
    "        conn = pyodbc.connect('Server=DEVODSSQL;'\n",
    "                      'Trusted_Connection=yes;'\n",
    "                      'DRIVER={SQL Server};'\n",
    "                      'Database=Greg')\n",
    "        cursor = conn.cursor()\n",
    "        cursor.execute(sqlCmd)\n",
    "    except:\n",
    "        continue\n",
    "    finally:\n",
    "        conn.commit()\n",
    "        continue\n",
    "\n",
    "conn.commit()\n",
    "conn.close()\n",
    "\n",
    "now01 = datetime.datetime.now()\n",
    "print('Difference Value updated - Process Complete: ', now01.strftime(\"%Y-%m-%d %H:%M:%S\"))"
   ]
  },
  {
   "cell_type": "code",
   "execution_count": 11,
   "metadata": {},
   "outputs": [
    {
     "name": "stdout",
     "output_type": "stream",
     "text": [
      "Difference Value updated - Process Complete:  2021-05-05 07:17:45\n"
     ]
    }
   ],
   "source": [
    "s02 = open(r'C:\\Users\\e201873842\\Documents\\Jupyter\\Daily\\Difference\\sql\\update_assessment_set_difference.sql')\n",
    "sqlFile02 = s02.read()\n",
    "s02.close()\n",
    "\n",
    "for sqlCmd in sqlFile02.split(';'):\n",
    "    try:\n",
    "        conn = pyodbc.connect('Server=DEVODSSQL;'\n",
    "                      'Trusted_Connection=yes;'\n",
    "                      'DRIVER={SQL Server};'\n",
    "                      'Database=Greg')\n",
    "        cursor = conn.cursor()\n",
    "        cursor.execute(sqlCmd)\n",
    "    except:\n",
    "        continue\n",
    "    finally:\n",
    "        conn.commit()\n",
    "        continue\n",
    "\n",
    "conn.commit()\n",
    "conn.close()\n",
    "\n",
    "now01 = datetime.datetime.now()\n",
    "print('Difference Value updated - Process Complete: ', now01.strftime(\"%Y-%m-%d %H:%M:%S\"))\n"
   ]
  },
  {
   "cell_type": "code",
   "execution_count": 12,
   "metadata": {},
   "outputs": [
    {
     "name": "stdout",
     "output_type": "stream",
     "text": [
      "Difference Value updated - Process Complete:  2021-05-05 07:17:54\n"
     ]
    }
   ],
   "source": [
    "s03 = open(r'C:\\Users\\e201873842\\Documents\\Jupyter\\Daily\\Difference\\sql\\update_control_set_difference.sql')\n",
    "sqlFile03 = s03.read()\n",
    "s03.close()\n",
    "\n",
    "for sqlCmd in sqlFile03.split(';'):\n",
    "    try:\n",
    "        conn = pyodbc.connect('Server=DEVODSSQL;'\n",
    "                      'Trusted_Connection=yes;'\n",
    "                      'DRIVER={SQL Server};'\n",
    "                      'Database=Greg')\n",
    "        cursor = conn.cursor()\n",
    "        cursor.execute(sqlCmd)\n",
    "    except:\n",
    "        continue\n",
    "    finally:\n",
    "        conn.commit()\n",
    "        continue\n",
    "\n",
    "conn.commit()\n",
    "conn.close()\n",
    "\n",
    "now01 = datetime.datetime.now()\n",
    "print('Difference Value updated - Process Complete: ', now01.strftime(\"%Y-%m-%d %H:%M:%S\"))\n"
   ]
  },
  {
   "cell_type": "code",
   "execution_count": 13,
   "metadata": {},
   "outputs": [
    {
     "name": "stdout",
     "output_type": "stream",
     "text": [
      "Difference Value updated - Process Complete:  2021-05-05 07:20:40\n"
     ]
    }
   ],
   "source": [
    "s04 = open(r'C:\\Users\\e201873842\\Documents\\Jupyter\\Daily\\Difference\\sql\\update_downstreamfeeds_set_difference.sql')\n",
    "sqlFile04 = s04.read()\n",
    "s04.close()\n",
    "\n",
    "for sqlCmd in sqlFile04.split(';'):\n",
    "    try:\n",
    "        conn = pyodbc.connect('Server=DEVODSSQL;'\n",
    "                      'Trusted_Connection=yes;'\n",
    "                      'DRIVER={SQL Server};'\n",
    "                      'Database=Greg')\n",
    "        cursor = conn.cursor()\n",
    "        cursor.execute(sqlCmd)\n",
    "    except:\n",
    "        continue\n",
    "    finally:\n",
    "        conn.commit()\n",
    "        continue\n",
    "\n",
    "conn.commit()\n",
    "conn.close()\n",
    "\n",
    "now01 = datetime.datetime.now()\n",
    "print('Difference Value updated - Process Complete: ', now01.strftime(\"%Y-%m-%d %H:%M:%S\"))"
   ]
  },
  {
   "cell_type": "code",
   "execution_count": 14,
   "metadata": {},
   "outputs": [
    {
     "name": "stdout",
     "output_type": "stream",
     "text": [
      "Difference Value updated - Process Complete:  2021-05-05 07:20:44\n"
     ]
    }
   ],
   "source": [
    "s05 = open(r'C:\\Users\\e201873842\\Documents\\Jupyter\\Daily\\Difference\\sql\\update_downstreamfeedsV15_set_difference.sql')\n",
    "sqlFile05 = s05.read()\n",
    "s05.close()\n",
    "\n",
    "for sqlCmd in sqlFile05.split(';'):\n",
    "    try:\n",
    "        conn = pyodbc.connect('Server=DEVODSSQL;'\n",
    "                      'Trusted_Connection=yes;'\n",
    "                      'DRIVER={SQL Server};'\n",
    "                      'Database=Greg')\n",
    "        cursor = conn.cursor()\n",
    "        cursor.execute(sqlCmd)\n",
    "    except:\n",
    "        continue\n",
    "    finally:\n",
    "        conn.commit()\n",
    "        continue\n",
    "\n",
    "conn.commit()\n",
    "conn.close()\n",
    "\n",
    "now01 = datetime.datetime.now()\n",
    "print('Difference Value updated - Process Complete: ', now01.strftime(\"%Y-%m-%d %H:%M:%S\"))"
   ]
  },
  {
   "cell_type": "code",
   "execution_count": 15,
   "metadata": {},
   "outputs": [
    {
     "name": "stdout",
     "output_type": "stream",
     "text": [
      "Difference Value updated - Process Complete:  2021-05-05 07:20:50\n"
     ]
    }
   ],
   "source": [
    "s06 = open(r'C:\\Users\\e201873842\\Documents\\Jupyter\\Daily\\Difference\\sql\\update_gcps_operations_set_difference.sql')\n",
    "sqlFile06 = s06.read()\n",
    "s06.close()\n",
    "\n",
    "for sqlCmd in sqlFile06.split(';'):\n",
    "    try:\n",
    "        conn = pyodbc.connect('Server=DEVODSSQL;'\n",
    "                      'Trusted_Connection=yes;'\n",
    "                      'DRIVER={SQL Server};'\n",
    "                      'Database=Greg')\n",
    "        cursor = conn.cursor()\n",
    "        cursor.execute(sqlCmd)\n",
    "    except:\n",
    "        continue\n",
    "    finally:\n",
    "        conn.commit()\n",
    "        continue\n",
    "\n",
    "conn.commit()\n",
    "conn.close()\n",
    "\n",
    "now01 = datetime.datetime.now()\n",
    "print('Difference Value updated - Process Complete: ', now01.strftime(\"%Y-%m-%d %H:%M:%S\"))"
   ]
  },
  {
   "cell_type": "code",
   "execution_count": 16,
   "metadata": {},
   "outputs": [
    {
     "name": "stdout",
     "output_type": "stream",
     "text": [
      "Difference Value updated - Process Complete:  2021-05-05 07:24:30\n"
     ]
    }
   ],
   "source": [
    "s07 = open(r'C:\\Users\\e201873842\\Documents\\Jupyter\\Daily\\Difference\\sql\\update_gsdr_set_difference.sql')\n",
    "sqlFile07 = s07.read()\n",
    "s07.close()\n",
    "\n",
    "for sqlCmd in sqlFile07.split(';'):\n",
    "    try:\n",
    "        conn = pyodbc.connect('Server=DEVODSSQL;'\n",
    "                      'Trusted_Connection=yes;'\n",
    "                      'DRIVER={SQL Server};'\n",
    "                      'Database=Greg')\n",
    "        cursor = conn.cursor()\n",
    "        cursor.execute(sqlCmd)\n",
    "    except:\n",
    "        continue\n",
    "    finally:\n",
    "        conn.commit()\n",
    "        continue\n",
    "\n",
    "conn.commit()\n",
    "conn.close()\n",
    "\n",
    "now01 = datetime.datetime.now()\n",
    "print('Difference Value updated - Process Complete: ', now01.strftime(\"%Y-%m-%d %H:%M:%S\"))"
   ]
  },
  {
   "cell_type": "code",
   "execution_count": 17,
   "metadata": {},
   "outputs": [
    {
     "name": "stdout",
     "output_type": "stream",
     "text": [
      "Difference Value updated - Process Complete:  2021-05-05 07:24:34\n"
     ]
    }
   ],
   "source": [
    "s08 = open(r'C:\\Users\\e201873842\\Documents\\Jupyter\\Daily\\Difference\\sql\\update_gsdr_synergy_set_difference.sql')\n",
    "sqlFile08 = s08.read()\n",
    "s08.close()\n",
    "\n",
    "for sqlCmd in sqlFile08.split(';'):\n",
    "    try:\n",
    "        conn = pyodbc.connect('Server=DEVODSSQL;'\n",
    "                      'Trusted_Connection=yes;'\n",
    "                      'DRIVER={SQL Server};'\n",
    "                      'Database=Greg')\n",
    "        cursor = conn.cursor()\n",
    "        cursor.execute(sqlCmd)\n",
    "    except:\n",
    "        continue\n",
    "    finally:\n",
    "        conn.commit()\n",
    "        continue\n",
    "\n",
    "conn.commit()\n",
    "conn.close()\n",
    "\n",
    "now01 = datetime.datetime.now()\n",
    "print('Difference Value updated - Process Complete: ', now01.strftime(\"%Y-%m-%d %H:%M:%S\"))"
   ]
  },
  {
   "cell_type": "code",
   "execution_count": 18,
   "metadata": {},
   "outputs": [
    {
     "name": "stdout",
     "output_type": "stream",
     "text": [
      "Difference Value updated - Process Complete:  2021-05-05 07:24:38\n"
     ]
    }
   ],
   "source": [
    "s09 = open(r'C:\\Users\\e201873842\\Documents\\Jupyter\\Daily\\Difference\\sql\\update_gsdr_synergy_temp_set_difference.sql')\n",
    "sqlFile09 = s09.read()\n",
    "s09.close()\n",
    "\n",
    "for sqlCmd in sqlFile09.split(';'):\n",
    "    try:\n",
    "        conn = pyodbc.connect('Server=DEVODSSQL;'\n",
    "                      'Trusted_Connection=yes;'\n",
    "                      'DRIVER={SQL Server};'\n",
    "                      'Database=Greg')\n",
    "        cursor = conn.cursor()\n",
    "        cursor.execute(sqlCmd)\n",
    "    except:\n",
    "        continue\n",
    "    finally:\n",
    "        conn.commit()\n",
    "        continue\n",
    "\n",
    "conn.commit()\n",
    "conn.close()\n",
    "\n",
    "now01 = datetime.datetime.now()\n",
    "print('Difference Value updated - Process Complete: ', now01.strftime(\"%Y-%m-%d %H:%M:%S\"))"
   ]
  },
  {
   "cell_type": "code",
   "execution_count": 19,
   "metadata": {},
   "outputs": [
    {
     "name": "stdout",
     "output_type": "stream",
     "text": [
      "Difference Value updated - Process Complete:  2021-05-05 07:28:18\n"
     ]
    }
   ],
   "source": [
    "s10 = open(r'C:\\Users\\e201873842\\Documents\\Jupyter\\Daily\\Difference\\sql\\update_gsdr_temp_set_difference.sql')\n",
    "sqlFile10 = s10.read()\n",
    "s10.close()\n",
    "\n",
    "for sqlCmd in sqlFile10.split(';'):\n",
    "    try:\n",
    "        conn = pyodbc.connect('Server=DEVODSSQL;'\n",
    "                      'Trusted_Connection=yes;'\n",
    "                      'DRIVER={SQL Server};'\n",
    "                      'Database=Greg')\n",
    "        cursor = conn.cursor()\n",
    "        cursor.execute(sqlCmd)\n",
    "    except:\n",
    "        continue\n",
    "    finally:\n",
    "        conn.commit()\n",
    "        continue\n",
    "\n",
    "conn.commit()\n",
    "conn.close()\n",
    "\n",
    "now01 = datetime.datetime.now()\n",
    "print('Difference Value updated - Process Complete: ', now01.strftime(\"%Y-%m-%d %H:%M:%S\"))"
   ]
  },
  {
   "cell_type": "code",
   "execution_count": 20,
   "metadata": {},
   "outputs": [
    {
     "name": "stdout",
     "output_type": "stream",
     "text": [
      "Difference Value updated - Process Complete:  2021-05-05 07:28:23\n"
     ]
    }
   ],
   "source": [
    "s11 = open(r'C:\\Users\\e201873842\\Documents\\Jupyter\\Daily\\Difference\\sql\\update_ods_webapps_set_difference.sql')\n",
    "sqlFile11 = s11.read()\n",
    "s11.close()\n",
    "\n",
    "for sqlCmd in sqlFile11.split(';'):\n",
    "    try:\n",
    "        conn = pyodbc.connect('Server=DEVODSSQL;'\n",
    "                      'Trusted_Connection=yes;'\n",
    "                      'DRIVER={SQL Server};'\n",
    "                      'Database=Greg')\n",
    "        cursor = conn.cursor()\n",
    "        cursor.execute(sqlCmd)\n",
    "    except:\n",
    "        continue\n",
    "    finally:\n",
    "        conn.commit()\n",
    "        continue\n",
    "\n",
    "conn.commit()\n",
    "conn.close()\n",
    "\n",
    "now01 = datetime.datetime.now()\n",
    "print('Difference Value updated - Process Complete: ', now01.strftime(\"%Y-%m-%d %H:%M:%S\"))"
   ]
  },
  {
   "cell_type": "code",
   "execution_count": 21,
   "metadata": {},
   "outputs": [
    {
     "name": "stdout",
     "output_type": "stream",
     "text": [
      "Difference Value updated - Process Complete:  2021-05-05 07:28:31\n"
     ]
    }
   ],
   "source": [
    "s12 = open(r'C:\\Users\\e201873842\\Documents\\Jupyter\\Daily\\Difference\\sql\\update_pprod_set_difference.sql')\n",
    "sqlFile12 = s12.read()\n",
    "s12.close()\n",
    "\n",
    "for sqlCmd in sqlFile12.split(';'):\n",
    "    try:\n",
    "        conn = pyodbc.connect('Server=DEVODSSQL;'\n",
    "                      'Trusted_Connection=yes;'\n",
    "                      'DRIVER={SQL Server};'\n",
    "                      'Database=Greg')\n",
    "        cursor = conn.cursor()\n",
    "        cursor.execute(sqlCmd)\n",
    "    except:\n",
    "        continue\n",
    "    finally:\n",
    "        conn.commit()\n",
    "        continue\n",
    "\n",
    "conn.commit()\n",
    "conn.close()\n",
    "\n",
    "now01 = datetime.datetime.now()\n",
    "print('Difference Value updated - Process Complete: ', now01.strftime(\"%Y-%m-%d %H:%M:%S\"))"
   ]
  },
  {
   "cell_type": "code",
   "execution_count": 22,
   "metadata": {},
   "outputs": [
    {
     "name": "stdout",
     "output_type": "stream",
     "text": [
      "Difference Value updated - Process Complete:  2021-05-05 07:29:16\n"
     ]
    }
   ],
   "source": [
    "s13 = open(r'C:\\Users\\e201873842\\Documents\\Jupyter\\Daily\\Difference\\sql\\update_predictive_analytics_set_difference.sql')\n",
    "sqlFile13 = s13.read()\n",
    "s13.close()\n",
    "\n",
    "for sqlCmd in sqlFile13.split(';'):\n",
    "    try:\n",
    "        conn = pyodbc.connect('Server=DEVODSSQL;'\n",
    "                      'Trusted_Connection=yes;'\n",
    "                      'DRIVER={SQL Server};'\n",
    "                      'Database=Greg')\n",
    "        cursor = conn.cursor()\n",
    "        cursor.execute(sqlCmd)\n",
    "    except:\n",
    "        continue\n",
    "    finally:\n",
    "        conn.commit()\n",
    "        continue\n",
    "\n",
    "conn.commit()\n",
    "conn.close()\n",
    "\n",
    "now01 = datetime.datetime.now()\n",
    "print('Difference Value updated - Process Complete: ', now01.strftime(\"%Y-%m-%d %H:%M:%S\"))\n"
   ]
  },
  {
   "cell_type": "code",
   "execution_count": 23,
   "metadata": {},
   "outputs": [
    {
     "name": "stdout",
     "output_type": "stream",
     "text": [
      "Process Complete: All diff values updated: Next validate and run new plots 2021-05-05 07:29:16\n"
     ]
    }
   ],
   "source": [
    "print('Process Complete: All diff values updated: Next validate and run new plots', now01.strftime(\"%Y-%m-%d %H:%M:%S\"))"
   ]
  }
 ],
 "metadata": {
  "kernelspec": {
   "display_name": "Python 3",
   "language": "python",
   "name": "python3"
  },
  "language_info": {
   "codemirror_mode": {
    "name": "ipython",
    "version": 3
   },
   "file_extension": ".py",
   "mimetype": "text/x-python",
   "name": "python",
   "nbconvert_exporter": "python",
   "pygments_lexer": "ipython3",
   "version": "3.8.3"
  }
 },
 "nbformat": 4,
 "nbformat_minor": 4
}
