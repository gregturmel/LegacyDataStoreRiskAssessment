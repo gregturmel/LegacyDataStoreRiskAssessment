{
 "cells": [
  {
   "cell_type": "code",
   "execution_count": 1,
   "metadata": {},
   "outputs": [],
   "source": [
    "#ProgramName:     Daily-UpdateRowCountDifferenceValues-DEV\n",
    "#Purpose:         Update default values(zero) differences with calculated changes captured\n",
    "#Author:          Greg Turmel, Director, Data Governance \n",
    "#Date:            2020.08.30 - 2021.06.30\n",
    "#Errata:          0.1 Improvements can be made to script using for/looping through the metadata captured\n",
    "\n",
    "import os, sys, argparse, csv, pyodbc, sql, time, datetime\n",
    "import sqlalchemy as db\n",
    "import errno, pathlib2\n",
    "\n",
    "from dotenv import load_dotenv # add this line\n",
    "import pandas as pd\n",
    "import numpy as np\n",
    "\n",
    "load_dotenv() # add this line\n",
    "user = os.getenv('MySQLeUser')\n",
    "password = os.getenv('MySQLeUserPass')\n",
    "host = os.getenv('MySQLeHOST')\n",
    "db = os.getenv('MySQLeDB')"
   ]
  },
  {
   "cell_type": "code",
   "execution_count": 2,
   "metadata": {},
   "outputs": [
    {
     "name": "stdout",
     "output_type": "stream",
     "text": [
      "Parent Directory is:  C:\\Users\\e201873842\\Documents\\Py\n",
      "Directory: Daily >>>>> Note ---- this folder already exists <<<<<\n",
      "Directory: C:\\Users\\e201873842\\Documents\\Py\\Daily\\Difference\\Process >>>>> Note ---- this folder already exists <<<<<\n",
      "Directory: C:\\Users\\e201873842\\Documents\\Py\\Daily\\Difference\\Reports >>>>> Note ---- this folder already exists <<<<<\n",
      "Directory: C:\\Users\\e201873842\\Documents\\Py\\Daily\\Difference\\sql >>>>> Note ---- this folder already exists <<<<<\n",
      "Central Config Directory: C:\\Users\\e201873842\\Documents\\Py\\Daily\\config >>>>> Note ---- this folder already exists <<<<<\n"
     ]
    }
   ],
   "source": [
    "# This segment builds the appropriatte file system structure as a variable driven exercise\n",
    "# Take time to set your 'eeeeeeeeee' number as variable 'pn' below \n",
    "# and set the program directory variable called 'programDirectory' before running\n",
    "# ===================================================================================================================\n",
    "pn = r'eeeeeeeeee'            #This represents the windows system employee login folder - IBM team uses a 9 number\n",
    "# ===================================================================================================================\n",
    "\n",
    "programDirectory = 'Daily' # Update this variable to wherever you want the program subfolder/files to be located \n",
    "un = r'C:\\Users'\n",
    "cn = r'Documents\\Py'\n",
    "an = r'Difference\\Process'\n",
    "bn = r'Difference\\Reports'\n",
    "\n",
    "sn = r'Difference\\sql'\n",
    "tn = r'config'\n",
    "\n",
    "#Set a parent directory\n",
    "parentDirectory = \"{}\\{}\\{}\".format(un,pn,cn)\n",
    "print('Parent Directory is: ', parentDirectory)\n",
    "mode = 0o666\n",
    "\n",
    "#Set path location for working with local file(s)\n",
    "path = os.path.join(parentDirectory, programDirectory,)\n",
    "pathDP = os.path.join(parentDirectory, programDirectory, an)\n",
    "pathDR = os.path.join(parentDirectory, programDirectory, bn)\n",
    "pathDS = os.path.join(parentDirectory, programDirectory, sn)\n",
    "pathDT = os.path.join(parentDirectory, programDirectory, tn)\n",
    "\n",
    "procpath = pathDP\n",
    "csvpath = pathDR\n",
    "sqlpath = pathDS\n",
    "configpath = pathDT\n",
    "\n",
    "try:\n",
    "    if not os.path.exists(path):\n",
    "        os.makedirs(path, mode)\n",
    "        print('Program Directory subfolder has been created: ', programDirectory)\n",
    "    else:\n",
    "        print('Directory:', programDirectory, '>>>>> Note ---- this folder already exists <<<<<')\n",
    "except OSError as error:\n",
    "    print(error)\n",
    "    pass\n",
    "\n",
    "try:\n",
    "    if not os.path.exists(pathDP):\n",
    "        os.makedirs(pathDP, mode)\n",
    "        print('Program Directory subfolder has been created: ', pathDP)\n",
    "    else:\n",
    "        print('Directory:', pathDP, '>>>>> Note ---- this folder already exists <<<<<')\n",
    "except OSError as error:\n",
    "    print(error)\n",
    "    pass\n",
    "\n",
    "try:\n",
    "    if not os.path.exists(pathDR):\n",
    "        os.makedirs(pathDR, mode)\n",
    "        print('Program Directory subfolder has been created: ', pathDR)\n",
    "    else:\n",
    "        print('Directory:', pathDR, '>>>>> Note ---- this folder already exists <<<<<')\n",
    "except OSError as error:\n",
    "    print(error)\n",
    "    pass\n",
    "\n",
    "try:\n",
    "    if not os.path.exists(pathDS):\n",
    "        os.makedirs(pathDS, mode)\n",
    "        print('Program Directory subfolder has been created: ', pathDS)\n",
    "    else:\n",
    "        print('Directory:', pathDS, '>>>>> Note ---- this folder already exists <<<<<')\n",
    "except OSError as error:\n",
    "    print(error)\n",
    "    pass\n",
    "\n",
    "try:\n",
    "    if not os.path.exists(pathDT):\n",
    "        os.makedirs(pathDT, mode)\n",
    "        print('Program Directory subfolder has been created: ', pathDT)\n",
    "    else:\n",
    "        print('Central Config Directory:', pathDT, '>>>>> Note ---- this folder already exists <<<<<')\n",
    "except OSError as error:\n",
    "    print(error)\n",
    "    pass\n",
    "\n",
    "# SQL files for reset first value in diff column to ensure calculations are not skewed\n",
    "# Found in C:\\Users\\eeeeeeeeeeee\\Documents\\Py\\Daily\\Difference\\sql\n",
    "#ApplicationData\n",
    "diffAD = 'SQLQuery-updateAppDatadifferencevaluesRow1diffeq0.sql'\n",
    "#Assessment\n",
    "diffAM = 'SQLQuery-updateAssessmentdifferencevaluesRow1diffeq0.sql'\n",
    "#Control\n",
    "diffCL = 'SQLQuery-updateControldifferencevaluesRow1diffeq0.sql'\n",
    "#DownstreamFeeds\n",
    "diffDF = 'SQLQuery-updateDownstreamFeedsdifferencevaluesRow1diffeq0.sql'\n",
    "#DownstreamFeeds_V1.5\n",
    "diffDV = 'SQLQuery-updateDownstreamFeedsV15differencevaluesRow1diffeq0.sql'\n",
    "#GCPS_Operations\n",
    "diffGO = 'SQLQuery-updateGCPS_OperationsdifferencevaluesRow1diffeq0.sql'\n",
    "#GSDR\n",
    "diffGR = 'SQLQuery-updateGSDRdifferencevaluesRow1diffeq0.sql'\n",
    "#GSDR_Synergy\n",
    "diffGS = 'SQLQuery-updateGSDR_SynergydifferencevaluesRow1diffeq0.sql'\n",
    "#GSDR_Synergy_Temp\n",
    "diffGP = 'SQLQuery-updateGSDR_Synergy_TempdifferencevaluesRow1diffeq0.sql'\n",
    "#GSDR_Temp\n",
    "diffGT = 'SQLQuery-updateGSDR_TempdifferencevaluesRow1diffeq0.sql'\n",
    "#ODS_WebApps\n",
    "diffOW = 'SQLQuery-updateODS_WebAppsdifferencevaluesRow1diffeq.sql'\n",
    "#PPROD\n",
    "diffPP = 'SQLQuery-updatePPRODdifferencevaluesRow1diffeq0.sql'\n",
    "#Predictive_Analytics\n",
    "diffPV = 'SQLQuery-updatePredictive_AnalyticsdifferencevaluesRow1diffeq0.sql'\n"
   ]
  },
  {
   "cell_type": "code",
   "execution_count": 3,
   "metadata": {},
   "outputs": [],
   "source": [
    "conn = pyodbc.connect('Server=DEVODSSQL;'\n",
    "                      'Trusted_Connection=yes;'\n",
    "                      'DRIVER={SQL Server};'\n",
    "                      'Database=Greg')\n",
    "sql_query = pd.read_sql_query(''' \n",
    "SELECT DISTINCT [TableName] FROM [Greg].[dbo].[tableRowCountApplicationData] ORDER BY 1;\n",
    "'''\n",
    "                              ,conn)\n",
    "conn.close()"
   ]
  },
  {
   "cell_type": "code",
   "execution_count": 4,
   "metadata": {},
   "outputs": [
    {
     "name": "stdout",
     "output_type": "stream",
     "text": [
      "1.1.0 Begin AppData Difference Value update:  2021-06-14 07:26:46\n",
      "1.1.0 Difference Value updated - Process Complete:  2021-06-14 07:27:15\n"
     ]
    }
   ],
   "source": [
    "#Read into the df the sql file built as a CTE update command\n",
    "now01 = datetime.datetime.now()\n",
    "print('1.1.0 Begin AppData Difference Value update: ',now01.strftime(\"%Y-%m-%d %H:%M:%S\"))\n",
    "\n",
    "s01 = open(os.path.join(pathDS, 'update_appdata_set_difference.sql'))\n",
    "sqlFile01 = s01.read()\n",
    "s01.close()\n",
    "\n",
    "for sqlCmd in sqlFile01.split(';'):\n",
    "    try:\n",
    "        conn = pyodbc.connect('Server=DEVODSSQL;'\n",
    "                      'Trusted_Connection=yes;'\n",
    "                      'DRIVER={SQL Server};'\n",
    "                      'Database=Greg')\n",
    "        cursor = conn.cursor()\n",
    "        cursor.execute(sqlCmd)\n",
    "    except:\n",
    "        continue\n",
    "    finally:\n",
    "        conn.commit()\n",
    "        continue\n",
    "\n",
    "conn.commit()\n",
    "conn.close()\n",
    "\n",
    "now01 = datetime.datetime.now()\n",
    "print('1.1.0 Difference Value updated - Process Complete: ', now01.strftime(\"%Y-%m-%d %H:%M:%S\"))"
   ]
  },
  {
   "cell_type": "code",
   "execution_count": 5,
   "metadata": {},
   "outputs": [
    {
     "name": "stdout",
     "output_type": "stream",
     "text": [
      "1.1.1 Begin AppData Row 1 = 0 Difference Value update:  2021-06-14 07:27:15\n",
      "1.1.1 Row 1 Difference Value updated - Process Complete:  2021-06-14 07:27:19\n"
     ]
    }
   ],
   "source": [
    "#Set the first row for each table to zero to prevent the avg and sum calculations in step 6 from being skewed\n",
    "#ApplicationData reset\n",
    "\n",
    "now01 = datetime.datetime.now()\n",
    "print('1.1.1 Begin AppData Row 1 = 0 Difference Value update: ',now01.strftime(\"%Y-%m-%d %H:%M:%S\"))\n",
    "\n",
    "#Read the sql file built as a CTE update command\n",
    "s01 = open(os.path.join(pathDS, diffAD))\n",
    "sqlFile01 = s01.read()\n",
    "s01.close()\n",
    "\n",
    "#strip and then split read on';' \n",
    "for sqlCmd in sqlFile01.split(';'):\n",
    "    try:\n",
    "        conn = pyodbc.connect('Server=DEVODSSQL;'\n",
    "                      'Trusted_Connection=yes;'\n",
    "                      'DRIVER={SQL Server};'\n",
    "                      'Database=Greg')\n",
    "        cursor = conn.cursor()\n",
    "        cursor.execute(sqlCmd)\n",
    "    except:\n",
    "        continue\n",
    "    finally:\n",
    "        conn.commit()\n",
    "        continue\n",
    "\n",
    "conn.commit()\n",
    "conn.close()\n",
    "\n",
    "now01 = datetime.datetime.now()\n",
    "print('1.1.1 Row 1 Difference Value updated - Process Complete: ', now01.strftime(\"%Y-%m-%d %H:%M:%S\"))\n"
   ]
  },
  {
   "cell_type": "code",
   "execution_count": 6,
   "metadata": {},
   "outputs": [
    {
     "name": "stdout",
     "output_type": "stream",
     "text": [
      "1.1.2 Difference Value updated - Process Complete:  2021-06-14 07:30:48\n"
     ]
    }
   ],
   "source": [
    "s02 = open(os.path.join(pathDS, 'update_assessment_set_difference.sql'))\n",
    "sqlFile02 = s02.read()\n",
    "s02.close()\n",
    "\n",
    "for sqlCmd in sqlFile02.split(';'):\n",
    "    try:\n",
    "        conn = pyodbc.connect('Server=DEVODSSQL;'\n",
    "                      'Trusted_Connection=yes;'\n",
    "                      'DRIVER={SQL Server};'\n",
    "                      'Database=Greg')\n",
    "        cursor = conn.cursor()\n",
    "        cursor.execute(sqlCmd)\n",
    "    except:\n",
    "        continue\n",
    "    finally:\n",
    "        conn.commit()\n",
    "        continue\n",
    "\n",
    "conn.commit()\n",
    "conn.close()\n",
    "\n",
    "now01 = datetime.datetime.now()\n",
    "print('1.1.2 Difference Value updated - Process Complete: ', now01.strftime(\"%Y-%m-%d %H:%M:%S\"))\n"
   ]
  },
  {
   "cell_type": "code",
   "execution_count": 7,
   "metadata": {},
   "outputs": [
    {
     "name": "stdout",
     "output_type": "stream",
     "text": [
      "1.1.3 Begin Assessment Row 1 = 0 Difference Value update:  2021-06-14 07:30:48\n",
      "1.1.3 Row 1 Difference Value updated - Process Complete:  2021-06-14 07:31:07\n"
     ]
    }
   ],
   "source": [
    "#Set the first row for each table to zero to prevent the avg and sum calculations in step 6 from being skewed\n",
    "#Assessment reset\n",
    "\n",
    "now01 = datetime.datetime.now()\n",
    "print('1.1.3 Begin Assessment Row 1 = 0 Difference Value update: ',now01.strftime(\"%Y-%m-%d %H:%M:%S\"))\n",
    "\n",
    "#Read the sql file built as a CTE update command\n",
    "s01 = open(os.path.join(pathDS, diffAM))\n",
    "sqlFile01 = s01.read()\n",
    "s01.close()\n",
    "\n",
    "#strip and then split read on';' \n",
    "for sqlCmd in sqlFile01.split(';'):\n",
    "    try:\n",
    "        conn = pyodbc.connect('Server=DEVODSSQL;'\n",
    "                      'Trusted_Connection=yes;'\n",
    "                      'DRIVER={SQL Server};'\n",
    "                      'Database=Greg')\n",
    "        cursor = conn.cursor()\n",
    "        cursor.execute(sqlCmd)\n",
    "    except:\n",
    "        continue\n",
    "    finally:\n",
    "        conn.commit()\n",
    "        continue\n",
    "\n",
    "conn.commit()\n",
    "conn.close()\n",
    "\n",
    "now01 = datetime.datetime.now()\n",
    "print('1.1.3 Row 1 Difference Value updated - Process Complete: ', now01.strftime(\"%Y-%m-%d %H:%M:%S\"))\n"
   ]
  },
  {
   "cell_type": "code",
   "execution_count": 8,
   "metadata": {},
   "outputs": [
    {
     "name": "stdout",
     "output_type": "stream",
     "text": [
      "1.1.4 Difference Value updated - Process Complete:  2021-06-14 07:31:19\n"
     ]
    }
   ],
   "source": [
    "s03 = open(os.path.join(pathDS, 'update_control_set_difference.sql'))\n",
    "sqlFile03 = s03.read()\n",
    "s03.close()\n",
    "\n",
    "for sqlCmd in sqlFile03.split(';'):\n",
    "    try:\n",
    "        conn = pyodbc.connect('Server=DEVODSSQL;'\n",
    "                      'Trusted_Connection=yes;'\n",
    "                      'DRIVER={SQL Server};'\n",
    "                      'Database=Greg')\n",
    "        cursor = conn.cursor()\n",
    "        cursor.execute(sqlCmd)\n",
    "    except:\n",
    "        continue\n",
    "    finally:\n",
    "        conn.commit()\n",
    "        continue\n",
    "\n",
    "conn.commit()\n",
    "conn.close()\n",
    "\n",
    "now01 = datetime.datetime.now()\n",
    "print('1.1.4 Difference Value updated - Process Complete: ', now01.strftime(\"%Y-%m-%d %H:%M:%S\"))\n"
   ]
  },
  {
   "cell_type": "code",
   "execution_count": 9,
   "metadata": {},
   "outputs": [
    {
     "name": "stdout",
     "output_type": "stream",
     "text": [
      "1.1.5 Begin Control Row 1 = 0 Difference Value update:  2021-06-14 07:31:19\n",
      "1.1.5 Row 1 Difference Value updated - Process Complete:  2021-06-14 07:31:22\n"
     ]
    }
   ],
   "source": [
    "#Set the first row for each table to zero to prevent the avg and sum calculations in step 6 from being skewed\n",
    "#Control reset\n",
    "\n",
    "now01 = datetime.datetime.now()\n",
    "print('1.1.5 Begin Control Row 1 = 0 Difference Value update: ',now01.strftime(\"%Y-%m-%d %H:%M:%S\"))\n",
    "\n",
    "#Read the sql file built as a CTE update command\n",
    "s01 = open(os.path.join(pathDS, diffCL))\n",
    "sqlFile01 = s01.read()\n",
    "s01.close()\n",
    "\n",
    "#strip and then split read on';' \n",
    "for sqlCmd in sqlFile01.split(';'):\n",
    "    try:\n",
    "        conn = pyodbc.connect('Server=DEVODSSQL;'\n",
    "                      'Trusted_Connection=yes;'\n",
    "                      'DRIVER={SQL Server};'\n",
    "                      'Database=Greg')\n",
    "        cursor = conn.cursor()\n",
    "        cursor.execute(sqlCmd)\n",
    "    except:\n",
    "        continue\n",
    "    finally:\n",
    "        conn.commit()\n",
    "        continue\n",
    "\n",
    "conn.commit()\n",
    "conn.close()\n",
    "\n",
    "now01 = datetime.datetime.now()\n",
    "print('1.1.5 Row 1 Difference Value updated - Process Complete: ', now01.strftime(\"%Y-%m-%d %H:%M:%S\"))\n"
   ]
  },
  {
   "cell_type": "code",
   "execution_count": 10,
   "metadata": {},
   "outputs": [
    {
     "name": "stdout",
     "output_type": "stream",
     "text": [
      "1.1.6 Difference Value updated - Process Complete:  2021-06-14 07:34:19\n"
     ]
    }
   ],
   "source": [
    "s04 = open(os.path.join(pathDS, 'update_downstreamfeeds_set_difference.sql'))\n",
    "sqlFile04 = s04.read()\n",
    "s04.close()\n",
    "\n",
    "for sqlCmd in sqlFile04.split(';'):\n",
    "    try:\n",
    "        conn = pyodbc.connect('Server=DEVODSSQL;'\n",
    "                      'Trusted_Connection=yes;'\n",
    "                      'DRIVER={SQL Server};'\n",
    "                      'Database=Greg')\n",
    "        cursor = conn.cursor()\n",
    "        cursor.execute(sqlCmd)\n",
    "    except:\n",
    "        continue\n",
    "    finally:\n",
    "        conn.commit()\n",
    "        continue\n",
    "\n",
    "conn.commit()\n",
    "conn.close()\n",
    "\n",
    "now01 = datetime.datetime.now()\n",
    "print('1.1.6 Difference Value updated - Process Complete: ', now01.strftime(\"%Y-%m-%d %H:%M:%S\"))"
   ]
  },
  {
   "cell_type": "code",
   "execution_count": 11,
   "metadata": {},
   "outputs": [
    {
     "name": "stdout",
     "output_type": "stream",
     "text": [
      "1.1.7 Begin DownstremFeeds Row 1 = 0 Difference Value update:  2021-06-14 07:34:19\n",
      "1.1.7 Row 1 Difference Value updated - Process Complete:  2021-06-14 07:34:34\n"
     ]
    }
   ],
   "source": [
    "#Set the first row for each table to zero to prevent the avg and sum calculations in step 6 from being skewed\n",
    "#DownstreamFeeds reset\n",
    "\n",
    "now01 = datetime.datetime.now()\n",
    "print('1.1.7 Begin DownstremFeeds Row 1 = 0 Difference Value update: ',now01.strftime(\"%Y-%m-%d %H:%M:%S\"))\n",
    "\n",
    "#Read the sql file built as a CTE update command\n",
    "s01 = open(os.path.join(pathDS, diffDF))\n",
    "sqlFile01 = s01.read()\n",
    "s01.close()\n",
    "\n",
    "#strip and then split read on';' \n",
    "for sqlCmd in sqlFile01.split(';'):\n",
    "    try:\n",
    "        conn = pyodbc.connect('Server=DEVODSSQL;'\n",
    "                      'Trusted_Connection=yes;'\n",
    "                      'DRIVER={SQL Server};'\n",
    "                      'Database=Greg')\n",
    "        cursor = conn.cursor()\n",
    "        cursor.execute(sqlCmd)\n",
    "    except:\n",
    "        continue\n",
    "    finally:\n",
    "        conn.commit()\n",
    "        continue\n",
    "\n",
    "conn.commit()\n",
    "conn.close()\n",
    "\n",
    "now01 = datetime.datetime.now()\n",
    "print('1.1.7 Row 1 Difference Value updated - Process Complete: ', now01.strftime(\"%Y-%m-%d %H:%M:%S\"))\n"
   ]
  },
  {
   "cell_type": "code",
   "execution_count": 12,
   "metadata": {},
   "outputs": [
    {
     "name": "stdout",
     "output_type": "stream",
     "text": [
      "1.1.8 Difference Value updated - Process Complete:  2021-06-14 07:34:41\n"
     ]
    }
   ],
   "source": [
    "s05 = open(os.path.join(pathDS, 'update_downstreamfeedsV15_set_difference.sql'))\n",
    "sqlFile05 = s05.read()\n",
    "s05.close()\n",
    "\n",
    "for sqlCmd in sqlFile05.split(';'):\n",
    "    try:\n",
    "        conn = pyodbc.connect('Server=DEVODSSQL;'\n",
    "                      'Trusted_Connection=yes;'\n",
    "                      'DRIVER={SQL Server};'\n",
    "                      'Database=Greg')\n",
    "        cursor = conn.cursor()\n",
    "        cursor.execute(sqlCmd)\n",
    "    except:\n",
    "        continue\n",
    "    finally:\n",
    "        conn.commit()\n",
    "        continue\n",
    "\n",
    "conn.commit()\n",
    "conn.close()\n",
    "\n",
    "now01 = datetime.datetime.now()\n",
    "print('1.1.8 Difference Value updated - Process Complete: ', now01.strftime(\"%Y-%m-%d %H:%M:%S\"))"
   ]
  },
  {
   "cell_type": "code",
   "execution_count": 13,
   "metadata": {},
   "outputs": [
    {
     "name": "stdout",
     "output_type": "stream",
     "text": [
      "1.1.9 Begin DownstremFeeds_V1.5 Row 1 = 0 Difference Value update:  2021-06-14 07:34:41\n",
      "1.1.9 Row 1 Difference Value updated - Process Complete:  2021-06-14 07:34:43\n"
     ]
    }
   ],
   "source": [
    "#Set the first row for each table to zero to prevent the avg and sum calculations in step 6 from being skewed\n",
    "#DownstreamFeeds_V1.5 reset\n",
    "\n",
    "now01 = datetime.datetime.now()\n",
    "print('1.1.9 Begin DownstremFeeds_V1.5 Row 1 = 0 Difference Value update: ',now01.strftime(\"%Y-%m-%d %H:%M:%S\"))\n",
    "\n",
    "#Read the sql file built as a CTE update command\n",
    "s01 = open(os.path.join(pathDS, diffDV))\n",
    "sqlFile01 = s01.read()\n",
    "s01.close()\n",
    "\n",
    "#strip and then split read on';' \n",
    "for sqlCmd in sqlFile01.split(';'):\n",
    "    try:\n",
    "        conn = pyodbc.connect('Server=DEVODSSQL;'\n",
    "                      'Trusted_Connection=yes;'\n",
    "                      'DRIVER={SQL Server};'\n",
    "                      'Database=Greg')\n",
    "        cursor = conn.cursor()\n",
    "        cursor.execute(sqlCmd)\n",
    "    except:\n",
    "        continue\n",
    "    finally:\n",
    "        conn.commit()\n",
    "        continue\n",
    "\n",
    "conn.commit()\n",
    "conn.close()\n",
    "\n",
    "now01 = datetime.datetime.now()\n",
    "print('1.1.9 Row 1 Difference Value updated - Process Complete: ', now01.strftime(\"%Y-%m-%d %H:%M:%S\"))\n"
   ]
  },
  {
   "cell_type": "code",
   "execution_count": 14,
   "metadata": {},
   "outputs": [
    {
     "name": "stdout",
     "output_type": "stream",
     "text": [
      "1.1.10 Difference Value updated - Process Complete:  2021-06-14 07:34:51\n"
     ]
    }
   ],
   "source": [
    "s06 = open(os.path.join(pathDS, 'update_gcps_operations_set_difference.sql'))\n",
    "sqlFile06 = s06.read()\n",
    "s06.close()\n",
    "\n",
    "for sqlCmd in sqlFile06.split(';'):\n",
    "    try:\n",
    "        conn = pyodbc.connect('Server=DEVODSSQL;'\n",
    "                      'Trusted_Connection=yes;'\n",
    "                      'DRIVER={SQL Server};'\n",
    "                      'Database=Greg')\n",
    "        cursor = conn.cursor()\n",
    "        cursor.execute(sqlCmd)\n",
    "    except:\n",
    "        continue\n",
    "    finally:\n",
    "        conn.commit()\n",
    "        continue\n",
    "\n",
    "conn.commit()\n",
    "conn.close()\n",
    "\n",
    "now01 = datetime.datetime.now()\n",
    "print('1.1.10 Difference Value updated - Process Complete: ', now01.strftime(\"%Y-%m-%d %H:%M:%S\"))"
   ]
  },
  {
   "cell_type": "code",
   "execution_count": 15,
   "metadata": {},
   "outputs": [
    {
     "name": "stdout",
     "output_type": "stream",
     "text": [
      "1.1.11 Begin GCPS_Operations Row 1 = 0 Difference Value update:  2021-06-14 07:34:51\n",
      "1.1.11 Row 1 Difference Value updated - Process Complete:  2021-06-14 07:34:53\n"
     ]
    }
   ],
   "source": [
    "#Set the first row for each table to zero to prevent the avg and sum calculations in step 6 from being skewed\n",
    "#GCPS_Operations reset\n",
    "\n",
    "now01 = datetime.datetime.now()\n",
    "print('1.1.11 Begin GCPS_Operations Row 1 = 0 Difference Value update: ',now01.strftime(\"%Y-%m-%d %H:%M:%S\"))\n",
    "\n",
    "#Read the sql file built as a CTE update command\n",
    "s01 = open(os.path.join(pathDS, diffGO))\n",
    "sqlFile01 = s01.read()\n",
    "s01.close()\n",
    "\n",
    "#strip and then split read on';' \n",
    "for sqlCmd in sqlFile01.split(';'):\n",
    "    try:\n",
    "        conn = pyodbc.connect('Server=DEVODSSQL;'\n",
    "                      'Trusted_Connection=yes;'\n",
    "                      'DRIVER={SQL Server};'\n",
    "                      'Database=Greg')\n",
    "        cursor = conn.cursor()\n",
    "        cursor.execute(sqlCmd)\n",
    "    except:\n",
    "        continue\n",
    "    finally:\n",
    "        conn.commit()\n",
    "        continue\n",
    "\n",
    "conn.commit()\n",
    "conn.close()\n",
    "\n",
    "now01 = datetime.datetime.now()\n",
    "print('1.1.11 Row 1 Difference Value updated - Process Complete: ', now01.strftime(\"%Y-%m-%d %H:%M:%S\"))\n"
   ]
  },
  {
   "cell_type": "code",
   "execution_count": 16,
   "metadata": {},
   "outputs": [
    {
     "name": "stdout",
     "output_type": "stream",
     "text": [
      "1.1.12 Difference Value updated - Process Complete:  2021-06-14 07:39:57\n"
     ]
    }
   ],
   "source": [
    "s07 = open(os.path.join(pathDS, 'update_gsdr_set_difference.sql'))\n",
    "sqlFile07 = s07.read()\n",
    "s07.close()\n",
    "\n",
    "for sqlCmd in sqlFile07.split(';'):\n",
    "    try:\n",
    "        conn = pyodbc.connect('Server=DEVODSSQL;'\n",
    "                      'Trusted_Connection=yes;'\n",
    "                      'DRIVER={SQL Server};'\n",
    "                      'Database=Greg')\n",
    "        cursor = conn.cursor()\n",
    "        cursor.execute(sqlCmd)\n",
    "    except:\n",
    "        continue\n",
    "    finally:\n",
    "        conn.commit()\n",
    "        continue\n",
    "\n",
    "conn.commit()\n",
    "conn.close()\n",
    "\n",
    "now01 = datetime.datetime.now()\n",
    "print('1.1.12 Difference Value updated - Process Complete: ', now01.strftime(\"%Y-%m-%d %H:%M:%S\"))"
   ]
  },
  {
   "cell_type": "code",
   "execution_count": 17,
   "metadata": {},
   "outputs": [
    {
     "name": "stdout",
     "output_type": "stream",
     "text": [
      "1.1.13 Begin GSDR Row 1 = 0 Difference Value update:  2021-06-14 07:39:57\n",
      "1.1.13 Row 1 Difference Value updated - Process Complete:  2021-06-14 07:40:21\n"
     ]
    }
   ],
   "source": [
    "#Set the first row for each table to zero to prevent the avg and sum calculations in step 6 from being skewed\n",
    "#GSDR reset\n",
    "\n",
    "now01 = datetime.datetime.now()\n",
    "print('1.1.13 Begin GSDR Row 1 = 0 Difference Value update: ',now01.strftime(\"%Y-%m-%d %H:%M:%S\"))\n",
    "\n",
    "#Read the sql file built as a CTE update command\n",
    "s01 = open(os.path.join(pathDS, diffGR))\n",
    "sqlFile01 = s01.read()\n",
    "s01.close()\n",
    "\n",
    "#strip and then split read on';' \n",
    "for sqlCmd in sqlFile01.split(';'):\n",
    "    try:\n",
    "        conn = pyodbc.connect('Server=DEVODSSQL;'\n",
    "                      'Trusted_Connection=yes;'\n",
    "                      'DRIVER={SQL Server};'\n",
    "                      'Database=Greg')\n",
    "        cursor = conn.cursor()\n",
    "        cursor.execute(sqlCmd)\n",
    "    except:\n",
    "        continue\n",
    "    finally:\n",
    "        conn.commit()\n",
    "        continue\n",
    "\n",
    "conn.commit()\n",
    "conn.close()\n",
    "\n",
    "now01 = datetime.datetime.now()\n",
    "print('1.1.13 Row 1 Difference Value updated - Process Complete: ', now01.strftime(\"%Y-%m-%d %H:%M:%S\"))\n"
   ]
  },
  {
   "cell_type": "code",
   "execution_count": 18,
   "metadata": {},
   "outputs": [
    {
     "name": "stdout",
     "output_type": "stream",
     "text": [
      "1.1.14 Difference Value updated - Process Complete:  2021-06-14 07:40:27\n"
     ]
    }
   ],
   "source": [
    "s08 = open(os.path.join(pathDS, 'update_gsdr_synergy_set_difference.sql'))\n",
    "sqlFile08 = s08.read()\n",
    "s08.close()\n",
    "\n",
    "for sqlCmd in sqlFile08.split(';'):\n",
    "    try:\n",
    "        conn = pyodbc.connect('Server=DEVODSSQL;'\n",
    "                      'Trusted_Connection=yes;'\n",
    "                      'DRIVER={SQL Server};'\n",
    "                      'Database=Greg')\n",
    "        cursor = conn.cursor()\n",
    "        cursor.execute(sqlCmd)\n",
    "    except:\n",
    "        continue\n",
    "    finally:\n",
    "        conn.commit()\n",
    "        continue\n",
    "\n",
    "conn.commit()\n",
    "conn.close()\n",
    "\n",
    "now01 = datetime.datetime.now()\n",
    "print('1.1.14 Difference Value updated - Process Complete: ', now01.strftime(\"%Y-%m-%d %H:%M:%S\"))"
   ]
  },
  {
   "cell_type": "code",
   "execution_count": 19,
   "metadata": {},
   "outputs": [
    {
     "name": "stdout",
     "output_type": "stream",
     "text": [
      "1.1.15 Begin GSDR_Synergy Row 1 = 0 Difference Value update:  2021-06-14 07:40:27\n",
      "1.1.15 Row 1 Difference Value updated - Process Complete:  2021-06-14 07:40:29\n"
     ]
    }
   ],
   "source": [
    "#Set the first row for each table to zero to prevent the avg and sum calculations in step 6 from being skewed\n",
    "#GSDR_Synergy reset\n",
    "\n",
    "now01 = datetime.datetime.now()\n",
    "print('1.1.15 Begin GSDR_Synergy Row 1 = 0 Difference Value update: ',now01.strftime(\"%Y-%m-%d %H:%M:%S\"))\n",
    "\n",
    "#Read the sql file built as a CTE update command\n",
    "s01 = open(os.path.join(pathDS, diffGS))\n",
    "sqlFile01 = s01.read()\n",
    "s01.close()\n",
    "\n",
    "#strip and then split read on';' \n",
    "for sqlCmd in sqlFile01.split(';'):\n",
    "    try:\n",
    "        conn = pyodbc.connect('Server=DEVODSSQL;'\n",
    "                      'Trusted_Connection=yes;'\n",
    "                      'DRIVER={SQL Server};'\n",
    "                      'Database=Greg')\n",
    "        cursor = conn.cursor()\n",
    "        cursor.execute(sqlCmd)\n",
    "    except:\n",
    "        continue\n",
    "    finally:\n",
    "        conn.commit()\n",
    "        continue\n",
    "\n",
    "conn.commit()\n",
    "conn.close()\n",
    "\n",
    "now01 = datetime.datetime.now()\n",
    "print('1.1.15 Row 1 Difference Value updated - Process Complete: ', now01.strftime(\"%Y-%m-%d %H:%M:%S\"))\n"
   ]
  },
  {
   "cell_type": "code",
   "execution_count": 20,
   "metadata": {},
   "outputs": [
    {
     "name": "stdout",
     "output_type": "stream",
     "text": [
      "1.1.16 Difference Value updated - Process Complete:  2021-06-14 07:40:34\n"
     ]
    }
   ],
   "source": [
    "s09 = open(os.path.join(pathDS, 'update_gsdr_synergy_temp_set_difference.sql'))\n",
    "sqlFile09 = s09.read()\n",
    "s09.close()\n",
    "\n",
    "for sqlCmd in sqlFile09.split(';'):\n",
    "    try:\n",
    "        conn = pyodbc.connect('Server=DEVODSSQL;'\n",
    "                      'Trusted_Connection=yes;'\n",
    "                      'DRIVER={SQL Server};'\n",
    "                      'Database=Greg')\n",
    "        cursor = conn.cursor()\n",
    "        cursor.execute(sqlCmd)\n",
    "    except:\n",
    "        continue\n",
    "    finally:\n",
    "        conn.commit()\n",
    "        continue\n",
    "\n",
    "conn.commit()\n",
    "conn.close()\n",
    "\n",
    "now01 = datetime.datetime.now()\n",
    "print('1.1.16 Difference Value updated - Process Complete: ', now01.strftime(\"%Y-%m-%d %H:%M:%S\"))"
   ]
  },
  {
   "cell_type": "code",
   "execution_count": 21,
   "metadata": {},
   "outputs": [
    {
     "name": "stdout",
     "output_type": "stream",
     "text": [
      "1.1.17 Begin GSDR_Synergy_Temp Row 1 = 0 Difference Value update:  2021-06-14 07:40:34\n",
      "1.1.17 Row 1 Difference Value updated - Process Complete:  2021-06-14 07:40:37\n"
     ]
    }
   ],
   "source": [
    "#Set the first row for each table to zero to prevent the avg and sum calculations in step 6 from being skewed\n",
    "#GSDR_Synergy_Temp reset\n",
    "\n",
    "now01 = datetime.datetime.now()\n",
    "print('1.1.17 Begin GSDR_Synergy_Temp Row 1 = 0 Difference Value update: ',now01.strftime(\"%Y-%m-%d %H:%M:%S\"))\n",
    "\n",
    "#Read the sql file built as a CTE update command\n",
    "s01 = open(os.path.join(pathDS, diffGP))\n",
    "sqlFile01 = s01.read()\n",
    "s01.close()\n",
    "\n",
    "#strip and then split read on';' \n",
    "for sqlCmd in sqlFile01.split(';'):\n",
    "    try:\n",
    "        conn = pyodbc.connect('Server=DEVODSSQL;'\n",
    "                      'Trusted_Connection=yes;'\n",
    "                      'DRIVER={SQL Server};'\n",
    "                      'Database=Greg')\n",
    "        cursor = conn.cursor()\n",
    "        cursor.execute(sqlCmd)\n",
    "    except:\n",
    "        continue\n",
    "    finally:\n",
    "        conn.commit()\n",
    "        continue\n",
    "\n",
    "conn.commit()\n",
    "conn.close()\n",
    "\n",
    "now01 = datetime.datetime.now()\n",
    "print('1.1.17 Row 1 Difference Value updated - Process Complete: ', now01.strftime(\"%Y-%m-%d %H:%M:%S\"))\n"
   ]
  },
  {
   "cell_type": "code",
   "execution_count": 22,
   "metadata": {},
   "outputs": [
    {
     "name": "stdout",
     "output_type": "stream",
     "text": [
      "1.1.18 Difference Value updated - Process Complete:  2021-06-14 07:45:23\n"
     ]
    }
   ],
   "source": [
    "s10 = open(os.path.join(pathDS, 'update_gsdr_temp_set_difference.sql'))\n",
    "sqlFile10 = s10.read()\n",
    "s10.close()\n",
    "\n",
    "for sqlCmd in sqlFile10.split(';'):\n",
    "    try:\n",
    "        conn = pyodbc.connect('Server=DEVODSSQL;'\n",
    "                      'Trusted_Connection=yes;'\n",
    "                      'DRIVER={SQL Server};'\n",
    "                      'Database=Greg')\n",
    "        cursor = conn.cursor()\n",
    "        cursor.execute(sqlCmd)\n",
    "    except:\n",
    "        continue\n",
    "    finally:\n",
    "        conn.commit()\n",
    "        continue\n",
    "\n",
    "conn.commit()\n",
    "conn.close()\n",
    "\n",
    "now01 = datetime.datetime.now()\n",
    "print('1.1.18 Difference Value updated - Process Complete: ', now01.strftime(\"%Y-%m-%d %H:%M:%S\"))"
   ]
  },
  {
   "cell_type": "code",
   "execution_count": 23,
   "metadata": {},
   "outputs": [
    {
     "name": "stdout",
     "output_type": "stream",
     "text": [
      "1.1.19 Begin GSDR_Temp Row 1 = 0 Difference Value update:  2021-06-14 07:45:23\n",
      "1.1.19 Row 1 Difference Value updated - Process Complete:  2021-06-14 07:45:46\n"
     ]
    }
   ],
   "source": [
    "#Set the first row for each table to zero to prevent the avg and sum calculations in step 6 from being skewed\n",
    "#GSDR_Temp reset\n",
    "\n",
    "now01 = datetime.datetime.now()\n",
    "print('1.1.19 Begin GSDR_Temp Row 1 = 0 Difference Value update: ',now01.strftime(\"%Y-%m-%d %H:%M:%S\"))\n",
    "\n",
    "#Read the sql file built as a CTE update command\n",
    "s01 = open(os.path.join(pathDS, diffGT))\n",
    "sqlFile01 = s01.read()\n",
    "s01.close()\n",
    "\n",
    "#strip and then split read on';' \n",
    "for sqlCmd in sqlFile01.split(';'):\n",
    "    try:\n",
    "        conn = pyodbc.connect('Server=DEVODSSQL;'\n",
    "                      'Trusted_Connection=yes;'\n",
    "                      'DRIVER={SQL Server};'\n",
    "                      'Database=Greg')\n",
    "        cursor = conn.cursor()\n",
    "        cursor.execute(sqlCmd)\n",
    "    except:\n",
    "        continue\n",
    "    finally:\n",
    "        conn.commit()\n",
    "        continue\n",
    "\n",
    "conn.commit()\n",
    "conn.close()\n",
    "\n",
    "now01 = datetime.datetime.now()\n",
    "print('1.1.19 Row 1 Difference Value updated - Process Complete: ', now01.strftime(\"%Y-%m-%d %H:%M:%S\"))\n"
   ]
  },
  {
   "cell_type": "code",
   "execution_count": 24,
   "metadata": {},
   "outputs": [
    {
     "name": "stdout",
     "output_type": "stream",
     "text": [
      "1.1.20 Difference Value updated - Process Complete:  2021-06-14 07:45:54\n"
     ]
    }
   ],
   "source": [
    "s11 = open(os.path.join(pathDS, 'update_ods_webapps_set_difference.sql'))\n",
    "sqlFile11 = s11.read()\n",
    "s11.close()\n",
    "\n",
    "for sqlCmd in sqlFile11.split(';'):\n",
    "    try:\n",
    "        conn = pyodbc.connect('Server=DEVODSSQL;'\n",
    "                      'Trusted_Connection=yes;'\n",
    "                      'DRIVER={SQL Server};'\n",
    "                      'Database=Greg')\n",
    "        cursor = conn.cursor()\n",
    "        cursor.execute(sqlCmd)\n",
    "    except:\n",
    "        continue\n",
    "    finally:\n",
    "        conn.commit()\n",
    "        continue\n",
    "\n",
    "conn.commit()\n",
    "conn.close()\n",
    "\n",
    "now01 = datetime.datetime.now()\n",
    "print('1.1.20 Difference Value updated - Process Complete: ', now01.strftime(\"%Y-%m-%d %H:%M:%S\"))"
   ]
  },
  {
   "cell_type": "code",
   "execution_count": 25,
   "metadata": {},
   "outputs": [
    {
     "name": "stdout",
     "output_type": "stream",
     "text": [
      "1.1.21 Begin ODS_WebApps Row 1 = 0 Difference Value update:  2021-06-14 07:45:54\n",
      "1.1.21 Row 1 Difference Value updated - Process Complete:  2021-06-14 07:45:56\n"
     ]
    }
   ],
   "source": [
    "#Set the first row for each table to zero to prevent the avg and sum calculations in step 6 from being skewed\n",
    "#ODS_WebApps reset\n",
    "\n",
    "now01 = datetime.datetime.now()\n",
    "print('1.1.21 Begin ODS_WebApps Row 1 = 0 Difference Value update: ',now01.strftime(\"%Y-%m-%d %H:%M:%S\"))\n",
    "\n",
    "#Read the sql file built as a CTE update command\n",
    "s01 = open(os.path.join(pathDS, diffOW))\n",
    "sqlFile01 = s01.read()\n",
    "s01.close()\n",
    "\n",
    "#strip and then split read on';' \n",
    "for sqlCmd in sqlFile01.split(';'):\n",
    "    try:\n",
    "        conn = pyodbc.connect('Server=DEVODSSQL;'\n",
    "                      'Trusted_Connection=yes;'\n",
    "                      'DRIVER={SQL Server};'\n",
    "                      'Database=Greg')\n",
    "        cursor = conn.cursor()\n",
    "        cursor.execute(sqlCmd)\n",
    "    except:\n",
    "        continue\n",
    "    finally:\n",
    "        conn.commit()\n",
    "        continue\n",
    "\n",
    "conn.commit()\n",
    "conn.close()\n",
    "\n",
    "now01 = datetime.datetime.now()\n",
    "print('1.1.21 Row 1 Difference Value updated - Process Complete: ', now01.strftime(\"%Y-%m-%d %H:%M:%S\"))\n"
   ]
  },
  {
   "cell_type": "code",
   "execution_count": 26,
   "metadata": {},
   "outputs": [
    {
     "name": "stdout",
     "output_type": "stream",
     "text": [
      "1.1.22 Difference Value updated - Process Complete:  2021-06-14 07:46:07\n"
     ]
    }
   ],
   "source": [
    "s12 = open(os.path.join(pathDS, 'update_pprod_set_difference.sql'))\n",
    "sqlFile12 = s12.read()\n",
    "s12.close()\n",
    "\n",
    "for sqlCmd in sqlFile12.split(';'):\n",
    "    try:\n",
    "        conn = pyodbc.connect('Server=DEVODSSQL;'\n",
    "                      'Trusted_Connection=yes;'\n",
    "                      'DRIVER={SQL Server};'\n",
    "                      'Database=Greg')\n",
    "        cursor = conn.cursor()\n",
    "        cursor.execute(sqlCmd)\n",
    "    except:\n",
    "        continue\n",
    "    finally:\n",
    "        conn.commit()\n",
    "        continue\n",
    "\n",
    "conn.commit()\n",
    "conn.close()\n",
    "\n",
    "now01 = datetime.datetime.now()\n",
    "print('1.1.22 Difference Value updated - Process Complete: ', now01.strftime(\"%Y-%m-%d %H:%M:%S\"))"
   ]
  },
  {
   "cell_type": "code",
   "execution_count": 27,
   "metadata": {},
   "outputs": [
    {
     "name": "stdout",
     "output_type": "stream",
     "text": [
      "1.1.23 Begin PPROD Row 1 = 0 Difference Value update:  2021-06-14 07:46:07\n",
      "1.1.23 Row 1 Difference Value updated - Process Complete:  2021-06-14 07:46:09\n"
     ]
    }
   ],
   "source": [
    "#Set the first row for each table to zero to prevent the avg and sum calculations in step 6 from being skewed\n",
    "#PPROD reset\n",
    "\n",
    "now01 = datetime.datetime.now()\n",
    "print('1.1.23 Begin PPROD Row 1 = 0 Difference Value update: ',now01.strftime(\"%Y-%m-%d %H:%M:%S\"))\n",
    "\n",
    "#Read the sql file built as a CTE update command\n",
    "s01 = open(os.path.join(pathDS, diffPP))\n",
    "sqlFile01 = s01.read()\n",
    "s01.close()\n",
    "\n",
    "#strip and then split read on';' \n",
    "for sqlCmd in sqlFile01.split(';'):\n",
    "    try:\n",
    "        conn = pyodbc.connect('Server=DEVODSSQL;'\n",
    "                      'Trusted_Connection=yes;'\n",
    "                      'DRIVER={SQL Server};'\n",
    "                      'Database=Greg')\n",
    "        cursor = conn.cursor()\n",
    "        cursor.execute(sqlCmd)\n",
    "    except:\n",
    "        continue\n",
    "    finally:\n",
    "        conn.commit()\n",
    "        continue\n",
    "\n",
    "conn.commit()\n",
    "conn.close()\n",
    "\n",
    "now01 = datetime.datetime.now()\n",
    "print('1.1.23 Row 1 Difference Value updated - Process Complete: ', now01.strftime(\"%Y-%m-%d %H:%M:%S\"))\n"
   ]
  },
  {
   "cell_type": "code",
   "execution_count": 28,
   "metadata": {},
   "outputs": [
    {
     "name": "stdout",
     "output_type": "stream",
     "text": [
      "1.1.24 Difference Value updated - Process Complete:  2021-06-14 07:47:14\n"
     ]
    }
   ],
   "source": [
    "s13 = open(os.path.join(pathDS, 'update_predictive_analytics_set_difference.sql'))\n",
    "sqlFile13 = s13.read()\n",
    "s13.close()\n",
    "\n",
    "for sqlCmd in sqlFile13.split(';'):\n",
    "    try:\n",
    "        conn = pyodbc.connect('Server=DEVODSSQL;'\n",
    "                      'Trusted_Connection=yes;'\n",
    "                      'DRIVER={SQL Server};'\n",
    "                      'Database=Greg')\n",
    "        cursor = conn.cursor()\n",
    "        cursor.execute(sqlCmd)\n",
    "    except:\n",
    "        continue\n",
    "    finally:\n",
    "        conn.commit()\n",
    "        continue\n",
    "\n",
    "conn.commit()\n",
    "conn.close()\n",
    "\n",
    "now01 = datetime.datetime.now()\n",
    "print('1.1.24 Difference Value updated - Process Complete: ', now01.strftime(\"%Y-%m-%d %H:%M:%S\"))\n"
   ]
  },
  {
   "cell_type": "code",
   "execution_count": 29,
   "metadata": {},
   "outputs": [
    {
     "name": "stdout",
     "output_type": "stream",
     "text": [
      "1.1.25 Begin Predictive_Analytics Row 1 = 0 Difference Value update:  2021-06-14 07:47:14\n",
      "1.1.25 Row 1 Difference Value updated - Process Complete:  2021-06-14 07:47:20\n"
     ]
    }
   ],
   "source": [
    "#Set the first row for each table to zero to prevent the avg and sum calculations in step 6 from being skewed\n",
    "#Predictive_Analytics reset\n",
    "\n",
    "now01 = datetime.datetime.now()\n",
    "print('1.1.25 Begin Predictive_Analytics Row 1 = 0 Difference Value update: ',now01.strftime(\"%Y-%m-%d %H:%M:%S\"))\n",
    "\n",
    "#Read the sql file built as a CTE update command\n",
    "s01 = open(os.path.join(pathDS, diffPV))\n",
    "sqlFile01 = s01.read()\n",
    "s01.close()\n",
    "\n",
    "#strip and then split read on';' \n",
    "for sqlCmd in sqlFile01.split(';'):\n",
    "    try:\n",
    "        conn = pyodbc.connect('Server=DEVODSSQL;'\n",
    "                      'Trusted_Connection=yes;'\n",
    "                      'DRIVER={SQL Server};'\n",
    "                      'Database=Greg')\n",
    "        cursor = conn.cursor()\n",
    "        cursor.execute(sqlCmd)\n",
    "    except:\n",
    "        continue\n",
    "    finally:\n",
    "        conn.commit()\n",
    "        continue\n",
    "\n",
    "conn.commit()\n",
    "conn.close()\n",
    "\n",
    "now01 = datetime.datetime.now()\n",
    "print('1.1.25 Row 1 Difference Value updated - Process Complete: ', now01.strftime(\"%Y-%m-%d %H:%M:%S\"))\n"
   ]
  },
  {
   "cell_type": "code",
   "execution_count": 30,
   "metadata": {},
   "outputs": [
    {
     "name": "stdout",
     "output_type": "stream",
     "text": [
      "Process Complete: All diff values updated:  2021-06-14 07:47:20\n",
      "Next, update Master and validate:  2021-06-14 07:47:20\n"
     ]
    }
   ],
   "source": [
    "now01 = datetime.datetime.now()\n",
    "print('Process Complete: All diff values updated: ', now01.strftime(\"%Y-%m-%d %H:%M:%S\"))\n",
    "print('Next, update Master and validate: ', now01.strftime(\"%Y-%m-%d %H:%M:%S\"))"
   ]
  }
 ],
 "metadata": {
  "kernelspec": {
   "display_name": "Python 3",
   "language": "python",
   "name": "python3"
  },
  "language_info": {
   "codemirror_mode": {
    "name": "ipython",
    "version": 3
   },
   "file_extension": ".py",
   "mimetype": "text/x-python",
   "name": "python",
   "nbconvert_exporter": "python",
   "pygments_lexer": "ipython3",
   "version": "3.8.3"
  }
 },
 "nbformat": 4,
 "nbformat_minor": 4
}
