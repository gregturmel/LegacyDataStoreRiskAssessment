{
 "cells": [
  {
   "cell_type": "code",
   "execution_count": 1,
   "metadata": {},
   "outputs": [],
   "source": [
    "#ProgramName: Weekly-UpdateMasterTable-RoutineMaintenanceOnLastUpdated\n",
    "#Purpose: Weekly Update Master Table - Routine Maintenance On LastUpdated Field (change reflected in row count tables)\n",
    "#Author:  Greg Turmel, Director, Data Governance \n",
    "#Date:    2020.08.30 - 2021.06.30\n",
    "#Errata:  0.1 Improvements can be made to script using for/looping through the metadata captured\n",
    "\n",
    "import os, sys, argparse, csv, pyodbc, sql, time, datetime\n",
    "import sqlalchemy as db\n",
    "\n",
    "from dotenv import load_dotenv # add this line\n",
    "import pandas as pd\n",
    "import numpy as np\n",
    "\n",
    "load_dotenv() # add this line\n",
    "user = os.getenv('MySQLeUser')\n",
    "password = os.getenv('MySQLeUserPass')\n",
    "host = os.getenv('MySQLeHOST')\n",
    "db = os.getenv('MySQLeDB')"
   ]
  },
  {
   "cell_type": "code",
   "execution_count": 2,
   "metadata": {},
   "outputs": [
    {
     "name": "stdout",
     "output_type": "stream",
     "text": [
      "Master table \"Last Updated Field\" now updated - Step Complete:  2021-05-05 07:32:28\n"
     ]
    }
   ],
   "source": [
    "s01 = open(r'C:\\Users\\e201873842\\Documents\\Jupyter\\Weekly\\Master\\SQLQuery-UpdateMasterLastUpdatedFieldV1.sql')\n",
    "sqlFile01 = s01.read()\n",
    "s01.close()\n",
    "\n",
    "for sqlCmd in sqlFile01.split(';'):\n",
    "    try:\n",
    "        conn = pyodbc.connect('Server=DEVODSSQL;'\n",
    "                      'Trusted_Connection=yes;'\n",
    "                      'DRIVER={SQL Server};'\n",
    "                      'Database=Greg')\n",
    "        cursor = conn.cursor()\n",
    "        cursor.execute(sqlCmd)\n",
    "    except:\n",
    "        continue\n",
    "    finally:\n",
    "        conn.commit()\n",
    "        continue\n",
    "\n",
    "conn.commit()\n",
    "conn.close()\n",
    "\n",
    "now01 = datetime.datetime.now()\n",
    "print('Master table \"Last Updated Field\" now updated - Step Complete: ', now01.strftime(\"%Y-%m-%d %H:%M:%S\"))"
   ]
  },
  {
   "cell_type": "markdown",
   "metadata": {},
   "source": [
    "#Code seperation"
   ]
  },
  {
   "cell_type": "code",
   "execution_count": 3,
   "metadata": {},
   "outputs": [
    {
     "name": "stdout",
     "output_type": "stream",
     "text": [
      "Routine Maintenance Job - Last Updated Field updated - Process Complete:  2021-05-05 07:32:28\n"
     ]
    }
   ],
   "source": [
    "now01 = datetime.datetime.now()\n",
    "print('Routine Maintenance Job - Last Updated Field updated - Process Complete: ', now01.strftime(\"%Y-%m-%d %H:%M:%S\"))"
   ]
  }
 ],
 "metadata": {
  "kernelspec": {
   "display_name": "Python 3",
   "language": "python",
   "name": "python3"
  },
  "language_info": {
   "codemirror_mode": {
    "name": "ipython",
    "version": 3
   },
   "file_extension": ".py",
   "mimetype": "text/x-python",
   "name": "python",
   "nbconvert_exporter": "python",
   "pygments_lexer": "ipython3",
   "version": "3.8.3"
  }
 },
 "nbformat": 4,
 "nbformat_minor": 4
}
