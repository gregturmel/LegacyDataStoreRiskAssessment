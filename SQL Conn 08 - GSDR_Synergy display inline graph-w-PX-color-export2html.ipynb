{
 "cells": [
  {
   "cell_type": "code",
   "execution_count": 1,
   "metadata": {},
   "outputs": [],
   "source": [
    "#Program Name: SQL Conn 08 - GSDR_Synergy display inline graph-w-PX-color-export2html\n",
    "#Purpose:  Chart scatter, line, box, aggr, violin, or bar with table data\n",
    "#Author:  Greg Turmel, Director, Data Governance \n",
    "#Date:    2020.08.30 - 2021.06.30\n",
    "#Errata:  0.1 Improvements can be made to script using for/looping through the databases\n",
    "\n",
    "import os, time, datetime\n",
    "import sqlalchemy as db\n",
    "import pandas as pd\n",
    "import numpy as np\n",
    "from matplotlib import pyplot as plt\n",
    "import pyodbc \n",
    "import matplotlib\n",
    "import plotly.express as px\n",
    "\n",
    "#matplotlib.rcParams['figure.figsize'] = (30,5)\n",
    "%config InlineBackend.figure_format = 'retina'\n",
    "from dotenv import load_dotenv # add this line\n",
    "load_dotenv() # add this line\n",
    "user = os.getenv('MySQLeUser')\n",
    "password = os.getenv('MySQLeUserPass')\n",
    "host = os.getenv('MySQLeHOST')\n",
    "db = os.getenv('MySQLeDB')\n",
    "%matplotlib inline\n",
    "%load_ext sql\n",
    "\n",
    "dt1 = time.strftime(\"%d/%m/%Y\")\n",
    "dt2 = time.strftime(\"%d.%m.%Y\")\n",
    "dt3 = pd.to_datetime('today')\n",
    "dt4 = pd.Timestamp('today').strftime(\"%Y%m%d\")"
   ]
  },
  {
   "cell_type": "code",
   "execution_count": 2,
   "metadata": {},
   "outputs": [],
   "source": [
    "conn = pyodbc.connect('Driver={SQL Server};'\n",
    "                      'Server=DEVODSSQL;'\n",
    "                      'Database=Greg;'\n",
    "                      'Trusted_Connection=yes;')\n",
    "\n",
    "sql_query01 = pd.read_sql_query(''' \n",
    "select DISTINCT TableName\n",
    "FROM [dbo].[tableRowCountGSDR_Synergy]\n",
    "ORDER BY TableName;     \n",
    "                              '''\n",
    "                              ,conn) # Load the list of distinct tables to graph\n",
    "\n",
    "sql_query02 = pd.read_sql_query(''' \n",
    "select *\n",
    "FROM [dbo].[tableRowCountGSDR_Synergy]\n",
    "ORDER BY TableName;     \n",
    "                              '''\n",
    "                              ,conn) # Load the list of distinct tables to graph\n"
   ]
  },
  {
   "cell_type": "code",
   "execution_count": 3,
   "metadata": {},
   "outputs": [],
   "source": [
    "df = pd.DataFrame(sql_query02)\n",
    "#df = df.astype({'TodaysDate':np.int64,'RecordCount':np.int64})\n",
    "df['TodaysDate'] = pd.to_datetime(df['TodaysDate'].astype(str), format='%Y%m%d')\n",
    "df = df.sort_values(by=['TableName','SchemaName','DatabaseName','TodaysDate'], ascending=[True,True,True,True])\n",
    "df = df.reset_index(drop=True)"
   ]
  },
  {
   "cell_type": "code",
   "execution_count": 4,
   "metadata": {},
   "outputs": [],
   "source": [
    "dfgsdrsyn0001 = df[(df['DatabaseName'] == 'GSDR_Synergy') & (df['SchemaName'] == 'dbo') & (df['TableName'] == 'ELLPGM_SASI')]\n",
    "dfgsdrsyn0002 = df[(df['DatabaseName'] == 'GSDR_Synergy') & (df['SchemaName'] == 'dbo') & (df['TableName'] == 'ELLPGM_SYN')]\n",
    "dfgsdrsyn0003 = df[(df['DatabaseName'] == 'GSDR_Synergy') & (df['SchemaName'] == 'dbo') & (df['TableName'] == 'HOME_LANG_NEW')]\n",
    "dfgsdrsyn0004 = df[(df['DatabaseName'] == 'GSDR_Synergy') & (df['SchemaName'] == 'dbo') & (df['TableName'] == 'HOME_LANG_OLD')]\n",
    "dfgsdrsyn0005 = df[(df['DatabaseName'] == 'GSDR_Synergy') & (df['SchemaName'] == 'dbo') & (df['TableName'] == 'sysssislog')]\n",
    "dfgsdrsyn0006 = df[(df['DatabaseName'] == 'GSDR_Synergy') & (df['SchemaName'] == 'GEMS') & (df['TableName'] == 'SASI_A504_SYNERGY')]\n",
    "dfgsdrsyn0007 = df[(df['DatabaseName'] == 'GSDR_Synergy') & (df['SchemaName'] == 'GEMS') & (df['TableName'] == 'SASI_AATC_SYNERGY')]\n",
    "dfgsdrsyn0008 = df[(df['DatabaseName'] == 'GSDR_Synergy') & (df['SchemaName'] == 'GEMS') & (df['TableName'] == 'SASI_AATD_SYNERGY')]\n",
    "dfgsdrsyn0009 = df[(df['DatabaseName'] == 'GSDR_Synergy') & (df['SchemaName'] == 'GEMS') & (df['TableName'] == 'SASI_AATO_ROT_SYNERGY')]\n",
    "dfgsdrsyn0010 = df[(df['DatabaseName'] == 'GSDR_Synergy') & (df['SchemaName'] == 'GEMS') & (df['TableName'] == 'SASI_AATP_SYNERGY')]\n",
    "dfgsdrsyn0011 = df[(df['DatabaseName'] == 'GSDR_Synergy') & (df['SchemaName'] == 'GEMS') & (df['TableName'] == 'SASI_AATT_SYNERGY')]\n",
    "dfgsdrsyn0012 = df[(df['DatabaseName'] == 'GSDR_Synergy') & (df['SchemaName'] == 'GEMS') & (df['TableName'] == 'SASI_ACHS_SYNERGY')]\n",
    "dfgsdrsyn0013 = df[(df['DatabaseName'] == 'GSDR_Synergy') & (df['SchemaName'] == 'GEMS') & (df['TableName'] == 'SASI_ACHS_SYNERGY2')]\n",
    "dfgsdrsyn0014 = df[(df['DatabaseName'] == 'GSDR_Synergy') & (df['SchemaName'] == 'GEMS') & (df['TableName'] == 'SASI_ACLH_SYNERGY')]\n",
    "dfgsdrsyn0015 = df[(df['DatabaseName'] == 'GSDR_Synergy') & (df['SchemaName'] == 'GEMS') & (df['TableName'] == 'SASI_ACLS_NEXT_SYNERGY')]\n",
    "dfgsdrsyn0016 = df[(df['DatabaseName'] == 'GSDR_Synergy') & (df['SchemaName'] == 'GEMS') & (df['TableName'] == 'SASI_ACLS_SYNERGY')]\n",
    "dfgsdrsyn0017 = df[(df['DatabaseName'] == 'GSDR_Synergy') & (df['SchemaName'] == 'GEMS') & (df['TableName'] == 'SASI_ACLS_SYNERGY_BCK')]\n",
    "dfgsdrsyn0018 = df[(df['DatabaseName'] == 'GSDR_Synergy') & (df['SchemaName'] == 'GEMS') & (df['TableName'] == 'SASI_ACNF_SYNERGY')]\n",
    "dfgsdrsyn0019 = df[(df['DatabaseName'] == 'GSDR_Synergy') & (df['SchemaName'] == 'GEMS') & (df['TableName'] == 'SASI_ACNR_SYNERGY')]\n",
    "dfgsdrsyn0020 = df[(df['DatabaseName'] == 'GSDR_Synergy') & (df['SchemaName'] == 'GEMS') & (df['TableName'] == 'SASI_ACRS_SYNERGY')]\n",
    "dfgsdrsyn0021 = df[(df['DatabaseName'] == 'GSDR_Synergy') & (df['SchemaName'] == 'GEMS') & (df['TableName'] == 'SASI_ADDITIONAL_TEACHER_SYNERGY')]\n",
    "dfgsdrsyn0022 = df[(df['DatabaseName'] == 'GSDR_Synergy') & (df['SchemaName'] == 'GEMS') & (df['TableName'] == 'SASI_ADIS')]\n",
    "dfgsdrsyn0023 = df[(df['DatabaseName'] == 'GSDR_Synergy') & (df['SchemaName'] == 'GEMS') & (df['TableName'] == 'SASI_ADIS_MISSING')]\n",
    "dfgsdrsyn0024 = df[(df['DatabaseName'] == 'GSDR_Synergy') & (df['SchemaName'] == 'GEMS') & (df['TableName'] == 'SASI_ADIS_SYNERGY')]\n",
    "dfgsdrsyn0025 = df[(df['DatabaseName'] == 'GSDR_Synergy') & (df['SchemaName'] == 'GEMS') & (df['TableName'] == 'SASI_ADIS_SYNERGY_KS')]\n",
    "dfgsdrsyn0026 = df[(df['DatabaseName'] == 'GSDR_Synergy') & (df['SchemaName'] == 'GEMS') & (df['TableName'] == 'SASI_ADPO')]\n",
    "dfgsdrsyn0027 = df[(df['DatabaseName'] == 'GSDR_Synergy') & (df['SchemaName'] == 'GEMS') & (df['TableName'] == 'SASI_ADPO_MISSING')]\n",
    "dfgsdrsyn0028 = df[(df['DatabaseName'] == 'GSDR_Synergy') & (df['SchemaName'] == 'GEMS') & (df['TableName'] == 'SASI_ADPO_SYNERGY')]\n",
    "dfgsdrsyn0029 = df[(df['DatabaseName'] == 'GSDR_Synergy') & (df['SchemaName'] == 'GEMS') & (df['TableName'] == 'SASI_ADPO_SYNERGY_KS')]\n",
    "dfgsdrsyn0030 = df[(df['DatabaseName'] == 'GSDR_Synergy') & (df['SchemaName'] == 'GEMS') & (df['TableName'] == 'SASI_ADST')]\n",
    "dfgsdrsyn0031 = df[(df['DatabaseName'] == 'GSDR_Synergy') & (df['SchemaName'] == 'GEMS') & (df['TableName'] == 'SASI_ADST_NEXT_SYNERGY')]\n",
    "dfgsdrsyn0032 = df[(df['DatabaseName'] == 'GSDR_Synergy') & (df['SchemaName'] == 'GEMS') & (df['TableName'] == 'SASI_ADST_SYNERGY')]\n",
    "dfgsdrsyn0033 = df[(df['DatabaseName'] == 'GSDR_Synergy') & (df['SchemaName'] == 'GEMS') & (df['TableName'] == 'SASI_AELT_SYNERGY')]\n",
    "dfgsdrsyn0034 = df[(df['DatabaseName'] == 'GSDR_Synergy') & (df['SchemaName'] == 'GEMS') & (df['TableName'] == 'SASI_AEMG_SYNERGY')]\n",
    "dfgsdrsyn0035 = df[(df['DatabaseName'] == 'GSDR_Synergy') & (df['SchemaName'] == 'GEMS') & (df['TableName'] == 'SASI_AENR')]\n",
    "dfgsdrsyn0036 = df[(df['DatabaseName'] == 'GSDR_Synergy') & (df['SchemaName'] == 'GEMS') & (df['TableName'] == 'SASI_AENR_C')]\n",
    "dfgsdrsyn0037 = df[(df['DatabaseName'] == 'GSDR_Synergy') & (df['SchemaName'] == 'GEMS') & (df['TableName'] == 'SASI_AENR_NON_ADA_ADM_SYNERGY')]\n",
    "dfgsdrsyn0038 = df[(df['DatabaseName'] == 'GSDR_Synergy') & (df['SchemaName'] == 'GEMS') & (df['TableName'] == 'SASI_AENR_SYNERGY')]\n",
    "dfgsdrsyn0039 = df[(df['DatabaseName'] == 'GSDR_Synergy') & (df['SchemaName'] == 'GEMS') & (df['TableName'] == 'SASI_AFEE_SYNERGY')]\n",
    "dfgsdrsyn0040 = df[(df['DatabaseName'] == 'GSDR_Synergy') & (df['SchemaName'] == 'GEMS') & (df['TableName'] == 'SASI_AFID_SYNERGY')]\n",
    "dfgsdrsyn0041 = df[(df['DatabaseName'] == 'GSDR_Synergy') & (df['SchemaName'] == 'GEMS') & (df['TableName'] == 'SASI_AHLT_SYNERGY')]\n",
    "dfgsdrsyn0042 = df[(df['DatabaseName'] == 'GSDR_Synergy') & (df['SchemaName'] == 'GEMS') & (df['TableName'] == 'SASI_ALKR_SYNERGY')]\n",
    "dfgsdrsyn0043 = df[(df['DatabaseName'] == 'GSDR_Synergy') & (df['SchemaName'] == 'GEMS') & (df['TableName'] == 'SASI_ALRT_SYNERGY')]\n",
    "dfgsdrsyn0044 = df[(df['DatabaseName'] == 'GSDR_Synergy') & (df['SchemaName'] == 'GEMS') & (df['TableName'] == 'SASI_AMST_ADDL_STF_STU')]\n",
    "dfgsdrsyn0045 = df[(df['DatabaseName'] == 'GSDR_Synergy') & (df['SchemaName'] == 'GEMS') & (df['TableName'] == 'SASI_AMST_NEXT_SYNERGY')]\n",
    "dfgsdrsyn0046 = df[(df['DatabaseName'] == 'GSDR_Synergy') & (df['SchemaName'] == 'GEMS') & (df['TableName'] == 'SASI_AMST_SECT_STF')]\n",
    "dfgsdrsyn0047 = df[(df['DatabaseName'] == 'GSDR_Synergy') & (df['SchemaName'] == 'GEMS') & (df['TableName'] == 'SASI_AMST_SECT_STF_HIS')]\n",
    "dfgsdrsyn0048 = df[(df['DatabaseName'] == 'GSDR_Synergy') & (df['SchemaName'] == 'GEMS') & (df['TableName'] == 'SASI_AMST_SYNERGY')]\n",
    "dfgsdrsyn0049 = df[(df['DatabaseName'] == 'GSDR_Synergy') & (df['SchemaName'] == 'GEMS') & (df['TableName'] == 'SASI_AONL_SYNERGY')]\n",
    "dfgsdrsyn0050 = df[(df['DatabaseName'] == 'GSDR_Synergy') & (df['SchemaName'] == 'GEMS') & (df['TableName'] == 'SASI_APGD_Synergy')]\n",
    "dfgsdrsyn0051 = df[(df['DatabaseName'] == 'GSDR_Synergy') & (df['SchemaName'] == 'GEMS') & (df['TableName'] == 'SASI_APGL_Synergy')]\n",
    "dfgsdrsyn0052 = df[(df['DatabaseName'] == 'GSDR_Synergy') & (df['SchemaName'] == 'GEMS') & (df['TableName'] == 'SASI_APGM_SYNERGY')]\n",
    "dfgsdrsyn0053 = df[(df['DatabaseName'] == 'GSDR_Synergy') & (df['SchemaName'] == 'GEMS') & (df['TableName'] == 'SASI_APRN_SYNERGY')]\n",
    "dfgsdrsyn0054 = df[(df['DatabaseName'] == 'GSDR_Synergy') & (df['SchemaName'] == 'GEMS') & (df['TableName'] == 'SASI_ASCH_SYNERGY')]\n",
    "dfgsdrsyn0055 = df[(df['DatabaseName'] == 'GSDR_Synergy') & (df['SchemaName'] == 'GEMS') & (df['TableName'] == 'SASI_ASGR_SYNERGY')]\n",
    "dfgsdrsyn0056 = df[(df['DatabaseName'] == 'GSDR_Synergy') & (df['SchemaName'] == 'GEMS') & (df['TableName'] == 'SASI_ASTI_SYNERGY')]\n",
    "dfgsdrsyn0057 = df[(df['DatabaseName'] == 'GSDR_Synergy') & (df['SchemaName'] == 'GEMS') & (df['TableName'] == 'SASI_ASTU_DIPLOMA_SEALS_SYNERGY')]\n",
    "dfgsdrsyn0058 = df[(df['DatabaseName'] == 'GSDR_Synergy') & (df['SchemaName'] == 'GEMS') & (df['TableName'] == 'SASI_ASTU_GPA')]\n",
    "dfgsdrsyn0059 = df[(df['DatabaseName'] == 'GSDR_Synergy') & (df['SchemaName'] == 'GEMS') & (df['TableName'] == 'SASI_ASTU_NEXT_SYNERGY')]\n",
    "dfgsdrsyn0060 = df[(df['DatabaseName'] == 'GSDR_Synergy') & (df['SchemaName'] == 'GEMS') & (df['TableName'] == 'SASI_ASTU_NON_ADA_ADM_SYNERGY')]\n",
    "dfgsdrsyn0061 = df[(df['DatabaseName'] == 'GSDR_Synergy') & (df['SchemaName'] == 'GEMS') & (df['TableName'] == 'SASI_ASTU_SYNERGY')]\n",
    "dfgsdrsyn0062 = df[(df['DatabaseName'] == 'GSDR_Synergy') & (df['SchemaName'] == 'GEMS') & (df['TableName'] == 'SASI_ASTU_SYNERGY_DEL')]\n",
    "dfgsdrsyn0063 = df[(df['DatabaseName'] == 'GSDR_Synergy') & (df['SchemaName'] == 'GEMS') & (df['TableName'] == 'SASI_ASTU_SYNERGY_KERI')]\n",
    "dfgsdrsyn0064 = df[(df['DatabaseName'] == 'GSDR_Synergy') & (df['SchemaName'] == 'GEMS') & (df['TableName'] == 'SASI_ASTU_SYNERGY2')]\n",
    "dfgsdrsyn0065 = df[(df['DatabaseName'] == 'GSDR_Synergy') & (df['SchemaName'] == 'GEMS') & (df['TableName'] == 'SASI_ATBL_SYNERGY')]\n",
    "dfgsdrsyn0066 = df[(df['DatabaseName'] == 'GSDR_Synergy') & (df['SchemaName'] == 'GEMS') & (df['TableName'] == 'SASI_ATCH_NEXT_SYNERGY')]\n",
    "dfgsdrsyn0067 = df[(df['DatabaseName'] == 'GSDR_Synergy') & (df['SchemaName'] == 'GEMS') & (df['TableName'] == 'SASI_ATCH_SYNERGY')]\n",
    "dfgsdrsyn0068 = df[(df['DatabaseName'] == 'GSDR_Synergy') & (df['SchemaName'] == 'GEMS') & (df['TableName'] == 'SASI_ATRM_NEXT_SYNERGY')]\n",
    "dfgsdrsyn0069 = df[(df['DatabaseName'] == 'GSDR_Synergy') & (df['SchemaName'] == 'GEMS') & (df['TableName'] == 'SASI_ATRM_SYNERGY')]\n",
    "dfgsdrsyn0070 = df[(df['DatabaseName'] == 'GSDR_Synergy') & (df['SchemaName'] == 'GEMS') & (df['TableName'] == 'SASI_ATTD_SYNERGY')]\n",
    "dfgsdrsyn0071 = df[(df['DatabaseName'] == 'GSDR_Synergy') & (df['SchemaName'] == 'GEMS') & (df['TableName'] == 'SASI_PARAPRO_SYNERGY')]\n",
    "dfgsdrsyn0072 = df[(df['DatabaseName'] == 'GSDR_Synergy') & (df['SchemaName'] == 'GEMS') & (df['TableName'] == 'SASI_PHLOTE')]\n",
    "dfgsdrsyn0073 = df[(df['DatabaseName'] == 'GSDR_Synergy') & (df['SchemaName'] == 'GEMS') & (df['TableName'] == 'SASI_RUN_CONTROL')]\n",
    "dfgsdrsyn0074 = df[(df['DatabaseName'] == 'GSDR_Synergy') & (df['SchemaName'] == 'GEMS') & (df['TableName'] == 'SASI_RUN_CONTROL_SCH')]\n",
    "dfgsdrsyn0075 = df[(df['DatabaseName'] == 'GSDR_Synergy') & (df['SchemaName'] == 'GEMS') & (df['TableName'] == 'SASI_SMST_SYNERGY')]\n",
    "dfgsdrsyn0076 = df[(df['DatabaseName'] == 'GSDR_Synergy') & (df['SchemaName'] == 'GEMS') & (df['TableName'] == 'SASI_SMST_SYNERGY_STAGE')]\n",
    "dfgsdrsyn0077 = df[(df['DatabaseName'] == 'GSDR_Synergy') & (df['SchemaName'] == 'GEMS') & (df['TableName'] == 'SASI_UABN_SYNERGY')]\n",
    "dfgsdrsyn0078 = df[(df['DatabaseName'] == 'GSDR_Synergy') & (df['SchemaName'] == 'GEMS') & (df['TableName'] == 'SASI_UATR_SYNERGY')]\n",
    "dfgsdrsyn0079 = df[(df['DatabaseName'] == 'GSDR_Synergy') & (df['SchemaName'] == 'GEMS') & (df['TableName'] == 'SASI_UCES_SYNERGY')]\n",
    "dfgsdrsyn0080 = df[(df['DatabaseName'] == 'GSDR_Synergy') & (df['SchemaName'] == 'GEMS') & (df['TableName'] == 'SASI_UCMS_SYNERGY')]\n",
    "dfgsdrsyn0081 = df[(df['DatabaseName'] == 'GSDR_Synergy') & (df['SchemaName'] == 'GEMS') & (df['TableName'] == 'SASI_UGFT_SYNERGY')]\n",
    "dfgsdrsyn0082 = df[(df['DatabaseName'] == 'GSDR_Synergy') & (df['SchemaName'] == 'GEMS') & (df['TableName'] == 'SASI_UPSR_SYNERGY')]\n",
    "dfgsdrsyn0083 = df[(df['DatabaseName'] == 'GSDR_Synergy') & (df['SchemaName'] == 'GEMS') & (df['TableName'] == 'TEST_STU_ACC_OOD')]\n"
   ]
  },
  {
   "cell_type": "code",
   "execution_count": 5,
   "metadata": {},
   "outputs": [
    {
     "name": "stdout",
     "output_type": "stream",
     "text": [
      "   DatabaseName SchemaName    TableName\n",
      "0  GSDR_Synergy        dbo  ELLPGM_SASI\n"
     ]
    }
   ],
   "source": [
    "d = dfgsdrsyn0001[['DatabaseName', 'SchemaName','TableName']]#.format(z)\n",
    "d = d.drop_duplicates()\n",
    "e = d['DatabaseName'].values[0]\n",
    "f = d['SchemaName'].values[0]\n",
    "g = d['TableName'].values[0]\n",
    "print (d)\n",
    "FileName = ('GSDR_Synergy_{}_{}'.format(f,g))\n",
    "\n",
    "fig = px.scatter(dfgsdrsyn0001, x = 'TodaysDate', y='RecordCount', size = 'RecordCount', color = 'RecordCount')#.format(z)\n",
    "fig.update_layout(title = '{0},{1},{2}'.format(e,f,g))\n",
    "fig.update_layout(yaxis_zeroline=False, xaxis_zeroline=False)\n",
    "fig.update_xaxes(title_font=dict(size=18, color='crimson'))\n",
    "fig.update_yaxes(title_font=dict(size=18, color='crimson'))\n",
    "fig.update_xaxes(ticks=\"inside\")\n",
    "fig.update_yaxes(ticks=\"inside\")\n",
    "fig.update_xaxes(tickangle=45, tickfont=dict(color='crimson', size=14))\n",
    "fig.update_xaxes(showline=True, linewidth=2, linecolor='black', mirror=True, gridcolor='Pink')\n",
    "fig.update_yaxes(showline=True, linewidth=2, linecolor='black', mirror=True, gridcolor='Red')\n",
    "#fig.show()\n",
    "fig.write_html(r'C:\\Users\\eeeeeeeeee\\Documents\\JupyterAnacondaPythonNotebooks\\Daily\\Charts_px\\GSDR_Synergy\\{}.html'.format(FileName))\n",
    "plt.close()"
   ]
  },
  {
   "cell_type": "code",
   "execution_count": 6,
   "metadata": {},
   "outputs": [
    {
     "name": "stdout",
     "output_type": "stream",
     "text": [
      "    DatabaseName SchemaName   TableName\n",
      "95  GSDR_Synergy        dbo  ELLPGM_SYN\n"
     ]
    }
   ],
   "source": [
    "d = dfgsdrsyn0002[['DatabaseName', 'SchemaName','TableName']]#.format(z)\n",
    "d = d.drop_duplicates()\n",
    "e = d['DatabaseName'].values[0]\n",
    "f = d['SchemaName'].values[0]\n",
    "g = d['TableName'].values[0]\n",
    "print (d)\n",
    "FileName = ('GSDR_Synergy_{}_{}'.format(f,g))\n",
    "\n",
    "fig = px.scatter(dfgsdrsyn0002, x = 'TodaysDate', y='RecordCount', size = 'RecordCount', color = 'RecordCount')#.format(z)\n",
    "fig.update_layout(title = '{0},{1},{2}'.format(e,f,g))\n",
    "fig.update_layout(yaxis_zeroline=False, xaxis_zeroline=False)\n",
    "fig.update_xaxes(title_font=dict(size=18, color='crimson'))\n",
    "fig.update_yaxes(title_font=dict(size=18, color='crimson'))\n",
    "fig.update_xaxes(ticks=\"inside\")\n",
    "fig.update_yaxes(ticks=\"inside\")\n",
    "fig.update_xaxes(tickangle=45, tickfont=dict(color='crimson', size=14))\n",
    "fig.update_xaxes(showline=True, linewidth=2, linecolor='black', mirror=True, gridcolor='Pink')\n",
    "fig.update_yaxes(showline=True, linewidth=2, linecolor='black', mirror=True, gridcolor='Red')\n",
    "#fig.show()\n",
    "fig.write_html(r'C:\\Users\\eeeeeeeeee\\Documents\\JupyterAnacondaPythonNotebooks\\Daily\\Charts_px\\GSDR_Synergy\\{}.html'.format(FileName))\n",
    "plt.close()"
   ]
  },
  {
   "cell_type": "code",
   "execution_count": 7,
   "metadata": {},
   "outputs": [
    {
     "name": "stdout",
     "output_type": "stream",
     "text": [
      "     DatabaseName SchemaName      TableName\n",
      "190  GSDR_Synergy        dbo  HOME_LANG_NEW\n"
     ]
    }
   ],
   "source": [
    "d = dfgsdrsyn0003[['DatabaseName', 'SchemaName','TableName']]#.format(z)\n",
    "d = d.drop_duplicates()\n",
    "e = d['DatabaseName'].values[0]\n",
    "f = d['SchemaName'].values[0]\n",
    "g = d['TableName'].values[0]\n",
    "print (d)\n",
    "FileName = ('GSDR_Synergy_{}_{}'.format(f,g))\n",
    "\n",
    "fig = px.scatter(dfgsdrsyn0003, x = 'TodaysDate', y='RecordCount', size = 'RecordCount', color = 'RecordCount')#.format(z)\n",
    "fig.update_layout(title = '{0},{1},{2}'.format(e,f,g))\n",
    "fig.update_layout(yaxis_zeroline=False, xaxis_zeroline=False)\n",
    "fig.update_xaxes(title_font=dict(size=18, color='crimson'))\n",
    "fig.update_yaxes(title_font=dict(size=18, color='crimson'))\n",
    "fig.update_xaxes(ticks=\"inside\")\n",
    "fig.update_yaxes(ticks=\"inside\")\n",
    "fig.update_xaxes(tickangle=45, tickfont=dict(color='crimson', size=14))\n",
    "fig.update_xaxes(showline=True, linewidth=2, linecolor='black', mirror=True, gridcolor='Pink')\n",
    "fig.update_yaxes(showline=True, linewidth=2, linecolor='black', mirror=True, gridcolor='Red')\n",
    "#fig.show()\n",
    "fig.write_html(r'C:\\Users\\eeeeeeeeee\\Documents\\JupyterAnacondaPythonNotebooks\\Daily\\Charts_px\\GSDR_Synergy\\{}.html'.format(FileName))\n",
    "plt.close()"
   ]
  },
  {
   "cell_type": "code",
   "execution_count": 8,
   "metadata": {},
   "outputs": [
    {
     "name": "stdout",
     "output_type": "stream",
     "text": [
      "     DatabaseName SchemaName      TableName\n",
      "285  GSDR_Synergy        dbo  HOME_LANG_OLD\n"
     ]
    }
   ],
   "source": [
    "d = dfgsdrsyn0004[['DatabaseName', 'SchemaName','TableName']]#.format(z)\n",
    "d = d.drop_duplicates()\n",
    "e = d['DatabaseName'].values[0]\n",
    "f = d['SchemaName'].values[0]\n",
    "g = d['TableName'].values[0]\n",
    "print (d)\n",
    "FileName = ('GSDR_Synergy_{}_{}'.format(f,g))\n",
    "\n",
    "fig = px.scatter(dfgsdrsyn0004, x = 'TodaysDate', y='RecordCount', size = 'RecordCount', color = 'RecordCount')#.format(z)\n",
    "fig.update_layout(title = '{0},{1},{2}'.format(e,f,g))\n",
    "fig.update_layout(yaxis_zeroline=False, xaxis_zeroline=False)\n",
    "fig.update_xaxes(title_font=dict(size=18, color='crimson'))\n",
    "fig.update_yaxes(title_font=dict(size=18, color='crimson'))\n",
    "fig.update_xaxes(ticks=\"inside\")\n",
    "fig.update_yaxes(ticks=\"inside\")\n",
    "fig.update_xaxes(tickangle=45, tickfont=dict(color='crimson', size=14))\n",
    "fig.update_xaxes(showline=True, linewidth=2, linecolor='black', mirror=True, gridcolor='Pink')\n",
    "fig.update_yaxes(showline=True, linewidth=2, linecolor='black', mirror=True, gridcolor='Red')\n",
    "#fig.show()\n",
    "fig.write_html(r'C:\\Users\\eeeeeeeeee\\Documents\\JupyterAnacondaPythonNotebooks\\Daily\\Charts_px\\GSDR_Synergy\\{}.html'.format(FileName))\n",
    "plt.close()"
   ]
  },
  {
   "cell_type": "code",
   "execution_count": 9,
   "metadata": {},
   "outputs": [
    {
     "name": "stdout",
     "output_type": "stream",
     "text": [
      "      DatabaseName SchemaName   TableName\n",
      "7665  GSDR_Synergy        dbo  sysssislog\n"
     ]
    }
   ],
   "source": [
    "d = dfgsdrsyn0005[['DatabaseName', 'SchemaName','TableName']]#.format(z)\n",
    "d = d.drop_duplicates()\n",
    "e = d['DatabaseName'].values[0]\n",
    "f = d['SchemaName'].values[0]\n",
    "g = d['TableName'].values[0]\n",
    "print (d)\n",
    "FileName = ('GSDR_Synergy_{}_{}'.format(f,g))\n",
    "\n",
    "fig = px.scatter(dfgsdrsyn0005, x = 'TodaysDate', y='RecordCount', size = 'RecordCount', color = 'RecordCount')#.format(z)\n",
    "fig.update_layout(title = '{0},{1},{2}'.format(e,f,g))\n",
    "fig.update_layout(yaxis_zeroline=False, xaxis_zeroline=False)\n",
    "fig.update_xaxes(title_font=dict(size=18, color='crimson'))\n",
    "fig.update_yaxes(title_font=dict(size=18, color='crimson'))\n",
    "fig.update_xaxes(ticks=\"inside\")\n",
    "fig.update_yaxes(ticks=\"inside\")\n",
    "fig.update_xaxes(tickangle=45, tickfont=dict(color='crimson', size=14))\n",
    "fig.update_xaxes(showline=True, linewidth=2, linecolor='black', mirror=True, gridcolor='Pink')\n",
    "fig.update_yaxes(showline=True, linewidth=2, linecolor='black', mirror=True, gridcolor='Red')\n",
    "#fig.show()\n",
    "fig.write_html(r'C:\\Users\\eeeeeeeeee\\Documents\\JupyterAnacondaPythonNotebooks\\Daily\\Charts_px\\GSDR_Synergy\\{}.html'.format(FileName))\n",
    "plt.close()"
   ]
  },
  {
   "cell_type": "code",
   "execution_count": 10,
   "metadata": {},
   "outputs": [
    {
     "name": "stdout",
     "output_type": "stream",
     "text": [
      "     DatabaseName SchemaName          TableName\n",
      "380  GSDR_Synergy       GEMS  SASI_A504_SYNERGY\n"
     ]
    }
   ],
   "source": [
    "d = dfgsdrsyn0006[['DatabaseName', 'SchemaName','TableName']]#.format(z)\n",
    "d = d.drop_duplicates()\n",
    "e = d['DatabaseName'].values[0]\n",
    "f = d['SchemaName'].values[0]\n",
    "g = d['TableName'].values[0]\n",
    "print (d)\n",
    "FileName = ('GSDR_Synergy_{}_{}'.format(f,g))\n",
    "\n",
    "fig = px.scatter(dfgsdrsyn0006, x = 'TodaysDate', y='RecordCount', size = 'RecordCount', color = 'RecordCount')#.format(z)\n",
    "fig.update_layout(title = '{0},{1},{2}'.format(e,f,g))\n",
    "fig.update_layout(yaxis_zeroline=False, xaxis_zeroline=False)\n",
    "fig.update_xaxes(title_font=dict(size=18, color='crimson'))\n",
    "fig.update_yaxes(title_font=dict(size=18, color='crimson'))\n",
    "fig.update_xaxes(ticks=\"inside\")\n",
    "fig.update_yaxes(ticks=\"inside\")\n",
    "fig.update_xaxes(tickangle=45, tickfont=dict(color='crimson', size=14))\n",
    "fig.update_xaxes(showline=True, linewidth=2, linecolor='black', mirror=True, gridcolor='Pink')\n",
    "fig.update_yaxes(showline=True, linewidth=2, linecolor='black', mirror=True, gridcolor='Red')\n",
    "#fig.show()\n",
    "fig.write_html(r'C:\\Users\\eeeeeeeeee\\Documents\\JupyterAnacondaPythonNotebooks\\Daily\\Charts_px\\GSDR_Synergy\\{}.html'.format(FileName))\n",
    "plt.close()"
   ]
  },
  {
   "cell_type": "code",
   "execution_count": 11,
   "metadata": {},
   "outputs": [
    {
     "name": "stdout",
     "output_type": "stream",
     "text": [
      "     DatabaseName SchemaName          TableName\n",
      "475  GSDR_Synergy       GEMS  SASI_AATC_SYNERGY\n"
     ]
    }
   ],
   "source": [
    "d = dfgsdrsyn0007[['DatabaseName', 'SchemaName','TableName']]#.format(z)\n",
    "d = d.drop_duplicates()\n",
    "e = d['DatabaseName'].values[0]\n",
    "f = d['SchemaName'].values[0]\n",
    "g = d['TableName'].values[0]\n",
    "print (d)\n",
    "FileName = ('GSDR_Synergy_{}_{}'.format(f,g))\n",
    "\n",
    "fig = px.scatter(dfgsdrsyn0007, x = 'TodaysDate', y='RecordCount', size = 'RecordCount', color = 'RecordCount')#.format(z)\n",
    "fig.update_layout(title = '{0},{1},{2}'.format(e,f,g))\n",
    "fig.update_layout(yaxis_zeroline=False, xaxis_zeroline=False)\n",
    "fig.update_xaxes(title_font=dict(size=18, color='crimson'))\n",
    "fig.update_yaxes(title_font=dict(size=18, color='crimson'))\n",
    "fig.update_xaxes(ticks=\"inside\")\n",
    "fig.update_yaxes(ticks=\"inside\")\n",
    "fig.update_xaxes(tickangle=45, tickfont=dict(color='crimson', size=14))\n",
    "fig.update_xaxes(showline=True, linewidth=2, linecolor='black', mirror=True, gridcolor='Pink')\n",
    "fig.update_yaxes(showline=True, linewidth=2, linecolor='black', mirror=True, gridcolor='Red')\n",
    "#fig.show()\n",
    "fig.write_html(r'C:\\Users\\eeeeeeeeee\\Documents\\JupyterAnacondaPythonNotebooks\\Daily\\Charts_px\\GSDR_Synergy\\{}.html'.format(FileName))\n",
    "plt.close()"
   ]
  },
  {
   "cell_type": "code",
   "execution_count": 12,
   "metadata": {},
   "outputs": [
    {
     "name": "stdout",
     "output_type": "stream",
     "text": [
      "     DatabaseName SchemaName          TableName\n",
      "570  GSDR_Synergy       GEMS  SASI_AATD_SYNERGY\n"
     ]
    }
   ],
   "source": [
    "d = dfgsdrsyn0008[['DatabaseName', 'SchemaName','TableName']]#.format(z)\n",
    "d = d.drop_duplicates()\n",
    "e = d['DatabaseName'].values[0]\n",
    "f = d['SchemaName'].values[0]\n",
    "g = d['TableName'].values[0]\n",
    "print (d)\n",
    "FileName = ('GSDR_Synergy_{}_{}'.format(f,g))\n",
    "\n",
    "fig = px.scatter(dfgsdrsyn0008, x = 'TodaysDate', y='RecordCount', size = 'RecordCount', color = 'RecordCount')#.format(z)\n",
    "fig.update_layout(title = '{0},{1},{2}'.format(e,f,g))\n",
    "fig.update_layout(yaxis_zeroline=False, xaxis_zeroline=False)\n",
    "fig.update_xaxes(title_font=dict(size=18, color='crimson'))\n",
    "fig.update_yaxes(title_font=dict(size=18, color='crimson'))\n",
    "fig.update_xaxes(ticks=\"inside\")\n",
    "fig.update_yaxes(ticks=\"inside\")\n",
    "fig.update_xaxes(tickangle=45, tickfont=dict(color='crimson', size=14))\n",
    "fig.update_xaxes(showline=True, linewidth=2, linecolor='black', mirror=True, gridcolor='Pink')\n",
    "fig.update_yaxes(showline=True, linewidth=2, linecolor='black', mirror=True, gridcolor='Red')\n",
    "#fig.show()\n",
    "fig.write_html(r'C:\\Users\\eeeeeeeeee\\Documents\\JupyterAnacondaPythonNotebooks\\Daily\\Charts_px\\GSDR_Synergy\\{}.html'.format(FileName))\n",
    "plt.close()"
   ]
  },
  {
   "cell_type": "code",
   "execution_count": 13,
   "metadata": {},
   "outputs": [
    {
     "name": "stdout",
     "output_type": "stream",
     "text": [
      "     DatabaseName SchemaName              TableName\n",
      "665  GSDR_Synergy       GEMS  SASI_AATO_ROT_SYNERGY\n"
     ]
    }
   ],
   "source": [
    "d = dfgsdrsyn0009[['DatabaseName', 'SchemaName','TableName']]#.format(z)\n",
    "d = d.drop_duplicates()\n",
    "e = d['DatabaseName'].values[0]\n",
    "f = d['SchemaName'].values[0]\n",
    "g = d['TableName'].values[0]\n",
    "print (d)\n",
    "FileName = ('GSDR_Synergy_{}_{}'.format(f,g))\n",
    "\n",
    "fig = px.scatter(dfgsdrsyn0009, x = 'TodaysDate', y='RecordCount', size = 'RecordCount', color = 'RecordCount')#.format(z)\n",
    "fig.update_layout(title = '{0},{1},{2}'.format(e,f,g))\n",
    "fig.update_layout(yaxis_zeroline=False, xaxis_zeroline=False)\n",
    "fig.update_xaxes(title_font=dict(size=18, color='crimson'))\n",
    "fig.update_yaxes(title_font=dict(size=18, color='crimson'))\n",
    "fig.update_xaxes(ticks=\"inside\")\n",
    "fig.update_yaxes(ticks=\"inside\")\n",
    "fig.update_xaxes(tickangle=45, tickfont=dict(color='crimson', size=14))\n",
    "fig.update_xaxes(showline=True, linewidth=2, linecolor='black', mirror=True, gridcolor='Pink')\n",
    "fig.update_yaxes(showline=True, linewidth=2, linecolor='black', mirror=True, gridcolor='Red')\n",
    "#fig.show()\n",
    "fig.write_html(r'C:\\Users\\eeeeeeeeee\\Documents\\JupyterAnacondaPythonNotebooks\\Daily\\Charts_px\\GSDR_Synergy\\{}.html'.format(FileName))\n",
    "plt.close()"
   ]
  },
  {
   "cell_type": "code",
   "execution_count": 14,
   "metadata": {},
   "outputs": [
    {
     "name": "stdout",
     "output_type": "stream",
     "text": [
      "     DatabaseName SchemaName          TableName\n",
      "760  GSDR_Synergy       GEMS  SASI_AATP_SYNERGY\n"
     ]
    }
   ],
   "source": [
    "d = dfgsdrsyn0010[['DatabaseName', 'SchemaName','TableName']]#.format(z)\n",
    "d = d.drop_duplicates()\n",
    "e = d['DatabaseName'].values[0]\n",
    "f = d['SchemaName'].values[0]\n",
    "g = d['TableName'].values[0]\n",
    "print (d)\n",
    "FileName = ('GSDR_Synergy_{}_{}'.format(f,g))\n",
    "\n",
    "fig = px.scatter(dfgsdrsyn0010, x = 'TodaysDate', y='RecordCount', size = 'RecordCount', color = 'RecordCount')#.format(z)\n",
    "fig.update_layout(title = '{0},{1},{2}'.format(e,f,g))\n",
    "fig.update_layout(yaxis_zeroline=False, xaxis_zeroline=False)\n",
    "fig.update_xaxes(title_font=dict(size=18, color='crimson'))\n",
    "fig.update_yaxes(title_font=dict(size=18, color='crimson'))\n",
    "fig.update_xaxes(ticks=\"inside\")\n",
    "fig.update_yaxes(ticks=\"inside\")\n",
    "fig.update_xaxes(tickangle=45, tickfont=dict(color='crimson', size=14))\n",
    "fig.update_xaxes(showline=True, linewidth=2, linecolor='black', mirror=True, gridcolor='Pink')\n",
    "fig.update_yaxes(showline=True, linewidth=2, linecolor='black', mirror=True, gridcolor='Red')\n",
    "#fig.show()\n",
    "fig.write_html(r'C:\\Users\\eeeeeeeeee\\Documents\\JupyterAnacondaPythonNotebooks\\Daily\\Charts_px\\GSDR_Synergy\\{}.html'.format(FileName))\n",
    "plt.close()"
   ]
  },
  {
   "cell_type": "code",
   "execution_count": 15,
   "metadata": {},
   "outputs": [
    {
     "name": "stdout",
     "output_type": "stream",
     "text": [
      "     DatabaseName SchemaName          TableName\n",
      "855  GSDR_Synergy       GEMS  SASI_AATT_SYNERGY\n"
     ]
    }
   ],
   "source": [
    "d = dfgsdrsyn0011[['DatabaseName', 'SchemaName','TableName']]#.format(z)\n",
    "d = d.drop_duplicates()\n",
    "e = d['DatabaseName'].values[0]\n",
    "f = d['SchemaName'].values[0]\n",
    "g = d['TableName'].values[0]\n",
    "print (d)\n",
    "FileName = ('GSDR_Synergy_{}_{}'.format(f,g))\n",
    "\n",
    "fig = px.scatter(dfgsdrsyn0011, x = 'TodaysDate', y='RecordCount', size = 'RecordCount', color = 'RecordCount')#.format(z)\n",
    "fig.update_layout(title = '{0},{1},{2}'.format(e,f,g))\n",
    "fig.update_layout(yaxis_zeroline=False, xaxis_zeroline=False)\n",
    "fig.update_xaxes(title_font=dict(size=18, color='crimson'))\n",
    "fig.update_yaxes(title_font=dict(size=18, color='crimson'))\n",
    "fig.update_xaxes(ticks=\"inside\")\n",
    "fig.update_yaxes(ticks=\"inside\")\n",
    "fig.update_xaxes(tickangle=45, tickfont=dict(color='crimson', size=14))\n",
    "fig.update_xaxes(showline=True, linewidth=2, linecolor='black', mirror=True, gridcolor='Pink')\n",
    "fig.update_yaxes(showline=True, linewidth=2, linecolor='black', mirror=True, gridcolor='Red')\n",
    "#fig.show()\n",
    "fig.write_html(r'C:\\Users\\eeeeeeeeee\\Documents\\JupyterAnacondaPythonNotebooks\\Daily\\Charts_px\\GSDR_Synergy\\{}.html'.format(FileName))\n",
    "plt.close()"
   ]
  },
  {
   "cell_type": "code",
   "execution_count": 16,
   "metadata": {},
   "outputs": [
    {
     "name": "stdout",
     "output_type": "stream",
     "text": [
      "     DatabaseName SchemaName          TableName\n",
      "950  GSDR_Synergy       GEMS  SASI_ACHS_SYNERGY\n"
     ]
    }
   ],
   "source": [
    "d = dfgsdrsyn0012[['DatabaseName', 'SchemaName','TableName']]#.format(z)\n",
    "d = d.drop_duplicates()\n",
    "e = d['DatabaseName'].values[0]\n",
    "f = d['SchemaName'].values[0]\n",
    "g = d['TableName'].values[0]\n",
    "print (d)\n",
    "FileName = ('GSDR_Synergy_{}_{}'.format(f,g))\n",
    "\n",
    "fig = px.scatter(dfgsdrsyn0012, x = 'TodaysDate', y='RecordCount', size = 'RecordCount', color = 'RecordCount')#.format(z)\n",
    "fig.update_layout(title = '{0},{1},{2}'.format(e,f,g))\n",
    "fig.update_layout(yaxis_zeroline=False, xaxis_zeroline=False)\n",
    "fig.update_xaxes(title_font=dict(size=18, color='crimson'))\n",
    "fig.update_yaxes(title_font=dict(size=18, color='crimson'))\n",
    "fig.update_xaxes(ticks=\"inside\")\n",
    "fig.update_yaxes(ticks=\"inside\")\n",
    "fig.update_xaxes(tickangle=45, tickfont=dict(color='crimson', size=14))\n",
    "fig.update_xaxes(showline=True, linewidth=2, linecolor='black', mirror=True, gridcolor='Pink')\n",
    "fig.update_yaxes(showline=True, linewidth=2, linecolor='black', mirror=True, gridcolor='Red')\n",
    "#fig.show()\n",
    "fig.write_html(r'C:\\Users\\eeeeeeeeee\\Documents\\JupyterAnacondaPythonNotebooks\\Daily\\Charts_px\\GSDR_Synergy\\{}.html'.format(FileName))\n",
    "plt.close()"
   ]
  },
  {
   "cell_type": "code",
   "execution_count": 17,
   "metadata": {},
   "outputs": [
    {
     "name": "stdout",
     "output_type": "stream",
     "text": [
      "      DatabaseName SchemaName           TableName\n",
      "1045  GSDR_Synergy       GEMS  SASI_ACHS_SYNERGY2\n"
     ]
    }
   ],
   "source": [
    "d = dfgsdrsyn0013[['DatabaseName', 'SchemaName','TableName']]#.format(z)\n",
    "d = d.drop_duplicates()\n",
    "e = d['DatabaseName'].values[0]\n",
    "f = d['SchemaName'].values[0]\n",
    "g = d['TableName'].values[0]\n",
    "print (d)\n",
    "FileName = ('GSDR_Synergy_{}_{}'.format(f,g))\n",
    "\n",
    "fig = px.scatter(dfgsdrsyn0013, x = 'TodaysDate', y='RecordCount', size = 'RecordCount', color = 'RecordCount')#.format(z)\n",
    "fig.update_layout(title = '{0},{1},{2}'.format(e,f,g))\n",
    "fig.update_layout(yaxis_zeroline=False, xaxis_zeroline=False)\n",
    "fig.update_xaxes(title_font=dict(size=18, color='crimson'))\n",
    "fig.update_yaxes(title_font=dict(size=18, color='crimson'))\n",
    "fig.update_xaxes(ticks=\"inside\")\n",
    "fig.update_yaxes(ticks=\"inside\")\n",
    "fig.update_xaxes(tickangle=45, tickfont=dict(color='crimson', size=14))\n",
    "fig.update_xaxes(showline=True, linewidth=2, linecolor='black', mirror=True, gridcolor='Pink')\n",
    "fig.update_yaxes(showline=True, linewidth=2, linecolor='black', mirror=True, gridcolor='Red')\n",
    "#fig.show()\n",
    "fig.write_html(r'C:\\Users\\eeeeeeeeee\\Documents\\JupyterAnacondaPythonNotebooks\\Daily\\Charts_px\\GSDR_Synergy\\{}.html'.format(FileName))\n",
    "plt.close()"
   ]
  },
  {
   "cell_type": "code",
   "execution_count": 18,
   "metadata": {},
   "outputs": [
    {
     "name": "stdout",
     "output_type": "stream",
     "text": [
      "      DatabaseName SchemaName          TableName\n",
      "1140  GSDR_Synergy       GEMS  SASI_ACLH_SYNERGY\n"
     ]
    }
   ],
   "source": [
    "d = dfgsdrsyn0014[['DatabaseName', 'SchemaName','TableName']]#.format(z)\n",
    "d = d.drop_duplicates()\n",
    "e = d['DatabaseName'].values[0]\n",
    "f = d['SchemaName'].values[0]\n",
    "g = d['TableName'].values[0]\n",
    "print (d)\n",
    "FileName = ('GSDR_Synergy_{}_{}'.format(f,g))\n",
    "\n",
    "fig = px.scatter(dfgsdrsyn0014, x = 'TodaysDate', y='RecordCount', size = 'RecordCount', color = 'RecordCount')#.format(z)\n",
    "fig.update_layout(title = '{0},{1},{2}'.format(e,f,g))\n",
    "fig.update_layout(yaxis_zeroline=False, xaxis_zeroline=False)\n",
    "fig.update_xaxes(title_font=dict(size=18, color='crimson'))\n",
    "fig.update_yaxes(title_font=dict(size=18, color='crimson'))\n",
    "fig.update_xaxes(ticks=\"inside\")\n",
    "fig.update_yaxes(ticks=\"inside\")\n",
    "fig.update_xaxes(tickangle=45, tickfont=dict(color='crimson', size=14))\n",
    "fig.update_xaxes(showline=True, linewidth=2, linecolor='black', mirror=True, gridcolor='Pink')\n",
    "fig.update_yaxes(showline=True, linewidth=2, linecolor='black', mirror=True, gridcolor='Red')\n",
    "#fig.show()\n",
    "fig.write_html(r'C:\\Users\\eeeeeeeeee\\Documents\\JupyterAnacondaPythonNotebooks\\Daily\\Charts_px\\GSDR_Synergy\\{}.html'.format(FileName))\n",
    "plt.close()"
   ]
  },
  {
   "cell_type": "code",
   "execution_count": 19,
   "metadata": {},
   "outputs": [
    {
     "name": "stdout",
     "output_type": "stream",
     "text": [
      "      DatabaseName SchemaName               TableName\n",
      "1235  GSDR_Synergy       GEMS  SASI_ACLS_NEXT_SYNERGY\n"
     ]
    }
   ],
   "source": [
    "d = dfgsdrsyn0015[['DatabaseName', 'SchemaName','TableName']]#.format(z)\n",
    "d = d.drop_duplicates()\n",
    "e = d['DatabaseName'].values[0]\n",
    "f = d['SchemaName'].values[0]\n",
    "g = d['TableName'].values[0]\n",
    "print (d)\n",
    "FileName = ('GSDR_Synergy_{}_{}'.format(f,g))\n",
    "\n",
    "fig = px.scatter(dfgsdrsyn0015, x = 'TodaysDate', y='RecordCount', size = 'RecordCount', color = 'RecordCount')#.format(z)\n",
    "fig.update_layout(title = '{0},{1},{2}'.format(e,f,g))\n",
    "fig.update_layout(yaxis_zeroline=False, xaxis_zeroline=False)\n",
    "fig.update_xaxes(title_font=dict(size=18, color='crimson'))\n",
    "fig.update_yaxes(title_font=dict(size=18, color='crimson'))\n",
    "fig.update_xaxes(ticks=\"inside\")\n",
    "fig.update_yaxes(ticks=\"inside\")\n",
    "fig.update_xaxes(tickangle=45, tickfont=dict(color='crimson', size=14))\n",
    "fig.update_xaxes(showline=True, linewidth=2, linecolor='black', mirror=True, gridcolor='Pink')\n",
    "fig.update_yaxes(showline=True, linewidth=2, linecolor='black', mirror=True, gridcolor='Red')\n",
    "#fig.show()\n",
    "fig.write_html(r'C:\\Users\\eeeeeeeeee\\Documents\\JupyterAnacondaPythonNotebooks\\Daily\\Charts_px\\GSDR_Synergy\\{}.html'.format(FileName))\n",
    "plt.close()"
   ]
  },
  {
   "cell_type": "code",
   "execution_count": 20,
   "metadata": {},
   "outputs": [
    {
     "name": "stdout",
     "output_type": "stream",
     "text": [
      "      DatabaseName SchemaName          TableName\n",
      "1330  GSDR_Synergy       GEMS  SASI_ACLS_SYNERGY\n"
     ]
    }
   ],
   "source": [
    "d = dfgsdrsyn0016[['DatabaseName', 'SchemaName','TableName']]#.format(z)\n",
    "d = d.drop_duplicates()\n",
    "e = d['DatabaseName'].values[0]\n",
    "f = d['SchemaName'].values[0]\n",
    "g = d['TableName'].values[0]\n",
    "print (d)\n",
    "FileName = ('GSDR_Synergy_{}_{}'.format(f,g))\n",
    "\n",
    "fig = px.scatter(dfgsdrsyn0016, x = 'TodaysDate', y='RecordCount', size = 'RecordCount', color = 'RecordCount')#.format(z)\n",
    "fig.update_layout(title = '{0},{1},{2}'.format(e,f,g))\n",
    "fig.update_layout(yaxis_zeroline=False, xaxis_zeroline=False)\n",
    "fig.update_xaxes(title_font=dict(size=18, color='crimson'))\n",
    "fig.update_yaxes(title_font=dict(size=18, color='crimson'))\n",
    "fig.update_xaxes(ticks=\"inside\")\n",
    "fig.update_yaxes(ticks=\"inside\")\n",
    "fig.update_xaxes(tickangle=45, tickfont=dict(color='crimson', size=14))\n",
    "fig.update_xaxes(showline=True, linewidth=2, linecolor='black', mirror=True, gridcolor='Pink')\n",
    "fig.update_yaxes(showline=True, linewidth=2, linecolor='black', mirror=True, gridcolor='Red')\n",
    "#fig.show()\n",
    "fig.write_html(r'C:\\Users\\eeeeeeeeee\\Documents\\JupyterAnacondaPythonNotebooks\\Daily\\Charts_px\\GSDR_Synergy\\{}.html'.format(FileName))\n",
    "plt.close()"
   ]
  },
  {
   "cell_type": "code",
   "execution_count": 21,
   "metadata": {},
   "outputs": [
    {
     "name": "stdout",
     "output_type": "stream",
     "text": [
      "      DatabaseName SchemaName              TableName\n",
      "1425  GSDR_Synergy       GEMS  SASI_ACLS_SYNERGY_BCK\n"
     ]
    }
   ],
   "source": [
    "d = dfgsdrsyn0017[['DatabaseName', 'SchemaName','TableName']]#.format(z)\n",
    "d = d.drop_duplicates()\n",
    "e = d['DatabaseName'].values[0]\n",
    "f = d['SchemaName'].values[0]\n",
    "g = d['TableName'].values[0]\n",
    "print (d)\n",
    "FileName = ('GSDR_Synergy_{}_{}'.format(f,g))\n",
    "\n",
    "fig = px.scatter(dfgsdrsyn0017, x = 'TodaysDate', y='RecordCount', size = 'RecordCount', color = 'RecordCount')#.format(z)\n",
    "fig.update_layout(title = '{0},{1},{2}'.format(e,f,g))\n",
    "fig.update_layout(yaxis_zeroline=False, xaxis_zeroline=False)\n",
    "fig.update_xaxes(title_font=dict(size=18, color='crimson'))\n",
    "fig.update_yaxes(title_font=dict(size=18, color='crimson'))\n",
    "fig.update_xaxes(ticks=\"inside\")\n",
    "fig.update_yaxes(ticks=\"inside\")\n",
    "fig.update_xaxes(tickangle=45, tickfont=dict(color='crimson', size=14))\n",
    "fig.update_xaxes(showline=True, linewidth=2, linecolor='black', mirror=True, gridcolor='Pink')\n",
    "fig.update_yaxes(showline=True, linewidth=2, linecolor='black', mirror=True, gridcolor='Red')\n",
    "#fig.show()\n",
    "fig.write_html(r'C:\\Users\\eeeeeeeeee\\Documents\\JupyterAnacondaPythonNotebooks\\Daily\\Charts_px\\GSDR_Synergy\\{}.html'.format(FileName))\n",
    "plt.close()"
   ]
  },
  {
   "cell_type": "code",
   "execution_count": 22,
   "metadata": {},
   "outputs": [
    {
     "name": "stdout",
     "output_type": "stream",
     "text": [
      "      DatabaseName SchemaName          TableName\n",
      "1520  GSDR_Synergy       GEMS  SASI_ACNF_SYNERGY\n"
     ]
    }
   ],
   "source": [
    "d = dfgsdrsyn0018[['DatabaseName', 'SchemaName','TableName']]#.format(z)\n",
    "d = d.drop_duplicates()\n",
    "e = d['DatabaseName'].values[0]\n",
    "f = d['SchemaName'].values[0]\n",
    "g = d['TableName'].values[0]\n",
    "print (d)\n",
    "FileName = ('GSDR_Synergy_{}_{}'.format(f,g))\n",
    "\n",
    "fig = px.scatter(dfgsdrsyn0018, x = 'TodaysDate', y='RecordCount', size = 'RecordCount', color = 'RecordCount')#.format(z)\n",
    "fig.update_layout(title = '{0},{1},{2}'.format(e,f,g))\n",
    "fig.update_layout(yaxis_zeroline=False, xaxis_zeroline=False)\n",
    "fig.update_xaxes(title_font=dict(size=18, color='crimson'))\n",
    "fig.update_yaxes(title_font=dict(size=18, color='crimson'))\n",
    "fig.update_xaxes(ticks=\"inside\")\n",
    "fig.update_yaxes(ticks=\"inside\")\n",
    "fig.update_xaxes(tickangle=45, tickfont=dict(color='crimson', size=14))\n",
    "fig.update_xaxes(showline=True, linewidth=2, linecolor='black', mirror=True, gridcolor='Pink')\n",
    "fig.update_yaxes(showline=True, linewidth=2, linecolor='black', mirror=True, gridcolor='Red')\n",
    "#fig.show()\n",
    "fig.write_html(r'C:\\Users\\eeeeeeeeee\\Documents\\JupyterAnacondaPythonNotebooks\\Daily\\Charts_px\\GSDR_Synergy\\{}.html'.format(FileName))\n",
    "plt.close()"
   ]
  },
  {
   "cell_type": "code",
   "execution_count": 23,
   "metadata": {},
   "outputs": [
    {
     "name": "stdout",
     "output_type": "stream",
     "text": [
      "      DatabaseName SchemaName          TableName\n",
      "1615  GSDR_Synergy       GEMS  SASI_ACNR_SYNERGY\n"
     ]
    }
   ],
   "source": [
    "d = dfgsdrsyn0019[['DatabaseName', 'SchemaName','TableName']]#.format(z)\n",
    "d = d.drop_duplicates()\n",
    "e = d['DatabaseName'].values[0]\n",
    "f = d['SchemaName'].values[0]\n",
    "g = d['TableName'].values[0]\n",
    "print (d)\n",
    "FileName = ('GSDR_Synergy_{}_{}'.format(f,g))\n",
    "\n",
    "fig = px.scatter(dfgsdrsyn0019, x = 'TodaysDate', y='RecordCount', size = 'RecordCount', color = 'RecordCount')#.format(z)\n",
    "fig.update_layout(title = '{0},{1},{2}'.format(e,f,g))\n",
    "fig.update_layout(yaxis_zeroline=False, xaxis_zeroline=False)\n",
    "fig.update_xaxes(title_font=dict(size=18, color='crimson'))\n",
    "fig.update_yaxes(title_font=dict(size=18, color='crimson'))\n",
    "fig.update_xaxes(ticks=\"inside\")\n",
    "fig.update_yaxes(ticks=\"inside\")\n",
    "fig.update_xaxes(tickangle=45, tickfont=dict(color='crimson', size=14))\n",
    "fig.update_xaxes(showline=True, linewidth=2, linecolor='black', mirror=True, gridcolor='Pink')\n",
    "fig.update_yaxes(showline=True, linewidth=2, linecolor='black', mirror=True, gridcolor='Red')\n",
    "#fig.show()\n",
    "fig.write_html(r'C:\\Users\\eeeeeeeeee\\Documents\\JupyterAnacondaPythonNotebooks\\Daily\\Charts_px\\GSDR_Synergy\\{}.html'.format(FileName))\n",
    "plt.close()"
   ]
  },
  {
   "cell_type": "code",
   "execution_count": 24,
   "metadata": {},
   "outputs": [
    {
     "name": "stdout",
     "output_type": "stream",
     "text": [
      "      DatabaseName SchemaName          TableName\n",
      "1710  GSDR_Synergy       GEMS  SASI_ACRS_SYNERGY\n"
     ]
    }
   ],
   "source": [
    "d = dfgsdrsyn0020[['DatabaseName', 'SchemaName','TableName']]#.format(z)\n",
    "d = d.drop_duplicates()\n",
    "e = d['DatabaseName'].values[0]\n",
    "f = d['SchemaName'].values[0]\n",
    "g = d['TableName'].values[0]\n",
    "print (d)\n",
    "FileName = ('GSDR_Synergy_{}_{}'.format(f,g))\n",
    "\n",
    "fig = px.scatter(dfgsdrsyn0020, x = 'TodaysDate', y='RecordCount', size = 'RecordCount', color = 'RecordCount')#.format(z)\n",
    "fig.update_layout(title = '{0},{1},{2}'.format(e,f,g))\n",
    "fig.update_layout(yaxis_zeroline=False, xaxis_zeroline=False)\n",
    "fig.update_xaxes(title_font=dict(size=18, color='crimson'))\n",
    "fig.update_yaxes(title_font=dict(size=18, color='crimson'))\n",
    "fig.update_xaxes(ticks=\"inside\")\n",
    "fig.update_yaxes(ticks=\"inside\")\n",
    "fig.update_xaxes(tickangle=45, tickfont=dict(color='crimson', size=14))\n",
    "fig.update_xaxes(showline=True, linewidth=2, linecolor='black', mirror=True, gridcolor='Pink')\n",
    "fig.update_yaxes(showline=True, linewidth=2, linecolor='black', mirror=True, gridcolor='Red')\n",
    "#fig.show()\n",
    "fig.write_html(r'C:\\Users\\eeeeeeeeee\\Documents\\JupyterAnacondaPythonNotebooks\\Daily\\Charts_px\\GSDR_Synergy\\{}.html'.format(FileName))\n",
    "plt.close()"
   ]
  },
  {
   "cell_type": "code",
   "execution_count": 25,
   "metadata": {},
   "outputs": [
    {
     "name": "stdout",
     "output_type": "stream",
     "text": [
      "      DatabaseName SchemaName                        TableName\n",
      "1805  GSDR_Synergy       GEMS  SASI_ADDITIONAL_TEACHER_SYNERGY\n"
     ]
    }
   ],
   "source": [
    "d = dfgsdrsyn0021[['DatabaseName', 'SchemaName','TableName']]#.format(z)\n",
    "d = d.drop_duplicates()\n",
    "e = d['DatabaseName'].values[0]\n",
    "f = d['SchemaName'].values[0]\n",
    "g = d['TableName'].values[0]\n",
    "print (d)\n",
    "FileName = ('GSDR_Synergy_{}_{}'.format(f,g))\n",
    "\n",
    "fig = px.scatter(dfgsdrsyn0021, x = 'TodaysDate', y='RecordCount', size = 'RecordCount', color = 'RecordCount')#.format(z)\n",
    "fig.update_layout(title = '{0},{1},{2}'.format(e,f,g))\n",
    "fig.update_layout(yaxis_zeroline=False, xaxis_zeroline=False)\n",
    "fig.update_xaxes(title_font=dict(size=18, color='crimson'))\n",
    "fig.update_yaxes(title_font=dict(size=18, color='crimson'))\n",
    "fig.update_xaxes(ticks=\"inside\")\n",
    "fig.update_yaxes(ticks=\"inside\")\n",
    "fig.update_xaxes(tickangle=45, tickfont=dict(color='crimson', size=14))\n",
    "fig.update_xaxes(showline=True, linewidth=2, linecolor='black', mirror=True, gridcolor='Pink')\n",
    "fig.update_yaxes(showline=True, linewidth=2, linecolor='black', mirror=True, gridcolor='Red')\n",
    "#fig.show()\n",
    "fig.write_html(r'C:\\Users\\eeeeeeeeee\\Documents\\JupyterAnacondaPythonNotebooks\\Daily\\Charts_px\\GSDR_Synergy\\{}.html'.format(FileName))\n",
    "plt.close()"
   ]
  },
  {
   "cell_type": "code",
   "execution_count": 26,
   "metadata": {},
   "outputs": [
    {
     "name": "stdout",
     "output_type": "stream",
     "text": [
      "      DatabaseName SchemaName  TableName\n",
      "1900  GSDR_Synergy       GEMS  SASI_ADIS\n"
     ]
    }
   ],
   "source": [
    "d = dfgsdrsyn0022[['DatabaseName', 'SchemaName','TableName']]#.format(z)\n",
    "d = d.drop_duplicates()\n",
    "e = d['DatabaseName'].values[0]\n",
    "f = d['SchemaName'].values[0]\n",
    "g = d['TableName'].values[0]\n",
    "print (d)\n",
    "FileName = ('GSDR_Synergy_{}_{}'.format(f,g))\n",
    "\n",
    "fig = px.scatter(dfgsdrsyn0022, x = 'TodaysDate', y='RecordCount', size = 'RecordCount', color = 'RecordCount')#.format(z)\n",
    "fig.update_layout(title = '{0},{1},{2}'.format(e,f,g))\n",
    "fig.update_layout(yaxis_zeroline=False, xaxis_zeroline=False)\n",
    "fig.update_xaxes(title_font=dict(size=18, color='crimson'))\n",
    "fig.update_yaxes(title_font=dict(size=18, color='crimson'))\n",
    "fig.update_xaxes(ticks=\"inside\")\n",
    "fig.update_yaxes(ticks=\"inside\")\n",
    "fig.update_xaxes(tickangle=45, tickfont=dict(color='crimson', size=14))\n",
    "fig.update_xaxes(showline=True, linewidth=2, linecolor='black', mirror=True, gridcolor='Pink')\n",
    "fig.update_yaxes(showline=True, linewidth=2, linecolor='black', mirror=True, gridcolor='Red')\n",
    "#fig.show()\n",
    "fig.write_html(r'C:\\Users\\eeeeeeeeee\\Documents\\JupyterAnacondaPythonNotebooks\\Daily\\Charts_px\\GSDR_Synergy\\{}.html'.format(FileName))\n",
    "plt.close()"
   ]
  },
  {
   "cell_type": "code",
   "execution_count": 27,
   "metadata": {},
   "outputs": [
    {
     "name": "stdout",
     "output_type": "stream",
     "text": [
      "      DatabaseName SchemaName          TableName\n",
      "1995  GSDR_Synergy       GEMS  SASI_ADIS_MISSING\n"
     ]
    }
   ],
   "source": [
    "d = dfgsdrsyn0023[['DatabaseName', 'SchemaName','TableName']]#.format(z)\n",
    "d = d.drop_duplicates()\n",
    "e = d['DatabaseName'].values[0]\n",
    "f = d['SchemaName'].values[0]\n",
    "g = d['TableName'].values[0]\n",
    "print (d)\n",
    "FileName = ('GSDR_Synergy_{}_{}'.format(f,g))\n",
    "\n",
    "fig = px.scatter(dfgsdrsyn0023, x = 'TodaysDate', y='RecordCount', size = 'RecordCount', color = 'RecordCount')#.format(z)\n",
    "fig.update_layout(title = '{0},{1},{2}'.format(e,f,g))\n",
    "fig.update_layout(yaxis_zeroline=False, xaxis_zeroline=False)\n",
    "fig.update_xaxes(title_font=dict(size=18, color='crimson'))\n",
    "fig.update_yaxes(title_font=dict(size=18, color='crimson'))\n",
    "fig.update_xaxes(ticks=\"inside\")\n",
    "fig.update_yaxes(ticks=\"inside\")\n",
    "fig.update_xaxes(tickangle=45, tickfont=dict(color='crimson', size=14))\n",
    "fig.update_xaxes(showline=True, linewidth=2, linecolor='black', mirror=True, gridcolor='Pink')\n",
    "fig.update_yaxes(showline=True, linewidth=2, linecolor='black', mirror=True, gridcolor='Red')\n",
    "#fig.show()\n",
    "fig.write_html(r'C:\\Users\\eeeeeeeeee\\Documents\\JupyterAnacondaPythonNotebooks\\Daily\\Charts_px\\GSDR_Synergy\\{}.html'.format(FileName))\n",
    "plt.close()"
   ]
  },
  {
   "cell_type": "code",
   "execution_count": 28,
   "metadata": {},
   "outputs": [
    {
     "name": "stdout",
     "output_type": "stream",
     "text": [
      "      DatabaseName SchemaName          TableName\n",
      "2090  GSDR_Synergy       GEMS  SASI_ADIS_SYNERGY\n"
     ]
    }
   ],
   "source": [
    "d = dfgsdrsyn0024[['DatabaseName', 'SchemaName','TableName']]#.format(z)\n",
    "d = d.drop_duplicates()\n",
    "e = d['DatabaseName'].values[0]\n",
    "f = d['SchemaName'].values[0]\n",
    "g = d['TableName'].values[0]\n",
    "print (d)\n",
    "FileName = ('GSDR_Synergy_{}_{}'.format(f,g))\n",
    "\n",
    "fig = px.scatter(dfgsdrsyn0024, x = 'TodaysDate', y='RecordCount', size = 'RecordCount', color = 'RecordCount')#.format(z)\n",
    "fig.update_layout(title = '{0},{1},{2}'.format(e,f,g))\n",
    "fig.update_layout(yaxis_zeroline=False, xaxis_zeroline=False)\n",
    "fig.update_xaxes(title_font=dict(size=18, color='crimson'))\n",
    "fig.update_yaxes(title_font=dict(size=18, color='crimson'))\n",
    "fig.update_xaxes(ticks=\"inside\")\n",
    "fig.update_yaxes(ticks=\"inside\")\n",
    "fig.update_xaxes(tickangle=45, tickfont=dict(color='crimson', size=14))\n",
    "fig.update_xaxes(showline=True, linewidth=2, linecolor='black', mirror=True, gridcolor='Pink')\n",
    "fig.update_yaxes(showline=True, linewidth=2, linecolor='black', mirror=True, gridcolor='Red')\n",
    "#fig.show()\n",
    "fig.write_html(r'C:\\Users\\eeeeeeeeee\\Documents\\JupyterAnacondaPythonNotebooks\\Daily\\Charts_px\\GSDR_Synergy\\{}.html'.format(FileName))\n",
    "plt.close()"
   ]
  },
  {
   "cell_type": "code",
   "execution_count": 29,
   "metadata": {},
   "outputs": [
    {
     "name": "stdout",
     "output_type": "stream",
     "text": [
      "      DatabaseName SchemaName             TableName\n",
      "2185  GSDR_Synergy       GEMS  SASI_ADIS_SYNERGY_KS\n"
     ]
    }
   ],
   "source": [
    "d = dfgsdrsyn0025[['DatabaseName', 'SchemaName','TableName']]#.format(z)\n",
    "d = d.drop_duplicates()\n",
    "e = d['DatabaseName'].values[0]\n",
    "f = d['SchemaName'].values[0]\n",
    "g = d['TableName'].values[0]\n",
    "print (d)\n",
    "FileName = ('GSDR_Synergy_{}_{}'.format(f,g))\n",
    "\n",
    "fig = px.scatter(dfgsdrsyn0025, x = 'TodaysDate', y='RecordCount', size = 'RecordCount', color = 'RecordCount')#.format(z)\n",
    "fig.update_layout(title = '{0},{1},{2}'.format(e,f,g))\n",
    "fig.update_layout(yaxis_zeroline=False, xaxis_zeroline=False)\n",
    "fig.update_xaxes(title_font=dict(size=18, color='crimson'))\n",
    "fig.update_yaxes(title_font=dict(size=18, color='crimson'))\n",
    "fig.update_xaxes(ticks=\"inside\")\n",
    "fig.update_yaxes(ticks=\"inside\")\n",
    "fig.update_xaxes(tickangle=45, tickfont=dict(color='crimson', size=14))\n",
    "fig.update_xaxes(showline=True, linewidth=2, linecolor='black', mirror=True, gridcolor='Pink')\n",
    "fig.update_yaxes(showline=True, linewidth=2, linecolor='black', mirror=True, gridcolor='Red')\n",
    "#fig.show()\n",
    "fig.write_html(r'C:\\Users\\eeeeeeeeee\\Documents\\JupyterAnacondaPythonNotebooks\\Daily\\Charts_px\\GSDR_Synergy\\{}.html'.format(FileName))\n",
    "plt.close()"
   ]
  },
  {
   "cell_type": "code",
   "execution_count": 30,
   "metadata": {},
   "outputs": [
    {
     "name": "stdout",
     "output_type": "stream",
     "text": [
      "      DatabaseName SchemaName  TableName\n",
      "2280  GSDR_Synergy       GEMS  SASI_ADPO\n"
     ]
    }
   ],
   "source": [
    "d = dfgsdrsyn0026[['DatabaseName', 'SchemaName','TableName']]#.format(z)\n",
    "d = d.drop_duplicates()\n",
    "e = d['DatabaseName'].values[0]\n",
    "f = d['SchemaName'].values[0]\n",
    "g = d['TableName'].values[0]\n",
    "print (d)\n",
    "FileName = ('GSDR_Synergy_{}_{}'.format(f,g))\n",
    "\n",
    "fig = px.scatter(dfgsdrsyn0026, x = 'TodaysDate', y='RecordCount', size = 'RecordCount', color = 'RecordCount')#.format(z)\n",
    "fig.update_layout(title = '{0},{1},{2}'.format(e,f,g))\n",
    "fig.update_layout(yaxis_zeroline=False, xaxis_zeroline=False)\n",
    "fig.update_xaxes(title_font=dict(size=18, color='crimson'))\n",
    "fig.update_yaxes(title_font=dict(size=18, color='crimson'))\n",
    "fig.update_xaxes(ticks=\"inside\")\n",
    "fig.update_yaxes(ticks=\"inside\")\n",
    "fig.update_xaxes(tickangle=45, tickfont=dict(color='crimson', size=14))\n",
    "fig.update_xaxes(showline=True, linewidth=2, linecolor='black', mirror=True, gridcolor='Pink')\n",
    "fig.update_yaxes(showline=True, linewidth=2, linecolor='black', mirror=True, gridcolor='Red')\n",
    "#fig.show()\n",
    "fig.write_html(r'C:\\Users\\eeeeeeeeee\\Documents\\JupyterAnacondaPythonNotebooks\\Daily\\Charts_px\\GSDR_Synergy\\{}.html'.format(FileName))\n",
    "plt.close()"
   ]
  },
  {
   "cell_type": "code",
   "execution_count": 31,
   "metadata": {},
   "outputs": [
    {
     "name": "stdout",
     "output_type": "stream",
     "text": [
      "      DatabaseName SchemaName          TableName\n",
      "2375  GSDR_Synergy       GEMS  SASI_ADPO_MISSING\n"
     ]
    }
   ],
   "source": [
    "d = dfgsdrsyn0027[['DatabaseName', 'SchemaName','TableName']]#.format(z)\n",
    "d = d.drop_duplicates()\n",
    "e = d['DatabaseName'].values[0]\n",
    "f = d['SchemaName'].values[0]\n",
    "g = d['TableName'].values[0]\n",
    "print (d)\n",
    "FileName = ('GSDR_Synergy_{}_{}'.format(f,g))\n",
    "\n",
    "fig = px.scatter(dfgsdrsyn0027, x = 'TodaysDate', y='RecordCount', size = 'RecordCount', color = 'RecordCount')#.format(z)\n",
    "fig.update_layout(title = '{0},{1},{2}'.format(e,f,g))\n",
    "fig.update_layout(yaxis_zeroline=False, xaxis_zeroline=False)\n",
    "fig.update_xaxes(title_font=dict(size=18, color='crimson'))\n",
    "fig.update_yaxes(title_font=dict(size=18, color='crimson'))\n",
    "fig.update_xaxes(ticks=\"inside\")\n",
    "fig.update_yaxes(ticks=\"inside\")\n",
    "fig.update_xaxes(tickangle=45, tickfont=dict(color='crimson', size=14))\n",
    "fig.update_xaxes(showline=True, linewidth=2, linecolor='black', mirror=True, gridcolor='Pink')\n",
    "fig.update_yaxes(showline=True, linewidth=2, linecolor='black', mirror=True, gridcolor='Red')\n",
    "#fig.show()\n",
    "fig.write_html(r'C:\\Users\\eeeeeeeeee\\Documents\\JupyterAnacondaPythonNotebooks\\Daily\\Charts_px\\GSDR_Synergy\\{}.html'.format(FileName))\n",
    "plt.close()"
   ]
  },
  {
   "cell_type": "code",
   "execution_count": 32,
   "metadata": {},
   "outputs": [
    {
     "name": "stdout",
     "output_type": "stream",
     "text": [
      "      DatabaseName SchemaName          TableName\n",
      "2470  GSDR_Synergy       GEMS  SASI_ADPO_SYNERGY\n"
     ]
    }
   ],
   "source": [
    "d = dfgsdrsyn0028[['DatabaseName', 'SchemaName','TableName']]#.format(z)\n",
    "d = d.drop_duplicates()\n",
    "e = d['DatabaseName'].values[0]\n",
    "f = d['SchemaName'].values[0]\n",
    "g = d['TableName'].values[0]\n",
    "print (d)\n",
    "FileName = ('GSDR_Synergy_{}_{}'.format(f,g))\n",
    "\n",
    "fig = px.scatter(dfgsdrsyn0028, x = 'TodaysDate', y='RecordCount', size = 'RecordCount', color = 'RecordCount')#.format(z)\n",
    "fig.update_layout(title = '{0},{1},{2}'.format(e,f,g))\n",
    "fig.update_layout(yaxis_zeroline=False, xaxis_zeroline=False)\n",
    "fig.update_xaxes(title_font=dict(size=18, color='crimson'))\n",
    "fig.update_yaxes(title_font=dict(size=18, color='crimson'))\n",
    "fig.update_xaxes(ticks=\"inside\")\n",
    "fig.update_yaxes(ticks=\"inside\")\n",
    "fig.update_xaxes(tickangle=45, tickfont=dict(color='crimson', size=14))\n",
    "fig.update_xaxes(showline=True, linewidth=2, linecolor='black', mirror=True, gridcolor='Pink')\n",
    "fig.update_yaxes(showline=True, linewidth=2, linecolor='black', mirror=True, gridcolor='Red')\n",
    "#fig.show()\n",
    "fig.write_html(r'C:\\Users\\eeeeeeeeee\\Documents\\JupyterAnacondaPythonNotebooks\\Daily\\Charts_px\\GSDR_Synergy\\{}.html'.format(FileName))\n",
    "plt.close()"
   ]
  },
  {
   "cell_type": "code",
   "execution_count": 33,
   "metadata": {},
   "outputs": [
    {
     "name": "stdout",
     "output_type": "stream",
     "text": [
      "      DatabaseName SchemaName             TableName\n",
      "2565  GSDR_Synergy       GEMS  SASI_ADPO_SYNERGY_KS\n"
     ]
    }
   ],
   "source": [
    "d = dfgsdrsyn0029[['DatabaseName', 'SchemaName','TableName']]#.format(z)\n",
    "d = d.drop_duplicates()\n",
    "e = d['DatabaseName'].values[0]\n",
    "f = d['SchemaName'].values[0]\n",
    "g = d['TableName'].values[0]\n",
    "print (d)\n",
    "FileName = ('GSDR_Synergy_{}_{}'.format(f,g))\n",
    "\n",
    "fig = px.scatter(dfgsdrsyn0029, x = 'TodaysDate', y='RecordCount', size = 'RecordCount', color = 'RecordCount')#.format(z)\n",
    "fig.update_layout(title = '{0},{1},{2}'.format(e,f,g))\n",
    "fig.update_layout(yaxis_zeroline=False, xaxis_zeroline=False)\n",
    "fig.update_xaxes(title_font=dict(size=18, color='crimson'))\n",
    "fig.update_yaxes(title_font=dict(size=18, color='crimson'))\n",
    "fig.update_xaxes(ticks=\"inside\")\n",
    "fig.update_yaxes(ticks=\"inside\")\n",
    "fig.update_xaxes(tickangle=45, tickfont=dict(color='crimson', size=14))\n",
    "fig.update_xaxes(showline=True, linewidth=2, linecolor='black', mirror=True, gridcolor='Pink')\n",
    "fig.update_yaxes(showline=True, linewidth=2, linecolor='black', mirror=True, gridcolor='Red')\n",
    "#fig.show()\n",
    "fig.write_html(r'C:\\Users\\eeeeeeeeee\\Documents\\JupyterAnacondaPythonNotebooks\\Daily\\Charts_px\\GSDR_Synergy\\{}.html'.format(FileName))\n",
    "plt.close()"
   ]
  },
  {
   "cell_type": "code",
   "execution_count": 34,
   "metadata": {},
   "outputs": [
    {
     "name": "stdout",
     "output_type": "stream",
     "text": [
      "      DatabaseName SchemaName  TableName\n",
      "2660  GSDR_Synergy       GEMS  SASI_ADST\n"
     ]
    }
   ],
   "source": [
    "d = dfgsdrsyn0030[['DatabaseName', 'SchemaName','TableName']]#.format(z)\n",
    "d = d.drop_duplicates()\n",
    "e = d['DatabaseName'].values[0]\n",
    "f = d['SchemaName'].values[0]\n",
    "g = d['TableName'].values[0]\n",
    "print (d)\n",
    "FileName = ('GSDR_Synergy_{}_{}'.format(f,g))\n",
    "\n",
    "fig = px.scatter(dfgsdrsyn0030, x = 'TodaysDate', y='RecordCount', size = 'RecordCount', color = 'RecordCount')#.format(z)\n",
    "fig.update_layout(title = '{0},{1},{2}'.format(e,f,g))\n",
    "fig.update_layout(yaxis_zeroline=False, xaxis_zeroline=False)\n",
    "fig.update_xaxes(title_font=dict(size=18, color='crimson'))\n",
    "fig.update_yaxes(title_font=dict(size=18, color='crimson'))\n",
    "fig.update_xaxes(ticks=\"inside\")\n",
    "fig.update_yaxes(ticks=\"inside\")\n",
    "fig.update_xaxes(tickangle=45, tickfont=dict(color='crimson', size=14))\n",
    "fig.update_xaxes(showline=True, linewidth=2, linecolor='black', mirror=True, gridcolor='Pink')\n",
    "fig.update_yaxes(showline=True, linewidth=2, linecolor='black', mirror=True, gridcolor='Red')\n",
    "#fig.show()\n",
    "fig.write_html(r'C:\\Users\\eeeeeeeeee\\Documents\\JupyterAnacondaPythonNotebooks\\Daily\\Charts_px\\GSDR_Synergy\\{}.html'.format(FileName))\n",
    "plt.close()"
   ]
  },
  {
   "cell_type": "code",
   "execution_count": 35,
   "metadata": {},
   "outputs": [
    {
     "name": "stdout",
     "output_type": "stream",
     "text": [
      "      DatabaseName SchemaName               TableName\n",
      "2755  GSDR_Synergy       GEMS  SASI_ADST_NEXT_SYNERGY\n"
     ]
    }
   ],
   "source": [
    "d = dfgsdrsyn0031[['DatabaseName', 'SchemaName','TableName']]#.format(z)\n",
    "d = d.drop_duplicates()\n",
    "e = d['DatabaseName'].values[0]\n",
    "f = d['SchemaName'].values[0]\n",
    "g = d['TableName'].values[0]\n",
    "print (d)\n",
    "FileName = ('GSDR_Synergy_{}_{}'.format(f,g))\n",
    "\n",
    "fig = px.scatter(dfgsdrsyn0031, x = 'TodaysDate', y='RecordCount', size = 'RecordCount', color = 'RecordCount')#.format(z)\n",
    "fig.update_layout(title = '{0},{1},{2}'.format(e,f,g))\n",
    "fig.update_layout(yaxis_zeroline=False, xaxis_zeroline=False)\n",
    "fig.update_xaxes(title_font=dict(size=18, color='crimson'))\n",
    "fig.update_yaxes(title_font=dict(size=18, color='crimson'))\n",
    "fig.update_xaxes(ticks=\"inside\")\n",
    "fig.update_yaxes(ticks=\"inside\")\n",
    "fig.update_xaxes(tickangle=45, tickfont=dict(color='crimson', size=14))\n",
    "fig.update_xaxes(showline=True, linewidth=2, linecolor='black', mirror=True, gridcolor='Pink')\n",
    "fig.update_yaxes(showline=True, linewidth=2, linecolor='black', mirror=True, gridcolor='Red')\n",
    "#fig.show()\n",
    "fig.write_html(r'C:\\Users\\eeeeeeeeee\\Documents\\JupyterAnacondaPythonNotebooks\\Daily\\Charts_px\\GSDR_Synergy\\{}.html'.format(FileName))\n",
    "plt.close()"
   ]
  },
  {
   "cell_type": "code",
   "execution_count": 36,
   "metadata": {},
   "outputs": [
    {
     "name": "stdout",
     "output_type": "stream",
     "text": [
      "      DatabaseName SchemaName          TableName\n",
      "2850  GSDR_Synergy       GEMS  SASI_ADST_SYNERGY\n"
     ]
    }
   ],
   "source": [
    "d = dfgsdrsyn0032[['DatabaseName', 'SchemaName','TableName']]#.format(z)\n",
    "d = d.drop_duplicates()\n",
    "e = d['DatabaseName'].values[0]\n",
    "f = d['SchemaName'].values[0]\n",
    "g = d['TableName'].values[0]\n",
    "print (d)\n",
    "FileName = ('GSDR_Synergy_{}_{}'.format(f,g))\n",
    "\n",
    "fig = px.scatter(dfgsdrsyn0032, x = 'TodaysDate', y='RecordCount', size = 'RecordCount', color = 'RecordCount')#.format(z)\n",
    "fig.update_layout(title = '{0},{1},{2}'.format(e,f,g))\n",
    "fig.update_layout(yaxis_zeroline=False, xaxis_zeroline=False)\n",
    "fig.update_xaxes(title_font=dict(size=18, color='crimson'))\n",
    "fig.update_yaxes(title_font=dict(size=18, color='crimson'))\n",
    "fig.update_xaxes(ticks=\"inside\")\n",
    "fig.update_yaxes(ticks=\"inside\")\n",
    "fig.update_xaxes(tickangle=45, tickfont=dict(color='crimson', size=14))\n",
    "fig.update_xaxes(showline=True, linewidth=2, linecolor='black', mirror=True, gridcolor='Pink')\n",
    "fig.update_yaxes(showline=True, linewidth=2, linecolor='black', mirror=True, gridcolor='Red')\n",
    "#fig.show()\n",
    "fig.write_html(r'C:\\Users\\eeeeeeeeee\\Documents\\JupyterAnacondaPythonNotebooks\\Daily\\Charts_px\\GSDR_Synergy\\{}.html'.format(FileName))\n",
    "plt.close()"
   ]
  },
  {
   "cell_type": "code",
   "execution_count": 37,
   "metadata": {},
   "outputs": [
    {
     "name": "stdout",
     "output_type": "stream",
     "text": [
      "      DatabaseName SchemaName          TableName\n",
      "2945  GSDR_Synergy       GEMS  SASI_AELT_SYNERGY\n"
     ]
    }
   ],
   "source": [
    "d = dfgsdrsyn0033[['DatabaseName', 'SchemaName','TableName']]#.format(z)\n",
    "d = d.drop_duplicates()\n",
    "e = d['DatabaseName'].values[0]\n",
    "f = d['SchemaName'].values[0]\n",
    "g = d['TableName'].values[0]\n",
    "print (d)\n",
    "FileName = ('GSDR_Synergy_{}_{}'.format(f,g))\n",
    "\n",
    "fig = px.scatter(dfgsdrsyn0033, x = 'TodaysDate', y='RecordCount', size = 'RecordCount', color = 'RecordCount')#.format(z)\n",
    "fig.update_layout(title = '{0},{1},{2}'.format(e,f,g))\n",
    "fig.update_layout(yaxis_zeroline=False, xaxis_zeroline=False)\n",
    "fig.update_xaxes(title_font=dict(size=18, color='crimson'))\n",
    "fig.update_yaxes(title_font=dict(size=18, color='crimson'))\n",
    "fig.update_xaxes(ticks=\"inside\")\n",
    "fig.update_yaxes(ticks=\"inside\")\n",
    "fig.update_xaxes(tickangle=45, tickfont=dict(color='crimson', size=14))\n",
    "fig.update_xaxes(showline=True, linewidth=2, linecolor='black', mirror=True, gridcolor='Pink')\n",
    "fig.update_yaxes(showline=True, linewidth=2, linecolor='black', mirror=True, gridcolor='Red')\n",
    "#fig.show()\n",
    "fig.write_html(r'C:\\Users\\eeeeeeeeee\\Documents\\JupyterAnacondaPythonNotebooks\\Daily\\Charts_px\\GSDR_Synergy\\{}.html'.format(FileName))\n",
    "plt.close()"
   ]
  },
  {
   "cell_type": "code",
   "execution_count": 38,
   "metadata": {},
   "outputs": [
    {
     "name": "stdout",
     "output_type": "stream",
     "text": [
      "      DatabaseName SchemaName          TableName\n",
      "3040  GSDR_Synergy       GEMS  SASI_AEMG_SYNERGY\n"
     ]
    }
   ],
   "source": [
    "d = dfgsdrsyn0034[['DatabaseName', 'SchemaName','TableName']]#.format(z)\n",
    "d = d.drop_duplicates()\n",
    "e = d['DatabaseName'].values[0]\n",
    "f = d['SchemaName'].values[0]\n",
    "g = d['TableName'].values[0]\n",
    "print (d)\n",
    "FileName = ('GSDR_Synergy_{}_{}'.format(f,g))\n",
    "\n",
    "fig = px.scatter(dfgsdrsyn0034, x = 'TodaysDate', y='RecordCount', size = 'RecordCount', color = 'RecordCount')#.format(z)\n",
    "fig.update_layout(title = '{0},{1},{2}'.format(e,f,g))\n",
    "fig.update_layout(yaxis_zeroline=False, xaxis_zeroline=False)\n",
    "fig.update_xaxes(title_font=dict(size=18, color='crimson'))\n",
    "fig.update_yaxes(title_font=dict(size=18, color='crimson'))\n",
    "fig.update_xaxes(ticks=\"inside\")\n",
    "fig.update_yaxes(ticks=\"inside\")\n",
    "fig.update_xaxes(tickangle=45, tickfont=dict(color='crimson', size=14))\n",
    "fig.update_xaxes(showline=True, linewidth=2, linecolor='black', mirror=True, gridcolor='Pink')\n",
    "fig.update_yaxes(showline=True, linewidth=2, linecolor='black', mirror=True, gridcolor='Red')\n",
    "#fig.show()\n",
    "fig.write_html(r'C:\\Users\\eeeeeeeeee\\Documents\\JupyterAnacondaPythonNotebooks\\Daily\\Charts_px\\GSDR_Synergy\\{}.html'.format(FileName))\n",
    "plt.close()"
   ]
  },
  {
   "cell_type": "code",
   "execution_count": 39,
   "metadata": {},
   "outputs": [
    {
     "name": "stdout",
     "output_type": "stream",
     "text": [
      "      DatabaseName SchemaName  TableName\n",
      "3135  GSDR_Synergy       GEMS  SASI_AENR\n"
     ]
    }
   ],
   "source": [
    "d = dfgsdrsyn0035[['DatabaseName', 'SchemaName','TableName']]#.format(z)\n",
    "d = d.drop_duplicates()\n",
    "e = d['DatabaseName'].values[0]\n",
    "f = d['SchemaName'].values[0]\n",
    "g = d['TableName'].values[0]\n",
    "print (d)\n",
    "FileName = ('GSDR_Synergy_{}_{}'.format(f,g))\n",
    "\n",
    "fig = px.scatter(dfgsdrsyn0035, x = 'TodaysDate', y='RecordCount', size = 'RecordCount', color = 'RecordCount')#.format(z)\n",
    "fig.update_layout(title = '{0},{1},{2}'.format(e,f,g))\n",
    "fig.update_layout(yaxis_zeroline=False, xaxis_zeroline=False)\n",
    "fig.update_xaxes(title_font=dict(size=18, color='crimson'))\n",
    "fig.update_yaxes(title_font=dict(size=18, color='crimson'))\n",
    "fig.update_xaxes(ticks=\"inside\")\n",
    "fig.update_yaxes(ticks=\"inside\")\n",
    "fig.update_xaxes(tickangle=45, tickfont=dict(color='crimson', size=14))\n",
    "fig.update_xaxes(showline=True, linewidth=2, linecolor='black', mirror=True, gridcolor='Pink')\n",
    "fig.update_yaxes(showline=True, linewidth=2, linecolor='black', mirror=True, gridcolor='Red')\n",
    "#fig.show()\n",
    "fig.write_html(r'C:\\Users\\eeeeeeeeee\\Documents\\JupyterAnacondaPythonNotebooks\\Daily\\Charts_px\\GSDR_Synergy\\{}.html'.format(FileName))\n",
    "plt.close()"
   ]
  },
  {
   "cell_type": "code",
   "execution_count": 40,
   "metadata": {},
   "outputs": [
    {
     "name": "stdout",
     "output_type": "stream",
     "text": [
      "      DatabaseName SchemaName    TableName\n",
      "3230  GSDR_Synergy       GEMS  SASI_AENR_C\n"
     ]
    }
   ],
   "source": [
    "d = dfgsdrsyn0036[['DatabaseName', 'SchemaName','TableName']]#.format(z)\n",
    "d = d.drop_duplicates()\n",
    "e = d['DatabaseName'].values[0]\n",
    "f = d['SchemaName'].values[0]\n",
    "g = d['TableName'].values[0]\n",
    "print (d)\n",
    "FileName = ('GSDR_Synergy_{}_{}'.format(f,g))\n",
    "\n",
    "fig = px.scatter(dfgsdrsyn0036, x = 'TodaysDate', y='RecordCount', size = 'RecordCount', color = 'RecordCount')#.format(z)\n",
    "fig.update_layout(title = '{0},{1},{2}'.format(e,f,g))\n",
    "fig.update_layout(yaxis_zeroline=False, xaxis_zeroline=False)\n",
    "fig.update_xaxes(title_font=dict(size=18, color='crimson'))\n",
    "fig.update_yaxes(title_font=dict(size=18, color='crimson'))\n",
    "fig.update_xaxes(ticks=\"inside\")\n",
    "fig.update_yaxes(ticks=\"inside\")\n",
    "fig.update_xaxes(tickangle=45, tickfont=dict(color='crimson', size=14))\n",
    "fig.update_xaxes(showline=True, linewidth=2, linecolor='black', mirror=True, gridcolor='Pink')\n",
    "fig.update_yaxes(showline=True, linewidth=2, linecolor='black', mirror=True, gridcolor='Red')\n",
    "#fig.show()\n",
    "fig.write_html(r'C:\\Users\\eeeeeeeeee\\Documents\\JupyterAnacondaPythonNotebooks\\Daily\\Charts_px\\GSDR_Synergy\\{}.html'.format(FileName))\n",
    "plt.close()"
   ]
  },
  {
   "cell_type": "code",
   "execution_count": 41,
   "metadata": {},
   "outputs": [
    {
     "name": "stdout",
     "output_type": "stream",
     "text": [
      "      DatabaseName SchemaName                      TableName\n",
      "3325  GSDR_Synergy       GEMS  SASI_AENR_NON_ADA_ADM_SYNERGY\n"
     ]
    }
   ],
   "source": [
    "d = dfgsdrsyn0037[['DatabaseName', 'SchemaName','TableName']]#.format(z)\n",
    "d = d.drop_duplicates()\n",
    "e = d['DatabaseName'].values[0]\n",
    "f = d['SchemaName'].values[0]\n",
    "g = d['TableName'].values[0]\n",
    "print (d)\n",
    "FileName = ('GSDR_Synergy_{}_{}'.format(f,g))\n",
    "\n",
    "fig = px.scatter(dfgsdrsyn0037, x = 'TodaysDate', y='RecordCount', size = 'RecordCount', color = 'RecordCount')#.format(z)\n",
    "fig.update_layout(title = '{0},{1},{2}'.format(e,f,g))\n",
    "fig.update_layout(yaxis_zeroline=False, xaxis_zeroline=False)\n",
    "fig.update_xaxes(title_font=dict(size=18, color='crimson'))\n",
    "fig.update_yaxes(title_font=dict(size=18, color='crimson'))\n",
    "fig.update_xaxes(ticks=\"inside\")\n",
    "fig.update_yaxes(ticks=\"inside\")\n",
    "fig.update_xaxes(tickangle=45, tickfont=dict(color='crimson', size=14))\n",
    "fig.update_xaxes(showline=True, linewidth=2, linecolor='black', mirror=True, gridcolor='Pink')\n",
    "fig.update_yaxes(showline=True, linewidth=2, linecolor='black', mirror=True, gridcolor='Red')\n",
    "#fig.show()\n",
    "fig.write_html(r'C:\\Users\\eeeeeeeeee\\Documents\\JupyterAnacondaPythonNotebooks\\Daily\\Charts_px\\GSDR_Synergy\\{}.html'.format(FileName))\n",
    "plt.close()"
   ]
  },
  {
   "cell_type": "code",
   "execution_count": 42,
   "metadata": {},
   "outputs": [
    {
     "name": "stdout",
     "output_type": "stream",
     "text": [
      "      DatabaseName SchemaName          TableName\n",
      "3420  GSDR_Synergy       GEMS  SASI_AENR_SYNERGY\n"
     ]
    }
   ],
   "source": [
    "d = dfgsdrsyn0038[['DatabaseName', 'SchemaName','TableName']]#.format(z)\n",
    "d = d.drop_duplicates()\n",
    "e = d['DatabaseName'].values[0]\n",
    "f = d['SchemaName'].values[0]\n",
    "g = d['TableName'].values[0]\n",
    "print (d)\n",
    "FileName = ('GSDR_Synergy_{}_{}'.format(f,g))\n",
    "\n",
    "fig = px.scatter(dfgsdrsyn0038, x = 'TodaysDate', y='RecordCount', size = 'RecordCount', color = 'RecordCount')#.format(z)\n",
    "fig.update_layout(title = '{0},{1},{2}'.format(e,f,g))\n",
    "fig.update_layout(yaxis_zeroline=False, xaxis_zeroline=False)\n",
    "fig.update_xaxes(title_font=dict(size=18, color='crimson'))\n",
    "fig.update_yaxes(title_font=dict(size=18, color='crimson'))\n",
    "fig.update_xaxes(ticks=\"inside\")\n",
    "fig.update_yaxes(ticks=\"inside\")\n",
    "fig.update_xaxes(tickangle=45, tickfont=dict(color='crimson', size=14))\n",
    "fig.update_xaxes(showline=True, linewidth=2, linecolor='black', mirror=True, gridcolor='Pink')\n",
    "fig.update_yaxes(showline=True, linewidth=2, linecolor='black', mirror=True, gridcolor='Red')\n",
    "#fig.show()\n",
    "fig.write_html(r'C:\\Users\\eeeeeeeeee\\Documents\\JupyterAnacondaPythonNotebooks\\Daily\\Charts_px\\GSDR_Synergy\\{}.html'.format(FileName))\n",
    "plt.close()"
   ]
  },
  {
   "cell_type": "code",
   "execution_count": 43,
   "metadata": {},
   "outputs": [
    {
     "name": "stdout",
     "output_type": "stream",
     "text": [
      "      DatabaseName SchemaName          TableName\n",
      "3515  GSDR_Synergy       GEMS  SASI_AFEE_SYNERGY\n"
     ]
    }
   ],
   "source": [
    "d = dfgsdrsyn0039[['DatabaseName', 'SchemaName','TableName']]#.format(z)\n",
    "d = d.drop_duplicates()\n",
    "e = d['DatabaseName'].values[0]\n",
    "f = d['SchemaName'].values[0]\n",
    "g = d['TableName'].values[0]\n",
    "print (d)\n",
    "FileName = ('GSDR_Synergy_{}_{}'.format(f,g))\n",
    "\n",
    "fig = px.scatter(dfgsdrsyn0039, x = 'TodaysDate', y='RecordCount', size = 'RecordCount', color = 'RecordCount')#.format(z)\n",
    "fig.update_layout(title = '{0},{1},{2}'.format(e,f,g))\n",
    "fig.update_layout(yaxis_zeroline=False, xaxis_zeroline=False)\n",
    "fig.update_xaxes(title_font=dict(size=18, color='crimson'))\n",
    "fig.update_yaxes(title_font=dict(size=18, color='crimson'))\n",
    "fig.update_xaxes(ticks=\"inside\")\n",
    "fig.update_yaxes(ticks=\"inside\")\n",
    "fig.update_xaxes(tickangle=45, tickfont=dict(color='crimson', size=14))\n",
    "fig.update_xaxes(showline=True, linewidth=2, linecolor='black', mirror=True, gridcolor='Pink')\n",
    "fig.update_yaxes(showline=True, linewidth=2, linecolor='black', mirror=True, gridcolor='Red')\n",
    "#fig.show()\n",
    "fig.write_html(r'C:\\Users\\eeeeeeeeee\\Documents\\JupyterAnacondaPythonNotebooks\\Daily\\Charts_px\\GSDR_Synergy\\{}.html'.format(FileName))\n",
    "plt.close()"
   ]
  },
  {
   "cell_type": "code",
   "execution_count": 44,
   "metadata": {},
   "outputs": [
    {
     "name": "stdout",
     "output_type": "stream",
     "text": [
      "      DatabaseName SchemaName          TableName\n",
      "3610  GSDR_Synergy       GEMS  SASI_AFID_SYNERGY\n"
     ]
    }
   ],
   "source": [
    "d = dfgsdrsyn0040[['DatabaseName', 'SchemaName','TableName']]#.format(z)\n",
    "d = d.drop_duplicates()\n",
    "e = d['DatabaseName'].values[0]\n",
    "f = d['SchemaName'].values[0]\n",
    "g = d['TableName'].values[0]\n",
    "print (d)\n",
    "FileName = ('GSDR_Synergy_{}_{}'.format(f,g))\n",
    "\n",
    "fig = px.scatter(dfgsdrsyn0040, x = 'TodaysDate', y='RecordCount', size = 'RecordCount', color = 'RecordCount')#.format(z)\n",
    "fig.update_layout(title = '{0},{1},{2}'.format(e,f,g))\n",
    "fig.update_layout(yaxis_zeroline=False, xaxis_zeroline=False)\n",
    "fig.update_xaxes(title_font=dict(size=18, color='crimson'))\n",
    "fig.update_yaxes(title_font=dict(size=18, color='crimson'))\n",
    "fig.update_xaxes(ticks=\"inside\")\n",
    "fig.update_yaxes(ticks=\"inside\")\n",
    "fig.update_xaxes(tickangle=45, tickfont=dict(color='crimson', size=14))\n",
    "fig.update_xaxes(showline=True, linewidth=2, linecolor='black', mirror=True, gridcolor='Pink')\n",
    "fig.update_yaxes(showline=True, linewidth=2, linecolor='black', mirror=True, gridcolor='Red')\n",
    "#fig.show()\n",
    "fig.write_html(r'C:\\Users\\eeeeeeeeee\\Documents\\JupyterAnacondaPythonNotebooks\\Daily\\Charts_px\\GSDR_Synergy\\{}.html'.format(FileName))\n",
    "plt.close()"
   ]
  },
  {
   "cell_type": "code",
   "execution_count": 45,
   "metadata": {},
   "outputs": [
    {
     "name": "stdout",
     "output_type": "stream",
     "text": [
      "      DatabaseName SchemaName          TableName\n",
      "3705  GSDR_Synergy       GEMS  SASI_AHLT_SYNERGY\n"
     ]
    }
   ],
   "source": [
    "d = dfgsdrsyn0041[['DatabaseName', 'SchemaName','TableName']]#.format(z)\n",
    "d = d.drop_duplicates()\n",
    "e = d['DatabaseName'].values[0]\n",
    "f = d['SchemaName'].values[0]\n",
    "g = d['TableName'].values[0]\n",
    "print (d)\n",
    "FileName = ('GSDR_Synergy_{}_{}'.format(f,g))\n",
    "\n",
    "fig = px.scatter(dfgsdrsyn0041, x = 'TodaysDate', y='RecordCount', size = 'RecordCount', color = 'RecordCount')#.format(z)\n",
    "fig.update_layout(title = '{0},{1},{2}'.format(e,f,g))\n",
    "fig.update_layout(yaxis_zeroline=False, xaxis_zeroline=False)\n",
    "fig.update_xaxes(title_font=dict(size=18, color='crimson'))\n",
    "fig.update_yaxes(title_font=dict(size=18, color='crimson'))\n",
    "fig.update_xaxes(ticks=\"inside\")\n",
    "fig.update_yaxes(ticks=\"inside\")\n",
    "fig.update_xaxes(tickangle=45, tickfont=dict(color='crimson', size=14))\n",
    "fig.update_xaxes(showline=True, linewidth=2, linecolor='black', mirror=True, gridcolor='Pink')\n",
    "fig.update_yaxes(showline=True, linewidth=2, linecolor='black', mirror=True, gridcolor='Red')\n",
    "#fig.show()\n",
    "fig.write_html(r'C:\\Users\\eeeeeeeeee\\Documents\\JupyterAnacondaPythonNotebooks\\Daily\\Charts_px\\GSDR_Synergy\\{}.html'.format(FileName))\n",
    "plt.close()"
   ]
  },
  {
   "cell_type": "code",
   "execution_count": 46,
   "metadata": {},
   "outputs": [
    {
     "name": "stdout",
     "output_type": "stream",
     "text": [
      "      DatabaseName SchemaName          TableName\n",
      "3800  GSDR_Synergy       GEMS  SASI_ALKR_SYNERGY\n"
     ]
    }
   ],
   "source": [
    "d = dfgsdrsyn0042[['DatabaseName', 'SchemaName','TableName']]#.format(z)\n",
    "d = d.drop_duplicates()\n",
    "e = d['DatabaseName'].values[0]\n",
    "f = d['SchemaName'].values[0]\n",
    "g = d['TableName'].values[0]\n",
    "print (d)\n",
    "FileName = ('GSDR_Synergy_{}_{}'.format(f,g))\n",
    "\n",
    "fig = px.scatter(dfgsdrsyn0042, x = 'TodaysDate', y='RecordCount', size = 'RecordCount', color = 'RecordCount')#.format(z)\n",
    "fig.update_layout(title = '{0},{1},{2}'.format(e,f,g))\n",
    "fig.update_layout(yaxis_zeroline=False, xaxis_zeroline=False)\n",
    "fig.update_xaxes(title_font=dict(size=18, color='crimson'))\n",
    "fig.update_yaxes(title_font=dict(size=18, color='crimson'))\n",
    "fig.update_xaxes(ticks=\"inside\")\n",
    "fig.update_yaxes(ticks=\"inside\")\n",
    "fig.update_xaxes(tickangle=45, tickfont=dict(color='crimson', size=14))\n",
    "fig.update_xaxes(showline=True, linewidth=2, linecolor='black', mirror=True, gridcolor='Pink')\n",
    "fig.update_yaxes(showline=True, linewidth=2, linecolor='black', mirror=True, gridcolor='Red')\n",
    "#fig.show()\n",
    "fig.write_html(r'C:\\Users\\eeeeeeeeee\\Documents\\JupyterAnacondaPythonNotebooks\\Daily\\Charts_px\\GSDR_Synergy\\{}.html'.format(FileName))\n",
    "plt.close()"
   ]
  },
  {
   "cell_type": "code",
   "execution_count": 47,
   "metadata": {},
   "outputs": [
    {
     "name": "stdout",
     "output_type": "stream",
     "text": [
      "      DatabaseName SchemaName          TableName\n",
      "3895  GSDR_Synergy       GEMS  SASI_ALRT_SYNERGY\n"
     ]
    }
   ],
   "source": [
    "d = dfgsdrsyn0043[['DatabaseName', 'SchemaName','TableName']]#.format(z)\n",
    "d = d.drop_duplicates()\n",
    "e = d['DatabaseName'].values[0]\n",
    "f = d['SchemaName'].values[0]\n",
    "g = d['TableName'].values[0]\n",
    "print (d)\n",
    "FileName = ('GSDR_Synergy_{}_{}'.format(f,g))\n",
    "\n",
    "fig = px.scatter(dfgsdrsyn0043, x = 'TodaysDate', y='RecordCount', size = 'RecordCount', color = 'RecordCount')#.format(z)\n",
    "fig.update_layout(title = '{0},{1},{2}'.format(e,f,g))\n",
    "fig.update_layout(yaxis_zeroline=False, xaxis_zeroline=False)\n",
    "fig.update_xaxes(title_font=dict(size=18, color='crimson'))\n",
    "fig.update_yaxes(title_font=dict(size=18, color='crimson'))\n",
    "fig.update_xaxes(ticks=\"inside\")\n",
    "fig.update_yaxes(ticks=\"inside\")\n",
    "fig.update_xaxes(tickangle=45, tickfont=dict(color='crimson', size=14))\n",
    "fig.update_xaxes(showline=True, linewidth=2, linecolor='black', mirror=True, gridcolor='Pink')\n",
    "fig.update_yaxes(showline=True, linewidth=2, linecolor='black', mirror=True, gridcolor='Red')\n",
    "#fig.show()\n",
    "fig.write_html(r'C:\\Users\\eeeeeeeeee\\Documents\\JupyterAnacondaPythonNotebooks\\Daily\\Charts_px\\GSDR_Synergy\\{}.html'.format(FileName))\n",
    "plt.close()"
   ]
  },
  {
   "cell_type": "code",
   "execution_count": 48,
   "metadata": {},
   "outputs": [
    {
     "name": "stdout",
     "output_type": "stream",
     "text": [
      "      DatabaseName SchemaName               TableName\n",
      "3990  GSDR_Synergy       GEMS  SASI_AMST_ADDL_STF_STU\n"
     ]
    }
   ],
   "source": [
    "d = dfgsdrsyn0044[['DatabaseName', 'SchemaName','TableName']]#.format(z)\n",
    "d = d.drop_duplicates()\n",
    "e = d['DatabaseName'].values[0]\n",
    "f = d['SchemaName'].values[0]\n",
    "g = d['TableName'].values[0]\n",
    "print (d)\n",
    "FileName = ('GSDR_Synergy_{}_{}'.format(f,g))\n",
    "\n",
    "fig = px.scatter(dfgsdrsyn0044, x = 'TodaysDate', y='RecordCount', size = 'RecordCount', color = 'RecordCount')#.format(z)\n",
    "fig.update_layout(title = '{0},{1},{2}'.format(e,f,g))\n",
    "fig.update_layout(yaxis_zeroline=False, xaxis_zeroline=False)\n",
    "fig.update_xaxes(title_font=dict(size=18, color='crimson'))\n",
    "fig.update_yaxes(title_font=dict(size=18, color='crimson'))\n",
    "fig.update_xaxes(ticks=\"inside\")\n",
    "fig.update_yaxes(ticks=\"inside\")\n",
    "fig.update_xaxes(tickangle=45, tickfont=dict(color='crimson', size=14))\n",
    "fig.update_xaxes(showline=True, linewidth=2, linecolor='black', mirror=True, gridcolor='Pink')\n",
    "fig.update_yaxes(showline=True, linewidth=2, linecolor='black', mirror=True, gridcolor='Red')\n",
    "#fig.show()\n",
    "fig.write_html(r'C:\\Users\\eeeeeeeeee\\Documents\\JupyterAnacondaPythonNotebooks\\Daily\\Charts_px\\GSDR_Synergy\\{}.html'.format(FileName))\n",
    "plt.close()"
   ]
  },
  {
   "cell_type": "code",
   "execution_count": 49,
   "metadata": {},
   "outputs": [
    {
     "name": "stdout",
     "output_type": "stream",
     "text": [
      "      DatabaseName SchemaName               TableName\n",
      "4035  GSDR_Synergy       GEMS  SASI_AMST_NEXT_SYNERGY\n"
     ]
    }
   ],
   "source": [
    "d = dfgsdrsyn0045[['DatabaseName', 'SchemaName','TableName']]#.format(z)\n",
    "d = d.drop_duplicates()\n",
    "e = d['DatabaseName'].values[0]\n",
    "f = d['SchemaName'].values[0]\n",
    "g = d['TableName'].values[0]\n",
    "print (d)\n",
    "FileName = ('GSDR_Synergy_{}_{}'.format(f,g))\n",
    "\n",
    "fig = px.scatter(dfgsdrsyn0045, x = 'TodaysDate', y='RecordCount', size = 'RecordCount', color = 'RecordCount')#.format(z)\n",
    "fig.update_layout(title = '{0},{1},{2}'.format(e,f,g))\n",
    "fig.update_layout(yaxis_zeroline=False, xaxis_zeroline=False)\n",
    "fig.update_xaxes(title_font=dict(size=18, color='crimson'))\n",
    "fig.update_yaxes(title_font=dict(size=18, color='crimson'))\n",
    "fig.update_xaxes(ticks=\"inside\")\n",
    "fig.update_yaxes(ticks=\"inside\")\n",
    "fig.update_xaxes(tickangle=45, tickfont=dict(color='crimson', size=14))\n",
    "fig.update_xaxes(showline=True, linewidth=2, linecolor='black', mirror=True, gridcolor='Pink')\n",
    "fig.update_yaxes(showline=True, linewidth=2, linecolor='black', mirror=True, gridcolor='Red')\n",
    "#fig.show()\n",
    "fig.write_html(r'C:\\Users\\eeeeeeeeee\\Documents\\JupyterAnacondaPythonNotebooks\\Daily\\Charts_px\\GSDR_Synergy\\{}.html'.format(FileName))\n",
    "plt.close()"
   ]
  },
  {
   "cell_type": "code",
   "execution_count": 50,
   "metadata": {},
   "outputs": [
    {
     "name": "stdout",
     "output_type": "stream",
     "text": [
      "      DatabaseName SchemaName           TableName\n",
      "4130  GSDR_Synergy       GEMS  SASI_AMST_SECT_STF\n"
     ]
    }
   ],
   "source": [
    "d = dfgsdrsyn0046[['DatabaseName', 'SchemaName','TableName']]#.format(z)\n",
    "d = d.drop_duplicates()\n",
    "e = d['DatabaseName'].values[0]\n",
    "f = d['SchemaName'].values[0]\n",
    "g = d['TableName'].values[0]\n",
    "print (d)\n",
    "FileName = ('GSDR_Synergy_{}_{}'.format(f,g))\n",
    "\n",
    "fig = px.scatter(dfgsdrsyn0046, x = 'TodaysDate', y='RecordCount', size = 'RecordCount', color = 'RecordCount')#.format(z)\n",
    "fig.update_layout(title = '{0},{1},{2}'.format(e,f,g))\n",
    "fig.update_layout(yaxis_zeroline=False, xaxis_zeroline=False)\n",
    "fig.update_xaxes(title_font=dict(size=18, color='crimson'))\n",
    "fig.update_yaxes(title_font=dict(size=18, color='crimson'))\n",
    "fig.update_xaxes(ticks=\"inside\")\n",
    "fig.update_yaxes(ticks=\"inside\")\n",
    "fig.update_xaxes(tickangle=45, tickfont=dict(color='crimson', size=14))\n",
    "fig.update_xaxes(showline=True, linewidth=2, linecolor='black', mirror=True, gridcolor='Pink')\n",
    "fig.update_yaxes(showline=True, linewidth=2, linecolor='black', mirror=True, gridcolor='Red')\n",
    "#fig.show()\n",
    "fig.write_html(r'C:\\Users\\eeeeeeeeee\\Documents\\JupyterAnacondaPythonNotebooks\\Daily\\Charts_px\\GSDR_Synergy\\{}.html'.format(FileName))\n",
    "plt.close()"
   ]
  },
  {
   "cell_type": "code",
   "execution_count": 51,
   "metadata": {},
   "outputs": [
    {
     "name": "stdout",
     "output_type": "stream",
     "text": [
      "      DatabaseName SchemaName               TableName\n",
      "4225  GSDR_Synergy       GEMS  SASI_AMST_SECT_STF_HIS\n"
     ]
    }
   ],
   "source": [
    "d = dfgsdrsyn0047[['DatabaseName', 'SchemaName','TableName']]#.format(z)\n",
    "d = d.drop_duplicates()\n",
    "e = d['DatabaseName'].values[0]\n",
    "f = d['SchemaName'].values[0]\n",
    "g = d['TableName'].values[0]\n",
    "print (d)\n",
    "FileName = ('GSDR_Synergy_{}_{}'.format(f,g))\n",
    "\n",
    "fig = px.scatter(dfgsdrsyn0047, x = 'TodaysDate', y='RecordCount', size = 'RecordCount', color = 'RecordCount')#.format(z)\n",
    "fig.update_layout(title = '{0},{1},{2}'.format(e,f,g))\n",
    "fig.update_layout(yaxis_zeroline=False, xaxis_zeroline=False)\n",
    "fig.update_xaxes(title_font=dict(size=18, color='crimson'))\n",
    "fig.update_yaxes(title_font=dict(size=18, color='crimson'))\n",
    "fig.update_xaxes(ticks=\"inside\")\n",
    "fig.update_yaxes(ticks=\"inside\")\n",
    "fig.update_xaxes(tickangle=45, tickfont=dict(color='crimson', size=14))\n",
    "fig.update_xaxes(showline=True, linewidth=2, linecolor='black', mirror=True, gridcolor='Pink')\n",
    "fig.update_yaxes(showline=True, linewidth=2, linecolor='black', mirror=True, gridcolor='Red')\n",
    "#fig.show()\n",
    "fig.write_html(r'C:\\Users\\eeeeeeeeee\\Documents\\JupyterAnacondaPythonNotebooks\\Daily\\Charts_px\\GSDR_Synergy\\{}.html'.format(FileName))\n",
    "plt.close()"
   ]
  },
  {
   "cell_type": "code",
   "execution_count": 52,
   "metadata": {},
   "outputs": [
    {
     "name": "stdout",
     "output_type": "stream",
     "text": [
      "      DatabaseName SchemaName          TableName\n",
      "4320  GSDR_Synergy       GEMS  SASI_AMST_SYNERGY\n"
     ]
    }
   ],
   "source": [
    "d = dfgsdrsyn0048[['DatabaseName', 'SchemaName','TableName']]#.format(z)\n",
    "d = d.drop_duplicates()\n",
    "e = d['DatabaseName'].values[0]\n",
    "f = d['SchemaName'].values[0]\n",
    "g = d['TableName'].values[0]\n",
    "print (d)\n",
    "FileName = ('GSDR_Synergy_{}_{}'.format(f,g))\n",
    "\n",
    "fig = px.scatter(dfgsdrsyn0048, x = 'TodaysDate', y='RecordCount', size = 'RecordCount', color = 'RecordCount')#.format(z)\n",
    "fig.update_layout(title = '{0},{1},{2}'.format(e,f,g))\n",
    "fig.update_layout(yaxis_zeroline=False, xaxis_zeroline=False)\n",
    "fig.update_xaxes(title_font=dict(size=18, color='crimson'))\n",
    "fig.update_yaxes(title_font=dict(size=18, color='crimson'))\n",
    "fig.update_xaxes(ticks=\"inside\")\n",
    "fig.update_yaxes(ticks=\"inside\")\n",
    "fig.update_xaxes(tickangle=45, tickfont=dict(color='crimson', size=14))\n",
    "fig.update_xaxes(showline=True, linewidth=2, linecolor='black', mirror=True, gridcolor='Pink')\n",
    "fig.update_yaxes(showline=True, linewidth=2, linecolor='black', mirror=True, gridcolor='Red')\n",
    "#fig.show()\n",
    "fig.write_html(r'C:\\Users\\eeeeeeeeee\\Documents\\JupyterAnacondaPythonNotebooks\\Daily\\Charts_px\\GSDR_Synergy\\{}.html'.format(FileName))\n",
    "plt.close()"
   ]
  },
  {
   "cell_type": "code",
   "execution_count": 53,
   "metadata": {},
   "outputs": [
    {
     "name": "stdout",
     "output_type": "stream",
     "text": [
      "      DatabaseName SchemaName          TableName\n",
      "4415  GSDR_Synergy       GEMS  SASI_AONL_SYNERGY\n"
     ]
    }
   ],
   "source": [
    "d = dfgsdrsyn0049[['DatabaseName', 'SchemaName','TableName']]#.format(z)\n",
    "d = d.drop_duplicates()\n",
    "e = d['DatabaseName'].values[0]\n",
    "f = d['SchemaName'].values[0]\n",
    "g = d['TableName'].values[0]\n",
    "print (d)\n",
    "FileName = ('GSDR_Synergy_{}_{}'.format(f,g))\n",
    "\n",
    "fig = px.scatter(dfgsdrsyn0049, x = 'TodaysDate', y='RecordCount', size = 'RecordCount', color = 'RecordCount')#.format(z)\n",
    "fig.update_layout(title = '{0},{1},{2}'.format(e,f,g))\n",
    "fig.update_layout(yaxis_zeroline=False, xaxis_zeroline=False)\n",
    "fig.update_xaxes(title_font=dict(size=18, color='crimson'))\n",
    "fig.update_yaxes(title_font=dict(size=18, color='crimson'))\n",
    "fig.update_xaxes(ticks=\"inside\")\n",
    "fig.update_yaxes(ticks=\"inside\")\n",
    "fig.update_xaxes(tickangle=45, tickfont=dict(color='crimson', size=14))\n",
    "fig.update_xaxes(showline=True, linewidth=2, linecolor='black', mirror=True, gridcolor='Pink')\n",
    "fig.update_yaxes(showline=True, linewidth=2, linecolor='black', mirror=True, gridcolor='Red')\n",
    "#fig.show()\n",
    "fig.write_html(r'C:\\Users\\eeeeeeeeee\\Documents\\JupyterAnacondaPythonNotebooks\\Daily\\Charts_px\\GSDR_Synergy\\{}.html'.format(FileName))\n",
    "plt.close()"
   ]
  },
  {
   "cell_type": "code",
   "execution_count": 54,
   "metadata": {},
   "outputs": [
    {
     "name": "stdout",
     "output_type": "stream",
     "text": [
      "      DatabaseName SchemaName          TableName\n",
      "4510  GSDR_Synergy       GEMS  SASI_APGD_Synergy\n"
     ]
    }
   ],
   "source": [
    "d = dfgsdrsyn0050[['DatabaseName', 'SchemaName','TableName']]#.format(z)\n",
    "d = d.drop_duplicates()\n",
    "e = d['DatabaseName'].values[0]\n",
    "f = d['SchemaName'].values[0]\n",
    "g = d['TableName'].values[0]\n",
    "print (d)\n",
    "FileName = ('GSDR_Synergy_{}_{}'.format(f,g))\n",
    "\n",
    "fig = px.scatter(dfgsdrsyn0050, x = 'TodaysDate', y='RecordCount', size = 'RecordCount', color = 'RecordCount')#.format(z)\n",
    "fig.update_layout(title = '{0},{1},{2}'.format(e,f,g))\n",
    "fig.update_layout(yaxis_zeroline=False, xaxis_zeroline=False)\n",
    "fig.update_xaxes(title_font=dict(size=18, color='crimson'))\n",
    "fig.update_yaxes(title_font=dict(size=18, color='crimson'))\n",
    "fig.update_xaxes(ticks=\"inside\")\n",
    "fig.update_yaxes(ticks=\"inside\")\n",
    "fig.update_xaxes(tickangle=45, tickfont=dict(color='crimson', size=14))\n",
    "fig.update_xaxes(showline=True, linewidth=2, linecolor='black', mirror=True, gridcolor='Pink')\n",
    "fig.update_yaxes(showline=True, linewidth=2, linecolor='black', mirror=True, gridcolor='Red')\n",
    "#fig.show()\n",
    "fig.write_html(r'C:\\Users\\eeeeeeeeee\\Documents\\JupyterAnacondaPythonNotebooks\\Daily\\Charts_px\\GSDR_Synergy\\{}.html'.format(FileName))\n",
    "plt.close()"
   ]
  },
  {
   "cell_type": "code",
   "execution_count": 55,
   "metadata": {},
   "outputs": [
    {
     "name": "stdout",
     "output_type": "stream",
     "text": [
      "      DatabaseName SchemaName          TableName\n",
      "4605  GSDR_Synergy       GEMS  SASI_APGL_Synergy\n"
     ]
    }
   ],
   "source": [
    "d = dfgsdrsyn0051[['DatabaseName', 'SchemaName','TableName']]#.format(z)\n",
    "d = d.drop_duplicates()\n",
    "e = d['DatabaseName'].values[0]\n",
    "f = d['SchemaName'].values[0]\n",
    "g = d['TableName'].values[0]\n",
    "print (d)\n",
    "FileName = ('GSDR_Synergy_{}_{}'.format(f,g))\n",
    "\n",
    "fig = px.scatter(dfgsdrsyn0051, x = 'TodaysDate', y='RecordCount', size = 'RecordCount', color = 'RecordCount')#.format(z)\n",
    "fig.update_layout(title = '{0},{1},{2}'.format(e,f,g))\n",
    "fig.update_layout(yaxis_zeroline=False, xaxis_zeroline=False)\n",
    "fig.update_xaxes(title_font=dict(size=18, color='crimson'))\n",
    "fig.update_yaxes(title_font=dict(size=18, color='crimson'))\n",
    "fig.update_xaxes(ticks=\"inside\")\n",
    "fig.update_yaxes(ticks=\"inside\")\n",
    "fig.update_xaxes(tickangle=45, tickfont=dict(color='crimson', size=14))\n",
    "fig.update_xaxes(showline=True, linewidth=2, linecolor='black', mirror=True, gridcolor='Pink')\n",
    "fig.update_yaxes(showline=True, linewidth=2, linecolor='black', mirror=True, gridcolor='Red')\n",
    "#fig.show()\n",
    "fig.write_html(r'C:\\Users\\eeeeeeeeee\\Documents\\JupyterAnacondaPythonNotebooks\\Daily\\Charts_px\\GSDR_Synergy\\{}.html'.format(FileName))\n",
    "plt.close()"
   ]
  },
  {
   "cell_type": "code",
   "execution_count": 56,
   "metadata": {},
   "outputs": [
    {
     "name": "stdout",
     "output_type": "stream",
     "text": [
      "      DatabaseName SchemaName          TableName\n",
      "4700  GSDR_Synergy       GEMS  SASI_APGM_SYNERGY\n"
     ]
    }
   ],
   "source": [
    "d = dfgsdrsyn0052[['DatabaseName', 'SchemaName','TableName']]#.format(z)\n",
    "d = d.drop_duplicates()\n",
    "e = d['DatabaseName'].values[0]\n",
    "f = d['SchemaName'].values[0]\n",
    "g = d['TableName'].values[0]\n",
    "print (d)\n",
    "FileName = ('GSDR_Synergy_{}_{}'.format(f,g))\n",
    "\n",
    "fig = px.scatter(dfgsdrsyn0052, x = 'TodaysDate', y='RecordCount', size = 'RecordCount', color = 'RecordCount')#.format(z)\n",
    "fig.update_layout(title = '{0},{1},{2}'.format(e,f,g))\n",
    "fig.update_layout(yaxis_zeroline=False, xaxis_zeroline=False)\n",
    "fig.update_xaxes(title_font=dict(size=18, color='crimson'))\n",
    "fig.update_yaxes(title_font=dict(size=18, color='crimson'))\n",
    "fig.update_xaxes(ticks=\"inside\")\n",
    "fig.update_yaxes(ticks=\"inside\")\n",
    "fig.update_xaxes(tickangle=45, tickfont=dict(color='crimson', size=14))\n",
    "fig.update_xaxes(showline=True, linewidth=2, linecolor='black', mirror=True, gridcolor='Pink')\n",
    "fig.update_yaxes(showline=True, linewidth=2, linecolor='black', mirror=True, gridcolor='Red')\n",
    "#fig.show()\n",
    "fig.write_html(r'C:\\Users\\eeeeeeeeee\\Documents\\JupyterAnacondaPythonNotebooks\\Daily\\Charts_px\\GSDR_Synergy\\{}.html'.format(FileName))\n",
    "plt.close()"
   ]
  },
  {
   "cell_type": "code",
   "execution_count": 57,
   "metadata": {},
   "outputs": [
    {
     "name": "stdout",
     "output_type": "stream",
     "text": [
      "      DatabaseName SchemaName          TableName\n",
      "4795  GSDR_Synergy       GEMS  SASI_APRN_SYNERGY\n"
     ]
    }
   ],
   "source": [
    "d = dfgsdrsyn0053[['DatabaseName', 'SchemaName','TableName']]#.format(z)\n",
    "d = d.drop_duplicates()\n",
    "e = d['DatabaseName'].values[0]\n",
    "f = d['SchemaName'].values[0]\n",
    "g = d['TableName'].values[0]\n",
    "print (d)\n",
    "FileName = ('GSDR_Synergy_{}_{}'.format(f,g))\n",
    "\n",
    "fig = px.scatter(dfgsdrsyn0053, x = 'TodaysDate', y='RecordCount', size = 'RecordCount', color = 'RecordCount')#.format(z)\n",
    "fig.update_layout(title = '{0},{1},{2}'.format(e,f,g))\n",
    "fig.update_layout(yaxis_zeroline=False, xaxis_zeroline=False)\n",
    "fig.update_xaxes(title_font=dict(size=18, color='crimson'))\n",
    "fig.update_yaxes(title_font=dict(size=18, color='crimson'))\n",
    "fig.update_xaxes(ticks=\"inside\")\n",
    "fig.update_yaxes(ticks=\"inside\")\n",
    "fig.update_xaxes(tickangle=45, tickfont=dict(color='crimson', size=14))\n",
    "fig.update_xaxes(showline=True, linewidth=2, linecolor='black', mirror=True, gridcolor='Pink')\n",
    "fig.update_yaxes(showline=True, linewidth=2, linecolor='black', mirror=True, gridcolor='Red')\n",
    "#fig.show()\n",
    "fig.write_html(r'C:\\Users\\eeeeeeeeee\\Documents\\JupyterAnacondaPythonNotebooks\\Daily\\Charts_px\\GSDR_Synergy\\{}.html'.format(FileName))\n",
    "plt.close()"
   ]
  },
  {
   "cell_type": "code",
   "execution_count": 58,
   "metadata": {},
   "outputs": [
    {
     "name": "stdout",
     "output_type": "stream",
     "text": [
      "      DatabaseName SchemaName          TableName\n",
      "4890  GSDR_Synergy       GEMS  SASI_ASCH_SYNERGY\n"
     ]
    }
   ],
   "source": [
    "d = dfgsdrsyn0054[['DatabaseName', 'SchemaName','TableName']]#.format(z)\n",
    "d = d.drop_duplicates()\n",
    "e = d['DatabaseName'].values[0]\n",
    "f = d['SchemaName'].values[0]\n",
    "g = d['TableName'].values[0]\n",
    "print (d)\n",
    "FileName = ('GSDR_Synergy_{}_{}'.format(f,g))\n",
    "\n",
    "fig = px.scatter(dfgsdrsyn0054, x = 'TodaysDate', y='RecordCount', size = 'RecordCount', color = 'RecordCount')#.format(z)\n",
    "fig.update_layout(title = '{0},{1},{2}'.format(e,f,g))\n",
    "fig.update_layout(yaxis_zeroline=False, xaxis_zeroline=False)\n",
    "fig.update_xaxes(title_font=dict(size=18, color='crimson'))\n",
    "fig.update_yaxes(title_font=dict(size=18, color='crimson'))\n",
    "fig.update_xaxes(ticks=\"inside\")\n",
    "fig.update_yaxes(ticks=\"inside\")\n",
    "fig.update_xaxes(tickangle=45, tickfont=dict(color='crimson', size=14))\n",
    "fig.update_xaxes(showline=True, linewidth=2, linecolor='black', mirror=True, gridcolor='Pink')\n",
    "fig.update_yaxes(showline=True, linewidth=2, linecolor='black', mirror=True, gridcolor='Red')\n",
    "#fig.show()\n",
    "fig.write_html(r'C:\\Users\\eeeeeeeeee\\Documents\\JupyterAnacondaPythonNotebooks\\Daily\\Charts_px\\GSDR_Synergy\\{}.html'.format(FileName))\n",
    "plt.close()"
   ]
  },
  {
   "cell_type": "code",
   "execution_count": 59,
   "metadata": {},
   "outputs": [
    {
     "name": "stdout",
     "output_type": "stream",
     "text": [
      "      DatabaseName SchemaName          TableName\n",
      "4985  GSDR_Synergy       GEMS  SASI_ASGR_SYNERGY\n"
     ]
    }
   ],
   "source": [
    "d = dfgsdrsyn0055[['DatabaseName', 'SchemaName','TableName']]#.format(z)\n",
    "d = d.drop_duplicates()\n",
    "e = d['DatabaseName'].values[0]\n",
    "f = d['SchemaName'].values[0]\n",
    "g = d['TableName'].values[0]\n",
    "print (d)\n",
    "FileName = ('GSDR_Synergy_{}_{}'.format(f,g))\n",
    "\n",
    "fig = px.scatter(dfgsdrsyn0055, x = 'TodaysDate', y='RecordCount', size = 'RecordCount', color = 'RecordCount')#.format(z)\n",
    "fig.update_layout(title = '{0},{1},{2}'.format(e,f,g))\n",
    "fig.update_layout(yaxis_zeroline=False, xaxis_zeroline=False)\n",
    "fig.update_xaxes(title_font=dict(size=18, color='crimson'))\n",
    "fig.update_yaxes(title_font=dict(size=18, color='crimson'))\n",
    "fig.update_xaxes(ticks=\"inside\")\n",
    "fig.update_yaxes(ticks=\"inside\")\n",
    "fig.update_xaxes(tickangle=45, tickfont=dict(color='crimson', size=14))\n",
    "fig.update_xaxes(showline=True, linewidth=2, linecolor='black', mirror=True, gridcolor='Pink')\n",
    "fig.update_yaxes(showline=True, linewidth=2, linecolor='black', mirror=True, gridcolor='Red')\n",
    "#fig.show()\n",
    "fig.write_html(r'C:\\Users\\eeeeeeeeee\\Documents\\JupyterAnacondaPythonNotebooks\\Daily\\Charts_px\\GSDR_Synergy\\{}.html'.format(FileName))\n",
    "plt.close()"
   ]
  },
  {
   "cell_type": "code",
   "execution_count": 60,
   "metadata": {},
   "outputs": [
    {
     "name": "stdout",
     "output_type": "stream",
     "text": [
      "      DatabaseName SchemaName          TableName\n",
      "5080  GSDR_Synergy       GEMS  SASI_ASTI_SYNERGY\n"
     ]
    }
   ],
   "source": [
    "d = dfgsdrsyn0056[['DatabaseName', 'SchemaName','TableName']]#.format(z)\n",
    "d = d.drop_duplicates()\n",
    "e = d['DatabaseName'].values[0]\n",
    "f = d['SchemaName'].values[0]\n",
    "g = d['TableName'].values[0]\n",
    "print (d)\n",
    "FileName = ('GSDR_Synergy_{}_{}'.format(f,g))\n",
    "\n",
    "fig = px.scatter(dfgsdrsyn0056, x = 'TodaysDate', y='RecordCount', size = 'RecordCount', color = 'RecordCount')#.format(z)\n",
    "fig.update_layout(title = '{0},{1},{2}'.format(e,f,g))\n",
    "fig.update_layout(yaxis_zeroline=False, xaxis_zeroline=False)\n",
    "fig.update_xaxes(title_font=dict(size=18, color='crimson'))\n",
    "fig.update_yaxes(title_font=dict(size=18, color='crimson'))\n",
    "fig.update_xaxes(ticks=\"inside\")\n",
    "fig.update_yaxes(ticks=\"inside\")\n",
    "fig.update_xaxes(tickangle=45, tickfont=dict(color='crimson', size=14))\n",
    "fig.update_xaxes(showline=True, linewidth=2, linecolor='black', mirror=True, gridcolor='Pink')\n",
    "fig.update_yaxes(showline=True, linewidth=2, linecolor='black', mirror=True, gridcolor='Red')\n",
    "#fig.show()\n",
    "fig.write_html(r'C:\\Users\\eeeeeeeeee\\Documents\\JupyterAnacondaPythonNotebooks\\Daily\\Charts_px\\GSDR_Synergy\\{}.html'.format(FileName))\n",
    "plt.close()"
   ]
  },
  {
   "cell_type": "code",
   "execution_count": 61,
   "metadata": {},
   "outputs": [
    {
     "name": "stdout",
     "output_type": "stream",
     "text": [
      "      DatabaseName SchemaName                        TableName\n",
      "5175  GSDR_Synergy       GEMS  SASI_ASTU_DIPLOMA_SEALS_SYNERGY\n"
     ]
    }
   ],
   "source": [
    "d = dfgsdrsyn0057[['DatabaseName', 'SchemaName','TableName']]#.format(z)\n",
    "d = d.drop_duplicates()\n",
    "e = d['DatabaseName'].values[0]\n",
    "f = d['SchemaName'].values[0]\n",
    "g = d['TableName'].values[0]\n",
    "print (d)\n",
    "FileName = ('GSDR_Synergy_{}_{}'.format(f,g))\n",
    "\n",
    "fig = px.scatter(dfgsdrsyn0057, x = 'TodaysDate', y='RecordCount', size = 'RecordCount', color = 'RecordCount')#.format(z)\n",
    "fig.update_layout(title = '{0},{1},{2}'.format(e,f,g))\n",
    "fig.update_layout(yaxis_zeroline=False, xaxis_zeroline=False)\n",
    "fig.update_xaxes(title_font=dict(size=18, color='crimson'))\n",
    "fig.update_yaxes(title_font=dict(size=18, color='crimson'))\n",
    "fig.update_xaxes(ticks=\"inside\")\n",
    "fig.update_yaxes(ticks=\"inside\")\n",
    "fig.update_xaxes(tickangle=45, tickfont=dict(color='crimson', size=14))\n",
    "fig.update_xaxes(showline=True, linewidth=2, linecolor='black', mirror=True, gridcolor='Pink')\n",
    "fig.update_yaxes(showline=True, linewidth=2, linecolor='black', mirror=True, gridcolor='Red')\n",
    "#fig.show()\n",
    "fig.write_html(r'C:\\Users\\eeeeeeeeee\\Documents\\JupyterAnacondaPythonNotebooks\\Daily\\Charts_px\\GSDR_Synergy\\{}.html'.format(FileName))\n",
    "plt.close()"
   ]
  },
  {
   "cell_type": "code",
   "execution_count": 62,
   "metadata": {},
   "outputs": [
    {
     "name": "stdout",
     "output_type": "stream",
     "text": [
      "      DatabaseName SchemaName      TableName\n",
      "5270  GSDR_Synergy       GEMS  SASI_ASTU_GPA\n"
     ]
    }
   ],
   "source": [
    "d = dfgsdrsyn0058[['DatabaseName', 'SchemaName','TableName']]#.format(z)\n",
    "d = d.drop_duplicates()\n",
    "e = d['DatabaseName'].values[0]\n",
    "f = d['SchemaName'].values[0]\n",
    "g = d['TableName'].values[0]\n",
    "print (d)\n",
    "FileName = ('GSDR_Synergy_{}_{}'.format(f,g))\n",
    "\n",
    "fig = px.scatter(dfgsdrsyn0058, x = 'TodaysDate', y='RecordCount', size = 'RecordCount', color = 'RecordCount')#.format(z)\n",
    "fig.update_layout(title = '{0},{1},{2}'.format(e,f,g))\n",
    "fig.update_layout(yaxis_zeroline=False, xaxis_zeroline=False)\n",
    "fig.update_xaxes(title_font=dict(size=18, color='crimson'))\n",
    "fig.update_yaxes(title_font=dict(size=18, color='crimson'))\n",
    "fig.update_xaxes(ticks=\"inside\")\n",
    "fig.update_yaxes(ticks=\"inside\")\n",
    "fig.update_xaxes(tickangle=45, tickfont=dict(color='crimson', size=14))\n",
    "fig.update_xaxes(showline=True, linewidth=2, linecolor='black', mirror=True, gridcolor='Pink')\n",
    "fig.update_yaxes(showline=True, linewidth=2, linecolor='black', mirror=True, gridcolor='Red')\n",
    "#fig.show()\n",
    "fig.write_html(r'C:\\Users\\eeeeeeeeee\\Documents\\JupyterAnacondaPythonNotebooks\\Daily\\Charts_px\\GSDR_Synergy\\{}.html'.format(FileName))\n",
    "plt.close()"
   ]
  },
  {
   "cell_type": "code",
   "execution_count": 63,
   "metadata": {},
   "outputs": [
    {
     "name": "stdout",
     "output_type": "stream",
     "text": [
      "      DatabaseName SchemaName               TableName\n",
      "5365  GSDR_Synergy       GEMS  SASI_ASTU_NEXT_SYNERGY\n"
     ]
    }
   ],
   "source": [
    "d = dfgsdrsyn0059[['DatabaseName', 'SchemaName','TableName']]#.format(z)\n",
    "d = d.drop_duplicates()\n",
    "e = d['DatabaseName'].values[0]\n",
    "f = d['SchemaName'].values[0]\n",
    "g = d['TableName'].values[0]\n",
    "print (d)\n",
    "FileName = ('GSDR_Synergy_{}_{}'.format(f,g))\n",
    "\n",
    "fig = px.scatter(dfgsdrsyn0059, x = 'TodaysDate', y='RecordCount', size = 'RecordCount', color = 'RecordCount')#.format(z)\n",
    "fig.update_layout(title = '{0},{1},{2}'.format(e,f,g))\n",
    "fig.update_layout(yaxis_zeroline=False, xaxis_zeroline=False)\n",
    "fig.update_xaxes(title_font=dict(size=18, color='crimson'))\n",
    "fig.update_yaxes(title_font=dict(size=18, color='crimson'))\n",
    "fig.update_xaxes(ticks=\"inside\")\n",
    "fig.update_yaxes(ticks=\"inside\")\n",
    "fig.update_xaxes(tickangle=45, tickfont=dict(color='crimson', size=14))\n",
    "fig.update_xaxes(showline=True, linewidth=2, linecolor='black', mirror=True, gridcolor='Pink')\n",
    "fig.update_yaxes(showline=True, linewidth=2, linecolor='black', mirror=True, gridcolor='Red')\n",
    "#fig.show()\n",
    "fig.write_html(r'C:\\Users\\eeeeeeeeee\\Documents\\JupyterAnacondaPythonNotebooks\\Daily\\Charts_px\\GSDR_Synergy\\{}.html'.format(FileName))\n",
    "plt.close()"
   ]
  },
  {
   "cell_type": "code",
   "execution_count": 64,
   "metadata": {},
   "outputs": [
    {
     "name": "stdout",
     "output_type": "stream",
     "text": [
      "      DatabaseName SchemaName                      TableName\n",
      "5460  GSDR_Synergy       GEMS  SASI_ASTU_NON_ADA_ADM_SYNERGY\n"
     ]
    }
   ],
   "source": [
    "d = dfgsdrsyn0060[['DatabaseName', 'SchemaName','TableName']]#.format(z)\n",
    "d = d.drop_duplicates()\n",
    "e = d['DatabaseName'].values[0]\n",
    "f = d['SchemaName'].values[0]\n",
    "g = d['TableName'].values[0]\n",
    "print (d)\n",
    "FileName = ('GSDR_Synergy_{}_{}'.format(f,g))\n",
    "\n",
    "fig = px.scatter(dfgsdrsyn0060, x = 'TodaysDate', y='RecordCount', size = 'RecordCount', color = 'RecordCount')#.format(z)\n",
    "fig.update_layout(title = '{0},{1},{2}'.format(e,f,g))\n",
    "fig.update_layout(yaxis_zeroline=False, xaxis_zeroline=False)\n",
    "fig.update_xaxes(title_font=dict(size=18, color='crimson'))\n",
    "fig.update_yaxes(title_font=dict(size=18, color='crimson'))\n",
    "fig.update_xaxes(ticks=\"inside\")\n",
    "fig.update_yaxes(ticks=\"inside\")\n",
    "fig.update_xaxes(tickangle=45, tickfont=dict(color='crimson', size=14))\n",
    "fig.update_xaxes(showline=True, linewidth=2, linecolor='black', mirror=True, gridcolor='Pink')\n",
    "fig.update_yaxes(showline=True, linewidth=2, linecolor='black', mirror=True, gridcolor='Red')\n",
    "#fig.show()\n",
    "fig.write_html(r'C:\\Users\\eeeeeeeeee\\Documents\\JupyterAnacondaPythonNotebooks\\Daily\\Charts_px\\GSDR_Synergy\\{}.html'.format(FileName))\n",
    "plt.close()"
   ]
  },
  {
   "cell_type": "code",
   "execution_count": 65,
   "metadata": {},
   "outputs": [
    {
     "name": "stdout",
     "output_type": "stream",
     "text": [
      "      DatabaseName SchemaName          TableName\n",
      "5555  GSDR_Synergy       GEMS  SASI_ASTU_SYNERGY\n"
     ]
    }
   ],
   "source": [
    "d = dfgsdrsyn0061[['DatabaseName', 'SchemaName','TableName']]#.format(z)\n",
    "d = d.drop_duplicates()\n",
    "e = d['DatabaseName'].values[0]\n",
    "f = d['SchemaName'].values[0]\n",
    "g = d['TableName'].values[0]\n",
    "print (d)\n",
    "FileName = ('GSDR_Synergy_{}_{}'.format(f,g))\n",
    "\n",
    "fig = px.scatter(dfgsdrsyn0061, x = 'TodaysDate', y='RecordCount', size = 'RecordCount', color = 'RecordCount')#.format(z)\n",
    "fig.update_layout(title = '{0},{1},{2}'.format(e,f,g))\n",
    "fig.update_layout(yaxis_zeroline=False, xaxis_zeroline=False)\n",
    "fig.update_xaxes(title_font=dict(size=18, color='crimson'))\n",
    "fig.update_yaxes(title_font=dict(size=18, color='crimson'))\n",
    "fig.update_xaxes(ticks=\"inside\")\n",
    "fig.update_yaxes(ticks=\"inside\")\n",
    "fig.update_xaxes(tickangle=45, tickfont=dict(color='crimson', size=14))\n",
    "fig.update_xaxes(showline=True, linewidth=2, linecolor='black', mirror=True, gridcolor='Pink')\n",
    "fig.update_yaxes(showline=True, linewidth=2, linecolor='black', mirror=True, gridcolor='Red')\n",
    "#fig.show()\n",
    "fig.write_html(r'C:\\Users\\eeeeeeeeee\\Documents\\JupyterAnacondaPythonNotebooks\\Daily\\Charts_px\\GSDR_Synergy\\{}.html'.format(FileName))\n",
    "plt.close()"
   ]
  },
  {
   "cell_type": "code",
   "execution_count": 66,
   "metadata": {},
   "outputs": [
    {
     "name": "stdout",
     "output_type": "stream",
     "text": [
      "      DatabaseName SchemaName              TableName\n",
      "5745  GSDR_Synergy       GEMS  SASI_ASTU_SYNERGY_DEL\n"
     ]
    }
   ],
   "source": [
    "d = dfgsdrsyn0062[['DatabaseName', 'SchemaName','TableName']]#.format(z)\n",
    "d = d.drop_duplicates()\n",
    "e = d['DatabaseName'].values[0]\n",
    "f = d['SchemaName'].values[0]\n",
    "g = d['TableName'].values[0]\n",
    "print (d)\n",
    "FileName = ('GSDR_Synergy_{}_{}'.format(f,g))\n",
    "\n",
    "fig = px.scatter(dfgsdrsyn0062, x = 'TodaysDate', y='RecordCount', size = 'RecordCount', color = 'RecordCount')#.format(z)\n",
    "fig.update_layout(title = '{0},{1},{2}'.format(e,f,g))\n",
    "fig.update_layout(yaxis_zeroline=False, xaxis_zeroline=False)\n",
    "fig.update_xaxes(title_font=dict(size=18, color='crimson'))\n",
    "fig.update_yaxes(title_font=dict(size=18, color='crimson'))\n",
    "fig.update_xaxes(ticks=\"inside\")\n",
    "fig.update_yaxes(ticks=\"inside\")\n",
    "fig.update_xaxes(tickangle=45, tickfont=dict(color='crimson', size=14))\n",
    "fig.update_xaxes(showline=True, linewidth=2, linecolor='black', mirror=True, gridcolor='Pink')\n",
    "fig.update_yaxes(showline=True, linewidth=2, linecolor='black', mirror=True, gridcolor='Red')\n",
    "#fig.show()\n",
    "fig.write_html(r'C:\\Users\\eeeeeeeeee\\Documents\\JupyterAnacondaPythonNotebooks\\Daily\\Charts_px\\GSDR_Synergy\\{}.html'.format(FileName))\n",
    "plt.close()"
   ]
  },
  {
   "cell_type": "code",
   "execution_count": 67,
   "metadata": {},
   "outputs": [
    {
     "name": "stdout",
     "output_type": "stream",
     "text": [
      "      DatabaseName SchemaName               TableName\n",
      "5840  GSDR_Synergy       GEMS  SASI_ASTU_SYNERGY_KERI\n"
     ]
    }
   ],
   "source": [
    "d = dfgsdrsyn0063[['DatabaseName', 'SchemaName','TableName']]#.format(z)\n",
    "d = d.drop_duplicates()\n",
    "e = d['DatabaseName'].values[0]\n",
    "f = d['SchemaName'].values[0]\n",
    "g = d['TableName'].values[0]\n",
    "print (d)\n",
    "FileName = ('GSDR_Synergy_{}_{}'.format(f,g))\n",
    "\n",
    "fig = px.scatter(dfgsdrsyn0063, x = 'TodaysDate', y='RecordCount', size = 'RecordCount', color = 'RecordCount')#.format(z)\n",
    "fig.update_layout(title = '{0},{1},{2}'.format(e,f,g))\n",
    "fig.update_layout(yaxis_zeroline=False, xaxis_zeroline=False)\n",
    "fig.update_xaxes(title_font=dict(size=18, color='crimson'))\n",
    "fig.update_yaxes(title_font=dict(size=18, color='crimson'))\n",
    "fig.update_xaxes(ticks=\"inside\")\n",
    "fig.update_yaxes(ticks=\"inside\")\n",
    "fig.update_xaxes(tickangle=45, tickfont=dict(color='crimson', size=14))\n",
    "fig.update_xaxes(showline=True, linewidth=2, linecolor='black', mirror=True, gridcolor='Pink')\n",
    "fig.update_yaxes(showline=True, linewidth=2, linecolor='black', mirror=True, gridcolor='Red')\n",
    "#fig.show()\n",
    "fig.write_html(r'C:\\Users\\eeeeeeeeee\\Documents\\JupyterAnacondaPythonNotebooks\\Daily\\Charts_px\\GSDR_Synergy\\{}.html'.format(FileName))\n",
    "plt.close()"
   ]
  },
  {
   "cell_type": "code",
   "execution_count": 68,
   "metadata": {},
   "outputs": [
    {
     "name": "stdout",
     "output_type": "stream",
     "text": [
      "      DatabaseName SchemaName           TableName\n",
      "5650  GSDR_Synergy       GEMS  SASI_ASTU_SYNERGY2\n"
     ]
    }
   ],
   "source": [
    "d = dfgsdrsyn0064[['DatabaseName', 'SchemaName','TableName']]#.format(z)\n",
    "d = d.drop_duplicates()\n",
    "e = d['DatabaseName'].values[0]\n",
    "f = d['SchemaName'].values[0]\n",
    "g = d['TableName'].values[0]\n",
    "print (d)\n",
    "FileName = ('GSDR_Synergy_{}_{}'.format(f,g))\n",
    "\n",
    "fig = px.scatter(dfgsdrsyn0064, x = 'TodaysDate', y='RecordCount', size = 'RecordCount', color = 'RecordCount')#.format(z)\n",
    "fig.update_layout(title = '{0},{1},{2}'.format(e,f,g))\n",
    "fig.update_layout(yaxis_zeroline=False, xaxis_zeroline=False)\n",
    "fig.update_xaxes(title_font=dict(size=18, color='crimson'))\n",
    "fig.update_yaxes(title_font=dict(size=18, color='crimson'))\n",
    "fig.update_xaxes(ticks=\"inside\")\n",
    "fig.update_yaxes(ticks=\"inside\")\n",
    "fig.update_xaxes(tickangle=45, tickfont=dict(color='crimson', size=14))\n",
    "fig.update_xaxes(showline=True, linewidth=2, linecolor='black', mirror=True, gridcolor='Pink')\n",
    "fig.update_yaxes(showline=True, linewidth=2, linecolor='black', mirror=True, gridcolor='Red')\n",
    "#fig.show()\n",
    "fig.write_html(r'C:\\Users\\eeeeeeeeee\\Documents\\JupyterAnacondaPythonNotebooks\\Daily\\Charts_px\\GSDR_Synergy\\{}.html'.format(FileName))\n",
    "plt.close()"
   ]
  },
  {
   "cell_type": "code",
   "execution_count": 69,
   "metadata": {},
   "outputs": [
    {
     "name": "stdout",
     "output_type": "stream",
     "text": [
      "      DatabaseName SchemaName          TableName\n",
      "5935  GSDR_Synergy       GEMS  SASI_ATBL_SYNERGY\n"
     ]
    }
   ],
   "source": [
    "d = dfgsdrsyn0065[['DatabaseName', 'SchemaName','TableName']]#.format(z)\n",
    "d = d.drop_duplicates()\n",
    "e = d['DatabaseName'].values[0]\n",
    "f = d['SchemaName'].values[0]\n",
    "g = d['TableName'].values[0]\n",
    "print (d)\n",
    "FileName = ('GSDR_Synergy_{}_{}'.format(f,g))\n",
    "\n",
    "fig = px.scatter(dfgsdrsyn0065, x = 'TodaysDate', y='RecordCount', size = 'RecordCount', color = 'RecordCount')#.format(z)\n",
    "fig.update_layout(title = '{0},{1},{2}'.format(e,f,g))\n",
    "fig.update_layout(yaxis_zeroline=False, xaxis_zeroline=False)\n",
    "fig.update_xaxes(title_font=dict(size=18, color='crimson'))\n",
    "fig.update_yaxes(title_font=dict(size=18, color='crimson'))\n",
    "fig.update_xaxes(ticks=\"inside\")\n",
    "fig.update_yaxes(ticks=\"inside\")\n",
    "fig.update_xaxes(tickangle=45, tickfont=dict(color='crimson', size=14))\n",
    "fig.update_xaxes(showline=True, linewidth=2, linecolor='black', mirror=True, gridcolor='Pink')\n",
    "fig.update_yaxes(showline=True, linewidth=2, linecolor='black', mirror=True, gridcolor='Red')\n",
    "#fig.show()\n",
    "fig.write_html(r'C:\\Users\\eeeeeeeeee\\Documents\\JupyterAnacondaPythonNotebooks\\Daily\\Charts_px\\GSDR_Synergy\\{}.html'.format(FileName))\n",
    "plt.close()"
   ]
  },
  {
   "cell_type": "code",
   "execution_count": 70,
   "metadata": {},
   "outputs": [
    {
     "name": "stdout",
     "output_type": "stream",
     "text": [
      "      DatabaseName SchemaName               TableName\n",
      "6030  GSDR_Synergy       GEMS  SASI_ATCH_NEXT_SYNERGY\n"
     ]
    }
   ],
   "source": [
    "d = dfgsdrsyn0066[['DatabaseName', 'SchemaName','TableName']]#.format(z)\n",
    "d = d.drop_duplicates()\n",
    "e = d['DatabaseName'].values[0]\n",
    "f = d['SchemaName'].values[0]\n",
    "g = d['TableName'].values[0]\n",
    "print (d)\n",
    "FileName = ('GSDR_Synergy_{}_{}'.format(f,g))\n",
    "\n",
    "fig = px.scatter(dfgsdrsyn0066, x = 'TodaysDate', y='RecordCount', size = 'RecordCount', color = 'RecordCount')#.format(z)\n",
    "fig.update_layout(title = '{0},{1},{2}'.format(e,f,g))\n",
    "fig.update_layout(yaxis_zeroline=False, xaxis_zeroline=False)\n",
    "fig.update_xaxes(title_font=dict(size=18, color='crimson'))\n",
    "fig.update_yaxes(title_font=dict(size=18, color='crimson'))\n",
    "fig.update_xaxes(ticks=\"inside\")\n",
    "fig.update_yaxes(ticks=\"inside\")\n",
    "fig.update_xaxes(tickangle=45, tickfont=dict(color='crimson', size=14))\n",
    "fig.update_xaxes(showline=True, linewidth=2, linecolor='black', mirror=True, gridcolor='Pink')\n",
    "fig.update_yaxes(showline=True, linewidth=2, linecolor='black', mirror=True, gridcolor='Red')\n",
    "#fig.show()\n",
    "fig.write_html(r'C:\\Users\\eeeeeeeeee\\Documents\\JupyterAnacondaPythonNotebooks\\Daily\\Charts_px\\GSDR_Synergy\\{}.html'.format(FileName))\n",
    "plt.close()"
   ]
  },
  {
   "cell_type": "code",
   "execution_count": 71,
   "metadata": {},
   "outputs": [
    {
     "name": "stdout",
     "output_type": "stream",
     "text": [
      "      DatabaseName SchemaName          TableName\n",
      "6125  GSDR_Synergy       GEMS  SASI_ATCH_SYNERGY\n"
     ]
    }
   ],
   "source": [
    "d = dfgsdrsyn0067[['DatabaseName', 'SchemaName','TableName']]#.format(z)\n",
    "d = d.drop_duplicates()\n",
    "e = d['DatabaseName'].values[0]\n",
    "f = d['SchemaName'].values[0]\n",
    "g = d['TableName'].values[0]\n",
    "print (d)\n",
    "FileName = ('GSDR_Synergy_{}_{}'.format(f,g))\n",
    "\n",
    "fig = px.scatter(dfgsdrsyn0067, x = 'TodaysDate', y='RecordCount', size = 'RecordCount', color = 'RecordCount')#.format(z)\n",
    "fig.update_layout(title = '{0},{1},{2}'.format(e,f,g))\n",
    "fig.update_layout(yaxis_zeroline=False, xaxis_zeroline=False)\n",
    "fig.update_xaxes(title_font=dict(size=18, color='crimson'))\n",
    "fig.update_yaxes(title_font=dict(size=18, color='crimson'))\n",
    "fig.update_xaxes(ticks=\"inside\")\n",
    "fig.update_yaxes(ticks=\"inside\")\n",
    "fig.update_xaxes(tickangle=45, tickfont=dict(color='crimson', size=14))\n",
    "fig.update_xaxes(showline=True, linewidth=2, linecolor='black', mirror=True, gridcolor='Pink')\n",
    "fig.update_yaxes(showline=True, linewidth=2, linecolor='black', mirror=True, gridcolor='Red')\n",
    "#fig.show()\n",
    "fig.write_html(r'C:\\Users\\eeeeeeeeee\\Documents\\JupyterAnacondaPythonNotebooks\\Daily\\Charts_px\\GSDR_Synergy\\{}.html'.format(FileName))\n",
    "plt.close()"
   ]
  },
  {
   "cell_type": "code",
   "execution_count": 72,
   "metadata": {},
   "outputs": [
    {
     "name": "stdout",
     "output_type": "stream",
     "text": [
      "      DatabaseName SchemaName               TableName\n",
      "6220  GSDR_Synergy       GEMS  SASI_ATRM_NEXT_SYNERGY\n"
     ]
    }
   ],
   "source": [
    "d = dfgsdrsyn0068[['DatabaseName', 'SchemaName','TableName']]#.format(z)\n",
    "d = d.drop_duplicates()\n",
    "e = d['DatabaseName'].values[0]\n",
    "f = d['SchemaName'].values[0]\n",
    "g = d['TableName'].values[0]\n",
    "print (d)\n",
    "FileName = ('GSDR_Synergy_{}_{}'.format(f,g))\n",
    "\n",
    "fig = px.scatter(dfgsdrsyn0068, x = 'TodaysDate', y='RecordCount', size = 'RecordCount', color = 'RecordCount')#.format(z)\n",
    "fig.update_layout(title = '{0},{1},{2}'.format(e,f,g))\n",
    "fig.update_layout(yaxis_zeroline=False, xaxis_zeroline=False)\n",
    "fig.update_xaxes(title_font=dict(size=18, color='crimson'))\n",
    "fig.update_yaxes(title_font=dict(size=18, color='crimson'))\n",
    "fig.update_xaxes(ticks=\"inside\")\n",
    "fig.update_yaxes(ticks=\"inside\")\n",
    "fig.update_xaxes(tickangle=45, tickfont=dict(color='crimson', size=14))\n",
    "fig.update_xaxes(showline=True, linewidth=2, linecolor='black', mirror=True, gridcolor='Pink')\n",
    "fig.update_yaxes(showline=True, linewidth=2, linecolor='black', mirror=True, gridcolor='Red')\n",
    "#fig.show()\n",
    "fig.write_html(r'C:\\Users\\eeeeeeeeee\\Documents\\JupyterAnacondaPythonNotebooks\\Daily\\Charts_px\\GSDR_Synergy\\{}.html'.format(FileName))\n",
    "plt.close()"
   ]
  },
  {
   "cell_type": "code",
   "execution_count": 73,
   "metadata": {},
   "outputs": [
    {
     "name": "stdout",
     "output_type": "stream",
     "text": [
      "      DatabaseName SchemaName          TableName\n",
      "6240  GSDR_Synergy       GEMS  SASI_ATRM_SYNERGY\n"
     ]
    }
   ],
   "source": [
    "d = dfgsdrsyn0069[['DatabaseName', 'SchemaName','TableName']]#.format(z)\n",
    "d = d.drop_duplicates()\n",
    "e = d['DatabaseName'].values[0]\n",
    "f = d['SchemaName'].values[0]\n",
    "g = d['TableName'].values[0]\n",
    "print (d)\n",
    "FileName = ('GSDR_Synergy_{}_{}'.format(f,g))\n",
    "\n",
    "fig = px.scatter(dfgsdrsyn0069, x = 'TodaysDate', y='RecordCount', size = 'RecordCount', color = 'RecordCount')#.format(z)\n",
    "fig.update_layout(title = '{0},{1},{2}'.format(e,f,g))\n",
    "fig.update_layout(yaxis_zeroline=False, xaxis_zeroline=False)\n",
    "fig.update_xaxes(title_font=dict(size=18, color='crimson'))\n",
    "fig.update_yaxes(title_font=dict(size=18, color='crimson'))\n",
    "fig.update_xaxes(ticks=\"inside\")\n",
    "fig.update_yaxes(ticks=\"inside\")\n",
    "fig.update_xaxes(tickangle=45, tickfont=dict(color='crimson', size=14))\n",
    "fig.update_xaxes(showline=True, linewidth=2, linecolor='black', mirror=True, gridcolor='Pink')\n",
    "fig.update_yaxes(showline=True, linewidth=2, linecolor='black', mirror=True, gridcolor='Red')\n",
    "#fig.show()\n",
    "fig.write_html(r'C:\\Users\\eeeeeeeeee\\Documents\\JupyterAnacondaPythonNotebooks\\Daily\\Charts_px\\GSDR_Synergy\\{}.html'.format(FileName))\n",
    "plt.close()"
   ]
  },
  {
   "cell_type": "code",
   "execution_count": 74,
   "metadata": {},
   "outputs": [
    {
     "name": "stdout",
     "output_type": "stream",
     "text": [
      "      DatabaseName SchemaName          TableName\n",
      "6335  GSDR_Synergy       GEMS  SASI_ATTD_SYNERGY\n"
     ]
    }
   ],
   "source": [
    "d = dfgsdrsyn0070[['DatabaseName', 'SchemaName','TableName']]#.format(z)\n",
    "d = d.drop_duplicates()\n",
    "e = d['DatabaseName'].values[0]\n",
    "f = d['SchemaName'].values[0]\n",
    "g = d['TableName'].values[0]\n",
    "print (d)\n",
    "FileName = ('GSDR_Synergy_{}_{}'.format(f,g))\n",
    "\n",
    "fig = px.scatter(dfgsdrsyn0070, x = 'TodaysDate', y='RecordCount', size = 'RecordCount', color = 'RecordCount')#.format(z)\n",
    "fig.update_layout(title = '{0},{1},{2}'.format(e,f,g))\n",
    "fig.update_layout(yaxis_zeroline=False, xaxis_zeroline=False)\n",
    "fig.update_xaxes(title_font=dict(size=18, color='crimson'))\n",
    "fig.update_yaxes(title_font=dict(size=18, color='crimson'))\n",
    "fig.update_xaxes(ticks=\"inside\")\n",
    "fig.update_yaxes(ticks=\"inside\")\n",
    "fig.update_xaxes(tickangle=45, tickfont=dict(color='crimson', size=14))\n",
    "fig.update_xaxes(showline=True, linewidth=2, linecolor='black', mirror=True, gridcolor='Pink')\n",
    "fig.update_yaxes(showline=True, linewidth=2, linecolor='black', mirror=True, gridcolor='Red')\n",
    "#fig.show()\n",
    "fig.write_html(r'C:\\Users\\eeeeeeeeee\\Documents\\JupyterAnacondaPythonNotebooks\\Daily\\Charts_px\\GSDR_Synergy\\{}.html'.format(FileName))\n",
    "plt.close()"
   ]
  },
  {
   "cell_type": "code",
   "execution_count": 75,
   "metadata": {},
   "outputs": [
    {
     "name": "stdout",
     "output_type": "stream",
     "text": [
      "      DatabaseName SchemaName             TableName\n",
      "6430  GSDR_Synergy       GEMS  SASI_PARAPRO_SYNERGY\n"
     ]
    }
   ],
   "source": [
    "d = dfgsdrsyn0071[['DatabaseName', 'SchemaName','TableName']]#.format(z)\n",
    "d = d.drop_duplicates()\n",
    "e = d['DatabaseName'].values[0]\n",
    "f = d['SchemaName'].values[0]\n",
    "g = d['TableName'].values[0]\n",
    "print (d)\n",
    "FileName = ('GSDR_Synergy_{}_{}'.format(f,g))\n",
    "\n",
    "fig = px.scatter(dfgsdrsyn0071, x = 'TodaysDate', y='RecordCount', size = 'RecordCount', color = 'RecordCount')#.format(z)\n",
    "fig.update_layout(title = '{0},{1},{2}'.format(e,f,g))\n",
    "fig.update_layout(yaxis_zeroline=False, xaxis_zeroline=False)\n",
    "fig.update_xaxes(title_font=dict(size=18, color='crimson'))\n",
    "fig.update_yaxes(title_font=dict(size=18, color='crimson'))\n",
    "fig.update_xaxes(ticks=\"inside\")\n",
    "fig.update_yaxes(ticks=\"inside\")\n",
    "fig.update_xaxes(tickangle=45, tickfont=dict(color='crimson', size=14))\n",
    "fig.update_xaxes(showline=True, linewidth=2, linecolor='black', mirror=True, gridcolor='Pink')\n",
    "fig.update_yaxes(showline=True, linewidth=2, linecolor='black', mirror=True, gridcolor='Red')\n",
    "#fig.show()\n",
    "fig.write_html(r'C:\\Users\\eeeeeeeeee\\Documents\\JupyterAnacondaPythonNotebooks\\Daily\\Charts_px\\GSDR_Synergy\\{}.html'.format(FileName))\n",
    "plt.close()"
   ]
  },
  {
   "cell_type": "code",
   "execution_count": 76,
   "metadata": {},
   "outputs": [
    {
     "name": "stdout",
     "output_type": "stream",
     "text": [
      "      DatabaseName SchemaName    TableName\n",
      "6525  GSDR_Synergy       GEMS  SASI_PHLOTE\n"
     ]
    }
   ],
   "source": [
    "d = dfgsdrsyn0072[['DatabaseName', 'SchemaName','TableName']]#.format(z)\n",
    "d = d.drop_duplicates()\n",
    "e = d['DatabaseName'].values[0]\n",
    "f = d['SchemaName'].values[0]\n",
    "g = d['TableName'].values[0]\n",
    "print (d)\n",
    "FileName = ('GSDR_Synergy_{}_{}'.format(f,g))\n",
    "\n",
    "fig = px.scatter(dfgsdrsyn0072, x = 'TodaysDate', y='RecordCount', size = 'RecordCount', color = 'RecordCount')#.format(z)\n",
    "fig.update_layout(title = '{0},{1},{2}'.format(e,f,g))\n",
    "fig.update_layout(yaxis_zeroline=False, xaxis_zeroline=False)\n",
    "fig.update_xaxes(title_font=dict(size=18, color='crimson'))\n",
    "fig.update_yaxes(title_font=dict(size=18, color='crimson'))\n",
    "fig.update_xaxes(ticks=\"inside\")\n",
    "fig.update_yaxes(ticks=\"inside\")\n",
    "fig.update_xaxes(tickangle=45, tickfont=dict(color='crimson', size=14))\n",
    "fig.update_xaxes(showline=True, linewidth=2, linecolor='black', mirror=True, gridcolor='Pink')\n",
    "fig.update_yaxes(showline=True, linewidth=2, linecolor='black', mirror=True, gridcolor='Red')\n",
    "#fig.show()\n",
    "fig.write_html(r'C:\\Users\\eeeeeeeeee\\Documents\\JupyterAnacondaPythonNotebooks\\Daily\\Charts_px\\GSDR_Synergy\\{}.html'.format(FileName))\n",
    "plt.close()"
   ]
  },
  {
   "cell_type": "code",
   "execution_count": 77,
   "metadata": {},
   "outputs": [
    {
     "name": "stdout",
     "output_type": "stream",
     "text": [
      "      DatabaseName SchemaName         TableName\n",
      "6620  GSDR_Synergy       GEMS  SASI_RUN_CONTROL\n"
     ]
    }
   ],
   "source": [
    "d = dfgsdrsyn0073[['DatabaseName', 'SchemaName','TableName']]#.format(z)\n",
    "d = d.drop_duplicates()\n",
    "e = d['DatabaseName'].values[0]\n",
    "f = d['SchemaName'].values[0]\n",
    "g = d['TableName'].values[0]\n",
    "print (d)\n",
    "FileName = ('GSDR_Synergy_{}_{}'.format(f,g))\n",
    "\n",
    "fig = px.scatter(dfgsdrsyn0073, x = 'TodaysDate', y='RecordCount', size = 'RecordCount', color = 'RecordCount')#.format(z)\n",
    "fig.update_layout(title = '{0},{1},{2}'.format(e,f,g))\n",
    "fig.update_layout(yaxis_zeroline=False, xaxis_zeroline=False)\n",
    "fig.update_xaxes(title_font=dict(size=18, color='crimson'))\n",
    "fig.update_yaxes(title_font=dict(size=18, color='crimson'))\n",
    "fig.update_xaxes(ticks=\"inside\")\n",
    "fig.update_yaxes(ticks=\"inside\")\n",
    "fig.update_xaxes(tickangle=45, tickfont=dict(color='crimson', size=14))\n",
    "fig.update_xaxes(showline=True, linewidth=2, linecolor='black', mirror=True, gridcolor='Pink')\n",
    "fig.update_yaxes(showline=True, linewidth=2, linecolor='black', mirror=True, gridcolor='Red')\n",
    "#fig.show()\n",
    "fig.write_html(r'C:\\Users\\eeeeeeeeee\\Documents\\JupyterAnacondaPythonNotebooks\\Daily\\Charts_px\\GSDR_Synergy\\{}.html'.format(FileName))\n",
    "plt.close()"
   ]
  },
  {
   "cell_type": "code",
   "execution_count": 78,
   "metadata": {},
   "outputs": [
    {
     "name": "stdout",
     "output_type": "stream",
     "text": [
      "      DatabaseName SchemaName             TableName\n",
      "6715  GSDR_Synergy       GEMS  SASI_RUN_CONTROL_SCH\n"
     ]
    }
   ],
   "source": [
    "d = dfgsdrsyn0074[['DatabaseName', 'SchemaName','TableName']]#.format(z)\n",
    "d = d.drop_duplicates()\n",
    "e = d['DatabaseName'].values[0]\n",
    "f = d['SchemaName'].values[0]\n",
    "g = d['TableName'].values[0]\n",
    "print (d)\n",
    "FileName = ('GSDR_Synergy_{}_{}'.format(f,g))\n",
    "\n",
    "fig = px.scatter(dfgsdrsyn0074, x = 'TodaysDate', y='RecordCount', size = 'RecordCount', color = 'RecordCount')#.format(z)\n",
    "fig.update_layout(title = '{0},{1},{2}'.format(e,f,g))\n",
    "fig.update_layout(yaxis_zeroline=False, xaxis_zeroline=False)\n",
    "fig.update_xaxes(title_font=dict(size=18, color='crimson'))\n",
    "fig.update_yaxes(title_font=dict(size=18, color='crimson'))\n",
    "fig.update_xaxes(ticks=\"inside\")\n",
    "fig.update_yaxes(ticks=\"inside\")\n",
    "fig.update_xaxes(tickangle=45, tickfont=dict(color='crimson', size=14))\n",
    "fig.update_xaxes(showline=True, linewidth=2, linecolor='black', mirror=True, gridcolor='Pink')\n",
    "fig.update_yaxes(showline=True, linewidth=2, linecolor='black', mirror=True, gridcolor='Red')\n",
    "#fig.show()\n",
    "fig.write_html(r'C:\\Users\\eeeeeeeeee\\Documents\\JupyterAnacondaPythonNotebooks\\Daily\\Charts_px\\GSDR_Synergy\\{}.html'.format(FileName))\n",
    "plt.close()"
   ]
  },
  {
   "cell_type": "code",
   "execution_count": 79,
   "metadata": {},
   "outputs": [
    {
     "name": "stdout",
     "output_type": "stream",
     "text": [
      "      DatabaseName SchemaName          TableName\n",
      "6810  GSDR_Synergy       GEMS  SASI_SMST_SYNERGY\n"
     ]
    }
   ],
   "source": [
    "d = dfgsdrsyn0075[['DatabaseName', 'SchemaName','TableName']]#.format(z)\n",
    "d = d.drop_duplicates()\n",
    "e = d['DatabaseName'].values[0]\n",
    "f = d['SchemaName'].values[0]\n",
    "g = d['TableName'].values[0]\n",
    "print (d)\n",
    "FileName = ('GSDR_Synergy_{}_{}'.format(f,g))\n",
    "\n",
    "fig = px.scatter(dfgsdrsyn0075, x = 'TodaysDate', y='RecordCount', size = 'RecordCount', color = 'RecordCount')#.format(z)\n",
    "fig.update_layout(title = '{0},{1},{2}'.format(e,f,g))\n",
    "fig.update_layout(yaxis_zeroline=False, xaxis_zeroline=False)\n",
    "fig.update_xaxes(title_font=dict(size=18, color='crimson'))\n",
    "fig.update_yaxes(title_font=dict(size=18, color='crimson'))\n",
    "fig.update_xaxes(ticks=\"inside\")\n",
    "fig.update_yaxes(ticks=\"inside\")\n",
    "fig.update_xaxes(tickangle=45, tickfont=dict(color='crimson', size=14))\n",
    "fig.update_xaxes(showline=True, linewidth=2, linecolor='black', mirror=True, gridcolor='Pink')\n",
    "fig.update_yaxes(showline=True, linewidth=2, linecolor='black', mirror=True, gridcolor='Red')\n",
    "#fig.show()\n",
    "fig.write_html(r'C:\\Users\\eeeeeeeeee\\Documents\\JupyterAnacondaPythonNotebooks\\Daily\\Charts_px\\GSDR_Synergy\\{}.html'.format(FileName))\n",
    "plt.close()"
   ]
  },
  {
   "cell_type": "code",
   "execution_count": 80,
   "metadata": {},
   "outputs": [
    {
     "name": "stdout",
     "output_type": "stream",
     "text": [
      "      DatabaseName SchemaName                TableName\n",
      "6905  GSDR_Synergy       GEMS  SASI_SMST_SYNERGY_STAGE\n"
     ]
    }
   ],
   "source": [
    "d = dfgsdrsyn0076[['DatabaseName', 'SchemaName','TableName']]#.format(z)\n",
    "d = d.drop_duplicates()\n",
    "e = d['DatabaseName'].values[0]\n",
    "f = d['SchemaName'].values[0]\n",
    "g = d['TableName'].values[0]\n",
    "print (d)\n",
    "FileName = ('GSDR_Synergy_{}_{}'.format(f,g))\n",
    "\n",
    "fig = px.scatter(dfgsdrsyn0076, x = 'TodaysDate', y='RecordCount', size = 'RecordCount', color = 'RecordCount')#.format(z)\n",
    "fig.update_layout(title = '{0},{1},{2}'.format(e,f,g))\n",
    "fig.update_layout(yaxis_zeroline=False, xaxis_zeroline=False)\n",
    "fig.update_xaxes(title_font=dict(size=18, color='crimson'))\n",
    "fig.update_yaxes(title_font=dict(size=18, color='crimson'))\n",
    "fig.update_xaxes(ticks=\"inside\")\n",
    "fig.update_yaxes(ticks=\"inside\")\n",
    "fig.update_xaxes(tickangle=45, tickfont=dict(color='crimson', size=14))\n",
    "fig.update_xaxes(showline=True, linewidth=2, linecolor='black', mirror=True, gridcolor='Pink')\n",
    "fig.update_yaxes(showline=True, linewidth=2, linecolor='black', mirror=True, gridcolor='Red')\n",
    "#fig.show()\n",
    "fig.write_html(r'C:\\Users\\eeeeeeeeee\\Documents\\JupyterAnacondaPythonNotebooks\\Daily\\Charts_px\\GSDR_Synergy\\{}.html'.format(FileName))\n",
    "plt.close()"
   ]
  },
  {
   "cell_type": "code",
   "execution_count": 81,
   "metadata": {},
   "outputs": [
    {
     "name": "stdout",
     "output_type": "stream",
     "text": [
      "      DatabaseName SchemaName          TableName\n",
      "7000  GSDR_Synergy       GEMS  SASI_UABN_SYNERGY\n"
     ]
    }
   ],
   "source": [
    "d = dfgsdrsyn0077[['DatabaseName', 'SchemaName','TableName']]#.format(z)\n",
    "d = d.drop_duplicates()\n",
    "e = d['DatabaseName'].values[0]\n",
    "f = d['SchemaName'].values[0]\n",
    "g = d['TableName'].values[0]\n",
    "print (d)\n",
    "FileName = ('GSDR_Synergy_{}_{}'.format(f,g))\n",
    "\n",
    "fig = px.scatter(dfgsdrsyn0077, x = 'TodaysDate', y='RecordCount', size = 'RecordCount', color = 'RecordCount')#.format(z)\n",
    "fig.update_layout(title = '{0},{1},{2}'.format(e,f,g))\n",
    "fig.update_layout(yaxis_zeroline=False, xaxis_zeroline=False)\n",
    "fig.update_xaxes(title_font=dict(size=18, color='crimson'))\n",
    "fig.update_yaxes(title_font=dict(size=18, color='crimson'))\n",
    "fig.update_xaxes(ticks=\"inside\")\n",
    "fig.update_yaxes(ticks=\"inside\")\n",
    "fig.update_xaxes(tickangle=45, tickfont=dict(color='crimson', size=14))\n",
    "fig.update_xaxes(showline=True, linewidth=2, linecolor='black', mirror=True, gridcolor='Pink')\n",
    "fig.update_yaxes(showline=True, linewidth=2, linecolor='black', mirror=True, gridcolor='Red')\n",
    "#fig.show()\n",
    "fig.write_html(r'C:\\Users\\eeeeeeeeee\\Documents\\JupyterAnacondaPythonNotebooks\\Daily\\Charts_px\\GSDR_Synergy\\{}.html'.format(FileName))\n",
    "plt.close()"
   ]
  },
  {
   "cell_type": "code",
   "execution_count": 82,
   "metadata": {},
   "outputs": [
    {
     "name": "stdout",
     "output_type": "stream",
     "text": [
      "      DatabaseName SchemaName          TableName\n",
      "7095  GSDR_Synergy       GEMS  SASI_UATR_SYNERGY\n"
     ]
    }
   ],
   "source": [
    "d = dfgsdrsyn0078[['DatabaseName', 'SchemaName','TableName']]#.format(z)\n",
    "d = d.drop_duplicates()\n",
    "e = d['DatabaseName'].values[0]\n",
    "f = d['SchemaName'].values[0]\n",
    "g = d['TableName'].values[0]\n",
    "print (d)\n",
    "FileName = ('GSDR_Synergy_{}_{}'.format(f,g))\n",
    "\n",
    "fig = px.scatter(dfgsdrsyn0078, x = 'TodaysDate', y='RecordCount', size = 'RecordCount', color = 'RecordCount')#.format(z)\n",
    "fig.update_layout(title = '{0},{1},{2}'.format(e,f,g))\n",
    "fig.update_layout(yaxis_zeroline=False, xaxis_zeroline=False)\n",
    "fig.update_xaxes(title_font=dict(size=18, color='crimson'))\n",
    "fig.update_yaxes(title_font=dict(size=18, color='crimson'))\n",
    "fig.update_xaxes(ticks=\"inside\")\n",
    "fig.update_yaxes(ticks=\"inside\")\n",
    "fig.update_xaxes(tickangle=45, tickfont=dict(color='crimson', size=14))\n",
    "fig.update_xaxes(showline=True, linewidth=2, linecolor='black', mirror=True, gridcolor='Pink')\n",
    "fig.update_yaxes(showline=True, linewidth=2, linecolor='black', mirror=True, gridcolor='Red')\n",
    "#fig.show()\n",
    "fig.write_html(r'C:\\Users\\eeeeeeeeee\\Documents\\JupyterAnacondaPythonNotebooks\\Daily\\Charts_px\\GSDR_Synergy\\{}.html'.format(FileName))\n",
    "plt.close()"
   ]
  },
  {
   "cell_type": "code",
   "execution_count": 83,
   "metadata": {},
   "outputs": [
    {
     "name": "stdout",
     "output_type": "stream",
     "text": [
      "      DatabaseName SchemaName          TableName\n",
      "7190  GSDR_Synergy       GEMS  SASI_UCES_SYNERGY\n"
     ]
    }
   ],
   "source": [
    "d = dfgsdrsyn0079[['DatabaseName', 'SchemaName','TableName']]#.format(z)\n",
    "d = d.drop_duplicates()\n",
    "e = d['DatabaseName'].values[0]\n",
    "f = d['SchemaName'].values[0]\n",
    "g = d['TableName'].values[0]\n",
    "print (d)\n",
    "FileName = ('GSDR_Synergy_{}_{}'.format(f,g))\n",
    "\n",
    "fig = px.scatter(dfgsdrsyn0079, x = 'TodaysDate', y='RecordCount', size = 'RecordCount', color = 'RecordCount')#.format(z)\n",
    "fig.update_layout(title = '{0},{1},{2}'.format(e,f,g))\n",
    "fig.update_layout(yaxis_zeroline=False, xaxis_zeroline=False)\n",
    "fig.update_xaxes(title_font=dict(size=18, color='crimson'))\n",
    "fig.update_yaxes(title_font=dict(size=18, color='crimson'))\n",
    "fig.update_xaxes(ticks=\"inside\")\n",
    "fig.update_yaxes(ticks=\"inside\")\n",
    "fig.update_xaxes(tickangle=45, tickfont=dict(color='crimson', size=14))\n",
    "fig.update_xaxes(showline=True, linewidth=2, linecolor='black', mirror=True, gridcolor='Pink')\n",
    "fig.update_yaxes(showline=True, linewidth=2, linecolor='black', mirror=True, gridcolor='Red')\n",
    "#fig.show()\n",
    "fig.write_html(r'C:\\Users\\eeeeeeeeee\\Documents\\JupyterAnacondaPythonNotebooks\\Daily\\Charts_px\\GSDR_Synergy\\{}.html'.format(FileName))\n",
    "plt.close()"
   ]
  },
  {
   "cell_type": "code",
   "execution_count": 84,
   "metadata": {},
   "outputs": [
    {
     "name": "stdout",
     "output_type": "stream",
     "text": [
      "      DatabaseName SchemaName          TableName\n",
      "7285  GSDR_Synergy       GEMS  SASI_UCMS_SYNERGY\n"
     ]
    }
   ],
   "source": [
    "d = dfgsdrsyn0080[['DatabaseName', 'SchemaName','TableName']]#.format(z)\n",
    "d = d.drop_duplicates()\n",
    "e = d['DatabaseName'].values[0]\n",
    "f = d['SchemaName'].values[0]\n",
    "g = d['TableName'].values[0]\n",
    "print (d)\n",
    "FileName = ('GSDR_Synergy_{}_{}'.format(f,g))\n",
    "\n",
    "fig = px.scatter(dfgsdrsyn0080, x = 'TodaysDate', y='RecordCount', size = 'RecordCount', color = 'RecordCount')#.format(z)\n",
    "fig.update_layout(title = '{0},{1},{2}'.format(e,f,g))\n",
    "fig.update_layout(yaxis_zeroline=False, xaxis_zeroline=False)\n",
    "fig.update_xaxes(title_font=dict(size=18, color='crimson'))\n",
    "fig.update_yaxes(title_font=dict(size=18, color='crimson'))\n",
    "fig.update_xaxes(ticks=\"inside\")\n",
    "fig.update_yaxes(ticks=\"inside\")\n",
    "fig.update_xaxes(tickangle=45, tickfont=dict(color='crimson', size=14))\n",
    "fig.update_xaxes(showline=True, linewidth=2, linecolor='black', mirror=True, gridcolor='Pink')\n",
    "fig.update_yaxes(showline=True, linewidth=2, linecolor='black', mirror=True, gridcolor='Red')\n",
    "#fig.show()\n",
    "fig.write_html(r'C:\\Users\\eeeeeeeeee\\Documents\\JupyterAnacondaPythonNotebooks\\Daily\\Charts_px\\GSDR_Synergy\\{}.html'.format(FileName))\n",
    "plt.close()"
   ]
  },
  {
   "cell_type": "code",
   "execution_count": 85,
   "metadata": {},
   "outputs": [
    {
     "name": "stdout",
     "output_type": "stream",
     "text": [
      "      DatabaseName SchemaName          TableName\n",
      "7380  GSDR_Synergy       GEMS  SASI_UGFT_SYNERGY\n"
     ]
    }
   ],
   "source": [
    "d = dfgsdrsyn0081[['DatabaseName', 'SchemaName','TableName']]#.format(z)\n",
    "d = d.drop_duplicates()\n",
    "e = d['DatabaseName'].values[0]\n",
    "f = d['SchemaName'].values[0]\n",
    "g = d['TableName'].values[0]\n",
    "print (d)\n",
    "FileName = ('GSDR_Synergy_{}_{}'.format(f,g))\n",
    "\n",
    "fig = px.scatter(dfgsdrsyn0081, x = 'TodaysDate', y='RecordCount', size = 'RecordCount', color = 'RecordCount')#.format(z)\n",
    "fig.update_layout(title = '{0},{1},{2}'.format(e,f,g))\n",
    "fig.update_layout(yaxis_zeroline=False, xaxis_zeroline=False)\n",
    "fig.update_xaxes(title_font=dict(size=18, color='crimson'))\n",
    "fig.update_yaxes(title_font=dict(size=18, color='crimson'))\n",
    "fig.update_xaxes(ticks=\"inside\")\n",
    "fig.update_yaxes(ticks=\"inside\")\n",
    "fig.update_xaxes(tickangle=45, tickfont=dict(color='crimson', size=14))\n",
    "fig.update_xaxes(showline=True, linewidth=2, linecolor='black', mirror=True, gridcolor='Pink')\n",
    "fig.update_yaxes(showline=True, linewidth=2, linecolor='black', mirror=True, gridcolor='Red')\n",
    "#fig.show()\n",
    "fig.write_html(r'C:\\Users\\eeeeeeeeee\\Documents\\JupyterAnacondaPythonNotebooks\\Daily\\Charts_px\\GSDR_Synergy\\{}.html'.format(FileName))\n",
    "plt.close()"
   ]
  },
  {
   "cell_type": "code",
   "execution_count": 86,
   "metadata": {},
   "outputs": [
    {
     "name": "stdout",
     "output_type": "stream",
     "text": [
      "      DatabaseName SchemaName          TableName\n",
      "7475  GSDR_Synergy       GEMS  SASI_UPSR_SYNERGY\n"
     ]
    }
   ],
   "source": [
    "d = dfgsdrsyn0082[['DatabaseName', 'SchemaName','TableName']]#.format(z)\n",
    "d = d.drop_duplicates()\n",
    "e = d['DatabaseName'].values[0]\n",
    "f = d['SchemaName'].values[0]\n",
    "g = d['TableName'].values[0]\n",
    "print (d)\n",
    "FileName = ('GSDR_Synergy_{}_{}'.format(f,g))\n",
    "\n",
    "fig = px.scatter(dfgsdrsyn0082, x = 'TodaysDate', y='RecordCount', size = 'RecordCount', color = 'RecordCount')#.format(z)\n",
    "fig.update_layout(title = '{0},{1},{2}'.format(e,f,g))\n",
    "fig.update_layout(yaxis_zeroline=False, xaxis_zeroline=False)\n",
    "fig.update_xaxes(title_font=dict(size=18, color='crimson'))\n",
    "fig.update_yaxes(title_font=dict(size=18, color='crimson'))\n",
    "fig.update_xaxes(ticks=\"inside\")\n",
    "fig.update_yaxes(ticks=\"inside\")\n",
    "fig.update_xaxes(tickangle=45, tickfont=dict(color='crimson', size=14))\n",
    "fig.update_xaxes(showline=True, linewidth=2, linecolor='black', mirror=True, gridcolor='Pink')\n",
    "fig.update_yaxes(showline=True, linewidth=2, linecolor='black', mirror=True, gridcolor='Red')\n",
    "#fig.show()\n",
    "fig.write_html(r'C:\\Users\\eeeeeeeeee\\Documents\\JupyterAnacondaPythonNotebooks\\Daily\\Charts_px\\GSDR_Synergy\\{}.html'.format(FileName))\n",
    "plt.close()"
   ]
  },
  {
   "cell_type": "code",
   "execution_count": 87,
   "metadata": {},
   "outputs": [
    {
     "name": "stdout",
     "output_type": "stream",
     "text": [
      "      DatabaseName SchemaName         TableName\n",
      "7570  GSDR_Synergy       GEMS  TEST_STU_ACC_OOD\n"
     ]
    }
   ],
   "source": [
    "d = dfgsdrsyn0083[['DatabaseName', 'SchemaName','TableName']]#.format(z)\n",
    "d = d.drop_duplicates()\n",
    "e = d['DatabaseName'].values[0]\n",
    "f = d['SchemaName'].values[0]\n",
    "g = d['TableName'].values[0]\n",
    "print (d)\n",
    "FileName = ('GSDR_Synergy_{}_{}'.format(f,g))\n",
    "\n",
    "fig = px.scatter(dfgsdrsyn0083, x = 'TodaysDate', y='RecordCount', size = 'RecordCount', color = 'RecordCount')#.format(z)\n",
    "fig.update_layout(title = '{0},{1},{2}'.format(e,f,g))\n",
    "fig.update_layout(yaxis_zeroline=False, xaxis_zeroline=False)\n",
    "fig.update_xaxes(title_font=dict(size=18, color='crimson'))\n",
    "fig.update_yaxes(title_font=dict(size=18, color='crimson'))\n",
    "fig.update_xaxes(ticks=\"inside\")\n",
    "fig.update_yaxes(ticks=\"inside\")\n",
    "fig.update_xaxes(tickangle=45, tickfont=dict(color='crimson', size=14))\n",
    "fig.update_xaxes(showline=True, linewidth=2, linecolor='black', mirror=True, gridcolor='Pink')\n",
    "fig.update_yaxes(showline=True, linewidth=2, linecolor='black', mirror=True, gridcolor='Red')\n",
    "#fig.show()\n",
    "fig.write_html(r'C:\\Users\\eeeeeeeeee\\Documents\\JupyterAnacondaPythonNotebooks\\Daily\\Charts_px\\GSDR_Synergy\\{}.html'.format(FileName))\n",
    "plt.close()"
   ]
  },
  {
   "cell_type": "code",
   "execution_count": 88,
   "metadata": {},
   "outputs": [
    {
     "name": "stdout",
     "output_type": "stream",
     "text": [
      "Interactive Chart Creation - Process Complete:  2021-05-12 08:58:26\n"
     ]
    }
   ],
   "source": [
    "now01 = datetime.datetime.now()\n",
    "print('Interactive Chart Creation - Process Complete: ', now01.strftime(\"%Y-%m-%d %H:%M:%S\"))"
   ]
  },
  {
   "cell_type": "code",
   "execution_count": null,
   "metadata": {},
   "outputs": [],
   "source": []
  }
 ],
 "metadata": {
  "kernelspec": {
   "display_name": "Python 3",
   "language": "python",
   "name": "python3"
  },
  "language_info": {
   "codemirror_mode": {
    "name": "ipython",
    "version": 3
   },
   "file_extension": ".py",
   "mimetype": "text/x-python",
   "name": "python",
   "nbconvert_exporter": "python",
   "pygments_lexer": "ipython3",
   "version": "3.8.3"
  }
 },
 "nbformat": 4,
 "nbformat_minor": 4
}
