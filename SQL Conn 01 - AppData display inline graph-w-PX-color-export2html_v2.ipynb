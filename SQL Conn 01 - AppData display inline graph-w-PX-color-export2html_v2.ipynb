{
 "cells": [
  {
   "cell_type": "code",
   "execution_count": 224,
   "metadata": {},
   "outputs": [
    {
     "name": "stdout",
     "output_type": "stream",
     "text": [
      "The sql extension is already loaded. To reload it, use:\n",
      "  %reload_ext sql\n"
     ]
    }
   ],
   "source": [
    "#Program Name: Graphing ODS Databases - SQL Conn 01 - AppData display inline graph-w-PX-color-export2html_v2\n",
    "#Purpose:  Chart scatter, line, box, aggr, violin, or bar with table data\n",
    "#Author:  Greg Turmel, Director, Data Governance \n",
    "#Date:    2020.08.30 - 2021.06.30\n",
    "#Errata:  0.1 Improvements can be made to script using for/looping through the databases\n",
    "\n",
    "import os\n",
    "import time, datetime\n",
    "import sqlalchemy as db\n",
    "import pandas as pd\n",
    "import numpy as np\n",
    "from matplotlib import pyplot as plt\n",
    "import pyodbc \n",
    "import matplotlib\n",
    "import plotly.express as px\n",
    "\n",
    "#matplotlib.rcParams['figure.figsize'] = (30,5)\n",
    "%config InlineBackend.figure_format = 'retina'\n",
    "from dotenv import load_dotenv # add this line\n",
    "load_dotenv() # add this line\n",
    "user = os.getenv('MySQLeUser')\n",
    "password = os.getenv('MySQLeUserPass')\n",
    "host = os.getenv('MySQLeHOST')\n",
    "db = os.getenv('MySQLeDB')\n",
    "%matplotlib inline\n",
    "%load_ext sql\n",
    "\n",
    "dt1 = time.strftime(\"%d/%m/%Y\")\n",
    "dt2 = time.strftime(\"%d.%m.%Y\")\n",
    "dt3 = pd.to_datetime('today')\n",
    "dt4 = pd.Timestamp('today').strftime(\"%Y%m%d\")"
   ]
  },
  {
   "cell_type": "code",
   "execution_count": 225,
   "metadata": {},
   "outputs": [],
   "source": [
    "conn = pyodbc.connect('Driver={SQL Server};'\n",
    "                      'Server=DEVODSSQL;'\n",
    "                      'Database=Greg;'\n",
    "                      'Trusted_Connection=yes;')\n",
    "\n",
    "sql_query01 = pd.read_sql_query(''' \n",
    "select DISTINCT TableName\n",
    "FROM [dbo].[tableRowCountApplicationData]\n",
    "ORDER BY TableName;     \n",
    "                              '''\n",
    "                              ,conn) # Load the list of distinct tables to graph\n",
    "\n",
    "sql_query02 = pd.read_sql_query(''' \n",
    "select *\n",
    "FROM [dbo].[tableRowCountApplicationData]\n",
    "ORDER BY TableName;     \n",
    "                              '''\n",
    "                              ,conn) # Load the list of distinct tables to graph\n"
   ]
  },
  {
   "cell_type": "code",
   "execution_count": 226,
   "metadata": {},
   "outputs": [],
   "source": [
    "df = pd.DataFrame(sql_query02)\n",
    "#df = df.astype({'TodaysDate':np.int64,'RecordCount':np.int64})\n",
    "df['TodaysDate'] = pd.to_datetime(df['TodaysDate'].astype(str), format='%Y%m%d')\n",
    "df = df.sort_values(by=['TableName','SchemaName','DatabaseName','TodaysDate'], ascending=[True,True,True,True])\n",
    "df = df.reset_index(drop=True)"
   ]
  },
  {
   "cell_type": "code",
   "execution_count": 227,
   "metadata": {},
   "outputs": [],
   "source": [
    "dfappdata0001 = df[(df['DatabaseName'] == 'ApplicationData') & (df['SchemaName'] == 'ABC') & (df['TableName'] == 'ClasStuABCYrSum')]\n",
    "dfappdata0002 = df[(df['DatabaseName'] == 'ApplicationData') & (df['SchemaName'] == 'dbo') & (df['TableName'] == 'AcademicContract')]\n",
    "dfappdata0003 = df[(df['DatabaseName'] == 'ApplicationData') & (df['SchemaName'] == 'dbo') & (df['TableName'] == 'AcademicContractIntervention')]\n",
    "dfappdata0004 = df[(df['DatabaseName'] == 'ApplicationData') & (df['SchemaName'] == 'dbo') & (df['TableName'] == 'HSSElectives')]\n",
    "dfappdata0005 = df[(df['DatabaseName'] == 'ApplicationData') & (df['SchemaName'] == 'dbo') & (df['TableName'] == 'MHSElectives')]\n",
    "dfappdata0006 = df[(df['DatabaseName'] == 'ApplicationData') & (df['SchemaName'] == 'dbo') & (df['TableName'] == 'ProdStudentTrendingGrades')]\n",
    "dfappdata0007 = df[(df['DatabaseName'] == 'ApplicationData') & (df['SchemaName'] == 'dbo') & (df['TableName'] == 'ROSTER_GSC')]\n",
    "dfappdata0008 = df[(df['DatabaseName'] == 'ApplicationData') & (df['SchemaName'] == 'dbo') & (df['TableName'] == 'ROSTER_GSS')]\n",
    "dfappdata0009 = df[(df['DatabaseName'] == 'ApplicationData') & (df['SchemaName'] == 'dbo') & (df['TableName'] == 'Survey_Report_Codes')]\n",
    "dfappdata0010 = df[(df['DatabaseName'] == 'ApplicationData') & (df['SchemaName'] == 'dbo') & (df['TableName'] == 'Survey_Report_Summary')]\n",
    "dfappdata0011 = df[(df['DatabaseName'] == 'ApplicationData') & (df['SchemaName'] == 'dbo') & (df['TableName'] == 'Survey_Respondent_Report')]\n",
    "dfappdata0012 = df[(df['DatabaseName'] == 'ApplicationData') & (df['SchemaName'] == 'dbo') & (df['TableName'] == 'sysdiagrams')]\n",
    "dfappdata0013 = df[(df['DatabaseName'] == 'ApplicationData') & (df['SchemaName'] == 'ExternalStudents') & (df['TableName'] == 'Log4Net')]\n",
    "dfappdata0014 = df[(df['DatabaseName'] == 'ApplicationData') & (df['SchemaName'] == 'GCPSMaxScan') & (df['TableName'] == 'Log4Net')]\n",
    "dfappdata0015 = df[(df['DatabaseName'] == 'ApplicationData') & (df['SchemaName'] == 'GTID') & (df['TableName'] == 'AuditLog')]\n",
    "dfappdata0016 = df[(df['DatabaseName'] == 'ApplicationData') & (df['SchemaName'] == 'GTID') & (df['TableName'] == 'G_GBATCH')]\n",
    "dfappdata0017 = df[(df['DatabaseName'] == 'ApplicationData') & (df['SchemaName'] == 'GTID') & (df['TableName'] == 'G_GTID_HISTORY')]\n",
    "dfappdata0018 = df[(df['DatabaseName'] == 'ApplicationData') & (df['SchemaName'] == 'GTID') & (df['TableName'] == 'G_GTID_IMPORT')]\n",
    "dfappdata0019 = df[(df['DatabaseName'] == 'ApplicationData') & (df['SchemaName'] == 'GTID') & (df['TableName'] == 'G_GTID_IMPORT_ERROR_CODES')]\n",
    "dfappdata0020 = df[(df['DatabaseName'] == 'ApplicationData') & (df['SchemaName'] == 'GTID') & (df['TableName'] == 'G_GTID_IMPORT_ERRORS')]\n",
    "dfappdata0021 = df[(df['DatabaseName'] == 'ApplicationData') & (df['SchemaName'] == 'GTID') & (df['TableName'] == 'G_GTID_STU_BATCH')]\n",
    "dfappdata0022 = df[(df['DatabaseName'] == 'ApplicationData') & (df['SchemaName'] == 'GTID') & (df['TableName'] == 'Log4Net')]\n",
    "dfappdata0023 = df[(df['DatabaseName'] == 'ApplicationData') & (df['SchemaName'] == 'LogView') & (df['TableName'] == 'AccessRights')]\n",
    "dfappdata0024 = df[(df['DatabaseName'] == 'ApplicationData') & (df['SchemaName'] == 'LogView') & (df['TableName'] == 'ApplicationLog')]\n",
    "dfappdata0025 = df[(df['DatabaseName'] == 'ApplicationData') & (df['SchemaName'] == 'LogView') & (df['TableName'] == 'Log4Net')]\n",
    "dfappdata0026 = df[(df['DatabaseName'] == 'ApplicationData') & (df['SchemaName'] == 'MockElection') & (df['TableName'] == 'BallotMeasure')]\n",
    "dfappdata0027 = df[(df['DatabaseName'] == 'ApplicationData') & (df['SchemaName'] == 'MockElection') & (df['TableName'] == 'Candidate')]\n",
    "dfappdata0028 = df[(df['DatabaseName'] == 'ApplicationData') & (df['SchemaName'] == 'MockElection') & (df['TableName'] == 'CandidateResults')]\n",
    "dfappdata0029 = df[(df['DatabaseName'] == 'ApplicationData') & (df['SchemaName'] == 'MockElection') & (df['TableName'] == 'Cluster')]\n",
    "dfappdata0030 = df[(df['DatabaseName'] == 'ApplicationData') & (df['SchemaName'] == 'MockElection') & (df['TableName'] == 'Defaults')]\n",
    "dfappdata0031 = df[(df['DatabaseName'] == 'ApplicationData') & (df['SchemaName'] == 'MockElection') & (df['TableName'] == 'ElectionType')]\n",
    "dfappdata0032 = df[(df['DatabaseName'] == 'ApplicationData') & (df['SchemaName'] == 'MockElection') & (df['TableName'] == 'Log4Net')]\n",
    "dfappdata0033 = df[(df['DatabaseName'] == 'ApplicationData') & (df['SchemaName'] == 'MockElection') & (df['TableName'] == 'MeasureCluster')]\n",
    "dfappdata0034 = df[(df['DatabaseName'] == 'ApplicationData') & (df['SchemaName'] == 'MockElection') & (df['TableName'] == 'MeasureResults')]\n",
    "dfappdata0035 = df[(df['DatabaseName'] == 'ApplicationData') & (df['SchemaName'] == 'MockElection') & (df['TableName'] == 'Office')]\n",
    "dfappdata0036 = df[(df['DatabaseName'] == 'ApplicationData') & (df['SchemaName'] == 'MockElection') & (df['TableName'] == 'OfficeCluster')]\n",
    "dfappdata0037 = df[(df['DatabaseName'] == 'ApplicationData') & (df['SchemaName'] == 'MockElection') & (df['TableName'] == 'PartyType')]\n",
    "dfappdata0038 = df[(df['DatabaseName'] == 'ApplicationData') & (df['SchemaName'] == 'MockElection') & (df['TableName'] == 'School')]\n",
    "dfappdata0039 = df[(df['DatabaseName'] == 'ApplicationData') & (df['SchemaName'] == 'RunTime') & (df['TableName'] == 'Application')]\n",
    "dfappdata0040 = df[(df['DatabaseName'] == 'ApplicationData') & (df['SchemaName'] == 'RunTime') & (df['TableName'] == 'ApplicationAvailibility')]\n",
    "dfappdata0041 = df[(df['DatabaseName'] == 'ApplicationData') & (df['SchemaName'] == 'RunTime') & (df['TableName'] == 'ApplicationSchemaVersion')]\n",
    "dfappdata0042 = df[(df['DatabaseName'] == 'ApplicationData') & (df['SchemaName'] == 'SP') & (df['TableName'] == 'AttendanceByMonth')]\n",
    "dfappdata0043 = df[(df['DatabaseName'] == 'ApplicationData') & (df['SchemaName'] == 'SP') & (df['TableName'] == 'ClusterDemogrSummary')]\n",
    "dfappdata0044 = df[(df['DatabaseName'] == 'ApplicationData') & (df['SchemaName'] == 'SP') & (df['TableName'] == 'ClusterProfileSummary')]\n",
    "dfappdata0045 = df[(df['DatabaseName'] == 'ApplicationData') & (df['SchemaName'] == 'SP') & (df['TableName'] == 'EdLevelDemogrSummary')]\n",
    "dfappdata0046 = df[(df['DatabaseName'] == 'ApplicationData') & (df['SchemaName'] == 'SP') & (df['TableName'] == 'EdLevelProfile')]\n",
    "dfappdata0047 = df[(df['DatabaseName'] == 'ApplicationData') & (df['SchemaName'] == 'SP') & (df['TableName'] == 'EnvSettings')]\n",
    "dfappdata0048 = df[(df['DatabaseName'] == 'ApplicationData') & (df['SchemaName'] == 'SP') & (df['TableName'] == 'GradeLevel')]\n",
    "dfappdata0049 = df[(df['DatabaseName'] == 'ApplicationData') & (df['SchemaName'] == 'SP') & (df['TableName'] == 'HSGradeSummary')]\n",
    "dfappdata0050 = df[(df['DatabaseName'] == 'ApplicationData') & (df['SchemaName'] == 'SP') & (df['TableName'] == 'MSGradeSummary')]\n",
    "dfappdata0051 = df[(df['DatabaseName'] == 'ApplicationData') & (df['SchemaName'] == 'SP') & (df['TableName'] == 'SchoolDemogrSummary')]\n",
    "dfappdata0052 = df[(df['DatabaseName'] == 'ApplicationData') & (df['SchemaName'] == 'SP') & (df['TableName'] == 'SchoolProfileSummary')]\n",
    "dfappdata0053 = df[(df['DatabaseName'] == 'ApplicationData') & (df['SchemaName'] == 'SP') & (df['TableName'] == 'SchoolTchStuCounts')]\n",
    "dfappdata0054 = df[(df['DatabaseName'] == 'ApplicationData') & (df['SchemaName'] == 'SP') & (df['TableName'] == 'StudentCurrentYearSummary')]\n",
    "dfappdata0055 = df[(df['DatabaseName'] == 'ApplicationData') & (df['SchemaName'] == 'SP') & (df['TableName'] == 'TeacherStudentSummary')]\n",
    "dfappdata0056 = df[(df['DatabaseName'] == 'ApplicationData') & (df['SchemaName'] == 'SSIS_RunTime') & (df['TableName'] == 'RUN')]\n",
    "dfappdata0057 = df[(df['DatabaseName'] == 'ApplicationData') & (df['SchemaName'] == 'SSIS_RunTime') & (df['TableName'] == 'RUN_ITEM')]\n",
    "dfappdata0058 = df[(df['DatabaseName'] == 'ApplicationData') & (df['SchemaName'] == 'SSIS_RunTime') & (df['TableName'] == 'RUN_PACKAGE_OVERRIDES')]\n",
    "dfappdata0059 = df[(df['DatabaseName'] == 'ApplicationData') & (df['SchemaName'] == 'StemRegistration') & (df['TableName'] == 'Cluster')]\n",
    "dfappdata0060 = df[(df['DatabaseName'] == 'ApplicationData') & (df['SchemaName'] == 'StemRegistration') & (df['TableName'] == 'Course')]\n",
    "dfappdata0061 = df[(df['DatabaseName'] == 'ApplicationData') & (df['SchemaName'] == 'StemRegistration') & (df['TableName'] == 'CourseCategory')]\n",
    "dfappdata0062 = df[(df['DatabaseName'] == 'ApplicationData') & (df['SchemaName'] == 'StemRegistration') & (df['TableName'] == 'Language')]\n",
    "dfappdata0063 = df[(df['DatabaseName'] == 'ApplicationData') & (df['SchemaName'] == 'StemRegistration') & (df['TableName'] == 'Registration')]\n",
    "dfappdata0064 = df[(df['DatabaseName'] == 'ApplicationData') & (df['SchemaName'] == 'StemRegistration') & (df['TableName'] == 'RegistrationStatus')]\n",
    "dfappdata0065 = df[(df['DatabaseName'] == 'ApplicationData') & (df['SchemaName'] == 'StemRegistration') & (df['TableName'] == 'School')]\n",
    "dfappdata0066 = df[(df['DatabaseName'] == 'ApplicationData') & (df['SchemaName'] == 'StemRegistration') & (df['TableName'] == 'UserComments')]\n",
    "dfappdata0067 = df[(df['DatabaseName'] == 'ApplicationData') & (df['SchemaName'] == 'StudentCheckInOut') & (df['TableName'] == 'CheckInCheckOutDetail')]\n",
    "dfappdata0068 = df[(df['DatabaseName'] == 'ApplicationData') & (df['SchemaName'] == 'StudentCheckInOut') & (df['TableName'] == 'LocationType')]\n",
    "dfappdata0069 = df[(df['DatabaseName'] == 'ApplicationData') & (df['SchemaName'] == 'StudentCheckInOut') & (df['TableName'] == 'LocationTypeOption')]\n",
    "dfappdata0070 = df[(df['DatabaseName'] == 'ApplicationData') & (df['SchemaName'] == 'StudentCheckInOut') & (df['TableName'] == 'Log4Net')]\n",
    "dfappdata0071 = df[(df['DatabaseName'] == 'ApplicationData') & (df['SchemaName'] == 'StudentCheckInOut') & (df['TableName'] == 'MediaCheckInType')]\n",
    "dfappdata0072 = df[(df['DatabaseName'] == 'ApplicationData') & (df['SchemaName'] == 'StudentCheckInOut') & (df['TableName'] == 'School')]\n",
    "dfappdata0073 = df[(df['DatabaseName'] == 'ApplicationData') & (df['SchemaName'] == 'StudentCheckInOut') & (df['TableName'] == 'SchoolConfiguration')]\n",
    "dfappdata0074 = df[(df['DatabaseName'] == 'ApplicationData') & (df['SchemaName'] == 'StudentCheckInOut') & (df['TableName'] == 'SchoolLocation')]\n",
    "dfappdata0075 = df[(df['DatabaseName'] == 'ApplicationData') & (df['SchemaName'] == 'StudentCheckInOut') & (df['TableName'] == 'SchoolSetting')]\n",
    "dfappdata0076 = df[(df['DatabaseName'] == 'ApplicationData') & (df['SchemaName'] == 'StudentCheckInOut') & (df['TableName'] == 'TypeCode')]\n",
    "dfappdata0077 = df[(df['DatabaseName'] == 'ApplicationData') & (df['SchemaName'] == 'StudentProfile') & (df['TableName'] == 'Addendum_Log')]\n",
    "dfappdata0078 = df[(df['DatabaseName'] == 'ApplicationData') & (df['SchemaName'] == 'StudentProfile') & (df['TableName'] == 'BasePicture')]\n",
    "dfappdata0079 = df[(df['DatabaseName'] == 'ApplicationData') & (df['SchemaName'] == 'StudentProfile') & (df['TableName'] == 'DIM_AbsenceType')]\n",
    "dfappdata0080 = df[(df['DatabaseName'] == 'ApplicationData') & (df['SchemaName'] == 'StudentProfile') & (df['TableName'] == 'DIM_Calendar')]\n",
    "dfappdata0081 = df[(df['DatabaseName'] == 'ApplicationData') & (df['SchemaName'] == 'StudentProfile') & (df['TableName'] == 'DIM_ClassSchedule')]\n",
    "dfappdata0082 = df[(df['DatabaseName'] == 'ApplicationData') & (df['SchemaName'] == 'StudentProfile') & (df['TableName'] == 'DIM_CodeTable')]\n",
    "dfappdata0083 = df[(df['DatabaseName'] == 'ApplicationData') & (df['SchemaName'] == 'StudentProfile') & (df['TableName'] == 'DIM_Course')]\n",
    "dfappdata0084 = df[(df['DatabaseName'] == 'ApplicationData') & (df['SchemaName'] == 'StudentProfile') & (df['TableName'] == 'DIM_CourseCategory')]\n",
    "dfappdata0085 = df[(df['DatabaseName'] == 'ApplicationData') & (df['SchemaName'] == 'StudentProfile') & (df['TableName'] == 'DIM_CourseOffering')]\n",
    "dfappdata0086 = df[(df['DatabaseName'] == 'ApplicationData') & (df['SchemaName'] == 'StudentProfile') & (df['TableName'] == 'DIM_CourseSearch')]\n",
    "dfappdata0087 = df[(df['DatabaseName'] == 'ApplicationData') & (df['SchemaName'] == 'StudentProfile') & (df['TableName'] == 'DIM_DisciplineInfractionRules')]\n",
    "dfappdata0088 = df[(df['DatabaseName'] == 'ApplicationData') & (df['SchemaName'] == 'StudentProfile') & (df['TableName'] == 'DIM_Educator')]\n",
    "dfappdata0089 = df[(df['DatabaseName'] == 'ApplicationData') & (df['SchemaName'] == 'StudentProfile') & (df['TableName'] == 'DIM_EducatorSearch')]\n",
    "dfappdata0090 = df[(df['DatabaseName'] == 'ApplicationData') & (df['SchemaName'] == 'StudentProfile') & (df['TableName'] == 'DIM_Employee')]\n",
    "dfappdata0091 = df[(df['DatabaseName'] == 'ApplicationData') & (df['SchemaName'] == 'StudentProfile') & (df['TableName'] == 'DIM_JobCode')]\n",
    "dfappdata0092 = df[(df['DatabaseName'] == 'ApplicationData') & (df['SchemaName'] == 'StudentProfile') & (df['TableName'] == 'DIM_Location')]\n",
    "dfappdata0093 = df[(df['DatabaseName'] == 'ApplicationData') & (df['SchemaName'] == 'StudentProfile') & (df['TableName'] == 'DIM_School')]\n",
    "dfappdata0094 = df[(df['DatabaseName'] == 'ApplicationData') & (df['SchemaName'] == 'StudentProfile') & (df['TableName'] == 'DIM_ServiceProgramDefinition')]\n",
    "dfappdata0095 = df[(df['DatabaseName'] == 'ApplicationData') & (df['SchemaName'] == 'StudentProfile') & (df['TableName'] == 'DIM_Student')]\n",
    "dfappdata0096 = df[(df['DatabaseName'] == 'ApplicationData') & (df['SchemaName'] == 'StudentProfile') & (df['TableName'] == 'DIM_StudentDistrictDetail')]\n",
    "dfappdata0097 = df[(df['DatabaseName'] == 'ApplicationData') & (df['SchemaName'] == 'StudentProfile') & (df['TableName'] == 'DIM_StudentEmail')]\n",
    "dfappdata0098 = df[(df['DatabaseName'] == 'ApplicationData') & (df['SchemaName'] == 'StudentProfile') & (df['TableName'] == 'DIM_StudentNext')]\n",
    "dfappdata0099 = df[(df['DatabaseName'] == 'ApplicationData') & (df['SchemaName'] == 'StudentProfile') & (df['TableName'] == 'DIM_StudentPicture')]\n",
    "dfappdata0100 = df[(df['DatabaseName'] == 'ApplicationData') & (df['SchemaName'] == 'StudentProfile') & (df['TableName'] == 'DIM_StudentSearch')]\n",
    "dfappdata0101 = df[(df['DatabaseName'] == 'ApplicationData') & (df['SchemaName'] == 'StudentProfile') & (df['TableName'] == 'DIM_Term')]\n",
    "dfappdata0102 = df[(df['DatabaseName'] == 'ApplicationData') & (df['SchemaName'] == 'StudentProfile') & (df['TableName'] == 'FACT_A504')]\n",
    "dfappdata0103 = df[(df['DatabaseName'] == 'ApplicationData') & (df['SchemaName'] == 'StudentProfile') & (df['TableName'] == 'FACT_AcademicContract')]\n",
    "dfappdata0104 = df[(df['DatabaseName'] == 'ApplicationData') & (df['SchemaName'] == 'StudentProfile') & (df['TableName'] == 'FACT_AlternateTransportation')]\n",
    "dfappdata0105 = df[(df['DatabaseName'] == 'ApplicationData') & (df['SchemaName'] == 'StudentProfile') & (df['TableName'] == 'FACT_Assessment')]\n",
    "dfappdata0106 = df[(df['DatabaseName'] == 'ApplicationData') & (df['SchemaName'] == 'StudentProfile') & (df['TableName'] == 'FACT_AttendanceByPeriod')]\n",
    "dfappdata0107 = df[(df['DatabaseName'] == 'ApplicationData') & (df['SchemaName'] == 'StudentProfile') & (df['TableName'] == 'FACT_AttendanceByType')]\n",
    "dfappdata0108 = df[(df['DatabaseName'] == 'ApplicationData') & (df['SchemaName'] == 'StudentProfile') & (df['TableName'] == 'FACT_AttendanceDaily')]\n",
    "dfappdata0109 = df[(df['DatabaseName'] == 'ApplicationData') & (df['SchemaName'] == 'StudentProfile') & (df['TableName'] == 'FACT_AttendanceDaily_History')]\n",
    "dfappdata0110 = df[(df['DatabaseName'] == 'ApplicationData') & (df['SchemaName'] == 'StudentProfile') & (df['TableName'] == 'FACT_BookFines')]\n",
    "dfappdata0111 = df[(df['DatabaseName'] == 'ApplicationData') & (df['SchemaName'] == 'StudentProfile') & (df['TableName'] == 'FACT_Books')]\n",
    "dfappdata0112 = df[(df['DatabaseName'] == 'ApplicationData') & (df['SchemaName'] == 'StudentProfile') & (df['TableName'] == 'FACT_BusRoute')]\n",
    "dfappdata0113 = df[(df['DatabaseName'] == 'ApplicationData') & (df['SchemaName'] == 'StudentProfile') & (df['TableName'] == 'FACT_Cafeteria')]\n",
    "dfappdata0114 = df[(df['DatabaseName'] == 'ApplicationData') & (df['SchemaName'] == 'StudentProfile') & (df['TableName'] == 'FACT_CCRPI')]\n",
    "dfappdata0115 = df[(df['DatabaseName'] == 'ApplicationData') & (df['SchemaName'] == 'StudentProfile') & (df['TableName'] == 'FACT_CheckInCheckOutDetail')]\n",
    "dfappdata0116 = df[(df['DatabaseName'] == 'ApplicationData') & (df['SchemaName'] == 'StudentProfile') & (df['TableName'] == 'FACT_ClinicVisit')]\n",
    "dfappdata0117 = df[(df['DatabaseName'] == 'ApplicationData') & (df['SchemaName'] == 'StudentProfile') & (df['TableName'] == 'FACT_CourseHistoryDetails')]\n",
    "dfappdata0118 = df[(df['DatabaseName'] == 'ApplicationData') & (df['SchemaName'] == 'StudentProfile') & (df['TableName'] == 'FACT_CurrentLetterScore')]\n",
    "dfappdata0119 = df[(df['DatabaseName'] == 'ApplicationData') & (df['SchemaName'] == 'StudentProfile') & (df['TableName'] == 'FACT_DisciplineIncident')]\n",
    "dfappdata0120 = df[(df['DatabaseName'] == 'ApplicationData') & (df['SchemaName'] == 'StudentProfile') & (df['TableName'] == 'FACT_DisciplineTotal')]\n",
    "dfappdata0121 = df[(df['DatabaseName'] == 'ApplicationData') & (df['SchemaName'] == 'StudentProfile') & (df['TableName'] == 'FACT_DistrictCourseMetrics')]\n",
    "dfappdata0122 = df[(df['DatabaseName'] == 'ApplicationData') & (df['SchemaName'] == 'StudentProfile') & (df['TableName'] == 'FACT_EducatorClass')]\n",
    "dfappdata0123 = df[(df['DatabaseName'] == 'ApplicationData') & (df['SchemaName'] == 'StudentProfile') & (df['TableName'] == 'FACT_EducatorClassMetrics')]\n",
    "dfappdata0124 = df[(df['DatabaseName'] == 'ApplicationData') & (df['SchemaName'] == 'StudentProfile') & (df['TableName'] == 'FACT_EmergencyContact')]\n",
    "dfappdata0125 = df[(df['DatabaseName'] == 'ApplicationData') & (df['SchemaName'] == 'StudentProfile') & (df['TableName'] == 'FACT_Enrollment')]\n",
    "dfappdata0126 = df[(df['DatabaseName'] == 'ApplicationData') & (df['SchemaName'] == 'StudentProfile') & (df['TableName'] == 'FACT_EnrollmentHistory')]\n",
    "dfappdata0127 = df[(df['DatabaseName'] == 'ApplicationData') & (df['SchemaName'] == 'StudentProfile') & (df['TableName'] == 'FACT_Fees')]\n",
    "dfappdata0128 = df[(df['DatabaseName'] == 'ApplicationData') & (df['SchemaName'] == 'StudentProfile') & (df['TableName'] == 'FACT_GraduationAssessment')]\n",
    "dfappdata0129 = df[(df['DatabaseName'] == 'ApplicationData') & (df['SchemaName'] == 'StudentProfile') & (df['TableName'] == 'FACT_Guardian')]\n",
    "dfappdata0130 = df[(df['DatabaseName'] == 'ApplicationData') & (df['SchemaName'] == 'StudentProfile') & (df['TableName'] == 'FACT_IEPExport')]\n",
    "dfappdata0131 = df[(df['DatabaseName'] == 'ApplicationData') & (df['SchemaName'] == 'StudentProfile') & (df['TableName'] == 'FACT_MedicalAlert')]\n",
    "dfappdata0132 = df[(df['DatabaseName'] == 'ApplicationData') & (df['SchemaName'] == 'StudentProfile') & (df['TableName'] == 'FACT_PPortal_LastLogin')]\n",
    "dfappdata0133 = df[(df['DatabaseName'] == 'ApplicationData') & (df['SchemaName'] == 'StudentProfile') & (df['TableName'] == 'FACT_SEI')]\n",
    "dfappdata0134 = df[(df['DatabaseName'] == 'ApplicationData') & (df['SchemaName'] == 'StudentProfile') & (df['TableName'] == 'FACT_ServiceProgramParticipation')]\n",
    "dfappdata0135 = df[(df['DatabaseName'] == 'ApplicationData') & (df['SchemaName'] == 'StudentProfile') & (df['TableName'] == 'FACT_SPG_Export')]\n",
    "dfappdata0136 = df[(df['DatabaseName'] == 'ApplicationData') & (df['SchemaName'] == 'StudentProfile') & (df['TableName'] == 'FACT_SPortal_LastLogin')]\n",
    "dfappdata0137 = df[(df['DatabaseName'] == 'ApplicationData') & (df['SchemaName'] == 'StudentProfile') & (df['TableName'] == 'FACT_StudentAssignmentScore')]\n",
    "dfappdata0138 = df[(df['DatabaseName'] == 'ApplicationData') & (df['SchemaName'] == 'StudentProfile') & (df['TableName'] == 'FACT_StudentClass')]\n",
    "dfappdata0139 = df[(df['DatabaseName'] == 'ApplicationData') & (df['SchemaName'] == 'StudentProfile') & (df['TableName'] == 'FACT_StudentClassMetrics')]\n",
    "dfappdata0140 = df[(df['DatabaseName'] == 'ApplicationData') & (df['SchemaName'] == 'StudentProfile') & (df['TableName'] == 'FACT_StudentClassScore')]\n",
    "dfappdata0141 = df[(df['DatabaseName'] == 'ApplicationData') & (df['SchemaName'] == 'StudentProfile') & (df['TableName'] == 'FACT_StudentEngagementInstrument')]\n",
    "dfappdata0142 = df[(df['DatabaseName'] == 'ApplicationData') & (df['SchemaName'] == 'StudentProfile') & (df['TableName'] == 'FACT_StudentEnrollmentPeriods')]\n",
    "dfappdata0143 = df[(df['DatabaseName'] == 'ApplicationData') & (df['SchemaName'] == 'StudentProfile') & (df['TableName'] == 'FACT_StudentMetaData')]\n",
    "dfappdata0144 = df[(df['DatabaseName'] == 'ApplicationData') & (df['SchemaName'] == 'StudentProfile') & (df['TableName'] == 'FACT_StudentRegisterDaily')]\n",
    "dfappdata0145 = df[(df['DatabaseName'] == 'ApplicationData') & (df['SchemaName'] == 'StudentProfile') & (df['TableName'] == 'FACT_StudentSchoolYear')]\n",
    "dfappdata0146 = df[(df['DatabaseName'] == 'ApplicationData') & (df['SchemaName'] == 'StudentProfile') & (df['TableName'] == 'FACT_StudentSibling')]\n",
    "dfappdata0147 = df[(df['DatabaseName'] == 'ApplicationData') & (df['SchemaName'] == 'StudentProfile') & (df['TableName'] == 'FACT_StudentTrendingGrades')]\n",
    "dfappdata0148 = df[(df['DatabaseName'] == 'ApplicationData') & (df['SchemaName'] == 'StudentProfile') & (df['TableName'] == 'FACT_StudentTrendingGrades_20180101')]\n",
    "dfappdata0149 = df[(df['DatabaseName'] == 'ApplicationData') & (df['SchemaName'] == 'StudentProfile') & (df['TableName'] == 'FACT_StudentTrendingGrades_20180328')]\n",
    "dfappdata0150 = df[(df['DatabaseName'] == 'ApplicationData') & (df['SchemaName'] == 'StudentProfile') & (df['TableName'] == 'FACT_TeacherViewTrendingGrades')]\n",
    "dfappdata0151 = df[(df['DatabaseName'] == 'ApplicationData') & (df['SchemaName'] == 'StudentProfile') & (df['TableName'] == 'FACT_YearlyAttendance')]\n",
    "dfappdata0152 = df[(df['DatabaseName'] == 'ApplicationData') & (df['SchemaName'] == 'StudentProfile') & (df['TableName'] == 'ImageSource')]\n",
    "dfappdata0153 = df[(df['DatabaseName'] == 'ApplicationData') & (df['SchemaName'] == 'StudentProfile') & (df['TableName'] == 'Log4Net')]\n",
    "dfappdata0154 = df[(df['DatabaseName'] == 'ApplicationData') & (df['SchemaName'] == 'StudentProfile') & (df['TableName'] == 'MAP_EducatorStudentCourse')]\n",
    "dfappdata0155 = df[(df['DatabaseName'] == 'ApplicationData') & (df['SchemaName'] == 'StudentProfile') & (df['TableName'] == 'SecurityToken')]\n",
    "dfappdata0156 = df[(df['DatabaseName'] == 'ApplicationData') & (df['SchemaName'] == 'StudentProfile') & (df['TableName'] == 'State')]\n",
    "dfappdata0157 = df[(df['DatabaseName'] == 'ApplicationData') & (df['SchemaName'] == 'StudentProfileStaging') & (df['TableName'] == 'D2L_AssignmentGrades')]\n",
    "dfappdata0158 = df[(df['DatabaseName'] == 'ApplicationData') & (df['SchemaName'] == 'StudentProfileStaging') & (df['TableName'] == 'D2L_FinalGrades')]\n",
    "dfappdata0159 = df[(df['DatabaseName'] == 'ApplicationData') & (df['SchemaName'] == 'StudentProfileStaging') & (df['TableName'] == 'FACT_TeacherViewTrendingGrades')]\n",
    "dfappdata0160 = df[(df['DatabaseName'] == 'ApplicationData') & (df['SchemaName'] == 'StudentRegistration') & (df['TableName'] == 'AP_SP')]\n",
    "dfappdata0161 = df[(df['DatabaseName'] == 'ApplicationData') & (df['SchemaName'] == 'StudentRegistration') & (df['TableName'] == 'Configuration')]\n",
    "dfappdata0162 = df[(df['DatabaseName'] == 'ApplicationData') & (df['SchemaName'] == 'StudentRegistration') & (df['TableName'] == 'Counselors')]\n",
    "dfappdata0163 = df[(df['DatabaseName'] == 'ApplicationData') & (df['SchemaName'] == 'StudentRegistration') & (df['TableName'] == 'CTI')]\n",
    "dfappdata0164 = df[(df['DatabaseName'] == 'ApplicationData') & (df['SchemaName'] == 'StudentRegistration') & (df['TableName'] == 'Defaults')]\n",
    "dfappdata0165 = df[(df['DatabaseName'] == 'ApplicationData') & (df['SchemaName'] == 'StudentRegistration') & (df['TableName'] == 'DIM_CoursePathways')]\n",
    "dfappdata0166 = df[(df['DatabaseName'] == 'ApplicationData') & (df['SchemaName'] == 'StudentRegistration') & (df['TableName'] == 'DIM_CoursePathways_12202018')]\n",
    "dfappdata0167 = df[(df['DatabaseName'] == 'ApplicationData') & (df['SchemaName'] == 'StudentRegistration') & (df['TableName'] == 'DIM_PathwaySpecs')]\n",
    "dfappdata0168 = df[(df['DatabaseName'] == 'ApplicationData') & (df['SchemaName'] == 'StudentRegistration') & (df['TableName'] == 'DisplayTableMap')]\n",
    "dfappdata0169 = df[(df['DatabaseName'] == 'ApplicationData') & (df['SchemaName'] == 'StudentRegistration') & (df['TableName'] == 'ESOL_SP')]\n",
    "dfappdata0170 = df[(df['DatabaseName'] == 'ApplicationData') & (df['SchemaName'] == 'StudentRegistration') & (df['TableName'] == 'FACT_StudentAcademies')]\n",
    "dfappdata0171 = df[(df['DatabaseName'] == 'ApplicationData') & (df['SchemaName'] == 'StudentRegistration') & (df['TableName'] == 'FACT_StudentCoursesTaken')]\n",
    "dfappdata0172 = df[(df['DatabaseName'] == 'ApplicationData') & (df['SchemaName'] == 'StudentRegistration') & (df['TableName'] == 'FACT_StudentCreditsEarned')]\n",
    "dfappdata0173 = df[(df['DatabaseName'] == 'ApplicationData') & (df['SchemaName'] == 'StudentRegistration') & (df['TableName'] == 'GTRegistrationSP')]\n",
    "dfappdata0174 = df[(df['DatabaseName'] == 'ApplicationData') & (df['SchemaName'] == 'StudentRegistration') & (df['TableName'] == 'HomeSchoolCounselorsSP')]\n",
    "dfappdata0175 = df[(df['DatabaseName'] == 'ApplicationData') & (df['SchemaName'] == 'StudentRegistration') & (df['TableName'] == 'Log4Net')]\n",
    "dfappdata0176 = df[(df['DatabaseName'] == 'ApplicationData') & (df['SchemaName'] == 'StudentRegistration') & (df['TableName'] == 'MasterListSP')]\n",
    "dfappdata0177 = df[(df['DatabaseName'] == 'ApplicationData') & (df['SchemaName'] == 'StudentRegistration') & (df['TableName'] == 'OpenHouse')]\n",
    "dfappdata0178 = df[(df['DatabaseName'] == 'ApplicationData') & (df['SchemaName'] == 'StudentRegistration') & (df['TableName'] == 'ProgramChoices')]\n",
    "dfappdata0179 = df[(df['DatabaseName'] == 'ApplicationData') & (df['SchemaName'] == 'StudentRegistration') & (df['TableName'] == 'RegistrationSP')]\n",
    "dfappdata0180 = df[(df['DatabaseName'] == 'ApplicationData') & (df['SchemaName'] == 'StudentRegistration') & (df['TableName'] == 'RejectReason')]\n",
    "dfappdata0181 = df[(df['DatabaseName'] == 'ApplicationData') & (df['SchemaName'] == 'StudentRegistration') & (df['TableName'] == 'Role')]\n",
    "dfappdata0182 = df[(df['DatabaseName'] == 'ApplicationData') & (df['SchemaName'] == 'StudentRegistration') & (df['TableName'] == 'RolePermission')]\n",
    "dfappdata0183 = df[(df['DatabaseName'] == 'ApplicationData') & (df['SchemaName'] == 'StudentRegistration') & (df['TableName'] == 'School')]\n",
    "dfappdata0184 = df[(df['DatabaseName'] == 'ApplicationData') & (df['SchemaName'] == 'StudentRegistration') & (df['TableName'] == 'Submission')]\n",
    "dfappdata0185 = df[(df['DatabaseName'] == 'ApplicationData') & (df['SchemaName'] == 'StudentRegistration') & (df['TableName'] == 'Submission_Original')]\n",
    "dfappdata0186 = df[(df['DatabaseName'] == 'ApplicationData') & (df['SchemaName'] == 'StudentRegistration') & (df['TableName'] == 'SubmissionHistory')]\n",
    "dfappdata0187 = df[(df['DatabaseName'] == 'ApplicationData') & (df['SchemaName'] == 'StudentRegistration') & (df['TableName'] == 'SubmissionState')]\n",
    "dfappdata0188 = df[(df['DatabaseName'] == 'ApplicationData') & (df['SchemaName'] == 'StudentRegistration') & (df['TableName'] == 'User')]\n",
    "dfappdata0189 = df[(df['DatabaseName'] == 'ApplicationData') & (df['SchemaName'] == 'StudentRegistration') & (df['TableName'] == 'UserComments')]\n",
    "dfappdata0190 = df[(df['DatabaseName'] == 'ApplicationData') & (df['SchemaName'] == 'StudentRegistration') & (df['TableName'] == 'UserPermission')]\n",
    "dfappdata0191 = df[(df['DatabaseName'] == 'ApplicationData') & (df['SchemaName'] == 'StudentRegistration') & (df['TableName'] == 'UserRolePermission')]\n",
    "dfappdata0192 = df[(df['DatabaseName'] == 'ApplicationData') & (df['SchemaName'] == 'StudentRegistration') & (df['TableName'] == 'UserRoles')]\n",
    "dfappdata0193 = df[(df['DatabaseName'] == 'ApplicationData') & (df['SchemaName'] == 'TCAccommodation') & (df['TableName'] == 'AccommodationToColMap')]\n",
    "dfappdata0194 = df[(df['DatabaseName'] == 'ApplicationData') & (df['SchemaName'] == 'TCAccommodation') & (df['TableName'] == 'CombinedReportData')]\n",
    "dfappdata0195 = df[(df['DatabaseName'] == 'ApplicationData') & (df['SchemaName'] == 'TCAccommodation') & (df['TableName'] == 'IEPAccommodations')]\n",
    "dfappdata0196 = df[(df['DatabaseName'] == 'ApplicationData') & (df['SchemaName'] == 'TCAccommodation') & (df['TableName'] == 'StudentTeacherSchedule')]\n",
    "dfappdata0197 = df[(df['DatabaseName'] == 'ApplicationData') & (df['SchemaName'] == 'TCAccommodation') & (df['TableName'] == 'TPP_Notes')]\n"
   ]
  },
  {
   "cell_type": "code",
   "execution_count": 228,
   "metadata": {},
   "outputs": [
    {
     "name": "stdout",
     "output_type": "stream",
     "text": [
      "ClasStuABCYrSum\n"
     ]
    }
   ],
   "source": [
    "d = dfappdata0001[['DatabaseName', 'SchemaName','TableName']]\n",
    "d = d.drop_duplicates()\n",
    "d = d['TableName'].values[0]\n",
    "print (d)"
   ]
  },
  {
   "cell_type": "code",
   "execution_count": 229,
   "metadata": {},
   "outputs": [
    {
     "name": "stdout",
     "output_type": "stream",
     "text": [
      "AppData_ABC_ClasStuABCYrSum\n",
      "AppData_ABC_ClasStuABCYrSum\n"
     ]
    }
   ],
   "source": [
    "d = dfappdata0001[['DatabaseName', 'SchemaName','TableName']]\n",
    "d = d.drop_duplicates()\n",
    "e = d['DatabaseName'].values[0]\n",
    "f = d['SchemaName'].values[0]\n",
    "g = d['TableName'].values[0]\n",
    "#print (d)\n",
    "#FileName = ''.join(['iAppData,(f),(g)'])\n",
    "print ('AppData_{}_{}'.format(f,g))\n",
    "FileName = ('AppData_{}_{}'.format(f,g))\n",
    "print (FileName)"
   ]
  },
  {
   "cell_type": "code",
   "execution_count": 230,
   "metadata": {},
   "outputs": [
    {
     "name": "stdout",
     "output_type": "stream",
     "text": [
      "         DatabaseName SchemaName        TableName\n",
      "1674  ApplicationData        ABC  ClasStuABCYrSum\n"
     ]
    }
   ],
   "source": [
    "d = dfappdata0001[['DatabaseName', 'SchemaName','TableName']]\n",
    "d = d.drop_duplicates()\n",
    "e = d['DatabaseName'].values[0]\n",
    "f = d['SchemaName'].values[0]\n",
    "g = d['TableName'].values[0]\n",
    "print (d)\n",
    "FileName = ('AppData_{}_{}'.format(f,g))\n",
    "\n",
    "fig = px.scatter(dfappdata0001, x = 'TodaysDate', y='RecordCount', size = 'RecordCount', color = 'RecordCount', title = '{0},{1},{2}'.format(e,f,g))\n",
    "fig.update_layout(yaxis_zeroline=False, xaxis_zeroline=False)\n",
    "fig.update_xaxes(title_font=dict(size=18, color='crimson'))\n",
    "fig.update_yaxes(title_font=dict(size=18, color='crimson'))\n",
    "fig.update_xaxes(ticks=\"inside\")\n",
    "fig.update_yaxes(ticks=\"inside\")\n",
    "fig.update_xaxes(tickangle=45, tickfont=dict(color='crimson', size=14))\n",
    "fig.update_xaxes(showline=True, linewidth=2, linecolor='black', mirror=True, gridcolor='Pink')\n",
    "fig.update_yaxes(showline=True, linewidth=2, linecolor='black', mirror=True, gridcolor='Red')\n",
    "#fig.show()\n",
    "#fig.write_html(r'C:\\Users\\eeeeeeeeee\\Documents\\JupyterAnacondaPythonNotebooks\\Daily\\Charts_px\\ApplicationData\\interactive_appdata_ClasStuABCYrSum_file.html')\n",
    "fig.write_html(r'C:\\Users\\eeeeeeeeee\\Documents\\JupyterAnacondaPythonNotebooks\\Daily\\Charts_px\\ApplicationData\\{}.html'.format(FileName))\n",
    "plt.close()"
   ]
  },
  {
   "cell_type": "code",
   "execution_count": 231,
   "metadata": {},
   "outputs": [
    {
     "name": "stdout",
     "output_type": "stream",
     "text": [
      "       DatabaseName SchemaName         TableName\n",
      "93  ApplicationData        dbo  AcademicContract\n"
     ]
    }
   ],
   "source": [
    "d = dfappdata0002[['DatabaseName', 'SchemaName','TableName']]\n",
    "d = d.drop_duplicates()\n",
    "e = d['DatabaseName'].values[0]\n",
    "f = d['SchemaName'].values[0]\n",
    "g = d['TableName'].values[0]\n",
    "print (d)\n",
    "FileName = ('AppData_{}_{}'.format(f,g))\n",
    "\n",
    "fig = px.scatter(dfappdata0002, x = 'TodaysDate', y='RecordCount', size = 'RecordCount', color = 'RecordCount', title = '{0},{1},{2}'.format(e,f,g))\n",
    "fig.update_layout(yaxis_zeroline=False, xaxis_zeroline=False)\n",
    "fig.update_xaxes(title_font=dict(size=18, color='crimson'))\n",
    "fig.update_yaxes(title_font=dict(size=18, color='crimson'))\n",
    "fig.update_xaxes(ticks=\"inside\")\n",
    "fig.update_yaxes(ticks=\"inside\")\n",
    "fig.update_xaxes(tickangle=45, tickfont=dict(color='crimson', size=14))\n",
    "fig.update_xaxes(showline=True, linewidth=2, linecolor='black', mirror=True, gridcolor='Pink')\n",
    "fig.update_yaxes(showline=True, linewidth=2, linecolor='black', mirror=True, gridcolor='Red')\n",
    "#fig.show()\n",
    "fig.write_html(r'C:\\Users\\eeeeeeeeee\\Documents\\JupyterAnacondaPythonNotebooks\\Daily\\Charts_px\\ApplicationData\\{}.html'.format(FileName))\n",
    "plt.close()"
   ]
  },
  {
   "cell_type": "code",
   "execution_count": 232,
   "metadata": {},
   "outputs": [
    {
     "name": "stdout",
     "output_type": "stream",
     "text": [
      "        DatabaseName SchemaName                     TableName\n",
      "186  ApplicationData        dbo  AcademicContractIntervention\n"
     ]
    }
   ],
   "source": [
    "d = dfappdata0003[['DatabaseName', 'SchemaName','TableName']]\n",
    "d = d.drop_duplicates()\n",
    "e = d['DatabaseName'].values[0]\n",
    "f = d['SchemaName'].values[0]\n",
    "g = d['TableName'].values[0]\n",
    "print (d)\n",
    "FileName = ('AppData_{}_{}'.format(f,g))\n",
    "\n",
    "fig = px.scatter(dfappdata0003, x = 'TodaysDate', y='RecordCount', size = 'RecordCount', color = 'RecordCount', title = '{0},{1},{2}'.format(e,f,g))\n",
    "#fig.update_layout(title='Risk Assessment: Table activity recorded',\n",
    "fig.update_layout(yaxis_zeroline=False, xaxis_zeroline=False)\n",
    "fig.update_xaxes(title_font=dict(size=18, color='crimson'))\n",
    "fig.update_yaxes(title_font=dict(size=18, color='crimson'))\n",
    "fig.update_xaxes(ticks=\"inside\")\n",
    "fig.update_yaxes(ticks=\"inside\")\n",
    "fig.update_xaxes(tickangle=45, tickfont=dict(color='crimson', size=14))\n",
    "fig.update_xaxes(showline=True, linewidth=2, linecolor='black', mirror=True, gridcolor='Pink')\n",
    "fig.update_yaxes(showline=True, linewidth=2, linecolor='black', mirror=True, gridcolor='Red')\n",
    "#fig.show()\n",
    "fig.write_html(r'C:\\Users\\eeeeeeeeee\\Documents\\JupyterAnacondaPythonNotebooks\\Daily\\Charts_px\\ApplicationData\\{}.html'.format(FileName))\n",
    "plt.close()"
   ]
  },
  {
   "cell_type": "code",
   "execution_count": 233,
   "metadata": {},
   "outputs": [
    {
     "name": "stdout",
     "output_type": "stream",
     "text": [
      "          DatabaseName SchemaName     TableName\n",
      "11811  ApplicationData        dbo  HSSElectives\n"
     ]
    }
   ],
   "source": [
    "d = dfappdata0004[['DatabaseName', 'SchemaName','TableName']]\n",
    "d = d.drop_duplicates()\n",
    "e = d['DatabaseName'].values[0]\n",
    "f = d['SchemaName'].values[0]\n",
    "g = d['TableName'].values[0]\n",
    "print (d)\n",
    "FileName = ('AppData_{}_{}'.format(f,g))\n",
    "\n",
    "fig = px.scatter(dfappdata0004, x = 'TodaysDate', y='RecordCount', size = 'RecordCount', color = 'RecordCount', title = '{0},{1},{2}'.format(e,f,g))\n",
    "#fig.update_layout(title='Risk Assessment: Table activity recorded',\n",
    "fig.update_layout(yaxis_zeroline=False, xaxis_zeroline=False)\n",
    "fig.update_xaxes(title_font=dict(size=18, color='crimson'))\n",
    "fig.update_yaxes(title_font=dict(size=18, color='crimson'))\n",
    "fig.update_xaxes(ticks=\"inside\")\n",
    "fig.update_yaxes(ticks=\"inside\")\n",
    "fig.update_xaxes(tickangle=45, tickfont=dict(color='crimson', size=14))\n",
    "fig.update_xaxes(showline=True, linewidth=2, linecolor='black', mirror=True, gridcolor='Pink')\n",
    "fig.update_yaxes(showline=True, linewidth=2, linecolor='black', mirror=True, gridcolor='Red')\n",
    "#fig.show()\n",
    "fig.write_html(r'C:\\Users\\eeeeeeeeee\\Documents\\JupyterAnacondaPythonNotebooks\\Daily\\Charts_px\\ApplicationData\\{}.html'.format(FileName))\n",
    "plt.close()"
   ]
  },
  {
   "cell_type": "code",
   "execution_count": 234,
   "metadata": {},
   "outputs": [
    {
     "name": "stdout",
     "output_type": "stream",
     "text": [
      "          DatabaseName SchemaName     TableName\n",
      "13299  ApplicationData        dbo  MHSElectives\n"
     ]
    }
   ],
   "source": [
    "d = dfappdata0005[['DatabaseName', 'SchemaName','TableName']]\n",
    "d = d.drop_duplicates()\n",
    "e = d['DatabaseName'].values[0]\n",
    "f = d['SchemaName'].values[0]\n",
    "g = d['TableName'].values[0]\n",
    "print (d)\n",
    "FileName = ('AppData_{}_{}'.format(f,g))\n",
    "\n",
    "fig = px.scatter(dfappdata0005, x = 'TodaysDate', y='RecordCount', size = 'RecordCount', color = 'RecordCount', title = '{0},{1},{2}'.format(e,f,g))\n",
    "#fig.update_layout(title='Risk Assessment: Table activity recorded',\n",
    "fig.update_layout(yaxis_zeroline=False, xaxis_zeroline=False)\n",
    "fig.update_xaxes(title_font=dict(size=18, color='crimson'))\n",
    "fig.update_yaxes(title_font=dict(size=18, color='crimson'))\n",
    "fig.update_xaxes(ticks=\"inside\")\n",
    "fig.update_yaxes(ticks=\"inside\")\n",
    "fig.update_xaxes(tickangle=45, tickfont=dict(color='crimson', size=14))\n",
    "fig.update_xaxes(showline=True, linewidth=2, linecolor='black', mirror=True, gridcolor='Pink')\n",
    "fig.update_yaxes(showline=True, linewidth=2, linecolor='black', mirror=True, gridcolor='Red')\n",
    "#fig.show()\n",
    "fig.write_html(r'C:\\Users\\eeeeeeeeee\\Documents\\JupyterAnacondaPythonNotebooks\\Daily\\Charts_px\\ApplicationData\\{}.html'.format(FileName))\n",
    "plt.close()"
   ]
  },
  {
   "cell_type": "code",
   "execution_count": 235,
   "metadata": {},
   "outputs": [
    {
     "name": "stdout",
     "output_type": "stream",
     "text": [
      "          DatabaseName SchemaName                  TableName\n",
      "14229  ApplicationData        dbo  ProdStudentTrendingGrades\n"
     ]
    }
   ],
   "source": [
    "d = dfappdata0006[['DatabaseName', 'SchemaName','TableName']]\n",
    "d = d.drop_duplicates()\n",
    "e = d['DatabaseName'].values[0]\n",
    "f = d['SchemaName'].values[0]\n",
    "g = d['TableName'].values[0]\n",
    "print (d)\n",
    "FileName = ('AppData_{}_{}'.format(f,g))\n",
    "\n",
    "fig = px.scatter(dfappdata0006, x = 'TodaysDate', y='RecordCount', size = 'RecordCount', color = 'RecordCount', title = '{0},{1},{2}'.format(e,f,g))\n",
    "#fig.update_layout(title='Risk Assessment: Table activity recorded',\n",
    "fig.update_layout(yaxis_zeroline=False, xaxis_zeroline=False)\n",
    "fig.update_xaxes(title_font=dict(size=18, color='crimson'))\n",
    "fig.update_yaxes(title_font=dict(size=18, color='crimson'))\n",
    "fig.update_xaxes(ticks=\"inside\")\n",
    "fig.update_yaxes(ticks=\"inside\")\n",
    "fig.update_xaxes(tickangle=45, tickfont=dict(color='crimson', size=14))\n",
    "fig.update_xaxes(showline=True, linewidth=2, linecolor='black', mirror=True, gridcolor='Pink')\n",
    "fig.update_yaxes(showline=True, linewidth=2, linecolor='black', mirror=True, gridcolor='Red')\n",
    "#fig.show()\n",
    "fig.write_html(r'C:\\Users\\eeeeeeeeee\\Documents\\JupyterAnacondaPythonNotebooks\\Daily\\Charts_px\\ApplicationData\\{}.html'.format(FileName))\n",
    "plt.close()"
   ]
  },
  {
   "cell_type": "code",
   "execution_count": 236,
   "metadata": {},
   "outputs": [
    {
     "name": "stdout",
     "output_type": "stream",
     "text": [
      "          DatabaseName SchemaName   TableName\n",
      "14415  ApplicationData        dbo  ROSTER_GSC\n"
     ]
    }
   ],
   "source": [
    "d = dfappdata0007[['DatabaseName', 'SchemaName','TableName']]\n",
    "d = d.drop_duplicates()\n",
    "e = d['DatabaseName'].values[0]\n",
    "f = d['SchemaName'].values[0]\n",
    "g = d['TableName'].values[0]\n",
    "print (d)\n",
    "FileName = ('AppData_{}_{}'.format(f,g))\n",
    "\n",
    "fig = px.scatter(dfappdata0007, x = 'TodaysDate', y='RecordCount', size = 'RecordCount', color = 'RecordCount', title = '{0},{1},{2}'.format(e,f,g))\n",
    "#fig.update_layout(title='Risk Assessment: Table activity recorded',\n",
    "fig.update_layout(yaxis_zeroline=False, xaxis_zeroline=False)\n",
    "fig.update_xaxes(title_font=dict(size=18, color='crimson'))\n",
    "fig.update_yaxes(title_font=dict(size=18, color='crimson'))\n",
    "fig.update_xaxes(ticks=\"inside\")\n",
    "fig.update_yaxes(ticks=\"inside\")\n",
    "fig.update_xaxes(tickangle=45, tickfont=dict(color='crimson', size=14))\n",
    "fig.update_xaxes(showline=True, linewidth=2, linecolor='black', mirror=True, gridcolor='Pink')\n",
    "fig.update_yaxes(showline=True, linewidth=2, linecolor='black', mirror=True, gridcolor='Red')\n",
    "#fig.show()\n",
    "fig.write_html(r'C:\\Users\\eeeeeeeeee\\Documents\\JupyterAnacondaPythonNotebooks\\Daily\\Charts_px\\ApplicationData\\{}.html'.format(FileName))\n",
    "plt.close()"
   ]
  },
  {
   "cell_type": "code",
   "execution_count": 237,
   "metadata": {},
   "outputs": [
    {
     "name": "stdout",
     "output_type": "stream",
     "text": [
      "          DatabaseName SchemaName   TableName\n",
      "14508  ApplicationData        dbo  ROSTER_GSS\n"
     ]
    }
   ],
   "source": [
    "d = dfappdata0008[['DatabaseName', 'SchemaName','TableName']]\n",
    "d = d.drop_duplicates()\n",
    "e = d['DatabaseName'].values[0]\n",
    "f = d['SchemaName'].values[0]\n",
    "g = d['TableName'].values[0]\n",
    "print (d)\n",
    "FileName = ('AppData_{}_{}'.format(f,g))\n",
    "\n",
    "fig = px.scatter(dfappdata0008, x = 'TodaysDate', y='RecordCount', size = 'RecordCount', color = 'RecordCount', title = '{0},{1},{2}'.format(e,f,g))\n",
    "#fig.update_layout(title='Risk Assessment: Table activity recorded',\n",
    "fig.update_layout(yaxis_zeroline=False, xaxis_zeroline=False)\n",
    "fig.update_xaxes(title_font=dict(size=18, color='crimson'))\n",
    "fig.update_yaxes(title_font=dict(size=18, color='crimson'))\n",
    "fig.update_xaxes(ticks=\"inside\")\n",
    "fig.update_yaxes(ticks=\"inside\")\n",
    "fig.update_xaxes(tickangle=45, tickfont=dict(color='crimson', size=14))\n",
    "fig.update_xaxes(showline=True, linewidth=2, linecolor='black', mirror=True, gridcolor='Pink')\n",
    "fig.update_yaxes(showline=True, linewidth=2, linecolor='black', mirror=True, gridcolor='Red')\n",
    "#fig.show()\n",
    "fig.write_html(r'C:\\Users\\eeeeeeeeee\\Documents\\JupyterAnacondaPythonNotebooks\\Daily\\Charts_px\\ApplicationData\\{}.html'.format(FileName))\n",
    "plt.close()"
   ]
  },
  {
   "cell_type": "code",
   "execution_count": 238,
   "metadata": {},
   "outputs": [
    {
     "name": "stdout",
     "output_type": "stream",
     "text": [
      "          DatabaseName SchemaName            TableName\n",
      "17112  ApplicationData        dbo  Survey_Report_Codes\n"
     ]
    }
   ],
   "source": [
    "d = dfappdata0009[['DatabaseName', 'SchemaName','TableName']]\n",
    "d = d.drop_duplicates()\n",
    "e = d['DatabaseName'].values[0]\n",
    "f = d['SchemaName'].values[0]\n",
    "g = d['TableName'].values[0]\n",
    "print (d)\n",
    "FileName = ('AppData_{}_{}'.format(f,g))\n",
    "\n",
    "fig = px.scatter(dfappdata0009, x = 'TodaysDate', y='RecordCount', size = 'RecordCount', color = 'RecordCount', title = '{0},{1},{2}'.format(e,f,g))\n",
    "#fig.update_layout(title='Risk Assessment: Table activity recorded',\n",
    "fig.update_layout(yaxis_zeroline=False, xaxis_zeroline=False)\n",
    "fig.update_xaxes(title_font=dict(size=18, color='crimson'))\n",
    "fig.update_yaxes(title_font=dict(size=18, color='crimson'))\n",
    "fig.update_xaxes(ticks=\"inside\")\n",
    "fig.update_yaxes(ticks=\"inside\")\n",
    "fig.update_xaxes(tickangle=45, tickfont=dict(color='crimson', size=14))\n",
    "fig.update_xaxes(showline=True, linewidth=2, linecolor='black', mirror=True, gridcolor='Pink')\n",
    "fig.update_yaxes(showline=True, linewidth=2, linecolor='black', mirror=True, gridcolor='Red')\n",
    "#fig.show()\n",
    "fig.write_html(r'C:\\Users\\eeeeeeeeee\\Documents\\JupyterAnacondaPythonNotebooks\\Daily\\Charts_px\\ApplicationData\\{}.html'.format(FileName))\n",
    "plt.close()"
   ]
  },
  {
   "cell_type": "code",
   "execution_count": 239,
   "metadata": {},
   "outputs": [
    {
     "name": "stdout",
     "output_type": "stream",
     "text": [
      "          DatabaseName SchemaName              TableName\n",
      "17205  ApplicationData        dbo  Survey_Report_Summary\n"
     ]
    }
   ],
   "source": [
    "d = dfappdata0010[['DatabaseName', 'SchemaName','TableName']]\n",
    "d = d.drop_duplicates()\n",
    "e = d['DatabaseName'].values[0]\n",
    "f = d['SchemaName'].values[0]\n",
    "g = d['TableName'].values[0]\n",
    "print (d)\n",
    "FileName = ('AppData_{}_{}'.format(f,g))\n",
    "\n",
    "fig = px.scatter(dfappdata0010, x = 'TodaysDate', y='RecordCount', size = 'RecordCount', color = 'RecordCount', title = '{0},{1},{2}'.format(e,f,g))\n",
    "#fig.update_layout(title='Risk Assessment: Table activity recorded',\n",
    "fig.update_layout(yaxis_zeroline=False, xaxis_zeroline=False)\n",
    "fig.update_xaxes(title_font=dict(size=18, color='crimson'))\n",
    "fig.update_yaxes(title_font=dict(size=18, color='crimson'))\n",
    "fig.update_xaxes(ticks=\"inside\")\n",
    "fig.update_yaxes(ticks=\"inside\")\n",
    "fig.update_xaxes(tickangle=45, tickfont=dict(color='crimson', size=14))\n",
    "fig.update_xaxes(showline=True, linewidth=2, linecolor='black', mirror=True, gridcolor='Pink')\n",
    "fig.update_yaxes(showline=True, linewidth=2, linecolor='black', mirror=True, gridcolor='Red')\n",
    "#fig.show()\n",
    "fig.write_html(r'C:\\Users\\eeeeeeeeee\\Documents\\JupyterAnacondaPythonNotebooks\\Daily\\Charts_px\\ApplicationData\\{}.html'.format(FileName))\n",
    "plt.close()"
   ]
  },
  {
   "cell_type": "code",
   "execution_count": 240,
   "metadata": {},
   "outputs": [
    {
     "name": "stdout",
     "output_type": "stream",
     "text": [
      "          DatabaseName SchemaName                 TableName\n",
      "17298  ApplicationData        dbo  Survey_Respondent_Report\n"
     ]
    }
   ],
   "source": [
    "d = dfappdata0011[['DatabaseName', 'SchemaName','TableName']]\n",
    "d = d.drop_duplicates()\n",
    "e = d['DatabaseName'].values[0]\n",
    "f = d['SchemaName'].values[0]\n",
    "g = d['TableName'].values[0]\n",
    "print (d)\n",
    "FileName = ('AppData_{}_{}'.format(f,g))\n",
    "\n",
    "fig = px.scatter(dfappdata0011, x = 'TodaysDate', y='RecordCount', size = 'RecordCount', color = 'RecordCount', title = '{0},{1},{2}'.format(e,f,g))\n",
    "#fig.update_layout(title='Risk Assessment: Table activity recorded',\n",
    "fig.update_layout(yaxis_zeroline=False, xaxis_zeroline=False)\n",
    "fig.update_xaxes(title_font=dict(size=18, color='crimson'))\n",
    "fig.update_yaxes(title_font=dict(size=18, color='crimson'))\n",
    "fig.update_xaxes(ticks=\"inside\")\n",
    "fig.update_yaxes(ticks=\"inside\")\n",
    "fig.update_xaxes(tickangle=45, tickfont=dict(color='crimson', size=14))\n",
    "fig.update_xaxes(showline=True, linewidth=2, linecolor='black', mirror=True, gridcolor='Pink')\n",
    "fig.update_yaxes(showline=True, linewidth=2, linecolor='black', mirror=True, gridcolor='Red')\n",
    "#fig.show()\n",
    "fig.write_html(r'C:\\Users\\eeeeeeeeee\\Documents\\JupyterAnacondaPythonNotebooks\\Daily\\Charts_px\\ApplicationData\\{}.html'.format(FileName))\n",
    "plt.close()"
   ]
  },
  {
   "cell_type": "code",
   "execution_count": 241,
   "metadata": {},
   "outputs": [
    {
     "name": "stdout",
     "output_type": "stream",
     "text": [
      "          DatabaseName SchemaName    TableName\n",
      "18228  ApplicationData        dbo  sysdiagrams\n"
     ]
    }
   ],
   "source": [
    "d = dfappdata0012[['DatabaseName', 'SchemaName','TableName']]\n",
    "d = d.drop_duplicates()\n",
    "e = d['DatabaseName'].values[0]\n",
    "f = d['SchemaName'].values[0]\n",
    "g = d['TableName'].values[0]\n",
    "print (d)\n",
    "FileName = ('AppData_{}_{}'.format(f,g))\n",
    "\n",
    "fig = px.scatter(dfappdata0012, x = 'TodaysDate', y='RecordCount', size = 'RecordCount', color = 'RecordCount', title = '{0},{1},{2}'.format(e,f,g))\n",
    "#fig.update_layout(title='Risk Assessment: Table activity recorded',\n",
    "fig.update_layout(yaxis_zeroline=False, xaxis_zeroline=False)\n",
    "fig.update_xaxes(title_font=dict(size=18, color='crimson'))\n",
    "fig.update_yaxes(title_font=dict(size=18, color='crimson'))\n",
    "fig.update_xaxes(ticks=\"inside\")\n",
    "fig.update_yaxes(ticks=\"inside\")\n",
    "fig.update_xaxes(tickangle=45, tickfont=dict(color='crimson', size=14))\n",
    "fig.update_xaxes(showline=True, linewidth=2, linecolor='black', mirror=True, gridcolor='Pink')\n",
    "fig.update_yaxes(showline=True, linewidth=2, linecolor='black', mirror=True, gridcolor='Red')\n",
    "#fig.show()\n",
    "fig.write_html(r'C:\\Users\\eeeeeeeeee\\Documents\\JupyterAnacondaPythonNotebooks\\Daily\\Charts_px\\ApplicationData\\{}.html'.format(FileName))\n",
    "plt.close()"
   ]
  },
  {
   "cell_type": "code",
   "execution_count": 242,
   "metadata": {},
   "outputs": [
    {
     "name": "stdout",
     "output_type": "stream",
     "text": [
      "          DatabaseName        SchemaName TableName\n",
      "12462  ApplicationData  ExternalStudents   Log4Net\n"
     ]
    }
   ],
   "source": [
    "d = dfappdata0013[['DatabaseName', 'SchemaName','TableName']]\n",
    "d = d.drop_duplicates()\n",
    "e = d['DatabaseName'].values[0]\n",
    "f = d['SchemaName'].values[0]\n",
    "g = d['TableName'].values[0]\n",
    "print (d)\n",
    "FileName = ('AppData_{}_{}'.format(f,g))\n",
    "\n",
    "fig = px.scatter(dfappdata0013, x = 'TodaysDate', y='RecordCount', size = 'RecordCount', color = 'RecordCount', title = '{0},{1},{2}'.format(e,f,g))\n",
    "#fig.update_layout(title='Risk Assessment: Table activity recorded',\n",
    "fig.update_layout(yaxis_zeroline=False, xaxis_zeroline=False)\n",
    "fig.update_xaxes(title_font=dict(size=18, color='crimson'))\n",
    "fig.update_yaxes(title_font=dict(size=18, color='crimson'))\n",
    "fig.update_xaxes(ticks=\"inside\")\n",
    "fig.update_yaxes(ticks=\"inside\")\n",
    "fig.update_xaxes(tickangle=45, tickfont=dict(color='crimson', size=14))\n",
    "fig.update_xaxes(showline=True, linewidth=2, linecolor='black', mirror=True, gridcolor='Pink')\n",
    "fig.update_yaxes(showline=True, linewidth=2, linecolor='black', mirror=True, gridcolor='Red')\n",
    "#fig.show()\n",
    "fig.write_html(r'C:\\Users\\eeeeeeeeee\\Documents\\JupyterAnacondaPythonNotebooks\\Daily\\Charts_px\\ApplicationData\\{}.html'.format(FileName))\n",
    "plt.close()"
   ]
  },
  {
   "cell_type": "code",
   "execution_count": 243,
   "metadata": {},
   "outputs": [
    {
     "name": "stdout",
     "output_type": "stream",
     "text": [
      "          DatabaseName   SchemaName TableName\n",
      "12555  ApplicationData  GCPSMaxScan   Log4Net\n"
     ]
    }
   ],
   "source": [
    "d = dfappdata0014[['DatabaseName', 'SchemaName','TableName']]\n",
    "d = d.drop_duplicates()\n",
    "e = d['DatabaseName'].values[0]\n",
    "f = d['SchemaName'].values[0]\n",
    "g = d['TableName'].values[0]\n",
    "print (d)\n",
    "FileName = ('AppData_{}_{}'.format(f,g))\n",
    "\n",
    "fig = px.scatter(dfappdata0014, x = 'TodaysDate', y='RecordCount', size = 'RecordCount', color = 'RecordCount', title = '{0},{1},{2}'.format(e,f,g))\n",
    "#fig.update_layout(title='Risk Assessment: Table activity recorded',\n",
    "fig.update_layout(yaxis_zeroline=False, xaxis_zeroline=False)\n",
    "fig.update_xaxes(title_font=dict(size=18, color='crimson'))\n",
    "fig.update_yaxes(title_font=dict(size=18, color='crimson'))\n",
    "fig.update_xaxes(ticks=\"inside\")\n",
    "fig.update_yaxes(ticks=\"inside\")\n",
    "fig.update_xaxes(tickangle=45, tickfont=dict(color='crimson', size=14))\n",
    "fig.update_xaxes(showline=True, linewidth=2, linecolor='black', mirror=True, gridcolor='Pink')\n",
    "fig.update_yaxes(showline=True, linewidth=2, linecolor='black', mirror=True, gridcolor='Red')\n",
    "#fig.show()\n",
    "fig.write_html(r'C:\\Users\\eeeeeeeeee\\Documents\\JupyterAnacondaPythonNotebooks\\Daily\\Charts_px\\ApplicationData\\{}.html'.format(FileName))\n",
    "plt.close()"
   ]
  },
  {
   "cell_type": "code",
   "execution_count": 244,
   "metadata": {},
   "outputs": [
    {
     "name": "stdout",
     "output_type": "stream",
     "text": [
      "         DatabaseName SchemaName TableName\n",
      "1023  ApplicationData       GTID  AuditLog\n"
     ]
    }
   ],
   "source": [
    "d = dfappdata0015[['DatabaseName', 'SchemaName','TableName']]\n",
    "d = d.drop_duplicates()\n",
    "e = d['DatabaseName'].values[0]\n",
    "f = d['SchemaName'].values[0]\n",
    "g = d['TableName'].values[0]\n",
    "print (d)\n",
    "FileName = ('AppData_{}_{}'.format(f,g))\n",
    "\n",
    "fig = px.scatter(dfappdata0015, x = 'TodaysDate', y='RecordCount', size = 'RecordCount', color = 'RecordCount', title = '{0},{1},{2}'.format(e,f,g))\n",
    "#fig.update_layout(title='Risk Assessment: Table activity recorded',\n",
    "fig.update_layout(yaxis_zeroline=False, xaxis_zeroline=False)\n",
    "fig.update_xaxes(title_font=dict(size=18, color='crimson'))\n",
    "fig.update_yaxes(title_font=dict(size=18, color='crimson'))\n",
    "fig.update_xaxes(ticks=\"inside\")\n",
    "fig.update_yaxes(ticks=\"inside\")\n",
    "fig.update_xaxes(tickangle=45, tickfont=dict(color='crimson', size=14))\n",
    "fig.update_xaxes(showline=True, linewidth=2, linecolor='black', mirror=True, gridcolor='Pink')\n",
    "fig.update_yaxes(showline=True, linewidth=2, linecolor='black', mirror=True, gridcolor='Red')\n",
    "#fig.show()\n",
    "fig.write_html(r'C:\\Users\\eeeeeeeeee\\Documents\\JupyterAnacondaPythonNotebooks\\Daily\\Charts_px\\ApplicationData\\{}.html'.format(FileName))\n",
    "plt.close()"
   ]
  },
  {
   "cell_type": "code",
   "execution_count": 245,
   "metadata": {},
   "outputs": [
    {
     "name": "stdout",
     "output_type": "stream",
     "text": [
      "          DatabaseName SchemaName TableName\n",
      "11067  ApplicationData       GTID  G_GBATCH\n"
     ]
    }
   ],
   "source": [
    "d = dfappdata0016[['DatabaseName', 'SchemaName','TableName']]\n",
    "d = d.drop_duplicates()\n",
    "e = d['DatabaseName'].values[0]\n",
    "f = d['SchemaName'].values[0]\n",
    "g = d['TableName'].values[0]\n",
    "print (d)\n",
    "FileName = ('AppData_{}_{}'.format(f,g))\n",
    "\n",
    "fig = px.scatter(dfappdata0016, x = 'TodaysDate', y='RecordCount', size = 'RecordCount', color = 'RecordCount', title = '{0},{1},{2}'.format(e,f,g))\n",
    "#fig.update_layout(title='Risk Assessment: Table activity recorded',\n",
    "fig.update_layout(yaxis_zeroline=False, xaxis_zeroline=False)\n",
    "fig.update_xaxes(title_font=dict(size=18, color='crimson'))\n",
    "fig.update_yaxes(title_font=dict(size=18, color='crimson'))\n",
    "fig.update_xaxes(ticks=\"inside\")\n",
    "fig.update_yaxes(ticks=\"inside\")\n",
    "fig.update_xaxes(tickangle=45, tickfont=dict(color='crimson', size=14))\n",
    "fig.update_xaxes(showline=True, linewidth=2, linecolor='black', mirror=True, gridcolor='Pink')\n",
    "fig.update_yaxes(showline=True, linewidth=2, linecolor='black', mirror=True, gridcolor='Red')\n",
    "#fig.show()\n",
    "fig.write_html(r'C:\\Users\\eeeeeeeeee\\Documents\\JupyterAnacondaPythonNotebooks\\Daily\\Charts_px\\ApplicationData\\{}.html'.format(FileName))\n",
    "plt.close()"
   ]
  },
  {
   "cell_type": "code",
   "execution_count": 246,
   "metadata": {},
   "outputs": [
    {
     "name": "stdout",
     "output_type": "stream",
     "text": [
      "          DatabaseName SchemaName       TableName\n",
      "11160  ApplicationData       GTID  G_GTID_HISTORY\n"
     ]
    }
   ],
   "source": [
    "d = dfappdata0017[['DatabaseName', 'SchemaName','TableName']]\n",
    "d = d.drop_duplicates()\n",
    "e = d['DatabaseName'].values[0]\n",
    "f = d['SchemaName'].values[0]\n",
    "g = d['TableName'].values[0]\n",
    "print (d)\n",
    "FileName = ('AppData_{}_{}'.format(f,g))\n",
    "\n",
    "fig = px.scatter(dfappdata0017, x = 'TodaysDate', y='RecordCount', size = 'RecordCount', color = 'RecordCount', title = '{0},{1},{2}'.format(e,f,g))\n",
    "#fig.update_layout(title='Risk Assessment: Table activity recorded',\n",
    "fig.update_layout(yaxis_zeroline=False, xaxis_zeroline=False)\n",
    "fig.update_xaxes(title_font=dict(size=18, color='crimson'))\n",
    "fig.update_yaxes(title_font=dict(size=18, color='crimson'))\n",
    "fig.update_xaxes(ticks=\"inside\")\n",
    "fig.update_yaxes(ticks=\"inside\")\n",
    "fig.update_xaxes(tickangle=45, tickfont=dict(color='crimson', size=14))\n",
    "fig.update_xaxes(showline=True, linewidth=2, linecolor='black', mirror=True, gridcolor='Pink')\n",
    "fig.update_yaxes(showline=True, linewidth=2, linecolor='black', mirror=True, gridcolor='Red')\n",
    "#fig.show()\n",
    "fig.write_html(r'C:\\Users\\eeeeeeeeee\\Documents\\JupyterAnacondaPythonNotebooks\\Daily\\Charts_px\\ApplicationData\\{}.html'.format(FileName))\n",
    "plt.close()"
   ]
  },
  {
   "cell_type": "code",
   "execution_count": 247,
   "metadata": {},
   "outputs": [
    {
     "name": "stdout",
     "output_type": "stream",
     "text": [
      "          DatabaseName SchemaName      TableName\n",
      "11253  ApplicationData       GTID  G_GTID_IMPORT\n"
     ]
    }
   ],
   "source": [
    "d = dfappdata0018[['DatabaseName', 'SchemaName','TableName']]\n",
    "d = d.drop_duplicates()\n",
    "e = d['DatabaseName'].values[0]\n",
    "f = d['SchemaName'].values[0]\n",
    "g = d['TableName'].values[0]\n",
    "print (d)\n",
    "FileName = ('AppData_{}_{}'.format(f,g))\n",
    "\n",
    "fig = px.scatter(dfappdata0018, x = 'TodaysDate', y='RecordCount', size = 'RecordCount', color = 'RecordCount', title = '{0},{1},{2}'.format(e,f,g))\n",
    "#fig.update_layout(title='Risk Assessment: Table activity recorded',\n",
    "fig.update_layout(yaxis_zeroline=False, xaxis_zeroline=False)\n",
    "fig.update_xaxes(title_font=dict(size=18, color='crimson'))\n",
    "fig.update_yaxes(title_font=dict(size=18, color='crimson'))\n",
    "fig.update_xaxes(ticks=\"inside\")\n",
    "fig.update_yaxes(ticks=\"inside\")\n",
    "fig.update_xaxes(tickangle=45, tickfont=dict(color='crimson', size=14))\n",
    "fig.update_xaxes(showline=True, linewidth=2, linecolor='black', mirror=True, gridcolor='Pink')\n",
    "fig.update_yaxes(showline=True, linewidth=2, linecolor='black', mirror=True, gridcolor='Red')\n",
    "#fig.show()\n",
    "fig.write_html(r'C:\\Users\\eeeeeeeeee\\Documents\\JupyterAnacondaPythonNotebooks\\Daily\\Charts_px\\ApplicationData\\{}.html'.format(FileName))\n",
    "plt.close()"
   ]
  },
  {
   "cell_type": "code",
   "execution_count": 248,
   "metadata": {},
   "outputs": [
    {
     "name": "stdout",
     "output_type": "stream",
     "text": [
      "          DatabaseName SchemaName                  TableName\n",
      "11439  ApplicationData       GTID  G_GTID_IMPORT_ERROR_CODES\n"
     ]
    }
   ],
   "source": [
    "d = dfappdata0019[['DatabaseName', 'SchemaName','TableName']]\n",
    "d = d.drop_duplicates()\n",
    "e = d['DatabaseName'].values[0]\n",
    "f = d['SchemaName'].values[0]\n",
    "g = d['TableName'].values[0]\n",
    "print (d)\n",
    "FileName = ('AppData_{}_{}'.format(f,g))\n",
    "\n",
    "fig = px.scatter(dfappdata0019, x = 'TodaysDate', y='RecordCount', size = 'RecordCount', color = 'RecordCount', title = '{0},{1},{2}'.format(e,f,g))\n",
    "#fig.update_layout(title='Risk Assessment: Table activity recorded',\n",
    "fig.update_layout(yaxis_zeroline=False, xaxis_zeroline=False)\n",
    "fig.update_xaxes(title_font=dict(size=18, color='crimson'))\n",
    "fig.update_yaxes(title_font=dict(size=18, color='crimson'))\n",
    "fig.update_xaxes(ticks=\"inside\")\n",
    "fig.update_yaxes(ticks=\"inside\")\n",
    "fig.update_xaxes(tickangle=45, tickfont=dict(color='crimson', size=14))\n",
    "fig.update_xaxes(showline=True, linewidth=2, linecolor='black', mirror=True, gridcolor='Pink')\n",
    "fig.update_yaxes(showline=True, linewidth=2, linecolor='black', mirror=True, gridcolor='Red')\n",
    "#fig.show()\n",
    "fig.write_html(r'C:\\Users\\eeeeeeeeee\\Documents\\JupyterAnacondaPythonNotebooks\\Daily\\Charts_px\\ApplicationData\\{}.html'.format(FileName))\n",
    "plt.close()"
   ]
  },
  {
   "cell_type": "code",
   "execution_count": 249,
   "metadata": {},
   "outputs": [
    {
     "name": "stdout",
     "output_type": "stream",
     "text": [
      "          DatabaseName SchemaName             TableName\n",
      "11346  ApplicationData       GTID  G_GTID_IMPORT_ERRORS\n"
     ]
    }
   ],
   "source": [
    "d = dfappdata0020[['DatabaseName', 'SchemaName','TableName']]\n",
    "d = d.drop_duplicates()\n",
    "e = d['DatabaseName'].values[0]\n",
    "f = d['SchemaName'].values[0]\n",
    "g = d['TableName'].values[0]\n",
    "print (d)\n",
    "FileName = ('AppData_{}_{}'.format(f,g))\n",
    "\n",
    "fig = px.scatter(dfappdata0020, x = 'TodaysDate', y='RecordCount', size = 'RecordCount', color = 'RecordCount', title = '{0},{1},{2}'.format(e,f,g))\n",
    "#fig.update_layout(title='Risk Assessment: Table activity recorded',\n",
    "fig.update_layout(yaxis_zeroline=False, xaxis_zeroline=False)\n",
    "fig.update_xaxes(title_font=dict(size=18, color='crimson'))\n",
    "fig.update_yaxes(title_font=dict(size=18, color='crimson'))\n",
    "fig.update_xaxes(ticks=\"inside\")\n",
    "fig.update_yaxes(ticks=\"inside\")\n",
    "fig.update_xaxes(tickangle=45, tickfont=dict(color='crimson', size=14))\n",
    "fig.update_xaxes(showline=True, linewidth=2, linecolor='black', mirror=True, gridcolor='Pink')\n",
    "fig.update_yaxes(showline=True, linewidth=2, linecolor='black', mirror=True, gridcolor='Red')\n",
    "#fig.show()\n",
    "fig.write_html(r'C:\\Users\\eeeeeeeeee\\Documents\\JupyterAnacondaPythonNotebooks\\Daily\\Charts_px\\ApplicationData\\{}.html'.format(FileName))\n",
    "plt.close()"
   ]
  },
  {
   "cell_type": "code",
   "execution_count": 250,
   "metadata": {},
   "outputs": [
    {
     "name": "stdout",
     "output_type": "stream",
     "text": [
      "          DatabaseName SchemaName         TableName\n",
      "11532  ApplicationData       GTID  G_GTID_STU_BATCH\n"
     ]
    }
   ],
   "source": [
    "d = dfappdata0021[['DatabaseName', 'SchemaName','TableName']]\n",
    "d = d.drop_duplicates()\n",
    "e = d['DatabaseName'].values[0]\n",
    "f = d['SchemaName'].values[0]\n",
    "g = d['TableName'].values[0]\n",
    "print (d)\n",
    "FileName = ('AppData_{}_{}'.format(f,g))\n",
    "\n",
    "fig = px.scatter(dfappdata0021, x = 'TodaysDate', y='RecordCount', size = 'RecordCount', color = 'RecordCount', title = '{0},{1},{2}'.format(e,f,g))\n",
    "#fig.update_layout(title='Risk Assessment: Table activity recorded',\n",
    "fig.update_layout(yaxis_zeroline=False, xaxis_zeroline=False)\n",
    "fig.update_xaxes(title_font=dict(size=18, color='crimson'))\n",
    "fig.update_yaxes(title_font=dict(size=18, color='crimson'))\n",
    "fig.update_xaxes(ticks=\"inside\")\n",
    "fig.update_yaxes(ticks=\"inside\")\n",
    "fig.update_xaxes(tickangle=45, tickfont=dict(color='crimson', size=14))\n",
    "fig.update_xaxes(showline=True, linewidth=2, linecolor='black', mirror=True, gridcolor='Pink')\n",
    "fig.update_yaxes(showline=True, linewidth=2, linecolor='black', mirror=True, gridcolor='Red')\n",
    "#fig.show()\n",
    "fig.write_html(r'C:\\Users\\eeeeeeeeee\\Documents\\JupyterAnacondaPythonNotebooks\\Daily\\Charts_px\\ApplicationData\\{}.html'.format(FileName))\n",
    "plt.close()"
   ]
  },
  {
   "cell_type": "code",
   "execution_count": 251,
   "metadata": {},
   "outputs": [
    {
     "name": "stdout",
     "output_type": "stream",
     "text": [
      "          DatabaseName SchemaName TableName\n",
      "12648  ApplicationData       GTID   Log4Net\n"
     ]
    }
   ],
   "source": [
    "d = dfappdata0022[['DatabaseName', 'SchemaName','TableName']]\n",
    "d = d.drop_duplicates()\n",
    "e = d['DatabaseName'].values[0]\n",
    "f = d['SchemaName'].values[0]\n",
    "g = d['TableName'].values[0]\n",
    "print (d)\n",
    "FileName = ('AppData_{}_{}'.format(f,g))\n",
    "\n",
    "fig = px.scatter(dfappdata0022, x = 'TodaysDate', y='RecordCount', size = 'RecordCount', color = 'RecordCount', title = '{0},{1},{2}'.format(e,f,g))\n",
    "#fig.update_layout(title='Risk Assessment: Table activity recorded',\n",
    "fig.update_layout(yaxis_zeroline=False, xaxis_zeroline=False)\n",
    "fig.update_xaxes(title_font=dict(size=18, color='crimson'))\n",
    "fig.update_yaxes(title_font=dict(size=18, color='crimson'))\n",
    "fig.update_xaxes(ticks=\"inside\")\n",
    "fig.update_yaxes(ticks=\"inside\")\n",
    "fig.update_xaxes(tickangle=45, tickfont=dict(color='crimson', size=14))\n",
    "fig.update_xaxes(showline=True, linewidth=2, linecolor='black', mirror=True, gridcolor='Pink')\n",
    "fig.update_yaxes(showline=True, linewidth=2, linecolor='black', mirror=True, gridcolor='Red')\n",
    "#fig.show()\n",
    "fig.write_html(r'C:\\Users\\eeeeeeeeee\\Documents\\JupyterAnacondaPythonNotebooks\\Daily\\Charts_px\\ApplicationData\\{}.html'.format(FileName))\n",
    "plt.close()"
   ]
  },
  {
   "cell_type": "code",
   "execution_count": 252,
   "metadata": {},
   "outputs": [
    {
     "name": "stdout",
     "output_type": "stream",
     "text": [
      "        DatabaseName SchemaName     TableName\n",
      "279  ApplicationData    LogView  AccessRights\n"
     ]
    }
   ],
   "source": [
    "d = dfappdata0023[['DatabaseName', 'SchemaName','TableName']]\n",
    "d = d.drop_duplicates()\n",
    "e = d['DatabaseName'].values[0]\n",
    "f = d['SchemaName'].values[0]\n",
    "g = d['TableName'].values[0]\n",
    "print (d)\n",
    "FileName = ('AppData_{}_{}'.format(f,g))\n",
    "\n",
    "fig = px.scatter(dfappdata0023, x = 'TodaysDate', y='RecordCount', size = 'RecordCount', color = 'RecordCount', title = '{0},{1},{2}'.format(e,f,g))\n",
    "#fig.update_layout(title='Risk Assessment: Table activity recorded',\n",
    "fig.update_layout(yaxis_zeroline=False, xaxis_zeroline=False)\n",
    "fig.update_xaxes(title_font=dict(size=18, color='crimson'))\n",
    "fig.update_yaxes(title_font=dict(size=18, color='crimson'))\n",
    "fig.update_xaxes(ticks=\"inside\")\n",
    "fig.update_yaxes(ticks=\"inside\")\n",
    "fig.update_xaxes(tickangle=45, tickfont=dict(color='crimson', size=14))\n",
    "fig.update_xaxes(showline=True, linewidth=2, linecolor='black', mirror=True, gridcolor='Pink')\n",
    "fig.update_yaxes(showline=True, linewidth=2, linecolor='black', mirror=True, gridcolor='Red')\n",
    "#fig.show()\n",
    "fig.write_html(r'C:\\Users\\eeeeeeeeee\\Documents\\JupyterAnacondaPythonNotebooks\\Daily\\Charts_px\\ApplicationData\\{}.html'.format(FileName))\n",
    "plt.close()"
   ]
  },
  {
   "cell_type": "code",
   "execution_count": 253,
   "metadata": {},
   "outputs": [
    {
     "name": "stdout",
     "output_type": "stream",
     "text": [
      "        DatabaseName SchemaName       TableName\n",
      "744  ApplicationData    LogView  ApplicationLog\n"
     ]
    }
   ],
   "source": [
    "d = dfappdata0024[['DatabaseName', 'SchemaName','TableName']]\n",
    "d = d.drop_duplicates()\n",
    "e = d['DatabaseName'].values[0]\n",
    "f = d['SchemaName'].values[0]\n",
    "g = d['TableName'].values[0]\n",
    "print (d)\n",
    "FileName = ('AppData_{}_{}'.format(f,g))\n",
    "\n",
    "fig = px.scatter(dfappdata0024, x = 'TodaysDate', y='RecordCount', size = 'RecordCount', color = 'RecordCount', title = '{0},{1},{2}'.format(e,f,g))\n",
    "#fig.update_layout(title='Risk Assessment: Table activity recorded',\n",
    "fig.update_layout(yaxis_zeroline=False, xaxis_zeroline=False)\n",
    "fig.update_xaxes(title_font=dict(size=18, color='crimson'))\n",
    "fig.update_yaxes(title_font=dict(size=18, color='crimson'))\n",
    "fig.update_xaxes(ticks=\"inside\")\n",
    "fig.update_yaxes(ticks=\"inside\")\n",
    "fig.update_xaxes(tickangle=45, tickfont=dict(color='crimson', size=14))\n",
    "fig.update_xaxes(showline=True, linewidth=2, linecolor='black', mirror=True, gridcolor='Pink')\n",
    "fig.update_yaxes(showline=True, linewidth=2, linecolor='black', mirror=True, gridcolor='Red')\n",
    "#fig.show()\n",
    "fig.write_html(r'C:\\Users\\eeeeeeeeee\\Documents\\JupyterAnacondaPythonNotebooks\\Daily\\Charts_px\\ApplicationData\\{}.html'.format(FileName))\n",
    "plt.close()"
   ]
  },
  {
   "cell_type": "code",
   "execution_count": 254,
   "metadata": {},
   "outputs": [
    {
     "name": "stdout",
     "output_type": "stream",
     "text": [
      "          DatabaseName SchemaName TableName\n",
      "12741  ApplicationData    LogView   Log4Net\n"
     ]
    }
   ],
   "source": [
    "d = dfappdata0025[['DatabaseName', 'SchemaName','TableName']]\n",
    "d = d.drop_duplicates()\n",
    "e = d['DatabaseName'].values[0]\n",
    "f = d['SchemaName'].values[0]\n",
    "g = d['TableName'].values[0]\n",
    "print (d)\n",
    "FileName = ('AppData_{}_{}'.format(f,g))\n",
    "\n",
    "fig = px.scatter(dfappdata0025, x = 'TodaysDate', y='RecordCount', size = 'RecordCount', color = 'RecordCount', title = '{0},{1},{2}'.format(e,f,g))\n",
    "#fig.update_layout(title='Risk Assessment: Table activity recorded',\n",
    "fig.update_layout(yaxis_zeroline=False, xaxis_zeroline=False)\n",
    "fig.update_xaxes(title_font=dict(size=18, color='crimson'))\n",
    "fig.update_yaxes(title_font=dict(size=18, color='crimson'))\n",
    "fig.update_xaxes(ticks=\"inside\")\n",
    "fig.update_yaxes(ticks=\"inside\")\n",
    "fig.update_xaxes(tickangle=45, tickfont=dict(color='crimson', size=14))\n",
    "fig.update_xaxes(showline=True, linewidth=2, linecolor='black', mirror=True, gridcolor='Pink')\n",
    "fig.update_yaxes(showline=True, linewidth=2, linecolor='black', mirror=True, gridcolor='Red')\n",
    "#fig.show()\n",
    "fig.write_html(r'C:\\Users\\eeeeeeeeee\\Documents\\JupyterAnacondaPythonNotebooks\\Daily\\Charts_px\\ApplicationData\\{}.html'.format(FileName))\n",
    "plt.close()"
   ]
  },
  {
   "cell_type": "code",
   "execution_count": 255,
   "metadata": {},
   "outputs": [
    {
     "name": "stdout",
     "output_type": "stream",
     "text": [
      "         DatabaseName    SchemaName      TableName\n",
      "1116  ApplicationData  MockElection  BallotMeasure\n"
     ]
    }
   ],
   "source": [
    "d = dfappdata0026[['DatabaseName', 'SchemaName','TableName']]\n",
    "d = d.drop_duplicates()\n",
    "e = d['DatabaseName'].values[0]\n",
    "f = d['SchemaName'].values[0]\n",
    "g = d['TableName'].values[0]\n",
    "print (d)\n",
    "FileName = ('AppData_{}_{}'.format(f,g))\n",
    "\n",
    "fig = px.scatter(dfappdata0026, x = 'TodaysDate', y='RecordCount', size = 'RecordCount', color = 'RecordCount', title = '{0},{1},{2}'.format(e,f,g))\n",
    "#fig.update_layout(title='Risk Assessment: Table activity recorded',\n",
    "fig.update_layout(yaxis_zeroline=False, xaxis_zeroline=False)\n",
    "fig.update_xaxes(title_font=dict(size=18, color='crimson'))\n",
    "fig.update_yaxes(title_font=dict(size=18, color='crimson'))\n",
    "fig.update_xaxes(ticks=\"inside\")\n",
    "fig.update_yaxes(ticks=\"inside\")\n",
    "fig.update_xaxes(tickangle=45, tickfont=dict(color='crimson', size=14))\n",
    "fig.update_xaxes(showline=True, linewidth=2, linecolor='black', mirror=True, gridcolor='Pink')\n",
    "fig.update_yaxes(showline=True, linewidth=2, linecolor='black', mirror=True, gridcolor='Red')\n",
    "#fig.show()\n",
    "fig.write_html(r'C:\\Users\\eeeeeeeeee\\Documents\\JupyterAnacondaPythonNotebooks\\Daily\\Charts_px\\ApplicationData\\{}.html'.format(FileName))\n",
    "plt.close()"
   ]
  },
  {
   "cell_type": "code",
   "execution_count": 256,
   "metadata": {},
   "outputs": [
    {
     "name": "stdout",
     "output_type": "stream",
     "text": [
      "         DatabaseName    SchemaName  TableName\n",
      "1395  ApplicationData  MockElection  Candidate\n"
     ]
    }
   ],
   "source": [
    "d = dfappdata0027[['DatabaseName', 'SchemaName','TableName']]\n",
    "d = d.drop_duplicates()\n",
    "e = d['DatabaseName'].values[0]\n",
    "f = d['SchemaName'].values[0]\n",
    "g = d['TableName'].values[0]\n",
    "print (d)\n",
    "FileName = ('AppData_{}_{}'.format(f,g))\n",
    "\n",
    "fig = px.scatter(dfappdata0027, x = 'TodaysDate', y='RecordCount', size = 'RecordCount', color = 'RecordCount', title = '{0},{1},{2}'.format(e,f,g))\n",
    "#fig.update_layout(title='Risk Assessment: Table activity recorded',\n",
    "fig.update_layout(yaxis_zeroline=False, xaxis_zeroline=False)\n",
    "fig.update_xaxes(title_font=dict(size=18, color='crimson'))\n",
    "fig.update_yaxes(title_font=dict(size=18, color='crimson'))\n",
    "fig.update_xaxes(ticks=\"inside\")\n",
    "fig.update_yaxes(ticks=\"inside\")\n",
    "fig.update_xaxes(tickangle=45, tickfont=dict(color='crimson', size=14))\n",
    "fig.update_xaxes(showline=True, linewidth=2, linecolor='black', mirror=True, gridcolor='Pink')\n",
    "fig.update_yaxes(showline=True, linewidth=2, linecolor='black', mirror=True, gridcolor='Red')\n",
    "#fig.show()\n",
    "fig.write_html(r'C:\\Users\\eeeeeeeeee\\Documents\\JupyterAnacondaPythonNotebooks\\Daily\\Charts_px\\ApplicationData\\{}.html'.format(FileName))\n",
    "plt.close()"
   ]
  },
  {
   "cell_type": "code",
   "execution_count": 257,
   "metadata": {},
   "outputs": [
    {
     "name": "stdout",
     "output_type": "stream",
     "text": [
      "         DatabaseName    SchemaName         TableName\n",
      "1488  ApplicationData  MockElection  CandidateResults\n"
     ]
    }
   ],
   "source": [
    "d = dfappdata0028[['DatabaseName', 'SchemaName','TableName']]\n",
    "d = d.drop_duplicates()\n",
    "e = d['DatabaseName'].values[0]\n",
    "f = d['SchemaName'].values[0]\n",
    "g = d['TableName'].values[0]\n",
    "print (d)\n",
    "FileName = ('AppData_{}_{}'.format(f,g))\n",
    "\n",
    "fig = px.scatter(dfappdata0028, x = 'TodaysDate', y='RecordCount', size = 'RecordCount', color = 'RecordCount', title = '{0},{1},{2}'.format(e,f,g))\n",
    "#fig.update_layout(title='Risk Assessment: Table activity recorded',\n",
    "fig.update_layout(yaxis_zeroline=False, xaxis_zeroline=False)\n",
    "fig.update_xaxes(title_font=dict(size=18, color='crimson'))\n",
    "fig.update_yaxes(title_font=dict(size=18, color='crimson'))\n",
    "fig.update_xaxes(ticks=\"inside\")\n",
    "fig.update_yaxes(ticks=\"inside\")\n",
    "fig.update_xaxes(tickangle=45, tickfont=dict(color='crimson', size=14))\n",
    "fig.update_xaxes(showline=True, linewidth=2, linecolor='black', mirror=True, gridcolor='Pink')\n",
    "fig.update_yaxes(showline=True, linewidth=2, linecolor='black', mirror=True, gridcolor='Red')\n",
    "#fig.show()\n",
    "fig.write_html(r'C:\\Users\\eeeeeeeeee\\Documents\\JupyterAnacondaPythonNotebooks\\Daily\\Charts_px\\ApplicationData\\{}.html'.format(FileName))\n",
    "plt.close()"
   ]
  },
  {
   "cell_type": "code",
   "execution_count": 258,
   "metadata": {},
   "outputs": [
    {
     "name": "stdout",
     "output_type": "stream",
     "text": [
      "         DatabaseName    SchemaName TableName\n",
      "1767  ApplicationData  MockElection   Cluster\n"
     ]
    }
   ],
   "source": [
    "d = dfappdata0029[['DatabaseName', 'SchemaName','TableName']]\n",
    "d = d.drop_duplicates()\n",
    "e = d['DatabaseName'].values[0]\n",
    "f = d['SchemaName'].values[0]\n",
    "g = d['TableName'].values[0]\n",
    "print (d)\n",
    "FileName = ('AppData_{}_{}'.format(f,g))\n",
    "\n",
    "fig = px.scatter(dfappdata0029, x = 'TodaysDate', y='RecordCount', size = 'RecordCount', color = 'RecordCount', title = '{0},{1},{2}'.format(e,f,g))\n",
    "#fig.update_layout(title='Risk Assessment: Table activity recorded',\n",
    "fig.update_layout(yaxis_zeroline=False, xaxis_zeroline=False)\n",
    "fig.update_xaxes(title_font=dict(size=18, color='crimson'))\n",
    "fig.update_yaxes(title_font=dict(size=18, color='crimson'))\n",
    "fig.update_xaxes(ticks=\"inside\")\n",
    "fig.update_yaxes(ticks=\"inside\")\n",
    "fig.update_xaxes(tickangle=45, tickfont=dict(color='crimson', size=14))\n",
    "fig.update_xaxes(showline=True, linewidth=2, linecolor='black', mirror=True, gridcolor='Pink')\n",
    "fig.update_yaxes(showline=True, linewidth=2, linecolor='black', mirror=True, gridcolor='Red')\n",
    "#fig.show()\n",
    "fig.write_html(r'C:\\Users\\eeeeeeeeee\\Documents\\JupyterAnacondaPythonNotebooks\\Daily\\Charts_px\\ApplicationData\\{}.html'.format(FileName))\n",
    "plt.close()"
   ]
  },
  {
   "cell_type": "code",
   "execution_count": 259,
   "metadata": {},
   "outputs": [
    {
     "name": "stdout",
     "output_type": "stream",
     "text": [
      "         DatabaseName    SchemaName TableName\n",
      "5208  ApplicationData  MockElection  Defaults\n"
     ]
    }
   ],
   "source": [
    "d = dfappdata0030[['DatabaseName', 'SchemaName','TableName']]\n",
    "d = d.drop_duplicates()\n",
    "e = d['DatabaseName'].values[0]\n",
    "f = d['SchemaName'].values[0]\n",
    "g = d['TableName'].values[0]\n",
    "print (d)\n",
    "FileName = ('AppData_{}_{}'.format(f,g))\n",
    "\n",
    "fig = px.scatter(dfappdata0030, x = 'TodaysDate', y='RecordCount', size = 'RecordCount', color = 'RecordCount', title = '{0},{1},{2}'.format(e,f,g))\n",
    "#fig.update_layout(title='Risk Assessment: Table activity recorded',\n",
    "fig.update_layout(yaxis_zeroline=False, xaxis_zeroline=False)\n",
    "fig.update_xaxes(title_font=dict(size=18, color='crimson'))\n",
    "fig.update_yaxes(title_font=dict(size=18, color='crimson'))\n",
    "fig.update_xaxes(ticks=\"inside\")\n",
    "fig.update_yaxes(ticks=\"inside\")\n",
    "fig.update_xaxes(tickangle=45, tickfont=dict(color='crimson', size=14))\n",
    "fig.update_xaxes(showline=True, linewidth=2, linecolor='black', mirror=True, gridcolor='Pink')\n",
    "fig.update_yaxes(showline=True, linewidth=2, linecolor='black', mirror=True, gridcolor='Red')\n",
    "#fig.show()\n",
    "fig.write_html(r'C:\\Users\\eeeeeeeeee\\Documents\\JupyterAnacondaPythonNotebooks\\Daily\\Charts_px\\ApplicationData\\{}.html'.format(FileName))\n",
    "plt.close()"
   ]
  },
  {
   "cell_type": "code",
   "execution_count": 260,
   "metadata": {},
   "outputs": [
    {
     "name": "stdout",
     "output_type": "stream",
     "text": [
      "         DatabaseName    SchemaName     TableName\n",
      "5766  ApplicationData  MockElection  ElectionType\n"
     ]
    }
   ],
   "source": [
    "d = dfappdata0031[['DatabaseName', 'SchemaName','TableName']]\n",
    "d = d.drop_duplicates()\n",
    "e = d['DatabaseName'].values[0]\n",
    "f = d['SchemaName'].values[0]\n",
    "g = d['TableName'].values[0]\n",
    "print (d)\n",
    "FileName = ('AppData_{}_{}'.format(f,g))\n",
    "\n",
    "fig = px.scatter(dfappdata0031, x = 'TodaysDate', y='RecordCount', size = 'RecordCount', color = 'RecordCount', title = '{0},{1},{2}'.format(e,f,g))\n",
    "#fig.update_layout(title='Risk Assessment: Table activity recorded',\n",
    "fig.update_layout(yaxis_zeroline=False, xaxis_zeroline=False)\n",
    "fig.update_xaxes(title_font=dict(size=18, color='crimson'))\n",
    "fig.update_yaxes(title_font=dict(size=18, color='crimson'))\n",
    "fig.update_xaxes(ticks=\"inside\")\n",
    "fig.update_yaxes(ticks=\"inside\")\n",
    "fig.update_xaxes(tickangle=45, tickfont=dict(color='crimson', size=14))\n",
    "fig.update_xaxes(showline=True, linewidth=2, linecolor='black', mirror=True, gridcolor='Pink')\n",
    "fig.update_yaxes(showline=True, linewidth=2, linecolor='black', mirror=True, gridcolor='Red')\n",
    "#fig.show()\n",
    "fig.write_html(r'C:\\Users\\eeeeeeeeee\\Documents\\JupyterAnacondaPythonNotebooks\\Daily\\Charts_px\\ApplicationData\\{}.html'.format(FileName))\n",
    "plt.close()"
   ]
  },
  {
   "cell_type": "code",
   "execution_count": 261,
   "metadata": {},
   "outputs": [
    {
     "name": "stdout",
     "output_type": "stream",
     "text": [
      "          DatabaseName    SchemaName TableName\n",
      "12834  ApplicationData  MockElection   Log4Net\n"
     ]
    }
   ],
   "source": [
    "d = dfappdata0032[['DatabaseName', 'SchemaName','TableName']]\n",
    "d = d.drop_duplicates()\n",
    "e = d['DatabaseName'].values[0]\n",
    "f = d['SchemaName'].values[0]\n",
    "g = d['TableName'].values[0]\n",
    "print (d)\n",
    "FileName = ('AppData_{}_{}'.format(f,g))\n",
    "\n",
    "fig = px.scatter(dfappdata0032, x = 'TodaysDate', y='RecordCount', size = 'RecordCount', color = 'RecordCount', title = '{0},{1},{2}'.format(e,f,g))\n",
    "#fig.update_layout(title='Risk Assessment: Table activity recorded',\n",
    "fig.update_layout(yaxis_zeroline=False, xaxis_zeroline=False)\n",
    "fig.update_xaxes(title_font=dict(size=18, color='crimson'))\n",
    "fig.update_yaxes(title_font=dict(size=18, color='crimson'))\n",
    "fig.update_xaxes(ticks=\"inside\")\n",
    "fig.update_yaxes(ticks=\"inside\")\n",
    "fig.update_xaxes(tickangle=45, tickfont=dict(color='crimson', size=14))\n",
    "fig.update_xaxes(showline=True, linewidth=2, linecolor='black', mirror=True, gridcolor='Pink')\n",
    "fig.update_yaxes(showline=True, linewidth=2, linecolor='black', mirror=True, gridcolor='Red')\n",
    "#fig.show()\n",
    "fig.write_html(r'C:\\Users\\eeeeeeeeee\\Documents\\JupyterAnacondaPythonNotebooks\\Daily\\Charts_px\\ApplicationData\\{}.html'.format(FileName))\n",
    "plt.close()"
   ]
  },
  {
   "cell_type": "code",
   "execution_count": 262,
   "metadata": {},
   "outputs": [
    {
     "name": "stdout",
     "output_type": "stream",
     "text": [
      "          DatabaseName    SchemaName       TableName\n",
      "13578  ApplicationData  MockElection  MeasureCluster\n"
     ]
    }
   ],
   "source": [
    "d = dfappdata0033[['DatabaseName', 'SchemaName','TableName']]\n",
    "d = d.drop_duplicates()\n",
    "e = d['DatabaseName'].values[0]\n",
    "f = d['SchemaName'].values[0]\n",
    "g = d['TableName'].values[0]\n",
    "print (d)\n",
    "FileName = ('AppData_{}_{}'.format(f,g))\n",
    "\n",
    "fig = px.scatter(dfappdata0033, x = 'TodaysDate', y='RecordCount', size = 'RecordCount', color = 'RecordCount', title = '{0},{1},{2}'.format(e,f,g))\n",
    "#fig.update_layout(title='Risk Assessment: Table activity recorded',\n",
    "fig.update_layout(yaxis_zeroline=False, xaxis_zeroline=False)\n",
    "fig.update_xaxes(title_font=dict(size=18, color='crimson'))\n",
    "fig.update_yaxes(title_font=dict(size=18, color='crimson'))\n",
    "fig.update_xaxes(ticks=\"inside\")\n",
    "fig.update_yaxes(ticks=\"inside\")\n",
    "fig.update_xaxes(tickangle=45, tickfont=dict(color='crimson', size=14))\n",
    "fig.update_xaxes(showline=True, linewidth=2, linecolor='black', mirror=True, gridcolor='Pink')\n",
    "fig.update_yaxes(showline=True, linewidth=2, linecolor='black', mirror=True, gridcolor='Red')\n",
    "#fig.show()\n",
    "fig.write_html(r'C:\\Users\\eeeeeeeeee\\Documents\\JupyterAnacondaPythonNotebooks\\Daily\\Charts_px\\ApplicationData\\{}.html'.format(FileName))\n",
    "plt.close()"
   ]
  },
  {
   "cell_type": "code",
   "execution_count": 263,
   "metadata": {},
   "outputs": [
    {
     "name": "stdout",
     "output_type": "stream",
     "text": [
      "          DatabaseName    SchemaName       TableName\n",
      "13671  ApplicationData  MockElection  MeasureResults\n"
     ]
    }
   ],
   "source": [
    "d = dfappdata0034[['DatabaseName', 'SchemaName','TableName']]\n",
    "d = d.drop_duplicates()\n",
    "e = d['DatabaseName'].values[0]\n",
    "f = d['SchemaName'].values[0]\n",
    "g = d['TableName'].values[0]\n",
    "print (d)\n",
    "FileName = ('AppData_{}_{}'.format(f,g))\n",
    "\n",
    "fig = px.scatter(dfappdata0034, x = 'TodaysDate', y='RecordCount', size = 'RecordCount', color = 'RecordCount', title = '{0},{1},{2}'.format(e,f,g))\n",
    "#fig.update_layout(title='Risk Assessment: Table activity recorded',\n",
    "fig.update_layout(yaxis_zeroline=False, xaxis_zeroline=False)\n",
    "fig.update_xaxes(title_font=dict(size=18, color='crimson'))\n",
    "fig.update_yaxes(title_font=dict(size=18, color='crimson'))\n",
    "fig.update_xaxes(ticks=\"inside\")\n",
    "fig.update_yaxes(ticks=\"inside\")\n",
    "fig.update_xaxes(tickangle=45, tickfont=dict(color='crimson', size=14))\n",
    "fig.update_xaxes(showline=True, linewidth=2, linecolor='black', mirror=True, gridcolor='Pink')\n",
    "fig.update_yaxes(showline=True, linewidth=2, linecolor='black', mirror=True, gridcolor='Red')\n",
    "#fig.show()\n",
    "fig.write_html(r'C:\\Users\\eeeeeeeeee\\Documents\\JupyterAnacondaPythonNotebooks\\Daily\\Charts_px\\ApplicationData\\{}.html'.format(FileName))\n",
    "plt.close()"
   ]
  },
  {
   "cell_type": "code",
   "execution_count": 264,
   "metadata": {},
   "outputs": [
    {
     "name": "stdout",
     "output_type": "stream",
     "text": [
      "          DatabaseName    SchemaName TableName\n",
      "13857  ApplicationData  MockElection    Office\n"
     ]
    }
   ],
   "source": [
    "d = dfappdata0035[['DatabaseName', 'SchemaName','TableName']]\n",
    "d = d.drop_duplicates()\n",
    "e = d['DatabaseName'].values[0]\n",
    "f = d['SchemaName'].values[0]\n",
    "g = d['TableName'].values[0]\n",
    "print (d)\n",
    "FileName = ('AppData_{}_{}'.format(f,g))\n",
    "\n",
    "fig = px.scatter(dfappdata0035, x = 'TodaysDate', y='RecordCount', size = 'RecordCount', color = 'RecordCount', title = '{0},{1},{2}'.format(e,f,g))\n",
    "#fig.update_layout(title='Risk Assessment: Table activity recorded',\n",
    "fig.update_layout(yaxis_zeroline=False, xaxis_zeroline=False)\n",
    "fig.update_xaxes(title_font=dict(size=18, color='crimson'))\n",
    "fig.update_yaxes(title_font=dict(size=18, color='crimson'))\n",
    "fig.update_xaxes(ticks=\"inside\")\n",
    "fig.update_yaxes(ticks=\"inside\")\n",
    "fig.update_xaxes(tickangle=45, tickfont=dict(color='crimson', size=14))\n",
    "fig.update_xaxes(showline=True, linewidth=2, linecolor='black', mirror=True, gridcolor='Pink')\n",
    "fig.update_yaxes(showline=True, linewidth=2, linecolor='black', mirror=True, gridcolor='Red')\n",
    "#fig.show()\n",
    "fig.write_html(r'C:\\Users\\eeeeeeeeee\\Documents\\JupyterAnacondaPythonNotebooks\\Daily\\Charts_px\\ApplicationData\\{}.html'.format(FileName))\n",
    "plt.close()"
   ]
  },
  {
   "cell_type": "code",
   "execution_count": 265,
   "metadata": {},
   "outputs": [
    {
     "name": "stdout",
     "output_type": "stream",
     "text": [
      "          DatabaseName    SchemaName      TableName\n",
      "13950  ApplicationData  MockElection  OfficeCluster\n"
     ]
    }
   ],
   "source": [
    "d = dfappdata0036[['DatabaseName', 'SchemaName','TableName']]\n",
    "d = d.drop_duplicates()\n",
    "e = d['DatabaseName'].values[0]\n",
    "f = d['SchemaName'].values[0]\n",
    "g = d['TableName'].values[0]\n",
    "print (d)\n",
    "FileName = ('AppData_{}_{}'.format(f,g))\n",
    "\n",
    "fig = px.scatter(dfappdata0036, x = 'TodaysDate', y='RecordCount', size = 'RecordCount', color = 'RecordCount', title = '{0},{1},{2}'.format(e,f,g))\n",
    "#fig.update_layout(title='Risk Assessment: Table activity recorded',\n",
    "fig.update_layout(yaxis_zeroline=False, xaxis_zeroline=False)\n",
    "fig.update_xaxes(title_font=dict(size=18, color='crimson'))\n",
    "fig.update_yaxes(title_font=dict(size=18, color='crimson'))\n",
    "fig.update_xaxes(ticks=\"inside\")\n",
    "fig.update_yaxes(ticks=\"inside\")\n",
    "fig.update_xaxes(tickangle=45, tickfont=dict(color='crimson', size=14))\n",
    "fig.update_xaxes(showline=True, linewidth=2, linecolor='black', mirror=True, gridcolor='Pink')\n",
    "fig.update_yaxes(showline=True, linewidth=2, linecolor='black', mirror=True, gridcolor='Red')\n",
    "#fig.show()\n",
    "fig.write_html(r'C:\\Users\\eeeeeeeeee\\Documents\\JupyterAnacondaPythonNotebooks\\Daily\\Charts_px\\ApplicationData\\{}.html'.format(FileName))\n",
    "plt.close()"
   ]
  },
  {
   "cell_type": "code",
   "execution_count": 266,
   "metadata": {},
   "outputs": [
    {
     "name": "stdout",
     "output_type": "stream",
     "text": [
      "          DatabaseName    SchemaName  TableName\n",
      "14136  ApplicationData  MockElection  PartyType\n"
     ]
    }
   ],
   "source": [
    "d = dfappdata0037[['DatabaseName', 'SchemaName','TableName']]\n",
    "d = d.drop_duplicates()\n",
    "e = d['DatabaseName'].values[0]\n",
    "f = d['SchemaName'].values[0]\n",
    "g = d['TableName'].values[0]\n",
    "print (d)\n",
    "FileName = ('AppData_{}_{}'.format(f,g))\n",
    "\n",
    "fig = px.scatter(dfappdata0037, x = 'TodaysDate', y='RecordCount', size = 'RecordCount', color = 'RecordCount', title = '{0},{1},{2}'.format(e,f,g))\n",
    "#fig.update_layout(title='Risk Assessment: Table activity recorded',\n",
    "fig.update_layout(yaxis_zeroline=False, xaxis_zeroline=False)\n",
    "fig.update_xaxes(title_font=dict(size=18, color='crimson'))\n",
    "fig.update_yaxes(title_font=dict(size=18, color='crimson'))\n",
    "fig.update_xaxes(ticks=\"inside\")\n",
    "fig.update_yaxes(ticks=\"inside\")\n",
    "fig.update_xaxes(tickangle=45, tickfont=dict(color='crimson', size=14))\n",
    "fig.update_xaxes(showline=True, linewidth=2, linecolor='black', mirror=True, gridcolor='Pink')\n",
    "fig.update_yaxes(showline=True, linewidth=2, linecolor='black', mirror=True, gridcolor='Red')\n",
    "#fig.show()\n",
    "fig.write_html(r'C:\\Users\\eeeeeeeeee\\Documents\\JupyterAnacondaPythonNotebooks\\Daily\\Charts_px\\ApplicationData\\{}.html'.format(FileName))\n",
    "plt.close()"
   ]
  },
  {
   "cell_type": "code",
   "execution_count": 267,
   "metadata": {},
   "outputs": [
    {
     "name": "stdout",
     "output_type": "stream",
     "text": [
      "          DatabaseName    SchemaName TableName\n",
      "15438  ApplicationData  MockElection    School\n"
     ]
    }
   ],
   "source": [
    "d = dfappdata0038[['DatabaseName', 'SchemaName','TableName']]\n",
    "d = d.drop_duplicates()\n",
    "e = d['DatabaseName'].values[0]\n",
    "f = d['SchemaName'].values[0]\n",
    "g = d['TableName'].values[0]\n",
    "print (d)\n",
    "FileName = ('AppData_{}_{}'.format(f,g))\n",
    "\n",
    "fig = px.scatter(dfappdata0038, x = 'TodaysDate', y='RecordCount', size = 'RecordCount', color = 'RecordCount', title = '{0},{1},{2}'.format(e,f,g))\n",
    "#fig.update_layout(title='Risk Assessment: Table activity recorded',\n",
    "fig.update_layout(yaxis_zeroline=False, xaxis_zeroline=False)\n",
    "fig.update_xaxes(title_font=dict(size=18, color='crimson'))\n",
    "fig.update_yaxes(title_font=dict(size=18, color='crimson'))\n",
    "fig.update_xaxes(ticks=\"inside\")\n",
    "fig.update_yaxes(ticks=\"inside\")\n",
    "fig.update_xaxes(tickangle=45, tickfont=dict(color='crimson', size=14))\n",
    "fig.update_xaxes(showline=True, linewidth=2, linecolor='black', mirror=True, gridcolor='Pink')\n",
    "fig.update_yaxes(showline=True, linewidth=2, linecolor='black', mirror=True, gridcolor='Red')\n",
    "#fig.show()\n",
    "fig.write_html(r'C:\\Users\\eeeeeeeeee\\Documents\\JupyterAnacondaPythonNotebooks\\Daily\\Charts_px\\ApplicationData\\{}.html'.format(FileName))\n",
    "plt.close()"
   ]
  },
  {
   "cell_type": "code",
   "execution_count": 268,
   "metadata": {},
   "outputs": [
    {
     "name": "stdout",
     "output_type": "stream",
     "text": [
      "        DatabaseName SchemaName    TableName\n",
      "558  ApplicationData    RunTime  Application\n"
     ]
    }
   ],
   "source": [
    "d = dfappdata0039[['DatabaseName', 'SchemaName','TableName']]\n",
    "d = d.drop_duplicates()\n",
    "e = d['DatabaseName'].values[0]\n",
    "f = d['SchemaName'].values[0]\n",
    "g = d['TableName'].values[0]\n",
    "print (d)\n",
    "FileName = ('AppData_{}_{}'.format(f,g))\n",
    "\n",
    "fig = px.scatter(dfappdata0039, x = 'TodaysDate', y='RecordCount', size = 'RecordCount', color = 'RecordCount', title = '{0},{1},{2}'.format(e,f,g))\n",
    "#fig.update_layout(title='Risk Assessment: Table activity recorded',\n",
    "fig.update_layout(yaxis_zeroline=False, xaxis_zeroline=False)\n",
    "fig.update_xaxes(title_font=dict(size=18, color='crimson'))\n",
    "fig.update_yaxes(title_font=dict(size=18, color='crimson'))\n",
    "fig.update_xaxes(ticks=\"inside\")\n",
    "fig.update_yaxes(ticks=\"inside\")\n",
    "fig.update_xaxes(tickangle=45, tickfont=dict(color='crimson', size=14))\n",
    "fig.update_xaxes(showline=True, linewidth=2, linecolor='black', mirror=True, gridcolor='Pink')\n",
    "fig.update_yaxes(showline=True, linewidth=2, linecolor='black', mirror=True, gridcolor='Red')\n",
    "#fig.show()\n",
    "fig.write_html(r'C:\\Users\\eeeeeeeeee\\Documents\\JupyterAnacondaPythonNotebooks\\Daily\\Charts_px\\ApplicationData\\{}.html'.format(FileName))\n",
    "plt.close()"
   ]
  },
  {
   "cell_type": "code",
   "execution_count": 269,
   "metadata": {},
   "outputs": [
    {
     "name": "stdout",
     "output_type": "stream",
     "text": [
      "        DatabaseName SchemaName                TableName\n",
      "651  ApplicationData    RunTime  ApplicationAvailibility\n"
     ]
    }
   ],
   "source": [
    "d = dfappdata0040[['DatabaseName', 'SchemaName','TableName']]\n",
    "d = d.drop_duplicates()\n",
    "e = d['DatabaseName'].values[0]\n",
    "f = d['SchemaName'].values[0]\n",
    "g = d['TableName'].values[0]\n",
    "print (d)\n",
    "FileName = ('AppData_{}_{}'.format(f,g))\n",
    "\n",
    "fig = px.scatter(dfappdata0040, x = 'TodaysDate', y='RecordCount', size = 'RecordCount', color = 'RecordCount', title = '{0},{1},{2}'.format(e,f,g))\n",
    "#fig.update_layout(title='Risk Assessment: Table activity recorded',\n",
    "fig.update_layout(yaxis_zeroline=False, xaxis_zeroline=False)\n",
    "fig.update_xaxes(title_font=dict(size=18, color='crimson'))\n",
    "fig.update_yaxes(title_font=dict(size=18, color='crimson'))\n",
    "fig.update_xaxes(ticks=\"inside\")\n",
    "fig.update_yaxes(ticks=\"inside\")\n",
    "fig.update_xaxes(tickangle=45, tickfont=dict(color='crimson', size=14))\n",
    "fig.update_xaxes(showline=True, linewidth=2, linecolor='black', mirror=True, gridcolor='Pink')\n",
    "fig.update_yaxes(showline=True, linewidth=2, linecolor='black', mirror=True, gridcolor='Red')\n",
    "#fig.show()\n",
    "fig.write_html(r'C:\\Users\\eeeeeeeeee\\Documents\\JupyterAnacondaPythonNotebooks\\Daily\\Charts_px\\ApplicationData\\{}.html'.format(FileName))\n",
    "plt.close()"
   ]
  },
  {
   "cell_type": "code",
   "execution_count": 270,
   "metadata": {},
   "outputs": [
    {
     "name": "stdout",
     "output_type": "stream",
     "text": [
      "        DatabaseName SchemaName                 TableName\n",
      "837  ApplicationData    RunTime  ApplicationSchemaVersion\n"
     ]
    }
   ],
   "source": [
    "d = dfappdata0041[['DatabaseName', 'SchemaName','TableName']]\n",
    "d = d.drop_duplicates()\n",
    "e = d['DatabaseName'].values[0]\n",
    "f = d['SchemaName'].values[0]\n",
    "g = d['TableName'].values[0]\n",
    "print (d)\n",
    "FileName = ('AppData_{}_{}'.format(f,g))\n",
    "\n",
    "fig = px.scatter(dfappdata0041, x = 'TodaysDate', y='RecordCount', size = 'RecordCount', color = 'RecordCount', title = '{0},{1},{2}'.format(e,f,g))\n",
    "#fig.update_layout(title='Risk Assessment: Table activity recorded',\n",
    "fig.update_layout(yaxis_zeroline=False, xaxis_zeroline=False)\n",
    "fig.update_xaxes(title_font=dict(size=18, color='crimson'))\n",
    "fig.update_yaxes(title_font=dict(size=18, color='crimson'))\n",
    "fig.update_xaxes(ticks=\"inside\")\n",
    "fig.update_yaxes(ticks=\"inside\")\n",
    "fig.update_xaxes(tickangle=45, tickfont=dict(color='crimson', size=14))\n",
    "fig.update_xaxes(showline=True, linewidth=2, linecolor='black', mirror=True, gridcolor='Pink')\n",
    "fig.update_yaxes(showline=True, linewidth=2, linecolor='black', mirror=True, gridcolor='Red')\n",
    "#fig.show()\n",
    "fig.write_html(r'C:\\Users\\eeeeeeeeee\\Documents\\JupyterAnacondaPythonNotebooks\\Daily\\Charts_px\\ApplicationData\\{}.html'.format(FileName))\n",
    "plt.close()"
   ]
  },
  {
   "cell_type": "code",
   "execution_count": 271,
   "metadata": {},
   "outputs": [
    {
     "name": "stdout",
     "output_type": "stream",
     "text": [
      "        DatabaseName SchemaName          TableName\n",
      "930  ApplicationData         SP  AttendanceByMonth\n"
     ]
    }
   ],
   "source": [
    "d = dfappdata0042[['DatabaseName', 'SchemaName','TableName']]\n",
    "d = d.drop_duplicates()\n",
    "e = d['DatabaseName'].values[0]\n",
    "f = d['SchemaName'].values[0]\n",
    "g = d['TableName'].values[0]\n",
    "print (d)\n",
    "FileName = ('AppData_{}_{}'.format(f,g))\n",
    "\n",
    "fig = px.scatter(dfappdata0042, x = 'TodaysDate', y='RecordCount', size = 'RecordCount', color = 'RecordCount', title = '{0},{1},{2}'.format(e,f,g))\n",
    "#fig.update_layout(title='Risk Assessment: Table activity recorded',\n",
    "fig.update_layout(yaxis_zeroline=False, xaxis_zeroline=False)\n",
    "fig.update_xaxes(title_font=dict(size=18, color='crimson'))\n",
    "fig.update_yaxes(title_font=dict(size=18, color='crimson'))\n",
    "fig.update_xaxes(ticks=\"inside\")\n",
    "fig.update_yaxes(ticks=\"inside\")\n",
    "fig.update_xaxes(tickangle=45, tickfont=dict(color='crimson', size=14))\n",
    "fig.update_xaxes(showline=True, linewidth=2, linecolor='black', mirror=True, gridcolor='Pink')\n",
    "fig.update_yaxes(showline=True, linewidth=2, linecolor='black', mirror=True, gridcolor='Red')\n",
    "#fig.show()\n",
    "fig.write_html(r'C:\\Users\\eeeeeeeeee\\Documents\\JupyterAnacondaPythonNotebooks\\Daily\\Charts_px\\ApplicationData\\{}.html'.format(FileName))\n",
    "plt.close()"
   ]
  },
  {
   "cell_type": "code",
   "execution_count": 272,
   "metadata": {},
   "outputs": [
    {
     "name": "stdout",
     "output_type": "stream",
     "text": [
      "         DatabaseName SchemaName             TableName\n",
      "1953  ApplicationData         SP  ClusterDemogrSummary\n"
     ]
    }
   ],
   "source": [
    "d = dfappdata0043[['DatabaseName', 'SchemaName','TableName']]\n",
    "d = d.drop_duplicates()\n",
    "e = d['DatabaseName'].values[0]\n",
    "f = d['SchemaName'].values[0]\n",
    "g = d['TableName'].values[0]\n",
    "print (d)\n",
    "FileName = ('AppData_{}_{}'.format(f,g))\n",
    "\n",
    "fig = px.scatter(dfappdata0043, x = 'TodaysDate', y='RecordCount', size = 'RecordCount', color = 'RecordCount', title = '{0},{1},{2}'.format(e,f,g))\n",
    "#fig.update_layout(title='Risk Assessment: Table activity recorded',\n",
    "fig.update_layout(yaxis_zeroline=False, xaxis_zeroline=False)\n",
    "fig.update_xaxes(title_font=dict(size=18, color='crimson'))\n",
    "fig.update_yaxes(title_font=dict(size=18, color='crimson'))\n",
    "fig.update_xaxes(ticks=\"inside\")\n",
    "fig.update_yaxes(ticks=\"inside\")\n",
    "fig.update_xaxes(tickangle=45, tickfont=dict(color='crimson', size=14))\n",
    "fig.update_xaxes(showline=True, linewidth=2, linecolor='black', mirror=True, gridcolor='Pink')\n",
    "fig.update_yaxes(showline=True, linewidth=2, linecolor='black', mirror=True, gridcolor='Red')\n",
    "#fig.show()\n",
    "fig.write_html(r'C:\\Users\\eeeeeeeeee\\Documents\\JupyterAnacondaPythonNotebooks\\Daily\\Charts_px\\ApplicationData\\{}.html'.format(FileName)) #interactive_appdata_ClusterDemogrSummary_file.html')\n",
    "plt.close()"
   ]
  },
  {
   "cell_type": "code",
   "execution_count": 273,
   "metadata": {},
   "outputs": [
    {
     "name": "stdout",
     "output_type": "stream",
     "text": [
      "         DatabaseName SchemaName              TableName\n",
      "2046  ApplicationData         SP  ClusterProfileSummary\n"
     ]
    }
   ],
   "source": [
    "d = dfappdata0044[['DatabaseName', 'SchemaName','TableName']]\n",
    "d = d.drop_duplicates()\n",
    "e = d['DatabaseName'].values[0]\n",
    "f = d['SchemaName'].values[0]\n",
    "g = d['TableName'].values[0]\n",
    "print (d)\n",
    "FileName = ('AppData_{}_{}'.format(f,g))\n",
    "\n",
    "fig = px.scatter(dfappdata0044, x = 'TodaysDate', y='RecordCount', size = 'RecordCount', color = 'RecordCount', title = '{0},{1},{2}'.format(e,f,g))\n",
    "#fig.update_layout(title='Risk Assessment: Table activity recorded',\n",
    "fig.update_layout(yaxis_zeroline=False, xaxis_zeroline=False)\n",
    "fig.update_xaxes(title_font=dict(size=18, color='crimson'))\n",
    "fig.update_yaxes(title_font=dict(size=18, color='crimson'))\n",
    "fig.update_xaxes(ticks=\"inside\")\n",
    "fig.update_yaxes(ticks=\"inside\")\n",
    "fig.update_xaxes(tickangle=45, tickfont=dict(color='crimson', size=14))\n",
    "fig.update_xaxes(showline=True, linewidth=2, linecolor='black', mirror=True, gridcolor='Pink')\n",
    "fig.update_yaxes(showline=True, linewidth=2, linecolor='black', mirror=True, gridcolor='Red')\n",
    "#fig.show()\n",
    "fig.write_html(r'C:\\Users\\eeeeeeeeee\\Documents\\JupyterAnacondaPythonNotebooks\\Daily\\Charts_px\\ApplicationData\\{}.html'.format(FileName)) #interactive_appdata_ClusterProfileSummary_file.html')\n",
    "plt.close()"
   ]
  },
  {
   "cell_type": "code",
   "execution_count": 274,
   "metadata": {},
   "outputs": [
    {
     "name": "stdout",
     "output_type": "stream",
     "text": [
      "         DatabaseName SchemaName             TableName\n",
      "5580  ApplicationData         SP  EdLevelDemogrSummary\n"
     ]
    }
   ],
   "source": [
    "d = dfappdata0045[['DatabaseName', 'SchemaName','TableName']]\n",
    "d = d.drop_duplicates()\n",
    "e = d['DatabaseName'].values[0]\n",
    "f = d['SchemaName'].values[0]\n",
    "g = d['TableName'].values[0]\n",
    "print (d)\n",
    "FileName = ('AppData_{}_{}'.format(f,g))\n",
    "\n",
    "fig = px.scatter(dfappdata0045, x = 'TodaysDate', y='RecordCount', size = 'RecordCount', color = 'RecordCount', title = '{0},{1},{2}'.format(e,f,g))\n",
    "#fig.update_layout(title='Risk Assessment: Table activity recorded',\n",
    "fig.update_layout(yaxis_zeroline=False, xaxis_zeroline=False)\n",
    "fig.update_xaxes(title_font=dict(size=18, color='crimson'))\n",
    "fig.update_yaxes(title_font=dict(size=18, color='crimson'))\n",
    "fig.update_xaxes(ticks=\"inside\")\n",
    "fig.update_yaxes(ticks=\"inside\")\n",
    "fig.update_xaxes(tickangle=45, tickfont=dict(color='crimson', size=14))\n",
    "fig.update_xaxes(showline=True, linewidth=2, linecolor='black', mirror=True, gridcolor='Pink')\n",
    "fig.update_yaxes(showline=True, linewidth=2, linecolor='black', mirror=True, gridcolor='Red')\n",
    "#fig.show()\n",
    "fig.write_html(r'C:\\Users\\eeeeeeeeee\\Documents\\JupyterAnacondaPythonNotebooks\\Daily\\Charts_px\\ApplicationData\\{}.html'.format(FileName)) #interactive_appdata_EdLevelDemogrSummary_file.html')\n",
    "plt.close()"
   ]
  },
  {
   "cell_type": "code",
   "execution_count": 275,
   "metadata": {},
   "outputs": [
    {
     "name": "stdout",
     "output_type": "stream",
     "text": [
      "         DatabaseName SchemaName       TableName\n",
      "5673  ApplicationData         SP  EdLevelProfile\n"
     ]
    }
   ],
   "source": [
    "d = dfappdata0046[['DatabaseName', 'SchemaName','TableName']]\n",
    "d = d.drop_duplicates()\n",
    "e = d['DatabaseName'].values[0]\n",
    "f = d['SchemaName'].values[0]\n",
    "g = d['TableName'].values[0]\n",
    "print (d)\n",
    "FileName = ('AppData_{}_{}'.format(f,g))\n",
    "\n",
    "fig = px.scatter(dfappdata0046, x = 'TodaysDate', y='RecordCount', size = 'RecordCount', color = 'RecordCount', title = '{0},{1},{2}'.format(e,f,g))\n",
    "#fig.update_layout(title='Risk Assessment: Table activity recorded',\n",
    "fig.update_layout(yaxis_zeroline=False, xaxis_zeroline=False)\n",
    "fig.update_xaxes(title_font=dict(size=18, color='crimson'))\n",
    "fig.update_yaxes(title_font=dict(size=18, color='crimson'))\n",
    "fig.update_xaxes(ticks=\"inside\")\n",
    "fig.update_yaxes(ticks=\"inside\")\n",
    "fig.update_xaxes(tickangle=45, tickfont=dict(color='crimson', size=14))\n",
    "fig.update_xaxes(showline=True, linewidth=2, linecolor='black', mirror=True, gridcolor='Pink')\n",
    "fig.update_yaxes(showline=True, linewidth=2, linecolor='black', mirror=True, gridcolor='Red')\n",
    "#fig.show()\n",
    "fig.write_html(r'C:\\Users\\eeeeeeeeee\\Documents\\JupyterAnacondaPythonNotebooks\\Daily\\Charts_px\\ApplicationData\\{}.html'.format(FileName)) #interactive_appdata_EdLevelProfile_file.html')\n",
    "plt.close()"
   ]
  },
  {
   "cell_type": "code",
   "execution_count": 276,
   "metadata": {},
   "outputs": [
    {
     "name": "stdout",
     "output_type": "stream",
     "text": [
      "         DatabaseName SchemaName    TableName\n",
      "5859  ApplicationData         SP  EnvSettings\n"
     ]
    }
   ],
   "source": [
    "d = dfappdata0047[['DatabaseName', 'SchemaName','TableName']]\n",
    "d = d.drop_duplicates()\n",
    "e = d['DatabaseName'].values[0]\n",
    "f = d['SchemaName'].values[0]\n",
    "g = d['TableName'].values[0]\n",
    "print (d)\n",
    "FileName = ('AppData_{}_{}'.format(f,g))\n",
    "\n",
    "fig = px.scatter(dfappdata0047, x = 'TodaysDate', y='RecordCount', size = 'RecordCount', color = 'RecordCount', title = '{0},{1},{2}'.format(e,f,g))\n",
    "#fig.update_layout(title='Risk Assessment: Table activity recorded',\n",
    "fig.update_layout(yaxis_zeroline=False, xaxis_zeroline=False)\n",
    "fig.update_xaxes(title_font=dict(size=18, color='crimson'))\n",
    "fig.update_yaxes(title_font=dict(size=18, color='crimson'))\n",
    "fig.update_xaxes(ticks=\"inside\")\n",
    "fig.update_yaxes(ticks=\"inside\")\n",
    "fig.update_xaxes(tickangle=45, tickfont=dict(color='crimson', size=14))\n",
    "fig.update_xaxes(showline=True, linewidth=2, linecolor='black', mirror=True, gridcolor='Pink')\n",
    "fig.update_yaxes(showline=True, linewidth=2, linecolor='black', mirror=True, gridcolor='Red')\n",
    "#fig.show()\n",
    "fig.write_html(r'C:\\Users\\eeeeeeeeee\\Documents\\JupyterAnacondaPythonNotebooks\\Daily\\Charts_px\\ApplicationData\\{}.html'.format(FileName)) #interactive_appdata_EnvSettings_file.html')\n",
    "plt.close()"
   ]
  },
  {
   "cell_type": "code",
   "execution_count": 277,
   "metadata": {},
   "outputs": [
    {
     "name": "stdout",
     "output_type": "stream",
     "text": [
      "          DatabaseName SchemaName   TableName\n",
      "11625  ApplicationData         SP  GradeLevel\n"
     ]
    }
   ],
   "source": [
    "d = dfappdata0048[['DatabaseName', 'SchemaName','TableName']]\n",
    "d = d.drop_duplicates()\n",
    "e = d['DatabaseName'].values[0]\n",
    "f = d['SchemaName'].values[0]\n",
    "g = d['TableName'].values[0]\n",
    "print (d)\n",
    "FileName = ('AppData_{}_{}'.format(f,g))\n",
    "\n",
    "fig = px.scatter(dfappdata0048, x = 'TodaysDate', y='RecordCount', size = 'RecordCount', color = 'RecordCount', title = '{0},{1},{2}'.format(e,f,g))\n",
    "#fig.update_layout(title='Risk Assessment: Table activity recorded',\n",
    "fig.update_layout(yaxis_zeroline=False, xaxis_zeroline=False)\n",
    "fig.update_xaxes(title_font=dict(size=18, color='crimson'))\n",
    "fig.update_yaxes(title_font=dict(size=18, color='crimson'))\n",
    "fig.update_xaxes(ticks=\"inside\")\n",
    "fig.update_yaxes(ticks=\"inside\")\n",
    "fig.update_xaxes(tickangle=45, tickfont=dict(color='crimson', size=14))\n",
    "fig.update_xaxes(showline=True, linewidth=2, linecolor='black', mirror=True, gridcolor='Pink')\n",
    "fig.update_yaxes(showline=True, linewidth=2, linecolor='black', mirror=True, gridcolor='Red')\n",
    "#fig.show()\n",
    "fig.write_html(r'C:\\Users\\eeeeeeeeee\\Documents\\JupyterAnacondaPythonNotebooks\\Daily\\Charts_px\\ApplicationData\\{}.html'.format(FileName)) #interactive_appdata_GradeLevel_file.html')\n",
    "plt.close()"
   ]
  },
  {
   "cell_type": "code",
   "execution_count": 278,
   "metadata": {},
   "outputs": [
    {
     "name": "stdout",
     "output_type": "stream",
     "text": [
      "          DatabaseName SchemaName       TableName\n",
      "11718  ApplicationData         SP  HSGradeSummary\n"
     ]
    }
   ],
   "source": [
    "d = dfappdata0049[['DatabaseName', 'SchemaName','TableName']]\n",
    "d = d.drop_duplicates()\n",
    "e = d['DatabaseName'].values[0]\n",
    "f = d['SchemaName'].values[0]\n",
    "g = d['TableName'].values[0]\n",
    "print (d)\n",
    "FileName = ('AppData_{}_{}'.format(f,g))\n",
    "\n",
    "fig = px.scatter(dfappdata0049, x = 'TodaysDate', y='RecordCount', size = 'RecordCount', color = 'RecordCount', title = '{0},{1},{2}'.format(e,f,g))\n",
    "#fig.update_layout(title='Risk Assessment: Table activity recorded',\n",
    "fig.update_layout(yaxis_zeroline=False, xaxis_zeroline=False)\n",
    "fig.update_xaxes(title_font=dict(size=18, color='crimson'))\n",
    "fig.update_yaxes(title_font=dict(size=18, color='crimson'))\n",
    "fig.update_xaxes(ticks=\"inside\")\n",
    "fig.update_yaxes(ticks=\"inside\")\n",
    "fig.update_xaxes(tickangle=45, tickfont=dict(color='crimson', size=14))\n",
    "fig.update_xaxes(showline=True, linewidth=2, linecolor='black', mirror=True, gridcolor='Pink')\n",
    "fig.update_yaxes(showline=True, linewidth=2, linecolor='black', mirror=True, gridcolor='Red')\n",
    "#fig.show()\n",
    "fig.write_html(r'C:\\Users\\eeeeeeeeee\\Documents\\JupyterAnacondaPythonNotebooks\\Daily\\Charts_px\\ApplicationData\\{}.html'.format(FileName)) #interactive_appdata_HSGradeSummary_file.html')\n",
    "plt.close()"
   ]
  },
  {
   "cell_type": "code",
   "execution_count": 279,
   "metadata": {},
   "outputs": [
    {
     "name": "stdout",
     "output_type": "stream",
     "text": [
      "          DatabaseName SchemaName       TableName\n",
      "13392  ApplicationData         SP  MSGradeSummary\n"
     ]
    }
   ],
   "source": [
    "d = dfappdata0050[['DatabaseName', 'SchemaName','TableName']]\n",
    "d = d.drop_duplicates()\n",
    "e = d['DatabaseName'].values[0]\n",
    "f = d['SchemaName'].values[0]\n",
    "g = d['TableName'].values[0]\n",
    "print (d)\n",
    "FileName = ('AppData_{}_{}'.format(f,g))\n",
    "\n",
    "fig = px.scatter(dfappdata0050, x = 'TodaysDate', y='RecordCount', size = 'RecordCount', color = 'RecordCount', title = '{0},{1},{2}'.format(e,f,g))\n",
    "#fig.update_layout(title='Risk Assessment: Table activity recorded',\n",
    "fig.update_layout(yaxis_zeroline=False, xaxis_zeroline=False)\n",
    "fig.update_xaxes(title_font=dict(size=18, color='crimson'))\n",
    "fig.update_yaxes(title_font=dict(size=18, color='crimson'))\n",
    "fig.update_xaxes(ticks=\"inside\")\n",
    "fig.update_yaxes(ticks=\"inside\")\n",
    "fig.update_xaxes(tickangle=45, tickfont=dict(color='crimson', size=14))\n",
    "fig.update_xaxes(showline=True, linewidth=2, linecolor='black', mirror=True, gridcolor='Pink')\n",
    "fig.update_yaxes(showline=True, linewidth=2, linecolor='black', mirror=True, gridcolor='Red')\n",
    "#fig.show()\n",
    "fig.write_html(r'C:\\Users\\eeeeeeeeee\\Documents\\JupyterAnacondaPythonNotebooks\\Daily\\Charts_px\\ApplicationData\\{}.html'.format(FileName)) #interactive_appdata_MSGradeSummary_file.html')\n",
    "plt.close()"
   ]
  },
  {
   "cell_type": "code",
   "execution_count": 280,
   "metadata": {},
   "outputs": [
    {
     "name": "stdout",
     "output_type": "stream",
     "text": [
      "          DatabaseName SchemaName            TableName\n",
      "15903  ApplicationData         SP  SchoolDemogrSummary\n"
     ]
    }
   ],
   "source": [
    "d = dfappdata0051[['DatabaseName', 'SchemaName','TableName']]\n",
    "d = d.drop_duplicates()\n",
    "e = d['DatabaseName'].values[0]\n",
    "f = d['SchemaName'].values[0]\n",
    "g = d['TableName'].values[0]\n",
    "print (d)\n",
    "FileName = ('AppData_{}_{}'.format(f,g))\n",
    "\n",
    "fig = px.scatter(dfappdata0051, x = 'TodaysDate', y='RecordCount', size = 'RecordCount', color = 'RecordCount', title = '{0},{1},{2}'.format(e,f,g))\n",
    "#fig.update_layout(title='Risk Assessment: Table activity recorded',\n",
    "fig.update_layout(yaxis_zeroline=False, xaxis_zeroline=False)\n",
    "fig.update_xaxes(title_font=dict(size=18, color='crimson'))\n",
    "fig.update_yaxes(title_font=dict(size=18, color='crimson'))\n",
    "fig.update_xaxes(ticks=\"inside\")\n",
    "fig.update_yaxes(ticks=\"inside\")\n",
    "fig.update_xaxes(tickangle=45, tickfont=dict(color='crimson', size=14))\n",
    "fig.update_xaxes(showline=True, linewidth=2, linecolor='black', mirror=True, gridcolor='Pink')\n",
    "fig.update_yaxes(showline=True, linewidth=2, linecolor='black', mirror=True, gridcolor='Red')\n",
    "#fig.show()\n",
    "fig.write_html(r'C:\\Users\\eeeeeeeeee\\Documents\\JupyterAnacondaPythonNotebooks\\Daily\\Charts_px\\ApplicationData\\{}.html'.format(FileName)) #interactive_appdata_SchoolDemogrSummary_file.html')\n",
    "plt.close()"
   ]
  },
  {
   "cell_type": "code",
   "execution_count": 281,
   "metadata": {},
   "outputs": [
    {
     "name": "stdout",
     "output_type": "stream",
     "text": [
      "          DatabaseName SchemaName             TableName\n",
      "16089  ApplicationData         SP  SchoolProfileSummary\n"
     ]
    }
   ],
   "source": [
    "d = dfappdata0052[['DatabaseName', 'SchemaName','TableName']]\n",
    "d = d.drop_duplicates()\n",
    "e = d['DatabaseName'].values[0]\n",
    "f = d['SchemaName'].values[0]\n",
    "g = d['TableName'].values[0]\n",
    "print (d)\n",
    "FileName = ('AppData_{}_{}'.format(f,g))\n",
    "\n",
    "fig = px.scatter(dfappdata0052, x = 'TodaysDate', y='RecordCount', size = 'RecordCount', color = 'RecordCount', title = '{0},{1},{2}'.format(e,f,g))\n",
    "#fig.update_layout(title='Risk Assessment: Table activity recorded',\n",
    "fig.update_layout(yaxis_zeroline=False, xaxis_zeroline=False)\n",
    "fig.update_xaxes(title_font=dict(size=18, color='crimson'))\n",
    "fig.update_yaxes(title_font=dict(size=18, color='crimson'))\n",
    "fig.update_xaxes(ticks=\"inside\")\n",
    "fig.update_yaxes(ticks=\"inside\")\n",
    "fig.update_xaxes(tickangle=45, tickfont=dict(color='crimson', size=14))\n",
    "fig.update_xaxes(showline=True, linewidth=2, linecolor='black', mirror=True, gridcolor='Pink')\n",
    "fig.update_yaxes(showline=True, linewidth=2, linecolor='black', mirror=True, gridcolor='Red')\n",
    "#fig.show()\n",
    "fig.write_html(r'C:\\Users\\eeeeeeeeee\\Documents\\JupyterAnacondaPythonNotebooks\\Daily\\Charts_px\\ApplicationData\\{}.html'.format(FileName)) #interactive_appdata_SchoolProfileSummary_file.html')\n",
    "plt.close()"
   ]
  },
  {
   "cell_type": "code",
   "execution_count": 282,
   "metadata": {},
   "outputs": [
    {
     "name": "stdout",
     "output_type": "stream",
     "text": [
      "          DatabaseName SchemaName           TableName\n",
      "16275  ApplicationData         SP  SchoolTchStuCounts\n"
     ]
    }
   ],
   "source": [
    "d = dfappdata0053[['DatabaseName', 'SchemaName','TableName']]\n",
    "d = d.drop_duplicates()\n",
    "e = d['DatabaseName'].values[0]\n",
    "f = d['SchemaName'].values[0]\n",
    "g = d['TableName'].values[0]\n",
    "print (d)\n",
    "FileName = ('AppData_{}_{}'.format(f,g))\n",
    "\n",
    "fig = px.scatter(dfappdata0053, x = 'TodaysDate', y='RecordCount', size = 'RecordCount', color = 'RecordCount', title = '{0},{1},{2}'.format(e,f,g))\n",
    "#fig.update_layout(title='Risk Assessment: Table activity recorded',\n",
    "fig.update_layout(yaxis_zeroline=False, xaxis_zeroline=False)\n",
    "fig.update_xaxes(title_font=dict(size=18, color='crimson'))\n",
    "fig.update_yaxes(title_font=dict(size=18, color='crimson'))\n",
    "fig.update_xaxes(ticks=\"inside\")\n",
    "fig.update_yaxes(ticks=\"inside\")\n",
    "fig.update_xaxes(tickangle=45, tickfont=dict(color='crimson', size=14))\n",
    "fig.update_xaxes(showline=True, linewidth=2, linecolor='black', mirror=True, gridcolor='Pink')\n",
    "fig.update_yaxes(showline=True, linewidth=2, linecolor='black', mirror=True, gridcolor='Red')\n",
    "#fig.show()\n",
    "fig.write_html(r'C:\\Users\\eeeeeeeeee\\Documents\\JupyterAnacondaPythonNotebooks\\Daily\\Charts_px\\ApplicationData\\{}.html'.format(FileName)) #interactive_appdata_SchoolTchStuCounts_file.html')\n",
    "plt.close()"
   ]
  },
  {
   "cell_type": "code",
   "execution_count": 283,
   "metadata": {},
   "outputs": [
    {
     "name": "stdout",
     "output_type": "stream",
     "text": [
      "          DatabaseName SchemaName                  TableName\n",
      "16554  ApplicationData         SP  StudentCurrentYearSummary\n"
     ]
    }
   ],
   "source": [
    "d = dfappdata0054[['DatabaseName', 'SchemaName','TableName']]\n",
    "d = d.drop_duplicates()\n",
    "e = d['DatabaseName'].values[0]\n",
    "f = d['SchemaName'].values[0]\n",
    "g = d['TableName'].values[0]\n",
    "print (d)\n",
    "FileName = ('AppData_{}_{}'.format(f,g))\n",
    "\n",
    "fig = px.scatter(dfappdata0054, x = 'TodaysDate', y='RecordCount', size = 'RecordCount', color = 'RecordCount', title = '{0},{1},{2}'.format(e,f,g))\n",
    "#fig.update_layout(title='Risk Assessment: Table activity recorded',\n",
    "fig.update_layout(yaxis_zeroline=False, xaxis_zeroline=False)\n",
    "fig.update_xaxes(title_font=dict(size=18, color='crimson'))\n",
    "fig.update_yaxes(title_font=dict(size=18, color='crimson'))\n",
    "fig.update_xaxes(ticks=\"inside\")\n",
    "fig.update_yaxes(ticks=\"inside\")\n",
    "fig.update_xaxes(tickangle=45, tickfont=dict(color='crimson', size=14))\n",
    "fig.update_xaxes(showline=True, linewidth=2, linecolor='black', mirror=True, gridcolor='Pink')\n",
    "fig.update_yaxes(showline=True, linewidth=2, linecolor='black', mirror=True, gridcolor='Red')\n",
    "#fig.show()\n",
    "fig.write_html(r'C:\\Users\\eeeeeeeeee\\Documents\\JupyterAnacondaPythonNotebooks\\Daily\\Charts_px\\ApplicationData\\{}.html'.format(FileName)) #interactive_appdata_StudentCurrentYearSummary_file.html')\n",
    "plt.close()"
   ]
  },
  {
   "cell_type": "code",
   "execution_count": 284,
   "metadata": {},
   "outputs": [
    {
     "name": "stdout",
     "output_type": "stream",
     "text": [
      "          DatabaseName SchemaName              TableName\n",
      "17484  ApplicationData         SP  TeacherStudentSummary\n"
     ]
    }
   ],
   "source": [
    "d = dfappdata0055[['DatabaseName', 'SchemaName','TableName']]\n",
    "d = d.drop_duplicates()\n",
    "e = d['DatabaseName'].values[0]\n",
    "f = d['SchemaName'].values[0]\n",
    "g = d['TableName'].values[0]\n",
    "print (d)\n",
    "FileName = ('AppData_{}_{}'.format(f,g))\n",
    "\n",
    "fig = px.scatter(dfappdata0055, x = 'TodaysDate', y='RecordCount', size = 'RecordCount', color = 'RecordCount', title = '{0},{1},{2}'.format(e,f,g))\n",
    "#fig.update_layout(title='Risk Assessment: Table activity recorded',\n",
    "fig.update_layout(yaxis_zeroline=False, xaxis_zeroline=False)\n",
    "fig.update_xaxes(title_font=dict(size=18, color='crimson'))\n",
    "fig.update_yaxes(title_font=dict(size=18, color='crimson'))\n",
    "fig.update_xaxes(ticks=\"inside\")\n",
    "fig.update_yaxes(ticks=\"inside\")\n",
    "fig.update_xaxes(tickangle=45, tickfont=dict(color='crimson', size=14))\n",
    "fig.update_xaxes(showline=True, linewidth=2, linecolor='black', mirror=True, gridcolor='Pink')\n",
    "fig.update_yaxes(showline=True, linewidth=2, linecolor='black', mirror=True, gridcolor='Red')\n",
    "#fig.show()\n",
    "fig.write_html(r'C:\\Users\\eeeeeeeeee\\Documents\\JupyterAnacondaPythonNotebooks\\Daily\\Charts_px\\ApplicationData\\{}.html'.format(FileName)) #interactive_appdata_TeacherStudentSummary_file.html')\n",
    "plt.close()"
   ]
  },
  {
   "cell_type": "code",
   "execution_count": 285,
   "metadata": {},
   "outputs": [
    {
     "name": "stdout",
     "output_type": "stream",
     "text": [
      "          DatabaseName    SchemaName TableName\n",
      "14601  ApplicationData  SSIS_RunTime       RUN\n"
     ]
    }
   ],
   "source": [
    "d = dfappdata0056[['DatabaseName', 'SchemaName','TableName']]\n",
    "d = d.drop_duplicates()\n",
    "e = d['DatabaseName'].values[0]\n",
    "f = d['SchemaName'].values[0]\n",
    "g = d['TableName'].values[0]\n",
    "print (d)\n",
    "FileName = ('AppData_{}_{}'.format(f,g))\n",
    "\n",
    "fig = px.scatter(dfappdata0056, x = 'TodaysDate', y='RecordCount', size = 'RecordCount', color = 'RecordCount', title = '{0},{1},{2}'.format(e,f,g))\n",
    "#fig.update_layout(title='Risk Assessment: Table activity recorded',\n",
    "fig.update_layout(yaxis_zeroline=False, xaxis_zeroline=False)\n",
    "fig.update_xaxes(title_font=dict(size=18, color='crimson'))\n",
    "fig.update_yaxes(title_font=dict(size=18, color='crimson'))\n",
    "fig.update_xaxes(ticks=\"inside\")\n",
    "fig.update_yaxes(ticks=\"inside\")\n",
    "fig.update_xaxes(tickangle=45, tickfont=dict(color='crimson', size=14))\n",
    "fig.update_xaxes(showline=True, linewidth=2, linecolor='black', mirror=True, gridcolor='Pink')\n",
    "fig.update_yaxes(showline=True, linewidth=2, linecolor='black', mirror=True, gridcolor='Red')\n",
    "#fig.show()\n",
    "fig.write_html(r'C:\\Users\\eeeeeeeeee\\Documents\\JupyterAnacondaPythonNotebooks\\Daily\\Charts_px\\ApplicationData\\{}.html'.format(FileName)) #interactive_appdata_RUN_file.html')\n",
    "plt.close()"
   ]
  },
  {
   "cell_type": "code",
   "execution_count": 286,
   "metadata": {},
   "outputs": [
    {
     "name": "stdout",
     "output_type": "stream",
     "text": [
      "          DatabaseName    SchemaName TableName\n",
      "14694  ApplicationData  SSIS_RunTime  RUN_ITEM\n"
     ]
    }
   ],
   "source": [
    "d = dfappdata0057[['DatabaseName', 'SchemaName','TableName']]\n",
    "d = d.drop_duplicates()\n",
    "e = d['DatabaseName'].values[0]\n",
    "f = d['SchemaName'].values[0]\n",
    "g = d['TableName'].values[0]\n",
    "print (d)\n",
    "FileName = ('AppData_{}_{}'.format(f,g))\n",
    "\n",
    "fig = px.scatter(dfappdata0057, x = 'TodaysDate', y='RecordCount', size = 'RecordCount', color = 'RecordCount', title = '{0},{1},{2}'.format(e,f,g))\n",
    "#fig.update_layout(title='Risk Assessment: Table activity recorded',\n",
    "fig.update_layout(yaxis_zeroline=False, xaxis_zeroline=False)\n",
    "fig.update_xaxes(title_font=dict(size=18, color='crimson'))\n",
    "fig.update_yaxes(title_font=dict(size=18, color='crimson'))\n",
    "fig.update_xaxes(ticks=\"inside\")\n",
    "fig.update_yaxes(ticks=\"inside\")\n",
    "fig.update_xaxes(tickangle=45, tickfont=dict(color='crimson', size=14))\n",
    "fig.update_xaxes(showline=True, linewidth=2, linecolor='black', mirror=True, gridcolor='Pink')\n",
    "fig.update_yaxes(showline=True, linewidth=2, linecolor='black', mirror=True, gridcolor='Red')\n",
    "#fig.show()\n",
    "fig.write_html(r'C:\\Users\\eeeeeeeeee\\Documents\\JupyterAnacondaPythonNotebooks\\Daily\\Charts_px\\ApplicationData\\{}.html'.format(FileName)) #interactive_appdata_RUN_ITEM_file.html')\n",
    "plt.close()"
   ]
  },
  {
   "cell_type": "code",
   "execution_count": 287,
   "metadata": {},
   "outputs": [
    {
     "name": "stdout",
     "output_type": "stream",
     "text": [
      "          DatabaseName    SchemaName              TableName\n",
      "14787  ApplicationData  SSIS_RunTime  RUN_PACKAGE_OVERRIDES\n"
     ]
    }
   ],
   "source": [
    "d = dfappdata0058[['DatabaseName', 'SchemaName','TableName']]\n",
    "d = d.drop_duplicates()\n",
    "e = d['DatabaseName'].values[0]\n",
    "f = d['SchemaName'].values[0]\n",
    "g = d['TableName'].values[0]\n",
    "print (d)\n",
    "FileName = ('AppData_{}_{}'.format(f,g))\n",
    "\n",
    "fig = px.scatter(dfappdata0058, x = 'TodaysDate', y='RecordCount', size = 'RecordCount', color = 'RecordCount', title = '{0},{1},{2}'.format(e,f,g))\n",
    "#fig.update_layout(title='Risk Assessment: Table activity recorded',\n",
    "fig.update_layout(yaxis_zeroline=False, xaxis_zeroline=False)\n",
    "fig.update_xaxes(title_font=dict(size=18, color='crimson'))\n",
    "fig.update_yaxes(title_font=dict(size=18, color='crimson'))\n",
    "fig.update_xaxes(ticks=\"inside\")\n",
    "fig.update_yaxes(ticks=\"inside\")\n",
    "fig.update_xaxes(tickangle=45, tickfont=dict(color='crimson', size=14))\n",
    "fig.update_xaxes(showline=True, linewidth=2, linecolor='black', mirror=True, gridcolor='Pink')\n",
    "fig.update_yaxes(showline=True, linewidth=2, linecolor='black', mirror=True, gridcolor='Red')\n",
    "#fig.show()\n",
    "fig.write_html(r'C:\\Users\\eeeeeeeeee\\Documents\\JupyterAnacondaPythonNotebooks\\Daily\\Charts_px\\ApplicationData\\{}.html'.format(FileName)) #interactive_appdata_RUN_PACKAGE_OVERRIDES_file.html')\n",
    "plt.close()"
   ]
  },
  {
   "cell_type": "code",
   "execution_count": 288,
   "metadata": {},
   "outputs": [
    {
     "name": "stdout",
     "output_type": "stream",
     "text": [
      "         DatabaseName        SchemaName TableName\n",
      "1860  ApplicationData  StemRegistration   Cluster\n"
     ]
    }
   ],
   "source": [
    "d = dfappdata0059[['DatabaseName', 'SchemaName','TableName']]\n",
    "d = d.drop_duplicates()\n",
    "e = d['DatabaseName'].values[0]\n",
    "f = d['SchemaName'].values[0]\n",
    "g = d['TableName'].values[0]\n",
    "print (d)\n",
    "FileName = ('AppData_{}_{}'.format(f,g))\n",
    "\n",
    "fig = px.scatter(dfappdata0059, x = 'TodaysDate', y='RecordCount', size = 'RecordCount', color = 'RecordCount', title = '{0},{1},{2}'.format(e,f,g))\n",
    "#fig.update_layout(title='Risk Assessment: Table activity recorded',\n",
    "fig.update_layout(yaxis_zeroline=False, xaxis_zeroline=False)\n",
    "fig.update_xaxes(title_font=dict(size=18, color='crimson'))\n",
    "fig.update_yaxes(title_font=dict(size=18, color='crimson'))\n",
    "fig.update_xaxes(ticks=\"inside\")\n",
    "fig.update_yaxes(ticks=\"inside\")\n",
    "fig.update_xaxes(tickangle=45, tickfont=dict(color='crimson', size=14))\n",
    "fig.update_xaxes(showline=True, linewidth=2, linecolor='black', mirror=True, gridcolor='Pink')\n",
    "fig.update_yaxes(showline=True, linewidth=2, linecolor='black', mirror=True, gridcolor='Red')\n",
    "#fig.show()\n",
    "fig.write_html(r'C:\\Users\\eeeeeeeeee\\Documents\\JupyterAnacondaPythonNotebooks\\Daily\\Charts_px\\ApplicationData\\{}.html'.format(FileName)) #interactive_appdata_Cluster_file.html')\n",
    "plt.close()"
   ]
  },
  {
   "cell_type": "code",
   "execution_count": 289,
   "metadata": {},
   "outputs": [
    {
     "name": "stdout",
     "output_type": "stream",
     "text": [
      "         DatabaseName        SchemaName TableName\n",
      "2418  ApplicationData  StemRegistration    Course\n"
     ]
    }
   ],
   "source": [
    "d = dfappdata0060[['DatabaseName', 'SchemaName','TableName']]\n",
    "d = d.drop_duplicates()\n",
    "e = d['DatabaseName'].values[0]\n",
    "f = d['SchemaName'].values[0]\n",
    "g = d['TableName'].values[0]\n",
    "print (d)\n",
    "FileName = ('AppData_{}_{}'.format(f,g))\n",
    "\n",
    "fig = px.scatter(dfappdata0060, x = 'TodaysDate', y='RecordCount', size = 'RecordCount', color = 'RecordCount', title = '{0},{1},{2}'.format(e,f,g))\n",
    "#fig.update_layout(title='Risk Assessment: Table activity recorded',\n",
    "fig.update_layout(yaxis_zeroline=False, xaxis_zeroline=False)\n",
    "fig.update_xaxes(title_font=dict(size=18, color='crimson'))\n",
    "fig.update_yaxes(title_font=dict(size=18, color='crimson'))\n",
    "fig.update_xaxes(ticks=\"inside\")\n",
    "fig.update_yaxes(ticks=\"inside\")\n",
    "fig.update_xaxes(tickangle=45, tickfont=dict(color='crimson', size=14))\n",
    "fig.update_xaxes(showline=True, linewidth=2, linecolor='black', mirror=True, gridcolor='Pink')\n",
    "fig.update_yaxes(showline=True, linewidth=2, linecolor='black', mirror=True, gridcolor='Red')\n",
    "#fig.show()\n",
    "fig.write_html(r'C:\\Users\\eeeeeeeeee\\Documents\\JupyterAnacondaPythonNotebooks\\Daily\\Charts_px\\ApplicationData\\{}.html'.format(FileName)) #interactive_appdata_Course_file.html')\n",
    "plt.close()"
   ]
  },
  {
   "cell_type": "code",
   "execution_count": 290,
   "metadata": {},
   "outputs": [
    {
     "name": "stdout",
     "output_type": "stream",
     "text": [
      "         DatabaseName        SchemaName       TableName\n",
      "2511  ApplicationData  StemRegistration  CourseCategory\n"
     ]
    }
   ],
   "source": [
    "d = dfappdata0061[['DatabaseName', 'SchemaName','TableName']]\n",
    "d = d.drop_duplicates()\n",
    "e = d['DatabaseName'].values[0]\n",
    "f = d['SchemaName'].values[0]\n",
    "g = d['TableName'].values[0]\n",
    "print (d)\n",
    "FileName = ('AppData_{}_{}'.format(f,g))\n",
    "\n",
    "fig = px.scatter(dfappdata0061, x = 'TodaysDate', y='RecordCount', size = 'RecordCount', color = 'RecordCount', title = '{0},{1},{2}'.format(e,f,g))\n",
    "#fig.update_layout(title='Risk Assessment: Table activity recorded',\n",
    "fig.update_layout(yaxis_zeroline=False, xaxis_zeroline=False)\n",
    "fig.update_xaxes(title_font=dict(size=18, color='crimson'))\n",
    "fig.update_yaxes(title_font=dict(size=18, color='crimson'))\n",
    "fig.update_xaxes(ticks=\"inside\")\n",
    "fig.update_yaxes(ticks=\"inside\")\n",
    "fig.update_xaxes(tickangle=45, tickfont=dict(color='crimson', size=14))\n",
    "fig.update_xaxes(showline=True, linewidth=2, linecolor='black', mirror=True, gridcolor='Pink')\n",
    "fig.update_yaxes(showline=True, linewidth=2, linecolor='black', mirror=True, gridcolor='Red')\n",
    "#fig.show()\n",
    "fig.write_html(r'C:\\Users\\eeeeeeeeee\\Documents\\JupyterAnacondaPythonNotebooks\\Daily\\Charts_px\\ApplicationData\\{}.html'.format(FileName)) #interactive_appdata_Course_file.html')\n",
    "plt.close()"
   ]
  },
  {
   "cell_type": "code",
   "execution_count": 291,
   "metadata": {},
   "outputs": [
    {
     "name": "stdout",
     "output_type": "stream",
     "text": [
      "          DatabaseName        SchemaName TableName\n",
      "12183  ApplicationData  StemRegistration  Language\n"
     ]
    }
   ],
   "source": [
    "d = dfappdata0062[['DatabaseName', 'SchemaName','TableName']]\n",
    "d = d.drop_duplicates()\n",
    "e = d['DatabaseName'].values[0]\n",
    "f = d['SchemaName'].values[0]\n",
    "g = d['TableName'].values[0]\n",
    "print (d)\n",
    "FileName = ('AppData_{}_{}'.format(f,g))\n",
    "\n",
    "fig = px.scatter(dfappdata0062, x = 'TodaysDate', y='RecordCount', size = 'RecordCount', color = 'RecordCount', title = '{0},{1},{2}'.format(e,f,g))\n",
    "#fig.update_layout(title='Risk Assessment: Table activity recorded',\n",
    "fig.update_layout(yaxis_zeroline=False, xaxis_zeroline=False)\n",
    "fig.update_xaxes(title_font=dict(size=18, color='crimson'))\n",
    "fig.update_yaxes(title_font=dict(size=18, color='crimson'))\n",
    "fig.update_xaxes(ticks=\"inside\")\n",
    "fig.update_yaxes(ticks=\"inside\")\n",
    "fig.update_xaxes(tickangle=45, tickfont=dict(color='crimson', size=14))\n",
    "fig.update_xaxes(showline=True, linewidth=2, linecolor='black', mirror=True, gridcolor='Pink')\n",
    "fig.update_yaxes(showline=True, linewidth=2, linecolor='black', mirror=True, gridcolor='Red')\n",
    "#fig.show()\n",
    "fig.write_html(r'C:\\Users\\eeeeeeeeee\\Documents\\JupyterAnacondaPythonNotebooks\\Daily\\Charts_px\\ApplicationData\\{}.html'.format(FileName)) #interactive_appdata_Language_file.html')\n",
    "plt.close()"
   ]
  },
  {
   "cell_type": "code",
   "execution_count": 292,
   "metadata": {},
   "outputs": [
    {
     "name": "stdout",
     "output_type": "stream",
     "text": [
      "          DatabaseName        SchemaName     TableName\n",
      "14880  ApplicationData  StemRegistration  Registration\n"
     ]
    }
   ],
   "source": [
    "d = dfappdata0063[['DatabaseName', 'SchemaName','TableName']]\n",
    "d = d.drop_duplicates()\n",
    "e = d['DatabaseName'].values[0]\n",
    "f = d['SchemaName'].values[0]\n",
    "g = d['TableName'].values[0]\n",
    "print (d)\n",
    "FileName = ('AppData_{}_{}'.format(f,g))\n",
    "\n",
    "fig = px.scatter(dfappdata0063, x = 'TodaysDate', y='RecordCount', size = 'RecordCount', color = 'RecordCount', title = '{0},{1},{2}'.format(e,f,g))\n",
    "#fig.update_layout(title='Risk Assessment: Table activity recorded',\n",
    "fig.update_layout(yaxis_zeroline=False, xaxis_zeroline=False)\n",
    "fig.update_xaxes(title_font=dict(size=18, color='crimson'))\n",
    "fig.update_yaxes(title_font=dict(size=18, color='crimson'))\n",
    "fig.update_xaxes(ticks=\"inside\")\n",
    "fig.update_yaxes(ticks=\"inside\")\n",
    "fig.update_xaxes(tickangle=45, tickfont=dict(color='crimson', size=14))\n",
    "fig.update_xaxes(showline=True, linewidth=2, linecolor='black', mirror=True, gridcolor='Pink')\n",
    "fig.update_yaxes(showline=True, linewidth=2, linecolor='black', mirror=True, gridcolor='Red')\n",
    "#fig.show()\n",
    "fig.write_html(r'C:\\Users\\eeeeeeeeee\\Documents\\JupyterAnacondaPythonNotebooks\\Daily\\Charts_px\\ApplicationData\\{}.html'.format(FileName)) #interactive_appdata_Registration_file.html')\n",
    "plt.close()"
   ]
  },
  {
   "cell_type": "code",
   "execution_count": 293,
   "metadata": {},
   "outputs": [
    {
     "name": "stdout",
     "output_type": "stream",
     "text": [
      "          DatabaseName        SchemaName           TableName\n",
      "15066  ApplicationData  StemRegistration  RegistrationStatus\n"
     ]
    }
   ],
   "source": [
    "d = dfappdata0064[['DatabaseName', 'SchemaName','TableName']]\n",
    "d = d.drop_duplicates()\n",
    "e = d['DatabaseName'].values[0]\n",
    "f = d['SchemaName'].values[0]\n",
    "g = d['TableName'].values[0]\n",
    "print (d)\n",
    "FileName = ('AppData_{}_{}'.format(f,g))\n",
    "\n",
    "fig = px.scatter(dfappdata0064, x = 'TodaysDate', y='RecordCount', size = 'RecordCount', color = 'RecordCount', title = '{0},{1},{2}'.format(e,f,g))\n",
    "#fig.update_layout(title='Risk Assessment: Table activity recorded',\n",
    "fig.update_layout(yaxis_zeroline=False, xaxis_zeroline=False)\n",
    "fig.update_xaxes(title_font=dict(size=18, color='crimson'))\n",
    "fig.update_yaxes(title_font=dict(size=18, color='crimson'))\n",
    "fig.update_xaxes(ticks=\"inside\")\n",
    "fig.update_yaxes(ticks=\"inside\")\n",
    "fig.update_xaxes(tickangle=45, tickfont=dict(color='crimson', size=14))\n",
    "fig.update_xaxes(showline=True, linewidth=2, linecolor='black', mirror=True, gridcolor='Pink')\n",
    "fig.update_yaxes(showline=True, linewidth=2, linecolor='black', mirror=True, gridcolor='Red')\n",
    "#fig.show()\n",
    "fig.write_html(r'C:\\Users\\eeeeeeeeee\\Documents\\JupyterAnacondaPythonNotebooks\\Daily\\Charts_px\\ApplicationData\\{}.html'.format(FileName)) #interactive_appdata_RegistrationStatus_file.html')\n",
    "plt.close()"
   ]
  },
  {
   "cell_type": "code",
   "execution_count": 294,
   "metadata": {},
   "outputs": [
    {
     "name": "stdout",
     "output_type": "stream",
     "text": [
      "          DatabaseName        SchemaName TableName\n",
      "15531  ApplicationData  StemRegistration    School\n"
     ]
    }
   ],
   "source": [
    "d = dfappdata0065[['DatabaseName', 'SchemaName','TableName']]\n",
    "d = d.drop_duplicates()\n",
    "e = d['DatabaseName'].values[0]\n",
    "f = d['SchemaName'].values[0]\n",
    "g = d['TableName'].values[0]\n",
    "print (d)\n",
    "FileName = ('AppData_{}_{}'.format(f,g))\n",
    "\n",
    "fig = px.scatter(dfappdata0065, x = 'TodaysDate', y='RecordCount', size = 'RecordCount', color = 'RecordCount', title = '{0},{1},{2}'.format(e,f,g))\n",
    "#fig.update_layout(title='Risk Assessment: Table activity recorded',\n",
    "fig.update_layout(yaxis_zeroline=False, xaxis_zeroline=False)\n",
    "fig.update_xaxes(title_font=dict(size=18, color='crimson'))\n",
    "fig.update_yaxes(title_font=dict(size=18, color='crimson'))\n",
    "fig.update_xaxes(ticks=\"inside\")\n",
    "fig.update_yaxes(ticks=\"inside\")\n",
    "fig.update_xaxes(tickangle=45, tickfont=dict(color='crimson', size=14))\n",
    "fig.update_xaxes(showline=True, linewidth=2, linecolor='black', mirror=True, gridcolor='Pink')\n",
    "fig.update_yaxes(showline=True, linewidth=2, linecolor='black', mirror=True, gridcolor='Red')\n",
    "#fig.show()\n",
    "fig.write_html(r'C:\\Users\\eeeeeeeeee\\Documents\\JupyterAnacondaPythonNotebooks\\Daily\\Charts_px\\ApplicationData\\{}.html'.format(FileName)) #interactive_appdata_SRSchool_file.html')\n",
    "plt.close()"
   ]
  },
  {
   "cell_type": "code",
   "execution_count": 295,
   "metadata": {},
   "outputs": [
    {
     "name": "stdout",
     "output_type": "stream",
     "text": [
      "          DatabaseName        SchemaName     TableName\n",
      "17763  ApplicationData  StemRegistration  UserComments\n"
     ]
    }
   ],
   "source": [
    "d = dfappdata0066[['DatabaseName', 'SchemaName','TableName']]\n",
    "d = d.drop_duplicates()\n",
    "e = d['DatabaseName'].values[0]\n",
    "f = d['SchemaName'].values[0]\n",
    "g = d['TableName'].values[0]\n",
    "print (d)\n",
    "FileName = ('AppData_{}_{}'.format(f,g))\n",
    "\n",
    "fig = px.scatter(dfappdata0066, x = 'TodaysDate', y='RecordCount', size = 'RecordCount', color = 'RecordCount', title = '{0},{1},{2}'.format(e,f,g))\n",
    "#fig.update_layout(title='Risk Assessment: Table activity recorded',\n",
    "fig.update_layout(yaxis_zeroline=False, xaxis_zeroline=False)\n",
    "fig.update_xaxes(title_font=dict(size=18, color='crimson'))\n",
    "fig.update_yaxes(title_font=dict(size=18, color='crimson'))\n",
    "fig.update_xaxes(ticks=\"inside\")\n",
    "fig.update_yaxes(ticks=\"inside\")\n",
    "fig.update_xaxes(tickangle=45, tickfont=dict(color='crimson', size=14))\n",
    "fig.update_xaxes(showline=True, linewidth=2, linecolor='black', mirror=True, gridcolor='Pink')\n",
    "fig.update_yaxes(showline=True, linewidth=2, linecolor='black', mirror=True, gridcolor='Red')\n",
    "#fig.show()\n",
    "fig.write_html(r'C:\\Users\\eeeeeeeeee\\Documents\\JupyterAnacondaPythonNotebooks\\Daily\\Charts_px\\ApplicationData\\{}.html'.format(FileName)) #interactive_appdata_UserComments_file.html')\n",
    "plt.close()"
   ]
  },
  {
   "cell_type": "code",
   "execution_count": 296,
   "metadata": {},
   "outputs": [
    {
     "name": "stdout",
     "output_type": "stream",
     "text": [
      "         DatabaseName         SchemaName              TableName\n",
      "1581  ApplicationData  StudentCheckInOut  CheckInCheckOutDetail\n"
     ]
    }
   ],
   "source": [
    "d = dfappdata0067[['DatabaseName', 'SchemaName','TableName']]\n",
    "d = d.drop_duplicates()\n",
    "e = d['DatabaseName'].values[0]\n",
    "f = d['SchemaName'].values[0]\n",
    "g = d['TableName'].values[0]\n",
    "print (d)\n",
    "FileName = ('AppData_{}_{}'.format(f,g))\n",
    "\n",
    "fig = px.scatter(dfappdata0067, x = 'TodaysDate', y='RecordCount', size = 'RecordCount', color = 'RecordCount', title = '{0},{1},{2}'.format(e,f,g))\n",
    "#fig.update_layout(title='Risk Assessment: Table activity recorded',\n",
    "fig.update_layout(yaxis_zeroline=False, xaxis_zeroline=False)\n",
    "fig.update_xaxes(title_font=dict(size=18, color='crimson'))\n",
    "fig.update_yaxes(title_font=dict(size=18, color='crimson'))\n",
    "fig.update_xaxes(ticks=\"inside\")\n",
    "fig.update_yaxes(ticks=\"inside\")\n",
    "fig.update_xaxes(tickangle=45, tickfont=dict(color='crimson', size=14))\n",
    "fig.update_xaxes(showline=True, linewidth=2, linecolor='black', mirror=True, gridcolor='Pink')\n",
    "fig.update_yaxes(showline=True, linewidth=2, linecolor='black', mirror=True, gridcolor='Red')\n",
    "#fig.show()\n",
    "fig.write_html(r'C:\\Users\\eeeeeeeeee\\Documents\\JupyterAnacondaPythonNotebooks\\Daily\\Charts_px\\ApplicationData\\{}.html'.format(FileName)) #interactive_appdata_CheckInCheckOutDetail_file.html')\n",
    "plt.close()"
   ]
  },
  {
   "cell_type": "code",
   "execution_count": 297,
   "metadata": {},
   "outputs": [
    {
     "name": "stdout",
     "output_type": "stream",
     "text": [
      "          DatabaseName         SchemaName     TableName\n",
      "12276  ApplicationData  StudentCheckInOut  LocationType\n"
     ]
    }
   ],
   "source": [
    "d = dfappdata0068[['DatabaseName', 'SchemaName','TableName']]\n",
    "d = d.drop_duplicates()\n",
    "e = d['DatabaseName'].values[0]\n",
    "f = d['SchemaName'].values[0]\n",
    "g = d['TableName'].values[0]\n",
    "print (d)\n",
    "FileName = ('AppData_{}_{}'.format(f,g))\n",
    "\n",
    "fig = px.scatter(dfappdata0068, x = 'TodaysDate', y='RecordCount', size = 'RecordCount', color = 'RecordCount', title = '{0},{1},{2}'.format(e,f,g))\n",
    "#fig.update_layout(title='Risk Assessment: Table activity recorded',\n",
    "fig.update_layout(yaxis_zeroline=False, xaxis_zeroline=False)\n",
    "fig.update_xaxes(title_font=dict(size=18, color='crimson'))\n",
    "fig.update_yaxes(title_font=dict(size=18, color='crimson'))\n",
    "fig.update_xaxes(ticks=\"inside\")\n",
    "fig.update_yaxes(ticks=\"inside\")\n",
    "fig.update_xaxes(tickangle=45, tickfont=dict(color='crimson', size=14))\n",
    "fig.update_xaxes(showline=True, linewidth=2, linecolor='black', mirror=True, gridcolor='Pink')\n",
    "fig.update_yaxes(showline=True, linewidth=2, linecolor='black', mirror=True, gridcolor='Red')\n",
    "#fig.show()\n",
    "fig.write_html(r'C:\\Users\\eeeeeeeeee\\Documents\\JupyterAnacondaPythonNotebooks\\Daily\\Charts_px\\ApplicationData\\{}.html'.format(FileName)) #interactive_appdata_LocationType_file.html')\n",
    "plt.close()"
   ]
  },
  {
   "cell_type": "code",
   "execution_count": 298,
   "metadata": {},
   "outputs": [
    {
     "name": "stdout",
     "output_type": "stream",
     "text": [
      "          DatabaseName         SchemaName           TableName\n",
      "12369  ApplicationData  StudentCheckInOut  LocationTypeOption\n"
     ]
    }
   ],
   "source": [
    "d = dfappdata0069[['DatabaseName', 'SchemaName','TableName']]\n",
    "d = d.drop_duplicates()\n",
    "e = d['DatabaseName'].values[0]\n",
    "f = d['SchemaName'].values[0]\n",
    "g = d['TableName'].values[0]\n",
    "print (d)\n",
    "FileName = ('AppData_{}_{}'.format(f,g))\n",
    "\n",
    "fig = px.scatter(dfappdata0069, x = 'TodaysDate', y='RecordCount', size = 'RecordCount', color = 'RecordCount', title = '{0},{1},{2}'.format(e,f,g))\n",
    "#fig.update_layout(title='Risk Assessment: Table activity recorded',\n",
    "fig.update_layout(yaxis_zeroline=False, xaxis_zeroline=False)\n",
    "fig.update_xaxes(title_font=dict(size=18, color='crimson'))\n",
    "fig.update_yaxes(title_font=dict(size=18, color='crimson'))\n",
    "fig.update_xaxes(ticks=\"inside\")\n",
    "fig.update_yaxes(ticks=\"inside\")\n",
    "fig.update_xaxes(tickangle=45, tickfont=dict(color='crimson', size=14))\n",
    "fig.update_xaxes(showline=True, linewidth=2, linecolor='black', mirror=True, gridcolor='Pink')\n",
    "fig.update_yaxes(showline=True, linewidth=2, linecolor='black', mirror=True, gridcolor='Red')\n",
    "#fig.show()\n",
    "fig.write_html(r'C:\\Users\\eeeeeeeeee\\Documents\\JupyterAnacondaPythonNotebooks\\Daily\\Charts_px\\ApplicationData\\{}.html'.format(FileName)) #interactive_appdata_LocationTypeOption_file.html')\n",
    "plt.close()"
   ]
  },
  {
   "cell_type": "code",
   "execution_count": 299,
   "metadata": {},
   "outputs": [
    {
     "name": "stdout",
     "output_type": "stream",
     "text": [
      "          DatabaseName         SchemaName TableName\n",
      "12927  ApplicationData  StudentCheckInOut   Log4Net\n"
     ]
    }
   ],
   "source": [
    "d = dfappdata0070[['DatabaseName', 'SchemaName','TableName']]\n",
    "d = d.drop_duplicates()\n",
    "e = d['DatabaseName'].values[0]\n",
    "f = d['SchemaName'].values[0]\n",
    "g = d['TableName'].values[0]\n",
    "print (d)\n",
    "FileName = ('AppData_{}_{}'.format(f,g))\n",
    "\n",
    "fig = px.scatter(dfappdata0070, x = 'TodaysDate', y='RecordCount', size = 'RecordCount', color = 'RecordCount', title = '{0},{1},{2}'.format(e,f,g))\n",
    "#fig.update_layout(title='Risk Assessment: Table activity recorded',\n",
    "fig.update_layout(yaxis_zeroline=False, xaxis_zeroline=False)\n",
    "fig.update_xaxes(title_font=dict(size=18, color='crimson'))\n",
    "fig.update_yaxes(title_font=dict(size=18, color='crimson'))\n",
    "fig.update_xaxes(ticks=\"inside\")\n",
    "fig.update_yaxes(ticks=\"inside\")\n",
    "fig.update_xaxes(tickangle=45, tickfont=dict(color='crimson', size=14))\n",
    "fig.update_xaxes(showline=True, linewidth=2, linecolor='black', mirror=True, gridcolor='Pink')\n",
    "fig.update_yaxes(showline=True, linewidth=2, linecolor='black', mirror=True, gridcolor='Red')\n",
    "#fig.show()\n",
    "fig.write_html(r'C:\\Users\\eeeeeeeeee\\Documents\\JupyterAnacondaPythonNotebooks\\Daily\\Charts_px\\ApplicationData\\{}.html'.format(FileName)) #interactive_appdata_SCLog4Net_file.html')\n",
    "plt.close()"
   ]
  },
  {
   "cell_type": "code",
   "execution_count": 300,
   "metadata": {},
   "outputs": [
    {
     "name": "stdout",
     "output_type": "stream",
     "text": [
      "          DatabaseName         SchemaName         TableName\n",
      "13764  ApplicationData  StudentCheckInOut  MediaCheckInType\n"
     ]
    }
   ],
   "source": [
    "d = dfappdata0071[['DatabaseName', 'SchemaName','TableName']]\n",
    "d = d.drop_duplicates()\n",
    "e = d['DatabaseName'].values[0]\n",
    "f = d['SchemaName'].values[0]\n",
    "g = d['TableName'].values[0]\n",
    "print (d)\n",
    "FileName = ('AppData_{}_{}'.format(f,g))\n",
    "\n",
    "fig = px.scatter(dfappdata0071, x = 'TodaysDate', y='RecordCount', size = 'RecordCount', color = 'RecordCount', title = '{0},{1},{2}'.format(e,f,g))\n",
    "#fig.update_layout(title='Risk Assessment: Table activity recorded',\n",
    "fig.update_layout(yaxis_zeroline=False, xaxis_zeroline=False)\n",
    "fig.update_xaxes(title_font=dict(size=18, color='crimson'))\n",
    "fig.update_yaxes(title_font=dict(size=18, color='crimson'))\n",
    "fig.update_xaxes(ticks=\"inside\")\n",
    "fig.update_yaxes(ticks=\"inside\")\n",
    "fig.update_xaxes(tickangle=45, tickfont=dict(color='crimson', size=14))\n",
    "fig.update_xaxes(showline=True, linewidth=2, linecolor='black', mirror=True, gridcolor='Pink')\n",
    "fig.update_yaxes(showline=True, linewidth=2, linecolor='black', mirror=True, gridcolor='Red')\n",
    "#fig.show()\n",
    "fig.write_html(r'C:\\Users\\eeeeeeeeee\\Documents\\JupyterAnacondaPythonNotebooks\\Daily\\Charts_px\\ApplicationData\\{}.html'.format(FileName)) #interactive_appdata_MediaCheckInType_file.html')\n",
    "plt.close()"
   ]
  },
  {
   "cell_type": "code",
   "execution_count": 301,
   "metadata": {},
   "outputs": [
    {
     "name": "stdout",
     "output_type": "stream",
     "text": [
      "          DatabaseName         SchemaName TableName\n",
      "15624  ApplicationData  StudentCheckInOut    School\n"
     ]
    }
   ],
   "source": [
    "d = dfappdata0072[['DatabaseName', 'SchemaName','TableName']]\n",
    "d = d.drop_duplicates()\n",
    "e = d['DatabaseName'].values[0]\n",
    "f = d['SchemaName'].values[0]\n",
    "g = d['TableName'].values[0]\n",
    "print (d)\n",
    "FileName = ('AppData_{}_{}'.format(f,g))\n",
    "\n",
    "fig = px.scatter(dfappdata0072, x = 'TodaysDate', y='RecordCount', size = 'RecordCount', color = 'RecordCount', title = '{0},{1},{2}'.format(e,f,g))\n",
    "#fig.update_layout(title='Risk Assessment: Table activity recorded',\n",
    "fig.update_layout(yaxis_zeroline=False, xaxis_zeroline=False)\n",
    "fig.update_xaxes(title_font=dict(size=18, color='crimson'))\n",
    "fig.update_yaxes(title_font=dict(size=18, color='crimson'))\n",
    "fig.update_xaxes(ticks=\"inside\")\n",
    "fig.update_yaxes(ticks=\"inside\")\n",
    "fig.update_xaxes(tickangle=45, tickfont=dict(color='crimson', size=14))\n",
    "fig.update_xaxes(showline=True, linewidth=2, linecolor='black', mirror=True, gridcolor='Pink')\n",
    "fig.update_yaxes(showline=True, linewidth=2, linecolor='black', mirror=True, gridcolor='Red')\n",
    "#fig.show()\n",
    "fig.write_html(r'C:\\Users\\eeeeeeeeee\\Documents\\JupyterAnacondaPythonNotebooks\\Daily\\Charts_px\\ApplicationData\\{}.html'.format(FileName)) #interactive_appdata_SCSchool_file.html')\n",
    "plt.close()"
   ]
  },
  {
   "cell_type": "code",
   "execution_count": 302,
   "metadata": {},
   "outputs": [
    {
     "name": "stdout",
     "output_type": "stream",
     "text": [
      "          DatabaseName         SchemaName            TableName\n",
      "15810  ApplicationData  StudentCheckInOut  SchoolConfiguration\n"
     ]
    }
   ],
   "source": [
    "d = dfappdata0073[['DatabaseName', 'SchemaName','TableName']]\n",
    "d = d.drop_duplicates()\n",
    "e = d['DatabaseName'].values[0]\n",
    "f = d['SchemaName'].values[0]\n",
    "g = d['TableName'].values[0]\n",
    "print (d)\n",
    "FileName = ('AppData_{}_{}'.format(f,g))\n",
    "\n",
    "fig = px.scatter(dfappdata0073, x = 'TodaysDate', y='RecordCount', size = 'RecordCount', color = 'RecordCount', title = '{0},{1},{2}'.format(e,f,g))\n",
    "#fig.update_layout(title='Risk Assessment: Table activity recorded',\n",
    "fig.update_layout(yaxis_zeroline=False, xaxis_zeroline=False)\n",
    "fig.update_xaxes(title_font=dict(size=18, color='crimson'))\n",
    "fig.update_yaxes(title_font=dict(size=18, color='crimson'))\n",
    "fig.update_xaxes(ticks=\"inside\")\n",
    "fig.update_yaxes(ticks=\"inside\")\n",
    "fig.update_xaxes(tickangle=45, tickfont=dict(color='crimson', size=14))\n",
    "fig.update_xaxes(showline=True, linewidth=2, linecolor='black', mirror=True, gridcolor='Pink')\n",
    "fig.update_yaxes(showline=True, linewidth=2, linecolor='black', mirror=True, gridcolor='Red')\n",
    "#fig.show()\n",
    "fig.write_html(r'C:\\Users\\eeeeeeeeee\\Documents\\JupyterAnacondaPythonNotebooks\\Daily\\Charts_px\\ApplicationData\\{}.html'.format(FileName)) #interactive_appdata_SchoolConfiguration_file.html')\n",
    "plt.close()"
   ]
  },
  {
   "cell_type": "code",
   "execution_count": 303,
   "metadata": {},
   "outputs": [
    {
     "name": "stdout",
     "output_type": "stream",
     "text": [
      "          DatabaseName         SchemaName       TableName\n",
      "15996  ApplicationData  StudentCheckInOut  SchoolLocation\n"
     ]
    }
   ],
   "source": [
    "d = dfappdata0074[['DatabaseName', 'SchemaName','TableName']]\n",
    "d = d.drop_duplicates()\n",
    "e = d['DatabaseName'].values[0]\n",
    "f = d['SchemaName'].values[0]\n",
    "g = d['TableName'].values[0]\n",
    "print (d)\n",
    "FileName = ('AppData_{}_{}'.format(f,g))\n",
    "\n",
    "fig = px.scatter(dfappdata0074, x = 'TodaysDate', y='RecordCount', size = 'RecordCount', color = 'RecordCount', title = '{0},{1},{2}'.format(e,f,g))\n",
    "#fig.update_layout(title='Risk Assessment: Table activity recorded',\n",
    "fig.update_layout(yaxis_zeroline=False, xaxis_zeroline=False)\n",
    "fig.update_xaxes(title_font=dict(size=18, color='crimson'))\n",
    "fig.update_yaxes(title_font=dict(size=18, color='crimson'))\n",
    "fig.update_xaxes(ticks=\"inside\")\n",
    "fig.update_yaxes(ticks=\"inside\")\n",
    "fig.update_xaxes(tickangle=45, tickfont=dict(color='crimson', size=14))\n",
    "fig.update_xaxes(showline=True, linewidth=2, linecolor='black', mirror=True, gridcolor='Pink')\n",
    "fig.update_yaxes(showline=True, linewidth=2, linecolor='black', mirror=True, gridcolor='Red')\n",
    "#fig.show()\n",
    "fig.write_html(r'C:\\Users\\eeeeeeeeee\\Documents\\JupyterAnacondaPythonNotebooks\\Daily\\Charts_px\\ApplicationData\\{}.html'.format(FileName)) #interactive_appdata_SchoolLocation_file.html')\n",
    "plt.close()"
   ]
  },
  {
   "cell_type": "code",
   "execution_count": 304,
   "metadata": {},
   "outputs": [
    {
     "name": "stdout",
     "output_type": "stream",
     "text": [
      "          DatabaseName         SchemaName      TableName\n",
      "16182  ApplicationData  StudentCheckInOut  SchoolSetting\n"
     ]
    }
   ],
   "source": [
    "d = dfappdata0075[['DatabaseName', 'SchemaName','TableName']]\n",
    "d = d.drop_duplicates()\n",
    "e = d['DatabaseName'].values[0]\n",
    "f = d['SchemaName'].values[0]\n",
    "g = d['TableName'].values[0]\n",
    "print (d)\n",
    "FileName = ('AppData_{}_{}'.format(f,g))\n",
    "\n",
    "fig = px.scatter(dfappdata0075, x = 'TodaysDate', y='RecordCount', size = 'RecordCount', color = 'RecordCount', title = '{0},{1},{2}'.format(e,f,g))\n",
    "#fig.update_layout(title='Risk Assessment: Table activity recorded',\n",
    "fig.update_layout(yaxis_zeroline=False, xaxis_zeroline=False)\n",
    "fig.update_xaxes(title_font=dict(size=18, color='crimson'))\n",
    "fig.update_yaxes(title_font=dict(size=18, color='crimson'))\n",
    "fig.update_xaxes(ticks=\"inside\")\n",
    "fig.update_yaxes(ticks=\"inside\")\n",
    "fig.update_xaxes(tickangle=45, tickfont=dict(color='crimson', size=14))\n",
    "fig.update_xaxes(showline=True, linewidth=2, linecolor='black', mirror=True, gridcolor='Pink')\n",
    "fig.update_yaxes(showline=True, linewidth=2, linecolor='black', mirror=True, gridcolor='Red')\n",
    "#fig.show()\n",
    "fig.write_html(r'C:\\Users\\eeeeeeeeee\\Documents\\JupyterAnacondaPythonNotebooks\\Daily\\Charts_px\\ApplicationData\\{}.html'.format(FileName)) #interactive_appdata_SchoolSetting_file.html')\n",
    "plt.close()"
   ]
  },
  {
   "cell_type": "code",
   "execution_count": 305,
   "metadata": {},
   "outputs": [
    {
     "name": "stdout",
     "output_type": "stream",
     "text": [
      "          DatabaseName         SchemaName TableName\n",
      "17577  ApplicationData  StudentCheckInOut  TypeCode\n"
     ]
    }
   ],
   "source": [
    "d = dfappdata0076[['DatabaseName', 'SchemaName','TableName']]\n",
    "d = d.drop_duplicates()\n",
    "e = d['DatabaseName'].values[0]\n",
    "f = d['SchemaName'].values[0]\n",
    "g = d['TableName'].values[0]\n",
    "print (d)\n",
    "FileName = ('AppData_{}_{}'.format(f,g))\n",
    "\n",
    "fig = px.scatter(dfappdata0076, x = 'TodaysDate', y='RecordCount', size = 'RecordCount', color = 'RecordCount', title = '{0},{1},{2}'.format(e,f,g))\n",
    "#fig.update_layout(title='Risk Assessment: Table activity recorded',\n",
    "fig.update_layout(yaxis_zeroline=False, xaxis_zeroline=False)\n",
    "fig.update_xaxes(title_font=dict(size=18, color='crimson'))\n",
    "fig.update_yaxes(title_font=dict(size=18, color='crimson'))\n",
    "fig.update_xaxes(ticks=\"inside\")\n",
    "fig.update_yaxes(ticks=\"inside\")\n",
    "fig.update_xaxes(tickangle=45, tickfont=dict(color='crimson', size=14))\n",
    "fig.update_xaxes(showline=True, linewidth=2, linecolor='black', mirror=True, gridcolor='Pink')\n",
    "fig.update_yaxes(showline=True, linewidth=2, linecolor='black', mirror=True, gridcolor='Red')\n",
    "#fig.show()\n",
    "fig.write_html(r'C:\\Users\\eeeeeeeeee\\Documents\\JupyterAnacondaPythonNotebooks\\Daily\\Charts_px\\ApplicationData\\{}.html'.format(FileName)) #interactive_appdata_TypeCode_file.html')\n",
    "plt.close()"
   ]
  },
  {
   "cell_type": "code",
   "execution_count": 306,
   "metadata": {},
   "outputs": [
    {
     "name": "stdout",
     "output_type": "stream",
     "text": [
      "        DatabaseName      SchemaName     TableName\n",
      "465  ApplicationData  StudentProfile  Addendum_Log\n"
     ]
    }
   ],
   "source": [
    "d = dfappdata0077[['DatabaseName', 'SchemaName','TableName']]\n",
    "d = d.drop_duplicates()\n",
    "e = d['DatabaseName'].values[0]\n",
    "f = d['SchemaName'].values[0]\n",
    "g = d['TableName'].values[0]\n",
    "print (d)\n",
    "FileName = ('AppData_{}_{}'.format(f,g))\n",
    "\n",
    "fig = px.scatter(dfappdata0077, x = 'TodaysDate', y='RecordCount', size = 'RecordCount', color = 'RecordCount', title = '{0},{1},{2}'.format(e,f,g))\n",
    "#fig.update_layout(title='Risk Assessment: Table activity recorded',\n",
    "fig.update_layout(yaxis_zeroline=False, xaxis_zeroline=False)\n",
    "fig.update_xaxes(title_font=dict(size=18, color='crimson'))\n",
    "fig.update_yaxes(title_font=dict(size=18, color='crimson'))\n",
    "fig.update_xaxes(ticks=\"inside\")\n",
    "fig.update_yaxes(ticks=\"inside\")\n",
    "fig.update_xaxes(tickangle=45, tickfont=dict(color='crimson', size=14))\n",
    "fig.update_xaxes(showline=True, linewidth=2, linecolor='black', mirror=True, gridcolor='Pink')\n",
    "fig.update_yaxes(showline=True, linewidth=2, linecolor='black', mirror=True, gridcolor='Red')\n",
    "#fig.show()\n",
    "fig.write_html(r'C:\\Users\\eeeeeeeeee\\Documents\\JupyterAnacondaPythonNotebooks\\Daily\\Charts_px\\ApplicationData\\{}.html'.format(FileName)) #interactive_appdata_Addendum_Log_file.html')\n",
    "plt.close()"
   ]
  },
  {
   "cell_type": "code",
   "execution_count": 307,
   "metadata": {},
   "outputs": [
    {
     "name": "stdout",
     "output_type": "stream",
     "text": [
      "         DatabaseName      SchemaName    TableName\n",
      "1209  ApplicationData  StudentProfile  BasePicture\n"
     ]
    }
   ],
   "source": [
    "d = dfappdata0078[['DatabaseName', 'SchemaName','TableName']]\n",
    "d = d.drop_duplicates()\n",
    "e = d['DatabaseName'].values[0]\n",
    "f = d['SchemaName'].values[0]\n",
    "g = d['TableName'].values[0]\n",
    "print (d)\n",
    "FileName = ('AppData_{}_{}'.format(f,g))\n",
    "\n",
    "fig = px.scatter(dfappdata0078, x = 'TodaysDate', y='RecordCount', size = 'RecordCount', color = 'RecordCount', title = '{0},{1},{2}'.format(e,f,g))\n",
    "#fig.update_layout(title='Risk Assessment: Table activity recorded',\n",
    "fig.update_layout(yaxis_zeroline=False, xaxis_zeroline=False)\n",
    "fig.update_xaxes(title_font=dict(size=18, color='crimson'))\n",
    "fig.update_yaxes(title_font=dict(size=18, color='crimson'))\n",
    "fig.update_xaxes(ticks=\"inside\")\n",
    "fig.update_yaxes(ticks=\"inside\")\n",
    "fig.update_xaxes(tickangle=45, tickfont=dict(color='crimson', size=14))\n",
    "fig.update_xaxes(showline=True, linewidth=2, linecolor='black', mirror=True, gridcolor='Pink')\n",
    "fig.update_yaxes(showline=True, linewidth=2, linecolor='black', mirror=True, gridcolor='Red')\n",
    "#fig.show()\n",
    "fig.write_html(r'C:\\Users\\eeeeeeeeee\\Documents\\JupyterAnacondaPythonNotebooks\\Daily\\Charts_px\\ApplicationData\\{}.html'.format(FileName)) #interactive_appdata_BasePicture_file.html')\n",
    "plt.close()"
   ]
  },
  {
   "cell_type": "code",
   "execution_count": 308,
   "metadata": {},
   "outputs": [
    {
     "name": "stdout",
     "output_type": "stream",
     "text": [
      "         DatabaseName      SchemaName        TableName\n",
      "2790  ApplicationData  StudentProfile  DIM_AbsenceType\n"
     ]
    }
   ],
   "source": [
    "d = dfappdata0079[['DatabaseName', 'SchemaName','TableName']]\n",
    "d = d.drop_duplicates()\n",
    "e = d['DatabaseName'].values[0]\n",
    "f = d['SchemaName'].values[0]\n",
    "g = d['TableName'].values[0]\n",
    "print (d)\n",
    "FileName = ('AppData_{}_{}'.format(f,g))\n",
    "\n",
    "fig = px.scatter(dfappdata0079, x = 'TodaysDate', y='RecordCount', size = 'RecordCount', color = 'RecordCount', title = '{0},{1},{2}'.format(e,f,g))\n",
    "#fig.update_layout(title='Risk Assessment: Table activity recorded',\n",
    "fig.update_layout(yaxis_zeroline=False, xaxis_zeroline=False)\n",
    "fig.update_xaxes(title_font=dict(size=18, color='crimson'))\n",
    "fig.update_yaxes(title_font=dict(size=18, color='crimson'))\n",
    "fig.update_xaxes(ticks=\"inside\")\n",
    "fig.update_yaxes(ticks=\"inside\")\n",
    "fig.update_xaxes(tickangle=45, tickfont=dict(color='crimson', size=14))\n",
    "fig.update_xaxes(showline=True, linewidth=2, linecolor='black', mirror=True, gridcolor='Pink')\n",
    "fig.update_yaxes(showline=True, linewidth=2, linecolor='black', mirror=True, gridcolor='Red')\n",
    "#fig.show()\n",
    "fig.write_html(r'C:\\Users\\eeeeeeeeee\\Documents\\JupyterAnacondaPythonNotebooks\\Daily\\Charts_px\\ApplicationData\\{}.html'.format(FileName)) #interactive_appdata_BasePicture_file.html')\n",
    "plt.close()"
   ]
  },
  {
   "cell_type": "code",
   "execution_count": 309,
   "metadata": {},
   "outputs": [
    {
     "name": "stdout",
     "output_type": "stream",
     "text": [
      "         DatabaseName      SchemaName     TableName\n",
      "2883  ApplicationData  StudentProfile  DIM_Calendar\n"
     ]
    }
   ],
   "source": [
    "d = dfappdata0080[['DatabaseName', 'SchemaName','TableName']]\n",
    "d = d.drop_duplicates()\n",
    "e = d['DatabaseName'].values[0]\n",
    "f = d['SchemaName'].values[0]\n",
    "g = d['TableName'].values[0]\n",
    "print (d)\n",
    "FileName = ('AppData_{}_{}'.format(f,g))\n",
    "\n",
    "fig = px.scatter(dfappdata0080, x = 'TodaysDate', y='RecordCount', size = 'RecordCount', color = 'RecordCount', title = '{0},{1},{2}'.format(e,f,g))\n",
    "#fig.update_layout(title='Risk Assessment: Table activity recorded',\n",
    "fig.update_layout(yaxis_zeroline=False, xaxis_zeroline=False)\n",
    "fig.update_xaxes(title_font=dict(size=18, color='crimson'))\n",
    "fig.update_yaxes(title_font=dict(size=18, color='crimson'))\n",
    "fig.update_xaxes(ticks=\"inside\")\n",
    "fig.update_yaxes(ticks=\"inside\")\n",
    "fig.update_xaxes(tickangle=45, tickfont=dict(color='crimson', size=14))\n",
    "fig.update_xaxes(showline=True, linewidth=2, linecolor='black', mirror=True, gridcolor='Pink')\n",
    "fig.update_yaxes(showline=True, linewidth=2, linecolor='black', mirror=True, gridcolor='Red')\n",
    "#fig.show()\n",
    "fig.write_html(r'C:\\Users\\eeeeeeeeee\\Documents\\JupyterAnacondaPythonNotebooks\\Daily\\Charts_px\\ApplicationData\\{}.html'.format(FileName)) #interactive_appdata_DIM_Calendar_file.html')\n",
    "plt.close()"
   ]
  },
  {
   "cell_type": "code",
   "execution_count": 310,
   "metadata": {},
   "outputs": [
    {
     "name": "stdout",
     "output_type": "stream",
     "text": [
      "         DatabaseName      SchemaName          TableName\n",
      "2976  ApplicationData  StudentProfile  DIM_ClassSchedule\n"
     ]
    }
   ],
   "source": [
    "d = dfappdata0081[['DatabaseName', 'SchemaName','TableName']]\n",
    "d = d.drop_duplicates()\n",
    "e = d['DatabaseName'].values[0]\n",
    "f = d['SchemaName'].values[0]\n",
    "g = d['TableName'].values[0]\n",
    "print (d)\n",
    "FileName = ('AppData_{}_{}'.format(f,g))\n",
    "\n",
    "fig = px.scatter(dfappdata0081, x = 'TodaysDate', y='RecordCount', size = 'RecordCount', color = 'RecordCount', title = '{0},{1},{2}'.format(e,f,g))\n",
    "#fig.update_layout(title='Risk Assessment: Table activity recorded',\n",
    "fig.update_layout(yaxis_zeroline=False, xaxis_zeroline=False)\n",
    "fig.update_xaxes(title_font=dict(size=18, color='crimson'))\n",
    "fig.update_yaxes(title_font=dict(size=18, color='crimson'))\n",
    "fig.update_xaxes(ticks=\"inside\")\n",
    "fig.update_yaxes(ticks=\"inside\")\n",
    "fig.update_xaxes(tickangle=45, tickfont=dict(color='crimson', size=14))\n",
    "fig.update_xaxes(showline=True, linewidth=2, linecolor='black', mirror=True, gridcolor='Pink')\n",
    "fig.update_yaxes(showline=True, linewidth=2, linecolor='black', mirror=True, gridcolor='Red')\n",
    "#fig.show()\n",
    "fig.write_html(r'C:\\Users\\eeeeeeeeee\\Documents\\JupyterAnacondaPythonNotebooks\\Daily\\Charts_px\\ApplicationData\\{}.html'.format(FileName)) #interactive_appdata_DIM_ClassSchedule_file.html')\n",
    "plt.close()"
   ]
  },
  {
   "cell_type": "code",
   "execution_count": 311,
   "metadata": {},
   "outputs": [
    {
     "name": "stdout",
     "output_type": "stream",
     "text": [
      "         DatabaseName      SchemaName      TableName\n",
      "3069  ApplicationData  StudentProfile  DIM_CodeTable\n"
     ]
    }
   ],
   "source": [
    "d = dfappdata0082[['DatabaseName', 'SchemaName','TableName']]\n",
    "d = d.drop_duplicates()\n",
    "e = d['DatabaseName'].values[0]\n",
    "f = d['SchemaName'].values[0]\n",
    "g = d['TableName'].values[0]\n",
    "print (d)\n",
    "FileName = ('AppData_{}_{}'.format(f,g))\n",
    "\n",
    "fig = px.scatter(dfappdata0082, x = 'TodaysDate', y='RecordCount', size = 'RecordCount', color = 'RecordCount', title = '{0},{1},{2}'.format(e,f,g))\n",
    "#fig.update_layout(title='Risk Assessment: Table activity recorded',\n",
    "fig.update_layout(yaxis_zeroline=False, xaxis_zeroline=False)\n",
    "fig.update_xaxes(title_font=dict(size=18, color='crimson'))\n",
    "fig.update_yaxes(title_font=dict(size=18, color='crimson'))\n",
    "fig.update_xaxes(ticks=\"inside\")\n",
    "fig.update_yaxes(ticks=\"inside\")\n",
    "fig.update_xaxes(tickangle=45, tickfont=dict(color='crimson', size=14))\n",
    "fig.update_xaxes(showline=True, linewidth=2, linecolor='black', mirror=True, gridcolor='Pink')\n",
    "fig.update_yaxes(showline=True, linewidth=2, linecolor='black', mirror=True, gridcolor='Red')\n",
    "#fig.show()\n",
    "fig.write_html(r'C:\\Users\\eeeeeeeeee\\Documents\\JupyterAnacondaPythonNotebooks\\Daily\\Charts_px\\ApplicationData\\{}.html'.format(FileName)) #interactive_appdata_DIM_CodeTable_file.html')\n",
    "plt.close()"
   ]
  },
  {
   "cell_type": "code",
   "execution_count": 312,
   "metadata": {},
   "outputs": [
    {
     "name": "stdout",
     "output_type": "stream",
     "text": [
      "         DatabaseName      SchemaName   TableName\n",
      "3162  ApplicationData  StudentProfile  DIM_Course\n"
     ]
    }
   ],
   "source": [
    "d = dfappdata0083[['DatabaseName', 'SchemaName','TableName']]\n",
    "d = d.drop_duplicates()\n",
    "e = d['DatabaseName'].values[0]\n",
    "f = d['SchemaName'].values[0]\n",
    "g = d['TableName'].values[0]\n",
    "print (d)\n",
    "FileName = ('AppData_{}_{}'.format(f,g))\n",
    "\n",
    "fig = px.scatter(dfappdata0083, x = 'TodaysDate', y='RecordCount', size = 'RecordCount', color = 'RecordCount', title = '{0},{1},{2}'.format(e,f,g))\n",
    "#fig.update_layout(title='Risk Assessment: Table activity recorded',\n",
    "fig.update_layout(yaxis_zeroline=False, xaxis_zeroline=False)\n",
    "fig.update_xaxes(title_font=dict(size=18, color='crimson'))\n",
    "fig.update_yaxes(title_font=dict(size=18, color='crimson'))\n",
    "fig.update_xaxes(ticks=\"inside\")\n",
    "fig.update_yaxes(ticks=\"inside\")\n",
    "fig.update_xaxes(tickangle=45, tickfont=dict(color='crimson', size=14))\n",
    "fig.update_xaxes(showline=True, linewidth=2, linecolor='black', mirror=True, gridcolor='Pink')\n",
    "fig.update_yaxes(showline=True, linewidth=2, linecolor='black', mirror=True, gridcolor='Red')\n",
    "#fig.show()\n",
    "fig.write_html(r'C:\\Users\\eeeeeeeeee\\Documents\\JupyterAnacondaPythonNotebooks\\Daily\\Charts_px\\ApplicationData\\{}.html'.format(FileName)) #interactive_appdata_DIM_Course_file.html')\n",
    "plt.close()"
   ]
  },
  {
   "cell_type": "code",
   "execution_count": 313,
   "metadata": {},
   "outputs": [
    {
     "name": "stdout",
     "output_type": "stream",
     "text": [
      "         DatabaseName      SchemaName           TableName\n",
      "3255  ApplicationData  StudentProfile  DIM_CourseCategory\n"
     ]
    }
   ],
   "source": [
    "d = dfappdata0084[['DatabaseName', 'SchemaName','TableName']]\n",
    "d = d.drop_duplicates()\n",
    "e = d['DatabaseName'].values[0]\n",
    "f = d['SchemaName'].values[0]\n",
    "g = d['TableName'].values[0]\n",
    "print (d)\n",
    "FileName = ('AppData_{}_{}'.format(f,g))\n",
    "\n",
    "fig = px.scatter(dfappdata0084, x = 'TodaysDate', y='RecordCount', size = 'RecordCount', color = 'RecordCount', title = '{0},{1},{2}'.format(e,f,g))\n",
    "#fig.update_layout(title='Risk Assessment: Table activity recorded',\n",
    "fig.update_layout(yaxis_zeroline=False, xaxis_zeroline=False)\n",
    "fig.update_xaxes(title_font=dict(size=18, color='crimson'))\n",
    "fig.update_yaxes(title_font=dict(size=18, color='crimson'))\n",
    "fig.update_xaxes(ticks=\"inside\")\n",
    "fig.update_yaxes(ticks=\"inside\")\n",
    "fig.update_xaxes(tickangle=45, tickfont=dict(color='crimson', size=14))\n",
    "fig.update_xaxes(showline=True, linewidth=2, linecolor='black', mirror=True, gridcolor='Pink')\n",
    "fig.update_yaxes(showline=True, linewidth=2, linecolor='black', mirror=True, gridcolor='Red')\n",
    "#fig.show()\n",
    "fig.write_html(r'C:\\Users\\eeeeeeeeee\\Documents\\JupyterAnacondaPythonNotebooks\\Daily\\Charts_px\\ApplicationData\\{}.html'.format(FileName)) #interactive_appdata_DIM_CourseCategory_file.html')\n",
    "plt.close()"
   ]
  },
  {
   "cell_type": "code",
   "execution_count": 314,
   "metadata": {},
   "outputs": [
    {
     "name": "stdout",
     "output_type": "stream",
     "text": [
      "         DatabaseName      SchemaName           TableName\n",
      "3348  ApplicationData  StudentProfile  DIM_CourseOffering\n"
     ]
    }
   ],
   "source": [
    "d = dfappdata0085[['DatabaseName', 'SchemaName','TableName']]\n",
    "d = d.drop_duplicates()\n",
    "e = d['DatabaseName'].values[0]\n",
    "f = d['SchemaName'].values[0]\n",
    "g = d['TableName'].values[0]\n",
    "print (d)\n",
    "FileName = ('AppData_{}_{}'.format(f,g))\n",
    "\n",
    "fig = px.scatter(dfappdata0085, x = 'TodaysDate', y='RecordCount', size = 'RecordCount', color = 'RecordCount', title = '{0},{1},{2}'.format(e,f,g))\n",
    "#fig.update_layout(title='Risk Assessment: Table activity recorded',\n",
    "fig.update_layout(yaxis_zeroline=False, xaxis_zeroline=False)\n",
    "fig.update_xaxes(title_font=dict(size=18, color='crimson'))\n",
    "fig.update_yaxes(title_font=dict(size=18, color='crimson'))\n",
    "fig.update_xaxes(ticks=\"inside\")\n",
    "fig.update_yaxes(ticks=\"inside\")\n",
    "fig.update_xaxes(tickangle=45, tickfont=dict(color='crimson', size=14))\n",
    "fig.update_xaxes(showline=True, linewidth=2, linecolor='black', mirror=True, gridcolor='Pink')\n",
    "fig.update_yaxes(showline=True, linewidth=2, linecolor='black', mirror=True, gridcolor='Red')\n",
    "#fig.show()\n",
    "fig.write_html(r'C:\\Users\\eeeeeeeeee\\Documents\\JupyterAnacondaPythonNotebooks\\Daily\\Charts_px\\ApplicationData\\{}.html'.format(FileName)) #interactive_appdata_DIM_CourseOffering_file.html')\n",
    "plt.close()"
   ]
  },
  {
   "cell_type": "code",
   "execution_count": 315,
   "metadata": {},
   "outputs": [
    {
     "name": "stdout",
     "output_type": "stream",
     "text": [
      "         DatabaseName      SchemaName         TableName\n",
      "3627  ApplicationData  StudentProfile  DIM_CourseSearch\n"
     ]
    }
   ],
   "source": [
    "d = dfappdata0086[['DatabaseName', 'SchemaName','TableName']]\n",
    "d = d.drop_duplicates()\n",
    "e = d['DatabaseName'].values[0]\n",
    "f = d['SchemaName'].values[0]\n",
    "g = d['TableName'].values[0]\n",
    "print (d)\n",
    "FileName = ('AppData_{}_{}'.format(f,g))\n",
    "\n",
    "fig = px.scatter(dfappdata0086, x = 'TodaysDate', y='RecordCount', size = 'RecordCount', color = 'RecordCount', title = '{0},{1},{2}'.format(e,f,g))\n",
    "#fig.update_layout(title='Risk Assessment: Table activity recorded',\n",
    "fig.update_layout(yaxis_zeroline=False, xaxis_zeroline=False)\n",
    "fig.update_xaxes(title_font=dict(size=18, color='crimson'))\n",
    "fig.update_yaxes(title_font=dict(size=18, color='crimson'))\n",
    "fig.update_xaxes(ticks=\"inside\")\n",
    "fig.update_yaxes(ticks=\"inside\")\n",
    "fig.update_xaxes(tickangle=45, tickfont=dict(color='crimson', size=14))\n",
    "fig.update_xaxes(showline=True, linewidth=2, linecolor='black', mirror=True, gridcolor='Pink')\n",
    "fig.update_yaxes(showline=True, linewidth=2, linecolor='black', mirror=True, gridcolor='Red')\n",
    "#fig.show()\n",
    "fig.write_html(r'C:\\Users\\eeeeeeeeee\\Documents\\JupyterAnacondaPythonNotebooks\\Daily\\Charts_px\\ApplicationData\\{}.html'.format(FileName)) #interactive_appdata_DIM_CourseSearch_file.html')\n",
    "plt.close()"
   ]
  },
  {
   "cell_type": "code",
   "execution_count": 316,
   "metadata": {},
   "outputs": [
    {
     "name": "stdout",
     "output_type": "stream",
     "text": [
      "         DatabaseName      SchemaName                      TableName\n",
      "3720  ApplicationData  StudentProfile  DIM_DisciplineInfractionRules\n"
     ]
    }
   ],
   "source": [
    "d = dfappdata0087[['DatabaseName', 'SchemaName','TableName']]\n",
    "d = d.drop_duplicates()\n",
    "e = d['DatabaseName'].values[0]\n",
    "f = d['SchemaName'].values[0]\n",
    "g = d['TableName'].values[0]\n",
    "print (d)\n",
    "FileName = ('AppData_{}_{}'.format(f,g))\n",
    "\n",
    "fig = px.scatter(dfappdata0087, x = 'TodaysDate', y='RecordCount', size = 'RecordCount', color = 'RecordCount', title = '{0},{1},{2}'.format(e,f,g))\n",
    "#fig.update_layout(title='Risk Assessment: Table activity recorded',\n",
    "fig.update_layout(yaxis_zeroline=False, xaxis_zeroline=False)\n",
    "fig.update_xaxes(title_font=dict(size=18, color='crimson'))\n",
    "fig.update_yaxes(title_font=dict(size=18, color='crimson'))\n",
    "fig.update_xaxes(ticks=\"inside\")\n",
    "fig.update_yaxes(ticks=\"inside\")\n",
    "fig.update_xaxes(tickangle=45, tickfont=dict(color='crimson', size=14))\n",
    "fig.update_xaxes(showline=True, linewidth=2, linecolor='black', mirror=True, gridcolor='Pink')\n",
    "fig.update_yaxes(showline=True, linewidth=2, linecolor='black', mirror=True, gridcolor='Red')\n",
    "#fig.show()\n",
    "fig.write_html(r'C:\\Users\\eeeeeeeeee\\Documents\\JupyterAnacondaPythonNotebooks\\Daily\\Charts_px\\ApplicationData\\{}.html'.format(FileName)) #interactive_appdata_DIM_DisciplineInfractionRules_file.html')\n",
    "plt.close()"
   ]
  },
  {
   "cell_type": "code",
   "execution_count": 317,
   "metadata": {},
   "outputs": [
    {
     "name": "stdout",
     "output_type": "stream",
     "text": [
      "         DatabaseName      SchemaName     TableName\n",
      "3813  ApplicationData  StudentProfile  DIM_Educator\n"
     ]
    }
   ],
   "source": [
    "d = dfappdata0088[['DatabaseName', 'SchemaName','TableName']]\n",
    "d = d.drop_duplicates()\n",
    "e = d['DatabaseName'].values[0]\n",
    "f = d['SchemaName'].values[0]\n",
    "g = d['TableName'].values[0]\n",
    "print (d)\n",
    "FileName = ('AppData_{}_{}'.format(f,g))\n",
    "\n",
    "fig = px.scatter(dfappdata0088, x = 'TodaysDate', y='RecordCount', size = 'RecordCount', color = 'RecordCount', title = '{0},{1},{2}'.format(e,f,g))\n",
    "#fig.update_layout(title='Risk Assessment: Table activity recorded',\n",
    "fig.update_layout(yaxis_zeroline=False, xaxis_zeroline=False)\n",
    "fig.update_xaxes(title_font=dict(size=18, color='crimson'))\n",
    "fig.update_yaxes(title_font=dict(size=18, color='crimson'))\n",
    "fig.update_xaxes(ticks=\"inside\")\n",
    "fig.update_yaxes(ticks=\"inside\")\n",
    "fig.update_xaxes(tickangle=45, tickfont=dict(color='crimson', size=14))\n",
    "fig.update_xaxes(showline=True, linewidth=2, linecolor='black', mirror=True, gridcolor='Pink')\n",
    "fig.update_yaxes(showline=True, linewidth=2, linecolor='black', mirror=True, gridcolor='Red')\n",
    "#fig.show()\n",
    "fig.write_html(r'C:\\Users\\eeeeeeeeee\\Documents\\JupyterAnacondaPythonNotebooks\\Daily\\Charts_px\\ApplicationData\\{}.html'.format(FileName)) #interactive_appdata_DIM_Educator_file.html')\n",
    "plt.close()"
   ]
  },
  {
   "cell_type": "code",
   "execution_count": 318,
   "metadata": {},
   "outputs": [
    {
     "name": "stdout",
     "output_type": "stream",
     "text": [
      "         DatabaseName      SchemaName           TableName\n",
      "3906  ApplicationData  StudentProfile  DIM_EducatorSearch\n"
     ]
    }
   ],
   "source": [
    "d = dfappdata0089[['DatabaseName', 'SchemaName','TableName']]\n",
    "d = d.drop_duplicates()\n",
    "e = d['DatabaseName'].values[0]\n",
    "f = d['SchemaName'].values[0]\n",
    "g = d['TableName'].values[0]\n",
    "print (d)\n",
    "FileName = ('AppData_{}_{}'.format(f,g))\n",
    "\n",
    "fig = px.scatter(dfappdata0089, x = 'TodaysDate', y='RecordCount', size = 'RecordCount', color = 'RecordCount', title = '{0},{1},{2}'.format(e,f,g))\n",
    "#fig.update_layout(title='Risk Assessment: Table activity recorded',\n",
    "fig.update_layout(yaxis_zeroline=False, xaxis_zeroline=False)\n",
    "fig.update_xaxes(title_font=dict(size=18, color='crimson'))\n",
    "fig.update_yaxes(title_font=dict(size=18, color='crimson'))\n",
    "fig.update_xaxes(ticks=\"inside\")\n",
    "fig.update_yaxes(ticks=\"inside\")\n",
    "fig.update_xaxes(tickangle=45, tickfont=dict(color='crimson', size=14))\n",
    "fig.update_xaxes(showline=True, linewidth=2, linecolor='black', mirror=True, gridcolor='Pink')\n",
    "fig.update_yaxes(showline=True, linewidth=2, linecolor='black', mirror=True, gridcolor='Red')\n",
    "#fig.show()\n",
    "fig.write_html(r'C:\\Users\\eeeeeeeeee\\Documents\\JupyterAnacondaPythonNotebooks\\Daily\\Charts_px\\ApplicationData\\{}.html'.format(FileName)) #interactive_appdata_DIM_EducatorSearch_file.html')\n",
    "plt.close()"
   ]
  },
  {
   "cell_type": "code",
   "execution_count": 319,
   "metadata": {},
   "outputs": [
    {
     "name": "stdout",
     "output_type": "stream",
     "text": [
      "         DatabaseName      SchemaName     TableName\n",
      "3999  ApplicationData  StudentProfile  DIM_Employee\n"
     ]
    }
   ],
   "source": [
    "d = dfappdata0090[['DatabaseName', 'SchemaName','TableName']]\n",
    "d = d.drop_duplicates()\n",
    "e = d['DatabaseName'].values[0]\n",
    "f = d['SchemaName'].values[0]\n",
    "g = d['TableName'].values[0]\n",
    "print (d)\n",
    "FileName = ('AppData_{}_{}'.format(f,g))\n",
    "\n",
    "fig = px.scatter(dfappdata0090, x = 'TodaysDate', y='RecordCount', size = 'RecordCount', color = 'RecordCount', title = '{0},{1},{2}'.format(e,f,g))\n",
    "#fig.update_layout(title='Risk Assessment: Table activity recorded',\n",
    "fig.update_layout(yaxis_zeroline=False, xaxis_zeroline=False)\n",
    "fig.update_xaxes(title_font=dict(size=18, color='crimson'))\n",
    "fig.update_yaxes(title_font=dict(size=18, color='crimson'))\n",
    "fig.update_xaxes(ticks=\"inside\")\n",
    "fig.update_yaxes(ticks=\"inside\")\n",
    "fig.update_xaxes(tickangle=45, tickfont=dict(color='crimson', size=14))\n",
    "fig.update_xaxes(showline=True, linewidth=2, linecolor='black', mirror=True, gridcolor='Pink')\n",
    "fig.update_yaxes(showline=True, linewidth=2, linecolor='black', mirror=True, gridcolor='Red')\n",
    "#fig.show()\n",
    "fig.write_html(r'C:\\Users\\eeeeeeeeee\\Documents\\JupyterAnacondaPythonNotebooks\\Daily\\Charts_px\\ApplicationData\\{}.html'.format(FileName)) #interactive_appdata_DIM_Employee_file.html')\n",
    "plt.close()"
   ]
  },
  {
   "cell_type": "code",
   "execution_count": 320,
   "metadata": {},
   "outputs": [
    {
     "name": "stdout",
     "output_type": "stream",
     "text": [
      "         DatabaseName      SchemaName    TableName\n",
      "4092  ApplicationData  StudentProfile  DIM_JobCode\n"
     ]
    }
   ],
   "source": [
    "d = dfappdata0091[['DatabaseName', 'SchemaName','TableName']]\n",
    "d = d.drop_duplicates()\n",
    "e = d['DatabaseName'].values[0]\n",
    "f = d['SchemaName'].values[0]\n",
    "g = d['TableName'].values[0]\n",
    "print (d)\n",
    "FileName = ('AppData_{}_{}'.format(f,g))\n",
    "\n",
    "fig = px.scatter(dfappdata0091, x = 'TodaysDate', y='RecordCount', size = 'RecordCount', color = 'RecordCount', title = '{0},{1},{2}'.format(e,f,g))\n",
    "#fig.update_layout(title='Risk Assessment: Table activity recorded',\n",
    "fig.update_layout(yaxis_zeroline=False, xaxis_zeroline=False)\n",
    "fig.update_xaxes(title_font=dict(size=18, color='crimson'))\n",
    "fig.update_yaxes(title_font=dict(size=18, color='crimson'))\n",
    "fig.update_xaxes(ticks=\"inside\")\n",
    "fig.update_yaxes(ticks=\"inside\")\n",
    "fig.update_xaxes(tickangle=45, tickfont=dict(color='crimson', size=14))\n",
    "fig.update_xaxes(showline=True, linewidth=2, linecolor='black', mirror=True, gridcolor='Pink')\n",
    "fig.update_yaxes(showline=True, linewidth=2, linecolor='black', mirror=True, gridcolor='Red')\n",
    "#fig.show()\n",
    "fig.write_html(r'C:\\Users\\eeeeeeeeee\\Documents\\JupyterAnacondaPythonNotebooks\\Daily\\Charts_px\\ApplicationData\\{}.html'.format(FileName)) #interactive_appdata_DIM_JobCode_file.html')\n",
    "plt.close()"
   ]
  },
  {
   "cell_type": "code",
   "execution_count": 321,
   "metadata": {},
   "outputs": [
    {
     "name": "stdout",
     "output_type": "stream",
     "text": [
      "         DatabaseName      SchemaName     TableName\n",
      "4185  ApplicationData  StudentProfile  DIM_Location\n"
     ]
    }
   ],
   "source": [
    "d = dfappdata0092[['DatabaseName', 'SchemaName','TableName']]\n",
    "d = d.drop_duplicates()\n",
    "e = d['DatabaseName'].values[0]\n",
    "f = d['SchemaName'].values[0]\n",
    "g = d['TableName'].values[0]\n",
    "print (d)\n",
    "FileName = ('AppData_{}_{}'.format(f,g))\n",
    "\n",
    "fig = px.scatter(dfappdata0092, x = 'TodaysDate', y='RecordCount', size = 'RecordCount', color = 'RecordCount', title = '{0},{1},{2}'.format(e,f,g))\n",
    "#fig.update_layout(title='Risk Assessment: Table activity recorded',\n",
    "fig.update_layout(yaxis_zeroline=False, xaxis_zeroline=False)\n",
    "fig.update_xaxes(title_font=dict(size=18, color='crimson'))\n",
    "fig.update_yaxes(title_font=dict(size=18, color='crimson'))\n",
    "fig.update_xaxes(ticks=\"inside\")\n",
    "fig.update_yaxes(ticks=\"inside\")\n",
    "fig.update_xaxes(tickangle=45, tickfont=dict(color='crimson', size=14))\n",
    "fig.update_xaxes(showline=True, linewidth=2, linecolor='black', mirror=True, gridcolor='Pink')\n",
    "fig.update_yaxes(showline=True, linewidth=2, linecolor='black', mirror=True, gridcolor='Red')\n",
    "#fig.show()\n",
    "fig.write_html(r'C:\\Users\\eeeeeeeeee\\Documents\\JupyterAnacondaPythonNotebooks\\Daily\\Charts_px\\ApplicationData\\{}.html'.format(FileName)) #interactive_appdata_DIM_Location_file.html')\n",
    "plt.close()"
   ]
  },
  {
   "cell_type": "code",
   "execution_count": 322,
   "metadata": {},
   "outputs": [
    {
     "name": "stdout",
     "output_type": "stream",
     "text": [
      "         DatabaseName      SchemaName   TableName\n",
      "4371  ApplicationData  StudentProfile  DIM_School\n"
     ]
    }
   ],
   "source": [
    "d = dfappdata0093[['DatabaseName', 'SchemaName','TableName']]\n",
    "d = d.drop_duplicates()\n",
    "e = d['DatabaseName'].values[0]\n",
    "f = d['SchemaName'].values[0]\n",
    "g = d['TableName'].values[0]\n",
    "print (d)\n",
    "FileName = ('AppData_{}_{}'.format(f,g))\n",
    "\n",
    "fig = px.scatter(dfappdata0093, x = 'TodaysDate', y='RecordCount', size = 'RecordCount', color = 'RecordCount', title = '{0},{1},{2}'.format(e,f,g))\n",
    "#fig.update_layout(title='Risk Assessment: Table activity recorded',\n",
    "fig.update_layout(yaxis_zeroline=False, xaxis_zeroline=False)\n",
    "fig.update_xaxes(title_font=dict(size=18, color='crimson'))\n",
    "fig.update_yaxes(title_font=dict(size=18, color='crimson'))\n",
    "fig.update_xaxes(ticks=\"inside\")\n",
    "fig.update_yaxes(ticks=\"inside\")\n",
    "fig.update_xaxes(tickangle=45, tickfont=dict(color='crimson', size=14))\n",
    "fig.update_xaxes(showline=True, linewidth=2, linecolor='black', mirror=True, gridcolor='Pink')\n",
    "fig.update_yaxes(showline=True, linewidth=2, linecolor='black', mirror=True, gridcolor='Red')\n",
    "#fig.show()\n",
    "fig.write_html(r'C:\\Users\\eeeeeeeeee\\Documents\\JupyterAnacondaPythonNotebooks\\Daily\\Charts_px\\ApplicationData\\{}.html'.format(FileName)) #interactive_appdata_DIM_School_file.html')\n",
    "plt.close()"
   ]
  },
  {
   "cell_type": "code",
   "execution_count": 323,
   "metadata": {},
   "outputs": [
    {
     "name": "stdout",
     "output_type": "stream",
     "text": [
      "         DatabaseName      SchemaName                     TableName\n",
      "4464  ApplicationData  StudentProfile  DIM_ServiceProgramDefinition\n"
     ]
    }
   ],
   "source": [
    "d = dfappdata0094[['DatabaseName', 'SchemaName','TableName']]\n",
    "d = d.drop_duplicates()\n",
    "e = d['DatabaseName'].values[0]\n",
    "f = d['SchemaName'].values[0]\n",
    "g = d['TableName'].values[0]\n",
    "print (d)\n",
    "FileName = ('AppData_{}_{}'.format(f,g))\n",
    "\n",
    "fig = px.scatter(dfappdata0094, x = 'TodaysDate', y='RecordCount', size = 'RecordCount', color = 'RecordCount', title = '{0},{1},{2}'.format(e,f,g))\n",
    "#fig.update_layout(title='Risk Assessment: Table activity recorded',\n",
    "fig.update_layout(yaxis_zeroline=False, xaxis_zeroline=False)\n",
    "fig.update_xaxes(title_font=dict(size=18, color='crimson'))\n",
    "fig.update_yaxes(title_font=dict(size=18, color='crimson'))\n",
    "fig.update_xaxes(ticks=\"inside\")\n",
    "fig.update_yaxes(ticks=\"inside\")\n",
    "fig.update_xaxes(tickangle=45, tickfont=dict(color='crimson', size=14))\n",
    "fig.update_xaxes(showline=True, linewidth=2, linecolor='black', mirror=True, gridcolor='Pink')\n",
    "fig.update_yaxes(showline=True, linewidth=2, linecolor='black', mirror=True, gridcolor='Red')\n",
    "#fig.show()\n",
    "fig.write_html(r'C:\\Users\\eeeeeeeeee\\Documents\\JupyterAnacondaPythonNotebooks\\Daily\\Charts_px\\ApplicationData\\{}.html'.format(FileName)) #interactive_appdata_DIM_ServiceProgramDefinition_file.html')\n",
    "plt.close()"
   ]
  },
  {
   "cell_type": "code",
   "execution_count": 324,
   "metadata": {},
   "outputs": [
    {
     "name": "stdout",
     "output_type": "stream",
     "text": [
      "         DatabaseName      SchemaName    TableName\n",
      "4557  ApplicationData  StudentProfile  DIM_Student\n"
     ]
    }
   ],
   "source": [
    "d = dfappdata0095[['DatabaseName', 'SchemaName','TableName']]\n",
    "d = d.drop_duplicates()\n",
    "e = d['DatabaseName'].values[0]\n",
    "f = d['SchemaName'].values[0]\n",
    "g = d['TableName'].values[0]\n",
    "print (d)\n",
    "FileName = ('AppData_{}_{}'.format(f,g))\n",
    "\n",
    "fig = px.scatter(dfappdata0095, x = 'TodaysDate', y='RecordCount', size = 'RecordCount', color = 'RecordCount', title = '{0},{1},{2}'.format(e,f,g))\n",
    "#fig.update_layout(title='Risk Assessment: Table activity recorded',\n",
    "fig.update_layout(yaxis_zeroline=False, xaxis_zeroline=False)\n",
    "fig.update_xaxes(title_font=dict(size=18, color='crimson'))\n",
    "fig.update_yaxes(title_font=dict(size=18, color='crimson'))\n",
    "fig.update_xaxes(ticks=\"inside\")\n",
    "fig.update_yaxes(ticks=\"inside\")\n",
    "fig.update_xaxes(tickangle=45, tickfont=dict(color='crimson', size=14))\n",
    "fig.update_xaxes(showline=True, linewidth=2, linecolor='black', mirror=True, gridcolor='Pink')\n",
    "fig.update_yaxes(showline=True, linewidth=2, linecolor='black', mirror=True, gridcolor='Red')\n",
    "#fig.show()\n",
    "fig.write_html(r'C:\\Users\\eeeeeeeeee\\Documents\\JupyterAnacondaPythonNotebooks\\Daily\\Charts_px\\ApplicationData\\{}.html'.format(FileName)) #interactive_appdata_DIM_Student_file.html')\n",
    "plt.close()"
   ]
  },
  {
   "cell_type": "code",
   "execution_count": 325,
   "metadata": {},
   "outputs": [
    {
     "name": "stdout",
     "output_type": "stream",
     "text": [
      "         DatabaseName      SchemaName                  TableName\n",
      "4650  ApplicationData  StudentProfile  DIM_StudentDistrictDetail\n"
     ]
    }
   ],
   "source": [
    "d = dfappdata0096[['DatabaseName', 'SchemaName','TableName']]\n",
    "d = d.drop_duplicates()\n",
    "e = d['DatabaseName'].values[0]\n",
    "f = d['SchemaName'].values[0]\n",
    "g = d['TableName'].values[0]\n",
    "print (d)\n",
    "FileName = ('AppData_{}_{}'.format(f,g))\n",
    "\n",
    "fig = px.scatter(dfappdata0096, x = 'TodaysDate', y='RecordCount', size = 'RecordCount', color = 'RecordCount', title = '{0},{1},{2}'.format(e,f,g))\n",
    "#fig.update_layout(title='Risk Assessment: Table activity recorded',\n",
    "fig.update_layout(yaxis_zeroline=False, xaxis_zeroline=False)\n",
    "fig.update_xaxes(title_font=dict(size=18, color='crimson'))\n",
    "fig.update_yaxes(title_font=dict(size=18, color='crimson'))\n",
    "fig.update_xaxes(ticks=\"inside\")\n",
    "fig.update_yaxes(ticks=\"inside\")\n",
    "fig.update_xaxes(tickangle=45, tickfont=dict(color='crimson', size=14))\n",
    "fig.update_xaxes(showline=True, linewidth=2, linecolor='black', mirror=True, gridcolor='Pink')\n",
    "fig.update_yaxes(showline=True, linewidth=2, linecolor='black', mirror=True, gridcolor='Red')\n",
    "#fig.show()\n",
    "fig.write_html(r'C:\\Users\\eeeeeeeeee\\Documents\\JupyterAnacondaPythonNotebooks\\Daily\\Charts_px\\ApplicationData\\{}.html'.format(FileName)) #interactive_appdata_DIM_StudentDistrictDetail_file.html')\n",
    "plt.close()"
   ]
  },
  {
   "cell_type": "code",
   "execution_count": 326,
   "metadata": {},
   "outputs": [
    {
     "name": "stdout",
     "output_type": "stream",
     "text": [
      "         DatabaseName      SchemaName         TableName\n",
      "4743  ApplicationData  StudentProfile  DIM_StudentEmail\n"
     ]
    }
   ],
   "source": [
    "d = dfappdata0097[['DatabaseName', 'SchemaName','TableName']]\n",
    "d = d.drop_duplicates()\n",
    "e = d['DatabaseName'].values[0]\n",
    "f = d['SchemaName'].values[0]\n",
    "g = d['TableName'].values[0]\n",
    "print (d)\n",
    "FileName = ('AppData_{}_{}'.format(f,g))\n",
    "\n",
    "fig = px.scatter(dfappdata0097, x = 'TodaysDate', y='RecordCount', size = 'RecordCount', color = 'RecordCount', title = '{0},{1},{2}'.format(e,f,g))\n",
    "#fig.update_layout(title='Risk Assessment: Table activity recorded',\n",
    "fig.update_layout(yaxis_zeroline=False, xaxis_zeroline=False)\n",
    "fig.update_xaxes(title_font=dict(size=18, color='crimson'))\n",
    "fig.update_yaxes(title_font=dict(size=18, color='crimson'))\n",
    "fig.update_xaxes(ticks=\"inside\")\n",
    "fig.update_yaxes(ticks=\"inside\")\n",
    "fig.update_xaxes(tickangle=45, tickfont=dict(color='crimson', size=14))\n",
    "fig.update_xaxes(showline=True, linewidth=2, linecolor='black', mirror=True, gridcolor='Pink')\n",
    "fig.update_yaxes(showline=True, linewidth=2, linecolor='black', mirror=True, gridcolor='Red')\n",
    "#fig.show()\n",
    "fig.write_html(r'C:\\Users\\eeeeeeeeee\\Documents\\JupyterAnacondaPythonNotebooks\\Daily\\Charts_px\\ApplicationData\\{}.html'.format(FileName)) #interactive_appdata_DIM_StudentEmail_file.html')\n",
    "plt.close()"
   ]
  },
  {
   "cell_type": "code",
   "execution_count": 327,
   "metadata": {},
   "outputs": [
    {
     "name": "stdout",
     "output_type": "stream",
     "text": [
      "         DatabaseName      SchemaName        TableName\n",
      "4836  ApplicationData  StudentProfile  DIM_StudentNext\n"
     ]
    }
   ],
   "source": [
    "d = dfappdata0098[['DatabaseName', 'SchemaName','TableName']]\n",
    "d = d.drop_duplicates()\n",
    "e = d['DatabaseName'].values[0]\n",
    "f = d['SchemaName'].values[0]\n",
    "g = d['TableName'].values[0]\n",
    "print (d)\n",
    "FileName = ('AppData_{}_{}'.format(f,g))\n",
    "\n",
    "fig = px.scatter(dfappdata0098, x = 'TodaysDate', y='RecordCount', size = 'RecordCount', color = 'RecordCount', title = '{0},{1},{2}'.format(e,f,g))\n",
    "#fig.update_layout(title='Risk Assessment: Table activity recorded',\n",
    "fig.update_layout(yaxis_zeroline=False, xaxis_zeroline=False)\n",
    "fig.update_xaxes(title_font=dict(size=18, color='crimson'))\n",
    "fig.update_yaxes(title_font=dict(size=18, color='crimson'))\n",
    "fig.update_xaxes(ticks=\"inside\")\n",
    "fig.update_yaxes(ticks=\"inside\")\n",
    "fig.update_xaxes(tickangle=45, tickfont=dict(color='crimson', size=14))\n",
    "fig.update_xaxes(showline=True, linewidth=2, linecolor='black', mirror=True, gridcolor='Pink')\n",
    "fig.update_yaxes(showline=True, linewidth=2, linecolor='black', mirror=True, gridcolor='Red')\n",
    "#fig.show()\n",
    "fig.write_html(r'C:\\Users\\eeeeeeeeee\\Documents\\JupyterAnacondaPythonNotebooks\\Daily\\Charts_px\\ApplicationData\\{}.html'.format(FileName)) #interactive_appdata_DIM_StudentNext_file.html')\n",
    "plt.close()"
   ]
  },
  {
   "cell_type": "code",
   "execution_count": 328,
   "metadata": {},
   "outputs": [
    {
     "name": "stdout",
     "output_type": "stream",
     "text": [
      "         DatabaseName      SchemaName           TableName\n",
      "4929  ApplicationData  StudentProfile  DIM_StudentPicture\n"
     ]
    }
   ],
   "source": [
    "d = dfappdata0099[['DatabaseName', 'SchemaName','TableName']]\n",
    "d = d.drop_duplicates()\n",
    "e = d['DatabaseName'].values[0]\n",
    "f = d['SchemaName'].values[0]\n",
    "g = d['TableName'].values[0]\n",
    "print (d)\n",
    "FileName = ('AppData_{}_{}'.format(f,g))\n",
    "\n",
    "fig = px.scatter(dfappdata0099, x = 'TodaysDate', y='RecordCount', size = 'RecordCount', color = 'RecordCount', title = '{0},{1},{2}'.format(e,f,g))\n",
    "#fig.update_layout(title='Risk Assessment: Table activity recorded',\n",
    "fig.update_layout(yaxis_zeroline=False, xaxis_zeroline=False)\n",
    "fig.update_xaxes(title_font=dict(size=18, color='crimson'))\n",
    "fig.update_yaxes(title_font=dict(size=18, color='crimson'))\n",
    "fig.update_xaxes(ticks=\"inside\")\n",
    "fig.update_yaxes(ticks=\"inside\")\n",
    "fig.update_xaxes(tickangle=45, tickfont=dict(color='crimson', size=14))\n",
    "fig.update_xaxes(showline=True, linewidth=2, linecolor='black', mirror=True, gridcolor='Pink')\n",
    "fig.update_yaxes(showline=True, linewidth=2, linecolor='black', mirror=True, gridcolor='Red')\n",
    "#fig.show()\n",
    "fig.write_html(r'C:\\Users\\eeeeeeeeee\\Documents\\JupyterAnacondaPythonNotebooks\\Daily\\Charts_px\\ApplicationData\\{}.html'.format(FileName)) #interactive_appdata_DIM_StudentPicture_file.html')\n",
    "plt.close()"
   ]
  },
  {
   "cell_type": "code",
   "execution_count": 329,
   "metadata": {},
   "outputs": [
    {
     "name": "stdout",
     "output_type": "stream",
     "text": [
      "         DatabaseName      SchemaName          TableName\n",
      "5022  ApplicationData  StudentProfile  DIM_StudentSearch\n"
     ]
    }
   ],
   "source": [
    "d = dfappdata0100[['DatabaseName', 'SchemaName','TableName']]\n",
    "d = d.drop_duplicates()\n",
    "e = d['DatabaseName'].values[0]\n",
    "f = d['SchemaName'].values[0]\n",
    "g = d['TableName'].values[0]\n",
    "print (d)\n",
    "FileName = ('AppData_{}_{}'.format(f,g))\n",
    "\n",
    "fig = px.scatter(dfappdata0100, x = 'TodaysDate', y='RecordCount', size = 'RecordCount', color = 'RecordCount', title = '{0},{1},{2}'.format(e,f,g))\n",
    "#fig.update_layout(title='Risk Assessment: Table activity recorded',\n",
    "fig.update_layout(yaxis_zeroline=False, xaxis_zeroline=False)\n",
    "fig.update_xaxes(title_font=dict(size=18, color='crimson'))\n",
    "fig.update_yaxes(title_font=dict(size=18, color='crimson'))\n",
    "fig.update_xaxes(ticks=\"inside\")\n",
    "fig.update_yaxes(ticks=\"inside\")\n",
    "fig.update_xaxes(tickangle=45, tickfont=dict(color='crimson', size=14))\n",
    "fig.update_xaxes(showline=True, linewidth=2, linecolor='black', mirror=True, gridcolor='Pink')\n",
    "fig.update_yaxes(showline=True, linewidth=2, linecolor='black', mirror=True, gridcolor='Red')\n",
    "#fig.show()\n",
    "fig.write_html(r'C:\\Users\\eeeeeeeeee\\Documents\\JupyterAnacondaPythonNotebooks\\Daily\\Charts_px\\ApplicationData\\{}.html'.format(FileName)) #interactive_appdata_DIM_StudentSearch_file.html')\n",
    "plt.close()"
   ]
  },
  {
   "cell_type": "code",
   "execution_count": 330,
   "metadata": {},
   "outputs": [
    {
     "name": "stdout",
     "output_type": "stream",
     "text": [
      "         DatabaseName      SchemaName TableName\n",
      "5115  ApplicationData  StudentProfile  DIM_Term\n"
     ]
    }
   ],
   "source": [
    "d = dfappdata0101[['DatabaseName', 'SchemaName','TableName']]\n",
    "d = d.drop_duplicates()\n",
    "e = d['DatabaseName'].values[0]\n",
    "f = d['SchemaName'].values[0]\n",
    "g = d['TableName'].values[0]\n",
    "print (d)\n",
    "FileName = ('AppData_{}_{}'.format(f,g))\n",
    "\n",
    "fig = px.scatter(dfappdata0101, x = 'TodaysDate', y='RecordCount', size = 'RecordCount', color = 'RecordCount', title = '{0},{1},{2}'.format(e,f,g))\n",
    "#fig.update_layout(title='Risk Assessment: Table activity recorded',\n",
    "fig.update_layout(yaxis_zeroline=False, xaxis_zeroline=False)\n",
    "fig.update_xaxes(title_font=dict(size=18, color='crimson'))\n",
    "fig.update_yaxes(title_font=dict(size=18, color='crimson'))\n",
    "fig.update_xaxes(ticks=\"inside\")\n",
    "fig.update_yaxes(ticks=\"inside\")\n",
    "fig.update_xaxes(tickangle=45, tickfont=dict(color='crimson', size=14))\n",
    "fig.update_xaxes(showline=True, linewidth=2, linecolor='black', mirror=True, gridcolor='Pink')\n",
    "fig.update_yaxes(showline=True, linewidth=2, linecolor='black', mirror=True, gridcolor='Red')\n",
    "#fig.show()\n",
    "fig.write_html(r'C:\\Users\\eeeeeeeeee\\Documents\\JupyterAnacondaPythonNotebooks\\Daily\\Charts_px\\ApplicationData\\{}.html'.format(FileName)) #interactive_appdata_DIM_Term_file.html')\n",
    "plt.close()"
   ]
  },
  {
   "cell_type": "code",
   "execution_count": 331,
   "metadata": {},
   "outputs": [
    {
     "name": "stdout",
     "output_type": "stream",
     "text": [
      "         DatabaseName      SchemaName  TableName\n",
      "5952  ApplicationData  StudentProfile  FACT_A504\n"
     ]
    }
   ],
   "source": [
    "d = dfappdata0102[['DatabaseName', 'SchemaName','TableName']]\n",
    "d = d.drop_duplicates()\n",
    "e = d['DatabaseName'].values[0]\n",
    "f = d['SchemaName'].values[0]\n",
    "g = d['TableName'].values[0]\n",
    "print (d)\n",
    "FileName = ('AppData_{}_{}'.format(f,g))\n",
    "\n",
    "fig = px.scatter(dfappdata0102, x = 'TodaysDate', y='RecordCount', size = 'RecordCount', color = 'RecordCount', title = '{0},{1},{2}'.format(e,f,g))\n",
    "#fig.update_layout(title='Risk Assessment: Table activity recorded',\n",
    "fig.update_layout(yaxis_zeroline=False, xaxis_zeroline=False)\n",
    "fig.update_xaxes(title_font=dict(size=18, color='crimson'))\n",
    "fig.update_yaxes(title_font=dict(size=18, color='crimson'))\n",
    "fig.update_xaxes(ticks=\"inside\")\n",
    "fig.update_yaxes(ticks=\"inside\")\n",
    "fig.update_xaxes(tickangle=45, tickfont=dict(color='crimson', size=14))\n",
    "fig.update_xaxes(showline=True, linewidth=2, linecolor='black', mirror=True, gridcolor='Pink')\n",
    "fig.update_yaxes(showline=True, linewidth=2, linecolor='black', mirror=True, gridcolor='Red')\n",
    "#fig.show()\n",
    "fig.write_html(r'C:\\Users\\eeeeeeeeee\\Documents\\JupyterAnacondaPythonNotebooks\\Daily\\Charts_px\\ApplicationData\\{}.html'.format(FileName)) #interactive_appdata_FACT_A504_file.html')\n",
    "plt.close()"
   ]
  },
  {
   "cell_type": "code",
   "execution_count": 332,
   "metadata": {},
   "outputs": [
    {
     "name": "stdout",
     "output_type": "stream",
     "text": [
      "         DatabaseName      SchemaName              TableName\n",
      "6045  ApplicationData  StudentProfile  FACT_AcademicContract\n"
     ]
    }
   ],
   "source": [
    "d = dfappdata0103[['DatabaseName', 'SchemaName','TableName']]\n",
    "d = d.drop_duplicates()\n",
    "e = d['DatabaseName'].values[0]\n",
    "f = d['SchemaName'].values[0]\n",
    "g = d['TableName'].values[0]\n",
    "print (d)\n",
    "FileName = ('AppData_{}_{}'.format(f,g))\n",
    "\n",
    "fig = px.scatter(dfappdata0103, x = 'TodaysDate', y='RecordCount', size = 'RecordCount', color = 'RecordCount', title = '{0},{1},{2}'.format(e,f,g))\n",
    "#fig.update_layout(title='Risk Assessment: Table activity recorded',\n",
    "fig.update_layout(yaxis_zeroline=False, xaxis_zeroline=False)\n",
    "fig.update_xaxes(title_font=dict(size=18, color='crimson'))\n",
    "fig.update_yaxes(title_font=dict(size=18, color='crimson'))\n",
    "fig.update_xaxes(ticks=\"inside\")\n",
    "fig.update_yaxes(ticks=\"inside\")\n",
    "fig.update_xaxes(tickangle=45, tickfont=dict(color='crimson', size=14))\n",
    "fig.update_xaxes(showline=True, linewidth=2, linecolor='black', mirror=True, gridcolor='Pink')\n",
    "fig.update_yaxes(showline=True, linewidth=2, linecolor='black', mirror=True, gridcolor='Red')\n",
    "#fig.show()\n",
    "fig.write_html(r'C:\\Users\\eeeeeeeeee\\Documents\\JupyterAnacondaPythonNotebooks\\Daily\\Charts_px\\ApplicationData\\{}.html'.format(FileName)) #interactive_appdata_FACT_AcademicContract_file.html')\n",
    "plt.close()"
   ]
  },
  {
   "cell_type": "code",
   "execution_count": 333,
   "metadata": {},
   "outputs": [
    {
     "name": "stdout",
     "output_type": "stream",
     "text": [
      "         DatabaseName      SchemaName                     TableName\n",
      "6138  ApplicationData  StudentProfile  FACT_AlternateTransportation\n"
     ]
    }
   ],
   "source": [
    "d = dfappdata0104[['DatabaseName', 'SchemaName','TableName']]\n",
    "d = d.drop_duplicates()\n",
    "e = d['DatabaseName'].values[0]\n",
    "f = d['SchemaName'].values[0]\n",
    "g = d['TableName'].values[0]\n",
    "print (d)\n",
    "FileName = ('AppData_{}_{}'.format(f,g))\n",
    "\n",
    "fig = px.scatter(dfappdata0104, x = 'TodaysDate', y='RecordCount', size = 'RecordCount', color = 'RecordCount', title = '{0},{1},{2}'.format(e,f,g))\n",
    "#fig.update_layout(title='Risk Assessment: Table activity recorded',\n",
    "fig.update_layout(yaxis_zeroline=False, xaxis_zeroline=False)\n",
    "fig.update_xaxes(title_font=dict(size=18, color='crimson'))\n",
    "fig.update_yaxes(title_font=dict(size=18, color='crimson'))\n",
    "fig.update_xaxes(ticks=\"inside\")\n",
    "fig.update_yaxes(ticks=\"inside\")\n",
    "fig.update_xaxes(tickangle=45, tickfont=dict(color='crimson', size=14))\n",
    "fig.update_xaxes(showline=True, linewidth=2, linecolor='black', mirror=True, gridcolor='Pink')\n",
    "fig.update_yaxes(showline=True, linewidth=2, linecolor='black', mirror=True, gridcolor='Red')\n",
    "#fig.show()\n",
    "fig.write_html(r'C:\\Users\\eeeeeeeeee\\Documents\\JupyterAnacondaPythonNotebooks\\Daily\\Charts_px\\ApplicationData\\{}.html'.format(FileName)) #interactive_appdata_FACT_AlternateTransportation_file.html')\n",
    "plt.close()"
   ]
  },
  {
   "cell_type": "code",
   "execution_count": 334,
   "metadata": {},
   "outputs": [
    {
     "name": "stdout",
     "output_type": "stream",
     "text": [
      "         DatabaseName      SchemaName        TableName\n",
      "6231  ApplicationData  StudentProfile  FACT_Assessment\n"
     ]
    }
   ],
   "source": [
    "d = dfappdata0105[['DatabaseName', 'SchemaName','TableName']]\n",
    "d = d.drop_duplicates()\n",
    "e = d['DatabaseName'].values[0]\n",
    "f = d['SchemaName'].values[0]\n",
    "g = d['TableName'].values[0]\n",
    "print (d)\n",
    "FileName = ('AppData_{}_{}'.format(f,g))\n",
    "\n",
    "fig = px.scatter(dfappdata0105, x = 'TodaysDate', y='RecordCount', size = 'RecordCount', color = 'RecordCount', title = '{0},{1},{2}'.format(e,f,g))\n",
    "#fig.update_layout(title='Risk Assessment: Table activity recorded',\n",
    "fig.update_layout(yaxis_zeroline=False, xaxis_zeroline=False)\n",
    "fig.update_xaxes(title_font=dict(size=18, color='crimson'))\n",
    "fig.update_yaxes(title_font=dict(size=18, color='crimson'))\n",
    "fig.update_xaxes(ticks=\"inside\")\n",
    "fig.update_yaxes(ticks=\"inside\")\n",
    "fig.update_xaxes(tickangle=45, tickfont=dict(color='crimson', size=14))\n",
    "fig.update_xaxes(showline=True, linewidth=2, linecolor='black', mirror=True, gridcolor='Pink')\n",
    "fig.update_yaxes(showline=True, linewidth=2, linecolor='black', mirror=True, gridcolor='Red')\n",
    "#fig.show()\n",
    "fig.write_html(r'C:\\Users\\eeeeeeeeee\\Documents\\JupyterAnacondaPythonNotebooks\\Daily\\Charts_px\\ApplicationData\\{}.html'.format(FileName)) #interactive_appdata_FACT_Assessment_file.html')\n",
    "plt.close()"
   ]
  },
  {
   "cell_type": "code",
   "execution_count": 335,
   "metadata": {},
   "outputs": [
    {
     "name": "stdout",
     "output_type": "stream",
     "text": [
      "         DatabaseName      SchemaName                TableName\n",
      "6324  ApplicationData  StudentProfile  FACT_AttendanceByPeriod\n"
     ]
    }
   ],
   "source": [
    "d = dfappdata0106[['DatabaseName', 'SchemaName','TableName']]\n",
    "d = d.drop_duplicates()\n",
    "e = d['DatabaseName'].values[0]\n",
    "f = d['SchemaName'].values[0]\n",
    "g = d['TableName'].values[0]\n",
    "print (d)\n",
    "FileName = ('AppData_{}_{}'.format(f,g))\n",
    "\n",
    "fig = px.scatter(dfappdata0106, x = 'TodaysDate', y='RecordCount', size = 'RecordCount', color = 'RecordCount', title = '{0},{1},{2}'.format(e,f,g))\n",
    "#fig.update_layout(title='Risk Assessment: Table activity recorded',\n",
    "fig.update_layout(yaxis_zeroline=False, xaxis_zeroline=False)\n",
    "fig.update_xaxes(title_font=dict(size=18, color='crimson'))\n",
    "fig.update_yaxes(title_font=dict(size=18, color='crimson'))\n",
    "fig.update_xaxes(ticks=\"inside\")\n",
    "fig.update_yaxes(ticks=\"inside\")\n",
    "fig.update_xaxes(tickangle=45, tickfont=dict(color='crimson', size=14))\n",
    "fig.update_xaxes(showline=True, linewidth=2, linecolor='black', mirror=True, gridcolor='Pink')\n",
    "fig.update_yaxes(showline=True, linewidth=2, linecolor='black', mirror=True, gridcolor='Red')\n",
    "#fig.show()\n",
    "fig.write_html(r'C:\\Users\\eeeeeeeeee\\Documents\\JupyterAnacondaPythonNotebooks\\Daily\\Charts_px\\ApplicationData\\{}.html'.format(FileName)) #interactive_appdata_FACT_AttendanceByPeriod_file.html')\n",
    "plt.close()"
   ]
  },
  {
   "cell_type": "code",
   "execution_count": 336,
   "metadata": {},
   "outputs": [
    {
     "name": "stdout",
     "output_type": "stream",
     "text": [
      "         DatabaseName      SchemaName              TableName\n",
      "6417  ApplicationData  StudentProfile  FACT_AttendanceByType\n"
     ]
    }
   ],
   "source": [
    "d = dfappdata0107[['DatabaseName', 'SchemaName','TableName']]\n",
    "d = d.drop_duplicates()\n",
    "e = d['DatabaseName'].values[0]\n",
    "f = d['SchemaName'].values[0]\n",
    "g = d['TableName'].values[0]\n",
    "print (d)\n",
    "FileName = ('AppData_{}_{}'.format(f,g))\n",
    "\n",
    "fig = px.scatter(dfappdata0107, x = 'TodaysDate', y='RecordCount', size = 'RecordCount', color = 'RecordCount', title = '{0},{1},{2}'.format(e,f,g))\n",
    "#fig.update_layout(title='Risk Assessment: Table activity recorded',\n",
    "fig.update_layout(yaxis_zeroline=False, xaxis_zeroline=False)\n",
    "fig.update_xaxes(title_font=dict(size=18, color='crimson'))\n",
    "fig.update_yaxes(title_font=dict(size=18, color='crimson'))\n",
    "fig.update_xaxes(ticks=\"inside\")\n",
    "fig.update_yaxes(ticks=\"inside\")\n",
    "fig.update_xaxes(tickangle=45, tickfont=dict(color='crimson', size=14))\n",
    "fig.update_xaxes(showline=True, linewidth=2, linecolor='black', mirror=True, gridcolor='Pink')\n",
    "fig.update_yaxes(showline=True, linewidth=2, linecolor='black', mirror=True, gridcolor='Red')\n",
    "#fig.show()\n",
    "fig.write_html(r'C:\\Users\\eeeeeeeeee\\Documents\\JupyterAnacondaPythonNotebooks\\Daily\\Charts_px\\ApplicationData\\{}.html'.format(FileName)) #interactive_appdata_FACT_AttendanceByType_file.html')\n",
    "plt.close()"
   ]
  },
  {
   "cell_type": "code",
   "execution_count": 337,
   "metadata": {},
   "outputs": [
    {
     "name": "stdout",
     "output_type": "stream",
     "text": [
      "         DatabaseName      SchemaName             TableName\n",
      "6510  ApplicationData  StudentProfile  FACT_AttendanceDaily\n"
     ]
    }
   ],
   "source": [
    "d = dfappdata0108[['DatabaseName', 'SchemaName','TableName']]\n",
    "d = d.drop_duplicates()\n",
    "e = d['DatabaseName'].values[0]\n",
    "f = d['SchemaName'].values[0]\n",
    "g = d['TableName'].values[0]\n",
    "print (d)\n",
    "FileName = ('AppData_{}_{}'.format(f,g))\n",
    "\n",
    "fig = px.scatter(dfappdata0108, x = 'TodaysDate', y='RecordCount', size = 'RecordCount', color = 'RecordCount', title = '{0},{1},{2}'.format(e,f,g))\n",
    "#fig.update_layout(title='Risk Assessment: Table activity recorded',\n",
    "fig.update_layout(yaxis_zeroline=False, xaxis_zeroline=False)\n",
    "fig.update_xaxes(title_font=dict(size=18, color='crimson'))\n",
    "fig.update_yaxes(title_font=dict(size=18, color='crimson'))\n",
    "fig.update_xaxes(ticks=\"inside\")\n",
    "fig.update_yaxes(ticks=\"inside\")\n",
    "fig.update_xaxes(tickangle=45, tickfont=dict(color='crimson', size=14))\n",
    "fig.update_xaxes(showline=True, linewidth=2, linecolor='black', mirror=True, gridcolor='Pink')\n",
    "fig.update_yaxes(showline=True, linewidth=2, linecolor='black', mirror=True, gridcolor='Red')\n",
    "#fig.show()\n",
    "fig.write_html(r'C:\\Users\\eeeeeeeeee\\Documents\\JupyterAnacondaPythonNotebooks\\Daily\\Charts_px\\ApplicationData\\{}.html'.format(FileName)) #interactive_appdata_FACT_AttendanceDaily_file.html')\n",
    "plt.close()"
   ]
  },
  {
   "cell_type": "code",
   "execution_count": 338,
   "metadata": {},
   "outputs": [
    {
     "name": "stdout",
     "output_type": "stream",
     "text": [
      "         DatabaseName      SchemaName                     TableName\n",
      "6603  ApplicationData  StudentProfile  FACT_AttendanceDaily_History\n"
     ]
    }
   ],
   "source": [
    "d = dfappdata0109[['DatabaseName', 'SchemaName','TableName']]\n",
    "d = d.drop_duplicates()\n",
    "e = d['DatabaseName'].values[0]\n",
    "f = d['SchemaName'].values[0]\n",
    "g = d['TableName'].values[0]\n",
    "print (d)\n",
    "FileName = ('AppData_{}_{}'.format(f,g))\n",
    "\n",
    "fig = px.scatter(dfappdata0109, x = 'TodaysDate', y='RecordCount', size = 'RecordCount', color = 'RecordCount', title = '{0},{1},{2}'.format(e,f,g))\n",
    "#fig.update_layout(title='Risk Assessment: Table activity recorded',\n",
    "fig.update_layout(yaxis_zeroline=False, xaxis_zeroline=False)\n",
    "fig.update_xaxes(title_font=dict(size=18, color='crimson'))\n",
    "fig.update_yaxes(title_font=dict(size=18, color='crimson'))\n",
    "fig.update_xaxes(ticks=\"inside\")\n",
    "fig.update_yaxes(ticks=\"inside\")\n",
    "fig.update_xaxes(tickangle=45, tickfont=dict(color='crimson', size=14))\n",
    "fig.update_xaxes(showline=True, linewidth=2, linecolor='black', mirror=True, gridcolor='Pink')\n",
    "fig.update_yaxes(showline=True, linewidth=2, linecolor='black', mirror=True, gridcolor='Red')\n",
    "#fig.show()\n",
    "fig.write_html(r'C:\\Users\\eeeeeeeeee\\Documents\\JupyterAnacondaPythonNotebooks\\Daily\\Charts_px\\ApplicationData\\{}.html'.format(FileName)) #interactive_appdata_FACT_AttendanceDaily_History_file.html')\n",
    "plt.close()"
   ]
  },
  {
   "cell_type": "code",
   "execution_count": 339,
   "metadata": {},
   "outputs": [
    {
     "name": "stdout",
     "output_type": "stream",
     "text": [
      "         DatabaseName      SchemaName       TableName\n",
      "6696  ApplicationData  StudentProfile  FACT_BookFines\n"
     ]
    }
   ],
   "source": [
    "d = dfappdata0110[['DatabaseName', 'SchemaName','TableName']]\n",
    "d = d.drop_duplicates()\n",
    "e = d['DatabaseName'].values[0]\n",
    "f = d['SchemaName'].values[0]\n",
    "g = d['TableName'].values[0]\n",
    "print (d)\n",
    "FileName = ('AppData_{}_{}'.format(f,g))\n",
    "\n",
    "fig = px.scatter(dfappdata0110, x = 'TodaysDate', y='RecordCount', size = 'RecordCount', color = 'RecordCount', title = '{0},{1},{2}'.format(e,f,g))\n",
    "#fig.update_layout(title='Risk Assessment: Table activity recorded',\n",
    "fig.update_layout(yaxis_zeroline=False, xaxis_zeroline=False)\n",
    "fig.update_xaxes(title_font=dict(size=18, color='crimson'))\n",
    "fig.update_yaxes(title_font=dict(size=18, color='crimson'))\n",
    "fig.update_xaxes(ticks=\"inside\")\n",
    "fig.update_yaxes(ticks=\"inside\")\n",
    "fig.update_xaxes(tickangle=45, tickfont=dict(color='crimson', size=14))\n",
    "fig.update_xaxes(showline=True, linewidth=2, linecolor='black', mirror=True, gridcolor='Pink')\n",
    "fig.update_yaxes(showline=True, linewidth=2, linecolor='black', mirror=True, gridcolor='Red')\n",
    "#fig.show()\n",
    "fig.write_html(r'C:\\Users\\eeeeeeeeee\\Documents\\JupyterAnacondaPythonNotebooks\\Daily\\Charts_px\\ApplicationData\\{}.html'.format(FileName)) #interactive_appdata_FACT_BookFines_file.html')\n",
    "plt.close()"
   ]
  },
  {
   "cell_type": "code",
   "execution_count": 340,
   "metadata": {},
   "outputs": [
    {
     "name": "stdout",
     "output_type": "stream",
     "text": [
      "         DatabaseName      SchemaName   TableName\n",
      "6789  ApplicationData  StudentProfile  FACT_Books\n"
     ]
    }
   ],
   "source": [
    "d = dfappdata0111[['DatabaseName', 'SchemaName','TableName']]\n",
    "d = d.drop_duplicates()\n",
    "e = d['DatabaseName'].values[0]\n",
    "f = d['SchemaName'].values[0]\n",
    "g = d['TableName'].values[0]\n",
    "print (d)\n",
    "FileName = ('AppData_{}_{}'.format(f,g))\n",
    "\n",
    "fig = px.scatter(dfappdata0111, x = 'TodaysDate', y='RecordCount', size = 'RecordCount', color = 'RecordCount', title = '{0},{1},{2}'.format(e,f,g))\n",
    "#fig.update_layout(title='Risk Assessment: Table activity recorded',\n",
    "fig.update_layout(yaxis_zeroline=False, xaxis_zeroline=False)\n",
    "fig.update_xaxes(title_font=dict(size=18, color='crimson'))\n",
    "fig.update_yaxes(title_font=dict(size=18, color='crimson'))\n",
    "fig.update_xaxes(ticks=\"inside\")\n",
    "fig.update_yaxes(ticks=\"inside\")\n",
    "fig.update_xaxes(tickangle=45, tickfont=dict(color='crimson', size=14))\n",
    "fig.update_xaxes(showline=True, linewidth=2, linecolor='black', mirror=True, gridcolor='Pink')\n",
    "fig.update_yaxes(showline=True, linewidth=2, linecolor='black', mirror=True, gridcolor='Red')\n",
    "#fig.show()\n",
    "fig.write_html(r'C:\\Users\\eeeeeeeeee\\Documents\\JupyterAnacondaPythonNotebooks\\Daily\\Charts_px\\ApplicationData\\{}.html'.format(FileName)) #interactive_appdata_FACT_Books_file.html')\n",
    "plt.close()"
   ]
  },
  {
   "cell_type": "code",
   "execution_count": 341,
   "metadata": {},
   "outputs": [
    {
     "name": "stdout",
     "output_type": "stream",
     "text": [
      "         DatabaseName      SchemaName      TableName\n",
      "6882  ApplicationData  StudentProfile  FACT_BusRoute\n"
     ]
    }
   ],
   "source": [
    "d = dfappdata0112[['DatabaseName', 'SchemaName','TableName']]\n",
    "d = d.drop_duplicates()\n",
    "e = d['DatabaseName'].values[0]\n",
    "f = d['SchemaName'].values[0]\n",
    "g = d['TableName'].values[0]\n",
    "print (d)\n",
    "FileName = ('AppData_{}_{}'.format(f,g))\n",
    "\n",
    "fig = px.scatter(dfappdata0112, x = 'TodaysDate', y='RecordCount', size = 'RecordCount', color = 'RecordCount', title = '{0},{1},{2}'.format(e,f,g))\n",
    "#fig.update_layout(title='Risk Assessment: Table activity recorded',\n",
    "fig.update_layout(yaxis_zeroline=False, xaxis_zeroline=False)\n",
    "fig.update_xaxes(title_font=dict(size=18, color='crimson'))\n",
    "fig.update_yaxes(title_font=dict(size=18, color='crimson'))\n",
    "fig.update_xaxes(ticks=\"inside\")\n",
    "fig.update_yaxes(ticks=\"inside\")\n",
    "fig.update_xaxes(tickangle=45, tickfont=dict(color='crimson', size=14))\n",
    "fig.update_xaxes(showline=True, linewidth=2, linecolor='black', mirror=True, gridcolor='Pink')\n",
    "fig.update_yaxes(showline=True, linewidth=2, linecolor='black', mirror=True, gridcolor='Red')\n",
    "#fig.show()\n",
    "fig.write_html(r'C:\\Users\\eeeeeeeeee\\Documents\\JupyterAnacondaPythonNotebooks\\Daily\\Charts_px\\ApplicationData\\{}.html'.format(FileName)) #interactive_appdata_FACT_BusRoute_file.html')\n",
    "plt.close()"
   ]
  },
  {
   "cell_type": "code",
   "execution_count": 342,
   "metadata": {},
   "outputs": [
    {
     "name": "stdout",
     "output_type": "stream",
     "text": [
      "         DatabaseName      SchemaName       TableName\n",
      "7068  ApplicationData  StudentProfile  FACT_Cafeteria\n"
     ]
    }
   ],
   "source": [
    "d = dfappdata0113[['DatabaseName', 'SchemaName','TableName']]\n",
    "d = d.drop_duplicates()\n",
    "e = d['DatabaseName'].values[0]\n",
    "f = d['SchemaName'].values[0]\n",
    "g = d['TableName'].values[0]\n",
    "print (d)\n",
    "FileName = ('AppData_{}_{}'.format(f,g))\n",
    "\n",
    "fig = px.scatter(dfappdata0113, x = 'TodaysDate', y='RecordCount', size = 'RecordCount', color = 'RecordCount', title = '{0},{1},{2}'.format(e,f,g))\n",
    "#fig.update_layout(title='Risk Assessment: Table activity recorded',\n",
    "fig.update_layout(yaxis_zeroline=False, xaxis_zeroline=False)\n",
    "fig.update_xaxes(title_font=dict(size=18, color='crimson'))\n",
    "fig.update_yaxes(title_font=dict(size=18, color='crimson'))\n",
    "fig.update_xaxes(ticks=\"inside\")\n",
    "fig.update_yaxes(ticks=\"inside\")\n",
    "fig.update_xaxes(tickangle=45, tickfont=dict(color='crimson', size=14))\n",
    "fig.update_xaxes(showline=True, linewidth=2, linecolor='black', mirror=True, gridcolor='Pink')\n",
    "fig.update_yaxes(showline=True, linewidth=2, linecolor='black', mirror=True, gridcolor='Red')\n",
    "#fig.show()\n",
    "fig.write_html(r'C:\\Users\\eeeeeeeeee\\Documents\\JupyterAnacondaPythonNotebooks\\Daily\\Charts_px\\ApplicationData\\{}.html'.format(FileName)) #interactive_appdata_FACT_Cafeteria_file.html')\n",
    "plt.close()"
   ]
  },
  {
   "cell_type": "code",
   "execution_count": 343,
   "metadata": {},
   "outputs": [
    {
     "name": "stdout",
     "output_type": "stream",
     "text": [
      "         DatabaseName      SchemaName   TableName\n",
      "6975  ApplicationData  StudentProfile  FACT_CCRPI\n"
     ]
    }
   ],
   "source": [
    "d = dfappdata0114[['DatabaseName', 'SchemaName','TableName']]\n",
    "d = d.drop_duplicates()\n",
    "e = d['DatabaseName'].values[0]\n",
    "f = d['SchemaName'].values[0]\n",
    "g = d['TableName'].values[0]\n",
    "print (d)\n",
    "FileName = ('AppData_{}_{}'.format(f,g))\n",
    "\n",
    "fig = px.scatter(dfappdata0114, x = 'TodaysDate', y='RecordCount', size = 'RecordCount', color = 'RecordCount', title = '{0},{1},{2}'.format(e,f,g))\n",
    "#fig.update_layout(title='Risk Assessment: Table activity recorded',\n",
    "fig.update_layout(yaxis_zeroline=False, xaxis_zeroline=False)\n",
    "fig.update_xaxes(title_font=dict(size=18, color='crimson'))\n",
    "fig.update_yaxes(title_font=dict(size=18, color='crimson'))\n",
    "fig.update_xaxes(ticks=\"inside\")\n",
    "fig.update_yaxes(ticks=\"inside\")\n",
    "fig.update_xaxes(tickangle=45, tickfont=dict(color='crimson', size=14))\n",
    "fig.update_xaxes(showline=True, linewidth=2, linecolor='black', mirror=True, gridcolor='Pink')\n",
    "fig.update_yaxes(showline=True, linewidth=2, linecolor='black', mirror=True, gridcolor='Red')\n",
    "#fig.show()\n",
    "fig.write_html(r'C:\\Users\\eeeeeeeeee\\Documents\\JupyterAnacondaPythonNotebooks\\Daily\\Charts_px\\ApplicationData\\{}.html'.format(FileName)) #interactive_appdata_FACT_CCRPI_file.html')\n",
    "plt.close()"
   ]
  },
  {
   "cell_type": "code",
   "execution_count": 344,
   "metadata": {},
   "outputs": [
    {
     "name": "stdout",
     "output_type": "stream",
     "text": [
      "         DatabaseName      SchemaName                   TableName\n",
      "7161  ApplicationData  StudentProfile  FACT_CheckInCheckOutDetail\n"
     ]
    }
   ],
   "source": [
    "d = dfappdata0115[['DatabaseName', 'SchemaName','TableName']]\n",
    "d = d.drop_duplicates()\n",
    "e = d['DatabaseName'].values[0]\n",
    "f = d['SchemaName'].values[0]\n",
    "g = d['TableName'].values[0]\n",
    "print (d)\n",
    "FileName = ('AppData_{}_{}'.format(f,g))\n",
    "\n",
    "fig = px.scatter(dfappdata0115, x = 'TodaysDate', y='RecordCount', size = 'RecordCount', color = 'RecordCount', title = '{0},{1},{2}'.format(e,f,g))\n",
    "#fig.update_layout(title='Risk Assessment: Table activity recorded',\n",
    "fig.update_layout(yaxis_zeroline=False, xaxis_zeroline=False)\n",
    "fig.update_xaxes(title_font=dict(size=18, color='crimson'))\n",
    "fig.update_yaxes(title_font=dict(size=18, color='crimson'))\n",
    "fig.update_xaxes(ticks=\"inside\")\n",
    "fig.update_yaxes(ticks=\"inside\")\n",
    "fig.update_xaxes(tickangle=45, tickfont=dict(color='crimson', size=14))\n",
    "fig.update_xaxes(showline=True, linewidth=2, linecolor='black', mirror=True, gridcolor='Pink')\n",
    "fig.update_yaxes(showline=True, linewidth=2, linecolor='black', mirror=True, gridcolor='Red')\n",
    "#fig.show()\n",
    "fig.write_html(r'C:\\Users\\eeeeeeeeee\\Documents\\JupyterAnacondaPythonNotebooks\\Daily\\Charts_px\\ApplicationData\\{}.html'.format(FileName)) #interactive_appdata_FACT_CheckInCheckOutDetail_file.html')\n",
    "plt.close()"
   ]
  },
  {
   "cell_type": "code",
   "execution_count": 345,
   "metadata": {},
   "outputs": [
    {
     "name": "stdout",
     "output_type": "stream",
     "text": [
      "         DatabaseName      SchemaName         TableName\n",
      "7254  ApplicationData  StudentProfile  FACT_ClinicVisit\n"
     ]
    }
   ],
   "source": [
    "d = dfappdata0116[['DatabaseName', 'SchemaName','TableName']]\n",
    "d = d.drop_duplicates()\n",
    "e = d['DatabaseName'].values[0]\n",
    "f = d['SchemaName'].values[0]\n",
    "g = d['TableName'].values[0]\n",
    "print (d)\n",
    "FileName = ('AppData_{}_{}'.format(f,g))\n",
    "\n",
    "fig = px.scatter(dfappdata0116, x = 'TodaysDate', y='RecordCount', size = 'RecordCount', color = 'RecordCount', title = '{0},{1},{2}'.format(e,f,g))\n",
    "#fig.update_layout(title='Risk Assessment: Table activity recorded',\n",
    "fig.update_layout(yaxis_zeroline=False, xaxis_zeroline=False)\n",
    "fig.update_xaxes(title_font=dict(size=18, color='crimson'))\n",
    "fig.update_yaxes(title_font=dict(size=18, color='crimson'))\n",
    "fig.update_xaxes(ticks=\"inside\")\n",
    "fig.update_yaxes(ticks=\"inside\")\n",
    "fig.update_xaxes(tickangle=45, tickfont=dict(color='crimson', size=14))\n",
    "fig.update_xaxes(showline=True, linewidth=2, linecolor='black', mirror=True, gridcolor='Pink')\n",
    "fig.update_yaxes(showline=True, linewidth=2, linecolor='black', mirror=True, gridcolor='Red')\n",
    "#fig.show()\n",
    "fig.write_html(r'C:\\Users\\eeeeeeeeee\\Documents\\JupyterAnacondaPythonNotebooks\\Daily\\Charts_px\\ApplicationData\\{}.html'.format(FileName)) #interactive_appdata_FACT_ClinicVisit_file.html')\n",
    "plt.close()"
   ]
  },
  {
   "cell_type": "code",
   "execution_count": 346,
   "metadata": {},
   "outputs": [
    {
     "name": "stdout",
     "output_type": "stream",
     "text": [
      "         DatabaseName      SchemaName                  TableName\n",
      "7347  ApplicationData  StudentProfile  FACT_CourseHistoryDetails\n"
     ]
    }
   ],
   "source": [
    "d = dfappdata0117[['DatabaseName', 'SchemaName','TableName']]\n",
    "d = d.drop_duplicates()\n",
    "e = d['DatabaseName'].values[0]\n",
    "f = d['SchemaName'].values[0]\n",
    "g = d['TableName'].values[0]\n",
    "print (d)\n",
    "FileName = ('AppData_{}_{}'.format(f,g))\n",
    "\n",
    "fig = px.scatter(dfappdata0117, x = 'TodaysDate', y='RecordCount', size = 'RecordCount', color = 'RecordCount', title = '{0},{1},{2}'.format(e,f,g))\n",
    "#fig.update_layout(title='Risk Assessment: Table activity recorded',\n",
    "fig.update_layout(yaxis_zeroline=False, xaxis_zeroline=False)\n",
    "fig.update_xaxes(title_font=dict(size=18, color='crimson'))\n",
    "fig.update_yaxes(title_font=dict(size=18, color='crimson'))\n",
    "fig.update_xaxes(ticks=\"inside\")\n",
    "fig.update_yaxes(ticks=\"inside\")\n",
    "fig.update_xaxes(tickangle=45, tickfont=dict(color='crimson', size=14))\n",
    "fig.update_xaxes(showline=True, linewidth=2, linecolor='black', mirror=True, gridcolor='Pink')\n",
    "fig.update_yaxes(showline=True, linewidth=2, linecolor='black', mirror=True, gridcolor='Red')\n",
    "#fig.show()\n",
    "fig.write_html(r'C:\\Users\\eeeeeeeeee\\Documents\\JupyterAnacondaPythonNotebooks\\Daily\\Charts_px\\ApplicationData\\{}.html'.format(FileName)) #interactive_appdata_FACT_CourseHistoryDetails_file.html')\n",
    "plt.close()"
   ]
  },
  {
   "cell_type": "code",
   "execution_count": 347,
   "metadata": {},
   "outputs": [
    {
     "name": "stdout",
     "output_type": "stream",
     "text": [
      "         DatabaseName      SchemaName                TableName\n",
      "7440  ApplicationData  StudentProfile  FACT_CurrentLetterScore\n"
     ]
    }
   ],
   "source": [
    "d = dfappdata0118[['DatabaseName', 'SchemaName','TableName']]\n",
    "d = d.drop_duplicates()\n",
    "e = d['DatabaseName'].values[0]\n",
    "f = d['SchemaName'].values[0]\n",
    "g = d['TableName'].values[0]\n",
    "print (d)\n",
    "FileName = ('AppData_{}_{}'.format(f,g))\n",
    "\n",
    "fig = px.scatter(dfappdata0118, x = 'TodaysDate', y='RecordCount', size = 'RecordCount', color = 'RecordCount', title = '{0},{1},{2}'.format(e,f,g))\n",
    "#fig.update_layout(title='Risk Assessment: Table activity recorded',\n",
    "fig.update_layout(yaxis_zeroline=False, xaxis_zeroline=False)\n",
    "fig.update_xaxes(title_font=dict(size=18, color='crimson'))\n",
    "fig.update_yaxes(title_font=dict(size=18, color='crimson'))\n",
    "fig.update_xaxes(ticks=\"inside\")\n",
    "fig.update_yaxes(ticks=\"inside\")\n",
    "fig.update_xaxes(tickangle=45, tickfont=dict(color='crimson', size=14))\n",
    "fig.update_xaxes(showline=True, linewidth=2, linecolor='black', mirror=True, gridcolor='Pink')\n",
    "fig.update_yaxes(showline=True, linewidth=2, linecolor='black', mirror=True, gridcolor='Red')\n",
    "#fig.show()\n",
    "fig.write_html(r'C:\\Users\\eeeeeeeeee\\Documents\\JupyterAnacondaPythonNotebooks\\Daily\\Charts_px\\ApplicationData\\{}.html'.format(FileName)) #interactive_appdata_FACT_CurrentLetterScore_file.html')\n",
    "plt.close()"
   ]
  },
  {
   "cell_type": "code",
   "execution_count": 348,
   "metadata": {},
   "outputs": [
    {
     "name": "stdout",
     "output_type": "stream",
     "text": [
      "         DatabaseName      SchemaName                TableName\n",
      "7533  ApplicationData  StudentProfile  FACT_DisciplineIncident\n"
     ]
    }
   ],
   "source": [
    "d = dfappdata0119[['DatabaseName', 'SchemaName','TableName']]\n",
    "d = d.drop_duplicates()\n",
    "e = d['DatabaseName'].values[0]\n",
    "f = d['SchemaName'].values[0]\n",
    "g = d['TableName'].values[0]\n",
    "print (d)\n",
    "FileName = ('AppData_{}_{}'.format(f,g))\n",
    "\n",
    "fig = px.scatter(dfappdata0119, x = 'TodaysDate', y='RecordCount', size = 'RecordCount', color = 'RecordCount', title = '{0},{1},{2}'.format(e,f,g))\n",
    "#fig.update_layout(title='Risk Assessment: Table activity recorded',\n",
    "fig.update_layout(yaxis_zeroline=False, xaxis_zeroline=False)\n",
    "fig.update_xaxes(title_font=dict(size=18, color='crimson'))\n",
    "fig.update_yaxes(title_font=dict(size=18, color='crimson'))\n",
    "fig.update_xaxes(ticks=\"inside\")\n",
    "fig.update_yaxes(ticks=\"inside\")\n",
    "fig.update_xaxes(tickangle=45, tickfont=dict(color='crimson', size=14))\n",
    "fig.update_xaxes(showline=True, linewidth=2, linecolor='black', mirror=True, gridcolor='Pink')\n",
    "fig.update_yaxes(showline=True, linewidth=2, linecolor='black', mirror=True, gridcolor='Red')\n",
    "#fig.show()\n",
    "fig.write_html(r'C:\\Users\\eeeeeeeeee\\Documents\\JupyterAnacondaPythonNotebooks\\Daily\\Charts_px\\ApplicationData\\{}.html'.format(FileName)) #interactive_appdata_FACT_DisciplineIncident_file.html')\n",
    "plt.close()"
   ]
  },
  {
   "cell_type": "code",
   "execution_count": 349,
   "metadata": {},
   "outputs": [
    {
     "name": "stdout",
     "output_type": "stream",
     "text": [
      "         DatabaseName      SchemaName             TableName\n",
      "7626  ApplicationData  StudentProfile  FACT_DisciplineTotal\n"
     ]
    }
   ],
   "source": [
    "d = dfappdata0120[['DatabaseName', 'SchemaName','TableName']]\n",
    "d = d.drop_duplicates()\n",
    "e = d['DatabaseName'].values[0]\n",
    "f = d['SchemaName'].values[0]\n",
    "g = d['TableName'].values[0]\n",
    "print (d)\n",
    "FileName = ('AppData_{}_{}'.format(f,g))\n",
    "\n",
    "fig = px.scatter(dfappdata0120, x = 'TodaysDate', y='RecordCount', size = 'RecordCount', color = 'RecordCount', title = '{0},{1},{2}'.format(e,f,g))\n",
    "#fig.update_layout(title='Risk Assessment: Table activity recorded',\n",
    "fig.update_layout(yaxis_zeroline=False, xaxis_zeroline=False)\n",
    "fig.update_xaxes(title_font=dict(size=18, color='crimson'))\n",
    "fig.update_yaxes(title_font=dict(size=18, color='crimson'))\n",
    "fig.update_xaxes(ticks=\"inside\")\n",
    "fig.update_yaxes(ticks=\"inside\")\n",
    "fig.update_xaxes(tickangle=45, tickfont=dict(color='crimson', size=14))\n",
    "fig.update_xaxes(showline=True, linewidth=2, linecolor='black', mirror=True, gridcolor='Pink')\n",
    "fig.update_yaxes(showline=True, linewidth=2, linecolor='black', mirror=True, gridcolor='Red')\n",
    "#fig.show()\n",
    "fig.write_html(r'C:\\Users\\eeeeeeeeee\\Documents\\JupyterAnacondaPythonNotebooks\\Daily\\Charts_px\\ApplicationData\\{}.html'.format(FileName)) #interactive_appdata_FACT_DisciplineTotal_file.html')\n",
    "plt.close()"
   ]
  },
  {
   "cell_type": "code",
   "execution_count": 350,
   "metadata": {},
   "outputs": [
    {
     "name": "stdout",
     "output_type": "stream",
     "text": [
      "         DatabaseName      SchemaName                   TableName\n",
      "7719  ApplicationData  StudentProfile  FACT_DistrictCourseMetrics\n"
     ]
    }
   ],
   "source": [
    "d = dfappdata0121[['DatabaseName', 'SchemaName','TableName']]\n",
    "d = d.drop_duplicates()\n",
    "e = d['DatabaseName'].values[0]\n",
    "f = d['SchemaName'].values[0]\n",
    "g = d['TableName'].values[0]\n",
    "print (d)\n",
    "FileName = ('AppData_{}_{}'.format(f,g))\n",
    "\n",
    "fig = px.scatter(dfappdata0121, x = 'TodaysDate', y='RecordCount', size = 'RecordCount', color = 'RecordCount', title = '{0},{1},{2}'.format(e,f,g))\n",
    "#fig.update_layout(title='Risk Assessment: Table activity recorded',\n",
    "fig.update_layout(yaxis_zeroline=False, xaxis_zeroline=False)\n",
    "fig.update_xaxes(title_font=dict(size=18, color='crimson'))\n",
    "fig.update_yaxes(title_font=dict(size=18, color='crimson'))\n",
    "fig.update_xaxes(ticks=\"inside\")\n",
    "fig.update_yaxes(ticks=\"inside\")\n",
    "fig.update_xaxes(tickangle=45, tickfont=dict(color='crimson', size=14))\n",
    "fig.update_xaxes(showline=True, linewidth=2, linecolor='black', mirror=True, gridcolor='Pink')\n",
    "fig.update_yaxes(showline=True, linewidth=2, linecolor='black', mirror=True, gridcolor='Red')\n",
    "#fig.show()\n",
    "fig.write_html(r'C:\\Users\\eeeeeeeeee\\Documents\\JupyterAnacondaPythonNotebooks\\Daily\\Charts_px\\ApplicationData\\{}.html'.format(FileName)) #interactive_appdata_FACT_DistrictCourseMetrics_file.html')\n",
    "plt.close()"
   ]
  },
  {
   "cell_type": "code",
   "execution_count": 351,
   "metadata": {},
   "outputs": [
    {
     "name": "stdout",
     "output_type": "stream",
     "text": [
      "         DatabaseName      SchemaName           TableName\n",
      "7812  ApplicationData  StudentProfile  FACT_EducatorClass\n"
     ]
    }
   ],
   "source": [
    "d = dfappdata0122[['DatabaseName', 'SchemaName','TableName']]\n",
    "d = d.drop_duplicates()\n",
    "e = d['DatabaseName'].values[0]\n",
    "f = d['SchemaName'].values[0]\n",
    "g = d['TableName'].values[0]\n",
    "print (d)\n",
    "FileName = ('AppData_{}_{}'.format(f,g))\n",
    "\n",
    "fig = px.scatter(dfappdata0122, x = 'TodaysDate', y='RecordCount', size = 'RecordCount', color = 'RecordCount', title = '{0},{1},{2}'.format(e,f,g))\n",
    "#fig.update_layout(title='Risk Assessment: Table activity recorded',\n",
    "fig.update_layout(yaxis_zeroline=False, xaxis_zeroline=False)\n",
    "fig.update_xaxes(title_font=dict(size=18, color='crimson'))\n",
    "fig.update_yaxes(title_font=dict(size=18, color='crimson'))\n",
    "fig.update_xaxes(ticks=\"inside\")\n",
    "fig.update_yaxes(ticks=\"inside\")\n",
    "fig.update_xaxes(tickangle=45, tickfont=dict(color='crimson', size=14))\n",
    "fig.update_xaxes(showline=True, linewidth=2, linecolor='black', mirror=True, gridcolor='Pink')\n",
    "fig.update_yaxes(showline=True, linewidth=2, linecolor='black', mirror=True, gridcolor='Red')\n",
    "#fig.show()\n",
    "fig.write_html(r'C:\\Users\\eeeeeeeeee\\Documents\\JupyterAnacondaPythonNotebooks\\Daily\\Charts_px\\ApplicationData\\{}.html'.format(FileName)) #interactive_appdata_FACT_EducatorClass_file.html')\n",
    "plt.close()"
   ]
  },
  {
   "cell_type": "code",
   "execution_count": 352,
   "metadata": {},
   "outputs": [
    {
     "name": "stdout",
     "output_type": "stream",
     "text": [
      "         DatabaseName      SchemaName                  TableName\n",
      "7905  ApplicationData  StudentProfile  FACT_EducatorClassMetrics\n"
     ]
    }
   ],
   "source": [
    "d = dfappdata0123[['DatabaseName', 'SchemaName','TableName']]\n",
    "d = d.drop_duplicates()\n",
    "e = d['DatabaseName'].values[0]\n",
    "f = d['SchemaName'].values[0]\n",
    "g = d['TableName'].values[0]\n",
    "print (d)\n",
    "FileName = ('AppData_{}_{}'.format(f,g))\n",
    "\n",
    "fig = px.scatter(dfappdata0123, x = 'TodaysDate', y='RecordCount', size = 'RecordCount', color = 'RecordCount', title = '{0},{1},{2}'.format(e,f,g))\n",
    "#fig.update_layout(title='Risk Assessment: Table activity recorded',\n",
    "fig.update_layout(yaxis_zeroline=False, xaxis_zeroline=False)\n",
    "fig.update_xaxes(title_font=dict(size=18, color='crimson'))\n",
    "fig.update_yaxes(title_font=dict(size=18, color='crimson'))\n",
    "fig.update_xaxes(ticks=\"inside\")\n",
    "fig.update_yaxes(ticks=\"inside\")\n",
    "fig.update_xaxes(tickangle=45, tickfont=dict(color='crimson', size=14))\n",
    "fig.update_xaxes(showline=True, linewidth=2, linecolor='black', mirror=True, gridcolor='Pink')\n",
    "fig.update_yaxes(showline=True, linewidth=2, linecolor='black', mirror=True, gridcolor='Red')\n",
    "#fig.show()\n",
    "fig.write_html(r'C:\\Users\\eeeeeeeeee\\Documents\\JupyterAnacondaPythonNotebooks\\Daily\\Charts_px\\ApplicationData\\{}.html'.format(FileName)) #interactive_appdata_FACT_EducatorClassMetrics_file.html')\n",
    "plt.close()"
   ]
  },
  {
   "cell_type": "code",
   "execution_count": 353,
   "metadata": {},
   "outputs": [
    {
     "name": "stdout",
     "output_type": "stream",
     "text": [
      "         DatabaseName      SchemaName              TableName\n",
      "7998  ApplicationData  StudentProfile  FACT_EmergencyContact\n"
     ]
    }
   ],
   "source": [
    "d = dfappdata0124[['DatabaseName', 'SchemaName','TableName']]\n",
    "d = d.drop_duplicates()\n",
    "e = d['DatabaseName'].values[0]\n",
    "f = d['SchemaName'].values[0]\n",
    "g = d['TableName'].values[0]\n",
    "print (d)\n",
    "FileName = ('AppData_{}_{}'.format(f,g))\n",
    "\n",
    "fig = px.scatter(dfappdata0124, x = 'TodaysDate', y='RecordCount', size = 'RecordCount', color = 'RecordCount', title = '{0},{1},{2}'.format(e,f,g))\n",
    "#fig.update_layout(title='Risk Assessment: Table activity recorded',\n",
    "fig.update_layout(yaxis_zeroline=False, xaxis_zeroline=False)\n",
    "fig.update_xaxes(title_font=dict(size=18, color='crimson'))\n",
    "fig.update_yaxes(title_font=dict(size=18, color='crimson'))\n",
    "fig.update_xaxes(ticks=\"inside\")\n",
    "fig.update_yaxes(ticks=\"inside\")\n",
    "fig.update_xaxes(tickangle=45, tickfont=dict(color='crimson', size=14))\n",
    "fig.update_xaxes(showline=True, linewidth=2, linecolor='black', mirror=True, gridcolor='Pink')\n",
    "fig.update_yaxes(showline=True, linewidth=2, linecolor='black', mirror=True, gridcolor='Red')\n",
    "#fig.show()\n",
    "fig.write_html(r'C:\\Users\\eeeeeeeeee\\Documents\\JupyterAnacondaPythonNotebooks\\Daily\\Charts_px\\ApplicationData\\{}.html'.format(FileName)) #interactive_appdata_FACT_EmergencyContact_file.html')\n",
    "plt.close()"
   ]
  },
  {
   "cell_type": "code",
   "execution_count": 354,
   "metadata": {},
   "outputs": [
    {
     "name": "stdout",
     "output_type": "stream",
     "text": [
      "         DatabaseName      SchemaName        TableName\n",
      "8091  ApplicationData  StudentProfile  FACT_Enrollment\n"
     ]
    }
   ],
   "source": [
    "d = dfappdata0125[['DatabaseName', 'SchemaName','TableName']]\n",
    "d = d.drop_duplicates()\n",
    "e = d['DatabaseName'].values[0]\n",
    "f = d['SchemaName'].values[0]\n",
    "g = d['TableName'].values[0]\n",
    "print (d)\n",
    "FileName = ('AppData_{}_{}'.format(f,g))\n",
    "\n",
    "fig = px.scatter(dfappdata0125, x = 'TodaysDate', y='RecordCount', size = 'RecordCount', color = 'RecordCount', title = '{0},{1},{2}'.format(e,f,g))\n",
    "#fig.update_layout(title='Risk Assessment: Table activity recorded',\n",
    "fig.update_layout(yaxis_zeroline=False, xaxis_zeroline=False)\n",
    "fig.update_xaxes(title_font=dict(size=18, color='crimson'))\n",
    "fig.update_yaxes(title_font=dict(size=18, color='crimson'))\n",
    "fig.update_xaxes(ticks=\"inside\")\n",
    "fig.update_yaxes(ticks=\"inside\")\n",
    "fig.update_xaxes(tickangle=45, tickfont=dict(color='crimson', size=14))\n",
    "fig.update_xaxes(showline=True, linewidth=2, linecolor='black', mirror=True, gridcolor='Pink')\n",
    "fig.update_yaxes(showline=True, linewidth=2, linecolor='black', mirror=True, gridcolor='Red')\n",
    "#fig.show()\n",
    "fig.write_html(r'C:\\Users\\eeeeeeeeee\\Documents\\JupyterAnacondaPythonNotebooks\\Daily\\Charts_px\\ApplicationData\\{}.html'.format(FileName)) #interactive_appdata_FACT_Enrollment_file.html')\n",
    "plt.close()"
   ]
  },
  {
   "cell_type": "code",
   "execution_count": 355,
   "metadata": {},
   "outputs": [
    {
     "name": "stdout",
     "output_type": "stream",
     "text": [
      "         DatabaseName      SchemaName               TableName\n",
      "8184  ApplicationData  StudentProfile  FACT_EnrollmentHistory\n"
     ]
    }
   ],
   "source": [
    "d = dfappdata0126[['DatabaseName', 'SchemaName','TableName']]\n",
    "d = d.drop_duplicates()\n",
    "e = d['DatabaseName'].values[0]\n",
    "f = d['SchemaName'].values[0]\n",
    "g = d['TableName'].values[0]\n",
    "print (d)\n",
    "FileName = ('AppData_{}_{}'.format(f,g))\n",
    "\n",
    "fig = px.scatter(dfappdata0126, x = 'TodaysDate', y='RecordCount', size = 'RecordCount', color = 'RecordCount', title = '{0},{1},{2}'.format(e,f,g))\n",
    "#fig.update_layout(title='Risk Assessment: Table activity recorded',\n",
    "fig.update_layout(yaxis_zeroline=False, xaxis_zeroline=False)\n",
    "fig.update_xaxes(title_font=dict(size=18, color='crimson'))\n",
    "fig.update_yaxes(title_font=dict(size=18, color='crimson'))\n",
    "fig.update_xaxes(ticks=\"inside\")\n",
    "fig.update_yaxes(ticks=\"inside\")\n",
    "fig.update_xaxes(tickangle=45, tickfont=dict(color='crimson', size=14))\n",
    "fig.update_xaxes(showline=True, linewidth=2, linecolor='black', mirror=True, gridcolor='Pink')\n",
    "fig.update_yaxes(showline=True, linewidth=2, linecolor='black', mirror=True, gridcolor='Red')\n",
    "#fig.show()\n",
    "fig.write_html(r'C:\\Users\\eeeeeeeeee\\Documents\\JupyterAnacondaPythonNotebooks\\Daily\\Charts_px\\ApplicationData\\{}.html'.format(FileName)) #interactive_appdata_FACT_EnrollmentHistory_file.html')\n",
    "plt.close()"
   ]
  },
  {
   "cell_type": "code",
   "execution_count": 356,
   "metadata": {},
   "outputs": [
    {
     "name": "stdout",
     "output_type": "stream",
     "text": [
      "         DatabaseName      SchemaName  TableName\n",
      "8277  ApplicationData  StudentProfile  FACT_Fees\n"
     ]
    }
   ],
   "source": [
    "d = dfappdata0127[['DatabaseName', 'SchemaName','TableName']]\n",
    "d = d.drop_duplicates()\n",
    "e = d['DatabaseName'].values[0]\n",
    "f = d['SchemaName'].values[0]\n",
    "g = d['TableName'].values[0]\n",
    "print (d)\n",
    "FileName = ('AppData_{}_{}'.format(f,g))\n",
    "\n",
    "fig = px.scatter(dfappdata0127, x = 'TodaysDate', y='RecordCount', size = 'RecordCount', color = 'RecordCount', title = '{0},{1},{2}'.format(e,f,g))\n",
    "#fig.update_layout(title='Risk Assessment: Table activity recorded',\n",
    "fig.update_layout(yaxis_zeroline=False, xaxis_zeroline=False)\n",
    "fig.update_xaxes(title_font=dict(size=18, color='crimson'))\n",
    "fig.update_yaxes(title_font=dict(size=18, color='crimson'))\n",
    "fig.update_xaxes(ticks=\"inside\")\n",
    "fig.update_yaxes(ticks=\"inside\")\n",
    "fig.update_xaxes(tickangle=45, tickfont=dict(color='crimson', size=14))\n",
    "fig.update_xaxes(showline=True, linewidth=2, linecolor='black', mirror=True, gridcolor='Pink')\n",
    "fig.update_yaxes(showline=True, linewidth=2, linecolor='black', mirror=True, gridcolor='Red')\n",
    "#fig.show()\n",
    "fig.write_html(r'C:\\Users\\eeeeeeeeee\\Documents\\JupyterAnacondaPythonNotebooks\\Daily\\Charts_px\\ApplicationData\\{}.html'.format(FileName)) #interactive_appdata_FACT_Fees_file.html')\n",
    "plt.close()"
   ]
  },
  {
   "cell_type": "code",
   "execution_count": 357,
   "metadata": {},
   "outputs": [
    {
     "name": "stdout",
     "output_type": "stream",
     "text": [
      "         DatabaseName      SchemaName                  TableName\n",
      "8370  ApplicationData  StudentProfile  FACT_GraduationAssessment\n"
     ]
    }
   ],
   "source": [
    "d = dfappdata0128[['DatabaseName', 'SchemaName','TableName']]\n",
    "d = d.drop_duplicates()\n",
    "e = d['DatabaseName'].values[0]\n",
    "f = d['SchemaName'].values[0]\n",
    "g = d['TableName'].values[0]\n",
    "print (d)\n",
    "FileName = ('AppData_{}_{}'.format(f,g))\n",
    "\n",
    "fig = px.scatter(dfappdata0128, x = 'TodaysDate', y='RecordCount', size = 'RecordCount', color = 'RecordCount', title = '{0},{1},{2}'.format(e,f,g))\n",
    "#fig.update_layout(title='Risk Assessment: Table activity recorded',\n",
    "fig.update_layout(yaxis_zeroline=False, xaxis_zeroline=False)\n",
    "fig.update_xaxes(title_font=dict(size=18, color='crimson'))\n",
    "fig.update_yaxes(title_font=dict(size=18, color='crimson'))\n",
    "fig.update_xaxes(ticks=\"inside\")\n",
    "fig.update_yaxes(ticks=\"inside\")\n",
    "fig.update_xaxes(tickangle=45, tickfont=dict(color='crimson', size=14))\n",
    "fig.update_xaxes(showline=True, linewidth=2, linecolor='black', mirror=True, gridcolor='Pink')\n",
    "fig.update_yaxes(showline=True, linewidth=2, linecolor='black', mirror=True, gridcolor='Red')\n",
    "#fig.show()\n",
    "fig.write_html(r'C:\\Users\\eeeeeeeeee\\Documents\\JupyterAnacondaPythonNotebooks\\Daily\\Charts_px\\ApplicationData\\{}.html'.format(FileName)) #interactive_appdata_FACT_GraduationAssessment_file.html')\n",
    "plt.close()"
   ]
  },
  {
   "cell_type": "code",
   "execution_count": 358,
   "metadata": {},
   "outputs": [
    {
     "name": "stdout",
     "output_type": "stream",
     "text": [
      "         DatabaseName      SchemaName      TableName\n",
      "8463  ApplicationData  StudentProfile  FACT_Guardian\n"
     ]
    }
   ],
   "source": [
    "d = dfappdata0129[['DatabaseName', 'SchemaName','TableName']]\n",
    "d = d.drop_duplicates()\n",
    "e = d['DatabaseName'].values[0]\n",
    "f = d['SchemaName'].values[0]\n",
    "g = d['TableName'].values[0]\n",
    "print (d)\n",
    "FileName = ('AppData_{}_{}'.format(f,g))\n",
    "\n",
    "fig = px.scatter(dfappdata0129, x = 'TodaysDate', y='RecordCount', size = 'RecordCount', color = 'RecordCount', title = '{0},{1},{2}'.format(e,f,g))\n",
    "#fig.update_layout(title='Risk Assessment: Table activity recorded',\n",
    "fig.update_layout(yaxis_zeroline=False, xaxis_zeroline=False)\n",
    "fig.update_xaxes(title_font=dict(size=18, color='crimson'))\n",
    "fig.update_yaxes(title_font=dict(size=18, color='crimson'))\n",
    "fig.update_xaxes(ticks=\"inside\")\n",
    "fig.update_yaxes(ticks=\"inside\")\n",
    "fig.update_xaxes(tickangle=45, tickfont=dict(color='crimson', size=14))\n",
    "fig.update_xaxes(showline=True, linewidth=2, linecolor='black', mirror=True, gridcolor='Pink')\n",
    "fig.update_yaxes(showline=True, linewidth=2, linecolor='black', mirror=True, gridcolor='Red')\n",
    "#fig.show()\n",
    "fig.write_html(r'C:\\Users\\eeeeeeeeee\\Documents\\JupyterAnacondaPythonNotebooks\\Daily\\Charts_px\\ApplicationData\\{}.html'.format(FileName)) #interactive_appdata_FACT_Guardian_file.html')\n",
    "plt.close()"
   ]
  },
  {
   "cell_type": "code",
   "execution_count": 359,
   "metadata": {},
   "outputs": [
    {
     "name": "stdout",
     "output_type": "stream",
     "text": [
      "         DatabaseName      SchemaName       TableName\n",
      "8556  ApplicationData  StudentProfile  FACT_IEPExport\n"
     ]
    }
   ],
   "source": [
    "d = dfappdata0130[['DatabaseName', 'SchemaName','TableName']]\n",
    "d = d.drop_duplicates()\n",
    "e = d['DatabaseName'].values[0]\n",
    "f = d['SchemaName'].values[0]\n",
    "g = d['TableName'].values[0]\n",
    "print (d)\n",
    "FileName = ('AppData_{}_{}'.format(f,g))\n",
    "\n",
    "fig = px.scatter(dfappdata0130, x = 'TodaysDate', y='RecordCount', size = 'RecordCount', color = 'RecordCount', title = '{0},{1},{2}'.format(e,f,g))\n",
    "#fig.update_layout(title='Risk Assessment: Table activity recorded',\n",
    "fig.update_layout(yaxis_zeroline=False, xaxis_zeroline=False)\n",
    "fig.update_xaxes(title_font=dict(size=18, color='crimson'))\n",
    "fig.update_yaxes(title_font=dict(size=18, color='crimson'))\n",
    "fig.update_xaxes(ticks=\"inside\")\n",
    "fig.update_yaxes(ticks=\"inside\")\n",
    "fig.update_xaxes(tickangle=45, tickfont=dict(color='crimson', size=14))\n",
    "fig.update_xaxes(showline=True, linewidth=2, linecolor='black', mirror=True, gridcolor='Pink')\n",
    "fig.update_yaxes(showline=True, linewidth=2, linecolor='black', mirror=True, gridcolor='Red')\n",
    "#fig.show()\n",
    "fig.write_html(r'C:\\Users\\eeeeeeeeee\\Documents\\JupyterAnacondaPythonNotebooks\\Daily\\Charts_px\\ApplicationData\\{}.html'.format(FileName)) #interactive_appdata_FACT_IEPExport_file.html')\n",
    "plt.close()"
   ]
  },
  {
   "cell_type": "code",
   "execution_count": 360,
   "metadata": {},
   "outputs": [
    {
     "name": "stdout",
     "output_type": "stream",
     "text": [
      "         DatabaseName      SchemaName          TableName\n",
      "8649  ApplicationData  StudentProfile  FACT_MedicalAlert\n"
     ]
    }
   ],
   "source": [
    "d = dfappdata0131[['DatabaseName', 'SchemaName','TableName']]\n",
    "d = d.drop_duplicates()\n",
    "e = d['DatabaseName'].values[0]\n",
    "f = d['SchemaName'].values[0]\n",
    "g = d['TableName'].values[0]\n",
    "print (d)\n",
    "FileName = ('AppData_{}_{}'.format(f,g))\n",
    "\n",
    "fig = px.scatter(dfappdata0131, x = 'TodaysDate', y='RecordCount', size = 'RecordCount', color = 'RecordCount', title = '{0},{1},{2}'.format(e,f,g))\n",
    "#fig.update_layout(title='Risk Assessment: Table activity recorded',\n",
    "fig.update_layout(yaxis_zeroline=False, xaxis_zeroline=False)\n",
    "fig.update_xaxes(title_font=dict(size=18, color='crimson'))\n",
    "fig.update_yaxes(title_font=dict(size=18, color='crimson'))\n",
    "fig.update_xaxes(ticks=\"inside\")\n",
    "fig.update_yaxes(ticks=\"inside\")\n",
    "fig.update_xaxes(tickangle=45, tickfont=dict(color='crimson', size=14))\n",
    "fig.update_xaxes(showline=True, linewidth=2, linecolor='black', mirror=True, gridcolor='Pink')\n",
    "fig.update_yaxes(showline=True, linewidth=2, linecolor='black', mirror=True, gridcolor='Red')\n",
    "#fig.show()\n",
    "fig.write_html(r'C:\\Users\\eeeeeeeeee\\Documents\\JupyterAnacondaPythonNotebooks\\Daily\\Charts_px\\ApplicationData\\{}.html'.format(FileName)) #interactive_appdata_FACT_MedicalAlert_file.html')\n",
    "plt.close()"
   ]
  },
  {
   "cell_type": "code",
   "execution_count": 361,
   "metadata": {},
   "outputs": [
    {
     "name": "stdout",
     "output_type": "stream",
     "text": [
      "         DatabaseName      SchemaName               TableName\n",
      "8742  ApplicationData  StudentProfile  FACT_PPortal_LastLogin\n"
     ]
    }
   ],
   "source": [
    "d = dfappdata0132[['DatabaseName', 'SchemaName','TableName']]\n",
    "d = d.drop_duplicates()\n",
    "e = d['DatabaseName'].values[0]\n",
    "f = d['SchemaName'].values[0]\n",
    "g = d['TableName'].values[0]\n",
    "print (d)\n",
    "FileName = ('AppData_{}_{}'.format(f,g))\n",
    "\n",
    "fig = px.scatter(dfappdata0132, x = 'TodaysDate', y='RecordCount', size = 'RecordCount', color = 'RecordCount', title = '{0},{1},{2}'.format(e,f,g))\n",
    "#fig.update_layout(title='Risk Assessment: Table activity recorded',\n",
    "fig.update_layout(yaxis_zeroline=False, xaxis_zeroline=False)\n",
    "fig.update_xaxes(title_font=dict(size=18, color='crimson'))\n",
    "fig.update_yaxes(title_font=dict(size=18, color='crimson'))\n",
    "fig.update_xaxes(ticks=\"inside\")\n",
    "fig.update_yaxes(ticks=\"inside\")\n",
    "fig.update_xaxes(tickangle=45, tickfont=dict(color='crimson', size=14))\n",
    "fig.update_xaxes(showline=True, linewidth=2, linecolor='black', mirror=True, gridcolor='Pink')\n",
    "fig.update_yaxes(showline=True, linewidth=2, linecolor='black', mirror=True, gridcolor='Red')\n",
    "#fig.show()\n",
    "fig.write_html(r'C:\\Users\\eeeeeeeeee\\Documents\\JupyterAnacondaPythonNotebooks\\Daily\\Charts_px\\ApplicationData\\{}.html'.format(FileName)) #interactive_appdata_FACT_PPortal_LastLogin_file.html')\n",
    "plt.close()"
   ]
  },
  {
   "cell_type": "code",
   "execution_count": 362,
   "metadata": {},
   "outputs": [
    {
     "name": "stdout",
     "output_type": "stream",
     "text": [
      "         DatabaseName      SchemaName TableName\n",
      "8835  ApplicationData  StudentProfile  FACT_SEI\n"
     ]
    }
   ],
   "source": [
    "d = dfappdata0133[['DatabaseName', 'SchemaName','TableName']]\n",
    "d = d.drop_duplicates()\n",
    "e = d['DatabaseName'].values[0]\n",
    "f = d['SchemaName'].values[0]\n",
    "g = d['TableName'].values[0]\n",
    "print (d)\n",
    "FileName = ('AppData_{}_{}'.format(f,g))\n",
    "\n",
    "fig = px.scatter(dfappdata0133, x = 'TodaysDate', y='RecordCount', size = 'RecordCount', color = 'RecordCount', title = '{0},{1},{2}'.format(e,f,g))\n",
    "#fig.update_layout(title='Risk Assessment: Table activity recorded',\n",
    "fig.update_layout(yaxis_zeroline=False, xaxis_zeroline=False)\n",
    "fig.update_xaxes(title_font=dict(size=18, color='crimson'))\n",
    "fig.update_yaxes(title_font=dict(size=18, color='crimson'))\n",
    "fig.update_xaxes(ticks=\"inside\")\n",
    "fig.update_yaxes(ticks=\"inside\")\n",
    "fig.update_xaxes(tickangle=45, tickfont=dict(color='crimson', size=14))\n",
    "fig.update_xaxes(showline=True, linewidth=2, linecolor='black', mirror=True, gridcolor='Pink')\n",
    "fig.update_yaxes(showline=True, linewidth=2, linecolor='black', mirror=True, gridcolor='Red')\n",
    "#fig.show()\n",
    "fig.write_html(r'C:\\Users\\eeeeeeeeee\\Documents\\JupyterAnacondaPythonNotebooks\\Daily\\Charts_px\\ApplicationData\\{}.html'.format(FileName)) #interactive_appdata_FACT_SEI_file.html')\n",
    "plt.close()"
   ]
  },
  {
   "cell_type": "code",
   "execution_count": 363,
   "metadata": {},
   "outputs": [
    {
     "name": "stdout",
     "output_type": "stream",
     "text": [
      "         DatabaseName      SchemaName                         TableName\n",
      "9114  ApplicationData  StudentProfile  FACT_ServiceProgramParticipation\n"
     ]
    }
   ],
   "source": [
    "d = dfappdata0134[['DatabaseName', 'SchemaName','TableName']]\n",
    "d = d.drop_duplicates()\n",
    "e = d['DatabaseName'].values[0]\n",
    "f = d['SchemaName'].values[0]\n",
    "g = d['TableName'].values[0]\n",
    "print (d)\n",
    "FileName = ('AppData_{}_{}'.format(f,g))\n",
    "\n",
    "fig = px.scatter(dfappdata0134, x = 'TodaysDate', y='RecordCount', size = 'RecordCount', color = 'RecordCount', title = '{0},{1},{2}'.format(e,f,g))\n",
    "#fig.update_layout(title='Risk Assessment: Table activity recorded',\n",
    "fig.update_layout(yaxis_zeroline=False, xaxis_zeroline=False)\n",
    "fig.update_xaxes(title_font=dict(size=18, color='crimson'))\n",
    "fig.update_yaxes(title_font=dict(size=18, color='crimson'))\n",
    "fig.update_xaxes(ticks=\"inside\")\n",
    "fig.update_yaxes(ticks=\"inside\")\n",
    "fig.update_xaxes(tickangle=45, tickfont=dict(color='crimson', size=14))\n",
    "fig.update_xaxes(showline=True, linewidth=2, linecolor='black', mirror=True, gridcolor='Pink')\n",
    "fig.update_yaxes(showline=True, linewidth=2, linecolor='black', mirror=True, gridcolor='Red')\n",
    "#fig.show()\n",
    "fig.write_html(r'C:\\Users\\eeeeeeeeee\\Documents\\JupyterAnacondaPythonNotebooks\\Daily\\Charts_px\\ApplicationData\\{}.html'.format(FileName)) #interactive_appdata_FACT_ServiceProgramParticipation_file.html')\n",
    "plt.close()"
   ]
  },
  {
   "cell_type": "code",
   "execution_count": 364,
   "metadata": {},
   "outputs": [
    {
     "name": "stdout",
     "output_type": "stream",
     "text": [
      "         DatabaseName      SchemaName        TableName\n",
      "8928  ApplicationData  StudentProfile  FACT_SPG_Export\n"
     ]
    }
   ],
   "source": [
    "d = dfappdata0135[['DatabaseName', 'SchemaName','TableName']]\n",
    "d = d.drop_duplicates()\n",
    "e = d['DatabaseName'].values[0]\n",
    "f = d['SchemaName'].values[0]\n",
    "g = d['TableName'].values[0]\n",
    "print (d)\n",
    "FileName = ('AppData_{}_{}'.format(f,g))\n",
    "\n",
    "fig = px.scatter(dfappdata0135, x = 'TodaysDate', y='RecordCount', size = 'RecordCount', color = 'RecordCount', title = '{0},{1},{2}'.format(e,f,g))\n",
    "#fig.update_layout(title='Risk Assessment: Table activity recorded',\n",
    "fig.update_layout(yaxis_zeroline=False, xaxis_zeroline=False)\n",
    "fig.update_xaxes(title_font=dict(size=18, color='crimson'))\n",
    "fig.update_yaxes(title_font=dict(size=18, color='crimson'))\n",
    "fig.update_xaxes(ticks=\"inside\")\n",
    "fig.update_yaxes(ticks=\"inside\")\n",
    "fig.update_xaxes(tickangle=45, tickfont=dict(color='crimson', size=14))\n",
    "fig.update_xaxes(showline=True, linewidth=2, linecolor='black', mirror=True, gridcolor='Pink')\n",
    "fig.update_yaxes(showline=True, linewidth=2, linecolor='black', mirror=True, gridcolor='Red')\n",
    "#fig.show()\n",
    "fig.write_html(r'C:\\Users\\eeeeeeeeee\\Documents\\JupyterAnacondaPythonNotebooks\\Daily\\Charts_px\\ApplicationData\\{}.html'.format(FileName)) #interactive_appdata_FACT_SPG_Export_file.html')\n",
    "plt.close()"
   ]
  },
  {
   "cell_type": "code",
   "execution_count": 365,
   "metadata": {},
   "outputs": [
    {
     "name": "stdout",
     "output_type": "stream",
     "text": [
      "         DatabaseName      SchemaName               TableName\n",
      "9021  ApplicationData  StudentProfile  FACT_SPortal_LastLogin\n"
     ]
    }
   ],
   "source": [
    "d = dfappdata0136[['DatabaseName', 'SchemaName','TableName']]\n",
    "d = d.drop_duplicates()\n",
    "e = d['DatabaseName'].values[0]\n",
    "f = d['SchemaName'].values[0]\n",
    "g = d['TableName'].values[0]\n",
    "print (d)\n",
    "FileName = ('AppData_{}_{}'.format(f,g))\n",
    "\n",
    "fig = px.scatter(dfappdata0136, x = 'TodaysDate', y='RecordCount', size = 'RecordCount', color = 'RecordCount', title = '{0},{1},{2}'.format(e,f,g))\n",
    "#fig.update_layout(title='Risk Assessment: Table activity recorded',\n",
    "fig.update_layout(yaxis_zeroline=False, xaxis_zeroline=False)\n",
    "fig.update_xaxes(title_font=dict(size=18, color='crimson'))\n",
    "fig.update_yaxes(title_font=dict(size=18, color='crimson'))\n",
    "fig.update_xaxes(ticks=\"inside\")\n",
    "fig.update_yaxes(ticks=\"inside\")\n",
    "fig.update_xaxes(tickangle=45, tickfont=dict(color='crimson', size=14))\n",
    "fig.update_xaxes(showline=True, linewidth=2, linecolor='black', mirror=True, gridcolor='Pink')\n",
    "fig.update_yaxes(showline=True, linewidth=2, linecolor='black', mirror=True, gridcolor='Red')\n",
    "#fig.show()\n",
    "fig.write_html(r'C:\\Users\\eeeeeeeeee\\Documents\\JupyterAnacondaPythonNotebooks\\Daily\\Charts_px\\ApplicationData\\{}.html'.format(FileName)) #interactive_appdata_FACT_SPortal_FACT_SPortal_LastLogin_file.html')\n",
    "plt.close()"
   ]
  },
  {
   "cell_type": "code",
   "execution_count": 366,
   "metadata": {},
   "outputs": [
    {
     "name": "stdout",
     "output_type": "stream",
     "text": [
      "         DatabaseName      SchemaName                    TableName\n",
      "9300  ApplicationData  StudentProfile  FACT_StudentAssignmentScore\n"
     ]
    }
   ],
   "source": [
    "d = dfappdata0137[['DatabaseName', 'SchemaName','TableName']]\n",
    "d = d.drop_duplicates()\n",
    "e = d['DatabaseName'].values[0]\n",
    "f = d['SchemaName'].values[0]\n",
    "g = d['TableName'].values[0]\n",
    "print (d)\n",
    "FileName = ('AppData_{}_{}'.format(f,g))\n",
    "\n",
    "fig = px.scatter(dfappdata0137, x = 'TodaysDate', y='RecordCount', size = 'RecordCount', color = 'RecordCount', title = '{0},{1},{2}'.format(e,f,g))\n",
    "#fig.update_layout(title='Risk Assessment: Table activity recorded',\n",
    "fig.update_layout(yaxis_zeroline=False, xaxis_zeroline=False)\n",
    "fig.update_xaxes(title_font=dict(size=18, color='crimson'))\n",
    "fig.update_yaxes(title_font=dict(size=18, color='crimson'))\n",
    "fig.update_xaxes(ticks=\"inside\")\n",
    "fig.update_yaxes(ticks=\"inside\")\n",
    "fig.update_xaxes(tickangle=45, tickfont=dict(color='crimson', size=14))\n",
    "fig.update_xaxes(showline=True, linewidth=2, linecolor='black', mirror=True, gridcolor='Pink')\n",
    "fig.update_yaxes(showline=True, linewidth=2, linecolor='black', mirror=True, gridcolor='Red')\n",
    "#fig.show()\n",
    "fig.write_html(r'C:\\Users\\eeeeeeeeee\\Documents\\JupyterAnacondaPythonNotebooks\\Daily\\Charts_px\\ApplicationData\\{}.html'.format(FileName)) #interactive_appdata_FACT_StudentAssignmentScore_file.html')\n",
    "plt.close()"
   ]
  },
  {
   "cell_type": "code",
   "execution_count": 367,
   "metadata": {},
   "outputs": [
    {
     "name": "stdout",
     "output_type": "stream",
     "text": [
      "         DatabaseName      SchemaName          TableName\n",
      "9393  ApplicationData  StudentProfile  FACT_StudentClass\n"
     ]
    }
   ],
   "source": [
    "d = dfappdata0138[['DatabaseName', 'SchemaName','TableName']]\n",
    "d = d.drop_duplicates()\n",
    "e = d['DatabaseName'].values[0]\n",
    "f = d['SchemaName'].values[0]\n",
    "g = d['TableName'].values[0]\n",
    "print (d)\n",
    "FileName = ('AppData_{}_{}'.format(f,g))\n",
    "\n",
    "fig = px.scatter(dfappdata0138, x = 'TodaysDate', y='RecordCount', size = 'RecordCount', color = 'RecordCount', title = '{0},{1},{2}'.format(e,f,g))\n",
    "#fig.update_layout(title='Risk Assessment: Table activity recorded',\n",
    "fig.update_layout(yaxis_zeroline=False, xaxis_zeroline=False)\n",
    "fig.update_xaxes(title_font=dict(size=18, color='crimson'))\n",
    "fig.update_yaxes(title_font=dict(size=18, color='crimson'))\n",
    "fig.update_xaxes(ticks=\"inside\")\n",
    "fig.update_yaxes(ticks=\"inside\")\n",
    "fig.update_xaxes(tickangle=45, tickfont=dict(color='crimson', size=14))\n",
    "fig.update_xaxes(showline=True, linewidth=2, linecolor='black', mirror=True, gridcolor='Pink')\n",
    "fig.update_yaxes(showline=True, linewidth=2, linecolor='black', mirror=True, gridcolor='Red')\n",
    "#fig.show()\n",
    "fig.write_html(r'C:\\Users\\eeeeeeeeee\\Documents\\JupyterAnacondaPythonNotebooks\\Daily\\Charts_px\\ApplicationData\\{}.html'.format(FileName)) #interactive_appdata_FACT_StudentClass_file.html')\n",
    "plt.close()"
   ]
  },
  {
   "cell_type": "code",
   "execution_count": 368,
   "metadata": {},
   "outputs": [
    {
     "name": "stdout",
     "output_type": "stream",
     "text": [
      "         DatabaseName      SchemaName                 TableName\n",
      "9486  ApplicationData  StudentProfile  FACT_StudentClassMetrics\n"
     ]
    }
   ],
   "source": [
    "d = dfappdata0139[['DatabaseName', 'SchemaName','TableName']]\n",
    "d = d.drop_duplicates()\n",
    "e = d['DatabaseName'].values[0]\n",
    "f = d['SchemaName'].values[0]\n",
    "g = d['TableName'].values[0]\n",
    "print (d)\n",
    "FileName = ('AppData_{}_{}'.format(f,g))\n",
    "\n",
    "fig = px.scatter(dfappdata0139, x = 'TodaysDate', y='RecordCount', size = 'RecordCount', color = 'RecordCount', title = '{0},{1},{2}'.format(e,f,g))\n",
    "#fig.update_layout(title='Risk Assessment: Table activity recorded',\n",
    "fig.update_layout(yaxis_zeroline=False, xaxis_zeroline=False)\n",
    "fig.update_xaxes(title_font=dict(size=18, color='crimson'))\n",
    "fig.update_yaxes(title_font=dict(size=18, color='crimson'))\n",
    "fig.update_xaxes(ticks=\"inside\")\n",
    "fig.update_yaxes(ticks=\"inside\")\n",
    "fig.update_xaxes(tickangle=45, tickfont=dict(color='crimson', size=14))\n",
    "fig.update_xaxes(showline=True, linewidth=2, linecolor='black', mirror=True, gridcolor='Pink')\n",
    "fig.update_yaxes(showline=True, linewidth=2, linecolor='black', mirror=True, gridcolor='Red')\n",
    "#fig.show()\n",
    "fig.write_html(r'C:\\Users\\eeeeeeeeee\\Documents\\JupyterAnacondaPythonNotebooks\\Daily\\Charts_px\\ApplicationData\\{}.html'.format(FileName)) #interactive_appdata_FACT_StudentClassMetrics_file.html')\n",
    "plt.close()"
   ]
  },
  {
   "cell_type": "code",
   "execution_count": 369,
   "metadata": {},
   "outputs": [
    {
     "name": "stdout",
     "output_type": "stream",
     "text": [
      "         DatabaseName      SchemaName               TableName\n",
      "9579  ApplicationData  StudentProfile  FACT_StudentClassScore\n"
     ]
    }
   ],
   "source": [
    "d = dfappdata0140[['DatabaseName', 'SchemaName','TableName']]\n",
    "d = d.drop_duplicates()\n",
    "e = d['DatabaseName'].values[0]\n",
    "f = d['SchemaName'].values[0]\n",
    "g = d['TableName'].values[0]\n",
    "print (d)\n",
    "FileName = ('AppData_{}_{}'.format(f,g))\n",
    "\n",
    "fig = px.scatter(dfappdata0140, x = 'TodaysDate', y='RecordCount', size = 'RecordCount', color = 'RecordCount', title = '{0},{1},{2}'.format(e,f,g))\n",
    "#fig.update_layout(title='Risk Assessment: Table activity recorded',\n",
    "fig.update_layout(yaxis_zeroline=False, xaxis_zeroline=False)\n",
    "fig.update_xaxes(title_font=dict(size=18, color='crimson'))\n",
    "fig.update_yaxes(title_font=dict(size=18, color='crimson'))\n",
    "fig.update_xaxes(ticks=\"inside\")\n",
    "fig.update_yaxes(ticks=\"inside\")\n",
    "fig.update_xaxes(tickangle=45, tickfont=dict(color='crimson', size=14))\n",
    "fig.update_xaxes(showline=True, linewidth=2, linecolor='black', mirror=True, gridcolor='Pink')\n",
    "fig.update_yaxes(showline=True, linewidth=2, linecolor='black', mirror=True, gridcolor='Red')\n",
    "#fig.show()\n",
    "fig.write_html(r'C:\\Users\\eeeeeeeeee\\Documents\\JupyterAnacondaPythonNotebooks\\Daily\\Charts_px\\ApplicationData\\{}.html'.format(FileName)) #interactive_appdata_FACT_StudentClassScore_file.html')\n",
    "plt.close()"
   ]
  },
  {
   "cell_type": "code",
   "execution_count": 370,
   "metadata": {},
   "outputs": [
    {
     "name": "stdout",
     "output_type": "stream",
     "text": [
      "         DatabaseName      SchemaName                         TableName\n",
      "9858  ApplicationData  StudentProfile  FACT_StudentEngagementInstrument\n"
     ]
    }
   ],
   "source": [
    "d = dfappdata0141[['DatabaseName', 'SchemaName','TableName']]\n",
    "d = d.drop_duplicates()\n",
    "e = d['DatabaseName'].values[0]\n",
    "f = d['SchemaName'].values[0]\n",
    "g = d['TableName'].values[0]\n",
    "print (d)\n",
    "FileName = ('AppData_{}_{}'.format(f,g))\n",
    "\n",
    "fig = px.scatter(dfappdata0141, x = 'TodaysDate', y='RecordCount', size = 'RecordCount', color = 'RecordCount', title = '{0},{1},{2}'.format(e,f,g))\n",
    "#fig.update_layout(title='Risk Assessment: Table activity recorded',\n",
    "fig.update_layout(yaxis_zeroline=False, xaxis_zeroline=False)\n",
    "fig.update_xaxes(title_font=dict(size=18, color='crimson'))\n",
    "fig.update_yaxes(title_font=dict(size=18, color='crimson'))\n",
    "fig.update_xaxes(ticks=\"inside\")\n",
    "fig.update_yaxes(ticks=\"inside\")\n",
    "fig.update_xaxes(tickangle=45, tickfont=dict(color='crimson', size=14))\n",
    "fig.update_xaxes(showline=True, linewidth=2, linecolor='black', mirror=True, gridcolor='Pink')\n",
    "fig.update_yaxes(showline=True, linewidth=2, linecolor='black', mirror=True, gridcolor='Red')\n",
    "#fig.show()\n",
    "fig.write_html(r'C:\\Users\\eeeeeeeeee\\Documents\\JupyterAnacondaPythonNotebooks\\Daily\\Charts_px\\ApplicationData\\{}.html'.format(FileName)) #interactive_appdata_FACT_StudentEngagementInstrument_file.html')\n",
    "plt.close()"
   ]
  },
  {
   "cell_type": "code",
   "execution_count": 371,
   "metadata": {},
   "outputs": [
    {
     "name": "stdout",
     "output_type": "stream",
     "text": [
      "         DatabaseName      SchemaName                      TableName\n",
      "9951  ApplicationData  StudentProfile  FACT_StudentEnrollmentPeriods\n"
     ]
    }
   ],
   "source": [
    "d = dfappdata0142[['DatabaseName', 'SchemaName','TableName']]\n",
    "d = d.drop_duplicates()\n",
    "e = d['DatabaseName'].values[0]\n",
    "f = d['SchemaName'].values[0]\n",
    "g = d['TableName'].values[0]\n",
    "print (d)\n",
    "FileName = ('AppData_{}_{}'.format(f,g))\n",
    "\n",
    "fig = px.scatter(dfappdata0142, x = 'TodaysDate', y='RecordCount', size = 'RecordCount', color = 'RecordCount', title = '{0},{1},{2}'.format(e,f,g))\n",
    "#fig.update_layout(title='Risk Assessment: Table activity recorded',\n",
    "fig.update_layout(yaxis_zeroline=False, xaxis_zeroline=False)\n",
    "fig.update_xaxes(title_font=dict(size=18, color='crimson'))\n",
    "fig.update_yaxes(title_font=dict(size=18, color='crimson'))\n",
    "fig.update_xaxes(ticks=\"inside\")\n",
    "fig.update_yaxes(ticks=\"inside\")\n",
    "fig.update_xaxes(tickangle=45, tickfont=dict(color='crimson', size=14))\n",
    "fig.update_xaxes(showline=True, linewidth=2, linecolor='black', mirror=True, gridcolor='Pink')\n",
    "fig.update_yaxes(showline=True, linewidth=2, linecolor='black', mirror=True, gridcolor='Red')\n",
    "#fig.show()\n",
    "fig.write_html(r'C:\\Users\\eeeeeeeeee\\Documents\\JupyterAnacondaPythonNotebooks\\Daily\\Charts_px\\ApplicationData\\{}.html'.format(FileName)) #interactive_appdata_FACT_StudentEnrollmentPeriods_file.html')\n",
    "plt.close()"
   ]
  },
  {
   "cell_type": "code",
   "execution_count": 372,
   "metadata": {},
   "outputs": [
    {
     "name": "stdout",
     "output_type": "stream",
     "text": [
      "          DatabaseName      SchemaName             TableName\n",
      "10044  ApplicationData  StudentProfile  FACT_StudentMetaData\n"
     ]
    }
   ],
   "source": [
    "d = dfappdata0143[['DatabaseName', 'SchemaName','TableName']]\n",
    "d = d.drop_duplicates()\n",
    "e = d['DatabaseName'].values[0]\n",
    "f = d['SchemaName'].values[0]\n",
    "g = d['TableName'].values[0]\n",
    "print (d)\n",
    "FileName = ('AppData_{}_{}'.format(f,g))\n",
    "\n",
    "fig = px.scatter(dfappdata0143, x = 'TodaysDate', y='RecordCount', size = 'RecordCount', color = 'RecordCount', title = '{0},{1},{2}'.format(e,f,g))\n",
    "#fig.update_layout(title='Risk Assessment: Table activity recorded',\n",
    "fig.update_layout(yaxis_zeroline=False, xaxis_zeroline=False)\n",
    "fig.update_xaxes(title_font=dict(size=18, color='crimson'))\n",
    "fig.update_yaxes(title_font=dict(size=18, color='crimson'))\n",
    "fig.update_xaxes(ticks=\"inside\")\n",
    "fig.update_yaxes(ticks=\"inside\")\n",
    "fig.update_xaxes(tickangle=45, tickfont=dict(color='crimson', size=14))\n",
    "fig.update_xaxes(showline=True, linewidth=2, linecolor='black', mirror=True, gridcolor='Pink')\n",
    "fig.update_yaxes(showline=True, linewidth=2, linecolor='black', mirror=True, gridcolor='Red')\n",
    "#fig.show()\n",
    "fig.write_html(r'C:\\Users\\eeeeeeeeee\\Documents\\JupyterAnacondaPythonNotebooks\\Daily\\Charts_px\\ApplicationData\\{}.html'.format(FileName)) #interactive_appdata_FACT_StudentMetaData_file.html')\n",
    "plt.close()"
   ]
  },
  {
   "cell_type": "code",
   "execution_count": 373,
   "metadata": {},
   "outputs": [
    {
     "name": "stdout",
     "output_type": "stream",
     "text": [
      "          DatabaseName      SchemaName                  TableName\n",
      "10137  ApplicationData  StudentProfile  FACT_StudentRegisterDaily\n"
     ]
    }
   ],
   "source": [
    "d = dfappdata0144[['DatabaseName', 'SchemaName','TableName']]\n",
    "d = d.drop_duplicates()\n",
    "e = d['DatabaseName'].values[0]\n",
    "f = d['SchemaName'].values[0]\n",
    "g = d['TableName'].values[0]\n",
    "print (d)\n",
    "FileName = ('AppData_{}_{}'.format(f,g))\n",
    "\n",
    "fig = px.scatter(dfappdata0144, x = 'TodaysDate', y='RecordCount', size = 'RecordCount', color = 'RecordCount', title = '{0},{1},{2}'.format(e,f,g))\n",
    "#fig.update_layout(title='Risk Assessment: Table activity recorded',\n",
    "fig.update_layout(yaxis_zeroline=False, xaxis_zeroline=False)\n",
    "fig.update_xaxes(title_font=dict(size=18, color='crimson'))\n",
    "fig.update_yaxes(title_font=dict(size=18, color='crimson'))\n",
    "fig.update_xaxes(ticks=\"inside\")\n",
    "fig.update_yaxes(ticks=\"inside\")\n",
    "fig.update_xaxes(tickangle=45, tickfont=dict(color='crimson', size=14))\n",
    "fig.update_xaxes(showline=True, linewidth=2, linecolor='black', mirror=True, gridcolor='Pink')\n",
    "fig.update_yaxes(showline=True, linewidth=2, linecolor='black', mirror=True, gridcolor='Red')\n",
    "#fig.show()\n",
    "fig.write_html(r'C:\\Users\\eeeeeeeeee\\Documents\\JupyterAnacondaPythonNotebooks\\Daily\\Charts_px\\ApplicationData\\{}.html'.format(FileName)) #interactive_appdata_FACT_StudentRegisterDaily_file.html')\n",
    "plt.close()"
   ]
  },
  {
   "cell_type": "code",
   "execution_count": 374,
   "metadata": {},
   "outputs": [
    {
     "name": "stdout",
     "output_type": "stream",
     "text": [
      "          DatabaseName      SchemaName               TableName\n",
      "10230  ApplicationData  StudentProfile  FACT_StudentSchoolYear\n"
     ]
    }
   ],
   "source": [
    "d = dfappdata0145[['DatabaseName', 'SchemaName','TableName']]\n",
    "d = d.drop_duplicates()\n",
    "e = d['DatabaseName'].values[0]\n",
    "f = d['SchemaName'].values[0]\n",
    "g = d['TableName'].values[0]\n",
    "print (d)\n",
    "FileName = ('AppData_{}_{}'.format(f,g))\n",
    "\n",
    "fig = px.scatter(dfappdata0145, x = 'TodaysDate', y='RecordCount', size = 'RecordCount', color = 'RecordCount', title = '{0},{1},{2}'.format(e,f,g))\n",
    "#fig.update_layout(title='Risk Assessment: Table activity recorded',\n",
    "fig.update_layout(yaxis_zeroline=False, xaxis_zeroline=False)\n",
    "fig.update_xaxes(title_font=dict(size=18, color='crimson'))\n",
    "fig.update_yaxes(title_font=dict(size=18, color='crimson'))\n",
    "fig.update_xaxes(ticks=\"inside\")\n",
    "fig.update_yaxes(ticks=\"inside\")\n",
    "fig.update_xaxes(tickangle=45, tickfont=dict(color='crimson', size=14))\n",
    "fig.update_xaxes(showline=True, linewidth=2, linecolor='black', mirror=True, gridcolor='Pink')\n",
    "fig.update_yaxes(showline=True, linewidth=2, linecolor='black', mirror=True, gridcolor='Red')\n",
    "#fig.show()\n",
    "fig.write_html(r'C:\\Users\\eeeeeeeeee\\Documents\\JupyterAnacondaPythonNotebooks\\Daily\\Charts_px\\ApplicationData\\{}.html'.format(FileName)) #interactive_appdata_FACT_StudentSchoolYear_file.html')\n",
    "plt.close()"
   ]
  },
  {
   "cell_type": "code",
   "execution_count": 375,
   "metadata": {},
   "outputs": [
    {
     "name": "stdout",
     "output_type": "stream",
     "text": [
      "          DatabaseName      SchemaName            TableName\n",
      "10323  ApplicationData  StudentProfile  FACT_StudentSibling\n"
     ]
    }
   ],
   "source": [
    "d = dfappdata0146[['DatabaseName', 'SchemaName','TableName']]\n",
    "d = d.drop_duplicates()\n",
    "e = d['DatabaseName'].values[0]\n",
    "f = d['SchemaName'].values[0]\n",
    "g = d['TableName'].values[0]\n",
    "print (d)\n",
    "FileName = ('AppData_{}_{}'.format(f,g))\n",
    "\n",
    "fig = px.scatter(dfappdata0146, x = 'TodaysDate', y='RecordCount', size = 'RecordCount', color = 'RecordCount', title = '{0},{1},{2}'.format(e,f,g))\n",
    "#fig.update_layout(title='Risk Assessment: Table activity recorded',\n",
    "fig.update_layout(yaxis_zeroline=False, xaxis_zeroline=False)\n",
    "fig.update_xaxes(title_font=dict(size=18, color='crimson'))\n",
    "fig.update_yaxes(title_font=dict(size=18, color='crimson'))\n",
    "fig.update_xaxes(ticks=\"inside\")\n",
    "fig.update_yaxes(ticks=\"inside\")\n",
    "fig.update_xaxes(tickangle=45, tickfont=dict(color='crimson', size=14))\n",
    "fig.update_xaxes(showline=True, linewidth=2, linecolor='black', mirror=True, gridcolor='Pink')\n",
    "fig.update_yaxes(showline=True, linewidth=2, linecolor='black', mirror=True, gridcolor='Red')\n",
    "#fig.show()\n",
    "fig.write_html(r'C:\\Users\\eeeeeeeeee\\Documents\\JupyterAnacondaPythonNotebooks\\Daily\\Charts_px\\ApplicationData\\{}.html'.format(FileName)) #interactive_appdata_FACT_StudentSibling_file.html')\n",
    "plt.close()"
   ]
  },
  {
   "cell_type": "code",
   "execution_count": 376,
   "metadata": {},
   "outputs": [
    {
     "name": "stdout",
     "output_type": "stream",
     "text": [
      "          DatabaseName      SchemaName                   TableName\n",
      "10416  ApplicationData  StudentProfile  FACT_StudentTrendingGrades\n"
     ]
    }
   ],
   "source": [
    "d = dfappdata0147[['DatabaseName', 'SchemaName','TableName']]\n",
    "d = d.drop_duplicates()\n",
    "e = d['DatabaseName'].values[0]\n",
    "f = d['SchemaName'].values[0]\n",
    "g = d['TableName'].values[0]\n",
    "print (d)\n",
    "FileName = ('AppData_{}_{}'.format(f,g))\n",
    "\n",
    "fig = px.scatter(dfappdata0147, x = 'TodaysDate', y='RecordCount', size = 'RecordCount', color = 'RecordCount', title = '{0},{1},{2}'.format(e,f,g))\n",
    "#fig.update_layout(title='Risk Assessment: Table activity recorded',\n",
    "fig.update_layout(yaxis_zeroline=False, xaxis_zeroline=False)\n",
    "fig.update_xaxes(title_font=dict(size=18, color='crimson'))\n",
    "fig.update_yaxes(title_font=dict(size=18, color='crimson'))\n",
    "fig.update_xaxes(ticks=\"inside\")\n",
    "fig.update_yaxes(ticks=\"inside\")\n",
    "fig.update_xaxes(tickangle=45, tickfont=dict(color='crimson', size=14))\n",
    "fig.update_xaxes(showline=True, linewidth=2, linecolor='black', mirror=True, gridcolor='Pink')\n",
    "fig.update_yaxes(showline=True, linewidth=2, linecolor='black', mirror=True, gridcolor='Red')\n",
    "#fig.show()\n",
    "fig.write_html(r'C:\\Users\\eeeeeeeeee\\Documents\\JupyterAnacondaPythonNotebooks\\Daily\\Charts_px\\ApplicationData\\{}.html'.format(FileName)) #interactive_appdata_FACT_StudentTrendingGrades_file.html')\n",
    "plt.close()"
   ]
  },
  {
   "cell_type": "code",
   "execution_count": 377,
   "metadata": {},
   "outputs": [
    {
     "name": "stdout",
     "output_type": "stream",
     "text": [
      "          DatabaseName      SchemaName                            TableName\n",
      "10509  ApplicationData  StudentProfile  FACT_StudentTrendingGrades_20180101\n"
     ]
    }
   ],
   "source": [
    "d = dfappdata0148[['DatabaseName', 'SchemaName','TableName']]\n",
    "d = d.drop_duplicates()\n",
    "e = d['DatabaseName'].values[0]\n",
    "f = d['SchemaName'].values[0]\n",
    "g = d['TableName'].values[0]\n",
    "print (d)\n",
    "FileName = ('AppData_{}_{}'.format(f,g))\n",
    "\n",
    "fig = px.scatter(dfappdata0148, x = 'TodaysDate', y='RecordCount', size = 'RecordCount', color = 'RecordCount', title = '{0},{1},{2}'.format(e,f,g))\n",
    "#fig.update_layout(title='Risk Assessment: Table activity recorded',\n",
    "fig.update_layout(yaxis_zeroline=False, xaxis_zeroline=False)\n",
    "fig.update_xaxes(title_font=dict(size=18, color='crimson'))\n",
    "fig.update_yaxes(title_font=dict(size=18, color='crimson'))\n",
    "fig.update_xaxes(ticks=\"inside\")\n",
    "fig.update_yaxes(ticks=\"inside\")\n",
    "fig.update_xaxes(tickangle=45, tickfont=dict(color='crimson', size=14))\n",
    "fig.update_xaxes(showline=True, linewidth=2, linecolor='black', mirror=True, gridcolor='Pink')\n",
    "fig.update_yaxes(showline=True, linewidth=2, linecolor='black', mirror=True, gridcolor='Red')\n",
    "#fig.show()\n",
    "fig.write_html(r'C:\\Users\\eeeeeeeeee\\Documents\\JupyterAnacondaPythonNotebooks\\Daily\\Charts_px\\ApplicationData\\{}.html'.format(FileName)) #interactive_appdata_FACT_StudentTrendingGrades_20180101_file.html')\n",
    "plt.close()"
   ]
  },
  {
   "cell_type": "code",
   "execution_count": 378,
   "metadata": {},
   "outputs": [
    {
     "name": "stdout",
     "output_type": "stream",
     "text": [
      "          DatabaseName      SchemaName                            TableName\n",
      "10602  ApplicationData  StudentProfile  FACT_StudentTrendingGrades_20180328\n"
     ]
    }
   ],
   "source": [
    "d = dfappdata0149[['DatabaseName', 'SchemaName','TableName']]\n",
    "d = d.drop_duplicates()\n",
    "e = d['DatabaseName'].values[0]\n",
    "f = d['SchemaName'].values[0]\n",
    "g = d['TableName'].values[0]\n",
    "print (d)\n",
    "FileName = ('AppData_{}_{}'.format(f,g))\n",
    "\n",
    "fig = px.scatter(dfappdata0149, x = 'TodaysDate', y='RecordCount', size = 'RecordCount', color = 'RecordCount', title = '{0},{1},{2}'.format(e,f,g))\n",
    "#fig.update_layout(title='Risk Assessment: Table activity recorded',\n",
    "fig.update_layout(yaxis_zeroline=False, xaxis_zeroline=False)\n",
    "fig.update_xaxes(title_font=dict(size=18, color='crimson'))\n",
    "fig.update_yaxes(title_font=dict(size=18, color='crimson'))\n",
    "fig.update_xaxes(ticks=\"inside\")\n",
    "fig.update_yaxes(ticks=\"inside\")\n",
    "fig.update_xaxes(tickangle=45, tickfont=dict(color='crimson', size=14))\n",
    "fig.update_xaxes(showline=True, linewidth=2, linecolor='black', mirror=True, gridcolor='Pink')\n",
    "fig.update_yaxes(showline=True, linewidth=2, linecolor='black', mirror=True, gridcolor='Red')\n",
    "#fig.show()\n",
    "fig.write_html(r'C:\\Users\\eeeeeeeeee\\Documents\\JupyterAnacondaPythonNotebooks\\Daily\\Charts_px\\ApplicationData\\{}.html'.format(FileName)) #interactive_appdata_FACT_StudentTrendingGrades_20180328_file.html')\n",
    "plt.close()"
   ]
  },
  {
   "cell_type": "code",
   "execution_count": 379,
   "metadata": {},
   "outputs": [
    {
     "name": "stdout",
     "output_type": "stream",
     "text": [
      "          DatabaseName      SchemaName                       TableName\n",
      "10695  ApplicationData  StudentProfile  FACT_TeacherViewTrendingGrades\n"
     ]
    }
   ],
   "source": [
    "d = dfappdata0150[['DatabaseName', 'SchemaName','TableName']]\n",
    "d = d.drop_duplicates()\n",
    "e = d['DatabaseName'].values[0]\n",
    "f = d['SchemaName'].values[0]\n",
    "g = d['TableName'].values[0]\n",
    "print (d)\n",
    "FileName = ('AppData_{}_{}'.format(f,g))\n",
    "\n",
    "fig = px.scatter(dfappdata0150, x = 'TodaysDate', y='RecordCount', size = 'RecordCount', color = 'RecordCount', title = '{0},{1},{2}'.format(e,f,g))\n",
    "#fig.update_layout(title='Risk Assessment: Table activity recorded',\n",
    "fig.update_layout(yaxis_zeroline=False, xaxis_zeroline=False)\n",
    "fig.update_xaxes(title_font=dict(size=18, color='crimson'))\n",
    "fig.update_yaxes(title_font=dict(size=18, color='crimson'))\n",
    "fig.update_xaxes(ticks=\"inside\")\n",
    "fig.update_yaxes(ticks=\"inside\")\n",
    "fig.update_xaxes(tickangle=45, tickfont=dict(color='crimson', size=14))\n",
    "fig.update_xaxes(showline=True, linewidth=2, linecolor='black', mirror=True, gridcolor='Pink')\n",
    "fig.update_yaxes(showline=True, linewidth=2, linecolor='black', mirror=True, gridcolor='Red')\n",
    "#fig.show()\n",
    "fig.write_html(r'C:\\Users\\eeeeeeeeee\\Documents\\JupyterAnacondaPythonNotebooks\\Daily\\Charts_px\\ApplicationData\\{}.html'.format(FileName)) #interactive_appdata_FACT_TeacherViewTrendingGrades_file.html')\n",
    "plt.close()"
   ]
  },
  {
   "cell_type": "code",
   "execution_count": 380,
   "metadata": {},
   "outputs": [
    {
     "name": "stdout",
     "output_type": "stream",
     "text": [
      "          DatabaseName      SchemaName              TableName\n",
      "10881  ApplicationData  StudentProfile  FACT_YearlyAttendance\n"
     ]
    }
   ],
   "source": [
    "d = dfappdata0151[['DatabaseName', 'SchemaName','TableName']]\n",
    "d = d.drop_duplicates()\n",
    "e = d['DatabaseName'].values[0]\n",
    "f = d['SchemaName'].values[0]\n",
    "g = d['TableName'].values[0]\n",
    "print (d)\n",
    "FileName = ('AppData_{}_{}'.format(f,g))\n",
    "\n",
    "fig = px.scatter(dfappdata0151, x = 'TodaysDate', y='RecordCount', size = 'RecordCount', color = 'RecordCount', title = '{0},{1},{2}'.format(e,f,g))\n",
    "#fig.update_layout(title='Risk Assessment: Table activity recorded',\n",
    "fig.update_layout(yaxis_zeroline=False, xaxis_zeroline=False)\n",
    "fig.update_xaxes(title_font=dict(size=18, color='crimson'))\n",
    "fig.update_yaxes(title_font=dict(size=18, color='crimson'))\n",
    "fig.update_xaxes(ticks=\"inside\")\n",
    "fig.update_yaxes(ticks=\"inside\")\n",
    "fig.update_xaxes(tickangle=45, tickfont=dict(color='crimson', size=14))\n",
    "fig.update_xaxes(showline=True, linewidth=2, linecolor='black', mirror=True, gridcolor='Pink')\n",
    "fig.update_yaxes(showline=True, linewidth=2, linecolor='black', mirror=True, gridcolor='Red')\n",
    "#fig.show()\n",
    "fig.write_html(r'C:\\Users\\eeeeeeeeee\\Documents\\JupyterAnacondaPythonNotebooks\\Daily\\Charts_px\\ApplicationData\\{}.html'.format(FileName)) #interactive_appdata_FACT_YearlyAttendance_file.html')\n",
    "plt.close()"
   ]
  },
  {
   "cell_type": "code",
   "execution_count": 381,
   "metadata": {},
   "outputs": [
    {
     "name": "stdout",
     "output_type": "stream",
     "text": [
      "          DatabaseName      SchemaName    TableName\n",
      "12090  ApplicationData  StudentProfile  ImageSource\n"
     ]
    }
   ],
   "source": [
    "d = dfappdata0152[['DatabaseName', 'SchemaName','TableName']]\n",
    "d = d.drop_duplicates()\n",
    "e = d['DatabaseName'].values[0]\n",
    "f = d['SchemaName'].values[0]\n",
    "g = d['TableName'].values[0]\n",
    "print (d)\n",
    "FileName = ('AppData_{}_{}'.format(f,g))\n",
    "\n",
    "fig = px.scatter(dfappdata0152, x = 'TodaysDate', y='RecordCount', size = 'RecordCount', color = 'RecordCount', title = '{0},{1},{2}'.format(e,f,g))\n",
    "#fig.update_layout(title='Risk Assessment: Table activity recorded',\n",
    "fig.update_layout(yaxis_zeroline=False, xaxis_zeroline=False)\n",
    "fig.update_xaxes(title_font=dict(size=18, color='crimson'))\n",
    "fig.update_yaxes(title_font=dict(size=18, color='crimson'))\n",
    "fig.update_xaxes(ticks=\"inside\")\n",
    "fig.update_yaxes(ticks=\"inside\")\n",
    "fig.update_xaxes(tickangle=45, tickfont=dict(color='crimson', size=14))\n",
    "fig.update_xaxes(showline=True, linewidth=2, linecolor='black', mirror=True, gridcolor='Pink')\n",
    "fig.update_yaxes(showline=True, linewidth=2, linecolor='black', mirror=True, gridcolor='Red')\n",
    "#fig.show()\n",
    "fig.write_html(r'C:\\Users\\eeeeeeeeee\\Documents\\JupyterAnacondaPythonNotebooks\\Daily\\Charts_px\\ApplicationData\\{}.html'.format(FileName)) #interactive_appdata_ImageSource_file.html')\n",
    "plt.close()"
   ]
  },
  {
   "cell_type": "code",
   "execution_count": 382,
   "metadata": {},
   "outputs": [
    {
     "name": "stdout",
     "output_type": "stream",
     "text": [
      "          DatabaseName      SchemaName TableName\n",
      "13020  ApplicationData  StudentProfile   Log4Net\n"
     ]
    }
   ],
   "source": [
    "d = dfappdata0153[['DatabaseName', 'SchemaName','TableName']]\n",
    "d = d.drop_duplicates()\n",
    "e = d['DatabaseName'].values[0]\n",
    "f = d['SchemaName'].values[0]\n",
    "g = d['TableName'].values[0]\n",
    "print (d)\n",
    "FileName = ('AppData_{}_{}'.format(f,g))\n",
    "\n",
    "fig = px.scatter(dfappdata0153, x = 'TodaysDate', y='RecordCount', size = 'RecordCount', color = 'RecordCount', title = '{0},{1},{2}'.format(e,f,g))\n",
    "#fig.update_layout(title='Risk Assessment: Table activity recorded',\n",
    "fig.update_layout(yaxis_zeroline=False, xaxis_zeroline=False)\n",
    "fig.update_xaxes(title_font=dict(size=18, color='crimson'))\n",
    "fig.update_yaxes(title_font=dict(size=18, color='crimson'))\n",
    "fig.update_xaxes(ticks=\"inside\")\n",
    "fig.update_yaxes(ticks=\"inside\")\n",
    "fig.update_xaxes(tickangle=45, tickfont=dict(color='crimson', size=14))\n",
    "fig.update_xaxes(showline=True, linewidth=2, linecolor='black', mirror=True, gridcolor='Pink')\n",
    "fig.update_yaxes(showline=True, linewidth=2, linecolor='black', mirror=True, gridcolor='Red')\n",
    "#fig.show()\n",
    "fig.write_html(r'C:\\Users\\eeeeeeeeee\\Documents\\JupyterAnacondaPythonNotebooks\\Daily\\Charts_px\\ApplicationData\\{}.html'.format(FileName)) #interactive_appdata_Log4Net_file.html')\n",
    "plt.close()"
   ]
  },
  {
   "cell_type": "code",
   "execution_count": 383,
   "metadata": {},
   "outputs": [
    {
     "name": "stdout",
     "output_type": "stream",
     "text": [
      "          DatabaseName      SchemaName                  TableName\n",
      "13206  ApplicationData  StudentProfile  MAP_EducatorStudentCourse\n"
     ]
    }
   ],
   "source": [
    "d = dfappdata0154[['DatabaseName', 'SchemaName','TableName']]\n",
    "d = d.drop_duplicates()\n",
    "e = d['DatabaseName'].values[0]\n",
    "f = d['SchemaName'].values[0]\n",
    "g = d['TableName'].values[0]\n",
    "print (d)\n",
    "FileName = ('AppData_{}_{}'.format(f,g))\n",
    "\n",
    "fig = px.scatter(dfappdata0154, x = 'TodaysDate', y='RecordCount', size = 'RecordCount', color = 'RecordCount', title = '{0},{1},{2}'.format(e,f,g))\n",
    "#fig.update_layout(title='Risk Assessment: Table activity recorded',\n",
    "fig.update_layout(yaxis_zeroline=False, xaxis_zeroline=False)\n",
    "fig.update_xaxes(title_font=dict(size=18, color='crimson'))\n",
    "fig.update_yaxes(title_font=dict(size=18, color='crimson'))\n",
    "fig.update_xaxes(ticks=\"inside\")\n",
    "fig.update_yaxes(ticks=\"inside\")\n",
    "fig.update_xaxes(tickangle=45, tickfont=dict(color='crimson', size=14))\n",
    "fig.update_xaxes(showline=True, linewidth=2, linecolor='black', mirror=True, gridcolor='Pink')\n",
    "fig.update_yaxes(showline=True, linewidth=2, linecolor='black', mirror=True, gridcolor='Red')\n",
    "#fig.show()\n",
    "fig.write_html(r'C:\\Users\\eeeeeeeeee\\Documents\\JupyterAnacondaPythonNotebooks\\Daily\\Charts_px\\ApplicationData\\{}.html'.format(FileName)) #interactive_appdata_MAP_EducatorStudentCourse_file.html')\n",
    "plt.close()"
   ]
  },
  {
   "cell_type": "code",
   "execution_count": 384,
   "metadata": {},
   "outputs": [
    {
     "name": "stdout",
     "output_type": "stream",
     "text": [
      "          DatabaseName      SchemaName      TableName\n",
      "16368  ApplicationData  StudentProfile  SecurityToken\n"
     ]
    }
   ],
   "source": [
    "d = dfappdata0155[['DatabaseName', 'SchemaName','TableName']]\n",
    "d = d.drop_duplicates()\n",
    "e = d['DatabaseName'].values[0]\n",
    "f = d['SchemaName'].values[0]\n",
    "g = d['TableName'].values[0]\n",
    "print (d)\n",
    "FileName = ('AppData_{}_{}'.format(f,g))\n",
    "\n",
    "fig = px.scatter(dfappdata0155, x = 'TodaysDate', y='RecordCount', size = 'RecordCount', color = 'RecordCount', title = '{0},{1},{2}'.format(e,f,g))\n",
    "#fig.update_layout(title='Risk Assessment: Table activity recorded',\n",
    "fig.update_layout(yaxis_zeroline=False, xaxis_zeroline=False)\n",
    "fig.update_xaxes(title_font=dict(size=18, color='crimson'))\n",
    "fig.update_yaxes(title_font=dict(size=18, color='crimson'))\n",
    "fig.update_xaxes(ticks=\"inside\")\n",
    "fig.update_yaxes(ticks=\"inside\")\n",
    "fig.update_xaxes(tickangle=45, tickfont=dict(color='crimson', size=14))\n",
    "fig.update_xaxes(showline=True, linewidth=2, linecolor='black', mirror=True, gridcolor='Pink')\n",
    "fig.update_yaxes(showline=True, linewidth=2, linecolor='black', mirror=True, gridcolor='Red')\n",
    "#fig.show()\n",
    "fig.write_html(r'C:\\Users\\eeeeeeeeee\\Documents\\JupyterAnacondaPythonNotebooks\\Daily\\Charts_px\\ApplicationData\\{}.html'.format(FileName)) #interactive_appdata_SecurityToken_file.html')\n",
    "plt.close()"
   ]
  },
  {
   "cell_type": "code",
   "execution_count": 385,
   "metadata": {},
   "outputs": [
    {
     "name": "stdout",
     "output_type": "stream",
     "text": [
      "          DatabaseName      SchemaName TableName\n",
      "16461  ApplicationData  StudentProfile     State\n"
     ]
    }
   ],
   "source": [
    "d = dfappdata0156[['DatabaseName', 'SchemaName','TableName']]\n",
    "d = d.drop_duplicates()\n",
    "e = d['DatabaseName'].values[0]\n",
    "f = d['SchemaName'].values[0]\n",
    "g = d['TableName'].values[0]\n",
    "print (d)\n",
    "FileName = ('AppData_{}_{}'.format(f,g))\n",
    "\n",
    "fig = px.scatter(dfappdata0156, x = 'TodaysDate', y='RecordCount', size = 'RecordCount', color = 'RecordCount', title = '{0},{1},{2}'.format(e,f,g))\n",
    "#fig.update_layout(title='Risk Assessment: Table activity recorded',\n",
    "fig.update_layout(yaxis_zeroline=False, xaxis_zeroline=False)\n",
    "fig.update_xaxes(title_font=dict(size=18, color='crimson'))\n",
    "fig.update_yaxes(title_font=dict(size=18, color='crimson'))\n",
    "fig.update_xaxes(ticks=\"inside\")\n",
    "fig.update_yaxes(ticks=\"inside\")\n",
    "fig.update_xaxes(tickangle=45, tickfont=dict(color='crimson', size=14))\n",
    "fig.update_xaxes(showline=True, linewidth=2, linecolor='black', mirror=True, gridcolor='Pink')\n",
    "fig.update_yaxes(showline=True, linewidth=2, linecolor='black', mirror=True, gridcolor='Red')\n",
    "#fig.show()\n",
    "fig.write_html(r'C:\\Users\\eeeeeeeeee\\Documents\\JupyterAnacondaPythonNotebooks\\Daily\\Charts_px\\ApplicationData\\{}.html'.format(FileName)) #interactive_appdata_State_file.html')\n",
    "plt.close()"
   ]
  },
  {
   "cell_type": "code",
   "execution_count": 386,
   "metadata": {},
   "outputs": [
    {
     "name": "stdout",
     "output_type": "stream",
     "text": [
      "         DatabaseName             SchemaName             TableName\n",
      "2604  ApplicationData  StudentProfileStaging  D2L_AssignmentGrades\n"
     ]
    }
   ],
   "source": [
    "d = dfappdata0157[['DatabaseName', 'SchemaName','TableName']]\n",
    "d = d.drop_duplicates()\n",
    "e = d['DatabaseName'].values[0]\n",
    "f = d['SchemaName'].values[0]\n",
    "g = d['TableName'].values[0]\n",
    "print (d)\n",
    "FileName = ('AppData_{}_{}'.format(f,g))\n",
    "\n",
    "fig = px.scatter(dfappdata0157, x = 'TodaysDate', y='RecordCount', size = 'RecordCount', color = 'RecordCount', title = '{0},{1},{2}'.format(e,f,g))\n",
    "#fig.update_layout(title='Risk Assessment: Table activity recorded',\n",
    "fig.update_layout(yaxis_zeroline=False, xaxis_zeroline=False)\n",
    "fig.update_xaxes(title_font=dict(size=18, color='crimson'))\n",
    "fig.update_yaxes(title_font=dict(size=18, color='crimson'))\n",
    "fig.update_xaxes(ticks=\"inside\")\n",
    "fig.update_yaxes(ticks=\"inside\")\n",
    "fig.update_xaxes(tickangle=45, tickfont=dict(color='crimson', size=14))\n",
    "fig.update_xaxes(showline=True, linewidth=2, linecolor='black', mirror=True, gridcolor='Pink')\n",
    "fig.update_yaxes(showline=True, linewidth=2, linecolor='black', mirror=True, gridcolor='Red')\n",
    "#fig.show()\n",
    "fig.write_html(r'C:\\Users\\eeeeeeeeee\\Documents\\JupyterAnacondaPythonNotebooks\\Daily\\Charts_px\\ApplicationData\\{}.html'.format(FileName)) #interactive_appdata_D2L_AssignmentGrades_file.html')\n",
    "plt.close()"
   ]
  },
  {
   "cell_type": "code",
   "execution_count": 387,
   "metadata": {},
   "outputs": [
    {
     "name": "stdout",
     "output_type": "stream",
     "text": [
      "         DatabaseName             SchemaName        TableName\n",
      "2697  ApplicationData  StudentProfileStaging  D2L_FinalGrades\n"
     ]
    }
   ],
   "source": [
    "d = dfappdata0158[['DatabaseName', 'SchemaName','TableName']]\n",
    "d = d.drop_duplicates()\n",
    "e = d['DatabaseName'].values[0]\n",
    "f = d['SchemaName'].values[0]\n",
    "g = d['TableName'].values[0]\n",
    "print (d)\n",
    "FileName = ('AppData_{}_{}'.format(f,g))\n",
    "\n",
    "fig = px.scatter(dfappdata0158, x = 'TodaysDate', y='RecordCount', size = 'RecordCount', color = 'RecordCount', title = '{0},{1},{2}'.format(e,f,g))\n",
    "#fig.update_layout(title='Risk Assessment: Table activity recorded',\n",
    "fig.update_layout(yaxis_zeroline=False, xaxis_zeroline=False)\n",
    "fig.update_xaxes(title_font=dict(size=18, color='crimson'))\n",
    "fig.update_yaxes(title_font=dict(size=18, color='crimson'))\n",
    "fig.update_xaxes(ticks=\"inside\")\n",
    "fig.update_yaxes(ticks=\"inside\")\n",
    "fig.update_xaxes(tickangle=45, tickfont=dict(color='crimson', size=14))\n",
    "fig.update_xaxes(showline=True, linewidth=2, linecolor='black', mirror=True, gridcolor='Pink')\n",
    "fig.update_yaxes(showline=True, linewidth=2, linecolor='black', mirror=True, gridcolor='Red')\n",
    "#fig.show()\n",
    "fig.write_html(r'C:\\Users\\eeeeeeeeee\\Documents\\JupyterAnacondaPythonNotebooks\\Daily\\Charts_px\\ApplicationData\\{}.html'.format(FileName)) #interactive_appdata_D2L_FinalGrades_file.html')\n",
    "plt.close()"
   ]
  },
  {
   "cell_type": "code",
   "execution_count": 388,
   "metadata": {},
   "outputs": [
    {
     "name": "stdout",
     "output_type": "stream",
     "text": [
      "          DatabaseName             SchemaName                       TableName\n",
      "10788  ApplicationData  StudentProfileStaging  FACT_TeacherViewTrendingGrades\n"
     ]
    }
   ],
   "source": [
    "d = dfappdata0159[['DatabaseName', 'SchemaName','TableName']]\n",
    "d = d.drop_duplicates()\n",
    "e = d['DatabaseName'].values[0]\n",
    "f = d['SchemaName'].values[0]\n",
    "g = d['TableName'].values[0]\n",
    "print (d)\n",
    "FileName = ('AppData_{}_{}'.format(f,g))\n",
    "\n",
    "fig = px.scatter(dfappdata0159, x = 'TodaysDate', y='RecordCount', size = 'RecordCount', color = 'RecordCount', title = '{0},{1},{2}'.format(e,f,g))\n",
    "#fig.update_layout(title='Risk Assessment: Table activity recorded',\n",
    "fig.update_layout(yaxis_zeroline=False, xaxis_zeroline=False)\n",
    "fig.update_xaxes(title_font=dict(size=18, color='crimson'))\n",
    "fig.update_yaxes(title_font=dict(size=18, color='crimson'))\n",
    "fig.update_xaxes(ticks=\"inside\")\n",
    "fig.update_yaxes(ticks=\"inside\")\n",
    "fig.update_xaxes(tickangle=45, tickfont=dict(color='crimson', size=14))\n",
    "fig.update_xaxes(showline=True, linewidth=2, linecolor='black', mirror=True, gridcolor='Pink')\n",
    "fig.update_yaxes(showline=True, linewidth=2, linecolor='black', mirror=True, gridcolor='Red')\n",
    "#fig.show()\n",
    "fig.write_html(r'C:\\Users\\eeeeeeeeee\\Documents\\JupyterAnacondaPythonNotebooks\\Daily\\Charts_px\\ApplicationData\\{}.html'.format(FileName)) #interactive_appdata_FACT_TeacherViewTrendingGrades.html')\n",
    "plt.close()"
   ]
  },
  {
   "cell_type": "code",
   "execution_count": 389,
   "metadata": {},
   "outputs": [
    {
     "name": "stdout",
     "output_type": "stream",
     "text": [
      "      DatabaseName           SchemaName TableName\n",
      "0  ApplicationData  StudentRegistration     AP_SP\n"
     ]
    }
   ],
   "source": [
    "d = dfappdata0160[['DatabaseName', 'SchemaName','TableName']]\n",
    "d = d.drop_duplicates()\n",
    "e = d['DatabaseName'].values[0]\n",
    "f = d['SchemaName'].values[0]\n",
    "g = d['TableName'].values[0]\n",
    "print (d)\n",
    "FileName = ('AppData_{}_{}'.format(f,g))\n",
    "\n",
    "fig = px.scatter(dfappdata0160, x = 'TodaysDate', y='RecordCount', size = 'RecordCount', color = 'RecordCount', title = '{0},{1},{2}'.format(e,f,g))\n",
    "#fig.update_layout(title='Risk Assessment: Table activity recorded',\n",
    "fig.update_layout(yaxis_zeroline=False, xaxis_zeroline=False)\n",
    "fig.update_xaxes(title_font=dict(size=18, color='crimson'))\n",
    "fig.update_yaxes(title_font=dict(size=18, color='crimson'))\n",
    "fig.update_xaxes(ticks=\"inside\")\n",
    "fig.update_yaxes(ticks=\"inside\")\n",
    "fig.update_xaxes(tickangle=45, tickfont=dict(color='crimson', size=14))\n",
    "fig.update_xaxes(showline=True, linewidth=2, linecolor='black', mirror=True, gridcolor='Pink')\n",
    "fig.update_yaxes(showline=True, linewidth=2, linecolor='black', mirror=True, gridcolor='Red')\n",
    "#fig.show()\n",
    "fig.write_html(r'C:\\Users\\eeeeeeeeee\\Documents\\JupyterAnacondaPythonNotebooks\\Daily\\Charts_px\\ApplicationData\\{}.html'.format(FileName)) #interactive_appdata_AP_SP_file.html')\n",
    "plt.close()"
   ]
  },
  {
   "cell_type": "code",
   "execution_count": 390,
   "metadata": {},
   "outputs": [
    {
     "name": "stdout",
     "output_type": "stream",
     "text": [
      "         DatabaseName           SchemaName      TableName\n",
      "2232  ApplicationData  StudentRegistration  Configuration\n"
     ]
    }
   ],
   "source": [
    "d = dfappdata0161[['DatabaseName', 'SchemaName','TableName']]\n",
    "d = d.drop_duplicates()\n",
    "e = d['DatabaseName'].values[0]\n",
    "f = d['SchemaName'].values[0]\n",
    "g = d['TableName'].values[0]\n",
    "print (d)\n",
    "FileName = ('AppData_{}_{}'.format(f,g))\n",
    "\n",
    "fig = px.scatter(dfappdata0161, x = 'TodaysDate', y='RecordCount', size = 'RecordCount', color = 'RecordCount', title = '{0},{1},{2}'.format(e,f,g))\n",
    "#fig.update_layout(title='Risk Assessment: Table activity recorded',\n",
    "fig.update_layout(yaxis_zeroline=False, xaxis_zeroline=False)\n",
    "fig.update_xaxes(title_font=dict(size=18, color='crimson'))\n",
    "fig.update_yaxes(title_font=dict(size=18, color='crimson'))\n",
    "fig.update_xaxes(ticks=\"inside\")\n",
    "fig.update_yaxes(ticks=\"inside\")\n",
    "fig.update_xaxes(tickangle=45, tickfont=dict(color='crimson', size=14))\n",
    "fig.update_xaxes(showline=True, linewidth=2, linecolor='black', mirror=True, gridcolor='Pink')\n",
    "fig.update_yaxes(showline=True, linewidth=2, linecolor='black', mirror=True, gridcolor='Red')\n",
    "#fig.show()\n",
    "fig.write_html(r'C:\\Users\\eeeeeeeeee\\Documents\\JupyterAnacondaPythonNotebooks\\Daily\\Charts_px\\ApplicationData\\{}.html'.format(FileName)) #interactive_appdata_Configuration_file.html')\n",
    "plt.close()"
   ]
  },
  {
   "cell_type": "code",
   "execution_count": 391,
   "metadata": {},
   "outputs": [
    {
     "name": "stdout",
     "output_type": "stream",
     "text": [
      "         DatabaseName           SchemaName   TableName\n",
      "2325  ApplicationData  StudentRegistration  Counselors\n"
     ]
    }
   ],
   "source": [
    "d = dfappdata0162[['DatabaseName', 'SchemaName','TableName']]\n",
    "d = d.drop_duplicates()\n",
    "e = d['DatabaseName'].values[0]\n",
    "f = d['SchemaName'].values[0]\n",
    "g = d['TableName'].values[0]\n",
    "print (d)\n",
    "FileName = ('AppData_{}_{}'.format(f,g))\n",
    "\n",
    "fig = px.scatter(dfappdata0162, x = 'TodaysDate', y='RecordCount', size = 'RecordCount', color = 'RecordCount', title = '{0},{1},{2}'.format(e,f,g))\n",
    "#fig.update_layout(title='Risk Assessment: Table activity recorded',\n",
    "fig.update_layout(yaxis_zeroline=False, xaxis_zeroline=False)\n",
    "fig.update_xaxes(title_font=dict(size=18, color='crimson'))\n",
    "fig.update_yaxes(title_font=dict(size=18, color='crimson'))\n",
    "fig.update_xaxes(ticks=\"inside\")\n",
    "fig.update_yaxes(ticks=\"inside\")\n",
    "fig.update_xaxes(tickangle=45, tickfont=dict(color='crimson', size=14))\n",
    "fig.update_xaxes(showline=True, linewidth=2, linecolor='black', mirror=True, gridcolor='Pink')\n",
    "fig.update_yaxes(showline=True, linewidth=2, linecolor='black', mirror=True, gridcolor='Red')\n",
    "#fig.show()\n",
    "fig.write_html(r'C:\\Users\\eeeeeeeeee\\Documents\\JupyterAnacondaPythonNotebooks\\Daily\\Charts_px\\ApplicationData\\{}.html'.format(FileName)) #interactive_appdata_Counselors_file.html')\n",
    "plt.close()"
   ]
  },
  {
   "cell_type": "code",
   "execution_count": 392,
   "metadata": {},
   "outputs": [
    {
     "name": "stdout",
     "output_type": "stream",
     "text": [
      "         DatabaseName           SchemaName TableName\n",
      "1302  ApplicationData  StudentRegistration       CTI\n"
     ]
    }
   ],
   "source": [
    "d = dfappdata0163[['DatabaseName', 'SchemaName','TableName']]\n",
    "d = d.drop_duplicates()\n",
    "e = d['DatabaseName'].values[0]\n",
    "f = d['SchemaName'].values[0]\n",
    "g = d['TableName'].values[0]\n",
    "print (d)\n",
    "FileName = ('AppData_{}_{}'.format(f,g))\n",
    "\n",
    "fig = px.scatter(dfappdata0163, x = 'TodaysDate', y='RecordCount', size = 'RecordCount', color = 'RecordCount', title = '{0},{1},{2}'.format(e,f,g))\n",
    "#fig.update_layout(title='Risk Assessment: Table activity recorded',\n",
    "fig.update_layout(yaxis_zeroline=False, xaxis_zeroline=False)\n",
    "fig.update_xaxes(title_font=dict(size=18, color='crimson'))\n",
    "fig.update_yaxes(title_font=dict(size=18, color='crimson'))\n",
    "fig.update_xaxes(ticks=\"inside\")\n",
    "fig.update_yaxes(ticks=\"inside\")\n",
    "fig.update_xaxes(tickangle=45, tickfont=dict(color='crimson', size=14))\n",
    "fig.update_xaxes(showline=True, linewidth=2, linecolor='black', mirror=True, gridcolor='Pink')\n",
    "fig.update_yaxes(showline=True, linewidth=2, linecolor='black', mirror=True, gridcolor='Red')\n",
    "#fig.show()\n",
    "fig.write_html(r'C:\\Users\\eeeeeeeeee\\Documents\\JupyterAnacondaPythonNotebooks\\Daily\\Charts_px\\ApplicationData\\{}.html'.format(FileName)) #interactive_appdata_CTI_file.html')\n",
    "plt.close()"
   ]
  },
  {
   "cell_type": "code",
   "execution_count": 393,
   "metadata": {},
   "outputs": [
    {
     "name": "stdout",
     "output_type": "stream",
     "text": [
      "         DatabaseName           SchemaName TableName\n",
      "5301  ApplicationData  StudentRegistration  Defaults\n"
     ]
    }
   ],
   "source": [
    "d = dfappdata0164[['DatabaseName', 'SchemaName','TableName']]\n",
    "d = d.drop_duplicates()\n",
    "e = d['DatabaseName'].values[0]\n",
    "f = d['SchemaName'].values[0]\n",
    "g = d['TableName'].values[0]\n",
    "print (d)\n",
    "FileName = ('AppData_{}_{}'.format(f,g))\n",
    "\n",
    "fig = px.scatter(dfappdata0164, x = 'TodaysDate', y='RecordCount', size = 'RecordCount', color = 'RecordCount', title = '{0},{1},{2}'.format(e,f,g))\n",
    "#fig.update_layout(title='Risk Assessment: Table activity recorded',\n",
    "fig.update_layout(yaxis_zeroline=False, xaxis_zeroline=False)\n",
    "fig.update_xaxes(title_font=dict(size=18, color='crimson'))\n",
    "fig.update_yaxes(title_font=dict(size=18, color='crimson'))\n",
    "fig.update_xaxes(ticks=\"inside\")\n",
    "fig.update_yaxes(ticks=\"inside\")\n",
    "fig.update_xaxes(tickangle=45, tickfont=dict(color='crimson', size=14))\n",
    "fig.update_xaxes(showline=True, linewidth=2, linecolor='black', mirror=True, gridcolor='Pink')\n",
    "fig.update_yaxes(showline=True, linewidth=2, linecolor='black', mirror=True, gridcolor='Red')\n",
    "#fig.show()\n",
    "fig.write_html(r'C:\\Users\\eeeeeeeeee\\Documents\\JupyterAnacondaPythonNotebooks\\Daily\\Charts_px\\ApplicationData\\{}.html'.format(FileName)) #interactive_appdata_Defaults_file.html')\n",
    "plt.close()"
   ]
  },
  {
   "cell_type": "code",
   "execution_count": 394,
   "metadata": {},
   "outputs": [
    {
     "name": "stdout",
     "output_type": "stream",
     "text": [
      "         DatabaseName           SchemaName           TableName\n",
      "3441  ApplicationData  StudentRegistration  DIM_CoursePathways\n"
     ]
    }
   ],
   "source": [
    "d = dfappdata0165[['DatabaseName', 'SchemaName','TableName']]\n",
    "d = d.drop_duplicates()\n",
    "e = d['DatabaseName'].values[0]\n",
    "f = d['SchemaName'].values[0]\n",
    "g = d['TableName'].values[0]\n",
    "print (d)\n",
    "FileName = ('AppData_{}_{}'.format(f,g))\n",
    "\n",
    "fig = px.scatter(dfappdata0165, x = 'TodaysDate', y='RecordCount', size = 'RecordCount', color = 'RecordCount', title = '{0},{1},{2}'.format(e,f,g))\n",
    "#fig.update_layout(title='Risk Assessment: Table activity recorded',\n",
    "fig.update_layout(yaxis_zeroline=False, xaxis_zeroline=False)\n",
    "fig.update_xaxes(title_font=dict(size=18, color='crimson'))\n",
    "fig.update_yaxes(title_font=dict(size=18, color='crimson'))\n",
    "fig.update_xaxes(ticks=\"inside\")\n",
    "fig.update_yaxes(ticks=\"inside\")\n",
    "fig.update_xaxes(tickangle=45, tickfont=dict(color='crimson', size=14))\n",
    "fig.update_xaxes(showline=True, linewidth=2, linecolor='black', mirror=True, gridcolor='Pink')\n",
    "fig.update_yaxes(showline=True, linewidth=2, linecolor='black', mirror=True, gridcolor='Red')\n",
    "#fig.show()\n",
    "fig.write_html(r'C:\\Users\\eeeeeeeeee\\Documents\\JupyterAnacondaPythonNotebooks\\Daily\\Charts_px\\ApplicationData\\{}.html'.format(FileName)) #interactive_appdata_DIM_CoursePathways_file.html')\n",
    "plt.close()"
   ]
  },
  {
   "cell_type": "code",
   "execution_count": 395,
   "metadata": {},
   "outputs": [
    {
     "name": "stdout",
     "output_type": "stream",
     "text": [
      "         DatabaseName           SchemaName                    TableName\n",
      "3534  ApplicationData  StudentRegistration  DIM_CoursePathways_12202018\n"
     ]
    }
   ],
   "source": [
    "d = dfappdata0166[['DatabaseName', 'SchemaName','TableName']]\n",
    "d = d.drop_duplicates()\n",
    "e = d['DatabaseName'].values[0]\n",
    "f = d['SchemaName'].values[0]\n",
    "g = d['TableName'].values[0]\n",
    "print (d)\n",
    "FileName = ('AppData_{}_{}'.format(f,g))\n",
    "\n",
    "fig = px.scatter(dfappdata0166, x = 'TodaysDate', y='RecordCount', size = 'RecordCount', color = 'RecordCount', title = '{0},{1},{2}'.format(e,f,g))\n",
    "#fig.update_layout(title='Risk Assessment: Table activity recorded',\n",
    "fig.update_layout(yaxis_zeroline=False, xaxis_zeroline=False)\n",
    "fig.update_xaxes(title_font=dict(size=18, color='crimson'))\n",
    "fig.update_yaxes(title_font=dict(size=18, color='crimson'))\n",
    "fig.update_xaxes(ticks=\"inside\")\n",
    "fig.update_yaxes(ticks=\"inside\")\n",
    "fig.update_xaxes(tickangle=45, tickfont=dict(color='crimson', size=14))\n",
    "fig.update_xaxes(showline=True, linewidth=2, linecolor='black', mirror=True, gridcolor='Pink')\n",
    "fig.update_yaxes(showline=True, linewidth=2, linecolor='black', mirror=True, gridcolor='Red')\n",
    "#fig.show()\n",
    "fig.write_html(r'C:\\Users\\eeeeeeeeee\\Documents\\JupyterAnacondaPythonNotebooks\\Daily\\Charts_px\\ApplicationData\\{}.html'.format(FileName)) #interactive_appdata_DIM_CoursePathways_12202018_file.html')\n",
    "plt.close()"
   ]
  },
  {
   "cell_type": "code",
   "execution_count": 396,
   "metadata": {},
   "outputs": [
    {
     "name": "stdout",
     "output_type": "stream",
     "text": [
      "         DatabaseName           SchemaName         TableName\n",
      "4278  ApplicationData  StudentRegistration  DIM_PathwaySpecs\n"
     ]
    }
   ],
   "source": [
    "d = dfappdata0167[['DatabaseName', 'SchemaName','TableName']]\n",
    "d = d.drop_duplicates()\n",
    "e = d['DatabaseName'].values[0]\n",
    "f = d['SchemaName'].values[0]\n",
    "g = d['TableName'].values[0]\n",
    "print (d)\n",
    "FileName = ('AppData_{}_{}'.format(f,g))\n",
    "\n",
    "fig = px.scatter(dfappdata0167, x = 'TodaysDate', y='RecordCount', size = 'RecordCount', color = 'RecordCount', title = '{0},{1},{2}'.format(e,f,g))\n",
    "#fig.update_layout(title='Risk Assessment: Table activity recorded',\n",
    "fig.update_layout(yaxis_zeroline=False, xaxis_zeroline=False)\n",
    "fig.update_xaxes(title_font=dict(size=18, color='crimson'))\n",
    "fig.update_yaxes(title_font=dict(size=18, color='crimson'))\n",
    "fig.update_xaxes(ticks=\"inside\")\n",
    "fig.update_yaxes(ticks=\"inside\")\n",
    "fig.update_xaxes(tickangle=45, tickfont=dict(color='crimson', size=14))\n",
    "fig.update_xaxes(showline=True, linewidth=2, linecolor='black', mirror=True, gridcolor='Pink')\n",
    "fig.update_yaxes(showline=True, linewidth=2, linecolor='black', mirror=True, gridcolor='Red')\n",
    "#fig.show()\n",
    "fig.write_html(r'C:\\Users\\eeeeeeeeee\\Documents\\JupyterAnacondaPythonNotebooks\\Daily\\Charts_px\\ApplicationData\\{}.html'.format(FileName)) #interactive_appdata_DIM_PathwaySpecs_file.html')\n",
    "plt.close()"
   ]
  },
  {
   "cell_type": "code",
   "execution_count": 397,
   "metadata": {},
   "outputs": [
    {
     "name": "stdout",
     "output_type": "stream",
     "text": [
      "         DatabaseName           SchemaName        TableName\n",
      "5394  ApplicationData  StudentRegistration  DisplayTableMap\n"
     ]
    }
   ],
   "source": [
    "d = dfappdata0168[['DatabaseName', 'SchemaName','TableName']]\n",
    "d = d.drop_duplicates()\n",
    "e = d['DatabaseName'].values[0]\n",
    "f = d['SchemaName'].values[0]\n",
    "g = d['TableName'].values[0]\n",
    "print (d)\n",
    "FileName = ('AppData_{}_{}'.format(f,g))\n",
    "\n",
    "fig = px.scatter(dfappdata0168, x = 'TodaysDate', y='RecordCount', size = 'RecordCount', color = 'RecordCount', title = '{0},{1},{2}'.format(e,f,g))\n",
    "#fig.update_layout(title='Risk Assessment: Table activity recorded',\n",
    "fig.update_layout(yaxis_zeroline=False, xaxis_zeroline=False)\n",
    "fig.update_xaxes(title_font=dict(size=18, color='crimson'))\n",
    "fig.update_yaxes(title_font=dict(size=18, color='crimson'))\n",
    "fig.update_xaxes(ticks=\"inside\")\n",
    "fig.update_yaxes(ticks=\"inside\")\n",
    "fig.update_xaxes(tickangle=45, tickfont=dict(color='crimson', size=14))\n",
    "fig.update_xaxes(showline=True, linewidth=2, linecolor='black', mirror=True, gridcolor='Pink')\n",
    "fig.update_yaxes(showline=True, linewidth=2, linecolor='black', mirror=True, gridcolor='Red')\n",
    "#fig.show()\n",
    "fig.write_html(r'C:\\Users\\eeeeeeeeee\\Documents\\JupyterAnacondaPythonNotebooks\\Daily\\Charts_px\\ApplicationData\\{}.html'.format(FileName)) #interactive_appdata_DisplayTableMap_file.html')\n",
    "plt.close()"
   ]
  },
  {
   "cell_type": "code",
   "execution_count": 398,
   "metadata": {},
   "outputs": [
    {
     "name": "stdout",
     "output_type": "stream",
     "text": [
      "         DatabaseName           SchemaName TableName\n",
      "5487  ApplicationData  StudentRegistration   ESOL_SP\n"
     ]
    }
   ],
   "source": [
    "d = dfappdata0169[['DatabaseName', 'SchemaName','TableName']]\n",
    "d = d.drop_duplicates()\n",
    "e = d['DatabaseName'].values[0]\n",
    "f = d['SchemaName'].values[0]\n",
    "g = d['TableName'].values[0]\n",
    "print (d)\n",
    "FileName = ('AppData_{}_{}'.format(f,g))\n",
    "\n",
    "fig = px.scatter(dfappdata0169, x = 'TodaysDate', y='RecordCount', size = 'RecordCount', color = 'RecordCount', title = '{0},{1},{2}'.format(e,f,g))\n",
    "#fig.update_layout(title='Risk Assessment: Table activity recorded',\n",
    "fig.update_layout(yaxis_zeroline=False, xaxis_zeroline=False)\n",
    "fig.update_xaxes(title_font=dict(size=18, color='crimson'))\n",
    "fig.update_yaxes(title_font=dict(size=18, color='crimson'))\n",
    "fig.update_xaxes(ticks=\"inside\")\n",
    "fig.update_yaxes(ticks=\"inside\")\n",
    "fig.update_xaxes(tickangle=45, tickfont=dict(color='crimson', size=14))\n",
    "fig.update_xaxes(showline=True, linewidth=2, linecolor='black', mirror=True, gridcolor='Pink')\n",
    "fig.update_yaxes(showline=True, linewidth=2, linecolor='black', mirror=True, gridcolor='Red')\n",
    "#fig.show()\n",
    "fig.write_html(r'C:\\Users\\eeeeeeeeee\\Documents\\JupyterAnacondaPythonNotebooks\\Daily\\Charts_px\\ApplicationData\\{}.html'.format(FileName)) #interactive_appdata_ESOL_SP_file.html')\n",
    "plt.close()"
   ]
  },
  {
   "cell_type": "code",
   "execution_count": 399,
   "metadata": {},
   "outputs": [
    {
     "name": "stdout",
     "output_type": "stream",
     "text": [
      "         DatabaseName           SchemaName              TableName\n",
      "9207  ApplicationData  StudentRegistration  FACT_StudentAcademies\n"
     ]
    }
   ],
   "source": [
    "d = dfappdata0170[['DatabaseName', 'SchemaName','TableName']]\n",
    "d = d.drop_duplicates()\n",
    "e = d['DatabaseName'].values[0]\n",
    "f = d['SchemaName'].values[0]\n",
    "g = d['TableName'].values[0]\n",
    "print (d)\n",
    "FileName = ('AppData_{}_{}'.format(f,g))\n",
    "\n",
    "fig = px.scatter(dfappdata0170, x = 'TodaysDate', y='RecordCount', size = 'RecordCount', color = 'RecordCount', title = '{0},{1},{2}'.format(e,f,g))\n",
    "#fig.update_layout(title='Risk Assessment: Table activity recorded',\n",
    "fig.update_layout(yaxis_zeroline=False, xaxis_zeroline=False)\n",
    "fig.update_xaxes(title_font=dict(size=18, color='crimson'))\n",
    "fig.update_yaxes(title_font=dict(size=18, color='crimson'))\n",
    "fig.update_xaxes(ticks=\"inside\")\n",
    "fig.update_yaxes(ticks=\"inside\")\n",
    "fig.update_xaxes(tickangle=45, tickfont=dict(color='crimson', size=14))\n",
    "fig.update_xaxes(showline=True, linewidth=2, linecolor='black', mirror=True, gridcolor='Pink')\n",
    "fig.update_yaxes(showline=True, linewidth=2, linecolor='black', mirror=True, gridcolor='Red')\n",
    "#fig.show()\n",
    "fig.write_html(r'C:\\Users\\eeeeeeeeee\\Documents\\JupyterAnacondaPythonNotebooks\\Daily\\Charts_px\\ApplicationData\\{}.html'.format(FileName)) #interactive_appdata_FACT_StudentAcademies_file.html')\n",
    "plt.close()"
   ]
  },
  {
   "cell_type": "code",
   "execution_count": 400,
   "metadata": {},
   "outputs": [
    {
     "name": "stdout",
     "output_type": "stream",
     "text": [
      "         DatabaseName           SchemaName                 TableName\n",
      "9672  ApplicationData  StudentRegistration  FACT_StudentCoursesTaken\n"
     ]
    }
   ],
   "source": [
    "d = dfappdata0171[['DatabaseName', 'SchemaName','TableName']]\n",
    "d = d.drop_duplicates()\n",
    "e = d['DatabaseName'].values[0]\n",
    "f = d['SchemaName'].values[0]\n",
    "g = d['TableName'].values[0]\n",
    "print (d)\n",
    "FileName = ('AppData_{}_{}'.format(f,g))\n",
    "\n",
    "fig = px.scatter(dfappdata0171, x = 'TodaysDate', y='RecordCount', size = 'RecordCount', color = 'RecordCount', title = '{0},{1},{2}'.format(e,f,g))\n",
    "#fig.update_layout(title='Risk Assessment: Table activity recorded',\n",
    "fig.update_layout(yaxis_zeroline=False, xaxis_zeroline=False)\n",
    "fig.update_xaxes(title_font=dict(size=18, color='crimson'))\n",
    "fig.update_yaxes(title_font=dict(size=18, color='crimson'))\n",
    "fig.update_xaxes(ticks=\"inside\")\n",
    "fig.update_yaxes(ticks=\"inside\")\n",
    "fig.update_xaxes(tickangle=45, tickfont=dict(color='crimson', size=14))\n",
    "fig.update_xaxes(showline=True, linewidth=2, linecolor='black', mirror=True, gridcolor='Pink')\n",
    "fig.update_yaxes(showline=True, linewidth=2, linecolor='black', mirror=True, gridcolor='Red')\n",
    "#fig.show()\n",
    "fig.write_html(r'C:\\Users\\eeeeeeeeee\\Documents\\JupyterAnacondaPythonNotebooks\\Daily\\Charts_px\\ApplicationData\\{}.html'.format(FileName)) #interactive_appdata_FACT_StudentCoursesTaken_file.html')\n",
    "plt.close()"
   ]
  },
  {
   "cell_type": "code",
   "execution_count": 401,
   "metadata": {},
   "outputs": [
    {
     "name": "stdout",
     "output_type": "stream",
     "text": [
      "         DatabaseName           SchemaName                  TableName\n",
      "9765  ApplicationData  StudentRegistration  FACT_StudentCreditsEarned\n"
     ]
    }
   ],
   "source": [
    "d = dfappdata0172[['DatabaseName', 'SchemaName','TableName']]\n",
    "d = d.drop_duplicates()\n",
    "e = d['DatabaseName'].values[0]\n",
    "f = d['SchemaName'].values[0]\n",
    "g = d['TableName'].values[0]\n",
    "print (d)\n",
    "FileName = ('AppData_{}_{}'.format(f,g))\n",
    "\n",
    "fig = px.scatter(dfappdata0172, x = 'TodaysDate', y='RecordCount', size = 'RecordCount', color = 'RecordCount', title = '{0},{1},{2}'.format(e,f,g))\n",
    "#fig.update_layout(title='Risk Assessment: Table activity recorded',\n",
    "fig.update_layout(yaxis_zeroline=False, xaxis_zeroline=False)\n",
    "fig.update_xaxes(title_font=dict(size=18, color='crimson'))\n",
    "fig.update_yaxes(title_font=dict(size=18, color='crimson'))\n",
    "fig.update_xaxes(ticks=\"inside\")\n",
    "fig.update_yaxes(ticks=\"inside\")\n",
    "fig.update_xaxes(tickangle=45, tickfont=dict(color='crimson', size=14))\n",
    "fig.update_xaxes(showline=True, linewidth=2, linecolor='black', mirror=True, gridcolor='Pink')\n",
    "fig.update_yaxes(showline=True, linewidth=2, linecolor='black', mirror=True, gridcolor='Red')\n",
    "#fig.show()\n",
    "fig.write_html(r'C:\\Users\\eeeeeeeeee\\Documents\\JupyterAnacondaPythonNotebooks\\Daily\\Charts_px\\ApplicationData\\{}.html'.format(FileName)) #interactive_appdata_FACT_StudentCreditsEarned_file.html')\n",
    "plt.close()"
   ]
  },
  {
   "cell_type": "code",
   "execution_count": 402,
   "metadata": {},
   "outputs": [
    {
     "name": "stdout",
     "output_type": "stream",
     "text": [
      "          DatabaseName           SchemaName         TableName\n",
      "10974  ApplicationData  StudentRegistration  GTRegistrationSP\n"
     ]
    }
   ],
   "source": [
    "d = dfappdata0173[['DatabaseName', 'SchemaName','TableName']]\n",
    "d = d.drop_duplicates()\n",
    "e = d['DatabaseName'].values[0]\n",
    "f = d['SchemaName'].values[0]\n",
    "g = d['TableName'].values[0]\n",
    "print (d)\n",
    "FileName = ('AppData_{}_{}'.format(f,g))\n",
    "\n",
    "fig = px.scatter(dfappdata0173, x = 'TodaysDate', y='RecordCount', size = 'RecordCount', color = 'RecordCount', title = '{0},{1},{2}'.format(e,f,g))\n",
    "#fig.update_layout(title='Risk Assessment: Table activity recorded',\n",
    "fig.update_layout(yaxis_zeroline=False, xaxis_zeroline=False)\n",
    "fig.update_xaxes(title_font=dict(size=18, color='crimson'))\n",
    "fig.update_yaxes(title_font=dict(size=18, color='crimson'))\n",
    "fig.update_xaxes(ticks=\"inside\")\n",
    "fig.update_yaxes(ticks=\"inside\")\n",
    "fig.update_xaxes(tickangle=45, tickfont=dict(color='crimson', size=14))\n",
    "fig.update_xaxes(showline=True, linewidth=2, linecolor='black', mirror=True, gridcolor='Pink')\n",
    "fig.update_yaxes(showline=True, linewidth=2, linecolor='black', mirror=True, gridcolor='Red')\n",
    "#fig.show()\n",
    "fig.write_html(r'C:\\Users\\eeeeeeeeee\\Documents\\JupyterAnacondaPythonNotebooks\\Daily\\Charts_px\\ApplicationData\\{}.html'.format(FileName)) #interactive_appdata_GTRegistrationSP_file.html')\n",
    "plt.close()"
   ]
  },
  {
   "cell_type": "code",
   "execution_count": 403,
   "metadata": {},
   "outputs": [
    {
     "name": "stdout",
     "output_type": "stream",
     "text": [
      "          DatabaseName           SchemaName               TableName\n",
      "11904  ApplicationData  StudentRegistration  HomeSchoolCounselorsSP\n"
     ]
    }
   ],
   "source": [
    "d = dfappdata0174[['DatabaseName', 'SchemaName','TableName']]\n",
    "d = d.drop_duplicates()\n",
    "e = d['DatabaseName'].values[0]\n",
    "f = d['SchemaName'].values[0]\n",
    "g = d['TableName'].values[0]\n",
    "print (d)\n",
    "FileName = ('AppData_{}_{}'.format(f,g))\n",
    "\n",
    "fig = px.scatter(dfappdata0174, x = 'TodaysDate', y='RecordCount', size = 'RecordCount', color = 'RecordCount', title = '{0},{1},{2}'.format(e,f,g))\n",
    "#fig.update_layout(title='Risk Assessment: Table activity recorded',\n",
    "fig.update_layout(yaxis_zeroline=False, xaxis_zeroline=False)\n",
    "fig.update_xaxes(title_font=dict(size=18, color='crimson'))\n",
    "fig.update_yaxes(title_font=dict(size=18, color='crimson'))\n",
    "fig.update_xaxes(ticks=\"inside\")\n",
    "fig.update_yaxes(ticks=\"inside\")\n",
    "fig.update_xaxes(tickangle=45, tickfont=dict(color='crimson', size=14))\n",
    "fig.update_xaxes(showline=True, linewidth=2, linecolor='black', mirror=True, gridcolor='Pink')\n",
    "fig.update_yaxes(showline=True, linewidth=2, linecolor='black', mirror=True, gridcolor='Red')\n",
    "#fig.show()\n",
    "fig.write_html(r'C:\\Users\\eeeeeeeeee\\Documents\\JupyterAnacondaPythonNotebooks\\Daily\\Charts_px\\ApplicationData\\{}.html'.format(FileName)) #interactive_appdata_HomeSchoolCounselorsSP_file.html')\n",
    "plt.close()"
   ]
  },
  {
   "cell_type": "code",
   "execution_count": 404,
   "metadata": {},
   "outputs": [
    {
     "name": "stdout",
     "output_type": "stream",
     "text": [
      "          DatabaseName           SchemaName TableName\n",
      "13113  ApplicationData  StudentRegistration   Log4Net\n"
     ]
    }
   ],
   "source": [
    "d = dfappdata0175[['DatabaseName', 'SchemaName','TableName']]\n",
    "d = d.drop_duplicates()\n",
    "e = d['DatabaseName'].values[0]\n",
    "f = d['SchemaName'].values[0]\n",
    "g = d['TableName'].values[0]\n",
    "print (d)\n",
    "FileName = ('AppData_{}_{}'.format(f,g))\n",
    "\n",
    "fig = px.scatter(dfappdata0175, x = 'TodaysDate', y='RecordCount', size = 'RecordCount', color = 'RecordCount', title = '{0},{1},{2}'.format(e,f,g))\n",
    "#fig.update_layout(title='Risk Assessment: Table activity recorded',\n",
    "fig.update_layout(yaxis_zeroline=False, xaxis_zeroline=False)\n",
    "fig.update_xaxes(title_font=dict(size=18, color='crimson'))\n",
    "fig.update_yaxes(title_font=dict(size=18, color='crimson'))\n",
    "fig.update_xaxes(ticks=\"inside\")\n",
    "fig.update_yaxes(ticks=\"inside\")\n",
    "fig.update_xaxes(tickangle=45, tickfont=dict(color='crimson', size=14))\n",
    "fig.update_xaxes(showline=True, linewidth=2, linecolor='black', mirror=True, gridcolor='Pink')\n",
    "fig.update_yaxes(showline=True, linewidth=2, linecolor='black', mirror=True, gridcolor='Red')\n",
    "#fig.show()\n",
    "fig.write_html(r'C:\\Users\\eeeeeeeeee\\Documents\\JupyterAnacondaPythonNotebooks\\Daily\\Charts_px\\ApplicationData\\{}.html'.format(FileName)) #interactive_appdata_SPLog4Net_file.html')\n",
    "plt.close()"
   ]
  },
  {
   "cell_type": "code",
   "execution_count": 405,
   "metadata": {},
   "outputs": [
    {
     "name": "stdout",
     "output_type": "stream",
     "text": [
      "          DatabaseName           SchemaName     TableName\n",
      "13485  ApplicationData  StudentRegistration  MasterListSP\n"
     ]
    }
   ],
   "source": [
    "d = dfappdata0176[['DatabaseName', 'SchemaName','TableName']]\n",
    "d = d.drop_duplicates()\n",
    "e = d['DatabaseName'].values[0]\n",
    "f = d['SchemaName'].values[0]\n",
    "g = d['TableName'].values[0]\n",
    "print (d)\n",
    "FileName = ('AppData_{}_{}'.format(f,g))\n",
    "\n",
    "fig = px.scatter(dfappdata0176, x = 'TodaysDate', y='RecordCount', size = 'RecordCount', color = 'RecordCount', title = '{0},{1},{2}'.format(e,f,g))\n",
    "#fig.update_layout(title='Risk Assessment: Table activity recorded',\n",
    "fig.update_layout(yaxis_zeroline=False, xaxis_zeroline=False)\n",
    "fig.update_xaxes(title_font=dict(size=18, color='crimson'))\n",
    "fig.update_yaxes(title_font=dict(size=18, color='crimson'))\n",
    "fig.update_xaxes(ticks=\"inside\")\n",
    "fig.update_yaxes(ticks=\"inside\")\n",
    "fig.update_xaxes(tickangle=45, tickfont=dict(color='crimson', size=14))\n",
    "fig.update_xaxes(showline=True, linewidth=2, linecolor='black', mirror=True, gridcolor='Pink')\n",
    "fig.update_yaxes(showline=True, linewidth=2, linecolor='black', mirror=True, gridcolor='Red')\n",
    "#fig.show()\n",
    "fig.write_html(r'C:\\Users\\eeeeeeeeee\\Documents\\JupyterAnacondaPythonNotebooks\\Daily\\Charts_px\\ApplicationData\\{}.html'.format(FileName)) #interactive_appdata_MasterListSP_file.html')\n",
    "plt.close()"
   ]
  },
  {
   "cell_type": "code",
   "execution_count": 406,
   "metadata": {},
   "outputs": [
    {
     "name": "stdout",
     "output_type": "stream",
     "text": [
      "          DatabaseName           SchemaName  TableName\n",
      "14043  ApplicationData  StudentRegistration  OpenHouse\n"
     ]
    }
   ],
   "source": [
    "d = dfappdata0177[['DatabaseName', 'SchemaName','TableName']]\n",
    "d = d.drop_duplicates()\n",
    "e = d['DatabaseName'].values[0]\n",
    "f = d['SchemaName'].values[0]\n",
    "g = d['TableName'].values[0]\n",
    "print (d)\n",
    "FileName = ('AppData_{}_{}'.format(f,g))\n",
    "\n",
    "fig = px.scatter(dfappdata0177, x = 'TodaysDate', y='RecordCount', size = 'RecordCount', color = 'RecordCount', title = '{0},{1},{2}'.format(e,f,g))\n",
    "#fig.update_layout(title='Risk Assessment: Table activity recorded',\n",
    "fig.update_layout(yaxis_zeroline=False, xaxis_zeroline=False)\n",
    "fig.update_xaxes(title_font=dict(size=18, color='crimson'))\n",
    "fig.update_yaxes(title_font=dict(size=18, color='crimson'))\n",
    "fig.update_xaxes(ticks=\"inside\")\n",
    "fig.update_yaxes(ticks=\"inside\")\n",
    "fig.update_xaxes(tickangle=45, tickfont=dict(color='crimson', size=14))\n",
    "fig.update_xaxes(showline=True, linewidth=2, linecolor='black', mirror=True, gridcolor='Pink')\n",
    "fig.update_yaxes(showline=True, linewidth=2, linecolor='black', mirror=True, gridcolor='Red')\n",
    "#fig.show()\n",
    "fig.write_html(r'C:\\Users\\eeeeeeeeee\\Documents\\JupyterAnacondaPythonNotebooks\\Daily\\Charts_px\\ApplicationData\\{}.html'.format(FileName)) #interactive_appdata_OpenHouse_file.html')\n",
    "plt.close()"
   ]
  },
  {
   "cell_type": "code",
   "execution_count": 407,
   "metadata": {},
   "outputs": [
    {
     "name": "stdout",
     "output_type": "stream",
     "text": [
      "          DatabaseName           SchemaName       TableName\n",
      "14322  ApplicationData  StudentRegistration  ProgramChoices\n"
     ]
    }
   ],
   "source": [
    "d = dfappdata0178[['DatabaseName', 'SchemaName','TableName']]\n",
    "d = d.drop_duplicates()\n",
    "e = d['DatabaseName'].values[0]\n",
    "f = d['SchemaName'].values[0]\n",
    "g = d['TableName'].values[0]\n",
    "print (d)\n",
    "FileName = ('AppData_{}_{}'.format(f,g))\n",
    "\n",
    "fig = px.scatter(dfappdata0178, x = 'TodaysDate', y='RecordCount', size = 'RecordCount', color = 'RecordCount', title = '{0},{1},{2}'.format(e,f,g))\n",
    "#fig.update_layout(title='Risk Assessment: Table activity recorded',\n",
    "fig.update_layout(yaxis_zeroline=False, xaxis_zeroline=False)\n",
    "fig.update_xaxes(title_font=dict(size=18, color='crimson'))\n",
    "fig.update_yaxes(title_font=dict(size=18, color='crimson'))\n",
    "fig.update_xaxes(ticks=\"inside\")\n",
    "fig.update_yaxes(ticks=\"inside\")\n",
    "fig.update_xaxes(tickangle=45, tickfont=dict(color='crimson', size=14))\n",
    "fig.update_xaxes(showline=True, linewidth=2, linecolor='black', mirror=True, gridcolor='Pink')\n",
    "fig.update_yaxes(showline=True, linewidth=2, linecolor='black', mirror=True, gridcolor='Red')\n",
    "#fig.show()\n",
    "fig.write_html(r'C:\\Users\\eeeeeeeeee\\Documents\\JupyterAnacondaPythonNotebooks\\Daily\\Charts_px\\ApplicationData\\{}.html'.format(FileName)) #interactive_appdata_ProgramChoices_file.html')\n",
    "plt.close()"
   ]
  },
  {
   "cell_type": "code",
   "execution_count": 408,
   "metadata": {},
   "outputs": [
    {
     "name": "stdout",
     "output_type": "stream",
     "text": [
      "          DatabaseName           SchemaName       TableName\n",
      "14973  ApplicationData  StudentRegistration  RegistrationSP\n"
     ]
    }
   ],
   "source": [
    "d = dfappdata0179[['DatabaseName', 'SchemaName','TableName']]\n",
    "d = d.drop_duplicates()\n",
    "e = d['DatabaseName'].values[0]\n",
    "f = d['SchemaName'].values[0]\n",
    "g = d['TableName'].values[0]\n",
    "print (d)\n",
    "FileName = ('AppData_{}_{}'.format(f,g))\n",
    "\n",
    "fig = px.scatter(dfappdata0179, x = 'TodaysDate', y='RecordCount', size = 'RecordCount', color = 'RecordCount', title = '{0},{1},{2}'.format(e,f,g))\n",
    "#fig.update_layout(title='Risk Assessment: Table activity recorded',\n",
    "fig.update_layout(yaxis_zeroline=False, xaxis_zeroline=False)\n",
    "fig.update_xaxes(title_font=dict(size=18, color='crimson'))\n",
    "fig.update_yaxes(title_font=dict(size=18, color='crimson'))\n",
    "fig.update_xaxes(ticks=\"inside\")\n",
    "fig.update_yaxes(ticks=\"inside\")\n",
    "fig.update_xaxes(tickangle=45, tickfont=dict(color='crimson', size=14))\n",
    "fig.update_xaxes(showline=True, linewidth=2, linecolor='black', mirror=True, gridcolor='Pink')\n",
    "fig.update_yaxes(showline=True, linewidth=2, linecolor='black', mirror=True, gridcolor='Red')\n",
    "#fig.show()\n",
    "fig.write_html(r'C:\\Users\\eeeeeeeeee\\Documents\\JupyterAnacondaPythonNotebooks\\Daily\\Charts_px\\ApplicationData\\{}.html'.format(FileName)) #interactive_appdata_RegistrationSP_file.html')\n",
    "plt.close()"
   ]
  },
  {
   "cell_type": "code",
   "execution_count": 409,
   "metadata": {},
   "outputs": [
    {
     "name": "stdout",
     "output_type": "stream",
     "text": [
      "          DatabaseName           SchemaName     TableName\n",
      "15159  ApplicationData  StudentRegistration  RejectReason\n"
     ]
    }
   ],
   "source": [
    "d = dfappdata0180[['DatabaseName', 'SchemaName','TableName']]\n",
    "d = d.drop_duplicates()\n",
    "e = d['DatabaseName'].values[0]\n",
    "f = d['SchemaName'].values[0]\n",
    "g = d['TableName'].values[0]\n",
    "print (d)\n",
    "FileName = ('AppData_{}_{}'.format(f,g))\n",
    "\n",
    "fig = px.scatter(dfappdata0180, x = 'TodaysDate', y='RecordCount', size = 'RecordCount', color = 'RecordCount', title = '{0},{1},{2}'.format(e,f,g))\n",
    "#fig.update_layout(title='Risk Assessment: Table activity recorded',\n",
    "fig.update_layout(yaxis_zeroline=False, xaxis_zeroline=False)\n",
    "fig.update_xaxes(title_font=dict(size=18, color='crimson'))\n",
    "fig.update_yaxes(title_font=dict(size=18, color='crimson'))\n",
    "fig.update_xaxes(ticks=\"inside\")\n",
    "fig.update_yaxes(ticks=\"inside\")\n",
    "fig.update_xaxes(tickangle=45, tickfont=dict(color='crimson', size=14))\n",
    "fig.update_xaxes(showline=True, linewidth=2, linecolor='black', mirror=True, gridcolor='Pink')\n",
    "fig.update_yaxes(showline=True, linewidth=2, linecolor='black', mirror=True, gridcolor='Red')\n",
    "#fig.show()\n",
    "fig.write_html(r'C:\\Users\\eeeeeeeeee\\Documents\\JupyterAnacondaPythonNotebooks\\Daily\\Charts_px\\ApplicationData\\{}.html'.format(FileName)) #interactive_appdata_RejectReason_file.html')\n",
    "plt.close()"
   ]
  },
  {
   "cell_type": "code",
   "execution_count": 410,
   "metadata": {},
   "outputs": [
    {
     "name": "stdout",
     "output_type": "stream",
     "text": [
      "          DatabaseName           SchemaName TableName\n",
      "15252  ApplicationData  StudentRegistration      Role\n"
     ]
    }
   ],
   "source": [
    "d = dfappdata0181[['DatabaseName', 'SchemaName','TableName']]\n",
    "d = d.drop_duplicates()\n",
    "e = d['DatabaseName'].values[0]\n",
    "f = d['SchemaName'].values[0]\n",
    "g = d['TableName'].values[0]\n",
    "print (d)\n",
    "FileName = ('AppData_{}_{}'.format(f,g))\n",
    "\n",
    "fig = px.scatter(dfappdata0181, x = 'TodaysDate', y='RecordCount', size = 'RecordCount', color = 'RecordCount', title = '{0},{1},{2}'.format(e,f,g))\n",
    "#fig.update_layout(title='Risk Assessment: Table activity recorded',\n",
    "fig.update_layout(yaxis_zeroline=False, xaxis_zeroline=False)\n",
    "fig.update_xaxes(title_font=dict(size=18, color='crimson'))\n",
    "fig.update_yaxes(title_font=dict(size=18, color='crimson'))\n",
    "fig.update_xaxes(ticks=\"inside\")\n",
    "fig.update_yaxes(ticks=\"inside\")\n",
    "fig.update_xaxes(tickangle=45, tickfont=dict(color='crimson', size=14))\n",
    "fig.update_xaxes(showline=True, linewidth=2, linecolor='black', mirror=True, gridcolor='Pink')\n",
    "fig.update_yaxes(showline=True, linewidth=2, linecolor='black', mirror=True, gridcolor='Red')\n",
    "#fig.show()\n",
    "fig.write_html(r'C:\\Users\\eeeeeeeeee\\Documents\\JupyterAnacondaPythonNotebooks\\Daily\\Charts_px\\ApplicationData\\{}.html'.format(FileName)) #interactive_appdata_Role_file.html')\n",
    "plt.close()"
   ]
  },
  {
   "cell_type": "code",
   "execution_count": 411,
   "metadata": {},
   "outputs": [
    {
     "name": "stdout",
     "output_type": "stream",
     "text": [
      "          DatabaseName           SchemaName       TableName\n",
      "15345  ApplicationData  StudentRegistration  RolePermission\n"
     ]
    }
   ],
   "source": [
    "d = dfappdata0182[['DatabaseName', 'SchemaName','TableName']]\n",
    "d = d.drop_duplicates()\n",
    "e = d['DatabaseName'].values[0]\n",
    "f = d['SchemaName'].values[0]\n",
    "g = d['TableName'].values[0]\n",
    "print (d)\n",
    "FileName = ('AppData_{}_{}'.format(f,g))\n",
    "\n",
    "fig = px.scatter(dfappdata0182, x = 'TodaysDate', y='RecordCount', size = 'RecordCount', color = 'RecordCount', title = '{0},{1},{2}'.format(e,f,g))\n",
    "#fig.update_layout(title='Risk Assessment: Table activity recorded',\n",
    "fig.update_layout(yaxis_zeroline=False, xaxis_zeroline=False)\n",
    "fig.update_xaxes(title_font=dict(size=18, color='crimson'))\n",
    "fig.update_yaxes(title_font=dict(size=18, color='crimson'))\n",
    "fig.update_xaxes(ticks=\"inside\")\n",
    "fig.update_yaxes(ticks=\"inside\")\n",
    "fig.update_xaxes(tickangle=45, tickfont=dict(color='crimson', size=14))\n",
    "fig.update_xaxes(showline=True, linewidth=2, linecolor='black', mirror=True, gridcolor='Pink')\n",
    "fig.update_yaxes(showline=True, linewidth=2, linecolor='black', mirror=True, gridcolor='Red')\n",
    "#fig.show()\n",
    "fig.write_html(r'C:\\Users\\eeeeeeeeee\\Documents\\JupyterAnacondaPythonNotebooks\\Daily\\Charts_px\\ApplicationData\\{}.html'.format(FileName)) #interactive_appdata_RolePermission_file.html')\n",
    "plt.close()"
   ]
  },
  {
   "cell_type": "code",
   "execution_count": 412,
   "metadata": {},
   "outputs": [
    {
     "name": "stdout",
     "output_type": "stream",
     "text": [
      "          DatabaseName           SchemaName TableName\n",
      "15717  ApplicationData  StudentRegistration    School\n"
     ]
    }
   ],
   "source": [
    "d = dfappdata0183[['DatabaseName', 'SchemaName','TableName']]\n",
    "d = d.drop_duplicates()\n",
    "e = d['DatabaseName'].values[0]\n",
    "f = d['SchemaName'].values[0]\n",
    "g = d['TableName'].values[0]\n",
    "print (d)\n",
    "FileName = ('AppData_{}_{}'.format(f,g))\n",
    "\n",
    "fig = px.scatter(dfappdata0183, x = 'TodaysDate', y='RecordCount', size = 'RecordCount', color = 'RecordCount', title = '{0},{1},{2}'.format(e,f,g))\n",
    "#fig.update_layout(title='Risk Assessment: Table activity recorded',\n",
    "fig.update_layout(yaxis_zeroline=False, xaxis_zeroline=False)\n",
    "fig.update_xaxes(title_font=dict(size=18, color='crimson'))\n",
    "fig.update_yaxes(title_font=dict(size=18, color='crimson'))\n",
    "fig.update_xaxes(ticks=\"inside\")\n",
    "fig.update_yaxes(ticks=\"inside\")\n",
    "fig.update_xaxes(tickangle=45, tickfont=dict(color='crimson', size=14))\n",
    "fig.update_xaxes(showline=True, linewidth=2, linecolor='black', mirror=True, gridcolor='Pink')\n",
    "fig.update_yaxes(showline=True, linewidth=2, linecolor='black', mirror=True, gridcolor='Red')\n",
    "#fig.show()\n",
    "fig.write_html(r'C:\\Users\\eeeeeeeeee\\Documents\\JupyterAnacondaPythonNotebooks\\Daily\\Charts_px\\ApplicationData\\{}.html'.format(FileName)) #interactive_appdata_School_file.html')\n",
    "plt.close()"
   ]
  },
  {
   "cell_type": "code",
   "execution_count": 413,
   "metadata": {},
   "outputs": [
    {
     "name": "stdout",
     "output_type": "stream",
     "text": [
      "          DatabaseName           SchemaName   TableName\n",
      "16740  ApplicationData  StudentRegistration  Submission\n"
     ]
    }
   ],
   "source": [
    "d = dfappdata0184[['DatabaseName', 'SchemaName','TableName']]\n",
    "d = d.drop_duplicates()\n",
    "e = d['DatabaseName'].values[0]\n",
    "f = d['SchemaName'].values[0]\n",
    "g = d['TableName'].values[0]\n",
    "print (d)\n",
    "FileName = ('AppData_{}_{}'.format(f,g))\n",
    "\n",
    "fig = px.scatter(dfappdata0184, x = 'TodaysDate', y='RecordCount', size = 'RecordCount', color = 'RecordCount', title = '{0},{1},{2}'.format(e,f,g))\n",
    "#fig.update_layout(title='Risk Assessment: Table activity recorded',\n",
    "fig.update_layout(yaxis_zeroline=False, xaxis_zeroline=False)\n",
    "fig.update_xaxes(title_font=dict(size=18, color='crimson'))\n",
    "fig.update_yaxes(title_font=dict(size=18, color='crimson'))\n",
    "fig.update_xaxes(ticks=\"inside\")\n",
    "fig.update_yaxes(ticks=\"inside\")\n",
    "fig.update_xaxes(tickangle=45, tickfont=dict(color='crimson', size=14))\n",
    "fig.update_xaxes(showline=True, linewidth=2, linecolor='black', mirror=True, gridcolor='Pink')\n",
    "fig.update_yaxes(showline=True, linewidth=2, linecolor='black', mirror=True, gridcolor='Red')\n",
    "#fig.show()\n",
    "fig.write_html(r'C:\\Users\\eeeeeeeeee\\Documents\\JupyterAnacondaPythonNotebooks\\Daily\\Charts_px\\ApplicationData\\{}.html'.format(FileName)) #interactive_appdata_Submission_file.html')\n",
    "plt.close()"
   ]
  },
  {
   "cell_type": "code",
   "execution_count": 414,
   "metadata": {},
   "outputs": [
    {
     "name": "stdout",
     "output_type": "stream",
     "text": [
      "          DatabaseName           SchemaName            TableName\n",
      "17019  ApplicationData  StudentRegistration  Submission_Original\n"
     ]
    }
   ],
   "source": [
    "d = dfappdata0185[['DatabaseName', 'SchemaName','TableName']]\n",
    "d = d.drop_duplicates()\n",
    "e = d['DatabaseName'].values[0]\n",
    "f = d['SchemaName'].values[0]\n",
    "g = d['TableName'].values[0]\n",
    "print (d)\n",
    "FileName = ('AppData_{}_{}'.format(f,g))\n",
    "\n",
    "fig = px.scatter(dfappdata0185, x = 'TodaysDate', y='RecordCount', size = 'RecordCount', color = 'RecordCount', title = '{0},{1},{2}'.format(e,f,g))\n",
    "#fig.update_layout(title='Risk Assessment: Table activity recorded',\n",
    "fig.update_layout(yaxis_zeroline=False, xaxis_zeroline=False)\n",
    "fig.update_xaxes(title_font=dict(size=18, color='crimson'))\n",
    "fig.update_yaxes(title_font=dict(size=18, color='crimson'))\n",
    "fig.update_xaxes(ticks=\"inside\")\n",
    "fig.update_yaxes(ticks=\"inside\")\n",
    "fig.update_xaxes(tickangle=45, tickfont=dict(color='crimson', size=14))\n",
    "fig.update_xaxes(showline=True, linewidth=2, linecolor='black', mirror=True, gridcolor='Pink')\n",
    "fig.update_yaxes(showline=True, linewidth=2, linecolor='black', mirror=True, gridcolor='Red')\n",
    "#fig.show()\n",
    "fig.write_html(r'C:\\Users\\eeeeeeeeee\\Documents\\JupyterAnacondaPythonNotebooks\\Daily\\Charts_px\\ApplicationData\\{}.html'.format(FileName)) #interactive_appdata_Submission_Original_file.html')\n",
    "plt.close()"
   ]
  },
  {
   "cell_type": "code",
   "execution_count": 415,
   "metadata": {},
   "outputs": [
    {
     "name": "stdout",
     "output_type": "stream",
     "text": [
      "          DatabaseName           SchemaName          TableName\n",
      "16833  ApplicationData  StudentRegistration  SubmissionHistory\n"
     ]
    }
   ],
   "source": [
    "d = dfappdata0186[['DatabaseName', 'SchemaName','TableName']]\n",
    "d = d.drop_duplicates()\n",
    "e = d['DatabaseName'].values[0]\n",
    "f = d['SchemaName'].values[0]\n",
    "g = d['TableName'].values[0]\n",
    "print (d)\n",
    "FileName = ('AppData_{}_{}'.format(f,g))\n",
    "\n",
    "fig = px.scatter(dfappdata0186, x = 'TodaysDate', y='RecordCount', size = 'RecordCount', color = 'RecordCount', title = '{0},{1},{2}'.format(e,f,g))\n",
    "#fig.update_layout(title='Risk Assessment: Table activity recorded',\n",
    "fig.update_layout(yaxis_zeroline=False, xaxis_zeroline=False)\n",
    "fig.update_xaxes(title_font=dict(size=18, color='crimson'))\n",
    "fig.update_yaxes(title_font=dict(size=18, color='crimson'))\n",
    "fig.update_xaxes(ticks=\"inside\")\n",
    "fig.update_yaxes(ticks=\"inside\")\n",
    "fig.update_xaxes(tickangle=45, tickfont=dict(color='crimson', size=14))\n",
    "fig.update_xaxes(showline=True, linewidth=2, linecolor='black', mirror=True, gridcolor='Pink')\n",
    "fig.update_yaxes(showline=True, linewidth=2, linecolor='black', mirror=True, gridcolor='Red')\n",
    "#fig.show()\n",
    "fig.write_html(r'C:\\Users\\eeeeeeeeee\\Documents\\JupyterAnacondaPythonNotebooks\\Daily\\Charts_px\\ApplicationData\\{}.html'.format(FileName)) #interactive_appdata_SubmissionHistory_file.html')\n",
    "plt.close()"
   ]
  },
  {
   "cell_type": "code",
   "execution_count": 416,
   "metadata": {},
   "outputs": [
    {
     "name": "stdout",
     "output_type": "stream",
     "text": [
      "          DatabaseName           SchemaName        TableName\n",
      "16926  ApplicationData  StudentRegistration  SubmissionState\n"
     ]
    }
   ],
   "source": [
    "d = dfappdata0187[['DatabaseName', 'SchemaName','TableName']]\n",
    "d = d.drop_duplicates()\n",
    "e = d['DatabaseName'].values[0]\n",
    "f = d['SchemaName'].values[0]\n",
    "g = d['TableName'].values[0]\n",
    "print (d)\n",
    "FileName = ('AppData_{}_{}'.format(f,g))\n",
    "\n",
    "fig = px.scatter(dfappdata0187, x = 'TodaysDate', y='RecordCount', size = 'RecordCount', color = 'RecordCount', title = '{0},{1},{2}'.format(e,f,g))\n",
    "#fig.update_layout(title='Risk Assessment: Table activity recorded',\n",
    "fig.update_layout(yaxis_zeroline=False, xaxis_zeroline=False)\n",
    "fig.update_xaxes(title_font=dict(size=18, color='crimson'))\n",
    "fig.update_yaxes(title_font=dict(size=18, color='crimson'))\n",
    "fig.update_xaxes(ticks=\"inside\")\n",
    "fig.update_yaxes(ticks=\"inside\")\n",
    "fig.update_xaxes(tickangle=45, tickfont=dict(color='crimson', size=14))\n",
    "fig.update_xaxes(showline=True, linewidth=2, linecolor='black', mirror=True, gridcolor='Pink')\n",
    "fig.update_yaxes(showline=True, linewidth=2, linecolor='black', mirror=True, gridcolor='Red')\n",
    "#fig.show()\n",
    "fig.write_html(r'C:\\Users\\eeeeeeeeee\\Documents\\JupyterAnacondaPythonNotebooks\\Daily\\Charts_px\\ApplicationData\\{}.html'.format(FileName)) #interactive_appdata_SubmissionState_file.html')\n",
    "plt.close()"
   ]
  },
  {
   "cell_type": "code",
   "execution_count": 417,
   "metadata": {},
   "outputs": [
    {
     "name": "stdout",
     "output_type": "stream",
     "text": [
      "          DatabaseName           SchemaName TableName\n",
      "17670  ApplicationData  StudentRegistration      User\n"
     ]
    }
   ],
   "source": [
    "d = dfappdata0188[['DatabaseName', 'SchemaName','TableName']]\n",
    "d = d.drop_duplicates()\n",
    "e = d['DatabaseName'].values[0]\n",
    "f = d['SchemaName'].values[0]\n",
    "g = d['TableName'].values[0]\n",
    "print (d)\n",
    "FileName = ('AppData_{}_{}'.format(f,g))\n",
    "\n",
    "fig = px.scatter(dfappdata0188, x = 'TodaysDate', y='RecordCount', size = 'RecordCount', color = 'RecordCount', title = '{0},{1},{2}'.format(e,f,g))\n",
    "#fig.update_layout(title='Risk Assessment: Table activity recorded',\n",
    "fig.update_layout(yaxis_zeroline=False, xaxis_zeroline=False)\n",
    "fig.update_xaxes(title_font=dict(size=18, color='crimson'))\n",
    "fig.update_yaxes(title_font=dict(size=18, color='crimson'))\n",
    "fig.update_xaxes(ticks=\"inside\")\n",
    "fig.update_yaxes(ticks=\"inside\")\n",
    "fig.update_xaxes(tickangle=45, tickfont=dict(color='crimson', size=14))\n",
    "fig.update_xaxes(showline=True, linewidth=2, linecolor='black', mirror=True, gridcolor='Pink')\n",
    "fig.update_yaxes(showline=True, linewidth=2, linecolor='black', mirror=True, gridcolor='Red')\n",
    "#fig.show()\n",
    "fig.write_html(r'C:\\Users\\eeeeeeeeee\\Documents\\JupyterAnacondaPythonNotebooks\\Daily\\Charts_px\\ApplicationData\\{}.html'.format(FileName)) #interactive_appdata_User_file.html')\n",
    "plt.close()"
   ]
  },
  {
   "cell_type": "code",
   "execution_count": 418,
   "metadata": {},
   "outputs": [
    {
     "name": "stdout",
     "output_type": "stream",
     "text": [
      "          DatabaseName           SchemaName     TableName\n",
      "17856  ApplicationData  StudentRegistration  UserComments\n"
     ]
    }
   ],
   "source": [
    "d = dfappdata0189[['DatabaseName', 'SchemaName','TableName']]\n",
    "d = d.drop_duplicates()\n",
    "e = d['DatabaseName'].values[0]\n",
    "f = d['SchemaName'].values[0]\n",
    "g = d['TableName'].values[0]\n",
    "print (d)\n",
    "FileName = ('AppData_{}_{}'.format(f,g))\n",
    "\n",
    "fig = px.scatter(dfappdata0189, x = 'TodaysDate', y='RecordCount', size = 'RecordCount', color = 'RecordCount', title = '{0},{1},{2}'.format(e,f,g))\n",
    "#fig.update_layout(title='Risk Assessment: Table activity recorded',\n",
    "fig.update_layout(yaxis_zeroline=False, xaxis_zeroline=False)\n",
    "fig.update_xaxes(title_font=dict(size=18, color='crimson'))\n",
    "fig.update_yaxes(title_font=dict(size=18, color='crimson'))\n",
    "fig.update_xaxes(ticks=\"inside\")\n",
    "fig.update_yaxes(ticks=\"inside\")\n",
    "fig.update_xaxes(tickangle=45, tickfont=dict(color='crimson', size=14))\n",
    "fig.update_xaxes(showline=True, linewidth=2, linecolor='black', mirror=True, gridcolor='Pink')\n",
    "fig.update_yaxes(showline=True, linewidth=2, linecolor='black', mirror=True, gridcolor='Red')\n",
    "#fig.show()\n",
    "fig.write_html(r'C:\\Users\\eeeeeeeeee\\Documents\\JupyterAnacondaPythonNotebooks\\Daily\\Charts_px\\ApplicationData\\{}.html'.format(FileName)) #interactive_appdata_UserComments_file.html')\n",
    "plt.close()"
   ]
  },
  {
   "cell_type": "code",
   "execution_count": 419,
   "metadata": {},
   "outputs": [
    {
     "name": "stdout",
     "output_type": "stream",
     "text": [
      "          DatabaseName           SchemaName       TableName\n",
      "17949  ApplicationData  StudentRegistration  UserPermission\n"
     ]
    }
   ],
   "source": [
    "d = dfappdata0190[['DatabaseName', 'SchemaName','TableName']]\n",
    "d = d.drop_duplicates()\n",
    "e = d['DatabaseName'].values[0]\n",
    "f = d['SchemaName'].values[0]\n",
    "g = d['TableName'].values[0]\n",
    "print (d)\n",
    "FileName = ('AppData_{}_{}'.format(f,g))\n",
    "\n",
    "fig = px.scatter(dfappdata0190, x = 'TodaysDate', y='RecordCount', size = 'RecordCount', color = 'RecordCount', title = '{0},{1},{2}'.format(e,f,g))\n",
    "#fig.update_layout(title='Risk Assessment: Table activity recorded',\n",
    "fig.update_layout(yaxis_zeroline=False, xaxis_zeroline=False)\n",
    "fig.update_xaxes(title_font=dict(size=18, color='crimson'))\n",
    "fig.update_yaxes(title_font=dict(size=18, color='crimson'))\n",
    "fig.update_xaxes(ticks=\"inside\")\n",
    "fig.update_yaxes(ticks=\"inside\")\n",
    "fig.update_xaxes(tickangle=45, tickfont=dict(color='crimson', size=14))\n",
    "fig.update_xaxes(showline=True, linewidth=2, linecolor='black', mirror=True, gridcolor='Pink')\n",
    "fig.update_yaxes(showline=True, linewidth=2, linecolor='black', mirror=True, gridcolor='Red')\n",
    "#fig.show()\n",
    "fig.write_html(r'C:\\Users\\eeeeeeeeee\\Documents\\JupyterAnacondaPythonNotebooks\\Daily\\Charts_px\\ApplicationData\\{}.html'.format(FileName)) #interactive_appdata_UserPermission_file.html')\n",
    "plt.close()"
   ]
  },
  {
   "cell_type": "code",
   "execution_count": 420,
   "metadata": {},
   "outputs": [
    {
     "name": "stdout",
     "output_type": "stream",
     "text": [
      "          DatabaseName           SchemaName           TableName\n",
      "18042  ApplicationData  StudentRegistration  UserRolePermission\n"
     ]
    }
   ],
   "source": [
    "d = dfappdata0191[['DatabaseName', 'SchemaName','TableName']]\n",
    "d = d.drop_duplicates()\n",
    "e = d['DatabaseName'].values[0]\n",
    "f = d['SchemaName'].values[0]\n",
    "g = d['TableName'].values[0]\n",
    "print (d)\n",
    "FileName = ('AppData_{}_{}'.format(f,g))\n",
    "\n",
    "fig = px.scatter(dfappdata0191, x = 'TodaysDate', y='RecordCount', size = 'RecordCount', color = 'RecordCount', title = '{0},{1},{2}'.format(e,f,g))\n",
    "#fig.update_layout(title='Risk Assessment: Table activity recorded',\n",
    "fig.update_layout(yaxis_zeroline=False, xaxis_zeroline=False)\n",
    "fig.update_xaxes(title_font=dict(size=18, color='crimson'))\n",
    "fig.update_yaxes(title_font=dict(size=18, color='crimson'))\n",
    "fig.update_xaxes(ticks=\"inside\")\n",
    "fig.update_yaxes(ticks=\"inside\")\n",
    "fig.update_xaxes(tickangle=45, tickfont=dict(color='crimson', size=14))\n",
    "fig.update_xaxes(showline=True, linewidth=2, linecolor='black', mirror=True, gridcolor='Pink')\n",
    "fig.update_yaxes(showline=True, linewidth=2, linecolor='black', mirror=True, gridcolor='Red')\n",
    "#fig.show()\n",
    "fig.write_html(r'C:\\Users\\eeeeeeeeee\\Documents\\JupyterAnacondaPythonNotebooks\\Daily\\Charts_px\\ApplicationData\\{}.html'.format(FileName)) #interactive_appdata_UserRolePermission_file.html')\n",
    "plt.close()"
   ]
  },
  {
   "cell_type": "code",
   "execution_count": 421,
   "metadata": {},
   "outputs": [
    {
     "name": "stdout",
     "output_type": "stream",
     "text": [
      "          DatabaseName           SchemaName  TableName\n",
      "18135  ApplicationData  StudentRegistration  UserRoles\n"
     ]
    }
   ],
   "source": [
    "d = dfappdata0192[['DatabaseName', 'SchemaName','TableName']]\n",
    "d = d.drop_duplicates()\n",
    "e = d['DatabaseName'].values[0]\n",
    "f = d['SchemaName'].values[0]\n",
    "g = d['TableName'].values[0]\n",
    "print (d)\n",
    "FileName = ('AppData_{}_{}'.format(f,g))\n",
    "\n",
    "fig = px.scatter(dfappdata0192, x = 'TodaysDate', y='RecordCount', size = 'RecordCount', color = 'RecordCount', title = '{0},{1},{2}'.format(e,f,g))\n",
    "#fig.update_layout(title='Risk Assessment: Table activity recorded',\n",
    "fig.update_layout(yaxis_zeroline=False, xaxis_zeroline=False)\n",
    "fig.update_xaxes(title_font=dict(size=18, color='crimson'))\n",
    "fig.update_yaxes(title_font=dict(size=18, color='crimson'))\n",
    "fig.update_xaxes(ticks=\"inside\")\n",
    "fig.update_yaxes(ticks=\"inside\")\n",
    "fig.update_xaxes(tickangle=45, tickfont=dict(color='crimson', size=14))\n",
    "fig.update_xaxes(showline=True, linewidth=2, linecolor='black', mirror=True, gridcolor='Pink')\n",
    "fig.update_yaxes(showline=True, linewidth=2, linecolor='black', mirror=True, gridcolor='Red')\n",
    "#fig.show()\n",
    "fig.write_html(r'C:\\Users\\eeeeeeeeee\\Documents\\JupyterAnacondaPythonNotebooks\\Daily\\Charts_px\\ApplicationData\\{}.html'.format(FileName)) #interactive_appdata_UserRoles_file.html')\n",
    "plt.close()"
   ]
  },
  {
   "cell_type": "code",
   "execution_count": 422,
   "metadata": {},
   "outputs": [
    {
     "name": "stdout",
     "output_type": "stream",
     "text": [
      "        DatabaseName       SchemaName              TableName\n",
      "372  ApplicationData  TCAccommodation  AccommodationToColMap\n"
     ]
    }
   ],
   "source": [
    "d = dfappdata0193[['DatabaseName', 'SchemaName','TableName']]\n",
    "d = d.drop_duplicates()\n",
    "e = d['DatabaseName'].values[0]\n",
    "f = d['SchemaName'].values[0]\n",
    "g = d['TableName'].values[0]\n",
    "print (d)\n",
    "FileName = ('AppData_{}_{}'.format(f,g))\n",
    "\n",
    "fig = px.scatter(dfappdata0050, x = 'TodaysDate', y='RecordCount', size = 'RecordCount', color = 'RecordCount', title = '{0},{1},{2}'.format(e,f,g))\n",
    "#fig.update_layout(title='Risk Assessment: Table activity recorded',\n",
    "fig.update_layout(yaxis_zeroline=False, xaxis_zeroline=False)\n",
    "fig.update_xaxes(title_font=dict(size=18, color='crimson'))\n",
    "fig.update_yaxes(title_font=dict(size=18, color='crimson'))\n",
    "fig.update_xaxes(ticks=\"inside\")\n",
    "fig.update_yaxes(ticks=\"inside\")\n",
    "fig.update_xaxes(tickangle=45, tickfont=dict(color='crimson', size=14))\n",
    "fig.update_xaxes(showline=True, linewidth=2, linecolor='black', mirror=True, gridcolor='Pink')\n",
    "fig.update_yaxes(showline=True, linewidth=2, linecolor='black', mirror=True, gridcolor='Red')\n",
    "#fig.show()\n",
    "fig.write_html(r'C:\\Users\\eeeeeeeeee\\Documents\\JupyterAnacondaPythonNotebooks\\Daily\\Charts_px\\ApplicationData\\{}.html'.format(FileName)) #interactive_appdata_AccommodationToColMap_file.html')\n",
    "plt.close()"
   ]
  },
  {
   "cell_type": "code",
   "execution_count": 423,
   "metadata": {},
   "outputs": [
    {
     "name": "stdout",
     "output_type": "stream",
     "text": [
      "         DatabaseName       SchemaName           TableName\n",
      "2139  ApplicationData  TCAccommodation  CombinedReportData\n"
     ]
    }
   ],
   "source": [
    "d = dfappdata0194[['DatabaseName', 'SchemaName','TableName']]\n",
    "d = d.drop_duplicates()\n",
    "e = d['DatabaseName'].values[0]\n",
    "f = d['SchemaName'].values[0]\n",
    "g = d['TableName'].values[0]\n",
    "print (d)\n",
    "FileName = ('AppData_{}_{}'.format(f,g))\n",
    "\n",
    "fig = px.scatter(dfappdata0194, x = 'TodaysDate', y='RecordCount', size = 'RecordCount', color = 'RecordCount', title = '{0},{1},{2}'.format(e,f,g))\n",
    "#fig.update_layout(title='Risk Assessment: Table activity recorded',\n",
    "fig.update_layout(yaxis_zeroline=False, xaxis_zeroline=False)\n",
    "fig.update_xaxes(title_font=dict(size=18, color='crimson'))\n",
    "fig.update_yaxes(title_font=dict(size=18, color='crimson'))\n",
    "fig.update_xaxes(ticks=\"inside\")\n",
    "fig.update_yaxes(ticks=\"inside\")\n",
    "fig.update_xaxes(tickangle=45, tickfont=dict(color='crimson', size=14))\n",
    "fig.update_xaxes(showline=True, linewidth=2, linecolor='black', mirror=True, gridcolor='Pink')\n",
    "fig.update_yaxes(showline=True, linewidth=2, linecolor='black', mirror=True, gridcolor='Red')\n",
    "#fig.show()\n",
    "fig.write_html(r'C:\\Users\\eeeeeeeeee\\Documents\\JupyterAnacondaPythonNotebooks\\Daily\\Charts_px\\ApplicationData\\{}.html'.format(FileName)) #interactive_appdata_CombinedReportData_file.html')\n",
    "plt.close()"
   ]
  },
  {
   "cell_type": "code",
   "execution_count": 424,
   "metadata": {},
   "outputs": [
    {
     "name": "stdout",
     "output_type": "stream",
     "text": [
      "          DatabaseName       SchemaName          TableName\n",
      "11997  ApplicationData  TCAccommodation  IEPAccommodations\n"
     ]
    }
   ],
   "source": [
    "d = dfappdata0195[['DatabaseName', 'SchemaName','TableName']]\n",
    "d = d.drop_duplicates()\n",
    "e = d['DatabaseName'].values[0]\n",
    "f = d['SchemaName'].values[0]\n",
    "g = d['TableName'].values[0]\n",
    "print (d)\n",
    "FileName = ('AppData_{}_{}'.format(f,g))\n",
    "\n",
    "fig = px.scatter(dfappdata0195, x = 'TodaysDate', y='RecordCount', size = 'RecordCount', color = 'RecordCount', title = '{0},{1},{2}'.format(e,f,g))\n",
    "#fig.update_layout(title='Risk Assessment: Table activity recorded',\n",
    "fig.update_layout(yaxis_zeroline=False, xaxis_zeroline=False)\n",
    "fig.update_xaxes(title_font=dict(size=18, color='crimson'))\n",
    "fig.update_yaxes(title_font=dict(size=18, color='crimson'))\n",
    "fig.update_xaxes(ticks=\"inside\")\n",
    "fig.update_yaxes(ticks=\"inside\")\n",
    "fig.update_xaxes(tickangle=45, tickfont=dict(color='crimson', size=14))\n",
    "fig.update_xaxes(showline=True, linewidth=2, linecolor='black', mirror=True, gridcolor='Pink')\n",
    "fig.update_yaxes(showline=True, linewidth=2, linecolor='black', mirror=True, gridcolor='Red')\n",
    "#fig.show()\n",
    "fig.write_html(r'C:\\Users\\eeeeeeeeee\\Documents\\JupyterAnacondaPythonNotebooks\\Daily\\Charts_px\\ApplicationData\\{}.html'.format(FileName)) #interactive_appdata_IEPAccommodations_file.html')\n",
    "plt.close()"
   ]
  },
  {
   "cell_type": "code",
   "execution_count": 425,
   "metadata": {},
   "outputs": [
    {
     "name": "stdout",
     "output_type": "stream",
     "text": [
      "          DatabaseName       SchemaName               TableName\n",
      "16647  ApplicationData  TCAccommodation  StudentTeacherSchedule\n"
     ]
    }
   ],
   "source": [
    "d = dfappdata0196[['DatabaseName', 'SchemaName','TableName']]\n",
    "d = d.drop_duplicates()\n",
    "e = d['DatabaseName'].values[0]\n",
    "f = d['SchemaName'].values[0]\n",
    "g = d['TableName'].values[0]\n",
    "print (d)\n",
    "FileName = ('AppData_{}_{}'.format(f,g))\n",
    "\n",
    "fig = px.scatter(dfappdata0196, x = 'TodaysDate', y='RecordCount', size = 'RecordCount', color = 'RecordCount', title = '{0},{1},{2}'.format(e,f,g))\n",
    "#fig.update_layout(title='Risk Assessment: Table activity recorded',\n",
    "fig.update_layout(yaxis_zeroline=False, xaxis_zeroline=False)\n",
    "fig.update_xaxes(title_font=dict(size=18, color='crimson'))\n",
    "fig.update_yaxes(title_font=dict(size=18, color='crimson'))\n",
    "fig.update_xaxes(ticks=\"inside\")\n",
    "fig.update_yaxes(ticks=\"inside\")\n",
    "fig.update_xaxes(tickangle=45, tickfont=dict(color='crimson', size=14))\n",
    "fig.update_xaxes(showline=True, linewidth=2, linecolor='black', mirror=True, gridcolor='Pink')\n",
    "fig.update_yaxes(showline=True, linewidth=2, linecolor='black', mirror=True, gridcolor='Red')\n",
    "#fig.show()\n",
    "fig.write_html(r'C:\\Users\\eeeeeeeeee\\Documents\\JupyterAnacondaPythonNotebooks\\Daily\\Charts_px\\ApplicationData\\{}.html'.format(FileName)) #interactive_appdata_StudentTeacherSchedule_file.html')\n",
    "plt.close()"
   ]
  },
  {
   "cell_type": "code",
   "execution_count": 426,
   "metadata": {
    "scrolled": true
   },
   "outputs": [
    {
     "name": "stdout",
     "output_type": "stream",
     "text": [
      "          DatabaseName       SchemaName  TableName\n",
      "17391  ApplicationData  TCAccommodation  TPP_Notes\n"
     ]
    }
   ],
   "source": [
    "d = dfappdata0197[['DatabaseName', 'SchemaName','TableName']]\n",
    "d = d.drop_duplicates()\n",
    "e = d['DatabaseName'].values[0]\n",
    "f = d['SchemaName'].values[0]\n",
    "g = d['TableName'].values[0]\n",
    "print (d)\n",
    "FileName = ('AppData_{}_{}'.format(f,g))\n",
    "\n",
    "fig = px.scatter(dfappdata0197, x = 'TodaysDate', y='RecordCount', size = 'RecordCount', color = 'RecordCount', title = '{0},{1},{2}'.format(e,f,g))\n",
    "#fig.update_layout(title='Risk Assessment: Table activity recorded',\n",
    "fig.update_layout(yaxis_zeroline=False, xaxis_zeroline=False)\n",
    "fig.update_xaxes(title_font=dict(size=18, color='crimson'))\n",
    "fig.update_yaxes(title_font=dict(size=18, color='crimson'))\n",
    "fig.update_xaxes(ticks=\"inside\")\n",
    "fig.update_yaxes(ticks=\"inside\")\n",
    "fig.update_xaxes(tickangle=45, tickfont=dict(color='crimson', size=14))\n",
    "fig.update_xaxes(showline=True, linewidth=2, linecolor='black', mirror=True, gridcolor='Pink')\n",
    "fig.update_yaxes(showline=True, linewidth=2, linecolor='black', mirror=True, gridcolor='Red')\n",
    "#fig.show()\n",
    "fig.write_html(r'C:\\Users\\eeeeeeeeee\\Documents\\JupyterAnacondaPythonNotebooks\\Daily\\Charts_px\\ApplicationData\\{}.html'.format(FileName)) #interactive_appdata_TPP_Notes_file.html')\n",
    "plt.close()"
   ]
  },
  {
   "cell_type": "code",
   "execution_count": 427,
   "metadata": {},
   "outputs": [
    {
     "name": "stdout",
     "output_type": "stream",
     "text": [
      "Interactive Chart Creation - Process Complete:  2021-05-10 16:13:19\n"
     ]
    }
   ],
   "source": [
    "now01 = datetime.datetime.now()\n",
    "print('Interactive Chart Creation - Process Complete: ', now01.strftime(\"%Y-%m-%d %H:%M:%S\"))"
   ]
  }
 ],
 "metadata": {
  "kernelspec": {
   "display_name": "Python 3",
   "language": "python",
   "name": "python3"
  },
  "language_info": {
   "codemirror_mode": {
    "name": "ipython",
    "version": 3
   },
   "file_extension": ".py",
   "mimetype": "text/x-python",
   "name": "python",
   "nbconvert_exporter": "python",
   "pygments_lexer": "ipython3",
   "version": "3.8.3"
  }
 },
 "nbformat": 4,
 "nbformat_minor": 4
}
