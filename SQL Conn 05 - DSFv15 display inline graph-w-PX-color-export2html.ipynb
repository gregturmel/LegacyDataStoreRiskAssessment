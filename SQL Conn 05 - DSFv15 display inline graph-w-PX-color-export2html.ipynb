{
 "cells": [
  {
   "cell_type": "code",
   "execution_count": 1,
   "metadata": {},
   "outputs": [],
   "source": [
    "#Program Name: Graphing ODS Databases - SQL Conn 05 - DSF15 display inline graph-w-PX-color-export2html\n",
    "#Purpose:  Chart scatter, line, box, aggr, violin, or bar with table data\n",
    "#Author:  Greg Turmel, Director, Data Governance \n",
    "#Date:    2020.08.30 - 2021.06.30\n",
    "#Errata:  0.1 Improvements can be made to script using for/looping through the databases\n",
    "\n",
    "import os, time, datetime\n",
    "import sqlalchemy as db\n",
    "import pandas as pd\n",
    "import numpy as np\n",
    "from matplotlib import pyplot as plt\n",
    "import pyodbc \n",
    "import matplotlib\n",
    "import plotly.express as px\n",
    "\n",
    "#matplotlib.rcParams['figure.figsize'] = (30,5)\n",
    "%config InlineBackend.figure_format = 'retina'\n",
    "from dotenv import load_dotenv # add this line\n",
    "load_dotenv() # add this line\n",
    "user = os.getenv('MySQLeUser')\n",
    "password = os.getenv('MySQLeUserPass')\n",
    "host = os.getenv('MySQLeHOST')\n",
    "db = os.getenv('MySQLeDB')\n",
    "%matplotlib inline\n",
    "%load_ext sql\n",
    "\n",
    "dt1 = time.strftime(\"%d/%m/%Y\")\n",
    "dt2 = time.strftime(\"%d.%m.%Y\")\n",
    "dt3 = pd.to_datetime('today')\n",
    "dt4 = pd.Timestamp('today').strftime(\"%Y%m%d\")"
   ]
  },
  {
   "cell_type": "code",
   "execution_count": 2,
   "metadata": {},
   "outputs": [
    {
     "name": "stdout",
     "output_type": "stream",
     "text": [
      "Parent Directory is:  C:\\Users\\e201873842\\Documents\\Py\n",
      "Directory: Daily >>> Note ---- this folder already exists <<<\n",
      "Program Directory subfolder has been created:  C:\\Users\\e201873842\\Documents\\Py\\Daily\\Charts_px\\DownstreamFeedsV15Testing\n",
      "1.1.0 Processing Step Complete:  2021-06-17 10:48:41\n"
     ]
    }
   ],
   "source": [
    "# This segment builds the appropriatte file system structure as a variable driven exercise\n",
    "# Take time to set your 'eeeeeeeeee' number as variable 'pn' below \n",
    "# and set the program directory variable called 'programDirectory' before running\n",
    "# ===================================================================================================================\n",
    "pn = r'eeeeeeeeee'     #This represents the windows system employee login folder - IBM team uses a 9 number\n",
    "# ===================================================================================================================\n",
    "#r'C:\\Users\\eeeeeeeeee\\Documents\\Py\\Daily\\Charts_px\\ApplicationData\\{}.html'.format(FileName))\n",
    "\n",
    "programDirectory = 'Daily' # Update this variable to wherever you want the program subfolder/files to be located \n",
    "un = r'C:\\Users'\n",
    "cn = r'Documents\\Py'\n",
    "pc = r'Charts_px'\n",
    "tn = r'DownstreamFeedsV15Testing'\n",
    "\n",
    "#Set a parent directory\n",
    "parentDirectory = \"{}\\{}\\{}\".format(un,pn,cn)\n",
    "print('Parent Directory is: ', parentDirectory)\n",
    "mode = 0o666\n",
    "\n",
    "#Set path location for working with local file(s)\n",
    "path = os.path.join(parentDirectory, programDirectory,)\n",
    "pathT = os.path.join(parentDirectory, programDirectory, pc, tn)\n",
    "\n",
    "try:\n",
    "    if not os.path.exists(path):\n",
    "        os.makedirs(path, mode)\n",
    "        print('Program Directory subfolder has been created: ', programDirectory)\n",
    "    else:\n",
    "        print('Directory:', programDirectory, '>>> Note ---- this folder already exists <<<')\n",
    "except OSError as error:\n",
    "    print(error)\n",
    "    pass\n",
    "\n",
    "try:\n",
    "    if not os.path.exists(pathT):\n",
    "        os.makedirs(pathT, mode)\n",
    "        print('Program Directory subfolder has been created: ', pathT)\n",
    "    else:\n",
    "        print('Directory:', pathT, '>>> Note ---- this folder already exists <<<')\n",
    "except OSError as error:\n",
    "    print(error)\n",
    "    pass\n",
    "\n",
    "now01 = datetime.datetime.now()\n",
    "print('1.1.0 Processing Step Complete: ',now01.strftime(\"%Y-%m-%d %H:%M:%S\"))"
   ]
  },
  {
   "cell_type": "code",
   "execution_count": 3,
   "metadata": {},
   "outputs": [],
   "source": [
    "conn = pyodbc.connect('Driver={SQL Server};'\n",
    "                      'Server=DEVODSSQL;'\n",
    "                      'Database=Greg;'\n",
    "                      'Trusted_Connection=yes;')\n",
    "\n",
    "sql_query01 = pd.read_sql_query(''' \n",
    "select DISTINCT TableName\n",
    "FROM [dbo].[tableRowCountDownstreamFeedsV15]\n",
    "ORDER BY TableName;     \n",
    "                              '''\n",
    "                              ,conn) # Load the list of distinct tables to graph\n",
    "\n",
    "sql_query02 = pd.read_sql_query(''' \n",
    "select *\n",
    "FROM [dbo].[tableRowCountDownstreamFeedsV15]\n",
    "ORDER BY TableName;     \n",
    "                              '''\n",
    "                              ,conn) # Load the list of distinct tables to graph\n"
   ]
  },
  {
   "cell_type": "code",
   "execution_count": 4,
   "metadata": {},
   "outputs": [],
   "source": [
    "df = pd.DataFrame(sql_query02)\n",
    "#df = df.astype({'TodaysDate':np.int64,'RecordCount':np.int64})\n",
    "df['TodaysDate'] = pd.to_datetime(df['TodaysDate'].astype(str), format='%Y%m%d')\n",
    "df = df.sort_values(by=['TableName','SchemaName','DatabaseName','TodaysDate'], ascending=[True,True,True,True])\n",
    "df = df.reset_index(drop=True)"
   ]
  },
  {
   "cell_type": "code",
   "execution_count": 5,
   "metadata": {},
   "outputs": [
    {
     "data": {
      "text/html": [
       "<div>\n",
       "<style scoped>\n",
       "    .dataframe tbody tr th:only-of-type {\n",
       "        vertical-align: middle;\n",
       "    }\n",
       "\n",
       "    .dataframe tbody tr th {\n",
       "        vertical-align: top;\n",
       "    }\n",
       "\n",
       "    .dataframe thead th {\n",
       "        text-align: right;\n",
       "    }\n",
       "</style>\n",
       "<table border=\"1\" class=\"dataframe\">\n",
       "  <thead>\n",
       "    <tr style=\"text-align: right;\">\n",
       "      <th></th>\n",
       "      <th>TodaysDate</th>\n",
       "      <th>DatabaseName</th>\n",
       "      <th>SchemaName</th>\n",
       "      <th>TableName</th>\n",
       "      <th>RecordCount</th>\n",
       "      <th>Ddifference</th>\n",
       "    </tr>\n",
       "  </thead>\n",
       "  <tbody>\n",
       "    <tr>\n",
       "      <th>0</th>\n",
       "      <td>2020-12-23</td>\n",
       "      <td>DownstreamFeeds_V1.5</td>\n",
       "      <td>dbo</td>\n",
       "      <td>AftSch_Profile_WorkTbl</td>\n",
       "      <td>32</td>\n",
       "      <td>0</td>\n",
       "    </tr>\n",
       "    <tr>\n",
       "      <th>1</th>\n",
       "      <td>2020-12-24</td>\n",
       "      <td>DownstreamFeeds_V1.5</td>\n",
       "      <td>dbo</td>\n",
       "      <td>AftSch_Profile_WorkTbl</td>\n",
       "      <td>32</td>\n",
       "      <td>0</td>\n",
       "    </tr>\n",
       "    <tr>\n",
       "      <th>2</th>\n",
       "      <td>2020-12-25</td>\n",
       "      <td>DownstreamFeeds_V1.5</td>\n",
       "      <td>dbo</td>\n",
       "      <td>AftSch_Profile_WorkTbl</td>\n",
       "      <td>32</td>\n",
       "      <td>0</td>\n",
       "    </tr>\n",
       "    <tr>\n",
       "      <th>3</th>\n",
       "      <td>2020-12-26</td>\n",
       "      <td>DownstreamFeeds_V1.5</td>\n",
       "      <td>dbo</td>\n",
       "      <td>AftSch_Profile_WorkTbl</td>\n",
       "      <td>32</td>\n",
       "      <td>0</td>\n",
       "    </tr>\n",
       "    <tr>\n",
       "      <th>4</th>\n",
       "      <td>2020-12-28</td>\n",
       "      <td>DownstreamFeeds_V1.5</td>\n",
       "      <td>dbo</td>\n",
       "      <td>AftSch_Profile_WorkTbl</td>\n",
       "      <td>32</td>\n",
       "      <td>0</td>\n",
       "    </tr>\n",
       "  </tbody>\n",
       "</table>\n",
       "</div>"
      ],
      "text/plain": [
       "  TodaysDate          DatabaseName SchemaName               TableName  \\\n",
       "0 2020-12-23  DownstreamFeeds_V1.5        dbo  AftSch_Profile_WorkTbl   \n",
       "1 2020-12-24  DownstreamFeeds_V1.5        dbo  AftSch_Profile_WorkTbl   \n",
       "2 2020-12-25  DownstreamFeeds_V1.5        dbo  AftSch_Profile_WorkTbl   \n",
       "3 2020-12-26  DownstreamFeeds_V1.5        dbo  AftSch_Profile_WorkTbl   \n",
       "4 2020-12-28  DownstreamFeeds_V1.5        dbo  AftSch_Profile_WorkTbl   \n",
       "\n",
       "   RecordCount  Ddifference  \n",
       "0           32            0  \n",
       "1           32            0  \n",
       "2           32            0  \n",
       "3           32            0  \n",
       "4           32            0  "
      ]
     },
     "execution_count": 5,
     "metadata": {},
     "output_type": "execute_result"
    }
   ],
   "source": [
    "df.head()"
   ]
  },
  {
   "cell_type": "code",
   "execution_count": 6,
   "metadata": {},
   "outputs": [],
   "source": [
    "dfdsfv150001 = df[(df['DatabaseName'] == 'DownstreamFeeds_V1.5') & (df['SchemaName'] == 'dbo') & (df['TableName'] == 'AftSch_Profile_WorkTbl')]\n",
    "dfdsfv150002 = df[(df['DatabaseName'] == 'DownstreamFeeds_V1.5') & (df['SchemaName'] == 'dbo') & (df['TableName'] == 'ContactCode')]\n",
    "dfdsfv150003 = df[(df['DatabaseName'] == 'DownstreamFeeds_V1.5') & (df['SchemaName'] == 'dbo') & (df['TableName'] == 'course_departments')]\n",
    "dfdsfv150004 = df[(df['DatabaseName'] == 'DownstreamFeeds_V1.5') & (df['SchemaName'] == 'dbo') & (df['TableName'] == 'D2LExportFiles')]\n",
    "dfdsfv150005 = df[(df['DatabaseName'] == 'DownstreamFeeds_V1.5') & (df['SchemaName'] == 'dbo') & (df['TableName'] == 'D2LGradebookPaths')]\n",
    "dfdsfv150006 = df[(df['DatabaseName'] == 'DownstreamFeeds_V1.5') & (df['SchemaName'] == 'dbo') & (df['TableName'] == 'D2LHoldingTankTeacherCorrections')]\n",
    "dfdsfv150007 = df[(df['DatabaseName'] == 'DownstreamFeeds_V1.5') & (df['SchemaName'] == 'dbo') & (df['TableName'] == 'Destiny_Schools')]\n",
    "dfdsfv150008 = df[(df['DatabaseName'] == 'DownstreamFeeds_V1.5') & (df['SchemaName'] == 'dbo') & (df['TableName'] == 'DestinySASISTAFF_P')]\n",
    "dfdsfv150009 = df[(df['DatabaseName'] == 'DownstreamFeeds_V1.5') & (df['SchemaName'] == 'dbo') & (df['TableName'] == 'DestinyStudentEMH')]\n",
    "dfdsfv150010 = df[(df['DatabaseName'] == 'DownstreamFeeds_V1.5') & (df['SchemaName'] == 'dbo') & (df['TableName'] == 'DestinyStudentEMH_TM')]\n",
    "dfdsfv150011 = df[(df['DatabaseName'] == 'DownstreamFeeds_V1.5') & (df['SchemaName'] == 'dbo') & (df['TableName'] == 'DestinyStudentEMH2')]\n",
    "dfdsfv150012 = df[(df['DatabaseName'] == 'DownstreamFeeds_V1.5') & (df['SchemaName'] == 'dbo') & (df['TableName'] == 'DestinyStudentP')]\n",
    "dfdsfv150013 = df[(df['DatabaseName'] == 'DownstreamFeeds_V1.5') & (df['SchemaName'] == 'dbo') & (df['TableName'] == 'DestinyStudentP2')]\n",
    "dfdsfv150014 = df[(df['DatabaseName'] == 'DownstreamFeeds_V1.5') & (df['SchemaName'] == 'dbo') & (df['TableName'] == 'DestinyStudentSS')]\n",
    "dfdsfv150015 = df[(df['DatabaseName'] == 'DownstreamFeeds_V1.5') & (df['SchemaName'] == 'dbo') & (df['TableName'] == 'DestinyTextbook_ALL')]\n",
    "dfdsfv150016 = df[(df['DatabaseName'] == 'DownstreamFeeds_V1.5') & (df['SchemaName'] == 'dbo') & (df['TableName'] == 'DestinyTextbook_E')]\n",
    "dfdsfv150017 = df[(df['DatabaseName'] == 'DownstreamFeeds_V1.5') & (df['SchemaName'] == 'dbo') & (df['TableName'] == 'DestinyTextbook_E_save')]\n",
    "dfdsfv150018 = df[(df['DatabaseName'] == 'DownstreamFeeds_V1.5') & (df['SchemaName'] == 'dbo') & (df['TableName'] == 'DestinyTextbook_HM')]\n",
    "dfdsfv150019 = df[(df['DatabaseName'] == 'DownstreamFeeds_V1.5') & (df['SchemaName'] == 'dbo') & (df['TableName'] == 'DestinyTextbook_HM_temp2')]\n",
    "dfdsfv150020 = df[(df['DatabaseName'] == 'DownstreamFeeds_V1.5') & (df['SchemaName'] == 'dbo') & (df['TableName'] == 'DestinyTextbook_HME')]\n",
    "dfdsfv150021 = df[(df['DatabaseName'] == 'DownstreamFeeds_V1.5') & (df['SchemaName'] == 'dbo') & (df['TableName'] == 'DestinyTextbook_SS')]\n",
    "dfdsfv150022 = df[(df['DatabaseName'] == 'DownstreamFeeds_V1.5') & (df['SchemaName'] == 'dbo') & (df['TableName'] == 'DuplPermnum')]\n",
    "dfdsfv150023 = df[(df['DatabaseName'] == 'DownstreamFeeds_V1.5') & (df['SchemaName'] == 'dbo') & (df['TableName'] == 'es_course_departments')]\n",
    "dfdsfv150024 = df[(df['DatabaseName'] == 'DownstreamFeeds_V1.5') & (df['SchemaName'] == 'dbo') & (df['TableName'] == 'ES_Course_depts2011_12')]\n",
    "dfdsfv150025 = df[(df['DatabaseName'] == 'DownstreamFeeds_V1.5') & (df['SchemaName'] == 'dbo') & (df['TableName'] == 'ES_Course_depts2012-13')]\n",
    "dfdsfv150026 = df[(df['DatabaseName'] == 'DownstreamFeeds_V1.5') & (df['SchemaName'] == 'dbo') & (df['TableName'] == 'ES_Course_depts2013-14')]\n",
    "dfdsfv150027 = df[(df['DatabaseName'] == 'DownstreamFeeds_V1.5') & (df['SchemaName'] == 'dbo') & (df['TableName'] == 'ES_Course_depts2013-14-S2')]\n",
    "dfdsfv150028 = df[(df['DatabaseName'] == 'DownstreamFeeds_V1.5') & (df['SchemaName'] == 'dbo') & (df['TableName'] == 'ES_Course_depts2014-15')]\n",
    "dfdsfv150029 = df[(df['DatabaseName'] == 'DownstreamFeeds_V1.5') & (df['SchemaName'] == 'dbo') & (df['TableName'] == 'ES_Course_Depts2014-15_rev')]\n",
    "dfdsfv150030 = df[(df['DatabaseName'] == 'DownstreamFeeds_V1.5') & (df['SchemaName'] == 'dbo') & (df['TableName'] == 'G_GTID')]\n",
    "dfdsfv150031 = df[(df['DatabaseName'] == 'DownstreamFeeds_V1.5') & (df['SchemaName'] == 'dbo') & (df['TableName'] == 'HS_Course_Depts2011-12')]\n",
    "dfdsfv150032 = df[(df['DatabaseName'] == 'DownstreamFeeds_V1.5') & (df['SchemaName'] == 'dbo') & (df['TableName'] == 'HS_Course_depts2012-13')]\n",
    "dfdsfv150033 = df[(df['DatabaseName'] == 'DownstreamFeeds_V1.5') & (df['SchemaName'] == 'dbo') & (df['TableName'] == 'HS_Course_depts2013-14')]\n",
    "dfdsfv150034 = df[(df['DatabaseName'] == 'DownstreamFeeds_V1.5') & (df['SchemaName'] == 'dbo') & (df['TableName'] == 'HS_Course_depts2013-14-S2')]\n",
    "dfdsfv150035 = df[(df['DatabaseName'] == 'DownstreamFeeds_V1.5') & (df['SchemaName'] == 'dbo') & (df['TableName'] == 'HS_Course_depts2014-15')]\n",
    "dfdsfv150036 = df[(df['DatabaseName'] == 'DownstreamFeeds_V1.5') & (df['SchemaName'] == 'dbo') & (df['TableName'] == 'HS_Course_Depts2014-15_rev')]\n",
    "dfdsfv150037 = df[(df['DatabaseName'] == 'DownstreamFeeds_V1.5') & (df['SchemaName'] == 'dbo') & (df['TableName'] == 'Import')]\n",
    "dfdsfv150038 = df[(df['DatabaseName'] == 'DownstreamFeeds_V1.5') & (df['SchemaName'] == 'dbo') & (df['TableName'] == 'jean2DestinySchool')]\n",
    "dfdsfv150039 = df[(df['DatabaseName'] == 'DownstreamFeeds_V1.5') & (df['SchemaName'] == 'dbo') & (df['TableName'] == 'jeanDESTINY_SCHOOLS')]\n",
    "dfdsfv150040 = df[(df['DatabaseName'] == 'DownstreamFeeds_V1.5') & (df['SchemaName'] == 'dbo') & (df['TableName'] == 'LoadTbl')]\n",
    "dfdsfv150041 = df[(df['DatabaseName'] == 'DownstreamFeeds_V1.5') & (df['SchemaName'] == 'dbo') & (df['TableName'] == 'Mapnet_AftSch_Student_Data_Full_Intermediate_A')]\n",
    "dfdsfv150042 = df[(df['DatabaseName'] == 'DownstreamFeeds_V1.5') & (df['SchemaName'] == 'dbo') & (df['TableName'] == 'Mapnet_AftSch_Student_Data_Full_Intermediate_B')]\n",
    "dfdsfv150043 = df[(df['DatabaseName'] == 'DownstreamFeeds_V1.5') & (df['SchemaName'] == 'dbo') & (df['TableName'] == 'Mapnet_AftSch_Student_Data_Full_Result')]\n",
    "dfdsfv150044 = df[(df['DatabaseName'] == 'DownstreamFeeds_V1.5') & (df['SchemaName'] == 'dbo') & (df['TableName'] == 'Mapnet_Dups_From_Mapnet_AftSch_Student_Data_Full_Result')]\n",
    "dfdsfv150045 = df[(df['DatabaseName'] == 'DownstreamFeeds_V1.5') & (df['SchemaName'] == 'dbo') & (df['TableName'] == 'Mapnet_Dups_From_Mapnet_Student_Data_Full_Result')]\n",
    "dfdsfv150046 = df[(df['DatabaseName'] == 'DownstreamFeeds_V1.5') & (df['SchemaName'] == 'dbo') & (df['TableName'] == 'Mapnet_Emergency_Contact_Data_Intermediate_A')]\n",
    "dfdsfv150047 = df[(df['DatabaseName'] == 'DownstreamFeeds_V1.5') & (df['SchemaName'] == 'dbo') & (df['TableName'] == 'Mapnet_Emergency_Contact_Data_Intermediate_B')]\n",
    "dfdsfv150048 = df[(df['DatabaseName'] == 'DownstreamFeeds_V1.5') & (df['SchemaName'] == 'dbo') & (df['TableName'] == 'Mapnet_Emergency_Contact_Data_Intermediate_C')]\n",
    "dfdsfv150049 = df[(df['DatabaseName'] == 'DownstreamFeeds_V1.5') & (df['SchemaName'] == 'dbo') & (df['TableName'] == 'Mapnet_Emergency_Contact_Data_Result')]\n",
    "dfdsfv150050 = df[(df['DatabaseName'] == 'DownstreamFeeds_V1.5') & (df['SchemaName'] == 'dbo') & (df['TableName'] == 'mapnet_jeantest_student_data_full_result')]\n",
    "dfdsfv150051 = df[(df['DatabaseName'] == 'DownstreamFeeds_V1.5') & (df['SchemaName'] == 'dbo') & (df['TableName'] == 'Mapnet_Parent_Data_Intermediate_A')]\n",
    "dfdsfv150052 = df[(df['DatabaseName'] == 'DownstreamFeeds_V1.5') & (df['SchemaName'] == 'dbo') & (df['TableName'] == 'Mapnet_Parent_Data_Intermediate_B')]\n",
    "dfdsfv150053 = df[(df['DatabaseName'] == 'DownstreamFeeds_V1.5') & (df['SchemaName'] == 'dbo') & (df['TableName'] == 'Mapnet_Parent_Data_Intermediate_C')]\n",
    "dfdsfv150054 = df[(df['DatabaseName'] == 'DownstreamFeeds_V1.5') & (df['SchemaName'] == 'dbo') & (df['TableName'] == 'Mapnet_Parent_Data_Result')]\n",
    "dfdsfv150055 = df[(df['DatabaseName'] == 'DownstreamFeeds_V1.5') & (df['SchemaName'] == 'dbo') & (df['TableName'] == 'Mapnet_Planning_Student_Data_Full_Intermediate_A')]\n",
    "dfdsfv150056 = df[(df['DatabaseName'] == 'DownstreamFeeds_V1.5') & (df['SchemaName'] == 'dbo') & (df['TableName'] == 'Mapnet_Planning_Student_Data_Full_Intermediate_B')]\n",
    "dfdsfv150057 = df[(df['DatabaseName'] == 'DownstreamFeeds_V1.5') & (df['SchemaName'] == 'dbo') & (df['TableName'] == 'Mapnet_Planning_Student_Data_Full_Result')]\n",
    "dfdsfv150058 = df[(df['DatabaseName'] == 'DownstreamFeeds_V1.5') & (df['SchemaName'] == 'dbo') & (df['TableName'] == 'Mapnet_Student_Data_Full_Intermediate_A')]\n",
    "dfdsfv150059 = df[(df['DatabaseName'] == 'DownstreamFeeds_V1.5') & (df['SchemaName'] == 'dbo') & (df['TableName'] == 'Mapnet_Student_Data_Full_Intermediate_B')]\n",
    "dfdsfv150060 = df[(df['DatabaseName'] == 'DownstreamFeeds_V1.5') & (df['SchemaName'] == 'dbo') & (df['TableName'] == 'Mapnet_Student_Data_Full_Result')]\n",
    "dfdsfv150061 = df[(df['DatabaseName'] == 'DownstreamFeeds_V1.5') & (df['SchemaName'] == 'dbo') & (df['TableName'] == 'ms_course_departments')]\n",
    "dfdsfv150062 = df[(df['DatabaseName'] == 'DownstreamFeeds_V1.5') & (df['SchemaName'] == 'dbo') & (df['TableName'] == 'MS_Course_Dept2014-15')]\n",
    "dfdsfv150063 = df[(df['DatabaseName'] == 'DownstreamFeeds_V1.5') & (df['SchemaName'] == 'dbo') & (df['TableName'] == 'MS_Course_Depts2011_12')]\n",
    "dfdsfv150064 = df[(df['DatabaseName'] == 'DownstreamFeeds_V1.5') & (df['SchemaName'] == 'dbo') & (df['TableName'] == 'MS_Course_Depts2011_12_A')]\n",
    "dfdsfv150065 = df[(df['DatabaseName'] == 'DownstreamFeeds_V1.5') & (df['SchemaName'] == 'dbo') & (df['TableName'] == 'MS_Course_depts2012-13')]\n",
    "dfdsfv150066 = df[(df['DatabaseName'] == 'DownstreamFeeds_V1.5') & (df['SchemaName'] == 'dbo') & (df['TableName'] == 'MS_Course_depts2013-14')]\n",
    "dfdsfv150067 = df[(df['DatabaseName'] == 'DownstreamFeeds_V1.5') & (df['SchemaName'] == 'dbo') & (df['TableName'] == 'MS_Course_depts2013-14-S2')]\n",
    "dfdsfv150068 = df[(df['DatabaseName'] == 'DownstreamFeeds_V1.5') & (df['SchemaName'] == 'dbo') & (df['TableName'] == 'MS_Course_Depts2014-15_rev')]\n",
    "dfdsfv150069 = df[(df['DatabaseName'] == 'DownstreamFeeds_V1.5') & (df['SchemaName'] == 'dbo') & (df['TableName'] == 'ODS_SFN')]\n",
    "dfdsfv150070 = df[(df['DatabaseName'] == 'DownstreamFeeds_V1.5') & (df['SchemaName'] == 'dbo') & (df['TableName'] == 'SchoolFoodNutritionDaily')]\n",
    "dfdsfv150071 = df[(df['DatabaseName'] == 'DownstreamFeeds_V1.5') & (df['SchemaName'] == 'dbo') & (df['TableName'] == 'SchoolFoodNutritionDaily_test')]\n",
    "dfdsfv150072 = df[(df['DatabaseName'] == 'DownstreamFeeds_V1.5') & (df['SchemaName'] == 'dbo') & (df['TableName'] == 'SUMMER_TERM')]\n",
    "dfdsfv150073 = df[(df['DatabaseName'] == 'DownstreamFeeds_V1.5') & (df['SchemaName'] == 'dbo') & (df['TableName'] == 'sysdiagrams')]\n",
    "dfdsfv150074 = df[(df['DatabaseName'] == 'DownstreamFeeds_V1.5') & (df['SchemaName'] == 'dbo') & (df['TableName'] == 'tb_Diffs')]\n",
    "dfdsfv150075 = df[(df['DatabaseName'] == 'DownstreamFeeds_V1.5') & (df['SchemaName'] == 'dbo') & (df['TableName'] == 'TEMP_CENSUS')]\n",
    "dfdsfv150076 = df[(df['DatabaseName'] == 'DownstreamFeeds_V1.5') & (df['SchemaName'] == 'dbo') & (df['TableName'] == 'temp_Gender')]\n",
    "dfdsfv150077 = df[(df['DatabaseName'] == 'DownstreamFeeds_V1.5') & (df['SchemaName'] == 'dbo') & (df['TableName'] == 'temp_GiftedParticipation')]\n",
    "dfdsfv150078 = df[(df['DatabaseName'] == 'DownstreamFeeds_V1.5') & (df['SchemaName'] == 'dbo') & (df['TableName'] == 'temp_IEP')]\n",
    "dfdsfv150079 = df[(df['DatabaseName'] == 'DownstreamFeeds_V1.5') & (df['SchemaName'] == 'dbo') & (df['TableName'] == 'temp_noDupl_sasi_acrs')]\n",
    "dfdsfv150080 = df[(df['DatabaseName'] == 'DownstreamFeeds_V1.5') & (df['SchemaName'] == 'dbo') & (df['TableName'] == 'TEMP_RIDER_BY_BUS')]\n",
    "dfdsfv150081 = df[(df['DatabaseName'] == 'DownstreamFeeds_V1.5') & (df['SchemaName'] == 'dbo') & (df['TableName'] == 'temp_TestGateFeed')]\n",
    "dfdsfv150082 = df[(df['DatabaseName'] == 'DownstreamFeeds_V1.5') & (df['SchemaName'] == 'dbo') & (df['TableName'] == 'temp_TierAttend')]\n",
    "dfdsfv150083 = df[(df['DatabaseName'] == 'DownstreamFeeds_V1.5') & (df['SchemaName'] == 'dbo') & (df['TableName'] == 'temp_TierAttnStu')]\n",
    "dfdsfv150084 = df[(df['DatabaseName'] == 'DownstreamFeeds_V1.5') & (df['SchemaName'] == 'dbo') & (df['TableName'] == 'TEMPSCHNUMDIFF')]\n",
    "dfdsfv150085 = df[(df['DatabaseName'] == 'DownstreamFeeds_V1.5') & (df['SchemaName'] == 'dbo') & (df['TableName'] == 'TEMPSCHNUMDIFF2')]\n",
    "dfdsfv150086 = df[(df['DatabaseName'] == 'DownstreamFeeds_V1.5') & (df['SchemaName'] == 'dbo') & (df['TableName'] == 'TEMPSPEDNotInSASI')]\n",
    "dfdsfv150087 = df[(df['DatabaseName'] == 'DownstreamFeeds_V1.5') & (df['SchemaName'] == 'dbo') & (df['TableName'] == 'TempStuDetail')]\n",
    "dfdsfv150088 = df[(df['DatabaseName'] == 'DownstreamFeeds_V1.5') & (df['SchemaName'] == 'dbo') & (df['TableName'] == 'test_DestinyTextBook_W_hm')]\n",
    "dfdsfv150089 = df[(df['DatabaseName'] == 'DownstreamFeeds_V1.5') & (df['SchemaName'] == 'dbo') & (df['TableName'] == 'test_elements')]\n",
    "dfdsfv150090 = df[(df['DatabaseName'] == 'DownstreamFeeds_V1.5') & (df['SchemaName'] == 'dbo') & (df['TableName'] == 'TEST_STU_ACT_RAJ')]\n",
    "dfdsfv150091 = df[(df['DatabaseName'] == 'DownstreamFeeds_V1.5') & (df['SchemaName'] == 'dbo') & (df['TableName'] == 'TEST_STU_HGT_RAJ')]\n",
    "dfdsfv150092 = df[(df['DatabaseName'] == 'DownstreamFeeds_V1.5') & (df['SchemaName'] == 'dbo') & (df['TableName'] == 'TEST_TAPE_ECT_MARSHAL')]\n"
   ]
  },
  {
   "cell_type": "code",
   "execution_count": 7,
   "metadata": {},
   "outputs": [
    {
     "data": {
      "text/html": [
       "<div>\n",
       "<style scoped>\n",
       "    .dataframe tbody tr th:only-of-type {\n",
       "        vertical-align: middle;\n",
       "    }\n",
       "\n",
       "    .dataframe tbody tr th {\n",
       "        vertical-align: top;\n",
       "    }\n",
       "\n",
       "    .dataframe thead th {\n",
       "        text-align: right;\n",
       "    }\n",
       "</style>\n",
       "<table border=\"1\" class=\"dataframe\">\n",
       "  <thead>\n",
       "    <tr style=\"text-align: right;\">\n",
       "      <th></th>\n",
       "      <th>TodaysDate</th>\n",
       "      <th>DatabaseName</th>\n",
       "      <th>SchemaName</th>\n",
       "      <th>TableName</th>\n",
       "      <th>RecordCount</th>\n",
       "      <th>Ddifference</th>\n",
       "    </tr>\n",
       "  </thead>\n",
       "  <tbody>\n",
       "    <tr>\n",
       "      <th>8850</th>\n",
       "      <td>2020-12-23</td>\n",
       "      <td>DownstreamFeeds_V1.5</td>\n",
       "      <td>dbo</td>\n",
       "      <td>course_departments</td>\n",
       "      <td>5475</td>\n",
       "      <td>0</td>\n",
       "    </tr>\n",
       "    <tr>\n",
       "      <th>8851</th>\n",
       "      <td>2020-12-24</td>\n",
       "      <td>DownstreamFeeds_V1.5</td>\n",
       "      <td>dbo</td>\n",
       "      <td>course_departments</td>\n",
       "      <td>5475</td>\n",
       "      <td>0</td>\n",
       "    </tr>\n",
       "    <tr>\n",
       "      <th>8852</th>\n",
       "      <td>2020-12-25</td>\n",
       "      <td>DownstreamFeeds_V1.5</td>\n",
       "      <td>dbo</td>\n",
       "      <td>course_departments</td>\n",
       "      <td>5475</td>\n",
       "      <td>0</td>\n",
       "    </tr>\n",
       "    <tr>\n",
       "      <th>8853</th>\n",
       "      <td>2020-12-26</td>\n",
       "      <td>DownstreamFeeds_V1.5</td>\n",
       "      <td>dbo</td>\n",
       "      <td>course_departments</td>\n",
       "      <td>5475</td>\n",
       "      <td>0</td>\n",
       "    </tr>\n",
       "    <tr>\n",
       "      <th>8854</th>\n",
       "      <td>2020-12-28</td>\n",
       "      <td>DownstreamFeeds_V1.5</td>\n",
       "      <td>dbo</td>\n",
       "      <td>course_departments</td>\n",
       "      <td>5475</td>\n",
       "      <td>0</td>\n",
       "    </tr>\n",
       "  </tbody>\n",
       "</table>\n",
       "</div>"
      ],
      "text/plain": [
       "     TodaysDate          DatabaseName SchemaName           TableName  \\\n",
       "8850 2020-12-23  DownstreamFeeds_V1.5        dbo  course_departments   \n",
       "8851 2020-12-24  DownstreamFeeds_V1.5        dbo  course_departments   \n",
       "8852 2020-12-25  DownstreamFeeds_V1.5        dbo  course_departments   \n",
       "8853 2020-12-26  DownstreamFeeds_V1.5        dbo  course_departments   \n",
       "8854 2020-12-28  DownstreamFeeds_V1.5        dbo  course_departments   \n",
       "\n",
       "      RecordCount  Ddifference  \n",
       "8850         5475            0  \n",
       "8851         5475            0  \n",
       "8852         5475            0  \n",
       "8853         5475            0  \n",
       "8854         5475            0  "
      ]
     },
     "execution_count": 7,
     "metadata": {},
     "output_type": "execute_result"
    }
   ],
   "source": [
    "dfdsfv150003.head()"
   ]
  },
  {
   "cell_type": "code",
   "execution_count": 8,
   "metadata": {},
   "outputs": [
    {
     "data": {
      "text/html": [
       "<div>\n",
       "<style scoped>\n",
       "    .dataframe tbody tr th:only-of-type {\n",
       "        vertical-align: middle;\n",
       "    }\n",
       "\n",
       "    .dataframe tbody tr th {\n",
       "        vertical-align: top;\n",
       "    }\n",
       "\n",
       "    .dataframe thead th {\n",
       "        text-align: right;\n",
       "    }\n",
       "</style>\n",
       "<table border=\"1\" class=\"dataframe\">\n",
       "  <thead>\n",
       "    <tr style=\"text-align: right;\">\n",
       "      <th></th>\n",
       "      <th>TodaysDate</th>\n",
       "      <th>DatabaseName</th>\n",
       "      <th>SchemaName</th>\n",
       "      <th>TableName</th>\n",
       "      <th>RecordCount</th>\n",
       "      <th>Ddifference</th>\n",
       "    </tr>\n",
       "  </thead>\n",
       "  <tbody>\n",
       "    <tr>\n",
       "      <th>0</th>\n",
       "      <td>2020-12-23</td>\n",
       "      <td>DownstreamFeeds_V1.5</td>\n",
       "      <td>dbo</td>\n",
       "      <td>AftSch_Profile_WorkTbl</td>\n",
       "      <td>32</td>\n",
       "      <td>0</td>\n",
       "    </tr>\n",
       "    <tr>\n",
       "      <th>1</th>\n",
       "      <td>2020-12-24</td>\n",
       "      <td>DownstreamFeeds_V1.5</td>\n",
       "      <td>dbo</td>\n",
       "      <td>AftSch_Profile_WorkTbl</td>\n",
       "      <td>32</td>\n",
       "      <td>0</td>\n",
       "    </tr>\n",
       "    <tr>\n",
       "      <th>2</th>\n",
       "      <td>2020-12-25</td>\n",
       "      <td>DownstreamFeeds_V1.5</td>\n",
       "      <td>dbo</td>\n",
       "      <td>AftSch_Profile_WorkTbl</td>\n",
       "      <td>32</td>\n",
       "      <td>0</td>\n",
       "    </tr>\n",
       "    <tr>\n",
       "      <th>3</th>\n",
       "      <td>2020-12-26</td>\n",
       "      <td>DownstreamFeeds_V1.5</td>\n",
       "      <td>dbo</td>\n",
       "      <td>AftSch_Profile_WorkTbl</td>\n",
       "      <td>32</td>\n",
       "      <td>0</td>\n",
       "    </tr>\n",
       "    <tr>\n",
       "      <th>4</th>\n",
       "      <td>2020-12-28</td>\n",
       "      <td>DownstreamFeeds_V1.5</td>\n",
       "      <td>dbo</td>\n",
       "      <td>AftSch_Profile_WorkTbl</td>\n",
       "      <td>32</td>\n",
       "      <td>0</td>\n",
       "    </tr>\n",
       "  </tbody>\n",
       "</table>\n",
       "</div>"
      ],
      "text/plain": [
       "  TodaysDate          DatabaseName SchemaName               TableName  \\\n",
       "0 2020-12-23  DownstreamFeeds_V1.5        dbo  AftSch_Profile_WorkTbl   \n",
       "1 2020-12-24  DownstreamFeeds_V1.5        dbo  AftSch_Profile_WorkTbl   \n",
       "2 2020-12-25  DownstreamFeeds_V1.5        dbo  AftSch_Profile_WorkTbl   \n",
       "3 2020-12-26  DownstreamFeeds_V1.5        dbo  AftSch_Profile_WorkTbl   \n",
       "4 2020-12-28  DownstreamFeeds_V1.5        dbo  AftSch_Profile_WorkTbl   \n",
       "\n",
       "   RecordCount  Ddifference  \n",
       "0           32            0  \n",
       "1           32            0  \n",
       "2           32            0  \n",
       "3           32            0  \n",
       "4           32            0  "
      ]
     },
     "execution_count": 8,
     "metadata": {},
     "output_type": "execute_result"
    }
   ],
   "source": [
    "df.head()"
   ]
  },
  {
   "cell_type": "code",
   "execution_count": 9,
   "metadata": {},
   "outputs": [
    {
     "name": "stdout",
     "output_type": "stream",
     "text": [
      "           DatabaseName SchemaName               TableName\n",
      "0  DownstreamFeeds_V1.5        dbo  AftSch_Profile_WorkTbl\n"
     ]
    }
   ],
   "source": [
    "d = dfdsfv150001[['DatabaseName', 'SchemaName','TableName']]#.format(z)\n",
    "d = d.drop_duplicates()\n",
    "e = d['DatabaseName'].values[0]\n",
    "f = d['SchemaName'].values[0]\n",
    "g = d['TableName'].values[0]\n",
    "print (d)\n",
    "FileName = ('DownstreamFeedsV15_{}_{}'.format(f,g))\n",
    "\n",
    "fig = px.scatter(dfdsfv150001, x = 'TodaysDate', y='RecordCount', size = 'RecordCount', color = 'RecordCount')#.format(z)\n",
    "fig.update_layout(title = '{0},{1},{2}'.format(e,f,g))\n",
    "fig.update_layout(yaxis_zeroline=False, xaxis_zeroline=False)\n",
    "fig.update_xaxes(title_font=dict(size=18, color='crimson'))\n",
    "fig.update_yaxes(title_font=dict(size=18, color='crimson'))\n",
    "fig.update_xaxes(ticks=\"inside\")\n",
    "fig.update_yaxes(ticks=\"inside\")\n",
    "fig.update_xaxes(tickangle=45, tickfont=dict(color='crimson', size=14))\n",
    "fig.update_xaxes(showline=True, linewidth=2, linecolor='black', mirror=True, gridcolor='Pink')\n",
    "fig.update_yaxes(showline=True, linewidth=2, linecolor='black', mirror=True, gridcolor='Red')\n",
    "#fig.show()\n",
    "fig.write_html(pathT+\"\\{}.html\".format(FileName))\n",
    "plt.close()"
   ]
  },
  {
   "cell_type": "code",
   "execution_count": 10,
   "metadata": {},
   "outputs": [
    {
     "name": "stdout",
     "output_type": "stream",
     "text": [
      "             DatabaseName SchemaName    TableName\n",
      "118  DownstreamFeeds_V1.5        dbo  ContactCode\n"
     ]
    }
   ],
   "source": [
    "d = dfdsfv150002[['DatabaseName', 'SchemaName','TableName']]#.format(z)\n",
    "d = d.drop_duplicates()\n",
    "e = d['DatabaseName'].values[0]\n",
    "f = d['SchemaName'].values[0]\n",
    "g = d['TableName'].values[0]\n",
    "print (d)\n",
    "FileName = ('DownstreamFeedsV15_{}_{}'.format(f,g))\n",
    "\n",
    "fig = px.scatter(dfdsfv150002, x = 'TodaysDate', y='RecordCount', size = 'RecordCount', color = 'RecordCount')#.format(z)\n",
    "fig.update_layout(title = '{0},{1},{2}'.format(e,f,g))\n",
    "fig.update_layout(yaxis_zeroline=False, xaxis_zeroline=False)\n",
    "fig.update_xaxes(title_font=dict(size=18, color='crimson'))\n",
    "fig.update_yaxes(title_font=dict(size=18, color='crimson'))\n",
    "fig.update_xaxes(ticks=\"inside\")\n",
    "fig.update_yaxes(ticks=\"inside\")\n",
    "fig.update_xaxes(tickangle=45, tickfont=dict(color='crimson', size=14))\n",
    "fig.update_xaxes(showline=True, linewidth=2, linecolor='black', mirror=True, gridcolor='Pink')\n",
    "fig.update_yaxes(showline=True, linewidth=2, linecolor='black', mirror=True, gridcolor='Red')\n",
    "#fig.show()\n",
    "fig.write_html(pathT+\"\\{}.html\".format(FileName))\n",
    "plt.close()"
   ]
  },
  {
   "cell_type": "code",
   "execution_count": 11,
   "metadata": {},
   "outputs": [
    {
     "name": "stdout",
     "output_type": "stream",
     "text": [
      "              DatabaseName SchemaName           TableName\n",
      "8850  DownstreamFeeds_V1.5        dbo  course_departments\n"
     ]
    }
   ],
   "source": [
    "d = dfdsfv150003[['DatabaseName', 'SchemaName','TableName']]#.format(z)\n",
    "d = d.drop_duplicates()\n",
    "e = d['DatabaseName'].values[0]\n",
    "f = d['SchemaName'].values[0]\n",
    "g = d['TableName'].values[0]\n",
    "print (d)\n",
    "FileName = ('DownstreamFeedsV15_{}_{}'.format(f,g))\n",
    "\n",
    "fig = px.scatter(dfdsfv150003, x = 'TodaysDate', y='RecordCount', size = 'RecordCount', color = 'RecordCount')#.format(z)\n",
    "fig.update_layout(title = '{0},{1},{2}'.format(e,f,g))\n",
    "fig.update_layout(yaxis_zeroline=False, xaxis_zeroline=False)\n",
    "fig.update_xaxes(title_font=dict(size=18, color='crimson'))\n",
    "fig.update_yaxes(title_font=dict(size=18, color='crimson'))\n",
    "fig.update_xaxes(ticks=\"inside\")\n",
    "fig.update_yaxes(ticks=\"inside\")\n",
    "fig.update_xaxes(tickangle=45, tickfont=dict(color='crimson', size=14))\n",
    "fig.update_xaxes(showline=True, linewidth=2, linecolor='black', mirror=True, gridcolor='Pink')\n",
    "fig.update_yaxes(showline=True, linewidth=2, linecolor='black', mirror=True, gridcolor='Red')\n",
    "#fig.show()\n",
    "fig.write_html(pathT+\"\\{}.html\".format(FileName))\n",
    "plt.close()"
   ]
  },
  {
   "cell_type": "code",
   "execution_count": 12,
   "metadata": {},
   "outputs": [
    {
     "name": "stdout",
     "output_type": "stream",
     "text": [
      "             DatabaseName SchemaName       TableName\n",
      "236  DownstreamFeeds_V1.5        dbo  D2LExportFiles\n"
     ]
    }
   ],
   "source": [
    "d = dfdsfv150004[['DatabaseName', 'SchemaName','TableName']]#.format(z)\n",
    "d = d.drop_duplicates()\n",
    "e = d['DatabaseName'].values[0]\n",
    "f = d['SchemaName'].values[0]\n",
    "g = d['TableName'].values[0]\n",
    "print (d)\n",
    "FileName = ('DownstreamFeedsV15_{}_{}'.format(f,g))\n",
    "\n",
    "fig = px.scatter(dfdsfv150004, x = 'TodaysDate', y='RecordCount', size = 'RecordCount', color = 'RecordCount')#.format(z)\n",
    "fig.update_layout(title = '{0},{1},{2}'.format(e,f,g))\n",
    "fig.update_layout(yaxis_zeroline=False, xaxis_zeroline=False)\n",
    "fig.update_xaxes(title_font=dict(size=18, color='crimson'))\n",
    "fig.update_yaxes(title_font=dict(size=18, color='crimson'))\n",
    "fig.update_xaxes(ticks=\"inside\")\n",
    "fig.update_yaxes(ticks=\"inside\")\n",
    "fig.update_xaxes(tickangle=45, tickfont=dict(color='crimson', size=14))\n",
    "fig.update_xaxes(showline=True, linewidth=2, linecolor='black', mirror=True, gridcolor='Pink')\n",
    "fig.update_yaxes(showline=True, linewidth=2, linecolor='black', mirror=True, gridcolor='Red')\n",
    "#fig.show()\n",
    "fig.write_html(pathT+\"\\{}.html\".format(FileName))\n",
    "plt.close()"
   ]
  },
  {
   "cell_type": "code",
   "execution_count": 13,
   "metadata": {},
   "outputs": [
    {
     "name": "stdout",
     "output_type": "stream",
     "text": [
      "             DatabaseName SchemaName          TableName\n",
      "354  DownstreamFeeds_V1.5        dbo  D2LGradebookPaths\n"
     ]
    }
   ],
   "source": [
    "d = dfdsfv150005[['DatabaseName', 'SchemaName','TableName']]#.format(z)\n",
    "d = d.drop_duplicates()\n",
    "e = d['DatabaseName'].values[0]\n",
    "f = d['SchemaName'].values[0]\n",
    "g = d['TableName'].values[0]\n",
    "print (d)\n",
    "FileName = ('DownstreamFeedsV15_{}_{}'.format(f,g))\n",
    "\n",
    "fig = px.scatter(dfdsfv150005, x = 'TodaysDate', y='RecordCount', size = 'RecordCount', color = 'RecordCount')#.format(z)\n",
    "fig.update_layout(title = '{0},{1},{2}'.format(e,f,g))\n",
    "fig.update_layout(yaxis_zeroline=False, xaxis_zeroline=False)\n",
    "fig.update_xaxes(title_font=dict(size=18, color='crimson'))\n",
    "fig.update_yaxes(title_font=dict(size=18, color='crimson'))\n",
    "fig.update_xaxes(ticks=\"inside\")\n",
    "fig.update_yaxes(ticks=\"inside\")\n",
    "fig.update_xaxes(tickangle=45, tickfont=dict(color='crimson', size=14))\n",
    "fig.update_xaxes(showline=True, linewidth=2, linecolor='black', mirror=True, gridcolor='Pink')\n",
    "fig.update_yaxes(showline=True, linewidth=2, linecolor='black', mirror=True, gridcolor='Red')\n",
    "#fig.show()\n",
    "fig.write_html(pathT+\"\\{}.html\".format(FileName))\n",
    "plt.close()"
   ]
  },
  {
   "cell_type": "code",
   "execution_count": 14,
   "metadata": {},
   "outputs": [
    {
     "name": "stdout",
     "output_type": "stream",
     "text": [
      "             DatabaseName SchemaName                         TableName\n",
      "472  DownstreamFeeds_V1.5        dbo  D2LHoldingTankTeacherCorrections\n"
     ]
    }
   ],
   "source": [
    "d = dfdsfv150006[['DatabaseName', 'SchemaName','TableName']]#.format(z)\n",
    "d = d.drop_duplicates()\n",
    "e = d['DatabaseName'].values[0]\n",
    "f = d['SchemaName'].values[0]\n",
    "g = d['TableName'].values[0]\n",
    "print (d)\n",
    "FileName = ('DownstreamFeedsV15_{}_{}'.format(f,g))\n",
    "\n",
    "fig = px.scatter(dfdsfv150006, x = 'TodaysDate', y='RecordCount', size = 'RecordCount', color = 'RecordCount')#.format(z)\n",
    "fig.update_layout(title = '{0},{1},{2}'.format(e,f,g))\n",
    "fig.update_layout(yaxis_zeroline=False, xaxis_zeroline=False)\n",
    "fig.update_xaxes(title_font=dict(size=18, color='crimson'))\n",
    "fig.update_yaxes(title_font=dict(size=18, color='crimson'))\n",
    "fig.update_xaxes(ticks=\"inside\")\n",
    "fig.update_yaxes(ticks=\"inside\")\n",
    "fig.update_xaxes(tickangle=45, tickfont=dict(color='crimson', size=14))\n",
    "fig.update_xaxes(showline=True, linewidth=2, linecolor='black', mirror=True, gridcolor='Pink')\n",
    "fig.update_yaxes(showline=True, linewidth=2, linecolor='black', mirror=True, gridcolor='Red')\n",
    "#fig.show()\n",
    "fig.write_html(pathT+\"\\{}.html\".format(FileName))\n",
    "plt.close()"
   ]
  },
  {
   "cell_type": "code",
   "execution_count": 15,
   "metadata": {},
   "outputs": [
    {
     "name": "stdout",
     "output_type": "stream",
     "text": [
      "              DatabaseName SchemaName        TableName\n",
      "2242  DownstreamFeeds_V1.5        dbo  Destiny_Schools\n"
     ]
    }
   ],
   "source": [
    "d = dfdsfv150007[['DatabaseName', 'SchemaName','TableName']]#.format(z)\n",
    "d = d.drop_duplicates()\n",
    "e = d['DatabaseName'].values[0]\n",
    "f = d['SchemaName'].values[0]\n",
    "g = d['TableName'].values[0]\n",
    "print (d)\n",
    "FileName = ('DownstreamFeedsV15_{}_{}'.format(f,g))\n",
    "\n",
    "fig = px.scatter(dfdsfv150007, x = 'TodaysDate', y='RecordCount', size = 'RecordCount', color = 'RecordCount')#.format(z)\n",
    "fig.update_layout(title = '{0},{1},{2}'.format(e,f,g))\n",
    "fig.update_layout(yaxis_zeroline=False, xaxis_zeroline=False)\n",
    "fig.update_xaxes(title_font=dict(size=18, color='crimson'))\n",
    "fig.update_yaxes(title_font=dict(size=18, color='crimson'))\n",
    "fig.update_xaxes(ticks=\"inside\")\n",
    "fig.update_yaxes(ticks=\"inside\")\n",
    "fig.update_xaxes(tickangle=45, tickfont=dict(color='crimson', size=14))\n",
    "fig.update_xaxes(showline=True, linewidth=2, linecolor='black', mirror=True, gridcolor='Pink')\n",
    "fig.update_yaxes(showline=True, linewidth=2, linecolor='black', mirror=True, gridcolor='Red')\n",
    "#fig.show()\n",
    "fig.write_html(pathT+\"\\{}.html\".format(FileName))\n",
    "plt.close()"
   ]
  },
  {
   "cell_type": "code",
   "execution_count": 16,
   "metadata": {},
   "outputs": [
    {
     "name": "stdout",
     "output_type": "stream",
     "text": [
      "             DatabaseName SchemaName           TableName\n",
      "590  DownstreamFeeds_V1.5        dbo  DestinySASISTAFF_P\n"
     ]
    }
   ],
   "source": [
    "d = dfdsfv150008[['DatabaseName', 'SchemaName','TableName']]#.format(z)\n",
    "d = d.drop_duplicates()\n",
    "e = d['DatabaseName'].values[0]\n",
    "f = d['SchemaName'].values[0]\n",
    "g = d['TableName'].values[0]\n",
    "print (d)\n",
    "FileName = ('DownstreamFeedsV15_{}_{}'.format(f,g))\n",
    "\n",
    "fig = px.scatter(dfdsfv150008, x = 'TodaysDate', y='RecordCount', size = 'RecordCount', color = 'RecordCount')#.format(z)\n",
    "fig.update_layout(title = '{0},{1},{2}'.format(e,f,g))\n",
    "fig.update_layout(yaxis_zeroline=False, xaxis_zeroline=False)\n",
    "fig.update_xaxes(title_font=dict(size=18, color='crimson'))\n",
    "fig.update_yaxes(title_font=dict(size=18, color='crimson'))\n",
    "fig.update_xaxes(ticks=\"inside\")\n",
    "fig.update_yaxes(ticks=\"inside\")\n",
    "fig.update_xaxes(tickangle=45, tickfont=dict(color='crimson', size=14))\n",
    "fig.update_xaxes(showline=True, linewidth=2, linecolor='black', mirror=True, gridcolor='Pink')\n",
    "fig.update_yaxes(showline=True, linewidth=2, linecolor='black', mirror=True, gridcolor='Red')\n",
    "#fig.show()\n",
    "fig.write_html(pathT+\"\\{}.html\".format(FileName))\n",
    "plt.close()"
   ]
  },
  {
   "cell_type": "code",
   "execution_count": 17,
   "metadata": {},
   "outputs": [
    {
     "name": "stdout",
     "output_type": "stream",
     "text": [
      "             DatabaseName SchemaName          TableName\n",
      "708  DownstreamFeeds_V1.5        dbo  DestinyStudentEMH\n"
     ]
    }
   ],
   "source": [
    "d = dfdsfv150009[['DatabaseName', 'SchemaName','TableName']]#.format(z)\n",
    "d = d.drop_duplicates()\n",
    "e = d['DatabaseName'].values[0]\n",
    "f = d['SchemaName'].values[0]\n",
    "g = d['TableName'].values[0]\n",
    "print (d)\n",
    "FileName = ('DownstreamFeedsV15_{}_{}'.format(f,g))\n",
    "\n",
    "fig = px.scatter(dfdsfv150009, x = 'TodaysDate', y='RecordCount', size = 'RecordCount', color = 'RecordCount')#.format(z)\n",
    "fig.update_layout(title = '{0},{1},{2}'.format(e,f,g))\n",
    "fig.update_layout(yaxis_zeroline=False, xaxis_zeroline=False)\n",
    "fig.update_xaxes(title_font=dict(size=18, color='crimson'))\n",
    "fig.update_yaxes(title_font=dict(size=18, color='crimson'))\n",
    "fig.update_xaxes(ticks=\"inside\")\n",
    "fig.update_yaxes(ticks=\"inside\")\n",
    "fig.update_xaxes(tickangle=45, tickfont=dict(color='crimson', size=14))\n",
    "fig.update_xaxes(showline=True, linewidth=2, linecolor='black', mirror=True, gridcolor='Pink')\n",
    "fig.update_yaxes(showline=True, linewidth=2, linecolor='black', mirror=True, gridcolor='Red')\n",
    "#fig.show()\n",
    "fig.write_html(pathT+\"\\{}.html\".format(FileName))\n",
    "plt.close()"
   ]
  },
  {
   "cell_type": "code",
   "execution_count": 18,
   "metadata": {},
   "outputs": [
    {
     "name": "stdout",
     "output_type": "stream",
     "text": [
      "             DatabaseName SchemaName             TableName\n",
      "944  DownstreamFeeds_V1.5        dbo  DestinyStudentEMH_TM\n"
     ]
    }
   ],
   "source": [
    "d = dfdsfv150010[['DatabaseName', 'SchemaName','TableName']]#.format(z)\n",
    "d = d.drop_duplicates()\n",
    "e = d['DatabaseName'].values[0]\n",
    "f = d['SchemaName'].values[0]\n",
    "g = d['TableName'].values[0]\n",
    "print (d)\n",
    "FileName = ('DownstreamFeedsV15_{}_{}'.format(f,g))\n",
    "\n",
    "fig = px.scatter(dfdsfv150010, x = 'TodaysDate', y='RecordCount', size = 'RecordCount', color = 'RecordCount')#.format(z)\n",
    "fig.update_layout(title = '{0},{1},{2}'.format(e,f,g))\n",
    "fig.update_layout(yaxis_zeroline=False, xaxis_zeroline=False)\n",
    "fig.update_xaxes(title_font=dict(size=18, color='crimson'))\n",
    "fig.update_yaxes(title_font=dict(size=18, color='crimson'))\n",
    "fig.update_xaxes(ticks=\"inside\")\n",
    "fig.update_yaxes(ticks=\"inside\")\n",
    "fig.update_xaxes(tickangle=45, tickfont=dict(color='crimson', size=14))\n",
    "fig.update_xaxes(showline=True, linewidth=2, linecolor='black', mirror=True, gridcolor='Pink')\n",
    "fig.update_yaxes(showline=True, linewidth=2, linecolor='black', mirror=True, gridcolor='Red')\n",
    "#fig.show()\n",
    "fig.write_html(pathT+\"\\{}.html\".format(FileName))\n",
    "plt.close()"
   ]
  },
  {
   "cell_type": "code",
   "execution_count": 19,
   "metadata": {},
   "outputs": [
    {
     "name": "stdout",
     "output_type": "stream",
     "text": [
      "             DatabaseName SchemaName           TableName\n",
      "826  DownstreamFeeds_V1.5        dbo  DestinyStudentEMH2\n"
     ]
    }
   ],
   "source": [
    "d = dfdsfv150011[['DatabaseName', 'SchemaName','TableName']]#.format(z)\n",
    "d = d.drop_duplicates()\n",
    "e = d['DatabaseName'].values[0]\n",
    "f = d['SchemaName'].values[0]\n",
    "g = d['TableName'].values[0]\n",
    "print (d)\n",
    "FileName = ('DownstreamFeedsV15_{}_{}'.format(f,g))\n",
    "\n",
    "fig = px.scatter(dfdsfv150011, x = 'TodaysDate', y='RecordCount', size = 'RecordCount', color = 'RecordCount')#.format(z)\n",
    "fig.update_layout(title = '{0},{1},{2}'.format(e,f,g))\n",
    "fig.update_layout(yaxis_zeroline=False, xaxis_zeroline=False)\n",
    "fig.update_xaxes(title_font=dict(size=18, color='crimson'))\n",
    "fig.update_yaxes(title_font=dict(size=18, color='crimson'))\n",
    "fig.update_xaxes(ticks=\"inside\")\n",
    "fig.update_yaxes(ticks=\"inside\")\n",
    "fig.update_xaxes(tickangle=45, tickfont=dict(color='crimson', size=14))\n",
    "fig.update_xaxes(showline=True, linewidth=2, linecolor='black', mirror=True, gridcolor='Pink')\n",
    "fig.update_yaxes(showline=True, linewidth=2, linecolor='black', mirror=True, gridcolor='Red')\n",
    "#fig.show()\n",
    "fig.write_html(pathT+\"\\{}.html\".format(FileName))\n",
    "plt.close()"
   ]
  },
  {
   "cell_type": "code",
   "execution_count": 20,
   "metadata": {},
   "outputs": [
    {
     "name": "stdout",
     "output_type": "stream",
     "text": [
      "              DatabaseName SchemaName        TableName\n",
      "1062  DownstreamFeeds_V1.5        dbo  DestinyStudentP\n"
     ]
    }
   ],
   "source": [
    "d = dfdsfv150012[['DatabaseName', 'SchemaName','TableName']]#.format(z)\n",
    "d = d.drop_duplicates()\n",
    "e = d['DatabaseName'].values[0]\n",
    "f = d['SchemaName'].values[0]\n",
    "g = d['TableName'].values[0]\n",
    "print (d)\n",
    "FileName = ('DownstreamFeedsV15_{}_{}'.format(f,g))\n",
    "\n",
    "fig = px.scatter(dfdsfv150012, x = 'TodaysDate', y='RecordCount', size = 'RecordCount', color = 'RecordCount')#.format(z)\n",
    "fig.update_layout(title = '{0},{1},{2}'.format(e,f,g))\n",
    "fig.update_layout(yaxis_zeroline=False, xaxis_zeroline=False)\n",
    "fig.update_xaxes(title_font=dict(size=18, color='crimson'))\n",
    "fig.update_yaxes(title_font=dict(size=18, color='crimson'))\n",
    "fig.update_xaxes(ticks=\"inside\")\n",
    "fig.update_yaxes(ticks=\"inside\")\n",
    "fig.update_xaxes(tickangle=45, tickfont=dict(color='crimson', size=14))\n",
    "fig.update_xaxes(showline=True, linewidth=2, linecolor='black', mirror=True, gridcolor='Pink')\n",
    "fig.update_yaxes(showline=True, linewidth=2, linecolor='black', mirror=True, gridcolor='Red')\n",
    "#fig.show()\n",
    "fig.write_html(pathT+\"\\{}.html\".format(FileName))\n",
    "plt.close()"
   ]
  },
  {
   "cell_type": "code",
   "execution_count": 21,
   "metadata": {},
   "outputs": [
    {
     "name": "stdout",
     "output_type": "stream",
     "text": [
      "              DatabaseName SchemaName         TableName\n",
      "1180  DownstreamFeeds_V1.5        dbo  DestinyStudentP2\n"
     ]
    }
   ],
   "source": [
    "d = dfdsfv150013[['DatabaseName', 'SchemaName','TableName']]#.format(z)\n",
    "d = d.drop_duplicates()\n",
    "e = d['DatabaseName'].values[0]\n",
    "f = d['SchemaName'].values[0]\n",
    "g = d['TableName'].values[0]\n",
    "print (d)\n",
    "FileName = ('DownstreamFeedsV15_{}_{}'.format(f,g))\n",
    "\n",
    "fig = px.scatter(dfdsfv150013, x = 'TodaysDate', y='RecordCount', size = 'RecordCount', color = 'RecordCount')#.format(z)\n",
    "fig.update_layout(title = '{0},{1},{2}'.format(e,f,g))\n",
    "fig.update_layout(yaxis_zeroline=False, xaxis_zeroline=False)\n",
    "fig.update_xaxes(title_font=dict(size=18, color='crimson'))\n",
    "fig.update_yaxes(title_font=dict(size=18, color='crimson'))\n",
    "fig.update_xaxes(ticks=\"inside\")\n",
    "fig.update_yaxes(ticks=\"inside\")\n",
    "fig.update_xaxes(tickangle=45, tickfont=dict(color='crimson', size=14))\n",
    "fig.update_xaxes(showline=True, linewidth=2, linecolor='black', mirror=True, gridcolor='Pink')\n",
    "fig.update_yaxes(showline=True, linewidth=2, linecolor='black', mirror=True, gridcolor='Red')\n",
    "#fig.show()\n",
    "fig.write_html(pathT+\"\\{}.html\".format(FileName))\n",
    "plt.close()"
   ]
  },
  {
   "cell_type": "code",
   "execution_count": 22,
   "metadata": {},
   "outputs": [
    {
     "name": "stdout",
     "output_type": "stream",
     "text": [
      "              DatabaseName SchemaName         TableName\n",
      "1298  DownstreamFeeds_V1.5        dbo  DestinyStudentSS\n"
     ]
    }
   ],
   "source": [
    "d = dfdsfv150014[['DatabaseName', 'SchemaName','TableName']]#.format(z)\n",
    "d = d.drop_duplicates()\n",
    "e = d['DatabaseName'].values[0]\n",
    "f = d['SchemaName'].values[0]\n",
    "g = d['TableName'].values[0]\n",
    "print (d)\n",
    "FileName = ('DownstreamFeedsV15_{}_{}'.format(f,g))\n",
    "\n",
    "fig = px.scatter(dfdsfv150014, x = 'TodaysDate', y='RecordCount', size = 'RecordCount', color = 'RecordCount')#.format(z)\n",
    "fig.update_layout(title = '{0},{1},{2}'.format(e,f,g))\n",
    "fig.update_layout(yaxis_zeroline=False, xaxis_zeroline=False)\n",
    "fig.update_xaxes(title_font=dict(size=18, color='crimson'))\n",
    "fig.update_yaxes(title_font=dict(size=18, color='crimson'))\n",
    "fig.update_xaxes(ticks=\"inside\")\n",
    "fig.update_yaxes(ticks=\"inside\")\n",
    "fig.update_xaxes(tickangle=45, tickfont=dict(color='crimson', size=14))\n",
    "fig.update_xaxes(showline=True, linewidth=2, linecolor='black', mirror=True, gridcolor='Pink')\n",
    "fig.update_yaxes(showline=True, linewidth=2, linecolor='black', mirror=True, gridcolor='Red')\n",
    "#fig.show()\n",
    "fig.write_html(pathT+\"\\{}.html\".format(FileName))\n",
    "plt.close()"
   ]
  },
  {
   "cell_type": "code",
   "execution_count": 23,
   "metadata": {},
   "outputs": [
    {
     "name": "stdout",
     "output_type": "stream",
     "text": [
      "              DatabaseName SchemaName            TableName\n",
      "1416  DownstreamFeeds_V1.5        dbo  DestinyTextbook_ALL\n"
     ]
    }
   ],
   "source": [
    "d = dfdsfv150015[['DatabaseName', 'SchemaName','TableName']]#.format(z)\n",
    "d = d.drop_duplicates()\n",
    "e = d['DatabaseName'].values[0]\n",
    "f = d['SchemaName'].values[0]\n",
    "g = d['TableName'].values[0]\n",
    "print (d)\n",
    "FileName = ('DownstreamFeedsV15_{}_{}'.format(f,g))\n",
    "\n",
    "fig = px.scatter(dfdsfv150015, x = 'TodaysDate', y='RecordCount', size = 'RecordCount', color = 'RecordCount')#.format(z)\n",
    "fig.update_layout(title = '{0},{1},{2}'.format(e,f,g))\n",
    "fig.update_layout(yaxis_zeroline=False, xaxis_zeroline=False)\n",
    "fig.update_xaxes(title_font=dict(size=18, color='crimson'))\n",
    "fig.update_yaxes(title_font=dict(size=18, color='crimson'))\n",
    "fig.update_xaxes(ticks=\"inside\")\n",
    "fig.update_yaxes(ticks=\"inside\")\n",
    "fig.update_xaxes(tickangle=45, tickfont=dict(color='crimson', size=14))\n",
    "fig.update_xaxes(showline=True, linewidth=2, linecolor='black', mirror=True, gridcolor='Pink')\n",
    "fig.update_yaxes(showline=True, linewidth=2, linecolor='black', mirror=True, gridcolor='Red')\n",
    "#fig.show()\n",
    "fig.write_html(pathT+\"\\{}.html\".format(FileName))\n",
    "plt.close()"
   ]
  },
  {
   "cell_type": "code",
   "execution_count": 24,
   "metadata": {},
   "outputs": [
    {
     "name": "stdout",
     "output_type": "stream",
     "text": [
      "              DatabaseName SchemaName          TableName\n",
      "1534  DownstreamFeeds_V1.5        dbo  DestinyTextbook_E\n"
     ]
    }
   ],
   "source": [
    "d = dfdsfv150016[['DatabaseName', 'SchemaName','TableName']]#.format(z)\n",
    "d = d.drop_duplicates()\n",
    "e = d['DatabaseName'].values[0]\n",
    "f = d['SchemaName'].values[0]\n",
    "g = d['TableName'].values[0]\n",
    "print (d)\n",
    "FileName = ('DownstreamFeedsV15_{}_{}'.format(f,g))\n",
    "\n",
    "fig = px.scatter(dfdsfv150016, x = 'TodaysDate', y='RecordCount', size = 'RecordCount', color = 'RecordCount')#.format(z)\n",
    "fig.update_layout(title = '{0},{1},{2}'.format(e,f,g))\n",
    "fig.update_layout(yaxis_zeroline=False, xaxis_zeroline=False)\n",
    "fig.update_xaxes(title_font=dict(size=18, color='crimson'))\n",
    "fig.update_yaxes(title_font=dict(size=18, color='crimson'))\n",
    "fig.update_xaxes(ticks=\"inside\")\n",
    "fig.update_yaxes(ticks=\"inside\")\n",
    "fig.update_xaxes(tickangle=45, tickfont=dict(color='crimson', size=14))\n",
    "fig.update_xaxes(showline=True, linewidth=2, linecolor='black', mirror=True, gridcolor='Pink')\n",
    "fig.update_yaxes(showline=True, linewidth=2, linecolor='black', mirror=True, gridcolor='Red')\n",
    "#fig.show()\n",
    "fig.write_html(pathT+\"\\{}.html\".format(FileName))\n",
    "plt.close()"
   ]
  },
  {
   "cell_type": "code",
   "execution_count": 25,
   "metadata": {},
   "outputs": [
    {
     "name": "stdout",
     "output_type": "stream",
     "text": [
      "              DatabaseName SchemaName               TableName\n",
      "1652  DownstreamFeeds_V1.5        dbo  DestinyTextbook_E_save\n"
     ]
    }
   ],
   "source": [
    "d = dfdsfv150017[['DatabaseName', 'SchemaName','TableName']]#.format(z)\n",
    "d = d.drop_duplicates()\n",
    "e = d['DatabaseName'].values[0]\n",
    "f = d['SchemaName'].values[0]\n",
    "g = d['TableName'].values[0]\n",
    "print (d)\n",
    "FileName = ('DownstreamFeedsV15_{}_{}'.format(f,g))\n",
    "\n",
    "fig = px.scatter(dfdsfv150017, x = 'TodaysDate', y='RecordCount', size = 'RecordCount', color = 'RecordCount')#.format(z)\n",
    "fig.update_layout(title = '{0},{1},{2}'.format(e,f,g))\n",
    "fig.update_layout(yaxis_zeroline=False, xaxis_zeroline=False)\n",
    "fig.update_xaxes(title_font=dict(size=18, color='crimson'))\n",
    "fig.update_yaxes(title_font=dict(size=18, color='crimson'))\n",
    "fig.update_xaxes(ticks=\"inside\")\n",
    "fig.update_yaxes(ticks=\"inside\")\n",
    "fig.update_xaxes(tickangle=45, tickfont=dict(color='crimson', size=14))\n",
    "fig.update_xaxes(showline=True, linewidth=2, linecolor='black', mirror=True, gridcolor='Pink')\n",
    "fig.update_yaxes(showline=True, linewidth=2, linecolor='black', mirror=True, gridcolor='Red')\n",
    "#fig.show()\n",
    "fig.write_html(pathT+\"\\{}.html\".format(FileName))\n",
    "plt.close()"
   ]
  },
  {
   "cell_type": "code",
   "execution_count": 26,
   "metadata": {},
   "outputs": [
    {
     "name": "stdout",
     "output_type": "stream",
     "text": [
      "              DatabaseName SchemaName           TableName\n",
      "1770  DownstreamFeeds_V1.5        dbo  DestinyTextbook_HM\n"
     ]
    }
   ],
   "source": [
    "d = dfdsfv150018[['DatabaseName', 'SchemaName','TableName']]#.format(z)\n",
    "d = d.drop_duplicates()\n",
    "e = d['DatabaseName'].values[0]\n",
    "f = d['SchemaName'].values[0]\n",
    "g = d['TableName'].values[0]\n",
    "print (d)\n",
    "FileName = ('DownstreamFeedsV15_{}_{}'.format(f,g))\n",
    "\n",
    "fig = px.scatter(dfdsfv150018, x = 'TodaysDate', y='RecordCount', size = 'RecordCount', color = 'RecordCount')#.format(z)\n",
    "fig.update_layout(title = '{0},{1},{2}'.format(e,f,g))\n",
    "fig.update_layout(yaxis_zeroline=False, xaxis_zeroline=False)\n",
    "fig.update_xaxes(title_font=dict(size=18, color='crimson'))\n",
    "fig.update_yaxes(title_font=dict(size=18, color='crimson'))\n",
    "fig.update_xaxes(ticks=\"inside\")\n",
    "fig.update_yaxes(ticks=\"inside\")\n",
    "fig.update_xaxes(tickangle=45, tickfont=dict(color='crimson', size=14))\n",
    "fig.update_xaxes(showline=True, linewidth=2, linecolor='black', mirror=True, gridcolor='Pink')\n",
    "fig.update_yaxes(showline=True, linewidth=2, linecolor='black', mirror=True, gridcolor='Red')\n",
    "#fig.show()\n",
    "fig.write_html(pathT+\"\\{}.html\".format(FileName))\n",
    "plt.close()"
   ]
  },
  {
   "cell_type": "code",
   "execution_count": 27,
   "metadata": {},
   "outputs": [
    {
     "name": "stdout",
     "output_type": "stream",
     "text": [
      "              DatabaseName SchemaName                 TableName\n",
      "2006  DownstreamFeeds_V1.5        dbo  DestinyTextbook_HM_temp2\n"
     ]
    }
   ],
   "source": [
    "d = dfdsfv150019[['DatabaseName', 'SchemaName','TableName']]#.format(z)\n",
    "d = d.drop_duplicates()\n",
    "e = d['DatabaseName'].values[0]\n",
    "f = d['SchemaName'].values[0]\n",
    "g = d['TableName'].values[0]\n",
    "print (d)\n",
    "FileName = ('DownstreamFeedsV15_{}_{}'.format(f,g))\n",
    "\n",
    "fig = px.scatter(dfdsfv150019, x = 'TodaysDate', y='RecordCount', size = 'RecordCount', color = 'RecordCount')#.format(z)\n",
    "fig.update_layout(title = '{0},{1},{2}'.format(e,f,g))\n",
    "fig.update_layout(yaxis_zeroline=False, xaxis_zeroline=False)\n",
    "fig.update_xaxes(title_font=dict(size=18, color='crimson'))\n",
    "fig.update_yaxes(title_font=dict(size=18, color='crimson'))\n",
    "fig.update_xaxes(ticks=\"inside\")\n",
    "fig.update_yaxes(ticks=\"inside\")\n",
    "fig.update_xaxes(tickangle=45, tickfont=dict(color='crimson', size=14))\n",
    "fig.update_xaxes(showline=True, linewidth=2, linecolor='black', mirror=True, gridcolor='Pink')\n",
    "fig.update_yaxes(showline=True, linewidth=2, linecolor='black', mirror=True, gridcolor='Red')\n",
    "#fig.show()\n",
    "fig.write_html(pathT+\"\\{}.html\".format(FileName))\n",
    "plt.close()"
   ]
  },
  {
   "cell_type": "code",
   "execution_count": 28,
   "metadata": {},
   "outputs": [
    {
     "name": "stdout",
     "output_type": "stream",
     "text": [
      "              DatabaseName SchemaName            TableName\n",
      "1888  DownstreamFeeds_V1.5        dbo  DestinyTextbook_HME\n"
     ]
    }
   ],
   "source": [
    "d = dfdsfv150020[['DatabaseName', 'SchemaName','TableName']]#.format(z)\n",
    "d = d.drop_duplicates()\n",
    "e = d['DatabaseName'].values[0]\n",
    "f = d['SchemaName'].values[0]\n",
    "g = d['TableName'].values[0]\n",
    "print (d)\n",
    "FileName = ('DownstreamFeedsV15_{}_{}'.format(f,g))\n",
    "\n",
    "fig = px.scatter(dfdsfv150020, x = 'TodaysDate', y='RecordCount', size = 'RecordCount', color = 'RecordCount')#.format(z)\n",
    "fig.update_layout(title = '{0},{1},{2}'.format(e,f,g))\n",
    "fig.update_layout(yaxis_zeroline=False, xaxis_zeroline=False)\n",
    "fig.update_xaxes(title_font=dict(size=18, color='crimson'))\n",
    "fig.update_yaxes(title_font=dict(size=18, color='crimson'))\n",
    "fig.update_xaxes(ticks=\"inside\")\n",
    "fig.update_yaxes(ticks=\"inside\")\n",
    "fig.update_xaxes(tickangle=45, tickfont=dict(color='crimson', size=14))\n",
    "fig.update_xaxes(showline=True, linewidth=2, linecolor='black', mirror=True, gridcolor='Pink')\n",
    "fig.update_yaxes(showline=True, linewidth=2, linecolor='black', mirror=True, gridcolor='Red')\n",
    "#fig.show()\n",
    "fig.write_html(pathT+\"\\{}.html\".format(FileName))\n",
    "plt.close()"
   ]
  },
  {
   "cell_type": "code",
   "execution_count": 29,
   "metadata": {},
   "outputs": [
    {
     "name": "stdout",
     "output_type": "stream",
     "text": [
      "              DatabaseName SchemaName           TableName\n",
      "2124  DownstreamFeeds_V1.5        dbo  DestinyTextbook_SS\n"
     ]
    }
   ],
   "source": [
    "d = dfdsfv150021[['DatabaseName', 'SchemaName','TableName']]#.format(z)\n",
    "d = d.drop_duplicates()\n",
    "e = d['DatabaseName'].values[0]\n",
    "f = d['SchemaName'].values[0]\n",
    "g = d['TableName'].values[0]\n",
    "print (d)\n",
    "FileName = ('DownstreamFeedsV15_{}_{}'.format(f,g))\n",
    "\n",
    "fig = px.scatter(dfdsfv150021, x = 'TodaysDate', y='RecordCount', size = 'RecordCount', color = 'RecordCount')#.format(z)\n",
    "fig.update_layout(title = '{0},{1},{2}'.format(e,f,g))\n",
    "fig.update_layout(yaxis_zeroline=False, xaxis_zeroline=False)\n",
    "fig.update_xaxes(title_font=dict(size=18, color='crimson'))\n",
    "fig.update_yaxes(title_font=dict(size=18, color='crimson'))\n",
    "fig.update_xaxes(ticks=\"inside\")\n",
    "fig.update_yaxes(ticks=\"inside\")\n",
    "fig.update_xaxes(tickangle=45, tickfont=dict(color='crimson', size=14))\n",
    "fig.update_xaxes(showline=True, linewidth=2, linecolor='black', mirror=True, gridcolor='Pink')\n",
    "fig.update_yaxes(showline=True, linewidth=2, linecolor='black', mirror=True, gridcolor='Red')\n",
    "#fig.show()\n",
    "fig.write_html(pathT+\"\\{}.html\".format(FileName))\n",
    "plt.close()"
   ]
  },
  {
   "cell_type": "code",
   "execution_count": 30,
   "metadata": {},
   "outputs": [
    {
     "name": "stdout",
     "output_type": "stream",
     "text": [
      "              DatabaseName SchemaName    TableName\n",
      "2360  DownstreamFeeds_V1.5        dbo  DuplPermnum\n"
     ]
    }
   ],
   "source": [
    "d = dfdsfv150022[['DatabaseName', 'SchemaName','TableName']]#.format(z)\n",
    "d = d.drop_duplicates()\n",
    "e = d['DatabaseName'].values[0]\n",
    "f = d['SchemaName'].values[0]\n",
    "g = d['TableName'].values[0]\n",
    "print (d)\n",
    "FileName = ('DownstreamFeedsV15_{}_{}'.format(f,g))\n",
    "\n",
    "fig = px.scatter(dfdsfv150022, x = 'TodaysDate', y='RecordCount', size = 'RecordCount', color = 'RecordCount')#.format(z)\n",
    "fig.update_layout(title = '{0},{1},{2}'.format(e,f,g))\n",
    "fig.update_layout(yaxis_zeroline=False, xaxis_zeroline=False)\n",
    "fig.update_xaxes(title_font=dict(size=18, color='crimson'))\n",
    "fig.update_yaxes(title_font=dict(size=18, color='crimson'))\n",
    "fig.update_xaxes(ticks=\"inside\")\n",
    "fig.update_yaxes(ticks=\"inside\")\n",
    "fig.update_xaxes(tickangle=45, tickfont=dict(color='crimson', size=14))\n",
    "fig.update_xaxes(showline=True, linewidth=2, linecolor='black', mirror=True, gridcolor='Pink')\n",
    "fig.update_yaxes(showline=True, linewidth=2, linecolor='black', mirror=True, gridcolor='Red')\n",
    "#fig.show()\n",
    "fig.write_html(pathT+\"\\{}.html\".format(FileName))\n",
    "plt.close()"
   ]
  },
  {
   "cell_type": "code",
   "execution_count": 31,
   "metadata": {},
   "outputs": [
    {
     "name": "stdout",
     "output_type": "stream",
     "text": [
      "              DatabaseName SchemaName              TableName\n",
      "8978  DownstreamFeeds_V1.5        dbo  es_course_departments\n"
     ]
    }
   ],
   "source": [
    "d = dfdsfv150023[['DatabaseName', 'SchemaName','TableName']]#.format(z)\n",
    "d = d.drop_duplicates()\n",
    "e = d['DatabaseName'].values[0]\n",
    "f = d['SchemaName'].values[0]\n",
    "g = d['TableName'].values[0]\n",
    "print (d)\n",
    "FileName = ('DownstreamFeedsV15_{}_{}'.format(f,g))\n",
    "\n",
    "fig = px.scatter(dfdsfv150023, x = 'TodaysDate', y='RecordCount', size = 'RecordCount', color = 'RecordCount')#.format(z)\n",
    "fig.update_layout(title = '{0},{1},{2}'.format(e,f,g))\n",
    "fig.update_layout(yaxis_zeroline=False, xaxis_zeroline=False)\n",
    "fig.update_xaxes(title_font=dict(size=18, color='crimson'))\n",
    "fig.update_yaxes(title_font=dict(size=18, color='crimson'))\n",
    "fig.update_xaxes(ticks=\"inside\")\n",
    "fig.update_yaxes(ticks=\"inside\")\n",
    "fig.update_xaxes(tickangle=45, tickfont=dict(color='crimson', size=14))\n",
    "fig.update_xaxes(showline=True, linewidth=2, linecolor='black', mirror=True, gridcolor='Pink')\n",
    "fig.update_yaxes(showline=True, linewidth=2, linecolor='black', mirror=True, gridcolor='Red')\n",
    "#fig.show()\n",
    "fig.write_html(pathT+\"\\{}.html\".format(FileName))\n",
    "plt.close()"
   ]
  },
  {
   "cell_type": "code",
   "execution_count": 32,
   "metadata": {},
   "outputs": [
    {
     "name": "stdout",
     "output_type": "stream",
     "text": [
      "              DatabaseName SchemaName               TableName\n",
      "2596  DownstreamFeeds_V1.5        dbo  ES_Course_depts2011_12\n"
     ]
    }
   ],
   "source": [
    "d = dfdsfv150024[['DatabaseName', 'SchemaName','TableName']]#.format(z)\n",
    "d = d.drop_duplicates()\n",
    "e = d['DatabaseName'].values[0]\n",
    "f = d['SchemaName'].values[0]\n",
    "g = d['TableName'].values[0]\n",
    "print (d)\n",
    "FileName = ('DownstreamFeedsV15_{}_{}'.format(f,g))\n",
    "\n",
    "fig = px.scatter(dfdsfv150024, x = 'TodaysDate', y='RecordCount', size = 'RecordCount', color = 'RecordCount')#.format(z)\n",
    "fig.update_layout(title = '{0},{1},{2}'.format(e,f,g))\n",
    "fig.update_layout(yaxis_zeroline=False, xaxis_zeroline=False)\n",
    "fig.update_xaxes(title_font=dict(size=18, color='crimson'))\n",
    "fig.update_yaxes(title_font=dict(size=18, color='crimson'))\n",
    "fig.update_xaxes(ticks=\"inside\")\n",
    "fig.update_yaxes(ticks=\"inside\")\n",
    "fig.update_xaxes(tickangle=45, tickfont=dict(color='crimson', size=14))\n",
    "fig.update_xaxes(showline=True, linewidth=2, linecolor='black', mirror=True, gridcolor='Pink')\n",
    "fig.update_yaxes(showline=True, linewidth=2, linecolor='black', mirror=True, gridcolor='Red')\n",
    "#fig.show()\n",
    "fig.write_html(pathT+\"\\{}.html\".format(FileName))\n",
    "plt.close()"
   ]
  },
  {
   "cell_type": "code",
   "execution_count": 33,
   "metadata": {},
   "outputs": [
    {
     "name": "stdout",
     "output_type": "stream",
     "text": [
      "              DatabaseName SchemaName               TableName\n",
      "2714  DownstreamFeeds_V1.5        dbo  ES_Course_depts2012-13\n"
     ]
    }
   ],
   "source": [
    "d = dfdsfv150025[['DatabaseName', 'SchemaName','TableName']]#.format(z)\n",
    "d = d.drop_duplicates()\n",
    "e = d['DatabaseName'].values[0]\n",
    "f = d['SchemaName'].values[0]\n",
    "g = d['TableName'].values[0]\n",
    "print (d)\n",
    "FileName = ('DownstreamFeedsV15_{}_{}'.format(f,g))\n",
    "\n",
    "fig = px.scatter(dfdsfv150025, x = 'TodaysDate', y='RecordCount', size = 'RecordCount', color = 'RecordCount')#.format(z)\n",
    "fig.update_layout(title = '{0},{1},{2}'.format(e,f,g))\n",
    "fig.update_layout(yaxis_zeroline=False, xaxis_zeroline=False)\n",
    "fig.update_xaxes(title_font=dict(size=18, color='crimson'))\n",
    "fig.update_yaxes(title_font=dict(size=18, color='crimson'))\n",
    "fig.update_xaxes(ticks=\"inside\")\n",
    "fig.update_yaxes(ticks=\"inside\")\n",
    "fig.update_xaxes(tickangle=45, tickfont=dict(color='crimson', size=14))\n",
    "fig.update_xaxes(showline=True, linewidth=2, linecolor='black', mirror=True, gridcolor='Pink')\n",
    "fig.update_yaxes(showline=True, linewidth=2, linecolor='black', mirror=True, gridcolor='Red')\n",
    "#fig.show()\n",
    "fig.write_html(pathT+\"\\{}.html\".format(FileName))\n",
    "plt.close()"
   ]
  },
  {
   "cell_type": "code",
   "execution_count": 34,
   "metadata": {},
   "outputs": [
    {
     "name": "stdout",
     "output_type": "stream",
     "text": [
      "              DatabaseName SchemaName               TableName\n",
      "2832  DownstreamFeeds_V1.5        dbo  ES_Course_depts2013-14\n"
     ]
    }
   ],
   "source": [
    "d = dfdsfv150026[['DatabaseName', 'SchemaName','TableName']]#.format(z)\n",
    "d = d.drop_duplicates()\n",
    "e = d['DatabaseName'].values[0]\n",
    "f = d['SchemaName'].values[0]\n",
    "g = d['TableName'].values[0]\n",
    "print (d)\n",
    "FileName = ('DownstreamFeedsV15_{}_{}'.format(f,g))\n",
    "\n",
    "fig = px.scatter(dfdsfv150026, x = 'TodaysDate', y='RecordCount', size = 'RecordCount', color = 'RecordCount')#.format(z)\n",
    "fig.update_layout(title = '{0},{1},{2}'.format(e,f,g))\n",
    "fig.update_layout(yaxis_zeroline=False, xaxis_zeroline=False)\n",
    "fig.update_xaxes(title_font=dict(size=18, color='crimson'))\n",
    "fig.update_yaxes(title_font=dict(size=18, color='crimson'))\n",
    "fig.update_xaxes(ticks=\"inside\")\n",
    "fig.update_yaxes(ticks=\"inside\")\n",
    "fig.update_xaxes(tickangle=45, tickfont=dict(color='crimson', size=14))\n",
    "fig.update_xaxes(showline=True, linewidth=2, linecolor='black', mirror=True, gridcolor='Pink')\n",
    "fig.update_yaxes(showline=True, linewidth=2, linecolor='black', mirror=True, gridcolor='Red')\n",
    "#fig.show()\n",
    "fig.write_html(pathT+\"\\{}.html\".format(FileName))\n",
    "plt.close()"
   ]
  },
  {
   "cell_type": "code",
   "execution_count": 35,
   "metadata": {},
   "outputs": [
    {
     "name": "stdout",
     "output_type": "stream",
     "text": [
      "              DatabaseName SchemaName                  TableName\n",
      "2950  DownstreamFeeds_V1.5        dbo  ES_Course_depts2013-14-S2\n"
     ]
    }
   ],
   "source": [
    "d = dfdsfv150027[['DatabaseName', 'SchemaName','TableName']]#.format(z)\n",
    "d = d.drop_duplicates()\n",
    "e = d['DatabaseName'].values[0]\n",
    "f = d['SchemaName'].values[0]\n",
    "g = d['TableName'].values[0]\n",
    "print (d)\n",
    "FileName = ('DownstreamFeedsV15_{}_{}'.format(f,g))\n",
    "\n",
    "fig = px.scatter(dfdsfv150027, x = 'TodaysDate', y='RecordCount', size = 'RecordCount', color = 'RecordCount')#.format(z)\n",
    "fig.update_layout(title = '{0},{1},{2}'.format(e,f,g))\n",
    "fig.update_layout(yaxis_zeroline=False, xaxis_zeroline=False)\n",
    "fig.update_xaxes(title_font=dict(size=18, color='crimson'))\n",
    "fig.update_yaxes(title_font=dict(size=18, color='crimson'))\n",
    "fig.update_xaxes(ticks=\"inside\")\n",
    "fig.update_yaxes(ticks=\"inside\")\n",
    "fig.update_xaxes(tickangle=45, tickfont=dict(color='crimson', size=14))\n",
    "fig.update_xaxes(showline=True, linewidth=2, linecolor='black', mirror=True, gridcolor='Pink')\n",
    "fig.update_yaxes(showline=True, linewidth=2, linecolor='black', mirror=True, gridcolor='Red')\n",
    "#fig.show()\n",
    "fig.write_html(pathT+\"\\{}.html\".format(FileName))\n",
    "plt.close()"
   ]
  },
  {
   "cell_type": "code",
   "execution_count": 36,
   "metadata": {},
   "outputs": [
    {
     "name": "stdout",
     "output_type": "stream",
     "text": [
      "              DatabaseName SchemaName               TableName\n",
      "3068  DownstreamFeeds_V1.5        dbo  ES_Course_depts2014-15\n"
     ]
    }
   ],
   "source": [
    "d = dfdsfv150028[['DatabaseName', 'SchemaName','TableName']]#.format(z)\n",
    "d = d.drop_duplicates()\n",
    "e = d['DatabaseName'].values[0]\n",
    "f = d['SchemaName'].values[0]\n",
    "g = d['TableName'].values[0]\n",
    "print (d)\n",
    "FileName = ('DownstreamFeedsV15_{}_{}'.format(f,g))\n",
    "\n",
    "fig = px.scatter(dfdsfv150028, x = 'TodaysDate', y='RecordCount', size = 'RecordCount', color = 'RecordCount')#.format(z)\n",
    "fig.update_layout(title = '{0},{1},{2}'.format(e,f,g))\n",
    "fig.update_layout(yaxis_zeroline=False, xaxis_zeroline=False)\n",
    "fig.update_xaxes(title_font=dict(size=18, color='crimson'))\n",
    "fig.update_yaxes(title_font=dict(size=18, color='crimson'))\n",
    "fig.update_xaxes(ticks=\"inside\")\n",
    "fig.update_yaxes(ticks=\"inside\")\n",
    "fig.update_xaxes(tickangle=45, tickfont=dict(color='crimson', size=14))\n",
    "fig.update_xaxes(showline=True, linewidth=2, linecolor='black', mirror=True, gridcolor='Pink')\n",
    "fig.update_yaxes(showline=True, linewidth=2, linecolor='black', mirror=True, gridcolor='Red')\n",
    "#fig.show()\n",
    "fig.write_html(pathT+\"\\{}.html\".format(FileName))\n",
    "plt.close()"
   ]
  },
  {
   "cell_type": "code",
   "execution_count": 37,
   "metadata": {},
   "outputs": [
    {
     "name": "stdout",
     "output_type": "stream",
     "text": [
      "              DatabaseName SchemaName                   TableName\n",
      "2478  DownstreamFeeds_V1.5        dbo  ES_Course_Depts2014-15_rev\n"
     ]
    }
   ],
   "source": [
    "d = dfdsfv150029[['DatabaseName', 'SchemaName','TableName']]#.format(z)\n",
    "d = d.drop_duplicates()\n",
    "e = d['DatabaseName'].values[0]\n",
    "f = d['SchemaName'].values[0]\n",
    "g = d['TableName'].values[0]\n",
    "print (d)\n",
    "FileName = ('DownstreamFeedsV15_{}_{}'.format(f,g))\n",
    "\n",
    "fig = px.scatter(dfdsfv150029, x = 'TodaysDate', y='RecordCount', size = 'RecordCount', color = 'RecordCount')#.format(z)\n",
    "fig.update_layout(title = '{0},{1},{2}'.format(e,f,g))\n",
    "fig.update_layout(yaxis_zeroline=False, xaxis_zeroline=False)\n",
    "fig.update_xaxes(title_font=dict(size=18, color='crimson'))\n",
    "fig.update_yaxes(title_font=dict(size=18, color='crimson'))\n",
    "fig.update_xaxes(ticks=\"inside\")\n",
    "fig.update_yaxes(ticks=\"inside\")\n",
    "fig.update_xaxes(tickangle=45, tickfont=dict(color='crimson', size=14))\n",
    "fig.update_xaxes(showline=True, linewidth=2, linecolor='black', mirror=True, gridcolor='Pink')\n",
    "fig.update_yaxes(showline=True, linewidth=2, linecolor='black', mirror=True, gridcolor='Red')\n",
    "#fig.show()\n",
    "fig.write_html(pathT+\"\\{}.html\".format(FileName))\n",
    "plt.close()"
   ]
  },
  {
   "cell_type": "code",
   "execution_count": 38,
   "metadata": {},
   "outputs": [
    {
     "name": "stdout",
     "output_type": "stream",
     "text": [
      "              DatabaseName SchemaName TableName\n",
      "3186  DownstreamFeeds_V1.5        dbo    G_GTID\n"
     ]
    }
   ],
   "source": [
    "d = dfdsfv150030[['DatabaseName', 'SchemaName','TableName']]#.format(z)\n",
    "d = d.drop_duplicates()\n",
    "e = d['DatabaseName'].values[0]\n",
    "f = d['SchemaName'].values[0]\n",
    "g = d['TableName'].values[0]\n",
    "print (d)\n",
    "FileName = ('DownstreamFeedsV15_{}_{}'.format(f,g))\n",
    "\n",
    "fig = px.scatter(dfdsfv150030, x = 'TodaysDate', y='RecordCount', size = 'RecordCount', color = 'RecordCount')#.format(z)\n",
    "fig.update_layout(title = '{0},{1},{2}'.format(e,f,g))\n",
    "fig.update_layout(yaxis_zeroline=False, xaxis_zeroline=False)\n",
    "fig.update_xaxes(title_font=dict(size=18, color='crimson'))\n",
    "fig.update_yaxes(title_font=dict(size=18, color='crimson'))\n",
    "fig.update_xaxes(ticks=\"inside\")\n",
    "fig.update_yaxes(ticks=\"inside\")\n",
    "fig.update_xaxes(tickangle=45, tickfont=dict(color='crimson', size=14))\n",
    "fig.update_xaxes(showline=True, linewidth=2, linecolor='black', mirror=True, gridcolor='Pink')\n",
    "fig.update_yaxes(showline=True, linewidth=2, linecolor='black', mirror=True, gridcolor='Red')\n",
    "#fig.show()\n",
    "fig.write_html(pathT+\"\\{}.html\".format(FileName))\n",
    "plt.close()"
   ]
  },
  {
   "cell_type": "code",
   "execution_count": 39,
   "metadata": {},
   "outputs": [
    {
     "name": "stdout",
     "output_type": "stream",
     "text": [
      "              DatabaseName SchemaName               TableName\n",
      "3304  DownstreamFeeds_V1.5        dbo  HS_Course_Depts2011-12\n"
     ]
    }
   ],
   "source": [
    "d = dfdsfv150031[['DatabaseName', 'SchemaName','TableName']]#.format(z)\n",
    "d = d.drop_duplicates()\n",
    "e = d['DatabaseName'].values[0]\n",
    "f = d['SchemaName'].values[0]\n",
    "g = d['TableName'].values[0]\n",
    "print (d)\n",
    "FileName = ('DownstreamFeedsV15_{}_{}'.format(f,g))\n",
    "\n",
    "fig = px.scatter(dfdsfv150031, x = 'TodaysDate', y='RecordCount', size = 'RecordCount', color = 'RecordCount')#.format(z)\n",
    "fig.update_layout(title = '{0},{1},{2}'.format(e,f,g))\n",
    "fig.update_layout(yaxis_zeroline=False, xaxis_zeroline=False)\n",
    "fig.update_xaxes(title_font=dict(size=18, color='crimson'))\n",
    "fig.update_yaxes(title_font=dict(size=18, color='crimson'))\n",
    "fig.update_xaxes(ticks=\"inside\")\n",
    "fig.update_yaxes(ticks=\"inside\")\n",
    "fig.update_xaxes(tickangle=45, tickfont=dict(color='crimson', size=14))\n",
    "fig.update_xaxes(showline=True, linewidth=2, linecolor='black', mirror=True, gridcolor='Pink')\n",
    "fig.update_yaxes(showline=True, linewidth=2, linecolor='black', mirror=True, gridcolor='Red')\n",
    "#fig.show()\n",
    "fig.write_html(pathT+\"\\{}.html\".format(FileName))\n",
    "plt.close()"
   ]
  },
  {
   "cell_type": "code",
   "execution_count": 40,
   "metadata": {},
   "outputs": [
    {
     "name": "stdout",
     "output_type": "stream",
     "text": [
      "              DatabaseName SchemaName               TableName\n",
      "3540  DownstreamFeeds_V1.5        dbo  HS_Course_depts2012-13\n"
     ]
    }
   ],
   "source": [
    "d = dfdsfv150032[['DatabaseName', 'SchemaName','TableName']]#.format(z)\n",
    "d = d.drop_duplicates()\n",
    "e = d['DatabaseName'].values[0]\n",
    "f = d['SchemaName'].values[0]\n",
    "g = d['TableName'].values[0]\n",
    "print (d)\n",
    "FileName = ('DownstreamFeedsV15_{}_{}'.format(f,g))\n",
    "\n",
    "fig = px.scatter(dfdsfv150032, x = 'TodaysDate', y='RecordCount', size = 'RecordCount', color = 'RecordCount')#.format(z)\n",
    "fig.update_layout(title = '{0},{1},{2}'.format(e,f,g))\n",
    "fig.update_layout(yaxis_zeroline=False, xaxis_zeroline=False)\n",
    "fig.update_xaxes(title_font=dict(size=18, color='crimson'))\n",
    "fig.update_yaxes(title_font=dict(size=18, color='crimson'))\n",
    "fig.update_xaxes(ticks=\"inside\")\n",
    "fig.update_yaxes(ticks=\"inside\")\n",
    "fig.update_xaxes(tickangle=45, tickfont=dict(color='crimson', size=14))\n",
    "fig.update_xaxes(showline=True, linewidth=2, linecolor='black', mirror=True, gridcolor='Pink')\n",
    "fig.update_yaxes(showline=True, linewidth=2, linecolor='black', mirror=True, gridcolor='Red')\n",
    "#fig.show()\n",
    "fig.write_html(pathT+\"\\{}.html\".format(FileName))\n",
    "plt.close()"
   ]
  },
  {
   "cell_type": "code",
   "execution_count": 41,
   "metadata": {},
   "outputs": [
    {
     "name": "stdout",
     "output_type": "stream",
     "text": [
      "              DatabaseName SchemaName               TableName\n",
      "3658  DownstreamFeeds_V1.5        dbo  HS_Course_depts2013-14\n"
     ]
    }
   ],
   "source": [
    "d = dfdsfv150033[['DatabaseName', 'SchemaName','TableName']]#.format(z)\n",
    "d = d.drop_duplicates()\n",
    "e = d['DatabaseName'].values[0]\n",
    "f = d['SchemaName'].values[0]\n",
    "g = d['TableName'].values[0]\n",
    "print (d)\n",
    "FileName = ('DownstreamFeedsV15_{}_{}'.format(f,g))\n",
    "\n",
    "fig = px.scatter(dfdsfv150033, x = 'TodaysDate', y='RecordCount', size = 'RecordCount', color = 'RecordCount')#.format(z)\n",
    "fig.update_layout(title = '{0},{1},{2}'.format(e,f,g))\n",
    "fig.update_layout(yaxis_zeroline=False, xaxis_zeroline=False)\n",
    "fig.update_xaxes(title_font=dict(size=18, color='crimson'))\n",
    "fig.update_yaxes(title_font=dict(size=18, color='crimson'))\n",
    "fig.update_xaxes(ticks=\"inside\")\n",
    "fig.update_yaxes(ticks=\"inside\")\n",
    "fig.update_xaxes(tickangle=45, tickfont=dict(color='crimson', size=14))\n",
    "fig.update_xaxes(showline=True, linewidth=2, linecolor='black', mirror=True, gridcolor='Pink')\n",
    "fig.update_yaxes(showline=True, linewidth=2, linecolor='black', mirror=True, gridcolor='Red')\n",
    "#fig.show()\n",
    "fig.write_html(pathT+\"\\{}.html\".format(FileName))\n",
    "plt.close()"
   ]
  },
  {
   "cell_type": "code",
   "execution_count": 42,
   "metadata": {},
   "outputs": [
    {
     "name": "stdout",
     "output_type": "stream",
     "text": [
      "              DatabaseName SchemaName                  TableName\n",
      "3776  DownstreamFeeds_V1.5        dbo  HS_Course_depts2013-14-S2\n"
     ]
    }
   ],
   "source": [
    "d = dfdsfv150034[['DatabaseName', 'SchemaName','TableName']]#.format(z)\n",
    "d = d.drop_duplicates()\n",
    "e = d['DatabaseName'].values[0]\n",
    "f = d['SchemaName'].values[0]\n",
    "g = d['TableName'].values[0]\n",
    "print (d)\n",
    "FileName = ('DownstreamFeedsV15_{}_{}'.format(f,g))\n",
    "\n",
    "fig = px.scatter(dfdsfv150034, x = 'TodaysDate', y='RecordCount', size = 'RecordCount', color = 'RecordCount')#.format(z)\n",
    "fig.update_layout(title = '{0},{1},{2}'.format(e,f,g))\n",
    "fig.update_layout(yaxis_zeroline=False, xaxis_zeroline=False)\n",
    "fig.update_xaxes(title_font=dict(size=18, color='crimson'))\n",
    "fig.update_yaxes(title_font=dict(size=18, color='crimson'))\n",
    "fig.update_xaxes(ticks=\"inside\")\n",
    "fig.update_yaxes(ticks=\"inside\")\n",
    "fig.update_xaxes(tickangle=45, tickfont=dict(color='crimson', size=14))\n",
    "fig.update_xaxes(showline=True, linewidth=2, linecolor='black', mirror=True, gridcolor='Pink')\n",
    "fig.update_yaxes(showline=True, linewidth=2, linecolor='black', mirror=True, gridcolor='Red')\n",
    "#fig.show()\n",
    "fig.write_html(pathT+\"\\{}.html\".format(FileName))\n",
    "plt.close()"
   ]
  },
  {
   "cell_type": "code",
   "execution_count": 43,
   "metadata": {},
   "outputs": [
    {
     "name": "stdout",
     "output_type": "stream",
     "text": [
      "              DatabaseName SchemaName               TableName\n",
      "3894  DownstreamFeeds_V1.5        dbo  HS_Course_depts2014-15\n"
     ]
    }
   ],
   "source": [
    "d = dfdsfv150035[['DatabaseName', 'SchemaName','TableName']]#.format(z)\n",
    "d = d.drop_duplicates()\n",
    "e = d['DatabaseName'].values[0]\n",
    "f = d['SchemaName'].values[0]\n",
    "g = d['TableName'].values[0]\n",
    "print (d)\n",
    "FileName = ('DownstreamFeedsV15_{}_{}'.format(f,g))\n",
    "\n",
    "fig = px.scatter(dfdsfv150035, x = 'TodaysDate', y='RecordCount', size = 'RecordCount', color = 'RecordCount')#.format(z)\n",
    "fig.update_layout(title = '{0},{1},{2}'.format(e,f,g))\n",
    "fig.update_layout(yaxis_zeroline=False, xaxis_zeroline=False)\n",
    "fig.update_xaxes(title_font=dict(size=18, color='crimson'))\n",
    "fig.update_yaxes(title_font=dict(size=18, color='crimson'))\n",
    "fig.update_xaxes(ticks=\"inside\")\n",
    "fig.update_yaxes(ticks=\"inside\")\n",
    "fig.update_xaxes(tickangle=45, tickfont=dict(color='crimson', size=14))\n",
    "fig.update_xaxes(showline=True, linewidth=2, linecolor='black', mirror=True, gridcolor='Pink')\n",
    "fig.update_yaxes(showline=True, linewidth=2, linecolor='black', mirror=True, gridcolor='Red')\n",
    "#fig.show()\n",
    "fig.write_html(pathT+\"\\{}.html\".format(FileName))\n",
    "plt.close()"
   ]
  },
  {
   "cell_type": "code",
   "execution_count": 44,
   "metadata": {},
   "outputs": [
    {
     "name": "stdout",
     "output_type": "stream",
     "text": [
      "              DatabaseName SchemaName                   TableName\n",
      "3422  DownstreamFeeds_V1.5        dbo  HS_Course_Depts2014-15_rev\n"
     ]
    }
   ],
   "source": [
    "d = dfdsfv150036[['DatabaseName', 'SchemaName','TableName']]#.format(z)\n",
    "d = d.drop_duplicates()\n",
    "e = d['DatabaseName'].values[0]\n",
    "f = d['SchemaName'].values[0]\n",
    "g = d['TableName'].values[0]\n",
    "print (d)\n",
    "FileName = ('DownstreamFeedsV15_{}_{}'.format(f,g))\n",
    "\n",
    "fig = px.scatter(dfdsfv150036, x = 'TodaysDate', y='RecordCount', size = 'RecordCount', color = 'RecordCount')#.format(z)\n",
    "fig.update_layout(title = '{0},{1},{2}'.format(e,f,g))\n",
    "fig.update_layout(yaxis_zeroline=False, xaxis_zeroline=False)\n",
    "fig.update_xaxes(title_font=dict(size=18, color='crimson'))\n",
    "fig.update_yaxes(title_font=dict(size=18, color='crimson'))\n",
    "fig.update_xaxes(ticks=\"inside\")\n",
    "fig.update_yaxes(ticks=\"inside\")\n",
    "fig.update_xaxes(tickangle=45, tickfont=dict(color='crimson', size=14))\n",
    "fig.update_xaxes(showline=True, linewidth=2, linecolor='black', mirror=True, gridcolor='Pink')\n",
    "fig.update_yaxes(showline=True, linewidth=2, linecolor='black', mirror=True, gridcolor='Red')\n",
    "#fig.show()\n",
    "fig.write_html(pathT+\"\\{}.html\".format(FileName))\n",
    "plt.close()"
   ]
  },
  {
   "cell_type": "code",
   "execution_count": 45,
   "metadata": {},
   "outputs": [
    {
     "name": "stdout",
     "output_type": "stream",
     "text": [
      "              DatabaseName SchemaName TableName\n",
      "4012  DownstreamFeeds_V1.5        dbo    Import\n"
     ]
    }
   ],
   "source": [
    "d = dfdsfv150037[['DatabaseName', 'SchemaName','TableName']]#.format(z)\n",
    "d = d.drop_duplicates()\n",
    "e = d['DatabaseName'].values[0]\n",
    "f = d['SchemaName'].values[0]\n",
    "g = d['TableName'].values[0]\n",
    "print (d)\n",
    "FileName = ('DownstreamFeedsV15_{}_{}'.format(f,g))\n",
    "\n",
    "fig = px.scatter(dfdsfv150037, x = 'TodaysDate', y='RecordCount', size = 'RecordCount', color = 'RecordCount')#.format(z)\n",
    "fig.update_layout(title = '{0},{1},{2}'.format(e,f,g))\n",
    "fig.update_layout(yaxis_zeroline=False, xaxis_zeroline=False)\n",
    "fig.update_xaxes(title_font=dict(size=18, color='crimson'))\n",
    "fig.update_yaxes(title_font=dict(size=18, color='crimson'))\n",
    "fig.update_xaxes(ticks=\"inside\")\n",
    "fig.update_yaxes(ticks=\"inside\")\n",
    "fig.update_xaxes(tickangle=45, tickfont=dict(color='crimson', size=14))\n",
    "fig.update_xaxes(showline=True, linewidth=2, linecolor='black', mirror=True, gridcolor='Pink')\n",
    "fig.update_yaxes(showline=True, linewidth=2, linecolor='black', mirror=True, gridcolor='Red')\n",
    "#fig.show()\n",
    "fig.write_html(pathT+\"\\{}.html\".format(FileName))\n",
    "plt.close()"
   ]
  },
  {
   "cell_type": "code",
   "execution_count": 46,
   "metadata": {},
   "outputs": [
    {
     "name": "stdout",
     "output_type": "stream",
     "text": [
      "              DatabaseName SchemaName           TableName\n",
      "9096  DownstreamFeeds_V1.5        dbo  jean2DestinySchool\n"
     ]
    }
   ],
   "source": [
    "d = dfdsfv150038[['DatabaseName', 'SchemaName','TableName']]#.format(z)\n",
    "d = d.drop_duplicates()\n",
    "e = d['DatabaseName'].values[0]\n",
    "f = d['SchemaName'].values[0]\n",
    "g = d['TableName'].values[0]\n",
    "print (d)\n",
    "FileName = ('DownstreamFeedsV15_{}_{}'.format(f,g))\n",
    "\n",
    "fig = px.scatter(dfdsfv150038, x = 'TodaysDate', y='RecordCount', size = 'RecordCount', color = 'RecordCount')#.format(z)\n",
    "fig.update_layout(title = '{0},{1},{2}'.format(e,f,g))\n",
    "fig.update_layout(yaxis_zeroline=False, xaxis_zeroline=False)\n",
    "fig.update_xaxes(title_font=dict(size=18, color='crimson'))\n",
    "fig.update_yaxes(title_font=dict(size=18, color='crimson'))\n",
    "fig.update_xaxes(ticks=\"inside\")\n",
    "fig.update_yaxes(ticks=\"inside\")\n",
    "fig.update_xaxes(tickangle=45, tickfont=dict(color='crimson', size=14))\n",
    "fig.update_xaxes(showline=True, linewidth=2, linecolor='black', mirror=True, gridcolor='Pink')\n",
    "fig.update_yaxes(showline=True, linewidth=2, linecolor='black', mirror=True, gridcolor='Red')\n",
    "#fig.show()\n",
    "fig.write_html(pathT+\"\\{}.html\".format(FileName))\n",
    "plt.close()"
   ]
  },
  {
   "cell_type": "code",
   "execution_count": 47,
   "metadata": {},
   "outputs": [
    {
     "name": "stdout",
     "output_type": "stream",
     "text": [
      "              DatabaseName SchemaName            TableName\n",
      "9214  DownstreamFeeds_V1.5        dbo  jeanDESTINY_SCHOOLS\n"
     ]
    }
   ],
   "source": [
    "d = dfdsfv150039[['DatabaseName', 'SchemaName','TableName']]#.format(z)\n",
    "d = d.drop_duplicates()\n",
    "e = d['DatabaseName'].values[0]\n",
    "f = d['SchemaName'].values[0]\n",
    "g = d['TableName'].values[0]\n",
    "print (d)\n",
    "FileName = ('DownstreamFeedsV15_{}_{}'.format(f,g))\n",
    "\n",
    "fig = px.scatter(dfdsfv150039, x = 'TodaysDate', y='RecordCount', size = 'RecordCount', color = 'RecordCount')#.format(z)\n",
    "fig.update_layout(title = '{0},{1},{2}'.format(e,f,g))\n",
    "fig.update_layout(yaxis_zeroline=False, xaxis_zeroline=False)\n",
    "fig.update_xaxes(title_font=dict(size=18, color='crimson'))\n",
    "fig.update_yaxes(title_font=dict(size=18, color='crimson'))\n",
    "fig.update_xaxes(ticks=\"inside\")\n",
    "fig.update_yaxes(ticks=\"inside\")\n",
    "fig.update_xaxes(tickangle=45, tickfont=dict(color='crimson', size=14))\n",
    "fig.update_xaxes(showline=True, linewidth=2, linecolor='black', mirror=True, gridcolor='Pink')\n",
    "fig.update_yaxes(showline=True, linewidth=2, linecolor='black', mirror=True, gridcolor='Red')\n",
    "#fig.show()\n",
    "fig.write_html(pathT+\"\\{}.html\".format(FileName))\n",
    "plt.close()"
   ]
  },
  {
   "cell_type": "code",
   "execution_count": 48,
   "metadata": {},
   "outputs": [
    {
     "name": "stdout",
     "output_type": "stream",
     "text": [
      "              DatabaseName SchemaName TableName\n",
      "4130  DownstreamFeeds_V1.5        dbo   LoadTbl\n"
     ]
    }
   ],
   "source": [
    "d = dfdsfv150040[['DatabaseName', 'SchemaName','TableName']]#.format(z)\n",
    "d = d.drop_duplicates()\n",
    "e = d['DatabaseName'].values[0]\n",
    "f = d['SchemaName'].values[0]\n",
    "g = d['TableName'].values[0]\n",
    "print (d)\n",
    "FileName = ('DownstreamFeedsV15_{}_{}'.format(f,g))\n",
    "\n",
    "fig = px.scatter(dfdsfv150040, x = 'TodaysDate', y='RecordCount', size = 'RecordCount', color = 'RecordCount')#.format(z)\n",
    "fig.update_layout(title = '{0},{1},{2}'.format(e,f,g))\n",
    "fig.update_layout(yaxis_zeroline=False, xaxis_zeroline=False)\n",
    "fig.update_xaxes(title_font=dict(size=18, color='crimson'))\n",
    "fig.update_yaxes(title_font=dict(size=18, color='crimson'))\n",
    "fig.update_xaxes(ticks=\"inside\")\n",
    "fig.update_yaxes(ticks=\"inside\")\n",
    "fig.update_xaxes(tickangle=45, tickfont=dict(color='crimson', size=14))\n",
    "fig.update_xaxes(showline=True, linewidth=2, linecolor='black', mirror=True, gridcolor='Pink')\n",
    "fig.update_yaxes(showline=True, linewidth=2, linecolor='black', mirror=True, gridcolor='Red')\n",
    "#fig.show()\n",
    "fig.write_html(pathT+\"\\{}.html\".format(FileName))\n",
    "plt.close()"
   ]
  },
  {
   "cell_type": "code",
   "execution_count": 49,
   "metadata": {},
   "outputs": [
    {
     "name": "stdout",
     "output_type": "stream",
     "text": [
      "              DatabaseName SchemaName  \\\n",
      "5074  DownstreamFeeds_V1.5        dbo   \n",
      "\n",
      "                                           TableName  \n",
      "5074  Mapnet_AftSch_Student_Data_Full_Intermediate_A  \n"
     ]
    }
   ],
   "source": [
    "d = dfdsfv150041[['DatabaseName', 'SchemaName','TableName']]#.format(z)\n",
    "d = d.drop_duplicates()\n",
    "e = d['DatabaseName'].values[0]\n",
    "f = d['SchemaName'].values[0]\n",
    "g = d['TableName'].values[0]\n",
    "print (d)\n",
    "FileName = ('DownstreamFeedsV15_{}_{}'.format(f,g))\n",
    "\n",
    "fig = px.scatter(dfdsfv150041, x = 'TodaysDate', y='RecordCount', size = 'RecordCount', color = 'RecordCount')#.format(z)\n",
    "fig.update_layout(title = '{0},{1},{2}'.format(e,f,g))\n",
    "fig.update_layout(yaxis_zeroline=False, xaxis_zeroline=False)\n",
    "fig.update_xaxes(title_font=dict(size=18, color='crimson'))\n",
    "fig.update_yaxes(title_font=dict(size=18, color='crimson'))\n",
    "fig.update_xaxes(ticks=\"inside\")\n",
    "fig.update_yaxes(ticks=\"inside\")\n",
    "fig.update_xaxes(tickangle=45, tickfont=dict(color='crimson', size=14))\n",
    "fig.update_xaxes(showline=True, linewidth=2, linecolor='black', mirror=True, gridcolor='Pink')\n",
    "fig.update_yaxes(showline=True, linewidth=2, linecolor='black', mirror=True, gridcolor='Red')\n",
    "#fig.show()\n",
    "fig.write_html(pathT+\"\\{}.html\".format(FileName))\n",
    "plt.close()"
   ]
  },
  {
   "cell_type": "code",
   "execution_count": 50,
   "metadata": {},
   "outputs": [
    {
     "name": "stdout",
     "output_type": "stream",
     "text": [
      "              DatabaseName SchemaName  \\\n",
      "5192  DownstreamFeeds_V1.5        dbo   \n",
      "\n",
      "                                           TableName  \n",
      "5192  Mapnet_AftSch_Student_Data_Full_Intermediate_B  \n"
     ]
    }
   ],
   "source": [
    "d = dfdsfv150042[['DatabaseName', 'SchemaName','TableName']]#.format(z)\n",
    "d = d.drop_duplicates()\n",
    "e = d['DatabaseName'].values[0]\n",
    "f = d['SchemaName'].values[0]\n",
    "g = d['TableName'].values[0]\n",
    "print (d)\n",
    "FileName = ('DownstreamFeedsV15_{}_{}'.format(f,g))\n",
    "\n",
    "fig = px.scatter(dfdsfv150042, x = 'TodaysDate', y='RecordCount', size = 'RecordCount', color = 'RecordCount')#.format(z)\n",
    "fig.update_layout(title = '{0},{1},{2}'.format(e,f,g))\n",
    "fig.update_layout(yaxis_zeroline=False, xaxis_zeroline=False)\n",
    "fig.update_xaxes(title_font=dict(size=18, color='crimson'))\n",
    "fig.update_yaxes(title_font=dict(size=18, color='crimson'))\n",
    "fig.update_xaxes(ticks=\"inside\")\n",
    "fig.update_yaxes(ticks=\"inside\")\n",
    "fig.update_xaxes(tickangle=45, tickfont=dict(color='crimson', size=14))\n",
    "fig.update_xaxes(showline=True, linewidth=2, linecolor='black', mirror=True, gridcolor='Pink')\n",
    "fig.update_yaxes(showline=True, linewidth=2, linecolor='black', mirror=True, gridcolor='Red')\n",
    "#fig.show()\n",
    "fig.write_html(pathT+\"\\{}.html\".format(FileName))\n",
    "plt.close()"
   ]
  },
  {
   "cell_type": "code",
   "execution_count": 51,
   "metadata": {},
   "outputs": [
    {
     "name": "stdout",
     "output_type": "stream",
     "text": [
      "              DatabaseName SchemaName                               TableName\n",
      "5310  DownstreamFeeds_V1.5        dbo  Mapnet_AftSch_Student_Data_Full_Result\n"
     ]
    }
   ],
   "source": [
    "d = dfdsfv150043[['DatabaseName', 'SchemaName','TableName']]#.format(z)\n",
    "d = d.drop_duplicates()\n",
    "e = d['DatabaseName'].values[0]\n",
    "f = d['SchemaName'].values[0]\n",
    "g = d['TableName'].values[0]\n",
    "print (d)\n",
    "FileName = ('DownstreamFeedsV15_{}_{}'.format(f,g))\n",
    "\n",
    "fig = px.scatter(dfdsfv150043, x = 'TodaysDate', y='RecordCount', size = 'RecordCount', color = 'RecordCount')#.format(z)\n",
    "fig.update_layout(title = '{0},{1},{2}'.format(e,f,g))\n",
    "fig.update_layout(yaxis_zeroline=False, xaxis_zeroline=False)\n",
    "fig.update_xaxes(title_font=dict(size=18, color='crimson'))\n",
    "fig.update_yaxes(title_font=dict(size=18, color='crimson'))\n",
    "fig.update_xaxes(ticks=\"inside\")\n",
    "fig.update_yaxes(ticks=\"inside\")\n",
    "fig.update_xaxes(tickangle=45, tickfont=dict(color='crimson', size=14))\n",
    "fig.update_xaxes(showline=True, linewidth=2, linecolor='black', mirror=True, gridcolor='Pink')\n",
    "fig.update_yaxes(showline=True, linewidth=2, linecolor='black', mirror=True, gridcolor='Red')\n",
    "#fig.show()\n",
    "fig.write_html(pathT+\"\\{}.html\".format(FileName))\n",
    "plt.close()"
   ]
  },
  {
   "cell_type": "code",
   "execution_count": 52,
   "metadata": {},
   "outputs": [
    {
     "name": "stdout",
     "output_type": "stream",
     "text": [
      "              DatabaseName SchemaName  \\\n",
      "5428  DownstreamFeeds_V1.5        dbo   \n",
      "\n",
      "                                              TableName  \n",
      "5428  Mapnet_Dups_From_Mapnet_AftSch_Student_Data_Fu...  \n"
     ]
    }
   ],
   "source": [
    "d = dfdsfv150044[['DatabaseName', 'SchemaName','TableName']]#.format(z)\n",
    "d = d.drop_duplicates()\n",
    "e = d['DatabaseName'].values[0]\n",
    "f = d['SchemaName'].values[0]\n",
    "g = d['TableName'].values[0]\n",
    "print (d)\n",
    "FileName = ('DownstreamFeedsV15_{}_{}'.format(f,g))\n",
    "\n",
    "fig = px.scatter(dfdsfv150044, x = 'TodaysDate', y='RecordCount', size = 'RecordCount', color = 'RecordCount')#.format(z)\n",
    "fig.update_layout(title = '{0},{1},{2}'.format(e,f,g))\n",
    "fig.update_layout(yaxis_zeroline=False, xaxis_zeroline=False)\n",
    "fig.update_xaxes(title_font=dict(size=18, color='crimson'))\n",
    "fig.update_yaxes(title_font=dict(size=18, color='crimson'))\n",
    "fig.update_xaxes(ticks=\"inside\")\n",
    "fig.update_yaxes(ticks=\"inside\")\n",
    "fig.update_xaxes(tickangle=45, tickfont=dict(color='crimson', size=14))\n",
    "fig.update_xaxes(showline=True, linewidth=2, linecolor='black', mirror=True, gridcolor='Pink')\n",
    "fig.update_yaxes(showline=True, linewidth=2, linecolor='black', mirror=True, gridcolor='Red')\n",
    "#fig.show()\n",
    "fig.write_html(pathT+\"\\{}.html\".format(FileName))\n",
    "plt.close()"
   ]
  },
  {
   "cell_type": "code",
   "execution_count": 53,
   "metadata": {},
   "outputs": [
    {
     "name": "stdout",
     "output_type": "stream",
     "text": [
      "              DatabaseName SchemaName  \\\n",
      "5546  DownstreamFeeds_V1.5        dbo   \n",
      "\n",
      "                                             TableName  \n",
      "5546  Mapnet_Dups_From_Mapnet_Student_Data_Full_Result  \n"
     ]
    }
   ],
   "source": [
    "d = dfdsfv150045[['DatabaseName', 'SchemaName','TableName']]#.format(z)\n",
    "d = d.drop_duplicates()\n",
    "e = d['DatabaseName'].values[0]\n",
    "f = d['SchemaName'].values[0]\n",
    "g = d['TableName'].values[0]\n",
    "print (d)\n",
    "FileName = ('DownstreamFeedsV15_{}_{}'.format(f,g))\n",
    "\n",
    "fig = px.scatter(dfdsfv150045, x = 'TodaysDate', y='RecordCount', size = 'RecordCount', color = 'RecordCount')#.format(z)\n",
    "fig.update_layout(title = '{0},{1},{2}'.format(e,f,g))\n",
    "fig.update_layout(yaxis_zeroline=False, xaxis_zeroline=False)\n",
    "fig.update_xaxes(title_font=dict(size=18, color='crimson'))\n",
    "fig.update_yaxes(title_font=dict(size=18, color='crimson'))\n",
    "fig.update_xaxes(ticks=\"inside\")\n",
    "fig.update_yaxes(ticks=\"inside\")\n",
    "fig.update_xaxes(tickangle=45, tickfont=dict(color='crimson', size=14))\n",
    "fig.update_xaxes(showline=True, linewidth=2, linecolor='black', mirror=True, gridcolor='Pink')\n",
    "fig.update_yaxes(showline=True, linewidth=2, linecolor='black', mirror=True, gridcolor='Red')\n",
    "#fig.show()\n",
    "fig.write_html(pathT+\"\\{}.html\".format(FileName))\n",
    "plt.close()"
   ]
  },
  {
   "cell_type": "code",
   "execution_count": 54,
   "metadata": {},
   "outputs": [
    {
     "name": "stdout",
     "output_type": "stream",
     "text": [
      "              DatabaseName SchemaName  \\\n",
      "5664  DownstreamFeeds_V1.5        dbo   \n",
      "\n",
      "                                         TableName  \n",
      "5664  Mapnet_Emergency_Contact_Data_Intermediate_A  \n"
     ]
    }
   ],
   "source": [
    "d = dfdsfv150046[['DatabaseName', 'SchemaName','TableName']]#.format(z)\n",
    "d = d.drop_duplicates()\n",
    "e = d['DatabaseName'].values[0]\n",
    "f = d['SchemaName'].values[0]\n",
    "g = d['TableName'].values[0]\n",
    "print (d)\n",
    "FileName = ('DownstreamFeedsV15_{}_{}'.format(f,g))\n",
    "\n",
    "fig = px.scatter(dfdsfv150046, x = 'TodaysDate', y='RecordCount', size = 'RecordCount', color = 'RecordCount')#.format(z)\n",
    "fig.update_layout(title = '{0},{1},{2}'.format(e,f,g))\n",
    "fig.update_layout(yaxis_zeroline=False, xaxis_zeroline=False)\n",
    "fig.update_xaxes(title_font=dict(size=18, color='crimson'))\n",
    "fig.update_yaxes(title_font=dict(size=18, color='crimson'))\n",
    "fig.update_xaxes(ticks=\"inside\")\n",
    "fig.update_yaxes(ticks=\"inside\")\n",
    "fig.update_xaxes(tickangle=45, tickfont=dict(color='crimson', size=14))\n",
    "fig.update_xaxes(showline=True, linewidth=2, linecolor='black', mirror=True, gridcolor='Pink')\n",
    "fig.update_yaxes(showline=True, linewidth=2, linecolor='black', mirror=True, gridcolor='Red')\n",
    "#fig.show()\n",
    "fig.write_html(pathT+\"\\{}.html\".format(FileName))\n",
    "plt.close()"
   ]
  },
  {
   "cell_type": "code",
   "execution_count": 55,
   "metadata": {},
   "outputs": [
    {
     "name": "stdout",
     "output_type": "stream",
     "text": [
      "              DatabaseName SchemaName  \\\n",
      "5782  DownstreamFeeds_V1.5        dbo   \n",
      "\n",
      "                                         TableName  \n",
      "5782  Mapnet_Emergency_Contact_Data_Intermediate_B  \n"
     ]
    }
   ],
   "source": [
    "d = dfdsfv150047[['DatabaseName', 'SchemaName','TableName']]#.format(z)\n",
    "d = d.drop_duplicates()\n",
    "e = d['DatabaseName'].values[0]\n",
    "f = d['SchemaName'].values[0]\n",
    "g = d['TableName'].values[0]\n",
    "print (d)\n",
    "FileName = ('DownstreamFeedsV15_{}_{}'.format(f,g))\n",
    "\n",
    "fig = px.scatter(dfdsfv150047, x = 'TodaysDate', y='RecordCount', size = 'RecordCount', color = 'RecordCount')#.format(z)\n",
    "fig.update_layout(title = '{0},{1},{2}'.format(e,f,g))\n",
    "fig.update_layout(yaxis_zeroline=False, xaxis_zeroline=False)\n",
    "fig.update_xaxes(title_font=dict(size=18, color='crimson'))\n",
    "fig.update_yaxes(title_font=dict(size=18, color='crimson'))\n",
    "fig.update_xaxes(ticks=\"inside\")\n",
    "fig.update_yaxes(ticks=\"inside\")\n",
    "fig.update_xaxes(tickangle=45, tickfont=dict(color='crimson', size=14))\n",
    "fig.update_xaxes(showline=True, linewidth=2, linecolor='black', mirror=True, gridcolor='Pink')\n",
    "fig.update_yaxes(showline=True, linewidth=2, linecolor='black', mirror=True, gridcolor='Red')\n",
    "#fig.show()\n",
    "fig.write_html(pathT+\"\\{}.html\".format(FileName))\n",
    "plt.close()"
   ]
  },
  {
   "cell_type": "code",
   "execution_count": 56,
   "metadata": {},
   "outputs": [
    {
     "name": "stdout",
     "output_type": "stream",
     "text": [
      "              DatabaseName SchemaName  \\\n",
      "5900  DownstreamFeeds_V1.5        dbo   \n",
      "\n",
      "                                         TableName  \n",
      "5900  Mapnet_Emergency_Contact_Data_Intermediate_C  \n"
     ]
    }
   ],
   "source": [
    "d = dfdsfv150048[['DatabaseName', 'SchemaName','TableName']]#.format(z)\n",
    "d = d.drop_duplicates()\n",
    "e = d['DatabaseName'].values[0]\n",
    "f = d['SchemaName'].values[0]\n",
    "g = d['TableName'].values[0]\n",
    "print (d)\n",
    "FileName = ('DownstreamFeedsV15_{}_{}'.format(f,g))\n",
    "\n",
    "fig = px.scatter(dfdsfv150048, x = 'TodaysDate', y='RecordCount', size = 'RecordCount', color = 'RecordCount')#.format(z)\n",
    "fig.update_layout(title = '{0},{1},{2}'.format(e,f,g))\n",
    "fig.update_layout(yaxis_zeroline=False, xaxis_zeroline=False)\n",
    "fig.update_xaxes(title_font=dict(size=18, color='crimson'))\n",
    "fig.update_yaxes(title_font=dict(size=18, color='crimson'))\n",
    "fig.update_xaxes(ticks=\"inside\")\n",
    "fig.update_yaxes(ticks=\"inside\")\n",
    "fig.update_xaxes(tickangle=45, tickfont=dict(color='crimson', size=14))\n",
    "fig.update_xaxes(showline=True, linewidth=2, linecolor='black', mirror=True, gridcolor='Pink')\n",
    "fig.update_yaxes(showline=True, linewidth=2, linecolor='black', mirror=True, gridcolor='Red')\n",
    "#fig.show()\n",
    "fig.write_html(pathT+\"\\{}.html\".format(FileName))\n",
    "plt.close()"
   ]
  },
  {
   "cell_type": "code",
   "execution_count": 57,
   "metadata": {},
   "outputs": [
    {
     "name": "stdout",
     "output_type": "stream",
     "text": [
      "              DatabaseName SchemaName                             TableName\n",
      "6018  DownstreamFeeds_V1.5        dbo  Mapnet_Emergency_Contact_Data_Result\n"
     ]
    }
   ],
   "source": [
    "d = dfdsfv150049[['DatabaseName', 'SchemaName','TableName']]#.format(z)\n",
    "d = d.drop_duplicates()\n",
    "e = d['DatabaseName'].values[0]\n",
    "f = d['SchemaName'].values[0]\n",
    "g = d['TableName'].values[0]\n",
    "print (d)\n",
    "FileName = ('DownstreamFeedsV15_{}_{}'.format(f,g))\n",
    "\n",
    "fig = px.scatter(dfdsfv150049, x = 'TodaysDate', y='RecordCount', size = 'RecordCount', color = 'RecordCount')#.format(z)\n",
    "fig.update_layout(title = '{0},{1},{2}'.format(e,f,g))\n",
    "fig.update_layout(yaxis_zeroline=False, xaxis_zeroline=False)\n",
    "fig.update_xaxes(title_font=dict(size=18, color='crimson'))\n",
    "fig.update_yaxes(title_font=dict(size=18, color='crimson'))\n",
    "fig.update_xaxes(ticks=\"inside\")\n",
    "fig.update_yaxes(ticks=\"inside\")\n",
    "fig.update_xaxes(tickangle=45, tickfont=dict(color='crimson', size=14))\n",
    "fig.update_xaxes(showline=True, linewidth=2, linecolor='black', mirror=True, gridcolor='Pink')\n",
    "fig.update_yaxes(showline=True, linewidth=2, linecolor='black', mirror=True, gridcolor='Red')\n",
    "#fig.show()\n",
    "fig.write_html(pathT+\"\\{}.html\".format(FileName))\n",
    "plt.close()"
   ]
  },
  {
   "cell_type": "code",
   "execution_count": 58,
   "metadata": {},
   "outputs": [
    {
     "name": "stdout",
     "output_type": "stream",
     "text": [
      "              DatabaseName SchemaName  \\\n",
      "9332  DownstreamFeeds_V1.5        dbo   \n",
      "\n",
      "                                     TableName  \n",
      "9332  mapnet_jeantest_student_data_full_result  \n"
     ]
    }
   ],
   "source": [
    "d = dfdsfv150050[['DatabaseName', 'SchemaName','TableName']]#.format(z)\n",
    "d = d.drop_duplicates()\n",
    "e = d['DatabaseName'].values[0]\n",
    "f = d['SchemaName'].values[0]\n",
    "g = d['TableName'].values[0]\n",
    "print (d)\n",
    "FileName = ('DownstreamFeedsV15_{}_{}'.format(f,g))\n",
    "\n",
    "fig = px.scatter(dfdsfv150050, x = 'TodaysDate', y='RecordCount', size = 'RecordCount', color = 'RecordCount')#.format(z)\n",
    "fig.update_layout(title = '{0},{1},{2}'.format(e,f,g))\n",
    "fig.update_layout(yaxis_zeroline=False, xaxis_zeroline=False)\n",
    "fig.update_xaxes(title_font=dict(size=18, color='crimson'))\n",
    "fig.update_yaxes(title_font=dict(size=18, color='crimson'))\n",
    "fig.update_xaxes(ticks=\"inside\")\n",
    "fig.update_yaxes(ticks=\"inside\")\n",
    "fig.update_xaxes(tickangle=45, tickfont=dict(color='crimson', size=14))\n",
    "fig.update_xaxes(showline=True, linewidth=2, linecolor='black', mirror=True, gridcolor='Pink')\n",
    "fig.update_yaxes(showline=True, linewidth=2, linecolor='black', mirror=True, gridcolor='Red')\n",
    "#fig.show()\n",
    "fig.write_html(pathT+\"\\{}.html\".format(FileName))\n",
    "plt.close()"
   ]
  },
  {
   "cell_type": "code",
   "execution_count": 59,
   "metadata": {},
   "outputs": [
    {
     "name": "stdout",
     "output_type": "stream",
     "text": [
      "              DatabaseName SchemaName                          TableName\n",
      "6136  DownstreamFeeds_V1.5        dbo  Mapnet_Parent_Data_Intermediate_A\n"
     ]
    }
   ],
   "source": [
    "d = dfdsfv150051[['DatabaseName', 'SchemaName','TableName']]#.format(z)\n",
    "d = d.drop_duplicates()\n",
    "e = d['DatabaseName'].values[0]\n",
    "f = d['SchemaName'].values[0]\n",
    "g = d['TableName'].values[0]\n",
    "print (d)\n",
    "FileName = ('DownstreamFeedsV15_{}_{}'.format(f,g))\n",
    "\n",
    "fig = px.scatter(dfdsfv150051, x = 'TodaysDate', y='RecordCount', size = 'RecordCount', color = 'RecordCount')#.format(z)\n",
    "fig.update_layout(title = '{0},{1},{2}'.format(e,f,g))\n",
    "fig.update_layout(yaxis_zeroline=False, xaxis_zeroline=False)\n",
    "fig.update_xaxes(title_font=dict(size=18, color='crimson'))\n",
    "fig.update_yaxes(title_font=dict(size=18, color='crimson'))\n",
    "fig.update_xaxes(ticks=\"inside\")\n",
    "fig.update_yaxes(ticks=\"inside\")\n",
    "fig.update_xaxes(tickangle=45, tickfont=dict(color='crimson', size=14))\n",
    "fig.update_xaxes(showline=True, linewidth=2, linecolor='black', mirror=True, gridcolor='Pink')\n",
    "fig.update_yaxes(showline=True, linewidth=2, linecolor='black', mirror=True, gridcolor='Red')\n",
    "#fig.show()\n",
    "fig.write_html(pathT+\"\\{}.html\".format(FileName))\n",
    "plt.close()"
   ]
  },
  {
   "cell_type": "code",
   "execution_count": 60,
   "metadata": {},
   "outputs": [
    {
     "name": "stdout",
     "output_type": "stream",
     "text": [
      "              DatabaseName SchemaName                          TableName\n",
      "6254  DownstreamFeeds_V1.5        dbo  Mapnet_Parent_Data_Intermediate_B\n"
     ]
    }
   ],
   "source": [
    "d = dfdsfv150052[['DatabaseName', 'SchemaName','TableName']]#.format(z)\n",
    "d = d.drop_duplicates()\n",
    "e = d['DatabaseName'].values[0]\n",
    "f = d['SchemaName'].values[0]\n",
    "g = d['TableName'].values[0]\n",
    "print (d)\n",
    "FileName = ('DownstreamFeedsV15_{}_{}'.format(f,g))\n",
    "\n",
    "fig = px.scatter(dfdsfv150052, x = 'TodaysDate', y='RecordCount', size = 'RecordCount', color = 'RecordCount')#.format(z)\n",
    "fig.update_layout(title = '{0},{1},{2}'.format(e,f,g))\n",
    "fig.update_layout(yaxis_zeroline=False, xaxis_zeroline=False)\n",
    "fig.update_xaxes(title_font=dict(size=18, color='crimson'))\n",
    "fig.update_yaxes(title_font=dict(size=18, color='crimson'))\n",
    "fig.update_xaxes(ticks=\"inside\")\n",
    "fig.update_yaxes(ticks=\"inside\")\n",
    "fig.update_xaxes(tickangle=45, tickfont=dict(color='crimson', size=14))\n",
    "fig.update_xaxes(showline=True, linewidth=2, linecolor='black', mirror=True, gridcolor='Pink')\n",
    "fig.update_yaxes(showline=True, linewidth=2, linecolor='black', mirror=True, gridcolor='Red')\n",
    "#fig.show()\n",
    "fig.write_html(pathT+\"\\{}.html\".format(FileName))\n",
    "plt.close()"
   ]
  },
  {
   "cell_type": "code",
   "execution_count": 61,
   "metadata": {},
   "outputs": [
    {
     "name": "stdout",
     "output_type": "stream",
     "text": [
      "              DatabaseName SchemaName                          TableName\n",
      "6372  DownstreamFeeds_V1.5        dbo  Mapnet_Parent_Data_Intermediate_C\n"
     ]
    }
   ],
   "source": [
    "d = dfdsfv150053[['DatabaseName', 'SchemaName','TableName']]#.format(z)\n",
    "d = d.drop_duplicates()\n",
    "e = d['DatabaseName'].values[0]\n",
    "f = d['SchemaName'].values[0]\n",
    "g = d['TableName'].values[0]\n",
    "print (d)\n",
    "FileName = ('DownstreamFeedsV15_{}_{}'.format(f,g))\n",
    "\n",
    "fig = px.scatter(dfdsfv150053, x = 'TodaysDate', y='RecordCount', size = 'RecordCount', color = 'RecordCount')#.format(z)\n",
    "fig.update_layout(title = '{0},{1},{2}'.format(e,f,g))\n",
    "fig.update_layout(yaxis_zeroline=False, xaxis_zeroline=False)\n",
    "fig.update_xaxes(title_font=dict(size=18, color='crimson'))\n",
    "fig.update_yaxes(title_font=dict(size=18, color='crimson'))\n",
    "fig.update_xaxes(ticks=\"inside\")\n",
    "fig.update_yaxes(ticks=\"inside\")\n",
    "fig.update_xaxes(tickangle=45, tickfont=dict(color='crimson', size=14))\n",
    "fig.update_xaxes(showline=True, linewidth=2, linecolor='black', mirror=True, gridcolor='Pink')\n",
    "fig.update_yaxes(showline=True, linewidth=2, linecolor='black', mirror=True, gridcolor='Red')\n",
    "#fig.show()\n",
    "fig.write_html(pathT+\"\\{}.html\".format(FileName))\n",
    "plt.close()"
   ]
  },
  {
   "cell_type": "code",
   "execution_count": 62,
   "metadata": {},
   "outputs": [
    {
     "name": "stdout",
     "output_type": "stream",
     "text": [
      "              DatabaseName SchemaName                  TableName\n",
      "6490  DownstreamFeeds_V1.5        dbo  Mapnet_Parent_Data_Result\n"
     ]
    }
   ],
   "source": [
    "d = dfdsfv150054[['DatabaseName', 'SchemaName','TableName']]#.format(z)\n",
    "d = d.drop_duplicates()\n",
    "e = d['DatabaseName'].values[0]\n",
    "f = d['SchemaName'].values[0]\n",
    "g = d['TableName'].values[0]\n",
    "print (d)\n",
    "FileName = ('DownstreamFeedsV15_{}_{}'.format(f,g))\n",
    "\n",
    "fig = px.scatter(dfdsfv150054, x = 'TodaysDate', y='RecordCount', size = 'RecordCount', color = 'RecordCount')#.format(z)\n",
    "fig.update_layout(title = '{0},{1},{2}'.format(e,f,g))\n",
    "fig.update_layout(yaxis_zeroline=False, xaxis_zeroline=False)\n",
    "fig.update_xaxes(title_font=dict(size=18, color='crimson'))\n",
    "fig.update_yaxes(title_font=dict(size=18, color='crimson'))\n",
    "fig.update_xaxes(ticks=\"inside\")\n",
    "fig.update_yaxes(ticks=\"inside\")\n",
    "fig.update_xaxes(tickangle=45, tickfont=dict(color='crimson', size=14))\n",
    "fig.update_xaxes(showline=True, linewidth=2, linecolor='black', mirror=True, gridcolor='Pink')\n",
    "fig.update_yaxes(showline=True, linewidth=2, linecolor='black', mirror=True, gridcolor='Red')\n",
    "#fig.show()\n",
    "fig.write_html(pathT+\"\\{}.html\".format(FileName))\n",
    "plt.close()"
   ]
  },
  {
   "cell_type": "code",
   "execution_count": 63,
   "metadata": {},
   "outputs": [
    {
     "name": "stdout",
     "output_type": "stream",
     "text": [
      "              DatabaseName SchemaName  \\\n",
      "6608  DownstreamFeeds_V1.5        dbo   \n",
      "\n",
      "                                             TableName  \n",
      "6608  Mapnet_Planning_Student_Data_Full_Intermediate_A  \n"
     ]
    }
   ],
   "source": [
    "d = dfdsfv150055[['DatabaseName', 'SchemaName','TableName']]#.format(z)\n",
    "d = d.drop_duplicates()\n",
    "e = d['DatabaseName'].values[0]\n",
    "f = d['SchemaName'].values[0]\n",
    "g = d['TableName'].values[0]\n",
    "print (d)\n",
    "FileName = ('DownstreamFeedsV15_{}_{}'.format(f,g))\n",
    "\n",
    "fig = px.scatter(dfdsfv150055, x = 'TodaysDate', y='RecordCount', size = 'RecordCount', color = 'RecordCount')#.format(z)\n",
    "fig.update_layout(title = '{0},{1},{2}'.format(e,f,g))\n",
    "fig.update_layout(yaxis_zeroline=False, xaxis_zeroline=False)\n",
    "fig.update_xaxes(title_font=dict(size=18, color='crimson'))\n",
    "fig.update_yaxes(title_font=dict(size=18, color='crimson'))\n",
    "fig.update_xaxes(ticks=\"inside\")\n",
    "fig.update_yaxes(ticks=\"inside\")\n",
    "fig.update_xaxes(tickangle=45, tickfont=dict(color='crimson', size=14))\n",
    "fig.update_xaxes(showline=True, linewidth=2, linecolor='black', mirror=True, gridcolor='Pink')\n",
    "fig.update_yaxes(showline=True, linewidth=2, linecolor='black', mirror=True, gridcolor='Red')\n",
    "#fig.show()\n",
    "fig.write_html(pathT+\"\\{}.html\".format(FileName))\n",
    "plt.close()"
   ]
  },
  {
   "cell_type": "code",
   "execution_count": 64,
   "metadata": {},
   "outputs": [
    {
     "name": "stdout",
     "output_type": "stream",
     "text": [
      "              DatabaseName SchemaName  \\\n",
      "6726  DownstreamFeeds_V1.5        dbo   \n",
      "\n",
      "                                             TableName  \n",
      "6726  Mapnet_Planning_Student_Data_Full_Intermediate_B  \n"
     ]
    }
   ],
   "source": [
    "d = dfdsfv150056[['DatabaseName', 'SchemaName','TableName']]#.format(z)\n",
    "d = d.drop_duplicates()\n",
    "e = d['DatabaseName'].values[0]\n",
    "f = d['SchemaName'].values[0]\n",
    "g = d['TableName'].values[0]\n",
    "print (d)\n",
    "FileName = ('DownstreamFeedsV15_{}_{}'.format(f,g))\n",
    "\n",
    "fig = px.scatter(dfdsfv150056, x = 'TodaysDate', y='RecordCount', size = 'RecordCount', color = 'RecordCount')#.format(z)\n",
    "fig.update_layout(title = '{0},{1},{2}'.format(e,f,g))\n",
    "fig.update_layout(yaxis_zeroline=False, xaxis_zeroline=False)\n",
    "fig.update_xaxes(title_font=dict(size=18, color='crimson'))\n",
    "fig.update_yaxes(title_font=dict(size=18, color='crimson'))\n",
    "fig.update_xaxes(ticks=\"inside\")\n",
    "fig.update_yaxes(ticks=\"inside\")\n",
    "fig.update_xaxes(tickangle=45, tickfont=dict(color='crimson', size=14))\n",
    "fig.update_xaxes(showline=True, linewidth=2, linecolor='black', mirror=True, gridcolor='Pink')\n",
    "fig.update_yaxes(showline=True, linewidth=2, linecolor='black', mirror=True, gridcolor='Red')\n",
    "#fig.show()\n",
    "fig.write_html(pathT+\"\\{}.html\".format(FileName))\n",
    "plt.close()"
   ]
  },
  {
   "cell_type": "code",
   "execution_count": 65,
   "metadata": {},
   "outputs": [
    {
     "name": "stdout",
     "output_type": "stream",
     "text": [
      "              DatabaseName SchemaName  \\\n",
      "6844  DownstreamFeeds_V1.5        dbo   \n",
      "\n",
      "                                     TableName  \n",
      "6844  Mapnet_Planning_Student_Data_Full_Result  \n"
     ]
    }
   ],
   "source": [
    "d = dfdsfv150057[['DatabaseName', 'SchemaName','TableName']]#.format(z)\n",
    "d = d.drop_duplicates()\n",
    "e = d['DatabaseName'].values[0]\n",
    "f = d['SchemaName'].values[0]\n",
    "g = d['TableName'].values[0]\n",
    "print (d)\n",
    "FileName = ('DownstreamFeedsV15_{}_{}'.format(f,g))\n",
    "\n",
    "fig = px.scatter(dfdsfv150057, x = 'TodaysDate', y='RecordCount', size = 'RecordCount', color = 'RecordCount')#.format(z)\n",
    "fig.update_layout(title = '{0},{1},{2}'.format(e,f,g))\n",
    "fig.update_layout(yaxis_zeroline=False, xaxis_zeroline=False)\n",
    "fig.update_xaxes(title_font=dict(size=18, color='crimson'))\n",
    "fig.update_yaxes(title_font=dict(size=18, color='crimson'))\n",
    "fig.update_xaxes(ticks=\"inside\")\n",
    "fig.update_yaxes(ticks=\"inside\")\n",
    "fig.update_xaxes(tickangle=45, tickfont=dict(color='crimson', size=14))\n",
    "fig.update_xaxes(showline=True, linewidth=2, linecolor='black', mirror=True, gridcolor='Pink')\n",
    "fig.update_yaxes(showline=True, linewidth=2, linecolor='black', mirror=True, gridcolor='Red')\n",
    "#fig.show()\n",
    "fig.write_html(pathT+\"\\{}.html\".format(FileName))\n",
    "plt.close()"
   ]
  },
  {
   "cell_type": "code",
   "execution_count": 66,
   "metadata": {},
   "outputs": [
    {
     "name": "stdout",
     "output_type": "stream",
     "text": [
      "              DatabaseName SchemaName                                TableName\n",
      "6962  DownstreamFeeds_V1.5        dbo  Mapnet_Student_Data_Full_Intermediate_A\n"
     ]
    }
   ],
   "source": [
    "d = dfdsfv150058[['DatabaseName', 'SchemaName','TableName']]#.format(z)\n",
    "d = d.drop_duplicates()\n",
    "e = d['DatabaseName'].values[0]\n",
    "f = d['SchemaName'].values[0]\n",
    "g = d['TableName'].values[0]\n",
    "print (d)\n",
    "FileName = ('DownstreamFeedsV15_{}_{}'.format(f,g))\n",
    "\n",
    "fig = px.scatter(dfdsfv150058, x = 'TodaysDate', y='RecordCount', size = 'RecordCount', color = 'RecordCount')#.format(z)\n",
    "fig.update_layout(title = '{0},{1},{2}'.format(e,f,g))\n",
    "fig.update_layout(yaxis_zeroline=False, xaxis_zeroline=False)\n",
    "fig.update_xaxes(title_font=dict(size=18, color='crimson'))\n",
    "fig.update_yaxes(title_font=dict(size=18, color='crimson'))\n",
    "fig.update_xaxes(ticks=\"inside\")\n",
    "fig.update_yaxes(ticks=\"inside\")\n",
    "fig.update_xaxes(tickangle=45, tickfont=dict(color='crimson', size=14))\n",
    "fig.update_xaxes(showline=True, linewidth=2, linecolor='black', mirror=True, gridcolor='Pink')\n",
    "fig.update_yaxes(showline=True, linewidth=2, linecolor='black', mirror=True, gridcolor='Red')\n",
    "#fig.show()\n",
    "fig.write_html(pathT+\"\\{}.html\".format(FileName))\n",
    "plt.close()"
   ]
  },
  {
   "cell_type": "code",
   "execution_count": 67,
   "metadata": {},
   "outputs": [
    {
     "name": "stdout",
     "output_type": "stream",
     "text": [
      "              DatabaseName SchemaName                                TableName\n",
      "7080  DownstreamFeeds_V1.5        dbo  Mapnet_Student_Data_Full_Intermediate_B\n"
     ]
    }
   ],
   "source": [
    "d = dfdsfv150059[['DatabaseName', 'SchemaName','TableName']]#.format(z)\n",
    "d = d.drop_duplicates()\n",
    "e = d['DatabaseName'].values[0]\n",
    "f = d['SchemaName'].values[0]\n",
    "g = d['TableName'].values[0]\n",
    "print (d)\n",
    "FileName = ('DownstreamFeedsV15_{}_{}'.format(f,g))\n",
    "\n",
    "fig = px.scatter(dfdsfv150059, x = 'TodaysDate', y='RecordCount', size = 'RecordCount', color = 'RecordCount')#.format(z)\n",
    "fig.update_layout(title = '{0},{1},{2}'.format(e,f,g))\n",
    "fig.update_layout(yaxis_zeroline=False, xaxis_zeroline=False)\n",
    "fig.update_xaxes(title_font=dict(size=18, color='crimson'))\n",
    "fig.update_yaxes(title_font=dict(size=18, color='crimson'))\n",
    "fig.update_xaxes(ticks=\"inside\")\n",
    "fig.update_yaxes(ticks=\"inside\")\n",
    "fig.update_xaxes(tickangle=45, tickfont=dict(color='crimson', size=14))\n",
    "fig.update_xaxes(showline=True, linewidth=2, linecolor='black', mirror=True, gridcolor='Pink')\n",
    "fig.update_yaxes(showline=True, linewidth=2, linecolor='black', mirror=True, gridcolor='Red')\n",
    "#fig.show()\n",
    "fig.write_html(pathT+\"\\{}.html\".format(FileName))\n",
    "plt.close()"
   ]
  },
  {
   "cell_type": "code",
   "execution_count": 68,
   "metadata": {},
   "outputs": [
    {
     "name": "stdout",
     "output_type": "stream",
     "text": [
      "              DatabaseName SchemaName                        TableName\n",
      "7198  DownstreamFeeds_V1.5        dbo  Mapnet_Student_Data_Full_Result\n"
     ]
    }
   ],
   "source": [
    "d = dfdsfv150060[['DatabaseName', 'SchemaName','TableName']]#.format(z)\n",
    "d = d.drop_duplicates()\n",
    "e = d['DatabaseName'].values[0]\n",
    "f = d['SchemaName'].values[0]\n",
    "g = d['TableName'].values[0]\n",
    "print (d)\n",
    "FileName = ('DownstreamFeedsV15_{}_{}'.format(f,g))\n",
    "\n",
    "fig = px.scatter(dfdsfv150060, x = 'TodaysDate', y='RecordCount', size = 'RecordCount', color = 'RecordCount')#.format(z)\n",
    "fig.update_layout(title = '{0},{1},{2}'.format(e,f,g))\n",
    "fig.update_layout(yaxis_zeroline=False, xaxis_zeroline=False)\n",
    "fig.update_xaxes(title_font=dict(size=18, color='crimson'))\n",
    "fig.update_yaxes(title_font=dict(size=18, color='crimson'))\n",
    "fig.update_xaxes(ticks=\"inside\")\n",
    "fig.update_yaxes(ticks=\"inside\")\n",
    "fig.update_xaxes(tickangle=45, tickfont=dict(color='crimson', size=14))\n",
    "fig.update_xaxes(showline=True, linewidth=2, linecolor='black', mirror=True, gridcolor='Pink')\n",
    "fig.update_yaxes(showline=True, linewidth=2, linecolor='black', mirror=True, gridcolor='Red')\n",
    "#fig.show()\n",
    "fig.write_html(pathT+\"\\{}.html\".format(FileName))\n",
    "plt.close()"
   ]
  },
  {
   "cell_type": "code",
   "execution_count": 69,
   "metadata": {},
   "outputs": [
    {
     "name": "stdout",
     "output_type": "stream",
     "text": [
      "              DatabaseName SchemaName              TableName\n",
      "9450  DownstreamFeeds_V1.5        dbo  ms_course_departments\n"
     ]
    }
   ],
   "source": [
    "d = dfdsfv150061[['DatabaseName', 'SchemaName','TableName']]#.format(z)\n",
    "d = d.drop_duplicates()\n",
    "e = d['DatabaseName'].values[0]\n",
    "f = d['SchemaName'].values[0]\n",
    "g = d['TableName'].values[0]\n",
    "print (d)\n",
    "FileName = ('DownstreamFeedsV15_{}_{}'.format(f,g))\n",
    "\n",
    "fig = px.scatter(dfdsfv150061, x = 'TodaysDate', y='RecordCount', size = 'RecordCount', color = 'RecordCount')#.format(z)\n",
    "fig.update_layout(title = '{0},{1},{2}'.format(e,f,g))\n",
    "fig.update_layout(yaxis_zeroline=False, xaxis_zeroline=False)\n",
    "fig.update_xaxes(title_font=dict(size=18, color='crimson'))\n",
    "fig.update_yaxes(title_font=dict(size=18, color='crimson'))\n",
    "fig.update_xaxes(ticks=\"inside\")\n",
    "fig.update_yaxes(ticks=\"inside\")\n",
    "fig.update_xaxes(tickangle=45, tickfont=dict(color='crimson', size=14))\n",
    "fig.update_xaxes(showline=True, linewidth=2, linecolor='black', mirror=True, gridcolor='Pink')\n",
    "fig.update_yaxes(showline=True, linewidth=2, linecolor='black', mirror=True, gridcolor='Red')\n",
    "#fig.show()\n",
    "fig.write_html(pathT+\"\\{}.html\".format(FileName))\n",
    "plt.close()"
   ]
  },
  {
   "cell_type": "code",
   "execution_count": 70,
   "metadata": {},
   "outputs": [
    {
     "name": "stdout",
     "output_type": "stream",
     "text": [
      "              DatabaseName SchemaName              TableName\n",
      "4248  DownstreamFeeds_V1.5        dbo  MS_Course_Dept2014-15\n"
     ]
    }
   ],
   "source": [
    "d = dfdsfv150062[['DatabaseName', 'SchemaName','TableName']]#.format(z)\n",
    "d = d.drop_duplicates()\n",
    "e = d['DatabaseName'].values[0]\n",
    "f = d['SchemaName'].values[0]\n",
    "g = d['TableName'].values[0]\n",
    "print (d)\n",
    "FileName = ('DownstreamFeedsV15_{}_{}'.format(f,g))\n",
    "\n",
    "fig = px.scatter(dfdsfv150062, x = 'TodaysDate', y='RecordCount', size = 'RecordCount', color = 'RecordCount')#.format(z)\n",
    "fig.update_layout(title = '{0},{1},{2}'.format(e,f,g))\n",
    "fig.update_layout(yaxis_zeroline=False, xaxis_zeroline=False)\n",
    "fig.update_xaxes(title_font=dict(size=18, color='crimson'))\n",
    "fig.update_yaxes(title_font=dict(size=18, color='crimson'))\n",
    "fig.update_xaxes(ticks=\"inside\")\n",
    "fig.update_yaxes(ticks=\"inside\")\n",
    "fig.update_xaxes(tickangle=45, tickfont=dict(color='crimson', size=14))\n",
    "fig.update_xaxes(showline=True, linewidth=2, linecolor='black', mirror=True, gridcolor='Pink')\n",
    "fig.update_yaxes(showline=True, linewidth=2, linecolor='black', mirror=True, gridcolor='Red')\n",
    "#fig.show()\n",
    "fig.write_html(pathT+\"\\{}.html\".format(FileName))\n",
    "plt.close()"
   ]
  },
  {
   "cell_type": "code",
   "execution_count": 71,
   "metadata": {},
   "outputs": [
    {
     "name": "stdout",
     "output_type": "stream",
     "text": [
      "              DatabaseName SchemaName               TableName\n",
      "4366  DownstreamFeeds_V1.5        dbo  MS_Course_Depts2011_12\n"
     ]
    }
   ],
   "source": [
    "d = dfdsfv150063[['DatabaseName', 'SchemaName','TableName']]#.format(z)\n",
    "d = d.drop_duplicates()\n",
    "e = d['DatabaseName'].values[0]\n",
    "f = d['SchemaName'].values[0]\n",
    "g = d['TableName'].values[0]\n",
    "print (d)\n",
    "FileName = ('DownstreamFeedsV15_{}_{}'.format(f,g))\n",
    "\n",
    "fig = px.scatter(dfdsfv150063, x = 'TodaysDate', y='RecordCount', size = 'RecordCount', color = 'RecordCount')#.format(z)\n",
    "fig.update_layout(title = '{0},{1},{2}'.format(e,f,g))\n",
    "fig.update_layout(yaxis_zeroline=False, xaxis_zeroline=False)\n",
    "fig.update_xaxes(title_font=dict(size=18, color='crimson'))\n",
    "fig.update_yaxes(title_font=dict(size=18, color='crimson'))\n",
    "fig.update_xaxes(ticks=\"inside\")\n",
    "fig.update_yaxes(ticks=\"inside\")\n",
    "fig.update_xaxes(tickangle=45, tickfont=dict(color='crimson', size=14))\n",
    "fig.update_xaxes(showline=True, linewidth=2, linecolor='black', mirror=True, gridcolor='Pink')\n",
    "fig.update_yaxes(showline=True, linewidth=2, linecolor='black', mirror=True, gridcolor='Red')\n",
    "#fig.show()\n",
    "fig.write_html(pathT+\"\\{}.html\".format(FileName))\n",
    "plt.close()"
   ]
  },
  {
   "cell_type": "code",
   "execution_count": 72,
   "metadata": {},
   "outputs": [
    {
     "name": "stdout",
     "output_type": "stream",
     "text": [
      "              DatabaseName SchemaName                 TableName\n",
      "4484  DownstreamFeeds_V1.5        dbo  MS_Course_Depts2011_12_A\n"
     ]
    }
   ],
   "source": [
    "d = dfdsfv150064[['DatabaseName', 'SchemaName','TableName']]#.format(z)\n",
    "d = d.drop_duplicates()\n",
    "e = d['DatabaseName'].values[0]\n",
    "f = d['SchemaName'].values[0]\n",
    "g = d['TableName'].values[0]\n",
    "print (d)\n",
    "FileName = ('DownstreamFeedsV15_{}_{}'.format(f,g))\n",
    "\n",
    "fig = px.scatter(dfdsfv150064, x = 'TodaysDate', y='RecordCount', size = 'RecordCount', color = 'RecordCount')#.format(z)\n",
    "fig.update_layout(title = '{0},{1},{2}'.format(e,f,g))\n",
    "fig.update_layout(yaxis_zeroline=False, xaxis_zeroline=False)\n",
    "fig.update_xaxes(title_font=dict(size=18, color='crimson'))\n",
    "fig.update_yaxes(title_font=dict(size=18, color='crimson'))\n",
    "fig.update_xaxes(ticks=\"inside\")\n",
    "fig.update_yaxes(ticks=\"inside\")\n",
    "fig.update_xaxes(tickangle=45, tickfont=dict(color='crimson', size=14))\n",
    "fig.update_xaxes(showline=True, linewidth=2, linecolor='black', mirror=True, gridcolor='Pink')\n",
    "fig.update_yaxes(showline=True, linewidth=2, linecolor='black', mirror=True, gridcolor='Red')\n",
    "#fig.show()\n",
    "fig.write_html(pathT+\"\\{}.html\".format(FileName))\n",
    "plt.close()"
   ]
  },
  {
   "cell_type": "code",
   "execution_count": 73,
   "metadata": {},
   "outputs": [
    {
     "name": "stdout",
     "output_type": "stream",
     "text": [
      "              DatabaseName SchemaName               TableName\n",
      "4720  DownstreamFeeds_V1.5        dbo  MS_Course_depts2012-13\n"
     ]
    }
   ],
   "source": [
    "d = dfdsfv150065[['DatabaseName', 'SchemaName','TableName']]#.format(z)\n",
    "d = d.drop_duplicates()\n",
    "e = d['DatabaseName'].values[0]\n",
    "f = d['SchemaName'].values[0]\n",
    "g = d['TableName'].values[0]\n",
    "print (d)\n",
    "FileName = ('DownstreamFeedsV15_{}_{}'.format(f,g))\n",
    "\n",
    "fig = px.scatter(dfdsfv150065, x = 'TodaysDate', y='RecordCount', size = 'RecordCount', color = 'RecordCount')#.format(z)\n",
    "fig.update_layout(title = '{0},{1},{2}'.format(e,f,g))\n",
    "fig.update_layout(yaxis_zeroline=False, xaxis_zeroline=False)\n",
    "fig.update_xaxes(title_font=dict(size=18, color='crimson'))\n",
    "fig.update_yaxes(title_font=dict(size=18, color='crimson'))\n",
    "fig.update_xaxes(ticks=\"inside\")\n",
    "fig.update_yaxes(ticks=\"inside\")\n",
    "fig.update_xaxes(tickangle=45, tickfont=dict(color='crimson', size=14))\n",
    "fig.update_xaxes(showline=True, linewidth=2, linecolor='black', mirror=True, gridcolor='Pink')\n",
    "fig.update_yaxes(showline=True, linewidth=2, linecolor='black', mirror=True, gridcolor='Red')\n",
    "#fig.show()\n",
    "fig.write_html(pathT+\"\\{}.html\".format(FileName))\n",
    "plt.close()"
   ]
  },
  {
   "cell_type": "code",
   "execution_count": 74,
   "metadata": {},
   "outputs": [
    {
     "name": "stdout",
     "output_type": "stream",
     "text": [
      "              DatabaseName SchemaName               TableName\n",
      "4838  DownstreamFeeds_V1.5        dbo  MS_Course_depts2013-14\n"
     ]
    }
   ],
   "source": [
    "d = dfdsfv150066[['DatabaseName', 'SchemaName','TableName']]#.format(z)\n",
    "d = d.drop_duplicates()\n",
    "e = d['DatabaseName'].values[0]\n",
    "f = d['SchemaName'].values[0]\n",
    "g = d['TableName'].values[0]\n",
    "print (d)\n",
    "FileName = ('DownstreamFeedsV15_{}_{}'.format(f,g))\n",
    "\n",
    "fig = px.scatter(dfdsfv150066, x = 'TodaysDate', y='RecordCount', size = 'RecordCount', color = 'RecordCount')#.format(z)\n",
    "fig.update_layout(title = '{0},{1},{2}'.format(e,f,g))\n",
    "fig.update_layout(yaxis_zeroline=False, xaxis_zeroline=False)\n",
    "fig.update_xaxes(title_font=dict(size=18, color='crimson'))\n",
    "fig.update_yaxes(title_font=dict(size=18, color='crimson'))\n",
    "fig.update_xaxes(ticks=\"inside\")\n",
    "fig.update_yaxes(ticks=\"inside\")\n",
    "fig.update_xaxes(tickangle=45, tickfont=dict(color='crimson', size=14))\n",
    "fig.update_xaxes(showline=True, linewidth=2, linecolor='black', mirror=True, gridcolor='Pink')\n",
    "fig.update_yaxes(showline=True, linewidth=2, linecolor='black', mirror=True, gridcolor='Red')\n",
    "#fig.show()\n",
    "fig.write_html(pathT+\"\\{}.html\".format(FileName))\n",
    "plt.close()"
   ]
  },
  {
   "cell_type": "code",
   "execution_count": 75,
   "metadata": {},
   "outputs": [
    {
     "name": "stdout",
     "output_type": "stream",
     "text": [
      "              DatabaseName SchemaName                  TableName\n",
      "4956  DownstreamFeeds_V1.5        dbo  MS_Course_depts2013-14-S2\n"
     ]
    }
   ],
   "source": [
    "d = dfdsfv150067[['DatabaseName', 'SchemaName','TableName']]#.format(z)\n",
    "d = d.drop_duplicates()\n",
    "e = d['DatabaseName'].values[0]\n",
    "f = d['SchemaName'].values[0]\n",
    "g = d['TableName'].values[0]\n",
    "print (d)\n",
    "FileName = ('DownstreamFeedsV15_{}_{}'.format(f,g))\n",
    "\n",
    "fig = px.scatter(dfdsfv150067, x = 'TodaysDate', y='RecordCount', size = 'RecordCount', color = 'RecordCount')#.format(z)\n",
    "fig.update_layout(title = '{0},{1},{2}'.format(e,f,g))\n",
    "fig.update_layout(yaxis_zeroline=False, xaxis_zeroline=False)\n",
    "fig.update_xaxes(title_font=dict(size=18, color='crimson'))\n",
    "fig.update_yaxes(title_font=dict(size=18, color='crimson'))\n",
    "fig.update_xaxes(ticks=\"inside\")\n",
    "fig.update_yaxes(ticks=\"inside\")\n",
    "fig.update_xaxes(tickangle=45, tickfont=dict(color='crimson', size=14))\n",
    "fig.update_xaxes(showline=True, linewidth=2, linecolor='black', mirror=True, gridcolor='Pink')\n",
    "fig.update_yaxes(showline=True, linewidth=2, linecolor='black', mirror=True, gridcolor='Red')\n",
    "#fig.show()\n",
    "fig.write_html(pathT+\"\\{}.html\".format(FileName))\n",
    "plt.close()"
   ]
  },
  {
   "cell_type": "code",
   "execution_count": 76,
   "metadata": {},
   "outputs": [
    {
     "name": "stdout",
     "output_type": "stream",
     "text": [
      "              DatabaseName SchemaName                   TableName\n",
      "4602  DownstreamFeeds_V1.5        dbo  MS_Course_Depts2014-15_rev\n"
     ]
    }
   ],
   "source": [
    "d = dfdsfv150068[['DatabaseName', 'SchemaName','TableName']]#.format(z)\n",
    "d = d.drop_duplicates()\n",
    "e = d['DatabaseName'].values[0]\n",
    "f = d['SchemaName'].values[0]\n",
    "g = d['TableName'].values[0]\n",
    "print (d)\n",
    "FileName = ('DownstreamFeedsV15_{}_{}'.format(f,g))\n",
    "\n",
    "fig = px.scatter(dfdsfv150068, x = 'TodaysDate', y='RecordCount', size = 'RecordCount', color = 'RecordCount')#.format(z)\n",
    "fig.update_layout(title = '{0},{1},{2}'.format(e,f,g))\n",
    "fig.update_layout(yaxis_zeroline=False, xaxis_zeroline=False)\n",
    "fig.update_xaxes(title_font=dict(size=18, color='crimson'))\n",
    "fig.update_yaxes(title_font=dict(size=18, color='crimson'))\n",
    "fig.update_xaxes(ticks=\"inside\")\n",
    "fig.update_yaxes(ticks=\"inside\")\n",
    "fig.update_xaxes(tickangle=45, tickfont=dict(color='crimson', size=14))\n",
    "fig.update_xaxes(showline=True, linewidth=2, linecolor='black', mirror=True, gridcolor='Pink')\n",
    "fig.update_yaxes(showline=True, linewidth=2, linecolor='black', mirror=True, gridcolor='Red')\n",
    "#fig.show()\n",
    "fig.write_html(pathT+\"\\{}.html\".format(FileName))\n",
    "plt.close()"
   ]
  },
  {
   "cell_type": "code",
   "execution_count": 77,
   "metadata": {},
   "outputs": [
    {
     "name": "stdout",
     "output_type": "stream",
     "text": [
      "              DatabaseName SchemaName TableName\n",
      "7316  DownstreamFeeds_V1.5        dbo   ODS_SFN\n"
     ]
    }
   ],
   "source": [
    "d = dfdsfv150069[['DatabaseName', 'SchemaName','TableName']]#.format(z)\n",
    "d = d.drop_duplicates()\n",
    "e = d['DatabaseName'].values[0]\n",
    "f = d['SchemaName'].values[0]\n",
    "g = d['TableName'].values[0]\n",
    "print (d)\n",
    "FileName = ('DownstreamFeedsV15_{}_{}'.format(f,g))\n",
    "\n",
    "fig = px.scatter(dfdsfv150069, x = 'TodaysDate', y='RecordCount', size = 'RecordCount', color = 'RecordCount')#.format(z)\n",
    "fig.update_layout(title = '{0},{1},{2}'.format(e,f,g))\n",
    "fig.update_layout(yaxis_zeroline=False, xaxis_zeroline=False)\n",
    "fig.update_xaxes(title_font=dict(size=18, color='crimson'))\n",
    "fig.update_yaxes(title_font=dict(size=18, color='crimson'))\n",
    "fig.update_xaxes(ticks=\"inside\")\n",
    "fig.update_yaxes(ticks=\"inside\")\n",
    "fig.update_xaxes(tickangle=45, tickfont=dict(color='crimson', size=14))\n",
    "fig.update_xaxes(showline=True, linewidth=2, linecolor='black', mirror=True, gridcolor='Pink')\n",
    "fig.update_yaxes(showline=True, linewidth=2, linecolor='black', mirror=True, gridcolor='Red')\n",
    "#fig.show()\n",
    "fig.write_html(pathT+\"\\{}.html\".format(FileName))\n",
    "plt.close()"
   ]
  },
  {
   "cell_type": "code",
   "execution_count": 78,
   "metadata": {},
   "outputs": [
    {
     "name": "stdout",
     "output_type": "stream",
     "text": [
      "              DatabaseName SchemaName                 TableName\n",
      "7552  DownstreamFeeds_V1.5        dbo  SchoolFoodNutritionDaily\n"
     ]
    }
   ],
   "source": [
    "d = dfdsfv150070[['DatabaseName', 'SchemaName','TableName']]#.format(z)\n",
    "d = d.drop_duplicates()\n",
    "e = d['DatabaseName'].values[0]\n",
    "f = d['SchemaName'].values[0]\n",
    "g = d['TableName'].values[0]\n",
    "print (d)\n",
    "FileName = ('DownstreamFeedsV15_{}_{}'.format(f,g))\n",
    "\n",
    "fig = px.scatter(dfdsfv150070, x = 'TodaysDate', y='RecordCount', size = 'RecordCount', color = 'RecordCount')#.format(z)\n",
    "fig.update_layout(title = '{0},{1},{2}'.format(e,f,g))\n",
    "fig.update_layout(yaxis_zeroline=False, xaxis_zeroline=False)\n",
    "fig.update_xaxes(title_font=dict(size=18, color='crimson'))\n",
    "fig.update_yaxes(title_font=dict(size=18, color='crimson'))\n",
    "fig.update_xaxes(ticks=\"inside\")\n",
    "fig.update_yaxes(ticks=\"inside\")\n",
    "fig.update_xaxes(tickangle=45, tickfont=dict(color='crimson', size=14))\n",
    "fig.update_xaxes(showline=True, linewidth=2, linecolor='black', mirror=True, gridcolor='Pink')\n",
    "fig.update_yaxes(showline=True, linewidth=2, linecolor='black', mirror=True, gridcolor='Red')\n",
    "#fig.show()\n",
    "fig.write_html(pathT+\"\\{}.html\".format(FileName))\n",
    "plt.close()"
   ]
  },
  {
   "cell_type": "code",
   "execution_count": 79,
   "metadata": {},
   "outputs": [
    {
     "name": "stdout",
     "output_type": "stream",
     "text": [
      "              DatabaseName SchemaName                      TableName\n",
      "7670  DownstreamFeeds_V1.5        dbo  SchoolFoodNutritionDaily_test\n"
     ]
    }
   ],
   "source": [
    "d = dfdsfv150071[['DatabaseName', 'SchemaName','TableName']]#.format(z)\n",
    "d = d.drop_duplicates()\n",
    "e = d['DatabaseName'].values[0]\n",
    "f = d['SchemaName'].values[0]\n",
    "g = d['TableName'].values[0]\n",
    "print (d)\n",
    "FileName = ('DownstreamFeedsV15_{}_{}'.format(f,g))\n",
    "\n",
    "fig = px.scatter(dfdsfv150071, x = 'TodaysDate', y='RecordCount', size = 'RecordCount', color = 'RecordCount')#.format(z)\n",
    "fig.update_layout(title = '{0},{1},{2}'.format(e,f,g))\n",
    "fig.update_layout(yaxis_zeroline=False, xaxis_zeroline=False)\n",
    "fig.update_xaxes(title_font=dict(size=18, color='crimson'))\n",
    "fig.update_yaxes(title_font=dict(size=18, color='crimson'))\n",
    "fig.update_xaxes(ticks=\"inside\")\n",
    "fig.update_yaxes(ticks=\"inside\")\n",
    "fig.update_xaxes(tickangle=45, tickfont=dict(color='crimson', size=14))\n",
    "fig.update_xaxes(showline=True, linewidth=2, linecolor='black', mirror=True, gridcolor='Pink')\n",
    "fig.update_yaxes(showline=True, linewidth=2, linecolor='black', mirror=True, gridcolor='Red')\n",
    "#fig.show()\n",
    "fig.write_html(pathT+\"\\{}.html\".format(FileName))\n",
    "plt.close()"
   ]
  },
  {
   "cell_type": "code",
   "execution_count": 80,
   "metadata": {},
   "outputs": [
    {
     "name": "stdout",
     "output_type": "stream",
     "text": [
      "              DatabaseName SchemaName    TableName\n",
      "7434  DownstreamFeeds_V1.5        dbo  SUMMER_TERM\n"
     ]
    }
   ],
   "source": [
    "d = dfdsfv150072[['DatabaseName', 'SchemaName','TableName']]#.format(z)\n",
    "d = d.drop_duplicates()\n",
    "e = d['DatabaseName'].values[0]\n",
    "f = d['SchemaName'].values[0]\n",
    "g = d['TableName'].values[0]\n",
    "print (d)\n",
    "FileName = ('DownstreamFeedsV15_{}_{}'.format(f,g))\n",
    "\n",
    "fig = px.scatter(dfdsfv150072, x = 'TodaysDate', y='RecordCount', size = 'RecordCount', color = 'RecordCount')#.format(z)\n",
    "fig.update_layout(title = '{0},{1},{2}'.format(e,f,g))\n",
    "fig.update_layout(yaxis_zeroline=False, xaxis_zeroline=False)\n",
    "fig.update_xaxes(title_font=dict(size=18, color='crimson'))\n",
    "fig.update_yaxes(title_font=dict(size=18, color='crimson'))\n",
    "fig.update_xaxes(ticks=\"inside\")\n",
    "fig.update_yaxes(ticks=\"inside\")\n",
    "fig.update_xaxes(tickangle=45, tickfont=dict(color='crimson', size=14))\n",
    "fig.update_xaxes(showline=True, linewidth=2, linecolor='black', mirror=True, gridcolor='Pink')\n",
    "fig.update_yaxes(showline=True, linewidth=2, linecolor='black', mirror=True, gridcolor='Red')\n",
    "#fig.show()\n",
    "fig.write_html(pathT+\"\\{}.html\".format(FileName))\n",
    "plt.close()"
   ]
  },
  {
   "cell_type": "code",
   "execution_count": 81,
   "metadata": {},
   "outputs": [
    {
     "name": "stdout",
     "output_type": "stream",
     "text": [
      "              DatabaseName SchemaName    TableName\n",
      "9568  DownstreamFeeds_V1.5        dbo  sysdiagrams\n"
     ]
    }
   ],
   "source": [
    "d = dfdsfv150073[['DatabaseName', 'SchemaName','TableName']]#.format(z)\n",
    "d = d.drop_duplicates()\n",
    "e = d['DatabaseName'].values[0]\n",
    "f = d['SchemaName'].values[0]\n",
    "g = d['TableName'].values[0]\n",
    "print (d)\n",
    "FileName = ('DownstreamFeedsV15_{}_{}'.format(f,g))\n",
    "\n",
    "fig = px.scatter(dfdsfv150073, x = 'TodaysDate', y='RecordCount', size = 'RecordCount', color = 'RecordCount')#.format(z)\n",
    "fig.update_layout(title = '{0},{1},{2}'.format(e,f,g))\n",
    "fig.update_layout(yaxis_zeroline=False, xaxis_zeroline=False)\n",
    "fig.update_xaxes(title_font=dict(size=18, color='crimson'))\n",
    "fig.update_yaxes(title_font=dict(size=18, color='crimson'))\n",
    "fig.update_xaxes(ticks=\"inside\")\n",
    "fig.update_yaxes(ticks=\"inside\")\n",
    "fig.update_xaxes(tickangle=45, tickfont=dict(color='crimson', size=14))\n",
    "fig.update_xaxes(showline=True, linewidth=2, linecolor='black', mirror=True, gridcolor='Pink')\n",
    "fig.update_yaxes(showline=True, linewidth=2, linecolor='black', mirror=True, gridcolor='Red')\n",
    "#fig.show()\n",
    "fig.write_html(pathT+\"\\{}.html\".format(FileName))\n",
    "plt.close()"
   ]
  },
  {
   "cell_type": "code",
   "execution_count": 82,
   "metadata": {},
   "outputs": [
    {
     "name": "stdout",
     "output_type": "stream",
     "text": [
      "              DatabaseName SchemaName TableName\n",
      "9686  DownstreamFeeds_V1.5        dbo  tb_Diffs\n"
     ]
    }
   ],
   "source": [
    "d = dfdsfv150074[['DatabaseName', 'SchemaName','TableName']]#.format(z)\n",
    "d = d.drop_duplicates()\n",
    "e = d['DatabaseName'].values[0]\n",
    "f = d['SchemaName'].values[0]\n",
    "g = d['TableName'].values[0]\n",
    "print (d)\n",
    "FileName = ('DownstreamFeedsV15_{}_{}'.format(f,g))\n",
    "\n",
    "fig = px.scatter(dfdsfv150074, x = 'TodaysDate', y='RecordCount', size = 'RecordCount', color = 'RecordCount')#.format(z)\n",
    "fig.update_layout(title = '{0},{1},{2}'.format(e,f,g))\n",
    "fig.update_layout(yaxis_zeroline=False, xaxis_zeroline=False)\n",
    "fig.update_xaxes(title_font=dict(size=18, color='crimson'))\n",
    "fig.update_yaxes(title_font=dict(size=18, color='crimson'))\n",
    "fig.update_xaxes(ticks=\"inside\")\n",
    "fig.update_yaxes(ticks=\"inside\")\n",
    "fig.update_xaxes(tickangle=45, tickfont=dict(color='crimson', size=14))\n",
    "fig.update_xaxes(showline=True, linewidth=2, linecolor='black', mirror=True, gridcolor='Pink')\n",
    "fig.update_yaxes(showline=True, linewidth=2, linecolor='black', mirror=True, gridcolor='Red')\n",
    "#fig.show()\n",
    "fig.write_html(pathT+\"\\{}.html\".format(FileName))\n",
    "plt.close()"
   ]
  },
  {
   "cell_type": "code",
   "execution_count": 83,
   "metadata": {},
   "outputs": [
    {
     "name": "stdout",
     "output_type": "stream",
     "text": [
      "              DatabaseName SchemaName    TableName\n",
      "8142  DownstreamFeeds_V1.5        dbo  TEMP_CENSUS\n"
     ]
    }
   ],
   "source": [
    "d = dfdsfv150075[['DatabaseName', 'SchemaName','TableName']]#.format(z)\n",
    "d = d.drop_duplicates()\n",
    "e = d['DatabaseName'].values[0]\n",
    "f = d['SchemaName'].values[0]\n",
    "g = d['TableName'].values[0]\n",
    "print (d)\n",
    "FileName = ('DownstreamFeedsV15_{}_{}'.format(f,g))\n",
    "\n",
    "fig = px.scatter(dfdsfv150075, x = 'TodaysDate', y='RecordCount', size = 'RecordCount', color = 'RecordCount')#.format(z)\n",
    "fig.update_layout(title = '{0},{1},{2}'.format(e,f,g))\n",
    "fig.update_layout(yaxis_zeroline=False, xaxis_zeroline=False)\n",
    "fig.update_xaxes(title_font=dict(size=18, color='crimson'))\n",
    "fig.update_yaxes(title_font=dict(size=18, color='crimson'))\n",
    "fig.update_xaxes(ticks=\"inside\")\n",
    "fig.update_yaxes(ticks=\"inside\")\n",
    "fig.update_xaxes(tickangle=45, tickfont=dict(color='crimson', size=14))\n",
    "fig.update_xaxes(showline=True, linewidth=2, linecolor='black', mirror=True, gridcolor='Pink')\n",
    "fig.update_yaxes(showline=True, linewidth=2, linecolor='black', mirror=True, gridcolor='Red')\n",
    "#fig.show()\n",
    "fig.write_html(pathT+\"\\{}.html\".format(FileName))\n",
    "plt.close()"
   ]
  },
  {
   "cell_type": "code",
   "execution_count": 84,
   "metadata": {},
   "outputs": [
    {
     "name": "stdout",
     "output_type": "stream",
     "text": [
      "              DatabaseName SchemaName    TableName\n",
      "9804  DownstreamFeeds_V1.5        dbo  temp_Gender\n"
     ]
    }
   ],
   "source": [
    "d = dfdsfv150076[['DatabaseName', 'SchemaName','TableName']]#.format(z)\n",
    "d = d.drop_duplicates()\n",
    "e = d['DatabaseName'].values[0]\n",
    "f = d['SchemaName'].values[0]\n",
    "g = d['TableName'].values[0]\n",
    "print (d)\n",
    "FileName = ('DownstreamFeedsV15_{}_{}'.format(f,g))\n",
    "\n",
    "fig = px.scatter(dfdsfv150076, x = 'TodaysDate', y='RecordCount', size = 'RecordCount', color = 'RecordCount')#.format(z)\n",
    "fig.update_layout(title = '{0},{1},{2}'.format(e,f,g))\n",
    "fig.update_layout(yaxis_zeroline=False, xaxis_zeroline=False)\n",
    "fig.update_xaxes(title_font=dict(size=18, color='crimson'))\n",
    "fig.update_yaxes(title_font=dict(size=18, color='crimson'))\n",
    "fig.update_xaxes(ticks=\"inside\")\n",
    "fig.update_yaxes(ticks=\"inside\")\n",
    "fig.update_xaxes(tickangle=45, tickfont=dict(color='crimson', size=14))\n",
    "fig.update_xaxes(showline=True, linewidth=2, linecolor='black', mirror=True, gridcolor='Pink')\n",
    "fig.update_yaxes(showline=True, linewidth=2, linecolor='black', mirror=True, gridcolor='Red')\n",
    "#fig.show()\n",
    "fig.write_html(pathT+\"\\{}.html\".format(FileName))\n",
    "plt.close()"
   ]
  },
  {
   "cell_type": "code",
   "execution_count": 85,
   "metadata": {},
   "outputs": [
    {
     "name": "stdout",
     "output_type": "stream",
     "text": [
      "              DatabaseName SchemaName                 TableName\n",
      "9922  DownstreamFeeds_V1.5        dbo  temp_GiftedParticipation\n"
     ]
    }
   ],
   "source": [
    "d = dfdsfv150077[['DatabaseName', 'SchemaName','TableName']]#.format(z)\n",
    "d = d.drop_duplicates()\n",
    "e = d['DatabaseName'].values[0]\n",
    "f = d['SchemaName'].values[0]\n",
    "g = d['TableName'].values[0]\n",
    "print (d)\n",
    "FileName = ('DownstreamFeedsV15_{}_{}'.format(f,g))\n",
    "\n",
    "fig = px.scatter(dfdsfv150077, x = 'TodaysDate', y='RecordCount', size = 'RecordCount', color = 'RecordCount')#.format(z)\n",
    "fig.update_layout(title = '{0},{1},{2}'.format(e,f,g))\n",
    "fig.update_layout(yaxis_zeroline=False, xaxis_zeroline=False)\n",
    "fig.update_xaxes(title_font=dict(size=18, color='crimson'))\n",
    "fig.update_yaxes(title_font=dict(size=18, color='crimson'))\n",
    "fig.update_xaxes(ticks=\"inside\")\n",
    "fig.update_yaxes(ticks=\"inside\")\n",
    "fig.update_xaxes(tickangle=45, tickfont=dict(color='crimson', size=14))\n",
    "fig.update_xaxes(showline=True, linewidth=2, linecolor='black', mirror=True, gridcolor='Pink')\n",
    "fig.update_yaxes(showline=True, linewidth=2, linecolor='black', mirror=True, gridcolor='Red')\n",
    "#fig.show()\n",
    "fig.write_html(pathT+\"\\{}.html\".format(FileName))\n",
    "plt.close()"
   ]
  },
  {
   "cell_type": "code",
   "execution_count": 86,
   "metadata": {},
   "outputs": [
    {
     "name": "stdout",
     "output_type": "stream",
     "text": [
      "               DatabaseName SchemaName TableName\n",
      "10040  DownstreamFeeds_V1.5        dbo  temp_IEP\n"
     ]
    }
   ],
   "source": [
    "d = dfdsfv150078[['DatabaseName', 'SchemaName','TableName']]#.format(z)\n",
    "d = d.drop_duplicates()\n",
    "e = d['DatabaseName'].values[0]\n",
    "f = d['SchemaName'].values[0]\n",
    "g = d['TableName'].values[0]\n",
    "print (d)\n",
    "FileName = ('DownstreamFeedsV15_{}_{}'.format(f,g))\n",
    "\n",
    "fig = px.scatter(dfdsfv150078, x = 'TodaysDate', y='RecordCount', size = 'RecordCount', color = 'RecordCount')#.format(z)\n",
    "fig.update_layout(title = '{0},{1},{2}'.format(e,f,g))\n",
    "fig.update_layout(yaxis_zeroline=False, xaxis_zeroline=False)\n",
    "fig.update_xaxes(title_font=dict(size=18, color='crimson'))\n",
    "fig.update_yaxes(title_font=dict(size=18, color='crimson'))\n",
    "fig.update_xaxes(ticks=\"inside\")\n",
    "fig.update_yaxes(ticks=\"inside\")\n",
    "fig.update_xaxes(tickangle=45, tickfont=dict(color='crimson', size=14))\n",
    "fig.update_xaxes(showline=True, linewidth=2, linecolor='black', mirror=True, gridcolor='Pink')\n",
    "fig.update_yaxes(showline=True, linewidth=2, linecolor='black', mirror=True, gridcolor='Red')\n",
    "#fig.show()\n",
    "fig.write_html(pathT+\"\\{}.html\".format(FileName))\n",
    "plt.close()"
   ]
  },
  {
   "cell_type": "code",
   "execution_count": 87,
   "metadata": {},
   "outputs": [
    {
     "name": "stdout",
     "output_type": "stream",
     "text": [
      "               DatabaseName SchemaName              TableName\n",
      "10512  DownstreamFeeds_V1.5        dbo  temp_noDupl_sasi_acrs\n"
     ]
    }
   ],
   "source": [
    "d = dfdsfv150079[['DatabaseName', 'SchemaName','TableName']]#.format(z)\n",
    "d = d.drop_duplicates()\n",
    "e = d['DatabaseName'].values[0]\n",
    "f = d['SchemaName'].values[0]\n",
    "g = d['TableName'].values[0]\n",
    "print (d)\n",
    "FileName = ('DownstreamFeedsV15_{}_{}'.format(f,g))\n",
    "\n",
    "fig = px.scatter(dfdsfv150079, x = 'TodaysDate', y='RecordCount', size = 'RecordCount', color = 'RecordCount')#.format(z)\n",
    "fig.update_layout(title = '{0},{1},{2}'.format(e,f,g))\n",
    "fig.update_layout(yaxis_zeroline=False, xaxis_zeroline=False)\n",
    "fig.update_xaxes(title_font=dict(size=18, color='crimson'))\n",
    "fig.update_yaxes(title_font=dict(size=18, color='crimson'))\n",
    "fig.update_xaxes(ticks=\"inside\")\n",
    "fig.update_yaxes(ticks=\"inside\")\n",
    "fig.update_xaxes(tickangle=45, tickfont=dict(color='crimson', size=14))\n",
    "fig.update_xaxes(showline=True, linewidth=2, linecolor='black', mirror=True, gridcolor='Pink')\n",
    "fig.update_yaxes(showline=True, linewidth=2, linecolor='black', mirror=True, gridcolor='Red')\n",
    "#fig.show()\n",
    "fig.write_html(pathT+\"\\{}.html\".format(FileName))\n",
    "plt.close()"
   ]
  },
  {
   "cell_type": "code",
   "execution_count": 88,
   "metadata": {},
   "outputs": [
    {
     "name": "stdout",
     "output_type": "stream",
     "text": [
      "              DatabaseName SchemaName          TableName\n",
      "8260  DownstreamFeeds_V1.5        dbo  TEMP_RIDER_BY_BUS\n"
     ]
    }
   ],
   "source": [
    "d = dfdsfv150080[['DatabaseName', 'SchemaName','TableName']]#.format(z)\n",
    "d = d.drop_duplicates()\n",
    "e = d['DatabaseName'].values[0]\n",
    "f = d['SchemaName'].values[0]\n",
    "g = d['TableName'].values[0]\n",
    "print (d)\n",
    "FileName = ('DownstreamFeedsV15_{}_{}'.format(f,g))\n",
    "\n",
    "fig = px.scatter(dfdsfv150080, x = 'TodaysDate', y='RecordCount', size = 'RecordCount', color = 'RecordCount')#.format(z)\n",
    "fig.update_layout(title = '{0},{1},{2}'.format(e,f,g))\n",
    "fig.update_layout(yaxis_zeroline=False, xaxis_zeroline=False)\n",
    "fig.update_xaxes(title_font=dict(size=18, color='crimson'))\n",
    "fig.update_yaxes(title_font=dict(size=18, color='crimson'))\n",
    "fig.update_xaxes(ticks=\"inside\")\n",
    "fig.update_yaxes(ticks=\"inside\")\n",
    "fig.update_xaxes(tickangle=45, tickfont=dict(color='crimson', size=14))\n",
    "fig.update_xaxes(showline=True, linewidth=2, linecolor='black', mirror=True, gridcolor='Pink')\n",
    "fig.update_yaxes(showline=True, linewidth=2, linecolor='black', mirror=True, gridcolor='Red')\n",
    "#fig.show()\n",
    "fig.write_html(pathT+\"\\{}.html\".format(FileName))\n",
    "plt.close()"
   ]
  },
  {
   "cell_type": "code",
   "execution_count": 89,
   "metadata": {},
   "outputs": [
    {
     "name": "stdout",
     "output_type": "stream",
     "text": [
      "               DatabaseName SchemaName          TableName\n",
      "10158  DownstreamFeeds_V1.5        dbo  temp_TestGateFeed\n"
     ]
    }
   ],
   "source": [
    "d = dfdsfv150081[['DatabaseName', 'SchemaName','TableName']]#.format(z)\n",
    "d = d.drop_duplicates()\n",
    "e = d['DatabaseName'].values[0]\n",
    "f = d['SchemaName'].values[0]\n",
    "g = d['TableName'].values[0]\n",
    "print (d)\n",
    "FileName = ('DownstreamFeedsV15_{}_{}'.format(f,g))\n",
    "\n",
    "fig = px.scatter(dfdsfv150081, x = 'TodaysDate', y='RecordCount', size = 'RecordCount', color = 'RecordCount')#.format(z)\n",
    "fig.update_layout(title = '{0},{1},{2}'.format(e,f,g))\n",
    "fig.update_layout(yaxis_zeroline=False, xaxis_zeroline=False)\n",
    "fig.update_xaxes(title_font=dict(size=18, color='crimson'))\n",
    "fig.update_yaxes(title_font=dict(size=18, color='crimson'))\n",
    "fig.update_xaxes(ticks=\"inside\")\n",
    "fig.update_yaxes(ticks=\"inside\")\n",
    "fig.update_xaxes(tickangle=45, tickfont=dict(color='crimson', size=14))\n",
    "fig.update_xaxes(showline=True, linewidth=2, linecolor='black', mirror=True, gridcolor='Pink')\n",
    "fig.update_yaxes(showline=True, linewidth=2, linecolor='black', mirror=True, gridcolor='Red')\n",
    "#fig.show()\n",
    "fig.write_html(pathT+\"\\{}.html\".format(FileName))\n",
    "plt.close()"
   ]
  },
  {
   "cell_type": "code",
   "execution_count": 90,
   "metadata": {},
   "outputs": [
    {
     "name": "stdout",
     "output_type": "stream",
     "text": [
      "               DatabaseName SchemaName        TableName\n",
      "10276  DownstreamFeeds_V1.5        dbo  temp_TierAttend\n"
     ]
    }
   ],
   "source": [
    "d = dfdsfv150082[['DatabaseName', 'SchemaName','TableName']]#.format(z)\n",
    "d = d.drop_duplicates()\n",
    "e = d['DatabaseName'].values[0]\n",
    "f = d['SchemaName'].values[0]\n",
    "g = d['TableName'].values[0]\n",
    "print (d)\n",
    "FileName = ('DownstreamFeedsV15_{}_{}'.format(f,g))\n",
    "\n",
    "fig = px.scatter(dfdsfv150082, x = 'TodaysDate', y='RecordCount', size = 'RecordCount', color = 'RecordCount')#.format(z)\n",
    "fig.update_layout(title = '{0},{1},{2}'.format(e,f,g))\n",
    "fig.update_layout(yaxis_zeroline=False, xaxis_zeroline=False)\n",
    "fig.update_xaxes(title_font=dict(size=18, color='crimson'))\n",
    "fig.update_yaxes(title_font=dict(size=18, color='crimson'))\n",
    "fig.update_xaxes(ticks=\"inside\")\n",
    "fig.update_yaxes(ticks=\"inside\")\n",
    "fig.update_xaxes(tickangle=45, tickfont=dict(color='crimson', size=14))\n",
    "fig.update_xaxes(showline=True, linewidth=2, linecolor='black', mirror=True, gridcolor='Pink')\n",
    "fig.update_yaxes(showline=True, linewidth=2, linecolor='black', mirror=True, gridcolor='Red')\n",
    "#fig.show()\n",
    "fig.write_html(pathT+\"\\{}.html\".format(FileName))\n",
    "plt.close()"
   ]
  },
  {
   "cell_type": "code",
   "execution_count": 91,
   "metadata": {},
   "outputs": [
    {
     "name": "stdout",
     "output_type": "stream",
     "text": [
      "               DatabaseName SchemaName         TableName\n",
      "10394  DownstreamFeeds_V1.5        dbo  temp_TierAttnStu\n"
     ]
    }
   ],
   "source": [
    "d = dfdsfv150083[['DatabaseName', 'SchemaName','TableName']]#.format(z)\n",
    "d = d.drop_duplicates()\n",
    "e = d['DatabaseName'].values[0]\n",
    "f = d['SchemaName'].values[0]\n",
    "g = d['TableName'].values[0]\n",
    "print (d)\n",
    "FileName = ('DownstreamFeedsV15_{}_{}'.format(f,g))\n",
    "\n",
    "fig = px.scatter(dfdsfv150083, x = 'TodaysDate', y='RecordCount', size = 'RecordCount', color = 'RecordCount')#.format(z)\n",
    "fig.update_layout(title = '{0},{1},{2}'.format(e,f,g))\n",
    "fig.update_layout(yaxis_zeroline=False, xaxis_zeroline=False)\n",
    "fig.update_xaxes(title_font=dict(size=18, color='crimson'))\n",
    "fig.update_yaxes(title_font=dict(size=18, color='crimson'))\n",
    "fig.update_xaxes(ticks=\"inside\")\n",
    "fig.update_yaxes(ticks=\"inside\")\n",
    "fig.update_xaxes(tickangle=45, tickfont=dict(color='crimson', size=14))\n",
    "fig.update_xaxes(showline=True, linewidth=2, linecolor='black', mirror=True, gridcolor='Pink')\n",
    "fig.update_yaxes(showline=True, linewidth=2, linecolor='black', mirror=True, gridcolor='Red')\n",
    "#fig.show()\n",
    "fig.write_html(pathT+\"\\{}.html\".format(FileName))\n",
    "plt.close()"
   ]
  },
  {
   "cell_type": "code",
   "execution_count": 92,
   "metadata": {},
   "outputs": [
    {
     "name": "stdout",
     "output_type": "stream",
     "text": [
      "              DatabaseName SchemaName       TableName\n",
      "7788  DownstreamFeeds_V1.5        dbo  TEMPSCHNUMDIFF\n"
     ]
    }
   ],
   "source": [
    "d = dfdsfv150084[['DatabaseName', 'SchemaName','TableName']]#.format(z)\n",
    "d = d.drop_duplicates()\n",
    "e = d['DatabaseName'].values[0]\n",
    "f = d['SchemaName'].values[0]\n",
    "g = d['TableName'].values[0]\n",
    "print (d)\n",
    "FileName = ('DownstreamFeedsV15_{}_{}'.format(f,g))\n",
    "\n",
    "fig = px.scatter(dfdsfv150084, x = 'TodaysDate', y='RecordCount', size = 'RecordCount', color = 'RecordCount')#.format(z)\n",
    "fig.update_layout(title = '{0},{1},{2}'.format(e,f,g))\n",
    "fig.update_layout(yaxis_zeroline=False, xaxis_zeroline=False)\n",
    "fig.update_xaxes(title_font=dict(size=18, color='crimson'))\n",
    "fig.update_yaxes(title_font=dict(size=18, color='crimson'))\n",
    "fig.update_xaxes(ticks=\"inside\")\n",
    "fig.update_yaxes(ticks=\"inside\")\n",
    "fig.update_xaxes(tickangle=45, tickfont=dict(color='crimson', size=14))\n",
    "fig.update_xaxes(showline=True, linewidth=2, linecolor='black', mirror=True, gridcolor='Pink')\n",
    "fig.update_yaxes(showline=True, linewidth=2, linecolor='black', mirror=True, gridcolor='Red')\n",
    "#fig.show()\n",
    "fig.write_html(pathT+\"\\{}.html\".format(FileName))\n",
    "plt.close()"
   ]
  },
  {
   "cell_type": "code",
   "execution_count": 93,
   "metadata": {},
   "outputs": [
    {
     "name": "stdout",
     "output_type": "stream",
     "text": [
      "              DatabaseName SchemaName        TableName\n",
      "7906  DownstreamFeeds_V1.5        dbo  TEMPSCHNUMDIFF2\n"
     ]
    }
   ],
   "source": [
    "d = dfdsfv150085[['DatabaseName', 'SchemaName','TableName']]#.format(z)\n",
    "d = d.drop_duplicates()\n",
    "e = d['DatabaseName'].values[0]\n",
    "f = d['SchemaName'].values[0]\n",
    "g = d['TableName'].values[0]\n",
    "print (d)\n",
    "FileName = ('DownstreamFeedsV15_{}_{}'.format(f,g))\n",
    "\n",
    "fig = px.scatter(dfdsfv150085, x = 'TodaysDate', y='RecordCount', size = 'RecordCount', color = 'RecordCount')#.format(z)\n",
    "fig.update_layout(title = '{0},{1},{2}'.format(e,f,g))\n",
    "fig.update_layout(yaxis_zeroline=False, xaxis_zeroline=False)\n",
    "fig.update_xaxes(title_font=dict(size=18, color='crimson'))\n",
    "fig.update_yaxes(title_font=dict(size=18, color='crimson'))\n",
    "fig.update_xaxes(ticks=\"inside\")\n",
    "fig.update_yaxes(ticks=\"inside\")\n",
    "fig.update_xaxes(tickangle=45, tickfont=dict(color='crimson', size=14))\n",
    "fig.update_xaxes(showline=True, linewidth=2, linecolor='black', mirror=True, gridcolor='Pink')\n",
    "fig.update_yaxes(showline=True, linewidth=2, linecolor='black', mirror=True, gridcolor='Red')\n",
    "#fig.show()\n",
    "fig.write_html(pathT+\"\\{}.html\".format(FileName))\n",
    "plt.close()"
   ]
  },
  {
   "cell_type": "code",
   "execution_count": 94,
   "metadata": {},
   "outputs": [
    {
     "name": "stdout",
     "output_type": "stream",
     "text": [
      "              DatabaseName SchemaName          TableName\n",
      "8024  DownstreamFeeds_V1.5        dbo  TEMPSPEDNotInSASI\n"
     ]
    }
   ],
   "source": [
    "d = dfdsfv150086[['DatabaseName', 'SchemaName','TableName']]#.format(z)\n",
    "d = d.drop_duplicates()\n",
    "e = d['DatabaseName'].values[0]\n",
    "f = d['SchemaName'].values[0]\n",
    "g = d['TableName'].values[0]\n",
    "print (d)\n",
    "FileName = ('DownstreamFeedsV15_{}_{}'.format(f,g))\n",
    "\n",
    "fig = px.scatter(dfdsfv150086, x = 'TodaysDate', y='RecordCount', size = 'RecordCount', color = 'RecordCount')#.format(z)\n",
    "fig.update_layout(title = '{0},{1},{2}'.format(e,f,g))\n",
    "fig.update_layout(yaxis_zeroline=False, xaxis_zeroline=False)\n",
    "fig.update_xaxes(title_font=dict(size=18, color='crimson'))\n",
    "fig.update_yaxes(title_font=dict(size=18, color='crimson'))\n",
    "fig.update_xaxes(ticks=\"inside\")\n",
    "fig.update_yaxes(ticks=\"inside\")\n",
    "fig.update_xaxes(tickangle=45, tickfont=dict(color='crimson', size=14))\n",
    "fig.update_xaxes(showline=True, linewidth=2, linecolor='black', mirror=True, gridcolor='Pink')\n",
    "fig.update_yaxes(showline=True, linewidth=2, linecolor='black', mirror=True, gridcolor='Red')\n",
    "#fig.show()\n",
    "fig.write_html(pathT+\"\\{}.html\".format(FileName))\n",
    "plt.close()"
   ]
  },
  {
   "cell_type": "code",
   "execution_count": 95,
   "metadata": {},
   "outputs": [
    {
     "name": "stdout",
     "output_type": "stream",
     "text": [
      "              DatabaseName SchemaName      TableName\n",
      "8732  DownstreamFeeds_V1.5        dbo  TempStuDetail\n"
     ]
    }
   ],
   "source": [
    "d = dfdsfv150087[['DatabaseName', 'SchemaName','TableName']]#.format(z)\n",
    "d = d.drop_duplicates()\n",
    "e = d['DatabaseName'].values[0]\n",
    "f = d['SchemaName'].values[0]\n",
    "g = d['TableName'].values[0]\n",
    "print (d)\n",
    "FileName = ('DownstreamFeedsV15_{}_{}'.format(f,g))\n",
    "\n",
    "fig = px.scatter(dfdsfv150087, x = 'TodaysDate', y='RecordCount', size = 'RecordCount', color = 'RecordCount')#.format(z)\n",
    "fig.update_layout(title = '{0},{1},{2}'.format(e,f,g))\n",
    "fig.update_layout(yaxis_zeroline=False, xaxis_zeroline=False)\n",
    "fig.update_xaxes(title_font=dict(size=18, color='crimson'))\n",
    "fig.update_yaxes(title_font=dict(size=18, color='crimson'))\n",
    "fig.update_xaxes(ticks=\"inside\")\n",
    "fig.update_yaxes(ticks=\"inside\")\n",
    "fig.update_xaxes(tickangle=45, tickfont=dict(color='crimson', size=14))\n",
    "fig.update_xaxes(showline=True, linewidth=2, linecolor='black', mirror=True, gridcolor='Pink')\n",
    "fig.update_yaxes(showline=True, linewidth=2, linecolor='black', mirror=True, gridcolor='Red')\n",
    "#fig.show()\n",
    "fig.write_html(pathT+\"\\{}.html\".format(FileName))\n",
    "plt.close()"
   ]
  },
  {
   "cell_type": "code",
   "execution_count": 96,
   "metadata": {},
   "outputs": [
    {
     "name": "stdout",
     "output_type": "stream",
     "text": [
      "               DatabaseName SchemaName                  TableName\n",
      "10630  DownstreamFeeds_V1.5        dbo  test_DestinyTextBook_W_hm\n"
     ]
    }
   ],
   "source": [
    "d = dfdsfv150088[['DatabaseName', 'SchemaName','TableName']]#.format(z)\n",
    "d = d.drop_duplicates()\n",
    "e = d['DatabaseName'].values[0]\n",
    "f = d['SchemaName'].values[0]\n",
    "g = d['TableName'].values[0]\n",
    "print (d)\n",
    "FileName = ('DownstreamFeedsV15_{}_{}'.format(f,g))\n",
    "\n",
    "fig = px.scatter(dfdsfv150088, x = 'TodaysDate', y='RecordCount', size = 'RecordCount', color = 'RecordCount')#.format(z)\n",
    "fig.update_layout(title = '{0},{1},{2}'.format(e,f,g))\n",
    "fig.update_layout(yaxis_zeroline=False, xaxis_zeroline=False)\n",
    "fig.update_xaxes(title_font=dict(size=18, color='crimson'))\n",
    "fig.update_yaxes(title_font=dict(size=18, color='crimson'))\n",
    "fig.update_xaxes(ticks=\"inside\")\n",
    "fig.update_yaxes(ticks=\"inside\")\n",
    "fig.update_xaxes(tickangle=45, tickfont=dict(color='crimson', size=14))\n",
    "fig.update_xaxes(showline=True, linewidth=2, linecolor='black', mirror=True, gridcolor='Pink')\n",
    "fig.update_yaxes(showline=True, linewidth=2, linecolor='black', mirror=True, gridcolor='Red')\n",
    "#fig.show()\n",
    "fig.write_html(pathT+\"\\{}.html\".format(FileName))\n",
    "plt.close()"
   ]
  },
  {
   "cell_type": "code",
   "execution_count": 97,
   "metadata": {},
   "outputs": [
    {
     "name": "stdout",
     "output_type": "stream",
     "text": [
      "               DatabaseName SchemaName      TableName\n",
      "10748  DownstreamFeeds_V1.5        dbo  test_elements\n"
     ]
    }
   ],
   "source": [
    "d = dfdsfv150089[['DatabaseName', 'SchemaName','TableName']]#.format(z)\n",
    "d = d.drop_duplicates()\n",
    "e = d['DatabaseName'].values[0]\n",
    "f = d['SchemaName'].values[0]\n",
    "g = d['TableName'].values[0]\n",
    "print (d)\n",
    "FileName = ('DownstreamFeedsV15_{}_{}'.format(f,g))\n",
    "\n",
    "fig = px.scatter(dfdsfv150089, x = 'TodaysDate', y='RecordCount', size = 'RecordCount', color = 'RecordCount')#.format(z)\n",
    "fig.update_layout(title = '{0},{1},{2}'.format(e,f,g))\n",
    "fig.update_layout(yaxis_zeroline=False, xaxis_zeroline=False)\n",
    "fig.update_xaxes(title_font=dict(size=18, color='crimson'))\n",
    "fig.update_yaxes(title_font=dict(size=18, color='crimson'))\n",
    "fig.update_xaxes(ticks=\"inside\")\n",
    "fig.update_yaxes(ticks=\"inside\")\n",
    "fig.update_xaxes(tickangle=45, tickfont=dict(color='crimson', size=14))\n",
    "fig.update_xaxes(showline=True, linewidth=2, linecolor='black', mirror=True, gridcolor='Pink')\n",
    "fig.update_yaxes(showline=True, linewidth=2, linecolor='black', mirror=True, gridcolor='Red')\n",
    "#fig.show()\n",
    "fig.write_html(pathT+\"\\{}.html\".format(FileName))\n",
    "plt.close()"
   ]
  },
  {
   "cell_type": "code",
   "execution_count": 98,
   "metadata": {},
   "outputs": [
    {
     "name": "stdout",
     "output_type": "stream",
     "text": [
      "              DatabaseName SchemaName         TableName\n",
      "8378  DownstreamFeeds_V1.5        dbo  TEST_STU_ACT_RAJ\n"
     ]
    }
   ],
   "source": [
    "d = dfdsfv150090[['DatabaseName', 'SchemaName','TableName']]#.format(z)\n",
    "d = d.drop_duplicates()\n",
    "e = d['DatabaseName'].values[0]\n",
    "f = d['SchemaName'].values[0]\n",
    "g = d['TableName'].values[0]\n",
    "print (d)\n",
    "FileName = ('DownstreamFeedsV15_{}_{}'.format(f,g))\n",
    "\n",
    "fig = px.scatter(dfdsfv150090, x = 'TodaysDate', y='RecordCount', size = 'RecordCount', color = 'RecordCount')#.format(z)\n",
    "fig.update_layout(title = '{0},{1},{2}'.format(e,f,g))\n",
    "fig.update_layout(yaxis_zeroline=False, xaxis_zeroline=False)\n",
    "fig.update_xaxes(title_font=dict(size=18, color='crimson'))\n",
    "fig.update_yaxes(title_font=dict(size=18, color='crimson'))\n",
    "fig.update_xaxes(ticks=\"inside\")\n",
    "fig.update_yaxes(ticks=\"inside\")\n",
    "fig.update_xaxes(tickangle=45, tickfont=dict(color='crimson', size=14))\n",
    "fig.update_xaxes(showline=True, linewidth=2, linecolor='black', mirror=True, gridcolor='Pink')\n",
    "fig.update_yaxes(showline=True, linewidth=2, linecolor='black', mirror=True, gridcolor='Red')\n",
    "#fig.show()\n",
    "fig.write_html(pathT+\"\\{}.html\".format(FileName))\n",
    "plt.close()"
   ]
  },
  {
   "cell_type": "code",
   "execution_count": 99,
   "metadata": {},
   "outputs": [
    {
     "name": "stdout",
     "output_type": "stream",
     "text": [
      "              DatabaseName SchemaName         TableName\n",
      "8496  DownstreamFeeds_V1.5        dbo  TEST_STU_HGT_RAJ\n"
     ]
    }
   ],
   "source": [
    "d = dfdsfv150091[['DatabaseName', 'SchemaName','TableName']]#.format(z)\n",
    "d = d.drop_duplicates()\n",
    "e = d['DatabaseName'].values[0]\n",
    "f = d['SchemaName'].values[0]\n",
    "g = d['TableName'].values[0]\n",
    "print (d)\n",
    "FileName = ('DownstreamFeedsV15_{}_{}'.format(f,g))\n",
    "\n",
    "fig = px.scatter(dfdsfv150091, x = 'TodaysDate', y='RecordCount', size = 'RecordCount', color = 'RecordCount')#.format(z)\n",
    "fig.update_layout(title = '{0},{1},{2}'.format(e,f,g))\n",
    "fig.update_layout(yaxis_zeroline=False, xaxis_zeroline=False)\n",
    "fig.update_xaxes(title_font=dict(size=18, color='crimson'))\n",
    "fig.update_yaxes(title_font=dict(size=18, color='crimson'))\n",
    "fig.update_xaxes(ticks=\"inside\")\n",
    "fig.update_yaxes(ticks=\"inside\")\n",
    "fig.update_xaxes(tickangle=45, tickfont=dict(color='crimson', size=14))\n",
    "fig.update_xaxes(showline=True, linewidth=2, linecolor='black', mirror=True, gridcolor='Pink')\n",
    "fig.update_yaxes(showline=True, linewidth=2, linecolor='black', mirror=True, gridcolor='Red')\n",
    "#fig.show()\n",
    "fig.write_html(pathT+\"\\{}.html\".format(FileName))\n",
    "plt.close()"
   ]
  },
  {
   "cell_type": "code",
   "execution_count": 100,
   "metadata": {},
   "outputs": [
    {
     "name": "stdout",
     "output_type": "stream",
     "text": [
      "              DatabaseName SchemaName              TableName\n",
      "8614  DownstreamFeeds_V1.5        dbo  TEST_TAPE_ECT_MARSHAL\n"
     ]
    }
   ],
   "source": [
    "d = dfdsfv150092[['DatabaseName', 'SchemaName','TableName']]#.format(z)\n",
    "d = d.drop_duplicates()\n",
    "e = d['DatabaseName'].values[0]\n",
    "f = d['SchemaName'].values[0]\n",
    "g = d['TableName'].values[0]\n",
    "print (d)\n",
    "FileName = ('DownstreamFeedsV15_{}_{}'.format(f,g))\n",
    "\n",
    "fig = px.scatter(dfdsfv150092, x = 'TodaysDate', y='RecordCount', size = 'RecordCount', color = 'RecordCount')#.format(z)\n",
    "fig.update_layout(title = '{0},{1},{2}'.format(e,f,g))\n",
    "fig.update_layout(yaxis_zeroline=False, xaxis_zeroline=False)\n",
    "fig.update_xaxes(title_font=dict(size=18, color='crimson'))\n",
    "fig.update_yaxes(title_font=dict(size=18, color='crimson'))\n",
    "fig.update_xaxes(ticks=\"inside\")\n",
    "fig.update_yaxes(ticks=\"inside\")\n",
    "fig.update_xaxes(tickangle=45, tickfont=dict(color='crimson', size=14))\n",
    "fig.update_xaxes(showline=True, linewidth=2, linecolor='black', mirror=True, gridcolor='Pink')\n",
    "fig.update_yaxes(showline=True, linewidth=2, linecolor='black', mirror=True, gridcolor='Red')\n",
    "#fig.show()\n",
    "fig.write_html(pathT+\"\\{}.html\".format(FileName))\n",
    "plt.close()"
   ]
  },
  {
   "cell_type": "code",
   "execution_count": 101,
   "metadata": {},
   "outputs": [
    {
     "name": "stdout",
     "output_type": "stream",
     "text": [
      "Interactive Chart Creation - Process Complete:  2021-06-17 10:49:22\n"
     ]
    }
   ],
   "source": [
    "now01 = datetime.datetime.now()\n",
    "print('Interactive Chart Creation - Process Complete: ', now01.strftime(\"%Y-%m-%d %H:%M:%S\"))"
   ]
  },
  {
   "cell_type": "code",
   "execution_count": null,
   "metadata": {},
   "outputs": [],
   "source": []
  }
 ],
 "metadata": {
  "kernelspec": {
   "display_name": "Python 3",
   "language": "python",
   "name": "python3"
  },
  "language_info": {
   "codemirror_mode": {
    "name": "ipython",
    "version": 3
   },
   "file_extension": ".py",
   "mimetype": "text/x-python",
   "name": "python",
   "nbconvert_exporter": "python",
   "pygments_lexer": "ipython3",
   "version": "3.8.3"
  }
 },
 "nbformat": 4,
 "nbformat_minor": 4
}
