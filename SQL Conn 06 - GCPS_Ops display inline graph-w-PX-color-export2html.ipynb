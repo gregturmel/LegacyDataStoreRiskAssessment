{
 "cells": [
  {
   "cell_type": "code",
   "execution_count": 11,
   "metadata": {},
   "outputs": [
    {
     "name": "stdout",
     "output_type": "stream",
     "text": [
      "The sql extension is already loaded. To reload it, use:\n",
      "  %reload_ext sql\n"
     ]
    }
   ],
   "source": [
    "#Program Name: Graphing ODS Databases - SQL Conn 06 - GCPS_Ops display inline graph-w-PX-color-export2html\n",
    "#Purpose:  Chart scatter, line, box, aggr, violin, or bar with table data\n",
    "#Author:  Greg Turmel, Director, Data Governance \n",
    "#Date:    2020.08.30 - 2021.06.30\n",
    "#Errata:  0.1 Improvements can be made to script using for/looping through the databases\n",
    "\n",
    "import os, time, datetime\n",
    "import sqlalchemy as db\n",
    "import pandas as pd\n",
    "import numpy as np\n",
    "from matplotlib import pyplot as plt\n",
    "import pyodbc \n",
    "import matplotlib\n",
    "import plotly.express as px\n",
    "\n",
    "#matplotlib.rcParams['figure.figsize'] = (30,5)\n",
    "%config InlineBackend.figure_format = 'retina'\n",
    "from dotenv import load_dotenv # add this line\n",
    "load_dotenv() # add this line\n",
    "user = os.getenv('MySQLeUser')\n",
    "password = os.getenv('MySQLeUserPass')\n",
    "host = os.getenv('MySQLeHOST')\n",
    "db = os.getenv('MySQLeDB')\n",
    "%matplotlib inline\n",
    "%load_ext sql\n",
    "\n",
    "dt1 = time.strftime(\"%d/%m/%Y\")\n",
    "dt2 = time.strftime(\"%d.%m.%Y\")\n",
    "dt3 = pd.to_datetime('today')\n",
    "dt4 = pd.Timestamp('today').strftime(\"%Y%m%d\")"
   ]
  },
  {
   "cell_type": "code",
   "execution_count": 12,
   "metadata": {},
   "outputs": [],
   "source": [
    "conn = pyodbc.connect('Driver={SQL Server};'\n",
    "                      'Server=DEVODSSQL;'\n",
    "                      'Database=Greg;'\n",
    "                      'Trusted_Connection=yes;')\n",
    "\n",
    "sql_query01 = pd.read_sql_query(''' \n",
    "select DISTINCT TableName\n",
    "FROM [dbo].[tableRowCountGCPS_Operations]\n",
    "ORDER BY TableName;     \n",
    "                              '''\n",
    "                              ,conn) # Load the list of distinct tables to graph\n",
    "\n",
    "sql_query02 = pd.read_sql_query(''' \n",
    "select *\n",
    "FROM [dbo].[tableRowCountGCPS_Operations]\n",
    "ORDER BY TableName;     \n",
    "                              '''\n",
    "                              ,conn) # Load the list of distinct tables to graph\n"
   ]
  },
  {
   "cell_type": "code",
   "execution_count": 13,
   "metadata": {},
   "outputs": [],
   "source": [
    "df = pd.DataFrame(sql_query02)\n",
    "#df = df.astype({'TodaysDate':np.int64,'RecordCount':np.int64})\n",
    "df['TodaysDate'] = pd.to_datetime(df['TodaysDate'].astype(str), format='%Y%m%d')\n",
    "df = df.sort_values(by=['TableName','SchemaName','DatabaseName','TodaysDate'], ascending=[True,True,True,True])\n",
    "df = df.reset_index(drop=True)"
   ]
  },
  {
   "cell_type": "code",
   "execution_count": 14,
   "metadata": {},
   "outputs": [
    {
     "data": {
      "text/html": [
       "<div>\n",
       "<style scoped>\n",
       "    .dataframe tbody tr th:only-of-type {\n",
       "        vertical-align: middle;\n",
       "    }\n",
       "\n",
       "    .dataframe tbody tr th {\n",
       "        vertical-align: top;\n",
       "    }\n",
       "\n",
       "    .dataframe thead th {\n",
       "        text-align: right;\n",
       "    }\n",
       "</style>\n",
       "<table border=\"1\" class=\"dataframe\">\n",
       "  <thead>\n",
       "    <tr style=\"text-align: right;\">\n",
       "      <th></th>\n",
       "      <th>TodaysDate</th>\n",
       "      <th>DatabaseName</th>\n",
       "      <th>SchemaName</th>\n",
       "      <th>TableName</th>\n",
       "      <th>RecordCount</th>\n",
       "      <th>Ddifference</th>\n",
       "    </tr>\n",
       "  </thead>\n",
       "  <tbody>\n",
       "    <tr>\n",
       "      <th>0</th>\n",
       "      <td>2020-12-23</td>\n",
       "      <td>GCPS_Operations</td>\n",
       "      <td>ERROR</td>\n",
       "      <td>STUDENT_ABS</td>\n",
       "      <td>0</td>\n",
       "      <td>0</td>\n",
       "    </tr>\n",
       "    <tr>\n",
       "      <th>1</th>\n",
       "      <td>2020-12-24</td>\n",
       "      <td>GCPS_Operations</td>\n",
       "      <td>ERROR</td>\n",
       "      <td>STUDENT_ABS</td>\n",
       "      <td>0</td>\n",
       "      <td>0</td>\n",
       "    </tr>\n",
       "    <tr>\n",
       "      <th>2</th>\n",
       "      <td>2020-12-25</td>\n",
       "      <td>GCPS_Operations</td>\n",
       "      <td>ERROR</td>\n",
       "      <td>STUDENT_ABS</td>\n",
       "      <td>0</td>\n",
       "      <td>0</td>\n",
       "    </tr>\n",
       "    <tr>\n",
       "      <th>3</th>\n",
       "      <td>2020-12-26</td>\n",
       "      <td>GCPS_Operations</td>\n",
       "      <td>ERROR</td>\n",
       "      <td>STUDENT_ABS</td>\n",
       "      <td>0</td>\n",
       "      <td>0</td>\n",
       "    </tr>\n",
       "    <tr>\n",
       "      <th>4</th>\n",
       "      <td>2020-12-28</td>\n",
       "      <td>GCPS_Operations</td>\n",
       "      <td>ERROR</td>\n",
       "      <td>STUDENT_ABS</td>\n",
       "      <td>0</td>\n",
       "      <td>0</td>\n",
       "    </tr>\n",
       "  </tbody>\n",
       "</table>\n",
       "</div>"
      ],
      "text/plain": [
       "  TodaysDate     DatabaseName SchemaName     TableName  RecordCount  \\\n",
       "0 2020-12-23  GCPS_Operations      ERROR   STUDENT_ABS            0   \n",
       "1 2020-12-24  GCPS_Operations      ERROR   STUDENT_ABS            0   \n",
       "2 2020-12-25  GCPS_Operations      ERROR   STUDENT_ABS            0   \n",
       "3 2020-12-26  GCPS_Operations      ERROR   STUDENT_ABS            0   \n",
       "4 2020-12-28  GCPS_Operations      ERROR   STUDENT_ABS            0   \n",
       "\n",
       "   Ddifference  \n",
       "0            0  \n",
       "1            0  \n",
       "2            0  \n",
       "3            0  \n",
       "4            0  "
      ]
     },
     "execution_count": 14,
     "metadata": {},
     "output_type": "execute_result"
    }
   ],
   "source": [
    "df.head()"
   ]
  },
  {
   "cell_type": "code",
   "execution_count": 15,
   "metadata": {},
   "outputs": [],
   "source": [
    "dfgcpsops0001 = df[(df['DatabaseName'] == 'GCPS_Operations') & (df['SchemaName'] == 'Audit') & (df['TableName'] == 'ETL_Log')]\n",
    "dfgcpsops0002 = df[(df['DatabaseName'] == 'GCPS_Operations') & (df['SchemaName'] == 'Audit') & (df['TableName'] == 'ETL_Log_Detail')]\n",
    "dfgcpsops0003 = df[(df['DatabaseName'] == 'GCPS_Operations') & (df['SchemaName'] == 'Configuration') & (df['TableName'] == 'Application_Status')]\n",
    "dfgcpsops0004 = df[(df['DatabaseName'] == 'GCPS_Operations') & (df['SchemaName'] == 'Configuration') & (df['TableName'] == 'Assessment')]\n",
    "dfgcpsops0005 = df[(df['DatabaseName'] == 'GCPS_Operations') & (df['SchemaName'] == 'Configuration') & (df['TableName'] == 'ASSESSMENT_Streams')]\n",
    "dfgcpsops0006 = df[(df['DatabaseName'] == 'GCPS_Operations') & (df['SchemaName'] == 'Configuration') & (df['TableName'] == 'Datamart_Reporting_Streams')]\n",
    "dfgcpsops0007 = df[(df['DatabaseName'] == 'GCPS_Operations') & (df['SchemaName'] == 'Configuration') & (df['TableName'] == 'Datamart_SASI_Streams')]\n",
    "dfgcpsops0008 = df[(df['DatabaseName'] == 'GCPS_Operations') & (df['SchemaName'] == 'Configuration') & (df['TableName'] == 'Datamart_SASI_Streams_BAckup')]\n",
    "dfgcpsops0009 = df[(df['DatabaseName'] == 'GCPS_Operations') & (df['SchemaName'] == 'Configuration') & (df['TableName'] == 'ErrorInclusion')]\n",
    "dfgcpsops0010 = df[(df['DatabaseName'] == 'GCPS_Operations') & (df['SchemaName'] == 'Configuration') & (df['TableName'] == 'ErrorNotification')]\n",
    "dfgcpsops0011 = df[(df['DatabaseName'] == 'GCPS_Operations') & (df['SchemaName'] == 'Configuration') & (df['TableName'] == 'ErrorNotification_20190212')]\n",
    "dfgcpsops0012 = df[(df['DatabaseName'] == 'GCPS_Operations') & (df['SchemaName'] == 'Configuration') & (df['TableName'] == 'HostLoad')]\n",
    "dfgcpsops0013 = df[(df['DatabaseName'] == 'GCPS_Operations') & (df['SchemaName'] == 'Configuration') & (df['TableName'] == 'HostLoadStreams')]\n",
    "dfgcpsops0014 = df[(df['DatabaseName'] == 'GCPS_Operations') & (df['SchemaName'] == 'Configuration') & (df['TableName'] == 'ParentPortal_Streams')]\n",
    "dfgcpsops0015 = df[(df['DatabaseName'] == 'GCPS_Operations') & (df['SchemaName'] == 'Configuration') & (df['TableName'] == 'ParentPortal_Streams_GSDR')]\n",
    "dfgcpsops0016 = df[(df['DatabaseName'] == 'GCPS_Operations') & (df['SchemaName'] == 'Configuration') & (df['TableName'] == 'PPFrontEndLoad')]\n",
    "dfgcpsops0017 = df[(df['DatabaseName'] == 'GCPS_Operations') & (df['SchemaName'] == 'Configuration') & (df['TableName'] == 'PPFrontEndLoadStreams')]\n",
    "dfgcpsops0018 = df[(df['DatabaseName'] == 'GCPS_Operations') & (df['SchemaName'] == 'Configuration') & (df['TableName'] == 'PPFrontEndServers')]\n",
    "dfgcpsops0019 = df[(df['DatabaseName'] == 'GCPS_Operations') & (df['SchemaName'] == 'Configuration') & (df['TableName'] == 'Reports')]\n",
    "dfgcpsops0020 = df[(df['DatabaseName'] == 'GCPS_Operations') & (df['SchemaName'] == 'Configuration') & (df['TableName'] == 'Reports_20180728')]\n",
    "dfgcpsops0021 = df[(df['DatabaseName'] == 'GCPS_Operations') & (df['SchemaName'] == 'Configuration') & (df['TableName'] == 'Scheduled_Procs')]\n",
    "dfgcpsops0022 = df[(df['DatabaseName'] == 'GCPS_Operations') & (df['SchemaName'] == 'Configuration') & (df['TableName'] == 'Setup')]\n",
    "dfgcpsops0023 = df[(df['DatabaseName'] == 'GCPS_Operations') & (df['SchemaName'] == 'Configuration') & (df['TableName'] == 'SPNightlyProcs')]\n",
    "dfgcpsops0024 = df[(df['DatabaseName'] == 'GCPS_Operations') & (df['SchemaName'] == 'Configuration') & (df['TableName'] == 'Streams')]\n",
    "dfgcpsops0025 = df[(df['DatabaseName'] == 'GCPS_Operations') & (df['SchemaName'] == 'Configuration') & (df['TableName'] == 'tbl_PDE_FileRoutingConfig')]\n",
    "dfgcpsops0026 = df[(df['DatabaseName'] == 'GCPS_Operations') & (df['SchemaName'] == 'Configuration') & (df['TableName'] == 'tbl_PDE_RoutingErrors')]\n",
    "dfgcpsops0027 = df[(df['DatabaseName'] == 'GCPS_Operations') & (df['SchemaName'] == 'Core') & (df['TableName'] == 'tblActiveStudents')]\n",
    "dfgcpsops0028 = df[(df['DatabaseName'] == 'GCPS_Operations') & (df['SchemaName'] == 'dbo') & (df['TableName'] == 'ApplicationLog')]\n",
    "dfgcpsops0029 = df[(df['DatabaseName'] == 'GCPS_Operations') & (df['SchemaName'] == 'dbo') & (df['TableName'] == 'audit__etl_log_detail_bak_20190319')]\n",
    "dfgcpsops0030 = df[(df['DatabaseName'] == 'GCPS_Operations') & (df['SchemaName'] == 'dbo') & (df['TableName'] == 'BatchLogAdm')]\n",
    "dfgcpsops0031 = df[(df['DatabaseName'] == 'GCPS_Operations') & (df['SchemaName'] == 'dbo') & (df['TableName'] == 'BatchLogDetailAdm')]\n",
    "dfgcpsops0032 = df[(df['DatabaseName'] == 'GCPS_Operations') & (df['SchemaName'] == 'dbo') & (df['TableName'] == 'BatchStepLog')]\n",
    "dfgcpsops0033 = df[(df['DatabaseName'] == 'GCPS_Operations') & (df['SchemaName'] == 'dbo') & (df['TableName'] == 'Destination')]\n",
    "dfgcpsops0034 = df[(df['DatabaseName'] == 'GCPS_Operations') & (df['SchemaName'] == 'dbo') & (df['TableName'] == 'Error.SASI_ASTU_LOOKUP')]\n",
    "dfgcpsops0035 = df[(df['DatabaseName'] == 'GCPS_Operations') & (df['SchemaName'] == 'dbo') & (df['TableName'] == 'ERROR_PP_STU_CURR_SCHED')]\n",
    "dfgcpsops0036 = df[(df['DatabaseName'] == 'GCPS_Operations') & (df['SchemaName'] == 'dbo') & (df['TableName'] == 'ERROR_SCHOOL_LOOKUP')]\n",
    "dfgcpsops0037 = df[(df['DatabaseName'] == 'GCPS_Operations') & (df['SchemaName'] == 'dbo') & (df['TableName'] == 'FeedTables ')]\n",
    "dfgcpsops0038 = df[(df['DatabaseName'] == 'GCPS_Operations') & (df['SchemaName'] == 'dbo') & (df['TableName'] == 'FeedTablesWithInsertStatement')]\n",
    "dfgcpsops0039 = df[(df['DatabaseName'] == 'GCPS_Operations') & (df['SchemaName'] == 'dbo') & (df['TableName'] == 'MetricsCommon_SASI_MergeAllSource')]\n",
    "dfgcpsops0040 = df[(df['DatabaseName'] == 'GCPS_Operations') & (df['SchemaName'] == 'dbo') & (df['TableName'] == 'MetricsDatamart_SASI_MergeAllSource')]\n",
    "dfgcpsops0041 = df[(df['DatabaseName'] == 'GCPS_Operations') & (df['SchemaName'] == 'dbo') & (df['TableName'] == 'MetricsDatamartMergeAll')]\n",
    "dfgcpsops0042 = df[(df['DatabaseName'] == 'GCPS_Operations') & (df['SchemaName'] == 'dbo') & (df['TableName'] == 'MetricsDatamartMergeAllDetails')]\n",
    "dfgcpsops0043 = df[(df['DatabaseName'] == 'GCPS_Operations') & (df['SchemaName'] == 'dbo') & (df['TableName'] == 'MetricsDatamartMergeAllSource')]\n",
    "dfgcpsops0044 = df[(df['DatabaseName'] == 'GCPS_Operations') & (df['SchemaName'] == 'dbo') & (df['TableName'] == 'NotificationQueue')]\n",
    "dfgcpsops0045 = df[(df['DatabaseName'] == 'GCPS_Operations') & (df['SchemaName'] == 'dbo') & (df['TableName'] == 'op_Common_Lookups_EmptyGUIDPopulation')]\n",
    "dfgcpsops0046 = df[(df['DatabaseName'] == 'GCPS_Operations') & (df['SchemaName'] == 'dbo') & (df['TableName'] == 'op_FactDetails_Values')]\n",
    "dfgcpsops0047 = df[(df['DatabaseName'] == 'GCPS_Operations') & (df['SchemaName'] == 'dbo') & (df['TableName'] == 'op_FactDetails_Values_Clean')]\n",
    "dfgcpsops0048 = df[(df['DatabaseName'] == 'GCPS_Operations') & (df['SchemaName'] == 'dbo') & (df['TableName'] == 'op_FactDetails_Values_Clean_SASI')]\n",
    "dfgcpsops0049 = df[(df['DatabaseName'] == 'GCPS_Operations') & (df['SchemaName'] == 'dbo') & (df['TableName'] == 'op_FactLookup')]\n",
    "dfgcpsops0050 = df[(df['DatabaseName'] == 'GCPS_Operations') & (df['SchemaName'] == 'dbo') & (df['TableName'] == 'op_FactSourceExclude')]\n",
    "dfgcpsops0051 = df[(df['DatabaseName'] == 'GCPS_Operations') & (df['SchemaName'] == 'dbo') & (df['TableName'] == 'op_FactSources')]\n",
    "dfgcpsops0052 = df[(df['DatabaseName'] == 'GCPS_Operations') & (df['SchemaName'] == 'dbo') & (df['TableName'] == 'op_FactTblCounts')]\n",
    "dfgcpsops0053 = df[(df['DatabaseName'] == 'GCPS_Operations') & (df['SchemaName'] == 'dbo') & (df['TableName'] == 'Source')]\n",
    "dfgcpsops0054 = df[(df['DatabaseName'] == 'GCPS_Operations') & (df['SchemaName'] == 'dbo') & (df['TableName'] == 'SourceDataset')]\n",
    "dfgcpsops0055 = df[(df['DatabaseName'] == 'GCPS_Operations') & (df['SchemaName'] == 'dbo') & (df['TableName'] == 'SSIS Configurations')]\n",
    "dfgcpsops0056 = df[(df['DatabaseName'] == 'GCPS_Operations') & (df['SchemaName'] == 'dbo') & (df['TableName'] == 'Student Assessment Tables on zOS 4-21-2009')]\n",
    "dfgcpsops0057 = df[(df['DatabaseName'] == 'GCPS_Operations') & (df['SchemaName'] == 'dbo') & (df['TableName'] == 'STUDENT_GUARDIAN_LOOKUP')]\n",
    "dfgcpsops0058 = df[(df['DatabaseName'] == 'GCPS_Operations') & (df['SchemaName'] == 'dbo') & (df['TableName'] == 'sysdiagrams')]\n",
    "dfgcpsops0059 = df[(df['DatabaseName'] == 'GCPS_Operations') & (df['SchemaName'] == 'dbo') & (df['TableName'] == 'tbl_OperatorDashboard_JobsRunning')]\n",
    "dfgcpsops0060 = df[(df['DatabaseName'] == 'GCPS_Operations') & (df['SchemaName'] == 'dbo') & (df['TableName'] == 'tempSourceDataset')]\n",
    "dfgcpsops0061 = df[(df['DatabaseName'] == 'GCPS_Operations') & (df['SchemaName'] == 'ERROR') & (df['TableName'] == ' STUDENT_ABS')]\n",
    "dfgcpsops0062 = df[(df['DatabaseName'] == 'GCPS_Operations') & (df['SchemaName'] == 'ERROR') & (df['TableName'] == 'ABSENCE_LOOKUP')]\n",
    "dfgcpsops0063 = df[(df['DatabaseName'] == 'GCPS_Operations') & (df['SchemaName'] == 'ERROR') & (df['TableName'] == 'AKS_DESCRIPTION')]\n",
    "dfgcpsops0064 = df[(df['DatabaseName'] == 'GCPS_Operations') & (df['SchemaName'] == 'ERROR') & (df['TableName'] == 'AKS_SCHOOL_LEVEL')]\n",
    "dfgcpsops0065 = df[(df['DatabaseName'] == 'GCPS_Operations') & (df['SchemaName'] == 'ERROR') & (df['TableName'] == 'AKSCOURSE')]\n",
    "dfgcpsops0066 = df[(df['DatabaseName'] == 'GCPS_Operations') & (df['SchemaName'] == 'ERROR') & (df['TableName'] == 'ASTU_GPA')]\n",
    "dfgcpsops0067 = df[(df['DatabaseName'] == 'GCPS_Operations') & (df['SchemaName'] == 'ERROR') & (df['TableName'] == 'ATTLET')]\n",
    "dfgcpsops0068 = df[(df['DatabaseName'] == 'GCPS_Operations') & (df['SchemaName'] == 'ERROR') & (df['TableName'] == 'COMMON_SCHOOL_LOOKUP')]\n",
    "dfgcpsops0069 = df[(df['DatabaseName'] == 'GCPS_Operations') & (df['SchemaName'] == 'ERROR') & (df['TableName'] == 'COURSE')]\n",
    "dfgcpsops0070 = df[(df['DatabaseName'] == 'GCPS_Operations') & (df['SchemaName'] == 'ERROR') & (df['TableName'] == 'COURSE_LOOKUP')]\n",
    "dfgcpsops0071 = df[(df['DatabaseName'] == 'GCPS_Operations') & (df['SchemaName'] == 'ERROR') & (df['TableName'] == 'Data Conversion_SASI_ASTU')]\n",
    "dfgcpsops0072 = df[(df['DatabaseName'] == 'GCPS_Operations') & (df['SchemaName'] == 'ERROR') & (df['TableName'] == 'DIPLOMA_TYPE_LOOKUP')]\n",
    "dfgcpsops0073 = df[(df['DatabaseName'] == 'GCPS_Operations') & (df['SchemaName'] == 'ERROR') & (df['TableName'] == 'ETHNICITY_LOOKUP')]\n",
    "dfgcpsops0074 = df[(df['DatabaseName'] == 'GCPS_Operations') & (df['SchemaName'] == 'ERROR') & (df['TableName'] == 'EXTERNAL_SCHOOLS')]\n",
    "dfgcpsops0075 = df[(df['DatabaseName'] == 'GCPS_Operations') & (df['SchemaName'] == 'ERROR') & (df['TableName'] == 'EXTERNAL_SCHOOLS_LOOKUP')]\n",
    "dfgcpsops0076 = df[(df['DatabaseName'] == 'GCPS_Operations') & (df['SchemaName'] == 'ERROR') & (df['TableName'] == 'EXTERNAL_STUDENT_LOOKUP 7 1')]\n",
    "dfgcpsops0077 = df[(df['DatabaseName'] == 'GCPS_Operations') & (df['SchemaName'] == 'ERROR') & (df['TableName'] == 'G_COURE')]\n",
    "dfgcpsops0078 = df[(df['DatabaseName'] == 'GCPS_Operations') & (df['SchemaName'] == 'ERROR') & (df['TableName'] == 'G_COURE_INSTRUCT')]\n",
    "dfgcpsops0079 = df[(df['DatabaseName'] == 'GCPS_Operations') & (df['SchemaName'] == 'ERROR') & (df['TableName'] == 'G_LOC')]\n",
    "dfgcpsops0080 = df[(df['DatabaseName'] == 'GCPS_Operations') & (df['SchemaName'] == 'ERROR') & (df['TableName'] == 'G_STU')]\n",
    "dfgcpsops0081 = df[(df['DatabaseName'] == 'GCPS_Operations') & (df['SchemaName'] == 'ERROR') & (df['TableName'] == 'G_STUDENT_FTE_GTID')]\n",
    "dfgcpsops0082 = df[(df['DatabaseName'] == 'GCPS_Operations') & (df['SchemaName'] == 'ERROR') & (df['TableName'] == 'IMMUNIZATION_LOOKUP')]\n",
    "dfgcpsops0083 = df[(df['DatabaseName'] == 'GCPS_Operations') & (df['SchemaName'] == 'ERROR') & (df['TableName'] == 'LOCATION')]\n",
    "dfgcpsops0084 = df[(df['DatabaseName'] == 'GCPS_Operations') & (df['SchemaName'] == 'ERROR') & (df['TableName'] == 'LOOKUP_ASTU')]\n",
    "dfgcpsops0085 = df[(df['DatabaseName'] == 'GCPS_Operations') & (df['SchemaName'] == 'ERROR') & (df['TableName'] == 'LOOKUP_PROGRAM')]\n",
    "dfgcpsops0086 = df[(df['DatabaseName'] == 'GCPS_Operations') & (df['SchemaName'] == 'ERROR') & (df['TableName'] == 'LOOKUP_SCHOOL')]\n",
    "dfgcpsops0087 = df[(df['DatabaseName'] == 'GCPS_Operations') & (df['SchemaName'] == 'ERROR') & (df['TableName'] == 'NEXT_SCHOOL')]\n",
    "dfgcpsops0088 = df[(df['DatabaseName'] == 'GCPS_Operations') & (df['SchemaName'] == 'ERROR') & (df['TableName'] == 'SASI_ASTU')]\n",
    "dfgcpsops0089 = df[(df['DatabaseName'] == 'GCPS_Operations') & (df['SchemaName'] == 'ERROR') & (df['TableName'] == 'SCH_LOCATION')]\n",
    "dfgcpsops0090 = df[(df['DatabaseName'] == 'GCPS_Operations') & (df['SchemaName'] == 'ERROR') & (df['TableName'] == 'SCHEDULE')]\n",
    "dfgcpsops0091 = df[(df['DatabaseName'] == 'GCPS_Operations') & (df['SchemaName'] == 'ERROR') & (df['TableName'] == 'SCHOOL DATA CONVERSION ERROR')]\n",
    "dfgcpsops0092 = df[(df['DatabaseName'] == 'GCPS_Operations') & (df['SchemaName'] == 'ERROR') & (df['TableName'] == 'School_Cluster')]\n",
    "dfgcpsops0093 = df[(df['DatabaseName'] == 'GCPS_Operations') & (df['SchemaName'] == 'ERROR') & (df['TableName'] == 'Student Data')]\n",
    "dfgcpsops0094 = df[(df['DatabaseName'] == 'GCPS_Operations') & (df['SchemaName'] == 'ERROR') & (df['TableName'] == 'Student FTEID')]\n",
    "dfgcpsops0095 = df[(df['DatabaseName'] == 'GCPS_Operations') & (df['SchemaName'] == 'ERROR') & (df['TableName'] == 'STUDENT_ACADEMIC_CODES')]\n",
    "dfgcpsops0096 = df[(df['DatabaseName'] == 'GCPS_Operations') & (df['SchemaName'] == 'ERROR') & (df['TableName'] == 'STUDENT_ACADEMIC_MAJOR')]\n",
    "dfgcpsops0097 = df[(df['DatabaseName'] == 'GCPS_Operations') & (df['SchemaName'] == 'ERROR') & (df['TableName'] == 'STUDENT_ATTENDANCE_SUMRY')]\n",
    "dfgcpsops0098 = df[(df['DatabaseName'] == 'GCPS_Operations') & (df['SchemaName'] == 'ERROR') & (df['TableName'] == 'STUDENT_GURADIAN')]\n",
    "dfgcpsops0099 = df[(df['DatabaseName'] == 'GCPS_Operations') & (df['SchemaName'] == 'ERROR') & (df['TableName'] == 'STUDENT_LOOKUP')]\n",
    "dfgcpsops0100 = df[(df['DatabaseName'] == 'GCPS_Operations') & (df['SchemaName'] == 'ERROR') & (df['TableName'] == 'STUDENT_SCHEDULE_LOOKUP 1')]\n",
    "dfgcpsops0101 = df[(df['DatabaseName'] == 'GCPS_Operations') & (df['SchemaName'] == 'ERROR') & (df['TableName'] == 'TEACHER_LOOKUP')]\n",
    "dfgcpsops0102 = df[(df['DatabaseName'] == 'GCPS_Operations') & (df['SchemaName'] == 'ERROR') & (df['TableName'] == 'temp GLOC')]\n",
    "dfgcpsops0103 = df[(df['DatabaseName'] == 'GCPS_Operations') & (df['SchemaName'] == 'PBI') & (df['TableName'] == 'ISC_Name_Map')]\n",
    "dfgcpsops0104 = df[(df['DatabaseName'] == 'GCPS_Operations') & (df['SchemaName'] == 'psft_hr') & (df['TableName'] == 'tbl_hrfiles_routing')]\n",
    "dfgcpsops0105 = df[(df['DatabaseName'] == 'GCPS_Operations') & (df['SchemaName'] == 'psft_hr') & (df['TableName'] == 'tbl_hrvendor_config')]\n",
    "dfgcpsops0106 = df[(df['DatabaseName'] == 'GCPS_Operations') & (df['SchemaName'] == 'psft_hr') & (df['TableName'] == 'tbl_rpt_config')]\n"
   ]
  },
  {
   "cell_type": "code",
   "execution_count": 16,
   "metadata": {},
   "outputs": [
    {
     "data": {
      "text/html": [
       "<div>\n",
       "<style scoped>\n",
       "    .dataframe tbody tr th:only-of-type {\n",
       "        vertical-align: middle;\n",
       "    }\n",
       "\n",
       "    .dataframe tbody tr th {\n",
       "        vertical-align: top;\n",
       "    }\n",
       "\n",
       "    .dataframe thead th {\n",
       "        text-align: right;\n",
       "    }\n",
       "</style>\n",
       "<table border=\"1\" class=\"dataframe\">\n",
       "  <thead>\n",
       "    <tr style=\"text-align: right;\">\n",
       "      <th></th>\n",
       "      <th>TodaysDate</th>\n",
       "      <th>DatabaseName</th>\n",
       "      <th>SchemaName</th>\n",
       "      <th>TableName</th>\n",
       "      <th>RecordCount</th>\n",
       "      <th>Ddifference</th>\n",
       "    </tr>\n",
       "  </thead>\n",
       "  <tbody>\n",
       "    <tr>\n",
       "      <th>9682</th>\n",
       "      <td>2021-04-06</td>\n",
       "      <td>GCPS_Operations</td>\n",
       "      <td>psft_hr</td>\n",
       "      <td>tbl_rpt_config</td>\n",
       "      <td>0</td>\n",
       "      <td>0</td>\n",
       "    </tr>\n",
       "    <tr>\n",
       "      <th>9683</th>\n",
       "      <td>2021-04-12</td>\n",
       "      <td>GCPS_Operations</td>\n",
       "      <td>psft_hr</td>\n",
       "      <td>tbl_rpt_config</td>\n",
       "      <td>0</td>\n",
       "      <td>0</td>\n",
       "    </tr>\n",
       "    <tr>\n",
       "      <th>9684</th>\n",
       "      <td>2021-04-13</td>\n",
       "      <td>GCPS_Operations</td>\n",
       "      <td>psft_hr</td>\n",
       "      <td>tbl_rpt_config</td>\n",
       "      <td>0</td>\n",
       "      <td>0</td>\n",
       "    </tr>\n",
       "    <tr>\n",
       "      <th>9685</th>\n",
       "      <td>2021-04-14</td>\n",
       "      <td>GCPS_Operations</td>\n",
       "      <td>psft_hr</td>\n",
       "      <td>tbl_rpt_config</td>\n",
       "      <td>0</td>\n",
       "      <td>0</td>\n",
       "    </tr>\n",
       "    <tr>\n",
       "      <th>9686</th>\n",
       "      <td>2021-04-15</td>\n",
       "      <td>GCPS_Operations</td>\n",
       "      <td>psft_hr</td>\n",
       "      <td>tbl_rpt_config</td>\n",
       "      <td>0</td>\n",
       "      <td>0</td>\n",
       "    </tr>\n",
       "  </tbody>\n",
       "</table>\n",
       "</div>"
      ],
      "text/plain": [
       "     TodaysDate     DatabaseName SchemaName       TableName  RecordCount  \\\n",
       "9682 2021-04-06  GCPS_Operations    psft_hr  tbl_rpt_config            0   \n",
       "9683 2021-04-12  GCPS_Operations    psft_hr  tbl_rpt_config            0   \n",
       "9684 2021-04-13  GCPS_Operations    psft_hr  tbl_rpt_config            0   \n",
       "9685 2021-04-14  GCPS_Operations    psft_hr  tbl_rpt_config            0   \n",
       "9686 2021-04-15  GCPS_Operations    psft_hr  tbl_rpt_config            0   \n",
       "\n",
       "      Ddifference  \n",
       "9682            0  \n",
       "9683            0  \n",
       "9684            0  \n",
       "9685            0  \n",
       "9686            0  "
      ]
     },
     "execution_count": 16,
     "metadata": {},
     "output_type": "execute_result"
    }
   ],
   "source": [
    "dfgcpsops0106.head()"
   ]
  },
  {
   "cell_type": "code",
   "execution_count": 17,
   "metadata": {},
   "outputs": [
    {
     "name": "stdout",
     "output_type": "stream",
     "text": [
      "         DatabaseName SchemaName TableName\n",
      "2444  GCPS_Operations      Audit   ETL_Log\n"
     ]
    }
   ],
   "source": [
    "d = dfgcpsops0001[['DatabaseName', 'SchemaName','TableName']]#.format(z)\n",
    "d = d.drop_duplicates()\n",
    "e = d['DatabaseName'].values[0]\n",
    "f = d['SchemaName'].values[0]\n",
    "g = d['TableName'].values[0]\n",
    "print (d)\n",
    "FileName = ('GCPS_Ops_{}_{}'.format(f,g))\n",
    "\n",
    "fig = px.scatter(dfgcpsops0001, x = 'TodaysDate', y='RecordCount', size = 'RecordCount', color = 'RecordCount')#.format(z)\n",
    "fig.update_layout(title = '{0},{1},{2}'.format(e,f,g))\n",
    "fig.update_layout(yaxis_zeroline=False, xaxis_zeroline=False)\n",
    "fig.update_xaxes(title_font=dict(size=18, color='crimson'))\n",
    "fig.update_yaxes(title_font=dict(size=18, color='crimson'))\n",
    "fig.update_xaxes(ticks=\"inside\")\n",
    "fig.update_yaxes(ticks=\"inside\")\n",
    "fig.update_xaxes(tickangle=45, tickfont=dict(color='crimson', size=14))\n",
    "fig.update_xaxes(showline=True, linewidth=2, linecolor='black', mirror=True, gridcolor='Pink')\n",
    "fig.update_yaxes(showline=True, linewidth=2, linecolor='black', mirror=True, gridcolor='Red')\n",
    "#fig.show()\n",
    "fig.write_html(r'C:\\Users\\eeeeeeeeee\\Documents\\JupyterAnacondaPythonNotebooks\\Daily\\Charts_px\\GCPS_Ops\\{}.html'.format(FileName))\n",
    "plt.close()"
   ]
  },
  {
   "cell_type": "code",
   "execution_count": 18,
   "metadata": {},
   "outputs": [
    {
     "name": "stdout",
     "output_type": "stream",
     "text": [
      "         DatabaseName SchemaName       TableName\n",
      "2538  GCPS_Operations      Audit  ETL_Log_Detail\n"
     ]
    }
   ],
   "source": [
    "d = dfgcpsops0002[['DatabaseName', 'SchemaName','TableName']]#.format(z)\n",
    "d = d.drop_duplicates()\n",
    "e = d['DatabaseName'].values[0]\n",
    "f = d['SchemaName'].values[0]\n",
    "g = d['TableName'].values[0]\n",
    "print (d)\n",
    "FileName = ('GCPS_Ops_{}_{}'.format(f,g))\n",
    "\n",
    "fig = px.scatter(dfgcpsops0002, x = 'TodaysDate', y='RecordCount', size = 'RecordCount', color = 'RecordCount')#.format(z)\n",
    "fig.update_layout(title = '{0},{1},{2}'.format(e,f,g))\n",
    "fig.update_layout(yaxis_zeroline=False, xaxis_zeroline=False)\n",
    "fig.update_xaxes(title_font=dict(size=18, color='crimson'))\n",
    "fig.update_yaxes(title_font=dict(size=18, color='crimson'))\n",
    "fig.update_xaxes(ticks=\"inside\")\n",
    "fig.update_yaxes(ticks=\"inside\")\n",
    "fig.update_xaxes(tickangle=45, tickfont=dict(color='crimson', size=14))\n",
    "fig.update_xaxes(showline=True, linewidth=2, linecolor='black', mirror=True, gridcolor='Pink')\n",
    "fig.update_yaxes(showline=True, linewidth=2, linecolor='black', mirror=True, gridcolor='Red')\n",
    "#fig.show()\n",
    "fig.write_html(r'C:\\Users\\eeeeeeeeee\\Documents\\JupyterAnacondaPythonNotebooks\\Daily\\Charts_px\\GCPS_Ops\\{}.html'.format(FileName))\n",
    "plt.close()"
   ]
  },
  {
   "cell_type": "code",
   "execution_count": 19,
   "metadata": {},
   "outputs": [
    {
     "name": "stdout",
     "output_type": "stream",
     "text": [
      "        DatabaseName     SchemaName           TableName\n",
      "846  GCPS_Operations  Configuration  Application_Status\n"
     ]
    }
   ],
   "source": [
    "d = dfgcpsops0003[['DatabaseName', 'SchemaName','TableName']]#.format(z)\n",
    "d = d.drop_duplicates()\n",
    "e = d['DatabaseName'].values[0]\n",
    "f = d['SchemaName'].values[0]\n",
    "g = d['TableName'].values[0]\n",
    "print (d)\n",
    "FileName = ('GCPS_Ops_{}_{}'.format(f,g))\n",
    "\n",
    "fig = px.scatter(dfgcpsops0003, x = 'TodaysDate', y='RecordCount', size = 'RecordCount', color = 'RecordCount')#.format(z)\n",
    "fig.update_layout(title = '{0},{1},{2}'.format(e,f,g))\n",
    "fig.update_layout(yaxis_zeroline=False, xaxis_zeroline=False)\n",
    "fig.update_xaxes(title_font=dict(size=18, color='crimson'))\n",
    "fig.update_yaxes(title_font=dict(size=18, color='crimson'))\n",
    "fig.update_xaxes(ticks=\"inside\")\n",
    "fig.update_yaxes(ticks=\"inside\")\n",
    "fig.update_xaxes(tickangle=45, tickfont=dict(color='crimson', size=14))\n",
    "fig.update_xaxes(showline=True, linewidth=2, linecolor='black', mirror=True, gridcolor='Pink')\n",
    "fig.update_yaxes(showline=True, linewidth=2, linecolor='black', mirror=True, gridcolor='Red')\n",
    "#fig.show()\n",
    "fig.write_html(r'C:\\Users\\eeeeeeeeee\\Documents\\JupyterAnacondaPythonNotebooks\\Daily\\Charts_px\\GCPS_Ops\\{}.html'.format(FileName))\n",
    "plt.close()"
   ]
  },
  {
   "cell_type": "code",
   "execution_count": 20,
   "metadata": {},
   "outputs": [
    {
     "name": "stdout",
     "output_type": "stream",
     "text": [
      "        DatabaseName     SchemaName   TableName\n",
      "940  GCPS_Operations  Configuration  Assessment\n"
     ]
    }
   ],
   "source": [
    "d = dfgcpsops0004[['DatabaseName', 'SchemaName','TableName']]#.format(z)\n",
    "d = d.drop_duplicates()\n",
    "e = d['DatabaseName'].values[0]\n",
    "f = d['SchemaName'].values[0]\n",
    "g = d['TableName'].values[0]\n",
    "print (d)\n",
    "FileName = ('GCPS_Ops_{}_{}'.format(f,g))\n",
    "\n",
    "fig = px.scatter(dfgcpsops0004, x = 'TodaysDate', y='RecordCount', size = 'RecordCount', color = 'RecordCount')#.format(z)\n",
    "fig.update_layout(title = '{0},{1},{2}'.format(e,f,g))\n",
    "fig.update_layout(yaxis_zeroline=False, xaxis_zeroline=False)\n",
    "fig.update_xaxes(title_font=dict(size=18, color='crimson'))\n",
    "fig.update_yaxes(title_font=dict(size=18, color='crimson'))\n",
    "fig.update_xaxes(ticks=\"inside\")\n",
    "fig.update_yaxes(ticks=\"inside\")\n",
    "fig.update_xaxes(tickangle=45, tickfont=dict(color='crimson', size=14))\n",
    "fig.update_xaxes(showline=True, linewidth=2, linecolor='black', mirror=True, gridcolor='Pink')\n",
    "fig.update_yaxes(showline=True, linewidth=2, linecolor='black', mirror=True, gridcolor='Red')\n",
    "#fig.show()\n",
    "fig.write_html(r'C:\\Users\\eeeeeeeeee\\Documents\\JupyterAnacondaPythonNotebooks\\Daily\\Charts_px\\GCPS_Ops\\{}.html'.format(FileName))\n",
    "plt.close()"
   ]
  },
  {
   "cell_type": "code",
   "execution_count": 21,
   "metadata": {},
   "outputs": [
    {
     "name": "stdout",
     "output_type": "stream",
     "text": [
      "        DatabaseName     SchemaName           TableName\n",
      "470  GCPS_Operations  Configuration  ASSESSMENT_Streams\n"
     ]
    }
   ],
   "source": [
    "d = dfgcpsops0005[['DatabaseName', 'SchemaName','TableName']]#.format(z)\n",
    "d = d.drop_duplicates()\n",
    "e = d['DatabaseName'].values[0]\n",
    "f = d['SchemaName'].values[0]\n",
    "g = d['TableName'].values[0]\n",
    "print (d)\n",
    "FileName = ('GCPS_Ops_{}_{}'.format(f,g))\n",
    "\n",
    "fig = px.scatter(dfgcpsops0005, x = 'TodaysDate', y='RecordCount', size = 'RecordCount', color = 'RecordCount')#.format(z)\n",
    "fig.update_layout(title = '{0},{1},{2}'.format(e,f,g))\n",
    "fig.update_layout(yaxis_zeroline=False, xaxis_zeroline=False)\n",
    "fig.update_xaxes(title_font=dict(size=18, color='crimson'))\n",
    "fig.update_yaxes(title_font=dict(size=18, color='crimson'))\n",
    "fig.update_xaxes(ticks=\"inside\")\n",
    "fig.update_yaxes(ticks=\"inside\")\n",
    "fig.update_xaxes(tickangle=45, tickfont=dict(color='crimson', size=14))\n",
    "fig.update_xaxes(showline=True, linewidth=2, linecolor='black', mirror=True, gridcolor='Pink')\n",
    "fig.update_yaxes(showline=True, linewidth=2, linecolor='black', mirror=True, gridcolor='Red')\n",
    "#fig.show()\n",
    "fig.write_html(r'C:\\Users\\eeeeeeeeee\\Documents\\JupyterAnacondaPythonNotebooks\\Daily\\Charts_px\\GCPS_Ops\\{}.html'.format(FileName))\n",
    "plt.close()"
   ]
  },
  {
   "cell_type": "code",
   "execution_count": 22,
   "metadata": {},
   "outputs": [
    {
     "name": "stdout",
     "output_type": "stream",
     "text": [
      "         DatabaseName     SchemaName                   TableName\n",
      "1786  GCPS_Operations  Configuration  Datamart_Reporting_Streams\n"
     ]
    }
   ],
   "source": [
    "d = dfgcpsops0006[['DatabaseName', 'SchemaName','TableName']]#.format(z)\n",
    "d = d.drop_duplicates()\n",
    "e = d['DatabaseName'].values[0]\n",
    "f = d['SchemaName'].values[0]\n",
    "g = d['TableName'].values[0]\n",
    "print (d)\n",
    "FileName = ('GCPS_Ops_{}_{}'.format(f,g))\n",
    "\n",
    "fig = px.scatter(dfgcpsops0006, x = 'TodaysDate', y='RecordCount', size = 'RecordCount', color = 'RecordCount')#.format(z)\n",
    "fig.update_layout(title = '{0},{1},{2}'.format(e,f,g))\n",
    "fig.update_layout(yaxis_zeroline=False, xaxis_zeroline=False)\n",
    "fig.update_xaxes(title_font=dict(size=18, color='crimson'))\n",
    "fig.update_yaxes(title_font=dict(size=18, color='crimson'))\n",
    "fig.update_xaxes(ticks=\"inside\")\n",
    "fig.update_yaxes(ticks=\"inside\")\n",
    "fig.update_xaxes(tickangle=45, tickfont=dict(color='crimson', size=14))\n",
    "fig.update_xaxes(showline=True, linewidth=2, linecolor='black', mirror=True, gridcolor='Pink')\n",
    "fig.update_yaxes(showline=True, linewidth=2, linecolor='black', mirror=True, gridcolor='Red')\n",
    "#fig.show()\n",
    "fig.write_html(r'C:\\Users\\eeeeeeeeee\\Documents\\JupyterAnacondaPythonNotebooks\\Daily\\Charts_px\\GCPS_Ops\\{}.html'.format(FileName))\n",
    "plt.close()"
   ]
  },
  {
   "cell_type": "code",
   "execution_count": 23,
   "metadata": {},
   "outputs": [
    {
     "name": "stdout",
     "output_type": "stream",
     "text": [
      "         DatabaseName     SchemaName              TableName\n",
      "1880  GCPS_Operations  Configuration  Datamart_SASI_Streams\n"
     ]
    }
   ],
   "source": [
    "d = dfgcpsops0007[['DatabaseName', 'SchemaName','TableName']]#.format(z)\n",
    "d = d.drop_duplicates()\n",
    "e = d['DatabaseName'].values[0]\n",
    "f = d['SchemaName'].values[0]\n",
    "g = d['TableName'].values[0]\n",
    "print (d)\n",
    "FileName = ('GCPS_Ops_{}_{}'.format(f,g))\n",
    "\n",
    "fig = px.scatter(dfgcpsops0007, x = 'TodaysDate', y='RecordCount', size = 'RecordCount', color = 'RecordCount')#.format(z)\n",
    "fig.update_layout(title = '{0},{1},{2}'.format(e,f,g))\n",
    "fig.update_layout(yaxis_zeroline=False, xaxis_zeroline=False)\n",
    "fig.update_xaxes(title_font=dict(size=18, color='crimson'))\n",
    "fig.update_yaxes(title_font=dict(size=18, color='crimson'))\n",
    "fig.update_xaxes(ticks=\"inside\")\n",
    "fig.update_yaxes(ticks=\"inside\")\n",
    "fig.update_xaxes(tickangle=45, tickfont=dict(color='crimson', size=14))\n",
    "fig.update_xaxes(showline=True, linewidth=2, linecolor='black', mirror=True, gridcolor='Pink')\n",
    "fig.update_yaxes(showline=True, linewidth=2, linecolor='black', mirror=True, gridcolor='Red')\n",
    "#fig.show()\n",
    "fig.write_html(r'C:\\Users\\eeeeeeeeee\\Documents\\JupyterAnacondaPythonNotebooks\\Daily\\Charts_px\\GCPS_Ops\\{}.html'.format(FileName))\n",
    "plt.close()"
   ]
  },
  {
   "cell_type": "code",
   "execution_count": 24,
   "metadata": {},
   "outputs": [
    {
     "name": "stdout",
     "output_type": "stream",
     "text": [
      "         DatabaseName     SchemaName                     TableName\n",
      "1974  GCPS_Operations  Configuration  Datamart_SASI_Streams_BAckup\n"
     ]
    }
   ],
   "source": [
    "d = dfgcpsops0008[['DatabaseName', 'SchemaName','TableName']]#.format(z)\n",
    "d = d.drop_duplicates()\n",
    "e = d['DatabaseName'].values[0]\n",
    "f = d['SchemaName'].values[0]\n",
    "g = d['TableName'].values[0]\n",
    "print (d)\n",
    "FileName = ('GCPS_Ops_{}_{}'.format(f,g))\n",
    "\n",
    "fig = px.scatter(dfgcpsops0008, x = 'TodaysDate', y='RecordCount', size = 'RecordCount', color = 'RecordCount')#.format(z)\n",
    "fig.update_layout(title = '{0},{1},{2}'.format(e,f,g))\n",
    "fig.update_layout(yaxis_zeroline=False, xaxis_zeroline=False)\n",
    "fig.update_xaxes(title_font=dict(size=18, color='crimson'))\n",
    "fig.update_yaxes(title_font=dict(size=18, color='crimson'))\n",
    "fig.update_xaxes(ticks=\"inside\")\n",
    "fig.update_yaxes(ticks=\"inside\")\n",
    "fig.update_xaxes(tickangle=45, tickfont=dict(color='crimson', size=14))\n",
    "fig.update_xaxes(showline=True, linewidth=2, linecolor='black', mirror=True, gridcolor='Pink')\n",
    "fig.update_yaxes(showline=True, linewidth=2, linecolor='black', mirror=True, gridcolor='Red')\n",
    "#fig.show()\n",
    "fig.write_html(r'C:\\Users\\eeeeeeeeee\\Documents\\JupyterAnacondaPythonNotebooks\\Daily\\Charts_px\\GCPS_Ops\\{}.html'.format(FileName))\n",
    "plt.close()"
   ]
  },
  {
   "cell_type": "code",
   "execution_count": 25,
   "metadata": {},
   "outputs": [
    {
     "name": "stdout",
     "output_type": "stream",
     "text": [
      "         DatabaseName     SchemaName       TableName\n",
      "3008  GCPS_Operations  Configuration  ErrorInclusion\n"
     ]
    }
   ],
   "source": [
    "d = dfgcpsops0009[['DatabaseName', 'SchemaName','TableName']]#.format(z)\n",
    "d = d.drop_duplicates()\n",
    "e = d['DatabaseName'].values[0]\n",
    "f = d['SchemaName'].values[0]\n",
    "g = d['TableName'].values[0]\n",
    "print (d)\n",
    "FileName = ('GCPS_Ops_{}_{}'.format(f,g))\n",
    "\n",
    "fig = px.scatter(dfgcpsops0009, x = 'TodaysDate', y='RecordCount', size = 'RecordCount', color = 'RecordCount')#.format(z)\n",
    "fig.update_layout(title = '{0},{1},{2}'.format(e,f,g))\n",
    "fig.update_layout(yaxis_zeroline=False, xaxis_zeroline=False)\n",
    "fig.update_xaxes(title_font=dict(size=18, color='crimson'))\n",
    "fig.update_yaxes(title_font=dict(size=18, color='crimson'))\n",
    "fig.update_xaxes(ticks=\"inside\")\n",
    "fig.update_yaxes(ticks=\"inside\")\n",
    "fig.update_xaxes(tickangle=45, tickfont=dict(color='crimson', size=14))\n",
    "fig.update_xaxes(showline=True, linewidth=2, linecolor='black', mirror=True, gridcolor='Pink')\n",
    "fig.update_yaxes(showline=True, linewidth=2, linecolor='black', mirror=True, gridcolor='Red')\n",
    "#fig.show()\n",
    "fig.write_html(r'C:\\Users\\eeeeeeeeee\\Documents\\JupyterAnacondaPythonNotebooks\\Daily\\Charts_px\\GCPS_Ops\\{}.html'.format(FileName))\n",
    "plt.close()"
   ]
  },
  {
   "cell_type": "code",
   "execution_count": 26,
   "metadata": {},
   "outputs": [
    {
     "name": "stdout",
     "output_type": "stream",
     "text": [
      "         DatabaseName     SchemaName          TableName\n",
      "3102  GCPS_Operations  Configuration  ErrorNotification\n"
     ]
    }
   ],
   "source": [
    "d = dfgcpsops0010[['DatabaseName', 'SchemaName','TableName']]#.format(z)\n",
    "d = d.drop_duplicates()\n",
    "e = d['DatabaseName'].values[0]\n",
    "f = d['SchemaName'].values[0]\n",
    "g = d['TableName'].values[0]\n",
    "print (d)\n",
    "FileName = ('GCPS_Ops_{}_{}'.format(f,g))\n",
    "\n",
    "fig = px.scatter(dfgcpsops0010, x = 'TodaysDate', y='RecordCount', size = 'RecordCount', color = 'RecordCount')#.format(z)\n",
    "fig.update_layout(title = '{0},{1},{2}'.format(e,f,g))\n",
    "fig.update_layout(yaxis_zeroline=False, xaxis_zeroline=False)\n",
    "fig.update_xaxes(title_font=dict(size=18, color='crimson'))\n",
    "fig.update_yaxes(title_font=dict(size=18, color='crimson'))\n",
    "fig.update_xaxes(ticks=\"inside\")\n",
    "fig.update_yaxes(ticks=\"inside\")\n",
    "fig.update_xaxes(tickangle=45, tickfont=dict(color='crimson', size=14))\n",
    "fig.update_xaxes(showline=True, linewidth=2, linecolor='black', mirror=True, gridcolor='Pink')\n",
    "fig.update_yaxes(showline=True, linewidth=2, linecolor='black', mirror=True, gridcolor='Red')\n",
    "#fig.show()\n",
    "fig.write_html(r'C:\\Users\\eeeeeeeeee\\Documents\\JupyterAnacondaPythonNotebooks\\Daily\\Charts_px\\GCPS_Ops\\{}.html'.format(FileName))\n",
    "plt.close()"
   ]
  },
  {
   "cell_type": "code",
   "execution_count": 27,
   "metadata": {},
   "outputs": [
    {
     "name": "stdout",
     "output_type": "stream",
     "text": [
      "         DatabaseName     SchemaName                   TableName\n",
      "3196  GCPS_Operations  Configuration  ErrorNotification_20190212\n"
     ]
    }
   ],
   "source": [
    "d = dfgcpsops0011[['DatabaseName', 'SchemaName','TableName']]#.format(z)\n",
    "d = d.drop_duplicates()\n",
    "e = d['DatabaseName'].values[0]\n",
    "f = d['SchemaName'].values[0]\n",
    "g = d['TableName'].values[0]\n",
    "print (d)\n",
    "FileName = ('GCPS_Ops_{}_{}'.format(f,g))\n",
    "\n",
    "fig = px.scatter(dfgcpsops0011, x = 'TodaysDate', y='RecordCount', size = 'RecordCount', color = 'RecordCount')#.format(z)\n",
    "fig.update_layout(title = '{0},{1},{2}'.format(e,f,g))\n",
    "fig.update_layout(yaxis_zeroline=False, xaxis_zeroline=False)\n",
    "fig.update_xaxes(title_font=dict(size=18, color='crimson'))\n",
    "fig.update_yaxes(title_font=dict(size=18, color='crimson'))\n",
    "fig.update_xaxes(ticks=\"inside\")\n",
    "fig.update_yaxes(ticks=\"inside\")\n",
    "fig.update_xaxes(tickangle=45, tickfont=dict(color='crimson', size=14))\n",
    "fig.update_xaxes(showline=True, linewidth=2, linecolor='black', mirror=True, gridcolor='Pink')\n",
    "fig.update_yaxes(showline=True, linewidth=2, linecolor='black', mirror=True, gridcolor='Red')\n",
    "#fig.show()\n",
    "fig.write_html(r'C:\\Users\\eeeeeeeeee\\Documents\\JupyterAnacondaPythonNotebooks\\Daily\\Charts_px\\GCPS_Ops\\{}.html'.format(FileName))\n",
    "plt.close()"
   ]
  },
  {
   "cell_type": "code",
   "execution_count": 28,
   "metadata": {},
   "outputs": [
    {
     "name": "stdout",
     "output_type": "stream",
     "text": [
      "         DatabaseName     SchemaName TableName\n",
      "3948  GCPS_Operations  Configuration  HostLoad\n"
     ]
    }
   ],
   "source": [
    "d = dfgcpsops0012[['DatabaseName', 'SchemaName','TableName']]#.format(z)\n",
    "d = d.drop_duplicates()\n",
    "e = d['DatabaseName'].values[0]\n",
    "f = d['SchemaName'].values[0]\n",
    "g = d['TableName'].values[0]\n",
    "print (d)\n",
    "FileName = ('GCPS_Ops_{}_{}'.format(f,g))\n",
    "\n",
    "fig = px.scatter(dfgcpsops0012, x = 'TodaysDate', y='RecordCount', size = 'RecordCount', color = 'RecordCount')#.format(z)\n",
    "fig.update_layout(title = '{0},{1},{2}'.format(e,f,g))\n",
    "fig.update_layout(yaxis_zeroline=False, xaxis_zeroline=False)\n",
    "fig.update_xaxes(title_font=dict(size=18, color='crimson'))\n",
    "fig.update_yaxes(title_font=dict(size=18, color='crimson'))\n",
    "fig.update_xaxes(ticks=\"inside\")\n",
    "fig.update_yaxes(ticks=\"inside\")\n",
    "fig.update_xaxes(tickangle=45, tickfont=dict(color='crimson', size=14))\n",
    "fig.update_xaxes(showline=True, linewidth=2, linecolor='black', mirror=True, gridcolor='Pink')\n",
    "fig.update_yaxes(showline=True, linewidth=2, linecolor='black', mirror=True, gridcolor='Red')\n",
    "#fig.show()\n",
    "fig.write_html(r'C:\\Users\\eeeeeeeeee\\Documents\\JupyterAnacondaPythonNotebooks\\Daily\\Charts_px\\GCPS_Ops\\{}.html'.format(FileName))\n",
    "plt.close()"
   ]
  },
  {
   "cell_type": "code",
   "execution_count": 29,
   "metadata": {},
   "outputs": [
    {
     "name": "stdout",
     "output_type": "stream",
     "text": [
      "         DatabaseName     SchemaName        TableName\n",
      "4042  GCPS_Operations  Configuration  HostLoadStreams\n"
     ]
    }
   ],
   "source": [
    "d = dfgcpsops0013[['DatabaseName', 'SchemaName','TableName']]#.format(z)\n",
    "d = d.drop_duplicates()\n",
    "e = d['DatabaseName'].values[0]\n",
    "f = d['SchemaName'].values[0]\n",
    "g = d['TableName'].values[0]\n",
    "print (d)\n",
    "FileName = ('GCPS_Ops_{}_{}'.format(f,g))\n",
    "\n",
    "fig = px.scatter(dfgcpsops0013, x = 'TodaysDate', y='RecordCount', size = 'RecordCount', color = 'RecordCount')#.format(z)\n",
    "fig.update_layout(title = '{0},{1},{2}'.format(e,f,g))\n",
    "fig.update_layout(yaxis_zeroline=False, xaxis_zeroline=False)\n",
    "fig.update_xaxes(title_font=dict(size=18, color='crimson'))\n",
    "fig.update_yaxes(title_font=dict(size=18, color='crimson'))\n",
    "fig.update_xaxes(ticks=\"inside\")\n",
    "fig.update_yaxes(ticks=\"inside\")\n",
    "fig.update_xaxes(tickangle=45, tickfont=dict(color='crimson', size=14))\n",
    "fig.update_xaxes(showline=True, linewidth=2, linecolor='black', mirror=True, gridcolor='Pink')\n",
    "fig.update_yaxes(showline=True, linewidth=2, linecolor='black', mirror=True, gridcolor='Red')\n",
    "#fig.show()\n",
    "fig.write_html(r'C:\\Users\\eeeeeeeeee\\Documents\\JupyterAnacondaPythonNotebooks\\Daily\\Charts_px\\GCPS_Ops\\{}.html'.format(FileName))\n",
    "plt.close()"
   ]
  },
  {
   "cell_type": "code",
   "execution_count": 30,
   "metadata": {},
   "outputs": [
    {
     "name": "stdout",
     "output_type": "stream",
     "text": [
      "         DatabaseName     SchemaName             TableName\n",
      "5640  GCPS_Operations  Configuration  ParentPortal_Streams\n"
     ]
    }
   ],
   "source": [
    "d = dfgcpsops0014[['DatabaseName', 'SchemaName','TableName']]#.format(z)\n",
    "d = d.drop_duplicates()\n",
    "e = d['DatabaseName'].values[0]\n",
    "f = d['SchemaName'].values[0]\n",
    "g = d['TableName'].values[0]\n",
    "print (d)\n",
    "FileName = ('GCPS_Ops_{}_{}'.format(f,g))\n",
    "\n",
    "fig = px.scatter(dfgcpsops0014, x = 'TodaysDate', y='RecordCount', size = 'RecordCount', color = 'RecordCount')#.format(z)\n",
    "fig.update_layout(title = '{0},{1},{2}'.format(e,f,g))\n",
    "fig.update_layout(yaxis_zeroline=False, xaxis_zeroline=False)\n",
    "fig.update_xaxes(title_font=dict(size=18, color='crimson'))\n",
    "fig.update_yaxes(title_font=dict(size=18, color='crimson'))\n",
    "fig.update_xaxes(ticks=\"inside\")\n",
    "fig.update_yaxes(ticks=\"inside\")\n",
    "fig.update_xaxes(tickangle=45, tickfont=dict(color='crimson', size=14))\n",
    "fig.update_xaxes(showline=True, linewidth=2, linecolor='black', mirror=True, gridcolor='Pink')\n",
    "fig.update_yaxes(showline=True, linewidth=2, linecolor='black', mirror=True, gridcolor='Red')\n",
    "#fig.show()\n",
    "fig.write_html(r'C:\\Users\\eeeeeeeeee\\Documents\\JupyterAnacondaPythonNotebooks\\Daily\\Charts_px\\GCPS_Ops\\{}.html'.format(FileName))\n",
    "plt.close()"
   ]
  },
  {
   "cell_type": "code",
   "execution_count": 31,
   "metadata": {},
   "outputs": [
    {
     "name": "stdout",
     "output_type": "stream",
     "text": [
      "         DatabaseName     SchemaName                  TableName\n",
      "5734  GCPS_Operations  Configuration  ParentPortal_Streams_GSDR\n"
     ]
    }
   ],
   "source": [
    "d = dfgcpsops0015[['DatabaseName', 'SchemaName','TableName']]#.format(z)\n",
    "d = d.drop_duplicates()\n",
    "e = d['DatabaseName'].values[0]\n",
    "f = d['SchemaName'].values[0]\n",
    "g = d['TableName'].values[0]\n",
    "print (d)\n",
    "FileName = ('GCPS_Ops_{}_{}'.format(f,g))\n",
    "\n",
    "fig = px.scatter(dfgcpsops0015, x = 'TodaysDate', y='RecordCount', size = 'RecordCount', color = 'RecordCount')#.format(z)\n",
    "fig.update_layout(title = '{0},{1},{2}'.format(e,f,g))\n",
    "fig.update_layout(yaxis_zeroline=False, xaxis_zeroline=False)\n",
    "fig.update_xaxes(title_font=dict(size=18, color='crimson'))\n",
    "fig.update_yaxes(title_font=dict(size=18, color='crimson'))\n",
    "fig.update_xaxes(ticks=\"inside\")\n",
    "fig.update_yaxes(ticks=\"inside\")\n",
    "fig.update_xaxes(tickangle=45, tickfont=dict(color='crimson', size=14))\n",
    "fig.update_xaxes(showline=True, linewidth=2, linecolor='black', mirror=True, gridcolor='Pink')\n",
    "fig.update_yaxes(showline=True, linewidth=2, linecolor='black', mirror=True, gridcolor='Red')\n",
    "#fig.show()\n",
    "fig.write_html(r'C:\\Users\\eeeeeeeeee\\Documents\\JupyterAnacondaPythonNotebooks\\Daily\\Charts_px\\GCPS_Ops\\{}.html'.format(FileName))\n",
    "plt.close()"
   ]
  },
  {
   "cell_type": "code",
   "execution_count": 32,
   "metadata": {},
   "outputs": [
    {
     "name": "stdout",
     "output_type": "stream",
     "text": [
      "         DatabaseName     SchemaName       TableName\n",
      "5358  GCPS_Operations  Configuration  PPFrontEndLoad\n"
     ]
    }
   ],
   "source": [
    "d = dfgcpsops0016[['DatabaseName', 'SchemaName','TableName']]#.format(z)\n",
    "d = d.drop_duplicates()\n",
    "e = d['DatabaseName'].values[0]\n",
    "f = d['SchemaName'].values[0]\n",
    "g = d['TableName'].values[0]\n",
    "print (d)\n",
    "FileName = ('GCPS_Ops_{}_{}'.format(f,g))\n",
    "\n",
    "fig = px.scatter(dfgcpsops0016, x = 'TodaysDate', y='RecordCount', size = 'RecordCount', color = 'RecordCount')#.format(z)\n",
    "fig.update_layout(title = '{0},{1},{2}'.format(e,f,g))\n",
    "fig.update_layout(yaxis_zeroline=False, xaxis_zeroline=False)\n",
    "fig.update_xaxes(title_font=dict(size=18, color='crimson'))\n",
    "fig.update_yaxes(title_font=dict(size=18, color='crimson'))\n",
    "fig.update_xaxes(ticks=\"inside\")\n",
    "fig.update_yaxes(ticks=\"inside\")\n",
    "fig.update_xaxes(tickangle=45, tickfont=dict(color='crimson', size=14))\n",
    "fig.update_xaxes(showline=True, linewidth=2, linecolor='black', mirror=True, gridcolor='Pink')\n",
    "fig.update_yaxes(showline=True, linewidth=2, linecolor='black', mirror=True, gridcolor='Red')\n",
    "#fig.show()\n",
    "fig.write_html(r'C:\\Users\\eeeeeeeeee\\Documents\\JupyterAnacondaPythonNotebooks\\Daily\\Charts_px\\GCPS_Ops\\{}.html'.format(FileName))\n",
    "plt.close()"
   ]
  },
  {
   "cell_type": "code",
   "execution_count": 33,
   "metadata": {},
   "outputs": [
    {
     "name": "stdout",
     "output_type": "stream",
     "text": [
      "         DatabaseName     SchemaName              TableName\n",
      "5452  GCPS_Operations  Configuration  PPFrontEndLoadStreams\n"
     ]
    }
   ],
   "source": [
    "d = dfgcpsops0017[['DatabaseName', 'SchemaName','TableName']]#.format(z)\n",
    "d = d.drop_duplicates()\n",
    "e = d['DatabaseName'].values[0]\n",
    "f = d['SchemaName'].values[0]\n",
    "g = d['TableName'].values[0]\n",
    "print (d)\n",
    "FileName = ('GCPS_Ops_{}_{}'.format(f,g))\n",
    "\n",
    "fig = px.scatter(dfgcpsops0017, x = 'TodaysDate', y='RecordCount', size = 'RecordCount', color = 'RecordCount')#.format(z)\n",
    "fig.update_layout(title = '{0},{1},{2}'.format(e,f,g))\n",
    "fig.update_layout(yaxis_zeroline=False, xaxis_zeroline=False)\n",
    "fig.update_xaxes(title_font=dict(size=18, color='crimson'))\n",
    "fig.update_yaxes(title_font=dict(size=18, color='crimson'))\n",
    "fig.update_xaxes(ticks=\"inside\")\n",
    "fig.update_yaxes(ticks=\"inside\")\n",
    "fig.update_xaxes(tickangle=45, tickfont=dict(color='crimson', size=14))\n",
    "fig.update_xaxes(showline=True, linewidth=2, linecolor='black', mirror=True, gridcolor='Pink')\n",
    "fig.update_yaxes(showline=True, linewidth=2, linecolor='black', mirror=True, gridcolor='Red')\n",
    "#fig.show()\n",
    "fig.write_html(r'C:\\Users\\eeeeeeeeee\\Documents\\JupyterAnacondaPythonNotebooks\\Daily\\Charts_px\\GCPS_Ops\\{}.html'.format(FileName))\n",
    "plt.close()"
   ]
  },
  {
   "cell_type": "code",
   "execution_count": 34,
   "metadata": {},
   "outputs": [
    {
     "name": "stdout",
     "output_type": "stream",
     "text": [
      "         DatabaseName     SchemaName          TableName\n",
      "5546  GCPS_Operations  Configuration  PPFrontEndServers\n"
     ]
    }
   ],
   "source": [
    "d = dfgcpsops0018[['DatabaseName', 'SchemaName','TableName']]#.format(z)\n",
    "d = d.drop_duplicates()\n",
    "e = d['DatabaseName'].values[0]\n",
    "f = d['SchemaName'].values[0]\n",
    "g = d['TableName'].values[0]\n",
    "print (d)\n",
    "FileName = ('GCPS_Ops_{}_{}'.format(f,g))\n",
    "\n",
    "fig = px.scatter(dfgcpsops0018, x = 'TodaysDate', y='RecordCount', size = 'RecordCount', color = 'RecordCount')#.format(z)\n",
    "fig.update_layout(title = '{0},{1},{2}'.format(e,f,g))\n",
    "fig.update_layout(yaxis_zeroline=False, xaxis_zeroline=False)\n",
    "fig.update_xaxes(title_font=dict(size=18, color='crimson'))\n",
    "fig.update_yaxes(title_font=dict(size=18, color='crimson'))\n",
    "fig.update_xaxes(ticks=\"inside\")\n",
    "fig.update_yaxes(ticks=\"inside\")\n",
    "fig.update_xaxes(tickangle=45, tickfont=dict(color='crimson', size=14))\n",
    "fig.update_xaxes(showline=True, linewidth=2, linecolor='black', mirror=True, gridcolor='Pink')\n",
    "fig.update_yaxes(showline=True, linewidth=2, linecolor='black', mirror=True, gridcolor='Red')\n",
    "#fig.show()\n",
    "fig.write_html(r'C:\\Users\\eeeeeeeeee\\Documents\\JupyterAnacondaPythonNotebooks\\Daily\\Charts_px\\GCPS_Ops\\{}.html'.format(FileName))\n",
    "plt.close()"
   ]
  },
  {
   "cell_type": "code",
   "execution_count": 35,
   "metadata": {},
   "outputs": [
    {
     "name": "stdout",
     "output_type": "stream",
     "text": [
      "         DatabaseName     SchemaName TableName\n",
      "5828  GCPS_Operations  Configuration   Reports\n"
     ]
    }
   ],
   "source": [
    "d = dfgcpsops0019[['DatabaseName', 'SchemaName','TableName']]#.format(z)\n",
    "d = d.drop_duplicates()\n",
    "e = d['DatabaseName'].values[0]\n",
    "f = d['SchemaName'].values[0]\n",
    "g = d['TableName'].values[0]\n",
    "print (d)\n",
    "FileName = ('GCPS_Ops_{}_{}'.format(f,g))\n",
    "\n",
    "fig = px.scatter(dfgcpsops0019, x = 'TodaysDate', y='RecordCount', size = 'RecordCount', color = 'RecordCount')#.format(z)\n",
    "fig.update_layout(title = '{0},{1},{2}'.format(e,f,g))\n",
    "fig.update_layout(yaxis_zeroline=False, xaxis_zeroline=False)\n",
    "fig.update_xaxes(title_font=dict(size=18, color='crimson'))\n",
    "fig.update_yaxes(title_font=dict(size=18, color='crimson'))\n",
    "fig.update_xaxes(ticks=\"inside\")\n",
    "fig.update_yaxes(ticks=\"inside\")\n",
    "fig.update_xaxes(tickangle=45, tickfont=dict(color='crimson', size=14))\n",
    "fig.update_xaxes(showline=True, linewidth=2, linecolor='black', mirror=True, gridcolor='Pink')\n",
    "fig.update_yaxes(showline=True, linewidth=2, linecolor='black', mirror=True, gridcolor='Red')\n",
    "#fig.show()\n",
    "fig.write_html(r'C:\\Users\\eeeeeeeeee\\Documents\\JupyterAnacondaPythonNotebooks\\Daily\\Charts_px\\GCPS_Ops\\{}.html'.format(FileName))\n",
    "plt.close()"
   ]
  },
  {
   "cell_type": "code",
   "execution_count": 36,
   "metadata": {},
   "outputs": [
    {
     "name": "stdout",
     "output_type": "stream",
     "text": [
      "         DatabaseName     SchemaName         TableName\n",
      "5922  GCPS_Operations  Configuration  Reports_20180728\n"
     ]
    }
   ],
   "source": [
    "d = dfgcpsops0020[['DatabaseName', 'SchemaName','TableName']]#.format(z)\n",
    "d = d.drop_duplicates()\n",
    "e = d['DatabaseName'].values[0]\n",
    "f = d['SchemaName'].values[0]\n",
    "g = d['TableName'].values[0]\n",
    "print (d)\n",
    "FileName = ('GCPS_Ops_{}_{}'.format(f,g))\n",
    "\n",
    "fig = px.scatter(dfgcpsops0020, x = 'TodaysDate', y='RecordCount', size = 'RecordCount', color = 'RecordCount')#.format(z)\n",
    "fig.update_layout(title = '{0},{1},{2}'.format(e,f,g))\n",
    "fig.update_layout(yaxis_zeroline=False, xaxis_zeroline=False)\n",
    "fig.update_xaxes(title_font=dict(size=18, color='crimson'))\n",
    "fig.update_yaxes(title_font=dict(size=18, color='crimson'))\n",
    "fig.update_xaxes(ticks=\"inside\")\n",
    "fig.update_yaxes(ticks=\"inside\")\n",
    "fig.update_xaxes(tickangle=45, tickfont=dict(color='crimson', size=14))\n",
    "fig.update_xaxes(showline=True, linewidth=2, linecolor='black', mirror=True, gridcolor='Pink')\n",
    "fig.update_yaxes(showline=True, linewidth=2, linecolor='black', mirror=True, gridcolor='Red')\n",
    "#fig.show()\n",
    "fig.write_html(r'C:\\Users\\eeeeeeeeee\\Documents\\JupyterAnacondaPythonNotebooks\\Daily\\Charts_px\\GCPS_Ops\\{}.html'.format(FileName))\n",
    "plt.close()"
   ]
  },
  {
   "cell_type": "code",
   "execution_count": 37,
   "metadata": {},
   "outputs": [
    {
     "name": "stdout",
     "output_type": "stream",
     "text": [
      "         DatabaseName     SchemaName        TableName\n",
      "7238  GCPS_Operations  Configuration  Scheduled_Procs\n"
     ]
    }
   ],
   "source": [
    "d = dfgcpsops0021[['DatabaseName', 'SchemaName','TableName']]#.format(z)\n",
    "d = d.drop_duplicates()\n",
    "e = d['DatabaseName'].values[0]\n",
    "f = d['SchemaName'].values[0]\n",
    "g = d['TableName'].values[0]\n",
    "print (d)\n",
    "FileName = ('GCPS_Ops_{}_{}'.format(f,g))\n",
    "\n",
    "fig = px.scatter(dfgcpsops0021, x = 'TodaysDate', y='RecordCount', size = 'RecordCount', color = 'RecordCount')#.format(z)\n",
    "fig.update_layout(title = '{0},{1},{2}'.format(e,f,g))\n",
    "fig.update_layout(yaxis_zeroline=False, xaxis_zeroline=False)\n",
    "fig.update_xaxes(title_font=dict(size=18, color='crimson'))\n",
    "fig.update_yaxes(title_font=dict(size=18, color='crimson'))\n",
    "fig.update_xaxes(ticks=\"inside\")\n",
    "fig.update_yaxes(ticks=\"inside\")\n",
    "fig.update_xaxes(tickangle=45, tickfont=dict(color='crimson', size=14))\n",
    "fig.update_xaxes(showline=True, linewidth=2, linecolor='black', mirror=True, gridcolor='Pink')\n",
    "fig.update_yaxes(showline=True, linewidth=2, linecolor='black', mirror=True, gridcolor='Red')\n",
    "#fig.show()\n",
    "fig.write_html(r'C:\\Users\\eeeeeeeeee\\Documents\\JupyterAnacondaPythonNotebooks\\Daily\\Charts_px\\GCPS_Ops\\{}.html'.format(FileName))\n",
    "plt.close()"
   ]
  },
  {
   "cell_type": "code",
   "execution_count": 38,
   "metadata": {},
   "outputs": [
    {
     "name": "stdout",
     "output_type": "stream",
     "text": [
      "         DatabaseName     SchemaName TableName\n",
      "7426  GCPS_Operations  Configuration     Setup\n"
     ]
    }
   ],
   "source": [
    "d = dfgcpsops0022[['DatabaseName', 'SchemaName','TableName']]#.format(z)\n",
    "d = d.drop_duplicates()\n",
    "e = d['DatabaseName'].values[0]\n",
    "f = d['SchemaName'].values[0]\n",
    "g = d['TableName'].values[0]\n",
    "print (d)\n",
    "FileName = ('GCPS_Ops_{}_{}'.format(f,g))\n",
    "\n",
    "fig = px.scatter(dfgcpsops0022, x = 'TodaysDate', y='RecordCount', size = 'RecordCount', color = 'RecordCount')#.format(z)\n",
    "fig.update_layout(title = '{0},{1},{2}'.format(e,f,g))\n",
    "fig.update_layout(yaxis_zeroline=False, xaxis_zeroline=False)\n",
    "fig.update_xaxes(title_font=dict(size=18, color='crimson'))\n",
    "fig.update_yaxes(title_font=dict(size=18, color='crimson'))\n",
    "fig.update_xaxes(ticks=\"inside\")\n",
    "fig.update_yaxes(ticks=\"inside\")\n",
    "fig.update_xaxes(tickangle=45, tickfont=dict(color='crimson', size=14))\n",
    "fig.update_xaxes(showline=True, linewidth=2, linecolor='black', mirror=True, gridcolor='Pink')\n",
    "fig.update_yaxes(showline=True, linewidth=2, linecolor='black', mirror=True, gridcolor='Red')\n",
    "#fig.show()\n",
    "fig.write_html(r'C:\\Users\\eeeeeeeeee\\Documents\\JupyterAnacondaPythonNotebooks\\Daily\\Charts_px\\GCPS_Ops\\{}.html'.format(FileName))\n",
    "plt.close()"
   ]
  },
  {
   "cell_type": "code",
   "execution_count": 39,
   "metadata": {},
   "outputs": [
    {
     "name": "stdout",
     "output_type": "stream",
     "text": [
      "         DatabaseName     SchemaName       TableName\n",
      "6392  GCPS_Operations  Configuration  SPNightlyProcs\n"
     ]
    }
   ],
   "source": [
    "d = dfgcpsops0023[['DatabaseName', 'SchemaName','TableName']]#.format(z)\n",
    "d = d.drop_duplicates()\n",
    "e = d['DatabaseName'].values[0]\n",
    "f = d['SchemaName'].values[0]\n",
    "g = d['TableName'].values[0]\n",
    "print (d)\n",
    "FileName = ('GCPS_Ops_{}_{}'.format(f,g))\n",
    "\n",
    "fig = px.scatter(dfgcpsops0023, x = 'TodaysDate', y='RecordCount', size = 'RecordCount', color = 'RecordCount')#.format(z)\n",
    "fig.update_layout(title = '{0},{1},{2}'.format(e,f,g))\n",
    "fig.update_layout(yaxis_zeroline=False, xaxis_zeroline=False)\n",
    "fig.update_xaxes(title_font=dict(size=18, color='crimson'))\n",
    "fig.update_yaxes(title_font=dict(size=18, color='crimson'))\n",
    "fig.update_xaxes(ticks=\"inside\")\n",
    "fig.update_yaxes(ticks=\"inside\")\n",
    "fig.update_xaxes(tickangle=45, tickfont=dict(color='crimson', size=14))\n",
    "fig.update_xaxes(showline=True, linewidth=2, linecolor='black', mirror=True, gridcolor='Pink')\n",
    "fig.update_yaxes(showline=True, linewidth=2, linecolor='black', mirror=True, gridcolor='Red')\n",
    "#fig.show()\n",
    "fig.write_html(r'C:\\Users\\eeeeeeeeee\\Documents\\JupyterAnacondaPythonNotebooks\\Daily\\Charts_px\\GCPS_Ops\\{}.html'.format(FileName))\n",
    "plt.close()"
   ]
  },
  {
   "cell_type": "code",
   "execution_count": 40,
   "metadata": {},
   "outputs": [
    {
     "name": "stdout",
     "output_type": "stream",
     "text": [
      "         DatabaseName     SchemaName TableName\n",
      "7708  GCPS_Operations  Configuration   Streams\n"
     ]
    }
   ],
   "source": [
    "d = dfgcpsops0024[['DatabaseName', 'SchemaName','TableName']]#.format(z)\n",
    "d = d.drop_duplicates()\n",
    "e = d['DatabaseName'].values[0]\n",
    "f = d['SchemaName'].values[0]\n",
    "g = d['TableName'].values[0]\n",
    "print (d)\n",
    "FileName = ('GCPS_Ops_{}_{}'.format(f,g))\n",
    "\n",
    "fig = px.scatter(dfgcpsops0024, x = 'TodaysDate', y='RecordCount', size = 'RecordCount', color = 'RecordCount')#.format(z)\n",
    "fig.update_layout(title = '{0},{1},{2}'.format(e,f,g))\n",
    "fig.update_layout(yaxis_zeroline=False, xaxis_zeroline=False)\n",
    "fig.update_xaxes(title_font=dict(size=18, color='crimson'))\n",
    "fig.update_yaxes(title_font=dict(size=18, color='crimson'))\n",
    "fig.update_xaxes(ticks=\"inside\")\n",
    "fig.update_yaxes(ticks=\"inside\")\n",
    "fig.update_xaxes(tickangle=45, tickfont=dict(color='crimson', size=14))\n",
    "fig.update_xaxes(showline=True, linewidth=2, linecolor='black', mirror=True, gridcolor='Pink')\n",
    "fig.update_yaxes(showline=True, linewidth=2, linecolor='black', mirror=True, gridcolor='Red')\n",
    "#fig.show()\n",
    "fig.write_html(r'C:\\Users\\eeeeeeeeee\\Documents\\JupyterAnacondaPythonNotebooks\\Daily\\Charts_px\\GCPS_Ops\\{}.html'.format(FileName))\n",
    "plt.close()"
   ]
  },
  {
   "cell_type": "code",
   "execution_count": 41,
   "metadata": {},
   "outputs": [
    {
     "name": "stdout",
     "output_type": "stream",
     "text": [
      "         DatabaseName     SchemaName                  TableName\n",
      "9306  GCPS_Operations  Configuration  tbl_PDE_FileRoutingConfig\n"
     ]
    }
   ],
   "source": [
    "d = dfgcpsops0025[['DatabaseName', 'SchemaName','TableName']]#.format(z)\n",
    "d = d.drop_duplicates()\n",
    "e = d['DatabaseName'].values[0]\n",
    "f = d['SchemaName'].values[0]\n",
    "g = d['TableName'].values[0]\n",
    "print (d)\n",
    "FileName = ('GCPS_Ops_{}_{}'.format(f,g))\n",
    "\n",
    "fig = px.scatter(dfgcpsops0025, x = 'TodaysDate', y='RecordCount', size = 'RecordCount', color = 'RecordCount')#.format(z)\n",
    "fig.update_layout(title = '{0},{1},{2}'.format(e,f,g))\n",
    "fig.update_layout(yaxis_zeroline=False, xaxis_zeroline=False)\n",
    "fig.update_xaxes(title_font=dict(size=18, color='crimson'))\n",
    "fig.update_yaxes(title_font=dict(size=18, color='crimson'))\n",
    "fig.update_xaxes(ticks=\"inside\")\n",
    "fig.update_yaxes(ticks=\"inside\")\n",
    "fig.update_xaxes(tickangle=45, tickfont=dict(color='crimson', size=14))\n",
    "fig.update_xaxes(showline=True, linewidth=2, linecolor='black', mirror=True, gridcolor='Pink')\n",
    "fig.update_yaxes(showline=True, linewidth=2, linecolor='black', mirror=True, gridcolor='Red')\n",
    "#fig.show()\n",
    "fig.write_html(r'C:\\Users\\eeeeeeeeee\\Documents\\JupyterAnacondaPythonNotebooks\\Daily\\Charts_px\\GCPS_Ops\\{}.html'.format(FileName))\n",
    "plt.close()"
   ]
  },
  {
   "cell_type": "code",
   "execution_count": 42,
   "metadata": {},
   "outputs": [
    {
     "name": "stdout",
     "output_type": "stream",
     "text": [
      "         DatabaseName     SchemaName              TableName\n",
      "9400  GCPS_Operations  Configuration  tbl_PDE_RoutingErrors\n"
     ]
    }
   ],
   "source": [
    "d = dfgcpsops0026[['DatabaseName', 'SchemaName','TableName']]#.format(z)\n",
    "d = d.drop_duplicates()\n",
    "e = d['DatabaseName'].values[0]\n",
    "f = d['SchemaName'].values[0]\n",
    "g = d['TableName'].values[0]\n",
    "print (d)\n",
    "FileName = ('GCPS_Ops_{}_{}'.format(f,g))\n",
    "\n",
    "fig = px.scatter(dfgcpsops0026, x = 'TodaysDate', y='RecordCount', size = 'RecordCount', color = 'RecordCount')#.format(z)\n",
    "fig.update_layout(title = '{0},{1},{2}'.format(e,f,g))\n",
    "fig.update_layout(yaxis_zeroline=False, xaxis_zeroline=False)\n",
    "fig.update_xaxes(title_font=dict(size=18, color='crimson'))\n",
    "fig.update_yaxes(title_font=dict(size=18, color='crimson'))\n",
    "fig.update_xaxes(ticks=\"inside\")\n",
    "fig.update_yaxes(ticks=\"inside\")\n",
    "fig.update_xaxes(tickangle=45, tickfont=dict(color='crimson', size=14))\n",
    "fig.update_xaxes(showline=True, linewidth=2, linecolor='black', mirror=True, gridcolor='Pink')\n",
    "fig.update_yaxes(showline=True, linewidth=2, linecolor='black', mirror=True, gridcolor='Red')\n",
    "#fig.show()\n",
    "fig.write_html(r'C:\\Users\\eeeeeeeeee\\Documents\\JupyterAnacondaPythonNotebooks\\Daily\\Charts_px\\GCPS_Ops\\{}.html'.format(FileName))\n",
    "plt.close()"
   ]
  },
  {
   "cell_type": "code",
   "execution_count": 43,
   "metadata": {},
   "outputs": [
    {
     "name": "stdout",
     "output_type": "stream",
     "text": [
      "         DatabaseName SchemaName          TableName\n",
      "9118  GCPS_Operations       Core  tblActiveStudents\n"
     ]
    }
   ],
   "source": [
    "d = dfgcpsops0027[['DatabaseName', 'SchemaName','TableName']]#.format(z)\n",
    "d = d.drop_duplicates()\n",
    "e = d['DatabaseName'].values[0]\n",
    "f = d['SchemaName'].values[0]\n",
    "g = d['TableName'].values[0]\n",
    "print (d)\n",
    "FileName = ('GCPS_Ops_{}_{}'.format(f,g))\n",
    "\n",
    "fig = px.scatter(dfgcpsops0027, x = 'TodaysDate', y='RecordCount', size = 'RecordCount', color = 'RecordCount')#.format(z)\n",
    "fig.update_layout(title = '{0},{1},{2}'.format(e,f,g))\n",
    "fig.update_layout(yaxis_zeroline=False, xaxis_zeroline=False)\n",
    "fig.update_xaxes(title_font=dict(size=18, color='crimson'))\n",
    "fig.update_yaxes(title_font=dict(size=18, color='crimson'))\n",
    "fig.update_xaxes(ticks=\"inside\")\n",
    "fig.update_yaxes(ticks=\"inside\")\n",
    "fig.update_xaxes(tickangle=45, tickfont=dict(color='crimson', size=14))\n",
    "fig.update_xaxes(showline=True, linewidth=2, linecolor='black', mirror=True, gridcolor='Pink')\n",
    "fig.update_yaxes(showline=True, linewidth=2, linecolor='black', mirror=True, gridcolor='Red')\n",
    "#fig.show()\n",
    "fig.write_html(r'C:\\Users\\eeeeeeeeee\\Documents\\JupyterAnacondaPythonNotebooks\\Daily\\Charts_px\\GCPS_Ops\\{}.html'.format(FileName))\n",
    "plt.close()"
   ]
  },
  {
   "cell_type": "code",
   "execution_count": 44,
   "metadata": {},
   "outputs": [
    {
     "name": "stdout",
     "output_type": "stream",
     "text": [
      "        DatabaseName SchemaName       TableName\n",
      "752  GCPS_Operations        dbo  ApplicationLog\n"
     ]
    }
   ],
   "source": [
    "d = dfgcpsops0028[['DatabaseName', 'SchemaName','TableName']]#.format(z)\n",
    "d = d.drop_duplicates()\n",
    "e = d['DatabaseName'].values[0]\n",
    "f = d['SchemaName'].values[0]\n",
    "g = d['TableName'].values[0]\n",
    "print (d)\n",
    "FileName = ('GCPS_Ops_{}_{}'.format(f,g))\n",
    "\n",
    "fig = px.scatter(dfgcpsops0028, x = 'TodaysDate', y='RecordCount', size = 'RecordCount', color = 'RecordCount')#.format(z)\n",
    "fig.update_layout(title = '{0},{1},{2}'.format(e,f,g))\n",
    "fig.update_layout(yaxis_zeroline=False, xaxis_zeroline=False)\n",
    "fig.update_xaxes(title_font=dict(size=18, color='crimson'))\n",
    "fig.update_yaxes(title_font=dict(size=18, color='crimson'))\n",
    "fig.update_xaxes(ticks=\"inside\")\n",
    "fig.update_yaxes(ticks=\"inside\")\n",
    "fig.update_xaxes(tickangle=45, tickfont=dict(color='crimson', size=14))\n",
    "fig.update_xaxes(showline=True, linewidth=2, linecolor='black', mirror=True, gridcolor='Pink')\n",
    "fig.update_yaxes(showline=True, linewidth=2, linecolor='black', mirror=True, gridcolor='Red')\n",
    "#fig.show()\n",
    "fig.write_html(r'C:\\Users\\eeeeeeeeee\\Documents\\JupyterAnacondaPythonNotebooks\\Daily\\Charts_px\\GCPS_Ops\\{}.html'.format(FileName))\n",
    "plt.close()"
   ]
  },
  {
   "cell_type": "code",
   "execution_count": 45,
   "metadata": {},
   "outputs": [
    {
     "name": "stdout",
     "output_type": "stream",
     "text": [
      "         DatabaseName SchemaName                           TableName\n",
      "8178  GCPS_Operations        dbo  audit__etl_log_detail_bak_20190319\n"
     ]
    }
   ],
   "source": [
    "d = dfgcpsops0029[['DatabaseName', 'SchemaName','TableName']]#.format(z)\n",
    "d = d.drop_duplicates()\n",
    "e = d['DatabaseName'].values[0]\n",
    "f = d['SchemaName'].values[0]\n",
    "g = d['TableName'].values[0]\n",
    "print (d)\n",
    "FileName = ('GCPS_Ops_{}_{}'.format(f,g))\n",
    "\n",
    "fig = px.scatter(dfgcpsops0029, x = 'TodaysDate', y='RecordCount', size = 'RecordCount', color = 'RecordCount')#.format(z)\n",
    "fig.update_layout(title = '{0},{1},{2}'.format(e,f,g))\n",
    "fig.update_layout(yaxis_zeroline=False, xaxis_zeroline=False)\n",
    "fig.update_xaxes(title_font=dict(size=18, color='crimson'))\n",
    "fig.update_yaxes(title_font=dict(size=18, color='crimson'))\n",
    "fig.update_xaxes(ticks=\"inside\")\n",
    "fig.update_yaxes(ticks=\"inside\")\n",
    "fig.update_xaxes(tickangle=45, tickfont=dict(color='crimson', size=14))\n",
    "fig.update_xaxes(showline=True, linewidth=2, linecolor='black', mirror=True, gridcolor='Pink')\n",
    "fig.update_yaxes(showline=True, linewidth=2, linecolor='black', mirror=True, gridcolor='Red')\n",
    "#fig.show()\n",
    "fig.write_html(r'C:\\Users\\eeeeeeeeee\\Documents\\JupyterAnacondaPythonNotebooks\\Daily\\Charts_px\\GCPS_Ops\\{}.html'.format(FileName))\n",
    "plt.close()"
   ]
  },
  {
   "cell_type": "code",
   "execution_count": 46,
   "metadata": {},
   "outputs": [
    {
     "name": "stdout",
     "output_type": "stream",
     "text": [
      "         DatabaseName SchemaName    TableName\n",
      "1034  GCPS_Operations        dbo  BatchLogAdm\n"
     ]
    }
   ],
   "source": [
    "d = dfgcpsops0030[['DatabaseName', 'SchemaName','TableName']]#.format(z)\n",
    "d = d.drop_duplicates()\n",
    "e = d['DatabaseName'].values[0]\n",
    "f = d['SchemaName'].values[0]\n",
    "g = d['TableName'].values[0]\n",
    "print (d)\n",
    "FileName = ('GCPS_Ops_{}_{}'.format(f,g))\n",
    "\n",
    "fig = px.scatter(dfgcpsops0030, x = 'TodaysDate', y='RecordCount', size = 'RecordCount', color = 'RecordCount')#.format(z)\n",
    "fig.update_layout(title = '{0},{1},{2}'.format(e,f,g))\n",
    "fig.update_layout(yaxis_zeroline=False, xaxis_zeroline=False)\n",
    "fig.update_xaxes(title_font=dict(size=18, color='crimson'))\n",
    "fig.update_yaxes(title_font=dict(size=18, color='crimson'))\n",
    "fig.update_xaxes(ticks=\"inside\")\n",
    "fig.update_yaxes(ticks=\"inside\")\n",
    "fig.update_xaxes(tickangle=45, tickfont=dict(color='crimson', size=14))\n",
    "fig.update_xaxes(showline=True, linewidth=2, linecolor='black', mirror=True, gridcolor='Pink')\n",
    "fig.update_yaxes(showline=True, linewidth=2, linecolor='black', mirror=True, gridcolor='Red')\n",
    "#fig.show()\n",
    "fig.write_html(r'C:\\Users\\eeeeeeeeee\\Documents\\JupyterAnacondaPythonNotebooks\\Daily\\Charts_px\\GCPS_Ops\\{}.html'.format(FileName))\n",
    "plt.close()"
   ]
  },
  {
   "cell_type": "code",
   "execution_count": 47,
   "metadata": {},
   "outputs": [
    {
     "name": "stdout",
     "output_type": "stream",
     "text": [
      "         DatabaseName SchemaName          TableName\n",
      "1128  GCPS_Operations        dbo  BatchLogDetailAdm\n"
     ]
    }
   ],
   "source": [
    "d = dfgcpsops0031[['DatabaseName', 'SchemaName','TableName']]#.format(z)\n",
    "d = d.drop_duplicates()\n",
    "e = d['DatabaseName'].values[0]\n",
    "f = d['SchemaName'].values[0]\n",
    "g = d['TableName'].values[0]\n",
    "print (d)\n",
    "FileName = ('GCPS_Ops_{}_{}'.format(f,g))\n",
    "\n",
    "fig = px.scatter(dfgcpsops0031, x = 'TodaysDate', y='RecordCount', size = 'RecordCount', color = 'RecordCount')#.format(z)\n",
    "fig.update_layout(title = '{0},{1},{2}'.format(e,f,g))\n",
    "fig.update_layout(yaxis_zeroline=False, xaxis_zeroline=False)\n",
    "fig.update_xaxes(title_font=dict(size=18, color='crimson'))\n",
    "fig.update_yaxes(title_font=dict(size=18, color='crimson'))\n",
    "fig.update_xaxes(ticks=\"inside\")\n",
    "fig.update_yaxes(ticks=\"inside\")\n",
    "fig.update_xaxes(tickangle=45, tickfont=dict(color='crimson', size=14))\n",
    "fig.update_xaxes(showline=True, linewidth=2, linecolor='black', mirror=True, gridcolor='Pink')\n",
    "fig.update_yaxes(showline=True, linewidth=2, linecolor='black', mirror=True, gridcolor='Red')\n",
    "#fig.show()\n",
    "fig.write_html(r'C:\\Users\\eeeeeeeeee\\Documents\\JupyterAnacondaPythonNotebooks\\Daily\\Charts_px\\GCPS_Ops\\{}.html'.format(FileName))\n",
    "plt.close()"
   ]
  },
  {
   "cell_type": "code",
   "execution_count": 48,
   "metadata": {},
   "outputs": [
    {
     "name": "stdout",
     "output_type": "stream",
     "text": [
      "         DatabaseName SchemaName     TableName\n",
      "1222  GCPS_Operations        dbo  BatchStepLog\n"
     ]
    }
   ],
   "source": [
    "d = dfgcpsops0032[['DatabaseName', 'SchemaName','TableName']]#.format(z)\n",
    "d = d.drop_duplicates()\n",
    "e = d['DatabaseName'].values[0]\n",
    "f = d['SchemaName'].values[0]\n",
    "g = d['TableName'].values[0]\n",
    "print (d)\n",
    "FileName = ('GCPS_Ops_{}_{}'.format(f,g))\n",
    "\n",
    "fig = px.scatter(dfgcpsops0032, x = 'TodaysDate', y='RecordCount', size = 'RecordCount', color = 'RecordCount')#.format(z)\n",
    "fig.update_layout(title = '{0},{1},{2}'.format(e,f,g))\n",
    "fig.update_layout(yaxis_zeroline=False, xaxis_zeroline=False)\n",
    "fig.update_xaxes(title_font=dict(size=18, color='crimson'))\n",
    "fig.update_yaxes(title_font=dict(size=18, color='crimson'))\n",
    "fig.update_xaxes(ticks=\"inside\")\n",
    "fig.update_yaxes(ticks=\"inside\")\n",
    "fig.update_xaxes(tickangle=45, tickfont=dict(color='crimson', size=14))\n",
    "fig.update_xaxes(showline=True, linewidth=2, linecolor='black', mirror=True, gridcolor='Pink')\n",
    "fig.update_yaxes(showline=True, linewidth=2, linecolor='black', mirror=True, gridcolor='Red')\n",
    "#fig.show()\n",
    "fig.write_html(r'C:\\Users\\eeeeeeeeee\\Documents\\JupyterAnacondaPythonNotebooks\\Daily\\Charts_px\\GCPS_Ops\\{}.html'.format(FileName))\n",
    "plt.close()"
   ]
  },
  {
   "cell_type": "code",
   "execution_count": 49,
   "metadata": {},
   "outputs": [
    {
     "name": "stdout",
     "output_type": "stream",
     "text": [
      "         DatabaseName SchemaName    TableName\n",
      "2068  GCPS_Operations        dbo  Destination\n"
     ]
    }
   ],
   "source": [
    "d = dfgcpsops0033[['DatabaseName', 'SchemaName','TableName']]#.format(z)\n",
    "d = d.drop_duplicates()\n",
    "e = d['DatabaseName'].values[0]\n",
    "f = d['SchemaName'].values[0]\n",
    "g = d['TableName'].values[0]\n",
    "print (d)\n",
    "FileName = ('GCPS_Ops_{}_{}'.format(f,g))\n",
    "\n",
    "fig = px.scatter(dfgcpsops0033, x = 'TodaysDate', y='RecordCount', size = 'RecordCount', color = 'RecordCount')#.format(z)\n",
    "fig.update_layout(title = '{0},{1},{2}'.format(e,f,g))\n",
    "fig.update_layout(yaxis_zeroline=False, xaxis_zeroline=False)\n",
    "fig.update_xaxes(title_font=dict(size=18, color='crimson'))\n",
    "fig.update_yaxes(title_font=dict(size=18, color='crimson'))\n",
    "fig.update_xaxes(ticks=\"inside\")\n",
    "fig.update_yaxes(ticks=\"inside\")\n",
    "fig.update_xaxes(tickangle=45, tickfont=dict(color='crimson', size=14))\n",
    "fig.update_xaxes(showline=True, linewidth=2, linecolor='black', mirror=True, gridcolor='Pink')\n",
    "fig.update_yaxes(showline=True, linewidth=2, linecolor='black', mirror=True, gridcolor='Red')\n",
    "#fig.show()\n",
    "fig.write_html(r'C:\\Users\\eeeeeeeeee\\Documents\\JupyterAnacondaPythonNotebooks\\Daily\\Charts_px\\GCPS_Ops\\{}.html'.format(FileName))\n",
    "plt.close()"
   ]
  },
  {
   "cell_type": "code",
   "execution_count": 50,
   "metadata": {},
   "outputs": [
    {
     "name": "stdout",
     "output_type": "stream",
     "text": [
      "         DatabaseName SchemaName               TableName\n",
      "2914  GCPS_Operations        dbo  Error.SASI_ASTU_LOOKUP\n"
     ]
    }
   ],
   "source": [
    "d = dfgcpsops0034[['DatabaseName', 'SchemaName','TableName']]#.format(z)\n",
    "d = d.drop_duplicates()\n",
    "e = d['DatabaseName'].values[0]\n",
    "f = d['SchemaName'].values[0]\n",
    "g = d['TableName'].values[0]\n",
    "print (d)\n",
    "FileName = ('GCPS_Ops_{}_{}'.format(f,g))\n",
    "\n",
    "fig = px.scatter(dfgcpsops0034, x = 'TodaysDate', y='RecordCount', size = 'RecordCount', color = 'RecordCount')#.format(z)\n",
    "fig.update_layout(title = '{0},{1},{2}'.format(e,f,g))\n",
    "fig.update_layout(yaxis_zeroline=False, xaxis_zeroline=False)\n",
    "fig.update_xaxes(title_font=dict(size=18, color='crimson'))\n",
    "fig.update_yaxes(title_font=dict(size=18, color='crimson'))\n",
    "fig.update_xaxes(ticks=\"inside\")\n",
    "fig.update_yaxes(ticks=\"inside\")\n",
    "fig.update_xaxes(tickangle=45, tickfont=dict(color='crimson', size=14))\n",
    "fig.update_xaxes(showline=True, linewidth=2, linecolor='black', mirror=True, gridcolor='Pink')\n",
    "fig.update_yaxes(showline=True, linewidth=2, linecolor='black', mirror=True, gridcolor='Red')\n",
    "#fig.show()\n",
    "fig.write_html(r'C:\\Users\\eeeeeeeeee\\Documents\\JupyterAnacondaPythonNotebooks\\Daily\\Charts_px\\GCPS_Ops\\{}.html'.format(FileName))\n",
    "plt.close()"
   ]
  },
  {
   "cell_type": "code",
   "execution_count": 51,
   "metadata": {},
   "outputs": [
    {
     "name": "stdout",
     "output_type": "stream",
     "text": [
      "         DatabaseName SchemaName                TableName\n",
      "2162  GCPS_Operations        dbo  ERROR_PP_STU_CURR_SCHED\n"
     ]
    }
   ],
   "source": [
    "d = dfgcpsops0035[['DatabaseName', 'SchemaName','TableName']]#.format(z)\n",
    "d = d.drop_duplicates()\n",
    "e = d['DatabaseName'].values[0]\n",
    "f = d['SchemaName'].values[0]\n",
    "g = d['TableName'].values[0]\n",
    "print (d)\n",
    "FileName = ('GCPS_Ops_{}_{}'.format(f,g))\n",
    "\n",
    "fig = px.scatter(dfgcpsops0035, x = 'TodaysDate', y='RecordCount', size = 'RecordCount', color = 'RecordCount')#.format(z)\n",
    "fig.update_layout(title = '{0},{1},{2}'.format(e,f,g))\n",
    "fig.update_layout(yaxis_zeroline=False, xaxis_zeroline=False)\n",
    "fig.update_xaxes(title_font=dict(size=18, color='crimson'))\n",
    "fig.update_yaxes(title_font=dict(size=18, color='crimson'))\n",
    "fig.update_xaxes(ticks=\"inside\")\n",
    "fig.update_yaxes(ticks=\"inside\")\n",
    "fig.update_xaxes(tickangle=45, tickfont=dict(color='crimson', size=14))\n",
    "fig.update_xaxes(showline=True, linewidth=2, linecolor='black', mirror=True, gridcolor='Pink')\n",
    "fig.update_yaxes(showline=True, linewidth=2, linecolor='black', mirror=True, gridcolor='Red')\n",
    "#fig.show()\n",
    "fig.write_html(r'C:\\Users\\eeeeeeeeee\\Documents\\JupyterAnacondaPythonNotebooks\\Daily\\Charts_px\\GCPS_Ops\\{}.html'.format(FileName))\n",
    "plt.close()"
   ]
  },
  {
   "cell_type": "code",
   "execution_count": 52,
   "metadata": {},
   "outputs": [
    {
     "name": "stdout",
     "output_type": "stream",
     "text": [
      "         DatabaseName SchemaName            TableName\n",
      "2256  GCPS_Operations        dbo  ERROR_SCHOOL_LOOKUP\n"
     ]
    }
   ],
   "source": [
    "d = dfgcpsops0036[['DatabaseName', 'SchemaName','TableName']]#.format(z)\n",
    "d = d.drop_duplicates()\n",
    "e = d['DatabaseName'].values[0]\n",
    "f = d['SchemaName'].values[0]\n",
    "g = d['TableName'].values[0]\n",
    "print (d)\n",
    "FileName = ('GCPS_Ops_{}_{}'.format(f,g))\n",
    "\n",
    "fig = px.scatter(dfgcpsops0036, x = 'TodaysDate', y='RecordCount', size = 'RecordCount', color = 'RecordCount')#.format(z)\n",
    "fig.update_layout(title = '{0},{1},{2}'.format(e,f,g))\n",
    "fig.update_layout(yaxis_zeroline=False, xaxis_zeroline=False)\n",
    "fig.update_xaxes(title_font=dict(size=18, color='crimson'))\n",
    "fig.update_yaxes(title_font=dict(size=18, color='crimson'))\n",
    "fig.update_xaxes(ticks=\"inside\")\n",
    "fig.update_yaxes(ticks=\"inside\")\n",
    "fig.update_xaxes(tickangle=45, tickfont=dict(color='crimson', size=14))\n",
    "fig.update_xaxes(showline=True, linewidth=2, linecolor='black', mirror=True, gridcolor='Pink')\n",
    "fig.update_yaxes(showline=True, linewidth=2, linecolor='black', mirror=True, gridcolor='Red')\n",
    "#fig.show()\n",
    "fig.write_html(r'C:\\Users\\eeeeeeeeee\\Documents\\JupyterAnacondaPythonNotebooks\\Daily\\Charts_px\\GCPS_Ops\\{}.html'.format(FileName))\n",
    "plt.close()"
   ]
  },
  {
   "cell_type": "code",
   "execution_count": 53,
   "metadata": {},
   "outputs": [
    {
     "name": "stdout",
     "output_type": "stream",
     "text": [
      "         DatabaseName SchemaName    TableName\n",
      "3290  GCPS_Operations        dbo  FeedTables \n"
     ]
    }
   ],
   "source": [
    "d = dfgcpsops0037[['DatabaseName', 'SchemaName','TableName']]#.format(z)\n",
    "d = d.drop_duplicates()\n",
    "e = d['DatabaseName'].values[0]\n",
    "f = d['SchemaName'].values[0]\n",
    "g = d['TableName'].values[0]\n",
    "print (d)\n",
    "FileName = ('GCPS_Ops_{}_{}'.format(f,g))\n",
    "\n",
    "fig = px.scatter(dfgcpsops0037, x = 'TodaysDate', y='RecordCount', size = 'RecordCount', color = 'RecordCount')#.format(z)\n",
    "fig.update_layout(title = '{0},{1},{2}'.format(e,f,g))\n",
    "fig.update_layout(yaxis_zeroline=False, xaxis_zeroline=False)\n",
    "fig.update_xaxes(title_font=dict(size=18, color='crimson'))\n",
    "fig.update_yaxes(title_font=dict(size=18, color='crimson'))\n",
    "fig.update_xaxes(ticks=\"inside\")\n",
    "fig.update_yaxes(ticks=\"inside\")\n",
    "fig.update_xaxes(tickangle=45, tickfont=dict(color='crimson', size=14))\n",
    "fig.update_xaxes(showline=True, linewidth=2, linecolor='black', mirror=True, gridcolor='Pink')\n",
    "fig.update_yaxes(showline=True, linewidth=2, linecolor='black', mirror=True, gridcolor='Red')\n",
    "#fig.show()\n",
    "fig.write_html(r'C:\\Users\\eeeeeeeeee\\Documents\\JupyterAnacondaPythonNotebooks\\Daily\\Charts_px\\GCPS_Ops\\{}.html'.format(FileName))\n",
    "plt.close()"
   ]
  },
  {
   "cell_type": "code",
   "execution_count": 54,
   "metadata": {},
   "outputs": [
    {
     "name": "stdout",
     "output_type": "stream",
     "text": [
      "         DatabaseName SchemaName                      TableName\n",
      "3384  GCPS_Operations        dbo  FeedTablesWithInsertStatement\n"
     ]
    }
   ],
   "source": [
    "d = dfgcpsops0038[['DatabaseName', 'SchemaName','TableName']]#.format(z)\n",
    "d = d.drop_duplicates()\n",
    "e = d['DatabaseName'].values[0]\n",
    "f = d['SchemaName'].values[0]\n",
    "g = d['TableName'].values[0]\n",
    "print (d)\n",
    "FileName = ('GCPS_Ops_{}_{}'.format(f,g))\n",
    "\n",
    "fig = px.scatter(dfgcpsops0038, x = 'TodaysDate', y='RecordCount', size = 'RecordCount', color = 'RecordCount')#.format(z)\n",
    "fig.update_layout(title = '{0},{1},{2}'.format(e,f,g))\n",
    "fig.update_layout(yaxis_zeroline=False, xaxis_zeroline=False)\n",
    "fig.update_xaxes(title_font=dict(size=18, color='crimson'))\n",
    "fig.update_yaxes(title_font=dict(size=18, color='crimson'))\n",
    "fig.update_xaxes(ticks=\"inside\")\n",
    "fig.update_yaxes(ticks=\"inside\")\n",
    "fig.update_xaxes(tickangle=45, tickfont=dict(color='crimson', size=14))\n",
    "fig.update_xaxes(showline=True, linewidth=2, linecolor='black', mirror=True, gridcolor='Pink')\n",
    "fig.update_yaxes(showline=True, linewidth=2, linecolor='black', mirror=True, gridcolor='Red')\n",
    "#fig.show()\n",
    "fig.write_html(r'C:\\Users\\eeeeeeeeee\\Documents\\JupyterAnacondaPythonNotebooks\\Daily\\Charts_px\\GCPS_Ops\\{}.html'.format(FileName))\n",
    "plt.close()"
   ]
  },
  {
   "cell_type": "code",
   "execution_count": 55,
   "metadata": {},
   "outputs": [
    {
     "name": "stdout",
     "output_type": "stream",
     "text": [
      "         DatabaseName SchemaName                          TableName\n",
      "4700  GCPS_Operations        dbo  MetricsCommon_SASI_MergeAllSource\n"
     ]
    }
   ],
   "source": [
    "d = dfgcpsops0039[['DatabaseName', 'SchemaName','TableName']]#.format(z)\n",
    "d = d.drop_duplicates()\n",
    "e = d['DatabaseName'].values[0]\n",
    "f = d['SchemaName'].values[0]\n",
    "g = d['TableName'].values[0]\n",
    "print (d)\n",
    "FileName = ('GCPS_Ops_{}_{}'.format(f,g))\n",
    "\n",
    "fig = px.scatter(dfgcpsops0039, x = 'TodaysDate', y='RecordCount', size = 'RecordCount', color = 'RecordCount')#.format(z)\n",
    "fig.update_layout(title = '{0},{1},{2}'.format(e,f,g))\n",
    "fig.update_layout(yaxis_zeroline=False, xaxis_zeroline=False)\n",
    "fig.update_xaxes(title_font=dict(size=18, color='crimson'))\n",
    "fig.update_yaxes(title_font=dict(size=18, color='crimson'))\n",
    "fig.update_xaxes(ticks=\"inside\")\n",
    "fig.update_yaxes(ticks=\"inside\")\n",
    "fig.update_xaxes(tickangle=45, tickfont=dict(color='crimson', size=14))\n",
    "fig.update_xaxes(showline=True, linewidth=2, linecolor='black', mirror=True, gridcolor='Pink')\n",
    "fig.update_yaxes(showline=True, linewidth=2, linecolor='black', mirror=True, gridcolor='Red')\n",
    "#fig.show()\n",
    "fig.write_html(r'C:\\Users\\eeeeeeeeee\\Documents\\JupyterAnacondaPythonNotebooks\\Daily\\Charts_px\\GCPS_Ops\\{}.html'.format(FileName))\n",
    "plt.close()"
   ]
  },
  {
   "cell_type": "code",
   "execution_count": 56,
   "metadata": {},
   "outputs": [
    {
     "name": "stdout",
     "output_type": "stream",
     "text": [
      "         DatabaseName SchemaName                            TableName\n",
      "5076  GCPS_Operations        dbo  MetricsDatamart_SASI_MergeAllSource\n"
     ]
    }
   ],
   "source": [
    "d = dfgcpsops0040[['DatabaseName', 'SchemaName','TableName']]#.format(z)\n",
    "d = d.drop_duplicates()\n",
    "e = d['DatabaseName'].values[0]\n",
    "f = d['SchemaName'].values[0]\n",
    "g = d['TableName'].values[0]\n",
    "print (d)\n",
    "FileName = ('GCPS_Ops_{}_{}'.format(f,g))\n",
    "\n",
    "fig = px.scatter(dfgcpsops0040, x = 'TodaysDate', y='RecordCount', size = 'RecordCount', color = 'RecordCount')#.format(z)\n",
    "fig.update_layout(title = '{0},{1},{2}'.format(e,f,g))\n",
    "fig.update_layout(yaxis_zeroline=False, xaxis_zeroline=False)\n",
    "fig.update_xaxes(title_font=dict(size=18, color='crimson'))\n",
    "fig.update_yaxes(title_font=dict(size=18, color='crimson'))\n",
    "fig.update_xaxes(ticks=\"inside\")\n",
    "fig.update_yaxes(ticks=\"inside\")\n",
    "fig.update_xaxes(tickangle=45, tickfont=dict(color='crimson', size=14))\n",
    "fig.update_xaxes(showline=True, linewidth=2, linecolor='black', mirror=True, gridcolor='Pink')\n",
    "fig.update_yaxes(showline=True, linewidth=2, linecolor='black', mirror=True, gridcolor='Red')\n",
    "#fig.show()\n",
    "fig.write_html(r'C:\\Users\\eeeeeeeeee\\Documents\\JupyterAnacondaPythonNotebooks\\Daily\\Charts_px\\GCPS_Ops\\{}.html'.format(FileName))\n",
    "plt.close()"
   ]
  },
  {
   "cell_type": "code",
   "execution_count": 57,
   "metadata": {},
   "outputs": [
    {
     "name": "stdout",
     "output_type": "stream",
     "text": [
      "         DatabaseName SchemaName                TableName\n",
      "4794  GCPS_Operations        dbo  MetricsDatamartMergeAll\n"
     ]
    }
   ],
   "source": [
    "d = dfgcpsops0041[['DatabaseName', 'SchemaName','TableName']]#.format(z)\n",
    "d = d.drop_duplicates()\n",
    "e = d['DatabaseName'].values[0]\n",
    "f = d['SchemaName'].values[0]\n",
    "g = d['TableName'].values[0]\n",
    "print (d)\n",
    "FileName = ('GCPS_Ops_{}_{}'.format(f,g))\n",
    "\n",
    "fig = px.scatter(dfgcpsops0041, x = 'TodaysDate', y='RecordCount', size = 'RecordCount', color = 'RecordCount')#.format(z)\n",
    "fig.update_layout(title = '{0},{1},{2}'.format(e,f,g))\n",
    "fig.update_layout(yaxis_zeroline=False, xaxis_zeroline=False)\n",
    "fig.update_xaxes(title_font=dict(size=18, color='crimson'))\n",
    "fig.update_yaxes(title_font=dict(size=18, color='crimson'))\n",
    "fig.update_xaxes(ticks=\"inside\")\n",
    "fig.update_yaxes(ticks=\"inside\")\n",
    "fig.update_xaxes(tickangle=45, tickfont=dict(color='crimson', size=14))\n",
    "fig.update_xaxes(showline=True, linewidth=2, linecolor='black', mirror=True, gridcolor='Pink')\n",
    "fig.update_yaxes(showline=True, linewidth=2, linecolor='black', mirror=True, gridcolor='Red')\n",
    "#fig.show()\n",
    "fig.write_html(r'C:\\Users\\eeeeeeeeee\\Documents\\JupyterAnacondaPythonNotebooks\\Daily\\Charts_px\\GCPS_Ops\\{}.html'.format(FileName))\n",
    "plt.close()"
   ]
  },
  {
   "cell_type": "code",
   "execution_count": 58,
   "metadata": {},
   "outputs": [
    {
     "name": "stdout",
     "output_type": "stream",
     "text": [
      "         DatabaseName SchemaName                       TableName\n",
      "4888  GCPS_Operations        dbo  MetricsDatamartMergeAllDetails\n"
     ]
    }
   ],
   "source": [
    "d = dfgcpsops0042[['DatabaseName', 'SchemaName','TableName']]#.format(z)\n",
    "d = d.drop_duplicates()\n",
    "e = d['DatabaseName'].values[0]\n",
    "f = d['SchemaName'].values[0]\n",
    "g = d['TableName'].values[0]\n",
    "print (d)\n",
    "FileName = ('GCPS_Ops_{}_{}'.format(f,g))\n",
    "\n",
    "fig = px.scatter(dfgcpsops0042, x = 'TodaysDate', y='RecordCount', size = 'RecordCount', color = 'RecordCount')#.format(z)\n",
    "fig.update_layout(title = '{0},{1},{2}'.format(e,f,g))\n",
    "fig.update_layout(yaxis_zeroline=False, xaxis_zeroline=False)\n",
    "fig.update_xaxes(title_font=dict(size=18, color='crimson'))\n",
    "fig.update_yaxes(title_font=dict(size=18, color='crimson'))\n",
    "fig.update_xaxes(ticks=\"inside\")\n",
    "fig.update_yaxes(ticks=\"inside\")\n",
    "fig.update_xaxes(tickangle=45, tickfont=dict(color='crimson', size=14))\n",
    "fig.update_xaxes(showline=True, linewidth=2, linecolor='black', mirror=True, gridcolor='Pink')\n",
    "fig.update_yaxes(showline=True, linewidth=2, linecolor='black', mirror=True, gridcolor='Red')\n",
    "#fig.show()\n",
    "fig.write_html(r'C:\\Users\\eeeeeeeeee\\Documents\\JupyterAnacondaPythonNotebooks\\Daily\\Charts_px\\GCPS_Ops\\{}.html'.format(FileName))\n",
    "plt.close()"
   ]
  },
  {
   "cell_type": "code",
   "execution_count": 59,
   "metadata": {},
   "outputs": [
    {
     "name": "stdout",
     "output_type": "stream",
     "text": [
      "         DatabaseName SchemaName                      TableName\n",
      "4982  GCPS_Operations        dbo  MetricsDatamartMergeAllSource\n"
     ]
    }
   ],
   "source": [
    "d = dfgcpsops0043[['DatabaseName', 'SchemaName','TableName']]#.format(z)\n",
    "d = d.drop_duplicates()\n",
    "e = d['DatabaseName'].values[0]\n",
    "f = d['SchemaName'].values[0]\n",
    "g = d['TableName'].values[0]\n",
    "print (d)\n",
    "FileName = ('GCPS_Ops_{}_{}'.format(f,g))\n",
    "\n",
    "fig = px.scatter(dfgcpsops0043, x = 'TodaysDate', y='RecordCount', size = 'RecordCount', color = 'RecordCount')#.format(z)\n",
    "fig.update_layout(title = '{0},{1},{2}'.format(e,f,g))\n",
    "fig.update_layout(yaxis_zeroline=False, xaxis_zeroline=False)\n",
    "fig.update_xaxes(title_font=dict(size=18, color='crimson'))\n",
    "fig.update_yaxes(title_font=dict(size=18, color='crimson'))\n",
    "fig.update_xaxes(ticks=\"inside\")\n",
    "fig.update_yaxes(ticks=\"inside\")\n",
    "fig.update_xaxes(tickangle=45, tickfont=dict(color='crimson', size=14))\n",
    "fig.update_xaxes(showline=True, linewidth=2, linecolor='black', mirror=True, gridcolor='Pink')\n",
    "fig.update_yaxes(showline=True, linewidth=2, linecolor='black', mirror=True, gridcolor='Red')\n",
    "#fig.show()\n",
    "fig.write_html(r'C:\\Users\\eeeeeeeeee\\Documents\\JupyterAnacondaPythonNotebooks\\Daily\\Charts_px\\GCPS_Ops\\{}.html'.format(FileName))\n",
    "plt.close()"
   ]
  },
  {
   "cell_type": "code",
   "execution_count": 60,
   "metadata": {},
   "outputs": [
    {
     "name": "stdout",
     "output_type": "stream",
     "text": [
      "         DatabaseName SchemaName          TableName\n",
      "5264  GCPS_Operations        dbo  NotificationQueue\n"
     ]
    }
   ],
   "source": [
    "d = dfgcpsops0044[['DatabaseName', 'SchemaName','TableName']]#.format(z)\n",
    "d = d.drop_duplicates()\n",
    "e = d['DatabaseName'].values[0]\n",
    "f = d['SchemaName'].values[0]\n",
    "g = d['TableName'].values[0]\n",
    "print (d)\n",
    "FileName = ('GCPS_Ops_{}_{}'.format(f,g))\n",
    "\n",
    "fig = px.scatter(dfgcpsops0044, x = 'TodaysDate', y='RecordCount', size = 'RecordCount', color = 'RecordCount')#.format(z)\n",
    "fig.update_layout(title = '{0},{1},{2}'.format(e,f,g))\n",
    "fig.update_layout(yaxis_zeroline=False, xaxis_zeroline=False)\n",
    "fig.update_xaxes(title_font=dict(size=18, color='crimson'))\n",
    "fig.update_yaxes(title_font=dict(size=18, color='crimson'))\n",
    "fig.update_xaxes(ticks=\"inside\")\n",
    "fig.update_yaxes(ticks=\"inside\")\n",
    "fig.update_xaxes(tickangle=45, tickfont=dict(color='crimson', size=14))\n",
    "fig.update_xaxes(showline=True, linewidth=2, linecolor='black', mirror=True, gridcolor='Pink')\n",
    "fig.update_yaxes(showline=True, linewidth=2, linecolor='black', mirror=True, gridcolor='Red')\n",
    "#fig.show()\n",
    "fig.write_html(r'C:\\Users\\eeeeeeeeee\\Documents\\JupyterAnacondaPythonNotebooks\\Daily\\Charts_px\\GCPS_Ops\\{}.html'.format(FileName))\n",
    "plt.close()"
   ]
  },
  {
   "cell_type": "code",
   "execution_count": 61,
   "metadata": {},
   "outputs": [
    {
     "name": "stdout",
     "output_type": "stream",
     "text": [
      "         DatabaseName SchemaName                              TableName\n",
      "8272  GCPS_Operations        dbo  op_Common_Lookups_EmptyGUIDPopulation\n"
     ]
    }
   ],
   "source": [
    "d = dfgcpsops0045[['DatabaseName', 'SchemaName','TableName']]#.format(z)\n",
    "d = d.drop_duplicates()\n",
    "e = d['DatabaseName'].values[0]\n",
    "f = d['SchemaName'].values[0]\n",
    "g = d['TableName'].values[0]\n",
    "print (d)\n",
    "FileName = ('GCPS_Ops_{}_{}'.format(f,g))\n",
    "\n",
    "fig = px.scatter(dfgcpsops0045, x = 'TodaysDate', y='RecordCount', size = 'RecordCount', color = 'RecordCount')#.format(z)\n",
    "fig.update_layout(title = '{0},{1},{2}'.format(e,f,g))\n",
    "fig.update_layout(yaxis_zeroline=False, xaxis_zeroline=False)\n",
    "fig.update_xaxes(title_font=dict(size=18, color='crimson'))\n",
    "fig.update_yaxes(title_font=dict(size=18, color='crimson'))\n",
    "fig.update_xaxes(ticks=\"inside\")\n",
    "fig.update_yaxes(ticks=\"inside\")\n",
    "fig.update_xaxes(tickangle=45, tickfont=dict(color='crimson', size=14))\n",
    "fig.update_xaxes(showline=True, linewidth=2, linecolor='black', mirror=True, gridcolor='Pink')\n",
    "fig.update_yaxes(showline=True, linewidth=2, linecolor='black', mirror=True, gridcolor='Red')\n",
    "#fig.show()\n",
    "fig.write_html(r'C:\\Users\\eeeeeeeeee\\Documents\\JupyterAnacondaPythonNotebooks\\Daily\\Charts_px\\GCPS_Ops\\{}.html'.format(FileName))\n",
    "plt.close()"
   ]
  },
  {
   "cell_type": "code",
   "execution_count": 62,
   "metadata": {},
   "outputs": [
    {
     "name": "stdout",
     "output_type": "stream",
     "text": [
      "         DatabaseName SchemaName              TableName\n",
      "8366  GCPS_Operations        dbo  op_FactDetails_Values\n"
     ]
    }
   ],
   "source": [
    "d = dfgcpsops0046[['DatabaseName', 'SchemaName','TableName']]#.format(z)\n",
    "d = d.drop_duplicates()\n",
    "e = d['DatabaseName'].values[0]\n",
    "f = d['SchemaName'].values[0]\n",
    "g = d['TableName'].values[0]\n",
    "print (d)\n",
    "FileName = ('GCPS_Ops_{}_{}'.format(f,g))\n",
    "\n",
    "fig = px.scatter(dfgcpsops0046, x = 'TodaysDate', y='RecordCount', size = 'RecordCount', color = 'RecordCount')#.format(z)\n",
    "fig.update_layout(title = '{0},{1},{2}'.format(e,f,g))\n",
    "fig.update_layout(yaxis_zeroline=False, xaxis_zeroline=False)\n",
    "fig.update_xaxes(title_font=dict(size=18, color='crimson'))\n",
    "fig.update_yaxes(title_font=dict(size=18, color='crimson'))\n",
    "fig.update_xaxes(ticks=\"inside\")\n",
    "fig.update_yaxes(ticks=\"inside\")\n",
    "fig.update_xaxes(tickangle=45, tickfont=dict(color='crimson', size=14))\n",
    "fig.update_xaxes(showline=True, linewidth=2, linecolor='black', mirror=True, gridcolor='Pink')\n",
    "fig.update_yaxes(showline=True, linewidth=2, linecolor='black', mirror=True, gridcolor='Red')\n",
    "#fig.show()\n",
    "fig.write_html(r'C:\\Users\\eeeeeeeeee\\Documents\\JupyterAnacondaPythonNotebooks\\Daily\\Charts_px\\GCPS_Ops\\{}.html'.format(FileName))\n",
    "plt.close()"
   ]
  },
  {
   "cell_type": "code",
   "execution_count": 63,
   "metadata": {},
   "outputs": [
    {
     "name": "stdout",
     "output_type": "stream",
     "text": [
      "         DatabaseName SchemaName                    TableName\n",
      "8460  GCPS_Operations        dbo  op_FactDetails_Values_Clean\n"
     ]
    }
   ],
   "source": [
    "d = dfgcpsops0047[['DatabaseName', 'SchemaName','TableName']]#.format(z)\n",
    "d = d.drop_duplicates()\n",
    "e = d['DatabaseName'].values[0]\n",
    "f = d['SchemaName'].values[0]\n",
    "g = d['TableName'].values[0]\n",
    "print (d)\n",
    "FileName = ('GCPS_Ops_{}_{}'.format(f,g))\n",
    "\n",
    "fig = px.scatter(dfgcpsops0047, x = 'TodaysDate', y='RecordCount', size = 'RecordCount', color = 'RecordCount')#.format(z)\n",
    "fig.update_layout(title = '{0},{1},{2}'.format(e,f,g))\n",
    "fig.update_layout(yaxis_zeroline=False, xaxis_zeroline=False)\n",
    "fig.update_xaxes(title_font=dict(size=18, color='crimson'))\n",
    "fig.update_yaxes(title_font=dict(size=18, color='crimson'))\n",
    "fig.update_xaxes(ticks=\"inside\")\n",
    "fig.update_yaxes(ticks=\"inside\")\n",
    "fig.update_xaxes(tickangle=45, tickfont=dict(color='crimson', size=14))\n",
    "fig.update_xaxes(showline=True, linewidth=2, linecolor='black', mirror=True, gridcolor='Pink')\n",
    "fig.update_yaxes(showline=True, linewidth=2, linecolor='black', mirror=True, gridcolor='Red')\n",
    "#fig.show()\n",
    "fig.write_html(r'C:\\Users\\eeeeeeeeee\\Documents\\JupyterAnacondaPythonNotebooks\\Daily\\Charts_px\\GCPS_Ops\\{}.html'.format(FileName))\n",
    "plt.close()"
   ]
  },
  {
   "cell_type": "code",
   "execution_count": 64,
   "metadata": {},
   "outputs": [
    {
     "name": "stdout",
     "output_type": "stream",
     "text": [
      "         DatabaseName SchemaName                         TableName\n",
      "8554  GCPS_Operations        dbo  op_FactDetails_Values_Clean_SASI\n"
     ]
    }
   ],
   "source": [
    "d = dfgcpsops0048[['DatabaseName', 'SchemaName','TableName']]#.format(z)\n",
    "d = d.drop_duplicates()\n",
    "e = d['DatabaseName'].values[0]\n",
    "f = d['SchemaName'].values[0]\n",
    "g = d['TableName'].values[0]\n",
    "print (d)\n",
    "FileName = ('GCPS_Ops_{}_{}'.format(f,g))\n",
    "\n",
    "fig = px.scatter(dfgcpsops0048, x = 'TodaysDate', y='RecordCount', size = 'RecordCount', color = 'RecordCount')#.format(z)\n",
    "fig.update_layout(title = '{0},{1},{2}'.format(e,f,g))\n",
    "fig.update_layout(yaxis_zeroline=False, xaxis_zeroline=False)\n",
    "fig.update_xaxes(title_font=dict(size=18, color='crimson'))\n",
    "fig.update_yaxes(title_font=dict(size=18, color='crimson'))\n",
    "fig.update_xaxes(ticks=\"inside\")\n",
    "fig.update_yaxes(ticks=\"inside\")\n",
    "fig.update_xaxes(tickangle=45, tickfont=dict(color='crimson', size=14))\n",
    "fig.update_xaxes(showline=True, linewidth=2, linecolor='black', mirror=True, gridcolor='Pink')\n",
    "fig.update_yaxes(showline=True, linewidth=2, linecolor='black', mirror=True, gridcolor='Red')\n",
    "#fig.show()\n",
    "fig.write_html(r'C:\\Users\\eeeeeeeeee\\Documents\\JupyterAnacondaPythonNotebooks\\Daily\\Charts_px\\GCPS_Ops\\{}.html'.format(FileName))\n",
    "plt.close()"
   ]
  },
  {
   "cell_type": "code",
   "execution_count": 65,
   "metadata": {},
   "outputs": [
    {
     "name": "stdout",
     "output_type": "stream",
     "text": [
      "         DatabaseName SchemaName      TableName\n",
      "8648  GCPS_Operations        dbo  op_FactLookup\n"
     ]
    }
   ],
   "source": [
    "d = dfgcpsops0049[['DatabaseName', 'SchemaName','TableName']]#.format(z)\n",
    "d = d.drop_duplicates()\n",
    "e = d['DatabaseName'].values[0]\n",
    "f = d['SchemaName'].values[0]\n",
    "g = d['TableName'].values[0]\n",
    "print (d)\n",
    "FileName = ('GCPS_Ops_{}_{}'.format(f,g))\n",
    "\n",
    "fig = px.scatter(dfgcpsops0049, x = 'TodaysDate', y='RecordCount', size = 'RecordCount', color = 'RecordCount')#.format(z)\n",
    "fig.update_layout(title = '{0},{1},{2}'.format(e,f,g))\n",
    "fig.update_layout(yaxis_zeroline=False, xaxis_zeroline=False)\n",
    "fig.update_xaxes(title_font=dict(size=18, color='crimson'))\n",
    "fig.update_yaxes(title_font=dict(size=18, color='crimson'))\n",
    "fig.update_xaxes(ticks=\"inside\")\n",
    "fig.update_yaxes(ticks=\"inside\")\n",
    "fig.update_xaxes(tickangle=45, tickfont=dict(color='crimson', size=14))\n",
    "fig.update_xaxes(showline=True, linewidth=2, linecolor='black', mirror=True, gridcolor='Pink')\n",
    "fig.update_yaxes(showline=True, linewidth=2, linecolor='black', mirror=True, gridcolor='Red')\n",
    "#fig.show()\n",
    "fig.write_html(r'C:\\Users\\eeeeeeeeee\\Documents\\JupyterAnacondaPythonNotebooks\\Daily\\Charts_px\\GCPS_Ops\\{}.html'.format(FileName))\n",
    "plt.close()"
   ]
  },
  {
   "cell_type": "code",
   "execution_count": 66,
   "metadata": {},
   "outputs": [
    {
     "name": "stdout",
     "output_type": "stream",
     "text": [
      "         DatabaseName SchemaName             TableName\n",
      "8742  GCPS_Operations        dbo  op_FactSourceExclude\n"
     ]
    }
   ],
   "source": [
    "d = dfgcpsops0050[['DatabaseName', 'SchemaName','TableName']]#.format(z)\n",
    "d = d.drop_duplicates()\n",
    "e = d['DatabaseName'].values[0]\n",
    "f = d['SchemaName'].values[0]\n",
    "g = d['TableName'].values[0]\n",
    "print (d)\n",
    "FileName = ('GCPS_Ops_{}_{}'.format(f,g))\n",
    "\n",
    "fig = px.scatter(dfgcpsops0050, x = 'TodaysDate', y='RecordCount', size = 'RecordCount', color = 'RecordCount')#.format(z)\n",
    "fig.update_layout(title = '{0},{1},{2}'.format(e,f,g))\n",
    "fig.update_layout(yaxis_zeroline=False, xaxis_zeroline=False)\n",
    "fig.update_xaxes(title_font=dict(size=18, color='crimson'))\n",
    "fig.update_yaxes(title_font=dict(size=18, color='crimson'))\n",
    "fig.update_xaxes(ticks=\"inside\")\n",
    "fig.update_yaxes(ticks=\"inside\")\n",
    "fig.update_xaxes(tickangle=45, tickfont=dict(color='crimson', size=14))\n",
    "fig.update_xaxes(showline=True, linewidth=2, linecolor='black', mirror=True, gridcolor='Pink')\n",
    "fig.update_yaxes(showline=True, linewidth=2, linecolor='black', mirror=True, gridcolor='Red')\n",
    "#fig.show()\n",
    "fig.write_html(r'C:\\Users\\eeeeeeeeee\\Documents\\JupyterAnacondaPythonNotebooks\\Daily\\Charts_px\\GCPS_Ops\\{}.html'.format(FileName))\n",
    "plt.close()"
   ]
  },
  {
   "cell_type": "code",
   "execution_count": 67,
   "metadata": {},
   "outputs": [
    {
     "name": "stdout",
     "output_type": "stream",
     "text": [
      "         DatabaseName SchemaName       TableName\n",
      "8836  GCPS_Operations        dbo  op_FactSources\n"
     ]
    }
   ],
   "source": [
    "d = dfgcpsops0051[['DatabaseName', 'SchemaName','TableName']]#.format(z)\n",
    "d = d.drop_duplicates()\n",
    "e = d['DatabaseName'].values[0]\n",
    "f = d['SchemaName'].values[0]\n",
    "g = d['TableName'].values[0]\n",
    "print (d)\n",
    "FileName = ('GCPS_Ops_{}_{}'.format(f,g))\n",
    "\n",
    "fig = px.scatter(dfgcpsops0051, x = 'TodaysDate', y='RecordCount', size = 'RecordCount', color = 'RecordCount')#.format(z)\n",
    "fig.update_layout(title = '{0},{1},{2}'.format(e,f,g))\n",
    "fig.update_layout(yaxis_zeroline=False, xaxis_zeroline=False)\n",
    "fig.update_xaxes(title_font=dict(size=18, color='crimson'))\n",
    "fig.update_yaxes(title_font=dict(size=18, color='crimson'))\n",
    "fig.update_xaxes(ticks=\"inside\")\n",
    "fig.update_yaxes(ticks=\"inside\")\n",
    "fig.update_xaxes(tickangle=45, tickfont=dict(color='crimson', size=14))\n",
    "fig.update_xaxes(showline=True, linewidth=2, linecolor='black', mirror=True, gridcolor='Pink')\n",
    "fig.update_yaxes(showline=True, linewidth=2, linecolor='black', mirror=True, gridcolor='Red')\n",
    "#fig.show()\n",
    "fig.write_html(r'C:\\Users\\eeeeeeeeee\\Documents\\JupyterAnacondaPythonNotebooks\\Daily\\Charts_px\\GCPS_Ops\\{}.html'.format(FileName))\n",
    "plt.close()"
   ]
  },
  {
   "cell_type": "code",
   "execution_count": 68,
   "metadata": {},
   "outputs": [
    {
     "name": "stdout",
     "output_type": "stream",
     "text": [
      "         DatabaseName SchemaName         TableName\n",
      "8930  GCPS_Operations        dbo  op_FactTblCounts\n"
     ]
    }
   ],
   "source": [
    "d = dfgcpsops0052[['DatabaseName', 'SchemaName','TableName']]#.format(z)\n",
    "d = d.drop_duplicates()\n",
    "e = d['DatabaseName'].values[0]\n",
    "f = d['SchemaName'].values[0]\n",
    "g = d['TableName'].values[0]\n",
    "print (d)\n",
    "FileName = ('GCPS_Ops_{}_{}'.format(f,g))\n",
    "\n",
    "fig = px.scatter(dfgcpsops0052, x = 'TodaysDate', y='RecordCount', size = 'RecordCount', color = 'RecordCount')#.format(z)\n",
    "fig.update_layout(title = '{0},{1},{2}'.format(e,f,g))\n",
    "fig.update_layout(yaxis_zeroline=False, xaxis_zeroline=False)\n",
    "fig.update_xaxes(title_font=dict(size=18, color='crimson'))\n",
    "fig.update_yaxes(title_font=dict(size=18, color='crimson'))\n",
    "fig.update_xaxes(ticks=\"inside\")\n",
    "fig.update_yaxes(ticks=\"inside\")\n",
    "fig.update_xaxes(tickangle=45, tickfont=dict(color='crimson', size=14))\n",
    "fig.update_xaxes(showline=True, linewidth=2, linecolor='black', mirror=True, gridcolor='Pink')\n",
    "fig.update_yaxes(showline=True, linewidth=2, linecolor='black', mirror=True, gridcolor='Red')\n",
    "#fig.show()\n",
    "fig.write_html(r'C:\\Users\\eeeeeeeeee\\Documents\\JupyterAnacondaPythonNotebooks\\Daily\\Charts_px\\GCPS_Ops\\{}.html'.format(FileName))\n",
    "plt.close()"
   ]
  },
  {
   "cell_type": "code",
   "execution_count": 69,
   "metadata": {},
   "outputs": [
    {
     "name": "stdout",
     "output_type": "stream",
     "text": [
      "         DatabaseName SchemaName TableName\n",
      "7520  GCPS_Operations        dbo    Source\n"
     ]
    }
   ],
   "source": [
    "d = dfgcpsops0053[['DatabaseName', 'SchemaName','TableName']]#.format(z)\n",
    "d = d.drop_duplicates()\n",
    "e = d['DatabaseName'].values[0]\n",
    "f = d['SchemaName'].values[0]\n",
    "g = d['TableName'].values[0]\n",
    "print (d)\n",
    "FileName = ('GCPS_Ops_{}_{}'.format(f,g))\n",
    "\n",
    "fig = px.scatter(dfgcpsops0053, x = 'TodaysDate', y='RecordCount', size = 'RecordCount', color = 'RecordCount')#.format(z)\n",
    "fig.update_layout(title = '{0},{1},{2}'.format(e,f,g))\n",
    "fig.update_layout(yaxis_zeroline=False, xaxis_zeroline=False)\n",
    "fig.update_xaxes(title_font=dict(size=18, color='crimson'))\n",
    "fig.update_yaxes(title_font=dict(size=18, color='crimson'))\n",
    "fig.update_xaxes(ticks=\"inside\")\n",
    "fig.update_yaxes(ticks=\"inside\")\n",
    "fig.update_xaxes(tickangle=45, tickfont=dict(color='crimson', size=14))\n",
    "fig.update_xaxes(showline=True, linewidth=2, linecolor='black', mirror=True, gridcolor='Pink')\n",
    "fig.update_yaxes(showline=True, linewidth=2, linecolor='black', mirror=True, gridcolor='Red')\n",
    "#fig.show()\n",
    "fig.write_html(r'C:\\Users\\eeeeeeeeee\\Documents\\JupyterAnacondaPythonNotebooks\\Daily\\Charts_px\\GCPS_Ops\\{}.html'.format(FileName))\n",
    "plt.close()"
   ]
  },
  {
   "cell_type": "code",
   "execution_count": 70,
   "metadata": {},
   "outputs": [
    {
     "name": "stdout",
     "output_type": "stream",
     "text": [
      "         DatabaseName SchemaName      TableName\n",
      "7614  GCPS_Operations        dbo  SourceDataset\n"
     ]
    }
   ],
   "source": [
    "d = dfgcpsops0054[['DatabaseName', 'SchemaName','TableName']]#.format(z)\n",
    "d = d.drop_duplicates()\n",
    "e = d['DatabaseName'].values[0]\n",
    "f = d['SchemaName'].values[0]\n",
    "g = d['TableName'].values[0]\n",
    "print (d)\n",
    "FileName = ('GCPS_Ops_{}_{}'.format(f,g))\n",
    "\n",
    "fig = px.scatter(dfgcpsops0054, x = 'TodaysDate', y='RecordCount', size = 'RecordCount', color = 'RecordCount')#.format(z)\n",
    "fig.update_layout(title = '{0},{1},{2}'.format(e,f,g))\n",
    "fig.update_layout(yaxis_zeroline=False, xaxis_zeroline=False)\n",
    "fig.update_xaxes(title_font=dict(size=18, color='crimson'))\n",
    "fig.update_yaxes(title_font=dict(size=18, color='crimson'))\n",
    "fig.update_xaxes(ticks=\"inside\")\n",
    "fig.update_yaxes(ticks=\"inside\")\n",
    "fig.update_xaxes(tickangle=45, tickfont=dict(color='crimson', size=14))\n",
    "fig.update_xaxes(showline=True, linewidth=2, linecolor='black', mirror=True, gridcolor='Pink')\n",
    "fig.update_yaxes(showline=True, linewidth=2, linecolor='black', mirror=True, gridcolor='Red')\n",
    "#fig.show()\n",
    "fig.write_html(r'C:\\Users\\eeeeeeeeee\\Documents\\JupyterAnacondaPythonNotebooks\\Daily\\Charts_px\\GCPS_Ops\\{}.html'.format(FileName))\n",
    "plt.close()"
   ]
  },
  {
   "cell_type": "code",
   "execution_count": 71,
   "metadata": {},
   "outputs": [
    {
     "name": "stdout",
     "output_type": "stream",
     "text": [
      "         DatabaseName SchemaName            TableName\n",
      "6486  GCPS_Operations        dbo  SSIS Configurations\n"
     ]
    }
   ],
   "source": [
    "d = dfgcpsops0055[['DatabaseName', 'SchemaName','TableName']]#.format(z)\n",
    "d = d.drop_duplicates()\n",
    "e = d['DatabaseName'].values[0]\n",
    "f = d['SchemaName'].values[0]\n",
    "g = d['TableName'].values[0]\n",
    "print (d)\n",
    "FileName = ('GCPS_Ops_{}_{}'.format(f,g))\n",
    "\n",
    "fig = px.scatter(dfgcpsops0055, x = 'TodaysDate', y='RecordCount', size = 'RecordCount', color = 'RecordCount')#.format(z)\n",
    "fig.update_layout(title = '{0},{1},{2}'.format(e,f,g))\n",
    "fig.update_layout(yaxis_zeroline=False, xaxis_zeroline=False)\n",
    "fig.update_xaxes(title_font=dict(size=18, color='crimson'))\n",
    "fig.update_yaxes(title_font=dict(size=18, color='crimson'))\n",
    "fig.update_xaxes(ticks=\"inside\")\n",
    "fig.update_yaxes(ticks=\"inside\")\n",
    "fig.update_xaxes(tickangle=45, tickfont=dict(color='crimson', size=14))\n",
    "fig.update_xaxes(showline=True, linewidth=2, linecolor='black', mirror=True, gridcolor='Pink')\n",
    "fig.update_yaxes(showline=True, linewidth=2, linecolor='black', mirror=True, gridcolor='Red')\n",
    "#fig.show()\n",
    "fig.write_html(r'C:\\Users\\eeeeeeeeee\\Documents\\JupyterAnacondaPythonNotebooks\\Daily\\Charts_px\\GCPS_Ops\\{}.html'.format(FileName))\n",
    "plt.close()"
   ]
  },
  {
   "cell_type": "code",
   "execution_count": 72,
   "metadata": {},
   "outputs": [
    {
     "name": "stdout",
     "output_type": "stream",
     "text": [
      "         DatabaseName SchemaName                                   TableName\n",
      "7802  GCPS_Operations        dbo  Student Assessment Tables on zOS 4-21-2009\n"
     ]
    }
   ],
   "source": [
    "d = dfgcpsops0056[['DatabaseName', 'SchemaName','TableName']]#.format(z)\n",
    "d = d.drop_duplicates()\n",
    "e = d['DatabaseName'].values[0]\n",
    "f = d['SchemaName'].values[0]\n",
    "g = d['TableName'].values[0]\n",
    "print (d)\n",
    "FileName = ('GCPS_Ops_{}_{}'.format(f,g))\n",
    "\n",
    "fig = px.scatter(dfgcpsops0056, x = 'TodaysDate', y='RecordCount', size = 'RecordCount', color = 'RecordCount')#.format(z)\n",
    "fig.update_layout(title = '{0},{1},{2}'.format(e,f,g))\n",
    "fig.update_layout(yaxis_zeroline=False, xaxis_zeroline=False)\n",
    "fig.update_xaxes(title_font=dict(size=18, color='crimson'))\n",
    "fig.update_yaxes(title_font=dict(size=18, color='crimson'))\n",
    "fig.update_xaxes(ticks=\"inside\")\n",
    "fig.update_yaxes(ticks=\"inside\")\n",
    "fig.update_xaxes(tickangle=45, tickfont=dict(color='crimson', size=14))\n",
    "fig.update_xaxes(showline=True, linewidth=2, linecolor='black', mirror=True, gridcolor='Pink')\n",
    "fig.update_yaxes(showline=True, linewidth=2, linecolor='black', mirror=True, gridcolor='Red')\n",
    "#fig.show()\n",
    "fig.write_html(r'C:\\Users\\eeeeeeeeee\\Documents\\JupyterAnacondaPythonNotebooks\\Daily\\Charts_px\\GCPS_Ops\\{}.html'.format(FileName))\n",
    "plt.close()"
   ]
  },
  {
   "cell_type": "code",
   "execution_count": 73,
   "metadata": {},
   "outputs": [
    {
     "name": "stdout",
     "output_type": "stream",
     "text": [
      "         DatabaseName SchemaName                TableName\n",
      "6862  GCPS_Operations        dbo  STUDENT_GUARDIAN_LOOKUP\n"
     ]
    }
   ],
   "source": [
    "d = dfgcpsops0057[['DatabaseName', 'SchemaName','TableName']]#.format(z)\n",
    "d = d.drop_duplicates()\n",
    "e = d['DatabaseName'].values[0]\n",
    "f = d['SchemaName'].values[0]\n",
    "g = d['TableName'].values[0]\n",
    "print (d)\n",
    "FileName = ('GCPS_Ops_{}_{}'.format(f,g))\n",
    "\n",
    "fig = px.scatter(dfgcpsops0057, x = 'TodaysDate', y='RecordCount', size = 'RecordCount', color = 'RecordCount')#.format(z)\n",
    "fig.update_layout(title = '{0},{1},{2}'.format(e,f,g))\n",
    "fig.update_layout(yaxis_zeroline=False, xaxis_zeroline=False)\n",
    "fig.update_xaxes(title_font=dict(size=18, color='crimson'))\n",
    "fig.update_yaxes(title_font=dict(size=18, color='crimson'))\n",
    "fig.update_xaxes(ticks=\"inside\")\n",
    "fig.update_yaxes(ticks=\"inside\")\n",
    "fig.update_xaxes(tickangle=45, tickfont=dict(color='crimson', size=14))\n",
    "fig.update_xaxes(showline=True, linewidth=2, linecolor='black', mirror=True, gridcolor='Pink')\n",
    "fig.update_yaxes(showline=True, linewidth=2, linecolor='black', mirror=True, gridcolor='Red')\n",
    "#fig.show()\n",
    "fig.write_html(r'C:\\Users\\eeeeeeeeee\\Documents\\JupyterAnacondaPythonNotebooks\\Daily\\Charts_px\\GCPS_Ops\\{}.html'.format(FileName))\n",
    "plt.close()"
   ]
  },
  {
   "cell_type": "code",
   "execution_count": 74,
   "metadata": {},
   "outputs": [
    {
     "name": "stdout",
     "output_type": "stream",
     "text": [
      "         DatabaseName SchemaName    TableName\n",
      "9024  GCPS_Operations        dbo  sysdiagrams\n"
     ]
    }
   ],
   "source": [
    "d = dfgcpsops0058[['DatabaseName', 'SchemaName','TableName']]#.format(z)\n",
    "d = d.drop_duplicates()\n",
    "e = d['DatabaseName'].values[0]\n",
    "f = d['SchemaName'].values[0]\n",
    "g = d['TableName'].values[0]\n",
    "print (d)\n",
    "FileName = ('GCPS_Ops_{}_{}'.format(f,g))\n",
    "\n",
    "fig = px.scatter(dfgcpsops0058, x = 'TodaysDate', y='RecordCount', size = 'RecordCount', color = 'RecordCount')#.format(z)\n",
    "fig.update_layout(title = '{0},{1},{2}'.format(e,f,g))\n",
    "fig.update_layout(yaxis_zeroline=False, xaxis_zeroline=False)\n",
    "fig.update_xaxes(title_font=dict(size=18, color='crimson'))\n",
    "fig.update_yaxes(title_font=dict(size=18, color='crimson'))\n",
    "fig.update_xaxes(ticks=\"inside\")\n",
    "fig.update_yaxes(ticks=\"inside\")\n",
    "fig.update_xaxes(tickangle=45, tickfont=dict(color='crimson', size=14))\n",
    "fig.update_xaxes(showline=True, linewidth=2, linecolor='black', mirror=True, gridcolor='Pink')\n",
    "fig.update_yaxes(showline=True, linewidth=2, linecolor='black', mirror=True, gridcolor='Red')\n",
    "#fig.show()\n",
    "fig.write_html(r'C:\\Users\\eeeeeeeeee\\Documents\\JupyterAnacondaPythonNotebooks\\Daily\\Charts_px\\GCPS_Ops\\{}.html'.format(FileName))\n",
    "plt.close()"
   ]
  },
  {
   "cell_type": "code",
   "execution_count": 75,
   "metadata": {},
   "outputs": [
    {
     "name": "stdout",
     "output_type": "stream",
     "text": [
      "         DatabaseName SchemaName                          TableName\n",
      "9212  GCPS_Operations        dbo  tbl_OperatorDashboard_JobsRunning\n"
     ]
    }
   ],
   "source": [
    "d = dfgcpsops0059[['DatabaseName', 'SchemaName','TableName']]#.format(z)\n",
    "d = d.drop_duplicates()\n",
    "e = d['DatabaseName'].values[0]\n",
    "f = d['SchemaName'].values[0]\n",
    "g = d['TableName'].values[0]\n",
    "print (d)\n",
    "FileName = ('GCPS_Ops_{}_{}'.format(f,g))\n",
    "\n",
    "fig = px.scatter(dfgcpsops0059, x = 'TodaysDate', y='RecordCount', size = 'RecordCount', color = 'RecordCount')#.format(z)\n",
    "fig.update_layout(title = '{0},{1},{2}'.format(e,f,g))\n",
    "fig.update_layout(yaxis_zeroline=False, xaxis_zeroline=False)\n",
    "fig.update_xaxes(title_font=dict(size=18, color='crimson'))\n",
    "fig.update_yaxes(title_font=dict(size=18, color='crimson'))\n",
    "fig.update_xaxes(ticks=\"inside\")\n",
    "fig.update_yaxes(ticks=\"inside\")\n",
    "fig.update_xaxes(tickangle=45, tickfont=dict(color='crimson', size=14))\n",
    "fig.update_xaxes(showline=True, linewidth=2, linecolor='black', mirror=True, gridcolor='Pink')\n",
    "fig.update_yaxes(showline=True, linewidth=2, linecolor='black', mirror=True, gridcolor='Red')\n",
    "#fig.show()\n",
    "fig.write_html(r'C:\\Users\\eeeeeeeeee\\Documents\\JupyterAnacondaPythonNotebooks\\Daily\\Charts_px\\GCPS_Ops\\{}.html'.format(FileName))\n",
    "plt.close()"
   ]
  },
  {
   "cell_type": "code",
   "execution_count": 76,
   "metadata": {},
   "outputs": [
    {
     "name": "stdout",
     "output_type": "stream",
     "text": [
      "         DatabaseName SchemaName          TableName\n",
      "9798  GCPS_Operations        dbo  tempSourceDataset\n"
     ]
    }
   ],
   "source": [
    "d = dfgcpsops0060[['DatabaseName', 'SchemaName','TableName']]#.format(z)\n",
    "d = d.drop_duplicates()\n",
    "e = d['DatabaseName'].values[0]\n",
    "f = d['SchemaName'].values[0]\n",
    "g = d['TableName'].values[0]\n",
    "print (d)\n",
    "FileName = ('GCPS_Ops_{}_{}'.format(f,g))\n",
    "\n",
    "fig = px.scatter(dfgcpsops0060, x = 'TodaysDate', y='RecordCount', size = 'RecordCount', color = 'RecordCount')#.format(z)\n",
    "fig.update_layout(title = '{0},{1},{2}'.format(e,f,g))\n",
    "fig.update_layout(yaxis_zeroline=False, xaxis_zeroline=False)\n",
    "fig.update_xaxes(title_font=dict(size=18, color='crimson'))\n",
    "fig.update_yaxes(title_font=dict(size=18, color='crimson'))\n",
    "fig.update_xaxes(ticks=\"inside\")\n",
    "fig.update_yaxes(ticks=\"inside\")\n",
    "fig.update_xaxes(tickangle=45, tickfont=dict(color='crimson', size=14))\n",
    "fig.update_xaxes(showline=True, linewidth=2, linecolor='black', mirror=True, gridcolor='Pink')\n",
    "fig.update_yaxes(showline=True, linewidth=2, linecolor='black', mirror=True, gridcolor='Red')\n",
    "#fig.show()\n",
    "fig.write_html(r'C:\\Users\\eeeeeeeeee\\Documents\\JupyterAnacondaPythonNotebooks\\Daily\\Charts_px\\GCPS_Ops\\{}.html'.format(FileName))\n",
    "plt.close()"
   ]
  },
  {
   "cell_type": "code",
   "execution_count": 77,
   "metadata": {},
   "outputs": [
    {
     "name": "stdout",
     "output_type": "stream",
     "text": [
      "      DatabaseName SchemaName     TableName\n",
      "0  GCPS_Operations      ERROR   STUDENT_ABS\n"
     ]
    }
   ],
   "source": [
    "d = dfgcpsops0061[['DatabaseName', 'SchemaName','TableName']]#.format(z)\n",
    "d = d.drop_duplicates()\n",
    "e = d['DatabaseName'].values[0]\n",
    "f = d['SchemaName'].values[0]\n",
    "g = d['TableName'].values[0]\n",
    "print (d)\n",
    "FileName = ('GCPS_Ops_{}_{}'.format(f,g))\n",
    "\n",
    "fig = px.scatter(dfgcpsops0061, x = 'TodaysDate', y='RecordCount', size = 'RecordCount', color = 'RecordCount')#.format(z)\n",
    "fig.update_layout(title = '{0},{1},{2}'.format(e,f,g))\n",
    "fig.update_layout(yaxis_zeroline=False, xaxis_zeroline=False)\n",
    "fig.update_xaxes(title_font=dict(size=18, color='crimson'))\n",
    "fig.update_yaxes(title_font=dict(size=18, color='crimson'))\n",
    "fig.update_xaxes(ticks=\"inside\")\n",
    "fig.update_yaxes(ticks=\"inside\")\n",
    "fig.update_xaxes(tickangle=45, tickfont=dict(color='crimson', size=14))\n",
    "fig.update_xaxes(showline=True, linewidth=2, linecolor='black', mirror=True, gridcolor='Pink')\n",
    "fig.update_yaxes(showline=True, linewidth=2, linecolor='black', mirror=True, gridcolor='Red')\n",
    "#fig.show()\n",
    "fig.write_html(r'C:\\Users\\eeeeeeeeee\\Documents\\JupyterAnacondaPythonNotebooks\\Daily\\Charts_px\\GCPS_Ops\\{}.html'.format(FileName))\n",
    "plt.close()"
   ]
  },
  {
   "cell_type": "code",
   "execution_count": 78,
   "metadata": {},
   "outputs": [
    {
     "name": "stdout",
     "output_type": "stream",
     "text": [
      "       DatabaseName SchemaName       TableName\n",
      "94  GCPS_Operations      ERROR  ABSENCE_LOOKUP\n"
     ]
    }
   ],
   "source": [
    "d = dfgcpsops0062[['DatabaseName', 'SchemaName','TableName']]#.format(z)\n",
    "d = d.drop_duplicates()\n",
    "e = d['DatabaseName'].values[0]\n",
    "f = d['SchemaName'].values[0]\n",
    "g = d['TableName'].values[0]\n",
    "print (d)\n",
    "FileName = ('GCPS_Ops_{}_{}'.format(f,g))\n",
    "\n",
    "fig = px.scatter(dfgcpsops0062, x = 'TodaysDate', y='RecordCount', size = 'RecordCount', color = 'RecordCount')#.format(z)\n",
    "fig.update_layout(title = '{0},{1},{2}'.format(e,f,g))\n",
    "fig.update_layout(yaxis_zeroline=False, xaxis_zeroline=False)\n",
    "fig.update_xaxes(title_font=dict(size=18, color='crimson'))\n",
    "fig.update_yaxes(title_font=dict(size=18, color='crimson'))\n",
    "fig.update_xaxes(ticks=\"inside\")\n",
    "fig.update_yaxes(ticks=\"inside\")\n",
    "fig.update_xaxes(tickangle=45, tickfont=dict(color='crimson', size=14))\n",
    "fig.update_xaxes(showline=True, linewidth=2, linecolor='black', mirror=True, gridcolor='Pink')\n",
    "fig.update_yaxes(showline=True, linewidth=2, linecolor='black', mirror=True, gridcolor='Red')\n",
    "#fig.show()\n",
    "fig.write_html(r'C:\\Users\\eeeeeeeeee\\Documents\\JupyterAnacondaPythonNotebooks\\Daily\\Charts_px\\GCPS_Ops\\{}.html'.format(FileName))\n",
    "plt.close()"
   ]
  },
  {
   "cell_type": "code",
   "execution_count": 79,
   "metadata": {},
   "outputs": [
    {
     "name": "stdout",
     "output_type": "stream",
     "text": [
      "        DatabaseName SchemaName        TableName\n",
      "282  GCPS_Operations      ERROR  AKS_DESCRIPTION\n"
     ]
    }
   ],
   "source": [
    "d = dfgcpsops0063[['DatabaseName', 'SchemaName','TableName']]#.format(z)\n",
    "d = d.drop_duplicates()\n",
    "e = d['DatabaseName'].values[0]\n",
    "f = d['SchemaName'].values[0]\n",
    "g = d['TableName'].values[0]\n",
    "print (d)\n",
    "FileName = ('GCPS_Ops_{}_{}'.format(f,g))\n",
    "\n",
    "fig = px.scatter(dfgcpsops0063, x = 'TodaysDate', y='RecordCount', size = 'RecordCount', color = 'RecordCount')#.format(z)\n",
    "fig.update_layout(title = '{0},{1},{2}'.format(e,f,g))\n",
    "fig.update_layout(yaxis_zeroline=False, xaxis_zeroline=False)\n",
    "fig.update_xaxes(title_font=dict(size=18, color='crimson'))\n",
    "fig.update_yaxes(title_font=dict(size=18, color='crimson'))\n",
    "fig.update_xaxes(ticks=\"inside\")\n",
    "fig.update_yaxes(ticks=\"inside\")\n",
    "fig.update_xaxes(tickangle=45, tickfont=dict(color='crimson', size=14))\n",
    "fig.update_xaxes(showline=True, linewidth=2, linecolor='black', mirror=True, gridcolor='Pink')\n",
    "fig.update_yaxes(showline=True, linewidth=2, linecolor='black', mirror=True, gridcolor='Red')\n",
    "#fig.show()\n",
    "fig.write_html(r'C:\\Users\\eeeeeeeeee\\Documents\\JupyterAnacondaPythonNotebooks\\Daily\\Charts_px\\GCPS_Ops\\{}.html'.format(FileName))\n",
    "plt.close()"
   ]
  },
  {
   "cell_type": "code",
   "execution_count": 80,
   "metadata": {},
   "outputs": [
    {
     "name": "stdout",
     "output_type": "stream",
     "text": [
      "        DatabaseName SchemaName         TableName\n",
      "376  GCPS_Operations      ERROR  AKS_SCHOOL_LEVEL\n"
     ]
    }
   ],
   "source": [
    "d = dfgcpsops0064[['DatabaseName', 'SchemaName','TableName']]#.format(z)\n",
    "d = d.drop_duplicates()\n",
    "e = d['DatabaseName'].values[0]\n",
    "f = d['SchemaName'].values[0]\n",
    "g = d['TableName'].values[0]\n",
    "print (d)\n",
    "FileName = ('GCPS_Ops_{}_{}'.format(f,g))\n",
    "\n",
    "fig = px.scatter(dfgcpsops0064, x = 'TodaysDate', y='RecordCount', size = 'RecordCount', color = 'RecordCount')#.format(z)\n",
    "fig.update_layout(title = '{0},{1},{2}'.format(e,f,g))\n",
    "fig.update_layout(yaxis_zeroline=False, xaxis_zeroline=False)\n",
    "fig.update_xaxes(title_font=dict(size=18, color='crimson'))\n",
    "fig.update_yaxes(title_font=dict(size=18, color='crimson'))\n",
    "fig.update_xaxes(ticks=\"inside\")\n",
    "fig.update_yaxes(ticks=\"inside\")\n",
    "fig.update_xaxes(tickangle=45, tickfont=dict(color='crimson', size=14))\n",
    "fig.update_xaxes(showline=True, linewidth=2, linecolor='black', mirror=True, gridcolor='Pink')\n",
    "fig.update_yaxes(showline=True, linewidth=2, linecolor='black', mirror=True, gridcolor='Red')\n",
    "#fig.show()\n",
    "fig.write_html(r'C:\\Users\\eeeeeeeeee\\Documents\\JupyterAnacondaPythonNotebooks\\Daily\\Charts_px\\GCPS_Ops\\{}.html'.format(FileName))\n",
    "plt.close()"
   ]
  },
  {
   "cell_type": "code",
   "execution_count": 81,
   "metadata": {},
   "outputs": [
    {
     "name": "stdout",
     "output_type": "stream",
     "text": [
      "        DatabaseName SchemaName  TableName\n",
      "188  GCPS_Operations      ERROR  AKSCOURSE\n"
     ]
    }
   ],
   "source": [
    "d = dfgcpsops0065[['DatabaseName', 'SchemaName','TableName']]#.format(z)\n",
    "d = d.drop_duplicates()\n",
    "e = d['DatabaseName'].values[0]\n",
    "f = d['SchemaName'].values[0]\n",
    "g = d['TableName'].values[0]\n",
    "print (d)\n",
    "FileName = ('GCPS_Ops_{}_{}'.format(f,g))\n",
    "\n",
    "fig = px.scatter(dfgcpsops0065, x = 'TodaysDate', y='RecordCount', size = 'RecordCount', color = 'RecordCount')#.format(z)\n",
    "fig.update_layout(title = '{0},{1},{2}'.format(e,f,g))\n",
    "fig.update_layout(yaxis_zeroline=False, xaxis_zeroline=False)\n",
    "fig.update_xaxes(title_font=dict(size=18, color='crimson'))\n",
    "fig.update_yaxes(title_font=dict(size=18, color='crimson'))\n",
    "fig.update_xaxes(ticks=\"inside\")\n",
    "fig.update_yaxes(ticks=\"inside\")\n",
    "fig.update_xaxes(tickangle=45, tickfont=dict(color='crimson', size=14))\n",
    "fig.update_xaxes(showline=True, linewidth=2, linecolor='black', mirror=True, gridcolor='Pink')\n",
    "fig.update_yaxes(showline=True, linewidth=2, linecolor='black', mirror=True, gridcolor='Red')\n",
    "#fig.show()\n",
    "fig.write_html(r'C:\\Users\\eeeeeeeeee\\Documents\\JupyterAnacondaPythonNotebooks\\Daily\\Charts_px\\GCPS_Ops\\{}.html'.format(FileName))\n",
    "plt.close()"
   ]
  },
  {
   "cell_type": "code",
   "execution_count": 82,
   "metadata": {},
   "outputs": [
    {
     "name": "stdout",
     "output_type": "stream",
     "text": [
      "        DatabaseName SchemaName TableName\n",
      "564  GCPS_Operations      ERROR  ASTU_GPA\n"
     ]
    }
   ],
   "source": [
    "d = dfgcpsops0066[['DatabaseName', 'SchemaName','TableName']]#.format(z)\n",
    "d = d.drop_duplicates()\n",
    "e = d['DatabaseName'].values[0]\n",
    "f = d['SchemaName'].values[0]\n",
    "g = d['TableName'].values[0]\n",
    "print (d)\n",
    "FileName = ('GCPS_Ops_{}_{}'.format(f,g))\n",
    "\n",
    "fig = px.scatter(dfgcpsops0066, x = 'TodaysDate', y='RecordCount', size = 'RecordCount', color = 'RecordCount')#.format(z)\n",
    "fig.update_layout(title = '{0},{1},{2}'.format(e,f,g))\n",
    "fig.update_layout(yaxis_zeroline=False, xaxis_zeroline=False)\n",
    "fig.update_xaxes(title_font=dict(size=18, color='crimson'))\n",
    "fig.update_yaxes(title_font=dict(size=18, color='crimson'))\n",
    "fig.update_xaxes(ticks=\"inside\")\n",
    "fig.update_yaxes(ticks=\"inside\")\n",
    "fig.update_xaxes(tickangle=45, tickfont=dict(color='crimson', size=14))\n",
    "fig.update_xaxes(showline=True, linewidth=2, linecolor='black', mirror=True, gridcolor='Pink')\n",
    "fig.update_yaxes(showline=True, linewidth=2, linecolor='black', mirror=True, gridcolor='Red')\n",
    "#fig.show()\n",
    "fig.write_html(r'C:\\Users\\eeeeeeeeee\\Documents\\JupyterAnacondaPythonNotebooks\\Daily\\Charts_px\\GCPS_Ops\\{}.html'.format(FileName))\n",
    "plt.close()"
   ]
  },
  {
   "cell_type": "code",
   "execution_count": 83,
   "metadata": {},
   "outputs": [
    {
     "name": "stdout",
     "output_type": "stream",
     "text": [
      "        DatabaseName SchemaName TableName\n",
      "658  GCPS_Operations      ERROR    ATTLET\n"
     ]
    }
   ],
   "source": [
    "d = dfgcpsops0067[['DatabaseName', 'SchemaName','TableName']]#.format(z)\n",
    "d = d.drop_duplicates()\n",
    "e = d['DatabaseName'].values[0]\n",
    "f = d['SchemaName'].values[0]\n",
    "g = d['TableName'].values[0]\n",
    "print (d)\n",
    "FileName = ('GCPS_Ops_{}_{}'.format(f,g))\n",
    "\n",
    "fig = px.scatter(dfgcpsops0067, x = 'TodaysDate', y='RecordCount', size = 'RecordCount', color = 'RecordCount')#.format(z)\n",
    "fig.update_layout(title = '{0},{1},{2}'.format(e,f,g))\n",
    "fig.update_layout(yaxis_zeroline=False, xaxis_zeroline=False)\n",
    "fig.update_xaxes(title_font=dict(size=18, color='crimson'))\n",
    "fig.update_yaxes(title_font=dict(size=18, color='crimson'))\n",
    "fig.update_xaxes(ticks=\"inside\")\n",
    "fig.update_yaxes(ticks=\"inside\")\n",
    "fig.update_xaxes(tickangle=45, tickfont=dict(color='crimson', size=14))\n",
    "fig.update_xaxes(showline=True, linewidth=2, linecolor='black', mirror=True, gridcolor='Pink')\n",
    "fig.update_yaxes(showline=True, linewidth=2, linecolor='black', mirror=True, gridcolor='Red')\n",
    "#fig.show()\n",
    "fig.write_html(r'C:\\Users\\eeeeeeeeee\\Documents\\JupyterAnacondaPythonNotebooks\\Daily\\Charts_px\\GCPS_Ops\\{}.html'.format(FileName))\n",
    "plt.close()"
   ]
  },
  {
   "cell_type": "code",
   "execution_count": 84,
   "metadata": {},
   "outputs": [
    {
     "name": "stdout",
     "output_type": "stream",
     "text": [
      "         DatabaseName SchemaName             TableName\n",
      "1316  GCPS_Operations      ERROR  COMMON_SCHOOL_LOOKUP\n"
     ]
    }
   ],
   "source": [
    "d = dfgcpsops0068[['DatabaseName', 'SchemaName','TableName']]#.format(z)\n",
    "d = d.drop_duplicates()\n",
    "e = d['DatabaseName'].values[0]\n",
    "f = d['SchemaName'].values[0]\n",
    "g = d['TableName'].values[0]\n",
    "print (d)\n",
    "FileName = ('GCPS_Ops_{}_{}'.format(f,g))\n",
    "\n",
    "fig = px.scatter(dfgcpsops0068, x = 'TodaysDate', y='RecordCount', size = 'RecordCount', color = 'RecordCount')#.format(z)\n",
    "fig.update_layout(title = '{0},{1},{2}'.format(e,f,g))\n",
    "fig.update_layout(yaxis_zeroline=False, xaxis_zeroline=False)\n",
    "fig.update_xaxes(title_font=dict(size=18, color='crimson'))\n",
    "fig.update_yaxes(title_font=dict(size=18, color='crimson'))\n",
    "fig.update_xaxes(ticks=\"inside\")\n",
    "fig.update_yaxes(ticks=\"inside\")\n",
    "fig.update_xaxes(tickangle=45, tickfont=dict(color='crimson', size=14))\n",
    "fig.update_xaxes(showline=True, linewidth=2, linecolor='black', mirror=True, gridcolor='Pink')\n",
    "fig.update_yaxes(showline=True, linewidth=2, linecolor='black', mirror=True, gridcolor='Red')\n",
    "#fig.show()\n",
    "fig.write_html(r'C:\\Users\\eeeeeeeeee\\Documents\\JupyterAnacondaPythonNotebooks\\Daily\\Charts_px\\GCPS_Ops\\{}.html'.format(FileName))\n",
    "plt.close()"
   ]
  },
  {
   "cell_type": "code",
   "execution_count": 85,
   "metadata": {},
   "outputs": [
    {
     "name": "stdout",
     "output_type": "stream",
     "text": [
      "         DatabaseName SchemaName TableName\n",
      "1410  GCPS_Operations      ERROR    COURSE\n"
     ]
    }
   ],
   "source": [
    "d = dfgcpsops0069[['DatabaseName', 'SchemaName','TableName']]#.format(z)\n",
    "d = d.drop_duplicates()\n",
    "e = d['DatabaseName'].values[0]\n",
    "f = d['SchemaName'].values[0]\n",
    "g = d['TableName'].values[0]\n",
    "print (d)\n",
    "FileName = ('GCPS_Ops_{}_{}'.format(f,g))\n",
    "\n",
    "fig = px.scatter(dfgcpsops0069, x = 'TodaysDate', y='RecordCount', size = 'RecordCount', color = 'RecordCount')#.format(z)\n",
    "fig.update_layout(title = '{0},{1},{2}'.format(e,f,g))\n",
    "fig.update_layout(yaxis_zeroline=False, xaxis_zeroline=False)\n",
    "fig.update_xaxes(title_font=dict(size=18, color='crimson'))\n",
    "fig.update_yaxes(title_font=dict(size=18, color='crimson'))\n",
    "fig.update_xaxes(ticks=\"inside\")\n",
    "fig.update_yaxes(ticks=\"inside\")\n",
    "fig.update_xaxes(tickangle=45, tickfont=dict(color='crimson', size=14))\n",
    "fig.update_xaxes(showline=True, linewidth=2, linecolor='black', mirror=True, gridcolor='Pink')\n",
    "fig.update_yaxes(showline=True, linewidth=2, linecolor='black', mirror=True, gridcolor='Red')\n",
    "#fig.show()\n",
    "fig.write_html(r'C:\\Users\\eeeeeeeeee\\Documents\\JupyterAnacondaPythonNotebooks\\Daily\\Charts_px\\GCPS_Ops\\{}.html'.format(FileName))\n",
    "plt.close()"
   ]
  },
  {
   "cell_type": "code",
   "execution_count": 86,
   "metadata": {},
   "outputs": [
    {
     "name": "stdout",
     "output_type": "stream",
     "text": [
      "         DatabaseName SchemaName      TableName\n",
      "1504  GCPS_Operations      ERROR  COURSE_LOOKUP\n"
     ]
    }
   ],
   "source": [
    "d = dfgcpsops0070[['DatabaseName', 'SchemaName','TableName']]#.format(z)\n",
    "d = d.drop_duplicates()\n",
    "e = d['DatabaseName'].values[0]\n",
    "f = d['SchemaName'].values[0]\n",
    "g = d['TableName'].values[0]\n",
    "print (d)\n",
    "FileName = ('GCPS_Ops_{}_{}'.format(f,g))\n",
    "\n",
    "fig = px.scatter(dfgcpsops0070, x = 'TodaysDate', y='RecordCount', size = 'RecordCount', color = 'RecordCount')#.format(z)\n",
    "fig.update_layout(title = '{0},{1},{2}'.format(e,f,g))\n",
    "fig.update_layout(yaxis_zeroline=False, xaxis_zeroline=False)\n",
    "fig.update_xaxes(title_font=dict(size=18, color='crimson'))\n",
    "fig.update_yaxes(title_font=dict(size=18, color='crimson'))\n",
    "fig.update_xaxes(ticks=\"inside\")\n",
    "fig.update_yaxes(ticks=\"inside\")\n",
    "fig.update_xaxes(tickangle=45, tickfont=dict(color='crimson', size=14))\n",
    "fig.update_xaxes(showline=True, linewidth=2, linecolor='black', mirror=True, gridcolor='Pink')\n",
    "fig.update_yaxes(showline=True, linewidth=2, linecolor='black', mirror=True, gridcolor='Red')\n",
    "#fig.show()\n",
    "fig.write_html(r'C:\\Users\\eeeeeeeeee\\Documents\\JupyterAnacondaPythonNotebooks\\Daily\\Charts_px\\GCPS_Ops\\{}.html'.format(FileName))\n",
    "plt.close()"
   ]
  },
  {
   "cell_type": "code",
   "execution_count": 87,
   "metadata": {},
   "outputs": [
    {
     "name": "stdout",
     "output_type": "stream",
     "text": [
      "         DatabaseName SchemaName                  TableName\n",
      "1692  GCPS_Operations      ERROR  Data Conversion_SASI_ASTU\n"
     ]
    }
   ],
   "source": [
    "d = dfgcpsops0071[['DatabaseName', 'SchemaName','TableName']]#.format(z)\n",
    "d = d.drop_duplicates()\n",
    "e = d['DatabaseName'].values[0]\n",
    "f = d['SchemaName'].values[0]\n",
    "g = d['TableName'].values[0]\n",
    "print (d)\n",
    "FileName = ('GCPS_Ops_{}_{}'.format(f,g))\n",
    "\n",
    "fig = px.scatter(dfgcpsops0071, x = 'TodaysDate', y='RecordCount', size = 'RecordCount', color = 'RecordCount')#.format(z)\n",
    "fig.update_layout(title = '{0},{1},{2}'.format(e,f,g))\n",
    "fig.update_layout(yaxis_zeroline=False, xaxis_zeroline=False)\n",
    "fig.update_xaxes(title_font=dict(size=18, color='crimson'))\n",
    "fig.update_yaxes(title_font=dict(size=18, color='crimson'))\n",
    "fig.update_xaxes(ticks=\"inside\")\n",
    "fig.update_yaxes(ticks=\"inside\")\n",
    "fig.update_xaxes(tickangle=45, tickfont=dict(color='crimson', size=14))\n",
    "fig.update_xaxes(showline=True, linewidth=2, linecolor='black', mirror=True, gridcolor='Pink')\n",
    "fig.update_yaxes(showline=True, linewidth=2, linecolor='black', mirror=True, gridcolor='Red')\n",
    "#fig.show()\n",
    "fig.write_html(r'C:\\Users\\eeeeeeeeee\\Documents\\JupyterAnacondaPythonNotebooks\\Daily\\Charts_px\\GCPS_Ops\\{}.html'.format(FileName))\n",
    "plt.close()"
   ]
  },
  {
   "cell_type": "code",
   "execution_count": 88,
   "metadata": {},
   "outputs": [
    {
     "name": "stdout",
     "output_type": "stream",
     "text": [
      "         DatabaseName SchemaName            TableName\n",
      "1598  GCPS_Operations      ERROR  DIPLOMA_TYPE_LOOKUP\n"
     ]
    }
   ],
   "source": [
    "d = dfgcpsops0072[['DatabaseName', 'SchemaName','TableName']]#.format(z)\n",
    "d = d.drop_duplicates()\n",
    "e = d['DatabaseName'].values[0]\n",
    "f = d['SchemaName'].values[0]\n",
    "g = d['TableName'].values[0]\n",
    "print (d)\n",
    "FileName = ('GCPS_Ops_{}_{}'.format(f,g))\n",
    "\n",
    "fig = px.scatter(dfgcpsops0072, x = 'TodaysDate', y='RecordCount', size = 'RecordCount', color = 'RecordCount')#.format(z)\n",
    "fig.update_layout(title = '{0},{1},{2}'.format(e,f,g))\n",
    "fig.update_layout(yaxis_zeroline=False, xaxis_zeroline=False)\n",
    "fig.update_xaxes(title_font=dict(size=18, color='crimson'))\n",
    "fig.update_yaxes(title_font=dict(size=18, color='crimson'))\n",
    "fig.update_xaxes(ticks=\"inside\")\n",
    "fig.update_yaxes(ticks=\"inside\")\n",
    "fig.update_xaxes(tickangle=45, tickfont=dict(color='crimson', size=14))\n",
    "fig.update_xaxes(showline=True, linewidth=2, linecolor='black', mirror=True, gridcolor='Pink')\n",
    "fig.update_yaxes(showline=True, linewidth=2, linecolor='black', mirror=True, gridcolor='Red')\n",
    "#fig.show()\n",
    "fig.write_html(r'C:\\Users\\eeeeeeeeee\\Documents\\JupyterAnacondaPythonNotebooks\\Daily\\Charts_px\\GCPS_Ops\\{}.html'.format(FileName))\n",
    "plt.close()"
   ]
  },
  {
   "cell_type": "code",
   "execution_count": 89,
   "metadata": {},
   "outputs": [
    {
     "name": "stdout",
     "output_type": "stream",
     "text": [
      "         DatabaseName SchemaName         TableName\n",
      "2350  GCPS_Operations      ERROR  ETHNICITY_LOOKUP\n"
     ]
    }
   ],
   "source": [
    "d = dfgcpsops0073[['DatabaseName', 'SchemaName','TableName']]#.format(z)\n",
    "d = d.drop_duplicates()\n",
    "e = d['DatabaseName'].values[0]\n",
    "f = d['SchemaName'].values[0]\n",
    "g = d['TableName'].values[0]\n",
    "print (d)\n",
    "FileName = ('GCPS_Ops_{}_{}'.format(f,g))\n",
    "\n",
    "fig = px.scatter(dfgcpsops0073, x = 'TodaysDate', y='RecordCount', size = 'RecordCount', color = 'RecordCount')#.format(z)\n",
    "fig.update_layout(title = '{0},{1},{2}'.format(e,f,g))\n",
    "fig.update_layout(yaxis_zeroline=False, xaxis_zeroline=False)\n",
    "fig.update_xaxes(title_font=dict(size=18, color='crimson'))\n",
    "fig.update_yaxes(title_font=dict(size=18, color='crimson'))\n",
    "fig.update_xaxes(ticks=\"inside\")\n",
    "fig.update_yaxes(ticks=\"inside\")\n",
    "fig.update_xaxes(tickangle=45, tickfont=dict(color='crimson', size=14))\n",
    "fig.update_xaxes(showline=True, linewidth=2, linecolor='black', mirror=True, gridcolor='Pink')\n",
    "fig.update_yaxes(showline=True, linewidth=2, linecolor='black', mirror=True, gridcolor='Red')\n",
    "#fig.show()\n",
    "fig.write_html(r'C:\\Users\\eeeeeeeeee\\Documents\\JupyterAnacondaPythonNotebooks\\Daily\\Charts_px\\GCPS_Ops\\{}.html'.format(FileName))\n",
    "plt.close()"
   ]
  },
  {
   "cell_type": "code",
   "execution_count": 90,
   "metadata": {},
   "outputs": [
    {
     "name": "stdout",
     "output_type": "stream",
     "text": [
      "         DatabaseName SchemaName         TableName\n",
      "2632  GCPS_Operations      ERROR  EXTERNAL_SCHOOLS\n"
     ]
    }
   ],
   "source": [
    "d = dfgcpsops0074[['DatabaseName', 'SchemaName','TableName']]#.format(z)\n",
    "d = d.drop_duplicates()\n",
    "e = d['DatabaseName'].values[0]\n",
    "f = d['SchemaName'].values[0]\n",
    "g = d['TableName'].values[0]\n",
    "print (d)\n",
    "FileName = ('GCPS_Ops_{}_{}'.format(f,g))\n",
    "\n",
    "fig = px.scatter(dfgcpsops0074, x = 'TodaysDate', y='RecordCount', size = 'RecordCount', color = 'RecordCount')#.format(z)\n",
    "fig.update_layout(title = '{0},{1},{2}'.format(e,f,g))\n",
    "fig.update_layout(yaxis_zeroline=False, xaxis_zeroline=False)\n",
    "fig.update_xaxes(title_font=dict(size=18, color='crimson'))\n",
    "fig.update_yaxes(title_font=dict(size=18, color='crimson'))\n",
    "fig.update_xaxes(ticks=\"inside\")\n",
    "fig.update_yaxes(ticks=\"inside\")\n",
    "fig.update_xaxes(tickangle=45, tickfont=dict(color='crimson', size=14))\n",
    "fig.update_xaxes(showline=True, linewidth=2, linecolor='black', mirror=True, gridcolor='Pink')\n",
    "fig.update_yaxes(showline=True, linewidth=2, linecolor='black', mirror=True, gridcolor='Red')\n",
    "#fig.show()\n",
    "fig.write_html(r'C:\\Users\\eeeeeeeeee\\Documents\\JupyterAnacondaPythonNotebooks\\Daily\\Charts_px\\GCPS_Ops\\{}.html'.format(FileName))\n",
    "plt.close()"
   ]
  },
  {
   "cell_type": "code",
   "execution_count": 91,
   "metadata": {},
   "outputs": [
    {
     "name": "stdout",
     "output_type": "stream",
     "text": [
      "         DatabaseName SchemaName                TableName\n",
      "2726  GCPS_Operations      ERROR  EXTERNAL_SCHOOLS_LOOKUP\n"
     ]
    }
   ],
   "source": [
    "d = dfgcpsops0075[['DatabaseName', 'SchemaName','TableName']]#.format(z)\n",
    "d = d.drop_duplicates()\n",
    "e = d['DatabaseName'].values[0]\n",
    "f = d['SchemaName'].values[0]\n",
    "g = d['TableName'].values[0]\n",
    "print (d)\n",
    "FileName = ('GCPS_Ops_{}_{}'.format(f,g))\n",
    "\n",
    "fig = px.scatter(dfgcpsops0075, x = 'TodaysDate', y='RecordCount', size = 'RecordCount', color = 'RecordCount')#.format(z)\n",
    "fig.update_layout(title = '{0},{1},{2}'.format(e,f,g))\n",
    "fig.update_layout(yaxis_zeroline=False, xaxis_zeroline=False)\n",
    "fig.update_xaxes(title_font=dict(size=18, color='crimson'))\n",
    "fig.update_yaxes(title_font=dict(size=18, color='crimson'))\n",
    "fig.update_xaxes(ticks=\"inside\")\n",
    "fig.update_yaxes(ticks=\"inside\")\n",
    "fig.update_xaxes(tickangle=45, tickfont=dict(color='crimson', size=14))\n",
    "fig.update_xaxes(showline=True, linewidth=2, linecolor='black', mirror=True, gridcolor='Pink')\n",
    "fig.update_yaxes(showline=True, linewidth=2, linecolor='black', mirror=True, gridcolor='Red')\n",
    "#fig.show()\n",
    "fig.write_html(r'C:\\Users\\eeeeeeeeee\\Documents\\JupyterAnacondaPythonNotebooks\\Daily\\Charts_px\\GCPS_Ops\\{}.html'.format(FileName))\n",
    "plt.close()"
   ]
  },
  {
   "cell_type": "code",
   "execution_count": 92,
   "metadata": {},
   "outputs": [
    {
     "name": "stdout",
     "output_type": "stream",
     "text": [
      "         DatabaseName SchemaName                    TableName\n",
      "2820  GCPS_Operations      ERROR  EXTERNAL_STUDENT_LOOKUP 7 1\n"
     ]
    }
   ],
   "source": [
    "d = dfgcpsops0076[['DatabaseName', 'SchemaName','TableName']]#.format(z)\n",
    "d = d.drop_duplicates()\n",
    "e = d['DatabaseName'].values[0]\n",
    "f = d['SchemaName'].values[0]\n",
    "g = d['TableName'].values[0]\n",
    "print (d)\n",
    "FileName = ('GCPS_Ops_{}_{}'.format(f,g))\n",
    "\n",
    "fig = px.scatter(dfgcpsops0076, x = 'TodaysDate', y='RecordCount', size = 'RecordCount', color = 'RecordCount')#.format(z)\n",
    "fig.update_layout(title = '{0},{1},{2}'.format(e,f,g))\n",
    "fig.update_layout(yaxis_zeroline=False, xaxis_zeroline=False)\n",
    "fig.update_xaxes(title_font=dict(size=18, color='crimson'))\n",
    "fig.update_yaxes(title_font=dict(size=18, color='crimson'))\n",
    "fig.update_xaxes(ticks=\"inside\")\n",
    "fig.update_yaxes(ticks=\"inside\")\n",
    "fig.update_xaxes(tickangle=45, tickfont=dict(color='crimson', size=14))\n",
    "fig.update_xaxes(showline=True, linewidth=2, linecolor='black', mirror=True, gridcolor='Pink')\n",
    "fig.update_yaxes(showline=True, linewidth=2, linecolor='black', mirror=True, gridcolor='Red')\n",
    "#fig.show()\n",
    "fig.write_html(r'C:\\Users\\eeeeeeeeee\\Documents\\JupyterAnacondaPythonNotebooks\\Daily\\Charts_px\\GCPS_Ops\\{}.html'.format(FileName))\n",
    "plt.close()"
   ]
  },
  {
   "cell_type": "code",
   "execution_count": 93,
   "metadata": {},
   "outputs": [
    {
     "name": "stdout",
     "output_type": "stream",
     "text": [
      "         DatabaseName SchemaName TableName\n",
      "3478  GCPS_Operations      ERROR   G_COURE\n"
     ]
    }
   ],
   "source": [
    "d = dfgcpsops0077[['DatabaseName', 'SchemaName','TableName']]#.format(z)\n",
    "d = d.drop_duplicates()\n",
    "e = d['DatabaseName'].values[0]\n",
    "f = d['SchemaName'].values[0]\n",
    "g = d['TableName'].values[0]\n",
    "print (d)\n",
    "FileName = ('GCPS_Ops_{}_{}'.format(f,g))\n",
    "\n",
    "fig = px.scatter(dfgcpsops0077, x = 'TodaysDate', y='RecordCount', size = 'RecordCount', color = 'RecordCount')#.format(z)\n",
    "fig.update_layout(title = '{0},{1},{2}'.format(e,f,g))\n",
    "fig.update_layout(yaxis_zeroline=False, xaxis_zeroline=False)\n",
    "fig.update_xaxes(title_font=dict(size=18, color='crimson'))\n",
    "fig.update_yaxes(title_font=dict(size=18, color='crimson'))\n",
    "fig.update_xaxes(ticks=\"inside\")\n",
    "fig.update_yaxes(ticks=\"inside\")\n",
    "fig.update_xaxes(tickangle=45, tickfont=dict(color='crimson', size=14))\n",
    "fig.update_xaxes(showline=True, linewidth=2, linecolor='black', mirror=True, gridcolor='Pink')\n",
    "fig.update_yaxes(showline=True, linewidth=2, linecolor='black', mirror=True, gridcolor='Red')\n",
    "#fig.show()\n",
    "fig.write_html(r'C:\\Users\\eeeeeeeeee\\Documents\\JupyterAnacondaPythonNotebooks\\Daily\\Charts_px\\GCPS_Ops\\{}.html'.format(FileName))\n",
    "plt.close()"
   ]
  },
  {
   "cell_type": "code",
   "execution_count": 94,
   "metadata": {},
   "outputs": [
    {
     "name": "stdout",
     "output_type": "stream",
     "text": [
      "         DatabaseName SchemaName         TableName\n",
      "3572  GCPS_Operations      ERROR  G_COURE_INSTRUCT\n"
     ]
    }
   ],
   "source": [
    "d = dfgcpsops0078[['DatabaseName', 'SchemaName','TableName']]#.format(z)\n",
    "d = d.drop_duplicates()\n",
    "e = d['DatabaseName'].values[0]\n",
    "f = d['SchemaName'].values[0]\n",
    "g = d['TableName'].values[0]\n",
    "print (d)\n",
    "FileName = ('GCPS_Ops_{}_{}'.format(f,g))\n",
    "\n",
    "fig = px.scatter(dfgcpsops0078, x = 'TodaysDate', y='RecordCount', size = 'RecordCount', color = 'RecordCount')#.format(z)\n",
    "fig.update_layout(title = '{0},{1},{2}'.format(e,f,g))\n",
    "fig.update_layout(yaxis_zeroline=False, xaxis_zeroline=False)\n",
    "fig.update_xaxes(title_font=dict(size=18, color='crimson'))\n",
    "fig.update_yaxes(title_font=dict(size=18, color='crimson'))\n",
    "fig.update_xaxes(ticks=\"inside\")\n",
    "fig.update_yaxes(ticks=\"inside\")\n",
    "fig.update_xaxes(tickangle=45, tickfont=dict(color='crimson', size=14))\n",
    "fig.update_xaxes(showline=True, linewidth=2, linecolor='black', mirror=True, gridcolor='Pink')\n",
    "fig.update_yaxes(showline=True, linewidth=2, linecolor='black', mirror=True, gridcolor='Red')\n",
    "#fig.show()\n",
    "fig.write_html(r'C:\\Users\\eeeeeeeeee\\Documents\\JupyterAnacondaPythonNotebooks\\Daily\\Charts_px\\GCPS_Ops\\{}.html'.format(FileName))\n",
    "plt.close()"
   ]
  },
  {
   "cell_type": "code",
   "execution_count": 95,
   "metadata": {},
   "outputs": [
    {
     "name": "stdout",
     "output_type": "stream",
     "text": [
      "         DatabaseName SchemaName TableName\n",
      "3666  GCPS_Operations      ERROR     G_LOC\n"
     ]
    }
   ],
   "source": [
    "d = dfgcpsops0079[['DatabaseName', 'SchemaName','TableName']]#.format(z)\n",
    "d = d.drop_duplicates()\n",
    "e = d['DatabaseName'].values[0]\n",
    "f = d['SchemaName'].values[0]\n",
    "g = d['TableName'].values[0]\n",
    "print (d)\n",
    "FileName = ('GCPS_Ops_{}_{}'.format(f,g))\n",
    "\n",
    "fig = px.scatter(dfgcpsops0079, x = 'TodaysDate', y='RecordCount', size = 'RecordCount', color = 'RecordCount')#.format(z)\n",
    "fig.update_layout(title = '{0},{1},{2}'.format(e,f,g))\n",
    "fig.update_layout(yaxis_zeroline=False, xaxis_zeroline=False)\n",
    "fig.update_xaxes(title_font=dict(size=18, color='crimson'))\n",
    "fig.update_yaxes(title_font=dict(size=18, color='crimson'))\n",
    "fig.update_xaxes(ticks=\"inside\")\n",
    "fig.update_yaxes(ticks=\"inside\")\n",
    "fig.update_xaxes(tickangle=45, tickfont=dict(color='crimson', size=14))\n",
    "fig.update_xaxes(showline=True, linewidth=2, linecolor='black', mirror=True, gridcolor='Pink')\n",
    "fig.update_yaxes(showline=True, linewidth=2, linecolor='black', mirror=True, gridcolor='Red')\n",
    "#fig.show()\n",
    "fig.write_html(r'C:\\Users\\eeeeeeeeee\\Documents\\JupyterAnacondaPythonNotebooks\\Daily\\Charts_px\\GCPS_Ops\\{}.html'.format(FileName))\n",
    "plt.close()"
   ]
  },
  {
   "cell_type": "code",
   "execution_count": 96,
   "metadata": {},
   "outputs": [
    {
     "name": "stdout",
     "output_type": "stream",
     "text": [
      "         DatabaseName SchemaName TableName\n",
      "3760  GCPS_Operations      ERROR     G_STU\n"
     ]
    }
   ],
   "source": [
    "d = dfgcpsops0080[['DatabaseName', 'SchemaName','TableName']]#.format(z)\n",
    "d = d.drop_duplicates()\n",
    "e = d['DatabaseName'].values[0]\n",
    "f = d['SchemaName'].values[0]\n",
    "g = d['TableName'].values[0]\n",
    "print (d)\n",
    "FileName = ('GCPS_Ops_{}_{}'.format(f,g))\n",
    "\n",
    "fig = px.scatter(dfgcpsops0080, x = 'TodaysDate', y='RecordCount', size = 'RecordCount', color = 'RecordCount')#.format(z)\n",
    "fig.update_layout(title = '{0},{1},{2}'.format(e,f,g))\n",
    "fig.update_layout(yaxis_zeroline=False, xaxis_zeroline=False)\n",
    "fig.update_xaxes(title_font=dict(size=18, color='crimson'))\n",
    "fig.update_yaxes(title_font=dict(size=18, color='crimson'))\n",
    "fig.update_xaxes(ticks=\"inside\")\n",
    "fig.update_yaxes(ticks=\"inside\")\n",
    "fig.update_xaxes(tickangle=45, tickfont=dict(color='crimson', size=14))\n",
    "fig.update_xaxes(showline=True, linewidth=2, linecolor='black', mirror=True, gridcolor='Pink')\n",
    "fig.update_yaxes(showline=True, linewidth=2, linecolor='black', mirror=True, gridcolor='Red')\n",
    "#fig.show()\n",
    "fig.write_html(r'C:\\Users\\eeeeeeeeee\\Documents\\JupyterAnacondaPythonNotebooks\\Daily\\Charts_px\\GCPS_Ops\\{}.html'.format(FileName))\n",
    "plt.close()"
   ]
  },
  {
   "cell_type": "code",
   "execution_count": 97,
   "metadata": {},
   "outputs": [
    {
     "name": "stdout",
     "output_type": "stream",
     "text": [
      "         DatabaseName SchemaName           TableName\n",
      "3854  GCPS_Operations      ERROR  G_STUDENT_FTE_GTID\n"
     ]
    }
   ],
   "source": [
    "d = dfgcpsops0081[['DatabaseName', 'SchemaName','TableName']]#.format(z)\n",
    "d = d.drop_duplicates()\n",
    "e = d['DatabaseName'].values[0]\n",
    "f = d['SchemaName'].values[0]\n",
    "g = d['TableName'].values[0]\n",
    "print (d)\n",
    "FileName = ('GCPS_Ops_{}_{}'.format(f,g))\n",
    "\n",
    "fig = px.scatter(dfgcpsops0081, x = 'TodaysDate', y='RecordCount', size = 'RecordCount', color = 'RecordCount')#.format(z)\n",
    "fig.update_layout(title = '{0},{1},{2}'.format(e,f,g))\n",
    "fig.update_layout(yaxis_zeroline=False, xaxis_zeroline=False)\n",
    "fig.update_xaxes(title_font=dict(size=18, color='crimson'))\n",
    "fig.update_yaxes(title_font=dict(size=18, color='crimson'))\n",
    "fig.update_xaxes(ticks=\"inside\")\n",
    "fig.update_yaxes(ticks=\"inside\")\n",
    "fig.update_xaxes(tickangle=45, tickfont=dict(color='crimson', size=14))\n",
    "fig.update_xaxes(showline=True, linewidth=2, linecolor='black', mirror=True, gridcolor='Pink')\n",
    "fig.update_yaxes(showline=True, linewidth=2, linecolor='black', mirror=True, gridcolor='Red')\n",
    "#fig.show()\n",
    "fig.write_html(r'C:\\Users\\eeeeeeeeee\\Documents\\JupyterAnacondaPythonNotebooks\\Daily\\Charts_px\\GCPS_Ops\\{}.html'.format(FileName))\n",
    "plt.close()"
   ]
  },
  {
   "cell_type": "code",
   "execution_count": 98,
   "metadata": {},
   "outputs": [
    {
     "name": "stdout",
     "output_type": "stream",
     "text": [
      "         DatabaseName SchemaName            TableName\n",
      "4136  GCPS_Operations      ERROR  IMMUNIZATION_LOOKUP\n"
     ]
    }
   ],
   "source": [
    "d = dfgcpsops0082[['DatabaseName', 'SchemaName','TableName']]#.format(z)\n",
    "d = d.drop_duplicates()\n",
    "e = d['DatabaseName'].values[0]\n",
    "f = d['SchemaName'].values[0]\n",
    "g = d['TableName'].values[0]\n",
    "print (d)\n",
    "FileName = ('GCPS_Ops_{}_{}'.format(f,g))\n",
    "\n",
    "fig = px.scatter(dfgcpsops0082, x = 'TodaysDate', y='RecordCount', size = 'RecordCount', color = 'RecordCount')#.format(z)\n",
    "fig.update_layout(title = '{0},{1},{2}'.format(e,f,g))\n",
    "fig.update_layout(yaxis_zeroline=False, xaxis_zeroline=False)\n",
    "fig.update_xaxes(title_font=dict(size=18, color='crimson'))\n",
    "fig.update_yaxes(title_font=dict(size=18, color='crimson'))\n",
    "fig.update_xaxes(ticks=\"inside\")\n",
    "fig.update_yaxes(ticks=\"inside\")\n",
    "fig.update_xaxes(tickangle=45, tickfont=dict(color='crimson', size=14))\n",
    "fig.update_xaxes(showline=True, linewidth=2, linecolor='black', mirror=True, gridcolor='Pink')\n",
    "fig.update_yaxes(showline=True, linewidth=2, linecolor='black', mirror=True, gridcolor='Red')\n",
    "#fig.show()\n",
    "fig.write_html(r'C:\\Users\\eeeeeeeeee\\Documents\\JupyterAnacondaPythonNotebooks\\Daily\\Charts_px\\GCPS_Ops\\{}.html'.format(FileName))\n",
    "plt.close()"
   ]
  },
  {
   "cell_type": "code",
   "execution_count": 99,
   "metadata": {},
   "outputs": [
    {
     "name": "stdout",
     "output_type": "stream",
     "text": [
      "         DatabaseName SchemaName TableName\n",
      "4324  GCPS_Operations      ERROR  LOCATION\n"
     ]
    }
   ],
   "source": [
    "d = dfgcpsops0083[['DatabaseName', 'SchemaName','TableName']]#.format(z)\n",
    "d = d.drop_duplicates()\n",
    "e = d['DatabaseName'].values[0]\n",
    "f = d['SchemaName'].values[0]\n",
    "g = d['TableName'].values[0]\n",
    "print (d)\n",
    "FileName = ('GCPS_Ops_{}_{}'.format(f,g))\n",
    "\n",
    "fig = px.scatter(dfgcpsops0083, x = 'TodaysDate', y='RecordCount', size = 'RecordCount', color = 'RecordCount')#.format(z)\n",
    "fig.update_layout(title = '{0},{1},{2}'.format(e,f,g))\n",
    "fig.update_layout(yaxis_zeroline=False, xaxis_zeroline=False)\n",
    "fig.update_xaxes(title_font=dict(size=18, color='crimson'))\n",
    "fig.update_yaxes(title_font=dict(size=18, color='crimson'))\n",
    "fig.update_xaxes(ticks=\"inside\")\n",
    "fig.update_yaxes(ticks=\"inside\")\n",
    "fig.update_xaxes(tickangle=45, tickfont=dict(color='crimson', size=14))\n",
    "fig.update_xaxes(showline=True, linewidth=2, linecolor='black', mirror=True, gridcolor='Pink')\n",
    "fig.update_yaxes(showline=True, linewidth=2, linecolor='black', mirror=True, gridcolor='Red')\n",
    "#fig.show()\n",
    "fig.write_html(r'C:\\Users\\eeeeeeeeee\\Documents\\JupyterAnacondaPythonNotebooks\\Daily\\Charts_px\\GCPS_Ops\\{}.html'.format(FileName))\n",
    "plt.close()"
   ]
  },
  {
   "cell_type": "code",
   "execution_count": 100,
   "metadata": {},
   "outputs": [
    {
     "name": "stdout",
     "output_type": "stream",
     "text": [
      "         DatabaseName SchemaName    TableName\n",
      "4418  GCPS_Operations      ERROR  LOOKUP_ASTU\n"
     ]
    }
   ],
   "source": [
    "d = dfgcpsops0084[['DatabaseName', 'SchemaName','TableName']]#.format(z)\n",
    "d = d.drop_duplicates()\n",
    "e = d['DatabaseName'].values[0]\n",
    "f = d['SchemaName'].values[0]\n",
    "g = d['TableName'].values[0]\n",
    "print (d)\n",
    "FileName = ('GCPS_Ops_{}_{}'.format(f,g))\n",
    "\n",
    "fig = px.scatter(dfgcpsops0084, x = 'TodaysDate', y='RecordCount', size = 'RecordCount', color = 'RecordCount')#.format(z)\n",
    "fig.update_layout(title = '{0},{1},{2}'.format(e,f,g))\n",
    "fig.update_layout(yaxis_zeroline=False, xaxis_zeroline=False)\n",
    "fig.update_xaxes(title_font=dict(size=18, color='crimson'))\n",
    "fig.update_yaxes(title_font=dict(size=18, color='crimson'))\n",
    "fig.update_xaxes(ticks=\"inside\")\n",
    "fig.update_yaxes(ticks=\"inside\")\n",
    "fig.update_xaxes(tickangle=45, tickfont=dict(color='crimson', size=14))\n",
    "fig.update_xaxes(showline=True, linewidth=2, linecolor='black', mirror=True, gridcolor='Pink')\n",
    "fig.update_yaxes(showline=True, linewidth=2, linecolor='black', mirror=True, gridcolor='Red')\n",
    "#fig.show()\n",
    "fig.write_html(r'C:\\Users\\eeeeeeeeee\\Documents\\JupyterAnacondaPythonNotebooks\\Daily\\Charts_px\\GCPS_Ops\\{}.html'.format(FileName))\n",
    "plt.close()"
   ]
  },
  {
   "cell_type": "code",
   "execution_count": 101,
   "metadata": {},
   "outputs": [
    {
     "name": "stdout",
     "output_type": "stream",
     "text": [
      "         DatabaseName SchemaName       TableName\n",
      "4512  GCPS_Operations      ERROR  LOOKUP_PROGRAM\n"
     ]
    }
   ],
   "source": [
    "d = dfgcpsops0085[['DatabaseName', 'SchemaName','TableName']]#.format(z)\n",
    "d = d.drop_duplicates()\n",
    "e = d['DatabaseName'].values[0]\n",
    "f = d['SchemaName'].values[0]\n",
    "g = d['TableName'].values[0]\n",
    "print (d)\n",
    "FileName = ('GCPS_Ops_{}_{}'.format(f,g))\n",
    "\n",
    "fig = px.scatter(dfgcpsops0085, x = 'TodaysDate', y='RecordCount', size = 'RecordCount', color = 'RecordCount')#.format(z)\n",
    "fig.update_layout(title = '{0},{1},{2}'.format(e,f,g))\n",
    "fig.update_layout(yaxis_zeroline=False, xaxis_zeroline=False)\n",
    "fig.update_xaxes(title_font=dict(size=18, color='crimson'))\n",
    "fig.update_yaxes(title_font=dict(size=18, color='crimson'))\n",
    "fig.update_xaxes(ticks=\"inside\")\n",
    "fig.update_yaxes(ticks=\"inside\")\n",
    "fig.update_xaxes(tickangle=45, tickfont=dict(color='crimson', size=14))\n",
    "fig.update_xaxes(showline=True, linewidth=2, linecolor='black', mirror=True, gridcolor='Pink')\n",
    "fig.update_yaxes(showline=True, linewidth=2, linecolor='black', mirror=True, gridcolor='Red')\n",
    "#fig.show()\n",
    "fig.write_html(r'C:\\Users\\eeeeeeeeee\\Documents\\JupyterAnacondaPythonNotebooks\\Daily\\Charts_px\\GCPS_Ops\\{}.html'.format(FileName))\n",
    "plt.close()"
   ]
  },
  {
   "cell_type": "code",
   "execution_count": 102,
   "metadata": {},
   "outputs": [
    {
     "name": "stdout",
     "output_type": "stream",
     "text": [
      "         DatabaseName SchemaName      TableName\n",
      "4606  GCPS_Operations      ERROR  LOOKUP_SCHOOL\n"
     ]
    }
   ],
   "source": [
    "d = dfgcpsops0086[['DatabaseName', 'SchemaName','TableName']]#.format(z)\n",
    "d = d.drop_duplicates()\n",
    "e = d['DatabaseName'].values[0]\n",
    "f = d['SchemaName'].values[0]\n",
    "g = d['TableName'].values[0]\n",
    "print (d)\n",
    "FileName = ('GCPS_Ops_{}_{}'.format(f,g))\n",
    "\n",
    "fig = px.scatter(dfgcpsops0086, x = 'TodaysDate', y='RecordCount', size = 'RecordCount', color = 'RecordCount')#.format(z)\n",
    "fig.update_layout(title = '{0},{1},{2}'.format(e,f,g))\n",
    "fig.update_layout(yaxis_zeroline=False, xaxis_zeroline=False)\n",
    "fig.update_xaxes(title_font=dict(size=18, color='crimson'))\n",
    "fig.update_yaxes(title_font=dict(size=18, color='crimson'))\n",
    "fig.update_xaxes(ticks=\"inside\")\n",
    "fig.update_yaxes(ticks=\"inside\")\n",
    "fig.update_xaxes(tickangle=45, tickfont=dict(color='crimson', size=14))\n",
    "fig.update_xaxes(showline=True, linewidth=2, linecolor='black', mirror=True, gridcolor='Pink')\n",
    "fig.update_yaxes(showline=True, linewidth=2, linecolor='black', mirror=True, gridcolor='Red')\n",
    "#fig.show()\n",
    "fig.write_html(r'C:\\Users\\eeeeeeeeee\\Documents\\JupyterAnacondaPythonNotebooks\\Daily\\Charts_px\\GCPS_Ops\\{}.html'.format(FileName))\n",
    "plt.close()"
   ]
  },
  {
   "cell_type": "code",
   "execution_count": 103,
   "metadata": {},
   "outputs": [
    {
     "name": "stdout",
     "output_type": "stream",
     "text": [
      "         DatabaseName SchemaName    TableName\n",
      "5170  GCPS_Operations      ERROR  NEXT_SCHOOL\n"
     ]
    }
   ],
   "source": [
    "d = dfgcpsops0087[['DatabaseName', 'SchemaName','TableName']]#.format(z)\n",
    "d = d.drop_duplicates()\n",
    "e = d['DatabaseName'].values[0]\n",
    "f = d['SchemaName'].values[0]\n",
    "g = d['TableName'].values[0]\n",
    "print (d)\n",
    "FileName = ('GCPS_Ops_{}_{}'.format(f,g))\n",
    "\n",
    "fig = px.scatter(dfgcpsops0087, x = 'TodaysDate', y='RecordCount', size = 'RecordCount', color = 'RecordCount')#.format(z)\n",
    "fig.update_layout(title = '{0},{1},{2}'.format(e,f,g))\n",
    "fig.update_layout(yaxis_zeroline=False, xaxis_zeroline=False)\n",
    "fig.update_xaxes(title_font=dict(size=18, color='crimson'))\n",
    "fig.update_yaxes(title_font=dict(size=18, color='crimson'))\n",
    "fig.update_xaxes(ticks=\"inside\")\n",
    "fig.update_yaxes(ticks=\"inside\")\n",
    "fig.update_xaxes(tickangle=45, tickfont=dict(color='crimson', size=14))\n",
    "fig.update_xaxes(showline=True, linewidth=2, linecolor='black', mirror=True, gridcolor='Pink')\n",
    "fig.update_yaxes(showline=True, linewidth=2, linecolor='black', mirror=True, gridcolor='Red')\n",
    "#fig.show()\n",
    "fig.write_html(r'C:\\Users\\eeeeeeeeee\\Documents\\JupyterAnacondaPythonNotebooks\\Daily\\Charts_px\\GCPS_Ops\\{}.html'.format(FileName))\n",
    "plt.close()"
   ]
  },
  {
   "cell_type": "code",
   "execution_count": 104,
   "metadata": {},
   "outputs": [
    {
     "name": "stdout",
     "output_type": "stream",
     "text": [
      "         DatabaseName SchemaName  TableName\n",
      "6016  GCPS_Operations      ERROR  SASI_ASTU\n"
     ]
    }
   ],
   "source": [
    "d = dfgcpsops0088[['DatabaseName', 'SchemaName','TableName']]#.format(z)\n",
    "d = d.drop_duplicates()\n",
    "e = d['DatabaseName'].values[0]\n",
    "f = d['SchemaName'].values[0]\n",
    "g = d['TableName'].values[0]\n",
    "print (d)\n",
    "FileName = ('GCPS_Ops_{}_{}'.format(f,g))\n",
    "\n",
    "fig = px.scatter(dfgcpsops0088, x = 'TodaysDate', y='RecordCount', size = 'RecordCount', color = 'RecordCount')#.format(z)\n",
    "fig.update_layout(title = '{0},{1},{2}'.format(e,f,g))\n",
    "fig.update_layout(yaxis_zeroline=False, xaxis_zeroline=False)\n",
    "fig.update_xaxes(title_font=dict(size=18, color='crimson'))\n",
    "fig.update_yaxes(title_font=dict(size=18, color='crimson'))\n",
    "fig.update_xaxes(ticks=\"inside\")\n",
    "fig.update_yaxes(ticks=\"inside\")\n",
    "fig.update_xaxes(tickangle=45, tickfont=dict(color='crimson', size=14))\n",
    "fig.update_xaxes(showline=True, linewidth=2, linecolor='black', mirror=True, gridcolor='Pink')\n",
    "fig.update_yaxes(showline=True, linewidth=2, linecolor='black', mirror=True, gridcolor='Red')\n",
    "#fig.show()\n",
    "fig.write_html(r'C:\\Users\\eeeeeeeeee\\Documents\\JupyterAnacondaPythonNotebooks\\Daily\\Charts_px\\GCPS_Ops\\{}.html'.format(FileName))\n",
    "plt.close()"
   ]
  },
  {
   "cell_type": "code",
   "execution_count": 105,
   "metadata": {},
   "outputs": [
    {
     "name": "stdout",
     "output_type": "stream",
     "text": [
      "         DatabaseName SchemaName     TableName\n",
      "6298  GCPS_Operations      ERROR  SCH_LOCATION\n"
     ]
    }
   ],
   "source": [
    "d = dfgcpsops0089[['DatabaseName', 'SchemaName','TableName']]#.format(z)\n",
    "d = d.drop_duplicates()\n",
    "e = d['DatabaseName'].values[0]\n",
    "f = d['SchemaName'].values[0]\n",
    "g = d['TableName'].values[0]\n",
    "print (d)\n",
    "FileName = ('GCPS_Ops_{}_{}'.format(f,g))\n",
    "\n",
    "fig = px.scatter(dfgcpsops0089, x = 'TodaysDate', y='RecordCount', size = 'RecordCount', color = 'RecordCount')#.format(z)\n",
    "fig.update_layout(title = '{0},{1},{2}'.format(e,f,g))\n",
    "fig.update_layout(yaxis_zeroline=False, xaxis_zeroline=False)\n",
    "fig.update_xaxes(title_font=dict(size=18, color='crimson'))\n",
    "fig.update_yaxes(title_font=dict(size=18, color='crimson'))\n",
    "fig.update_xaxes(ticks=\"inside\")\n",
    "fig.update_yaxes(ticks=\"inside\")\n",
    "fig.update_xaxes(tickangle=45, tickfont=dict(color='crimson', size=14))\n",
    "fig.update_xaxes(showline=True, linewidth=2, linecolor='black', mirror=True, gridcolor='Pink')\n",
    "fig.update_yaxes(showline=True, linewidth=2, linecolor='black', mirror=True, gridcolor='Red')\n",
    "#fig.show()\n",
    "fig.write_html(r'C:\\Users\\eeeeeeeeee\\Documents\\JupyterAnacondaPythonNotebooks\\Daily\\Charts_px\\GCPS_Ops\\{}.html'.format(FileName))\n",
    "plt.close()"
   ]
  },
  {
   "cell_type": "code",
   "execution_count": 106,
   "metadata": {},
   "outputs": [
    {
     "name": "stdout",
     "output_type": "stream",
     "text": [
      "         DatabaseName SchemaName TableName\n",
      "6110  GCPS_Operations      ERROR  SCHEDULE\n"
     ]
    }
   ],
   "source": [
    "d = dfgcpsops0090[['DatabaseName', 'SchemaName','TableName']]#.format(z)\n",
    "d = d.drop_duplicates()\n",
    "e = d['DatabaseName'].values[0]\n",
    "f = d['SchemaName'].values[0]\n",
    "g = d['TableName'].values[0]\n",
    "print (d)\n",
    "FileName = ('GCPS_Ops_{}_{}'.format(f,g))\n",
    "\n",
    "fig = px.scatter(dfgcpsops0090, x = 'TodaysDate', y='RecordCount', size = 'RecordCount', color = 'RecordCount')#.format(z)\n",
    "fig.update_layout(title = '{0},{1},{2}'.format(e,f,g))\n",
    "fig.update_layout(yaxis_zeroline=False, xaxis_zeroline=False)\n",
    "fig.update_xaxes(title_font=dict(size=18, color='crimson'))\n",
    "fig.update_yaxes(title_font=dict(size=18, color='crimson'))\n",
    "fig.update_xaxes(ticks=\"inside\")\n",
    "fig.update_yaxes(ticks=\"inside\")\n",
    "fig.update_xaxes(tickangle=45, tickfont=dict(color='crimson', size=14))\n",
    "fig.update_xaxes(showline=True, linewidth=2, linecolor='black', mirror=True, gridcolor='Pink')\n",
    "fig.update_yaxes(showline=True, linewidth=2, linecolor='black', mirror=True, gridcolor='Red')\n",
    "#fig.show()\n",
    "fig.write_html(r'C:\\Users\\eeeeeeeeee\\Documents\\JupyterAnacondaPythonNotebooks\\Daily\\Charts_px\\GCPS_Ops\\{}.html'.format(FileName))\n",
    "plt.close()"
   ]
  },
  {
   "cell_type": "code",
   "execution_count": 107,
   "metadata": {},
   "outputs": [
    {
     "name": "stdout",
     "output_type": "stream",
     "text": [
      "         DatabaseName SchemaName                     TableName\n",
      "6204  GCPS_Operations      ERROR  SCHOOL DATA CONVERSION ERROR\n"
     ]
    }
   ],
   "source": [
    "d = dfgcpsops0091[['DatabaseName', 'SchemaName','TableName']]#.format(z)\n",
    "d = d.drop_duplicates()\n",
    "e = d['DatabaseName'].values[0]\n",
    "f = d['SchemaName'].values[0]\n",
    "g = d['TableName'].values[0]\n",
    "print (d)\n",
    "FileName = ('GCPS_Ops_{}_{}'.format(f,g))\n",
    "\n",
    "fig = px.scatter(dfgcpsops0091, x = 'TodaysDate', y='RecordCount', size = 'RecordCount', color = 'RecordCount')#.format(z)\n",
    "fig.update_layout(title = '{0},{1},{2}'.format(e,f,g))\n",
    "fig.update_layout(yaxis_zeroline=False, xaxis_zeroline=False)\n",
    "fig.update_xaxes(title_font=dict(size=18, color='crimson'))\n",
    "fig.update_yaxes(title_font=dict(size=18, color='crimson'))\n",
    "fig.update_xaxes(ticks=\"inside\")\n",
    "fig.update_yaxes(ticks=\"inside\")\n",
    "fig.update_xaxes(tickangle=45, tickfont=dict(color='crimson', size=14))\n",
    "fig.update_xaxes(showline=True, linewidth=2, linecolor='black', mirror=True, gridcolor='Pink')\n",
    "fig.update_yaxes(showline=True, linewidth=2, linecolor='black', mirror=True, gridcolor='Red')\n",
    "#fig.show()\n",
    "fig.write_html(r'C:\\Users\\eeeeeeeeee\\Documents\\JupyterAnacondaPythonNotebooks\\Daily\\Charts_px\\GCPS_Ops\\{}.html'.format(FileName))\n",
    "plt.close()"
   ]
  },
  {
   "cell_type": "code",
   "execution_count": 108,
   "metadata": {},
   "outputs": [
    {
     "name": "stdout",
     "output_type": "stream",
     "text": [
      "         DatabaseName SchemaName       TableName\n",
      "7332  GCPS_Operations      ERROR  School_Cluster\n"
     ]
    }
   ],
   "source": [
    "d = dfgcpsops0092[['DatabaseName', 'SchemaName','TableName']]#.format(z)\n",
    "d = d.drop_duplicates()\n",
    "e = d['DatabaseName'].values[0]\n",
    "f = d['SchemaName'].values[0]\n",
    "g = d['TableName'].values[0]\n",
    "print (d)\n",
    "FileName = ('GCPS_Ops_{}_{}'.format(f,g))\n",
    "\n",
    "fig = px.scatter(dfgcpsops0092, x = 'TodaysDate', y='RecordCount', size = 'RecordCount', color = 'RecordCount')#.format(z)\n",
    "fig.update_layout(title = '{0},{1},{2}'.format(e,f,g))\n",
    "fig.update_layout(yaxis_zeroline=False, xaxis_zeroline=False)\n",
    "fig.update_xaxes(title_font=dict(size=18, color='crimson'))\n",
    "fig.update_yaxes(title_font=dict(size=18, color='crimson'))\n",
    "fig.update_xaxes(ticks=\"inside\")\n",
    "fig.update_yaxes(ticks=\"inside\")\n",
    "fig.update_xaxes(tickangle=45, tickfont=dict(color='crimson', size=14))\n",
    "fig.update_xaxes(showline=True, linewidth=2, linecolor='black', mirror=True, gridcolor='Pink')\n",
    "fig.update_yaxes(showline=True, linewidth=2, linecolor='black', mirror=True, gridcolor='Red')\n",
    "#fig.show()\n",
    "fig.write_html(r'C:\\Users\\eeeeeeeeee\\Documents\\JupyterAnacondaPythonNotebooks\\Daily\\Charts_px\\GCPS_Ops\\{}.html'.format(FileName))\n",
    "plt.close()"
   ]
  },
  {
   "cell_type": "code",
   "execution_count": 109,
   "metadata": {},
   "outputs": [
    {
     "name": "stdout",
     "output_type": "stream",
     "text": [
      "         DatabaseName SchemaName     TableName\n",
      "7896  GCPS_Operations      ERROR  Student Data\n"
     ]
    }
   ],
   "source": [
    "d = dfgcpsops0093[['DatabaseName', 'SchemaName','TableName']]#.format(z)\n",
    "d = d.drop_duplicates()\n",
    "e = d['DatabaseName'].values[0]\n",
    "f = d['SchemaName'].values[0]\n",
    "g = d['TableName'].values[0]\n",
    "print (d)\n",
    "FileName = ('GCPS_Ops_{}_{}'.format(f,g))\n",
    "\n",
    "fig = px.scatter(dfgcpsops0093, x = 'TodaysDate', y='RecordCount', size = 'RecordCount', color = 'RecordCount')#.format(z)\n",
    "fig.update_layout(title = '{0},{1},{2}'.format(e,f,g))\n",
    "fig.update_layout(yaxis_zeroline=False, xaxis_zeroline=False)\n",
    "fig.update_xaxes(title_font=dict(size=18, color='crimson'))\n",
    "fig.update_yaxes(title_font=dict(size=18, color='crimson'))\n",
    "fig.update_xaxes(ticks=\"inside\")\n",
    "fig.update_yaxes(ticks=\"inside\")\n",
    "fig.update_xaxes(tickangle=45, tickfont=dict(color='crimson', size=14))\n",
    "fig.update_xaxes(showline=True, linewidth=2, linecolor='black', mirror=True, gridcolor='Pink')\n",
    "fig.update_yaxes(showline=True, linewidth=2, linecolor='black', mirror=True, gridcolor='Red')\n",
    "#fig.show()\n",
    "fig.write_html(r'C:\\Users\\eeeeeeeeee\\Documents\\JupyterAnacondaPythonNotebooks\\Daily\\Charts_px\\GCPS_Ops\\{}.html'.format(FileName))\n",
    "plt.close()"
   ]
  },
  {
   "cell_type": "code",
   "execution_count": 110,
   "metadata": {},
   "outputs": [
    {
     "name": "stdout",
     "output_type": "stream",
     "text": [
      "         DatabaseName SchemaName      TableName\n",
      "7990  GCPS_Operations      ERROR  Student FTEID\n"
     ]
    }
   ],
   "source": [
    "d = dfgcpsops0094[['DatabaseName', 'SchemaName','TableName']]#.format(z)\n",
    "d = d.drop_duplicates()\n",
    "e = d['DatabaseName'].values[0]\n",
    "f = d['SchemaName'].values[0]\n",
    "g = d['TableName'].values[0]\n",
    "print (d)\n",
    "FileName = ('GCPS_Ops_{}_{}'.format(f,g))\n",
    "\n",
    "fig = px.scatter(dfgcpsops0094, x = 'TodaysDate', y='RecordCount', size = 'RecordCount', color = 'RecordCount')#.format(z)\n",
    "fig.update_layout(title = '{0},{1},{2}'.format(e,f,g))\n",
    "fig.update_layout(yaxis_zeroline=False, xaxis_zeroline=False)\n",
    "fig.update_xaxes(title_font=dict(size=18, color='crimson'))\n",
    "fig.update_yaxes(title_font=dict(size=18, color='crimson'))\n",
    "fig.update_xaxes(ticks=\"inside\")\n",
    "fig.update_yaxes(ticks=\"inside\")\n",
    "fig.update_xaxes(tickangle=45, tickfont=dict(color='crimson', size=14))\n",
    "fig.update_xaxes(showline=True, linewidth=2, linecolor='black', mirror=True, gridcolor='Pink')\n",
    "fig.update_yaxes(showline=True, linewidth=2, linecolor='black', mirror=True, gridcolor='Red')\n",
    "#fig.show()\n",
    "fig.write_html(r'C:\\Users\\eeeeeeeeee\\Documents\\JupyterAnacondaPythonNotebooks\\Daily\\Charts_px\\GCPS_Ops\\{}.html'.format(FileName))\n",
    "plt.close()"
   ]
  },
  {
   "cell_type": "code",
   "execution_count": 111,
   "metadata": {},
   "outputs": [
    {
     "name": "stdout",
     "output_type": "stream",
     "text": [
      "         DatabaseName SchemaName               TableName\n",
      "6580  GCPS_Operations      ERROR  STUDENT_ACADEMIC_CODES\n"
     ]
    }
   ],
   "source": [
    "d = dfgcpsops0095[['DatabaseName', 'SchemaName','TableName']]#.format(z)\n",
    "d = d.drop_duplicates()\n",
    "e = d['DatabaseName'].values[0]\n",
    "f = d['SchemaName'].values[0]\n",
    "g = d['TableName'].values[0]\n",
    "print (d)\n",
    "FileName = ('GCPS_Ops_{}_{}'.format(f,g))\n",
    "\n",
    "fig = px.scatter(dfgcpsops0095, x = 'TodaysDate', y='RecordCount', size = 'RecordCount', color = 'RecordCount')#.format(z)\n",
    "fig.update_layout(title = '{0},{1},{2}'.format(e,f,g))\n",
    "fig.update_layout(yaxis_zeroline=False, xaxis_zeroline=False)\n",
    "fig.update_xaxes(title_font=dict(size=18, color='crimson'))\n",
    "fig.update_yaxes(title_font=dict(size=18, color='crimson'))\n",
    "fig.update_xaxes(ticks=\"inside\")\n",
    "fig.update_yaxes(ticks=\"inside\")\n",
    "fig.update_xaxes(tickangle=45, tickfont=dict(color='crimson', size=14))\n",
    "fig.update_xaxes(showline=True, linewidth=2, linecolor='black', mirror=True, gridcolor='Pink')\n",
    "fig.update_yaxes(showline=True, linewidth=2, linecolor='black', mirror=True, gridcolor='Red')\n",
    "#fig.show()\n",
    "fig.write_html(r'C:\\Users\\eeeeeeeeee\\Documents\\JupyterAnacondaPythonNotebooks\\Daily\\Charts_px\\GCPS_Ops\\{}.html'.format(FileName))\n",
    "plt.close()"
   ]
  },
  {
   "cell_type": "code",
   "execution_count": 112,
   "metadata": {},
   "outputs": [
    {
     "name": "stdout",
     "output_type": "stream",
     "text": [
      "         DatabaseName SchemaName               TableName\n",
      "6674  GCPS_Operations      ERROR  STUDENT_ACADEMIC_MAJOR\n"
     ]
    }
   ],
   "source": [
    "d = dfgcpsops0096[['DatabaseName', 'SchemaName','TableName']]#.format(z)\n",
    "d = d.drop_duplicates()\n",
    "e = d['DatabaseName'].values[0]\n",
    "f = d['SchemaName'].values[0]\n",
    "g = d['TableName'].values[0]\n",
    "print (d)\n",
    "FileName = ('GCPS_Ops_{}_{}'.format(f,g))\n",
    "\n",
    "fig = px.scatter(dfgcpsops0096, x = 'TodaysDate', y='RecordCount', size = 'RecordCount', color = 'RecordCount')#.format(z)\n",
    "fig.update_layout(title = '{0},{1},{2}'.format(e,f,g))\n",
    "fig.update_layout(yaxis_zeroline=False, xaxis_zeroline=False)\n",
    "fig.update_xaxes(title_font=dict(size=18, color='crimson'))\n",
    "fig.update_yaxes(title_font=dict(size=18, color='crimson'))\n",
    "fig.update_xaxes(ticks=\"inside\")\n",
    "fig.update_yaxes(ticks=\"inside\")\n",
    "fig.update_xaxes(tickangle=45, tickfont=dict(color='crimson', size=14))\n",
    "fig.update_xaxes(showline=True, linewidth=2, linecolor='black', mirror=True, gridcolor='Pink')\n",
    "fig.update_yaxes(showline=True, linewidth=2, linecolor='black', mirror=True, gridcolor='Red')\n",
    "#fig.show()\n",
    "fig.write_html(r'C:\\Users\\eeeeeeeeee\\Documents\\JupyterAnacondaPythonNotebooks\\Daily\\Charts_px\\GCPS_Ops\\{}.html'.format(FileName))\n",
    "plt.close()"
   ]
  },
  {
   "cell_type": "code",
   "execution_count": 113,
   "metadata": {},
   "outputs": [
    {
     "name": "stdout",
     "output_type": "stream",
     "text": [
      "         DatabaseName SchemaName                 TableName\n",
      "6768  GCPS_Operations      ERROR  STUDENT_ATTENDANCE_SUMRY\n"
     ]
    }
   ],
   "source": [
    "d = dfgcpsops0097[['DatabaseName', 'SchemaName','TableName']]#.format(z)\n",
    "d = d.drop_duplicates()\n",
    "e = d['DatabaseName'].values[0]\n",
    "f = d['SchemaName'].values[0]\n",
    "g = d['TableName'].values[0]\n",
    "print (d)\n",
    "FileName = ('GCPS_Ops_{}_{}'.format(f,g))\n",
    "\n",
    "fig = px.scatter(dfgcpsops0097, x = 'TodaysDate', y='RecordCount', size = 'RecordCount', color = 'RecordCount')#.format(z)\n",
    "fig.update_layout(title = '{0},{1},{2}'.format(e,f,g))\n",
    "fig.update_layout(yaxis_zeroline=False, xaxis_zeroline=False)\n",
    "fig.update_xaxes(title_font=dict(size=18, color='crimson'))\n",
    "fig.update_yaxes(title_font=dict(size=18, color='crimson'))\n",
    "fig.update_xaxes(ticks=\"inside\")\n",
    "fig.update_yaxes(ticks=\"inside\")\n",
    "fig.update_xaxes(tickangle=45, tickfont=dict(color='crimson', size=14))\n",
    "fig.update_xaxes(showline=True, linewidth=2, linecolor='black', mirror=True, gridcolor='Pink')\n",
    "fig.update_yaxes(showline=True, linewidth=2, linecolor='black', mirror=True, gridcolor='Red')\n",
    "#fig.show()\n",
    "fig.write_html(r'C:\\Users\\eeeeeeeeee\\Documents\\JupyterAnacondaPythonNotebooks\\Daily\\Charts_px\\GCPS_Ops\\{}.html'.format(FileName))\n",
    "plt.close()"
   ]
  },
  {
   "cell_type": "code",
   "execution_count": 114,
   "metadata": {},
   "outputs": [
    {
     "name": "stdout",
     "output_type": "stream",
     "text": [
      "         DatabaseName SchemaName         TableName\n",
      "6956  GCPS_Operations      ERROR  STUDENT_GURADIAN\n"
     ]
    }
   ],
   "source": [
    "d = dfgcpsops0098[['DatabaseName', 'SchemaName','TableName']]#.format(z)\n",
    "d = d.drop_duplicates()\n",
    "e = d['DatabaseName'].values[0]\n",
    "f = d['SchemaName'].values[0]\n",
    "g = d['TableName'].values[0]\n",
    "print (d)\n",
    "FileName = ('GCPS_Ops_{}_{}'.format(f,g))\n",
    "\n",
    "fig = px.scatter(dfgcpsops0098, x = 'TodaysDate', y='RecordCount', size = 'RecordCount', color = 'RecordCount')#.format(z)\n",
    "fig.update_layout(title = '{0},{1},{2}'.format(e,f,g))\n",
    "fig.update_layout(yaxis_zeroline=False, xaxis_zeroline=False)\n",
    "fig.update_xaxes(title_font=dict(size=18, color='crimson'))\n",
    "fig.update_yaxes(title_font=dict(size=18, color='crimson'))\n",
    "fig.update_xaxes(ticks=\"inside\")\n",
    "fig.update_yaxes(ticks=\"inside\")\n",
    "fig.update_xaxes(tickangle=45, tickfont=dict(color='crimson', size=14))\n",
    "fig.update_xaxes(showline=True, linewidth=2, linecolor='black', mirror=True, gridcolor='Pink')\n",
    "fig.update_yaxes(showline=True, linewidth=2, linecolor='black', mirror=True, gridcolor='Red')\n",
    "#fig.show()\n",
    "fig.write_html(r'C:\\Users\\eeeeeeeeee\\Documents\\JupyterAnacondaPythonNotebooks\\Daily\\Charts_px\\GCPS_Ops\\{}.html'.format(FileName))\n",
    "plt.close()"
   ]
  },
  {
   "cell_type": "code",
   "execution_count": 115,
   "metadata": {},
   "outputs": [
    {
     "name": "stdout",
     "output_type": "stream",
     "text": [
      "         DatabaseName SchemaName       TableName\n",
      "7050  GCPS_Operations      ERROR  STUDENT_LOOKUP\n"
     ]
    }
   ],
   "source": [
    "d = dfgcpsops0099[['DatabaseName', 'SchemaName','TableName']]#.format(z)\n",
    "d = d.drop_duplicates()\n",
    "e = d['DatabaseName'].values[0]\n",
    "f = d['SchemaName'].values[0]\n",
    "g = d['TableName'].values[0]\n",
    "print (d)\n",
    "FileName = ('GCPS_Ops_{}_{}'.format(f,g))\n",
    "\n",
    "fig = px.scatter(dfgcpsops0099, x = 'TodaysDate', y='RecordCount', size = 'RecordCount', color = 'RecordCount')#.format(z)\n",
    "fig.update_layout(title = '{0},{1},{2}'.format(e,f,g))\n",
    "fig.update_layout(yaxis_zeroline=False, xaxis_zeroline=False)\n",
    "fig.update_xaxes(title_font=dict(size=18, color='crimson'))\n",
    "fig.update_yaxes(title_font=dict(size=18, color='crimson'))\n",
    "fig.update_xaxes(ticks=\"inside\")\n",
    "fig.update_yaxes(ticks=\"inside\")\n",
    "fig.update_xaxes(tickangle=45, tickfont=dict(color='crimson', size=14))\n",
    "fig.update_xaxes(showline=True, linewidth=2, linecolor='black', mirror=True, gridcolor='Pink')\n",
    "fig.update_yaxes(showline=True, linewidth=2, linecolor='black', mirror=True, gridcolor='Red')\n",
    "#fig.show()\n",
    "fig.write_html(r'C:\\Users\\eeeeeeeeee\\Documents\\JupyterAnacondaPythonNotebooks\\Daily\\Charts_px\\GCPS_Ops\\{}.html'.format(FileName))\n",
    "plt.close()"
   ]
  },
  {
   "cell_type": "code",
   "execution_count": 116,
   "metadata": {},
   "outputs": [
    {
     "name": "stdout",
     "output_type": "stream",
     "text": [
      "         DatabaseName SchemaName                  TableName\n",
      "7144  GCPS_Operations      ERROR  STUDENT_SCHEDULE_LOOKUP 1\n"
     ]
    }
   ],
   "source": [
    "d = dfgcpsops0100[['DatabaseName', 'SchemaName','TableName']]#.format(z)\n",
    "d = d.drop_duplicates()\n",
    "e = d['DatabaseName'].values[0]\n",
    "f = d['SchemaName'].values[0]\n",
    "g = d['TableName'].values[0]\n",
    "print (d)\n",
    "FileName = ('GCPS_Ops_{}_{}'.format(f,g))\n",
    "\n",
    "fig = px.scatter(dfgcpsops0100, x = 'TodaysDate', y='RecordCount', size = 'RecordCount', color = 'RecordCount')#.format(z)\n",
    "fig.update_layout(title = '{0},{1},{2}'.format(e,f,g))\n",
    "fig.update_layout(yaxis_zeroline=False, xaxis_zeroline=False)\n",
    "fig.update_xaxes(title_font=dict(size=18, color='crimson'))\n",
    "fig.update_yaxes(title_font=dict(size=18, color='crimson'))\n",
    "fig.update_xaxes(ticks=\"inside\")\n",
    "fig.update_yaxes(ticks=\"inside\")\n",
    "fig.update_xaxes(tickangle=45, tickfont=dict(color='crimson', size=14))\n",
    "fig.update_xaxes(showline=True, linewidth=2, linecolor='black', mirror=True, gridcolor='Pink')\n",
    "fig.update_yaxes(showline=True, linewidth=2, linecolor='black', mirror=True, gridcolor='Red')\n",
    "#fig.show()\n",
    "fig.write_html(r'C:\\Users\\eeeeeeeeee\\Documents\\JupyterAnacondaPythonNotebooks\\Daily\\Charts_px\\GCPS_Ops\\{}.html'.format(FileName))\n",
    "plt.close()"
   ]
  },
  {
   "cell_type": "code",
   "execution_count": 117,
   "metadata": {},
   "outputs": [
    {
     "name": "stdout",
     "output_type": "stream",
     "text": [
      "         DatabaseName SchemaName       TableName\n",
      "8084  GCPS_Operations      ERROR  TEACHER_LOOKUP\n"
     ]
    }
   ],
   "source": [
    "d = dfgcpsops0101[['DatabaseName', 'SchemaName','TableName']]#.format(z)\n",
    "d = d.drop_duplicates()\n",
    "e = d['DatabaseName'].values[0]\n",
    "f = d['SchemaName'].values[0]\n",
    "g = d['TableName'].values[0]\n",
    "print (d)\n",
    "FileName = ('GCPS_Ops_{}_{}'.format(f,g))\n",
    "\n",
    "fig = px.scatter(dfgcpsops0101, x = 'TodaysDate', y='RecordCount', size = 'RecordCount', color = 'RecordCount')#.format(z)\n",
    "fig.update_layout(title = '{0},{1},{2}'.format(e,f,g))\n",
    "fig.update_layout(yaxis_zeroline=False, xaxis_zeroline=False)\n",
    "fig.update_xaxes(title_font=dict(size=18, color='crimson'))\n",
    "fig.update_yaxes(title_font=dict(size=18, color='crimson'))\n",
    "fig.update_xaxes(ticks=\"inside\")\n",
    "fig.update_yaxes(ticks=\"inside\")\n",
    "fig.update_xaxes(tickangle=45, tickfont=dict(color='crimson', size=14))\n",
    "fig.update_xaxes(showline=True, linewidth=2, linecolor='black', mirror=True, gridcolor='Pink')\n",
    "fig.update_yaxes(showline=True, linewidth=2, linecolor='black', mirror=True, gridcolor='Red')\n",
    "#fig.show()\n",
    "fig.write_html(r'C:\\Users\\eeeeeeeeee\\Documents\\JupyterAnacondaPythonNotebooks\\Daily\\Charts_px\\GCPS_Ops\\{}.html'.format(FileName))\n",
    "plt.close()"
   ]
  },
  {
   "cell_type": "code",
   "execution_count": 118,
   "metadata": {},
   "outputs": [
    {
     "name": "stdout",
     "output_type": "stream",
     "text": [
      "         DatabaseName SchemaName  TableName\n",
      "9704  GCPS_Operations      ERROR  temp GLOC\n"
     ]
    }
   ],
   "source": [
    "d = dfgcpsops0102[['DatabaseName', 'SchemaName','TableName']]#.format(z)\n",
    "d = d.drop_duplicates()\n",
    "e = d['DatabaseName'].values[0]\n",
    "f = d['SchemaName'].values[0]\n",
    "g = d['TableName'].values[0]\n",
    "print (d)\n",
    "FileName = ('GCPS_Ops_{}_{}'.format(f,g))\n",
    "\n",
    "fig = px.scatter(dfgcpsops0102, x = 'TodaysDate', y='RecordCount', size = 'RecordCount', color = 'RecordCount')#.format(z)\n",
    "fig.update_layout(title = '{0},{1},{2}'.format(e,f,g))\n",
    "fig.update_layout(yaxis_zeroline=False, xaxis_zeroline=False)\n",
    "fig.update_xaxes(title_font=dict(size=18, color='crimson'))\n",
    "fig.update_yaxes(title_font=dict(size=18, color='crimson'))\n",
    "fig.update_xaxes(ticks=\"inside\")\n",
    "fig.update_yaxes(ticks=\"inside\")\n",
    "fig.update_xaxes(tickangle=45, tickfont=dict(color='crimson', size=14))\n",
    "fig.update_xaxes(showline=True, linewidth=2, linecolor='black', mirror=True, gridcolor='Pink')\n",
    "fig.update_yaxes(showline=True, linewidth=2, linecolor='black', mirror=True, gridcolor='Red')\n",
    "#fig.show()\n",
    "fig.write_html(r'C:\\Users\\eeeeeeeeee\\Documents\\JupyterAnacondaPythonNotebooks\\Daily\\Charts_px\\GCPS_Ops\\{}.html'.format(FileName))\n",
    "plt.close()"
   ]
  },
  {
   "cell_type": "code",
   "execution_count": 119,
   "metadata": {},
   "outputs": [
    {
     "name": "stdout",
     "output_type": "stream",
     "text": [
      "         DatabaseName SchemaName     TableName\n",
      "4230  GCPS_Operations        PBI  ISC_Name_Map\n"
     ]
    }
   ],
   "source": [
    "d = dfgcpsops0103[['DatabaseName', 'SchemaName','TableName']]#.format(z)\n",
    "d = d.drop_duplicates()\n",
    "e = d['DatabaseName'].values[0]\n",
    "f = d['SchemaName'].values[0]\n",
    "g = d['TableName'].values[0]\n",
    "print (d)\n",
    "FileName = ('GCPS_Ops_{}_{}'.format(f,g))\n",
    "\n",
    "fig = px.scatter(dfgcpsops0103, x = 'TodaysDate', y='RecordCount', size = 'RecordCount', color = 'RecordCount')#.format(z)\n",
    "fig.update_layout(title = '{0},{1},{2}'.format(e,f,g))\n",
    "fig.update_layout(yaxis_zeroline=False, xaxis_zeroline=False)\n",
    "fig.update_xaxes(title_font=dict(size=18, color='crimson'))\n",
    "fig.update_yaxes(title_font=dict(size=18, color='crimson'))\n",
    "fig.update_xaxes(ticks=\"inside\")\n",
    "fig.update_yaxes(ticks=\"inside\")\n",
    "fig.update_xaxes(tickangle=45, tickfont=dict(color='crimson', size=14))\n",
    "fig.update_xaxes(showline=True, linewidth=2, linecolor='black', mirror=True, gridcolor='Pink')\n",
    "fig.update_yaxes(showline=True, linewidth=2, linecolor='black', mirror=True, gridcolor='Red')\n",
    "#fig.show()\n",
    "fig.write_html(r'C:\\Users\\eeeeeeeeee\\Documents\\JupyterAnacondaPythonNotebooks\\Daily\\Charts_px\\GCPS_Ops\\{}.html'.format(FileName))\n",
    "plt.close()"
   ]
  },
  {
   "cell_type": "code",
   "execution_count": 120,
   "metadata": {},
   "outputs": [
    {
     "name": "stdout",
     "output_type": "stream",
     "text": [
      "         DatabaseName SchemaName            TableName\n",
      "9494  GCPS_Operations    psft_hr  tbl_hrfiles_routing\n"
     ]
    }
   ],
   "source": [
    "d = dfgcpsops0104[['DatabaseName', 'SchemaName','TableName']]#.format(z)\n",
    "d = d.drop_duplicates()\n",
    "e = d['DatabaseName'].values[0]\n",
    "f = d['SchemaName'].values[0]\n",
    "g = d['TableName'].values[0]\n",
    "print (d)\n",
    "FileName = ('GCPS_Ops_{}_{}'.format(f,g))\n",
    "\n",
    "fig = px.scatter(dfgcpsops0104, x = 'TodaysDate', y='RecordCount', size = 'RecordCount', color = 'RecordCount')#.format(z)\n",
    "fig.update_layout(title = '{0},{1},{2}'.format(e,f,g))\n",
    "fig.update_layout(yaxis_zeroline=False, xaxis_zeroline=False)\n",
    "fig.update_xaxes(title_font=dict(size=18, color='crimson'))\n",
    "fig.update_yaxes(title_font=dict(size=18, color='crimson'))\n",
    "fig.update_xaxes(ticks=\"inside\")\n",
    "fig.update_yaxes(ticks=\"inside\")\n",
    "fig.update_xaxes(tickangle=45, tickfont=dict(color='crimson', size=14))\n",
    "fig.update_xaxes(showline=True, linewidth=2, linecolor='black', mirror=True, gridcolor='Pink')\n",
    "fig.update_yaxes(showline=True, linewidth=2, linecolor='black', mirror=True, gridcolor='Red')\n",
    "#fig.show()\n",
    "fig.write_html(r'C:\\Users\\eeeeeeeeee\\Documents\\JupyterAnacondaPythonNotebooks\\Daily\\Charts_px\\GCPS_Ops\\{}.html'.format(FileName))\n",
    "plt.close()"
   ]
  },
  {
   "cell_type": "code",
   "execution_count": 121,
   "metadata": {},
   "outputs": [
    {
     "name": "stdout",
     "output_type": "stream",
     "text": [
      "         DatabaseName SchemaName            TableName\n",
      "9588  GCPS_Operations    psft_hr  tbl_hrvendor_config\n"
     ]
    }
   ],
   "source": [
    "d = dfgcpsops0105[['DatabaseName', 'SchemaName','TableName']]#.format(z)\n",
    "d = d.drop_duplicates()\n",
    "e = d['DatabaseName'].values[0]\n",
    "f = d['SchemaName'].values[0]\n",
    "g = d['TableName'].values[0]\n",
    "print (d)\n",
    "FileName = ('GCPS_Ops_{}_{}'.format(f,g))\n",
    "\n",
    "fig = px.scatter(dfgcpsops0105, x = 'TodaysDate', y='RecordCount', size = 'RecordCount', color = 'RecordCount')#.format(z)\n",
    "fig.update_layout(title = '{0},{1},{2}'.format(e,f,g))\n",
    "fig.update_layout(yaxis_zeroline=False, xaxis_zeroline=False)\n",
    "fig.update_xaxes(title_font=dict(size=18, color='crimson'))\n",
    "fig.update_yaxes(title_font=dict(size=18, color='crimson'))\n",
    "fig.update_xaxes(ticks=\"inside\")\n",
    "fig.update_yaxes(ticks=\"inside\")\n",
    "fig.update_xaxes(tickangle=45, tickfont=dict(color='crimson', size=14))\n",
    "fig.update_xaxes(showline=True, linewidth=2, linecolor='black', mirror=True, gridcolor='Pink')\n",
    "fig.update_yaxes(showline=True, linewidth=2, linecolor='black', mirror=True, gridcolor='Red')\n",
    "#fig.show()\n",
    "fig.write_html(r'C:\\Users\\eeeeeeeeee\\Documents\\JupyterAnacondaPythonNotebooks\\Daily\\Charts_px\\GCPS_Ops\\{}.html'.format(FileName))\n",
    "plt.close()"
   ]
  },
  {
   "cell_type": "code",
   "execution_count": 122,
   "metadata": {},
   "outputs": [
    {
     "name": "stdout",
     "output_type": "stream",
     "text": [
      "         DatabaseName SchemaName       TableName\n",
      "9682  GCPS_Operations    psft_hr  tbl_rpt_config\n"
     ]
    }
   ],
   "source": [
    "d = dfgcpsops0106[['DatabaseName', 'SchemaName','TableName']]#.format(z)\n",
    "d = d.drop_duplicates()\n",
    "e = d['DatabaseName'].values[0]\n",
    "f = d['SchemaName'].values[0]\n",
    "g = d['TableName'].values[0]\n",
    "print (d)\n",
    "FileName = ('GCPS_Ops_{}_{}'.format(f,g))\n",
    "\n",
    "fig = px.scatter(dfgcpsops0106, x = 'TodaysDate', y='RecordCount', size = 'RecordCount', color = 'RecordCount')#.format(z)\n",
    "fig.update_layout(title = '{0},{1},{2}'.format(e,f,g))\n",
    "fig.update_layout(yaxis_zeroline=False, xaxis_zeroline=False)\n",
    "fig.update_xaxes(title_font=dict(size=18, color='crimson'))\n",
    "fig.update_yaxes(title_font=dict(size=18, color='crimson'))\n",
    "fig.update_xaxes(ticks=\"inside\")\n",
    "fig.update_yaxes(ticks=\"inside\")\n",
    "fig.update_xaxes(tickangle=45, tickfont=dict(color='crimson', size=14))\n",
    "fig.update_xaxes(showline=True, linewidth=2, linecolor='black', mirror=True, gridcolor='Pink')\n",
    "fig.update_yaxes(showline=True, linewidth=2, linecolor='black', mirror=True, gridcolor='Red')\n",
    "#fig.show()\n",
    "fig.write_html(r'C:\\Users\\eeeeeeeeee\\Documents\\JupyterAnacondaPythonNotebooks\\Daily\\Charts_px\\GCPS_Ops\\{}.html'.format(FileName))\n",
    "plt.close()"
   ]
  },
  {
   "cell_type": "code",
   "execution_count": 123,
   "metadata": {},
   "outputs": [
    {
     "name": "stdout",
     "output_type": "stream",
     "text": [
      "Interactive Chart Creation - Process Complete:  2021-05-11 14:31:46\n"
     ]
    }
   ],
   "source": [
    "now01 = datetime.datetime.now()\n",
    "print('Interactive Chart Creation - Process Complete: ', now01.strftime(\"%Y-%m-%d %H:%M:%S\"))"
   ]
  },
  {
   "cell_type": "code",
   "execution_count": null,
   "metadata": {},
   "outputs": [],
   "source": []
  }
 ],
 "metadata": {
  "kernelspec": {
   "display_name": "Python 3",
   "language": "python",
   "name": "python3"
  },
  "language_info": {
   "codemirror_mode": {
    "name": "ipython",
    "version": 3
   },
   "file_extension": ".py",
   "mimetype": "text/x-python",
   "name": "python",
   "nbconvert_exporter": "python",
   "pygments_lexer": "ipython3",
   "version": "3.8.3"
  }
 },
 "nbformat": 4,
 "nbformat_minor": 4
}
