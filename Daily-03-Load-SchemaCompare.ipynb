{
 "cells": [
  {
   "cell_type": "code",
   "execution_count": 1,
   "metadata": {},
   "outputs": [],
   "source": [
    "#ProgramName:    Daily-03-Load-SchemaCompare-QA-vs-P-DEV\n",
    "#Purpose:        Find differences in object details between QA and Prod ODS\n",
    "#Author:         Greg Turmel, Director, Data Governance \n",
    "#Date:           2020.08.30 - 2021.06.30\n",
    "#Errata:         0.1 Improvements can be made to script using for/looping through the databases\n",
    "\n",
    "import os, sys, argparse, csv, pyodbc, sql, time, datetime\n",
    "import sqlalchemy as db\n",
    "import errno, pathlib2\n",
    "\n",
    "from dotenv import load_dotenv # add this line\n",
    "import pandas as pd\n",
    "import numpy as np\n",
    "\n",
    "load_dotenv() # add this line\n",
    "user = os.getenv('MySQLeUser')\n",
    "password = os.getenv('MySQLeUserPass')\n",
    "host = os.getenv('MySQLeHOST')\n",
    "db = os.getenv('MySQLeDB')"
   ]
  },
  {
   "cell_type": "code",
   "execution_count": 2,
   "metadata": {},
   "outputs": [
    {
     "name": "stdout",
     "output_type": "stream",
     "text": [
      "Parent Directory is:  C:\\Users\\e201873842\\Documents\\Py\n",
      "Directory: Daily >>>>> Note ---- this folder already exists <<<<<\n",
      "Directory: C:\\Users\\e201873842\\Documents\\Py\\Daily\\Compare\\Process >>>>> Note ---- this folder already exists <<<<<\n",
      "Directory: C:\\Users\\e201873842\\Documents\\Py\\Daily\\Compare\\Reports >>>>> Note ---- this folder already exists <<<<<\n",
      "Directory: C:\\Users\\e201873842\\Documents\\Py\\Daily\\Compare\\sql >>>>> Note ---- this folder already exists <<<<<\n",
      "Directory: C:\\Users\\e201873842\\Documents\\Py\\Daily\\config >>>>> Note ---- this folder already exists <<<<<\n"
     ]
    }
   ],
   "source": [
    "# This segment builds the appropriatte file system structure as a variable driven exercise\n",
    "# Take time to set your 'eeeeeeeeee' number as variable 'pn' below \n",
    "# and set the program directory variable called 'programDirectory' before running\n",
    "# ===================================================================================================================\n",
    "pn = r'eeeeeeeeee'            #This represents the windows system employee login folder - IBM team uses a 9 number\n",
    "# ===================================================================================================================\n",
    "\n",
    "programDirectory = 'Daily' # Update this variable to wherever you want the program subfolder/files to be located \n",
    "un = r'C:\\Users'\n",
    "cn = r'Documents\\Py'\n",
    "an = r'Compare\\Process'\n",
    "bn = r'Compare\\Reports'\n",
    "\n",
    "sn = r'Compare\\sql'\n",
    "tn = r'config'\n",
    "\n",
    "#Set a parent directory\n",
    "parentDirectory = \"{}\\{}\\{}\".format(un,pn,cn)\n",
    "print('Parent Directory is: ', parentDirectory)\n",
    "mode = 0o666\n",
    "\n",
    "#Set path location for working with local file(s)\n",
    "path = os.path.join(parentDirectory, programDirectory,)\n",
    "pathCP = os.path.join(parentDirectory, programDirectory, an)\n",
    "pathCR = os.path.join(parentDirectory, programDirectory, bn)\n",
    "pathCS = os.path.join(parentDirectory, programDirectory, sn)\n",
    "pathCT = os.path.join(parentDirectory, programDirectory, tn)\n",
    "\n",
    "procpath = pathCP\n",
    "csvpath = pathCR\n",
    "sqlpath = pathCS\n",
    "configpath = pathCT\n",
    "\n",
    "try:\n",
    "    if not os.path.exists(path):\n",
    "        os.makedirs(path, mode)\n",
    "        print('Program Directory subfolder has been created: ', programDirectory)\n",
    "    else:\n",
    "        print('Directory:', programDirectory, '>>>>> Note ---- this folder already exists <<<<<')\n",
    "except OSError as error:\n",
    "    print(error)\n",
    "    pass\n",
    "\n",
    "try:\n",
    "    if not os.path.exists(pathCP):\n",
    "        os.makedirs(pathCP, mode)\n",
    "        print('Program Directory subfolder has been created: ', pathCP)\n",
    "    else:\n",
    "        print('Directory:', pathCP, '>>>>> Note ---- this folder already exists <<<<<')\n",
    "except OSError as error:\n",
    "    print(error)\n",
    "    pass\n",
    "\n",
    "try:\n",
    "    if not os.path.exists(pathCR):\n",
    "        os.makedirs(pathCR, mode)\n",
    "        print('Program Directory subfolder has been created: ', pathCR)\n",
    "    else:\n",
    "        print('Directory:', pathCR, '>>>>> Note ---- this folder already exists <<<<<')\n",
    "except OSError as error:\n",
    "    print(error)\n",
    "    pass\n",
    "\n",
    "try:\n",
    "    if not os.path.exists(pathCS):\n",
    "        os.makedirs(pathCS, mode)\n",
    "        print('Program Directory subfolder has been created: ', pathCS)\n",
    "    else:\n",
    "        print('Directory:', pathCS, '>>>>> Note ---- this folder already exists <<<<<')\n",
    "except OSError as error:\n",
    "    print(error)\n",
    "    pass\n",
    "\n",
    "try:\n",
    "    if not os.path.exists(pathCT):\n",
    "        os.makedirs(pathCT, mode)\n",
    "        print('Program Directory subfolder has been created: ', pathCT)\n",
    "    else:\n",
    "        print('Directory:', pathCT, '>>>>> Note ---- this folder already exists <<<<<')\n",
    "except OSError as error:\n",
    "    print(error)\n",
    "    pass"
   ]
  },
  {
   "cell_type": "code",
   "execution_count": 3,
   "metadata": {},
   "outputs": [],
   "source": [
    "################################################################################\n",
    "# Variables: \n",
    "################################################################################\n",
    "now01 = datetime.datetime.now()\n",
    "csvtype = 'Base' # csvtype - use 'Test or Base'\n",
    "Dbug = 'Off'     # Debugging - use On or Off  \n",
    "# Process files in procpath\n",
    "file00 = 'dbListC.csv'\n",
    "file01 = 'dbListN.csv'\n",
    "file02 = 'tblListC.csv'\n",
    "file03 = 'tblListN.csv'\n",
    "file04 = 'schemaListC.csv'\n",
    "file05 = 'schemaListN.csv'\n",
    "# Report files in csvpath\n",
    "file06 = 'compareReport0.csv'\n",
    "file07 = 'compareReport1.csv'\n",
    "file08 = 'compareReport2.csv'\n",
    "# Report files in csvpath\n",
    "file16 = 'compareReport10.csv'\n",
    "file17 = 'compareReport11.csv'\n",
    "file18 = 'compareReport12.csv'\n",
    "# Report files in csvpath\n",
    "file19 = 'collectionP1.csv'\n",
    "file20 = 'collectionQ1.csv'"
   ]
  },
  {
   "cell_type": "code",
   "execution_count": 4,
   "metadata": {},
   "outputs": [
    {
     "name": "stdout",
     "output_type": "stream",
     "text": [
      "Processing Complete:  2021-06-14 07:25:09\n"
     ]
    }
   ],
   "source": [
    "################################################################################\n",
    "# Specify a path for reports: Make sure output location is available for write \n",
    "# Built this for enhancements and more automation \n",
    "# Note: currently the specificly named files below are the only ones used\n",
    "################################################################################\n",
    "now01 = datetime.datetime.now()\n",
    "irange = (1,2)\n",
    "for i in irange:\n",
    "    with open(os.path.join(csvpath, 'compareReport{0}.csv').format(i), 'w') as fp: pass \n",
    "\n",
    "krange = (0,1,2)\n",
    "for k in krange:\n",
    "    with open(os.path.join(sqlpath, 'sqlfile0{0}.sql').format(k), 'w') as fp: pass\n",
    "\n",
    "    with open(os.path.join(configpath, 'dbListC.csv'), 'w') as fp: pass\n",
    "    with open(os.path.join(configpath, 'dbListN.csv'), 'w') as fp: pass\n",
    "    with open(os.path.join(configpath, 'tblListC.csv'), 'w') as fp: pass\n",
    "    with open(os.path.join(configpath, 'tblListN.csv'), 'w') as fp: pass\n",
    "    with open(os.path.join(configpath, 'schemaListC.csv'), 'w') as fp: pass\n",
    "    with open(os.path.join(configpath, 'schemaListN.csv'), 'w') as fp: pass\n",
    "    \n",
    "    with open(os.path.join(procpath, 'collectionP1.csv'), 'w') as fp: pass\n",
    "    with open(os.path.join(procpath, 'collectionQ1.csv'), 'w') as fp: pass\n",
    "\n",
    "now01 = datetime.datetime.now()\n",
    "print('Processing Complete: ',now01.strftime(\"%Y-%m-%d %H:%M:%S\"))"
   ]
  },
  {
   "cell_type": "code",
   "execution_count": 5,
   "metadata": {},
   "outputs": [
    {
     "name": "stdout",
     "output_type": "stream",
     "text": [
      "Core Source files created:  2021-06-14 07:25:10\n"
     ]
    }
   ],
   "source": [
    "#Connect to SQL Server\n",
    "conn = pyodbc.connect('Driver={SQL Server};'\n",
    "                      'Server=DEVODSSQL;'\n",
    "                      'Database=Greg;'\n",
    "                      'Trusted_Connection=yes;')\n",
    "\n",
    "sql_query = pd.read_sql_query(''' \n",
    "select DISTINCT DatabaseName FROM Greg.dbo.Master WHERE Core Like 'Core' ORDER BY 1\n",
    "                              '''\n",
    "                              ,conn) # here, the 'conn' is the variable that contains your database connection information from above\n",
    "\n",
    "df = pd.DataFrame(sql_query)\n",
    "with open(os.path.join(configpath, 'dbListC.csv'), 'w') as f:\n",
    "    df.to_csv(f, header=None, index=False, line_terminator='\\n')\n",
    "   \n",
    "sql_query = pd.read_sql_query(''' \n",
    "select DISTINCT SchemaName FROM Greg.dbo.Master WHERE Core Like 'Core' ORDER BY 1\n",
    "                              '''\n",
    "                              ,conn) # here, the 'conn' is the variable that contains your database connection information from above\n",
    "\n",
    "df = pd.DataFrame(sql_query)\n",
    "with open(os.path.join(configpath, 'schemaListC.csv'), 'w') as f:\n",
    "    df.to_csv(f, header=None, index=False, line_terminator='\\n')\n",
    "   \n",
    "sql_query = pd.read_sql_query(''' \n",
    "select DISTINCT TableName FROM Greg.dbo.Master WHERE Core Like 'Core' ORDER BY 1\n",
    "                              '''\n",
    "                              ,conn) # here, the 'conn' is the variable that contains your database connection information from above\n",
    "\n",
    "df = pd.DataFrame(sql_query)\n",
    "with open(os.path.join(configpath, 'tblListC.csv'), 'w') as f:\n",
    "    df.to_csv(f, header=None, index=False, line_terminator='\\n')\n",
    "   \n",
    "conn.close()\n",
    "\n",
    "now01 = datetime.datetime.now()\n",
    "print('Core Source files created: ',now01.strftime(\"%Y-%m-%d %H:%M:%S\"))\n"
   ]
  },
  {
   "cell_type": "code",
   "execution_count": 6,
   "metadata": {},
   "outputs": [
    {
     "name": "stdout",
     "output_type": "stream",
     "text": [
      "Non-Core Source files created:  2021-06-14 07:25:10\n"
     ]
    }
   ],
   "source": [
    "#Connect to SQL Server\n",
    "conn = pyodbc.connect('Driver={SQL Server};'\n",
    "                      'Server=DEVODSSQL;'\n",
    "                      'Database=Greg;'\n",
    "                      'Trusted_Connection=yes;')\n",
    "\n",
    "sql_query = pd.read_sql_query(''' \n",
    "select DISTINCT DatabaseName FROM Greg.dbo.Master WHERE Core Like 'Non' ORDER BY 1\n",
    "                              '''\n",
    "                              ,conn) # here, the 'conn' is the variable that contains your database connection information from above\n",
    "\n",
    "df = pd.DataFrame(sql_query)\n",
    "with open(os.path.join(configpath, 'dbListN.csv'), 'w') as f:\n",
    "    df.to_csv(f, header=None, index=False, line_terminator='\\n')\n",
    "   \n",
    "sql_query = pd.read_sql_query(''' \n",
    "select DISTINCT SchemaName FROM Greg.dbo.Master WHERE Core Like 'Non' ORDER BY 1\n",
    "                              '''\n",
    "                              ,conn) # here, the 'conn' is the variable that contains your database connection information from above\n",
    "\n",
    "df = pd.DataFrame(sql_query)\n",
    "with open(os.path.join(configpath, 'schemaListN.csv'), 'w') as f:\n",
    "    df.to_csv(f, header=None, index=False, line_terminator='\\n')\n",
    "   \n",
    "sql_query = pd.read_sql_query(''' \n",
    "select DISTINCT TableName FROM Greg.dbo.Master WHERE Core Like 'Non' ORDER BY 1\n",
    "                              '''\n",
    "                              ,conn) # here, the 'conn' is the variable that contains your database connection information from above\n",
    "\n",
    "df = pd.DataFrame(sql_query)\n",
    "with open(os.path.join(configpath, 'tblListN.csv'), 'w') as f:\n",
    "    df.to_csv(f, header=None, index=False, line_terminator='\\n')\n",
    "   \n",
    "conn.close()\n",
    "\n",
    "now01 = datetime.datetime.now()\n",
    "print('Non-Core Source files created: ',now01.strftime(\"%Y-%m-%d %H:%M:%S\"))\n"
   ]
  },
  {
   "cell_type": "code",
   "execution_count": 7,
   "metadata": {},
   "outputs": [
    {
     "name": "stdout",
     "output_type": "stream",
     "text": [
      "Core Source file created:  2021-06-14 07:25:10\n"
     ]
    }
   ],
   "source": [
    "# Connect to SQL Server\n",
    "conn = pyodbc.connect('Driver={SQL Server};'\n",
    "                      'Server=DEVODSSQL;'\n",
    "                      'Database=Greg;'\n",
    "                      'Trusted_Connection=yes;')\n",
    "\n",
    "sql_query = pd.read_sql_query(''' \n",
    "select * FROM Greg.dbo.Master WHERE Core Like 'Core' ORDER BY 'DatabaseName', 'SchemaName', 'TableName'\n",
    "                              '''\n",
    "                              ,conn) # here, the 'conn' is the variable that contains your database connection information from above\n",
    "\n",
    "df = pd.DataFrame(sql_query)\n",
    "with open(os.path.join(configpath, 'coreSourceBase.csv'), 'w') as f:\n",
    "    df.to_csv(f, header=f.tell()==0, index=False, line_terminator='\\n')\n",
    "   \n",
    "conn.close()\n",
    "\n",
    "now01 = datetime.datetime.now()\n",
    "print('Core Source file created: ',now01.strftime(\"%Y-%m-%d %H:%M:%S\"))\n"
   ]
  },
  {
   "cell_type": "code",
   "execution_count": 8,
   "metadata": {},
   "outputs": [
    {
     "name": "stdout",
     "output_type": "stream",
     "text": [
      "Core Source file created:  2021-06-14 07:25:10\n"
     ]
    }
   ],
   "source": [
    "# Connect to SQL Server\n",
    "conn = pyodbc.connect('Driver={SQL Server};'\n",
    "                      'Server=DEVODSSQL;'\n",
    "                      'Database=Greg;'\n",
    "                      'Trusted_Connection=yes;')\n",
    "\n",
    "sql_query = pd.read_sql_query(''' \n",
    "select * FROM Greg.dbo.Master WHERE Core Like 'Non' ORDER BY 'DatabaseName', 'SchemaName', 'TableName'\n",
    "                              '''\n",
    "                              ,conn) # here, the 'conn' is the variable that contains your database connection information from above\n",
    "\n",
    "df = pd.DataFrame(sql_query)\n",
    "with open(os.path.join(configpath, 'noncoreSourceBase.csv'), 'w') as f:\n",
    "    df.to_csv(f, header=f.tell()==0, index=False, line_terminator='\\n')\n",
    "   \n",
    "conn.close()\n",
    "\n",
    "now01 = datetime.datetime.now()\n",
    "print('Core Source file created: ',now01.strftime(\"%Y-%m-%d %H:%M:%S\"))\n"
   ]
  },
  {
   "cell_type": "code",
   "execution_count": 9,
   "metadata": {},
   "outputs": [],
   "source": [
    "#Create CORE and NonCore source files from analysis\n",
    "#Need: (copy from or unpack Py.zip file to local drive)\n",
    "#1. coreSourceBase.csv \n",
    "#2. coreSourceTest.csv\n",
    "#3. noncoreSourceBase.csv\n",
    "#4. noncoreSourceTest.csv\n",
    "\n",
    "# Read excel file with core source tables\n",
    "f1a = pd.read_csv(\"{}/{}\".format(pathCT, 'coreSource'+ csvtype +'.csv', encoding='unicode_escape'))\n",
    "f1b = pd.read_csv(\"{}/{}\".format(pathCT, 'noncoreSource'+ csvtype +'.csv', encoding='unicode_escape'))\n",
    "\n",
    "#Core                               # (Core) Create dataframe with what's found in f1 dataframe\n",
    "f1c = f1a['DatabaseName']\n",
    "f1d = f1a['TableName']\n",
    "f1g = f1a['SchemaName']\n",
    "\n",
    "#NONCore                            # (Non) Create dataframe with what is found in f1 dataframe\n",
    "f1e = f1b['DatabaseName']\n",
    "f1f = f1b['TableName']\n",
    "f1h = f1b['SchemaName']\n",
    "\n",
    "#Core                               # Create dataframe without dupes and use in connection for-loop\n",
    "dbListC = f1c.drop_duplicates() \n",
    "tblListC = f1d.drop_duplicates()\n",
    "schemaListC = f1g.drop_duplicates()\n",
    "\n",
    "#NONCore                            # Create dataframe without dupes and use in connection for-loop\n",
    "dbListN = f1e.drop_duplicates()     \n",
    "tblListN = f1f.drop_duplicates()    \n",
    "schemaListN = f1h.drop_duplicates() "
   ]
  },
  {
   "cell_type": "code",
   "execution_count": 10,
   "metadata": {},
   "outputs": [
    {
     "data": {
      "text/plain": [
       "0     ApplicationData\n",
       "2          Assessment\n",
       "17               GSDR\n",
       "Name: DatabaseName, dtype: object"
      ]
     },
     "execution_count": 10,
     "metadata": {},
     "output_type": "execute_result"
    }
   ],
   "source": [
    "#Sanity check the dataframe \n",
    "dbListC.head()"
   ]
  },
  {
   "cell_type": "code",
   "execution_count": 11,
   "metadata": {},
   "outputs": [
    {
     "name": "stdout",
     "output_type": "stream",
     "text": [
      "Production CORE collected:  ApplicationData 2021-06-14 07:25:10\n",
      "Production CORE collected:  Assessment 2021-06-14 07:25:10\n",
      "Production CORE collected:  GSDR 2021-06-14 07:25:10\n",
      "Production CORE Collection Process Complete:  2021-06-14 07:25:12\n",
      "QA CORE collected:  ApplicationData 2021-06-14 07:25:12\n",
      "QA CORE collected:  Assessment 2021-06-14 07:25:12\n",
      "QA CORE collected:  GSDR 2021-06-14 07:25:12\n",
      "QA CORE Collection Process Complete:  2021-06-14 07:25:17\n"
     ]
    }
   ],
   "source": [
    "for x in dbListC:\n",
    "    try:\n",
    "        conn = pyodbc.connect('Server=PRODODSSQL;'\n",
    "                              'Trusted_Connection=yes;'\n",
    "                              'DRIVER={{SQL Server}};'\n",
    "                              'Database={0}'.format(x))\n",
    "\n",
    "        sql_query = pd.read_sql_query(''' \n",
    "SET TRANSACTION ISOLATION LEVEL READ UNCOMMITTED;\n",
    "SELECT DISTINCT CONVERT(char(8), GetDate(),112) as TodaysDate, TABLE_CATALOG as DatabaseName, TABLE_SCHEMA as SchemaName, TABLE_NAME as TableName, COLUMN_NAME as ColumnName, ORDINAL_POSITION as OrdinalPosition, IS_NULLABLE as IsNullable, DATA_TYPE as DataType\n",
    "FROM INFORMATION_SCHEMA.COLUMNS\n",
    "ORDER BY TABLE_CATALOG, TABLE_SCHEMA, TABLE_NAME, ORDINAL_POSITION;\n",
    "                              '''\n",
    "                              ,conn) # here, the 'conn' is the variable that contains your database connection information from above\n",
    "\n",
    "        dfp = pd.DataFrame(sql_query)\n",
    "        with open(os.path.join(pathCP, 'collectionP1.csv'), 'a') as f:\n",
    "            dfp.to_csv(f, header=f.tell()==0, index=False, line_terminator='\\n')\n",
    "\n",
    "        conn.close()\n",
    "    except:\n",
    "        continue\n",
    "    finally:\n",
    "        print('Production CORE collected: ', x, now01.strftime(\"%Y-%m-%d %H:%M:%S\"))\n",
    "        continue\n",
    "\n",
    "now01 = datetime.datetime.now()\n",
    "print('Production CORE Collection Process Complete: ', now01.strftime(\"%Y-%m-%d %H:%M:%S\"))\n",
    "\n",
    "for x in dbListC:\n",
    "    try:\n",
    "        conn = pyodbc.connect('Server=QAODSSQL;'\n",
    "                              'Trusted_Connection=yes;'\n",
    "                              'DRIVER={{SQL Server}};'\n",
    "                              'Database={0}'.format(x))\n",
    "\n",
    "        sql_query = pd.read_sql_query(''' \n",
    "SET TRANSACTION ISOLATION LEVEL READ UNCOMMITTED;\n",
    "SELECT DISTINCT CONVERT(char(8), GetDate(),112) as TodaysDate, TABLE_CATALOG as DatabaseName, TABLE_SCHEMA as SchemaName, TABLE_NAME as TableName, COLUMN_NAME as ColumnName, ORDINAL_POSITION as OrdinalPosition, IS_NULLABLE as IsNullable, DATA_TYPE as DataType\n",
    "FROM INFORMATION_SCHEMA.COLUMNS\n",
    "ORDER BY TABLE_CATALOG, TABLE_SCHEMA, TABLE_NAME, ORDINAL_POSITION;\n",
    "                              '''\n",
    "                              ,conn) # here, the 'conn' is the variable that contains your database connection information from above\n",
    "\n",
    "        dfq = pd.DataFrame(sql_query)\n",
    "        with open(os.path.join(pathCP, 'collectionQ1.csv'), 'a') as f:\n",
    "            dfq.to_csv(f, header=f.tell()==0, index=False, line_terminator='\\n')\n",
    "\n",
    "        conn.close()\n",
    "    except:\n",
    "        continue\n",
    "    finally:\n",
    "        print('QA CORE collected: ', x, now01.strftime(\"%Y-%m-%d %H:%M:%S\"))\n",
    "        continue\n",
    "\n",
    "now01 = datetime.datetime.now()\n",
    "print('QA CORE Collection Process Complete: ', now01.strftime(\"%Y-%m-%d %H:%M:%S\"))"
   ]
  },
  {
   "cell_type": "markdown",
   "metadata": {},
   "source": [
    "#LOAD excel collections into sp and sq dataframes for debug and process evaluations"
   ]
  },
  {
   "cell_type": "code",
   "execution_count": 12,
   "metadata": {},
   "outputs": [],
   "source": [
    "df3 = pd.merge(dfp, dfq, how='outer', indicator='Exist')\n",
    "df3 = df3.loc[df3['Exist'] != 'both']"
   ]
  },
  {
   "cell_type": "code",
   "execution_count": 13,
   "metadata": {},
   "outputs": [],
   "source": [
    "with open(os.path.join(pathCR, 'CompareReport1.csv'), 'a') as f:\n",
    "    df3.to_csv(f, header=f.tell()==0, index=False, line_terminator='\\n')"
   ]
  },
  {
   "cell_type": "code",
   "execution_count": 14,
   "metadata": {},
   "outputs": [],
   "source": [
    "df4 = pd.merge(dfp, dfq, how='outer', indicator='Exist')\n",
    "df4 = df4.loc[df4['Exist'] == 'both']"
   ]
  },
  {
   "cell_type": "code",
   "execution_count": 15,
   "metadata": {},
   "outputs": [],
   "source": [
    "with open(os.path.join(pathCR, 'CompareReport2.csv'), 'a') as f:\n",
    "    df4.to_csv(f, header=f.tell()==0, index=False, line_terminator='\\n')"
   ]
  },
  {
   "cell_type": "code",
   "execution_count": 16,
   "metadata": {},
   "outputs": [],
   "source": [
    "# LOAD Daily results into Compare Tables (Difference & Match Exists) "
   ]
  },
  {
   "cell_type": "code",
   "execution_count": 17,
   "metadata": {},
   "outputs": [],
   "source": [
    "# Import CSV\n",
    "data = pd.read_csv(\"{}/{}\".format(pathCR, 'CompareReport1.csv'), encoding='unicode_escape')   \n",
    "df = pd.DataFrame(data, columns= ['TodaysDate','DatabaseName','SchemaName','TableName','ColumnName','OrdinalPosition','IsNullable','DataType','Exist'])\n",
    "df2 = df.fillna(value=0)\n",
    "#Sanity check the dataframe --- uncomment out (df head) to see results during processing\n",
    "#df2.head()"
   ]
  },
  {
   "cell_type": "code",
   "execution_count": 18,
   "metadata": {},
   "outputs": [
    {
     "data": {
      "text/plain": [
       "array(['TodaysDate', 'DatabaseName', 'SchemaName', 'TableName',\n",
       "       'ColumnName', 'OrdinalPosition', 'IsNullable', 'DataType', 'Exist'],\n",
       "      dtype=object)"
      ]
     },
     "execution_count": 18,
     "metadata": {},
     "output_type": "execute_result"
    }
   ],
   "source": [
    "df2.columns.values"
   ]
  },
  {
   "cell_type": "code",
   "execution_count": 19,
   "metadata": {},
   "outputs": [
    {
     "data": {
      "text/plain": [
       "Index(['TodaysDate', 'DatabaseName', 'SchemaName', 'TableName', 'ColumnName',\n",
       "       'OrdinalPosition', 'IsNullable', 'DataType', 'Exist'],\n",
       "      dtype='object')"
      ]
     },
     "execution_count": 19,
     "metadata": {},
     "output_type": "execute_result"
    }
   ],
   "source": [
    "df2.columns"
   ]
  },
  {
   "cell_type": "code",
   "execution_count": 20,
   "metadata": {},
   "outputs": [
    {
     "name": "stdout",
     "output_type": "stream",
     "text": [
      " *** Note: csv file written to database table complete ***\n",
      " *** Note: count from table data loaded is: ***          \n",
      "0  110799\n",
      "Processing Complete:  2021-06-14 07:25:27\n"
     ]
    }
   ],
   "source": [
    "# Import CSV\n",
    "data = pd.read_csv(\"{}/{}\".format(pathCR, 'CompareReport1.csv'), encoding='unicode_escape')   \n",
    "df = pd.DataFrame(data, columns= ['TodaysDate','DatabaseName','SchemaName','TableName','ColumnName','OrdinalPosition','IsNullable','DataType','Exist'])\n",
    "df2 = df.fillna(value=0)\n",
    "\n",
    "# Connect to SQL Server\n",
    "conn = pyodbc.connect('Driver={SQL Server};'\n",
    "                      'Server=DEVODSSQL;'\n",
    "                      'Database=Greg;'\n",
    "                      'Trusted_Connection=yes;')\n",
    "cursor = conn.cursor()\n",
    "\n",
    "# Insert DataFrame to Table\n",
    "for row in df2.itertuples():\n",
    "    cursor.execute('''\n",
    "                INSERT INTO Greg.dbo.CompareDifference (TodaysDate,DatabaseName,SchemaName,TableName,ColumnName,OrdinalPosition,IsNullable,DataType,Exist)\n",
    "                VALUES (?,?,?,?,?,?,?,?,?);\n",
    "                ''',\n",
    "                row.TodaysDate,\n",
    "                row.DatabaseName,\n",
    "                row.SchemaName,\n",
    "                row.TableName,\n",
    "                row.ColumnName,\n",
    "                row.OrdinalPosition,\n",
    "                row.IsNullable,\n",
    "                row.DataType,\n",
    "                row.Exist\n",
    "                )\n",
    "conn.commit()\n",
    "\n",
    "cursor.close()\n",
    "\n",
    "print(' *** Note: csv file written to database table complete ***')\n",
    "\n",
    "sql_query = pd.read_sql_query(''' \n",
    "select count(*) from Greg.dbo.CompareDifference\n",
    "                              '''\n",
    "                              ,conn) # here, the 'conn' is the variable that contains your database connection information from above\n",
    "conn.close()\n",
    "print(' *** Note: count from table data loaded is: ***', sql_query)\n",
    "now01 = datetime.datetime.now()\n",
    "print('Processing Complete: ',now01.strftime(\"%Y-%m-%d %H:%M:%S\"))"
   ]
  },
  {
   "cell_type": "code",
   "execution_count": 21,
   "metadata": {},
   "outputs": [
    {
     "name": "stdout",
     "output_type": "stream",
     "text": [
      " *** Note: csv file written to database table complete ***\n",
      " *** Note: count from table data loaded is: ***          \n",
      "0  975631\n",
      "Processing Complete:  2021-06-14 07:26:36\n"
     ]
    }
   ],
   "source": [
    "# Import CSV\n",
    "data = pd.read_csv(\"{}/{}\".format(pathCR, 'CompareReport2.csv'), encoding='unicode_escape')   \n",
    "df = pd.DataFrame(data, columns= ['TodaysDate','DatabaseName','SchemaName','TableName','ColumnName','OrdinalPosition','IsNullable','DataType','Exist'])\n",
    "df2 = df.fillna(value=0)\n",
    "\n",
    "# Connect to SQL Server\n",
    "conn = pyodbc.connect('Driver={SQL Server};'\n",
    "                      'Server=DEVODSSQL;'\n",
    "                      'Database=Greg;'\n",
    "                      'Trusted_Connection=yes;')\n",
    "cursor = conn.cursor()\n",
    "\n",
    "# Insert DataFrame to Table\n",
    "for row in df2.itertuples():\n",
    "    cursor.execute('''\n",
    "                INSERT INTO Greg.dbo.CompareMatchExists (TodaysDate,DatabaseName,SchemaName,TableName,ColumnName,OrdinalPosition,IsNullable,DataType,Exist)\n",
    "                VALUES (?,?,?,?,?,?,?,?,?);\n",
    "                ''',\n",
    "                row.TodaysDate,\n",
    "                row.DatabaseName,\n",
    "                row.SchemaName,\n",
    "                row.TableName,\n",
    "                row.ColumnName,\n",
    "                row.OrdinalPosition,\n",
    "                row.IsNullable,\n",
    "                row.DataType,\n",
    "                row.Exist\n",
    "                )\n",
    "conn.commit()\n",
    "\n",
    "cursor.close()\n",
    "\n",
    "print(' *** Note: csv file written to database table complete ***')\n",
    "\n",
    "sql_query = pd.read_sql_query(''' \n",
    "select count(*) from Greg.dbo.CompareMatchExists\n",
    "                              '''\n",
    "                              ,conn) # here, the 'conn' is the variable that contains your database connection information from above\n",
    "conn.close()\n",
    "print(' *** Note: count from table data loaded is: ***', sql_query)\n",
    "now01 = datetime.datetime.now()\n",
    "print('Processing Complete: ',now01.strftime(\"%Y-%m-%d %H:%M:%S\"))"
   ]
  },
  {
   "cell_type": "code",
   "execution_count": null,
   "metadata": {},
   "outputs": [],
   "source": []
  }
 ],
 "metadata": {
  "kernelspec": {
   "display_name": "Python 3",
   "language": "python",
   "name": "python3"
  },
  "language_info": {
   "codemirror_mode": {
    "name": "ipython",
    "version": 3
   },
   "file_extension": ".py",
   "mimetype": "text/x-python",
   "name": "python",
   "nbconvert_exporter": "python",
   "pygments_lexer": "ipython3",
   "version": "3.8.3"
  }
 },
 "nbformat": 4,
 "nbformat_minor": 4
}
