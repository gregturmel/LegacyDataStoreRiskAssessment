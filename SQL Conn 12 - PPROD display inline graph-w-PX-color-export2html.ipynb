{
 "cells": [
  {
   "cell_type": "code",
   "execution_count": 1,
   "metadata": {},
   "outputs": [],
   "source": [
    "#Program Name: SQL Conn 12 - PPROD display inline graph-w-PX-color-export2html\n",
    "#Purpose:  Chart scatter, line, box, aggr, violin, or bar with table data\n",
    "#Author:  Greg Turmel, Director, Data Governance \n",
    "#Date:    2020.08.30 - 2021.06.30\n",
    "#Errata:  0.1 Improvements can be made to script using for/looping through the databases\n",
    "\n",
    "import os, time, datetime\n",
    "import sqlalchemy as db\n",
    "import pandas as pd\n",
    "import numpy as np\n",
    "from matplotlib import pyplot as plt\n",
    "import pyodbc \n",
    "import matplotlib\n",
    "import plotly.express as px\n",
    "\n",
    "#matplotlib.rcParams['figure.figsize'] = (30,5)\n",
    "%config InlineBackend.figure_format = 'retina'\n",
    "from dotenv import load_dotenv # add this line\n",
    "load_dotenv() # add this line\n",
    "user = os.getenv('MySQLeUser')\n",
    "password = os.getenv('MySQLeUserPass')\n",
    "host = os.getenv('MySQLeHOST')\n",
    "db = os.getenv('MySQLeDB')\n",
    "%matplotlib inline\n",
    "%load_ext sql\n",
    "\n",
    "dt1 = time.strftime(\"%d/%m/%Y\")\n",
    "dt2 = time.strftime(\"%d.%m.%Y\")\n",
    "dt3 = pd.to_datetime('today')\n",
    "dt4 = pd.Timestamp('today').strftime(\"%Y%m%d\")"
   ]
  },
  {
   "cell_type": "code",
   "execution_count": 2,
   "metadata": {},
   "outputs": [
    {
     "name": "stdout",
     "output_type": "stream",
     "text": [
      "Parent Directory is:  C:\\Users\\e201873842\\Documents\\Py\n",
      "Directory: Daily >>> Note ---- this folder already exists <<<\n",
      "Program Directory subfolder has been created:  C:\\Users\\e201873842\\Documents\\Py\\Daily\\Charts_px\\PPROD\n",
      "1.1.0 Processing Step Complete:  2021-06-16 12:44:11\n"
     ]
    }
   ],
   "source": [
    "# This segment builds the appropriatte file system structure as a variable driven exercise\n",
    "# Take time to set your 'eeeeeeeeee' number as variable 'pn' below \n",
    "# and set the program directory variable called 'programDirectory' before running\n",
    "# ===================================================================================================================\n",
    "pn = r'eeeeeeeeee'     #This represents the windows system employee login folder - IBM team uses a 9 number\n",
    "# ===================================================================================================================\n",
    "#r'C:\\Users\\eeeeeeeeee\\Documents\\Py\\Daily\\Charts_px\\ApplicationData\\{}.html'.format(FileName))\n",
    "\n",
    "programDirectory = 'Daily' # Update this variable to wherever you want the program subfolder/files to be located \n",
    "un = r'C:\\Users'\n",
    "cn = r'Documents\\Py'\n",
    "pc = r'Charts_px'\n",
    "tn = r'PPROD'\n",
    "\n",
    "#Set a parent directory\n",
    "parentDirectory = \"{}\\{}\\{}\".format(un,pn,cn)\n",
    "print('Parent Directory is: ', parentDirectory)\n",
    "mode = 0o666\n",
    "\n",
    "#Set path location for working with local file(s)\n",
    "path = os.path.join(parentDirectory, programDirectory,)\n",
    "pathT = os.path.join(parentDirectory, programDirectory, pc, tn)\n",
    "\n",
    "try:\n",
    "    if not os.path.exists(path):\n",
    "        os.makedirs(path, mode)\n",
    "        print('Program Directory subfolder has been created: ', programDirectory)\n",
    "    else:\n",
    "        print('Directory:', programDirectory, '>>> Note ---- this folder already exists <<<')\n",
    "except OSError as error:\n",
    "    print(error)\n",
    "    pass\n",
    "\n",
    "try:\n",
    "    if not os.path.exists(pathT):\n",
    "        os.makedirs(pathT, mode)\n",
    "        print('Program Directory subfolder has been created: ', pathT)\n",
    "    else:\n",
    "        print('Directory:', pathT, '>>> Note ---- this folder already exists <<<')\n",
    "except OSError as error:\n",
    "    print(error)\n",
    "    pass\n",
    "\n",
    "now01 = datetime.datetime.now()\n",
    "print('1.1.0 Processing Step Complete: ',now01.strftime(\"%Y-%m-%d %H:%M:%S\"))"
   ]
  },
  {
   "cell_type": "code",
   "execution_count": 3,
   "metadata": {},
   "outputs": [],
   "source": [
    "conn = pyodbc.connect('Driver={SQL Server};'\n",
    "                      'Server=DEVODSSQL;'\n",
    "                      'Database=Greg;'\n",
    "                      'Trusted_Connection=yes;')\n",
    "\n",
    "sql_query01 = pd.read_sql_query(''' \n",
    "select DISTINCT TableName\n",
    "FROM [dbo].[tableRowCountPPROD]\n",
    "ORDER BY TableName;     \n",
    "                              '''\n",
    "                              ,conn) # Load the list of distinct tables to graph\n",
    "\n",
    "sql_query02 = pd.read_sql_query(''' \n",
    "select *\n",
    "FROM [dbo].[tableRowCountPPROD]\n",
    "ORDER BY TableName;     \n",
    "                              '''\n",
    "                              ,conn) # Load the list of distinct tables to graph\n"
   ]
  },
  {
   "cell_type": "code",
   "execution_count": 4,
   "metadata": {},
   "outputs": [],
   "source": [
    "df = pd.DataFrame(sql_query02)\n",
    "#df = df.astype({'TodaysDate':np.int64,'RecordCount':np.int64})\n",
    "df['TodaysDate'] = pd.to_datetime(df['TodaysDate'].astype(str), format='%Y%m%d')\n",
    "df = df.sort_values(by=['TableName','SchemaName','DatabaseName','TodaysDate'], ascending=[True,True,True,True])\n",
    "df = df.reset_index(drop=True)"
   ]
  },
  {
   "cell_type": "code",
   "execution_count": 5,
   "metadata": {},
   "outputs": [
    {
     "data": {
      "text/html": [
       "<div>\n",
       "<style scoped>\n",
       "    .dataframe tbody tr th:only-of-type {\n",
       "        vertical-align: middle;\n",
       "    }\n",
       "\n",
       "    .dataframe tbody tr th {\n",
       "        vertical-align: top;\n",
       "    }\n",
       "\n",
       "    .dataframe thead th {\n",
       "        text-align: right;\n",
       "    }\n",
       "</style>\n",
       "<table border=\"1\" class=\"dataframe\">\n",
       "  <thead>\n",
       "    <tr style=\"text-align: right;\">\n",
       "      <th></th>\n",
       "      <th>TodaysDate</th>\n",
       "      <th>DatabaseName</th>\n",
       "      <th>SchemaName</th>\n",
       "      <th>TableName</th>\n",
       "      <th>RecordCount</th>\n",
       "      <th>Ddifference</th>\n",
       "    </tr>\n",
       "  </thead>\n",
       "  <tbody>\n",
       "    <tr>\n",
       "      <th>0</th>\n",
       "      <td>2020-12-23</td>\n",
       "      <td>PPROD</td>\n",
       "      <td>PP</td>\n",
       "      <td>Admin_User</td>\n",
       "      <td>1275</td>\n",
       "      <td>0</td>\n",
       "    </tr>\n",
       "    <tr>\n",
       "      <th>1</th>\n",
       "      <td>2020-12-24</td>\n",
       "      <td>PPROD</td>\n",
       "      <td>PP</td>\n",
       "      <td>Admin_User</td>\n",
       "      <td>1275</td>\n",
       "      <td>0</td>\n",
       "    </tr>\n",
       "    <tr>\n",
       "      <th>2</th>\n",
       "      <td>2020-12-25</td>\n",
       "      <td>PPROD</td>\n",
       "      <td>PP</td>\n",
       "      <td>Admin_User</td>\n",
       "      <td>1275</td>\n",
       "      <td>0</td>\n",
       "    </tr>\n",
       "    <tr>\n",
       "      <th>3</th>\n",
       "      <td>2020-12-26</td>\n",
       "      <td>PPROD</td>\n",
       "      <td>PP</td>\n",
       "      <td>Admin_User</td>\n",
       "      <td>1275</td>\n",
       "      <td>0</td>\n",
       "    </tr>\n",
       "    <tr>\n",
       "      <th>4</th>\n",
       "      <td>2020-12-28</td>\n",
       "      <td>PPROD</td>\n",
       "      <td>PP</td>\n",
       "      <td>Admin_User</td>\n",
       "      <td>1275</td>\n",
       "      <td>0</td>\n",
       "    </tr>\n",
       "  </tbody>\n",
       "</table>\n",
       "</div>"
      ],
      "text/plain": [
       "  TodaysDate DatabaseName SchemaName   TableName  RecordCount  Ddifference\n",
       "0 2020-12-23        PPROD         PP  Admin_User         1275            0\n",
       "1 2020-12-24        PPROD         PP  Admin_User         1275            0\n",
       "2 2020-12-25        PPROD         PP  Admin_User         1275            0\n",
       "3 2020-12-26        PPROD         PP  Admin_User         1275            0\n",
       "4 2020-12-28        PPROD         PP  Admin_User         1275            0"
      ]
     },
     "execution_count": 5,
     "metadata": {},
     "output_type": "execute_result"
    }
   ],
   "source": [
    "df.head()"
   ]
  },
  {
   "cell_type": "code",
   "execution_count": 6,
   "metadata": {},
   "outputs": [],
   "source": [
    "dfpprod0001 = df[(df['DatabaseName'] == 'PPROD') & (df['SchemaName'] == 'dbo') & (df['TableName'] == 'DisciplineCodeCorrections')]\n",
    "dfpprod0002 = df[(df['DatabaseName'] == 'PPROD') & (df['SchemaName'] == 'dbo') & (df['TableName'] == 'ERROR_LOG')]\n",
    "dfpprod0003 = df[(df['DatabaseName'] == 'PPROD') & (df['SchemaName'] == 'dbo') & (df['TableName'] == 'jcs_sportalusage_test')]\n",
    "dfpprod0004 = df[(df['DatabaseName'] == 'PPROD') & (df['SchemaName'] == 'dbo') & (df['TableName'] == 'MealPay')]\n",
    "dfpprod0005 = df[(df['DatabaseName'] == 'PPROD') & (df['SchemaName'] == 'dbo') & (df['TableName'] == 'missingpermnums')]\n",
    "dfpprod0006 = df[(df['DatabaseName'] == 'PPROD') & (df['SchemaName'] == 'dbo') & (df['TableName'] == 'parent_surveys_bak_greg_201702026')]\n",
    "dfpprod0007 = df[(df['DatabaseName'] == 'PPROD') & (df['SchemaName'] == 'dbo') & (df['TableName'] == 'parentNotFound')]\n",
    "dfpprod0008 = df[(df['DatabaseName'] == 'PPROD') & (df['SchemaName'] == 'dbo') & (df['TableName'] == 'parents_to_delete')]\n",
    "dfpprod0009 = df[(df['DatabaseName'] == 'PPROD') & (df['SchemaName'] == 'dbo') & (df['TableName'] == 'PPROD_PPIGP_igpro_icgr_dupes')]\n",
    "dfpprod0010 = df[(df['DatabaseName'] == 'PPROD') & (df['SchemaName'] == 'dbo') & (df['TableName'] == 'SPortalLogins')]\n",
    "dfpprod0011 = df[(df['DatabaseName'] == 'PPROD') & (df['SchemaName'] == 'dbo') & (df['TableName'] == 'stu_rltn_20160726')]\n",
    "dfpprod0012 = df[(df['DatabaseName'] == 'PPROD') & (df['SchemaName'] == 'dbo') & (df['TableName'] == 'STU_SUBT_HIST_Errors')]\n",
    "dfpprod0013 = df[(df['DatabaseName'] == 'PPROD') & (df['SchemaName'] == 'dbo') & (df['TableName'] == 'StudentEmail')]\n",
    "dfpprod0014 = df[(df['DatabaseName'] == 'PPROD') & (df['SchemaName'] == 'dbo') & (df['TableName'] == 'students_to_delete')]\n",
    "dfpprod0015 = df[(df['DatabaseName'] == 'PPROD') & (df['SchemaName'] == 'dbo') & (df['TableName'] == 'stulist')]\n",
    "dfpprod0016 = df[(df['DatabaseName'] == 'PPROD') & (df['SchemaName'] == 'dbo') & (df['TableName'] == 'survey_responses_bak_greg_201702026')]\n",
    "dfpprod0017 = df[(df['DatabaseName'] == 'PPROD') & (df['SchemaName'] == 'dbo') & (df['TableName'] == 'sysdiagrams')]\n",
    "dfpprod0018 = df[(df['DatabaseName'] == 'PPROD') & (df['SchemaName'] == 'dbo') & (df['TableName'] == 'test_trm')]\n",
    "dfpprod0019 = df[(df['DatabaseName'] == 'PPROD') & (df['SchemaName'] == 'dbo') & (df['TableName'] == 'testme_CRS_MSTR_SCHD')]\n",
    "dfpprod0020 = df[(df['DatabaseName'] == 'PPROD') & (df['SchemaName'] == 'dbo') & (df['TableName'] == 'work_stu_curr_schd')]\n",
    "dfpprod0021 = df[(df['DatabaseName'] == 'PPROD') & (df['SchemaName'] == 'PP') & (df['TableName'] == 'Admin_User')]\n",
    "dfpprod0022 = df[(df['DatabaseName'] == 'PPROD') & (df['SchemaName'] == 'PP') & (df['TableName'] == 'ClassSchedule')]\n",
    "dfpprod0023 = df[(df['DatabaseName'] == 'PPROD') & (df['SchemaName'] == 'PP') & (df['TableName'] == 'CompareDiffs')]\n",
    "dfpprod0024 = df[(df['DatabaseName'] == 'PPROD') & (df['SchemaName'] == 'PP') & (df['TableName'] == 'CompareDiffs2DB2')]\n",
    "dfpprod0025 = df[(df['DatabaseName'] == 'PPROD') & (df['SchemaName'] == 'PP') & (df['TableName'] == 'crs_mstr_schd')]\n",
    "dfpprod0026 = df[(df['DatabaseName'] == 'PPROD') & (df['SchemaName'] == 'PP') & (df['TableName'] == 'emp_email_backup')]\n",
    "dfpprod0027 = df[(df['DatabaseName'] == 'PPROD') & (df['SchemaName'] == 'PP') & (df['TableName'] == 'Empl_Sch')]\n",
    "dfpprod0028 = df[(df['DatabaseName'] == 'PPROD') & (df['SchemaName'] == 'PP') & (df['TableName'] == 'Employee_Email')]\n",
    "dfpprod0029 = df[(df['DatabaseName'] == 'PPROD') & (df['SchemaName'] == 'PP') & (df['TableName'] == 'Employee_Email_Test')]\n",
    "dfpprod0030 = df[(df['DatabaseName'] == 'PPROD') & (df['SchemaName'] == 'PP') & (df['TableName'] == 'freeze_schedule_schools')]\n",
    "dfpprod0031 = df[(df['DatabaseName'] == 'PPROD') & (df['SchemaName'] == 'PP') & (df['TableName'] == 'GradeBookAverages')]\n",
    "dfpprod0032 = df[(df['DatabaseName'] == 'PPROD') & (df['SchemaName'] == 'PP') & (df['TableName'] == 'Help_Contexts')]\n",
    "dfpprod0033 = df[(df['DatabaseName'] == 'PPROD') & (df['SchemaName'] == 'PP') & (df['TableName'] == 'Help_Question_Contexts')]\n",
    "dfpprod0034 = df[(df['DatabaseName'] == 'PPROD') & (df['SchemaName'] == 'PP') & (df['TableName'] == 'Help_Questions')]\n",
    "dfpprod0035 = df[(df['DatabaseName'] == 'PPROD') & (df['SchemaName'] == 'PP') & (df['TableName'] == 'LANG_HEADER')]\n",
    "dfpprod0036 = df[(df['DatabaseName'] == 'PPROD') & (df['SchemaName'] == 'PP') & (df['TableName'] == 'LAST_PRNT_COMM')]\n",
    "dfpprod0037 = df[(df['DatabaseName'] == 'PPROD') & (df['SchemaName'] == 'PP') & (df['TableName'] == 'LastAccessed')]\n",
    "dfpprod0038 = df[(df['DatabaseName'] == 'PPROD') & (df['SchemaName'] == 'PP') & (df['TableName'] == 'LDAPUsers')]\n",
    "dfpprod0039 = df[(df['DatabaseName'] == 'PPROD') & (df['SchemaName'] == 'PP') & (df['TableName'] == 'LDAPUsersNotActivated')]\n",
    "dfpprod0040 = df[(df['DatabaseName'] == 'PPROD') & (df['SchemaName'] == 'PP') & (df['TableName'] == 'LOADDETAIL')]\n",
    "dfpprod0041 = df[(df['DatabaseName'] == 'PPROD') & (df['SchemaName'] == 'PP') & (df['TableName'] == 'LOADREADYOLD')]\n",
    "dfpprod0042 = df[(df['DatabaseName'] == 'PPROD') & (df['SchemaName'] == 'PP') & (df['TableName'] == 'Parent_Delete')]\n",
    "dfpprod0043 = df[(df['DatabaseName'] == 'PPROD') & (df['SchemaName'] == 'PP') & (df['TableName'] == 'parent_surveys')]\n",
    "dfpprod0044 = df[(df['DatabaseName'] == 'PPROD') & (df['SchemaName'] == 'PP') & (df['TableName'] == 'PRNT_ACCT_LOG')]\n",
    "dfpprod0045 = df[(df['DatabaseName'] == 'PPROD') & (df['SchemaName'] == 'PP') & (df['TableName'] == 'PRNT_EMAIL_CHANGE_HISTORY')]\n",
    "dfpprod0046 = df[(df['DatabaseName'] == 'PPROD') & (df['SchemaName'] == 'PP') & (df['TableName'] == 'REFRESH_STATUS')]\n",
    "dfpprod0047 = df[(df['DatabaseName'] == 'PPROD') & (df['SchemaName'] == 'PP') & (df['TableName'] == 'RPTActiveStudent')]\n",
    "dfpprod0048 = df[(df['DatabaseName'] == 'PPROD') & (df['SchemaName'] == 'PP') & (df['TableName'] == 'save_Admin_User')]\n",
    "dfpprod0049 = df[(df['DatabaseName'] == 'PPROD') & (df['SchemaName'] == 'PP') & (df['TableName'] == 'STU_ABS_HST')]\n",
    "dfpprod0050 = df[(df['DatabaseName'] == 'PPROD') & (df['SchemaName'] == 'PP') & (df['TableName'] == 'STU_ABS_HST_BACKUP')]\n",
    "dfpprod0051 = df[(df['DatabaseName'] == 'PPROD') & (df['SchemaName'] == 'PP') & (df['TableName'] == 'STU_ALRT')]\n",
    "dfpprod0052 = df[(df['DatabaseName'] == 'PPROD') & (df['SchemaName'] == 'PP') & (df['TableName'] == 'STU_ATT_MO_SUM')]\n",
    "dfpprod0053 = df[(df['DatabaseName'] == 'PPROD') & (df['SchemaName'] == 'PP') & (df['TableName'] == 'STU_ATT_SUM')]\n",
    "dfpprod0054 = df[(df['DatabaseName'] == 'PPROD') & (df['SchemaName'] == 'PP') & (df['TableName'] == 'STU_BookCharges')]\n",
    "dfpprod0055 = df[(df['DatabaseName'] == 'PPROD') & (df['SchemaName'] == 'PP') & (df['TableName'] == 'STU_BookCheckOuts')]\n",
    "dfpprod0056 = df[(df['DatabaseName'] == 'PPROD') & (df['SchemaName'] == 'PP') & (df['TableName'] == 'stu_businfo')]\n",
    "dfpprod0057 = df[(df['DatabaseName'] == 'PPROD') & (df['SchemaName'] == 'PP') & (df['TableName'] == 'STU_CheckInCheckOut')]\n",
    "dfpprod0058 = df[(df['DatabaseName'] == 'PPROD') & (df['SchemaName'] == 'PP') & (df['TableName'] == 'STU_CRS_HS_SUM')]\n",
    "dfpprod0059 = df[(df['DatabaseName'] == 'PPROD') & (df['SchemaName'] == 'PP') & (df['TableName'] == 'STU_CRS_HST')]\n",
    "dfpprod0060 = df[(df['DatabaseName'] == 'PPROD') & (df['SchemaName'] == 'PP') & (df['TableName'] == 'stu_crs_hst_oldlogic')]\n",
    "dfpprod0061 = df[(df['DatabaseName'] == 'PPROD') & (df['SchemaName'] == 'PP') & (df['TableName'] == 'STU_CRS_MS_SUM')]\n",
    "dfpprod0062 = df[(df['DatabaseName'] == 'PPROD') & (df['SchemaName'] == 'PP') & (df['TableName'] == 'STU_CRS_STS')]\n",
    "dfpprod0063 = df[(df['DatabaseName'] == 'PPROD') & (df['SchemaName'] == 'PP') & (df['TableName'] == 'STU_CURR_SCHD')]\n",
    "dfpprod0064 = df[(df['DatabaseName'] == 'PPROD') & (df['SchemaName'] == 'PP') & (df['TableName'] == 'STU_CURR_SCHD_20161222')]\n",
    "dfpprod0065 = df[(df['DatabaseName'] == 'PPROD') & (df['SchemaName'] == 'PP') & (df['TableName'] == 'stu_curr_schd_ALAN')]\n",
    "dfpprod0066 = df[(df['DatabaseName'] == 'PPROD') & (df['SchemaName'] == 'PP') & (df['TableName'] == 'stu_curr_schd_backup')]\n",
    "dfpprod0067 = df[(df['DatabaseName'] == 'PPROD') & (df['SchemaName'] == 'PP') & (df['TableName'] == 'Stu_Curr_Schd_Cotchr')]\n",
    "dfpprod0068 = df[(df['DatabaseName'] == 'PPROD') & (df['SchemaName'] == 'PP') & (df['TableName'] == 'stu_curr_schd_igpro')]\n",
    "dfpprod0069 = df[(df['DatabaseName'] == 'PPROD') & (df['SchemaName'] == 'PP') & (df['TableName'] == 'STU_CURR_SCHD_SUM')]\n",
    "dfpprod0070 = df[(df['DatabaseName'] == 'PPROD') & (df['SchemaName'] == 'PP') & (df['TableName'] == 'STU_DSCP_DISP')]\n",
    "dfpprod0071 = df[(df['DatabaseName'] == 'PPROD') & (df['SchemaName'] == 'PP') & (df['TableName'] == 'STU_DSCP_HST')]\n",
    "dfpprod0072 = df[(df['DatabaseName'] == 'PPROD') & (df['SchemaName'] == 'PP') & (df['TableName'] == 'STU_Fees')]\n",
    "dfpprod0073 = df[(df['DatabaseName'] == 'PPROD') & (df['SchemaName'] == 'PP') & (df['TableName'] == 'STU_IGP_CLS_NOTE')]\n",
    "dfpprod0074 = df[(df['DatabaseName'] == 'PPROD') & (df['SchemaName'] == 'PP') & (df['TableName'] == 'STU_IGP_STU_NOTE')]\n",
    "dfpprod0075 = df[(df['DatabaseName'] == 'PPROD') & (df['SchemaName'] == 'PP') & (df['TableName'] == 'STU_IGP_TASK')]\n",
    "dfpprod0076 = df[(df['DatabaseName'] == 'PPROD') & (df['SchemaName'] == 'PP') & (df['TableName'] == 'stu_igp_task_20161222')]\n",
    "dfpprod0077 = df[(df['DatabaseName'] == 'PPROD') & (df['SchemaName'] == 'PP') & (df['TableName'] == 'stu_igp_task_20190906_partial')]\n",
    "dfpprod0078 = df[(df['DatabaseName'] == 'PPROD') & (df['SchemaName'] == 'PP') & (df['TableName'] == 'STU_MEALPAY')]\n",
    "dfpprod0079 = df[(df['DatabaseName'] == 'PPROD') & (df['SchemaName'] == 'PP') & (df['TableName'] == 'STU_PERIOD_ATTENDANCE')]\n",
    "dfpprod0080 = df[(df['DatabaseName'] == 'PPROD') & (df['SchemaName'] == 'PP') & (df['TableName'] == 'STU_PGM')]\n",
    "dfpprod0081 = df[(df['DatabaseName'] == 'PPROD') & (df['SchemaName'] == 'PP') & (df['TableName'] == 'stu_prfl')]\n",
    "dfpprod0082 = df[(df['DatabaseName'] == 'PPROD') & (df['SchemaName'] == 'PP') & (df['TableName'] == 'STU_PRNT_COM_MAX')]\n",
    "dfpprod0083 = df[(df['DatabaseName'] == 'PPROD') & (df['SchemaName'] == 'PP') & (df['TableName'] == 'STU_PRNT_COMM')]\n",
    "dfpprod0084 = df[(df['DatabaseName'] == 'PPROD') & (df['SchemaName'] == 'PP') & (df['TableName'] == 'STU_RLTN')]\n",
    "dfpprod0085 = df[(df['DatabaseName'] == 'PPROD') & (df['SchemaName'] == 'PP') & (df['TableName'] == 'stu_rltn_support')]\n",
    "dfpprod0086 = df[(df['DatabaseName'] == 'PPROD') & (df['SchemaName'] == 'PP') & (df['TableName'] == 'STU_SUBT_HIST_Errors')]\n",
    "dfpprod0087 = df[(df['DatabaseName'] == 'PPROD') & (df['SchemaName'] == 'PP') & (df['TableName'] == 'STU_SUBT_HST')]\n",
    "dfpprod0088 = df[(df['DatabaseName'] == 'PPROD') & (df['SchemaName'] == 'PP') & (df['TableName'] == 'STU_TEST_GUIDE')]\n",
    "dfpprod0089 = df[(df['DatabaseName'] == 'PPROD') & (df['SchemaName'] == 'PP') & (df['TableName'] == 'Student_Delete')]\n",
    "dfpprod0090 = df[(df['DatabaseName'] == 'PPROD') & (df['SchemaName'] == 'PP') & (df['TableName'] == 'stulist')]\n",
    "dfpprod0091 = df[(df['DatabaseName'] == 'PPROD') & (df['SchemaName'] == 'PP') & (df['TableName'] == 'survey_headers')]\n",
    "dfpprod0092 = df[(df['DatabaseName'] == 'PPROD') & (df['SchemaName'] == 'PP') & (df['TableName'] == 'survey_options')]\n",
    "dfpprod0093 = df[(df['DatabaseName'] == 'PPROD') & (df['SchemaName'] == 'PP') & (df['TableName'] == 'survey_question_types')]\n",
    "dfpprod0094 = df[(df['DatabaseName'] == 'PPROD') & (df['SchemaName'] == 'PP') & (df['TableName'] == 'survey_questions')]\n",
    "dfpprod0095 = df[(df['DatabaseName'] == 'PPROD') & (df['SchemaName'] == 'PP') & (df['TableName'] == 'survey_responses')]\n",
    "dfpprod0096 = df[(df['DatabaseName'] == 'PPROD') & (df['SchemaName'] == 'PP') & (df['TableName'] == 'SYS_ACCESS_LOG')]\n",
    "dfpprod0097 = df[(df['DatabaseName'] == 'PPROD') & (df['SchemaName'] == 'PP') & (df['TableName'] == 'SYS_ACCESS_LOG_BACKUP')]\n",
    "dfpprod0098 = df[(df['DatabaseName'] == 'PPROD') & (df['SchemaName'] == 'PP') & (df['TableName'] == 'SYS_ACCESS_LOG_MAX')]\n",
    "dfpprod0099 = df[(df['DatabaseName'] == 'PPROD') & (df['SchemaName'] == 'PP') & (df['TableName'] == 'Tchr_Stu')]\n",
    "dfpprod0100 = df[(df['DatabaseName'] == 'PPROD') & (df['SchemaName'] == 'PP') & (df['TableName'] == 'User_Stu')]\n",
    "dfpprod0101 = df[(df['DatabaseName'] == 'PPROD') & (df['SchemaName'] == 'PPETL') & (df['TableName'] == 'SUBT_NM_MAP')]\n",
    "dfpprod0102 = df[(df['DatabaseName'] == 'PPROD') & (df['SchemaName'] == 'PPETL') & (df['TableName'] == 'SUBT_NM_MAP_BKUP')]\n",
    "dfpprod0103 = df[(df['DatabaseName'] == 'PPROD') & (df['SchemaName'] == 'PPETL') & (df['TableName'] == 'Work_Stu_CURR_SCHD')]\n",
    "dfpprod0104 = df[(df['DatabaseName'] == 'PPROD') & (df['SchemaName'] == 'PPGEMS') & (df['TableName'] == 'CALENDAR')]\n",
    "dfpprod0105 = df[(df['DatabaseName'] == 'PPROD') & (df['SchemaName'] == 'PPGEMS') & (df['TableName'] == 'Register')]\n",
    "dfpprod0106 = df[(df['DatabaseName'] == 'PPROD') & (df['SchemaName'] == 'PPREF') & (df['TableName'] == 'abs_ref')]\n",
    "dfpprod0107 = df[(df['DatabaseName'] == 'PPROD') & (df['SchemaName'] == 'PPREF') & (df['TableName'] == 'Admin_User')]\n",
    "dfpprod0108 = df[(df['DatabaseName'] == 'PPROD') & (df['SchemaName'] == 'PPREF') & (df['TableName'] == 'CRS_SUBJ_REF')]\n",
    "dfpprod0109 = df[(df['DatabaseName'] == 'PPROD') & (df['SchemaName'] == 'PPREF') & (df['TableName'] == 'D2L_SCHOOLS')]\n",
    "dfpprod0110 = df[(df['DatabaseName'] == 'PPROD') & (df['SchemaName'] == 'PPREF') & (df['TableName'] == 'DSCP_BHVR_REF')]\n",
    "dfpprod0111 = df[(df['DatabaseName'] == 'PPROD') & (df['SchemaName'] == 'PPREF') & (df['TableName'] == 'dscp_disp_ref')]\n",
    "dfpprod0112 = df[(df['DatabaseName'] == 'PPROD') & (df['SchemaName'] == 'PPREF') & (df['TableName'] == 'dscp_mjr_ref')]\n",
    "dfpprod0113 = df[(df['DatabaseName'] == 'PPROD') & (df['SchemaName'] == 'PPREF') & (df['TableName'] == 'NON_SCH_DAY_REF')]\n",
    "dfpprod0114 = df[(df['DatabaseName'] == 'PPROD') & (df['SchemaName'] == 'PPREF') & (df['TableName'] == 'NonNumeric')]\n",
    "dfpprod0115 = df[(df['DatabaseName'] == 'PPROD') & (df['SchemaName'] == 'PPREF') & (df['TableName'] == 'Resource_Links')]\n",
    "dfpprod0116 = df[(df['DatabaseName'] == 'PPROD') & (df['SchemaName'] == 'PPREF') & (df['TableName'] == 'sch_ref')]\n",
    "dfpprod0117 = df[(df['DatabaseName'] == 'PPROD') & (df['SchemaName'] == 'PPREF') & (df['TableName'] == 'SCH_YR_REF')]\n",
    "dfpprod0118 = df[(df['DatabaseName'] == 'PPROD') & (df['SchemaName'] == 'PPREF') & (df['TableName'] == 'STU_TEMP_ENRMONTH')]\n",
    "dfpprod0119 = df[(df['DatabaseName'] == 'PPROD') & (df['SchemaName'] == 'PPREF') & (df['TableName'] == 'TEST_GUIDE_REF')]\n",
    "dfpprod0120 = df[(df['DatabaseName'] == 'PPROD') & (df['SchemaName'] == 'TEMP') & (df['TableName'] == 'GradeBookClassGrades')]\n",
    "dfpprod0121 = df[(df['DatabaseName'] == 'PPROD') & (df['SchemaName'] == 'TEMP') & (df['TableName'] == 'GradeBookTasks')]\n",
    "dfpprod0122 = df[(df['DatabaseName'] == 'PPROD') & (df['SchemaName'] == 'TEMP') & (df['TableName'] == 'PP_CRS_HST')]\n",
    "dfpprod0123 = df[(df['DatabaseName'] == 'PPROD') & (df['SchemaName'] == 'TEMP') & (df['TableName'] == 'rpt_StudentPortalAccess')]\n",
    "dfpprod0124 = df[(df['DatabaseName'] == 'PPROD') & (df['SchemaName'] == 'xpp') & (df['TableName'] == 'parent_surveys')]\n",
    "dfpprod0125 = df[(df['DatabaseName'] == 'PPROD') & (df['SchemaName'] == 'xpp') & (df['TableName'] == 'survey_headers')]\n",
    "dfpprod0126 = df[(df['DatabaseName'] == 'PPROD') & (df['SchemaName'] == 'xpp') & (df['TableName'] == 'survey_questions')]\n",
    "dfpprod0127 = df[(df['DatabaseName'] == 'PPROD') & (df['SchemaName'] == 'xpp') & (df['TableName'] == 'survey_responses')]\n"
   ]
  },
  {
   "cell_type": "code",
   "execution_count": 7,
   "metadata": {},
   "outputs": [
    {
     "data": {
      "text/html": [
       "<div>\n",
       "<style scoped>\n",
       "    .dataframe tbody tr th:only-of-type {\n",
       "        vertical-align: middle;\n",
       "    }\n",
       "\n",
       "    .dataframe tbody tr th {\n",
       "        vertical-align: top;\n",
       "    }\n",
       "\n",
       "    .dataframe thead th {\n",
       "        text-align: right;\n",
       "    }\n",
       "</style>\n",
       "<table border=\"1\" class=\"dataframe\">\n",
       "  <thead>\n",
       "    <tr style=\"text-align: right;\">\n",
       "      <th></th>\n",
       "      <th>TodaysDate</th>\n",
       "      <th>DatabaseName</th>\n",
       "      <th>SchemaName</th>\n",
       "      <th>TableName</th>\n",
       "      <th>RecordCount</th>\n",
       "      <th>Ddifference</th>\n",
       "    </tr>\n",
       "  </thead>\n",
       "  <tbody>\n",
       "    <tr>\n",
       "      <th>9711</th>\n",
       "      <td>2020-12-23</td>\n",
       "      <td>PPROD</td>\n",
       "      <td>PP</td>\n",
       "      <td>User_Stu</td>\n",
       "      <td>3380089</td>\n",
       "      <td>0</td>\n",
       "    </tr>\n",
       "    <tr>\n",
       "      <th>9712</th>\n",
       "      <td>2020-12-24</td>\n",
       "      <td>PPROD</td>\n",
       "      <td>PP</td>\n",
       "      <td>User_Stu</td>\n",
       "      <td>3380088</td>\n",
       "      <td>-1</td>\n",
       "    </tr>\n",
       "    <tr>\n",
       "      <th>9713</th>\n",
       "      <td>2020-12-25</td>\n",
       "      <td>PPROD</td>\n",
       "      <td>PP</td>\n",
       "      <td>User_Stu</td>\n",
       "      <td>3380088</td>\n",
       "      <td>0</td>\n",
       "    </tr>\n",
       "    <tr>\n",
       "      <th>9714</th>\n",
       "      <td>2020-12-26</td>\n",
       "      <td>PPROD</td>\n",
       "      <td>PP</td>\n",
       "      <td>User_Stu</td>\n",
       "      <td>3380088</td>\n",
       "      <td>0</td>\n",
       "    </tr>\n",
       "    <tr>\n",
       "      <th>9715</th>\n",
       "      <td>2020-12-28</td>\n",
       "      <td>PPROD</td>\n",
       "      <td>PP</td>\n",
       "      <td>User_Stu</td>\n",
       "      <td>3380124</td>\n",
       "      <td>36</td>\n",
       "    </tr>\n",
       "  </tbody>\n",
       "</table>\n",
       "</div>"
      ],
      "text/plain": [
       "     TodaysDate DatabaseName SchemaName TableName  RecordCount  Ddifference\n",
       "9711 2020-12-23        PPROD         PP  User_Stu      3380089            0\n",
       "9712 2020-12-24        PPROD         PP  User_Stu      3380088           -1\n",
       "9713 2020-12-25        PPROD         PP  User_Stu      3380088            0\n",
       "9714 2020-12-26        PPROD         PP  User_Stu      3380088            0\n",
       "9715 2020-12-28        PPROD         PP  User_Stu      3380124           36"
      ]
     },
     "execution_count": 7,
     "metadata": {},
     "output_type": "execute_result"
    }
   ],
   "source": [
    "dfpprod0100.head()"
   ]
  },
  {
   "cell_type": "code",
   "execution_count": 8,
   "metadata": {},
   "outputs": [
    {
     "name": "stdout",
     "output_type": "stream",
     "text": [
      "     DatabaseName SchemaName                  TableName\n",
      "1053        PPROD        dbo  DisciplineCodeCorrections\n"
     ]
    }
   ],
   "source": [
    "d = dfpprod0001[['DatabaseName', 'SchemaName','TableName']]#.format(z)\n",
    "d = d.drop_duplicates()\n",
    "e = d['DatabaseName'].values[0]\n",
    "f = d['SchemaName'].values[0]\n",
    "g = d['TableName'].values[0]\n",
    "print (d)\n",
    "FileName = ('PPROD_{}_{}'.format(f,g))\n",
    "\n",
    "fig = px.scatter(dfpprod0001, x = 'TodaysDate', y='RecordCount', size = 'RecordCount', color = 'RecordCount')#.format(z)\n",
    "fig.update_layout(title = '{0},{1},{2}'.format(e,f,g))\n",
    "fig.update_layout(yaxis_zeroline=False, xaxis_zeroline=False)\n",
    "fig.update_xaxes(title_font=dict(size=18, color='crimson'))\n",
    "fig.update_yaxes(title_font=dict(size=18, color='crimson'))\n",
    "fig.update_xaxes(ticks=\"inside\")\n",
    "fig.update_yaxes(ticks=\"inside\")\n",
    "fig.update_xaxes(tickangle=45, tickfont=dict(color='crimson', size=14))\n",
    "fig.update_xaxes(showline=True, linewidth=2, linecolor='black', mirror=True, gridcolor='Pink')\n",
    "fig.update_yaxes(showline=True, linewidth=2, linecolor='black', mirror=True, gridcolor='Red')\n",
    "#fig.show()\n",
    "fig.write_html(pathT+\"\\{}.html\".format(FileName))\n",
    "plt.close()"
   ]
  },
  {
   "cell_type": "code",
   "execution_count": 9,
   "metadata": {},
   "outputs": [
    {
     "name": "stdout",
     "output_type": "stream",
     "text": [
      "     DatabaseName SchemaName  TableName\n",
      "1170        PPROD        dbo  ERROR_LOG\n"
     ]
    }
   ],
   "source": [
    "d = dfpprod0002[['DatabaseName', 'SchemaName','TableName']]#.format(z)\n",
    "d = d.drop_duplicates()\n",
    "e = d['DatabaseName'].values[0]\n",
    "f = d['SchemaName'].values[0]\n",
    "g = d['TableName'].values[0]\n",
    "print (d)\n",
    "FileName = ('PPROD_{}_{}'.format(f,g))\n",
    "\n",
    "fig = px.scatter(dfpprod0002, x = 'TodaysDate', y='RecordCount', size = 'RecordCount', color = 'RecordCount')#.format(z)\n",
    "fig.update_layout(title = '{0},{1},{2}'.format(e,f,g))\n",
    "fig.update_layout(yaxis_zeroline=False, xaxis_zeroline=False)\n",
    "fig.update_xaxes(title_font=dict(size=18, color='crimson'))\n",
    "fig.update_yaxes(title_font=dict(size=18, color='crimson'))\n",
    "fig.update_xaxes(ticks=\"inside\")\n",
    "fig.update_yaxes(ticks=\"inside\")\n",
    "fig.update_xaxes(tickangle=45, tickfont=dict(color='crimson', size=14))\n",
    "fig.update_xaxes(showline=True, linewidth=2, linecolor='black', mirror=True, gridcolor='Pink')\n",
    "fig.update_yaxes(showline=True, linewidth=2, linecolor='black', mirror=True, gridcolor='Red')\n",
    "#fig.show()\n",
    "fig.write_html(pathT+\"\\{}.html\".format(FileName))\n",
    "plt.close()"
   ]
  },
  {
   "cell_type": "code",
   "execution_count": 10,
   "metadata": {},
   "outputs": [
    {
     "name": "stdout",
     "output_type": "stream",
     "text": [
      "      DatabaseName SchemaName              TableName\n",
      "10647        PPROD        dbo  jcs_sportalusage_test\n"
     ]
    }
   ],
   "source": [
    "d = dfpprod0003[['DatabaseName', 'SchemaName','TableName']]#.format(z)\n",
    "d = d.drop_duplicates()\n",
    "e = d['DatabaseName'].values[0]\n",
    "f = d['SchemaName'].values[0]\n",
    "g = d['TableName'].values[0]\n",
    "print (d)\n",
    "FileName = ('PPROD_{}_{}'.format(f,g))\n",
    "\n",
    "fig = px.scatter(dfpprod0003, x = 'TodaysDate', y='RecordCount', size = 'RecordCount', color = 'RecordCount')#.format(z)\n",
    "fig.update_layout(title = '{0},{1},{2}'.format(e,f,g))\n",
    "fig.update_layout(yaxis_zeroline=False, xaxis_zeroline=False)\n",
    "fig.update_xaxes(title_font=dict(size=18, color='crimson'))\n",
    "fig.update_yaxes(title_font=dict(size=18, color='crimson'))\n",
    "fig.update_xaxes(ticks=\"inside\")\n",
    "fig.update_yaxes(ticks=\"inside\")\n",
    "fig.update_xaxes(tickangle=45, tickfont=dict(color='crimson', size=14))\n",
    "fig.update_xaxes(showline=True, linewidth=2, linecolor='black', mirror=True, gridcolor='Pink')\n",
    "fig.update_yaxes(showline=True, linewidth=2, linecolor='black', mirror=True, gridcolor='Red')\n",
    "#fig.show()\n",
    "fig.write_html(pathT+\"\\{}.html\".format(FileName))\n",
    "plt.close()"
   ]
  },
  {
   "cell_type": "code",
   "execution_count": 11,
   "metadata": {},
   "outputs": [
    {
     "name": "stdout",
     "output_type": "stream",
     "text": [
      "     DatabaseName SchemaName TableName\n",
      "3159        PPROD        dbo   MealPay\n"
     ]
    }
   ],
   "source": [
    "d = dfpprod0004[['DatabaseName', 'SchemaName','TableName']]#.format(z)\n",
    "d = d.drop_duplicates()\n",
    "e = d['DatabaseName'].values[0]\n",
    "f = d['SchemaName'].values[0]\n",
    "g = d['TableName'].values[0]\n",
    "print (d)\n",
    "FileName = ('PPROD_{}_{}'.format(f,g))\n",
    "\n",
    "fig = px.scatter(dfpprod0004, x = 'TodaysDate', y='RecordCount', size = 'RecordCount', color = 'RecordCount')#.format(z)\n",
    "fig.update_layout(title = '{0},{1},{2}'.format(e,f,g))\n",
    "fig.update_layout(yaxis_zeroline=False, xaxis_zeroline=False)\n",
    "fig.update_xaxes(title_font=dict(size=18, color='crimson'))\n",
    "fig.update_yaxes(title_font=dict(size=18, color='crimson'))\n",
    "fig.update_xaxes(ticks=\"inside\")\n",
    "fig.update_yaxes(ticks=\"inside\")\n",
    "fig.update_xaxes(tickangle=45, tickfont=dict(color='crimson', size=14))\n",
    "fig.update_xaxes(showline=True, linewidth=2, linecolor='black', mirror=True, gridcolor='Pink')\n",
    "fig.update_yaxes(showline=True, linewidth=2, linecolor='black', mirror=True, gridcolor='Red')\n",
    "#fig.show()\n",
    "fig.write_html(pathT+\"\\{}.html\".format(FileName))\n",
    "plt.close()"
   ]
  },
  {
   "cell_type": "code",
   "execution_count": 12,
   "metadata": {},
   "outputs": [
    {
     "name": "stdout",
     "output_type": "stream",
     "text": [
      "      DatabaseName SchemaName        TableName\n",
      "10764        PPROD        dbo  missingpermnums\n"
     ]
    }
   ],
   "source": [
    "d = dfpprod0005[['DatabaseName', 'SchemaName','TableName']]#.format(z)\n",
    "d = d.drop_duplicates()\n",
    "e = d['DatabaseName'].values[0]\n",
    "f = d['SchemaName'].values[0]\n",
    "g = d['TableName'].values[0]\n",
    "print (d)\n",
    "FileName = ('PPROD_{}_{}'.format(f,g))\n",
    "\n",
    "fig = px.scatter(dfpprod0005, x = 'TodaysDate', y='RecordCount', size = 'RecordCount', color = 'RecordCount')#.format(z)\n",
    "fig.update_layout(title = '{0},{1},{2}'.format(e,f,g))\n",
    "fig.update_layout(yaxis_zeroline=False, xaxis_zeroline=False)\n",
    "fig.update_xaxes(title_font=dict(size=18, color='crimson'))\n",
    "fig.update_yaxes(title_font=dict(size=18, color='crimson'))\n",
    "fig.update_xaxes(ticks=\"inside\")\n",
    "fig.update_yaxes(ticks=\"inside\")\n",
    "fig.update_xaxes(tickangle=45, tickfont=dict(color='crimson', size=14))\n",
    "fig.update_xaxes(showline=True, linewidth=2, linecolor='black', mirror=True, gridcolor='Pink')\n",
    "fig.update_yaxes(showline=True, linewidth=2, linecolor='black', mirror=True, gridcolor='Red')\n",
    "#fig.show()\n",
    "fig.write_html(pathT+\"\\{}.html\".format(FileName))\n",
    "plt.close()"
   ]
  },
  {
   "cell_type": "code",
   "execution_count": 13,
   "metadata": {},
   "outputs": [
    {
     "name": "stdout",
     "output_type": "stream",
     "text": [
      "      DatabaseName SchemaName                          TableName\n",
      "11232        PPROD        dbo  parent_surveys_bak_greg_201702026\n"
     ]
    }
   ],
   "source": [
    "d = dfpprod0006[['DatabaseName', 'SchemaName','TableName']]#.format(z)\n",
    "d = d.drop_duplicates()\n",
    "e = d['DatabaseName'].values[0]\n",
    "f = d['SchemaName'].values[0]\n",
    "g = d['TableName'].values[0]\n",
    "print (d)\n",
    "FileName = ('PPROD_{}_{}'.format(f,g))\n",
    "\n",
    "fig = px.scatter(dfpprod0006, x = 'TodaysDate', y='RecordCount', size = 'RecordCount', color = 'RecordCount')#.format(z)\n",
    "fig.update_layout(title = '{0},{1},{2}'.format(e,f,g))\n",
    "fig.update_layout(yaxis_zeroline=False, xaxis_zeroline=False)\n",
    "fig.update_xaxes(title_font=dict(size=18, color='crimson'))\n",
    "fig.update_yaxes(title_font=dict(size=18, color='crimson'))\n",
    "fig.update_xaxes(ticks=\"inside\")\n",
    "fig.update_yaxes(ticks=\"inside\")\n",
    "fig.update_xaxes(tickangle=45, tickfont=dict(color='crimson', size=14))\n",
    "fig.update_xaxes(showline=True, linewidth=2, linecolor='black', mirror=True, gridcolor='Pink')\n",
    "fig.update_yaxes(showline=True, linewidth=2, linecolor='black', mirror=True, gridcolor='Red')\n",
    "#fig.show()\n",
    "fig.write_html(pathT+\"\\{}.html\".format(FileName))\n",
    "plt.close()"
   ]
  },
  {
   "cell_type": "code",
   "execution_count": 14,
   "metadata": {},
   "outputs": [
    {
     "name": "stdout",
     "output_type": "stream",
     "text": [
      "      DatabaseName SchemaName       TableName\n",
      "10881        PPROD        dbo  parentNotFound\n"
     ]
    }
   ],
   "source": [
    "d = dfpprod0007[['DatabaseName', 'SchemaName','TableName']]#.format(z)\n",
    "d = d.drop_duplicates()\n",
    "e = d['DatabaseName'].values[0]\n",
    "f = d['SchemaName'].values[0]\n",
    "g = d['TableName'].values[0]\n",
    "print (d)\n",
    "FileName = ('PPROD_{}_{}'.format(f,g))\n",
    "\n",
    "fig = px.scatter(dfpprod0007, x = 'TodaysDate', y='RecordCount', size = 'RecordCount', color = 'RecordCount')#.format(z)\n",
    "fig.update_layout(title = '{0},{1},{2}'.format(e,f,g))\n",
    "fig.update_layout(yaxis_zeroline=False, xaxis_zeroline=False)\n",
    "fig.update_xaxes(title_font=dict(size=18, color='crimson'))\n",
    "fig.update_yaxes(title_font=dict(size=18, color='crimson'))\n",
    "fig.update_xaxes(ticks=\"inside\")\n",
    "fig.update_yaxes(ticks=\"inside\")\n",
    "fig.update_xaxes(tickangle=45, tickfont=dict(color='crimson', size=14))\n",
    "fig.update_xaxes(showline=True, linewidth=2, linecolor='black', mirror=True, gridcolor='Pink')\n",
    "fig.update_yaxes(showline=True, linewidth=2, linecolor='black', mirror=True, gridcolor='Red')\n",
    "#fig.show()\n",
    "fig.write_html(pathT+\"\\{}.html\".format(FileName))\n",
    "plt.close()"
   ]
  },
  {
   "cell_type": "code",
   "execution_count": 15,
   "metadata": {},
   "outputs": [
    {
     "name": "stdout",
     "output_type": "stream",
     "text": [
      "      DatabaseName SchemaName          TableName\n",
      "11349        PPROD        dbo  parents_to_delete\n"
     ]
    }
   ],
   "source": [
    "d = dfpprod0008[['DatabaseName', 'SchemaName','TableName']]#.format(z)\n",
    "d = d.drop_duplicates()\n",
    "e = d['DatabaseName'].values[0]\n",
    "f = d['SchemaName'].values[0]\n",
    "g = d['TableName'].values[0]\n",
    "print (d)\n",
    "FileName = ('PPROD_{}_{}'.format(f,g))\n",
    "\n",
    "fig = px.scatter(dfpprod0008, x = 'TodaysDate', y='RecordCount', size = 'RecordCount', color = 'RecordCount')#.format(z)\n",
    "fig.update_layout(title = '{0},{1},{2}'.format(e,f,g))\n",
    "fig.update_layout(yaxis_zeroline=False, xaxis_zeroline=False)\n",
    "fig.update_xaxes(title_font=dict(size=18, color='crimson'))\n",
    "fig.update_yaxes(title_font=dict(size=18, color='crimson'))\n",
    "fig.update_xaxes(ticks=\"inside\")\n",
    "fig.update_yaxes(ticks=\"inside\")\n",
    "fig.update_xaxes(tickangle=45, tickfont=dict(color='crimson', size=14))\n",
    "fig.update_xaxes(showline=True, linewidth=2, linecolor='black', mirror=True, gridcolor='Pink')\n",
    "fig.update_yaxes(showline=True, linewidth=2, linecolor='black', mirror=True, gridcolor='Red')\n",
    "#fig.show()\n",
    "fig.write_html(pathT+\"\\{}.html\".format(FileName))\n",
    "plt.close()"
   ]
  },
  {
   "cell_type": "code",
   "execution_count": 16,
   "metadata": {},
   "outputs": [
    {
     "name": "stdout",
     "output_type": "stream",
     "text": [
      "     DatabaseName SchemaName                     TableName\n",
      "3510        PPROD        dbo  PPROD_PPIGP_igpro_icgr_dupes\n"
     ]
    }
   ],
   "source": [
    "d = dfpprod0009[['DatabaseName', 'SchemaName','TableName']]#.format(z)\n",
    "d = d.drop_duplicates()\n",
    "e = d['DatabaseName'].values[0]\n",
    "f = d['SchemaName'].values[0]\n",
    "g = d['TableName'].values[0]\n",
    "print (d)\n",
    "FileName = ('PPROD_{}_{}'.format(f,g))\n",
    "\n",
    "fig = px.scatter(dfpprod0009, x = 'TodaysDate', y='RecordCount', size = 'RecordCount', color = 'RecordCount')#.format(z)\n",
    "fig.update_layout(title = '{0},{1},{2}'.format(e,f,g))\n",
    "fig.update_layout(yaxis_zeroline=False, xaxis_zeroline=False)\n",
    "fig.update_xaxes(title_font=dict(size=18, color='crimson'))\n",
    "fig.update_yaxes(title_font=dict(size=18, color='crimson'))\n",
    "fig.update_xaxes(ticks=\"inside\")\n",
    "fig.update_yaxes(ticks=\"inside\")\n",
    "fig.update_xaxes(tickangle=45, tickfont=dict(color='crimson', size=14))\n",
    "fig.update_xaxes(showline=True, linewidth=2, linecolor='black', mirror=True, gridcolor='Pink')\n",
    "fig.update_yaxes(showline=True, linewidth=2, linecolor='black', mirror=True, gridcolor='Red')\n",
    "#fig.show()\n",
    "fig.write_html(pathT+\"\\{}.html\".format(FileName))\n",
    "plt.close()"
   ]
  },
  {
   "cell_type": "code",
   "execution_count": 17,
   "metadata": {},
   "outputs": [
    {
     "name": "stdout",
     "output_type": "stream",
     "text": [
      "     DatabaseName SchemaName      TableName\n",
      "4680        PPROD        dbo  SPortalLogins\n"
     ]
    }
   ],
   "source": [
    "d = dfpprod0010[['DatabaseName', 'SchemaName','TableName']]#.format(z)\n",
    "d = d.drop_duplicates()\n",
    "e = d['DatabaseName'].values[0]\n",
    "f = d['SchemaName'].values[0]\n",
    "g = d['TableName'].values[0]\n",
    "print (d)\n",
    "FileName = ('PPROD_{}_{}'.format(f,g))\n",
    "\n",
    "fig = px.scatter(dfpprod0010, x = 'TodaysDate', y='RecordCount', size = 'RecordCount', color = 'RecordCount')#.format(z)\n",
    "fig.update_layout(title = '{0},{1},{2}'.format(e,f,g))\n",
    "fig.update_layout(yaxis_zeroline=False, xaxis_zeroline=False)\n",
    "fig.update_xaxes(title_font=dict(size=18, color='crimson'))\n",
    "fig.update_yaxes(title_font=dict(size=18, color='crimson'))\n",
    "fig.update_xaxes(ticks=\"inside\")\n",
    "fig.update_yaxes(ticks=\"inside\")\n",
    "fig.update_xaxes(tickangle=45, tickfont=dict(color='crimson', size=14))\n",
    "fig.update_xaxes(showline=True, linewidth=2, linecolor='black', mirror=True, gridcolor='Pink')\n",
    "fig.update_yaxes(showline=True, linewidth=2, linecolor='black', mirror=True, gridcolor='Red')\n",
    "#fig.show()\n",
    "fig.write_html(pathT+\"\\{}.html\".format(FileName))\n",
    "plt.close()"
   ]
  },
  {
   "cell_type": "code",
   "execution_count": 18,
   "metadata": {},
   "outputs": [
    {
     "name": "stdout",
     "output_type": "stream",
     "text": [
      "      DatabaseName SchemaName          TableName\n",
      "12753        PPROD        dbo  stu_rltn_20160726\n"
     ]
    }
   ],
   "source": [
    "d = dfpprod0011[['DatabaseName', 'SchemaName','TableName']]#.format(z)\n",
    "d = d.drop_duplicates()\n",
    "e = d['DatabaseName'].values[0]\n",
    "f = d['SchemaName'].values[0]\n",
    "g = d['TableName'].values[0]\n",
    "print (d)\n",
    "FileName = ('PPROD_{}_{}'.format(f,g))\n",
    "\n",
    "fig = px.scatter(dfpprod0011, x = 'TodaysDate', y='RecordCount', size = 'RecordCount', color = 'RecordCount')#.format(z)\n",
    "fig.update_layout(title = '{0},{1},{2}'.format(e,f,g))\n",
    "fig.update_layout(yaxis_zeroline=False, xaxis_zeroline=False)\n",
    "fig.update_xaxes(title_font=dict(size=18, color='crimson'))\n",
    "fig.update_yaxes(title_font=dict(size=18, color='crimson'))\n",
    "fig.update_xaxes(ticks=\"inside\")\n",
    "fig.update_yaxes(ticks=\"inside\")\n",
    "fig.update_xaxes(tickangle=45, tickfont=dict(color='crimson', size=14))\n",
    "fig.update_xaxes(showline=True, linewidth=2, linecolor='black', mirror=True, gridcolor='Pink')\n",
    "fig.update_yaxes(showline=True, linewidth=2, linecolor='black', mirror=True, gridcolor='Red')\n",
    "#fig.show()\n",
    "fig.write_html(pathT+\"\\{}.html\".format(FileName))\n",
    "plt.close()"
   ]
  },
  {
   "cell_type": "code",
   "execution_count": 19,
   "metadata": {},
   "outputs": [
    {
     "name": "stdout",
     "output_type": "stream",
     "text": [
      "     DatabaseName SchemaName             TableName\n",
      "8073        PPROD        dbo  STU_SUBT_HIST_Errors\n"
     ]
    }
   ],
   "source": [
    "d = dfpprod0012[['DatabaseName', 'SchemaName','TableName']]#.format(z)\n",
    "d = d.drop_duplicates()\n",
    "e = d['DatabaseName'].values[0]\n",
    "f = d['SchemaName'].values[0]\n",
    "g = d['TableName'].values[0]\n",
    "print (d)\n",
    "FileName = ('PPROD_{}_{}'.format(f,g))\n",
    "\n",
    "fig = px.scatter(dfpprod0012, x = 'TodaysDate', y='RecordCount', size = 'RecordCount', color = 'RecordCount')#.format(z)\n",
    "fig.update_layout(title = '{0},{1},{2}'.format(e,f,g))\n",
    "fig.update_layout(yaxis_zeroline=False, xaxis_zeroline=False)\n",
    "fig.update_xaxes(title_font=dict(size=18, color='crimson'))\n",
    "fig.update_yaxes(title_font=dict(size=18, color='crimson'))\n",
    "fig.update_xaxes(ticks=\"inside\")\n",
    "fig.update_yaxes(ticks=\"inside\")\n",
    "fig.update_xaxes(tickangle=45, tickfont=dict(color='crimson', size=14))\n",
    "fig.update_xaxes(showline=True, linewidth=2, linecolor='black', mirror=True, gridcolor='Pink')\n",
    "fig.update_yaxes(showline=True, linewidth=2, linecolor='black', mirror=True, gridcolor='Red')\n",
    "#fig.show()\n",
    "fig.write_html(pathT+\"\\{}.html\".format(FileName))\n",
    "plt.close()"
   ]
  },
  {
   "cell_type": "code",
   "execution_count": 20,
   "metadata": {},
   "outputs": [
    {
     "name": "stdout",
     "output_type": "stream",
     "text": [
      "     DatabaseName SchemaName     TableName\n",
      "9243        PPROD        dbo  StudentEmail\n"
     ]
    }
   ],
   "source": [
    "d = dfpprod0013[['DatabaseName', 'SchemaName','TableName']]#.format(z)\n",
    "d = d.drop_duplicates()\n",
    "e = d['DatabaseName'].values[0]\n",
    "f = d['SchemaName'].values[0]\n",
    "g = d['TableName'].values[0]\n",
    "print (d)\n",
    "FileName = ('PPROD_{}_{}'.format(f,g))\n",
    "\n",
    "fig = px.scatter(dfpprod0013, x = 'TodaysDate', y='RecordCount', size = 'RecordCount', color = 'RecordCount')#.format(z)\n",
    "fig.update_layout(title = '{0},{1},{2}'.format(e,f,g))\n",
    "fig.update_layout(yaxis_zeroline=False, xaxis_zeroline=False)\n",
    "fig.update_xaxes(title_font=dict(size=18, color='crimson'))\n",
    "fig.update_yaxes(title_font=dict(size=18, color='crimson'))\n",
    "fig.update_xaxes(ticks=\"inside\")\n",
    "fig.update_yaxes(ticks=\"inside\")\n",
    "fig.update_xaxes(tickangle=45, tickfont=dict(color='crimson', size=14))\n",
    "fig.update_xaxes(showline=True, linewidth=2, linecolor='black', mirror=True, gridcolor='Pink')\n",
    "fig.update_yaxes(showline=True, linewidth=2, linecolor='black', mirror=True, gridcolor='Red')\n",
    "#fig.show()\n",
    "fig.write_html(pathT+\"\\{}.html\".format(FileName))\n",
    "plt.close()"
   ]
  },
  {
   "cell_type": "code",
   "execution_count": 21,
   "metadata": {},
   "outputs": [
    {
     "name": "stdout",
     "output_type": "stream",
     "text": [
      "      DatabaseName SchemaName           TableName\n",
      "12987        PPROD        dbo  students_to_delete\n"
     ]
    }
   ],
   "source": [
    "d = dfpprod0014[['DatabaseName', 'SchemaName','TableName']]#.format(z)\n",
    "d = d.drop_duplicates()\n",
    "e = d['DatabaseName'].values[0]\n",
    "f = d['SchemaName'].values[0]\n",
    "g = d['TableName'].values[0]\n",
    "print (d)\n",
    "FileName = ('PPROD_{}_{}'.format(f,g))\n",
    "\n",
    "fig = px.scatter(dfpprod0014, x = 'TodaysDate', y='RecordCount', size = 'RecordCount', color = 'RecordCount')#.format(z)\n",
    "fig.update_layout(title = '{0},{1},{2}'.format(e,f,g))\n",
    "fig.update_layout(yaxis_zeroline=False, xaxis_zeroline=False)\n",
    "fig.update_xaxes(title_font=dict(size=18, color='crimson'))\n",
    "fig.update_yaxes(title_font=dict(size=18, color='crimson'))\n",
    "fig.update_xaxes(ticks=\"inside\")\n",
    "fig.update_yaxes(ticks=\"inside\")\n",
    "fig.update_xaxes(tickangle=45, tickfont=dict(color='crimson', size=14))\n",
    "fig.update_xaxes(showline=True, linewidth=2, linecolor='black', mirror=True, gridcolor='Pink')\n",
    "fig.update_yaxes(showline=True, linewidth=2, linecolor='black', mirror=True, gridcolor='Red')\n",
    "#fig.show()\n",
    "fig.write_html(pathT+\"\\{}.html\".format(FileName))\n",
    "plt.close()"
   ]
  },
  {
   "cell_type": "code",
   "execution_count": 22,
   "metadata": {},
   "outputs": [
    {
     "name": "stdout",
     "output_type": "stream",
     "text": [
      "      DatabaseName SchemaName TableName\n",
      "13221        PPROD        dbo   stulist\n"
     ]
    }
   ],
   "source": [
    "d = dfpprod0015[['DatabaseName', 'SchemaName','TableName']]#.format(z)\n",
    "d = d.drop_duplicates()\n",
    "e = d['DatabaseName'].values[0]\n",
    "f = d['SchemaName'].values[0]\n",
    "g = d['TableName'].values[0]\n",
    "print (d)\n",
    "FileName = ('PPROD_{}_{}'.format(f,g))\n",
    "\n",
    "fig = px.scatter(dfpprod0015, x = 'TodaysDate', y='RecordCount', size = 'RecordCount', color = 'RecordCount')#.format(z)\n",
    "fig.update_layout(title = '{0},{1},{2}'.format(e,f,g))\n",
    "fig.update_layout(yaxis_zeroline=False, xaxis_zeroline=False)\n",
    "fig.update_xaxes(title_font=dict(size=18, color='crimson'))\n",
    "fig.update_yaxes(title_font=dict(size=18, color='crimson'))\n",
    "fig.update_xaxes(ticks=\"inside\")\n",
    "fig.update_yaxes(ticks=\"inside\")\n",
    "fig.update_xaxes(tickangle=45, tickfont=dict(color='crimson', size=14))\n",
    "fig.update_xaxes(showline=True, linewidth=2, linecolor='black', mirror=True, gridcolor='Pink')\n",
    "fig.update_yaxes(showline=True, linewidth=2, linecolor='black', mirror=True, gridcolor='Red')\n",
    "#fig.show()\n",
    "fig.write_html(pathT+\"\\{}.html\".format(FileName))\n",
    "plt.close()"
   ]
  },
  {
   "cell_type": "code",
   "execution_count": 23,
   "metadata": {},
   "outputs": [
    {
     "name": "stdout",
     "output_type": "stream",
     "text": [
      "      DatabaseName SchemaName                            TableName\n",
      "14274        PPROD        dbo  survey_responses_bak_greg_201702026\n"
     ]
    }
   ],
   "source": [
    "d = dfpprod0016[['DatabaseName', 'SchemaName','TableName']]#.format(z)\n",
    "d = d.drop_duplicates()\n",
    "e = d['DatabaseName'].values[0]\n",
    "f = d['SchemaName'].values[0]\n",
    "g = d['TableName'].values[0]\n",
    "print (d)\n",
    "FileName = ('PPROD_{}_{}'.format(f,g))\n",
    "\n",
    "fig = px.scatter(dfpprod0016, x = 'TodaysDate', y='RecordCount', size = 'RecordCount', color = 'RecordCount')#.format(z)\n",
    "fig.update_layout(title = '{0},{1},{2}'.format(e,f,g))\n",
    "fig.update_layout(yaxis_zeroline=False, xaxis_zeroline=False)\n",
    "fig.update_xaxes(title_font=dict(size=18, color='crimson'))\n",
    "fig.update_yaxes(title_font=dict(size=18, color='crimson'))\n",
    "fig.update_xaxes(ticks=\"inside\")\n",
    "fig.update_yaxes(ticks=\"inside\")\n",
    "fig.update_xaxes(tickangle=45, tickfont=dict(color='crimson', size=14))\n",
    "fig.update_xaxes(showline=True, linewidth=2, linecolor='black', mirror=True, gridcolor='Pink')\n",
    "fig.update_yaxes(showline=True, linewidth=2, linecolor='black', mirror=True, gridcolor='Red')\n",
    "#fig.show()\n",
    "fig.write_html(pathT+\"\\{}.html\".format(FileName))\n",
    "plt.close()"
   ]
  },
  {
   "cell_type": "code",
   "execution_count": 24,
   "metadata": {},
   "outputs": [
    {
     "name": "stdout",
     "output_type": "stream",
     "text": [
      "      DatabaseName SchemaName    TableName\n",
      "14391        PPROD        dbo  sysdiagrams\n"
     ]
    }
   ],
   "source": [
    "d = dfpprod0017[['DatabaseName', 'SchemaName','TableName']]#.format(z)\n",
    "d = d.drop_duplicates()\n",
    "e = d['DatabaseName'].values[0]\n",
    "f = d['SchemaName'].values[0]\n",
    "g = d['TableName'].values[0]\n",
    "print (d)\n",
    "FileName = ('PPROD_{}_{}'.format(f,g))\n",
    "\n",
    "fig = px.scatter(dfpprod0017, x = 'TodaysDate', y='RecordCount', size = 'RecordCount', color = 'RecordCount')#.format(z)\n",
    "fig.update_layout(title = '{0},{1},{2}'.format(e,f,g))\n",
    "fig.update_layout(yaxis_zeroline=False, xaxis_zeroline=False)\n",
    "fig.update_xaxes(title_font=dict(size=18, color='crimson'))\n",
    "fig.update_yaxes(title_font=dict(size=18, color='crimson'))\n",
    "fig.update_xaxes(ticks=\"inside\")\n",
    "fig.update_yaxes(ticks=\"inside\")\n",
    "fig.update_xaxes(tickangle=45, tickfont=dict(color='crimson', size=14))\n",
    "fig.update_xaxes(showline=True, linewidth=2, linecolor='black', mirror=True, gridcolor='Pink')\n",
    "fig.update_yaxes(showline=True, linewidth=2, linecolor='black', mirror=True, gridcolor='Red')\n",
    "#fig.show()\n",
    "fig.write_html(pathT+\"\\{}.html\".format(FileName))\n",
    "plt.close()"
   ]
  },
  {
   "cell_type": "code",
   "execution_count": 25,
   "metadata": {},
   "outputs": [
    {
     "name": "stdout",
     "output_type": "stream",
     "text": [
      "      DatabaseName SchemaName TableName\n",
      "14508        PPROD        dbo  test_trm\n"
     ]
    }
   ],
   "source": [
    "d = dfpprod0018[['DatabaseName', 'SchemaName','TableName']]#.format(z)\n",
    "d = d.drop_duplicates()\n",
    "e = d['DatabaseName'].values[0]\n",
    "f = d['SchemaName'].values[0]\n",
    "g = d['TableName'].values[0]\n",
    "print (d)\n",
    "FileName = ('PPROD_{}_{}'.format(f,g))\n",
    "\n",
    "fig = px.scatter(dfpprod0018, x = 'TodaysDate', y='RecordCount', size = 'RecordCount', color = 'RecordCount')#.format(z)\n",
    "fig.update_layout(title = '{0},{1},{2}'.format(e,f,g))\n",
    "fig.update_layout(yaxis_zeroline=False, xaxis_zeroline=False)\n",
    "fig.update_xaxes(title_font=dict(size=18, color='crimson'))\n",
    "fig.update_yaxes(title_font=dict(size=18, color='crimson'))\n",
    "fig.update_xaxes(ticks=\"inside\")\n",
    "fig.update_yaxes(ticks=\"inside\")\n",
    "fig.update_xaxes(tickangle=45, tickfont=dict(color='crimson', size=14))\n",
    "fig.update_xaxes(showline=True, linewidth=2, linecolor='black', mirror=True, gridcolor='Pink')\n",
    "fig.update_yaxes(showline=True, linewidth=2, linecolor='black', mirror=True, gridcolor='Red')\n",
    "#fig.show()\n",
    "fig.write_html(pathT+\"\\{}.html\".format(FileName))\n",
    "plt.close()"
   ]
  },
  {
   "cell_type": "code",
   "execution_count": 26,
   "metadata": {},
   "outputs": [
    {
     "name": "stdout",
     "output_type": "stream",
     "text": [
      "      DatabaseName SchemaName             TableName\n",
      "14625        PPROD        dbo  testme_CRS_MSTR_SCHD\n"
     ]
    }
   ],
   "source": [
    "d = dfpprod0019[['DatabaseName', 'SchemaName','TableName']]#.format(z)\n",
    "d = d.drop_duplicates()\n",
    "e = d['DatabaseName'].values[0]\n",
    "f = d['SchemaName'].values[0]\n",
    "g = d['TableName'].values[0]\n",
    "print (d)\n",
    "FileName = ('PPROD_{}_{}'.format(f,g))\n",
    "\n",
    "fig = px.scatter(dfpprod0019, x = 'TodaysDate', y='RecordCount', size = 'RecordCount', color = 'RecordCount')#.format(z)\n",
    "fig.update_layout(title = '{0},{1},{2}'.format(e,f,g))\n",
    "fig.update_layout(yaxis_zeroline=False, xaxis_zeroline=False)\n",
    "fig.update_xaxes(title_font=dict(size=18, color='crimson'))\n",
    "fig.update_yaxes(title_font=dict(size=18, color='crimson'))\n",
    "fig.update_xaxes(ticks=\"inside\")\n",
    "fig.update_yaxes(ticks=\"inside\")\n",
    "fig.update_xaxes(tickangle=45, tickfont=dict(color='crimson', size=14))\n",
    "fig.update_xaxes(showline=True, linewidth=2, linecolor='black', mirror=True, gridcolor='Pink')\n",
    "fig.update_yaxes(showline=True, linewidth=2, linecolor='black', mirror=True, gridcolor='Red')\n",
    "#fig.show()\n",
    "fig.write_html(pathT+\"\\{}.html\".format(FileName))\n",
    "plt.close()"
   ]
  },
  {
   "cell_type": "code",
   "execution_count": 27,
   "metadata": {},
   "outputs": [
    {
     "name": "stdout",
     "output_type": "stream",
     "text": [
      "      DatabaseName SchemaName           TableName\n",
      "14742        PPROD        dbo  work_stu_curr_schd\n"
     ]
    }
   ],
   "source": [
    "d = dfpprod0020[['DatabaseName', 'SchemaName','TableName']]#.format(z)\n",
    "d = d.drop_duplicates()\n",
    "e = d['DatabaseName'].values[0]\n",
    "f = d['SchemaName'].values[0]\n",
    "g = d['TableName'].values[0]\n",
    "print (d)\n",
    "FileName = ('PPROD_{}_{}'.format(f,g))\n",
    "\n",
    "fig = px.scatter(dfpprod0020, x = 'TodaysDate', y='RecordCount', size = 'RecordCount', color = 'RecordCount')#.format(z)\n",
    "fig.update_layout(title = '{0},{1},{2}'.format(e,f,g))\n",
    "fig.update_layout(yaxis_zeroline=False, xaxis_zeroline=False)\n",
    "fig.update_xaxes(title_font=dict(size=18, color='crimson'))\n",
    "fig.update_yaxes(title_font=dict(size=18, color='crimson'))\n",
    "fig.update_xaxes(ticks=\"inside\")\n",
    "fig.update_yaxes(ticks=\"inside\")\n",
    "fig.update_xaxes(tickangle=45, tickfont=dict(color='crimson', size=14))\n",
    "fig.update_xaxes(showline=True, linewidth=2, linecolor='black', mirror=True, gridcolor='Pink')\n",
    "fig.update_yaxes(showline=True, linewidth=2, linecolor='black', mirror=True, gridcolor='Red')\n",
    "#fig.show()\n",
    "fig.write_html(pathT+\"\\{}.html\".format(FileName))\n",
    "plt.close()"
   ]
  },
  {
   "cell_type": "code",
   "execution_count": 28,
   "metadata": {},
   "outputs": [
    {
     "name": "stdout",
     "output_type": "stream",
     "text": [
      "  DatabaseName SchemaName   TableName\n",
      "0        PPROD         PP  Admin_User\n"
     ]
    }
   ],
   "source": [
    "d = dfpprod0021[['DatabaseName', 'SchemaName','TableName']]#.format(z)\n",
    "d = d.drop_duplicates()\n",
    "e = d['DatabaseName'].values[0]\n",
    "f = d['SchemaName'].values[0]\n",
    "g = d['TableName'].values[0]\n",
    "print (d)\n",
    "FileName = ('PPROD_{}_{}'.format(f,g))\n",
    "\n",
    "fig = px.scatter(dfpprod0021, x = 'TodaysDate', y='RecordCount', size = 'RecordCount', color = 'RecordCount')#.format(z)\n",
    "fig.update_layout(title = '{0},{1},{2}'.format(e,f,g))\n",
    "fig.update_layout(yaxis_zeroline=False, xaxis_zeroline=False)\n",
    "fig.update_xaxes(title_font=dict(size=18, color='crimson'))\n",
    "fig.update_yaxes(title_font=dict(size=18, color='crimson'))\n",
    "fig.update_xaxes(ticks=\"inside\")\n",
    "fig.update_yaxes(ticks=\"inside\")\n",
    "fig.update_xaxes(tickangle=45, tickfont=dict(color='crimson', size=14))\n",
    "fig.update_xaxes(showline=True, linewidth=2, linecolor='black', mirror=True, gridcolor='Pink')\n",
    "fig.update_yaxes(showline=True, linewidth=2, linecolor='black', mirror=True, gridcolor='Red')\n",
    "#fig.show()\n",
    "fig.write_html(pathT+\"\\{}.html\".format(FileName))\n",
    "plt.close()"
   ]
  },
  {
   "cell_type": "code",
   "execution_count": 29,
   "metadata": {},
   "outputs": [
    {
     "name": "stdout",
     "output_type": "stream",
     "text": [
      "    DatabaseName SchemaName      TableName\n",
      "468        PPROD         PP  ClassSchedule\n"
     ]
    }
   ],
   "source": [
    "d = dfpprod0022[['DatabaseName', 'SchemaName','TableName']]#.format(z)\n",
    "d = d.drop_duplicates()\n",
    "e = d['DatabaseName'].values[0]\n",
    "f = d['SchemaName'].values[0]\n",
    "g = d['TableName'].values[0]\n",
    "print (d)\n",
    "FileName = ('PPROD_{}_{}'.format(f,g))\n",
    "\n",
    "fig = px.scatter(dfpprod0022, x = 'TodaysDate', y='RecordCount', size = 'RecordCount', color = 'RecordCount')#.format(z)\n",
    "fig.update_layout(title = '{0},{1},{2}'.format(e,f,g))\n",
    "fig.update_layout(yaxis_zeroline=False, xaxis_zeroline=False)\n",
    "fig.update_xaxes(title_font=dict(size=18, color='crimson'))\n",
    "fig.update_yaxes(title_font=dict(size=18, color='crimson'))\n",
    "fig.update_xaxes(ticks=\"inside\")\n",
    "fig.update_yaxes(ticks=\"inside\")\n",
    "fig.update_xaxes(tickangle=45, tickfont=dict(color='crimson', size=14))\n",
    "fig.update_xaxes(showline=True, linewidth=2, linecolor='black', mirror=True, gridcolor='Pink')\n",
    "fig.update_yaxes(showline=True, linewidth=2, linecolor='black', mirror=True, gridcolor='Red')\n",
    "#fig.show()\n",
    "fig.write_html(pathT+\"\\{}.html\".format(FileName))\n",
    "plt.close()"
   ]
  },
  {
   "cell_type": "code",
   "execution_count": 30,
   "metadata": {},
   "outputs": [
    {
     "name": "stdout",
     "output_type": "stream",
     "text": [
      "    DatabaseName SchemaName     TableName\n",
      "585        PPROD         PP  CompareDiffs\n"
     ]
    }
   ],
   "source": [
    "d = dfpprod0023[['DatabaseName', 'SchemaName','TableName']]#.format(z)\n",
    "d = d.drop_duplicates()\n",
    "e = d['DatabaseName'].values[0]\n",
    "f = d['SchemaName'].values[0]\n",
    "g = d['TableName'].values[0]\n",
    "print (d)\n",
    "FileName = ('PPROD_{}_{}'.format(f,g))\n",
    "\n",
    "fig = px.scatter(dfpprod0023, x = 'TodaysDate', y='RecordCount', size = 'RecordCount', color = 'RecordCount')#.format(z)\n",
    "fig.update_layout(title = '{0},{1},{2}'.format(e,f,g))\n",
    "fig.update_layout(yaxis_zeroline=False, xaxis_zeroline=False)\n",
    "fig.update_xaxes(title_font=dict(size=18, color='crimson'))\n",
    "fig.update_yaxes(title_font=dict(size=18, color='crimson'))\n",
    "fig.update_xaxes(ticks=\"inside\")\n",
    "fig.update_yaxes(ticks=\"inside\")\n",
    "fig.update_xaxes(tickangle=45, tickfont=dict(color='crimson', size=14))\n",
    "fig.update_xaxes(showline=True, linewidth=2, linecolor='black', mirror=True, gridcolor='Pink')\n",
    "fig.update_yaxes(showline=True, linewidth=2, linecolor='black', mirror=True, gridcolor='Red')\n",
    "#fig.show()\n",
    "fig.write_html(pathT+\"\\{}.html\".format(FileName))\n",
    "plt.close()"
   ]
  },
  {
   "cell_type": "code",
   "execution_count": 31,
   "metadata": {},
   "outputs": [
    {
     "name": "stdout",
     "output_type": "stream",
     "text": [
      "    DatabaseName SchemaName         TableName\n",
      "702        PPROD         PP  CompareDiffs2DB2\n"
     ]
    }
   ],
   "source": [
    "d = dfpprod0024[['DatabaseName', 'SchemaName','TableName']]#.format(z)\n",
    "d = d.drop_duplicates()\n",
    "e = d['DatabaseName'].values[0]\n",
    "f = d['SchemaName'].values[0]\n",
    "g = d['TableName'].values[0]\n",
    "print (d)\n",
    "FileName = ('PPROD_{}_{}'.format(f,g))\n",
    "\n",
    "fig = px.scatter(dfpprod0024, x = 'TodaysDate', y='RecordCount', size = 'RecordCount', color = 'RecordCount')#.format(z)\n",
    "fig.update_layout(title = '{0},{1},{2}'.format(e,f,g))\n",
    "fig.update_layout(yaxis_zeroline=False, xaxis_zeroline=False)\n",
    "fig.update_xaxes(title_font=dict(size=18, color='crimson'))\n",
    "fig.update_yaxes(title_font=dict(size=18, color='crimson'))\n",
    "fig.update_xaxes(ticks=\"inside\")\n",
    "fig.update_yaxes(ticks=\"inside\")\n",
    "fig.update_xaxes(tickangle=45, tickfont=dict(color='crimson', size=14))\n",
    "fig.update_xaxes(showline=True, linewidth=2, linecolor='black', mirror=True, gridcolor='Pink')\n",
    "fig.update_yaxes(showline=True, linewidth=2, linecolor='black', mirror=True, gridcolor='Red')\n",
    "#fig.show()\n",
    "fig.write_html(pathT+\"\\{}.html\".format(FileName))\n",
    "plt.close()"
   ]
  },
  {
   "cell_type": "code",
   "execution_count": 32,
   "metadata": {},
   "outputs": [
    {
     "name": "stdout",
     "output_type": "stream",
     "text": [
      "      DatabaseName SchemaName      TableName\n",
      "10062        PPROD         PP  crs_mstr_schd\n"
     ]
    }
   ],
   "source": [
    "d = dfpprod0025[['DatabaseName', 'SchemaName','TableName']]#.format(z)\n",
    "d = d.drop_duplicates()\n",
    "e = d['DatabaseName'].values[0]\n",
    "f = d['SchemaName'].values[0]\n",
    "g = d['TableName'].values[0]\n",
    "print (d)\n",
    "FileName = ('PPROD_{}_{}'.format(f,g))\n",
    "\n",
    "fig = px.scatter(dfpprod0025, x = 'TodaysDate', y='RecordCount', size = 'RecordCount', color = 'RecordCount')#.format(z)\n",
    "fig.update_layout(title = '{0},{1},{2}'.format(e,f,g))\n",
    "fig.update_layout(yaxis_zeroline=False, xaxis_zeroline=False)\n",
    "fig.update_xaxes(title_font=dict(size=18, color='crimson'))\n",
    "fig.update_yaxes(title_font=dict(size=18, color='crimson'))\n",
    "fig.update_xaxes(ticks=\"inside\")\n",
    "fig.update_yaxes(ticks=\"inside\")\n",
    "fig.update_xaxes(tickangle=45, tickfont=dict(color='crimson', size=14))\n",
    "fig.update_xaxes(showline=True, linewidth=2, linecolor='black', mirror=True, gridcolor='Pink')\n",
    "fig.update_yaxes(showline=True, linewidth=2, linecolor='black', mirror=True, gridcolor='Red')\n",
    "#fig.show()\n",
    "fig.write_html(pathT+\"\\{}.html\".format(FileName))\n",
    "plt.close()"
   ]
  },
  {
   "cell_type": "code",
   "execution_count": 33,
   "metadata": {},
   "outputs": [
    {
     "name": "stdout",
     "output_type": "stream",
     "text": [
      "      DatabaseName SchemaName         TableName\n",
      "10413        PPROD         PP  emp_email_backup\n"
     ]
    }
   ],
   "source": [
    "d = dfpprod0026[['DatabaseName', 'SchemaName','TableName']]#.format(z)\n",
    "d = d.drop_duplicates()\n",
    "e = d['DatabaseName'].values[0]\n",
    "f = d['SchemaName'].values[0]\n",
    "g = d['TableName'].values[0]\n",
    "print (d)\n",
    "FileName = ('PPROD_{}_{}'.format(f,g))\n",
    "\n",
    "fig = px.scatter(dfpprod0026, x = 'TodaysDate', y='RecordCount', size = 'RecordCount', color = 'RecordCount')#.format(z)\n",
    "fig.update_layout(title = '{0},{1},{2}'.format(e,f,g))\n",
    "fig.update_layout(yaxis_zeroline=False, xaxis_zeroline=False)\n",
    "fig.update_xaxes(title_font=dict(size=18, color='crimson'))\n",
    "fig.update_yaxes(title_font=dict(size=18, color='crimson'))\n",
    "fig.update_xaxes(ticks=\"inside\")\n",
    "fig.update_yaxes(ticks=\"inside\")\n",
    "fig.update_xaxes(tickangle=45, tickfont=dict(color='crimson', size=14))\n",
    "fig.update_xaxes(showline=True, linewidth=2, linecolor='black', mirror=True, gridcolor='Pink')\n",
    "fig.update_yaxes(showline=True, linewidth=2, linecolor='black', mirror=True, gridcolor='Red')\n",
    "#fig.show()\n",
    "fig.write_html(pathT+\"\\{}.html\".format(FileName))\n",
    "plt.close()"
   ]
  },
  {
   "cell_type": "code",
   "execution_count": 34,
   "metadata": {},
   "outputs": [
    {
     "name": "stdout",
     "output_type": "stream",
     "text": [
      "     DatabaseName SchemaName TableName\n",
      "1287        PPROD         PP  Empl_Sch\n"
     ]
    }
   ],
   "source": [
    "d = dfpprod0027[['DatabaseName', 'SchemaName','TableName']]#.format(z)\n",
    "d = d.drop_duplicates()\n",
    "e = d['DatabaseName'].values[0]\n",
    "f = d['SchemaName'].values[0]\n",
    "g = d['TableName'].values[0]\n",
    "print (d)\n",
    "FileName = ('PPROD_{}_{}'.format(f,g))\n",
    "\n",
    "fig = px.scatter(dfpprod0027, x = 'TodaysDate', y='RecordCount', size = 'RecordCount', color = 'RecordCount')#.format(z)\n",
    "fig.update_layout(title = '{0},{1},{2}'.format(e,f,g))\n",
    "fig.update_layout(yaxis_zeroline=False, xaxis_zeroline=False)\n",
    "fig.update_xaxes(title_font=dict(size=18, color='crimson'))\n",
    "fig.update_yaxes(title_font=dict(size=18, color='crimson'))\n",
    "fig.update_xaxes(ticks=\"inside\")\n",
    "fig.update_yaxes(ticks=\"inside\")\n",
    "fig.update_xaxes(tickangle=45, tickfont=dict(color='crimson', size=14))\n",
    "fig.update_xaxes(showline=True, linewidth=2, linecolor='black', mirror=True, gridcolor='Pink')\n",
    "fig.update_yaxes(showline=True, linewidth=2, linecolor='black', mirror=True, gridcolor='Red')\n",
    "#fig.show()\n",
    "fig.write_html(pathT+\"\\{}.html\".format(FileName))\n",
    "plt.close()"
   ]
  },
  {
   "cell_type": "code",
   "execution_count": 35,
   "metadata": {},
   "outputs": [
    {
     "name": "stdout",
     "output_type": "stream",
     "text": [
      "     DatabaseName SchemaName       TableName\n",
      "1404        PPROD         PP  Employee_Email\n"
     ]
    }
   ],
   "source": [
    "d = dfpprod0028[['DatabaseName', 'SchemaName','TableName']]#.format(z)\n",
    "d = d.drop_duplicates()\n",
    "e = d['DatabaseName'].values[0]\n",
    "f = d['SchemaName'].values[0]\n",
    "g = d['TableName'].values[0]\n",
    "print (d)\n",
    "FileName = ('PPROD_{}_{}'.format(f,g))\n",
    "\n",
    "fig = px.scatter(dfpprod0028, x = 'TodaysDate', y='RecordCount', size = 'RecordCount', color = 'RecordCount')#.format(z)\n",
    "fig.update_layout(title = '{0},{1},{2}'.format(e,f,g))\n",
    "fig.update_layout(yaxis_zeroline=False, xaxis_zeroline=False)\n",
    "fig.update_xaxes(title_font=dict(size=18, color='crimson'))\n",
    "fig.update_yaxes(title_font=dict(size=18, color='crimson'))\n",
    "fig.update_xaxes(ticks=\"inside\")\n",
    "fig.update_yaxes(ticks=\"inside\")\n",
    "fig.update_xaxes(tickangle=45, tickfont=dict(color='crimson', size=14))\n",
    "fig.update_xaxes(showline=True, linewidth=2, linecolor='black', mirror=True, gridcolor='Pink')\n",
    "fig.update_yaxes(showline=True, linewidth=2, linecolor='black', mirror=True, gridcolor='Red')\n",
    "#fig.show()\n",
    "fig.write_html(pathT+\"\\{}.html\".format(FileName))\n",
    "plt.close()"
   ]
  },
  {
   "cell_type": "code",
   "execution_count": 36,
   "metadata": {},
   "outputs": [
    {
     "name": "stdout",
     "output_type": "stream",
     "text": [
      "     DatabaseName SchemaName            TableName\n",
      "1521        PPROD         PP  Employee_Email_Test\n"
     ]
    }
   ],
   "source": [
    "d = dfpprod0029[['DatabaseName', 'SchemaName','TableName']]#.format(z)\n",
    "d = d.drop_duplicates()\n",
    "e = d['DatabaseName'].values[0]\n",
    "f = d['SchemaName'].values[0]\n",
    "g = d['TableName'].values[0]\n",
    "print (d)\n",
    "FileName = ('PPROD_{}_{}'.format(f,g))\n",
    "\n",
    "fig = px.scatter(dfpprod0029, x = 'TodaysDate', y='RecordCount', size = 'RecordCount', color = 'RecordCount')#.format(z)\n",
    "fig.update_layout(title = '{0},{1},{2}'.format(e,f,g))\n",
    "fig.update_layout(yaxis_zeroline=False, xaxis_zeroline=False)\n",
    "fig.update_xaxes(title_font=dict(size=18, color='crimson'))\n",
    "fig.update_yaxes(title_font=dict(size=18, color='crimson'))\n",
    "fig.update_xaxes(ticks=\"inside\")\n",
    "fig.update_yaxes(ticks=\"inside\")\n",
    "fig.update_xaxes(tickangle=45, tickfont=dict(color='crimson', size=14))\n",
    "fig.update_xaxes(showline=True, linewidth=2, linecolor='black', mirror=True, gridcolor='Pink')\n",
    "fig.update_yaxes(showline=True, linewidth=2, linecolor='black', mirror=True, gridcolor='Red')\n",
    "#fig.show()\n",
    "fig.write_html(pathT+\"\\{}.html\".format(FileName))\n",
    "plt.close()"
   ]
  },
  {
   "cell_type": "code",
   "execution_count": 37,
   "metadata": {},
   "outputs": [
    {
     "name": "stdout",
     "output_type": "stream",
     "text": [
      "      DatabaseName SchemaName                TableName\n",
      "10530        PPROD         PP  freeze_schedule_schools\n"
     ]
    }
   ],
   "source": [
    "d = dfpprod0030[['DatabaseName', 'SchemaName','TableName']]#.format(z)\n",
    "d = d.drop_duplicates()\n",
    "e = d['DatabaseName'].values[0]\n",
    "f = d['SchemaName'].values[0]\n",
    "g = d['TableName'].values[0]\n",
    "print (d)\n",
    "FileName = ('PPROD_{}_{}'.format(f,g))\n",
    "\n",
    "fig = px.scatter(dfpprod0030, x = 'TodaysDate', y='RecordCount', size = 'RecordCount', color = 'RecordCount')#.format(z)\n",
    "fig.update_layout(title = '{0},{1},{2}'.format(e,f,g))\n",
    "fig.update_layout(yaxis_zeroline=False, xaxis_zeroline=False)\n",
    "fig.update_xaxes(title_font=dict(size=18, color='crimson'))\n",
    "fig.update_yaxes(title_font=dict(size=18, color='crimson'))\n",
    "fig.update_xaxes(ticks=\"inside\")\n",
    "fig.update_yaxes(ticks=\"inside\")\n",
    "fig.update_xaxes(tickangle=45, tickfont=dict(color='crimson', size=14))\n",
    "fig.update_xaxes(showline=True, linewidth=2, linecolor='black', mirror=True, gridcolor='Pink')\n",
    "fig.update_yaxes(showline=True, linewidth=2, linecolor='black', mirror=True, gridcolor='Red')\n",
    "#fig.show()\n",
    "fig.write_html(pathT+\"\\{}.html\".format(FileName))\n",
    "plt.close()"
   ]
  },
  {
   "cell_type": "code",
   "execution_count": 38,
   "metadata": {},
   "outputs": [
    {
     "name": "stdout",
     "output_type": "stream",
     "text": [
      "     DatabaseName SchemaName          TableName\n",
      "1638        PPROD         PP  GradeBookAverages\n"
     ]
    }
   ],
   "source": [
    "d = dfpprod0031[['DatabaseName', 'SchemaName','TableName']]#.format(z)\n",
    "d = d.drop_duplicates()\n",
    "e = d['DatabaseName'].values[0]\n",
    "f = d['SchemaName'].values[0]\n",
    "g = d['TableName'].values[0]\n",
    "print (d)\n",
    "FileName = ('PPROD_{}_{}'.format(f,g))\n",
    "\n",
    "fig = px.scatter(dfpprod0031, x = 'TodaysDate', y='RecordCount', size = 'RecordCount', color = 'RecordCount')#.format(z)\n",
    "fig.update_layout(title = '{0},{1},{2}'.format(e,f,g))\n",
    "fig.update_layout(yaxis_zeroline=False, xaxis_zeroline=False)\n",
    "fig.update_xaxes(title_font=dict(size=18, color='crimson'))\n",
    "fig.update_yaxes(title_font=dict(size=18, color='crimson'))\n",
    "fig.update_xaxes(ticks=\"inside\")\n",
    "fig.update_yaxes(ticks=\"inside\")\n",
    "fig.update_xaxes(tickangle=45, tickfont=dict(color='crimson', size=14))\n",
    "fig.update_xaxes(showline=True, linewidth=2, linecolor='black', mirror=True, gridcolor='Pink')\n",
    "fig.update_yaxes(showline=True, linewidth=2, linecolor='black', mirror=True, gridcolor='Red')\n",
    "#fig.show()\n",
    "fig.write_html(pathT+\"\\{}.html\".format(FileName))\n",
    "plt.close()"
   ]
  },
  {
   "cell_type": "code",
   "execution_count": 39,
   "metadata": {},
   "outputs": [
    {
     "name": "stdout",
     "output_type": "stream",
     "text": [
      "     DatabaseName SchemaName      TableName\n",
      "1989        PPROD         PP  Help_Contexts\n"
     ]
    }
   ],
   "source": [
    "d = dfpprod0032[['DatabaseName', 'SchemaName','TableName']]#.format(z)\n",
    "d = d.drop_duplicates()\n",
    "e = d['DatabaseName'].values[0]\n",
    "f = d['SchemaName'].values[0]\n",
    "g = d['TableName'].values[0]\n",
    "print (d)\n",
    "FileName = ('PPROD_{}_{}'.format(f,g))\n",
    "\n",
    "fig = px.scatter(dfpprod0032, x = 'TodaysDate', y='RecordCount', size = 'RecordCount', color = 'RecordCount')#.format(z)\n",
    "fig.update_layout(title = '{0},{1},{2}'.format(e,f,g))\n",
    "fig.update_layout(yaxis_zeroline=False, xaxis_zeroline=False)\n",
    "fig.update_xaxes(title_font=dict(size=18, color='crimson'))\n",
    "fig.update_yaxes(title_font=dict(size=18, color='crimson'))\n",
    "fig.update_xaxes(ticks=\"inside\")\n",
    "fig.update_yaxes(ticks=\"inside\")\n",
    "fig.update_xaxes(tickangle=45, tickfont=dict(color='crimson', size=14))\n",
    "fig.update_xaxes(showline=True, linewidth=2, linecolor='black', mirror=True, gridcolor='Pink')\n",
    "fig.update_yaxes(showline=True, linewidth=2, linecolor='black', mirror=True, gridcolor='Red')\n",
    "#fig.show()\n",
    "fig.write_html(pathT+\"\\{}.html\".format(FileName))\n",
    "plt.close()"
   ]
  },
  {
   "cell_type": "code",
   "execution_count": 40,
   "metadata": {},
   "outputs": [
    {
     "name": "stdout",
     "output_type": "stream",
     "text": [
      "     DatabaseName SchemaName               TableName\n",
      "2106        PPROD         PP  Help_Question_Contexts\n"
     ]
    }
   ],
   "source": [
    "d = dfpprod0033[['DatabaseName', 'SchemaName','TableName']]#.format(z)\n",
    "d = d.drop_duplicates()\n",
    "e = d['DatabaseName'].values[0]\n",
    "f = d['SchemaName'].values[0]\n",
    "g = d['TableName'].values[0]\n",
    "print (d)\n",
    "FileName = ('PPROD_{}_{}'.format(f,g))\n",
    "\n",
    "fig = px.scatter(dfpprod0033, x = 'TodaysDate', y='RecordCount', size = 'RecordCount', color = 'RecordCount')#.format(z)\n",
    "fig.update_layout(title = '{0},{1},{2}'.format(e,f,g))\n",
    "fig.update_layout(yaxis_zeroline=False, xaxis_zeroline=False)\n",
    "fig.update_xaxes(title_font=dict(size=18, color='crimson'))\n",
    "fig.update_yaxes(title_font=dict(size=18, color='crimson'))\n",
    "fig.update_xaxes(ticks=\"inside\")\n",
    "fig.update_yaxes(ticks=\"inside\")\n",
    "fig.update_xaxes(tickangle=45, tickfont=dict(color='crimson', size=14))\n",
    "fig.update_xaxes(showline=True, linewidth=2, linecolor='black', mirror=True, gridcolor='Pink')\n",
    "fig.update_yaxes(showline=True, linewidth=2, linecolor='black', mirror=True, gridcolor='Red')\n",
    "#fig.show()\n",
    "fig.write_html(pathT+\"\\{}.html\".format(FileName))\n",
    "plt.close()"
   ]
  },
  {
   "cell_type": "code",
   "execution_count": 41,
   "metadata": {},
   "outputs": [
    {
     "name": "stdout",
     "output_type": "stream",
     "text": [
      "     DatabaseName SchemaName       TableName\n",
      "2223        PPROD         PP  Help_Questions\n"
     ]
    }
   ],
   "source": [
    "d = dfpprod0034[['DatabaseName', 'SchemaName','TableName']]#.format(z)\n",
    "d = d.drop_duplicates()\n",
    "e = d['DatabaseName'].values[0]\n",
    "f = d['SchemaName'].values[0]\n",
    "g = d['TableName'].values[0]\n",
    "print (d)\n",
    "FileName = ('PPROD_{}_{}'.format(f,g))\n",
    "\n",
    "fig = px.scatter(dfpprod0034, x = 'TodaysDate', y='RecordCount', size = 'RecordCount', color = 'RecordCount')#.format(z)\n",
    "fig.update_layout(title = '{0},{1},{2}'.format(e,f,g))\n",
    "fig.update_layout(yaxis_zeroline=False, xaxis_zeroline=False)\n",
    "fig.update_xaxes(title_font=dict(size=18, color='crimson'))\n",
    "fig.update_yaxes(title_font=dict(size=18, color='crimson'))\n",
    "fig.update_xaxes(ticks=\"inside\")\n",
    "fig.update_yaxes(ticks=\"inside\")\n",
    "fig.update_xaxes(tickangle=45, tickfont=dict(color='crimson', size=14))\n",
    "fig.update_xaxes(showline=True, linewidth=2, linecolor='black', mirror=True, gridcolor='Pink')\n",
    "fig.update_yaxes(showline=True, linewidth=2, linecolor='black', mirror=True, gridcolor='Red')\n",
    "#fig.show()\n",
    "fig.write_html(pathT+\"\\{}.html\".format(FileName))\n",
    "plt.close()"
   ]
  },
  {
   "cell_type": "code",
   "execution_count": 42,
   "metadata": {},
   "outputs": [
    {
     "name": "stdout",
     "output_type": "stream",
     "text": [
      "     DatabaseName SchemaName    TableName\n",
      "2340        PPROD         PP  LANG_HEADER\n"
     ]
    }
   ],
   "source": [
    "d = dfpprod0035[['DatabaseName', 'SchemaName','TableName']]#.format(z)\n",
    "d = d.drop_duplicates()\n",
    "e = d['DatabaseName'].values[0]\n",
    "f = d['SchemaName'].values[0]\n",
    "g = d['TableName'].values[0]\n",
    "print (d)\n",
    "FileName = ('PPROD_{}_{}'.format(f,g))\n",
    "\n",
    "fig = px.scatter(dfpprod0035, x = 'TodaysDate', y='RecordCount', size = 'RecordCount', color = 'RecordCount')#.format(z)\n",
    "fig.update_layout(title = '{0},{1},{2}'.format(e,f,g))\n",
    "fig.update_layout(yaxis_zeroline=False, xaxis_zeroline=False)\n",
    "fig.update_xaxes(title_font=dict(size=18, color='crimson'))\n",
    "fig.update_yaxes(title_font=dict(size=18, color='crimson'))\n",
    "fig.update_xaxes(ticks=\"inside\")\n",
    "fig.update_yaxes(ticks=\"inside\")\n",
    "fig.update_xaxes(tickangle=45, tickfont=dict(color='crimson', size=14))\n",
    "fig.update_xaxes(showline=True, linewidth=2, linecolor='black', mirror=True, gridcolor='Pink')\n",
    "fig.update_yaxes(showline=True, linewidth=2, linecolor='black', mirror=True, gridcolor='Red')\n",
    "#fig.show()\n",
    "fig.write_html(pathT+\"\\{}.html\".format(FileName))\n",
    "plt.close()"
   ]
  },
  {
   "cell_type": "code",
   "execution_count": 43,
   "metadata": {},
   "outputs": [
    {
     "name": "stdout",
     "output_type": "stream",
     "text": [
      "     DatabaseName SchemaName       TableName\n",
      "2457        PPROD         PP  LAST_PRNT_COMM\n"
     ]
    }
   ],
   "source": [
    "d = dfpprod0036[['DatabaseName', 'SchemaName','TableName']]#.format(z)\n",
    "d = d.drop_duplicates()\n",
    "e = d['DatabaseName'].values[0]\n",
    "f = d['SchemaName'].values[0]\n",
    "g = d['TableName'].values[0]\n",
    "print (d)\n",
    "FileName = ('PPROD_{}_{}'.format(f,g))\n",
    "\n",
    "fig = px.scatter(dfpprod0036, x = 'TodaysDate', y='RecordCount', size = 'RecordCount', color = 'RecordCount')#.format(z)\n",
    "fig.update_layout(title = '{0},{1},{2}'.format(e,f,g))\n",
    "fig.update_layout(yaxis_zeroline=False, xaxis_zeroline=False)\n",
    "fig.update_xaxes(title_font=dict(size=18, color='crimson'))\n",
    "fig.update_yaxes(title_font=dict(size=18, color='crimson'))\n",
    "fig.update_xaxes(ticks=\"inside\")\n",
    "fig.update_yaxes(ticks=\"inside\")\n",
    "fig.update_xaxes(tickangle=45, tickfont=dict(color='crimson', size=14))\n",
    "fig.update_xaxes(showline=True, linewidth=2, linecolor='black', mirror=True, gridcolor='Pink')\n",
    "fig.update_yaxes(showline=True, linewidth=2, linecolor='black', mirror=True, gridcolor='Red')\n",
    "#fig.show()\n",
    "fig.write_html(pathT+\"\\{}.html\".format(FileName))\n",
    "plt.close()"
   ]
  },
  {
   "cell_type": "code",
   "execution_count": 44,
   "metadata": {},
   "outputs": [
    {
     "name": "stdout",
     "output_type": "stream",
     "text": [
      "     DatabaseName SchemaName     TableName\n",
      "3042        PPROD         PP  LastAccessed\n"
     ]
    }
   ],
   "source": [
    "d = dfpprod0037[['DatabaseName', 'SchemaName','TableName']]#.format(z)\n",
    "d = d.drop_duplicates()\n",
    "e = d['DatabaseName'].values[0]\n",
    "f = d['SchemaName'].values[0]\n",
    "g = d['TableName'].values[0]\n",
    "print (d)\n",
    "FileName = ('PPROD_{}_{}'.format(f,g))\n",
    "\n",
    "fig = px.scatter(dfpprod0037, x = 'TodaysDate', y='RecordCount', size = 'RecordCount', color = 'RecordCount')#.format(z)\n",
    "fig.update_layout(title = '{0},{1},{2}'.format(e,f,g))\n",
    "fig.update_layout(yaxis_zeroline=False, xaxis_zeroline=False)\n",
    "fig.update_xaxes(title_font=dict(size=18, color='crimson'))\n",
    "fig.update_yaxes(title_font=dict(size=18, color='crimson'))\n",
    "fig.update_xaxes(ticks=\"inside\")\n",
    "fig.update_yaxes(ticks=\"inside\")\n",
    "fig.update_xaxes(tickangle=45, tickfont=dict(color='crimson', size=14))\n",
    "fig.update_xaxes(showline=True, linewidth=2, linecolor='black', mirror=True, gridcolor='Pink')\n",
    "fig.update_yaxes(showline=True, linewidth=2, linecolor='black', mirror=True, gridcolor='Red')\n",
    "#fig.show()\n",
    "fig.write_html(pathT+\"\\{}.html\".format(FileName))\n",
    "plt.close()"
   ]
  },
  {
   "cell_type": "code",
   "execution_count": 45,
   "metadata": {},
   "outputs": [
    {
     "name": "stdout",
     "output_type": "stream",
     "text": [
      "     DatabaseName SchemaName  TableName\n",
      "2574        PPROD         PP  LDAPUsers\n"
     ]
    }
   ],
   "source": [
    "d = dfpprod0038[['DatabaseName', 'SchemaName','TableName']]#.format(z)\n",
    "d = d.drop_duplicates()\n",
    "e = d['DatabaseName'].values[0]\n",
    "f = d['SchemaName'].values[0]\n",
    "g = d['TableName'].values[0]\n",
    "print (d)\n",
    "FileName = ('PPROD_{}_{}'.format(f,g))\n",
    "\n",
    "fig = px.scatter(dfpprod0038, x = 'TodaysDate', y='RecordCount', size = 'RecordCount', color = 'RecordCount')#.format(z)\n",
    "fig.update_layout(title = '{0},{1},{2}'.format(e,f,g))\n",
    "fig.update_layout(yaxis_zeroline=False, xaxis_zeroline=False)\n",
    "fig.update_xaxes(title_font=dict(size=18, color='crimson'))\n",
    "fig.update_yaxes(title_font=dict(size=18, color='crimson'))\n",
    "fig.update_xaxes(ticks=\"inside\")\n",
    "fig.update_yaxes(ticks=\"inside\")\n",
    "fig.update_xaxes(tickangle=45, tickfont=dict(color='crimson', size=14))\n",
    "fig.update_xaxes(showline=True, linewidth=2, linecolor='black', mirror=True, gridcolor='Pink')\n",
    "fig.update_yaxes(showline=True, linewidth=2, linecolor='black', mirror=True, gridcolor='Red')\n",
    "#fig.show()\n",
    "fig.write_html(pathT+\"\\{}.html\".format(FileName))\n",
    "plt.close()"
   ]
  },
  {
   "cell_type": "code",
   "execution_count": 46,
   "metadata": {},
   "outputs": [
    {
     "name": "stdout",
     "output_type": "stream",
     "text": [
      "     DatabaseName SchemaName              TableName\n",
      "2691        PPROD         PP  LDAPUsersNotActivated\n"
     ]
    }
   ],
   "source": [
    "d = dfpprod0039[['DatabaseName', 'SchemaName','TableName']]#.format(z)\n",
    "d = d.drop_duplicates()\n",
    "e = d['DatabaseName'].values[0]\n",
    "f = d['SchemaName'].values[0]\n",
    "g = d['TableName'].values[0]\n",
    "print (d)\n",
    "FileName = ('PPROD_{}_{}'.format(f,g))\n",
    "\n",
    "fig = px.scatter(dfpprod0039, x = 'TodaysDate', y='RecordCount', size = 'RecordCount', color = 'RecordCount')#.format(z)\n",
    "fig.update_layout(title = '{0},{1},{2}'.format(e,f,g))\n",
    "fig.update_layout(yaxis_zeroline=False, xaxis_zeroline=False)\n",
    "fig.update_xaxes(title_font=dict(size=18, color='crimson'))\n",
    "fig.update_yaxes(title_font=dict(size=18, color='crimson'))\n",
    "fig.update_xaxes(ticks=\"inside\")\n",
    "fig.update_yaxes(ticks=\"inside\")\n",
    "fig.update_xaxes(tickangle=45, tickfont=dict(color='crimson', size=14))\n",
    "fig.update_xaxes(showline=True, linewidth=2, linecolor='black', mirror=True, gridcolor='Pink')\n",
    "fig.update_yaxes(showline=True, linewidth=2, linecolor='black', mirror=True, gridcolor='Red')\n",
    "#fig.show()\n",
    "fig.write_html(pathT+\"\\{}.html\".format(FileName))\n",
    "plt.close()"
   ]
  },
  {
   "cell_type": "code",
   "execution_count": 47,
   "metadata": {},
   "outputs": [
    {
     "name": "stdout",
     "output_type": "stream",
     "text": [
      "     DatabaseName SchemaName   TableName\n",
      "2808        PPROD         PP  LOADDETAIL\n"
     ]
    }
   ],
   "source": [
    "d = dfpprod0040[['DatabaseName', 'SchemaName','TableName']]#.format(z)\n",
    "d = d.drop_duplicates()\n",
    "e = d['DatabaseName'].values[0]\n",
    "f = d['SchemaName'].values[0]\n",
    "g = d['TableName'].values[0]\n",
    "print (d)\n",
    "FileName = ('PPROD_{}_{}'.format(f,g))\n",
    "\n",
    "fig = px.scatter(dfpprod0040, x = 'TodaysDate', y='RecordCount', size = 'RecordCount', color = 'RecordCount')#.format(z)\n",
    "fig.update_layout(title = '{0},{1},{2}'.format(e,f,g))\n",
    "fig.update_layout(yaxis_zeroline=False, xaxis_zeroline=False)\n",
    "fig.update_xaxes(title_font=dict(size=18, color='crimson'))\n",
    "fig.update_yaxes(title_font=dict(size=18, color='crimson'))\n",
    "fig.update_xaxes(ticks=\"inside\")\n",
    "fig.update_yaxes(ticks=\"inside\")\n",
    "fig.update_xaxes(tickangle=45, tickfont=dict(color='crimson', size=14))\n",
    "fig.update_xaxes(showline=True, linewidth=2, linecolor='black', mirror=True, gridcolor='Pink')\n",
    "fig.update_yaxes(showline=True, linewidth=2, linecolor='black', mirror=True, gridcolor='Red')\n",
    "#fig.show()\n",
    "fig.write_html(pathT+\"\\{}.html\".format(FileName))\n",
    "plt.close()"
   ]
  },
  {
   "cell_type": "code",
   "execution_count": 48,
   "metadata": {},
   "outputs": [
    {
     "name": "stdout",
     "output_type": "stream",
     "text": [
      "     DatabaseName SchemaName     TableName\n",
      "2925        PPROD         PP  LOADREADYOLD\n"
     ]
    }
   ],
   "source": [
    "d = dfpprod0041[['DatabaseName', 'SchemaName','TableName']]#.format(z)\n",
    "d = d.drop_duplicates()\n",
    "e = d['DatabaseName'].values[0]\n",
    "f = d['SchemaName'].values[0]\n",
    "g = d['TableName'].values[0]\n",
    "print (d)\n",
    "FileName = ('PPROD_{}_{}'.format(f,g))\n",
    "\n",
    "fig = px.scatter(dfpprod0041, x = 'TodaysDate', y='RecordCount', size = 'RecordCount', color = 'RecordCount')#.format(z)\n",
    "fig.update_layout(title = '{0},{1},{2}'.format(e,f,g))\n",
    "fig.update_layout(yaxis_zeroline=False, xaxis_zeroline=False)\n",
    "fig.update_xaxes(title_font=dict(size=18, color='crimson'))\n",
    "fig.update_yaxes(title_font=dict(size=18, color='crimson'))\n",
    "fig.update_xaxes(ticks=\"inside\")\n",
    "fig.update_yaxes(ticks=\"inside\")\n",
    "fig.update_xaxes(tickangle=45, tickfont=dict(color='crimson', size=14))\n",
    "fig.update_xaxes(showline=True, linewidth=2, linecolor='black', mirror=True, gridcolor='Pink')\n",
    "fig.update_yaxes(showline=True, linewidth=2, linecolor='black', mirror=True, gridcolor='Red')\n",
    "#fig.show()\n",
    "fig.write_html(pathT+\"\\{}.html\".format(FileName))\n",
    "plt.close()"
   ]
  },
  {
   "cell_type": "code",
   "execution_count": 49,
   "metadata": {},
   "outputs": [
    {
     "name": "stdout",
     "output_type": "stream",
     "text": [
      "     DatabaseName SchemaName      TableName\n",
      "3978        PPROD         PP  Parent_Delete\n"
     ]
    }
   ],
   "source": [
    "d = dfpprod0042[['DatabaseName', 'SchemaName','TableName']]#.format(z)\n",
    "d = d.drop_duplicates()\n",
    "e = d['DatabaseName'].values[0]\n",
    "f = d['SchemaName'].values[0]\n",
    "g = d['TableName'].values[0]\n",
    "print (d)\n",
    "FileName = ('PPROD_{}_{}'.format(f,g))\n",
    "\n",
    "fig = px.scatter(dfpprod0042, x = 'TodaysDate', y='RecordCount', size = 'RecordCount', color = 'RecordCount')#.format(z)\n",
    "fig.update_layout(title = '{0},{1},{2}'.format(e,f,g))\n",
    "fig.update_layout(yaxis_zeroline=False, xaxis_zeroline=False)\n",
    "fig.update_xaxes(title_font=dict(size=18, color='crimson'))\n",
    "fig.update_yaxes(title_font=dict(size=18, color='crimson'))\n",
    "fig.update_xaxes(ticks=\"inside\")\n",
    "fig.update_yaxes(ticks=\"inside\")\n",
    "fig.update_xaxes(tickangle=45, tickfont=dict(color='crimson', size=14))\n",
    "fig.update_xaxes(showline=True, linewidth=2, linecolor='black', mirror=True, gridcolor='Pink')\n",
    "fig.update_yaxes(showline=True, linewidth=2, linecolor='black', mirror=True, gridcolor='Red')\n",
    "#fig.show()\n",
    "fig.write_html(pathT+\"\\{}.html\".format(FileName))\n",
    "plt.close()"
   ]
  },
  {
   "cell_type": "code",
   "execution_count": 50,
   "metadata": {},
   "outputs": [
    {
     "name": "stdout",
     "output_type": "stream",
     "text": [
      "      DatabaseName SchemaName       TableName\n",
      "10998        PPROD         PP  parent_surveys\n"
     ]
    }
   ],
   "source": [
    "d = dfpprod0043[['DatabaseName', 'SchemaName','TableName']]#.format(z)\n",
    "d = d.drop_duplicates()\n",
    "e = d['DatabaseName'].values[0]\n",
    "f = d['SchemaName'].values[0]\n",
    "g = d['TableName'].values[0]\n",
    "print (d)\n",
    "FileName = ('PPROD_{}_{}'.format(f,g))\n",
    "\n",
    "fig = px.scatter(dfpprod0043, x = 'TodaysDate', y='RecordCount', size = 'RecordCount', color = 'RecordCount')#.format(z)\n",
    "fig.update_layout(title = '{0},{1},{2}'.format(e,f,g))\n",
    "fig.update_layout(yaxis_zeroline=False, xaxis_zeroline=False)\n",
    "fig.update_xaxes(title_font=dict(size=18, color='crimson'))\n",
    "fig.update_yaxes(title_font=dict(size=18, color='crimson'))\n",
    "fig.update_xaxes(ticks=\"inside\")\n",
    "fig.update_yaxes(ticks=\"inside\")\n",
    "fig.update_xaxes(tickangle=45, tickfont=dict(color='crimson', size=14))\n",
    "fig.update_xaxes(showline=True, linewidth=2, linecolor='black', mirror=True, gridcolor='Pink')\n",
    "fig.update_yaxes(showline=True, linewidth=2, linecolor='black', mirror=True, gridcolor='Red')\n",
    "#fig.show()\n",
    "fig.write_html(pathT+\"\\{}.html\".format(FileName))\n",
    "plt.close()"
   ]
  },
  {
   "cell_type": "code",
   "execution_count": 51,
   "metadata": {},
   "outputs": [
    {
     "name": "stdout",
     "output_type": "stream",
     "text": [
      "     DatabaseName SchemaName      TableName\n",
      "3744        PPROD         PP  PRNT_ACCT_LOG\n"
     ]
    }
   ],
   "source": [
    "d = dfpprod0044[['DatabaseName', 'SchemaName','TableName']]#.format(z)\n",
    "d = d.drop_duplicates()\n",
    "e = d['DatabaseName'].values[0]\n",
    "f = d['SchemaName'].values[0]\n",
    "g = d['TableName'].values[0]\n",
    "print (d)\n",
    "FileName = ('PPROD_{}_{}'.format(f,g))\n",
    "\n",
    "fig = px.scatter(dfpprod0044, x = 'TodaysDate', y='RecordCount', size = 'RecordCount', color = 'RecordCount')#.format(z)\n",
    "fig.update_layout(title = '{0},{1},{2}'.format(e,f,g))\n",
    "fig.update_layout(yaxis_zeroline=False, xaxis_zeroline=False)\n",
    "fig.update_xaxes(title_font=dict(size=18, color='crimson'))\n",
    "fig.update_yaxes(title_font=dict(size=18, color='crimson'))\n",
    "fig.update_xaxes(ticks=\"inside\")\n",
    "fig.update_yaxes(ticks=\"inside\")\n",
    "fig.update_xaxes(tickangle=45, tickfont=dict(color='crimson', size=14))\n",
    "fig.update_xaxes(showline=True, linewidth=2, linecolor='black', mirror=True, gridcolor='Pink')\n",
    "fig.update_yaxes(showline=True, linewidth=2, linecolor='black', mirror=True, gridcolor='Red')\n",
    "#fig.show()\n",
    "fig.write_html(pathT+\"\\{}.html\".format(FileName))\n",
    "plt.close()"
   ]
  },
  {
   "cell_type": "code",
   "execution_count": 52,
   "metadata": {},
   "outputs": [
    {
     "name": "stdout",
     "output_type": "stream",
     "text": [
      "     DatabaseName SchemaName                  TableName\n",
      "3861        PPROD         PP  PRNT_EMAIL_CHANGE_HISTORY\n"
     ]
    }
   ],
   "source": [
    "d = dfpprod0045[['DatabaseName', 'SchemaName','TableName']]#.format(z)\n",
    "d = d.drop_duplicates()\n",
    "e = d['DatabaseName'].values[0]\n",
    "f = d['SchemaName'].values[0]\n",
    "g = d['TableName'].values[0]\n",
    "print (d)\n",
    "FileName = ('PPROD_{}_{}'.format(f,g))\n",
    "\n",
    "fig = px.scatter(dfpprod0045, x = 'TodaysDate', y='RecordCount', size = 'RecordCount', color = 'RecordCount')#.format(z)\n",
    "fig.update_layout(title = '{0},{1},{2}'.format(e,f,g))\n",
    "fig.update_layout(yaxis_zeroline=False, xaxis_zeroline=False)\n",
    "fig.update_xaxes(title_font=dict(size=18, color='crimson'))\n",
    "fig.update_yaxes(title_font=dict(size=18, color='crimson'))\n",
    "fig.update_xaxes(ticks=\"inside\")\n",
    "fig.update_yaxes(ticks=\"inside\")\n",
    "fig.update_xaxes(tickangle=45, tickfont=dict(color='crimson', size=14))\n",
    "fig.update_xaxes(showline=True, linewidth=2, linecolor='black', mirror=True, gridcolor='Pink')\n",
    "fig.update_yaxes(showline=True, linewidth=2, linecolor='black', mirror=True, gridcolor='Red')\n",
    "#fig.show()\n",
    "fig.write_html(pathT+\"\\{}.html\".format(FileName))\n",
    "plt.close()"
   ]
  },
  {
   "cell_type": "code",
   "execution_count": 53,
   "metadata": {},
   "outputs": [
    {
     "name": "stdout",
     "output_type": "stream",
     "text": [
      "     DatabaseName SchemaName       TableName\n",
      "4095        PPROD         PP  REFRESH_STATUS\n"
     ]
    }
   ],
   "source": [
    "d = dfpprod0046[['DatabaseName', 'SchemaName','TableName']]#.format(z)\n",
    "d = d.drop_duplicates()\n",
    "e = d['DatabaseName'].values[0]\n",
    "f = d['SchemaName'].values[0]\n",
    "g = d['TableName'].values[0]\n",
    "print (d)\n",
    "FileName = ('PPROD_{}_{}'.format(f,g))\n",
    "\n",
    "fig = px.scatter(dfpprod0046, x = 'TodaysDate', y='RecordCount', size = 'RecordCount', color = 'RecordCount')#.format(z)\n",
    "fig.update_layout(title = '{0},{1},{2}'.format(e,f,g))\n",
    "fig.update_layout(yaxis_zeroline=False, xaxis_zeroline=False)\n",
    "fig.update_xaxes(title_font=dict(size=18, color='crimson'))\n",
    "fig.update_yaxes(title_font=dict(size=18, color='crimson'))\n",
    "fig.update_xaxes(ticks=\"inside\")\n",
    "fig.update_yaxes(ticks=\"inside\")\n",
    "fig.update_xaxes(tickangle=45, tickfont=dict(color='crimson', size=14))\n",
    "fig.update_xaxes(showline=True, linewidth=2, linecolor='black', mirror=True, gridcolor='Pink')\n",
    "fig.update_yaxes(showline=True, linewidth=2, linecolor='black', mirror=True, gridcolor='Red')\n",
    "#fig.show()\n",
    "fig.write_html(pathT+\"\\{}.html\".format(FileName))\n",
    "plt.close()"
   ]
  },
  {
   "cell_type": "code",
   "execution_count": 54,
   "metadata": {},
   "outputs": [
    {
     "name": "stdout",
     "output_type": "stream",
     "text": [
      "     DatabaseName SchemaName         TableName\n",
      "4212        PPROD         PP  RPTActiveStudent\n"
     ]
    }
   ],
   "source": [
    "d = dfpprod0047[['DatabaseName', 'SchemaName','TableName']]#.format(z)\n",
    "d = d.drop_duplicates()\n",
    "e = d['DatabaseName'].values[0]\n",
    "f = d['SchemaName'].values[0]\n",
    "g = d['TableName'].values[0]\n",
    "print (d)\n",
    "FileName = ('PPROD_{}_{}'.format(f,g))\n",
    "\n",
    "fig = px.scatter(dfpprod0047, x = 'TodaysDate', y='RecordCount', size = 'RecordCount', color = 'RecordCount')#.format(z)\n",
    "fig.update_layout(title = '{0},{1},{2}'.format(e,f,g))\n",
    "fig.update_layout(yaxis_zeroline=False, xaxis_zeroline=False)\n",
    "fig.update_xaxes(title_font=dict(size=18, color='crimson'))\n",
    "fig.update_yaxes(title_font=dict(size=18, color='crimson'))\n",
    "fig.update_xaxes(ticks=\"inside\")\n",
    "fig.update_yaxes(ticks=\"inside\")\n",
    "fig.update_xaxes(tickangle=45, tickfont=dict(color='crimson', size=14))\n",
    "fig.update_xaxes(showline=True, linewidth=2, linecolor='black', mirror=True, gridcolor='Pink')\n",
    "fig.update_yaxes(showline=True, linewidth=2, linecolor='black', mirror=True, gridcolor='Red')\n",
    "#fig.show()\n",
    "fig.write_html(pathT+\"\\{}.html\".format(FileName))\n",
    "plt.close()"
   ]
  },
  {
   "cell_type": "code",
   "execution_count": 55,
   "metadata": {},
   "outputs": [
    {
     "name": "stdout",
     "output_type": "stream",
     "text": [
      "      DatabaseName SchemaName        TableName\n",
      "11583        PPROD         PP  save_Admin_User\n"
     ]
    }
   ],
   "source": [
    "d = dfpprod0048[['DatabaseName', 'SchemaName','TableName']]#.format(z)\n",
    "d = d.drop_duplicates()\n",
    "e = d['DatabaseName'].values[0]\n",
    "f = d['SchemaName'].values[0]\n",
    "g = d['TableName'].values[0]\n",
    "print (d)\n",
    "FileName = ('PPROD_{}_{}'.format(f,g))\n",
    "\n",
    "fig = px.scatter(dfpprod0048, x = 'TodaysDate', y='RecordCount', size = 'RecordCount', color = 'RecordCount')#.format(z)\n",
    "fig.update_layout(title = '{0},{1},{2}'.format(e,f,g))\n",
    "fig.update_layout(yaxis_zeroline=False, xaxis_zeroline=False)\n",
    "fig.update_xaxes(title_font=dict(size=18, color='crimson'))\n",
    "fig.update_yaxes(title_font=dict(size=18, color='crimson'))\n",
    "fig.update_xaxes(ticks=\"inside\")\n",
    "fig.update_yaxes(ticks=\"inside\")\n",
    "fig.update_xaxes(tickangle=45, tickfont=dict(color='crimson', size=14))\n",
    "fig.update_xaxes(showline=True, linewidth=2, linecolor='black', mirror=True, gridcolor='Pink')\n",
    "fig.update_yaxes(showline=True, linewidth=2, linecolor='black', mirror=True, gridcolor='Red')\n",
    "#fig.show()\n",
    "fig.write_html(pathT+\"\\{}.html\".format(FileName))\n",
    "plt.close()"
   ]
  },
  {
   "cell_type": "code",
   "execution_count": 56,
   "metadata": {},
   "outputs": [
    {
     "name": "stdout",
     "output_type": "stream",
     "text": [
      "     DatabaseName SchemaName    TableName\n",
      "4797        PPROD         PP  STU_ABS_HST\n"
     ]
    }
   ],
   "source": [
    "d = dfpprod0049[['DatabaseName', 'SchemaName','TableName']]#.format(z)\n",
    "d = d.drop_duplicates()\n",
    "e = d['DatabaseName'].values[0]\n",
    "f = d['SchemaName'].values[0]\n",
    "g = d['TableName'].values[0]\n",
    "print (d)\n",
    "FileName = ('PPROD_{}_{}'.format(f,g))\n",
    "\n",
    "fig = px.scatter(dfpprod0049, x = 'TodaysDate', y='RecordCount', size = 'RecordCount', color = 'RecordCount')#.format(z)\n",
    "fig.update_layout(title = '{0},{1},{2}'.format(e,f,g))\n",
    "fig.update_layout(yaxis_zeroline=False, xaxis_zeroline=False)\n",
    "fig.update_xaxes(title_font=dict(size=18, color='crimson'))\n",
    "fig.update_yaxes(title_font=dict(size=18, color='crimson'))\n",
    "fig.update_xaxes(ticks=\"inside\")\n",
    "fig.update_yaxes(ticks=\"inside\")\n",
    "fig.update_xaxes(tickangle=45, tickfont=dict(color='crimson', size=14))\n",
    "fig.update_xaxes(showline=True, linewidth=2, linecolor='black', mirror=True, gridcolor='Pink')\n",
    "fig.update_yaxes(showline=True, linewidth=2, linecolor='black', mirror=True, gridcolor='Red')\n",
    "#fig.show()\n",
    "fig.write_html(pathT+\"\\{}.html\".format(FileName))\n",
    "plt.close()"
   ]
  },
  {
   "cell_type": "code",
   "execution_count": 57,
   "metadata": {},
   "outputs": [
    {
     "name": "stdout",
     "output_type": "stream",
     "text": [
      "     DatabaseName SchemaName           TableName\n",
      "4914        PPROD         PP  STU_ABS_HST_BACKUP\n"
     ]
    }
   ],
   "source": [
    "d = dfpprod0050[['DatabaseName', 'SchemaName','TableName']]#.format(z)\n",
    "d = d.drop_duplicates()\n",
    "e = d['DatabaseName'].values[0]\n",
    "f = d['SchemaName'].values[0]\n",
    "g = d['TableName'].values[0]\n",
    "print (d)\n",
    "FileName = ('PPROD_{}_{}'.format(f,g))\n",
    "\n",
    "fig = px.scatter(dfpprod0050, x = 'TodaysDate', y='RecordCount', size = 'RecordCount', color = 'RecordCount')#.format(z)\n",
    "fig.update_layout(title = '{0},{1},{2}'.format(e,f,g))\n",
    "fig.update_layout(yaxis_zeroline=False, xaxis_zeroline=False)\n",
    "fig.update_xaxes(title_font=dict(size=18, color='crimson'))\n",
    "fig.update_yaxes(title_font=dict(size=18, color='crimson'))\n",
    "fig.update_xaxes(ticks=\"inside\")\n",
    "fig.update_yaxes(ticks=\"inside\")\n",
    "fig.update_xaxes(tickangle=45, tickfont=dict(color='crimson', size=14))\n",
    "fig.update_xaxes(showline=True, linewidth=2, linecolor='black', mirror=True, gridcolor='Pink')\n",
    "fig.update_yaxes(showline=True, linewidth=2, linecolor='black', mirror=True, gridcolor='Red')\n",
    "#fig.show()\n",
    "fig.write_html(pathT+\"\\{}.html\".format(FileName))\n",
    "plt.close()"
   ]
  },
  {
   "cell_type": "code",
   "execution_count": 58,
   "metadata": {},
   "outputs": [
    {
     "name": "stdout",
     "output_type": "stream",
     "text": [
      "     DatabaseName SchemaName TableName\n",
      "5031        PPROD         PP  STU_ALRT\n"
     ]
    }
   ],
   "source": [
    "d = dfpprod0051[['DatabaseName', 'SchemaName','TableName']]#.format(z)\n",
    "d = d.drop_duplicates()\n",
    "e = d['DatabaseName'].values[0]\n",
    "f = d['SchemaName'].values[0]\n",
    "g = d['TableName'].values[0]\n",
    "print (d)\n",
    "FileName = ('PPROD_{}_{}'.format(f,g))\n",
    "\n",
    "fig = px.scatter(dfpprod0051, x = 'TodaysDate', y='RecordCount', size = 'RecordCount', color = 'RecordCount')#.format(z)\n",
    "fig.update_layout(title = '{0},{1},{2}'.format(e,f,g))\n",
    "fig.update_layout(yaxis_zeroline=False, xaxis_zeroline=False)\n",
    "fig.update_xaxes(title_font=dict(size=18, color='crimson'))\n",
    "fig.update_yaxes(title_font=dict(size=18, color='crimson'))\n",
    "fig.update_xaxes(ticks=\"inside\")\n",
    "fig.update_yaxes(ticks=\"inside\")\n",
    "fig.update_xaxes(tickangle=45, tickfont=dict(color='crimson', size=14))\n",
    "fig.update_xaxes(showline=True, linewidth=2, linecolor='black', mirror=True, gridcolor='Pink')\n",
    "fig.update_yaxes(showline=True, linewidth=2, linecolor='black', mirror=True, gridcolor='Red')\n",
    "#fig.show()\n",
    "fig.write_html(pathT+\"\\{}.html\".format(FileName))\n",
    "plt.close()"
   ]
  },
  {
   "cell_type": "code",
   "execution_count": 59,
   "metadata": {},
   "outputs": [
    {
     "name": "stdout",
     "output_type": "stream",
     "text": [
      "     DatabaseName SchemaName       TableName\n",
      "5148        PPROD         PP  STU_ATT_MO_SUM\n"
     ]
    }
   ],
   "source": [
    "d = dfpprod0052[['DatabaseName', 'SchemaName','TableName']]#.format(z)\n",
    "d = d.drop_duplicates()\n",
    "e = d['DatabaseName'].values[0]\n",
    "f = d['SchemaName'].values[0]\n",
    "g = d['TableName'].values[0]\n",
    "print (d)\n",
    "FileName = ('PPROD_{}_{}'.format(f,g))\n",
    "\n",
    "fig = px.scatter(dfpprod0052, x = 'TodaysDate', y='RecordCount', size = 'RecordCount', color = 'RecordCount')#.format(z)\n",
    "fig.update_layout(title = '{0},{1},{2}'.format(e,f,g))\n",
    "fig.update_layout(yaxis_zeroline=False, xaxis_zeroline=False)\n",
    "fig.update_xaxes(title_font=dict(size=18, color='crimson'))\n",
    "fig.update_yaxes(title_font=dict(size=18, color='crimson'))\n",
    "fig.update_xaxes(ticks=\"inside\")\n",
    "fig.update_yaxes(ticks=\"inside\")\n",
    "fig.update_xaxes(tickangle=45, tickfont=dict(color='crimson', size=14))\n",
    "fig.update_xaxes(showline=True, linewidth=2, linecolor='black', mirror=True, gridcolor='Pink')\n",
    "fig.update_yaxes(showline=True, linewidth=2, linecolor='black', mirror=True, gridcolor='Red')\n",
    "#fig.show()\n",
    "fig.write_html(pathT+\"\\{}.html\".format(FileName))\n",
    "plt.close()"
   ]
  },
  {
   "cell_type": "code",
   "execution_count": 60,
   "metadata": {},
   "outputs": [
    {
     "name": "stdout",
     "output_type": "stream",
     "text": [
      "     DatabaseName SchemaName    TableName\n",
      "5265        PPROD         PP  STU_ATT_SUM\n"
     ]
    }
   ],
   "source": [
    "d = dfpprod0053[['DatabaseName', 'SchemaName','TableName']]#.format(z)\n",
    "d = d.drop_duplicates()\n",
    "e = d['DatabaseName'].values[0]\n",
    "f = d['SchemaName'].values[0]\n",
    "g = d['TableName'].values[0]\n",
    "print (d)\n",
    "FileName = ('PPROD_{}_{}'.format(f,g))\n",
    "\n",
    "fig = px.scatter(dfpprod0053, x = 'TodaysDate', y='RecordCount', size = 'RecordCount', color = 'RecordCount')#.format(z)\n",
    "fig.update_layout(title = '{0},{1},{2}'.format(e,f,g))\n",
    "fig.update_layout(yaxis_zeroline=False, xaxis_zeroline=False)\n",
    "fig.update_xaxes(title_font=dict(size=18, color='crimson'))\n",
    "fig.update_yaxes(title_font=dict(size=18, color='crimson'))\n",
    "fig.update_xaxes(ticks=\"inside\")\n",
    "fig.update_yaxes(ticks=\"inside\")\n",
    "fig.update_xaxes(tickangle=45, tickfont=dict(color='crimson', size=14))\n",
    "fig.update_xaxes(showline=True, linewidth=2, linecolor='black', mirror=True, gridcolor='Pink')\n",
    "fig.update_yaxes(showline=True, linewidth=2, linecolor='black', mirror=True, gridcolor='Red')\n",
    "#fig.show()\n",
    "fig.write_html(pathT+\"\\{}.html\".format(FileName))\n",
    "plt.close()"
   ]
  },
  {
   "cell_type": "code",
   "execution_count": 61,
   "metadata": {},
   "outputs": [
    {
     "name": "stdout",
     "output_type": "stream",
     "text": [
      "     DatabaseName SchemaName        TableName\n",
      "5382        PPROD         PP  STU_BookCharges\n"
     ]
    }
   ],
   "source": [
    "d = dfpprod0054[['DatabaseName', 'SchemaName','TableName']]#.format(z)\n",
    "d = d.drop_duplicates()\n",
    "e = d['DatabaseName'].values[0]\n",
    "f = d['SchemaName'].values[0]\n",
    "g = d['TableName'].values[0]\n",
    "print (d)\n",
    "FileName = ('PPROD_{}_{}'.format(f,g))\n",
    "\n",
    "fig = px.scatter(dfpprod0054, x = 'TodaysDate', y='RecordCount', size = 'RecordCount', color = 'RecordCount')#.format(z)\n",
    "fig.update_layout(title = '{0},{1},{2}'.format(e,f,g))\n",
    "fig.update_layout(yaxis_zeroline=False, xaxis_zeroline=False)\n",
    "fig.update_xaxes(title_font=dict(size=18, color='crimson'))\n",
    "fig.update_yaxes(title_font=dict(size=18, color='crimson'))\n",
    "fig.update_xaxes(ticks=\"inside\")\n",
    "fig.update_yaxes(ticks=\"inside\")\n",
    "fig.update_xaxes(tickangle=45, tickfont=dict(color='crimson', size=14))\n",
    "fig.update_xaxes(showline=True, linewidth=2, linecolor='black', mirror=True, gridcolor='Pink')\n",
    "fig.update_yaxes(showline=True, linewidth=2, linecolor='black', mirror=True, gridcolor='Red')\n",
    "#fig.show()\n",
    "fig.write_html(pathT+\"\\{}.html\".format(FileName))\n",
    "plt.close()"
   ]
  },
  {
   "cell_type": "code",
   "execution_count": 62,
   "metadata": {},
   "outputs": [
    {
     "name": "stdout",
     "output_type": "stream",
     "text": [
      "     DatabaseName SchemaName          TableName\n",
      "5499        PPROD         PP  STU_BookCheckOuts\n"
     ]
    }
   ],
   "source": [
    "d = dfpprod0055[['DatabaseName', 'SchemaName','TableName']]#.format(z)\n",
    "d = d.drop_duplicates()\n",
    "e = d['DatabaseName'].values[0]\n",
    "f = d['SchemaName'].values[0]\n",
    "g = d['TableName'].values[0]\n",
    "print (d)\n",
    "FileName = ('PPROD_{}_{}'.format(f,g))\n",
    "\n",
    "fig = px.scatter(dfpprod0055, x = 'TodaysDate', y='RecordCount', size = 'RecordCount', color = 'RecordCount')#.format(z)\n",
    "fig.update_layout(title = '{0},{1},{2}'.format(e,f,g))\n",
    "fig.update_layout(yaxis_zeroline=False, xaxis_zeroline=False)\n",
    "fig.update_xaxes(title_font=dict(size=18, color='crimson'))\n",
    "fig.update_yaxes(title_font=dict(size=18, color='crimson'))\n",
    "fig.update_xaxes(ticks=\"inside\")\n",
    "fig.update_yaxes(ticks=\"inside\")\n",
    "fig.update_xaxes(tickangle=45, tickfont=dict(color='crimson', size=14))\n",
    "fig.update_xaxes(showline=True, linewidth=2, linecolor='black', mirror=True, gridcolor='Pink')\n",
    "fig.update_yaxes(showline=True, linewidth=2, linecolor='black', mirror=True, gridcolor='Red')\n",
    "#fig.show()\n",
    "fig.write_html(pathT+\"\\{}.html\".format(FileName))\n",
    "plt.close()"
   ]
  },
  {
   "cell_type": "code",
   "execution_count": 63,
   "metadata": {},
   "outputs": [
    {
     "name": "stdout",
     "output_type": "stream",
     "text": [
      "      DatabaseName SchemaName    TableName\n",
      "11817        PPROD         PP  stu_businfo\n"
     ]
    }
   ],
   "source": [
    "d = dfpprod0056[['DatabaseName', 'SchemaName','TableName']]#.format(z)\n",
    "d = d.drop_duplicates()\n",
    "e = d['DatabaseName'].values[0]\n",
    "f = d['SchemaName'].values[0]\n",
    "g = d['TableName'].values[0]\n",
    "print (d)\n",
    "FileName = ('PPROD_{}_{}'.format(f,g))\n",
    "\n",
    "fig = px.scatter(dfpprod0056, x = 'TodaysDate', y='RecordCount', size = 'RecordCount', color = 'RecordCount')#.format(z)\n",
    "fig.update_layout(title = '{0},{1},{2}'.format(e,f,g))\n",
    "fig.update_layout(yaxis_zeroline=False, xaxis_zeroline=False)\n",
    "fig.update_xaxes(title_font=dict(size=18, color='crimson'))\n",
    "fig.update_yaxes(title_font=dict(size=18, color='crimson'))\n",
    "fig.update_xaxes(ticks=\"inside\")\n",
    "fig.update_yaxes(ticks=\"inside\")\n",
    "fig.update_xaxes(tickangle=45, tickfont=dict(color='crimson', size=14))\n",
    "fig.update_xaxes(showline=True, linewidth=2, linecolor='black', mirror=True, gridcolor='Pink')\n",
    "fig.update_yaxes(showline=True, linewidth=2, linecolor='black', mirror=True, gridcolor='Red')\n",
    "#fig.show()\n",
    "fig.write_html(pathT+\"\\{}.html\".format(FileName))\n",
    "plt.close()"
   ]
  },
  {
   "cell_type": "code",
   "execution_count": 64,
   "metadata": {},
   "outputs": [
    {
     "name": "stdout",
     "output_type": "stream",
     "text": [
      "     DatabaseName SchemaName            TableName\n",
      "6435        PPROD         PP  STU_CheckInCheckOut\n"
     ]
    }
   ],
   "source": [
    "d = dfpprod0057[['DatabaseName', 'SchemaName','TableName']]#.format(z)\n",
    "d = d.drop_duplicates()\n",
    "e = d['DatabaseName'].values[0]\n",
    "f = d['SchemaName'].values[0]\n",
    "g = d['TableName'].values[0]\n",
    "print (d)\n",
    "FileName = ('PPROD_{}_{}'.format(f,g))\n",
    "\n",
    "fig = px.scatter(dfpprod0057, x = 'TodaysDate', y='RecordCount', size = 'RecordCount', color = 'RecordCount')#.format(z)\n",
    "fig.update_layout(title = '{0},{1},{2}'.format(e,f,g))\n",
    "fig.update_layout(yaxis_zeroline=False, xaxis_zeroline=False)\n",
    "fig.update_xaxes(title_font=dict(size=18, color='crimson'))\n",
    "fig.update_yaxes(title_font=dict(size=18, color='crimson'))\n",
    "fig.update_xaxes(ticks=\"inside\")\n",
    "fig.update_yaxes(ticks=\"inside\")\n",
    "fig.update_xaxes(tickangle=45, tickfont=dict(color='crimson', size=14))\n",
    "fig.update_xaxes(showline=True, linewidth=2, linecolor='black', mirror=True, gridcolor='Pink')\n",
    "fig.update_yaxes(showline=True, linewidth=2, linecolor='black', mirror=True, gridcolor='Red')\n",
    "#fig.show()\n",
    "fig.write_html(pathT+\"\\{}.html\".format(FileName))\n",
    "plt.close()"
   ]
  },
  {
   "cell_type": "code",
   "execution_count": 65,
   "metadata": {},
   "outputs": [
    {
     "name": "stdout",
     "output_type": "stream",
     "text": [
      "     DatabaseName SchemaName       TableName\n",
      "5733        PPROD         PP  STU_CRS_HS_SUM\n"
     ]
    }
   ],
   "source": [
    "d = dfpprod0058[['DatabaseName', 'SchemaName','TableName']]#.format(z)\n",
    "d = d.drop_duplicates()\n",
    "e = d['DatabaseName'].values[0]\n",
    "f = d['SchemaName'].values[0]\n",
    "g = d['TableName'].values[0]\n",
    "print (d)\n",
    "FileName = ('PPROD_{}_{}'.format(f,g))\n",
    "\n",
    "fig = px.scatter(dfpprod0058, x = 'TodaysDate', y='RecordCount', size = 'RecordCount', color = 'RecordCount')#.format(z)\n",
    "fig.update_layout(title = '{0},{1},{2}'.format(e,f,g))\n",
    "fig.update_layout(yaxis_zeroline=False, xaxis_zeroline=False)\n",
    "fig.update_xaxes(title_font=dict(size=18, color='crimson'))\n",
    "fig.update_yaxes(title_font=dict(size=18, color='crimson'))\n",
    "fig.update_xaxes(ticks=\"inside\")\n",
    "fig.update_yaxes(ticks=\"inside\")\n",
    "fig.update_xaxes(tickangle=45, tickfont=dict(color='crimson', size=14))\n",
    "fig.update_xaxes(showline=True, linewidth=2, linecolor='black', mirror=True, gridcolor='Pink')\n",
    "fig.update_yaxes(showline=True, linewidth=2, linecolor='black', mirror=True, gridcolor='Red')\n",
    "#fig.show()\n",
    "fig.write_html(pathT+\"\\{}.html\".format(FileName))\n",
    "plt.close()"
   ]
  },
  {
   "cell_type": "code",
   "execution_count": 66,
   "metadata": {},
   "outputs": [
    {
     "name": "stdout",
     "output_type": "stream",
     "text": [
      "     DatabaseName SchemaName    TableName\n",
      "5616        PPROD         PP  STU_CRS_HST\n"
     ]
    }
   ],
   "source": [
    "d = dfpprod0059[['DatabaseName', 'SchemaName','TableName']]#.format(z)\n",
    "d = d.drop_duplicates()\n",
    "e = d['DatabaseName'].values[0]\n",
    "f = d['SchemaName'].values[0]\n",
    "g = d['TableName'].values[0]\n",
    "print (d)\n",
    "FileName = ('PPROD_{}_{}'.format(f,g))\n",
    "\n",
    "fig = px.scatter(dfpprod0059, x = 'TodaysDate', y='RecordCount', size = 'RecordCount', color = 'RecordCount')#.format(z)\n",
    "fig.update_layout(title = '{0},{1},{2}'.format(e,f,g))\n",
    "fig.update_layout(yaxis_zeroline=False, xaxis_zeroline=False)\n",
    "fig.update_xaxes(title_font=dict(size=18, color='crimson'))\n",
    "fig.update_yaxes(title_font=dict(size=18, color='crimson'))\n",
    "fig.update_xaxes(ticks=\"inside\")\n",
    "fig.update_yaxes(ticks=\"inside\")\n",
    "fig.update_xaxes(tickangle=45, tickfont=dict(color='crimson', size=14))\n",
    "fig.update_xaxes(showline=True, linewidth=2, linecolor='black', mirror=True, gridcolor='Pink')\n",
    "fig.update_yaxes(showline=True, linewidth=2, linecolor='black', mirror=True, gridcolor='Red')\n",
    "#fig.show()\n",
    "fig.write_html(pathT+\"\\{}.html\".format(FileName))\n",
    "plt.close()"
   ]
  },
  {
   "cell_type": "code",
   "execution_count": 67,
   "metadata": {},
   "outputs": [
    {
     "name": "stdout",
     "output_type": "stream",
     "text": [
      "      DatabaseName SchemaName             TableName\n",
      "11934        PPROD         PP  stu_crs_hst_oldlogic\n"
     ]
    }
   ],
   "source": [
    "d = dfpprod0060[['DatabaseName', 'SchemaName','TableName']]#.format(z)\n",
    "d = d.drop_duplicates()\n",
    "e = d['DatabaseName'].values[0]\n",
    "f = d['SchemaName'].values[0]\n",
    "g = d['TableName'].values[0]\n",
    "print (d)\n",
    "FileName = ('PPROD_{}_{}'.format(f,g))\n",
    "\n",
    "fig = px.scatter(dfpprod0060, x = 'TodaysDate', y='RecordCount', size = 'RecordCount', color = 'RecordCount')#.format(z)\n",
    "fig.update_layout(title = '{0},{1},{2}'.format(e,f,g))\n",
    "fig.update_layout(yaxis_zeroline=False, xaxis_zeroline=False)\n",
    "fig.update_xaxes(title_font=dict(size=18, color='crimson'))\n",
    "fig.update_yaxes(title_font=dict(size=18, color='crimson'))\n",
    "fig.update_xaxes(ticks=\"inside\")\n",
    "fig.update_yaxes(ticks=\"inside\")\n",
    "fig.update_xaxes(tickangle=45, tickfont=dict(color='crimson', size=14))\n",
    "fig.update_xaxes(showline=True, linewidth=2, linecolor='black', mirror=True, gridcolor='Pink')\n",
    "fig.update_yaxes(showline=True, linewidth=2, linecolor='black', mirror=True, gridcolor='Red')\n",
    "#fig.show()\n",
    "fig.write_html(pathT+\"\\{}.html\".format(FileName))\n",
    "plt.close()"
   ]
  },
  {
   "cell_type": "code",
   "execution_count": 68,
   "metadata": {},
   "outputs": [
    {
     "name": "stdout",
     "output_type": "stream",
     "text": [
      "     DatabaseName SchemaName       TableName\n",
      "5850        PPROD         PP  STU_CRS_MS_SUM\n"
     ]
    }
   ],
   "source": [
    "d = dfpprod0061[['DatabaseName', 'SchemaName','TableName']]#.format(z)\n",
    "d = d.drop_duplicates()\n",
    "e = d['DatabaseName'].values[0]\n",
    "f = d['SchemaName'].values[0]\n",
    "g = d['TableName'].values[0]\n",
    "print (d)\n",
    "FileName = ('PPROD_{}_{}'.format(f,g))\n",
    "\n",
    "fig = px.scatter(dfpprod0061, x = 'TodaysDate', y='RecordCount', size = 'RecordCount', color = 'RecordCount')#.format(z)\n",
    "fig.update_layout(title = '{0},{1},{2}'.format(e,f,g))\n",
    "fig.update_layout(yaxis_zeroline=False, xaxis_zeroline=False)\n",
    "fig.update_xaxes(title_font=dict(size=18, color='crimson'))\n",
    "fig.update_yaxes(title_font=dict(size=18, color='crimson'))\n",
    "fig.update_xaxes(ticks=\"inside\")\n",
    "fig.update_yaxes(ticks=\"inside\")\n",
    "fig.update_xaxes(tickangle=45, tickfont=dict(color='crimson', size=14))\n",
    "fig.update_xaxes(showline=True, linewidth=2, linecolor='black', mirror=True, gridcolor='Pink')\n",
    "fig.update_yaxes(showline=True, linewidth=2, linecolor='black', mirror=True, gridcolor='Red')\n",
    "#fig.show()\n",
    "fig.write_html(pathT+\"\\{}.html\".format(FileName))\n",
    "plt.close()"
   ]
  },
  {
   "cell_type": "code",
   "execution_count": 69,
   "metadata": {},
   "outputs": [
    {
     "name": "stdout",
     "output_type": "stream",
     "text": [
      "     DatabaseName SchemaName    TableName\n",
      "5967        PPROD         PP  STU_CRS_STS\n"
     ]
    }
   ],
   "source": [
    "d = dfpprod0062[['DatabaseName', 'SchemaName','TableName']]#.format(z)\n",
    "d = d.drop_duplicates()\n",
    "e = d['DatabaseName'].values[0]\n",
    "f = d['SchemaName'].values[0]\n",
    "g = d['TableName'].values[0]\n",
    "print (d)\n",
    "FileName = ('PPROD_{}_{}'.format(f,g))\n",
    "\n",
    "fig = px.scatter(dfpprod0062, x = 'TodaysDate', y='RecordCount', size = 'RecordCount', color = 'RecordCount')#.format(z)\n",
    "fig.update_layout(title = '{0},{1},{2}'.format(e,f,g))\n",
    "fig.update_layout(yaxis_zeroline=False, xaxis_zeroline=False)\n",
    "fig.update_xaxes(title_font=dict(size=18, color='crimson'))\n",
    "fig.update_yaxes(title_font=dict(size=18, color='crimson'))\n",
    "fig.update_xaxes(ticks=\"inside\")\n",
    "fig.update_yaxes(ticks=\"inside\")\n",
    "fig.update_xaxes(tickangle=45, tickfont=dict(color='crimson', size=14))\n",
    "fig.update_xaxes(showline=True, linewidth=2, linecolor='black', mirror=True, gridcolor='Pink')\n",
    "fig.update_yaxes(showline=True, linewidth=2, linecolor='black', mirror=True, gridcolor='Red')\n",
    "#fig.show()\n",
    "fig.write_html(pathT+\"\\{}.html\".format(FileName))\n",
    "plt.close()"
   ]
  },
  {
   "cell_type": "code",
   "execution_count": 70,
   "metadata": {},
   "outputs": [
    {
     "name": "stdout",
     "output_type": "stream",
     "text": [
      "     DatabaseName SchemaName      TableName\n",
      "6084        PPROD         PP  STU_CURR_SCHD\n"
     ]
    }
   ],
   "source": [
    "d = dfpprod0063[['DatabaseName', 'SchemaName','TableName']]#.format(z)\n",
    "d = d.drop_duplicates()\n",
    "e = d['DatabaseName'].values[0]\n",
    "f = d['SchemaName'].values[0]\n",
    "g = d['TableName'].values[0]\n",
    "print (d)\n",
    "FileName = ('PPROD_{}_{}'.format(f,g))\n",
    "\n",
    "fig = px.scatter(dfpprod0063, x = 'TodaysDate', y='RecordCount', size = 'RecordCount', color = 'RecordCount')#.format(z)\n",
    "fig.update_layout(title = '{0},{1},{2}'.format(e,f,g))\n",
    "fig.update_layout(yaxis_zeroline=False, xaxis_zeroline=False)\n",
    "fig.update_xaxes(title_font=dict(size=18, color='crimson'))\n",
    "fig.update_yaxes(title_font=dict(size=18, color='crimson'))\n",
    "fig.update_xaxes(ticks=\"inside\")\n",
    "fig.update_yaxes(ticks=\"inside\")\n",
    "fig.update_xaxes(tickangle=45, tickfont=dict(color='crimson', size=14))\n",
    "fig.update_xaxes(showline=True, linewidth=2, linecolor='black', mirror=True, gridcolor='Pink')\n",
    "fig.update_yaxes(showline=True, linewidth=2, linecolor='black', mirror=True, gridcolor='Red')\n",
    "#fig.show()\n",
    "fig.write_html(pathT+\"\\{}.html\".format(FileName))\n",
    "plt.close()"
   ]
  },
  {
   "cell_type": "code",
   "execution_count": 71,
   "metadata": {},
   "outputs": [
    {
     "name": "stdout",
     "output_type": "stream",
     "text": [
      "     DatabaseName SchemaName               TableName\n",
      "6201        PPROD         PP  STU_CURR_SCHD_20161222\n"
     ]
    }
   ],
   "source": [
    "d = dfpprod0064[['DatabaseName', 'SchemaName','TableName']]#.format(z)\n",
    "d = d.drop_duplicates()\n",
    "e = d['DatabaseName'].values[0]\n",
    "f = d['SchemaName'].values[0]\n",
    "g = d['TableName'].values[0]\n",
    "print (d)\n",
    "FileName = ('PPROD_{}_{}'.format(f,g))\n",
    "\n",
    "fig = px.scatter(dfpprod0064, x = 'TodaysDate', y='RecordCount', size = 'RecordCount', color = 'RecordCount')#.format(z)\n",
    "fig.update_layout(title = '{0},{1},{2}'.format(e,f,g))\n",
    "fig.update_layout(yaxis_zeroline=False, xaxis_zeroline=False)\n",
    "fig.update_xaxes(title_font=dict(size=18, color='crimson'))\n",
    "fig.update_yaxes(title_font=dict(size=18, color='crimson'))\n",
    "fig.update_xaxes(ticks=\"inside\")\n",
    "fig.update_yaxes(ticks=\"inside\")\n",
    "fig.update_xaxes(tickangle=45, tickfont=dict(color='crimson', size=14))\n",
    "fig.update_xaxes(showline=True, linewidth=2, linecolor='black', mirror=True, gridcolor='Pink')\n",
    "fig.update_yaxes(showline=True, linewidth=2, linecolor='black', mirror=True, gridcolor='Red')\n",
    "#fig.show()\n",
    "fig.write_html(pathT+\"\\{}.html\".format(FileName))\n",
    "plt.close()"
   ]
  },
  {
   "cell_type": "code",
   "execution_count": 72,
   "metadata": {},
   "outputs": [
    {
     "name": "stdout",
     "output_type": "stream",
     "text": [
      "      DatabaseName SchemaName           TableName\n",
      "12051        PPROD         PP  stu_curr_schd_ALAN\n"
     ]
    }
   ],
   "source": [
    "d = dfpprod0065[['DatabaseName', 'SchemaName','TableName']]#.format(z)\n",
    "d = d.drop_duplicates()\n",
    "e = d['DatabaseName'].values[0]\n",
    "f = d['SchemaName'].values[0]\n",
    "g = d['TableName'].values[0]\n",
    "print (d)\n",
    "FileName = ('PPROD_{}_{}'.format(f,g))\n",
    "\n",
    "fig = px.scatter(dfpprod0065, x = 'TodaysDate', y='RecordCount', size = 'RecordCount', color = 'RecordCount')#.format(z)\n",
    "fig.update_layout(title = '{0},{1},{2}'.format(e,f,g))\n",
    "fig.update_layout(yaxis_zeroline=False, xaxis_zeroline=False)\n",
    "fig.update_xaxes(title_font=dict(size=18, color='crimson'))\n",
    "fig.update_yaxes(title_font=dict(size=18, color='crimson'))\n",
    "fig.update_xaxes(ticks=\"inside\")\n",
    "fig.update_yaxes(ticks=\"inside\")\n",
    "fig.update_xaxes(tickangle=45, tickfont=dict(color='crimson', size=14))\n",
    "fig.update_xaxes(showline=True, linewidth=2, linecolor='black', mirror=True, gridcolor='Pink')\n",
    "fig.update_yaxes(showline=True, linewidth=2, linecolor='black', mirror=True, gridcolor='Red')\n",
    "#fig.show()\n",
    "fig.write_html(pathT+\"\\{}.html\".format(FileName))\n",
    "plt.close()"
   ]
  },
  {
   "cell_type": "code",
   "execution_count": 73,
   "metadata": {},
   "outputs": [
    {
     "name": "stdout",
     "output_type": "stream",
     "text": [
      "      DatabaseName SchemaName             TableName\n",
      "12168        PPROD         PP  stu_curr_schd_backup\n"
     ]
    }
   ],
   "source": [
    "d = dfpprod0066[['DatabaseName', 'SchemaName','TableName']]#.format(z)\n",
    "d = d.drop_duplicates()\n",
    "e = d['DatabaseName'].values[0]\n",
    "f = d['SchemaName'].values[0]\n",
    "g = d['TableName'].values[0]\n",
    "print (d)\n",
    "FileName = ('PPROD_{}_{}'.format(f,g))\n",
    "\n",
    "fig = px.scatter(dfpprod0066, x = 'TodaysDate', y='RecordCount', size = 'RecordCount', color = 'RecordCount')#.format(z)\n",
    "fig.update_layout(title = '{0},{1},{2}'.format(e,f,g))\n",
    "fig.update_layout(yaxis_zeroline=False, xaxis_zeroline=False)\n",
    "fig.update_xaxes(title_font=dict(size=18, color='crimson'))\n",
    "fig.update_yaxes(title_font=dict(size=18, color='crimson'))\n",
    "fig.update_xaxes(ticks=\"inside\")\n",
    "fig.update_yaxes(ticks=\"inside\")\n",
    "fig.update_xaxes(tickangle=45, tickfont=dict(color='crimson', size=14))\n",
    "fig.update_xaxes(showline=True, linewidth=2, linecolor='black', mirror=True, gridcolor='Pink')\n",
    "fig.update_yaxes(showline=True, linewidth=2, linecolor='black', mirror=True, gridcolor='Red')\n",
    "#fig.show()\n",
    "fig.write_html(pathT+\"\\{}.html\".format(FileName))\n",
    "plt.close()"
   ]
  },
  {
   "cell_type": "code",
   "execution_count": 74,
   "metadata": {},
   "outputs": [
    {
     "name": "stdout",
     "output_type": "stream",
     "text": [
      "     DatabaseName SchemaName             TableName\n",
      "9126        PPROD         PP  Stu_Curr_Schd_Cotchr\n"
     ]
    }
   ],
   "source": [
    "d = dfpprod0067[['DatabaseName', 'SchemaName','TableName']]#.format(z)\n",
    "d = d.drop_duplicates()\n",
    "e = d['DatabaseName'].values[0]\n",
    "f = d['SchemaName'].values[0]\n",
    "g = d['TableName'].values[0]\n",
    "print (d)\n",
    "FileName = ('PPROD_{}_{}'.format(f,g))\n",
    "\n",
    "fig = px.scatter(dfpprod0067, x = 'TodaysDate', y='RecordCount', size = 'RecordCount', color = 'RecordCount')#.format(z)\n",
    "fig.update_layout(title = '{0},{1},{2}'.format(e,f,g))\n",
    "fig.update_layout(yaxis_zeroline=False, xaxis_zeroline=False)\n",
    "fig.update_xaxes(title_font=dict(size=18, color='crimson'))\n",
    "fig.update_yaxes(title_font=dict(size=18, color='crimson'))\n",
    "fig.update_xaxes(ticks=\"inside\")\n",
    "fig.update_yaxes(ticks=\"inside\")\n",
    "fig.update_xaxes(tickangle=45, tickfont=dict(color='crimson', size=14))\n",
    "fig.update_xaxes(showline=True, linewidth=2, linecolor='black', mirror=True, gridcolor='Pink')\n",
    "fig.update_yaxes(showline=True, linewidth=2, linecolor='black', mirror=True, gridcolor='Red')\n",
    "#fig.show()\n",
    "fig.write_html(pathT+\"\\{}.html\".format(FileName))\n",
    "plt.close()"
   ]
  },
  {
   "cell_type": "code",
   "execution_count": 75,
   "metadata": {},
   "outputs": [
    {
     "name": "stdout",
     "output_type": "stream",
     "text": [
      "      DatabaseName SchemaName            TableName\n",
      "12285        PPROD         PP  stu_curr_schd_igpro\n"
     ]
    }
   ],
   "source": [
    "d = dfpprod0068[['DatabaseName', 'SchemaName','TableName']]#.format(z)\n",
    "d = d.drop_duplicates()\n",
    "e = d['DatabaseName'].values[0]\n",
    "f = d['SchemaName'].values[0]\n",
    "g = d['TableName'].values[0]\n",
    "print (d)\n",
    "FileName = ('PPROD_{}_{}'.format(f,g))\n",
    "\n",
    "fig = px.scatter(dfpprod0068, x = 'TodaysDate', y='RecordCount', size = 'RecordCount', color = 'RecordCount')#.format(z)\n",
    "fig.update_layout(title = '{0},{1},{2}'.format(e,f,g))\n",
    "fig.update_layout(yaxis_zeroline=False, xaxis_zeroline=False)\n",
    "fig.update_xaxes(title_font=dict(size=18, color='crimson'))\n",
    "fig.update_yaxes(title_font=dict(size=18, color='crimson'))\n",
    "fig.update_xaxes(ticks=\"inside\")\n",
    "fig.update_yaxes(ticks=\"inside\")\n",
    "fig.update_xaxes(tickangle=45, tickfont=dict(color='crimson', size=14))\n",
    "fig.update_xaxes(showline=True, linewidth=2, linecolor='black', mirror=True, gridcolor='Pink')\n",
    "fig.update_yaxes(showline=True, linewidth=2, linecolor='black', mirror=True, gridcolor='Red')\n",
    "#fig.show()\n",
    "fig.write_html(pathT+\"\\{}.html\".format(FileName))\n",
    "plt.close()"
   ]
  },
  {
   "cell_type": "code",
   "execution_count": 76,
   "metadata": {},
   "outputs": [
    {
     "name": "stdout",
     "output_type": "stream",
     "text": [
      "     DatabaseName SchemaName          TableName\n",
      "6318        PPROD         PP  STU_CURR_SCHD_SUM\n"
     ]
    }
   ],
   "source": [
    "d = dfpprod0069[['DatabaseName', 'SchemaName','TableName']]#.format(z)\n",
    "d = d.drop_duplicates()\n",
    "e = d['DatabaseName'].values[0]\n",
    "f = d['SchemaName'].values[0]\n",
    "g = d['TableName'].values[0]\n",
    "print (d)\n",
    "FileName = ('PPROD_{}_{}'.format(f,g))\n",
    "\n",
    "fig = px.scatter(dfpprod0069, x = 'TodaysDate', y='RecordCount', size = 'RecordCount', color = 'RecordCount')#.format(z)\n",
    "fig.update_layout(title = '{0},{1},{2}'.format(e,f,g))\n",
    "fig.update_layout(yaxis_zeroline=False, xaxis_zeroline=False)\n",
    "fig.update_xaxes(title_font=dict(size=18, color='crimson'))\n",
    "fig.update_yaxes(title_font=dict(size=18, color='crimson'))\n",
    "fig.update_xaxes(ticks=\"inside\")\n",
    "fig.update_yaxes(ticks=\"inside\")\n",
    "fig.update_xaxes(tickangle=45, tickfont=dict(color='crimson', size=14))\n",
    "fig.update_xaxes(showline=True, linewidth=2, linecolor='black', mirror=True, gridcolor='Pink')\n",
    "fig.update_yaxes(showline=True, linewidth=2, linecolor='black', mirror=True, gridcolor='Red')\n",
    "#fig.show()\n",
    "fig.write_html(pathT+\"\\{}.html\".format(FileName))\n",
    "plt.close()"
   ]
  },
  {
   "cell_type": "code",
   "execution_count": 77,
   "metadata": {},
   "outputs": [
    {
     "name": "stdout",
     "output_type": "stream",
     "text": [
      "     DatabaseName SchemaName      TableName\n",
      "6552        PPROD         PP  STU_DSCP_DISP\n"
     ]
    }
   ],
   "source": [
    "d = dfpprod0070[['DatabaseName', 'SchemaName','TableName']]#.format(z)\n",
    "d = d.drop_duplicates()\n",
    "e = d['DatabaseName'].values[0]\n",
    "f = d['SchemaName'].values[0]\n",
    "g = d['TableName'].values[0]\n",
    "print (d)\n",
    "FileName = ('PPROD_{}_{}'.format(f,g))\n",
    "\n",
    "fig = px.scatter(dfpprod0070, x = 'TodaysDate', y='RecordCount', size = 'RecordCount', color = 'RecordCount')#.format(z)\n",
    "fig.update_layout(title = '{0},{1},{2}'.format(e,f,g))\n",
    "fig.update_layout(yaxis_zeroline=False, xaxis_zeroline=False)\n",
    "fig.update_xaxes(title_font=dict(size=18, color='crimson'))\n",
    "fig.update_yaxes(title_font=dict(size=18, color='crimson'))\n",
    "fig.update_xaxes(ticks=\"inside\")\n",
    "fig.update_yaxes(ticks=\"inside\")\n",
    "fig.update_xaxes(tickangle=45, tickfont=dict(color='crimson', size=14))\n",
    "fig.update_xaxes(showline=True, linewidth=2, linecolor='black', mirror=True, gridcolor='Pink')\n",
    "fig.update_yaxes(showline=True, linewidth=2, linecolor='black', mirror=True, gridcolor='Red')\n",
    "#fig.show()\n",
    "fig.write_html(pathT+\"\\{}.html\".format(FileName))\n",
    "plt.close()"
   ]
  },
  {
   "cell_type": "code",
   "execution_count": 78,
   "metadata": {},
   "outputs": [
    {
     "name": "stdout",
     "output_type": "stream",
     "text": [
      "     DatabaseName SchemaName     TableName\n",
      "6669        PPROD         PP  STU_DSCP_HST\n"
     ]
    }
   ],
   "source": [
    "d = dfpprod0071[['DatabaseName', 'SchemaName','TableName']]#.format(z)\n",
    "d = d.drop_duplicates()\n",
    "e = d['DatabaseName'].values[0]\n",
    "f = d['SchemaName'].values[0]\n",
    "g = d['TableName'].values[0]\n",
    "print (d)\n",
    "FileName = ('PPROD_{}_{}'.format(f,g))\n",
    "\n",
    "fig = px.scatter(dfpprod0071, x = 'TodaysDate', y='RecordCount', size = 'RecordCount', color = 'RecordCount')#.format(z)\n",
    "fig.update_layout(title = '{0},{1},{2}'.format(e,f,g))\n",
    "fig.update_layout(yaxis_zeroline=False, xaxis_zeroline=False)\n",
    "fig.update_xaxes(title_font=dict(size=18, color='crimson'))\n",
    "fig.update_yaxes(title_font=dict(size=18, color='crimson'))\n",
    "fig.update_xaxes(ticks=\"inside\")\n",
    "fig.update_yaxes(ticks=\"inside\")\n",
    "fig.update_xaxes(tickangle=45, tickfont=dict(color='crimson', size=14))\n",
    "fig.update_xaxes(showline=True, linewidth=2, linecolor='black', mirror=True, gridcolor='Pink')\n",
    "fig.update_yaxes(showline=True, linewidth=2, linecolor='black', mirror=True, gridcolor='Red')\n",
    "#fig.show()\n",
    "fig.write_html(pathT+\"\\{}.html\".format(FileName))\n",
    "plt.close()"
   ]
  },
  {
   "cell_type": "code",
   "execution_count": 79,
   "metadata": {},
   "outputs": [
    {
     "name": "stdout",
     "output_type": "stream",
     "text": [
      "     DatabaseName SchemaName TableName\n",
      "6786        PPROD         PP  STU_Fees\n"
     ]
    }
   ],
   "source": [
    "d = dfpprod0072[['DatabaseName', 'SchemaName','TableName']]#.format(z)\n",
    "d = d.drop_duplicates()\n",
    "e = d['DatabaseName'].values[0]\n",
    "f = d['SchemaName'].values[0]\n",
    "g = d['TableName'].values[0]\n",
    "print (d)\n",
    "FileName = ('PPROD_{}_{}'.format(f,g))\n",
    "\n",
    "fig = px.scatter(dfpprod0072, x = 'TodaysDate', y='RecordCount', size = 'RecordCount', color = 'RecordCount')#.format(z)\n",
    "fig.update_layout(title = '{0},{1},{2}'.format(e,f,g))\n",
    "fig.update_layout(yaxis_zeroline=False, xaxis_zeroline=False)\n",
    "fig.update_xaxes(title_font=dict(size=18, color='crimson'))\n",
    "fig.update_yaxes(title_font=dict(size=18, color='crimson'))\n",
    "fig.update_xaxes(ticks=\"inside\")\n",
    "fig.update_yaxes(ticks=\"inside\")\n",
    "fig.update_xaxes(tickangle=45, tickfont=dict(color='crimson', size=14))\n",
    "fig.update_xaxes(showline=True, linewidth=2, linecolor='black', mirror=True, gridcolor='Pink')\n",
    "fig.update_yaxes(showline=True, linewidth=2, linecolor='black', mirror=True, gridcolor='Red')\n",
    "#fig.show()\n",
    "fig.write_html(pathT+\"\\{}.html\".format(FileName))\n",
    "plt.close()"
   ]
  },
  {
   "cell_type": "code",
   "execution_count": 80,
   "metadata": {},
   "outputs": [
    {
     "name": "stdout",
     "output_type": "stream",
     "text": [
      "     DatabaseName SchemaName         TableName\n",
      "6903        PPROD         PP  STU_IGP_CLS_NOTE\n"
     ]
    }
   ],
   "source": [
    "d = dfpprod0073[['DatabaseName', 'SchemaName','TableName']]#.format(z)\n",
    "d = d.drop_duplicates()\n",
    "e = d['DatabaseName'].values[0]\n",
    "f = d['SchemaName'].values[0]\n",
    "g = d['TableName'].values[0]\n",
    "print (d)\n",
    "FileName = ('PPROD_{}_{}'.format(f,g))\n",
    "\n",
    "fig = px.scatter(dfpprod0073, x = 'TodaysDate', y='RecordCount', size = 'RecordCount', color = 'RecordCount')#.format(z)\n",
    "fig.update_layout(title = '{0},{1},{2}'.format(e,f,g))\n",
    "fig.update_layout(yaxis_zeroline=False, xaxis_zeroline=False)\n",
    "fig.update_xaxes(title_font=dict(size=18, color='crimson'))\n",
    "fig.update_yaxes(title_font=dict(size=18, color='crimson'))\n",
    "fig.update_xaxes(ticks=\"inside\")\n",
    "fig.update_yaxes(ticks=\"inside\")\n",
    "fig.update_xaxes(tickangle=45, tickfont=dict(color='crimson', size=14))\n",
    "fig.update_xaxes(showline=True, linewidth=2, linecolor='black', mirror=True, gridcolor='Pink')\n",
    "fig.update_yaxes(showline=True, linewidth=2, linecolor='black', mirror=True, gridcolor='Red')\n",
    "#fig.show()\n",
    "fig.write_html(pathT+\"\\{}.html\".format(FileName))\n",
    "plt.close()"
   ]
  },
  {
   "cell_type": "code",
   "execution_count": 81,
   "metadata": {},
   "outputs": [
    {
     "name": "stdout",
     "output_type": "stream",
     "text": [
      "     DatabaseName SchemaName         TableName\n",
      "7020        PPROD         PP  STU_IGP_STU_NOTE\n"
     ]
    }
   ],
   "source": [
    "d = dfpprod0074[['DatabaseName', 'SchemaName','TableName']]#.format(z)\n",
    "d = d.drop_duplicates()\n",
    "e = d['DatabaseName'].values[0]\n",
    "f = d['SchemaName'].values[0]\n",
    "g = d['TableName'].values[0]\n",
    "print (d)\n",
    "FileName = ('PPROD_{}_{}'.format(f,g))\n",
    "\n",
    "fig = px.scatter(dfpprod0074, x = 'TodaysDate', y='RecordCount', size = 'RecordCount', color = 'RecordCount')#.format(z)\n",
    "fig.update_layout(title = '{0},{1},{2}'.format(e,f,g))\n",
    "fig.update_layout(yaxis_zeroline=False, xaxis_zeroline=False)\n",
    "fig.update_xaxes(title_font=dict(size=18, color='crimson'))\n",
    "fig.update_yaxes(title_font=dict(size=18, color='crimson'))\n",
    "fig.update_xaxes(ticks=\"inside\")\n",
    "fig.update_yaxes(ticks=\"inside\")\n",
    "fig.update_xaxes(tickangle=45, tickfont=dict(color='crimson', size=14))\n",
    "fig.update_xaxes(showline=True, linewidth=2, linecolor='black', mirror=True, gridcolor='Pink')\n",
    "fig.update_yaxes(showline=True, linewidth=2, linecolor='black', mirror=True, gridcolor='Red')\n",
    "#fig.show()\n",
    "fig.write_html(pathT+\"\\{}.html\".format(FileName))\n",
    "plt.close()"
   ]
  },
  {
   "cell_type": "code",
   "execution_count": 82,
   "metadata": {},
   "outputs": [
    {
     "name": "stdout",
     "output_type": "stream",
     "text": [
      "     DatabaseName SchemaName     TableName\n",
      "7137        PPROD         PP  STU_IGP_TASK\n"
     ]
    }
   ],
   "source": [
    "d = dfpprod0075[['DatabaseName', 'SchemaName','TableName']]#.format(z)\n",
    "d = d.drop_duplicates()\n",
    "e = d['DatabaseName'].values[0]\n",
    "f = d['SchemaName'].values[0]\n",
    "g = d['TableName'].values[0]\n",
    "print (d)\n",
    "FileName = ('PPROD_{}_{}'.format(f,g))\n",
    "\n",
    "fig = px.scatter(dfpprod0075, x = 'TodaysDate', y='RecordCount', size = 'RecordCount', color = 'RecordCount')#.format(z)\n",
    "fig.update_layout(title = '{0},{1},{2}'.format(e,f,g))\n",
    "fig.update_layout(yaxis_zeroline=False, xaxis_zeroline=False)\n",
    "fig.update_xaxes(title_font=dict(size=18, color='crimson'))\n",
    "fig.update_yaxes(title_font=dict(size=18, color='crimson'))\n",
    "fig.update_xaxes(ticks=\"inside\")\n",
    "fig.update_yaxes(ticks=\"inside\")\n",
    "fig.update_xaxes(tickangle=45, tickfont=dict(color='crimson', size=14))\n",
    "fig.update_xaxes(showline=True, linewidth=2, linecolor='black', mirror=True, gridcolor='Pink')\n",
    "fig.update_yaxes(showline=True, linewidth=2, linecolor='black', mirror=True, gridcolor='Red')\n",
    "#fig.show()\n",
    "fig.write_html(pathT+\"\\{}.html\".format(FileName))\n",
    "plt.close()"
   ]
  },
  {
   "cell_type": "code",
   "execution_count": 83,
   "metadata": {},
   "outputs": [
    {
     "name": "stdout",
     "output_type": "stream",
     "text": [
      "      DatabaseName SchemaName              TableName\n",
      "12402        PPROD         PP  stu_igp_task_20161222\n"
     ]
    }
   ],
   "source": [
    "d = dfpprod0076[['DatabaseName', 'SchemaName','TableName']]#.format(z)\n",
    "d = d.drop_duplicates()\n",
    "e = d['DatabaseName'].values[0]\n",
    "f = d['SchemaName'].values[0]\n",
    "g = d['TableName'].values[0]\n",
    "print (d)\n",
    "FileName = ('PPROD_{}_{}'.format(f,g))\n",
    "\n",
    "fig = px.scatter(dfpprod0076, x = 'TodaysDate', y='RecordCount', size = 'RecordCount', color = 'RecordCount')#.format(z)\n",
    "fig.update_layout(title = '{0},{1},{2}'.format(e,f,g))\n",
    "fig.update_layout(yaxis_zeroline=False, xaxis_zeroline=False)\n",
    "fig.update_xaxes(title_font=dict(size=18, color='crimson'))\n",
    "fig.update_yaxes(title_font=dict(size=18, color='crimson'))\n",
    "fig.update_xaxes(ticks=\"inside\")\n",
    "fig.update_yaxes(ticks=\"inside\")\n",
    "fig.update_xaxes(tickangle=45, tickfont=dict(color='crimson', size=14))\n",
    "fig.update_xaxes(showline=True, linewidth=2, linecolor='black', mirror=True, gridcolor='Pink')\n",
    "fig.update_yaxes(showline=True, linewidth=2, linecolor='black', mirror=True, gridcolor='Red')\n",
    "#fig.show()\n",
    "fig.write_html(pathT+\"\\{}.html\".format(FileName))\n",
    "plt.close()"
   ]
  },
  {
   "cell_type": "code",
   "execution_count": 84,
   "metadata": {},
   "outputs": [
    {
     "name": "stdout",
     "output_type": "stream",
     "text": [
      "      DatabaseName SchemaName                      TableName\n",
      "12519        PPROD         PP  stu_igp_task_20190906_partial\n"
     ]
    }
   ],
   "source": [
    "d = dfpprod0077[['DatabaseName', 'SchemaName','TableName']]#.format(z)\n",
    "d = d.drop_duplicates()\n",
    "e = d['DatabaseName'].values[0]\n",
    "f = d['SchemaName'].values[0]\n",
    "g = d['TableName'].values[0]\n",
    "print (d)\n",
    "FileName = ('PPROD_{}_{}'.format(f,g))\n",
    "\n",
    "fig = px.scatter(dfpprod0077, x = 'TodaysDate', y='RecordCount', size = 'RecordCount', color = 'RecordCount')#.format(z)\n",
    "fig.update_layout(title = '{0},{1},{2}'.format(e,f,g))\n",
    "fig.update_layout(yaxis_zeroline=False, xaxis_zeroline=False)\n",
    "fig.update_xaxes(title_font=dict(size=18, color='crimson'))\n",
    "fig.update_yaxes(title_font=dict(size=18, color='crimson'))\n",
    "fig.update_xaxes(ticks=\"inside\")\n",
    "fig.update_yaxes(ticks=\"inside\")\n",
    "fig.update_xaxes(tickangle=45, tickfont=dict(color='crimson', size=14))\n",
    "fig.update_xaxes(showline=True, linewidth=2, linecolor='black', mirror=True, gridcolor='Pink')\n",
    "fig.update_yaxes(showline=True, linewidth=2, linecolor='black', mirror=True, gridcolor='Red')\n",
    "#fig.show()\n",
    "fig.write_html(pathT+\"\\{}.html\".format(FileName))\n",
    "plt.close()"
   ]
  },
  {
   "cell_type": "code",
   "execution_count": 85,
   "metadata": {},
   "outputs": [
    {
     "name": "stdout",
     "output_type": "stream",
     "text": [
      "     DatabaseName SchemaName    TableName\n",
      "7254        PPROD         PP  STU_MEALPAY\n"
     ]
    }
   ],
   "source": [
    "d = dfpprod0078[['DatabaseName', 'SchemaName','TableName']]#.format(z)\n",
    "d = d.drop_duplicates()\n",
    "e = d['DatabaseName'].values[0]\n",
    "f = d['SchemaName'].values[0]\n",
    "g = d['TableName'].values[0]\n",
    "print (d)\n",
    "FileName = ('PPROD_{}_{}'.format(f,g))\n",
    "\n",
    "fig = px.scatter(dfpprod0078, x = 'TodaysDate', y='RecordCount', size = 'RecordCount', color = 'RecordCount')#.format(z)\n",
    "fig.update_layout(title = '{0},{1},{2}'.format(e,f,g))\n",
    "fig.update_layout(yaxis_zeroline=False, xaxis_zeroline=False)\n",
    "fig.update_xaxes(title_font=dict(size=18, color='crimson'))\n",
    "fig.update_yaxes(title_font=dict(size=18, color='crimson'))\n",
    "fig.update_xaxes(ticks=\"inside\")\n",
    "fig.update_yaxes(ticks=\"inside\")\n",
    "fig.update_xaxes(tickangle=45, tickfont=dict(color='crimson', size=14))\n",
    "fig.update_xaxes(showline=True, linewidth=2, linecolor='black', mirror=True, gridcolor='Pink')\n",
    "fig.update_yaxes(showline=True, linewidth=2, linecolor='black', mirror=True, gridcolor='Red')\n",
    "#fig.show()\n",
    "fig.write_html(pathT+\"\\{}.html\".format(FileName))\n",
    "plt.close()"
   ]
  },
  {
   "cell_type": "code",
   "execution_count": 86,
   "metadata": {},
   "outputs": [
    {
     "name": "stdout",
     "output_type": "stream",
     "text": [
      "     DatabaseName SchemaName              TableName\n",
      "7371        PPROD         PP  STU_PERIOD_ATTENDANCE\n"
     ]
    }
   ],
   "source": [
    "d = dfpprod0079[['DatabaseName', 'SchemaName','TableName']]#.format(z)\n",
    "d = d.drop_duplicates()\n",
    "e = d['DatabaseName'].values[0]\n",
    "f = d['SchemaName'].values[0]\n",
    "g = d['TableName'].values[0]\n",
    "print (d)\n",
    "FileName = ('PPROD_{}_{}'.format(f,g))\n",
    "\n",
    "fig = px.scatter(dfpprod0079, x = 'TodaysDate', y='RecordCount', size = 'RecordCount', color = 'RecordCount')#.format(z)\n",
    "fig.update_layout(title = '{0},{1},{2}'.format(e,f,g))\n",
    "fig.update_layout(yaxis_zeroline=False, xaxis_zeroline=False)\n",
    "fig.update_xaxes(title_font=dict(size=18, color='crimson'))\n",
    "fig.update_yaxes(title_font=dict(size=18, color='crimson'))\n",
    "fig.update_xaxes(ticks=\"inside\")\n",
    "fig.update_yaxes(ticks=\"inside\")\n",
    "fig.update_xaxes(tickangle=45, tickfont=dict(color='crimson', size=14))\n",
    "fig.update_xaxes(showline=True, linewidth=2, linecolor='black', mirror=True, gridcolor='Pink')\n",
    "fig.update_yaxes(showline=True, linewidth=2, linecolor='black', mirror=True, gridcolor='Red')\n",
    "#fig.show()\n",
    "fig.write_html(pathT+\"\\{}.html\".format(FileName))\n",
    "plt.close()"
   ]
  },
  {
   "cell_type": "code",
   "execution_count": 87,
   "metadata": {},
   "outputs": [
    {
     "name": "stdout",
     "output_type": "stream",
     "text": [
      "     DatabaseName SchemaName TableName\n",
      "7488        PPROD         PP   STU_PGM\n"
     ]
    }
   ],
   "source": [
    "d = dfpprod0080[['DatabaseName', 'SchemaName','TableName']]#.format(z)\n",
    "d = d.drop_duplicates()\n",
    "e = d['DatabaseName'].values[0]\n",
    "f = d['SchemaName'].values[0]\n",
    "g = d['TableName'].values[0]\n",
    "print (d)\n",
    "FileName = ('PPROD_{}_{}'.format(f,g))\n",
    "\n",
    "fig = px.scatter(dfpprod0080, x = 'TodaysDate', y='RecordCount', size = 'RecordCount', color = 'RecordCount')#.format(z)\n",
    "fig.update_layout(title = '{0},{1},{2}'.format(e,f,g))\n",
    "fig.update_layout(yaxis_zeroline=False, xaxis_zeroline=False)\n",
    "fig.update_xaxes(title_font=dict(size=18, color='crimson'))\n",
    "fig.update_yaxes(title_font=dict(size=18, color='crimson'))\n",
    "fig.update_xaxes(ticks=\"inside\")\n",
    "fig.update_yaxes(ticks=\"inside\")\n",
    "fig.update_xaxes(tickangle=45, tickfont=dict(color='crimson', size=14))\n",
    "fig.update_xaxes(showline=True, linewidth=2, linecolor='black', mirror=True, gridcolor='Pink')\n",
    "fig.update_yaxes(showline=True, linewidth=2, linecolor='black', mirror=True, gridcolor='Red')\n",
    "#fig.show()\n",
    "fig.write_html(pathT+\"\\{}.html\".format(FileName))\n",
    "plt.close()"
   ]
  },
  {
   "cell_type": "code",
   "execution_count": 88,
   "metadata": {},
   "outputs": [
    {
     "name": "stdout",
     "output_type": "stream",
     "text": [
      "      DatabaseName SchemaName TableName\n",
      "12636        PPROD         PP  stu_prfl\n"
     ]
    }
   ],
   "source": [
    "d = dfpprod0081[['DatabaseName', 'SchemaName','TableName']]#.format(z)\n",
    "d = d.drop_duplicates()\n",
    "e = d['DatabaseName'].values[0]\n",
    "f = d['SchemaName'].values[0]\n",
    "g = d['TableName'].values[0]\n",
    "print (d)\n",
    "FileName = ('PPROD_{}_{}'.format(f,g))\n",
    "\n",
    "fig = px.scatter(dfpprod0081, x = 'TodaysDate', y='RecordCount', size = 'RecordCount', color = 'RecordCount')#.format(z)\n",
    "fig.update_layout(title = '{0},{1},{2}'.format(e,f,g))\n",
    "fig.update_layout(yaxis_zeroline=False, xaxis_zeroline=False)\n",
    "fig.update_xaxes(title_font=dict(size=18, color='crimson'))\n",
    "fig.update_yaxes(title_font=dict(size=18, color='crimson'))\n",
    "fig.update_xaxes(ticks=\"inside\")\n",
    "fig.update_yaxes(ticks=\"inside\")\n",
    "fig.update_xaxes(tickangle=45, tickfont=dict(color='crimson', size=14))\n",
    "fig.update_xaxes(showline=True, linewidth=2, linecolor='black', mirror=True, gridcolor='Pink')\n",
    "fig.update_yaxes(showline=True, linewidth=2, linecolor='black', mirror=True, gridcolor='Red')\n",
    "#fig.show()\n",
    "fig.write_html(pathT+\"\\{}.html\".format(FileName))\n",
    "plt.close()"
   ]
  },
  {
   "cell_type": "code",
   "execution_count": 89,
   "metadata": {},
   "outputs": [
    {
     "name": "stdout",
     "output_type": "stream",
     "text": [
      "     DatabaseName SchemaName         TableName\n",
      "7722        PPROD         PP  STU_PRNT_COM_MAX\n"
     ]
    }
   ],
   "source": [
    "d = dfpprod0082[['DatabaseName', 'SchemaName','TableName']]#.format(z)\n",
    "d = d.drop_duplicates()\n",
    "e = d['DatabaseName'].values[0]\n",
    "f = d['SchemaName'].values[0]\n",
    "g = d['TableName'].values[0]\n",
    "print (d)\n",
    "FileName = ('PPROD_{}_{}'.format(f,g))\n",
    "\n",
    "fig = px.scatter(dfpprod0082, x = 'TodaysDate', y='RecordCount', size = 'RecordCount', color = 'RecordCount')#.format(z)\n",
    "fig.update_layout(title = '{0},{1},{2}'.format(e,f,g))\n",
    "fig.update_layout(yaxis_zeroline=False, xaxis_zeroline=False)\n",
    "fig.update_xaxes(title_font=dict(size=18, color='crimson'))\n",
    "fig.update_yaxes(title_font=dict(size=18, color='crimson'))\n",
    "fig.update_xaxes(ticks=\"inside\")\n",
    "fig.update_yaxes(ticks=\"inside\")\n",
    "fig.update_xaxes(tickangle=45, tickfont=dict(color='crimson', size=14))\n",
    "fig.update_xaxes(showline=True, linewidth=2, linecolor='black', mirror=True, gridcolor='Pink')\n",
    "fig.update_yaxes(showline=True, linewidth=2, linecolor='black', mirror=True, gridcolor='Red')\n",
    "#fig.show()\n",
    "fig.write_html(pathT+\"\\{}.html\".format(FileName))\n",
    "plt.close()"
   ]
  },
  {
   "cell_type": "code",
   "execution_count": 90,
   "metadata": {},
   "outputs": [
    {
     "name": "stdout",
     "output_type": "stream",
     "text": [
      "     DatabaseName SchemaName      TableName\n",
      "7605        PPROD         PP  STU_PRNT_COMM\n"
     ]
    }
   ],
   "source": [
    "d = dfpprod0083[['DatabaseName', 'SchemaName','TableName']]#.format(z)\n",
    "d = d.drop_duplicates()\n",
    "e = d['DatabaseName'].values[0]\n",
    "f = d['SchemaName'].values[0]\n",
    "g = d['TableName'].values[0]\n",
    "print (d)\n",
    "FileName = ('PPROD_{}_{}'.format(f,g))\n",
    "\n",
    "fig = px.scatter(dfpprod0083, x = 'TodaysDate', y='RecordCount', size = 'RecordCount', color = 'RecordCount')#.format(z)\n",
    "fig.update_layout(title = '{0},{1},{2}'.format(e,f,g))\n",
    "fig.update_layout(yaxis_zeroline=False, xaxis_zeroline=False)\n",
    "fig.update_xaxes(title_font=dict(size=18, color='crimson'))\n",
    "fig.update_yaxes(title_font=dict(size=18, color='crimson'))\n",
    "fig.update_xaxes(ticks=\"inside\")\n",
    "fig.update_yaxes(ticks=\"inside\")\n",
    "fig.update_xaxes(tickangle=45, tickfont=dict(color='crimson', size=14))\n",
    "fig.update_xaxes(showline=True, linewidth=2, linecolor='black', mirror=True, gridcolor='Pink')\n",
    "fig.update_yaxes(showline=True, linewidth=2, linecolor='black', mirror=True, gridcolor='Red')\n",
    "#fig.show()\n",
    "fig.write_html(pathT+\"\\{}.html\".format(FileName))\n",
    "plt.close()"
   ]
  },
  {
   "cell_type": "code",
   "execution_count": 91,
   "metadata": {},
   "outputs": [
    {
     "name": "stdout",
     "output_type": "stream",
     "text": [
      "     DatabaseName SchemaName TableName\n",
      "7839        PPROD         PP  STU_RLTN\n"
     ]
    }
   ],
   "source": [
    "d = dfpprod0084[['DatabaseName', 'SchemaName','TableName']]#.format(z)\n",
    "d = d.drop_duplicates()\n",
    "e = d['DatabaseName'].values[0]\n",
    "f = d['SchemaName'].values[0]\n",
    "g = d['TableName'].values[0]\n",
    "print (d)\n",
    "FileName = ('PPROD_{}_{}'.format(f,g))\n",
    "\n",
    "fig = px.scatter(dfpprod0084, x = 'TodaysDate', y='RecordCount', size = 'RecordCount', color = 'RecordCount')#.format(z)\n",
    "fig.update_layout(title = '{0},{1},{2}'.format(e,f,g))\n",
    "fig.update_layout(yaxis_zeroline=False, xaxis_zeroline=False)\n",
    "fig.update_xaxes(title_font=dict(size=18, color='crimson'))\n",
    "fig.update_yaxes(title_font=dict(size=18, color='crimson'))\n",
    "fig.update_xaxes(ticks=\"inside\")\n",
    "fig.update_yaxes(ticks=\"inside\")\n",
    "fig.update_xaxes(tickangle=45, tickfont=dict(color='crimson', size=14))\n",
    "fig.update_xaxes(showline=True, linewidth=2, linecolor='black', mirror=True, gridcolor='Pink')\n",
    "fig.update_yaxes(showline=True, linewidth=2, linecolor='black', mirror=True, gridcolor='Red')\n",
    "#fig.show()\n",
    "fig.write_html(pathT+\"\\{}.html\".format(FileName))\n",
    "plt.close()"
   ]
  },
  {
   "cell_type": "code",
   "execution_count": 92,
   "metadata": {},
   "outputs": [
    {
     "name": "stdout",
     "output_type": "stream",
     "text": [
      "      DatabaseName SchemaName         TableName\n",
      "12870        PPROD         PP  stu_rltn_support\n"
     ]
    }
   ],
   "source": [
    "d = dfpprod0085[['DatabaseName', 'SchemaName','TableName']]#.format(z)\n",
    "d = d.drop_duplicates()\n",
    "e = d['DatabaseName'].values[0]\n",
    "f = d['SchemaName'].values[0]\n",
    "g = d['TableName'].values[0]\n",
    "print (d)\n",
    "FileName = ('PPROD_{}_{}'.format(f,g))\n",
    "\n",
    "fig = px.scatter(dfpprod0085, x = 'TodaysDate', y='RecordCount', size = 'RecordCount', color = 'RecordCount')#.format(z)\n",
    "fig.update_layout(title = '{0},{1},{2}'.format(e,f,g))\n",
    "fig.update_layout(yaxis_zeroline=False, xaxis_zeroline=False)\n",
    "fig.update_xaxes(title_font=dict(size=18, color='crimson'))\n",
    "fig.update_yaxes(title_font=dict(size=18, color='crimson'))\n",
    "fig.update_xaxes(ticks=\"inside\")\n",
    "fig.update_yaxes(ticks=\"inside\")\n",
    "fig.update_xaxes(tickangle=45, tickfont=dict(color='crimson', size=14))\n",
    "fig.update_xaxes(showline=True, linewidth=2, linecolor='black', mirror=True, gridcolor='Pink')\n",
    "fig.update_yaxes(showline=True, linewidth=2, linecolor='black', mirror=True, gridcolor='Red')\n",
    "#fig.show()\n",
    "fig.write_html(pathT+\"\\{}.html\".format(FileName))\n",
    "plt.close()"
   ]
  },
  {
   "cell_type": "code",
   "execution_count": 93,
   "metadata": {},
   "outputs": [
    {
     "name": "stdout",
     "output_type": "stream",
     "text": [
      "     DatabaseName SchemaName             TableName\n",
      "7956        PPROD         PP  STU_SUBT_HIST_Errors\n"
     ]
    }
   ],
   "source": [
    "d = dfpprod0086[['DatabaseName', 'SchemaName','TableName']]#.format(z)\n",
    "d = d.drop_duplicates()\n",
    "e = d['DatabaseName'].values[0]\n",
    "f = d['SchemaName'].values[0]\n",
    "g = d['TableName'].values[0]\n",
    "print (d)\n",
    "FileName = ('PPROD_{}_{}'.format(f,g))\n",
    "\n",
    "fig = px.scatter(dfpprod0086, x = 'TodaysDate', y='RecordCount', size = 'RecordCount', color = 'RecordCount')#.format(z)\n",
    "fig.update_layout(title = '{0},{1},{2}'.format(e,f,g))\n",
    "fig.update_layout(yaxis_zeroline=False, xaxis_zeroline=False)\n",
    "fig.update_xaxes(title_font=dict(size=18, color='crimson'))\n",
    "fig.update_yaxes(title_font=dict(size=18, color='crimson'))\n",
    "fig.update_xaxes(ticks=\"inside\")\n",
    "fig.update_yaxes(ticks=\"inside\")\n",
    "fig.update_xaxes(tickangle=45, tickfont=dict(color='crimson', size=14))\n",
    "fig.update_xaxes(showline=True, linewidth=2, linecolor='black', mirror=True, gridcolor='Pink')\n",
    "fig.update_yaxes(showline=True, linewidth=2, linecolor='black', mirror=True, gridcolor='Red')\n",
    "#fig.show()\n",
    "fig.write_html(pathT+\"\\{}.html\".format(FileName))\n",
    "plt.close()"
   ]
  },
  {
   "cell_type": "code",
   "execution_count": 94,
   "metadata": {},
   "outputs": [
    {
     "name": "stdout",
     "output_type": "stream",
     "text": [
      "     DatabaseName SchemaName     TableName\n",
      "8190        PPROD         PP  STU_SUBT_HST\n"
     ]
    }
   ],
   "source": [
    "d = dfpprod0087[['DatabaseName', 'SchemaName','TableName']]#.format(z)\n",
    "d = d.drop_duplicates()\n",
    "e = d['DatabaseName'].values[0]\n",
    "f = d['SchemaName'].values[0]\n",
    "g = d['TableName'].values[0]\n",
    "print (d)\n",
    "FileName = ('PPROD_{}_{}'.format(f,g))\n",
    "\n",
    "fig = px.scatter(dfpprod0087, x = 'TodaysDate', y='RecordCount', size = 'RecordCount', color = 'RecordCount')#.format(z)\n",
    "fig.update_layout(title = '{0},{1},{2}'.format(e,f,g))\n",
    "fig.update_layout(yaxis_zeroline=False, xaxis_zeroline=False)\n",
    "fig.update_xaxes(title_font=dict(size=18, color='crimson'))\n",
    "fig.update_yaxes(title_font=dict(size=18, color='crimson'))\n",
    "fig.update_xaxes(ticks=\"inside\")\n",
    "fig.update_yaxes(ticks=\"inside\")\n",
    "fig.update_xaxes(tickangle=45, tickfont=dict(color='crimson', size=14))\n",
    "fig.update_xaxes(showline=True, linewidth=2, linecolor='black', mirror=True, gridcolor='Pink')\n",
    "fig.update_yaxes(showline=True, linewidth=2, linecolor='black', mirror=True, gridcolor='Red')\n",
    "#fig.show()\n",
    "fig.write_html(pathT+\"\\{}.html\".format(FileName))\n",
    "plt.close()"
   ]
  },
  {
   "cell_type": "code",
   "execution_count": 95,
   "metadata": {},
   "outputs": [
    {
     "name": "stdout",
     "output_type": "stream",
     "text": [
      "     DatabaseName SchemaName       TableName\n",
      "8424        PPROD         PP  STU_TEST_GUIDE\n"
     ]
    }
   ],
   "source": [
    "d = dfpprod0088[['DatabaseName', 'SchemaName','TableName']]#.format(z)\n",
    "d = d.drop_duplicates()\n",
    "e = d['DatabaseName'].values[0]\n",
    "f = d['SchemaName'].values[0]\n",
    "g = d['TableName'].values[0]\n",
    "print (d)\n",
    "FileName = ('PPROD_{}_{}'.format(f,g))\n",
    "\n",
    "fig = px.scatter(dfpprod0088, x = 'TodaysDate', y='RecordCount', size = 'RecordCount', color = 'RecordCount')#.format(z)\n",
    "fig.update_layout(title = '{0},{1},{2}'.format(e,f,g))\n",
    "fig.update_layout(yaxis_zeroline=False, xaxis_zeroline=False)\n",
    "fig.update_xaxes(title_font=dict(size=18, color='crimson'))\n",
    "fig.update_yaxes(title_font=dict(size=18, color='crimson'))\n",
    "fig.update_xaxes(ticks=\"inside\")\n",
    "fig.update_yaxes(ticks=\"inside\")\n",
    "fig.update_xaxes(tickangle=45, tickfont=dict(color='crimson', size=14))\n",
    "fig.update_xaxes(showline=True, linewidth=2, linecolor='black', mirror=True, gridcolor='Pink')\n",
    "fig.update_yaxes(showline=True, linewidth=2, linecolor='black', mirror=True, gridcolor='Red')\n",
    "#fig.show()\n",
    "fig.write_html(pathT+\"\\{}.html\".format(FileName))\n",
    "plt.close()"
   ]
  },
  {
   "cell_type": "code",
   "execution_count": 96,
   "metadata": {},
   "outputs": [
    {
     "name": "stdout",
     "output_type": "stream",
     "text": [
      "     DatabaseName SchemaName       TableName\n",
      "9360        PPROD         PP  Student_Delete\n"
     ]
    }
   ],
   "source": [
    "d = dfpprod0089[['DatabaseName', 'SchemaName','TableName']]#.format(z)\n",
    "d = d.drop_duplicates()\n",
    "e = d['DatabaseName'].values[0]\n",
    "f = d['SchemaName'].values[0]\n",
    "g = d['TableName'].values[0]\n",
    "print (d)\n",
    "FileName = ('PPROD_{}_{}'.format(f,g))\n",
    "\n",
    "fig = px.scatter(dfpprod0089, x = 'TodaysDate', y='RecordCount', size = 'RecordCount', color = 'RecordCount')#.format(z)\n",
    "fig.update_layout(title = '{0},{1},{2}'.format(e,f,g))\n",
    "fig.update_layout(yaxis_zeroline=False, xaxis_zeroline=False)\n",
    "fig.update_xaxes(title_font=dict(size=18, color='crimson'))\n",
    "fig.update_yaxes(title_font=dict(size=18, color='crimson'))\n",
    "fig.update_xaxes(ticks=\"inside\")\n",
    "fig.update_yaxes(ticks=\"inside\")\n",
    "fig.update_xaxes(tickangle=45, tickfont=dict(color='crimson', size=14))\n",
    "fig.update_xaxes(showline=True, linewidth=2, linecolor='black', mirror=True, gridcolor='Pink')\n",
    "fig.update_yaxes(showline=True, linewidth=2, linecolor='black', mirror=True, gridcolor='Red')\n",
    "#fig.show()\n",
    "fig.write_html(pathT+\"\\{}.html\".format(FileName))\n",
    "plt.close()"
   ]
  },
  {
   "cell_type": "code",
   "execution_count": 97,
   "metadata": {},
   "outputs": [
    {
     "name": "stdout",
     "output_type": "stream",
     "text": [
      "      DatabaseName SchemaName TableName\n",
      "13104        PPROD         PP   stulist\n"
     ]
    }
   ],
   "source": [
    "d = dfpprod0090[['DatabaseName', 'SchemaName','TableName']]#.format(z)\n",
    "d = d.drop_duplicates()\n",
    "e = d['DatabaseName'].values[0]\n",
    "f = d['SchemaName'].values[0]\n",
    "g = d['TableName'].values[0]\n",
    "print (d)\n",
    "FileName = ('PPROD_{}_{}'.format(f,g))\n",
    "\n",
    "fig = px.scatter(dfpprod0090, x = 'TodaysDate', y='RecordCount', size = 'RecordCount', color = 'RecordCount')#.format(z)\n",
    "fig.update_layout(title = '{0},{1},{2}'.format(e,f,g))\n",
    "fig.update_layout(yaxis_zeroline=False, xaxis_zeroline=False)\n",
    "fig.update_xaxes(title_font=dict(size=18, color='crimson'))\n",
    "fig.update_yaxes(title_font=dict(size=18, color='crimson'))\n",
    "fig.update_xaxes(ticks=\"inside\")\n",
    "fig.update_yaxes(ticks=\"inside\")\n",
    "fig.update_xaxes(tickangle=45, tickfont=dict(color='crimson', size=14))\n",
    "fig.update_xaxes(showline=True, linewidth=2, linecolor='black', mirror=True, gridcolor='Pink')\n",
    "fig.update_yaxes(showline=True, linewidth=2, linecolor='black', mirror=True, gridcolor='Red')\n",
    "#fig.show()\n",
    "fig.write_html(pathT+\"\\{}.html\".format(FileName))\n",
    "plt.close()"
   ]
  },
  {
   "cell_type": "code",
   "execution_count": 98,
   "metadata": {},
   "outputs": [
    {
     "name": "stdout",
     "output_type": "stream",
     "text": [
      "      DatabaseName SchemaName       TableName\n",
      "13338        PPROD         PP  survey_headers\n"
     ]
    }
   ],
   "source": [
    "d = dfpprod0091[['DatabaseName', 'SchemaName','TableName']]#.format(z)\n",
    "d = d.drop_duplicates()\n",
    "e = d['DatabaseName'].values[0]\n",
    "f = d['SchemaName'].values[0]\n",
    "g = d['TableName'].values[0]\n",
    "print (d)\n",
    "FileName = ('PPROD_{}_{}'.format(f,g))\n",
    "\n",
    "fig = px.scatter(dfpprod0091, x = 'TodaysDate', y='RecordCount', size = 'RecordCount', color = 'RecordCount')#.format(z)\n",
    "fig.update_layout(title = '{0},{1},{2}'.format(e,f,g))\n",
    "fig.update_layout(yaxis_zeroline=False, xaxis_zeroline=False)\n",
    "fig.update_xaxes(title_font=dict(size=18, color='crimson'))\n",
    "fig.update_yaxes(title_font=dict(size=18, color='crimson'))\n",
    "fig.update_xaxes(ticks=\"inside\")\n",
    "fig.update_yaxes(ticks=\"inside\")\n",
    "fig.update_xaxes(tickangle=45, tickfont=dict(color='crimson', size=14))\n",
    "fig.update_xaxes(showline=True, linewidth=2, linecolor='black', mirror=True, gridcolor='Pink')\n",
    "fig.update_yaxes(showline=True, linewidth=2, linecolor='black', mirror=True, gridcolor='Red')\n",
    "#fig.show()\n",
    "fig.write_html(pathT+\"\\{}.html\".format(FileName))\n",
    "plt.close()"
   ]
  },
  {
   "cell_type": "code",
   "execution_count": 99,
   "metadata": {},
   "outputs": [
    {
     "name": "stdout",
     "output_type": "stream",
     "text": [
      "      DatabaseName SchemaName       TableName\n",
      "13572        PPROD         PP  survey_options\n"
     ]
    }
   ],
   "source": [
    "d = dfpprod0092[['DatabaseName', 'SchemaName','TableName']]#.format(z)\n",
    "d = d.drop_duplicates()\n",
    "e = d['DatabaseName'].values[0]\n",
    "f = d['SchemaName'].values[0]\n",
    "g = d['TableName'].values[0]\n",
    "print (d)\n",
    "FileName = ('PPROD_{}_{}'.format(f,g))\n",
    "\n",
    "fig = px.scatter(dfpprod0092, x = 'TodaysDate', y='RecordCount', size = 'RecordCount', color = 'RecordCount')#.format(z)\n",
    "fig.update_layout(title = '{0},{1},{2}'.format(e,f,g))\n",
    "fig.update_layout(yaxis_zeroline=False, xaxis_zeroline=False)\n",
    "fig.update_xaxes(title_font=dict(size=18, color='crimson'))\n",
    "fig.update_yaxes(title_font=dict(size=18, color='crimson'))\n",
    "fig.update_xaxes(ticks=\"inside\")\n",
    "fig.update_yaxes(ticks=\"inside\")\n",
    "fig.update_xaxes(tickangle=45, tickfont=dict(color='crimson', size=14))\n",
    "fig.update_xaxes(showline=True, linewidth=2, linecolor='black', mirror=True, gridcolor='Pink')\n",
    "fig.update_yaxes(showline=True, linewidth=2, linecolor='black', mirror=True, gridcolor='Red')\n",
    "#fig.show()\n",
    "fig.write_html(pathT+\"\\{}.html\".format(FileName))\n",
    "plt.close()"
   ]
  },
  {
   "cell_type": "code",
   "execution_count": 100,
   "metadata": {},
   "outputs": [
    {
     "name": "stdout",
     "output_type": "stream",
     "text": [
      "      DatabaseName SchemaName              TableName\n",
      "13689        PPROD         PP  survey_question_types\n"
     ]
    }
   ],
   "source": [
    "d = dfpprod0093[['DatabaseName', 'SchemaName','TableName']]#.format(z)\n",
    "d = d.drop_duplicates()\n",
    "e = d['DatabaseName'].values[0]\n",
    "f = d['SchemaName'].values[0]\n",
    "g = d['TableName'].values[0]\n",
    "print (d)\n",
    "FileName = ('PPROD_{}_{}'.format(f,g))\n",
    "\n",
    "fig = px.scatter(dfpprod0093, x = 'TodaysDate', y='RecordCount', size = 'RecordCount', color = 'RecordCount')#.format(z)\n",
    "fig.update_layout(title = '{0},{1},{2}'.format(e,f,g))\n",
    "fig.update_layout(yaxis_zeroline=False, xaxis_zeroline=False)\n",
    "fig.update_xaxes(title_font=dict(size=18, color='crimson'))\n",
    "fig.update_yaxes(title_font=dict(size=18, color='crimson'))\n",
    "fig.update_xaxes(ticks=\"inside\")\n",
    "fig.update_yaxes(ticks=\"inside\")\n",
    "fig.update_xaxes(tickangle=45, tickfont=dict(color='crimson', size=14))\n",
    "fig.update_xaxes(showline=True, linewidth=2, linecolor='black', mirror=True, gridcolor='Pink')\n",
    "fig.update_yaxes(showline=True, linewidth=2, linecolor='black', mirror=True, gridcolor='Red')\n",
    "#fig.show()\n",
    "fig.write_html(pathT+\"\\{}.html\".format(FileName))\n",
    "plt.close()"
   ]
  },
  {
   "cell_type": "code",
   "execution_count": 101,
   "metadata": {},
   "outputs": [
    {
     "name": "stdout",
     "output_type": "stream",
     "text": [
      "      DatabaseName SchemaName         TableName\n",
      "13806        PPROD         PP  survey_questions\n"
     ]
    }
   ],
   "source": [
    "d = dfpprod0094[['DatabaseName', 'SchemaName','TableName']]#.format(z)\n",
    "d = d.drop_duplicates()\n",
    "e = d['DatabaseName'].values[0]\n",
    "f = d['SchemaName'].values[0]\n",
    "g = d['TableName'].values[0]\n",
    "print (d)\n",
    "FileName = ('PPROD_{}_{}'.format(f,g))\n",
    "\n",
    "fig = px.scatter(dfpprod0094, x = 'TodaysDate', y='RecordCount', size = 'RecordCount', color = 'RecordCount')#.format(z)\n",
    "fig.update_layout(title = '{0},{1},{2}'.format(e,f,g))\n",
    "fig.update_layout(yaxis_zeroline=False, xaxis_zeroline=False)\n",
    "fig.update_xaxes(title_font=dict(size=18, color='crimson'))\n",
    "fig.update_yaxes(title_font=dict(size=18, color='crimson'))\n",
    "fig.update_xaxes(ticks=\"inside\")\n",
    "fig.update_yaxes(ticks=\"inside\")\n",
    "fig.update_xaxes(tickangle=45, tickfont=dict(color='crimson', size=14))\n",
    "fig.update_xaxes(showline=True, linewidth=2, linecolor='black', mirror=True, gridcolor='Pink')\n",
    "fig.update_yaxes(showline=True, linewidth=2, linecolor='black', mirror=True, gridcolor='Red')\n",
    "#fig.show()\n",
    "fig.write_html(pathT+\"\\{}.html\".format(FileName))\n",
    "plt.close()"
   ]
  },
  {
   "cell_type": "code",
   "execution_count": 102,
   "metadata": {},
   "outputs": [
    {
     "name": "stdout",
     "output_type": "stream",
     "text": [
      "      DatabaseName SchemaName         TableName\n",
      "14040        PPROD         PP  survey_responses\n"
     ]
    }
   ],
   "source": [
    "d = dfpprod0095[['DatabaseName', 'SchemaName','TableName']]#.format(z)\n",
    "d = d.drop_duplicates()\n",
    "e = d['DatabaseName'].values[0]\n",
    "f = d['SchemaName'].values[0]\n",
    "g = d['TableName'].values[0]\n",
    "print (d)\n",
    "FileName = ('PPROD_{}_{}'.format(f,g))\n",
    "\n",
    "fig = px.scatter(dfpprod0095, x = 'TodaysDate', y='RecordCount', size = 'RecordCount', color = 'RecordCount')#.format(z)\n",
    "fig.update_layout(title = '{0},{1},{2}'.format(e,f,g))\n",
    "fig.update_layout(yaxis_zeroline=False, xaxis_zeroline=False)\n",
    "fig.update_xaxes(title_font=dict(size=18, color='crimson'))\n",
    "fig.update_yaxes(title_font=dict(size=18, color='crimson'))\n",
    "fig.update_xaxes(ticks=\"inside\")\n",
    "fig.update_yaxes(ticks=\"inside\")\n",
    "fig.update_xaxes(tickangle=45, tickfont=dict(color='crimson', size=14))\n",
    "fig.update_xaxes(showline=True, linewidth=2, linecolor='black', mirror=True, gridcolor='Pink')\n",
    "fig.update_yaxes(showline=True, linewidth=2, linecolor='black', mirror=True, gridcolor='Red')\n",
    "#fig.show()\n",
    "fig.write_html(pathT+\"\\{}.html\".format(FileName))\n",
    "plt.close()"
   ]
  },
  {
   "cell_type": "code",
   "execution_count": 103,
   "metadata": {},
   "outputs": [
    {
     "name": "stdout",
     "output_type": "stream",
     "text": [
      "     DatabaseName SchemaName       TableName\n",
      "8775        PPROD         PP  SYS_ACCESS_LOG\n"
     ]
    }
   ],
   "source": [
    "d = dfpprod0096[['DatabaseName', 'SchemaName','TableName']]#.format(z)\n",
    "d = d.drop_duplicates()\n",
    "e = d['DatabaseName'].values[0]\n",
    "f = d['SchemaName'].values[0]\n",
    "g = d['TableName'].values[0]\n",
    "print (d)\n",
    "FileName = ('PPROD_{}_{}'.format(f,g))\n",
    "\n",
    "fig = px.scatter(dfpprod0096, x = 'TodaysDate', y='RecordCount', size = 'RecordCount', color = 'RecordCount')#.format(z)\n",
    "fig.update_layout(title = '{0},{1},{2}'.format(e,f,g))\n",
    "fig.update_layout(yaxis_zeroline=False, xaxis_zeroline=False)\n",
    "fig.update_xaxes(title_font=dict(size=18, color='crimson'))\n",
    "fig.update_yaxes(title_font=dict(size=18, color='crimson'))\n",
    "fig.update_xaxes(ticks=\"inside\")\n",
    "fig.update_yaxes(ticks=\"inside\")\n",
    "fig.update_xaxes(tickangle=45, tickfont=dict(color='crimson', size=14))\n",
    "fig.update_xaxes(showline=True, linewidth=2, linecolor='black', mirror=True, gridcolor='Pink')\n",
    "fig.update_yaxes(showline=True, linewidth=2, linecolor='black', mirror=True, gridcolor='Red')\n",
    "#fig.show()\n",
    "fig.write_html(pathT+\"\\{}.html\".format(FileName))\n",
    "plt.close()"
   ]
  },
  {
   "cell_type": "code",
   "execution_count": 104,
   "metadata": {},
   "outputs": [
    {
     "name": "stdout",
     "output_type": "stream",
     "text": [
      "     DatabaseName SchemaName              TableName\n",
      "8892        PPROD         PP  SYS_ACCESS_LOG_BACKUP\n"
     ]
    }
   ],
   "source": [
    "d = dfpprod0097[['DatabaseName', 'SchemaName','TableName']]#.format(z)\n",
    "d = d.drop_duplicates()\n",
    "e = d['DatabaseName'].values[0]\n",
    "f = d['SchemaName'].values[0]\n",
    "g = d['TableName'].values[0]\n",
    "print (d)\n",
    "FileName = ('PPROD_{}_{}'.format(f,g))\n",
    "\n",
    "fig = px.scatter(dfpprod0097, x = 'TodaysDate', y='RecordCount', size = 'RecordCount', color = 'RecordCount')#.format(z)\n",
    "fig.update_layout(title = '{0},{1},{2}'.format(e,f,g))\n",
    "fig.update_layout(yaxis_zeroline=False, xaxis_zeroline=False)\n",
    "fig.update_xaxes(title_font=dict(size=18, color='crimson'))\n",
    "fig.update_yaxes(title_font=dict(size=18, color='crimson'))\n",
    "fig.update_xaxes(ticks=\"inside\")\n",
    "fig.update_yaxes(ticks=\"inside\")\n",
    "fig.update_xaxes(tickangle=45, tickfont=dict(color='crimson', size=14))\n",
    "fig.update_xaxes(showline=True, linewidth=2, linecolor='black', mirror=True, gridcolor='Pink')\n",
    "fig.update_yaxes(showline=True, linewidth=2, linecolor='black', mirror=True, gridcolor='Red')\n",
    "#fig.show()\n",
    "fig.write_html(pathT+\"\\{}.html\".format(FileName))\n",
    "plt.close()"
   ]
  },
  {
   "cell_type": "code",
   "execution_count": 105,
   "metadata": {},
   "outputs": [
    {
     "name": "stdout",
     "output_type": "stream",
     "text": [
      "     DatabaseName SchemaName           TableName\n",
      "9009        PPROD         PP  SYS_ACCESS_LOG_MAX\n"
     ]
    }
   ],
   "source": [
    "d = dfpprod0098[['DatabaseName', 'SchemaName','TableName']]#.format(z)\n",
    "d = d.drop_duplicates()\n",
    "e = d['DatabaseName'].values[0]\n",
    "f = d['SchemaName'].values[0]\n",
    "g = d['TableName'].values[0]\n",
    "print (d)\n",
    "FileName = ('PPROD_{}_{}'.format(f,g))\n",
    "\n",
    "fig = px.scatter(dfpprod0098, x = 'TodaysDate', y='RecordCount', size = 'RecordCount', color = 'RecordCount')#.format(z)\n",
    "fig.update_layout(title = '{0},{1},{2}'.format(e,f,g))\n",
    "fig.update_layout(yaxis_zeroline=False, xaxis_zeroline=False)\n",
    "fig.update_xaxes(title_font=dict(size=18, color='crimson'))\n",
    "fig.update_yaxes(title_font=dict(size=18, color='crimson'))\n",
    "fig.update_xaxes(ticks=\"inside\")\n",
    "fig.update_yaxes(ticks=\"inside\")\n",
    "fig.update_xaxes(tickangle=45, tickfont=dict(color='crimson', size=14))\n",
    "fig.update_xaxes(showline=True, linewidth=2, linecolor='black', mirror=True, gridcolor='Pink')\n",
    "fig.update_yaxes(showline=True, linewidth=2, linecolor='black', mirror=True, gridcolor='Red')\n",
    "#fig.show()\n",
    "fig.write_html(pathT+\"\\{}.html\".format(FileName))\n",
    "plt.close()"
   ]
  },
  {
   "cell_type": "code",
   "execution_count": 106,
   "metadata": {},
   "outputs": [
    {
     "name": "stdout",
     "output_type": "stream",
     "text": [
      "     DatabaseName SchemaName TableName\n",
      "9594        PPROD         PP  Tchr_Stu\n"
     ]
    }
   ],
   "source": [
    "d = dfpprod0099[['DatabaseName', 'SchemaName','TableName']]#.format(z)\n",
    "d = d.drop_duplicates()\n",
    "e = d['DatabaseName'].values[0]\n",
    "f = d['SchemaName'].values[0]\n",
    "g = d['TableName'].values[0]\n",
    "print (d)\n",
    "FileName = ('PPROD_{}_{}'.format(f,g))\n",
    "\n",
    "fig = px.scatter(dfpprod0099, x = 'TodaysDate', y='RecordCount', size = 'RecordCount', color = 'RecordCount')#.format(z)\n",
    "fig.update_layout(title = '{0},{1},{2}'.format(e,f,g))\n",
    "fig.update_layout(yaxis_zeroline=False, xaxis_zeroline=False)\n",
    "fig.update_xaxes(title_font=dict(size=18, color='crimson'))\n",
    "fig.update_yaxes(title_font=dict(size=18, color='crimson'))\n",
    "fig.update_xaxes(ticks=\"inside\")\n",
    "fig.update_yaxes(ticks=\"inside\")\n",
    "fig.update_xaxes(tickangle=45, tickfont=dict(color='crimson', size=14))\n",
    "fig.update_xaxes(showline=True, linewidth=2, linecolor='black', mirror=True, gridcolor='Pink')\n",
    "fig.update_yaxes(showline=True, linewidth=2, linecolor='black', mirror=True, gridcolor='Red')\n",
    "#fig.show()\n",
    "fig.write_html(pathT+\"\\{}.html\".format(FileName))\n",
    "plt.close()"
   ]
  },
  {
   "cell_type": "code",
   "execution_count": 107,
   "metadata": {},
   "outputs": [
    {
     "name": "stdout",
     "output_type": "stream",
     "text": [
      "     DatabaseName SchemaName TableName\n",
      "9711        PPROD         PP  User_Stu\n"
     ]
    }
   ],
   "source": [
    "d = dfpprod0100[['DatabaseName', 'SchemaName','TableName']]#.format(z)\n",
    "d = d.drop_duplicates()\n",
    "e = d['DatabaseName'].values[0]\n",
    "f = d['SchemaName'].values[0]\n",
    "g = d['TableName'].values[0]\n",
    "print (d)\n",
    "FileName = ('PPROD_{}_{}'.format(f,g))\n",
    "\n",
    "fig = px.scatter(dfpprod0100, x = 'TodaysDate', y='RecordCount', size = 'RecordCount', color = 'RecordCount')#.format(z)\n",
    "fig.update_layout(title = '{0},{1},{2}'.format(e,f,g))\n",
    "fig.update_layout(yaxis_zeroline=False, xaxis_zeroline=False)\n",
    "fig.update_xaxes(title_font=dict(size=18, color='crimson'))\n",
    "fig.update_yaxes(title_font=dict(size=18, color='crimson'))\n",
    "fig.update_xaxes(ticks=\"inside\")\n",
    "fig.update_yaxes(ticks=\"inside\")\n",
    "fig.update_xaxes(tickangle=45, tickfont=dict(color='crimson', size=14))\n",
    "fig.update_xaxes(showline=True, linewidth=2, linecolor='black', mirror=True, gridcolor='Pink')\n",
    "fig.update_yaxes(showline=True, linewidth=2, linecolor='black', mirror=True, gridcolor='Red')\n",
    "#fig.show()\n",
    "fig.write_html(pathT+\"\\{}.html\".format(FileName))\n",
    "plt.close()"
   ]
  },
  {
   "cell_type": "code",
   "execution_count": 108,
   "metadata": {},
   "outputs": [
    {
     "name": "stdout",
     "output_type": "stream",
     "text": [
      "     DatabaseName SchemaName    TableName\n",
      "8541        PPROD      PPETL  SUBT_NM_MAP\n"
     ]
    }
   ],
   "source": [
    "d = dfpprod0101[['DatabaseName', 'SchemaName','TableName']]#.format(z)\n",
    "d = d.drop_duplicates()\n",
    "e = d['DatabaseName'].values[0]\n",
    "f = d['SchemaName'].values[0]\n",
    "g = d['TableName'].values[0]\n",
    "print (d)\n",
    "FileName = ('PPROD_{}_{}'.format(f,g))\n",
    "\n",
    "fig = px.scatter(dfpprod0101, x = 'TodaysDate', y='RecordCount', size = 'RecordCount', color = 'RecordCount')#.format(z)\n",
    "fig.update_layout(title = '{0},{1},{2}'.format(e,f,g))\n",
    "fig.update_layout(yaxis_zeroline=False, xaxis_zeroline=False)\n",
    "fig.update_xaxes(title_font=dict(size=18, color='crimson'))\n",
    "fig.update_yaxes(title_font=dict(size=18, color='crimson'))\n",
    "fig.update_xaxes(ticks=\"inside\")\n",
    "fig.update_yaxes(ticks=\"inside\")\n",
    "fig.update_xaxes(tickangle=45, tickfont=dict(color='crimson', size=14))\n",
    "fig.update_xaxes(showline=True, linewidth=2, linecolor='black', mirror=True, gridcolor='Pink')\n",
    "fig.update_yaxes(showline=True, linewidth=2, linecolor='black', mirror=True, gridcolor='Red')\n",
    "#fig.show()\n",
    "fig.write_html(pathT+\"\\{}.html\".format(FileName))\n",
    "plt.close()"
   ]
  },
  {
   "cell_type": "code",
   "execution_count": 109,
   "metadata": {},
   "outputs": [
    {
     "name": "stdout",
     "output_type": "stream",
     "text": [
      "     DatabaseName SchemaName         TableName\n",
      "8658        PPROD      PPETL  SUBT_NM_MAP_BKUP\n"
     ]
    }
   ],
   "source": [
    "d = dfpprod0102[['DatabaseName', 'SchemaName','TableName']]#.format(z)\n",
    "d = d.drop_duplicates()\n",
    "e = d['DatabaseName'].values[0]\n",
    "f = d['SchemaName'].values[0]\n",
    "g = d['TableName'].values[0]\n",
    "print (d)\n",
    "FileName = ('PPROD_{}_{}'.format(f,g))\n",
    "\n",
    "fig = px.scatter(dfpprod0102, x = 'TodaysDate', y='RecordCount', size = 'RecordCount', color = 'RecordCount')#.format(z)\n",
    "fig.update_layout(title = '{0},{1},{2}'.format(e,f,g))\n",
    "fig.update_layout(yaxis_zeroline=False, xaxis_zeroline=False)\n",
    "fig.update_xaxes(title_font=dict(size=18, color='crimson'))\n",
    "fig.update_yaxes(title_font=dict(size=18, color='crimson'))\n",
    "fig.update_xaxes(ticks=\"inside\")\n",
    "fig.update_yaxes(ticks=\"inside\")\n",
    "fig.update_xaxes(tickangle=45, tickfont=dict(color='crimson', size=14))\n",
    "fig.update_xaxes(showline=True, linewidth=2, linecolor='black', mirror=True, gridcolor='Pink')\n",
    "fig.update_yaxes(showline=True, linewidth=2, linecolor='black', mirror=True, gridcolor='Red')\n",
    "#fig.show()\n",
    "fig.write_html(pathT+\"\\{}.html\".format(FileName))\n",
    "plt.close()"
   ]
  },
  {
   "cell_type": "code",
   "execution_count": 110,
   "metadata": {},
   "outputs": [
    {
     "name": "stdout",
     "output_type": "stream",
     "text": [
      "     DatabaseName SchemaName           TableName\n",
      "9828        PPROD      PPETL  Work_Stu_CURR_SCHD\n"
     ]
    }
   ],
   "source": [
    "d = dfpprod0103[['DatabaseName', 'SchemaName','TableName']]#.format(z)\n",
    "d = d.drop_duplicates()\n",
    "e = d['DatabaseName'].values[0]\n",
    "f = d['SchemaName'].values[0]\n",
    "g = d['TableName'].values[0]\n",
    "print (d)\n",
    "FileName = ('PPROD_{}_{}'.format(f,g))\n",
    "\n",
    "fig = px.scatter(dfpprod0103, x = 'TodaysDate', y='RecordCount', size = 'RecordCount', color = 'RecordCount')#.format(z)\n",
    "fig.update_layout(title = '{0},{1},{2}'.format(e,f,g))\n",
    "fig.update_layout(yaxis_zeroline=False, xaxis_zeroline=False)\n",
    "fig.update_xaxes(title_font=dict(size=18, color='crimson'))\n",
    "fig.update_yaxes(title_font=dict(size=18, color='crimson'))\n",
    "fig.update_xaxes(ticks=\"inside\")\n",
    "fig.update_yaxes(ticks=\"inside\")\n",
    "fig.update_xaxes(tickangle=45, tickfont=dict(color='crimson', size=14))\n",
    "fig.update_xaxes(showline=True, linewidth=2, linecolor='black', mirror=True, gridcolor='Pink')\n",
    "fig.update_yaxes(showline=True, linewidth=2, linecolor='black', mirror=True, gridcolor='Red')\n",
    "#fig.show()\n",
    "fig.write_html(pathT+\"\\{}.html\".format(FileName))\n",
    "plt.close()"
   ]
  },
  {
   "cell_type": "code",
   "execution_count": 111,
   "metadata": {},
   "outputs": [
    {
     "name": "stdout",
     "output_type": "stream",
     "text": [
      "    DatabaseName SchemaName TableName\n",
      "234        PPROD     PPGEMS  CALENDAR\n"
     ]
    }
   ],
   "source": [
    "d = dfpprod0104[['DatabaseName', 'SchemaName','TableName']]#.format(z)\n",
    "d = d.drop_duplicates()\n",
    "e = d['DatabaseName'].values[0]\n",
    "f = d['SchemaName'].values[0]\n",
    "g = d['TableName'].values[0]\n",
    "print (d)\n",
    "FileName = ('PPROD_{}_{}'.format(f,g))\n",
    "\n",
    "fig = px.scatter(dfpprod0104, x = 'TodaysDate', y='RecordCount', size = 'RecordCount', color = 'RecordCount')#.format(z)\n",
    "fig.update_layout(title = '{0},{1},{2}'.format(e,f,g))\n",
    "fig.update_layout(yaxis_zeroline=False, xaxis_zeroline=False)\n",
    "fig.update_xaxes(title_font=dict(size=18, color='crimson'))\n",
    "fig.update_yaxes(title_font=dict(size=18, color='crimson'))\n",
    "fig.update_xaxes(ticks=\"inside\")\n",
    "fig.update_yaxes(ticks=\"inside\")\n",
    "fig.update_xaxes(tickangle=45, tickfont=dict(color='crimson', size=14))\n",
    "fig.update_xaxes(showline=True, linewidth=2, linecolor='black', mirror=True, gridcolor='Pink')\n",
    "fig.update_yaxes(showline=True, linewidth=2, linecolor='black', mirror=True, gridcolor='Red')\n",
    "#fig.show()\n",
    "fig.write_html(pathT+\"\\{}.html\".format(FileName))\n",
    "plt.close()"
   ]
  },
  {
   "cell_type": "code",
   "execution_count": 112,
   "metadata": {},
   "outputs": [
    {
     "name": "stdout",
     "output_type": "stream",
     "text": [
      "     DatabaseName SchemaName TableName\n",
      "4329        PPROD     PPGEMS  Register\n"
     ]
    }
   ],
   "source": [
    "d = dfpprod0105[['DatabaseName', 'SchemaName','TableName']]#.format(z)\n",
    "d = d.drop_duplicates()\n",
    "e = d['DatabaseName'].values[0]\n",
    "f = d['SchemaName'].values[0]\n",
    "g = d['TableName'].values[0]\n",
    "print (d)\n",
    "FileName = ('PPROD_{}_{}'.format(f,g))\n",
    "\n",
    "fig = px.scatter(dfpprod0105, x = 'TodaysDate', y='RecordCount', size = 'RecordCount', color = 'RecordCount')#.format(z)\n",
    "fig.update_layout(title = '{0},{1},{2}'.format(e,f,g))\n",
    "fig.update_layout(yaxis_zeroline=False, xaxis_zeroline=False)\n",
    "fig.update_xaxes(title_font=dict(size=18, color='crimson'))\n",
    "fig.update_yaxes(title_font=dict(size=18, color='crimson'))\n",
    "fig.update_xaxes(ticks=\"inside\")\n",
    "fig.update_yaxes(ticks=\"inside\")\n",
    "fig.update_xaxes(tickangle=45, tickfont=dict(color='crimson', size=14))\n",
    "fig.update_xaxes(showline=True, linewidth=2, linecolor='black', mirror=True, gridcolor='Pink')\n",
    "fig.update_yaxes(showline=True, linewidth=2, linecolor='black', mirror=True, gridcolor='Red')\n",
    "#fig.show()\n",
    "fig.write_html(pathT+\"\\{}.html\".format(FileName))\n",
    "plt.close()"
   ]
  },
  {
   "cell_type": "code",
   "execution_count": 113,
   "metadata": {},
   "outputs": [
    {
     "name": "stdout",
     "output_type": "stream",
     "text": [
      "     DatabaseName SchemaName TableName\n",
      "9945        PPROD      PPREF   abs_ref\n"
     ]
    }
   ],
   "source": [
    "d = dfpprod0106[['DatabaseName', 'SchemaName','TableName']]#.format(z)\n",
    "d = d.drop_duplicates()\n",
    "e = d['DatabaseName'].values[0]\n",
    "f = d['SchemaName'].values[0]\n",
    "g = d['TableName'].values[0]\n",
    "print (d)\n",
    "FileName = ('PPROD_{}_{}'.format(f,g))\n",
    "\n",
    "fig = px.scatter(dfpprod0106, x = 'TodaysDate', y='RecordCount', size = 'RecordCount', color = 'RecordCount')#.format(z)\n",
    "fig.update_layout(title = '{0},{1},{2}'.format(e,f,g))\n",
    "fig.update_layout(yaxis_zeroline=False, xaxis_zeroline=False)\n",
    "fig.update_xaxes(title_font=dict(size=18, color='crimson'))\n",
    "fig.update_yaxes(title_font=dict(size=18, color='crimson'))\n",
    "fig.update_xaxes(ticks=\"inside\")\n",
    "fig.update_yaxes(ticks=\"inside\")\n",
    "fig.update_xaxes(tickangle=45, tickfont=dict(color='crimson', size=14))\n",
    "fig.update_xaxes(showline=True, linewidth=2, linecolor='black', mirror=True, gridcolor='Pink')\n",
    "fig.update_yaxes(showline=True, linewidth=2, linecolor='black', mirror=True, gridcolor='Red')\n",
    "#fig.show()\n",
    "fig.write_html(pathT+\"\\{}.html\".format(FileName))\n",
    "plt.close()"
   ]
  },
  {
   "cell_type": "code",
   "execution_count": 114,
   "metadata": {},
   "outputs": [
    {
     "name": "stdout",
     "output_type": "stream",
     "text": [
      "    DatabaseName SchemaName   TableName\n",
      "117        PPROD      PPREF  Admin_User\n"
     ]
    }
   ],
   "source": [
    "d = dfpprod0107[['DatabaseName', 'SchemaName','TableName']]#.format(z)\n",
    "d = d.drop_duplicates()\n",
    "e = d['DatabaseName'].values[0]\n",
    "f = d['SchemaName'].values[0]\n",
    "g = d['TableName'].values[0]\n",
    "print (d)\n",
    "FileName = ('PPROD_{}_{}'.format(f,g))\n",
    "\n",
    "fig = px.scatter(dfpprod0107, x = 'TodaysDate', y='RecordCount', size = 'RecordCount', color = 'RecordCount')#.format(z)\n",
    "fig.update_layout(title = '{0},{1},{2}'.format(e,f,g))\n",
    "fig.update_layout(yaxis_zeroline=False, xaxis_zeroline=False)\n",
    "fig.update_xaxes(title_font=dict(size=18, color='crimson'))\n",
    "fig.update_yaxes(title_font=dict(size=18, color='crimson'))\n",
    "fig.update_xaxes(ticks=\"inside\")\n",
    "fig.update_yaxes(ticks=\"inside\")\n",
    "fig.update_xaxes(tickangle=45, tickfont=dict(color='crimson', size=14))\n",
    "fig.update_xaxes(showline=True, linewidth=2, linecolor='black', mirror=True, gridcolor='Pink')\n",
    "fig.update_yaxes(showline=True, linewidth=2, linecolor='black', mirror=True, gridcolor='Red')\n",
    "#fig.show()\n",
    "fig.write_html(pathT+\"\\{}.html\".format(FileName))\n",
    "plt.close()"
   ]
  },
  {
   "cell_type": "code",
   "execution_count": 115,
   "metadata": {},
   "outputs": [
    {
     "name": "stdout",
     "output_type": "stream",
     "text": [
      "    DatabaseName SchemaName     TableName\n",
      "351        PPROD      PPREF  CRS_SUBJ_REF\n"
     ]
    }
   ],
   "source": [
    "d = dfpprod0108[['DatabaseName', 'SchemaName','TableName']]#.format(z)\n",
    "d = d.drop_duplicates()\n",
    "e = d['DatabaseName'].values[0]\n",
    "f = d['SchemaName'].values[0]\n",
    "g = d['TableName'].values[0]\n",
    "print (d)\n",
    "FileName = ('PPROD_{}_{}'.format(f,g))\n",
    "\n",
    "fig = px.scatter(dfpprod0108, x = 'TodaysDate', y='RecordCount', size = 'RecordCount', color = 'RecordCount')#.format(z)\n",
    "fig.update_layout(title = '{0},{1},{2}'.format(e,f,g))\n",
    "fig.update_layout(yaxis_zeroline=False, xaxis_zeroline=False)\n",
    "fig.update_xaxes(title_font=dict(size=18, color='crimson'))\n",
    "fig.update_yaxes(title_font=dict(size=18, color='crimson'))\n",
    "fig.update_xaxes(ticks=\"inside\")\n",
    "fig.update_yaxes(ticks=\"inside\")\n",
    "fig.update_xaxes(tickangle=45, tickfont=dict(color='crimson', size=14))\n",
    "fig.update_xaxes(showline=True, linewidth=2, linecolor='black', mirror=True, gridcolor='Pink')\n",
    "fig.update_yaxes(showline=True, linewidth=2, linecolor='black', mirror=True, gridcolor='Red')\n",
    "#fig.show()\n",
    "fig.write_html(pathT+\"\\{}.html\".format(FileName))\n",
    "plt.close()"
   ]
  },
  {
   "cell_type": "code",
   "execution_count": 116,
   "metadata": {},
   "outputs": [
    {
     "name": "stdout",
     "output_type": "stream",
     "text": [
      "    DatabaseName SchemaName    TableName\n",
      "819        PPROD      PPREF  D2L_SCHOOLS\n"
     ]
    }
   ],
   "source": [
    "d = dfpprod0109[['DatabaseName', 'SchemaName','TableName']]#.format(z)\n",
    "d = d.drop_duplicates()\n",
    "e = d['DatabaseName'].values[0]\n",
    "f = d['SchemaName'].values[0]\n",
    "g = d['TableName'].values[0]\n",
    "print (d)\n",
    "FileName = ('PPROD_{}_{}'.format(f,g))\n",
    "\n",
    "fig = px.scatter(dfpprod0109, x = 'TodaysDate', y='RecordCount', size = 'RecordCount', color = 'RecordCount')#.format(z)\n",
    "fig.update_layout(title = '{0},{1},{2}'.format(e,f,g))\n",
    "fig.update_layout(yaxis_zeroline=False, xaxis_zeroline=False)\n",
    "fig.update_xaxes(title_font=dict(size=18, color='crimson'))\n",
    "fig.update_yaxes(title_font=dict(size=18, color='crimson'))\n",
    "fig.update_xaxes(ticks=\"inside\")\n",
    "fig.update_yaxes(ticks=\"inside\")\n",
    "fig.update_xaxes(tickangle=45, tickfont=dict(color='crimson', size=14))\n",
    "fig.update_xaxes(showline=True, linewidth=2, linecolor='black', mirror=True, gridcolor='Pink')\n",
    "fig.update_yaxes(showline=True, linewidth=2, linecolor='black', mirror=True, gridcolor='Red')\n",
    "#fig.show()\n",
    "fig.write_html(pathT+\"\\{}.html\".format(FileName))\n",
    "plt.close()"
   ]
  },
  {
   "cell_type": "code",
   "execution_count": 117,
   "metadata": {},
   "outputs": [
    {
     "name": "stdout",
     "output_type": "stream",
     "text": [
      "    DatabaseName SchemaName      TableName\n",
      "936        PPROD      PPREF  DSCP_BHVR_REF\n"
     ]
    }
   ],
   "source": [
    "d = dfpprod0110[['DatabaseName', 'SchemaName','TableName']]#.format(z)\n",
    "d = d.drop_duplicates()\n",
    "e = d['DatabaseName'].values[0]\n",
    "f = d['SchemaName'].values[0]\n",
    "g = d['TableName'].values[0]\n",
    "print (d)\n",
    "FileName = ('PPROD_{}_{}'.format(f,g))\n",
    "\n",
    "fig = px.scatter(dfpprod0110, x = 'TodaysDate', y='RecordCount', size = 'RecordCount', color = 'RecordCount')#.format(z)\n",
    "fig.update_layout(title = '{0},{1},{2}'.format(e,f,g))\n",
    "fig.update_layout(yaxis_zeroline=False, xaxis_zeroline=False)\n",
    "fig.update_xaxes(title_font=dict(size=18, color='crimson'))\n",
    "fig.update_yaxes(title_font=dict(size=18, color='crimson'))\n",
    "fig.update_xaxes(ticks=\"inside\")\n",
    "fig.update_yaxes(ticks=\"inside\")\n",
    "fig.update_xaxes(tickangle=45, tickfont=dict(color='crimson', size=14))\n",
    "fig.update_xaxes(showline=True, linewidth=2, linecolor='black', mirror=True, gridcolor='Pink')\n",
    "fig.update_yaxes(showline=True, linewidth=2, linecolor='black', mirror=True, gridcolor='Red')\n",
    "#fig.show()\n",
    "fig.write_html(pathT+\"\\{}.html\".format(FileName))\n",
    "plt.close()"
   ]
  },
  {
   "cell_type": "code",
   "execution_count": 118,
   "metadata": {},
   "outputs": [
    {
     "name": "stdout",
     "output_type": "stream",
     "text": [
      "      DatabaseName SchemaName      TableName\n",
      "10179        PPROD      PPREF  dscp_disp_ref\n"
     ]
    }
   ],
   "source": [
    "d = dfpprod0111[['DatabaseName', 'SchemaName','TableName']]#.format(z)\n",
    "d = d.drop_duplicates()\n",
    "e = d['DatabaseName'].values[0]\n",
    "f = d['SchemaName'].values[0]\n",
    "g = d['TableName'].values[0]\n",
    "print (d)\n",
    "FileName = ('PPROD_{}_{}'.format(f,g))\n",
    "\n",
    "fig = px.scatter(dfpprod0111, x = 'TodaysDate', y='RecordCount', size = 'RecordCount', color = 'RecordCount')#.format(z)\n",
    "fig.update_layout(title = '{0},{1},{2}'.format(e,f,g))\n",
    "fig.update_layout(yaxis_zeroline=False, xaxis_zeroline=False)\n",
    "fig.update_xaxes(title_font=dict(size=18, color='crimson'))\n",
    "fig.update_yaxes(title_font=dict(size=18, color='crimson'))\n",
    "fig.update_xaxes(ticks=\"inside\")\n",
    "fig.update_yaxes(ticks=\"inside\")\n",
    "fig.update_xaxes(tickangle=45, tickfont=dict(color='crimson', size=14))\n",
    "fig.update_xaxes(showline=True, linewidth=2, linecolor='black', mirror=True, gridcolor='Pink')\n",
    "fig.update_yaxes(showline=True, linewidth=2, linecolor='black', mirror=True, gridcolor='Red')\n",
    "#fig.show()\n",
    "fig.write_html(pathT+\"\\{}.html\".format(FileName))\n",
    "plt.close()"
   ]
  },
  {
   "cell_type": "code",
   "execution_count": 119,
   "metadata": {},
   "outputs": [
    {
     "name": "stdout",
     "output_type": "stream",
     "text": [
      "      DatabaseName SchemaName     TableName\n",
      "10296        PPROD      PPREF  dscp_mjr_ref\n"
     ]
    }
   ],
   "source": [
    "d = dfpprod0112[['DatabaseName', 'SchemaName','TableName']]#.format(z)\n",
    "d = d.drop_duplicates()\n",
    "e = d['DatabaseName'].values[0]\n",
    "f = d['SchemaName'].values[0]\n",
    "g = d['TableName'].values[0]\n",
    "print (d)\n",
    "FileName = ('PPROD_{}_{}'.format(f,g))\n",
    "\n",
    "fig = px.scatter(dfpprod0112, x = 'TodaysDate', y='RecordCount', size = 'RecordCount', color = 'RecordCount')#.format(z)\n",
    "fig.update_layout(title = '{0},{1},{2}'.format(e,f,g))\n",
    "fig.update_layout(yaxis_zeroline=False, xaxis_zeroline=False)\n",
    "fig.update_xaxes(title_font=dict(size=18, color='crimson'))\n",
    "fig.update_yaxes(title_font=dict(size=18, color='crimson'))\n",
    "fig.update_xaxes(ticks=\"inside\")\n",
    "fig.update_yaxes(ticks=\"inside\")\n",
    "fig.update_xaxes(tickangle=45, tickfont=dict(color='crimson', size=14))\n",
    "fig.update_xaxes(showline=True, linewidth=2, linecolor='black', mirror=True, gridcolor='Pink')\n",
    "fig.update_yaxes(showline=True, linewidth=2, linecolor='black', mirror=True, gridcolor='Red')\n",
    "#fig.show()\n",
    "fig.write_html(pathT+\"\\{}.html\".format(FileName))\n",
    "plt.close()"
   ]
  },
  {
   "cell_type": "code",
   "execution_count": 120,
   "metadata": {},
   "outputs": [
    {
     "name": "stdout",
     "output_type": "stream",
     "text": [
      "     DatabaseName SchemaName        TableName\n",
      "3276        PPROD      PPREF  NON_SCH_DAY_REF\n"
     ]
    }
   ],
   "source": [
    "d = dfpprod0113[['DatabaseName', 'SchemaName','TableName']]#.format(z)\n",
    "d = d.drop_duplicates()\n",
    "e = d['DatabaseName'].values[0]\n",
    "f = d['SchemaName'].values[0]\n",
    "g = d['TableName'].values[0]\n",
    "print (d)\n",
    "FileName = ('PPROD_{}_{}'.format(f,g))\n",
    "\n",
    "fig = px.scatter(dfpprod0113, x = 'TodaysDate', y='RecordCount', size = 'RecordCount', color = 'RecordCount')#.format(z)\n",
    "fig.update_layout(title = '{0},{1},{2}'.format(e,f,g))\n",
    "fig.update_layout(yaxis_zeroline=False, xaxis_zeroline=False)\n",
    "fig.update_xaxes(title_font=dict(size=18, color='crimson'))\n",
    "fig.update_yaxes(title_font=dict(size=18, color='crimson'))\n",
    "fig.update_xaxes(ticks=\"inside\")\n",
    "fig.update_yaxes(ticks=\"inside\")\n",
    "fig.update_xaxes(tickangle=45, tickfont=dict(color='crimson', size=14))\n",
    "fig.update_xaxes(showline=True, linewidth=2, linecolor='black', mirror=True, gridcolor='Pink')\n",
    "fig.update_yaxes(showline=True, linewidth=2, linecolor='black', mirror=True, gridcolor='Red')\n",
    "#fig.show()\n",
    "fig.write_html(pathT+\"\\{}.html\".format(FileName))\n",
    "plt.close()"
   ]
  },
  {
   "cell_type": "code",
   "execution_count": 121,
   "metadata": {},
   "outputs": [
    {
     "name": "stdout",
     "output_type": "stream",
     "text": [
      "     DatabaseName SchemaName   TableName\n",
      "3393        PPROD      PPREF  NonNumeric\n"
     ]
    }
   ],
   "source": [
    "d = dfpprod0114[['DatabaseName', 'SchemaName','TableName']]#.format(z)\n",
    "d = d.drop_duplicates()\n",
    "e = d['DatabaseName'].values[0]\n",
    "f = d['SchemaName'].values[0]\n",
    "g = d['TableName'].values[0]\n",
    "print (d)\n",
    "FileName = ('PPROD_{}_{}'.format(f,g))\n",
    "\n",
    "fig = px.scatter(dfpprod0114, x = 'TodaysDate', y='RecordCount', size = 'RecordCount', color = 'RecordCount')#.format(z)\n",
    "fig.update_layout(title = '{0},{1},{2}'.format(e,f,g))\n",
    "fig.update_layout(yaxis_zeroline=False, xaxis_zeroline=False)\n",
    "fig.update_xaxes(title_font=dict(size=18, color='crimson'))\n",
    "fig.update_yaxes(title_font=dict(size=18, color='crimson'))\n",
    "fig.update_xaxes(ticks=\"inside\")\n",
    "fig.update_yaxes(ticks=\"inside\")\n",
    "fig.update_xaxes(tickangle=45, tickfont=dict(color='crimson', size=14))\n",
    "fig.update_xaxes(showline=True, linewidth=2, linecolor='black', mirror=True, gridcolor='Pink')\n",
    "fig.update_yaxes(showline=True, linewidth=2, linecolor='black', mirror=True, gridcolor='Red')\n",
    "#fig.show()\n",
    "fig.write_html(pathT+\"\\{}.html\".format(FileName))\n",
    "plt.close()"
   ]
  },
  {
   "cell_type": "code",
   "execution_count": 122,
   "metadata": {},
   "outputs": [
    {
     "name": "stdout",
     "output_type": "stream",
     "text": [
      "     DatabaseName SchemaName       TableName\n",
      "4446        PPROD      PPREF  Resource_Links\n"
     ]
    }
   ],
   "source": [
    "d = dfpprod0115[['DatabaseName', 'SchemaName','TableName']]#.format(z)\n",
    "d = d.drop_duplicates()\n",
    "e = d['DatabaseName'].values[0]\n",
    "f = d['SchemaName'].values[0]\n",
    "g = d['TableName'].values[0]\n",
    "print (d)\n",
    "FileName = ('PPROD_{}_{}'.format(f,g))\n",
    "\n",
    "fig = px.scatter(dfpprod0115, x = 'TodaysDate', y='RecordCount', size = 'RecordCount', color = 'RecordCount')#.format(z)\n",
    "fig.update_layout(title = '{0},{1},{2}'.format(e,f,g))\n",
    "fig.update_layout(yaxis_zeroline=False, xaxis_zeroline=False)\n",
    "fig.update_xaxes(title_font=dict(size=18, color='crimson'))\n",
    "fig.update_yaxes(title_font=dict(size=18, color='crimson'))\n",
    "fig.update_xaxes(ticks=\"inside\")\n",
    "fig.update_yaxes(ticks=\"inside\")\n",
    "fig.update_xaxes(tickangle=45, tickfont=dict(color='crimson', size=14))\n",
    "fig.update_xaxes(showline=True, linewidth=2, linecolor='black', mirror=True, gridcolor='Pink')\n",
    "fig.update_yaxes(showline=True, linewidth=2, linecolor='black', mirror=True, gridcolor='Red')\n",
    "#fig.show()\n",
    "fig.write_html(pathT+\"\\{}.html\".format(FileName))\n",
    "plt.close()"
   ]
  },
  {
   "cell_type": "code",
   "execution_count": 123,
   "metadata": {},
   "outputs": [
    {
     "name": "stdout",
     "output_type": "stream",
     "text": [
      "      DatabaseName SchemaName TableName\n",
      "11700        PPROD      PPREF   sch_ref\n"
     ]
    }
   ],
   "source": [
    "d = dfpprod0116[['DatabaseName', 'SchemaName','TableName']]#.format(z)\n",
    "d = d.drop_duplicates()\n",
    "e = d['DatabaseName'].values[0]\n",
    "f = d['SchemaName'].values[0]\n",
    "g = d['TableName'].values[0]\n",
    "print (d)\n",
    "FileName = ('PPROD_{}_{}'.format(f,g))\n",
    "\n",
    "fig = px.scatter(dfpprod0116, x = 'TodaysDate', y='RecordCount', size = 'RecordCount', color = 'RecordCount')#.format(z)\n",
    "fig.update_layout(title = '{0},{1},{2}'.format(e,f,g))\n",
    "fig.update_layout(yaxis_zeroline=False, xaxis_zeroline=False)\n",
    "fig.update_xaxes(title_font=dict(size=18, color='crimson'))\n",
    "fig.update_yaxes(title_font=dict(size=18, color='crimson'))\n",
    "fig.update_xaxes(ticks=\"inside\")\n",
    "fig.update_yaxes(ticks=\"inside\")\n",
    "fig.update_xaxes(tickangle=45, tickfont=dict(color='crimson', size=14))\n",
    "fig.update_xaxes(showline=True, linewidth=2, linecolor='black', mirror=True, gridcolor='Pink')\n",
    "fig.update_yaxes(showline=True, linewidth=2, linecolor='black', mirror=True, gridcolor='Red')\n",
    "#fig.show()\n",
    "fig.write_html(pathT+\"\\{}.html\".format(FileName))\n",
    "plt.close()"
   ]
  },
  {
   "cell_type": "code",
   "execution_count": 124,
   "metadata": {},
   "outputs": [
    {
     "name": "stdout",
     "output_type": "stream",
     "text": [
      "     DatabaseName SchemaName   TableName\n",
      "4563        PPROD      PPREF  SCH_YR_REF\n"
     ]
    }
   ],
   "source": [
    "d = dfpprod0117[['DatabaseName', 'SchemaName','TableName']]#.format(z)\n",
    "d = d.drop_duplicates()\n",
    "e = d['DatabaseName'].values[0]\n",
    "f = d['SchemaName'].values[0]\n",
    "g = d['TableName'].values[0]\n",
    "print (d)\n",
    "FileName = ('PPROD_{}_{}'.format(f,g))\n",
    "\n",
    "fig = px.scatter(dfpprod0117, x = 'TodaysDate', y='RecordCount', size = 'RecordCount', color = 'RecordCount')#.format(z)\n",
    "fig.update_layout(title = '{0},{1},{2}'.format(e,f,g))\n",
    "fig.update_layout(yaxis_zeroline=False, xaxis_zeroline=False)\n",
    "fig.update_xaxes(title_font=dict(size=18, color='crimson'))\n",
    "fig.update_yaxes(title_font=dict(size=18, color='crimson'))\n",
    "fig.update_xaxes(ticks=\"inside\")\n",
    "fig.update_yaxes(ticks=\"inside\")\n",
    "fig.update_xaxes(tickangle=45, tickfont=dict(color='crimson', size=14))\n",
    "fig.update_xaxes(showline=True, linewidth=2, linecolor='black', mirror=True, gridcolor='Pink')\n",
    "fig.update_yaxes(showline=True, linewidth=2, linecolor='black', mirror=True, gridcolor='Red')\n",
    "#fig.show()\n",
    "fig.write_html(pathT+\"\\{}.html\".format(FileName))\n",
    "plt.close()"
   ]
  },
  {
   "cell_type": "code",
   "execution_count": 125,
   "metadata": {},
   "outputs": [
    {
     "name": "stdout",
     "output_type": "stream",
     "text": [
      "     DatabaseName SchemaName          TableName\n",
      "8307        PPROD      PPREF  STU_TEMP_ENRMONTH\n"
     ]
    }
   ],
   "source": [
    "d = dfpprod0118[['DatabaseName', 'SchemaName','TableName']]#.format(z)\n",
    "d = d.drop_duplicates()\n",
    "e = d['DatabaseName'].values[0]\n",
    "f = d['SchemaName'].values[0]\n",
    "g = d['TableName'].values[0]\n",
    "print (d)\n",
    "FileName = ('PPROD_{}_{}'.format(f,g))\n",
    "\n",
    "fig = px.scatter(dfpprod0118, x = 'TodaysDate', y='RecordCount', size = 'RecordCount', color = 'RecordCount')#.format(z)\n",
    "fig.update_layout(title = '{0},{1},{2}'.format(e,f,g))\n",
    "fig.update_layout(yaxis_zeroline=False, xaxis_zeroline=False)\n",
    "fig.update_xaxes(title_font=dict(size=18, color='crimson'))\n",
    "fig.update_yaxes(title_font=dict(size=18, color='crimson'))\n",
    "fig.update_xaxes(ticks=\"inside\")\n",
    "fig.update_yaxes(ticks=\"inside\")\n",
    "fig.update_xaxes(tickangle=45, tickfont=dict(color='crimson', size=14))\n",
    "fig.update_xaxes(showline=True, linewidth=2, linecolor='black', mirror=True, gridcolor='Pink')\n",
    "fig.update_yaxes(showline=True, linewidth=2, linecolor='black', mirror=True, gridcolor='Red')\n",
    "#fig.show()\n",
    "fig.write_html(pathT+\"\\{}.html\".format(FileName))\n",
    "plt.close()"
   ]
  },
  {
   "cell_type": "code",
   "execution_count": 126,
   "metadata": {},
   "outputs": [
    {
     "name": "stdout",
     "output_type": "stream",
     "text": [
      "     DatabaseName SchemaName       TableName\n",
      "9477        PPROD      PPREF  TEST_GUIDE_REF\n"
     ]
    }
   ],
   "source": [
    "d = dfpprod0119[['DatabaseName', 'SchemaName','TableName']]#.format(z)\n",
    "d = d.drop_duplicates()\n",
    "e = d['DatabaseName'].values[0]\n",
    "f = d['SchemaName'].values[0]\n",
    "g = d['TableName'].values[0]\n",
    "print (d)\n",
    "FileName = ('PPROD_{}_{}'.format(f,g))\n",
    "\n",
    "fig = px.scatter(dfpprod0119, x = 'TodaysDate', y='RecordCount', size = 'RecordCount', color = 'RecordCount')#.format(z)\n",
    "fig.update_layout(title = '{0},{1},{2}'.format(e,f,g))\n",
    "fig.update_layout(yaxis_zeroline=False, xaxis_zeroline=False)\n",
    "fig.update_xaxes(title_font=dict(size=18, color='crimson'))\n",
    "fig.update_yaxes(title_font=dict(size=18, color='crimson'))\n",
    "fig.update_xaxes(ticks=\"inside\")\n",
    "fig.update_yaxes(ticks=\"inside\")\n",
    "fig.update_xaxes(tickangle=45, tickfont=dict(color='crimson', size=14))\n",
    "fig.update_xaxes(showline=True, linewidth=2, linecolor='black', mirror=True, gridcolor='Pink')\n",
    "fig.update_yaxes(showline=True, linewidth=2, linecolor='black', mirror=True, gridcolor='Red')\n",
    "#fig.show()\n",
    "fig.write_html(pathT+\"\\{}.html\".format(FileName))\n",
    "plt.close()"
   ]
  },
  {
   "cell_type": "code",
   "execution_count": 127,
   "metadata": {},
   "outputs": [
    {
     "name": "stdout",
     "output_type": "stream",
     "text": [
      "     DatabaseName SchemaName             TableName\n",
      "1755        PPROD       TEMP  GradeBookClassGrades\n"
     ]
    }
   ],
   "source": [
    "d = dfpprod0120[['DatabaseName', 'SchemaName','TableName']]#.format(z)\n",
    "d = d.drop_duplicates()\n",
    "e = d['DatabaseName'].values[0]\n",
    "f = d['SchemaName'].values[0]\n",
    "g = d['TableName'].values[0]\n",
    "print (d)\n",
    "FileName = ('PPROD_{}_{}'.format(f,g))\n",
    "\n",
    "fig = px.scatter(dfpprod0120, x = 'TodaysDate', y='RecordCount', size = 'RecordCount', color = 'RecordCount')#.format(z)\n",
    "fig.update_layout(title = '{0},{1},{2}'.format(e,f,g))\n",
    "fig.update_layout(yaxis_zeroline=False, xaxis_zeroline=False)\n",
    "fig.update_xaxes(title_font=dict(size=18, color='crimson'))\n",
    "fig.update_yaxes(title_font=dict(size=18, color='crimson'))\n",
    "fig.update_xaxes(ticks=\"inside\")\n",
    "fig.update_yaxes(ticks=\"inside\")\n",
    "fig.update_xaxes(tickangle=45, tickfont=dict(color='crimson', size=14))\n",
    "fig.update_xaxes(showline=True, linewidth=2, linecolor='black', mirror=True, gridcolor='Pink')\n",
    "fig.update_yaxes(showline=True, linewidth=2, linecolor='black', mirror=True, gridcolor='Red')\n",
    "#fig.show()\n",
    "fig.write_html(pathT+\"\\{}.html\".format(FileName))\n",
    "plt.close()"
   ]
  },
  {
   "cell_type": "code",
   "execution_count": 128,
   "metadata": {},
   "outputs": [
    {
     "name": "stdout",
     "output_type": "stream",
     "text": [
      "     DatabaseName SchemaName       TableName\n",
      "1872        PPROD       TEMP  GradeBookTasks\n"
     ]
    }
   ],
   "source": [
    "d = dfpprod0121[['DatabaseName', 'SchemaName','TableName']]#.format(z)\n",
    "d = d.drop_duplicates()\n",
    "e = d['DatabaseName'].values[0]\n",
    "f = d['SchemaName'].values[0]\n",
    "g = d['TableName'].values[0]\n",
    "print (d)\n",
    "FileName = ('PPROD_{}_{}'.format(f,g))\n",
    "\n",
    "fig = px.scatter(dfpprod0121, x = 'TodaysDate', y='RecordCount', size = 'RecordCount', color = 'RecordCount')#.format(z)\n",
    "fig.update_layout(title = '{0},{1},{2}'.format(e,f,g))\n",
    "fig.update_layout(yaxis_zeroline=False, xaxis_zeroline=False)\n",
    "fig.update_xaxes(title_font=dict(size=18, color='crimson'))\n",
    "fig.update_yaxes(title_font=dict(size=18, color='crimson'))\n",
    "fig.update_xaxes(ticks=\"inside\")\n",
    "fig.update_yaxes(ticks=\"inside\")\n",
    "fig.update_xaxes(tickangle=45, tickfont=dict(color='crimson', size=14))\n",
    "fig.update_xaxes(showline=True, linewidth=2, linecolor='black', mirror=True, gridcolor='Pink')\n",
    "fig.update_yaxes(showline=True, linewidth=2, linecolor='black', mirror=True, gridcolor='Red')\n",
    "#fig.show()\n",
    "fig.write_html(pathT+\"\\{}.html\".format(FileName))\n",
    "plt.close()"
   ]
  },
  {
   "cell_type": "code",
   "execution_count": 129,
   "metadata": {},
   "outputs": [
    {
     "name": "stdout",
     "output_type": "stream",
     "text": [
      "     DatabaseName SchemaName   TableName\n",
      "3627        PPROD       TEMP  PP_CRS_HST\n"
     ]
    }
   ],
   "source": [
    "d = dfpprod0122[['DatabaseName', 'SchemaName','TableName']]#.format(z)\n",
    "d = d.drop_duplicates()\n",
    "e = d['DatabaseName'].values[0]\n",
    "f = d['SchemaName'].values[0]\n",
    "g = d['TableName'].values[0]\n",
    "print (d)\n",
    "FileName = ('PPROD_{}_{}'.format(f,g))\n",
    "\n",
    "fig = px.scatter(dfpprod0122, x = 'TodaysDate', y='RecordCount', size = 'RecordCount', color = 'RecordCount')#.format(z)\n",
    "fig.update_layout(title = '{0},{1},{2}'.format(e,f,g))\n",
    "fig.update_layout(yaxis_zeroline=False, xaxis_zeroline=False)\n",
    "fig.update_xaxes(title_font=dict(size=18, color='crimson'))\n",
    "fig.update_yaxes(title_font=dict(size=18, color='crimson'))\n",
    "fig.update_xaxes(ticks=\"inside\")\n",
    "fig.update_yaxes(ticks=\"inside\")\n",
    "fig.update_xaxes(tickangle=45, tickfont=dict(color='crimson', size=14))\n",
    "fig.update_xaxes(showline=True, linewidth=2, linecolor='black', mirror=True, gridcolor='Pink')\n",
    "fig.update_yaxes(showline=True, linewidth=2, linecolor='black', mirror=True, gridcolor='Red')\n",
    "#fig.show()\n",
    "fig.write_html(pathT+\"\\{}.html\".format(FileName))\n",
    "plt.close()"
   ]
  },
  {
   "cell_type": "code",
   "execution_count": 130,
   "metadata": {},
   "outputs": [
    {
     "name": "stdout",
     "output_type": "stream",
     "text": [
      "      DatabaseName SchemaName                TableName\n",
      "11466        PPROD       TEMP  rpt_StudentPortalAccess\n"
     ]
    }
   ],
   "source": [
    "d = dfpprod0123[['DatabaseName', 'SchemaName','TableName']]#.format(z)\n",
    "d = d.drop_duplicates()\n",
    "e = d['DatabaseName'].values[0]\n",
    "f = d['SchemaName'].values[0]\n",
    "g = d['TableName'].values[0]\n",
    "print (d)\n",
    "FileName = ('PPROD_{}_{}'.format(f,g))\n",
    "\n",
    "fig = px.scatter(dfpprod0123, x = 'TodaysDate', y='RecordCount', size = 'RecordCount', color = 'RecordCount')#.format(z)\n",
    "fig.update_layout(title = '{0},{1},{2}'.format(e,f,g))\n",
    "fig.update_layout(yaxis_zeroline=False, xaxis_zeroline=False)\n",
    "fig.update_xaxes(title_font=dict(size=18, color='crimson'))\n",
    "fig.update_yaxes(title_font=dict(size=18, color='crimson'))\n",
    "fig.update_xaxes(ticks=\"inside\")\n",
    "fig.update_yaxes(ticks=\"inside\")\n",
    "fig.update_xaxes(tickangle=45, tickfont=dict(color='crimson', size=14))\n",
    "fig.update_xaxes(showline=True, linewidth=2, linecolor='black', mirror=True, gridcolor='Pink')\n",
    "fig.update_yaxes(showline=True, linewidth=2, linecolor='black', mirror=True, gridcolor='Red')\n",
    "#fig.show()\n",
    "fig.write_html(pathT+\"\\{}.html\".format(FileName))\n",
    "plt.close()"
   ]
  },
  {
   "cell_type": "code",
   "execution_count": 131,
   "metadata": {},
   "outputs": [
    {
     "name": "stdout",
     "output_type": "stream",
     "text": [
      "      DatabaseName SchemaName       TableName\n",
      "11115        PPROD        xpp  parent_surveys\n"
     ]
    }
   ],
   "source": [
    "d = dfpprod0124[['DatabaseName', 'SchemaName','TableName']]#.format(z)\n",
    "d = d.drop_duplicates()\n",
    "e = d['DatabaseName'].values[0]\n",
    "f = d['SchemaName'].values[0]\n",
    "g = d['TableName'].values[0]\n",
    "print (d)\n",
    "FileName = ('PPROD_{}_{}'.format(f,g))\n",
    "\n",
    "fig = px.scatter(dfpprod0124, x = 'TodaysDate', y='RecordCount', size = 'RecordCount', color = 'RecordCount')#.format(z)\n",
    "fig.update_layout(title = '{0},{1},{2}'.format(e,f,g))\n",
    "fig.update_layout(yaxis_zeroline=False, xaxis_zeroline=False)\n",
    "fig.update_xaxes(title_font=dict(size=18, color='crimson'))\n",
    "fig.update_yaxes(title_font=dict(size=18, color='crimson'))\n",
    "fig.update_xaxes(ticks=\"inside\")\n",
    "fig.update_yaxes(ticks=\"inside\")\n",
    "fig.update_xaxes(tickangle=45, tickfont=dict(color='crimson', size=14))\n",
    "fig.update_xaxes(showline=True, linewidth=2, linecolor='black', mirror=True, gridcolor='Pink')\n",
    "fig.update_yaxes(showline=True, linewidth=2, linecolor='black', mirror=True, gridcolor='Red')\n",
    "#fig.show()\n",
    "fig.write_html(pathT+\"\\{}.html\".format(FileName))\n",
    "plt.close()"
   ]
  },
  {
   "cell_type": "code",
   "execution_count": 132,
   "metadata": {},
   "outputs": [
    {
     "name": "stdout",
     "output_type": "stream",
     "text": [
      "      DatabaseName SchemaName       TableName\n",
      "13455        PPROD        xpp  survey_headers\n"
     ]
    }
   ],
   "source": [
    "d = dfpprod0125[['DatabaseName', 'SchemaName','TableName']]#.format(z)\n",
    "d = d.drop_duplicates()\n",
    "e = d['DatabaseName'].values[0]\n",
    "f = d['SchemaName'].values[0]\n",
    "g = d['TableName'].values[0]\n",
    "print (d)\n",
    "FileName = ('PPROD_{}_{}'.format(f,g))\n",
    "\n",
    "fig = px.scatter(dfpprod0125, x = 'TodaysDate', y='RecordCount', size = 'RecordCount', color = 'RecordCount')#.format(z)\n",
    "fig.update_layout(title = '{0},{1},{2}'.format(e,f,g))\n",
    "fig.update_layout(yaxis_zeroline=False, xaxis_zeroline=False)\n",
    "fig.update_xaxes(title_font=dict(size=18, color='crimson'))\n",
    "fig.update_yaxes(title_font=dict(size=18, color='crimson'))\n",
    "fig.update_xaxes(ticks=\"inside\")\n",
    "fig.update_yaxes(ticks=\"inside\")\n",
    "fig.update_xaxes(tickangle=45, tickfont=dict(color='crimson', size=14))\n",
    "fig.update_xaxes(showline=True, linewidth=2, linecolor='black', mirror=True, gridcolor='Pink')\n",
    "fig.update_yaxes(showline=True, linewidth=2, linecolor='black', mirror=True, gridcolor='Red')\n",
    "#fig.show()\n",
    "fig.write_html(pathT+\"\\{}.html\".format(FileName))\n",
    "plt.close()"
   ]
  },
  {
   "cell_type": "code",
   "execution_count": 133,
   "metadata": {},
   "outputs": [
    {
     "name": "stdout",
     "output_type": "stream",
     "text": [
      "      DatabaseName SchemaName         TableName\n",
      "13923        PPROD        xpp  survey_questions\n"
     ]
    }
   ],
   "source": [
    "d = dfpprod0126[['DatabaseName', 'SchemaName','TableName']]#.format(z)\n",
    "d = d.drop_duplicates()\n",
    "e = d['DatabaseName'].values[0]\n",
    "f = d['SchemaName'].values[0]\n",
    "g = d['TableName'].values[0]\n",
    "print (d)\n",
    "FileName = ('PPROD_{}_{}'.format(f,g))\n",
    "\n",
    "fig = px.scatter(dfpprod0126, x = 'TodaysDate', y='RecordCount', size = 'RecordCount', color = 'RecordCount')#.format(z)\n",
    "fig.update_layout(title = '{0},{1},{2}'.format(e,f,g))\n",
    "fig.update_layout(yaxis_zeroline=False, xaxis_zeroline=False)\n",
    "fig.update_xaxes(title_font=dict(size=18, color='crimson'))\n",
    "fig.update_yaxes(title_font=dict(size=18, color='crimson'))\n",
    "fig.update_xaxes(ticks=\"inside\")\n",
    "fig.update_yaxes(ticks=\"inside\")\n",
    "fig.update_xaxes(tickangle=45, tickfont=dict(color='crimson', size=14))\n",
    "fig.update_xaxes(showline=True, linewidth=2, linecolor='black', mirror=True, gridcolor='Pink')\n",
    "fig.update_yaxes(showline=True, linewidth=2, linecolor='black', mirror=True, gridcolor='Red')\n",
    "#fig.show()\n",
    "fig.write_html(pathT+\"\\{}.html\".format(FileName))\n",
    "plt.close()"
   ]
  },
  {
   "cell_type": "code",
   "execution_count": 134,
   "metadata": {},
   "outputs": [
    {
     "name": "stdout",
     "output_type": "stream",
     "text": [
      "      DatabaseName SchemaName         TableName\n",
      "14157        PPROD        xpp  survey_responses\n"
     ]
    }
   ],
   "source": [
    "d = dfpprod0127[['DatabaseName', 'SchemaName','TableName']]#.format(z)\n",
    "d = d.drop_duplicates()\n",
    "e = d['DatabaseName'].values[0]\n",
    "f = d['SchemaName'].values[0]\n",
    "g = d['TableName'].values[0]\n",
    "print (d)\n",
    "FileName = ('PPROD_{}_{}'.format(f,g))\n",
    "\n",
    "fig = px.scatter(dfpprod0127, x = 'TodaysDate', y='RecordCount', size = 'RecordCount', color = 'RecordCount')#.format(z)\n",
    "fig.update_layout(title = '{0},{1},{2}'.format(e,f,g))\n",
    "fig.update_layout(yaxis_zeroline=False, xaxis_zeroline=False)\n",
    "fig.update_xaxes(title_font=dict(size=18, color='crimson'))\n",
    "fig.update_yaxes(title_font=dict(size=18, color='crimson'))\n",
    "fig.update_xaxes(ticks=\"inside\")\n",
    "fig.update_yaxes(ticks=\"inside\")\n",
    "fig.update_xaxes(tickangle=45, tickfont=dict(color='crimson', size=14))\n",
    "fig.update_xaxes(showline=True, linewidth=2, linecolor='black', mirror=True, gridcolor='Pink')\n",
    "fig.update_yaxes(showline=True, linewidth=2, linecolor='black', mirror=True, gridcolor='Red')\n",
    "#fig.show()\n",
    "fig.write_html(pathT+\"\\{}.html\".format(FileName))\n",
    "plt.close()"
   ]
  },
  {
   "cell_type": "code",
   "execution_count": 135,
   "metadata": {},
   "outputs": [
    {
     "name": "stdout",
     "output_type": "stream",
     "text": [
      "Interactive Chart Creation - Process Complete:  2021-06-16 12:44:55\n"
     ]
    }
   ],
   "source": [
    "now01 = datetime.datetime.now()\n",
    "print('Interactive Chart Creation - Process Complete: ', now01.strftime(\"%Y-%m-%d %H:%M:%S\"))"
   ]
  },
  {
   "cell_type": "code",
   "execution_count": null,
   "metadata": {},
   "outputs": [],
   "source": []
  }
 ],
 "metadata": {
  "kernelspec": {
   "display_name": "Python 3",
   "language": "python",
   "name": "python3"
  },
  "language_info": {
   "codemirror_mode": {
    "name": "ipython",
    "version": 3
   },
   "file_extension": ".py",
   "mimetype": "text/x-python",
   "name": "python",
   "nbconvert_exporter": "python",
   "pygments_lexer": "ipython3",
   "version": "3.8.3"
  }
 },
 "nbformat": 4,
 "nbformat_minor": 4
}
