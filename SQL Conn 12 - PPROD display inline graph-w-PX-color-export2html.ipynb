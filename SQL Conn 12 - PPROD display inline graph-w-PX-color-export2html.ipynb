{
 "cells": [
  {
   "cell_type": "code",
   "execution_count": 134,
   "metadata": {},
   "outputs": [
    {
     "name": "stdout",
     "output_type": "stream",
     "text": [
      "The sql extension is already loaded. To reload it, use:\n",
      "  %reload_ext sql\n"
     ]
    }
   ],
   "source": [
    "#Program Name: SQL Conn 12 - PPROD display inline graph-w-PX-color-export2html\n",
    "#Purpose:  Chart scatter, line, box, aggr, violin, or bar with table data\n",
    "#Author:  Greg Turmel, Director, Data Governance \n",
    "#Date:    2020.08.30 - 2021.06.30\n",
    "#Errata:  0.1 Improvements can be made to script using for/looping through the databases\n",
    "\n",
    "import os, time, datetime\n",
    "import sqlalchemy as db\n",
    "import pandas as pd\n",
    "import numpy as np\n",
    "from matplotlib import pyplot as plt\n",
    "import pyodbc \n",
    "import matplotlib\n",
    "import plotly.express as px\n",
    "\n",
    "#matplotlib.rcParams['figure.figsize'] = (30,5)\n",
    "%config InlineBackend.figure_format = 'retina'\n",
    "from dotenv import load_dotenv # add this line\n",
    "load_dotenv() # add this line\n",
    "user = os.getenv('MySQLeUser')\n",
    "password = os.getenv('MySQLeUserPass')\n",
    "host = os.getenv('MySQLeHOST')\n",
    "db = os.getenv('MySQLeDB')\n",
    "%matplotlib inline\n",
    "%load_ext sql\n",
    "\n",
    "dt1 = time.strftime(\"%d/%m/%Y\")\n",
    "dt2 = time.strftime(\"%d.%m.%Y\")\n",
    "dt3 = pd.to_datetime('today')\n",
    "dt4 = pd.Timestamp('today').strftime(\"%Y%m%d\")"
   ]
  },
  {
   "cell_type": "code",
   "execution_count": 135,
   "metadata": {},
   "outputs": [],
   "source": [
    "conn = pyodbc.connect('Driver={SQL Server};'\n",
    "                      'Server=DEVODSSQL;'\n",
    "                      'Database=Greg;'\n",
    "                      'Trusted_Connection=yes;')\n",
    "\n",
    "sql_query01 = pd.read_sql_query(''' \n",
    "select DISTINCT TableName\n",
    "FROM [dbo].[tableRowCountPPROD]\n",
    "ORDER BY TableName;     \n",
    "                              '''\n",
    "                              ,conn) # Load the list of distinct tables to graph\n",
    "\n",
    "sql_query02 = pd.read_sql_query(''' \n",
    "select *\n",
    "FROM [dbo].[tableRowCountPPROD]\n",
    "ORDER BY TableName;     \n",
    "                              '''\n",
    "                              ,conn) # Load the list of distinct tables to graph\n"
   ]
  },
  {
   "cell_type": "code",
   "execution_count": 136,
   "metadata": {},
   "outputs": [],
   "source": [
    "df = pd.DataFrame(sql_query02)\n",
    "#df = df.astype({'TodaysDate':np.int64,'RecordCount':np.int64})\n",
    "df['TodaysDate'] = pd.to_datetime(df['TodaysDate'].astype(str), format='%Y%m%d')\n",
    "df = df.sort_values(by=['TableName','SchemaName','DatabaseName','TodaysDate'], ascending=[True,True,True,True])\n",
    "df = df.reset_index(drop=True)"
   ]
  },
  {
   "cell_type": "code",
   "execution_count": 137,
   "metadata": {},
   "outputs": [
    {
     "data": {
      "text/html": [
       "<div>\n",
       "<style scoped>\n",
       "    .dataframe tbody tr th:only-of-type {\n",
       "        vertical-align: middle;\n",
       "    }\n",
       "\n",
       "    .dataframe tbody tr th {\n",
       "        vertical-align: top;\n",
       "    }\n",
       "\n",
       "    .dataframe thead th {\n",
       "        text-align: right;\n",
       "    }\n",
       "</style>\n",
       "<table border=\"1\" class=\"dataframe\">\n",
       "  <thead>\n",
       "    <tr style=\"text-align: right;\">\n",
       "      <th></th>\n",
       "      <th>TodaysDate</th>\n",
       "      <th>DatabaseName</th>\n",
       "      <th>SchemaName</th>\n",
       "      <th>TableName</th>\n",
       "      <th>RecordCount</th>\n",
       "      <th>Ddifference</th>\n",
       "    </tr>\n",
       "  </thead>\n",
       "  <tbody>\n",
       "    <tr>\n",
       "      <th>0</th>\n",
       "      <td>2020-12-23</td>\n",
       "      <td>PPROD</td>\n",
       "      <td>PP</td>\n",
       "      <td>Admin_User</td>\n",
       "      <td>1275</td>\n",
       "      <td>0</td>\n",
       "    </tr>\n",
       "    <tr>\n",
       "      <th>1</th>\n",
       "      <td>2020-12-24</td>\n",
       "      <td>PPROD</td>\n",
       "      <td>PP</td>\n",
       "      <td>Admin_User</td>\n",
       "      <td>1275</td>\n",
       "      <td>0</td>\n",
       "    </tr>\n",
       "    <tr>\n",
       "      <th>2</th>\n",
       "      <td>2020-12-25</td>\n",
       "      <td>PPROD</td>\n",
       "      <td>PP</td>\n",
       "      <td>Admin_User</td>\n",
       "      <td>1275</td>\n",
       "      <td>0</td>\n",
       "    </tr>\n",
       "    <tr>\n",
       "      <th>3</th>\n",
       "      <td>2020-12-26</td>\n",
       "      <td>PPROD</td>\n",
       "      <td>PP</td>\n",
       "      <td>Admin_User</td>\n",
       "      <td>1275</td>\n",
       "      <td>0</td>\n",
       "    </tr>\n",
       "    <tr>\n",
       "      <th>4</th>\n",
       "      <td>2020-12-28</td>\n",
       "      <td>PPROD</td>\n",
       "      <td>PP</td>\n",
       "      <td>Admin_User</td>\n",
       "      <td>1275</td>\n",
       "      <td>0</td>\n",
       "    </tr>\n",
       "  </tbody>\n",
       "</table>\n",
       "</div>"
      ],
      "text/plain": [
       "  TodaysDate DatabaseName SchemaName   TableName  RecordCount  Ddifference\n",
       "0 2020-12-23        PPROD         PP  Admin_User         1275            0\n",
       "1 2020-12-24        PPROD         PP  Admin_User         1275            0\n",
       "2 2020-12-25        PPROD         PP  Admin_User         1275            0\n",
       "3 2020-12-26        PPROD         PP  Admin_User         1275            0\n",
       "4 2020-12-28        PPROD         PP  Admin_User         1275            0"
      ]
     },
     "execution_count": 137,
     "metadata": {},
     "output_type": "execute_result"
    }
   ],
   "source": [
    "df.head()"
   ]
  },
  {
   "cell_type": "code",
   "execution_count": 138,
   "metadata": {},
   "outputs": [],
   "source": [
    "dfpprod0001 = df[(df['DatabaseName'] == 'PPROD') & (df['SchemaName'] == 'dbo') & (df['TableName'] == 'DisciplineCodeCorrections')]\n",
    "dfpprod0002 = df[(df['DatabaseName'] == 'PPROD') & (df['SchemaName'] == 'dbo') & (df['TableName'] == 'ERROR_LOG')]\n",
    "dfpprod0003 = df[(df['DatabaseName'] == 'PPROD') & (df['SchemaName'] == 'dbo') & (df['TableName'] == 'jcs_sportalusage_test')]\n",
    "dfpprod0004 = df[(df['DatabaseName'] == 'PPROD') & (df['SchemaName'] == 'dbo') & (df['TableName'] == 'MealPay')]\n",
    "dfpprod0005 = df[(df['DatabaseName'] == 'PPROD') & (df['SchemaName'] == 'dbo') & (df['TableName'] == 'missingpermnums')]\n",
    "dfpprod0006 = df[(df['DatabaseName'] == 'PPROD') & (df['SchemaName'] == 'dbo') & (df['TableName'] == 'parent_surveys_bak_greg_201702026')]\n",
    "dfpprod0007 = df[(df['DatabaseName'] == 'PPROD') & (df['SchemaName'] == 'dbo') & (df['TableName'] == 'parentNotFound')]\n",
    "dfpprod0008 = df[(df['DatabaseName'] == 'PPROD') & (df['SchemaName'] == 'dbo') & (df['TableName'] == 'parents_to_delete')]\n",
    "dfpprod0009 = df[(df['DatabaseName'] == 'PPROD') & (df['SchemaName'] == 'dbo') & (df['TableName'] == 'PPROD_PPIGP_igpro_icgr_dupes')]\n",
    "dfpprod0010 = df[(df['DatabaseName'] == 'PPROD') & (df['SchemaName'] == 'dbo') & (df['TableName'] == 'SPortalLogins')]\n",
    "dfpprod0011 = df[(df['DatabaseName'] == 'PPROD') & (df['SchemaName'] == 'dbo') & (df['TableName'] == 'stu_rltn_20160726')]\n",
    "dfpprod0012 = df[(df['DatabaseName'] == 'PPROD') & (df['SchemaName'] == 'dbo') & (df['TableName'] == 'STU_SUBT_HIST_Errors')]\n",
    "dfpprod0013 = df[(df['DatabaseName'] == 'PPROD') & (df['SchemaName'] == 'dbo') & (df['TableName'] == 'StudentEmail')]\n",
    "dfpprod0014 = df[(df['DatabaseName'] == 'PPROD') & (df['SchemaName'] == 'dbo') & (df['TableName'] == 'students_to_delete')]\n",
    "dfpprod0015 = df[(df['DatabaseName'] == 'PPROD') & (df['SchemaName'] == 'dbo') & (df['TableName'] == 'stulist')]\n",
    "dfpprod0016 = df[(df['DatabaseName'] == 'PPROD') & (df['SchemaName'] == 'dbo') & (df['TableName'] == 'survey_responses_bak_greg_201702026')]\n",
    "dfpprod0017 = df[(df['DatabaseName'] == 'PPROD') & (df['SchemaName'] == 'dbo') & (df['TableName'] == 'sysdiagrams')]\n",
    "dfpprod0018 = df[(df['DatabaseName'] == 'PPROD') & (df['SchemaName'] == 'dbo') & (df['TableName'] == 'test_trm')]\n",
    "dfpprod0019 = df[(df['DatabaseName'] == 'PPROD') & (df['SchemaName'] == 'dbo') & (df['TableName'] == 'testme_CRS_MSTR_SCHD')]\n",
    "dfpprod0020 = df[(df['DatabaseName'] == 'PPROD') & (df['SchemaName'] == 'dbo') & (df['TableName'] == 'work_stu_curr_schd')]\n",
    "dfpprod0021 = df[(df['DatabaseName'] == 'PPROD') & (df['SchemaName'] == 'PP') & (df['TableName'] == 'Admin_User')]\n",
    "dfpprod0022 = df[(df['DatabaseName'] == 'PPROD') & (df['SchemaName'] == 'PP') & (df['TableName'] == 'ClassSchedule')]\n",
    "dfpprod0023 = df[(df['DatabaseName'] == 'PPROD') & (df['SchemaName'] == 'PP') & (df['TableName'] == 'CompareDiffs')]\n",
    "dfpprod0024 = df[(df['DatabaseName'] == 'PPROD') & (df['SchemaName'] == 'PP') & (df['TableName'] == 'CompareDiffs2DB2')]\n",
    "dfpprod0025 = df[(df['DatabaseName'] == 'PPROD') & (df['SchemaName'] == 'PP') & (df['TableName'] == 'crs_mstr_schd')]\n",
    "dfpprod0026 = df[(df['DatabaseName'] == 'PPROD') & (df['SchemaName'] == 'PP') & (df['TableName'] == 'emp_email_backup')]\n",
    "dfpprod0027 = df[(df['DatabaseName'] == 'PPROD') & (df['SchemaName'] == 'PP') & (df['TableName'] == 'Empl_Sch')]\n",
    "dfpprod0028 = df[(df['DatabaseName'] == 'PPROD') & (df['SchemaName'] == 'PP') & (df['TableName'] == 'Employee_Email')]\n",
    "dfpprod0029 = df[(df['DatabaseName'] == 'PPROD') & (df['SchemaName'] == 'PP') & (df['TableName'] == 'Employee_Email_Test')]\n",
    "dfpprod0030 = df[(df['DatabaseName'] == 'PPROD') & (df['SchemaName'] == 'PP') & (df['TableName'] == 'freeze_schedule_schools')]\n",
    "dfpprod0031 = df[(df['DatabaseName'] == 'PPROD') & (df['SchemaName'] == 'PP') & (df['TableName'] == 'GradeBookAverages')]\n",
    "dfpprod0032 = df[(df['DatabaseName'] == 'PPROD') & (df['SchemaName'] == 'PP') & (df['TableName'] == 'Help_Contexts')]\n",
    "dfpprod0033 = df[(df['DatabaseName'] == 'PPROD') & (df['SchemaName'] == 'PP') & (df['TableName'] == 'Help_Question_Contexts')]\n",
    "dfpprod0034 = df[(df['DatabaseName'] == 'PPROD') & (df['SchemaName'] == 'PP') & (df['TableName'] == 'Help_Questions')]\n",
    "dfpprod0035 = df[(df['DatabaseName'] == 'PPROD') & (df['SchemaName'] == 'PP') & (df['TableName'] == 'LANG_HEADER')]\n",
    "dfpprod0036 = df[(df['DatabaseName'] == 'PPROD') & (df['SchemaName'] == 'PP') & (df['TableName'] == 'LAST_PRNT_COMM')]\n",
    "dfpprod0037 = df[(df['DatabaseName'] == 'PPROD') & (df['SchemaName'] == 'PP') & (df['TableName'] == 'LastAccessed')]\n",
    "dfpprod0038 = df[(df['DatabaseName'] == 'PPROD') & (df['SchemaName'] == 'PP') & (df['TableName'] == 'LDAPUsers')]\n",
    "dfpprod0039 = df[(df['DatabaseName'] == 'PPROD') & (df['SchemaName'] == 'PP') & (df['TableName'] == 'LDAPUsersNotActivated')]\n",
    "dfpprod0040 = df[(df['DatabaseName'] == 'PPROD') & (df['SchemaName'] == 'PP') & (df['TableName'] == 'LOADDETAIL')]\n",
    "dfpprod0041 = df[(df['DatabaseName'] == 'PPROD') & (df['SchemaName'] == 'PP') & (df['TableName'] == 'LOADREADYOLD')]\n",
    "dfpprod0042 = df[(df['DatabaseName'] == 'PPROD') & (df['SchemaName'] == 'PP') & (df['TableName'] == 'Parent_Delete')]\n",
    "dfpprod0043 = df[(df['DatabaseName'] == 'PPROD') & (df['SchemaName'] == 'PP') & (df['TableName'] == 'parent_surveys')]\n",
    "dfpprod0044 = df[(df['DatabaseName'] == 'PPROD') & (df['SchemaName'] == 'PP') & (df['TableName'] == 'PRNT_ACCT_LOG')]\n",
    "dfpprod0045 = df[(df['DatabaseName'] == 'PPROD') & (df['SchemaName'] == 'PP') & (df['TableName'] == 'PRNT_EMAIL_CHANGE_HISTORY')]\n",
    "dfpprod0046 = df[(df['DatabaseName'] == 'PPROD') & (df['SchemaName'] == 'PP') & (df['TableName'] == 'REFRESH_STATUS')]\n",
    "dfpprod0047 = df[(df['DatabaseName'] == 'PPROD') & (df['SchemaName'] == 'PP') & (df['TableName'] == 'RPTActiveStudent')]\n",
    "dfpprod0048 = df[(df['DatabaseName'] == 'PPROD') & (df['SchemaName'] == 'PP') & (df['TableName'] == 'save_Admin_User')]\n",
    "dfpprod0049 = df[(df['DatabaseName'] == 'PPROD') & (df['SchemaName'] == 'PP') & (df['TableName'] == 'STU_ABS_HST')]\n",
    "dfpprod0050 = df[(df['DatabaseName'] == 'PPROD') & (df['SchemaName'] == 'PP') & (df['TableName'] == 'STU_ABS_HST_BACKUP')]\n",
    "dfpprod0051 = df[(df['DatabaseName'] == 'PPROD') & (df['SchemaName'] == 'PP') & (df['TableName'] == 'STU_ALRT')]\n",
    "dfpprod0052 = df[(df['DatabaseName'] == 'PPROD') & (df['SchemaName'] == 'PP') & (df['TableName'] == 'STU_ATT_MO_SUM')]\n",
    "dfpprod0053 = df[(df['DatabaseName'] == 'PPROD') & (df['SchemaName'] == 'PP') & (df['TableName'] == 'STU_ATT_SUM')]\n",
    "dfpprod0054 = df[(df['DatabaseName'] == 'PPROD') & (df['SchemaName'] == 'PP') & (df['TableName'] == 'STU_BookCharges')]\n",
    "dfpprod0055 = df[(df['DatabaseName'] == 'PPROD') & (df['SchemaName'] == 'PP') & (df['TableName'] == 'STU_BookCheckOuts')]\n",
    "dfpprod0056 = df[(df['DatabaseName'] == 'PPROD') & (df['SchemaName'] == 'PP') & (df['TableName'] == 'stu_businfo')]\n",
    "dfpprod0057 = df[(df['DatabaseName'] == 'PPROD') & (df['SchemaName'] == 'PP') & (df['TableName'] == 'STU_CheckInCheckOut')]\n",
    "dfpprod0058 = df[(df['DatabaseName'] == 'PPROD') & (df['SchemaName'] == 'PP') & (df['TableName'] == 'STU_CRS_HS_SUM')]\n",
    "dfpprod0059 = df[(df['DatabaseName'] == 'PPROD') & (df['SchemaName'] == 'PP') & (df['TableName'] == 'STU_CRS_HST')]\n",
    "dfpprod0060 = df[(df['DatabaseName'] == 'PPROD') & (df['SchemaName'] == 'PP') & (df['TableName'] == 'stu_crs_hst_oldlogic')]\n",
    "dfpprod0061 = df[(df['DatabaseName'] == 'PPROD') & (df['SchemaName'] == 'PP') & (df['TableName'] == 'STU_CRS_MS_SUM')]\n",
    "dfpprod0062 = df[(df['DatabaseName'] == 'PPROD') & (df['SchemaName'] == 'PP') & (df['TableName'] == 'STU_CRS_STS')]\n",
    "dfpprod0063 = df[(df['DatabaseName'] == 'PPROD') & (df['SchemaName'] == 'PP') & (df['TableName'] == 'STU_CURR_SCHD')]\n",
    "dfpprod0064 = df[(df['DatabaseName'] == 'PPROD') & (df['SchemaName'] == 'PP') & (df['TableName'] == 'STU_CURR_SCHD_20161222')]\n",
    "dfpprod0065 = df[(df['DatabaseName'] == 'PPROD') & (df['SchemaName'] == 'PP') & (df['TableName'] == 'stu_curr_schd_ALAN')]\n",
    "dfpprod0066 = df[(df['DatabaseName'] == 'PPROD') & (df['SchemaName'] == 'PP') & (df['TableName'] == 'stu_curr_schd_backup')]\n",
    "dfpprod0067 = df[(df['DatabaseName'] == 'PPROD') & (df['SchemaName'] == 'PP') & (df['TableName'] == 'Stu_Curr_Schd_Cotchr')]\n",
    "dfpprod0068 = df[(df['DatabaseName'] == 'PPROD') & (df['SchemaName'] == 'PP') & (df['TableName'] == 'stu_curr_schd_igpro')]\n",
    "dfpprod0069 = df[(df['DatabaseName'] == 'PPROD') & (df['SchemaName'] == 'PP') & (df['TableName'] == 'STU_CURR_SCHD_SUM')]\n",
    "dfpprod0070 = df[(df['DatabaseName'] == 'PPROD') & (df['SchemaName'] == 'PP') & (df['TableName'] == 'STU_DSCP_DISP')]\n",
    "dfpprod0071 = df[(df['DatabaseName'] == 'PPROD') & (df['SchemaName'] == 'PP') & (df['TableName'] == 'STU_DSCP_HST')]\n",
    "dfpprod0072 = df[(df['DatabaseName'] == 'PPROD') & (df['SchemaName'] == 'PP') & (df['TableName'] == 'STU_Fees')]\n",
    "dfpprod0073 = df[(df['DatabaseName'] == 'PPROD') & (df['SchemaName'] == 'PP') & (df['TableName'] == 'STU_IGP_CLS_NOTE')]\n",
    "dfpprod0074 = df[(df['DatabaseName'] == 'PPROD') & (df['SchemaName'] == 'PP') & (df['TableName'] == 'STU_IGP_STU_NOTE')]\n",
    "dfpprod0075 = df[(df['DatabaseName'] == 'PPROD') & (df['SchemaName'] == 'PP') & (df['TableName'] == 'STU_IGP_TASK')]\n",
    "dfpprod0076 = df[(df['DatabaseName'] == 'PPROD') & (df['SchemaName'] == 'PP') & (df['TableName'] == 'stu_igp_task_20161222')]\n",
    "dfpprod0077 = df[(df['DatabaseName'] == 'PPROD') & (df['SchemaName'] == 'PP') & (df['TableName'] == 'stu_igp_task_20190906_partial')]\n",
    "dfpprod0078 = df[(df['DatabaseName'] == 'PPROD') & (df['SchemaName'] == 'PP') & (df['TableName'] == 'STU_MEALPAY')]\n",
    "dfpprod0079 = df[(df['DatabaseName'] == 'PPROD') & (df['SchemaName'] == 'PP') & (df['TableName'] == 'STU_PERIOD_ATTENDANCE')]\n",
    "dfpprod0080 = df[(df['DatabaseName'] == 'PPROD') & (df['SchemaName'] == 'PP') & (df['TableName'] == 'STU_PGM')]\n",
    "dfpprod0081 = df[(df['DatabaseName'] == 'PPROD') & (df['SchemaName'] == 'PP') & (df['TableName'] == 'stu_prfl')]\n",
    "dfpprod0082 = df[(df['DatabaseName'] == 'PPROD') & (df['SchemaName'] == 'PP') & (df['TableName'] == 'STU_PRNT_COM_MAX')]\n",
    "dfpprod0083 = df[(df['DatabaseName'] == 'PPROD') & (df['SchemaName'] == 'PP') & (df['TableName'] == 'STU_PRNT_COMM')]\n",
    "dfpprod0084 = df[(df['DatabaseName'] == 'PPROD') & (df['SchemaName'] == 'PP') & (df['TableName'] == 'STU_RLTN')]\n",
    "dfpprod0085 = df[(df['DatabaseName'] == 'PPROD') & (df['SchemaName'] == 'PP') & (df['TableName'] == 'stu_rltn_support')]\n",
    "dfpprod0086 = df[(df['DatabaseName'] == 'PPROD') & (df['SchemaName'] == 'PP') & (df['TableName'] == 'STU_SUBT_HIST_Errors')]\n",
    "dfpprod0087 = df[(df['DatabaseName'] == 'PPROD') & (df['SchemaName'] == 'PP') & (df['TableName'] == 'STU_SUBT_HST')]\n",
    "dfpprod0088 = df[(df['DatabaseName'] == 'PPROD') & (df['SchemaName'] == 'PP') & (df['TableName'] == 'STU_TEST_GUIDE')]\n",
    "dfpprod0089 = df[(df['DatabaseName'] == 'PPROD') & (df['SchemaName'] == 'PP') & (df['TableName'] == 'Student_Delete')]\n",
    "dfpprod0090 = df[(df['DatabaseName'] == 'PPROD') & (df['SchemaName'] == 'PP') & (df['TableName'] == 'stulist')]\n",
    "dfpprod0091 = df[(df['DatabaseName'] == 'PPROD') & (df['SchemaName'] == 'PP') & (df['TableName'] == 'survey_headers')]\n",
    "dfpprod0092 = df[(df['DatabaseName'] == 'PPROD') & (df['SchemaName'] == 'PP') & (df['TableName'] == 'survey_options')]\n",
    "dfpprod0093 = df[(df['DatabaseName'] == 'PPROD') & (df['SchemaName'] == 'PP') & (df['TableName'] == 'survey_question_types')]\n",
    "dfpprod0094 = df[(df['DatabaseName'] == 'PPROD') & (df['SchemaName'] == 'PP') & (df['TableName'] == 'survey_questions')]\n",
    "dfpprod0095 = df[(df['DatabaseName'] == 'PPROD') & (df['SchemaName'] == 'PP') & (df['TableName'] == 'survey_responses')]\n",
    "dfpprod0096 = df[(df['DatabaseName'] == 'PPROD') & (df['SchemaName'] == 'PP') & (df['TableName'] == 'SYS_ACCESS_LOG')]\n",
    "dfpprod0097 = df[(df['DatabaseName'] == 'PPROD') & (df['SchemaName'] == 'PP') & (df['TableName'] == 'SYS_ACCESS_LOG_BACKUP')]\n",
    "dfpprod0098 = df[(df['DatabaseName'] == 'PPROD') & (df['SchemaName'] == 'PP') & (df['TableName'] == 'SYS_ACCESS_LOG_MAX')]\n",
    "dfpprod0099 = df[(df['DatabaseName'] == 'PPROD') & (df['SchemaName'] == 'PP') & (df['TableName'] == 'Tchr_Stu')]\n",
    "dfpprod0100 = df[(df['DatabaseName'] == 'PPROD') & (df['SchemaName'] == 'PP') & (df['TableName'] == 'User_Stu')]\n",
    "dfpprod0101 = df[(df['DatabaseName'] == 'PPROD') & (df['SchemaName'] == 'PPETL') & (df['TableName'] == 'SUBT_NM_MAP')]\n",
    "dfpprod0102 = df[(df['DatabaseName'] == 'PPROD') & (df['SchemaName'] == 'PPETL') & (df['TableName'] == 'SUBT_NM_MAP_BKUP')]\n",
    "dfpprod0103 = df[(df['DatabaseName'] == 'PPROD') & (df['SchemaName'] == 'PPETL') & (df['TableName'] == 'Work_Stu_CURR_SCHD')]\n",
    "dfpprod0104 = df[(df['DatabaseName'] == 'PPROD') & (df['SchemaName'] == 'PPGEMS') & (df['TableName'] == 'CALENDAR')]\n",
    "dfpprod0105 = df[(df['DatabaseName'] == 'PPROD') & (df['SchemaName'] == 'PPGEMS') & (df['TableName'] == 'Register')]\n",
    "dfpprod0106 = df[(df['DatabaseName'] == 'PPROD') & (df['SchemaName'] == 'PPREF') & (df['TableName'] == 'abs_ref')]\n",
    "dfpprod0107 = df[(df['DatabaseName'] == 'PPROD') & (df['SchemaName'] == 'PPREF') & (df['TableName'] == 'Admin_User')]\n",
    "dfpprod0108 = df[(df['DatabaseName'] == 'PPROD') & (df['SchemaName'] == 'PPREF') & (df['TableName'] == 'CRS_SUBJ_REF')]\n",
    "dfpprod0109 = df[(df['DatabaseName'] == 'PPROD') & (df['SchemaName'] == 'PPREF') & (df['TableName'] == 'D2L_SCHOOLS')]\n",
    "dfpprod0110 = df[(df['DatabaseName'] == 'PPROD') & (df['SchemaName'] == 'PPREF') & (df['TableName'] == 'DSCP_BHVR_REF')]\n",
    "dfpprod0111 = df[(df['DatabaseName'] == 'PPROD') & (df['SchemaName'] == 'PPREF') & (df['TableName'] == 'dscp_disp_ref')]\n",
    "dfpprod0112 = df[(df['DatabaseName'] == 'PPROD') & (df['SchemaName'] == 'PPREF') & (df['TableName'] == 'dscp_mjr_ref')]\n",
    "dfpprod0113 = df[(df['DatabaseName'] == 'PPROD') & (df['SchemaName'] == 'PPREF') & (df['TableName'] == 'NON_SCH_DAY_REF')]\n",
    "dfpprod0114 = df[(df['DatabaseName'] == 'PPROD') & (df['SchemaName'] == 'PPREF') & (df['TableName'] == 'NonNumeric')]\n",
    "dfpprod0115 = df[(df['DatabaseName'] == 'PPROD') & (df['SchemaName'] == 'PPREF') & (df['TableName'] == 'Resource_Links')]\n",
    "dfpprod0116 = df[(df['DatabaseName'] == 'PPROD') & (df['SchemaName'] == 'PPREF') & (df['TableName'] == 'sch_ref')]\n",
    "dfpprod0117 = df[(df['DatabaseName'] == 'PPROD') & (df['SchemaName'] == 'PPREF') & (df['TableName'] == 'SCH_YR_REF')]\n",
    "dfpprod0118 = df[(df['DatabaseName'] == 'PPROD') & (df['SchemaName'] == 'PPREF') & (df['TableName'] == 'STU_TEMP_ENRMONTH')]\n",
    "dfpprod0119 = df[(df['DatabaseName'] == 'PPROD') & (df['SchemaName'] == 'PPREF') & (df['TableName'] == 'TEST_GUIDE_REF')]\n",
    "dfpprod0120 = df[(df['DatabaseName'] == 'PPROD') & (df['SchemaName'] == 'TEMP') & (df['TableName'] == 'GradeBookClassGrades')]\n",
    "dfpprod0121 = df[(df['DatabaseName'] == 'PPROD') & (df['SchemaName'] == 'TEMP') & (df['TableName'] == 'GradeBookTasks')]\n",
    "dfpprod0122 = df[(df['DatabaseName'] == 'PPROD') & (df['SchemaName'] == 'TEMP') & (df['TableName'] == 'PP_CRS_HST')]\n",
    "dfpprod0123 = df[(df['DatabaseName'] == 'PPROD') & (df['SchemaName'] == 'TEMP') & (df['TableName'] == 'rpt_StudentPortalAccess')]\n",
    "dfpprod0124 = df[(df['DatabaseName'] == 'PPROD') & (df['SchemaName'] == 'xpp') & (df['TableName'] == 'parent_surveys')]\n",
    "dfpprod0125 = df[(df['DatabaseName'] == 'PPROD') & (df['SchemaName'] == 'xpp') & (df['TableName'] == 'survey_headers')]\n",
    "dfpprod0126 = df[(df['DatabaseName'] == 'PPROD') & (df['SchemaName'] == 'xpp') & (df['TableName'] == 'survey_questions')]\n",
    "dfpprod0127 = df[(df['DatabaseName'] == 'PPROD') & (df['SchemaName'] == 'xpp') & (df['TableName'] == 'survey_responses')]\n"
   ]
  },
  {
   "cell_type": "code",
   "execution_count": 139,
   "metadata": {},
   "outputs": [
    {
     "data": {
      "text/html": [
       "<div>\n",
       "<style scoped>\n",
       "    .dataframe tbody tr th:only-of-type {\n",
       "        vertical-align: middle;\n",
       "    }\n",
       "\n",
       "    .dataframe tbody tr th {\n",
       "        vertical-align: top;\n",
       "    }\n",
       "\n",
       "    .dataframe thead th {\n",
       "        text-align: right;\n",
       "    }\n",
       "</style>\n",
       "<table border=\"1\" class=\"dataframe\">\n",
       "  <thead>\n",
       "    <tr style=\"text-align: right;\">\n",
       "      <th></th>\n",
       "      <th>TodaysDate</th>\n",
       "      <th>DatabaseName</th>\n",
       "      <th>SchemaName</th>\n",
       "      <th>TableName</th>\n",
       "      <th>RecordCount</th>\n",
       "      <th>Ddifference</th>\n",
       "    </tr>\n",
       "  </thead>\n",
       "  <tbody>\n",
       "    <tr>\n",
       "      <th>7885</th>\n",
       "      <td>2020-12-23</td>\n",
       "      <td>PPROD</td>\n",
       "      <td>PP</td>\n",
       "      <td>User_Stu</td>\n",
       "      <td>3380089</td>\n",
       "      <td>0</td>\n",
       "    </tr>\n",
       "    <tr>\n",
       "      <th>7886</th>\n",
       "      <td>2020-12-24</td>\n",
       "      <td>PPROD</td>\n",
       "      <td>PP</td>\n",
       "      <td>User_Stu</td>\n",
       "      <td>3380088</td>\n",
       "      <td>-1</td>\n",
       "    </tr>\n",
       "    <tr>\n",
       "      <th>7887</th>\n",
       "      <td>2020-12-25</td>\n",
       "      <td>PPROD</td>\n",
       "      <td>PP</td>\n",
       "      <td>User_Stu</td>\n",
       "      <td>3380088</td>\n",
       "      <td>0</td>\n",
       "    </tr>\n",
       "    <tr>\n",
       "      <th>7888</th>\n",
       "      <td>2020-12-26</td>\n",
       "      <td>PPROD</td>\n",
       "      <td>PP</td>\n",
       "      <td>User_Stu</td>\n",
       "      <td>3380088</td>\n",
       "      <td>0</td>\n",
       "    </tr>\n",
       "    <tr>\n",
       "      <th>7889</th>\n",
       "      <td>2020-12-28</td>\n",
       "      <td>PPROD</td>\n",
       "      <td>PP</td>\n",
       "      <td>User_Stu</td>\n",
       "      <td>3380124</td>\n",
       "      <td>36</td>\n",
       "    </tr>\n",
       "  </tbody>\n",
       "</table>\n",
       "</div>"
      ],
      "text/plain": [
       "     TodaysDate DatabaseName SchemaName TableName  RecordCount  Ddifference\n",
       "7885 2020-12-23        PPROD         PP  User_Stu      3380089            0\n",
       "7886 2020-12-24        PPROD         PP  User_Stu      3380088           -1\n",
       "7887 2020-12-25        PPROD         PP  User_Stu      3380088            0\n",
       "7888 2020-12-26        PPROD         PP  User_Stu      3380088            0\n",
       "7889 2020-12-28        PPROD         PP  User_Stu      3380124           36"
      ]
     },
     "execution_count": 139,
     "metadata": {},
     "output_type": "execute_result"
    }
   ],
   "source": [
    "dfpprod0100.head()"
   ]
  },
  {
   "cell_type": "code",
   "execution_count": 140,
   "metadata": {},
   "outputs": [
    {
     "name": "stdout",
     "output_type": "stream",
     "text": [
      "    DatabaseName SchemaName                  TableName\n",
      "855        PPROD        dbo  DisciplineCodeCorrections\n"
     ]
    }
   ],
   "source": [
    "d = dfpprod0001[['DatabaseName', 'SchemaName','TableName']]#.format(z)\n",
    "d = d.drop_duplicates()\n",
    "e = d['DatabaseName'].values[0]\n",
    "f = d['SchemaName'].values[0]\n",
    "g = d['TableName'].values[0]\n",
    "print (d)\n",
    "FileName = ('PPROD_{}_{}'.format(f,g))\n",
    "\n",
    "fig = px.scatter(dfpprod0001, x = 'TodaysDate', y='RecordCount', size = 'RecordCount', color = 'RecordCount')#.format(z)\n",
    "fig.update_layout(title = '{0},{1},{2}'.format(e,f,g))\n",
    "fig.update_layout(yaxis_zeroline=False, xaxis_zeroline=False)\n",
    "fig.update_xaxes(title_font=dict(size=18, color='crimson'))\n",
    "fig.update_yaxes(title_font=dict(size=18, color='crimson'))\n",
    "fig.update_xaxes(ticks=\"inside\")\n",
    "fig.update_yaxes(ticks=\"inside\")\n",
    "fig.update_xaxes(tickangle=45, tickfont=dict(color='crimson', size=14))\n",
    "fig.update_xaxes(showline=True, linewidth=2, linecolor='black', mirror=True, gridcolor='Pink')\n",
    "fig.update_yaxes(showline=True, linewidth=2, linecolor='black', mirror=True, gridcolor='Red')\n",
    "#fig.show()\n",
    "fig.write_html(r'C:\\Users\\eeeeeeeeee\\Documents\\JupyterAnacondaPythonNotebooks\\Daily\\Charts_px\\PPROD\\{}.html'.format(FileName))\n",
    "plt.close()"
   ]
  },
  {
   "cell_type": "code",
   "execution_count": 141,
   "metadata": {},
   "outputs": [
    {
     "name": "stdout",
     "output_type": "stream",
     "text": [
      "    DatabaseName SchemaName  TableName\n",
      "950        PPROD        dbo  ERROR_LOG\n"
     ]
    }
   ],
   "source": [
    "d = dfpprod0002[['DatabaseName', 'SchemaName','TableName']]#.format(z)\n",
    "d = d.drop_duplicates()\n",
    "e = d['DatabaseName'].values[0]\n",
    "f = d['SchemaName'].values[0]\n",
    "g = d['TableName'].values[0]\n",
    "print (d)\n",
    "FileName = ('PPROD_{}_{}'.format(f,g))\n",
    "\n",
    "fig = px.scatter(dfpprod0002, x = 'TodaysDate', y='RecordCount', size = 'RecordCount', color = 'RecordCount')#.format(z)\n",
    "fig.update_layout(title = '{0},{1},{2}'.format(e,f,g))\n",
    "fig.update_layout(yaxis_zeroline=False, xaxis_zeroline=False)\n",
    "fig.update_xaxes(title_font=dict(size=18, color='crimson'))\n",
    "fig.update_yaxes(title_font=dict(size=18, color='crimson'))\n",
    "fig.update_xaxes(ticks=\"inside\")\n",
    "fig.update_yaxes(ticks=\"inside\")\n",
    "fig.update_xaxes(tickangle=45, tickfont=dict(color='crimson', size=14))\n",
    "fig.update_xaxes(showline=True, linewidth=2, linecolor='black', mirror=True, gridcolor='Pink')\n",
    "fig.update_yaxes(showline=True, linewidth=2, linecolor='black', mirror=True, gridcolor='Red')\n",
    "#fig.show()\n",
    "fig.write_html(r'C:\\Users\\eeeeeeeeee\\Documents\\JupyterAnacondaPythonNotebooks\\Daily\\Charts_px\\PPROD\\{}.html'.format(FileName))\n",
    "plt.close()"
   ]
  },
  {
   "cell_type": "code",
   "execution_count": 142,
   "metadata": {},
   "outputs": [
    {
     "name": "stdout",
     "output_type": "stream",
     "text": [
      "     DatabaseName SchemaName              TableName\n",
      "8645        PPROD        dbo  jcs_sportalusage_test\n"
     ]
    }
   ],
   "source": [
    "d = dfpprod0003[['DatabaseName', 'SchemaName','TableName']]#.format(z)\n",
    "d = d.drop_duplicates()\n",
    "e = d['DatabaseName'].values[0]\n",
    "f = d['SchemaName'].values[0]\n",
    "g = d['TableName'].values[0]\n",
    "print (d)\n",
    "FileName = ('PPROD_{}_{}'.format(f,g))\n",
    "\n",
    "fig = px.scatter(dfpprod0003, x = 'TodaysDate', y='RecordCount', size = 'RecordCount', color = 'RecordCount')#.format(z)\n",
    "fig.update_layout(title = '{0},{1},{2}'.format(e,f,g))\n",
    "fig.update_layout(yaxis_zeroline=False, xaxis_zeroline=False)\n",
    "fig.update_xaxes(title_font=dict(size=18, color='crimson'))\n",
    "fig.update_yaxes(title_font=dict(size=18, color='crimson'))\n",
    "fig.update_xaxes(ticks=\"inside\")\n",
    "fig.update_yaxes(ticks=\"inside\")\n",
    "fig.update_xaxes(tickangle=45, tickfont=dict(color='crimson', size=14))\n",
    "fig.update_xaxes(showline=True, linewidth=2, linecolor='black', mirror=True, gridcolor='Pink')\n",
    "fig.update_yaxes(showline=True, linewidth=2, linecolor='black', mirror=True, gridcolor='Red')\n",
    "#fig.show()\n",
    "fig.write_html(r'C:\\Users\\eeeeeeeeee\\Documents\\JupyterAnacondaPythonNotebooks\\Daily\\Charts_px\\PPROD\\{}.html'.format(FileName))\n",
    "plt.close()"
   ]
  },
  {
   "cell_type": "code",
   "execution_count": 143,
   "metadata": {},
   "outputs": [
    {
     "name": "stdout",
     "output_type": "stream",
     "text": [
      "     DatabaseName SchemaName TableName\n",
      "2565        PPROD        dbo   MealPay\n"
     ]
    }
   ],
   "source": [
    "d = dfpprod0004[['DatabaseName', 'SchemaName','TableName']]#.format(z)\n",
    "d = d.drop_duplicates()\n",
    "e = d['DatabaseName'].values[0]\n",
    "f = d['SchemaName'].values[0]\n",
    "g = d['TableName'].values[0]\n",
    "print (d)\n",
    "FileName = ('PPROD_{}_{}'.format(f,g))\n",
    "\n",
    "fig = px.scatter(dfpprod0004, x = 'TodaysDate', y='RecordCount', size = 'RecordCount', color = 'RecordCount')#.format(z)\n",
    "fig.update_layout(title = '{0},{1},{2}'.format(e,f,g))\n",
    "fig.update_layout(yaxis_zeroline=False, xaxis_zeroline=False)\n",
    "fig.update_xaxes(title_font=dict(size=18, color='crimson'))\n",
    "fig.update_yaxes(title_font=dict(size=18, color='crimson'))\n",
    "fig.update_xaxes(ticks=\"inside\")\n",
    "fig.update_yaxes(ticks=\"inside\")\n",
    "fig.update_xaxes(tickangle=45, tickfont=dict(color='crimson', size=14))\n",
    "fig.update_xaxes(showline=True, linewidth=2, linecolor='black', mirror=True, gridcolor='Pink')\n",
    "fig.update_yaxes(showline=True, linewidth=2, linecolor='black', mirror=True, gridcolor='Red')\n",
    "#fig.show()\n",
    "fig.write_html(r'C:\\Users\\eeeeeeeeee\\Documents\\JupyterAnacondaPythonNotebooks\\Daily\\Charts_px\\PPROD\\{}.html'.format(FileName))\n",
    "plt.close()"
   ]
  },
  {
   "cell_type": "code",
   "execution_count": 144,
   "metadata": {},
   "outputs": [
    {
     "name": "stdout",
     "output_type": "stream",
     "text": [
      "     DatabaseName SchemaName        TableName\n",
      "8740        PPROD        dbo  missingpermnums\n"
     ]
    }
   ],
   "source": [
    "d = dfpprod0005[['DatabaseName', 'SchemaName','TableName']]#.format(z)\n",
    "d = d.drop_duplicates()\n",
    "e = d['DatabaseName'].values[0]\n",
    "f = d['SchemaName'].values[0]\n",
    "g = d['TableName'].values[0]\n",
    "print (d)\n",
    "FileName = ('PPROD_{}_{}'.format(f,g))\n",
    "\n",
    "fig = px.scatter(dfpprod0005, x = 'TodaysDate', y='RecordCount', size = 'RecordCount', color = 'RecordCount')#.format(z)\n",
    "fig.update_layout(title = '{0},{1},{2}'.format(e,f,g))\n",
    "fig.update_layout(yaxis_zeroline=False, xaxis_zeroline=False)\n",
    "fig.update_xaxes(title_font=dict(size=18, color='crimson'))\n",
    "fig.update_yaxes(title_font=dict(size=18, color='crimson'))\n",
    "fig.update_xaxes(ticks=\"inside\")\n",
    "fig.update_yaxes(ticks=\"inside\")\n",
    "fig.update_xaxes(tickangle=45, tickfont=dict(color='crimson', size=14))\n",
    "fig.update_xaxes(showline=True, linewidth=2, linecolor='black', mirror=True, gridcolor='Pink')\n",
    "fig.update_yaxes(showline=True, linewidth=2, linecolor='black', mirror=True, gridcolor='Red')\n",
    "#fig.show()\n",
    "fig.write_html(r'C:\\Users\\eeeeeeeeee\\Documents\\JupyterAnacondaPythonNotebooks\\Daily\\Charts_px\\PPROD\\{}.html'.format(FileName))\n",
    "plt.close()"
   ]
  },
  {
   "cell_type": "code",
   "execution_count": 145,
   "metadata": {},
   "outputs": [
    {
     "name": "stdout",
     "output_type": "stream",
     "text": [
      "     DatabaseName SchemaName                          TableName\n",
      "9120        PPROD        dbo  parent_surveys_bak_greg_201702026\n"
     ]
    }
   ],
   "source": [
    "d = dfpprod0006[['DatabaseName', 'SchemaName','TableName']]#.format(z)\n",
    "d = d.drop_duplicates()\n",
    "e = d['DatabaseName'].values[0]\n",
    "f = d['SchemaName'].values[0]\n",
    "g = d['TableName'].values[0]\n",
    "print (d)\n",
    "FileName = ('PPROD_{}_{}'.format(f,g))\n",
    "\n",
    "fig = px.scatter(dfpprod0006, x = 'TodaysDate', y='RecordCount', size = 'RecordCount', color = 'RecordCount')#.format(z)\n",
    "fig.update_layout(title = '{0},{1},{2}'.format(e,f,g))\n",
    "fig.update_layout(yaxis_zeroline=False, xaxis_zeroline=False)\n",
    "fig.update_xaxes(title_font=dict(size=18, color='crimson'))\n",
    "fig.update_yaxes(title_font=dict(size=18, color='crimson'))\n",
    "fig.update_xaxes(ticks=\"inside\")\n",
    "fig.update_yaxes(ticks=\"inside\")\n",
    "fig.update_xaxes(tickangle=45, tickfont=dict(color='crimson', size=14))\n",
    "fig.update_xaxes(showline=True, linewidth=2, linecolor='black', mirror=True, gridcolor='Pink')\n",
    "fig.update_yaxes(showline=True, linewidth=2, linecolor='black', mirror=True, gridcolor='Red')\n",
    "#fig.show()\n",
    "fig.write_html(r'C:\\Users\\eeeeeeeeee\\Documents\\JupyterAnacondaPythonNotebooks\\Daily\\Charts_px\\PPROD\\{}.html'.format(FileName))\n",
    "plt.close()"
   ]
  },
  {
   "cell_type": "code",
   "execution_count": 146,
   "metadata": {},
   "outputs": [
    {
     "name": "stdout",
     "output_type": "stream",
     "text": [
      "     DatabaseName SchemaName       TableName\n",
      "8835        PPROD        dbo  parentNotFound\n"
     ]
    }
   ],
   "source": [
    "d = dfpprod0007[['DatabaseName', 'SchemaName','TableName']]#.format(z)\n",
    "d = d.drop_duplicates()\n",
    "e = d['DatabaseName'].values[0]\n",
    "f = d['SchemaName'].values[0]\n",
    "g = d['TableName'].values[0]\n",
    "print (d)\n",
    "FileName = ('PPROD_{}_{}'.format(f,g))\n",
    "\n",
    "fig = px.scatter(dfpprod0007, x = 'TodaysDate', y='RecordCount', size = 'RecordCount', color = 'RecordCount')#.format(z)\n",
    "fig.update_layout(title = '{0},{1},{2}'.format(e,f,g))\n",
    "fig.update_layout(yaxis_zeroline=False, xaxis_zeroline=False)\n",
    "fig.update_xaxes(title_font=dict(size=18, color='crimson'))\n",
    "fig.update_yaxes(title_font=dict(size=18, color='crimson'))\n",
    "fig.update_xaxes(ticks=\"inside\")\n",
    "fig.update_yaxes(ticks=\"inside\")\n",
    "fig.update_xaxes(tickangle=45, tickfont=dict(color='crimson', size=14))\n",
    "fig.update_xaxes(showline=True, linewidth=2, linecolor='black', mirror=True, gridcolor='Pink')\n",
    "fig.update_yaxes(showline=True, linewidth=2, linecolor='black', mirror=True, gridcolor='Red')\n",
    "#fig.show()\n",
    "fig.write_html(r'C:\\Users\\eeeeeeeeee\\Documents\\JupyterAnacondaPythonNotebooks\\Daily\\Charts_px\\PPROD\\{}.html'.format(FileName))\n",
    "plt.close()"
   ]
  },
  {
   "cell_type": "code",
   "execution_count": 147,
   "metadata": {},
   "outputs": [
    {
     "name": "stdout",
     "output_type": "stream",
     "text": [
      "     DatabaseName SchemaName          TableName\n",
      "9215        PPROD        dbo  parents_to_delete\n"
     ]
    }
   ],
   "source": [
    "d = dfpprod0008[['DatabaseName', 'SchemaName','TableName']]#.format(z)\n",
    "d = d.drop_duplicates()\n",
    "e = d['DatabaseName'].values[0]\n",
    "f = d['SchemaName'].values[0]\n",
    "g = d['TableName'].values[0]\n",
    "print (d)\n",
    "FileName = ('PPROD_{}_{}'.format(f,g))\n",
    "\n",
    "fig = px.scatter(dfpprod0008, x = 'TodaysDate', y='RecordCount', size = 'RecordCount', color = 'RecordCount')#.format(z)\n",
    "fig.update_layout(title = '{0},{1},{2}'.format(e,f,g))\n",
    "fig.update_layout(yaxis_zeroline=False, xaxis_zeroline=False)\n",
    "fig.update_xaxes(title_font=dict(size=18, color='crimson'))\n",
    "fig.update_yaxes(title_font=dict(size=18, color='crimson'))\n",
    "fig.update_xaxes(ticks=\"inside\")\n",
    "fig.update_yaxes(ticks=\"inside\")\n",
    "fig.update_xaxes(tickangle=45, tickfont=dict(color='crimson', size=14))\n",
    "fig.update_xaxes(showline=True, linewidth=2, linecolor='black', mirror=True, gridcolor='Pink')\n",
    "fig.update_yaxes(showline=True, linewidth=2, linecolor='black', mirror=True, gridcolor='Red')\n",
    "#fig.show()\n",
    "fig.write_html(r'C:\\Users\\eeeeeeeeee\\Documents\\JupyterAnacondaPythonNotebooks\\Daily\\Charts_px\\PPROD\\{}.html'.format(FileName))\n",
    "plt.close()"
   ]
  },
  {
   "cell_type": "code",
   "execution_count": 148,
   "metadata": {},
   "outputs": [
    {
     "name": "stdout",
     "output_type": "stream",
     "text": [
      "     DatabaseName SchemaName                     TableName\n",
      "2850        PPROD        dbo  PPROD_PPIGP_igpro_icgr_dupes\n"
     ]
    }
   ],
   "source": [
    "d = dfpprod0009[['DatabaseName', 'SchemaName','TableName']]#.format(z)\n",
    "d = d.drop_duplicates()\n",
    "e = d['DatabaseName'].values[0]\n",
    "f = d['SchemaName'].values[0]\n",
    "g = d['TableName'].values[0]\n",
    "print (d)\n",
    "FileName = ('PPROD_{}_{}'.format(f,g))\n",
    "\n",
    "fig = px.scatter(dfpprod0009, x = 'TodaysDate', y='RecordCount', size = 'RecordCount', color = 'RecordCount')#.format(z)\n",
    "fig.update_layout(title = '{0},{1},{2}'.format(e,f,g))\n",
    "fig.update_layout(yaxis_zeroline=False, xaxis_zeroline=False)\n",
    "fig.update_xaxes(title_font=dict(size=18, color='crimson'))\n",
    "fig.update_yaxes(title_font=dict(size=18, color='crimson'))\n",
    "fig.update_xaxes(ticks=\"inside\")\n",
    "fig.update_yaxes(ticks=\"inside\")\n",
    "fig.update_xaxes(tickangle=45, tickfont=dict(color='crimson', size=14))\n",
    "fig.update_xaxes(showline=True, linewidth=2, linecolor='black', mirror=True, gridcolor='Pink')\n",
    "fig.update_yaxes(showline=True, linewidth=2, linecolor='black', mirror=True, gridcolor='Red')\n",
    "#fig.show()\n",
    "fig.write_html(r'C:\\Users\\eeeeeeeeee\\Documents\\JupyterAnacondaPythonNotebooks\\Daily\\Charts_px\\PPROD\\{}.html'.format(FileName))\n",
    "plt.close()"
   ]
  },
  {
   "cell_type": "code",
   "execution_count": 149,
   "metadata": {},
   "outputs": [
    {
     "name": "stdout",
     "output_type": "stream",
     "text": [
      "     DatabaseName SchemaName      TableName\n",
      "3800        PPROD        dbo  SPortalLogins\n"
     ]
    }
   ],
   "source": [
    "d = dfpprod0010[['DatabaseName', 'SchemaName','TableName']]#.format(z)\n",
    "d = d.drop_duplicates()\n",
    "e = d['DatabaseName'].values[0]\n",
    "f = d['SchemaName'].values[0]\n",
    "g = d['TableName'].values[0]\n",
    "print (d)\n",
    "FileName = ('PPROD_{}_{}'.format(f,g))\n",
    "\n",
    "fig = px.scatter(dfpprod0010, x = 'TodaysDate', y='RecordCount', size = 'RecordCount', color = 'RecordCount')#.format(z)\n",
    "fig.update_layout(title = '{0},{1},{2}'.format(e,f,g))\n",
    "fig.update_layout(yaxis_zeroline=False, xaxis_zeroline=False)\n",
    "fig.update_xaxes(title_font=dict(size=18, color='crimson'))\n",
    "fig.update_yaxes(title_font=dict(size=18, color='crimson'))\n",
    "fig.update_xaxes(ticks=\"inside\")\n",
    "fig.update_yaxes(ticks=\"inside\")\n",
    "fig.update_xaxes(tickangle=45, tickfont=dict(color='crimson', size=14))\n",
    "fig.update_xaxes(showline=True, linewidth=2, linecolor='black', mirror=True, gridcolor='Pink')\n",
    "fig.update_yaxes(showline=True, linewidth=2, linecolor='black', mirror=True, gridcolor='Red')\n",
    "#fig.show()\n",
    "fig.write_html(r'C:\\Users\\eeeeeeeeee\\Documents\\JupyterAnacondaPythonNotebooks\\Daily\\Charts_px\\PPROD\\{}.html'.format(FileName))\n",
    "plt.close()"
   ]
  },
  {
   "cell_type": "code",
   "execution_count": 150,
   "metadata": {},
   "outputs": [
    {
     "name": "stdout",
     "output_type": "stream",
     "text": [
      "      DatabaseName SchemaName          TableName\n",
      "10355        PPROD        dbo  stu_rltn_20160726\n"
     ]
    }
   ],
   "source": [
    "d = dfpprod0011[['DatabaseName', 'SchemaName','TableName']]#.format(z)\n",
    "d = d.drop_duplicates()\n",
    "e = d['DatabaseName'].values[0]\n",
    "f = d['SchemaName'].values[0]\n",
    "g = d['TableName'].values[0]\n",
    "print (d)\n",
    "FileName = ('PPROD_{}_{}'.format(f,g))\n",
    "\n",
    "fig = px.scatter(dfpprod0011, x = 'TodaysDate', y='RecordCount', size = 'RecordCount', color = 'RecordCount')#.format(z)\n",
    "fig.update_layout(title = '{0},{1},{2}'.format(e,f,g))\n",
    "fig.update_layout(yaxis_zeroline=False, xaxis_zeroline=False)\n",
    "fig.update_xaxes(title_font=dict(size=18, color='crimson'))\n",
    "fig.update_yaxes(title_font=dict(size=18, color='crimson'))\n",
    "fig.update_xaxes(ticks=\"inside\")\n",
    "fig.update_yaxes(ticks=\"inside\")\n",
    "fig.update_xaxes(tickangle=45, tickfont=dict(color='crimson', size=14))\n",
    "fig.update_xaxes(showline=True, linewidth=2, linecolor='black', mirror=True, gridcolor='Pink')\n",
    "fig.update_yaxes(showline=True, linewidth=2, linecolor='black', mirror=True, gridcolor='Red')\n",
    "#fig.show()\n",
    "fig.write_html(r'C:\\Users\\eeeeeeeeee\\Documents\\JupyterAnacondaPythonNotebooks\\Daily\\Charts_px\\PPROD\\{}.html'.format(FileName))\n",
    "plt.close()"
   ]
  },
  {
   "cell_type": "code",
   "execution_count": 151,
   "metadata": {},
   "outputs": [
    {
     "name": "stdout",
     "output_type": "stream",
     "text": [
      "     DatabaseName SchemaName             TableName\n",
      "6555        PPROD        dbo  STU_SUBT_HIST_Errors\n"
     ]
    }
   ],
   "source": [
    "d = dfpprod0012[['DatabaseName', 'SchemaName','TableName']]#.format(z)\n",
    "d = d.drop_duplicates()\n",
    "e = d['DatabaseName'].values[0]\n",
    "f = d['SchemaName'].values[0]\n",
    "g = d['TableName'].values[0]\n",
    "print (d)\n",
    "FileName = ('PPROD_{}_{}'.format(f,g))\n",
    "\n",
    "fig = px.scatter(dfpprod0012, x = 'TodaysDate', y='RecordCount', size = 'RecordCount', color = 'RecordCount')#.format(z)\n",
    "fig.update_layout(title = '{0},{1},{2}'.format(e,f,g))\n",
    "fig.update_layout(yaxis_zeroline=False, xaxis_zeroline=False)\n",
    "fig.update_xaxes(title_font=dict(size=18, color='crimson'))\n",
    "fig.update_yaxes(title_font=dict(size=18, color='crimson'))\n",
    "fig.update_xaxes(ticks=\"inside\")\n",
    "fig.update_yaxes(ticks=\"inside\")\n",
    "fig.update_xaxes(tickangle=45, tickfont=dict(color='crimson', size=14))\n",
    "fig.update_xaxes(showline=True, linewidth=2, linecolor='black', mirror=True, gridcolor='Pink')\n",
    "fig.update_yaxes(showline=True, linewidth=2, linecolor='black', mirror=True, gridcolor='Red')\n",
    "#fig.show()\n",
    "fig.write_html(r'C:\\Users\\eeeeeeeeee\\Documents\\JupyterAnacondaPythonNotebooks\\Daily\\Charts_px\\PPROD\\{}.html'.format(FileName))\n",
    "plt.close()"
   ]
  },
  {
   "cell_type": "code",
   "execution_count": 152,
   "metadata": {},
   "outputs": [
    {
     "name": "stdout",
     "output_type": "stream",
     "text": [
      "     DatabaseName SchemaName     TableName\n",
      "7505        PPROD        dbo  StudentEmail\n"
     ]
    }
   ],
   "source": [
    "d = dfpprod0013[['DatabaseName', 'SchemaName','TableName']]#.format(z)\n",
    "d = d.drop_duplicates()\n",
    "e = d['DatabaseName'].values[0]\n",
    "f = d['SchemaName'].values[0]\n",
    "g = d['TableName'].values[0]\n",
    "print (d)\n",
    "FileName = ('PPROD_{}_{}'.format(f,g))\n",
    "\n",
    "fig = px.scatter(dfpprod0013, x = 'TodaysDate', y='RecordCount', size = 'RecordCount', color = 'RecordCount')#.format(z)\n",
    "fig.update_layout(title = '{0},{1},{2}'.format(e,f,g))\n",
    "fig.update_layout(yaxis_zeroline=False, xaxis_zeroline=False)\n",
    "fig.update_xaxes(title_font=dict(size=18, color='crimson'))\n",
    "fig.update_yaxes(title_font=dict(size=18, color='crimson'))\n",
    "fig.update_xaxes(ticks=\"inside\")\n",
    "fig.update_yaxes(ticks=\"inside\")\n",
    "fig.update_xaxes(tickangle=45, tickfont=dict(color='crimson', size=14))\n",
    "fig.update_xaxes(showline=True, linewidth=2, linecolor='black', mirror=True, gridcolor='Pink')\n",
    "fig.update_yaxes(showline=True, linewidth=2, linecolor='black', mirror=True, gridcolor='Red')\n",
    "#fig.show()\n",
    "fig.write_html(r'C:\\Users\\eeeeeeeeee\\Documents\\JupyterAnacondaPythonNotebooks\\Daily\\Charts_px\\PPROD\\{}.html'.format(FileName))\n",
    "plt.close()"
   ]
  },
  {
   "cell_type": "code",
   "execution_count": 153,
   "metadata": {},
   "outputs": [
    {
     "name": "stdout",
     "output_type": "stream",
     "text": [
      "      DatabaseName SchemaName           TableName\n",
      "10545        PPROD        dbo  students_to_delete\n"
     ]
    }
   ],
   "source": [
    "d = dfpprod0014[['DatabaseName', 'SchemaName','TableName']]#.format(z)\n",
    "d = d.drop_duplicates()\n",
    "e = d['DatabaseName'].values[0]\n",
    "f = d['SchemaName'].values[0]\n",
    "g = d['TableName'].values[0]\n",
    "print (d)\n",
    "FileName = ('PPROD_{}_{}'.format(f,g))\n",
    "\n",
    "fig = px.scatter(dfpprod0014, x = 'TodaysDate', y='RecordCount', size = 'RecordCount', color = 'RecordCount')#.format(z)\n",
    "fig.update_layout(title = '{0},{1},{2}'.format(e,f,g))\n",
    "fig.update_layout(yaxis_zeroline=False, xaxis_zeroline=False)\n",
    "fig.update_xaxes(title_font=dict(size=18, color='crimson'))\n",
    "fig.update_yaxes(title_font=dict(size=18, color='crimson'))\n",
    "fig.update_xaxes(ticks=\"inside\")\n",
    "fig.update_yaxes(ticks=\"inside\")\n",
    "fig.update_xaxes(tickangle=45, tickfont=dict(color='crimson', size=14))\n",
    "fig.update_xaxes(showline=True, linewidth=2, linecolor='black', mirror=True, gridcolor='Pink')\n",
    "fig.update_yaxes(showline=True, linewidth=2, linecolor='black', mirror=True, gridcolor='Red')\n",
    "#fig.show()\n",
    "fig.write_html(r'C:\\Users\\eeeeeeeeee\\Documents\\JupyterAnacondaPythonNotebooks\\Daily\\Charts_px\\PPROD\\{}.html'.format(FileName))\n",
    "plt.close()"
   ]
  },
  {
   "cell_type": "code",
   "execution_count": 154,
   "metadata": {},
   "outputs": [
    {
     "name": "stdout",
     "output_type": "stream",
     "text": [
      "      DatabaseName SchemaName TableName\n",
      "10735        PPROD        dbo   stulist\n"
     ]
    }
   ],
   "source": [
    "d = dfpprod0015[['DatabaseName', 'SchemaName','TableName']]#.format(z)\n",
    "d = d.drop_duplicates()\n",
    "e = d['DatabaseName'].values[0]\n",
    "f = d['SchemaName'].values[0]\n",
    "g = d['TableName'].values[0]\n",
    "print (d)\n",
    "FileName = ('PPROD_{}_{}'.format(f,g))\n",
    "\n",
    "fig = px.scatter(dfpprod0015, x = 'TodaysDate', y='RecordCount', size = 'RecordCount', color = 'RecordCount')#.format(z)\n",
    "fig.update_layout(title = '{0},{1},{2}'.format(e,f,g))\n",
    "fig.update_layout(yaxis_zeroline=False, xaxis_zeroline=False)\n",
    "fig.update_xaxes(title_font=dict(size=18, color='crimson'))\n",
    "fig.update_yaxes(title_font=dict(size=18, color='crimson'))\n",
    "fig.update_xaxes(ticks=\"inside\")\n",
    "fig.update_yaxes(ticks=\"inside\")\n",
    "fig.update_xaxes(tickangle=45, tickfont=dict(color='crimson', size=14))\n",
    "fig.update_xaxes(showline=True, linewidth=2, linecolor='black', mirror=True, gridcolor='Pink')\n",
    "fig.update_yaxes(showline=True, linewidth=2, linecolor='black', mirror=True, gridcolor='Red')\n",
    "#fig.show()\n",
    "fig.write_html(r'C:\\Users\\eeeeeeeeee\\Documents\\JupyterAnacondaPythonNotebooks\\Daily\\Charts_px\\PPROD\\{}.html'.format(FileName))\n",
    "plt.close()"
   ]
  },
  {
   "cell_type": "code",
   "execution_count": 155,
   "metadata": {},
   "outputs": [
    {
     "name": "stdout",
     "output_type": "stream",
     "text": [
      "      DatabaseName SchemaName                            TableName\n",
      "11590        PPROD        dbo  survey_responses_bak_greg_201702026\n"
     ]
    }
   ],
   "source": [
    "d = dfpprod0016[['DatabaseName', 'SchemaName','TableName']]#.format(z)\n",
    "d = d.drop_duplicates()\n",
    "e = d['DatabaseName'].values[0]\n",
    "f = d['SchemaName'].values[0]\n",
    "g = d['TableName'].values[0]\n",
    "print (d)\n",
    "FileName = ('PPROD_{}_{}'.format(f,g))\n",
    "\n",
    "fig = px.scatter(dfpprod0016, x = 'TodaysDate', y='RecordCount', size = 'RecordCount', color = 'RecordCount')#.format(z)\n",
    "fig.update_layout(title = '{0},{1},{2}'.format(e,f,g))\n",
    "fig.update_layout(yaxis_zeroline=False, xaxis_zeroline=False)\n",
    "fig.update_xaxes(title_font=dict(size=18, color='crimson'))\n",
    "fig.update_yaxes(title_font=dict(size=18, color='crimson'))\n",
    "fig.update_xaxes(ticks=\"inside\")\n",
    "fig.update_yaxes(ticks=\"inside\")\n",
    "fig.update_xaxes(tickangle=45, tickfont=dict(color='crimson', size=14))\n",
    "fig.update_xaxes(showline=True, linewidth=2, linecolor='black', mirror=True, gridcolor='Pink')\n",
    "fig.update_yaxes(showline=True, linewidth=2, linecolor='black', mirror=True, gridcolor='Red')\n",
    "#fig.show()\n",
    "fig.write_html(r'C:\\Users\\eeeeeeeeee\\Documents\\JupyterAnacondaPythonNotebooks\\Daily\\Charts_px\\PPROD\\{}.html'.format(FileName))\n",
    "plt.close()"
   ]
  },
  {
   "cell_type": "code",
   "execution_count": 156,
   "metadata": {},
   "outputs": [
    {
     "name": "stdout",
     "output_type": "stream",
     "text": [
      "      DatabaseName SchemaName    TableName\n",
      "11685        PPROD        dbo  sysdiagrams\n"
     ]
    }
   ],
   "source": [
    "d = dfpprod0017[['DatabaseName', 'SchemaName','TableName']]#.format(z)\n",
    "d = d.drop_duplicates()\n",
    "e = d['DatabaseName'].values[0]\n",
    "f = d['SchemaName'].values[0]\n",
    "g = d['TableName'].values[0]\n",
    "print (d)\n",
    "FileName = ('PPROD_{}_{}'.format(f,g))\n",
    "\n",
    "fig = px.scatter(dfpprod0017, x = 'TodaysDate', y='RecordCount', size = 'RecordCount', color = 'RecordCount')#.format(z)\n",
    "fig.update_layout(title = '{0},{1},{2}'.format(e,f,g))\n",
    "fig.update_layout(yaxis_zeroline=False, xaxis_zeroline=False)\n",
    "fig.update_xaxes(title_font=dict(size=18, color='crimson'))\n",
    "fig.update_yaxes(title_font=dict(size=18, color='crimson'))\n",
    "fig.update_xaxes(ticks=\"inside\")\n",
    "fig.update_yaxes(ticks=\"inside\")\n",
    "fig.update_xaxes(tickangle=45, tickfont=dict(color='crimson', size=14))\n",
    "fig.update_xaxes(showline=True, linewidth=2, linecolor='black', mirror=True, gridcolor='Pink')\n",
    "fig.update_yaxes(showline=True, linewidth=2, linecolor='black', mirror=True, gridcolor='Red')\n",
    "#fig.show()\n",
    "fig.write_html(r'C:\\Users\\eeeeeeeeee\\Documents\\JupyterAnacondaPythonNotebooks\\Daily\\Charts_px\\PPROD\\{}.html'.format(FileName))\n",
    "plt.close()"
   ]
  },
  {
   "cell_type": "code",
   "execution_count": 157,
   "metadata": {},
   "outputs": [
    {
     "name": "stdout",
     "output_type": "stream",
     "text": [
      "      DatabaseName SchemaName TableName\n",
      "11780        PPROD        dbo  test_trm\n"
     ]
    }
   ],
   "source": [
    "d = dfpprod0018[['DatabaseName', 'SchemaName','TableName']]#.format(z)\n",
    "d = d.drop_duplicates()\n",
    "e = d['DatabaseName'].values[0]\n",
    "f = d['SchemaName'].values[0]\n",
    "g = d['TableName'].values[0]\n",
    "print (d)\n",
    "FileName = ('PPROD_{}_{}'.format(f,g))\n",
    "\n",
    "fig = px.scatter(dfpprod0018, x = 'TodaysDate', y='RecordCount', size = 'RecordCount', color = 'RecordCount')#.format(z)\n",
    "fig.update_layout(title = '{0},{1},{2}'.format(e,f,g))\n",
    "fig.update_layout(yaxis_zeroline=False, xaxis_zeroline=False)\n",
    "fig.update_xaxes(title_font=dict(size=18, color='crimson'))\n",
    "fig.update_yaxes(title_font=dict(size=18, color='crimson'))\n",
    "fig.update_xaxes(ticks=\"inside\")\n",
    "fig.update_yaxes(ticks=\"inside\")\n",
    "fig.update_xaxes(tickangle=45, tickfont=dict(color='crimson', size=14))\n",
    "fig.update_xaxes(showline=True, linewidth=2, linecolor='black', mirror=True, gridcolor='Pink')\n",
    "fig.update_yaxes(showline=True, linewidth=2, linecolor='black', mirror=True, gridcolor='Red')\n",
    "#fig.show()\n",
    "fig.write_html(r'C:\\Users\\eeeeeeeeee\\Documents\\JupyterAnacondaPythonNotebooks\\Daily\\Charts_px\\PPROD\\{}.html'.format(FileName))\n",
    "plt.close()"
   ]
  },
  {
   "cell_type": "code",
   "execution_count": 158,
   "metadata": {},
   "outputs": [
    {
     "name": "stdout",
     "output_type": "stream",
     "text": [
      "      DatabaseName SchemaName             TableName\n",
      "11875        PPROD        dbo  testme_CRS_MSTR_SCHD\n"
     ]
    }
   ],
   "source": [
    "d = dfpprod0019[['DatabaseName', 'SchemaName','TableName']]#.format(z)\n",
    "d = d.drop_duplicates()\n",
    "e = d['DatabaseName'].values[0]\n",
    "f = d['SchemaName'].values[0]\n",
    "g = d['TableName'].values[0]\n",
    "print (d)\n",
    "FileName = ('PPROD_{}_{}'.format(f,g))\n",
    "\n",
    "fig = px.scatter(dfpprod0019, x = 'TodaysDate', y='RecordCount', size = 'RecordCount', color = 'RecordCount')#.format(z)\n",
    "fig.update_layout(title = '{0},{1},{2}'.format(e,f,g))\n",
    "fig.update_layout(yaxis_zeroline=False, xaxis_zeroline=False)\n",
    "fig.update_xaxes(title_font=dict(size=18, color='crimson'))\n",
    "fig.update_yaxes(title_font=dict(size=18, color='crimson'))\n",
    "fig.update_xaxes(ticks=\"inside\")\n",
    "fig.update_yaxes(ticks=\"inside\")\n",
    "fig.update_xaxes(tickangle=45, tickfont=dict(color='crimson', size=14))\n",
    "fig.update_xaxes(showline=True, linewidth=2, linecolor='black', mirror=True, gridcolor='Pink')\n",
    "fig.update_yaxes(showline=True, linewidth=2, linecolor='black', mirror=True, gridcolor='Red')\n",
    "#fig.show()\n",
    "fig.write_html(r'C:\\Users\\eeeeeeeeee\\Documents\\JupyterAnacondaPythonNotebooks\\Daily\\Charts_px\\PPROD\\{}.html'.format(FileName))\n",
    "plt.close()"
   ]
  },
  {
   "cell_type": "code",
   "execution_count": 159,
   "metadata": {},
   "outputs": [
    {
     "name": "stdout",
     "output_type": "stream",
     "text": [
      "      DatabaseName SchemaName           TableName\n",
      "11970        PPROD        dbo  work_stu_curr_schd\n"
     ]
    }
   ],
   "source": [
    "d = dfpprod0020[['DatabaseName', 'SchemaName','TableName']]#.format(z)\n",
    "d = d.drop_duplicates()\n",
    "e = d['DatabaseName'].values[0]\n",
    "f = d['SchemaName'].values[0]\n",
    "g = d['TableName'].values[0]\n",
    "print (d)\n",
    "FileName = ('PPROD_{}_{}'.format(f,g))\n",
    "\n",
    "fig = px.scatter(dfpprod0020, x = 'TodaysDate', y='RecordCount', size = 'RecordCount', color = 'RecordCount')#.format(z)\n",
    "fig.update_layout(title = '{0},{1},{2}'.format(e,f,g))\n",
    "fig.update_layout(yaxis_zeroline=False, xaxis_zeroline=False)\n",
    "fig.update_xaxes(title_font=dict(size=18, color='crimson'))\n",
    "fig.update_yaxes(title_font=dict(size=18, color='crimson'))\n",
    "fig.update_xaxes(ticks=\"inside\")\n",
    "fig.update_yaxes(ticks=\"inside\")\n",
    "fig.update_xaxes(tickangle=45, tickfont=dict(color='crimson', size=14))\n",
    "fig.update_xaxes(showline=True, linewidth=2, linecolor='black', mirror=True, gridcolor='Pink')\n",
    "fig.update_yaxes(showline=True, linewidth=2, linecolor='black', mirror=True, gridcolor='Red')\n",
    "#fig.show()\n",
    "fig.write_html(r'C:\\Users\\eeeeeeeeee\\Documents\\JupyterAnacondaPythonNotebooks\\Daily\\Charts_px\\PPROD\\{}.html'.format(FileName))\n",
    "plt.close()"
   ]
  },
  {
   "cell_type": "code",
   "execution_count": 160,
   "metadata": {},
   "outputs": [
    {
     "name": "stdout",
     "output_type": "stream",
     "text": [
      "  DatabaseName SchemaName   TableName\n",
      "0        PPROD         PP  Admin_User\n"
     ]
    }
   ],
   "source": [
    "d = dfpprod0021[['DatabaseName', 'SchemaName','TableName']]#.format(z)\n",
    "d = d.drop_duplicates()\n",
    "e = d['DatabaseName'].values[0]\n",
    "f = d['SchemaName'].values[0]\n",
    "g = d['TableName'].values[0]\n",
    "print (d)\n",
    "FileName = ('PPROD_{}_{}'.format(f,g))\n",
    "\n",
    "fig = px.scatter(dfpprod0021, x = 'TodaysDate', y='RecordCount', size = 'RecordCount', color = 'RecordCount')#.format(z)\n",
    "fig.update_layout(title = '{0},{1},{2}'.format(e,f,g))\n",
    "fig.update_layout(yaxis_zeroline=False, xaxis_zeroline=False)\n",
    "fig.update_xaxes(title_font=dict(size=18, color='crimson'))\n",
    "fig.update_yaxes(title_font=dict(size=18, color='crimson'))\n",
    "fig.update_xaxes(ticks=\"inside\")\n",
    "fig.update_yaxes(ticks=\"inside\")\n",
    "fig.update_xaxes(tickangle=45, tickfont=dict(color='crimson', size=14))\n",
    "fig.update_xaxes(showline=True, linewidth=2, linecolor='black', mirror=True, gridcolor='Pink')\n",
    "fig.update_yaxes(showline=True, linewidth=2, linecolor='black', mirror=True, gridcolor='Red')\n",
    "#fig.show()\n",
    "fig.write_html(r'C:\\Users\\eeeeeeeeee\\Documents\\JupyterAnacondaPythonNotebooks\\Daily\\Charts_px\\PPROD\\{}.html'.format(FileName))\n",
    "plt.close()"
   ]
  },
  {
   "cell_type": "code",
   "execution_count": 161,
   "metadata": {},
   "outputs": [
    {
     "name": "stdout",
     "output_type": "stream",
     "text": [
      "    DatabaseName SchemaName      TableName\n",
      "380        PPROD         PP  ClassSchedule\n"
     ]
    }
   ],
   "source": [
    "d = dfpprod0022[['DatabaseName', 'SchemaName','TableName']]#.format(z)\n",
    "d = d.drop_duplicates()\n",
    "e = d['DatabaseName'].values[0]\n",
    "f = d['SchemaName'].values[0]\n",
    "g = d['TableName'].values[0]\n",
    "print (d)\n",
    "FileName = ('PPROD_{}_{}'.format(f,g))\n",
    "\n",
    "fig = px.scatter(dfpprod0022, x = 'TodaysDate', y='RecordCount', size = 'RecordCount', color = 'RecordCount')#.format(z)\n",
    "fig.update_layout(title = '{0},{1},{2}'.format(e,f,g))\n",
    "fig.update_layout(yaxis_zeroline=False, xaxis_zeroline=False)\n",
    "fig.update_xaxes(title_font=dict(size=18, color='crimson'))\n",
    "fig.update_yaxes(title_font=dict(size=18, color='crimson'))\n",
    "fig.update_xaxes(ticks=\"inside\")\n",
    "fig.update_yaxes(ticks=\"inside\")\n",
    "fig.update_xaxes(tickangle=45, tickfont=dict(color='crimson', size=14))\n",
    "fig.update_xaxes(showline=True, linewidth=2, linecolor='black', mirror=True, gridcolor='Pink')\n",
    "fig.update_yaxes(showline=True, linewidth=2, linecolor='black', mirror=True, gridcolor='Red')\n",
    "#fig.show()\n",
    "fig.write_html(r'C:\\Users\\eeeeeeeeee\\Documents\\JupyterAnacondaPythonNotebooks\\Daily\\Charts_px\\PPROD\\{}.html'.format(FileName))\n",
    "plt.close()"
   ]
  },
  {
   "cell_type": "code",
   "execution_count": 162,
   "metadata": {},
   "outputs": [
    {
     "name": "stdout",
     "output_type": "stream",
     "text": [
      "    DatabaseName SchemaName     TableName\n",
      "475        PPROD         PP  CompareDiffs\n"
     ]
    }
   ],
   "source": [
    "d = dfpprod0023[['DatabaseName', 'SchemaName','TableName']]#.format(z)\n",
    "d = d.drop_duplicates()\n",
    "e = d['DatabaseName'].values[0]\n",
    "f = d['SchemaName'].values[0]\n",
    "g = d['TableName'].values[0]\n",
    "print (d)\n",
    "FileName = ('PPROD_{}_{}'.format(f,g))\n",
    "\n",
    "fig = px.scatter(dfpprod0023, x = 'TodaysDate', y='RecordCount', size = 'RecordCount', color = 'RecordCount')#.format(z)\n",
    "fig.update_layout(title = '{0},{1},{2}'.format(e,f,g))\n",
    "fig.update_layout(yaxis_zeroline=False, xaxis_zeroline=False)\n",
    "fig.update_xaxes(title_font=dict(size=18, color='crimson'))\n",
    "fig.update_yaxes(title_font=dict(size=18, color='crimson'))\n",
    "fig.update_xaxes(ticks=\"inside\")\n",
    "fig.update_yaxes(ticks=\"inside\")\n",
    "fig.update_xaxes(tickangle=45, tickfont=dict(color='crimson', size=14))\n",
    "fig.update_xaxes(showline=True, linewidth=2, linecolor='black', mirror=True, gridcolor='Pink')\n",
    "fig.update_yaxes(showline=True, linewidth=2, linecolor='black', mirror=True, gridcolor='Red')\n",
    "#fig.show()\n",
    "fig.write_html(r'C:\\Users\\eeeeeeeeee\\Documents\\JupyterAnacondaPythonNotebooks\\Daily\\Charts_px\\PPROD\\{}.html'.format(FileName))\n",
    "plt.close()"
   ]
  },
  {
   "cell_type": "code",
   "execution_count": 163,
   "metadata": {},
   "outputs": [
    {
     "name": "stdout",
     "output_type": "stream",
     "text": [
      "    DatabaseName SchemaName         TableName\n",
      "570        PPROD         PP  CompareDiffs2DB2\n"
     ]
    }
   ],
   "source": [
    "d = dfpprod0024[['DatabaseName', 'SchemaName','TableName']]#.format(z)\n",
    "d = d.drop_duplicates()\n",
    "e = d['DatabaseName'].values[0]\n",
    "f = d['SchemaName'].values[0]\n",
    "g = d['TableName'].values[0]\n",
    "print (d)\n",
    "FileName = ('PPROD_{}_{}'.format(f,g))\n",
    "\n",
    "fig = px.scatter(dfpprod0024, x = 'TodaysDate', y='RecordCount', size = 'RecordCount', color = 'RecordCount')#.format(z)\n",
    "fig.update_layout(title = '{0},{1},{2}'.format(e,f,g))\n",
    "fig.update_layout(yaxis_zeroline=False, xaxis_zeroline=False)\n",
    "fig.update_xaxes(title_font=dict(size=18, color='crimson'))\n",
    "fig.update_yaxes(title_font=dict(size=18, color='crimson'))\n",
    "fig.update_xaxes(ticks=\"inside\")\n",
    "fig.update_yaxes(ticks=\"inside\")\n",
    "fig.update_xaxes(tickangle=45, tickfont=dict(color='crimson', size=14))\n",
    "fig.update_xaxes(showline=True, linewidth=2, linecolor='black', mirror=True, gridcolor='Pink')\n",
    "fig.update_yaxes(showline=True, linewidth=2, linecolor='black', mirror=True, gridcolor='Red')\n",
    "#fig.show()\n",
    "fig.write_html(r'C:\\Users\\eeeeeeeeee\\Documents\\JupyterAnacondaPythonNotebooks\\Daily\\Charts_px\\PPROD\\{}.html'.format(FileName))\n",
    "plt.close()"
   ]
  },
  {
   "cell_type": "code",
   "execution_count": 164,
   "metadata": {},
   "outputs": [
    {
     "name": "stdout",
     "output_type": "stream",
     "text": [
      "     DatabaseName SchemaName      TableName\n",
      "8170        PPROD         PP  crs_mstr_schd\n"
     ]
    }
   ],
   "source": [
    "d = dfpprod0025[['DatabaseName', 'SchemaName','TableName']]#.format(z)\n",
    "d = d.drop_duplicates()\n",
    "e = d['DatabaseName'].values[0]\n",
    "f = d['SchemaName'].values[0]\n",
    "g = d['TableName'].values[0]\n",
    "print (d)\n",
    "FileName = ('PPROD_{}_{}'.format(f,g))\n",
    "\n",
    "fig = px.scatter(dfpprod0025, x = 'TodaysDate', y='RecordCount', size = 'RecordCount', color = 'RecordCount')#.format(z)\n",
    "fig.update_layout(title = '{0},{1},{2}'.format(e,f,g))\n",
    "fig.update_layout(yaxis_zeroline=False, xaxis_zeroline=False)\n",
    "fig.update_xaxes(title_font=dict(size=18, color='crimson'))\n",
    "fig.update_yaxes(title_font=dict(size=18, color='crimson'))\n",
    "fig.update_xaxes(ticks=\"inside\")\n",
    "fig.update_yaxes(ticks=\"inside\")\n",
    "fig.update_xaxes(tickangle=45, tickfont=dict(color='crimson', size=14))\n",
    "fig.update_xaxes(showline=True, linewidth=2, linecolor='black', mirror=True, gridcolor='Pink')\n",
    "fig.update_yaxes(showline=True, linewidth=2, linecolor='black', mirror=True, gridcolor='Red')\n",
    "#fig.show()\n",
    "fig.write_html(r'C:\\Users\\eeeeeeeeee\\Documents\\JupyterAnacondaPythonNotebooks\\Daily\\Charts_px\\PPROD\\{}.html'.format(FileName))\n",
    "plt.close()"
   ]
  },
  {
   "cell_type": "code",
   "execution_count": 165,
   "metadata": {},
   "outputs": [
    {
     "name": "stdout",
     "output_type": "stream",
     "text": [
      "     DatabaseName SchemaName         TableName\n",
      "8455        PPROD         PP  emp_email_backup\n"
     ]
    }
   ],
   "source": [
    "d = dfpprod0026[['DatabaseName', 'SchemaName','TableName']]#.format(z)\n",
    "d = d.drop_duplicates()\n",
    "e = d['DatabaseName'].values[0]\n",
    "f = d['SchemaName'].values[0]\n",
    "g = d['TableName'].values[0]\n",
    "print (d)\n",
    "FileName = ('PPROD_{}_{}'.format(f,g))\n",
    "\n",
    "fig = px.scatter(dfpprod0026, x = 'TodaysDate', y='RecordCount', size = 'RecordCount', color = 'RecordCount')#.format(z)\n",
    "fig.update_layout(title = '{0},{1},{2}'.format(e,f,g))\n",
    "fig.update_layout(yaxis_zeroline=False, xaxis_zeroline=False)\n",
    "fig.update_xaxes(title_font=dict(size=18, color='crimson'))\n",
    "fig.update_yaxes(title_font=dict(size=18, color='crimson'))\n",
    "fig.update_xaxes(ticks=\"inside\")\n",
    "fig.update_yaxes(ticks=\"inside\")\n",
    "fig.update_xaxes(tickangle=45, tickfont=dict(color='crimson', size=14))\n",
    "fig.update_xaxes(showline=True, linewidth=2, linecolor='black', mirror=True, gridcolor='Pink')\n",
    "fig.update_yaxes(showline=True, linewidth=2, linecolor='black', mirror=True, gridcolor='Red')\n",
    "#fig.show()\n",
    "fig.write_html(r'C:\\Users\\eeeeeeeeee\\Documents\\JupyterAnacondaPythonNotebooks\\Daily\\Charts_px\\PPROD\\{}.html'.format(FileName))\n",
    "plt.close()"
   ]
  },
  {
   "cell_type": "code",
   "execution_count": 166,
   "metadata": {},
   "outputs": [
    {
     "name": "stdout",
     "output_type": "stream",
     "text": [
      "     DatabaseName SchemaName TableName\n",
      "1045        PPROD         PP  Empl_Sch\n"
     ]
    }
   ],
   "source": [
    "d = dfpprod0027[['DatabaseName', 'SchemaName','TableName']]#.format(z)\n",
    "d = d.drop_duplicates()\n",
    "e = d['DatabaseName'].values[0]\n",
    "f = d['SchemaName'].values[0]\n",
    "g = d['TableName'].values[0]\n",
    "print (d)\n",
    "FileName = ('PPROD_{}_{}'.format(f,g))\n",
    "\n",
    "fig = px.scatter(dfpprod0027, x = 'TodaysDate', y='RecordCount', size = 'RecordCount', color = 'RecordCount')#.format(z)\n",
    "fig.update_layout(title = '{0},{1},{2}'.format(e,f,g))\n",
    "fig.update_layout(yaxis_zeroline=False, xaxis_zeroline=False)\n",
    "fig.update_xaxes(title_font=dict(size=18, color='crimson'))\n",
    "fig.update_yaxes(title_font=dict(size=18, color='crimson'))\n",
    "fig.update_xaxes(ticks=\"inside\")\n",
    "fig.update_yaxes(ticks=\"inside\")\n",
    "fig.update_xaxes(tickangle=45, tickfont=dict(color='crimson', size=14))\n",
    "fig.update_xaxes(showline=True, linewidth=2, linecolor='black', mirror=True, gridcolor='Pink')\n",
    "fig.update_yaxes(showline=True, linewidth=2, linecolor='black', mirror=True, gridcolor='Red')\n",
    "#fig.show()\n",
    "fig.write_html(r'C:\\Users\\eeeeeeeeee\\Documents\\JupyterAnacondaPythonNotebooks\\Daily\\Charts_px\\PPROD\\{}.html'.format(FileName))\n",
    "plt.close()"
   ]
  },
  {
   "cell_type": "code",
   "execution_count": 167,
   "metadata": {},
   "outputs": [
    {
     "name": "stdout",
     "output_type": "stream",
     "text": [
      "     DatabaseName SchemaName       TableName\n",
      "1140        PPROD         PP  Employee_Email\n"
     ]
    }
   ],
   "source": [
    "d = dfpprod0028[['DatabaseName', 'SchemaName','TableName']]#.format(z)\n",
    "d = d.drop_duplicates()\n",
    "e = d['DatabaseName'].values[0]\n",
    "f = d['SchemaName'].values[0]\n",
    "g = d['TableName'].values[0]\n",
    "print (d)\n",
    "FileName = ('PPROD_{}_{}'.format(f,g))\n",
    "\n",
    "fig = px.scatter(dfpprod0028, x = 'TodaysDate', y='RecordCount', size = 'RecordCount', color = 'RecordCount')#.format(z)\n",
    "fig.update_layout(title = '{0},{1},{2}'.format(e,f,g))\n",
    "fig.update_layout(yaxis_zeroline=False, xaxis_zeroline=False)\n",
    "fig.update_xaxes(title_font=dict(size=18, color='crimson'))\n",
    "fig.update_yaxes(title_font=dict(size=18, color='crimson'))\n",
    "fig.update_xaxes(ticks=\"inside\")\n",
    "fig.update_yaxes(ticks=\"inside\")\n",
    "fig.update_xaxes(tickangle=45, tickfont=dict(color='crimson', size=14))\n",
    "fig.update_xaxes(showline=True, linewidth=2, linecolor='black', mirror=True, gridcolor='Pink')\n",
    "fig.update_yaxes(showline=True, linewidth=2, linecolor='black', mirror=True, gridcolor='Red')\n",
    "#fig.show()\n",
    "fig.write_html(r'C:\\Users\\eeeeeeeeee\\Documents\\JupyterAnacondaPythonNotebooks\\Daily\\Charts_px\\PPROD\\{}.html'.format(FileName))\n",
    "plt.close()"
   ]
  },
  {
   "cell_type": "code",
   "execution_count": 168,
   "metadata": {},
   "outputs": [
    {
     "name": "stdout",
     "output_type": "stream",
     "text": [
      "     DatabaseName SchemaName            TableName\n",
      "1235        PPROD         PP  Employee_Email_Test\n"
     ]
    }
   ],
   "source": [
    "d = dfpprod0029[['DatabaseName', 'SchemaName','TableName']]#.format(z)\n",
    "d = d.drop_duplicates()\n",
    "e = d['DatabaseName'].values[0]\n",
    "f = d['SchemaName'].values[0]\n",
    "g = d['TableName'].values[0]\n",
    "print (d)\n",
    "FileName = ('PPROD_{}_{}'.format(f,g))\n",
    "\n",
    "fig = px.scatter(dfpprod0029, x = 'TodaysDate', y='RecordCount', size = 'RecordCount', color = 'RecordCount')#.format(z)\n",
    "fig.update_layout(title = '{0},{1},{2}'.format(e,f,g))\n",
    "fig.update_layout(yaxis_zeroline=False, xaxis_zeroline=False)\n",
    "fig.update_xaxes(title_font=dict(size=18, color='crimson'))\n",
    "fig.update_yaxes(title_font=dict(size=18, color='crimson'))\n",
    "fig.update_xaxes(ticks=\"inside\")\n",
    "fig.update_yaxes(ticks=\"inside\")\n",
    "fig.update_xaxes(tickangle=45, tickfont=dict(color='crimson', size=14))\n",
    "fig.update_xaxes(showline=True, linewidth=2, linecolor='black', mirror=True, gridcolor='Pink')\n",
    "fig.update_yaxes(showline=True, linewidth=2, linecolor='black', mirror=True, gridcolor='Red')\n",
    "#fig.show()\n",
    "fig.write_html(r'C:\\Users\\eeeeeeeeee\\Documents\\JupyterAnacondaPythonNotebooks\\Daily\\Charts_px\\PPROD\\{}.html'.format(FileName))\n",
    "plt.close()"
   ]
  },
  {
   "cell_type": "code",
   "execution_count": 169,
   "metadata": {},
   "outputs": [
    {
     "name": "stdout",
     "output_type": "stream",
     "text": [
      "     DatabaseName SchemaName                TableName\n",
      "8550        PPROD         PP  freeze_schedule_schools\n"
     ]
    }
   ],
   "source": [
    "d = dfpprod0030[['DatabaseName', 'SchemaName','TableName']]#.format(z)\n",
    "d = d.drop_duplicates()\n",
    "e = d['DatabaseName'].values[0]\n",
    "f = d['SchemaName'].values[0]\n",
    "g = d['TableName'].values[0]\n",
    "print (d)\n",
    "FileName = ('PPROD_{}_{}'.format(f,g))\n",
    "\n",
    "fig = px.scatter(dfpprod0030, x = 'TodaysDate', y='RecordCount', size = 'RecordCount', color = 'RecordCount')#.format(z)\n",
    "fig.update_layout(title = '{0},{1},{2}'.format(e,f,g))\n",
    "fig.update_layout(yaxis_zeroline=False, xaxis_zeroline=False)\n",
    "fig.update_xaxes(title_font=dict(size=18, color='crimson'))\n",
    "fig.update_yaxes(title_font=dict(size=18, color='crimson'))\n",
    "fig.update_xaxes(ticks=\"inside\")\n",
    "fig.update_yaxes(ticks=\"inside\")\n",
    "fig.update_xaxes(tickangle=45, tickfont=dict(color='crimson', size=14))\n",
    "fig.update_xaxes(showline=True, linewidth=2, linecolor='black', mirror=True, gridcolor='Pink')\n",
    "fig.update_yaxes(showline=True, linewidth=2, linecolor='black', mirror=True, gridcolor='Red')\n",
    "#fig.show()\n",
    "fig.write_html(r'C:\\Users\\eeeeeeeeee\\Documents\\JupyterAnacondaPythonNotebooks\\Daily\\Charts_px\\PPROD\\{}.html'.format(FileName))\n",
    "plt.close()"
   ]
  },
  {
   "cell_type": "code",
   "execution_count": 170,
   "metadata": {},
   "outputs": [
    {
     "name": "stdout",
     "output_type": "stream",
     "text": [
      "     DatabaseName SchemaName          TableName\n",
      "1330        PPROD         PP  GradeBookAverages\n"
     ]
    }
   ],
   "source": [
    "d = dfpprod0031[['DatabaseName', 'SchemaName','TableName']]#.format(z)\n",
    "d = d.drop_duplicates()\n",
    "e = d['DatabaseName'].values[0]\n",
    "f = d['SchemaName'].values[0]\n",
    "g = d['TableName'].values[0]\n",
    "print (d)\n",
    "FileName = ('PPROD_{}_{}'.format(f,g))\n",
    "\n",
    "fig = px.scatter(dfpprod0031, x = 'TodaysDate', y='RecordCount', size = 'RecordCount', color = 'RecordCount')#.format(z)\n",
    "fig.update_layout(title = '{0},{1},{2}'.format(e,f,g))\n",
    "fig.update_layout(yaxis_zeroline=False, xaxis_zeroline=False)\n",
    "fig.update_xaxes(title_font=dict(size=18, color='crimson'))\n",
    "fig.update_yaxes(title_font=dict(size=18, color='crimson'))\n",
    "fig.update_xaxes(ticks=\"inside\")\n",
    "fig.update_yaxes(ticks=\"inside\")\n",
    "fig.update_xaxes(tickangle=45, tickfont=dict(color='crimson', size=14))\n",
    "fig.update_xaxes(showline=True, linewidth=2, linecolor='black', mirror=True, gridcolor='Pink')\n",
    "fig.update_yaxes(showline=True, linewidth=2, linecolor='black', mirror=True, gridcolor='Red')\n",
    "#fig.show()\n",
    "fig.write_html(r'C:\\Users\\eeeeeeeeee\\Documents\\JupyterAnacondaPythonNotebooks\\Daily\\Charts_px\\PPROD\\{}.html'.format(FileName))\n",
    "plt.close()"
   ]
  },
  {
   "cell_type": "code",
   "execution_count": 171,
   "metadata": {},
   "outputs": [
    {
     "name": "stdout",
     "output_type": "stream",
     "text": [
      "     DatabaseName SchemaName      TableName\n",
      "1615        PPROD         PP  Help_Contexts\n"
     ]
    }
   ],
   "source": [
    "d = dfpprod0032[['DatabaseName', 'SchemaName','TableName']]#.format(z)\n",
    "d = d.drop_duplicates()\n",
    "e = d['DatabaseName'].values[0]\n",
    "f = d['SchemaName'].values[0]\n",
    "g = d['TableName'].values[0]\n",
    "print (d)\n",
    "FileName = ('PPROD_{}_{}'.format(f,g))\n",
    "\n",
    "fig = px.scatter(dfpprod0032, x = 'TodaysDate', y='RecordCount', size = 'RecordCount', color = 'RecordCount')#.format(z)\n",
    "fig.update_layout(title = '{0},{1},{2}'.format(e,f,g))\n",
    "fig.update_layout(yaxis_zeroline=False, xaxis_zeroline=False)\n",
    "fig.update_xaxes(title_font=dict(size=18, color='crimson'))\n",
    "fig.update_yaxes(title_font=dict(size=18, color='crimson'))\n",
    "fig.update_xaxes(ticks=\"inside\")\n",
    "fig.update_yaxes(ticks=\"inside\")\n",
    "fig.update_xaxes(tickangle=45, tickfont=dict(color='crimson', size=14))\n",
    "fig.update_xaxes(showline=True, linewidth=2, linecolor='black', mirror=True, gridcolor='Pink')\n",
    "fig.update_yaxes(showline=True, linewidth=2, linecolor='black', mirror=True, gridcolor='Red')\n",
    "#fig.show()\n",
    "fig.write_html(r'C:\\Users\\eeeeeeeeee\\Documents\\JupyterAnacondaPythonNotebooks\\Daily\\Charts_px\\PPROD\\{}.html'.format(FileName))\n",
    "plt.close()"
   ]
  },
  {
   "cell_type": "code",
   "execution_count": 172,
   "metadata": {},
   "outputs": [
    {
     "name": "stdout",
     "output_type": "stream",
     "text": [
      "     DatabaseName SchemaName               TableName\n",
      "1710        PPROD         PP  Help_Question_Contexts\n"
     ]
    }
   ],
   "source": [
    "d = dfpprod0033[['DatabaseName', 'SchemaName','TableName']]#.format(z)\n",
    "d = d.drop_duplicates()\n",
    "e = d['DatabaseName'].values[0]\n",
    "f = d['SchemaName'].values[0]\n",
    "g = d['TableName'].values[0]\n",
    "print (d)\n",
    "FileName = ('PPROD_{}_{}'.format(f,g))\n",
    "\n",
    "fig = px.scatter(dfpprod0033, x = 'TodaysDate', y='RecordCount', size = 'RecordCount', color = 'RecordCount')#.format(z)\n",
    "fig.update_layout(title = '{0},{1},{2}'.format(e,f,g))\n",
    "fig.update_layout(yaxis_zeroline=False, xaxis_zeroline=False)\n",
    "fig.update_xaxes(title_font=dict(size=18, color='crimson'))\n",
    "fig.update_yaxes(title_font=dict(size=18, color='crimson'))\n",
    "fig.update_xaxes(ticks=\"inside\")\n",
    "fig.update_yaxes(ticks=\"inside\")\n",
    "fig.update_xaxes(tickangle=45, tickfont=dict(color='crimson', size=14))\n",
    "fig.update_xaxes(showline=True, linewidth=2, linecolor='black', mirror=True, gridcolor='Pink')\n",
    "fig.update_yaxes(showline=True, linewidth=2, linecolor='black', mirror=True, gridcolor='Red')\n",
    "#fig.show()\n",
    "fig.write_html(r'C:\\Users\\eeeeeeeeee\\Documents\\JupyterAnacondaPythonNotebooks\\Daily\\Charts_px\\PPROD\\{}.html'.format(FileName))\n",
    "plt.close()"
   ]
  },
  {
   "cell_type": "code",
   "execution_count": 173,
   "metadata": {},
   "outputs": [
    {
     "name": "stdout",
     "output_type": "stream",
     "text": [
      "     DatabaseName SchemaName       TableName\n",
      "1805        PPROD         PP  Help_Questions\n"
     ]
    }
   ],
   "source": [
    "d = dfpprod0034[['DatabaseName', 'SchemaName','TableName']]#.format(z)\n",
    "d = d.drop_duplicates()\n",
    "e = d['DatabaseName'].values[0]\n",
    "f = d['SchemaName'].values[0]\n",
    "g = d['TableName'].values[0]\n",
    "print (d)\n",
    "FileName = ('PPROD_{}_{}'.format(f,g))\n",
    "\n",
    "fig = px.scatter(dfpprod0034, x = 'TodaysDate', y='RecordCount', size = 'RecordCount', color = 'RecordCount')#.format(z)\n",
    "fig.update_layout(title = '{0},{1},{2}'.format(e,f,g))\n",
    "fig.update_layout(yaxis_zeroline=False, xaxis_zeroline=False)\n",
    "fig.update_xaxes(title_font=dict(size=18, color='crimson'))\n",
    "fig.update_yaxes(title_font=dict(size=18, color='crimson'))\n",
    "fig.update_xaxes(ticks=\"inside\")\n",
    "fig.update_yaxes(ticks=\"inside\")\n",
    "fig.update_xaxes(tickangle=45, tickfont=dict(color='crimson', size=14))\n",
    "fig.update_xaxes(showline=True, linewidth=2, linecolor='black', mirror=True, gridcolor='Pink')\n",
    "fig.update_yaxes(showline=True, linewidth=2, linecolor='black', mirror=True, gridcolor='Red')\n",
    "#fig.show()\n",
    "fig.write_html(r'C:\\Users\\eeeeeeeeee\\Documents\\JupyterAnacondaPythonNotebooks\\Daily\\Charts_px\\PPROD\\{}.html'.format(FileName))\n",
    "plt.close()"
   ]
  },
  {
   "cell_type": "code",
   "execution_count": 174,
   "metadata": {},
   "outputs": [
    {
     "name": "stdout",
     "output_type": "stream",
     "text": [
      "     DatabaseName SchemaName    TableName\n",
      "1900        PPROD         PP  LANG_HEADER\n"
     ]
    }
   ],
   "source": [
    "d = dfpprod0035[['DatabaseName', 'SchemaName','TableName']]#.format(z)\n",
    "d = d.drop_duplicates()\n",
    "e = d['DatabaseName'].values[0]\n",
    "f = d['SchemaName'].values[0]\n",
    "g = d['TableName'].values[0]\n",
    "print (d)\n",
    "FileName = ('PPROD_{}_{}'.format(f,g))\n",
    "\n",
    "fig = px.scatter(dfpprod0035, x = 'TodaysDate', y='RecordCount', size = 'RecordCount', color = 'RecordCount')#.format(z)\n",
    "fig.update_layout(title = '{0},{1},{2}'.format(e,f,g))\n",
    "fig.update_layout(yaxis_zeroline=False, xaxis_zeroline=False)\n",
    "fig.update_xaxes(title_font=dict(size=18, color='crimson'))\n",
    "fig.update_yaxes(title_font=dict(size=18, color='crimson'))\n",
    "fig.update_xaxes(ticks=\"inside\")\n",
    "fig.update_yaxes(ticks=\"inside\")\n",
    "fig.update_xaxes(tickangle=45, tickfont=dict(color='crimson', size=14))\n",
    "fig.update_xaxes(showline=True, linewidth=2, linecolor='black', mirror=True, gridcolor='Pink')\n",
    "fig.update_yaxes(showline=True, linewidth=2, linecolor='black', mirror=True, gridcolor='Red')\n",
    "#fig.show()\n",
    "fig.write_html(r'C:\\Users\\eeeeeeeeee\\Documents\\JupyterAnacondaPythonNotebooks\\Daily\\Charts_px\\PPROD\\{}.html'.format(FileName))\n",
    "plt.close()"
   ]
  },
  {
   "cell_type": "code",
   "execution_count": 175,
   "metadata": {},
   "outputs": [
    {
     "name": "stdout",
     "output_type": "stream",
     "text": [
      "     DatabaseName SchemaName       TableName\n",
      "1995        PPROD         PP  LAST_PRNT_COMM\n"
     ]
    }
   ],
   "source": [
    "d = dfpprod0036[['DatabaseName', 'SchemaName','TableName']]#.format(z)\n",
    "d = d.drop_duplicates()\n",
    "e = d['DatabaseName'].values[0]\n",
    "f = d['SchemaName'].values[0]\n",
    "g = d['TableName'].values[0]\n",
    "print (d)\n",
    "FileName = ('PPROD_{}_{}'.format(f,g))\n",
    "\n",
    "fig = px.scatter(dfpprod0036, x = 'TodaysDate', y='RecordCount', size = 'RecordCount', color = 'RecordCount')#.format(z)\n",
    "fig.update_layout(title = '{0},{1},{2}'.format(e,f,g))\n",
    "fig.update_layout(yaxis_zeroline=False, xaxis_zeroline=False)\n",
    "fig.update_xaxes(title_font=dict(size=18, color='crimson'))\n",
    "fig.update_yaxes(title_font=dict(size=18, color='crimson'))\n",
    "fig.update_xaxes(ticks=\"inside\")\n",
    "fig.update_yaxes(ticks=\"inside\")\n",
    "fig.update_xaxes(tickangle=45, tickfont=dict(color='crimson', size=14))\n",
    "fig.update_xaxes(showline=True, linewidth=2, linecolor='black', mirror=True, gridcolor='Pink')\n",
    "fig.update_yaxes(showline=True, linewidth=2, linecolor='black', mirror=True, gridcolor='Red')\n",
    "#fig.show()\n",
    "fig.write_html(r'C:\\Users\\eeeeeeeeee\\Documents\\JupyterAnacondaPythonNotebooks\\Daily\\Charts_px\\PPROD\\{}.html'.format(FileName))\n",
    "plt.close()"
   ]
  },
  {
   "cell_type": "code",
   "execution_count": 176,
   "metadata": {},
   "outputs": [
    {
     "name": "stdout",
     "output_type": "stream",
     "text": [
      "     DatabaseName SchemaName     TableName\n",
      "2470        PPROD         PP  LastAccessed\n"
     ]
    }
   ],
   "source": [
    "d = dfpprod0037[['DatabaseName', 'SchemaName','TableName']]#.format(z)\n",
    "d = d.drop_duplicates()\n",
    "e = d['DatabaseName'].values[0]\n",
    "f = d['SchemaName'].values[0]\n",
    "g = d['TableName'].values[0]\n",
    "print (d)\n",
    "FileName = ('PPROD_{}_{}'.format(f,g))\n",
    "\n",
    "fig = px.scatter(dfpprod0037, x = 'TodaysDate', y='RecordCount', size = 'RecordCount', color = 'RecordCount')#.format(z)\n",
    "fig.update_layout(title = '{0},{1},{2}'.format(e,f,g))\n",
    "fig.update_layout(yaxis_zeroline=False, xaxis_zeroline=False)\n",
    "fig.update_xaxes(title_font=dict(size=18, color='crimson'))\n",
    "fig.update_yaxes(title_font=dict(size=18, color='crimson'))\n",
    "fig.update_xaxes(ticks=\"inside\")\n",
    "fig.update_yaxes(ticks=\"inside\")\n",
    "fig.update_xaxes(tickangle=45, tickfont=dict(color='crimson', size=14))\n",
    "fig.update_xaxes(showline=True, linewidth=2, linecolor='black', mirror=True, gridcolor='Pink')\n",
    "fig.update_yaxes(showline=True, linewidth=2, linecolor='black', mirror=True, gridcolor='Red')\n",
    "#fig.show()\n",
    "fig.write_html(r'C:\\Users\\eeeeeeeeee\\Documents\\JupyterAnacondaPythonNotebooks\\Daily\\Charts_px\\PPROD\\{}.html'.format(FileName))\n",
    "plt.close()"
   ]
  },
  {
   "cell_type": "code",
   "execution_count": 177,
   "metadata": {},
   "outputs": [
    {
     "name": "stdout",
     "output_type": "stream",
     "text": [
      "     DatabaseName SchemaName  TableName\n",
      "2090        PPROD         PP  LDAPUsers\n"
     ]
    }
   ],
   "source": [
    "d = dfpprod0038[['DatabaseName', 'SchemaName','TableName']]#.format(z)\n",
    "d = d.drop_duplicates()\n",
    "e = d['DatabaseName'].values[0]\n",
    "f = d['SchemaName'].values[0]\n",
    "g = d['TableName'].values[0]\n",
    "print (d)\n",
    "FileName = ('PPROD_{}_{}'.format(f,g))\n",
    "\n",
    "fig = px.scatter(dfpprod0038, x = 'TodaysDate', y='RecordCount', size = 'RecordCount', color = 'RecordCount')#.format(z)\n",
    "fig.update_layout(title = '{0},{1},{2}'.format(e,f,g))\n",
    "fig.update_layout(yaxis_zeroline=False, xaxis_zeroline=False)\n",
    "fig.update_xaxes(title_font=dict(size=18, color='crimson'))\n",
    "fig.update_yaxes(title_font=dict(size=18, color='crimson'))\n",
    "fig.update_xaxes(ticks=\"inside\")\n",
    "fig.update_yaxes(ticks=\"inside\")\n",
    "fig.update_xaxes(tickangle=45, tickfont=dict(color='crimson', size=14))\n",
    "fig.update_xaxes(showline=True, linewidth=2, linecolor='black', mirror=True, gridcolor='Pink')\n",
    "fig.update_yaxes(showline=True, linewidth=2, linecolor='black', mirror=True, gridcolor='Red')\n",
    "#fig.show()\n",
    "fig.write_html(r'C:\\Users\\eeeeeeeeee\\Documents\\JupyterAnacondaPythonNotebooks\\Daily\\Charts_px\\PPROD\\{}.html'.format(FileName))\n",
    "plt.close()"
   ]
  },
  {
   "cell_type": "code",
   "execution_count": 178,
   "metadata": {},
   "outputs": [
    {
     "name": "stdout",
     "output_type": "stream",
     "text": [
      "     DatabaseName SchemaName              TableName\n",
      "2185        PPROD         PP  LDAPUsersNotActivated\n"
     ]
    }
   ],
   "source": [
    "d = dfpprod0039[['DatabaseName', 'SchemaName','TableName']]#.format(z)\n",
    "d = d.drop_duplicates()\n",
    "e = d['DatabaseName'].values[0]\n",
    "f = d['SchemaName'].values[0]\n",
    "g = d['TableName'].values[0]\n",
    "print (d)\n",
    "FileName = ('PPROD_{}_{}'.format(f,g))\n",
    "\n",
    "fig = px.scatter(dfpprod0039, x = 'TodaysDate', y='RecordCount', size = 'RecordCount', color = 'RecordCount')#.format(z)\n",
    "fig.update_layout(title = '{0},{1},{2}'.format(e,f,g))\n",
    "fig.update_layout(yaxis_zeroline=False, xaxis_zeroline=False)\n",
    "fig.update_xaxes(title_font=dict(size=18, color='crimson'))\n",
    "fig.update_yaxes(title_font=dict(size=18, color='crimson'))\n",
    "fig.update_xaxes(ticks=\"inside\")\n",
    "fig.update_yaxes(ticks=\"inside\")\n",
    "fig.update_xaxes(tickangle=45, tickfont=dict(color='crimson', size=14))\n",
    "fig.update_xaxes(showline=True, linewidth=2, linecolor='black', mirror=True, gridcolor='Pink')\n",
    "fig.update_yaxes(showline=True, linewidth=2, linecolor='black', mirror=True, gridcolor='Red')\n",
    "#fig.show()\n",
    "fig.write_html(r'C:\\Users\\eeeeeeeeee\\Documents\\JupyterAnacondaPythonNotebooks\\Daily\\Charts_px\\PPROD\\{}.html'.format(FileName))\n",
    "plt.close()"
   ]
  },
  {
   "cell_type": "code",
   "execution_count": 179,
   "metadata": {},
   "outputs": [
    {
     "name": "stdout",
     "output_type": "stream",
     "text": [
      "     DatabaseName SchemaName   TableName\n",
      "2280        PPROD         PP  LOADDETAIL\n"
     ]
    }
   ],
   "source": [
    "d = dfpprod0040[['DatabaseName', 'SchemaName','TableName']]#.format(z)\n",
    "d = d.drop_duplicates()\n",
    "e = d['DatabaseName'].values[0]\n",
    "f = d['SchemaName'].values[0]\n",
    "g = d['TableName'].values[0]\n",
    "print (d)\n",
    "FileName = ('PPROD_{}_{}'.format(f,g))\n",
    "\n",
    "fig = px.scatter(dfpprod0040, x = 'TodaysDate', y='RecordCount', size = 'RecordCount', color = 'RecordCount')#.format(z)\n",
    "fig.update_layout(title = '{0},{1},{2}'.format(e,f,g))\n",
    "fig.update_layout(yaxis_zeroline=False, xaxis_zeroline=False)\n",
    "fig.update_xaxes(title_font=dict(size=18, color='crimson'))\n",
    "fig.update_yaxes(title_font=dict(size=18, color='crimson'))\n",
    "fig.update_xaxes(ticks=\"inside\")\n",
    "fig.update_yaxes(ticks=\"inside\")\n",
    "fig.update_xaxes(tickangle=45, tickfont=dict(color='crimson', size=14))\n",
    "fig.update_xaxes(showline=True, linewidth=2, linecolor='black', mirror=True, gridcolor='Pink')\n",
    "fig.update_yaxes(showline=True, linewidth=2, linecolor='black', mirror=True, gridcolor='Red')\n",
    "#fig.show()\n",
    "fig.write_html(r'C:\\Users\\eeeeeeeeee\\Documents\\JupyterAnacondaPythonNotebooks\\Daily\\Charts_px\\PPROD\\{}.html'.format(FileName))\n",
    "plt.close()"
   ]
  },
  {
   "cell_type": "code",
   "execution_count": 180,
   "metadata": {},
   "outputs": [
    {
     "name": "stdout",
     "output_type": "stream",
     "text": [
      "     DatabaseName SchemaName     TableName\n",
      "2375        PPROD         PP  LOADREADYOLD\n"
     ]
    }
   ],
   "source": [
    "d = dfpprod0041[['DatabaseName', 'SchemaName','TableName']]#.format(z)\n",
    "d = d.drop_duplicates()\n",
    "e = d['DatabaseName'].values[0]\n",
    "f = d['SchemaName'].values[0]\n",
    "g = d['TableName'].values[0]\n",
    "print (d)\n",
    "FileName = ('PPROD_{}_{}'.format(f,g))\n",
    "\n",
    "fig = px.scatter(dfpprod0041, x = 'TodaysDate', y='RecordCount', size = 'RecordCount', color = 'RecordCount')#.format(z)\n",
    "fig.update_layout(title = '{0},{1},{2}'.format(e,f,g))\n",
    "fig.update_layout(yaxis_zeroline=False, xaxis_zeroline=False)\n",
    "fig.update_xaxes(title_font=dict(size=18, color='crimson'))\n",
    "fig.update_yaxes(title_font=dict(size=18, color='crimson'))\n",
    "fig.update_xaxes(ticks=\"inside\")\n",
    "fig.update_yaxes(ticks=\"inside\")\n",
    "fig.update_xaxes(tickangle=45, tickfont=dict(color='crimson', size=14))\n",
    "fig.update_xaxes(showline=True, linewidth=2, linecolor='black', mirror=True, gridcolor='Pink')\n",
    "fig.update_yaxes(showline=True, linewidth=2, linecolor='black', mirror=True, gridcolor='Red')\n",
    "#fig.show()\n",
    "fig.write_html(r'C:\\Users\\eeeeeeeeee\\Documents\\JupyterAnacondaPythonNotebooks\\Daily\\Charts_px\\PPROD\\{}.html'.format(FileName))\n",
    "plt.close()"
   ]
  },
  {
   "cell_type": "code",
   "execution_count": 181,
   "metadata": {},
   "outputs": [
    {
     "name": "stdout",
     "output_type": "stream",
     "text": [
      "     DatabaseName SchemaName      TableName\n",
      "3230        PPROD         PP  Parent_Delete\n"
     ]
    }
   ],
   "source": [
    "d = dfpprod0042[['DatabaseName', 'SchemaName','TableName']]#.format(z)\n",
    "d = d.drop_duplicates()\n",
    "e = d['DatabaseName'].values[0]\n",
    "f = d['SchemaName'].values[0]\n",
    "g = d['TableName'].values[0]\n",
    "print (d)\n",
    "FileName = ('PPROD_{}_{}'.format(f,g))\n",
    "\n",
    "fig = px.scatter(dfpprod0042, x = 'TodaysDate', y='RecordCount', size = 'RecordCount', color = 'RecordCount')#.format(z)\n",
    "fig.update_layout(title = '{0},{1},{2}'.format(e,f,g))\n",
    "fig.update_layout(yaxis_zeroline=False, xaxis_zeroline=False)\n",
    "fig.update_xaxes(title_font=dict(size=18, color='crimson'))\n",
    "fig.update_yaxes(title_font=dict(size=18, color='crimson'))\n",
    "fig.update_xaxes(ticks=\"inside\")\n",
    "fig.update_yaxes(ticks=\"inside\")\n",
    "fig.update_xaxes(tickangle=45, tickfont=dict(color='crimson', size=14))\n",
    "fig.update_xaxes(showline=True, linewidth=2, linecolor='black', mirror=True, gridcolor='Pink')\n",
    "fig.update_yaxes(showline=True, linewidth=2, linecolor='black', mirror=True, gridcolor='Red')\n",
    "#fig.show()\n",
    "fig.write_html(r'C:\\Users\\eeeeeeeeee\\Documents\\JupyterAnacondaPythonNotebooks\\Daily\\Charts_px\\PPROD\\{}.html'.format(FileName))\n",
    "plt.close()"
   ]
  },
  {
   "cell_type": "code",
   "execution_count": 182,
   "metadata": {},
   "outputs": [
    {
     "name": "stdout",
     "output_type": "stream",
     "text": [
      "     DatabaseName SchemaName       TableName\n",
      "8930        PPROD         PP  parent_surveys\n"
     ]
    }
   ],
   "source": [
    "d = dfpprod0043[['DatabaseName', 'SchemaName','TableName']]#.format(z)\n",
    "d = d.drop_duplicates()\n",
    "e = d['DatabaseName'].values[0]\n",
    "f = d['SchemaName'].values[0]\n",
    "g = d['TableName'].values[0]\n",
    "print (d)\n",
    "FileName = ('PPROD_{}_{}'.format(f,g))\n",
    "\n",
    "fig = px.scatter(dfpprod0043, x = 'TodaysDate', y='RecordCount', size = 'RecordCount', color = 'RecordCount')#.format(z)\n",
    "fig.update_layout(title = '{0},{1},{2}'.format(e,f,g))\n",
    "fig.update_layout(yaxis_zeroline=False, xaxis_zeroline=False)\n",
    "fig.update_xaxes(title_font=dict(size=18, color='crimson'))\n",
    "fig.update_yaxes(title_font=dict(size=18, color='crimson'))\n",
    "fig.update_xaxes(ticks=\"inside\")\n",
    "fig.update_yaxes(ticks=\"inside\")\n",
    "fig.update_xaxes(tickangle=45, tickfont=dict(color='crimson', size=14))\n",
    "fig.update_xaxes(showline=True, linewidth=2, linecolor='black', mirror=True, gridcolor='Pink')\n",
    "fig.update_yaxes(showline=True, linewidth=2, linecolor='black', mirror=True, gridcolor='Red')\n",
    "#fig.show()\n",
    "fig.write_html(r'C:\\Users\\eeeeeeeeee\\Documents\\JupyterAnacondaPythonNotebooks\\Daily\\Charts_px\\PPROD\\{}.html'.format(FileName))\n",
    "plt.close()"
   ]
  },
  {
   "cell_type": "code",
   "execution_count": 183,
   "metadata": {},
   "outputs": [
    {
     "name": "stdout",
     "output_type": "stream",
     "text": [
      "     DatabaseName SchemaName      TableName\n",
      "3040        PPROD         PP  PRNT_ACCT_LOG\n"
     ]
    }
   ],
   "source": [
    "d = dfpprod0044[['DatabaseName', 'SchemaName','TableName']]#.format(z)\n",
    "d = d.drop_duplicates()\n",
    "e = d['DatabaseName'].values[0]\n",
    "f = d['SchemaName'].values[0]\n",
    "g = d['TableName'].values[0]\n",
    "print (d)\n",
    "FileName = ('PPROD_{}_{}'.format(f,g))\n",
    "\n",
    "fig = px.scatter(dfpprod0044, x = 'TodaysDate', y='RecordCount', size = 'RecordCount', color = 'RecordCount')#.format(z)\n",
    "fig.update_layout(title = '{0},{1},{2}'.format(e,f,g))\n",
    "fig.update_layout(yaxis_zeroline=False, xaxis_zeroline=False)\n",
    "fig.update_xaxes(title_font=dict(size=18, color='crimson'))\n",
    "fig.update_yaxes(title_font=dict(size=18, color='crimson'))\n",
    "fig.update_xaxes(ticks=\"inside\")\n",
    "fig.update_yaxes(ticks=\"inside\")\n",
    "fig.update_xaxes(tickangle=45, tickfont=dict(color='crimson', size=14))\n",
    "fig.update_xaxes(showline=True, linewidth=2, linecolor='black', mirror=True, gridcolor='Pink')\n",
    "fig.update_yaxes(showline=True, linewidth=2, linecolor='black', mirror=True, gridcolor='Red')\n",
    "#fig.show()\n",
    "fig.write_html(r'C:\\Users\\eeeeeeeeee\\Documents\\JupyterAnacondaPythonNotebooks\\Daily\\Charts_px\\PPROD\\{}.html'.format(FileName))\n",
    "plt.close()"
   ]
  },
  {
   "cell_type": "code",
   "execution_count": 184,
   "metadata": {},
   "outputs": [
    {
     "name": "stdout",
     "output_type": "stream",
     "text": [
      "     DatabaseName SchemaName                  TableName\n",
      "3135        PPROD         PP  PRNT_EMAIL_CHANGE_HISTORY\n"
     ]
    }
   ],
   "source": [
    "d = dfpprod0045[['DatabaseName', 'SchemaName','TableName']]#.format(z)\n",
    "d = d.drop_duplicates()\n",
    "e = d['DatabaseName'].values[0]\n",
    "f = d['SchemaName'].values[0]\n",
    "g = d['TableName'].values[0]\n",
    "print (d)\n",
    "FileName = ('PPROD_{}_{}'.format(f,g))\n",
    "\n",
    "fig = px.scatter(dfpprod0045, x = 'TodaysDate', y='RecordCount', size = 'RecordCount', color = 'RecordCount')#.format(z)\n",
    "fig.update_layout(title = '{0},{1},{2}'.format(e,f,g))\n",
    "fig.update_layout(yaxis_zeroline=False, xaxis_zeroline=False)\n",
    "fig.update_xaxes(title_font=dict(size=18, color='crimson'))\n",
    "fig.update_yaxes(title_font=dict(size=18, color='crimson'))\n",
    "fig.update_xaxes(ticks=\"inside\")\n",
    "fig.update_yaxes(ticks=\"inside\")\n",
    "fig.update_xaxes(tickangle=45, tickfont=dict(color='crimson', size=14))\n",
    "fig.update_xaxes(showline=True, linewidth=2, linecolor='black', mirror=True, gridcolor='Pink')\n",
    "fig.update_yaxes(showline=True, linewidth=2, linecolor='black', mirror=True, gridcolor='Red')\n",
    "#fig.show()\n",
    "fig.write_html(r'C:\\Users\\eeeeeeeeee\\Documents\\JupyterAnacondaPythonNotebooks\\Daily\\Charts_px\\PPROD\\{}.html'.format(FileName))\n",
    "plt.close()"
   ]
  },
  {
   "cell_type": "code",
   "execution_count": 185,
   "metadata": {},
   "outputs": [
    {
     "name": "stdout",
     "output_type": "stream",
     "text": [
      "     DatabaseName SchemaName       TableName\n",
      "3325        PPROD         PP  REFRESH_STATUS\n"
     ]
    }
   ],
   "source": [
    "d = dfpprod0046[['DatabaseName', 'SchemaName','TableName']]#.format(z)\n",
    "d = d.drop_duplicates()\n",
    "e = d['DatabaseName'].values[0]\n",
    "f = d['SchemaName'].values[0]\n",
    "g = d['TableName'].values[0]\n",
    "print (d)\n",
    "FileName = ('PPROD_{}_{}'.format(f,g))\n",
    "\n",
    "fig = px.scatter(dfpprod0046, x = 'TodaysDate', y='RecordCount', size = 'RecordCount', color = 'RecordCount')#.format(z)\n",
    "fig.update_layout(title = '{0},{1},{2}'.format(e,f,g))\n",
    "fig.update_layout(yaxis_zeroline=False, xaxis_zeroline=False)\n",
    "fig.update_xaxes(title_font=dict(size=18, color='crimson'))\n",
    "fig.update_yaxes(title_font=dict(size=18, color='crimson'))\n",
    "fig.update_xaxes(ticks=\"inside\")\n",
    "fig.update_yaxes(ticks=\"inside\")\n",
    "fig.update_xaxes(tickangle=45, tickfont=dict(color='crimson', size=14))\n",
    "fig.update_xaxes(showline=True, linewidth=2, linecolor='black', mirror=True, gridcolor='Pink')\n",
    "fig.update_yaxes(showline=True, linewidth=2, linecolor='black', mirror=True, gridcolor='Red')\n",
    "#fig.show()\n",
    "fig.write_html(r'C:\\Users\\eeeeeeeeee\\Documents\\JupyterAnacondaPythonNotebooks\\Daily\\Charts_px\\PPROD\\{}.html'.format(FileName))\n",
    "plt.close()"
   ]
  },
  {
   "cell_type": "code",
   "execution_count": 186,
   "metadata": {},
   "outputs": [
    {
     "name": "stdout",
     "output_type": "stream",
     "text": [
      "     DatabaseName SchemaName         TableName\n",
      "3420        PPROD         PP  RPTActiveStudent\n"
     ]
    }
   ],
   "source": [
    "d = dfpprod0047[['DatabaseName', 'SchemaName','TableName']]#.format(z)\n",
    "d = d.drop_duplicates()\n",
    "e = d['DatabaseName'].values[0]\n",
    "f = d['SchemaName'].values[0]\n",
    "g = d['TableName'].values[0]\n",
    "print (d)\n",
    "FileName = ('PPROD_{}_{}'.format(f,g))\n",
    "\n",
    "fig = px.scatter(dfpprod0047, x = 'TodaysDate', y='RecordCount', size = 'RecordCount', color = 'RecordCount')#.format(z)\n",
    "fig.update_layout(title = '{0},{1},{2}'.format(e,f,g))\n",
    "fig.update_layout(yaxis_zeroline=False, xaxis_zeroline=False)\n",
    "fig.update_xaxes(title_font=dict(size=18, color='crimson'))\n",
    "fig.update_yaxes(title_font=dict(size=18, color='crimson'))\n",
    "fig.update_xaxes(ticks=\"inside\")\n",
    "fig.update_yaxes(ticks=\"inside\")\n",
    "fig.update_xaxes(tickangle=45, tickfont=dict(color='crimson', size=14))\n",
    "fig.update_xaxes(showline=True, linewidth=2, linecolor='black', mirror=True, gridcolor='Pink')\n",
    "fig.update_yaxes(showline=True, linewidth=2, linecolor='black', mirror=True, gridcolor='Red')\n",
    "#fig.show()\n",
    "fig.write_html(r'C:\\Users\\eeeeeeeeee\\Documents\\JupyterAnacondaPythonNotebooks\\Daily\\Charts_px\\PPROD\\{}.html'.format(FileName))\n",
    "plt.close()"
   ]
  },
  {
   "cell_type": "code",
   "execution_count": 187,
   "metadata": {},
   "outputs": [
    {
     "name": "stdout",
     "output_type": "stream",
     "text": [
      "     DatabaseName SchemaName        TableName\n",
      "9405        PPROD         PP  save_Admin_User\n"
     ]
    }
   ],
   "source": [
    "d = dfpprod0048[['DatabaseName', 'SchemaName','TableName']]#.format(z)\n",
    "d = d.drop_duplicates()\n",
    "e = d['DatabaseName'].values[0]\n",
    "f = d['SchemaName'].values[0]\n",
    "g = d['TableName'].values[0]\n",
    "print (d)\n",
    "FileName = ('PPROD_{}_{}'.format(f,g))\n",
    "\n",
    "fig = px.scatter(dfpprod0048, x = 'TodaysDate', y='RecordCount', size = 'RecordCount', color = 'RecordCount')#.format(z)\n",
    "fig.update_layout(title = '{0},{1},{2}'.format(e,f,g))\n",
    "fig.update_layout(yaxis_zeroline=False, xaxis_zeroline=False)\n",
    "fig.update_xaxes(title_font=dict(size=18, color='crimson'))\n",
    "fig.update_yaxes(title_font=dict(size=18, color='crimson'))\n",
    "fig.update_xaxes(ticks=\"inside\")\n",
    "fig.update_yaxes(ticks=\"inside\")\n",
    "fig.update_xaxes(tickangle=45, tickfont=dict(color='crimson', size=14))\n",
    "fig.update_xaxes(showline=True, linewidth=2, linecolor='black', mirror=True, gridcolor='Pink')\n",
    "fig.update_yaxes(showline=True, linewidth=2, linecolor='black', mirror=True, gridcolor='Red')\n",
    "#fig.show()\n",
    "fig.write_html(r'C:\\Users\\eeeeeeeeee\\Documents\\JupyterAnacondaPythonNotebooks\\Daily\\Charts_px\\PPROD\\{}.html'.format(FileName))\n",
    "plt.close()"
   ]
  },
  {
   "cell_type": "code",
   "execution_count": 188,
   "metadata": {},
   "outputs": [
    {
     "name": "stdout",
     "output_type": "stream",
     "text": [
      "     DatabaseName SchemaName    TableName\n",
      "3895        PPROD         PP  STU_ABS_HST\n"
     ]
    }
   ],
   "source": [
    "d = dfpprod0049[['DatabaseName', 'SchemaName','TableName']]#.format(z)\n",
    "d = d.drop_duplicates()\n",
    "e = d['DatabaseName'].values[0]\n",
    "f = d['SchemaName'].values[0]\n",
    "g = d['TableName'].values[0]\n",
    "print (d)\n",
    "FileName = ('PPROD_{}_{}'.format(f,g))\n",
    "\n",
    "fig = px.scatter(dfpprod0049, x = 'TodaysDate', y='RecordCount', size = 'RecordCount', color = 'RecordCount')#.format(z)\n",
    "fig.update_layout(title = '{0},{1},{2}'.format(e,f,g))\n",
    "fig.update_layout(yaxis_zeroline=False, xaxis_zeroline=False)\n",
    "fig.update_xaxes(title_font=dict(size=18, color='crimson'))\n",
    "fig.update_yaxes(title_font=dict(size=18, color='crimson'))\n",
    "fig.update_xaxes(ticks=\"inside\")\n",
    "fig.update_yaxes(ticks=\"inside\")\n",
    "fig.update_xaxes(tickangle=45, tickfont=dict(color='crimson', size=14))\n",
    "fig.update_xaxes(showline=True, linewidth=2, linecolor='black', mirror=True, gridcolor='Pink')\n",
    "fig.update_yaxes(showline=True, linewidth=2, linecolor='black', mirror=True, gridcolor='Red')\n",
    "#fig.show()\n",
    "fig.write_html(r'C:\\Users\\eeeeeeeeee\\Documents\\JupyterAnacondaPythonNotebooks\\Daily\\Charts_px\\PPROD\\{}.html'.format(FileName))\n",
    "plt.close()"
   ]
  },
  {
   "cell_type": "code",
   "execution_count": 189,
   "metadata": {},
   "outputs": [
    {
     "name": "stdout",
     "output_type": "stream",
     "text": [
      "     DatabaseName SchemaName           TableName\n",
      "3990        PPROD         PP  STU_ABS_HST_BACKUP\n"
     ]
    }
   ],
   "source": [
    "d = dfpprod0050[['DatabaseName', 'SchemaName','TableName']]#.format(z)\n",
    "d = d.drop_duplicates()\n",
    "e = d['DatabaseName'].values[0]\n",
    "f = d['SchemaName'].values[0]\n",
    "g = d['TableName'].values[0]\n",
    "print (d)\n",
    "FileName = ('PPROD_{}_{}'.format(f,g))\n",
    "\n",
    "fig = px.scatter(dfpprod0050, x = 'TodaysDate', y='RecordCount', size = 'RecordCount', color = 'RecordCount')#.format(z)\n",
    "fig.update_layout(title = '{0},{1},{2}'.format(e,f,g))\n",
    "fig.update_layout(yaxis_zeroline=False, xaxis_zeroline=False)\n",
    "fig.update_xaxes(title_font=dict(size=18, color='crimson'))\n",
    "fig.update_yaxes(title_font=dict(size=18, color='crimson'))\n",
    "fig.update_xaxes(ticks=\"inside\")\n",
    "fig.update_yaxes(ticks=\"inside\")\n",
    "fig.update_xaxes(tickangle=45, tickfont=dict(color='crimson', size=14))\n",
    "fig.update_xaxes(showline=True, linewidth=2, linecolor='black', mirror=True, gridcolor='Pink')\n",
    "fig.update_yaxes(showline=True, linewidth=2, linecolor='black', mirror=True, gridcolor='Red')\n",
    "#fig.show()\n",
    "fig.write_html(r'C:\\Users\\eeeeeeeeee\\Documents\\JupyterAnacondaPythonNotebooks\\Daily\\Charts_px\\PPROD\\{}.html'.format(FileName))\n",
    "plt.close()"
   ]
  },
  {
   "cell_type": "code",
   "execution_count": 190,
   "metadata": {},
   "outputs": [
    {
     "name": "stdout",
     "output_type": "stream",
     "text": [
      "     DatabaseName SchemaName TableName\n",
      "4085        PPROD         PP  STU_ALRT\n"
     ]
    }
   ],
   "source": [
    "d = dfpprod0051[['DatabaseName', 'SchemaName','TableName']]#.format(z)\n",
    "d = d.drop_duplicates()\n",
    "e = d['DatabaseName'].values[0]\n",
    "f = d['SchemaName'].values[0]\n",
    "g = d['TableName'].values[0]\n",
    "print (d)\n",
    "FileName = ('PPROD_{}_{}'.format(f,g))\n",
    "\n",
    "fig = px.scatter(dfpprod0051, x = 'TodaysDate', y='RecordCount', size = 'RecordCount', color = 'RecordCount')#.format(z)\n",
    "fig.update_layout(title = '{0},{1},{2}'.format(e,f,g))\n",
    "fig.update_layout(yaxis_zeroline=False, xaxis_zeroline=False)\n",
    "fig.update_xaxes(title_font=dict(size=18, color='crimson'))\n",
    "fig.update_yaxes(title_font=dict(size=18, color='crimson'))\n",
    "fig.update_xaxes(ticks=\"inside\")\n",
    "fig.update_yaxes(ticks=\"inside\")\n",
    "fig.update_xaxes(tickangle=45, tickfont=dict(color='crimson', size=14))\n",
    "fig.update_xaxes(showline=True, linewidth=2, linecolor='black', mirror=True, gridcolor='Pink')\n",
    "fig.update_yaxes(showline=True, linewidth=2, linecolor='black', mirror=True, gridcolor='Red')\n",
    "#fig.show()\n",
    "fig.write_html(r'C:\\Users\\eeeeeeeeee\\Documents\\JupyterAnacondaPythonNotebooks\\Daily\\Charts_px\\PPROD\\{}.html'.format(FileName))\n",
    "plt.close()"
   ]
  },
  {
   "cell_type": "code",
   "execution_count": 191,
   "metadata": {},
   "outputs": [
    {
     "name": "stdout",
     "output_type": "stream",
     "text": [
      "     DatabaseName SchemaName       TableName\n",
      "4180        PPROD         PP  STU_ATT_MO_SUM\n"
     ]
    }
   ],
   "source": [
    "d = dfpprod0052[['DatabaseName', 'SchemaName','TableName']]#.format(z)\n",
    "d = d.drop_duplicates()\n",
    "e = d['DatabaseName'].values[0]\n",
    "f = d['SchemaName'].values[0]\n",
    "g = d['TableName'].values[0]\n",
    "print (d)\n",
    "FileName = ('PPROD_{}_{}'.format(f,g))\n",
    "\n",
    "fig = px.scatter(dfpprod0052, x = 'TodaysDate', y='RecordCount', size = 'RecordCount', color = 'RecordCount')#.format(z)\n",
    "fig.update_layout(title = '{0},{1},{2}'.format(e,f,g))\n",
    "fig.update_layout(yaxis_zeroline=False, xaxis_zeroline=False)\n",
    "fig.update_xaxes(title_font=dict(size=18, color='crimson'))\n",
    "fig.update_yaxes(title_font=dict(size=18, color='crimson'))\n",
    "fig.update_xaxes(ticks=\"inside\")\n",
    "fig.update_yaxes(ticks=\"inside\")\n",
    "fig.update_xaxes(tickangle=45, tickfont=dict(color='crimson', size=14))\n",
    "fig.update_xaxes(showline=True, linewidth=2, linecolor='black', mirror=True, gridcolor='Pink')\n",
    "fig.update_yaxes(showline=True, linewidth=2, linecolor='black', mirror=True, gridcolor='Red')\n",
    "#fig.show()\n",
    "fig.write_html(r'C:\\Users\\eeeeeeeeee\\Documents\\JupyterAnacondaPythonNotebooks\\Daily\\Charts_px\\PPROD\\{}.html'.format(FileName))\n",
    "plt.close()"
   ]
  },
  {
   "cell_type": "code",
   "execution_count": 192,
   "metadata": {},
   "outputs": [
    {
     "name": "stdout",
     "output_type": "stream",
     "text": [
      "     DatabaseName SchemaName    TableName\n",
      "4275        PPROD         PP  STU_ATT_SUM\n"
     ]
    }
   ],
   "source": [
    "d = dfpprod0053[['DatabaseName', 'SchemaName','TableName']]#.format(z)\n",
    "d = d.drop_duplicates()\n",
    "e = d['DatabaseName'].values[0]\n",
    "f = d['SchemaName'].values[0]\n",
    "g = d['TableName'].values[0]\n",
    "print (d)\n",
    "FileName = ('PPROD_{}_{}'.format(f,g))\n",
    "\n",
    "fig = px.scatter(dfpprod0053, x = 'TodaysDate', y='RecordCount', size = 'RecordCount', color = 'RecordCount')#.format(z)\n",
    "fig.update_layout(title = '{0},{1},{2}'.format(e,f,g))\n",
    "fig.update_layout(yaxis_zeroline=False, xaxis_zeroline=False)\n",
    "fig.update_xaxes(title_font=dict(size=18, color='crimson'))\n",
    "fig.update_yaxes(title_font=dict(size=18, color='crimson'))\n",
    "fig.update_xaxes(ticks=\"inside\")\n",
    "fig.update_yaxes(ticks=\"inside\")\n",
    "fig.update_xaxes(tickangle=45, tickfont=dict(color='crimson', size=14))\n",
    "fig.update_xaxes(showline=True, linewidth=2, linecolor='black', mirror=True, gridcolor='Pink')\n",
    "fig.update_yaxes(showline=True, linewidth=2, linecolor='black', mirror=True, gridcolor='Red')\n",
    "#fig.show()\n",
    "fig.write_html(r'C:\\Users\\eeeeeeeeee\\Documents\\JupyterAnacondaPythonNotebooks\\Daily\\Charts_px\\PPROD\\{}.html'.format(FileName))\n",
    "plt.close()"
   ]
  },
  {
   "cell_type": "code",
   "execution_count": 193,
   "metadata": {},
   "outputs": [
    {
     "name": "stdout",
     "output_type": "stream",
     "text": [
      "     DatabaseName SchemaName        TableName\n",
      "4370        PPROD         PP  STU_BookCharges\n"
     ]
    }
   ],
   "source": [
    "d = dfpprod0054[['DatabaseName', 'SchemaName','TableName']]#.format(z)\n",
    "d = d.drop_duplicates()\n",
    "e = d['DatabaseName'].values[0]\n",
    "f = d['SchemaName'].values[0]\n",
    "g = d['TableName'].values[0]\n",
    "print (d)\n",
    "FileName = ('PPROD_{}_{}'.format(f,g))\n",
    "\n",
    "fig = px.scatter(dfpprod0054, x = 'TodaysDate', y='RecordCount', size = 'RecordCount', color = 'RecordCount')#.format(z)\n",
    "fig.update_layout(title = '{0},{1},{2}'.format(e,f,g))\n",
    "fig.update_layout(yaxis_zeroline=False, xaxis_zeroline=False)\n",
    "fig.update_xaxes(title_font=dict(size=18, color='crimson'))\n",
    "fig.update_yaxes(title_font=dict(size=18, color='crimson'))\n",
    "fig.update_xaxes(ticks=\"inside\")\n",
    "fig.update_yaxes(ticks=\"inside\")\n",
    "fig.update_xaxes(tickangle=45, tickfont=dict(color='crimson', size=14))\n",
    "fig.update_xaxes(showline=True, linewidth=2, linecolor='black', mirror=True, gridcolor='Pink')\n",
    "fig.update_yaxes(showline=True, linewidth=2, linecolor='black', mirror=True, gridcolor='Red')\n",
    "#fig.show()\n",
    "fig.write_html(r'C:\\Users\\eeeeeeeeee\\Documents\\JupyterAnacondaPythonNotebooks\\Daily\\Charts_px\\PPROD\\{}.html'.format(FileName))\n",
    "plt.close()"
   ]
  },
  {
   "cell_type": "code",
   "execution_count": 194,
   "metadata": {},
   "outputs": [
    {
     "name": "stdout",
     "output_type": "stream",
     "text": [
      "     DatabaseName SchemaName          TableName\n",
      "4465        PPROD         PP  STU_BookCheckOuts\n"
     ]
    }
   ],
   "source": [
    "d = dfpprod0055[['DatabaseName', 'SchemaName','TableName']]#.format(z)\n",
    "d = d.drop_duplicates()\n",
    "e = d['DatabaseName'].values[0]\n",
    "f = d['SchemaName'].values[0]\n",
    "g = d['TableName'].values[0]\n",
    "print (d)\n",
    "FileName = ('PPROD_{}_{}'.format(f,g))\n",
    "\n",
    "fig = px.scatter(dfpprod0055, x = 'TodaysDate', y='RecordCount', size = 'RecordCount', color = 'RecordCount')#.format(z)\n",
    "fig.update_layout(title = '{0},{1},{2}'.format(e,f,g))\n",
    "fig.update_layout(yaxis_zeroline=False, xaxis_zeroline=False)\n",
    "fig.update_xaxes(title_font=dict(size=18, color='crimson'))\n",
    "fig.update_yaxes(title_font=dict(size=18, color='crimson'))\n",
    "fig.update_xaxes(ticks=\"inside\")\n",
    "fig.update_yaxes(ticks=\"inside\")\n",
    "fig.update_xaxes(tickangle=45, tickfont=dict(color='crimson', size=14))\n",
    "fig.update_xaxes(showline=True, linewidth=2, linecolor='black', mirror=True, gridcolor='Pink')\n",
    "fig.update_yaxes(showline=True, linewidth=2, linecolor='black', mirror=True, gridcolor='Red')\n",
    "#fig.show()\n",
    "fig.write_html(r'C:\\Users\\eeeeeeeeee\\Documents\\JupyterAnacondaPythonNotebooks\\Daily\\Charts_px\\PPROD\\{}.html'.format(FileName))\n",
    "plt.close()"
   ]
  },
  {
   "cell_type": "code",
   "execution_count": 195,
   "metadata": {},
   "outputs": [
    {
     "name": "stdout",
     "output_type": "stream",
     "text": [
      "     DatabaseName SchemaName    TableName\n",
      "9595        PPROD         PP  stu_businfo\n"
     ]
    }
   ],
   "source": [
    "d = dfpprod0056[['DatabaseName', 'SchemaName','TableName']]#.format(z)\n",
    "d = d.drop_duplicates()\n",
    "e = d['DatabaseName'].values[0]\n",
    "f = d['SchemaName'].values[0]\n",
    "g = d['TableName'].values[0]\n",
    "print (d)\n",
    "FileName = ('PPROD_{}_{}'.format(f,g))\n",
    "\n",
    "fig = px.scatter(dfpprod0056, x = 'TodaysDate', y='RecordCount', size = 'RecordCount', color = 'RecordCount')#.format(z)\n",
    "fig.update_layout(title = '{0},{1},{2}'.format(e,f,g))\n",
    "fig.update_layout(yaxis_zeroline=False, xaxis_zeroline=False)\n",
    "fig.update_xaxes(title_font=dict(size=18, color='crimson'))\n",
    "fig.update_yaxes(title_font=dict(size=18, color='crimson'))\n",
    "fig.update_xaxes(ticks=\"inside\")\n",
    "fig.update_yaxes(ticks=\"inside\")\n",
    "fig.update_xaxes(tickangle=45, tickfont=dict(color='crimson', size=14))\n",
    "fig.update_xaxes(showline=True, linewidth=2, linecolor='black', mirror=True, gridcolor='Pink')\n",
    "fig.update_yaxes(showline=True, linewidth=2, linecolor='black', mirror=True, gridcolor='Red')\n",
    "#fig.show()\n",
    "fig.write_html(r'C:\\Users\\eeeeeeeeee\\Documents\\JupyterAnacondaPythonNotebooks\\Daily\\Charts_px\\PPROD\\{}.html'.format(FileName))\n",
    "plt.close()"
   ]
  },
  {
   "cell_type": "code",
   "execution_count": 196,
   "metadata": {},
   "outputs": [
    {
     "name": "stdout",
     "output_type": "stream",
     "text": [
      "     DatabaseName SchemaName            TableName\n",
      "5225        PPROD         PP  STU_CheckInCheckOut\n"
     ]
    }
   ],
   "source": [
    "d = dfpprod0057[['DatabaseName', 'SchemaName','TableName']]#.format(z)\n",
    "d = d.drop_duplicates()\n",
    "e = d['DatabaseName'].values[0]\n",
    "f = d['SchemaName'].values[0]\n",
    "g = d['TableName'].values[0]\n",
    "print (d)\n",
    "FileName = ('PPROD_{}_{}'.format(f,g))\n",
    "\n",
    "fig = px.scatter(dfpprod0057, x = 'TodaysDate', y='RecordCount', size = 'RecordCount', color = 'RecordCount')#.format(z)\n",
    "fig.update_layout(title = '{0},{1},{2}'.format(e,f,g))\n",
    "fig.update_layout(yaxis_zeroline=False, xaxis_zeroline=False)\n",
    "fig.update_xaxes(title_font=dict(size=18, color='crimson'))\n",
    "fig.update_yaxes(title_font=dict(size=18, color='crimson'))\n",
    "fig.update_xaxes(ticks=\"inside\")\n",
    "fig.update_yaxes(ticks=\"inside\")\n",
    "fig.update_xaxes(tickangle=45, tickfont=dict(color='crimson', size=14))\n",
    "fig.update_xaxes(showline=True, linewidth=2, linecolor='black', mirror=True, gridcolor='Pink')\n",
    "fig.update_yaxes(showline=True, linewidth=2, linecolor='black', mirror=True, gridcolor='Red')\n",
    "#fig.show()\n",
    "fig.write_html(r'C:\\Users\\eeeeeeeeee\\Documents\\JupyterAnacondaPythonNotebooks\\Daily\\Charts_px\\PPROD\\{}.html'.format(FileName))\n",
    "plt.close()"
   ]
  },
  {
   "cell_type": "code",
   "execution_count": 197,
   "metadata": {},
   "outputs": [
    {
     "name": "stdout",
     "output_type": "stream",
     "text": [
      "     DatabaseName SchemaName       TableName\n",
      "4655        PPROD         PP  STU_CRS_HS_SUM\n"
     ]
    }
   ],
   "source": [
    "d = dfpprod0058[['DatabaseName', 'SchemaName','TableName']]#.format(z)\n",
    "d = d.drop_duplicates()\n",
    "e = d['DatabaseName'].values[0]\n",
    "f = d['SchemaName'].values[0]\n",
    "g = d['TableName'].values[0]\n",
    "print (d)\n",
    "FileName = ('PPROD_{}_{}'.format(f,g))\n",
    "\n",
    "fig = px.scatter(dfpprod0058, x = 'TodaysDate', y='RecordCount', size = 'RecordCount', color = 'RecordCount')#.format(z)\n",
    "fig.update_layout(title = '{0},{1},{2}'.format(e,f,g))\n",
    "fig.update_layout(yaxis_zeroline=False, xaxis_zeroline=False)\n",
    "fig.update_xaxes(title_font=dict(size=18, color='crimson'))\n",
    "fig.update_yaxes(title_font=dict(size=18, color='crimson'))\n",
    "fig.update_xaxes(ticks=\"inside\")\n",
    "fig.update_yaxes(ticks=\"inside\")\n",
    "fig.update_xaxes(tickangle=45, tickfont=dict(color='crimson', size=14))\n",
    "fig.update_xaxes(showline=True, linewidth=2, linecolor='black', mirror=True, gridcolor='Pink')\n",
    "fig.update_yaxes(showline=True, linewidth=2, linecolor='black', mirror=True, gridcolor='Red')\n",
    "#fig.show()\n",
    "fig.write_html(r'C:\\Users\\eeeeeeeeee\\Documents\\JupyterAnacondaPythonNotebooks\\Daily\\Charts_px\\PPROD\\{}.html'.format(FileName))\n",
    "plt.close()"
   ]
  },
  {
   "cell_type": "code",
   "execution_count": 198,
   "metadata": {},
   "outputs": [
    {
     "name": "stdout",
     "output_type": "stream",
     "text": [
      "     DatabaseName SchemaName    TableName\n",
      "4560        PPROD         PP  STU_CRS_HST\n"
     ]
    }
   ],
   "source": [
    "d = dfpprod0059[['DatabaseName', 'SchemaName','TableName']]#.format(z)\n",
    "d = d.drop_duplicates()\n",
    "e = d['DatabaseName'].values[0]\n",
    "f = d['SchemaName'].values[0]\n",
    "g = d['TableName'].values[0]\n",
    "print (d)\n",
    "FileName = ('PPROD_{}_{}'.format(f,g))\n",
    "\n",
    "fig = px.scatter(dfpprod0059, x = 'TodaysDate', y='RecordCount', size = 'RecordCount', color = 'RecordCount')#.format(z)\n",
    "fig.update_layout(title = '{0},{1},{2}'.format(e,f,g))\n",
    "fig.update_layout(yaxis_zeroline=False, xaxis_zeroline=False)\n",
    "fig.update_xaxes(title_font=dict(size=18, color='crimson'))\n",
    "fig.update_yaxes(title_font=dict(size=18, color='crimson'))\n",
    "fig.update_xaxes(ticks=\"inside\")\n",
    "fig.update_yaxes(ticks=\"inside\")\n",
    "fig.update_xaxes(tickangle=45, tickfont=dict(color='crimson', size=14))\n",
    "fig.update_xaxes(showline=True, linewidth=2, linecolor='black', mirror=True, gridcolor='Pink')\n",
    "fig.update_yaxes(showline=True, linewidth=2, linecolor='black', mirror=True, gridcolor='Red')\n",
    "#fig.show()\n",
    "fig.write_html(r'C:\\Users\\eeeeeeeeee\\Documents\\JupyterAnacondaPythonNotebooks\\Daily\\Charts_px\\PPROD\\{}.html'.format(FileName))\n",
    "plt.close()"
   ]
  },
  {
   "cell_type": "code",
   "execution_count": 199,
   "metadata": {},
   "outputs": [
    {
     "name": "stdout",
     "output_type": "stream",
     "text": [
      "     DatabaseName SchemaName             TableName\n",
      "9690        PPROD         PP  stu_crs_hst_oldlogic\n"
     ]
    }
   ],
   "source": [
    "d = dfpprod0060[['DatabaseName', 'SchemaName','TableName']]#.format(z)\n",
    "d = d.drop_duplicates()\n",
    "e = d['DatabaseName'].values[0]\n",
    "f = d['SchemaName'].values[0]\n",
    "g = d['TableName'].values[0]\n",
    "print (d)\n",
    "FileName = ('PPROD_{}_{}'.format(f,g))\n",
    "\n",
    "fig = px.scatter(dfpprod0060, x = 'TodaysDate', y='RecordCount', size = 'RecordCount', color = 'RecordCount')#.format(z)\n",
    "fig.update_layout(title = '{0},{1},{2}'.format(e,f,g))\n",
    "fig.update_layout(yaxis_zeroline=False, xaxis_zeroline=False)\n",
    "fig.update_xaxes(title_font=dict(size=18, color='crimson'))\n",
    "fig.update_yaxes(title_font=dict(size=18, color='crimson'))\n",
    "fig.update_xaxes(ticks=\"inside\")\n",
    "fig.update_yaxes(ticks=\"inside\")\n",
    "fig.update_xaxes(tickangle=45, tickfont=dict(color='crimson', size=14))\n",
    "fig.update_xaxes(showline=True, linewidth=2, linecolor='black', mirror=True, gridcolor='Pink')\n",
    "fig.update_yaxes(showline=True, linewidth=2, linecolor='black', mirror=True, gridcolor='Red')\n",
    "#fig.show()\n",
    "fig.write_html(r'C:\\Users\\eeeeeeeeee\\Documents\\JupyterAnacondaPythonNotebooks\\Daily\\Charts_px\\PPROD\\{}.html'.format(FileName))\n",
    "plt.close()"
   ]
  },
  {
   "cell_type": "code",
   "execution_count": 200,
   "metadata": {},
   "outputs": [
    {
     "name": "stdout",
     "output_type": "stream",
     "text": [
      "     DatabaseName SchemaName       TableName\n",
      "4750        PPROD         PP  STU_CRS_MS_SUM\n"
     ]
    }
   ],
   "source": [
    "d = dfpprod0061[['DatabaseName', 'SchemaName','TableName']]#.format(z)\n",
    "d = d.drop_duplicates()\n",
    "e = d['DatabaseName'].values[0]\n",
    "f = d['SchemaName'].values[0]\n",
    "g = d['TableName'].values[0]\n",
    "print (d)\n",
    "FileName = ('PPROD_{}_{}'.format(f,g))\n",
    "\n",
    "fig = px.scatter(dfpprod0061, x = 'TodaysDate', y='RecordCount', size = 'RecordCount', color = 'RecordCount')#.format(z)\n",
    "fig.update_layout(title = '{0},{1},{2}'.format(e,f,g))\n",
    "fig.update_layout(yaxis_zeroline=False, xaxis_zeroline=False)\n",
    "fig.update_xaxes(title_font=dict(size=18, color='crimson'))\n",
    "fig.update_yaxes(title_font=dict(size=18, color='crimson'))\n",
    "fig.update_xaxes(ticks=\"inside\")\n",
    "fig.update_yaxes(ticks=\"inside\")\n",
    "fig.update_xaxes(tickangle=45, tickfont=dict(color='crimson', size=14))\n",
    "fig.update_xaxes(showline=True, linewidth=2, linecolor='black', mirror=True, gridcolor='Pink')\n",
    "fig.update_yaxes(showline=True, linewidth=2, linecolor='black', mirror=True, gridcolor='Red')\n",
    "#fig.show()\n",
    "fig.write_html(r'C:\\Users\\eeeeeeeeee\\Documents\\JupyterAnacondaPythonNotebooks\\Daily\\Charts_px\\PPROD\\{}.html'.format(FileName))\n",
    "plt.close()"
   ]
  },
  {
   "cell_type": "code",
   "execution_count": 201,
   "metadata": {},
   "outputs": [
    {
     "name": "stdout",
     "output_type": "stream",
     "text": [
      "     DatabaseName SchemaName    TableName\n",
      "4845        PPROD         PP  STU_CRS_STS\n"
     ]
    }
   ],
   "source": [
    "d = dfpprod0062[['DatabaseName', 'SchemaName','TableName']]#.format(z)\n",
    "d = d.drop_duplicates()\n",
    "e = d['DatabaseName'].values[0]\n",
    "f = d['SchemaName'].values[0]\n",
    "g = d['TableName'].values[0]\n",
    "print (d)\n",
    "FileName = ('PPROD_{}_{}'.format(f,g))\n",
    "\n",
    "fig = px.scatter(dfpprod0062, x = 'TodaysDate', y='RecordCount', size = 'RecordCount', color = 'RecordCount')#.format(z)\n",
    "fig.update_layout(title = '{0},{1},{2}'.format(e,f,g))\n",
    "fig.update_layout(yaxis_zeroline=False, xaxis_zeroline=False)\n",
    "fig.update_xaxes(title_font=dict(size=18, color='crimson'))\n",
    "fig.update_yaxes(title_font=dict(size=18, color='crimson'))\n",
    "fig.update_xaxes(ticks=\"inside\")\n",
    "fig.update_yaxes(ticks=\"inside\")\n",
    "fig.update_xaxes(tickangle=45, tickfont=dict(color='crimson', size=14))\n",
    "fig.update_xaxes(showline=True, linewidth=2, linecolor='black', mirror=True, gridcolor='Pink')\n",
    "fig.update_yaxes(showline=True, linewidth=2, linecolor='black', mirror=True, gridcolor='Red')\n",
    "#fig.show()\n",
    "fig.write_html(r'C:\\Users\\eeeeeeeeee\\Documents\\JupyterAnacondaPythonNotebooks\\Daily\\Charts_px\\PPROD\\{}.html'.format(FileName))\n",
    "plt.close()"
   ]
  },
  {
   "cell_type": "code",
   "execution_count": 202,
   "metadata": {},
   "outputs": [
    {
     "name": "stdout",
     "output_type": "stream",
     "text": [
      "     DatabaseName SchemaName      TableName\n",
      "4940        PPROD         PP  STU_CURR_SCHD\n"
     ]
    }
   ],
   "source": [
    "d = dfpprod0063[['DatabaseName', 'SchemaName','TableName']]#.format(z)\n",
    "d = d.drop_duplicates()\n",
    "e = d['DatabaseName'].values[0]\n",
    "f = d['SchemaName'].values[0]\n",
    "g = d['TableName'].values[0]\n",
    "print (d)\n",
    "FileName = ('PPROD_{}_{}'.format(f,g))\n",
    "\n",
    "fig = px.scatter(dfpprod0063, x = 'TodaysDate', y='RecordCount', size = 'RecordCount', color = 'RecordCount')#.format(z)\n",
    "fig.update_layout(title = '{0},{1},{2}'.format(e,f,g))\n",
    "fig.update_layout(yaxis_zeroline=False, xaxis_zeroline=False)\n",
    "fig.update_xaxes(title_font=dict(size=18, color='crimson'))\n",
    "fig.update_yaxes(title_font=dict(size=18, color='crimson'))\n",
    "fig.update_xaxes(ticks=\"inside\")\n",
    "fig.update_yaxes(ticks=\"inside\")\n",
    "fig.update_xaxes(tickangle=45, tickfont=dict(color='crimson', size=14))\n",
    "fig.update_xaxes(showline=True, linewidth=2, linecolor='black', mirror=True, gridcolor='Pink')\n",
    "fig.update_yaxes(showline=True, linewidth=2, linecolor='black', mirror=True, gridcolor='Red')\n",
    "#fig.show()\n",
    "fig.write_html(r'C:\\Users\\eeeeeeeeee\\Documents\\JupyterAnacondaPythonNotebooks\\Daily\\Charts_px\\PPROD\\{}.html'.format(FileName))\n",
    "plt.close()"
   ]
  },
  {
   "cell_type": "code",
   "execution_count": 203,
   "metadata": {},
   "outputs": [
    {
     "name": "stdout",
     "output_type": "stream",
     "text": [
      "     DatabaseName SchemaName               TableName\n",
      "5035        PPROD         PP  STU_CURR_SCHD_20161222\n"
     ]
    }
   ],
   "source": [
    "d = dfpprod0064[['DatabaseName', 'SchemaName','TableName']]#.format(z)\n",
    "d = d.drop_duplicates()\n",
    "e = d['DatabaseName'].values[0]\n",
    "f = d['SchemaName'].values[0]\n",
    "g = d['TableName'].values[0]\n",
    "print (d)\n",
    "FileName = ('PPROD_{}_{}'.format(f,g))\n",
    "\n",
    "fig = px.scatter(dfpprod0064, x = 'TodaysDate', y='RecordCount', size = 'RecordCount', color = 'RecordCount')#.format(z)\n",
    "fig.update_layout(title = '{0},{1},{2}'.format(e,f,g))\n",
    "fig.update_layout(yaxis_zeroline=False, xaxis_zeroline=False)\n",
    "fig.update_xaxes(title_font=dict(size=18, color='crimson'))\n",
    "fig.update_yaxes(title_font=dict(size=18, color='crimson'))\n",
    "fig.update_xaxes(ticks=\"inside\")\n",
    "fig.update_yaxes(ticks=\"inside\")\n",
    "fig.update_xaxes(tickangle=45, tickfont=dict(color='crimson', size=14))\n",
    "fig.update_xaxes(showline=True, linewidth=2, linecolor='black', mirror=True, gridcolor='Pink')\n",
    "fig.update_yaxes(showline=True, linewidth=2, linecolor='black', mirror=True, gridcolor='Red')\n",
    "#fig.show()\n",
    "fig.write_html(r'C:\\Users\\eeeeeeeeee\\Documents\\JupyterAnacondaPythonNotebooks\\Daily\\Charts_px\\PPROD\\{}.html'.format(FileName))\n",
    "plt.close()"
   ]
  },
  {
   "cell_type": "code",
   "execution_count": 204,
   "metadata": {},
   "outputs": [
    {
     "name": "stdout",
     "output_type": "stream",
     "text": [
      "     DatabaseName SchemaName           TableName\n",
      "9785        PPROD         PP  stu_curr_schd_ALAN\n"
     ]
    }
   ],
   "source": [
    "d = dfpprod0065[['DatabaseName', 'SchemaName','TableName']]#.format(z)\n",
    "d = d.drop_duplicates()\n",
    "e = d['DatabaseName'].values[0]\n",
    "f = d['SchemaName'].values[0]\n",
    "g = d['TableName'].values[0]\n",
    "print (d)\n",
    "FileName = ('PPROD_{}_{}'.format(f,g))\n",
    "\n",
    "fig = px.scatter(dfpprod0065, x = 'TodaysDate', y='RecordCount', size = 'RecordCount', color = 'RecordCount')#.format(z)\n",
    "fig.update_layout(title = '{0},{1},{2}'.format(e,f,g))\n",
    "fig.update_layout(yaxis_zeroline=False, xaxis_zeroline=False)\n",
    "fig.update_xaxes(title_font=dict(size=18, color='crimson'))\n",
    "fig.update_yaxes(title_font=dict(size=18, color='crimson'))\n",
    "fig.update_xaxes(ticks=\"inside\")\n",
    "fig.update_yaxes(ticks=\"inside\")\n",
    "fig.update_xaxes(tickangle=45, tickfont=dict(color='crimson', size=14))\n",
    "fig.update_xaxes(showline=True, linewidth=2, linecolor='black', mirror=True, gridcolor='Pink')\n",
    "fig.update_yaxes(showline=True, linewidth=2, linecolor='black', mirror=True, gridcolor='Red')\n",
    "#fig.show()\n",
    "fig.write_html(r'C:\\Users\\eeeeeeeeee\\Documents\\JupyterAnacondaPythonNotebooks\\Daily\\Charts_px\\PPROD\\{}.html'.format(FileName))\n",
    "plt.close()"
   ]
  },
  {
   "cell_type": "code",
   "execution_count": 205,
   "metadata": {},
   "outputs": [
    {
     "name": "stdout",
     "output_type": "stream",
     "text": [
      "     DatabaseName SchemaName             TableName\n",
      "9880        PPROD         PP  stu_curr_schd_backup\n"
     ]
    }
   ],
   "source": [
    "d = dfpprod0066[['DatabaseName', 'SchemaName','TableName']]#.format(z)\n",
    "d = d.drop_duplicates()\n",
    "e = d['DatabaseName'].values[0]\n",
    "f = d['SchemaName'].values[0]\n",
    "g = d['TableName'].values[0]\n",
    "print (d)\n",
    "FileName = ('PPROD_{}_{}'.format(f,g))\n",
    "\n",
    "fig = px.scatter(dfpprod0066, x = 'TodaysDate', y='RecordCount', size = 'RecordCount', color = 'RecordCount')#.format(z)\n",
    "fig.update_layout(title = '{0},{1},{2}'.format(e,f,g))\n",
    "fig.update_layout(yaxis_zeroline=False, xaxis_zeroline=False)\n",
    "fig.update_xaxes(title_font=dict(size=18, color='crimson'))\n",
    "fig.update_yaxes(title_font=dict(size=18, color='crimson'))\n",
    "fig.update_xaxes(ticks=\"inside\")\n",
    "fig.update_yaxes(ticks=\"inside\")\n",
    "fig.update_xaxes(tickangle=45, tickfont=dict(color='crimson', size=14))\n",
    "fig.update_xaxes(showline=True, linewidth=2, linecolor='black', mirror=True, gridcolor='Pink')\n",
    "fig.update_yaxes(showline=True, linewidth=2, linecolor='black', mirror=True, gridcolor='Red')\n",
    "#fig.show()\n",
    "fig.write_html(r'C:\\Users\\eeeeeeeeee\\Documents\\JupyterAnacondaPythonNotebooks\\Daily\\Charts_px\\PPROD\\{}.html'.format(FileName))\n",
    "plt.close()"
   ]
  },
  {
   "cell_type": "code",
   "execution_count": 206,
   "metadata": {},
   "outputs": [
    {
     "name": "stdout",
     "output_type": "stream",
     "text": [
      "     DatabaseName SchemaName             TableName\n",
      "7410        PPROD         PP  Stu_Curr_Schd_Cotchr\n"
     ]
    }
   ],
   "source": [
    "d = dfpprod0067[['DatabaseName', 'SchemaName','TableName']]#.format(z)\n",
    "d = d.drop_duplicates()\n",
    "e = d['DatabaseName'].values[0]\n",
    "f = d['SchemaName'].values[0]\n",
    "g = d['TableName'].values[0]\n",
    "print (d)\n",
    "FileName = ('PPROD_{}_{}'.format(f,g))\n",
    "\n",
    "fig = px.scatter(dfpprod0067, x = 'TodaysDate', y='RecordCount', size = 'RecordCount', color = 'RecordCount')#.format(z)\n",
    "fig.update_layout(title = '{0},{1},{2}'.format(e,f,g))\n",
    "fig.update_layout(yaxis_zeroline=False, xaxis_zeroline=False)\n",
    "fig.update_xaxes(title_font=dict(size=18, color='crimson'))\n",
    "fig.update_yaxes(title_font=dict(size=18, color='crimson'))\n",
    "fig.update_xaxes(ticks=\"inside\")\n",
    "fig.update_yaxes(ticks=\"inside\")\n",
    "fig.update_xaxes(tickangle=45, tickfont=dict(color='crimson', size=14))\n",
    "fig.update_xaxes(showline=True, linewidth=2, linecolor='black', mirror=True, gridcolor='Pink')\n",
    "fig.update_yaxes(showline=True, linewidth=2, linecolor='black', mirror=True, gridcolor='Red')\n",
    "#fig.show()\n",
    "fig.write_html(r'C:\\Users\\eeeeeeeeee\\Documents\\JupyterAnacondaPythonNotebooks\\Daily\\Charts_px\\PPROD\\{}.html'.format(FileName))\n",
    "plt.close()"
   ]
  },
  {
   "cell_type": "code",
   "execution_count": 207,
   "metadata": {},
   "outputs": [
    {
     "name": "stdout",
     "output_type": "stream",
     "text": [
      "     DatabaseName SchemaName            TableName\n",
      "9975        PPROD         PP  stu_curr_schd_igpro\n"
     ]
    }
   ],
   "source": [
    "d = dfpprod0068[['DatabaseName', 'SchemaName','TableName']]#.format(z)\n",
    "d = d.drop_duplicates()\n",
    "e = d['DatabaseName'].values[0]\n",
    "f = d['SchemaName'].values[0]\n",
    "g = d['TableName'].values[0]\n",
    "print (d)\n",
    "FileName = ('PPROD_{}_{}'.format(f,g))\n",
    "\n",
    "fig = px.scatter(dfpprod0068, x = 'TodaysDate', y='RecordCount', size = 'RecordCount', color = 'RecordCount')#.format(z)\n",
    "fig.update_layout(title = '{0},{1},{2}'.format(e,f,g))\n",
    "fig.update_layout(yaxis_zeroline=False, xaxis_zeroline=False)\n",
    "fig.update_xaxes(title_font=dict(size=18, color='crimson'))\n",
    "fig.update_yaxes(title_font=dict(size=18, color='crimson'))\n",
    "fig.update_xaxes(ticks=\"inside\")\n",
    "fig.update_yaxes(ticks=\"inside\")\n",
    "fig.update_xaxes(tickangle=45, tickfont=dict(color='crimson', size=14))\n",
    "fig.update_xaxes(showline=True, linewidth=2, linecolor='black', mirror=True, gridcolor='Pink')\n",
    "fig.update_yaxes(showline=True, linewidth=2, linecolor='black', mirror=True, gridcolor='Red')\n",
    "#fig.show()\n",
    "fig.write_html(r'C:\\Users\\eeeeeeeeee\\Documents\\JupyterAnacondaPythonNotebooks\\Daily\\Charts_px\\PPROD\\{}.html'.format(FileName))\n",
    "plt.close()"
   ]
  },
  {
   "cell_type": "code",
   "execution_count": 208,
   "metadata": {},
   "outputs": [
    {
     "name": "stdout",
     "output_type": "stream",
     "text": [
      "     DatabaseName SchemaName          TableName\n",
      "5130        PPROD         PP  STU_CURR_SCHD_SUM\n"
     ]
    }
   ],
   "source": [
    "d = dfpprod0069[['DatabaseName', 'SchemaName','TableName']]#.format(z)\n",
    "d = d.drop_duplicates()\n",
    "e = d['DatabaseName'].values[0]\n",
    "f = d['SchemaName'].values[0]\n",
    "g = d['TableName'].values[0]\n",
    "print (d)\n",
    "FileName = ('PPROD_{}_{}'.format(f,g))\n",
    "\n",
    "fig = px.scatter(dfpprod0069, x = 'TodaysDate', y='RecordCount', size = 'RecordCount', color = 'RecordCount')#.format(z)\n",
    "fig.update_layout(title = '{0},{1},{2}'.format(e,f,g))\n",
    "fig.update_layout(yaxis_zeroline=False, xaxis_zeroline=False)\n",
    "fig.update_xaxes(title_font=dict(size=18, color='crimson'))\n",
    "fig.update_yaxes(title_font=dict(size=18, color='crimson'))\n",
    "fig.update_xaxes(ticks=\"inside\")\n",
    "fig.update_yaxes(ticks=\"inside\")\n",
    "fig.update_xaxes(tickangle=45, tickfont=dict(color='crimson', size=14))\n",
    "fig.update_xaxes(showline=True, linewidth=2, linecolor='black', mirror=True, gridcolor='Pink')\n",
    "fig.update_yaxes(showline=True, linewidth=2, linecolor='black', mirror=True, gridcolor='Red')\n",
    "#fig.show()\n",
    "fig.write_html(r'C:\\Users\\eeeeeeeeee\\Documents\\JupyterAnacondaPythonNotebooks\\Daily\\Charts_px\\PPROD\\{}.html'.format(FileName))\n",
    "plt.close()"
   ]
  },
  {
   "cell_type": "code",
   "execution_count": 209,
   "metadata": {},
   "outputs": [
    {
     "name": "stdout",
     "output_type": "stream",
     "text": [
      "     DatabaseName SchemaName      TableName\n",
      "5320        PPROD         PP  STU_DSCP_DISP\n"
     ]
    }
   ],
   "source": [
    "d = dfpprod0070[['DatabaseName', 'SchemaName','TableName']]#.format(z)\n",
    "d = d.drop_duplicates()\n",
    "e = d['DatabaseName'].values[0]\n",
    "f = d['SchemaName'].values[0]\n",
    "g = d['TableName'].values[0]\n",
    "print (d)\n",
    "FileName = ('PPROD_{}_{}'.format(f,g))\n",
    "\n",
    "fig = px.scatter(dfpprod0070, x = 'TodaysDate', y='RecordCount', size = 'RecordCount', color = 'RecordCount')#.format(z)\n",
    "fig.update_layout(title = '{0},{1},{2}'.format(e,f,g))\n",
    "fig.update_layout(yaxis_zeroline=False, xaxis_zeroline=False)\n",
    "fig.update_xaxes(title_font=dict(size=18, color='crimson'))\n",
    "fig.update_yaxes(title_font=dict(size=18, color='crimson'))\n",
    "fig.update_xaxes(ticks=\"inside\")\n",
    "fig.update_yaxes(ticks=\"inside\")\n",
    "fig.update_xaxes(tickangle=45, tickfont=dict(color='crimson', size=14))\n",
    "fig.update_xaxes(showline=True, linewidth=2, linecolor='black', mirror=True, gridcolor='Pink')\n",
    "fig.update_yaxes(showline=True, linewidth=2, linecolor='black', mirror=True, gridcolor='Red')\n",
    "#fig.show()\n",
    "fig.write_html(r'C:\\Users\\eeeeeeeeee\\Documents\\JupyterAnacondaPythonNotebooks\\Daily\\Charts_px\\PPROD\\{}.html'.format(FileName))\n",
    "plt.close()"
   ]
  },
  {
   "cell_type": "code",
   "execution_count": 210,
   "metadata": {},
   "outputs": [
    {
     "name": "stdout",
     "output_type": "stream",
     "text": [
      "     DatabaseName SchemaName     TableName\n",
      "5415        PPROD         PP  STU_DSCP_HST\n"
     ]
    }
   ],
   "source": [
    "d = dfpprod0071[['DatabaseName', 'SchemaName','TableName']]#.format(z)\n",
    "d = d.drop_duplicates()\n",
    "e = d['DatabaseName'].values[0]\n",
    "f = d['SchemaName'].values[0]\n",
    "g = d['TableName'].values[0]\n",
    "print (d)\n",
    "FileName = ('PPROD_{}_{}'.format(f,g))\n",
    "\n",
    "fig = px.scatter(dfpprod0071, x = 'TodaysDate', y='RecordCount', size = 'RecordCount', color = 'RecordCount')#.format(z)\n",
    "fig.update_layout(title = '{0},{1},{2}'.format(e,f,g))\n",
    "fig.update_layout(yaxis_zeroline=False, xaxis_zeroline=False)\n",
    "fig.update_xaxes(title_font=dict(size=18, color='crimson'))\n",
    "fig.update_yaxes(title_font=dict(size=18, color='crimson'))\n",
    "fig.update_xaxes(ticks=\"inside\")\n",
    "fig.update_yaxes(ticks=\"inside\")\n",
    "fig.update_xaxes(tickangle=45, tickfont=dict(color='crimson', size=14))\n",
    "fig.update_xaxes(showline=True, linewidth=2, linecolor='black', mirror=True, gridcolor='Pink')\n",
    "fig.update_yaxes(showline=True, linewidth=2, linecolor='black', mirror=True, gridcolor='Red')\n",
    "#fig.show()\n",
    "fig.write_html(r'C:\\Users\\eeeeeeeeee\\Documents\\JupyterAnacondaPythonNotebooks\\Daily\\Charts_px\\PPROD\\{}.html'.format(FileName))\n",
    "plt.close()"
   ]
  },
  {
   "cell_type": "code",
   "execution_count": 211,
   "metadata": {},
   "outputs": [
    {
     "name": "stdout",
     "output_type": "stream",
     "text": [
      "     DatabaseName SchemaName TableName\n",
      "5510        PPROD         PP  STU_Fees\n"
     ]
    }
   ],
   "source": [
    "d = dfpprod0072[['DatabaseName', 'SchemaName','TableName']]#.format(z)\n",
    "d = d.drop_duplicates()\n",
    "e = d['DatabaseName'].values[0]\n",
    "f = d['SchemaName'].values[0]\n",
    "g = d['TableName'].values[0]\n",
    "print (d)\n",
    "FileName = ('PPROD_{}_{}'.format(f,g))\n",
    "\n",
    "fig = px.scatter(dfpprod0072, x = 'TodaysDate', y='RecordCount', size = 'RecordCount', color = 'RecordCount')#.format(z)\n",
    "fig.update_layout(title = '{0},{1},{2}'.format(e,f,g))\n",
    "fig.update_layout(yaxis_zeroline=False, xaxis_zeroline=False)\n",
    "fig.update_xaxes(title_font=dict(size=18, color='crimson'))\n",
    "fig.update_yaxes(title_font=dict(size=18, color='crimson'))\n",
    "fig.update_xaxes(ticks=\"inside\")\n",
    "fig.update_yaxes(ticks=\"inside\")\n",
    "fig.update_xaxes(tickangle=45, tickfont=dict(color='crimson', size=14))\n",
    "fig.update_xaxes(showline=True, linewidth=2, linecolor='black', mirror=True, gridcolor='Pink')\n",
    "fig.update_yaxes(showline=True, linewidth=2, linecolor='black', mirror=True, gridcolor='Red')\n",
    "#fig.show()\n",
    "fig.write_html(r'C:\\Users\\eeeeeeeeee\\Documents\\JupyterAnacondaPythonNotebooks\\Daily\\Charts_px\\PPROD\\{}.html'.format(FileName))\n",
    "plt.close()"
   ]
  },
  {
   "cell_type": "code",
   "execution_count": 212,
   "metadata": {},
   "outputs": [
    {
     "name": "stdout",
     "output_type": "stream",
     "text": [
      "     DatabaseName SchemaName         TableName\n",
      "5605        PPROD         PP  STU_IGP_CLS_NOTE\n"
     ]
    }
   ],
   "source": [
    "d = dfpprod0073[['DatabaseName', 'SchemaName','TableName']]#.format(z)\n",
    "d = d.drop_duplicates()\n",
    "e = d['DatabaseName'].values[0]\n",
    "f = d['SchemaName'].values[0]\n",
    "g = d['TableName'].values[0]\n",
    "print (d)\n",
    "FileName = ('PPROD_{}_{}'.format(f,g))\n",
    "\n",
    "fig = px.scatter(dfpprod0073, x = 'TodaysDate', y='RecordCount', size = 'RecordCount', color = 'RecordCount')#.format(z)\n",
    "fig.update_layout(title = '{0},{1},{2}'.format(e,f,g))\n",
    "fig.update_layout(yaxis_zeroline=False, xaxis_zeroline=False)\n",
    "fig.update_xaxes(title_font=dict(size=18, color='crimson'))\n",
    "fig.update_yaxes(title_font=dict(size=18, color='crimson'))\n",
    "fig.update_xaxes(ticks=\"inside\")\n",
    "fig.update_yaxes(ticks=\"inside\")\n",
    "fig.update_xaxes(tickangle=45, tickfont=dict(color='crimson', size=14))\n",
    "fig.update_xaxes(showline=True, linewidth=2, linecolor='black', mirror=True, gridcolor='Pink')\n",
    "fig.update_yaxes(showline=True, linewidth=2, linecolor='black', mirror=True, gridcolor='Red')\n",
    "#fig.show()\n",
    "fig.write_html(r'C:\\Users\\eeeeeeeeee\\Documents\\JupyterAnacondaPythonNotebooks\\Daily\\Charts_px\\PPROD\\{}.html'.format(FileName))\n",
    "plt.close()"
   ]
  },
  {
   "cell_type": "code",
   "execution_count": 213,
   "metadata": {},
   "outputs": [
    {
     "name": "stdout",
     "output_type": "stream",
     "text": [
      "     DatabaseName SchemaName         TableName\n",
      "5700        PPROD         PP  STU_IGP_STU_NOTE\n"
     ]
    }
   ],
   "source": [
    "d = dfpprod0074[['DatabaseName', 'SchemaName','TableName']]#.format(z)\n",
    "d = d.drop_duplicates()\n",
    "e = d['DatabaseName'].values[0]\n",
    "f = d['SchemaName'].values[0]\n",
    "g = d['TableName'].values[0]\n",
    "print (d)\n",
    "FileName = ('PPROD_{}_{}'.format(f,g))\n",
    "\n",
    "fig = px.scatter(dfpprod0074, x = 'TodaysDate', y='RecordCount', size = 'RecordCount', color = 'RecordCount')#.format(z)\n",
    "fig.update_layout(title = '{0},{1},{2}'.format(e,f,g))\n",
    "fig.update_layout(yaxis_zeroline=False, xaxis_zeroline=False)\n",
    "fig.update_xaxes(title_font=dict(size=18, color='crimson'))\n",
    "fig.update_yaxes(title_font=dict(size=18, color='crimson'))\n",
    "fig.update_xaxes(ticks=\"inside\")\n",
    "fig.update_yaxes(ticks=\"inside\")\n",
    "fig.update_xaxes(tickangle=45, tickfont=dict(color='crimson', size=14))\n",
    "fig.update_xaxes(showline=True, linewidth=2, linecolor='black', mirror=True, gridcolor='Pink')\n",
    "fig.update_yaxes(showline=True, linewidth=2, linecolor='black', mirror=True, gridcolor='Red')\n",
    "#fig.show()\n",
    "fig.write_html(r'C:\\Users\\eeeeeeeeee\\Documents\\JupyterAnacondaPythonNotebooks\\Daily\\Charts_px\\PPROD\\{}.html'.format(FileName))\n",
    "plt.close()"
   ]
  },
  {
   "cell_type": "code",
   "execution_count": 214,
   "metadata": {},
   "outputs": [
    {
     "name": "stdout",
     "output_type": "stream",
     "text": [
      "     DatabaseName SchemaName     TableName\n",
      "5795        PPROD         PP  STU_IGP_TASK\n"
     ]
    }
   ],
   "source": [
    "d = dfpprod0075[['DatabaseName', 'SchemaName','TableName']]#.format(z)\n",
    "d = d.drop_duplicates()\n",
    "e = d['DatabaseName'].values[0]\n",
    "f = d['SchemaName'].values[0]\n",
    "g = d['TableName'].values[0]\n",
    "print (d)\n",
    "FileName = ('PPROD_{}_{}'.format(f,g))\n",
    "\n",
    "fig = px.scatter(dfpprod0075, x = 'TodaysDate', y='RecordCount', size = 'RecordCount', color = 'RecordCount')#.format(z)\n",
    "fig.update_layout(title = '{0},{1},{2}'.format(e,f,g))\n",
    "fig.update_layout(yaxis_zeroline=False, xaxis_zeroline=False)\n",
    "fig.update_xaxes(title_font=dict(size=18, color='crimson'))\n",
    "fig.update_yaxes(title_font=dict(size=18, color='crimson'))\n",
    "fig.update_xaxes(ticks=\"inside\")\n",
    "fig.update_yaxes(ticks=\"inside\")\n",
    "fig.update_xaxes(tickangle=45, tickfont=dict(color='crimson', size=14))\n",
    "fig.update_xaxes(showline=True, linewidth=2, linecolor='black', mirror=True, gridcolor='Pink')\n",
    "fig.update_yaxes(showline=True, linewidth=2, linecolor='black', mirror=True, gridcolor='Red')\n",
    "#fig.show()\n",
    "fig.write_html(r'C:\\Users\\eeeeeeeeee\\Documents\\JupyterAnacondaPythonNotebooks\\Daily\\Charts_px\\PPROD\\{}.html'.format(FileName))\n",
    "plt.close()"
   ]
  },
  {
   "cell_type": "code",
   "execution_count": 215,
   "metadata": {},
   "outputs": [
    {
     "name": "stdout",
     "output_type": "stream",
     "text": [
      "      DatabaseName SchemaName              TableName\n",
      "10070        PPROD         PP  stu_igp_task_20161222\n"
     ]
    }
   ],
   "source": [
    "d = dfpprod0076[['DatabaseName', 'SchemaName','TableName']]#.format(z)\n",
    "d = d.drop_duplicates()\n",
    "e = d['DatabaseName'].values[0]\n",
    "f = d['SchemaName'].values[0]\n",
    "g = d['TableName'].values[0]\n",
    "print (d)\n",
    "FileName = ('PPROD_{}_{}'.format(f,g))\n",
    "\n",
    "fig = px.scatter(dfpprod0076, x = 'TodaysDate', y='RecordCount', size = 'RecordCount', color = 'RecordCount')#.format(z)\n",
    "fig.update_layout(title = '{0},{1},{2}'.format(e,f,g))\n",
    "fig.update_layout(yaxis_zeroline=False, xaxis_zeroline=False)\n",
    "fig.update_xaxes(title_font=dict(size=18, color='crimson'))\n",
    "fig.update_yaxes(title_font=dict(size=18, color='crimson'))\n",
    "fig.update_xaxes(ticks=\"inside\")\n",
    "fig.update_yaxes(ticks=\"inside\")\n",
    "fig.update_xaxes(tickangle=45, tickfont=dict(color='crimson', size=14))\n",
    "fig.update_xaxes(showline=True, linewidth=2, linecolor='black', mirror=True, gridcolor='Pink')\n",
    "fig.update_yaxes(showline=True, linewidth=2, linecolor='black', mirror=True, gridcolor='Red')\n",
    "#fig.show()\n",
    "fig.write_html(r'C:\\Users\\eeeeeeeeee\\Documents\\JupyterAnacondaPythonNotebooks\\Daily\\Charts_px\\PPROD\\{}.html'.format(FileName))\n",
    "plt.close()"
   ]
  },
  {
   "cell_type": "code",
   "execution_count": 216,
   "metadata": {},
   "outputs": [
    {
     "name": "stdout",
     "output_type": "stream",
     "text": [
      "      DatabaseName SchemaName                      TableName\n",
      "10165        PPROD         PP  stu_igp_task_20190906_partial\n"
     ]
    }
   ],
   "source": [
    "d = dfpprod0077[['DatabaseName', 'SchemaName','TableName']]#.format(z)\n",
    "d = d.drop_duplicates()\n",
    "e = d['DatabaseName'].values[0]\n",
    "f = d['SchemaName'].values[0]\n",
    "g = d['TableName'].values[0]\n",
    "print (d)\n",
    "FileName = ('PPROD_{}_{}'.format(f,g))\n",
    "\n",
    "fig = px.scatter(dfpprod0077, x = 'TodaysDate', y='RecordCount', size = 'RecordCount', color = 'RecordCount')#.format(z)\n",
    "fig.update_layout(title = '{0},{1},{2}'.format(e,f,g))\n",
    "fig.update_layout(yaxis_zeroline=False, xaxis_zeroline=False)\n",
    "fig.update_xaxes(title_font=dict(size=18, color='crimson'))\n",
    "fig.update_yaxes(title_font=dict(size=18, color='crimson'))\n",
    "fig.update_xaxes(ticks=\"inside\")\n",
    "fig.update_yaxes(ticks=\"inside\")\n",
    "fig.update_xaxes(tickangle=45, tickfont=dict(color='crimson', size=14))\n",
    "fig.update_xaxes(showline=True, linewidth=2, linecolor='black', mirror=True, gridcolor='Pink')\n",
    "fig.update_yaxes(showline=True, linewidth=2, linecolor='black', mirror=True, gridcolor='Red')\n",
    "#fig.show()\n",
    "fig.write_html(r'C:\\Users\\eeeeeeeeee\\Documents\\JupyterAnacondaPythonNotebooks\\Daily\\Charts_px\\PPROD\\{}.html'.format(FileName))\n",
    "plt.close()"
   ]
  },
  {
   "cell_type": "code",
   "execution_count": 217,
   "metadata": {},
   "outputs": [
    {
     "name": "stdout",
     "output_type": "stream",
     "text": [
      "     DatabaseName SchemaName    TableName\n",
      "5890        PPROD         PP  STU_MEALPAY\n"
     ]
    }
   ],
   "source": [
    "d = dfpprod0078[['DatabaseName', 'SchemaName','TableName']]#.format(z)\n",
    "d = d.drop_duplicates()\n",
    "e = d['DatabaseName'].values[0]\n",
    "f = d['SchemaName'].values[0]\n",
    "g = d['TableName'].values[0]\n",
    "print (d)\n",
    "FileName = ('PPROD_{}_{}'.format(f,g))\n",
    "\n",
    "fig = px.scatter(dfpprod0078, x = 'TodaysDate', y='RecordCount', size = 'RecordCount', color = 'RecordCount')#.format(z)\n",
    "fig.update_layout(title = '{0},{1},{2}'.format(e,f,g))\n",
    "fig.update_layout(yaxis_zeroline=False, xaxis_zeroline=False)\n",
    "fig.update_xaxes(title_font=dict(size=18, color='crimson'))\n",
    "fig.update_yaxes(title_font=dict(size=18, color='crimson'))\n",
    "fig.update_xaxes(ticks=\"inside\")\n",
    "fig.update_yaxes(ticks=\"inside\")\n",
    "fig.update_xaxes(tickangle=45, tickfont=dict(color='crimson', size=14))\n",
    "fig.update_xaxes(showline=True, linewidth=2, linecolor='black', mirror=True, gridcolor='Pink')\n",
    "fig.update_yaxes(showline=True, linewidth=2, linecolor='black', mirror=True, gridcolor='Red')\n",
    "#fig.show()\n",
    "fig.write_html(r'C:\\Users\\eeeeeeeeee\\Documents\\JupyterAnacondaPythonNotebooks\\Daily\\Charts_px\\PPROD\\{}.html'.format(FileName))\n",
    "plt.close()"
   ]
  },
  {
   "cell_type": "code",
   "execution_count": 218,
   "metadata": {},
   "outputs": [
    {
     "name": "stdout",
     "output_type": "stream",
     "text": [
      "     DatabaseName SchemaName              TableName\n",
      "5985        PPROD         PP  STU_PERIOD_ATTENDANCE\n"
     ]
    }
   ],
   "source": [
    "d = dfpprod0079[['DatabaseName', 'SchemaName','TableName']]#.format(z)\n",
    "d = d.drop_duplicates()\n",
    "e = d['DatabaseName'].values[0]\n",
    "f = d['SchemaName'].values[0]\n",
    "g = d['TableName'].values[0]\n",
    "print (d)\n",
    "FileName = ('PPROD_{}_{}'.format(f,g))\n",
    "\n",
    "fig = px.scatter(dfpprod0079, x = 'TodaysDate', y='RecordCount', size = 'RecordCount', color = 'RecordCount')#.format(z)\n",
    "fig.update_layout(title = '{0},{1},{2}'.format(e,f,g))\n",
    "fig.update_layout(yaxis_zeroline=False, xaxis_zeroline=False)\n",
    "fig.update_xaxes(title_font=dict(size=18, color='crimson'))\n",
    "fig.update_yaxes(title_font=dict(size=18, color='crimson'))\n",
    "fig.update_xaxes(ticks=\"inside\")\n",
    "fig.update_yaxes(ticks=\"inside\")\n",
    "fig.update_xaxes(tickangle=45, tickfont=dict(color='crimson', size=14))\n",
    "fig.update_xaxes(showline=True, linewidth=2, linecolor='black', mirror=True, gridcolor='Pink')\n",
    "fig.update_yaxes(showline=True, linewidth=2, linecolor='black', mirror=True, gridcolor='Red')\n",
    "#fig.show()\n",
    "fig.write_html(r'C:\\Users\\eeeeeeeeee\\Documents\\JupyterAnacondaPythonNotebooks\\Daily\\Charts_px\\PPROD\\{}.html'.format(FileName))\n",
    "plt.close()"
   ]
  },
  {
   "cell_type": "code",
   "execution_count": 219,
   "metadata": {},
   "outputs": [
    {
     "name": "stdout",
     "output_type": "stream",
     "text": [
      "     DatabaseName SchemaName TableName\n",
      "6080        PPROD         PP   STU_PGM\n"
     ]
    }
   ],
   "source": [
    "d = dfpprod0080[['DatabaseName', 'SchemaName','TableName']]#.format(z)\n",
    "d = d.drop_duplicates()\n",
    "e = d['DatabaseName'].values[0]\n",
    "f = d['SchemaName'].values[0]\n",
    "g = d['TableName'].values[0]\n",
    "print (d)\n",
    "FileName = ('PPROD_{}_{}'.format(f,g))\n",
    "\n",
    "fig = px.scatter(dfpprod0080, x = 'TodaysDate', y='RecordCount', size = 'RecordCount', color = 'RecordCount')#.format(z)\n",
    "fig.update_layout(title = '{0},{1},{2}'.format(e,f,g))\n",
    "fig.update_layout(yaxis_zeroline=False, xaxis_zeroline=False)\n",
    "fig.update_xaxes(title_font=dict(size=18, color='crimson'))\n",
    "fig.update_yaxes(title_font=dict(size=18, color='crimson'))\n",
    "fig.update_xaxes(ticks=\"inside\")\n",
    "fig.update_yaxes(ticks=\"inside\")\n",
    "fig.update_xaxes(tickangle=45, tickfont=dict(color='crimson', size=14))\n",
    "fig.update_xaxes(showline=True, linewidth=2, linecolor='black', mirror=True, gridcolor='Pink')\n",
    "fig.update_yaxes(showline=True, linewidth=2, linecolor='black', mirror=True, gridcolor='Red')\n",
    "#fig.show()\n",
    "fig.write_html(r'C:\\Users\\eeeeeeeeee\\Documents\\JupyterAnacondaPythonNotebooks\\Daily\\Charts_px\\PPROD\\{}.html'.format(FileName))\n",
    "plt.close()"
   ]
  },
  {
   "cell_type": "code",
   "execution_count": 220,
   "metadata": {},
   "outputs": [
    {
     "name": "stdout",
     "output_type": "stream",
     "text": [
      "      DatabaseName SchemaName TableName\n",
      "10260        PPROD         PP  stu_prfl\n"
     ]
    }
   ],
   "source": [
    "d = dfpprod0081[['DatabaseName', 'SchemaName','TableName']]#.format(z)\n",
    "d = d.drop_duplicates()\n",
    "e = d['DatabaseName'].values[0]\n",
    "f = d['SchemaName'].values[0]\n",
    "g = d['TableName'].values[0]\n",
    "print (d)\n",
    "FileName = ('PPROD_{}_{}'.format(f,g))\n",
    "\n",
    "fig = px.scatter(dfpprod0081, x = 'TodaysDate', y='RecordCount', size = 'RecordCount', color = 'RecordCount')#.format(z)\n",
    "fig.update_layout(title = '{0},{1},{2}'.format(e,f,g))\n",
    "fig.update_layout(yaxis_zeroline=False, xaxis_zeroline=False)\n",
    "fig.update_xaxes(title_font=dict(size=18, color='crimson'))\n",
    "fig.update_yaxes(title_font=dict(size=18, color='crimson'))\n",
    "fig.update_xaxes(ticks=\"inside\")\n",
    "fig.update_yaxes(ticks=\"inside\")\n",
    "fig.update_xaxes(tickangle=45, tickfont=dict(color='crimson', size=14))\n",
    "fig.update_xaxes(showline=True, linewidth=2, linecolor='black', mirror=True, gridcolor='Pink')\n",
    "fig.update_yaxes(showline=True, linewidth=2, linecolor='black', mirror=True, gridcolor='Red')\n",
    "#fig.show()\n",
    "fig.write_html(r'C:\\Users\\eeeeeeeeee\\Documents\\JupyterAnacondaPythonNotebooks\\Daily\\Charts_px\\PPROD\\{}.html'.format(FileName))\n",
    "plt.close()"
   ]
  },
  {
   "cell_type": "code",
   "execution_count": 221,
   "metadata": {},
   "outputs": [
    {
     "name": "stdout",
     "output_type": "stream",
     "text": [
      "     DatabaseName SchemaName         TableName\n",
      "6270        PPROD         PP  STU_PRNT_COM_MAX\n"
     ]
    }
   ],
   "source": [
    "d = dfpprod0082[['DatabaseName', 'SchemaName','TableName']]#.format(z)\n",
    "d = d.drop_duplicates()\n",
    "e = d['DatabaseName'].values[0]\n",
    "f = d['SchemaName'].values[0]\n",
    "g = d['TableName'].values[0]\n",
    "print (d)\n",
    "FileName = ('PPROD_{}_{}'.format(f,g))\n",
    "\n",
    "fig = px.scatter(dfpprod0082, x = 'TodaysDate', y='RecordCount', size = 'RecordCount', color = 'RecordCount')#.format(z)\n",
    "fig.update_layout(title = '{0},{1},{2}'.format(e,f,g))\n",
    "fig.update_layout(yaxis_zeroline=False, xaxis_zeroline=False)\n",
    "fig.update_xaxes(title_font=dict(size=18, color='crimson'))\n",
    "fig.update_yaxes(title_font=dict(size=18, color='crimson'))\n",
    "fig.update_xaxes(ticks=\"inside\")\n",
    "fig.update_yaxes(ticks=\"inside\")\n",
    "fig.update_xaxes(tickangle=45, tickfont=dict(color='crimson', size=14))\n",
    "fig.update_xaxes(showline=True, linewidth=2, linecolor='black', mirror=True, gridcolor='Pink')\n",
    "fig.update_yaxes(showline=True, linewidth=2, linecolor='black', mirror=True, gridcolor='Red')\n",
    "#fig.show()\n",
    "fig.write_html(r'C:\\Users\\eeeeeeeeee\\Documents\\JupyterAnacondaPythonNotebooks\\Daily\\Charts_px\\PPROD\\{}.html'.format(FileName))\n",
    "plt.close()"
   ]
  },
  {
   "cell_type": "code",
   "execution_count": 222,
   "metadata": {},
   "outputs": [
    {
     "name": "stdout",
     "output_type": "stream",
     "text": [
      "     DatabaseName SchemaName      TableName\n",
      "6175        PPROD         PP  STU_PRNT_COMM\n"
     ]
    }
   ],
   "source": [
    "d = dfpprod0083[['DatabaseName', 'SchemaName','TableName']]#.format(z)\n",
    "d = d.drop_duplicates()\n",
    "e = d['DatabaseName'].values[0]\n",
    "f = d['SchemaName'].values[0]\n",
    "g = d['TableName'].values[0]\n",
    "print (d)\n",
    "FileName = ('PPROD_{}_{}'.format(f,g))\n",
    "\n",
    "fig = px.scatter(dfpprod0083, x = 'TodaysDate', y='RecordCount', size = 'RecordCount', color = 'RecordCount')#.format(z)\n",
    "fig.update_layout(title = '{0},{1},{2}'.format(e,f,g))\n",
    "fig.update_layout(yaxis_zeroline=False, xaxis_zeroline=False)\n",
    "fig.update_xaxes(title_font=dict(size=18, color='crimson'))\n",
    "fig.update_yaxes(title_font=dict(size=18, color='crimson'))\n",
    "fig.update_xaxes(ticks=\"inside\")\n",
    "fig.update_yaxes(ticks=\"inside\")\n",
    "fig.update_xaxes(tickangle=45, tickfont=dict(color='crimson', size=14))\n",
    "fig.update_xaxes(showline=True, linewidth=2, linecolor='black', mirror=True, gridcolor='Pink')\n",
    "fig.update_yaxes(showline=True, linewidth=2, linecolor='black', mirror=True, gridcolor='Red')\n",
    "#fig.show()\n",
    "fig.write_html(r'C:\\Users\\eeeeeeeeee\\Documents\\JupyterAnacondaPythonNotebooks\\Daily\\Charts_px\\PPROD\\{}.html'.format(FileName))\n",
    "plt.close()"
   ]
  },
  {
   "cell_type": "code",
   "execution_count": 223,
   "metadata": {},
   "outputs": [
    {
     "name": "stdout",
     "output_type": "stream",
     "text": [
      "     DatabaseName SchemaName TableName\n",
      "6365        PPROD         PP  STU_RLTN\n"
     ]
    }
   ],
   "source": [
    "d = dfpprod0084[['DatabaseName', 'SchemaName','TableName']]#.format(z)\n",
    "d = d.drop_duplicates()\n",
    "e = d['DatabaseName'].values[0]\n",
    "f = d['SchemaName'].values[0]\n",
    "g = d['TableName'].values[0]\n",
    "print (d)\n",
    "FileName = ('PPROD_{}_{}'.format(f,g))\n",
    "\n",
    "fig = px.scatter(dfpprod0084, x = 'TodaysDate', y='RecordCount', size = 'RecordCount', color = 'RecordCount')#.format(z)\n",
    "fig.update_layout(title = '{0},{1},{2}'.format(e,f,g))\n",
    "fig.update_layout(yaxis_zeroline=False, xaxis_zeroline=False)\n",
    "fig.update_xaxes(title_font=dict(size=18, color='crimson'))\n",
    "fig.update_yaxes(title_font=dict(size=18, color='crimson'))\n",
    "fig.update_xaxes(ticks=\"inside\")\n",
    "fig.update_yaxes(ticks=\"inside\")\n",
    "fig.update_xaxes(tickangle=45, tickfont=dict(color='crimson', size=14))\n",
    "fig.update_xaxes(showline=True, linewidth=2, linecolor='black', mirror=True, gridcolor='Pink')\n",
    "fig.update_yaxes(showline=True, linewidth=2, linecolor='black', mirror=True, gridcolor='Red')\n",
    "#fig.show()\n",
    "fig.write_html(r'C:\\Users\\eeeeeeeeee\\Documents\\JupyterAnacondaPythonNotebooks\\Daily\\Charts_px\\PPROD\\{}.html'.format(FileName))\n",
    "plt.close()"
   ]
  },
  {
   "cell_type": "code",
   "execution_count": 224,
   "metadata": {},
   "outputs": [
    {
     "name": "stdout",
     "output_type": "stream",
     "text": [
      "      DatabaseName SchemaName         TableName\n",
      "10450        PPROD         PP  stu_rltn_support\n"
     ]
    }
   ],
   "source": [
    "d = dfpprod0085[['DatabaseName', 'SchemaName','TableName']]#.format(z)\n",
    "d = d.drop_duplicates()\n",
    "e = d['DatabaseName'].values[0]\n",
    "f = d['SchemaName'].values[0]\n",
    "g = d['TableName'].values[0]\n",
    "print (d)\n",
    "FileName = ('PPROD_{}_{}'.format(f,g))\n",
    "\n",
    "fig = px.scatter(dfpprod0085, x = 'TodaysDate', y='RecordCount', size = 'RecordCount', color = 'RecordCount')#.format(z)\n",
    "fig.update_layout(title = '{0},{1},{2}'.format(e,f,g))\n",
    "fig.update_layout(yaxis_zeroline=False, xaxis_zeroline=False)\n",
    "fig.update_xaxes(title_font=dict(size=18, color='crimson'))\n",
    "fig.update_yaxes(title_font=dict(size=18, color='crimson'))\n",
    "fig.update_xaxes(ticks=\"inside\")\n",
    "fig.update_yaxes(ticks=\"inside\")\n",
    "fig.update_xaxes(tickangle=45, tickfont=dict(color='crimson', size=14))\n",
    "fig.update_xaxes(showline=True, linewidth=2, linecolor='black', mirror=True, gridcolor='Pink')\n",
    "fig.update_yaxes(showline=True, linewidth=2, linecolor='black', mirror=True, gridcolor='Red')\n",
    "#fig.show()\n",
    "fig.write_html(r'C:\\Users\\eeeeeeeeee\\Documents\\JupyterAnacondaPythonNotebooks\\Daily\\Charts_px\\PPROD\\{}.html'.format(FileName))\n",
    "plt.close()"
   ]
  },
  {
   "cell_type": "code",
   "execution_count": 225,
   "metadata": {},
   "outputs": [
    {
     "name": "stdout",
     "output_type": "stream",
     "text": [
      "     DatabaseName SchemaName             TableName\n",
      "6460        PPROD         PP  STU_SUBT_HIST_Errors\n"
     ]
    }
   ],
   "source": [
    "d = dfpprod0086[['DatabaseName', 'SchemaName','TableName']]#.format(z)\n",
    "d = d.drop_duplicates()\n",
    "e = d['DatabaseName'].values[0]\n",
    "f = d['SchemaName'].values[0]\n",
    "g = d['TableName'].values[0]\n",
    "print (d)\n",
    "FileName = ('PPROD_{}_{}'.format(f,g))\n",
    "\n",
    "fig = px.scatter(dfpprod0086, x = 'TodaysDate', y='RecordCount', size = 'RecordCount', color = 'RecordCount')#.format(z)\n",
    "fig.update_layout(title = '{0},{1},{2}'.format(e,f,g))\n",
    "fig.update_layout(yaxis_zeroline=False, xaxis_zeroline=False)\n",
    "fig.update_xaxes(title_font=dict(size=18, color='crimson'))\n",
    "fig.update_yaxes(title_font=dict(size=18, color='crimson'))\n",
    "fig.update_xaxes(ticks=\"inside\")\n",
    "fig.update_yaxes(ticks=\"inside\")\n",
    "fig.update_xaxes(tickangle=45, tickfont=dict(color='crimson', size=14))\n",
    "fig.update_xaxes(showline=True, linewidth=2, linecolor='black', mirror=True, gridcolor='Pink')\n",
    "fig.update_yaxes(showline=True, linewidth=2, linecolor='black', mirror=True, gridcolor='Red')\n",
    "#fig.show()\n",
    "fig.write_html(r'C:\\Users\\eeeeeeeeee\\Documents\\JupyterAnacondaPythonNotebooks\\Daily\\Charts_px\\PPROD\\{}.html'.format(FileName))\n",
    "plt.close()"
   ]
  },
  {
   "cell_type": "code",
   "execution_count": 226,
   "metadata": {},
   "outputs": [
    {
     "name": "stdout",
     "output_type": "stream",
     "text": [
      "     DatabaseName SchemaName     TableName\n",
      "6650        PPROD         PP  STU_SUBT_HST\n"
     ]
    }
   ],
   "source": [
    "d = dfpprod0087[['DatabaseName', 'SchemaName','TableName']]#.format(z)\n",
    "d = d.drop_duplicates()\n",
    "e = d['DatabaseName'].values[0]\n",
    "f = d['SchemaName'].values[0]\n",
    "g = d['TableName'].values[0]\n",
    "print (d)\n",
    "FileName = ('PPROD_{}_{}'.format(f,g))\n",
    "\n",
    "fig = px.scatter(dfpprod0087, x = 'TodaysDate', y='RecordCount', size = 'RecordCount', color = 'RecordCount')#.format(z)\n",
    "fig.update_layout(title = '{0},{1},{2}'.format(e,f,g))\n",
    "fig.update_layout(yaxis_zeroline=False, xaxis_zeroline=False)\n",
    "fig.update_xaxes(title_font=dict(size=18, color='crimson'))\n",
    "fig.update_yaxes(title_font=dict(size=18, color='crimson'))\n",
    "fig.update_xaxes(ticks=\"inside\")\n",
    "fig.update_yaxes(ticks=\"inside\")\n",
    "fig.update_xaxes(tickangle=45, tickfont=dict(color='crimson', size=14))\n",
    "fig.update_xaxes(showline=True, linewidth=2, linecolor='black', mirror=True, gridcolor='Pink')\n",
    "fig.update_yaxes(showline=True, linewidth=2, linecolor='black', mirror=True, gridcolor='Red')\n",
    "#fig.show()\n",
    "fig.write_html(r'C:\\Users\\eeeeeeeeee\\Documents\\JupyterAnacondaPythonNotebooks\\Daily\\Charts_px\\PPROD\\{}.html'.format(FileName))\n",
    "plt.close()"
   ]
  },
  {
   "cell_type": "code",
   "execution_count": 227,
   "metadata": {},
   "outputs": [
    {
     "name": "stdout",
     "output_type": "stream",
     "text": [
      "     DatabaseName SchemaName       TableName\n",
      "6840        PPROD         PP  STU_TEST_GUIDE\n"
     ]
    }
   ],
   "source": [
    "d = dfpprod0088[['DatabaseName', 'SchemaName','TableName']]#.format(z)\n",
    "d = d.drop_duplicates()\n",
    "e = d['DatabaseName'].values[0]\n",
    "f = d['SchemaName'].values[0]\n",
    "g = d['TableName'].values[0]\n",
    "print (d)\n",
    "FileName = ('PPROD_{}_{}'.format(f,g))\n",
    "\n",
    "fig = px.scatter(dfpprod0088, x = 'TodaysDate', y='RecordCount', size = 'RecordCount', color = 'RecordCount')#.format(z)\n",
    "fig.update_layout(title = '{0},{1},{2}'.format(e,f,g))\n",
    "fig.update_layout(yaxis_zeroline=False, xaxis_zeroline=False)\n",
    "fig.update_xaxes(title_font=dict(size=18, color='crimson'))\n",
    "fig.update_yaxes(title_font=dict(size=18, color='crimson'))\n",
    "fig.update_xaxes(ticks=\"inside\")\n",
    "fig.update_yaxes(ticks=\"inside\")\n",
    "fig.update_xaxes(tickangle=45, tickfont=dict(color='crimson', size=14))\n",
    "fig.update_xaxes(showline=True, linewidth=2, linecolor='black', mirror=True, gridcolor='Pink')\n",
    "fig.update_yaxes(showline=True, linewidth=2, linecolor='black', mirror=True, gridcolor='Red')\n",
    "#fig.show()\n",
    "fig.write_html(r'C:\\Users\\eeeeeeeeee\\Documents\\JupyterAnacondaPythonNotebooks\\Daily\\Charts_px\\PPROD\\{}.html'.format(FileName))\n",
    "plt.close()"
   ]
  },
  {
   "cell_type": "code",
   "execution_count": 228,
   "metadata": {},
   "outputs": [
    {
     "name": "stdout",
     "output_type": "stream",
     "text": [
      "     DatabaseName SchemaName       TableName\n",
      "7600        PPROD         PP  Student_Delete\n"
     ]
    }
   ],
   "source": [
    "d = dfpprod0089[['DatabaseName', 'SchemaName','TableName']]#.format(z)\n",
    "d = d.drop_duplicates()\n",
    "e = d['DatabaseName'].values[0]\n",
    "f = d['SchemaName'].values[0]\n",
    "g = d['TableName'].values[0]\n",
    "print (d)\n",
    "FileName = ('PPROD_{}_{}'.format(f,g))\n",
    "\n",
    "fig = px.scatter(dfpprod0089, x = 'TodaysDate', y='RecordCount', size = 'RecordCount', color = 'RecordCount')#.format(z)\n",
    "fig.update_layout(title = '{0},{1},{2}'.format(e,f,g))\n",
    "fig.update_layout(yaxis_zeroline=False, xaxis_zeroline=False)\n",
    "fig.update_xaxes(title_font=dict(size=18, color='crimson'))\n",
    "fig.update_yaxes(title_font=dict(size=18, color='crimson'))\n",
    "fig.update_xaxes(ticks=\"inside\")\n",
    "fig.update_yaxes(ticks=\"inside\")\n",
    "fig.update_xaxes(tickangle=45, tickfont=dict(color='crimson', size=14))\n",
    "fig.update_xaxes(showline=True, linewidth=2, linecolor='black', mirror=True, gridcolor='Pink')\n",
    "fig.update_yaxes(showline=True, linewidth=2, linecolor='black', mirror=True, gridcolor='Red')\n",
    "#fig.show()\n",
    "fig.write_html(r'C:\\Users\\eeeeeeeeee\\Documents\\JupyterAnacondaPythonNotebooks\\Daily\\Charts_px\\PPROD\\{}.html'.format(FileName))\n",
    "plt.close()"
   ]
  },
  {
   "cell_type": "code",
   "execution_count": 229,
   "metadata": {},
   "outputs": [
    {
     "name": "stdout",
     "output_type": "stream",
     "text": [
      "      DatabaseName SchemaName TableName\n",
      "10640        PPROD         PP   stulist\n"
     ]
    }
   ],
   "source": [
    "d = dfpprod0090[['DatabaseName', 'SchemaName','TableName']]#.format(z)\n",
    "d = d.drop_duplicates()\n",
    "e = d['DatabaseName'].values[0]\n",
    "f = d['SchemaName'].values[0]\n",
    "g = d['TableName'].values[0]\n",
    "print (d)\n",
    "FileName = ('PPROD_{}_{}'.format(f,g))\n",
    "\n",
    "fig = px.scatter(dfpprod0090, x = 'TodaysDate', y='RecordCount', size = 'RecordCount', color = 'RecordCount')#.format(z)\n",
    "fig.update_layout(title = '{0},{1},{2}'.format(e,f,g))\n",
    "fig.update_layout(yaxis_zeroline=False, xaxis_zeroline=False)\n",
    "fig.update_xaxes(title_font=dict(size=18, color='crimson'))\n",
    "fig.update_yaxes(title_font=dict(size=18, color='crimson'))\n",
    "fig.update_xaxes(ticks=\"inside\")\n",
    "fig.update_yaxes(ticks=\"inside\")\n",
    "fig.update_xaxes(tickangle=45, tickfont=dict(color='crimson', size=14))\n",
    "fig.update_xaxes(showline=True, linewidth=2, linecolor='black', mirror=True, gridcolor='Pink')\n",
    "fig.update_yaxes(showline=True, linewidth=2, linecolor='black', mirror=True, gridcolor='Red')\n",
    "#fig.show()\n",
    "fig.write_html(r'C:\\Users\\eeeeeeeeee\\Documents\\JupyterAnacondaPythonNotebooks\\Daily\\Charts_px\\PPROD\\{}.html'.format(FileName))\n",
    "plt.close()"
   ]
  },
  {
   "cell_type": "code",
   "execution_count": 230,
   "metadata": {},
   "outputs": [
    {
     "name": "stdout",
     "output_type": "stream",
     "text": [
      "      DatabaseName SchemaName       TableName\n",
      "10830        PPROD         PP  survey_headers\n"
     ]
    }
   ],
   "source": [
    "d = dfpprod0091[['DatabaseName', 'SchemaName','TableName']]#.format(z)\n",
    "d = d.drop_duplicates()\n",
    "e = d['DatabaseName'].values[0]\n",
    "f = d['SchemaName'].values[0]\n",
    "g = d['TableName'].values[0]\n",
    "print (d)\n",
    "FileName = ('PPROD_{}_{}'.format(f,g))\n",
    "\n",
    "fig = px.scatter(dfpprod0091, x = 'TodaysDate', y='RecordCount', size = 'RecordCount', color = 'RecordCount')#.format(z)\n",
    "fig.update_layout(title = '{0},{1},{2}'.format(e,f,g))\n",
    "fig.update_layout(yaxis_zeroline=False, xaxis_zeroline=False)\n",
    "fig.update_xaxes(title_font=dict(size=18, color='crimson'))\n",
    "fig.update_yaxes(title_font=dict(size=18, color='crimson'))\n",
    "fig.update_xaxes(ticks=\"inside\")\n",
    "fig.update_yaxes(ticks=\"inside\")\n",
    "fig.update_xaxes(tickangle=45, tickfont=dict(color='crimson', size=14))\n",
    "fig.update_xaxes(showline=True, linewidth=2, linecolor='black', mirror=True, gridcolor='Pink')\n",
    "fig.update_yaxes(showline=True, linewidth=2, linecolor='black', mirror=True, gridcolor='Red')\n",
    "#fig.show()\n",
    "fig.write_html(r'C:\\Users\\eeeeeeeeee\\Documents\\JupyterAnacondaPythonNotebooks\\Daily\\Charts_px\\PPROD\\{}.html'.format(FileName))\n",
    "plt.close()"
   ]
  },
  {
   "cell_type": "code",
   "execution_count": 231,
   "metadata": {},
   "outputs": [
    {
     "name": "stdout",
     "output_type": "stream",
     "text": [
      "      DatabaseName SchemaName       TableName\n",
      "11020        PPROD         PP  survey_options\n"
     ]
    }
   ],
   "source": [
    "d = dfpprod0092[['DatabaseName', 'SchemaName','TableName']]#.format(z)\n",
    "d = d.drop_duplicates()\n",
    "e = d['DatabaseName'].values[0]\n",
    "f = d['SchemaName'].values[0]\n",
    "g = d['TableName'].values[0]\n",
    "print (d)\n",
    "FileName = ('PPROD_{}_{}'.format(f,g))\n",
    "\n",
    "fig = px.scatter(dfpprod0092, x = 'TodaysDate', y='RecordCount', size = 'RecordCount', color = 'RecordCount')#.format(z)\n",
    "fig.update_layout(title = '{0},{1},{2}'.format(e,f,g))\n",
    "fig.update_layout(yaxis_zeroline=False, xaxis_zeroline=False)\n",
    "fig.update_xaxes(title_font=dict(size=18, color='crimson'))\n",
    "fig.update_yaxes(title_font=dict(size=18, color='crimson'))\n",
    "fig.update_xaxes(ticks=\"inside\")\n",
    "fig.update_yaxes(ticks=\"inside\")\n",
    "fig.update_xaxes(tickangle=45, tickfont=dict(color='crimson', size=14))\n",
    "fig.update_xaxes(showline=True, linewidth=2, linecolor='black', mirror=True, gridcolor='Pink')\n",
    "fig.update_yaxes(showline=True, linewidth=2, linecolor='black', mirror=True, gridcolor='Red')\n",
    "#fig.show()\n",
    "fig.write_html(r'C:\\Users\\eeeeeeeeee\\Documents\\JupyterAnacondaPythonNotebooks\\Daily\\Charts_px\\PPROD\\{}.html'.format(FileName))\n",
    "plt.close()"
   ]
  },
  {
   "cell_type": "code",
   "execution_count": 232,
   "metadata": {},
   "outputs": [
    {
     "name": "stdout",
     "output_type": "stream",
     "text": [
      "      DatabaseName SchemaName              TableName\n",
      "11115        PPROD         PP  survey_question_types\n"
     ]
    }
   ],
   "source": [
    "d = dfpprod0093[['DatabaseName', 'SchemaName','TableName']]#.format(z)\n",
    "d = d.drop_duplicates()\n",
    "e = d['DatabaseName'].values[0]\n",
    "f = d['SchemaName'].values[0]\n",
    "g = d['TableName'].values[0]\n",
    "print (d)\n",
    "FileName = ('PPROD_{}_{}'.format(f,g))\n",
    "\n",
    "fig = px.scatter(dfpprod0093, x = 'TodaysDate', y='RecordCount', size = 'RecordCount', color = 'RecordCount')#.format(z)\n",
    "fig.update_layout(title = '{0},{1},{2}'.format(e,f,g))\n",
    "fig.update_layout(yaxis_zeroline=False, xaxis_zeroline=False)\n",
    "fig.update_xaxes(title_font=dict(size=18, color='crimson'))\n",
    "fig.update_yaxes(title_font=dict(size=18, color='crimson'))\n",
    "fig.update_xaxes(ticks=\"inside\")\n",
    "fig.update_yaxes(ticks=\"inside\")\n",
    "fig.update_xaxes(tickangle=45, tickfont=dict(color='crimson', size=14))\n",
    "fig.update_xaxes(showline=True, linewidth=2, linecolor='black', mirror=True, gridcolor='Pink')\n",
    "fig.update_yaxes(showline=True, linewidth=2, linecolor='black', mirror=True, gridcolor='Red')\n",
    "#fig.show()\n",
    "fig.write_html(r'C:\\Users\\eeeeeeeeee\\Documents\\JupyterAnacondaPythonNotebooks\\Daily\\Charts_px\\PPROD\\{}.html'.format(FileName))\n",
    "plt.close()"
   ]
  },
  {
   "cell_type": "code",
   "execution_count": 233,
   "metadata": {},
   "outputs": [
    {
     "name": "stdout",
     "output_type": "stream",
     "text": [
      "      DatabaseName SchemaName         TableName\n",
      "11210        PPROD         PP  survey_questions\n"
     ]
    }
   ],
   "source": [
    "d = dfpprod0094[['DatabaseName', 'SchemaName','TableName']]#.format(z)\n",
    "d = d.drop_duplicates()\n",
    "e = d['DatabaseName'].values[0]\n",
    "f = d['SchemaName'].values[0]\n",
    "g = d['TableName'].values[0]\n",
    "print (d)\n",
    "FileName = ('PPROD_{}_{}'.format(f,g))\n",
    "\n",
    "fig = px.scatter(dfpprod0094, x = 'TodaysDate', y='RecordCount', size = 'RecordCount', color = 'RecordCount')#.format(z)\n",
    "fig.update_layout(title = '{0},{1},{2}'.format(e,f,g))\n",
    "fig.update_layout(yaxis_zeroline=False, xaxis_zeroline=False)\n",
    "fig.update_xaxes(title_font=dict(size=18, color='crimson'))\n",
    "fig.update_yaxes(title_font=dict(size=18, color='crimson'))\n",
    "fig.update_xaxes(ticks=\"inside\")\n",
    "fig.update_yaxes(ticks=\"inside\")\n",
    "fig.update_xaxes(tickangle=45, tickfont=dict(color='crimson', size=14))\n",
    "fig.update_xaxes(showline=True, linewidth=2, linecolor='black', mirror=True, gridcolor='Pink')\n",
    "fig.update_yaxes(showline=True, linewidth=2, linecolor='black', mirror=True, gridcolor='Red')\n",
    "#fig.show()\n",
    "fig.write_html(r'C:\\Users\\eeeeeeeeee\\Documents\\JupyterAnacondaPythonNotebooks\\Daily\\Charts_px\\PPROD\\{}.html'.format(FileName))\n",
    "plt.close()"
   ]
  },
  {
   "cell_type": "code",
   "execution_count": 234,
   "metadata": {},
   "outputs": [
    {
     "name": "stdout",
     "output_type": "stream",
     "text": [
      "      DatabaseName SchemaName         TableName\n",
      "11400        PPROD         PP  survey_responses\n"
     ]
    }
   ],
   "source": [
    "d = dfpprod0095[['DatabaseName', 'SchemaName','TableName']]#.format(z)\n",
    "d = d.drop_duplicates()\n",
    "e = d['DatabaseName'].values[0]\n",
    "f = d['SchemaName'].values[0]\n",
    "g = d['TableName'].values[0]\n",
    "print (d)\n",
    "FileName = ('PPROD_{}_{}'.format(f,g))\n",
    "\n",
    "fig = px.scatter(dfpprod0095, x = 'TodaysDate', y='RecordCount', size = 'RecordCount', color = 'RecordCount')#.format(z)\n",
    "fig.update_layout(title = '{0},{1},{2}'.format(e,f,g))\n",
    "fig.update_layout(yaxis_zeroline=False, xaxis_zeroline=False)\n",
    "fig.update_xaxes(title_font=dict(size=18, color='crimson'))\n",
    "fig.update_yaxes(title_font=dict(size=18, color='crimson'))\n",
    "fig.update_xaxes(ticks=\"inside\")\n",
    "fig.update_yaxes(ticks=\"inside\")\n",
    "fig.update_xaxes(tickangle=45, tickfont=dict(color='crimson', size=14))\n",
    "fig.update_xaxes(showline=True, linewidth=2, linecolor='black', mirror=True, gridcolor='Pink')\n",
    "fig.update_yaxes(showline=True, linewidth=2, linecolor='black', mirror=True, gridcolor='Red')\n",
    "#fig.show()\n",
    "fig.write_html(r'C:\\Users\\eeeeeeeeee\\Documents\\JupyterAnacondaPythonNotebooks\\Daily\\Charts_px\\PPROD\\{}.html'.format(FileName))\n",
    "plt.close()"
   ]
  },
  {
   "cell_type": "code",
   "execution_count": 235,
   "metadata": {},
   "outputs": [
    {
     "name": "stdout",
     "output_type": "stream",
     "text": [
      "     DatabaseName SchemaName       TableName\n",
      "7125        PPROD         PP  SYS_ACCESS_LOG\n"
     ]
    }
   ],
   "source": [
    "d = dfpprod0096[['DatabaseName', 'SchemaName','TableName']]#.format(z)\n",
    "d = d.drop_duplicates()\n",
    "e = d['DatabaseName'].values[0]\n",
    "f = d['SchemaName'].values[0]\n",
    "g = d['TableName'].values[0]\n",
    "print (d)\n",
    "FileName = ('PPROD_{}_{}'.format(f,g))\n",
    "\n",
    "fig = px.scatter(dfpprod0096, x = 'TodaysDate', y='RecordCount', size = 'RecordCount', color = 'RecordCount')#.format(z)\n",
    "fig.update_layout(title = '{0},{1},{2}'.format(e,f,g))\n",
    "fig.update_layout(yaxis_zeroline=False, xaxis_zeroline=False)\n",
    "fig.update_xaxes(title_font=dict(size=18, color='crimson'))\n",
    "fig.update_yaxes(title_font=dict(size=18, color='crimson'))\n",
    "fig.update_xaxes(ticks=\"inside\")\n",
    "fig.update_yaxes(ticks=\"inside\")\n",
    "fig.update_xaxes(tickangle=45, tickfont=dict(color='crimson', size=14))\n",
    "fig.update_xaxes(showline=True, linewidth=2, linecolor='black', mirror=True, gridcolor='Pink')\n",
    "fig.update_yaxes(showline=True, linewidth=2, linecolor='black', mirror=True, gridcolor='Red')\n",
    "#fig.show()\n",
    "fig.write_html(r'C:\\Users\\eeeeeeeeee\\Documents\\JupyterAnacondaPythonNotebooks\\Daily\\Charts_px\\PPROD\\{}.html'.format(FileName))\n",
    "plt.close()"
   ]
  },
  {
   "cell_type": "code",
   "execution_count": 236,
   "metadata": {},
   "outputs": [
    {
     "name": "stdout",
     "output_type": "stream",
     "text": [
      "     DatabaseName SchemaName              TableName\n",
      "7220        PPROD         PP  SYS_ACCESS_LOG_BACKUP\n"
     ]
    }
   ],
   "source": [
    "d = dfpprod0097[['DatabaseName', 'SchemaName','TableName']]#.format(z)\n",
    "d = d.drop_duplicates()\n",
    "e = d['DatabaseName'].values[0]\n",
    "f = d['SchemaName'].values[0]\n",
    "g = d['TableName'].values[0]\n",
    "print (d)\n",
    "FileName = ('PPROD_{}_{}'.format(f,g))\n",
    "\n",
    "fig = px.scatter(dfpprod0097, x = 'TodaysDate', y='RecordCount', size = 'RecordCount', color = 'RecordCount')#.format(z)\n",
    "fig.update_layout(title = '{0},{1},{2}'.format(e,f,g))\n",
    "fig.update_layout(yaxis_zeroline=False, xaxis_zeroline=False)\n",
    "fig.update_xaxes(title_font=dict(size=18, color='crimson'))\n",
    "fig.update_yaxes(title_font=dict(size=18, color='crimson'))\n",
    "fig.update_xaxes(ticks=\"inside\")\n",
    "fig.update_yaxes(ticks=\"inside\")\n",
    "fig.update_xaxes(tickangle=45, tickfont=dict(color='crimson', size=14))\n",
    "fig.update_xaxes(showline=True, linewidth=2, linecolor='black', mirror=True, gridcolor='Pink')\n",
    "fig.update_yaxes(showline=True, linewidth=2, linecolor='black', mirror=True, gridcolor='Red')\n",
    "#fig.show()\n",
    "fig.write_html(r'C:\\Users\\eeeeeeeeee\\Documents\\JupyterAnacondaPythonNotebooks\\Daily\\Charts_px\\PPROD\\{}.html'.format(FileName))\n",
    "plt.close()"
   ]
  },
  {
   "cell_type": "code",
   "execution_count": 237,
   "metadata": {},
   "outputs": [
    {
     "name": "stdout",
     "output_type": "stream",
     "text": [
      "     DatabaseName SchemaName           TableName\n",
      "7315        PPROD         PP  SYS_ACCESS_LOG_MAX\n"
     ]
    }
   ],
   "source": [
    "d = dfpprod0098[['DatabaseName', 'SchemaName','TableName']]#.format(z)\n",
    "d = d.drop_duplicates()\n",
    "e = d['DatabaseName'].values[0]\n",
    "f = d['SchemaName'].values[0]\n",
    "g = d['TableName'].values[0]\n",
    "print (d)\n",
    "FileName = ('PPROD_{}_{}'.format(f,g))\n",
    "\n",
    "fig = px.scatter(dfpprod0098, x = 'TodaysDate', y='RecordCount', size = 'RecordCount', color = 'RecordCount')#.format(z)\n",
    "fig.update_layout(title = '{0},{1},{2}'.format(e,f,g))\n",
    "fig.update_layout(yaxis_zeroline=False, xaxis_zeroline=False)\n",
    "fig.update_xaxes(title_font=dict(size=18, color='crimson'))\n",
    "fig.update_yaxes(title_font=dict(size=18, color='crimson'))\n",
    "fig.update_xaxes(ticks=\"inside\")\n",
    "fig.update_yaxes(ticks=\"inside\")\n",
    "fig.update_xaxes(tickangle=45, tickfont=dict(color='crimson', size=14))\n",
    "fig.update_xaxes(showline=True, linewidth=2, linecolor='black', mirror=True, gridcolor='Pink')\n",
    "fig.update_yaxes(showline=True, linewidth=2, linecolor='black', mirror=True, gridcolor='Red')\n",
    "#fig.show()\n",
    "fig.write_html(r'C:\\Users\\eeeeeeeeee\\Documents\\JupyterAnacondaPythonNotebooks\\Daily\\Charts_px\\PPROD\\{}.html'.format(FileName))\n",
    "plt.close()"
   ]
  },
  {
   "cell_type": "code",
   "execution_count": 238,
   "metadata": {},
   "outputs": [
    {
     "name": "stdout",
     "output_type": "stream",
     "text": [
      "     DatabaseName SchemaName TableName\n",
      "7790        PPROD         PP  Tchr_Stu\n"
     ]
    }
   ],
   "source": [
    "d = dfpprod0099[['DatabaseName', 'SchemaName','TableName']]#.format(z)\n",
    "d = d.drop_duplicates()\n",
    "e = d['DatabaseName'].values[0]\n",
    "f = d['SchemaName'].values[0]\n",
    "g = d['TableName'].values[0]\n",
    "print (d)\n",
    "FileName = ('PPROD_{}_{}'.format(f,g))\n",
    "\n",
    "fig = px.scatter(dfpprod0099, x = 'TodaysDate', y='RecordCount', size = 'RecordCount', color = 'RecordCount')#.format(z)\n",
    "fig.update_layout(title = '{0},{1},{2}'.format(e,f,g))\n",
    "fig.update_layout(yaxis_zeroline=False, xaxis_zeroline=False)\n",
    "fig.update_xaxes(title_font=dict(size=18, color='crimson'))\n",
    "fig.update_yaxes(title_font=dict(size=18, color='crimson'))\n",
    "fig.update_xaxes(ticks=\"inside\")\n",
    "fig.update_yaxes(ticks=\"inside\")\n",
    "fig.update_xaxes(tickangle=45, tickfont=dict(color='crimson', size=14))\n",
    "fig.update_xaxes(showline=True, linewidth=2, linecolor='black', mirror=True, gridcolor='Pink')\n",
    "fig.update_yaxes(showline=True, linewidth=2, linecolor='black', mirror=True, gridcolor='Red')\n",
    "#fig.show()\n",
    "fig.write_html(r'C:\\Users\\eeeeeeeeee\\Documents\\JupyterAnacondaPythonNotebooks\\Daily\\Charts_px\\PPROD\\{}.html'.format(FileName))\n",
    "plt.close()"
   ]
  },
  {
   "cell_type": "code",
   "execution_count": 239,
   "metadata": {},
   "outputs": [
    {
     "name": "stdout",
     "output_type": "stream",
     "text": [
      "     DatabaseName SchemaName TableName\n",
      "7885        PPROD         PP  User_Stu\n"
     ]
    }
   ],
   "source": [
    "d = dfpprod0100[['DatabaseName', 'SchemaName','TableName']]#.format(z)\n",
    "d = d.drop_duplicates()\n",
    "e = d['DatabaseName'].values[0]\n",
    "f = d['SchemaName'].values[0]\n",
    "g = d['TableName'].values[0]\n",
    "print (d)\n",
    "FileName = ('PPROD_{}_{}'.format(f,g))\n",
    "\n",
    "fig = px.scatter(dfpprod0100, x = 'TodaysDate', y='RecordCount', size = 'RecordCount', color = 'RecordCount')#.format(z)\n",
    "fig.update_layout(title = '{0},{1},{2}'.format(e,f,g))\n",
    "fig.update_layout(yaxis_zeroline=False, xaxis_zeroline=False)\n",
    "fig.update_xaxes(title_font=dict(size=18, color='crimson'))\n",
    "fig.update_yaxes(title_font=dict(size=18, color='crimson'))\n",
    "fig.update_xaxes(ticks=\"inside\")\n",
    "fig.update_yaxes(ticks=\"inside\")\n",
    "fig.update_xaxes(tickangle=45, tickfont=dict(color='crimson', size=14))\n",
    "fig.update_xaxes(showline=True, linewidth=2, linecolor='black', mirror=True, gridcolor='Pink')\n",
    "fig.update_yaxes(showline=True, linewidth=2, linecolor='black', mirror=True, gridcolor='Red')\n",
    "#fig.show()\n",
    "fig.write_html(r'C:\\Users\\eeeeeeeeee\\Documents\\JupyterAnacondaPythonNotebooks\\Daily\\Charts_px\\PPROD\\{}.html'.format(FileName))\n",
    "plt.close()"
   ]
  },
  {
   "cell_type": "code",
   "execution_count": 240,
   "metadata": {},
   "outputs": [
    {
     "name": "stdout",
     "output_type": "stream",
     "text": [
      "     DatabaseName SchemaName    TableName\n",
      "6935        PPROD      PPETL  SUBT_NM_MAP\n"
     ]
    }
   ],
   "source": [
    "d = dfpprod0101[['DatabaseName', 'SchemaName','TableName']]#.format(z)\n",
    "d = d.drop_duplicates()\n",
    "e = d['DatabaseName'].values[0]\n",
    "f = d['SchemaName'].values[0]\n",
    "g = d['TableName'].values[0]\n",
    "print (d)\n",
    "FileName = ('PPROD_{}_{}'.format(f,g))\n",
    "\n",
    "fig = px.scatter(dfpprod0101, x = 'TodaysDate', y='RecordCount', size = 'RecordCount', color = 'RecordCount')#.format(z)\n",
    "fig.update_layout(title = '{0},{1},{2}'.format(e,f,g))\n",
    "fig.update_layout(yaxis_zeroline=False, xaxis_zeroline=False)\n",
    "fig.update_xaxes(title_font=dict(size=18, color='crimson'))\n",
    "fig.update_yaxes(title_font=dict(size=18, color='crimson'))\n",
    "fig.update_xaxes(ticks=\"inside\")\n",
    "fig.update_yaxes(ticks=\"inside\")\n",
    "fig.update_xaxes(tickangle=45, tickfont=dict(color='crimson', size=14))\n",
    "fig.update_xaxes(showline=True, linewidth=2, linecolor='black', mirror=True, gridcolor='Pink')\n",
    "fig.update_yaxes(showline=True, linewidth=2, linecolor='black', mirror=True, gridcolor='Red')\n",
    "#fig.show()\n",
    "fig.write_html(r'C:\\Users\\eeeeeeeeee\\Documents\\JupyterAnacondaPythonNotebooks\\Daily\\Charts_px\\PPROD\\{}.html'.format(FileName))\n",
    "plt.close()"
   ]
  },
  {
   "cell_type": "code",
   "execution_count": 241,
   "metadata": {},
   "outputs": [
    {
     "name": "stdout",
     "output_type": "stream",
     "text": [
      "     DatabaseName SchemaName         TableName\n",
      "7030        PPROD      PPETL  SUBT_NM_MAP_BKUP\n"
     ]
    }
   ],
   "source": [
    "d = dfpprod0102[['DatabaseName', 'SchemaName','TableName']]#.format(z)\n",
    "d = d.drop_duplicates()\n",
    "e = d['DatabaseName'].values[0]\n",
    "f = d['SchemaName'].values[0]\n",
    "g = d['TableName'].values[0]\n",
    "print (d)\n",
    "FileName = ('PPROD_{}_{}'.format(f,g))\n",
    "\n",
    "fig = px.scatter(dfpprod0102, x = 'TodaysDate', y='RecordCount', size = 'RecordCount', color = 'RecordCount')#.format(z)\n",
    "fig.update_layout(title = '{0},{1},{2}'.format(e,f,g))\n",
    "fig.update_layout(yaxis_zeroline=False, xaxis_zeroline=False)\n",
    "fig.update_xaxes(title_font=dict(size=18, color='crimson'))\n",
    "fig.update_yaxes(title_font=dict(size=18, color='crimson'))\n",
    "fig.update_xaxes(ticks=\"inside\")\n",
    "fig.update_yaxes(ticks=\"inside\")\n",
    "fig.update_xaxes(tickangle=45, tickfont=dict(color='crimson', size=14))\n",
    "fig.update_xaxes(showline=True, linewidth=2, linecolor='black', mirror=True, gridcolor='Pink')\n",
    "fig.update_yaxes(showline=True, linewidth=2, linecolor='black', mirror=True, gridcolor='Red')\n",
    "#fig.show()\n",
    "fig.write_html(r'C:\\Users\\eeeeeeeeee\\Documents\\JupyterAnacondaPythonNotebooks\\Daily\\Charts_px\\PPROD\\{}.html'.format(FileName))\n",
    "plt.close()"
   ]
  },
  {
   "cell_type": "code",
   "execution_count": 242,
   "metadata": {},
   "outputs": [
    {
     "name": "stdout",
     "output_type": "stream",
     "text": [
      "     DatabaseName SchemaName           TableName\n",
      "7980        PPROD      PPETL  Work_Stu_CURR_SCHD\n"
     ]
    }
   ],
   "source": [
    "d = dfpprod0103[['DatabaseName', 'SchemaName','TableName']]#.format(z)\n",
    "d = d.drop_duplicates()\n",
    "e = d['DatabaseName'].values[0]\n",
    "f = d['SchemaName'].values[0]\n",
    "g = d['TableName'].values[0]\n",
    "print (d)\n",
    "FileName = ('PPROD_{}_{}'.format(f,g))\n",
    "\n",
    "fig = px.scatter(dfpprod0103, x = 'TodaysDate', y='RecordCount', size = 'RecordCount', color = 'RecordCount')#.format(z)\n",
    "fig.update_layout(title = '{0},{1},{2}'.format(e,f,g))\n",
    "fig.update_layout(yaxis_zeroline=False, xaxis_zeroline=False)\n",
    "fig.update_xaxes(title_font=dict(size=18, color='crimson'))\n",
    "fig.update_yaxes(title_font=dict(size=18, color='crimson'))\n",
    "fig.update_xaxes(ticks=\"inside\")\n",
    "fig.update_yaxes(ticks=\"inside\")\n",
    "fig.update_xaxes(tickangle=45, tickfont=dict(color='crimson', size=14))\n",
    "fig.update_xaxes(showline=True, linewidth=2, linecolor='black', mirror=True, gridcolor='Pink')\n",
    "fig.update_yaxes(showline=True, linewidth=2, linecolor='black', mirror=True, gridcolor='Red')\n",
    "#fig.show()\n",
    "fig.write_html(r'C:\\Users\\eeeeeeeeee\\Documents\\JupyterAnacondaPythonNotebooks\\Daily\\Charts_px\\PPROD\\{}.html'.format(FileName))\n",
    "plt.close()"
   ]
  },
  {
   "cell_type": "code",
   "execution_count": 243,
   "metadata": {},
   "outputs": [
    {
     "name": "stdout",
     "output_type": "stream",
     "text": [
      "    DatabaseName SchemaName TableName\n",
      "190        PPROD     PPGEMS  CALENDAR\n"
     ]
    }
   ],
   "source": [
    "d = dfpprod0104[['DatabaseName', 'SchemaName','TableName']]#.format(z)\n",
    "d = d.drop_duplicates()\n",
    "e = d['DatabaseName'].values[0]\n",
    "f = d['SchemaName'].values[0]\n",
    "g = d['TableName'].values[0]\n",
    "print (d)\n",
    "FileName = ('PPROD_{}_{}'.format(f,g))\n",
    "\n",
    "fig = px.scatter(dfpprod0104, x = 'TodaysDate', y='RecordCount', size = 'RecordCount', color = 'RecordCount')#.format(z)\n",
    "fig.update_layout(title = '{0},{1},{2}'.format(e,f,g))\n",
    "fig.update_layout(yaxis_zeroline=False, xaxis_zeroline=False)\n",
    "fig.update_xaxes(title_font=dict(size=18, color='crimson'))\n",
    "fig.update_yaxes(title_font=dict(size=18, color='crimson'))\n",
    "fig.update_xaxes(ticks=\"inside\")\n",
    "fig.update_yaxes(ticks=\"inside\")\n",
    "fig.update_xaxes(tickangle=45, tickfont=dict(color='crimson', size=14))\n",
    "fig.update_xaxes(showline=True, linewidth=2, linecolor='black', mirror=True, gridcolor='Pink')\n",
    "fig.update_yaxes(showline=True, linewidth=2, linecolor='black', mirror=True, gridcolor='Red')\n",
    "#fig.show()\n",
    "fig.write_html(r'C:\\Users\\eeeeeeeeee\\Documents\\JupyterAnacondaPythonNotebooks\\Daily\\Charts_px\\PPROD\\{}.html'.format(FileName))\n",
    "plt.close()"
   ]
  },
  {
   "cell_type": "code",
   "execution_count": 244,
   "metadata": {},
   "outputs": [
    {
     "name": "stdout",
     "output_type": "stream",
     "text": [
      "     DatabaseName SchemaName TableName\n",
      "3515        PPROD     PPGEMS  Register\n"
     ]
    }
   ],
   "source": [
    "d = dfpprod0105[['DatabaseName', 'SchemaName','TableName']]#.format(z)\n",
    "d = d.drop_duplicates()\n",
    "e = d['DatabaseName'].values[0]\n",
    "f = d['SchemaName'].values[0]\n",
    "g = d['TableName'].values[0]\n",
    "print (d)\n",
    "FileName = ('PPROD_{}_{}'.format(f,g))\n",
    "\n",
    "fig = px.scatter(dfpprod0105, x = 'TodaysDate', y='RecordCount', size = 'RecordCount', color = 'RecordCount')#.format(z)\n",
    "fig.update_layout(title = '{0},{1},{2}'.format(e,f,g))\n",
    "fig.update_layout(yaxis_zeroline=False, xaxis_zeroline=False)\n",
    "fig.update_xaxes(title_font=dict(size=18, color='crimson'))\n",
    "fig.update_yaxes(title_font=dict(size=18, color='crimson'))\n",
    "fig.update_xaxes(ticks=\"inside\")\n",
    "fig.update_yaxes(ticks=\"inside\")\n",
    "fig.update_xaxes(tickangle=45, tickfont=dict(color='crimson', size=14))\n",
    "fig.update_xaxes(showline=True, linewidth=2, linecolor='black', mirror=True, gridcolor='Pink')\n",
    "fig.update_yaxes(showline=True, linewidth=2, linecolor='black', mirror=True, gridcolor='Red')\n",
    "#fig.show()\n",
    "fig.write_html(r'C:\\Users\\eeeeeeeeee\\Documents\\JupyterAnacondaPythonNotebooks\\Daily\\Charts_px\\PPROD\\{}.html'.format(FileName))\n",
    "plt.close()"
   ]
  },
  {
   "cell_type": "code",
   "execution_count": 245,
   "metadata": {},
   "outputs": [
    {
     "name": "stdout",
     "output_type": "stream",
     "text": [
      "     DatabaseName SchemaName TableName\n",
      "8075        PPROD      PPREF   abs_ref\n"
     ]
    }
   ],
   "source": [
    "d = dfpprod0106[['DatabaseName', 'SchemaName','TableName']]#.format(z)\n",
    "d = d.drop_duplicates()\n",
    "e = d['DatabaseName'].values[0]\n",
    "f = d['SchemaName'].values[0]\n",
    "g = d['TableName'].values[0]\n",
    "print (d)\n",
    "FileName = ('PPROD_{}_{}'.format(f,g))\n",
    "\n",
    "fig = px.scatter(dfpprod0106, x = 'TodaysDate', y='RecordCount', size = 'RecordCount', color = 'RecordCount')#.format(z)\n",
    "fig.update_layout(title = '{0},{1},{2}'.format(e,f,g))\n",
    "fig.update_layout(yaxis_zeroline=False, xaxis_zeroline=False)\n",
    "fig.update_xaxes(title_font=dict(size=18, color='crimson'))\n",
    "fig.update_yaxes(title_font=dict(size=18, color='crimson'))\n",
    "fig.update_xaxes(ticks=\"inside\")\n",
    "fig.update_yaxes(ticks=\"inside\")\n",
    "fig.update_xaxes(tickangle=45, tickfont=dict(color='crimson', size=14))\n",
    "fig.update_xaxes(showline=True, linewidth=2, linecolor='black', mirror=True, gridcolor='Pink')\n",
    "fig.update_yaxes(showline=True, linewidth=2, linecolor='black', mirror=True, gridcolor='Red')\n",
    "#fig.show()\n",
    "fig.write_html(r'C:\\Users\\eeeeeeeeee\\Documents\\JupyterAnacondaPythonNotebooks\\Daily\\Charts_px\\PPROD\\{}.html'.format(FileName))\n",
    "plt.close()"
   ]
  },
  {
   "cell_type": "code",
   "execution_count": 246,
   "metadata": {},
   "outputs": [
    {
     "name": "stdout",
     "output_type": "stream",
     "text": [
      "   DatabaseName SchemaName   TableName\n",
      "95        PPROD      PPREF  Admin_User\n"
     ]
    }
   ],
   "source": [
    "d = dfpprod0107[['DatabaseName', 'SchemaName','TableName']]#.format(z)\n",
    "d = d.drop_duplicates()\n",
    "e = d['DatabaseName'].values[0]\n",
    "f = d['SchemaName'].values[0]\n",
    "g = d['TableName'].values[0]\n",
    "print (d)\n",
    "FileName = ('PPROD_{}_{}'.format(f,g))\n",
    "\n",
    "fig = px.scatter(dfpprod0107, x = 'TodaysDate', y='RecordCount', size = 'RecordCount', color = 'RecordCount')#.format(z)\n",
    "fig.update_layout(title = '{0},{1},{2}'.format(e,f,g))\n",
    "fig.update_layout(yaxis_zeroline=False, xaxis_zeroline=False)\n",
    "fig.update_xaxes(title_font=dict(size=18, color='crimson'))\n",
    "fig.update_yaxes(title_font=dict(size=18, color='crimson'))\n",
    "fig.update_xaxes(ticks=\"inside\")\n",
    "fig.update_yaxes(ticks=\"inside\")\n",
    "fig.update_xaxes(tickangle=45, tickfont=dict(color='crimson', size=14))\n",
    "fig.update_xaxes(showline=True, linewidth=2, linecolor='black', mirror=True, gridcolor='Pink')\n",
    "fig.update_yaxes(showline=True, linewidth=2, linecolor='black', mirror=True, gridcolor='Red')\n",
    "#fig.show()\n",
    "fig.write_html(r'C:\\Users\\eeeeeeeeee\\Documents\\JupyterAnacondaPythonNotebooks\\Daily\\Charts_px\\PPROD\\{}.html'.format(FileName))\n",
    "plt.close()"
   ]
  },
  {
   "cell_type": "code",
   "execution_count": 247,
   "metadata": {},
   "outputs": [
    {
     "name": "stdout",
     "output_type": "stream",
     "text": [
      "    DatabaseName SchemaName     TableName\n",
      "285        PPROD      PPREF  CRS_SUBJ_REF\n"
     ]
    }
   ],
   "source": [
    "d = dfpprod0108[['DatabaseName', 'SchemaName','TableName']]#.format(z)\n",
    "d = d.drop_duplicates()\n",
    "e = d['DatabaseName'].values[0]\n",
    "f = d['SchemaName'].values[0]\n",
    "g = d['TableName'].values[0]\n",
    "print (d)\n",
    "FileName = ('PPROD_{}_{}'.format(f,g))\n",
    "\n",
    "fig = px.scatter(dfpprod0108, x = 'TodaysDate', y='RecordCount', size = 'RecordCount', color = 'RecordCount')#.format(z)\n",
    "fig.update_layout(title = '{0},{1},{2}'.format(e,f,g))\n",
    "fig.update_layout(yaxis_zeroline=False, xaxis_zeroline=False)\n",
    "fig.update_xaxes(title_font=dict(size=18, color='crimson'))\n",
    "fig.update_yaxes(title_font=dict(size=18, color='crimson'))\n",
    "fig.update_xaxes(ticks=\"inside\")\n",
    "fig.update_yaxes(ticks=\"inside\")\n",
    "fig.update_xaxes(tickangle=45, tickfont=dict(color='crimson', size=14))\n",
    "fig.update_xaxes(showline=True, linewidth=2, linecolor='black', mirror=True, gridcolor='Pink')\n",
    "fig.update_yaxes(showline=True, linewidth=2, linecolor='black', mirror=True, gridcolor='Red')\n",
    "#fig.show()\n",
    "fig.write_html(r'C:\\Users\\eeeeeeeeee\\Documents\\JupyterAnacondaPythonNotebooks\\Daily\\Charts_px\\PPROD\\{}.html'.format(FileName))\n",
    "plt.close()"
   ]
  },
  {
   "cell_type": "code",
   "execution_count": 248,
   "metadata": {},
   "outputs": [
    {
     "name": "stdout",
     "output_type": "stream",
     "text": [
      "    DatabaseName SchemaName    TableName\n",
      "665        PPROD      PPREF  D2L_SCHOOLS\n"
     ]
    }
   ],
   "source": [
    "d = dfpprod0109[['DatabaseName', 'SchemaName','TableName']]#.format(z)\n",
    "d = d.drop_duplicates()\n",
    "e = d['DatabaseName'].values[0]\n",
    "f = d['SchemaName'].values[0]\n",
    "g = d['TableName'].values[0]\n",
    "print (d)\n",
    "FileName = ('PPROD_{}_{}'.format(f,g))\n",
    "\n",
    "fig = px.scatter(dfpprod0109, x = 'TodaysDate', y='RecordCount', size = 'RecordCount', color = 'RecordCount')#.format(z)\n",
    "fig.update_layout(title = '{0},{1},{2}'.format(e,f,g))\n",
    "fig.update_layout(yaxis_zeroline=False, xaxis_zeroline=False)\n",
    "fig.update_xaxes(title_font=dict(size=18, color='crimson'))\n",
    "fig.update_yaxes(title_font=dict(size=18, color='crimson'))\n",
    "fig.update_xaxes(ticks=\"inside\")\n",
    "fig.update_yaxes(ticks=\"inside\")\n",
    "fig.update_xaxes(tickangle=45, tickfont=dict(color='crimson', size=14))\n",
    "fig.update_xaxes(showline=True, linewidth=2, linecolor='black', mirror=True, gridcolor='Pink')\n",
    "fig.update_yaxes(showline=True, linewidth=2, linecolor='black', mirror=True, gridcolor='Red')\n",
    "#fig.show()\n",
    "fig.write_html(r'C:\\Users\\eeeeeeeeee\\Documents\\JupyterAnacondaPythonNotebooks\\Daily\\Charts_px\\PPROD\\{}.html'.format(FileName))\n",
    "plt.close()"
   ]
  },
  {
   "cell_type": "code",
   "execution_count": 249,
   "metadata": {},
   "outputs": [
    {
     "name": "stdout",
     "output_type": "stream",
     "text": [
      "    DatabaseName SchemaName      TableName\n",
      "760        PPROD      PPREF  DSCP_BHVR_REF\n"
     ]
    }
   ],
   "source": [
    "d = dfpprod0110[['DatabaseName', 'SchemaName','TableName']]#.format(z)\n",
    "d = d.drop_duplicates()\n",
    "e = d['DatabaseName'].values[0]\n",
    "f = d['SchemaName'].values[0]\n",
    "g = d['TableName'].values[0]\n",
    "print (d)\n",
    "FileName = ('PPROD_{}_{}'.format(f,g))\n",
    "\n",
    "fig = px.scatter(dfpprod0110, x = 'TodaysDate', y='RecordCount', size = 'RecordCount', color = 'RecordCount')#.format(z)\n",
    "fig.update_layout(title = '{0},{1},{2}'.format(e,f,g))\n",
    "fig.update_layout(yaxis_zeroline=False, xaxis_zeroline=False)\n",
    "fig.update_xaxes(title_font=dict(size=18, color='crimson'))\n",
    "fig.update_yaxes(title_font=dict(size=18, color='crimson'))\n",
    "fig.update_xaxes(ticks=\"inside\")\n",
    "fig.update_yaxes(ticks=\"inside\")\n",
    "fig.update_xaxes(tickangle=45, tickfont=dict(color='crimson', size=14))\n",
    "fig.update_xaxes(showline=True, linewidth=2, linecolor='black', mirror=True, gridcolor='Pink')\n",
    "fig.update_yaxes(showline=True, linewidth=2, linecolor='black', mirror=True, gridcolor='Red')\n",
    "#fig.show()\n",
    "fig.write_html(r'C:\\Users\\eeeeeeeeee\\Documents\\JupyterAnacondaPythonNotebooks\\Daily\\Charts_px\\PPROD\\{}.html'.format(FileName))\n",
    "plt.close()"
   ]
  },
  {
   "cell_type": "code",
   "execution_count": 250,
   "metadata": {},
   "outputs": [
    {
     "name": "stdout",
     "output_type": "stream",
     "text": [
      "     DatabaseName SchemaName      TableName\n",
      "8265        PPROD      PPREF  dscp_disp_ref\n"
     ]
    }
   ],
   "source": [
    "d = dfpprod0111[['DatabaseName', 'SchemaName','TableName']]#.format(z)\n",
    "d = d.drop_duplicates()\n",
    "e = d['DatabaseName'].values[0]\n",
    "f = d['SchemaName'].values[0]\n",
    "g = d['TableName'].values[0]\n",
    "print (d)\n",
    "FileName = ('PPROD_{}_{}'.format(f,g))\n",
    "\n",
    "fig = px.scatter(dfpprod0111, x = 'TodaysDate', y='RecordCount', size = 'RecordCount', color = 'RecordCount')#.format(z)\n",
    "fig.update_layout(title = '{0},{1},{2}'.format(e,f,g))\n",
    "fig.update_layout(yaxis_zeroline=False, xaxis_zeroline=False)\n",
    "fig.update_xaxes(title_font=dict(size=18, color='crimson'))\n",
    "fig.update_yaxes(title_font=dict(size=18, color='crimson'))\n",
    "fig.update_xaxes(ticks=\"inside\")\n",
    "fig.update_yaxes(ticks=\"inside\")\n",
    "fig.update_xaxes(tickangle=45, tickfont=dict(color='crimson', size=14))\n",
    "fig.update_xaxes(showline=True, linewidth=2, linecolor='black', mirror=True, gridcolor='Pink')\n",
    "fig.update_yaxes(showline=True, linewidth=2, linecolor='black', mirror=True, gridcolor='Red')\n",
    "#fig.show()\n",
    "fig.write_html(r'C:\\Users\\eeeeeeeeee\\Documents\\JupyterAnacondaPythonNotebooks\\Daily\\Charts_px\\PPROD\\{}.html'.format(FileName))\n",
    "plt.close()"
   ]
  },
  {
   "cell_type": "code",
   "execution_count": 251,
   "metadata": {},
   "outputs": [
    {
     "name": "stdout",
     "output_type": "stream",
     "text": [
      "     DatabaseName SchemaName     TableName\n",
      "8360        PPROD      PPREF  dscp_mjr_ref\n"
     ]
    }
   ],
   "source": [
    "d = dfpprod0112[['DatabaseName', 'SchemaName','TableName']]#.format(z)\n",
    "d = d.drop_duplicates()\n",
    "e = d['DatabaseName'].values[0]\n",
    "f = d['SchemaName'].values[0]\n",
    "g = d['TableName'].values[0]\n",
    "print (d)\n",
    "FileName = ('PPROD_{}_{}'.format(f,g))\n",
    "\n",
    "fig = px.scatter(dfpprod0112, x = 'TodaysDate', y='RecordCount', size = 'RecordCount', color = 'RecordCount')#.format(z)\n",
    "fig.update_layout(title = '{0},{1},{2}'.format(e,f,g))\n",
    "fig.update_layout(yaxis_zeroline=False, xaxis_zeroline=False)\n",
    "fig.update_xaxes(title_font=dict(size=18, color='crimson'))\n",
    "fig.update_yaxes(title_font=dict(size=18, color='crimson'))\n",
    "fig.update_xaxes(ticks=\"inside\")\n",
    "fig.update_yaxes(ticks=\"inside\")\n",
    "fig.update_xaxes(tickangle=45, tickfont=dict(color='crimson', size=14))\n",
    "fig.update_xaxes(showline=True, linewidth=2, linecolor='black', mirror=True, gridcolor='Pink')\n",
    "fig.update_yaxes(showline=True, linewidth=2, linecolor='black', mirror=True, gridcolor='Red')\n",
    "#fig.show()\n",
    "fig.write_html(r'C:\\Users\\eeeeeeeeee\\Documents\\JupyterAnacondaPythonNotebooks\\Daily\\Charts_px\\PPROD\\{}.html'.format(FileName))\n",
    "plt.close()"
   ]
  },
  {
   "cell_type": "code",
   "execution_count": 252,
   "metadata": {},
   "outputs": [
    {
     "name": "stdout",
     "output_type": "stream",
     "text": [
      "     DatabaseName SchemaName        TableName\n",
      "2660        PPROD      PPREF  NON_SCH_DAY_REF\n"
     ]
    }
   ],
   "source": [
    "d = dfpprod0113[['DatabaseName', 'SchemaName','TableName']]#.format(z)\n",
    "d = d.drop_duplicates()\n",
    "e = d['DatabaseName'].values[0]\n",
    "f = d['SchemaName'].values[0]\n",
    "g = d['TableName'].values[0]\n",
    "print (d)\n",
    "FileName = ('PPROD_{}_{}'.format(f,g))\n",
    "\n",
    "fig = px.scatter(dfpprod0113, x = 'TodaysDate', y='RecordCount', size = 'RecordCount', color = 'RecordCount')#.format(z)\n",
    "fig.update_layout(title = '{0},{1},{2}'.format(e,f,g))\n",
    "fig.update_layout(yaxis_zeroline=False, xaxis_zeroline=False)\n",
    "fig.update_xaxes(title_font=dict(size=18, color='crimson'))\n",
    "fig.update_yaxes(title_font=dict(size=18, color='crimson'))\n",
    "fig.update_xaxes(ticks=\"inside\")\n",
    "fig.update_yaxes(ticks=\"inside\")\n",
    "fig.update_xaxes(tickangle=45, tickfont=dict(color='crimson', size=14))\n",
    "fig.update_xaxes(showline=True, linewidth=2, linecolor='black', mirror=True, gridcolor='Pink')\n",
    "fig.update_yaxes(showline=True, linewidth=2, linecolor='black', mirror=True, gridcolor='Red')\n",
    "#fig.show()\n",
    "fig.write_html(r'C:\\Users\\eeeeeeeeee\\Documents\\JupyterAnacondaPythonNotebooks\\Daily\\Charts_px\\PPROD\\{}.html'.format(FileName))\n",
    "plt.close()"
   ]
  },
  {
   "cell_type": "code",
   "execution_count": 253,
   "metadata": {},
   "outputs": [
    {
     "name": "stdout",
     "output_type": "stream",
     "text": [
      "     DatabaseName SchemaName   TableName\n",
      "2755        PPROD      PPREF  NonNumeric\n"
     ]
    }
   ],
   "source": [
    "d = dfpprod0114[['DatabaseName', 'SchemaName','TableName']]#.format(z)\n",
    "d = d.drop_duplicates()\n",
    "e = d['DatabaseName'].values[0]\n",
    "f = d['SchemaName'].values[0]\n",
    "g = d['TableName'].values[0]\n",
    "print (d)\n",
    "FileName = ('PPROD_{}_{}'.format(f,g))\n",
    "\n",
    "fig = px.scatter(dfpprod0114, x = 'TodaysDate', y='RecordCount', size = 'RecordCount', color = 'RecordCount')#.format(z)\n",
    "fig.update_layout(title = '{0},{1},{2}'.format(e,f,g))\n",
    "fig.update_layout(yaxis_zeroline=False, xaxis_zeroline=False)\n",
    "fig.update_xaxes(title_font=dict(size=18, color='crimson'))\n",
    "fig.update_yaxes(title_font=dict(size=18, color='crimson'))\n",
    "fig.update_xaxes(ticks=\"inside\")\n",
    "fig.update_yaxes(ticks=\"inside\")\n",
    "fig.update_xaxes(tickangle=45, tickfont=dict(color='crimson', size=14))\n",
    "fig.update_xaxes(showline=True, linewidth=2, linecolor='black', mirror=True, gridcolor='Pink')\n",
    "fig.update_yaxes(showline=True, linewidth=2, linecolor='black', mirror=True, gridcolor='Red')\n",
    "#fig.show()\n",
    "fig.write_html(r'C:\\Users\\eeeeeeeeee\\Documents\\JupyterAnacondaPythonNotebooks\\Daily\\Charts_px\\PPROD\\{}.html'.format(FileName))\n",
    "plt.close()"
   ]
  },
  {
   "cell_type": "code",
   "execution_count": 254,
   "metadata": {},
   "outputs": [
    {
     "name": "stdout",
     "output_type": "stream",
     "text": [
      "     DatabaseName SchemaName       TableName\n",
      "3610        PPROD      PPREF  Resource_Links\n"
     ]
    }
   ],
   "source": [
    "d = dfpprod0115[['DatabaseName', 'SchemaName','TableName']]#.format(z)\n",
    "d = d.drop_duplicates()\n",
    "e = d['DatabaseName'].values[0]\n",
    "f = d['SchemaName'].values[0]\n",
    "g = d['TableName'].values[0]\n",
    "print (d)\n",
    "FileName = ('PPROD_{}_{}'.format(f,g))\n",
    "\n",
    "fig = px.scatter(dfpprod0115, x = 'TodaysDate', y='RecordCount', size = 'RecordCount', color = 'RecordCount')#.format(z)\n",
    "fig.update_layout(title = '{0},{1},{2}'.format(e,f,g))\n",
    "fig.update_layout(yaxis_zeroline=False, xaxis_zeroline=False)\n",
    "fig.update_xaxes(title_font=dict(size=18, color='crimson'))\n",
    "fig.update_yaxes(title_font=dict(size=18, color='crimson'))\n",
    "fig.update_xaxes(ticks=\"inside\")\n",
    "fig.update_yaxes(ticks=\"inside\")\n",
    "fig.update_xaxes(tickangle=45, tickfont=dict(color='crimson', size=14))\n",
    "fig.update_xaxes(showline=True, linewidth=2, linecolor='black', mirror=True, gridcolor='Pink')\n",
    "fig.update_yaxes(showline=True, linewidth=2, linecolor='black', mirror=True, gridcolor='Red')\n",
    "#fig.show()\n",
    "fig.write_html(r'C:\\Users\\eeeeeeeeee\\Documents\\JupyterAnacondaPythonNotebooks\\Daily\\Charts_px\\PPROD\\{}.html'.format(FileName))\n",
    "plt.close()"
   ]
  },
  {
   "cell_type": "code",
   "execution_count": 255,
   "metadata": {},
   "outputs": [
    {
     "name": "stdout",
     "output_type": "stream",
     "text": [
      "     DatabaseName SchemaName TableName\n",
      "9500        PPROD      PPREF   sch_ref\n"
     ]
    }
   ],
   "source": [
    "d = dfpprod0116[['DatabaseName', 'SchemaName','TableName']]#.format(z)\n",
    "d = d.drop_duplicates()\n",
    "e = d['DatabaseName'].values[0]\n",
    "f = d['SchemaName'].values[0]\n",
    "g = d['TableName'].values[0]\n",
    "print (d)\n",
    "FileName = ('PPROD_{}_{}'.format(f,g))\n",
    "\n",
    "fig = px.scatter(dfpprod0116, x = 'TodaysDate', y='RecordCount', size = 'RecordCount', color = 'RecordCount')#.format(z)\n",
    "fig.update_layout(title = '{0},{1},{2}'.format(e,f,g))\n",
    "fig.update_layout(yaxis_zeroline=False, xaxis_zeroline=False)\n",
    "fig.update_xaxes(title_font=dict(size=18, color='crimson'))\n",
    "fig.update_yaxes(title_font=dict(size=18, color='crimson'))\n",
    "fig.update_xaxes(ticks=\"inside\")\n",
    "fig.update_yaxes(ticks=\"inside\")\n",
    "fig.update_xaxes(tickangle=45, tickfont=dict(color='crimson', size=14))\n",
    "fig.update_xaxes(showline=True, linewidth=2, linecolor='black', mirror=True, gridcolor='Pink')\n",
    "fig.update_yaxes(showline=True, linewidth=2, linecolor='black', mirror=True, gridcolor='Red')\n",
    "#fig.show()\n",
    "fig.write_html(r'C:\\Users\\eeeeeeeeee\\Documents\\JupyterAnacondaPythonNotebooks\\Daily\\Charts_px\\PPROD\\{}.html'.format(FileName))\n",
    "plt.close()"
   ]
  },
  {
   "cell_type": "code",
   "execution_count": 256,
   "metadata": {},
   "outputs": [
    {
     "name": "stdout",
     "output_type": "stream",
     "text": [
      "     DatabaseName SchemaName   TableName\n",
      "3705        PPROD      PPREF  SCH_YR_REF\n"
     ]
    }
   ],
   "source": [
    "d = dfpprod0117[['DatabaseName', 'SchemaName','TableName']]#.format(z)\n",
    "d = d.drop_duplicates()\n",
    "e = d['DatabaseName'].values[0]\n",
    "f = d['SchemaName'].values[0]\n",
    "g = d['TableName'].values[0]\n",
    "print (d)\n",
    "FileName = ('PPROD_{}_{}'.format(f,g))\n",
    "\n",
    "fig = px.scatter(dfpprod0117, x = 'TodaysDate', y='RecordCount', size = 'RecordCount', color = 'RecordCount')#.format(z)\n",
    "fig.update_layout(title = '{0},{1},{2}'.format(e,f,g))\n",
    "fig.update_layout(yaxis_zeroline=False, xaxis_zeroline=False)\n",
    "fig.update_xaxes(title_font=dict(size=18, color='crimson'))\n",
    "fig.update_yaxes(title_font=dict(size=18, color='crimson'))\n",
    "fig.update_xaxes(ticks=\"inside\")\n",
    "fig.update_yaxes(ticks=\"inside\")\n",
    "fig.update_xaxes(tickangle=45, tickfont=dict(color='crimson', size=14))\n",
    "fig.update_xaxes(showline=True, linewidth=2, linecolor='black', mirror=True, gridcolor='Pink')\n",
    "fig.update_yaxes(showline=True, linewidth=2, linecolor='black', mirror=True, gridcolor='Red')\n",
    "#fig.show()\n",
    "fig.write_html(r'C:\\Users\\eeeeeeeeee\\Documents\\JupyterAnacondaPythonNotebooks\\Daily\\Charts_px\\PPROD\\{}.html'.format(FileName))\n",
    "plt.close()"
   ]
  },
  {
   "cell_type": "code",
   "execution_count": 257,
   "metadata": {},
   "outputs": [
    {
     "name": "stdout",
     "output_type": "stream",
     "text": [
      "     DatabaseName SchemaName          TableName\n",
      "6745        PPROD      PPREF  STU_TEMP_ENRMONTH\n"
     ]
    }
   ],
   "source": [
    "d = dfpprod0118[['DatabaseName', 'SchemaName','TableName']]#.format(z)\n",
    "d = d.drop_duplicates()\n",
    "e = d['DatabaseName'].values[0]\n",
    "f = d['SchemaName'].values[0]\n",
    "g = d['TableName'].values[0]\n",
    "print (d)\n",
    "FileName = ('PPROD_{}_{}'.format(f,g))\n",
    "\n",
    "fig = px.scatter(dfpprod0118, x = 'TodaysDate', y='RecordCount', size = 'RecordCount', color = 'RecordCount')#.format(z)\n",
    "fig.update_layout(title = '{0},{1},{2}'.format(e,f,g))\n",
    "fig.update_layout(yaxis_zeroline=False, xaxis_zeroline=False)\n",
    "fig.update_xaxes(title_font=dict(size=18, color='crimson'))\n",
    "fig.update_yaxes(title_font=dict(size=18, color='crimson'))\n",
    "fig.update_xaxes(ticks=\"inside\")\n",
    "fig.update_yaxes(ticks=\"inside\")\n",
    "fig.update_xaxes(tickangle=45, tickfont=dict(color='crimson', size=14))\n",
    "fig.update_xaxes(showline=True, linewidth=2, linecolor='black', mirror=True, gridcolor='Pink')\n",
    "fig.update_yaxes(showline=True, linewidth=2, linecolor='black', mirror=True, gridcolor='Red')\n",
    "#fig.show()\n",
    "fig.write_html(r'C:\\Users\\eeeeeeeeee\\Documents\\JupyterAnacondaPythonNotebooks\\Daily\\Charts_px\\PPROD\\{}.html'.format(FileName))\n",
    "plt.close()"
   ]
  },
  {
   "cell_type": "code",
   "execution_count": 258,
   "metadata": {},
   "outputs": [
    {
     "name": "stdout",
     "output_type": "stream",
     "text": [
      "     DatabaseName SchemaName       TableName\n",
      "7695        PPROD      PPREF  TEST_GUIDE_REF\n"
     ]
    }
   ],
   "source": [
    "d = dfpprod0119[['DatabaseName', 'SchemaName','TableName']]#.format(z)\n",
    "d = d.drop_duplicates()\n",
    "e = d['DatabaseName'].values[0]\n",
    "f = d['SchemaName'].values[0]\n",
    "g = d['TableName'].values[0]\n",
    "print (d)\n",
    "FileName = ('PPROD_{}_{}'.format(f,g))\n",
    "\n",
    "fig = px.scatter(dfpprod0119, x = 'TodaysDate', y='RecordCount', size = 'RecordCount', color = 'RecordCount')#.format(z)\n",
    "fig.update_layout(title = '{0},{1},{2}'.format(e,f,g))\n",
    "fig.update_layout(yaxis_zeroline=False, xaxis_zeroline=False)\n",
    "fig.update_xaxes(title_font=dict(size=18, color='crimson'))\n",
    "fig.update_yaxes(title_font=dict(size=18, color='crimson'))\n",
    "fig.update_xaxes(ticks=\"inside\")\n",
    "fig.update_yaxes(ticks=\"inside\")\n",
    "fig.update_xaxes(tickangle=45, tickfont=dict(color='crimson', size=14))\n",
    "fig.update_xaxes(showline=True, linewidth=2, linecolor='black', mirror=True, gridcolor='Pink')\n",
    "fig.update_yaxes(showline=True, linewidth=2, linecolor='black', mirror=True, gridcolor='Red')\n",
    "#fig.show()\n",
    "fig.write_html(r'C:\\Users\\eeeeeeeeee\\Documents\\JupyterAnacondaPythonNotebooks\\Daily\\Charts_px\\PPROD\\{}.html'.format(FileName))\n",
    "plt.close()"
   ]
  },
  {
   "cell_type": "code",
   "execution_count": 259,
   "metadata": {},
   "outputs": [
    {
     "name": "stdout",
     "output_type": "stream",
     "text": [
      "     DatabaseName SchemaName             TableName\n",
      "1425        PPROD       TEMP  GradeBookClassGrades\n"
     ]
    }
   ],
   "source": [
    "d = dfpprod0120[['DatabaseName', 'SchemaName','TableName']]#.format(z)\n",
    "d = d.drop_duplicates()\n",
    "e = d['DatabaseName'].values[0]\n",
    "f = d['SchemaName'].values[0]\n",
    "g = d['TableName'].values[0]\n",
    "print (d)\n",
    "FileName = ('PPROD_{}_{}'.format(f,g))\n",
    "\n",
    "fig = px.scatter(dfpprod0120, x = 'TodaysDate', y='RecordCount', size = 'RecordCount', color = 'RecordCount')#.format(z)\n",
    "fig.update_layout(title = '{0},{1},{2}'.format(e,f,g))\n",
    "fig.update_layout(yaxis_zeroline=False, xaxis_zeroline=False)\n",
    "fig.update_xaxes(title_font=dict(size=18, color='crimson'))\n",
    "fig.update_yaxes(title_font=dict(size=18, color='crimson'))\n",
    "fig.update_xaxes(ticks=\"inside\")\n",
    "fig.update_yaxes(ticks=\"inside\")\n",
    "fig.update_xaxes(tickangle=45, tickfont=dict(color='crimson', size=14))\n",
    "fig.update_xaxes(showline=True, linewidth=2, linecolor='black', mirror=True, gridcolor='Pink')\n",
    "fig.update_yaxes(showline=True, linewidth=2, linecolor='black', mirror=True, gridcolor='Red')\n",
    "#fig.show()\n",
    "fig.write_html(r'C:\\Users\\eeeeeeeeee\\Documents\\JupyterAnacondaPythonNotebooks\\Daily\\Charts_px\\PPROD\\{}.html'.format(FileName))\n",
    "plt.close()"
   ]
  },
  {
   "cell_type": "code",
   "execution_count": 260,
   "metadata": {},
   "outputs": [
    {
     "name": "stdout",
     "output_type": "stream",
     "text": [
      "     DatabaseName SchemaName       TableName\n",
      "1520        PPROD       TEMP  GradeBookTasks\n"
     ]
    }
   ],
   "source": [
    "d = dfpprod0121[['DatabaseName', 'SchemaName','TableName']]#.format(z)\n",
    "d = d.drop_duplicates()\n",
    "e = d['DatabaseName'].values[0]\n",
    "f = d['SchemaName'].values[0]\n",
    "g = d['TableName'].values[0]\n",
    "print (d)\n",
    "FileName = ('PPROD_{}_{}'.format(f,g))\n",
    "\n",
    "fig = px.scatter(dfpprod0121, x = 'TodaysDate', y='RecordCount', size = 'RecordCount', color = 'RecordCount')#.format(z)\n",
    "fig.update_layout(title = '{0},{1},{2}'.format(e,f,g))\n",
    "fig.update_layout(yaxis_zeroline=False, xaxis_zeroline=False)\n",
    "fig.update_xaxes(title_font=dict(size=18, color='crimson'))\n",
    "fig.update_yaxes(title_font=dict(size=18, color='crimson'))\n",
    "fig.update_xaxes(ticks=\"inside\")\n",
    "fig.update_yaxes(ticks=\"inside\")\n",
    "fig.update_xaxes(tickangle=45, tickfont=dict(color='crimson', size=14))\n",
    "fig.update_xaxes(showline=True, linewidth=2, linecolor='black', mirror=True, gridcolor='Pink')\n",
    "fig.update_yaxes(showline=True, linewidth=2, linecolor='black', mirror=True, gridcolor='Red')\n",
    "#fig.show()\n",
    "fig.write_html(r'C:\\Users\\eeeeeeeeee\\Documents\\JupyterAnacondaPythonNotebooks\\Daily\\Charts_px\\PPROD\\{}.html'.format(FileName))\n",
    "plt.close()"
   ]
  },
  {
   "cell_type": "code",
   "execution_count": 261,
   "metadata": {},
   "outputs": [
    {
     "name": "stdout",
     "output_type": "stream",
     "text": [
      "     DatabaseName SchemaName   TableName\n",
      "2945        PPROD       TEMP  PP_CRS_HST\n"
     ]
    }
   ],
   "source": [
    "d = dfpprod0122[['DatabaseName', 'SchemaName','TableName']]#.format(z)\n",
    "d = d.drop_duplicates()\n",
    "e = d['DatabaseName'].values[0]\n",
    "f = d['SchemaName'].values[0]\n",
    "g = d['TableName'].values[0]\n",
    "print (d)\n",
    "FileName = ('PPROD_{}_{}'.format(f,g))\n",
    "\n",
    "fig = px.scatter(dfpprod0122, x = 'TodaysDate', y='RecordCount', size = 'RecordCount', color = 'RecordCount')#.format(z)\n",
    "fig.update_layout(title = '{0},{1},{2}'.format(e,f,g))\n",
    "fig.update_layout(yaxis_zeroline=False, xaxis_zeroline=False)\n",
    "fig.update_xaxes(title_font=dict(size=18, color='crimson'))\n",
    "fig.update_yaxes(title_font=dict(size=18, color='crimson'))\n",
    "fig.update_xaxes(ticks=\"inside\")\n",
    "fig.update_yaxes(ticks=\"inside\")\n",
    "fig.update_xaxes(tickangle=45, tickfont=dict(color='crimson', size=14))\n",
    "fig.update_xaxes(showline=True, linewidth=2, linecolor='black', mirror=True, gridcolor='Pink')\n",
    "fig.update_yaxes(showline=True, linewidth=2, linecolor='black', mirror=True, gridcolor='Red')\n",
    "#fig.show()\n",
    "fig.write_html(r'C:\\Users\\eeeeeeeeee\\Documents\\JupyterAnacondaPythonNotebooks\\Daily\\Charts_px\\PPROD\\{}.html'.format(FileName))\n",
    "plt.close()"
   ]
  },
  {
   "cell_type": "code",
   "execution_count": 262,
   "metadata": {},
   "outputs": [
    {
     "name": "stdout",
     "output_type": "stream",
     "text": [
      "     DatabaseName SchemaName                TableName\n",
      "9310        PPROD       TEMP  rpt_StudentPortalAccess\n"
     ]
    }
   ],
   "source": [
    "d = dfpprod0123[['DatabaseName', 'SchemaName','TableName']]#.format(z)\n",
    "d = d.drop_duplicates()\n",
    "e = d['DatabaseName'].values[0]\n",
    "f = d['SchemaName'].values[0]\n",
    "g = d['TableName'].values[0]\n",
    "print (d)\n",
    "FileName = ('PPROD_{}_{}'.format(f,g))\n",
    "\n",
    "fig = px.scatter(dfpprod0123, x = 'TodaysDate', y='RecordCount', size = 'RecordCount', color = 'RecordCount')#.format(z)\n",
    "fig.update_layout(title = '{0},{1},{2}'.format(e,f,g))\n",
    "fig.update_layout(yaxis_zeroline=False, xaxis_zeroline=False)\n",
    "fig.update_xaxes(title_font=dict(size=18, color='crimson'))\n",
    "fig.update_yaxes(title_font=dict(size=18, color='crimson'))\n",
    "fig.update_xaxes(ticks=\"inside\")\n",
    "fig.update_yaxes(ticks=\"inside\")\n",
    "fig.update_xaxes(tickangle=45, tickfont=dict(color='crimson', size=14))\n",
    "fig.update_xaxes(showline=True, linewidth=2, linecolor='black', mirror=True, gridcolor='Pink')\n",
    "fig.update_yaxes(showline=True, linewidth=2, linecolor='black', mirror=True, gridcolor='Red')\n",
    "#fig.show()\n",
    "fig.write_html(r'C:\\Users\\eeeeeeeeee\\Documents\\JupyterAnacondaPythonNotebooks\\Daily\\Charts_px\\PPROD\\{}.html'.format(FileName))\n",
    "plt.close()"
   ]
  },
  {
   "cell_type": "code",
   "execution_count": 263,
   "metadata": {},
   "outputs": [
    {
     "name": "stdout",
     "output_type": "stream",
     "text": [
      "     DatabaseName SchemaName       TableName\n",
      "9025        PPROD        xpp  parent_surveys\n"
     ]
    }
   ],
   "source": [
    "d = dfpprod0124[['DatabaseName', 'SchemaName','TableName']]#.format(z)\n",
    "d = d.drop_duplicates()\n",
    "e = d['DatabaseName'].values[0]\n",
    "f = d['SchemaName'].values[0]\n",
    "g = d['TableName'].values[0]\n",
    "print (d)\n",
    "FileName = ('PPROD_{}_{}'.format(f,g))\n",
    "\n",
    "fig = px.scatter(dfpprod0124, x = 'TodaysDate', y='RecordCount', size = 'RecordCount', color = 'RecordCount')#.format(z)\n",
    "fig.update_layout(title = '{0},{1},{2}'.format(e,f,g))\n",
    "fig.update_layout(yaxis_zeroline=False, xaxis_zeroline=False)\n",
    "fig.update_xaxes(title_font=dict(size=18, color='crimson'))\n",
    "fig.update_yaxes(title_font=dict(size=18, color='crimson'))\n",
    "fig.update_xaxes(ticks=\"inside\")\n",
    "fig.update_yaxes(ticks=\"inside\")\n",
    "fig.update_xaxes(tickangle=45, tickfont=dict(color='crimson', size=14))\n",
    "fig.update_xaxes(showline=True, linewidth=2, linecolor='black', mirror=True, gridcolor='Pink')\n",
    "fig.update_yaxes(showline=True, linewidth=2, linecolor='black', mirror=True, gridcolor='Red')\n",
    "#fig.show()\n",
    "fig.write_html(r'C:\\Users\\eeeeeeeeee\\Documents\\JupyterAnacondaPythonNotebooks\\Daily\\Charts_px\\PPROD\\{}.html'.format(FileName))\n",
    "plt.close()"
   ]
  },
  {
   "cell_type": "code",
   "execution_count": 264,
   "metadata": {},
   "outputs": [
    {
     "name": "stdout",
     "output_type": "stream",
     "text": [
      "      DatabaseName SchemaName       TableName\n",
      "10925        PPROD        xpp  survey_headers\n"
     ]
    }
   ],
   "source": [
    "d = dfpprod0125[['DatabaseName', 'SchemaName','TableName']]#.format(z)\n",
    "d = d.drop_duplicates()\n",
    "e = d['DatabaseName'].values[0]\n",
    "f = d['SchemaName'].values[0]\n",
    "g = d['TableName'].values[0]\n",
    "print (d)\n",
    "FileName = ('PPROD_{}_{}'.format(f,g))\n",
    "\n",
    "fig = px.scatter(dfpprod0125, x = 'TodaysDate', y='RecordCount', size = 'RecordCount', color = 'RecordCount')#.format(z)\n",
    "fig.update_layout(title = '{0},{1},{2}'.format(e,f,g))\n",
    "fig.update_layout(yaxis_zeroline=False, xaxis_zeroline=False)\n",
    "fig.update_xaxes(title_font=dict(size=18, color='crimson'))\n",
    "fig.update_yaxes(title_font=dict(size=18, color='crimson'))\n",
    "fig.update_xaxes(ticks=\"inside\")\n",
    "fig.update_yaxes(ticks=\"inside\")\n",
    "fig.update_xaxes(tickangle=45, tickfont=dict(color='crimson', size=14))\n",
    "fig.update_xaxes(showline=True, linewidth=2, linecolor='black', mirror=True, gridcolor='Pink')\n",
    "fig.update_yaxes(showline=True, linewidth=2, linecolor='black', mirror=True, gridcolor='Red')\n",
    "#fig.show()\n",
    "fig.write_html(r'C:\\Users\\eeeeeeeeee\\Documents\\JupyterAnacondaPythonNotebooks\\Daily\\Charts_px\\PPROD\\{}.html'.format(FileName))\n",
    "plt.close()"
   ]
  },
  {
   "cell_type": "code",
   "execution_count": 265,
   "metadata": {},
   "outputs": [
    {
     "name": "stdout",
     "output_type": "stream",
     "text": [
      "      DatabaseName SchemaName         TableName\n",
      "11305        PPROD        xpp  survey_questions\n"
     ]
    }
   ],
   "source": [
    "d = dfpprod0126[['DatabaseName', 'SchemaName','TableName']]#.format(z)\n",
    "d = d.drop_duplicates()\n",
    "e = d['DatabaseName'].values[0]\n",
    "f = d['SchemaName'].values[0]\n",
    "g = d['TableName'].values[0]\n",
    "print (d)\n",
    "FileName = ('PPROD_{}_{}'.format(f,g))\n",
    "\n",
    "fig = px.scatter(dfpprod0126, x = 'TodaysDate', y='RecordCount', size = 'RecordCount', color = 'RecordCount')#.format(z)\n",
    "fig.update_layout(title = '{0},{1},{2}'.format(e,f,g))\n",
    "fig.update_layout(yaxis_zeroline=False, xaxis_zeroline=False)\n",
    "fig.update_xaxes(title_font=dict(size=18, color='crimson'))\n",
    "fig.update_yaxes(title_font=dict(size=18, color='crimson'))\n",
    "fig.update_xaxes(ticks=\"inside\")\n",
    "fig.update_yaxes(ticks=\"inside\")\n",
    "fig.update_xaxes(tickangle=45, tickfont=dict(color='crimson', size=14))\n",
    "fig.update_xaxes(showline=True, linewidth=2, linecolor='black', mirror=True, gridcolor='Pink')\n",
    "fig.update_yaxes(showline=True, linewidth=2, linecolor='black', mirror=True, gridcolor='Red')\n",
    "#fig.show()\n",
    "fig.write_html(r'C:\\Users\\eeeeeeeeee\\Documents\\JupyterAnacondaPythonNotebooks\\Daily\\Charts_px\\PPROD\\{}.html'.format(FileName))\n",
    "plt.close()"
   ]
  },
  {
   "cell_type": "code",
   "execution_count": 266,
   "metadata": {},
   "outputs": [
    {
     "name": "stdout",
     "output_type": "stream",
     "text": [
      "      DatabaseName SchemaName         TableName\n",
      "11495        PPROD        xpp  survey_responses\n"
     ]
    }
   ],
   "source": [
    "d = dfpprod0127[['DatabaseName', 'SchemaName','TableName']]#.format(z)\n",
    "d = d.drop_duplicates()\n",
    "e = d['DatabaseName'].values[0]\n",
    "f = d['SchemaName'].values[0]\n",
    "g = d['TableName'].values[0]\n",
    "print (d)\n",
    "FileName = ('PPROD_{}_{}'.format(f,g))\n",
    "\n",
    "fig = px.scatter(dfpprod0127, x = 'TodaysDate', y='RecordCount', size = 'RecordCount', color = 'RecordCount')#.format(z)\n",
    "fig.update_layout(title = '{0},{1},{2}'.format(e,f,g))\n",
    "fig.update_layout(yaxis_zeroline=False, xaxis_zeroline=False)\n",
    "fig.update_xaxes(title_font=dict(size=18, color='crimson'))\n",
    "fig.update_yaxes(title_font=dict(size=18, color='crimson'))\n",
    "fig.update_xaxes(ticks=\"inside\")\n",
    "fig.update_yaxes(ticks=\"inside\")\n",
    "fig.update_xaxes(tickangle=45, tickfont=dict(color='crimson', size=14))\n",
    "fig.update_xaxes(showline=True, linewidth=2, linecolor='black', mirror=True, gridcolor='Pink')\n",
    "fig.update_yaxes(showline=True, linewidth=2, linecolor='black', mirror=True, gridcolor='Red')\n",
    "#fig.show()\n",
    "fig.write_html(r'C:\\Users\\eeeeeeeeee\\Documents\\JupyterAnacondaPythonNotebooks\\Daily\\Charts_px\\PPROD\\{}.html'.format(FileName))\n",
    "plt.close()"
   ]
  },
  {
   "cell_type": "code",
   "execution_count": 267,
   "metadata": {},
   "outputs": [
    {
     "name": "stdout",
     "output_type": "stream",
     "text": [
      "Interactive Chart Creation - Process Complete:  2021-05-12 09:19:53\n"
     ]
    }
   ],
   "source": [
    "now01 = datetime.datetime.now()\n",
    "print('Interactive Chart Creation - Process Complete: ', now01.strftime(\"%Y-%m-%d %H:%M:%S\"))"
   ]
  },
  {
   "cell_type": "code",
   "execution_count": null,
   "metadata": {},
   "outputs": [],
   "source": []
  }
 ],
 "metadata": {
  "kernelspec": {
   "display_name": "Python 3",
   "language": "python",
   "name": "python3"
  },
  "language_info": {
   "codemirror_mode": {
    "name": "ipython",
    "version": 3
   },
   "file_extension": ".py",
   "mimetype": "text/x-python",
   "name": "python",
   "nbconvert_exporter": "python",
   "pygments_lexer": "ipython3",
   "version": "3.8.3"
  }
 },
 "nbformat": 4,
 "nbformat_minor": 4
}
