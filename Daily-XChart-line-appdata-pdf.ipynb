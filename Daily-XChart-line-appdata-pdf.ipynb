{
 "cells": [
  {
   "cell_type": "code",
   "execution_count": 1,
   "metadata": {},
   "outputs": [],
   "source": [
    "#Program Name: Daily-XChart-line-appdata-pdf\n",
    "#Purpose:  Daily Chart line on Ddifference data\n",
    "#Author:  Greg Turmel, Director, Data Governance \n",
    "#Date:    2020.08.30 - 2021.06.30\n",
    "#Errata:  0.1 Improvements can be made to script using for/looping through the databases\n",
    "\n",
    "import os, sys, argparse, csv, pyodbc, sql, time, datetime\n",
    "import sqlalchemy as db\n",
    "from dotenv import load_dotenv # add this line\n",
    "from matplotlib.backends.backend_pdf import PdfPages\n",
    "import pandas as pd\n",
    "import numpy as np\n",
    "import matplotlib # notebook\n",
    "import matplotlib.pyplot as plt\n",
    "import seaborn as sns\n",
    "#import chart_studio.plotly as py\n",
    "import plotly.graph_objects as go\n",
    "load_dotenv() # add this line\n",
    "user = os.getenv('MySQLeUser')\n",
    "password = os.getenv('MySQLeUserPass')\n",
    "host = os.getenv('MySQLeHOST')\n",
    "db = os.getenv('MySQLeDB')\n",
    "%matplotlib inline\n",
    "%load_ext sql"
   ]
  },
  {
   "cell_type": "code",
   "execution_count": 2,
   "metadata": {},
   "outputs": [
    {
     "data": {
      "text/plain": [
       "array(['AcademicContract', 'AcademicContractIntervention', 'AccessRights',\n",
       "       'AccommodationToColMap', 'Addendum_Log', 'AP_SP', 'Application',\n",
       "       'ApplicationAvailibility', 'ApplicationLog',\n",
       "       'ApplicationSchemaVersion', 'AttendanceByMonth', 'AuditLog',\n",
       "       'BallotMeasure', 'BasePicture', 'Candidate', 'CandidateResults',\n",
       "       'CheckInCheckOutDetail', 'ClasStuABCYrSum', 'Cluster',\n",
       "       'ClusterDemogrSummary', 'ClusterProfileSummary',\n",
       "       'CombinedReportData', 'Configuration', 'Counselors', 'Course',\n",
       "       'CourseCategory', 'CTI', 'D2L_AssignmentGrades', 'D2L_FinalGrades',\n",
       "       'Defaults', 'DIM_AbsenceType', 'DIM_Calendar', 'DIM_ClassSchedule',\n",
       "       'DIM_CodeTable', 'DIM_Course', 'DIM_CourseCategory',\n",
       "       'DIM_CourseOffering', 'DIM_CoursePathways',\n",
       "       'DIM_CoursePathways_12202018', 'DIM_CourseSearch',\n",
       "       'DIM_DisciplineInfractionRules', 'DIM_Educator',\n",
       "       'DIM_EducatorSearch', 'DIM_Employee', 'DIM_JobCode',\n",
       "       'DIM_Location', 'DIM_PathwaySpecs', 'DIM_School',\n",
       "       'DIM_ServiceProgramDefinition', 'DIM_Student',\n",
       "       'DIM_StudentDistrictDetail', 'DIM_StudentEmail', 'DIM_StudentNext',\n",
       "       'DIM_StudentPicture', 'DIM_StudentSearch', 'DIM_Term',\n",
       "       'DisplayTableMap', 'EdLevelDemogrSummary', 'EdLevelProfile',\n",
       "       'ElectionType', 'EnvSettings', 'ESOL_SP', 'FACT_A504',\n",
       "       'FACT_AcademicContract', 'FACT_AlternateTransportation',\n",
       "       'FACT_Assessment', 'FACT_AttendanceByPeriod',\n",
       "       'FACT_AttendanceByType', 'FACT_AttendanceDaily',\n",
       "       'FACT_AttendanceDaily_History', 'FACT_BookFines', 'FACT_Books',\n",
       "       'FACT_BusRoute', 'FACT_Cafeteria', 'FACT_CCRPI',\n",
       "       'FACT_CheckInCheckOutDetail', 'FACT_ClinicVisit',\n",
       "       'FACT_CourseHistoryDetails', 'FACT_CurrentLetterScore',\n",
       "       'FACT_DisciplineIncident', 'FACT_DisciplineTotal',\n",
       "       'FACT_DistrictCourseMetrics', 'FACT_EducatorClass',\n",
       "       'FACT_EducatorClassMetrics', 'FACT_EmergencyContact',\n",
       "       'FACT_Enrollment', 'FACT_EnrollmentHistory', 'FACT_Fees',\n",
       "       'FACT_GraduationAssessment', 'FACT_Guardian', 'FACT_IEPExport',\n",
       "       'FACT_MedicalAlert', 'FACT_PPortal_LastLogin', 'FACT_SEI',\n",
       "       'FACT_ServiceProgramParticipation', 'FACT_SPG_Export',\n",
       "       'FACT_SPortal_LastLogin', 'FACT_StudentAcademies',\n",
       "       'FACT_StudentAssignmentScore', 'FACT_StudentClass',\n",
       "       'FACT_StudentClassMetrics', 'FACT_StudentClassScore',\n",
       "       'FACT_StudentCoursesTaken', 'FACT_StudentCreditsEarned',\n",
       "       'FACT_StudentEngagementInstrument',\n",
       "       'FACT_StudentEnrollmentPeriods', 'FACT_StudentMetaData',\n",
       "       'FACT_StudentRegisterDaily', 'FACT_StudentSchoolYear',\n",
       "       'FACT_StudentSibling', 'FACT_StudentTrendingGrades',\n",
       "       'FACT_StudentTrendingGrades_20180101',\n",
       "       'FACT_StudentTrendingGrades_20180328',\n",
       "       'FACT_TeacherViewTrendingGrades', 'FACT_YearlyAttendance',\n",
       "       'G_GBATCH', 'G_GTID_HISTORY', 'G_GTID_IMPORT',\n",
       "       'G_GTID_IMPORT_ERROR_CODES', 'G_GTID_IMPORT_ERRORS',\n",
       "       'G_GTID_STU_BATCH', 'GradeLevel', 'GTRegistrationSP',\n",
       "       'HomeSchoolCounselorsSP', 'HSGradeSummary', 'HSSElectives',\n",
       "       'IEPAccommodations', 'ImageSource', 'Language', 'LocationType',\n",
       "       'LocationTypeOption', 'Log4Net', 'MAP_EducatorStudentCourse',\n",
       "       'MasterListSP', 'MeasureCluster', 'MeasureResults',\n",
       "       'MediaCheckInType', 'MHSElectives', 'MSGradeSummary', 'Office',\n",
       "       'OfficeCluster', 'OpenHouse', 'PartyType',\n",
       "       'ProdStudentTrendingGrades', 'ProgramChoices', 'Registration',\n",
       "       'RegistrationSP', 'RegistrationStatus', 'RejectReason', 'Role',\n",
       "       'RolePermission', 'ROSTER_GSC', 'ROSTER_GSS', 'RUN', 'RUN_ITEM',\n",
       "       'RUN_PACKAGE_OVERRIDES', 'School', 'SchoolConfiguration',\n",
       "       'SchoolDemogrSummary', 'SchoolLocation', 'SchoolProfileSummary',\n",
       "       'SchoolSetting', 'SchoolTchStuCounts', 'SecurityToken', 'State',\n",
       "       'StudentCurrentYearSummary', 'StudentTeacherSchedule',\n",
       "       'Submission', 'Submission_Original', 'SubmissionHistory',\n",
       "       'SubmissionState', 'Survey_Report_Codes', 'Survey_Report_Summary',\n",
       "       'Survey_Respondent_Report', 'sysdiagrams', 'TeacherStudentSummary',\n",
       "       'TPP_Notes', 'TypeCode', 'User', 'UserComments', 'UserPermission',\n",
       "       'UserRolePermission', 'UserRoles'], dtype=object)"
      ]
     },
     "execution_count": 2,
     "metadata": {},
     "output_type": "execute_result"
    }
   ],
   "source": [
    "conn = pyodbc.connect('Driver={SQL Server};'\n",
    "                      'Server=DEVODSSQL;'\n",
    "                      'Database=Greg;'\n",
    "                      'Trusted_Connection=yes;')\n",
    "\n",
    "sql_query01 = pd.read_sql_query(''' \n",
    "select DISTINCT TableName\n",
    "FROM [dbo].[tableRowCountApplicationData]\n",
    "ORDER BY TableName;     \n",
    "                              '''\n",
    "                              ,conn) # Load the list of distinct tables to graph\n",
    "\n",
    "sql_query02 = pd.read_sql_query(''' \n",
    "select *\n",
    "FROM [dbo].[tableRowCountApplicationData]\n",
    "ORDER BY TableName;     \n",
    "                              '''\n",
    "                              ,conn) # Load the list of distinct tables to graph\n",
    "\n",
    "\n",
    "df1 = pd.DataFrame(sql_query01)\n",
    "df2 = pd.DataFrame(sql_query02)\n",
    "df2['TodaysDate'] = df2['TodaysDate'].astype(str)\n",
    "df1['TableName'].unique()"
   ]
  },
  {
   "cell_type": "code",
   "execution_count": 3,
   "metadata": {},
   "outputs": [],
   "source": [
    "df2.columns\n",
    "df2 = df2.reset_index(drop=True)\n",
    "df2 = df2.sort_values(by=['TableName','SchemaName','DatabaseName','TodaysDate'], ascending=[True,True,True,True])"
   ]
  },
  {
   "cell_type": "code",
   "execution_count": 5,
   "metadata": {},
   "outputs": [
    {
     "data": {
      "text/plain": [
       "<Figure size 432x288 with 0 Axes>"
      ]
     },
     "metadata": {},
     "output_type": "display_data"
    },
    {
     "data": {
      "text/plain": [
       "<Figure size 432x288 with 0 Axes>"
      ]
     },
     "metadata": {},
     "output_type": "display_data"
    },
    {
     "data": {
      "text/plain": [
       "<Figure size 432x288 with 0 Axes>"
      ]
     },
     "metadata": {},
     "output_type": "display_data"
    },
    {
     "data": {
      "text/plain": [
       "<Figure size 432x288 with 0 Axes>"
      ]
     },
     "metadata": {},
     "output_type": "display_data"
    },
    {
     "data": {
      "text/plain": [
       "<Figure size 432x288 with 0 Axes>"
      ]
     },
     "metadata": {},
     "output_type": "display_data"
    },
    {
     "data": {
      "text/plain": [
       "<Figure size 432x288 with 0 Axes>"
      ]
     },
     "metadata": {},
     "output_type": "display_data"
    },
    {
     "data": {
      "text/plain": [
       "<Figure size 432x288 with 0 Axes>"
      ]
     },
     "metadata": {},
     "output_type": "display_data"
    },
    {
     "data": {
      "text/plain": [
       "<Figure size 432x288 with 0 Axes>"
      ]
     },
     "metadata": {},
     "output_type": "display_data"
    },
    {
     "data": {
      "text/plain": [
       "<Figure size 432x288 with 0 Axes>"
      ]
     },
     "metadata": {},
     "output_type": "display_data"
    },
    {
     "data": {
      "text/plain": [
       "<Figure size 432x288 with 0 Axes>"
      ]
     },
     "metadata": {},
     "output_type": "display_data"
    },
    {
     "data": {
      "text/plain": [
       "<Figure size 432x288 with 0 Axes>"
      ]
     },
     "metadata": {},
     "output_type": "display_data"
    },
    {
     "data": {
      "text/plain": [
       "<Figure size 432x288 with 0 Axes>"
      ]
     },
     "metadata": {},
     "output_type": "display_data"
    },
    {
     "data": {
      "text/plain": [
       "<Figure size 432x288 with 0 Axes>"
      ]
     },
     "metadata": {},
     "output_type": "display_data"
    },
    {
     "data": {
      "text/plain": [
       "<Figure size 432x288 with 0 Axes>"
      ]
     },
     "metadata": {},
     "output_type": "display_data"
    },
    {
     "data": {
      "text/plain": [
       "<Figure size 432x288 with 0 Axes>"
      ]
     },
     "metadata": {},
     "output_type": "display_data"
    },
    {
     "data": {
      "text/plain": [
       "<Figure size 432x288 with 0 Axes>"
      ]
     },
     "metadata": {},
     "output_type": "display_data"
    },
    {
     "data": {
      "text/plain": [
       "<Figure size 432x288 with 0 Axes>"
      ]
     },
     "metadata": {},
     "output_type": "display_data"
    },
    {
     "data": {
      "text/plain": [
       "<Figure size 432x288 with 0 Axes>"
      ]
     },
     "metadata": {},
     "output_type": "display_data"
    },
    {
     "data": {
      "text/plain": [
       "<Figure size 432x288 with 0 Axes>"
      ]
     },
     "metadata": {},
     "output_type": "display_data"
    },
    {
     "data": {
      "text/plain": [
       "<Figure size 432x288 with 0 Axes>"
      ]
     },
     "metadata": {},
     "output_type": "display_data"
    },
    {
     "data": {
      "text/plain": [
       "<Figure size 432x288 with 0 Axes>"
      ]
     },
     "metadata": {},
     "output_type": "display_data"
    },
    {
     "data": {
      "text/plain": [
       "<Figure size 432x288 with 0 Axes>"
      ]
     },
     "metadata": {},
     "output_type": "display_data"
    },
    {
     "data": {
      "text/plain": [
       "<Figure size 432x288 with 0 Axes>"
      ]
     },
     "metadata": {},
     "output_type": "display_data"
    },
    {
     "data": {
      "text/plain": [
       "<Figure size 432x288 with 0 Axes>"
      ]
     },
     "metadata": {},
     "output_type": "display_data"
    },
    {
     "data": {
      "text/plain": [
       "<Figure size 432x288 with 0 Axes>"
      ]
     },
     "metadata": {},
     "output_type": "display_data"
    },
    {
     "data": {
      "text/plain": [
       "<Figure size 432x288 with 0 Axes>"
      ]
     },
     "metadata": {},
     "output_type": "display_data"
    },
    {
     "data": {
      "text/plain": [
       "<Figure size 432x288 with 0 Axes>"
      ]
     },
     "metadata": {},
     "output_type": "display_data"
    },
    {
     "data": {
      "text/plain": [
       "<Figure size 432x288 with 0 Axes>"
      ]
     },
     "metadata": {},
     "output_type": "display_data"
    },
    {
     "data": {
      "text/plain": [
       "<Figure size 432x288 with 0 Axes>"
      ]
     },
     "metadata": {},
     "output_type": "display_data"
    },
    {
     "data": {
      "text/plain": [
       "<Figure size 432x288 with 0 Axes>"
      ]
     },
     "metadata": {},
     "output_type": "display_data"
    },
    {
     "data": {
      "text/plain": [
       "<Figure size 432x288 with 0 Axes>"
      ]
     },
     "metadata": {},
     "output_type": "display_data"
    },
    {
     "data": {
      "text/plain": [
       "<Figure size 432x288 with 0 Axes>"
      ]
     },
     "metadata": {},
     "output_type": "display_data"
    },
    {
     "data": {
      "text/plain": [
       "<Figure size 432x288 with 0 Axes>"
      ]
     },
     "metadata": {},
     "output_type": "display_data"
    },
    {
     "data": {
      "text/plain": [
       "<Figure size 432x288 with 0 Axes>"
      ]
     },
     "metadata": {},
     "output_type": "display_data"
    },
    {
     "data": {
      "text/plain": [
       "<Figure size 432x288 with 0 Axes>"
      ]
     },
     "metadata": {},
     "output_type": "display_data"
    },
    {
     "data": {
      "text/plain": [
       "<Figure size 432x288 with 0 Axes>"
      ]
     },
     "metadata": {},
     "output_type": "display_data"
    },
    {
     "data": {
      "text/plain": [
       "<Figure size 432x288 with 0 Axes>"
      ]
     },
     "metadata": {},
     "output_type": "display_data"
    },
    {
     "data": {
      "text/plain": [
       "<Figure size 432x288 with 0 Axes>"
      ]
     },
     "metadata": {},
     "output_type": "display_data"
    },
    {
     "data": {
      "text/plain": [
       "<Figure size 432x288 with 0 Axes>"
      ]
     },
     "metadata": {},
     "output_type": "display_data"
    },
    {
     "data": {
      "text/plain": [
       "<Figure size 432x288 with 0 Axes>"
      ]
     },
     "metadata": {},
     "output_type": "display_data"
    },
    {
     "data": {
      "text/plain": [
       "<Figure size 432x288 with 0 Axes>"
      ]
     },
     "metadata": {},
     "output_type": "display_data"
    },
    {
     "data": {
      "text/plain": [
       "<Figure size 432x288 with 0 Axes>"
      ]
     },
     "metadata": {},
     "output_type": "display_data"
    },
    {
     "data": {
      "text/plain": [
       "<Figure size 432x288 with 0 Axes>"
      ]
     },
     "metadata": {},
     "output_type": "display_data"
    },
    {
     "data": {
      "text/plain": [
       "<Figure size 432x288 with 0 Axes>"
      ]
     },
     "metadata": {},
     "output_type": "display_data"
    },
    {
     "data": {
      "text/plain": [
       "<Figure size 432x288 with 0 Axes>"
      ]
     },
     "metadata": {},
     "output_type": "display_data"
    },
    {
     "data": {
      "text/plain": [
       "<Figure size 432x288 with 0 Axes>"
      ]
     },
     "metadata": {},
     "output_type": "display_data"
    },
    {
     "data": {
      "text/plain": [
       "<Figure size 432x288 with 0 Axes>"
      ]
     },
     "metadata": {},
     "output_type": "display_data"
    },
    {
     "data": {
      "text/plain": [
       "<Figure size 432x288 with 0 Axes>"
      ]
     },
     "metadata": {},
     "output_type": "display_data"
    },
    {
     "data": {
      "text/plain": [
       "<Figure size 432x288 with 0 Axes>"
      ]
     },
     "metadata": {},
     "output_type": "display_data"
    },
    {
     "data": {
      "text/plain": [
       "<Figure size 432x288 with 0 Axes>"
      ]
     },
     "metadata": {},
     "output_type": "display_data"
    },
    {
     "data": {
      "text/plain": [
       "<Figure size 432x288 with 0 Axes>"
      ]
     },
     "metadata": {},
     "output_type": "display_data"
    },
    {
     "data": {
      "text/plain": [
       "<Figure size 432x288 with 0 Axes>"
      ]
     },
     "metadata": {},
     "output_type": "display_data"
    },
    {
     "data": {
      "text/plain": [
       "<Figure size 432x288 with 0 Axes>"
      ]
     },
     "metadata": {},
     "output_type": "display_data"
    },
    {
     "data": {
      "text/plain": [
       "<Figure size 432x288 with 0 Axes>"
      ]
     },
     "metadata": {},
     "output_type": "display_data"
    },
    {
     "data": {
      "text/plain": [
       "<Figure size 432x288 with 0 Axes>"
      ]
     },
     "metadata": {},
     "output_type": "display_data"
    },
    {
     "data": {
      "text/plain": [
       "<Figure size 432x288 with 0 Axes>"
      ]
     },
     "metadata": {},
     "output_type": "display_data"
    },
    {
     "data": {
      "text/plain": [
       "<Figure size 432x288 with 0 Axes>"
      ]
     },
     "metadata": {},
     "output_type": "display_data"
    },
    {
     "data": {
      "text/plain": [
       "<Figure size 432x288 with 0 Axes>"
      ]
     },
     "metadata": {},
     "output_type": "display_data"
    },
    {
     "data": {
      "text/plain": [
       "<Figure size 432x288 with 0 Axes>"
      ]
     },
     "metadata": {},
     "output_type": "display_data"
    },
    {
     "data": {
      "text/plain": [
       "<Figure size 432x288 with 0 Axes>"
      ]
     },
     "metadata": {},
     "output_type": "display_data"
    },
    {
     "data": {
      "text/plain": [
       "<Figure size 432x288 with 0 Axes>"
      ]
     },
     "metadata": {},
     "output_type": "display_data"
    },
    {
     "data": {
      "text/plain": [
       "<Figure size 432x288 with 0 Axes>"
      ]
     },
     "metadata": {},
     "output_type": "display_data"
    },
    {
     "data": {
      "text/plain": [
       "<Figure size 432x288 with 0 Axes>"
      ]
     },
     "metadata": {},
     "output_type": "display_data"
    },
    {
     "data": {
      "text/plain": [
       "<Figure size 432x288 with 0 Axes>"
      ]
     },
     "metadata": {},
     "output_type": "display_data"
    },
    {
     "data": {
      "text/plain": [
       "<Figure size 432x288 with 0 Axes>"
      ]
     },
     "metadata": {},
     "output_type": "display_data"
    },
    {
     "data": {
      "text/plain": [
       "<Figure size 432x288 with 0 Axes>"
      ]
     },
     "metadata": {},
     "output_type": "display_data"
    },
    {
     "data": {
      "text/plain": [
       "<Figure size 432x288 with 0 Axes>"
      ]
     },
     "metadata": {},
     "output_type": "display_data"
    },
    {
     "data": {
      "text/plain": [
       "<Figure size 432x288 with 0 Axes>"
      ]
     },
     "metadata": {},
     "output_type": "display_data"
    },
    {
     "data": {
      "text/plain": [
       "<Figure size 432x288 with 0 Axes>"
      ]
     },
     "metadata": {},
     "output_type": "display_data"
    },
    {
     "data": {
      "text/plain": [
       "<Figure size 432x288 with 0 Axes>"
      ]
     },
     "metadata": {},
     "output_type": "display_data"
    },
    {
     "data": {
      "text/plain": [
       "<Figure size 432x288 with 0 Axes>"
      ]
     },
     "metadata": {},
     "output_type": "display_data"
    },
    {
     "data": {
      "text/plain": [
       "<Figure size 432x288 with 0 Axes>"
      ]
     },
     "metadata": {},
     "output_type": "display_data"
    },
    {
     "data": {
      "text/plain": [
       "<Figure size 432x288 with 0 Axes>"
      ]
     },
     "metadata": {},
     "output_type": "display_data"
    },
    {
     "data": {
      "text/plain": [
       "<Figure size 432x288 with 0 Axes>"
      ]
     },
     "metadata": {},
     "output_type": "display_data"
    },
    {
     "data": {
      "text/plain": [
       "<Figure size 432x288 with 0 Axes>"
      ]
     },
     "metadata": {},
     "output_type": "display_data"
    },
    {
     "data": {
      "text/plain": [
       "<Figure size 432x288 with 0 Axes>"
      ]
     },
     "metadata": {},
     "output_type": "display_data"
    },
    {
     "data": {
      "text/plain": [
       "<Figure size 432x288 with 0 Axes>"
      ]
     },
     "metadata": {},
     "output_type": "display_data"
    },
    {
     "data": {
      "text/plain": [
       "<Figure size 432x288 with 0 Axes>"
      ]
     },
     "metadata": {},
     "output_type": "display_data"
    },
    {
     "data": {
      "text/plain": [
       "<Figure size 432x288 with 0 Axes>"
      ]
     },
     "metadata": {},
     "output_type": "display_data"
    },
    {
     "data": {
      "text/plain": [
       "<Figure size 432x288 with 0 Axes>"
      ]
     },
     "metadata": {},
     "output_type": "display_data"
    },
    {
     "data": {
      "text/plain": [
       "<Figure size 432x288 with 0 Axes>"
      ]
     },
     "metadata": {},
     "output_type": "display_data"
    },
    {
     "data": {
      "text/plain": [
       "<Figure size 432x288 with 0 Axes>"
      ]
     },
     "metadata": {},
     "output_type": "display_data"
    },
    {
     "data": {
      "text/plain": [
       "<Figure size 432x288 with 0 Axes>"
      ]
     },
     "metadata": {},
     "output_type": "display_data"
    },
    {
     "data": {
      "text/plain": [
       "<Figure size 432x288 with 0 Axes>"
      ]
     },
     "metadata": {},
     "output_type": "display_data"
    },
    {
     "data": {
      "text/plain": [
       "<Figure size 432x288 with 0 Axes>"
      ]
     },
     "metadata": {},
     "output_type": "display_data"
    },
    {
     "data": {
      "text/plain": [
       "<Figure size 432x288 with 0 Axes>"
      ]
     },
     "metadata": {},
     "output_type": "display_data"
    },
    {
     "data": {
      "text/plain": [
       "<Figure size 432x288 with 0 Axes>"
      ]
     },
     "metadata": {},
     "output_type": "display_data"
    },
    {
     "data": {
      "text/plain": [
       "<Figure size 432x288 with 0 Axes>"
      ]
     },
     "metadata": {},
     "output_type": "display_data"
    },
    {
     "data": {
      "text/plain": [
       "<Figure size 432x288 with 0 Axes>"
      ]
     },
     "metadata": {},
     "output_type": "display_data"
    },
    {
     "data": {
      "text/plain": [
       "<Figure size 432x288 with 0 Axes>"
      ]
     },
     "metadata": {},
     "output_type": "display_data"
    },
    {
     "data": {
      "text/plain": [
       "<Figure size 432x288 with 0 Axes>"
      ]
     },
     "metadata": {},
     "output_type": "display_data"
    },
    {
     "data": {
      "text/plain": [
       "<Figure size 432x288 with 0 Axes>"
      ]
     },
     "metadata": {},
     "output_type": "display_data"
    },
    {
     "data": {
      "text/plain": [
       "<Figure size 432x288 with 0 Axes>"
      ]
     },
     "metadata": {},
     "output_type": "display_data"
    },
    {
     "data": {
      "text/plain": [
       "<Figure size 432x288 with 0 Axes>"
      ]
     },
     "metadata": {},
     "output_type": "display_data"
    },
    {
     "data": {
      "text/plain": [
       "<Figure size 432x288 with 0 Axes>"
      ]
     },
     "metadata": {},
     "output_type": "display_data"
    },
    {
     "data": {
      "text/plain": [
       "<Figure size 432x288 with 0 Axes>"
      ]
     },
     "metadata": {},
     "output_type": "display_data"
    },
    {
     "data": {
      "text/plain": [
       "<Figure size 432x288 with 0 Axes>"
      ]
     },
     "metadata": {},
     "output_type": "display_data"
    },
    {
     "data": {
      "text/plain": [
       "<Figure size 432x288 with 0 Axes>"
      ]
     },
     "metadata": {},
     "output_type": "display_data"
    },
    {
     "data": {
      "text/plain": [
       "<Figure size 432x288 with 0 Axes>"
      ]
     },
     "metadata": {},
     "output_type": "display_data"
    },
    {
     "data": {
      "text/plain": [
       "<Figure size 432x288 with 0 Axes>"
      ]
     },
     "metadata": {},
     "output_type": "display_data"
    },
    {
     "data": {
      "text/plain": [
       "<Figure size 432x288 with 0 Axes>"
      ]
     },
     "metadata": {},
     "output_type": "display_data"
    },
    {
     "data": {
      "text/plain": [
       "<Figure size 432x288 with 0 Axes>"
      ]
     },
     "metadata": {},
     "output_type": "display_data"
    },
    {
     "data": {
      "text/plain": [
       "<Figure size 432x288 with 0 Axes>"
      ]
     },
     "metadata": {},
     "output_type": "display_data"
    },
    {
     "data": {
      "text/plain": [
       "<Figure size 432x288 with 0 Axes>"
      ]
     },
     "metadata": {},
     "output_type": "display_data"
    },
    {
     "data": {
      "text/plain": [
       "<Figure size 432x288 with 0 Axes>"
      ]
     },
     "metadata": {},
     "output_type": "display_data"
    },
    {
     "data": {
      "text/plain": [
       "<Figure size 432x288 with 0 Axes>"
      ]
     },
     "metadata": {},
     "output_type": "display_data"
    },
    {
     "data": {
      "text/plain": [
       "<Figure size 432x288 with 0 Axes>"
      ]
     },
     "metadata": {},
     "output_type": "display_data"
    },
    {
     "data": {
      "text/plain": [
       "<Figure size 432x288 with 0 Axes>"
      ]
     },
     "metadata": {},
     "output_type": "display_data"
    },
    {
     "data": {
      "text/plain": [
       "<Figure size 432x288 with 0 Axes>"
      ]
     },
     "metadata": {},
     "output_type": "display_data"
    },
    {
     "data": {
      "text/plain": [
       "<Figure size 432x288 with 0 Axes>"
      ]
     },
     "metadata": {},
     "output_type": "display_data"
    },
    {
     "data": {
      "text/plain": [
       "<Figure size 432x288 with 0 Axes>"
      ]
     },
     "metadata": {},
     "output_type": "display_data"
    },
    {
     "data": {
      "text/plain": [
       "<Figure size 432x288 with 0 Axes>"
      ]
     },
     "metadata": {},
     "output_type": "display_data"
    },
    {
     "data": {
      "text/plain": [
       "<Figure size 432x288 with 0 Axes>"
      ]
     },
     "metadata": {},
     "output_type": "display_data"
    },
    {
     "data": {
      "text/plain": [
       "<Figure size 432x288 with 0 Axes>"
      ]
     },
     "metadata": {},
     "output_type": "display_data"
    },
    {
     "data": {
      "text/plain": [
       "<Figure size 432x288 with 0 Axes>"
      ]
     },
     "metadata": {},
     "output_type": "display_data"
    },
    {
     "data": {
      "text/plain": [
       "<Figure size 432x288 with 0 Axes>"
      ]
     },
     "metadata": {},
     "output_type": "display_data"
    },
    {
     "data": {
      "text/plain": [
       "<Figure size 432x288 with 0 Axes>"
      ]
     },
     "metadata": {},
     "output_type": "display_data"
    },
    {
     "data": {
      "text/plain": [
       "<Figure size 432x288 with 0 Axes>"
      ]
     },
     "metadata": {},
     "output_type": "display_data"
    },
    {
     "data": {
      "text/plain": [
       "<Figure size 432x288 with 0 Axes>"
      ]
     },
     "metadata": {},
     "output_type": "display_data"
    },
    {
     "data": {
      "text/plain": [
       "<Figure size 432x288 with 0 Axes>"
      ]
     },
     "metadata": {},
     "output_type": "display_data"
    },
    {
     "data": {
      "text/plain": [
       "<Figure size 432x288 with 0 Axes>"
      ]
     },
     "metadata": {},
     "output_type": "display_data"
    },
    {
     "data": {
      "text/plain": [
       "<Figure size 432x288 with 0 Axes>"
      ]
     },
     "metadata": {},
     "output_type": "display_data"
    },
    {
     "data": {
      "text/plain": [
       "<Figure size 432x288 with 0 Axes>"
      ]
     },
     "metadata": {},
     "output_type": "display_data"
    },
    {
     "data": {
      "text/plain": [
       "<Figure size 432x288 with 0 Axes>"
      ]
     },
     "metadata": {},
     "output_type": "display_data"
    },
    {
     "data": {
      "text/plain": [
       "<Figure size 432x288 with 0 Axes>"
      ]
     },
     "metadata": {},
     "output_type": "display_data"
    },
    {
     "data": {
      "text/plain": [
       "<Figure size 432x288 with 0 Axes>"
      ]
     },
     "metadata": {},
     "output_type": "display_data"
    },
    {
     "data": {
      "text/plain": [
       "<Figure size 432x288 with 0 Axes>"
      ]
     },
     "metadata": {},
     "output_type": "display_data"
    },
    {
     "data": {
      "text/plain": [
       "<Figure size 432x288 with 0 Axes>"
      ]
     },
     "metadata": {},
     "output_type": "display_data"
    },
    {
     "data": {
      "text/plain": [
       "<Figure size 432x288 with 0 Axes>"
      ]
     },
     "metadata": {},
     "output_type": "display_data"
    },
    {
     "data": {
      "text/plain": [
       "<Figure size 432x288 with 0 Axes>"
      ]
     },
     "metadata": {},
     "output_type": "display_data"
    },
    {
     "data": {
      "text/plain": [
       "<Figure size 432x288 with 0 Axes>"
      ]
     },
     "metadata": {},
     "output_type": "display_data"
    },
    {
     "data": {
      "text/plain": [
       "<Figure size 432x288 with 0 Axes>"
      ]
     },
     "metadata": {},
     "output_type": "display_data"
    },
    {
     "data": {
      "text/plain": [
       "<Figure size 432x288 with 0 Axes>"
      ]
     },
     "metadata": {},
     "output_type": "display_data"
    },
    {
     "data": {
      "text/plain": [
       "<Figure size 432x288 with 0 Axes>"
      ]
     },
     "metadata": {},
     "output_type": "display_data"
    },
    {
     "data": {
      "text/plain": [
       "<Figure size 432x288 with 0 Axes>"
      ]
     },
     "metadata": {},
     "output_type": "display_data"
    },
    {
     "data": {
      "text/plain": [
       "<Figure size 432x288 with 0 Axes>"
      ]
     },
     "metadata": {},
     "output_type": "display_data"
    },
    {
     "data": {
      "text/plain": [
       "<Figure size 432x288 with 0 Axes>"
      ]
     },
     "metadata": {},
     "output_type": "display_data"
    },
    {
     "data": {
      "text/plain": [
       "<Figure size 432x288 with 0 Axes>"
      ]
     },
     "metadata": {},
     "output_type": "display_data"
    },
    {
     "data": {
      "text/plain": [
       "<Figure size 432x288 with 0 Axes>"
      ]
     },
     "metadata": {},
     "output_type": "display_data"
    },
    {
     "data": {
      "text/plain": [
       "<Figure size 432x288 with 0 Axes>"
      ]
     },
     "metadata": {},
     "output_type": "display_data"
    },
    {
     "data": {
      "text/plain": [
       "<Figure size 432x288 with 0 Axes>"
      ]
     },
     "metadata": {},
     "output_type": "display_data"
    },
    {
     "data": {
      "text/plain": [
       "<Figure size 432x288 with 0 Axes>"
      ]
     },
     "metadata": {},
     "output_type": "display_data"
    },
    {
     "data": {
      "text/plain": [
       "<Figure size 432x288 with 0 Axes>"
      ]
     },
     "metadata": {},
     "output_type": "display_data"
    },
    {
     "data": {
      "text/plain": [
       "<Figure size 432x288 with 0 Axes>"
      ]
     },
     "metadata": {},
     "output_type": "display_data"
    },
    {
     "data": {
      "text/plain": [
       "<Figure size 432x288 with 0 Axes>"
      ]
     },
     "metadata": {},
     "output_type": "display_data"
    },
    {
     "data": {
      "text/plain": [
       "<Figure size 432x288 with 0 Axes>"
      ]
     },
     "metadata": {},
     "output_type": "display_data"
    },
    {
     "data": {
      "text/plain": [
       "<Figure size 432x288 with 0 Axes>"
      ]
     },
     "metadata": {},
     "output_type": "display_data"
    },
    {
     "data": {
      "text/plain": [
       "<Figure size 432x288 with 0 Axes>"
      ]
     },
     "metadata": {},
     "output_type": "display_data"
    },
    {
     "data": {
      "text/plain": [
       "<Figure size 432x288 with 0 Axes>"
      ]
     },
     "metadata": {},
     "output_type": "display_data"
    },
    {
     "data": {
      "text/plain": [
       "<Figure size 432x288 with 0 Axes>"
      ]
     },
     "metadata": {},
     "output_type": "display_data"
    },
    {
     "data": {
      "text/plain": [
       "<Figure size 432x288 with 0 Axes>"
      ]
     },
     "metadata": {},
     "output_type": "display_data"
    },
    {
     "data": {
      "text/plain": [
       "<Figure size 432x288 with 0 Axes>"
      ]
     },
     "metadata": {},
     "output_type": "display_data"
    },
    {
     "data": {
      "text/plain": [
       "<Figure size 432x288 with 0 Axes>"
      ]
     },
     "metadata": {},
     "output_type": "display_data"
    },
    {
     "data": {
      "text/plain": [
       "<Figure size 432x288 with 0 Axes>"
      ]
     },
     "metadata": {},
     "output_type": "display_data"
    },
    {
     "data": {
      "text/plain": [
       "<Figure size 432x288 with 0 Axes>"
      ]
     },
     "metadata": {},
     "output_type": "display_data"
    },
    {
     "data": {
      "text/plain": [
       "<Figure size 432x288 with 0 Axes>"
      ]
     },
     "metadata": {},
     "output_type": "display_data"
    },
    {
     "data": {
      "text/plain": [
       "<Figure size 432x288 with 0 Axes>"
      ]
     },
     "metadata": {},
     "output_type": "display_data"
    },
    {
     "data": {
      "text/plain": [
       "<Figure size 432x288 with 0 Axes>"
      ]
     },
     "metadata": {},
     "output_type": "display_data"
    },
    {
     "data": {
      "text/plain": [
       "<Figure size 432x288 with 0 Axes>"
      ]
     },
     "metadata": {},
     "output_type": "display_data"
    },
    {
     "data": {
      "text/plain": [
       "<Figure size 432x288 with 0 Axes>"
      ]
     },
     "metadata": {},
     "output_type": "display_data"
    },
    {
     "data": {
      "text/plain": [
       "<Figure size 432x288 with 0 Axes>"
      ]
     },
     "metadata": {},
     "output_type": "display_data"
    },
    {
     "data": {
      "text/plain": [
       "<Figure size 432x288 with 0 Axes>"
      ]
     },
     "metadata": {},
     "output_type": "display_data"
    },
    {
     "data": {
      "text/plain": [
       "<Figure size 432x288 with 0 Axes>"
      ]
     },
     "metadata": {},
     "output_type": "display_data"
    },
    {
     "data": {
      "text/plain": [
       "<Figure size 432x288 with 0 Axes>"
      ]
     },
     "metadata": {},
     "output_type": "display_data"
    },
    {
     "data": {
      "text/plain": [
       "<Figure size 432x288 with 0 Axes>"
      ]
     },
     "metadata": {},
     "output_type": "display_data"
    },
    {
     "data": {
      "text/plain": [
       "<Figure size 432x288 with 0 Axes>"
      ]
     },
     "metadata": {},
     "output_type": "display_data"
    },
    {
     "data": {
      "text/plain": [
       "<Figure size 432x288 with 0 Axes>"
      ]
     },
     "metadata": {},
     "output_type": "display_data"
    },
    {
     "data": {
      "text/plain": [
       "<Figure size 432x288 with 0 Axes>"
      ]
     },
     "metadata": {},
     "output_type": "display_data"
    },
    {
     "data": {
      "text/plain": [
       "<Figure size 432x288 with 0 Axes>"
      ]
     },
     "metadata": {},
     "output_type": "display_data"
    },
    {
     "data": {
      "text/plain": [
       "<Figure size 432x288 with 0 Axes>"
      ]
     },
     "metadata": {},
     "output_type": "display_data"
    },
    {
     "data": {
      "text/plain": [
       "<Figure size 432x288 with 0 Axes>"
      ]
     },
     "metadata": {},
     "output_type": "display_data"
    },
    {
     "data": {
      "text/plain": [
       "<Figure size 432x288 with 0 Axes>"
      ]
     },
     "metadata": {},
     "output_type": "display_data"
    },
    {
     "data": {
      "text/plain": [
       "<Figure size 432x288 with 0 Axes>"
      ]
     },
     "metadata": {},
     "output_type": "display_data"
    },
    {
     "data": {
      "text/plain": [
       "<Figure size 432x288 with 0 Axes>"
      ]
     },
     "metadata": {},
     "output_type": "display_data"
    },
    {
     "data": {
      "text/plain": [
       "<Figure size 432x288 with 0 Axes>"
      ]
     },
     "metadata": {},
     "output_type": "display_data"
    },
    {
     "data": {
      "text/plain": [
       "<Figure size 432x288 with 0 Axes>"
      ]
     },
     "metadata": {},
     "output_type": "display_data"
    },
    {
     "data": {
      "text/plain": [
       "<Figure size 432x288 with 0 Axes>"
      ]
     },
     "metadata": {},
     "output_type": "display_data"
    },
    {
     "data": {
      "text/plain": [
       "<Figure size 432x288 with 0 Axes>"
      ]
     },
     "metadata": {},
     "output_type": "display_data"
    },
    {
     "data": {
      "text/plain": [
       "<Figure size 432x288 with 0 Axes>"
      ]
     },
     "metadata": {},
     "output_type": "display_data"
    },
    {
     "data": {
      "text/plain": [
       "<Figure size 432x288 with 0 Axes>"
      ]
     },
     "metadata": {},
     "output_type": "display_data"
    },
    {
     "data": {
      "text/plain": [
       "<Figure size 432x288 with 0 Axes>"
      ]
     },
     "metadata": {},
     "output_type": "display_data"
    },
    {
     "data": {
      "text/plain": [
       "<Figure size 432x288 with 0 Axes>"
      ]
     },
     "metadata": {},
     "output_type": "display_data"
    },
    {
     "data": {
      "text/plain": [
       "<Figure size 432x288 with 0 Axes>"
      ]
     },
     "metadata": {},
     "output_type": "display_data"
    }
   ],
   "source": [
    "#https://stackoverflow.com/questions/27476642/matplotlib-get-rid-of-max-open-warning-output\n",
    "plt.rcParams.update({'figure.max_open_warning': 0})\n",
    "with PdfPages('multipage.pdf') as pdf:\n",
    "    appdata001 = df2.loc[df2['TableName']=='AcademicContract']\n",
    "    plt.figure();\n",
    "    appdata001.plot(x='TodaysDate', y='RecordCount', color='r', linewidth=2.0);\n",
    "    plt.title('AppData: AcademicContract')\n",
    "    plt.xlabel('TodaysDate', fontsize=12)\n",
    "    plt.ylabel('RecordCount', fontsize=12)\n",
    "    plt.xticks(rotation=90)\n",
    "    plt.tight_layout()\n",
    "    fig1 = plt.gcf()\n",
    "    plt.draw()\n",
    "    time.sleep(1)\n",
    "    pdf.savefig()  # saves the current figure into a pdf page\n",
    "    plt.close()\n",
    "\n",
    "    appdata002 = df2.loc[df2['TableName']=='AcademicContractIntervention'] \n",
    "    plt.figure(); \n",
    "    appdata002.plot(x='TodaysDate', y='RecordCount', color='r', linewidth=2.0); \n",
    "    plt.title('AppData: AcademicContractIntervention') \n",
    "    plt.xlabel('TodaysDate', fontsize=12) \n",
    "    plt.ylabel('RecordCount', fontsize=12) \n",
    "    plt.xticks(rotation=90) \n",
    "    plt.tight_layout()\n",
    "    fig1 = plt.gcf()\n",
    "    plt.draw()\n",
    "    time.sleep(1)\n",
    "    pdf.savefig()  # saves the current figure into a pdf page \n",
    "    plt.close()\n",
    "\n",
    "    appdata003 = df2.loc[df2['TableName']=='AccessRights'] \n",
    "    plt.figure(); \n",
    "    appdata003.plot(x='TodaysDate', y='RecordCount', color='r', linewidth=2.0); \n",
    "    plt.title('AppData: AccessRights') \n",
    "    plt.xlabel('TodaysDate', fontsize=12) \n",
    "    plt.ylabel('RecordCount', fontsize=12) \n",
    "    plt.xticks(rotation=90) \n",
    "    plt.tight_layout()\n",
    "    fig1 = plt.gcf()\n",
    "    plt.draw()\n",
    "    time.sleep(1)\n",
    "    pdf.savefig()  # saves the current figure into a pdf page \n",
    "    plt.close()\n",
    "\n",
    "    appdata004 = df2.loc[df2['TableName']=='AccommodationToColMap'] \n",
    "    plt.figure(); \n",
    "    appdata004.plot(x='TodaysDate', y='RecordCount', color='r', linewidth=2.0); \n",
    "    plt.title('AppData: AccommodationToColMap') \n",
    "    plt.xlabel('TodaysDate', fontsize=12) \n",
    "    plt.ylabel('RecordCount', fontsize=12) \n",
    "    plt.xticks(rotation=90) \n",
    "    plt.tight_layout()\n",
    "    fig1 = plt.gcf()\n",
    "    plt.draw()\n",
    "    time.sleep(1)\n",
    "    pdf.savefig()  # saves the current figure into a pdf page \n",
    "    plt.close()\n",
    "\n",
    "    appdata005 = df2.loc[df2['TableName']=='Addendum_Log'] \n",
    "    plt.figure(); \n",
    "    appdata005.plot(x='TodaysDate', y='RecordCount', color='r', linewidth=2.0); \n",
    "    plt.title('AppData: Addendum_Log') \n",
    "    plt.xlabel('TodaysDate', fontsize=12) \n",
    "    plt.ylabel('RecordCount', fontsize=12) \n",
    "    plt.xticks(rotation=90) \n",
    "    plt.tight_layout()\n",
    "    fig1 = plt.gcf()\n",
    "    plt.draw()\n",
    "    time.sleep(1)\n",
    "    pdf.savefig()  # saves the current figure into a pdf page \n",
    "    plt.close()\n",
    "\n",
    "    appdata006 = df2.loc[df2['TableName']=='AP_SP'] \n",
    "    plt.figure(); \n",
    "    appdata006.plot(x='TodaysDate', y='RecordCount', color='r', linewidth=2.0); \n",
    "    plt.title('AppData: AP_SP') \n",
    "    plt.xlabel('TodaysDate', fontsize=12) \n",
    "    plt.ylabel('RecordCount', fontsize=12) \n",
    "    plt.xticks(rotation=90) \n",
    "    plt.tight_layout()\n",
    "    fig1 = plt.gcf()\n",
    "    plt.draw()\n",
    "    time.sleep(1)\n",
    "    pdf.savefig()  # saves the current figure into a pdf page \n",
    "    plt.close()\n",
    "\n",
    "    appdata007 = df2.loc[df2['TableName']=='Application'] \n",
    "    plt.figure(); \n",
    "    appdata007.plot(x='TodaysDate', y='RecordCount', color='r', linewidth=2.0); \n",
    "    plt.title('AppData: Application') \n",
    "    plt.xlabel('TodaysDate', fontsize=12) \n",
    "    plt.ylabel('RecordCount', fontsize=12) \n",
    "    plt.xticks(rotation=90) \n",
    "    plt.tight_layout()\n",
    "    fig1 = plt.gcf()\n",
    "    plt.draw()\n",
    "    time.sleep(1)\n",
    "    pdf.savefig()  # saves the current figure into a pdf page \n",
    "    plt.close()\n",
    "\n",
    "    appdata008 = df2.loc[df2['TableName']=='ApplicationAvailibility'] \n",
    "    plt.figure(); \n",
    "    appdata008.plot(x='TodaysDate', y='RecordCount', color='r', linewidth=2.0); \n",
    "    plt.title('AppData: ApplicationAvailibility') \n",
    "    plt.xlabel('TodaysDate', fontsize=12) \n",
    "    plt.ylabel('RecordCount', fontsize=12) \n",
    "    plt.xticks(rotation=90) \n",
    "    plt.tight_layout()\n",
    "    fig1 = plt.gcf()\n",
    "    plt.draw()\n",
    "    time.sleep(1)\n",
    "    pdf.savefig()  # saves the current figure into a pdf page \n",
    "    plt.close()\n",
    "\n",
    "    appdata009 = df2.loc[df2['TableName']=='ApplicationLog'] \n",
    "    plt.figure(); \n",
    "    appdata009.plot(x='TodaysDate', y='RecordCount', color='r', linewidth=2.0); \n",
    "    plt.title('AppData: ApplicationLog') \n",
    "    plt.xlabel('TodaysDate', fontsize=12) \n",
    "    plt.ylabel('RecordCount', fontsize=12) \n",
    "    plt.xticks(rotation=90) \n",
    "    plt.tight_layout()\n",
    "    fig1 = plt.gcf()\n",
    "    plt.draw()\n",
    "    time.sleep(1)\n",
    "    pdf.savefig()  # saves the current figure into a pdf page \n",
    "    plt.close()\n",
    "\n",
    "    appdata010 = df2.loc[df2['TableName']=='ApplicationSchemaVersion'] \n",
    "    plt.figure(); \n",
    "    appdata010.plot(x='TodaysDate', y='RecordCount', color='r', linewidth=2.0); \n",
    "    plt.title('AppData: ApplicationSchemaVersion') \n",
    "    plt.xlabel('TodaysDate', fontsize=12) \n",
    "    plt.ylabel('RecordCount', fontsize=12) \n",
    "    plt.xticks(rotation=90) \n",
    "    plt.tight_layout()\n",
    "    fig1 = plt.gcf()\n",
    "    plt.draw()\n",
    "    time.sleep(1)\n",
    "    pdf.savefig()  # saves the current figure into a pdf page \n",
    "    plt.close()\n",
    "\n",
    "    appdata011 = df2.loc[df2['TableName']=='AttendanceByMonth'] \n",
    "    plt.figure(); \n",
    "    appdata011.plot(x='TodaysDate', y='RecordCount', color='r', linewidth=2.0); \n",
    "    plt.title('AppData: AttendanceByMonth') \n",
    "    plt.xlabel('TodaysDate', fontsize=12) \n",
    "    plt.ylabel('RecordCount', fontsize=12) \n",
    "    plt.xticks(rotation=90) \n",
    "    plt.tight_layout()\n",
    "    fig1 = plt.gcf()\n",
    "    plt.draw()\n",
    "    time.sleep(1)\n",
    "    pdf.savefig()  # saves the current figure into a pdf page \n",
    "    plt.close()\n",
    "\n",
    "    appdata012 = df2.loc[df2['TableName']=='AuditLog'] \n",
    "    plt.figure(); \n",
    "    appdata012.plot(x='TodaysDate', y='RecordCount', color='r', linewidth=2.0); \n",
    "    plt.title('AppData: AuditLog') \n",
    "    plt.xlabel('TodaysDate', fontsize=12) \n",
    "    plt.ylabel('RecordCount', fontsize=12) \n",
    "    plt.xticks(rotation=90) \n",
    "    plt.tight_layout()\n",
    "    fig1 = plt.gcf()\n",
    "    plt.draw()\n",
    "    time.sleep(1)\n",
    "    pdf.savefig()  # saves the current figure into a pdf page \n",
    "    plt.close()\n",
    "\n",
    "    appdata013 = df2.loc[df2['TableName']=='BallotMeasure'] \n",
    "    plt.figure(); \n",
    "    appdata013.plot(x='TodaysDate', y='RecordCount', color='r', linewidth=2.0); \n",
    "    plt.title('AppData: BallotMeasure') \n",
    "    plt.xlabel('TodaysDate', fontsize=12) \n",
    "    plt.ylabel('RecordCount', fontsize=12) \n",
    "    plt.xticks(rotation=90) \n",
    "    plt.tight_layout()\n",
    "    fig1 = plt.gcf()\n",
    "    plt.draw()\n",
    "    time.sleep(1)\n",
    "    pdf.savefig()  # saves the current figure into a pdf page \n",
    "    plt.close()\n",
    "\n",
    "    appdata014 = df2.loc[df2['TableName']=='BasePicture'] \n",
    "    plt.figure(); \n",
    "    appdata014.plot(x='TodaysDate', y='RecordCount', color='r', linewidth=2.0); \n",
    "    plt.title('AppData: BasePicture') \n",
    "    plt.xlabel('TodaysDate', fontsize=12) \n",
    "    plt.ylabel('RecordCount', fontsize=12) \n",
    "    plt.xticks(rotation=90) \n",
    "    plt.tight_layout()\n",
    "    fig1 = plt.gcf()\n",
    "    plt.draw()\n",
    "    time.sleep(1)\n",
    "    pdf.savefig()  # saves the current figure into a pdf page \n",
    "    plt.close()\n",
    "\n",
    "    appdata015 = df2.loc[df2['TableName']=='Candidate'] \n",
    "    plt.figure(); \n",
    "    appdata015.plot(x='TodaysDate', y='RecordCount', color='r', linewidth=2.0); \n",
    "    plt.title('AppData: Candidate') \n",
    "    plt.xlabel('TodaysDate', fontsize=12) \n",
    "    plt.ylabel('RecordCount', fontsize=12) \n",
    "    plt.xticks(rotation=90) \n",
    "    plt.tight_layout()\n",
    "    fig1 = plt.gcf()\n",
    "    plt.draw()\n",
    "    time.sleep(1)\n",
    "    pdf.savefig()  # saves the current figure into a pdf page \n",
    "    plt.close()\n",
    "\n",
    "    appdata016 = df2.loc[df2['TableName']=='CandidateResults'] \n",
    "    plt.figure(); \n",
    "    appdata016.plot(x='TodaysDate', y='RecordCount', color='r', linewidth=2.0); \n",
    "    plt.title('AppData: CandidateResults') \n",
    "    plt.xlabel('TodaysDate', fontsize=12) \n",
    "    plt.ylabel('RecordCount', fontsize=12) \n",
    "    plt.xticks(rotation=90) \n",
    "    plt.tight_layout()\n",
    "    fig1 = plt.gcf()\n",
    "    plt.draw()\n",
    "    time.sleep(1)\n",
    "    pdf.savefig()  # saves the current figure into a pdf page \n",
    "    plt.close()\n",
    "\n",
    "    appdata017 = df2.loc[df2['TableName']=='CheckInCheckOutDetail'] \n",
    "    plt.figure(); \n",
    "    appdata017.plot(x='TodaysDate', y='RecordCount', color='r', linewidth=2.0); \n",
    "    plt.title('AppData: CheckInCheckOutDetail') \n",
    "    plt.xlabel('TodaysDate', fontsize=12) \n",
    "    plt.ylabel('RecordCount', fontsize=12) \n",
    "    plt.xticks(rotation=90) \n",
    "    plt.tight_layout()\n",
    "    fig1 = plt.gcf()\n",
    "    plt.draw()\n",
    "    time.sleep(1)\n",
    "    pdf.savefig()  # saves the current figure into a pdf page \n",
    "    plt.close()\n",
    "\n",
    "    appdata018 = df2.loc[df2['TableName']=='ClasStuABCYrSum'] \n",
    "    plt.figure(); \n",
    "    appdata018.plot(x='TodaysDate', y='RecordCount', color='r', linewidth=2.0); \n",
    "    plt.title('AppData: ClasStuABCYrSum') \n",
    "    plt.xlabel('TodaysDate', fontsize=12) \n",
    "    plt.ylabel('RecordCount', fontsize=12) \n",
    "    plt.xticks(rotation=90) \n",
    "    plt.tight_layout()\n",
    "    fig1 = plt.gcf()\n",
    "    plt.draw()\n",
    "    time.sleep(1)\n",
    "    pdf.savefig()  # saves the current figure into a pdf page \n",
    "    plt.close()\n",
    "\n",
    "    appdata019 = df2.loc[df2['TableName']=='Cluster'] \n",
    "    plt.figure(); \n",
    "    appdata019.plot(x='TodaysDate', y='RecordCount', color='r', linewidth=2.0); \n",
    "    plt.title('AppData: Cluster') \n",
    "    plt.xlabel('TodaysDate', fontsize=12) \n",
    "    plt.ylabel('RecordCount', fontsize=12) \n",
    "    plt.xticks(rotation=90) \n",
    "    plt.tight_layout()\n",
    "    fig1 = plt.gcf()\n",
    "    plt.draw()\n",
    "    time.sleep(1)\n",
    "    pdf.savefig()  # saves the current figure into a pdf page \n",
    "    plt.close()\n",
    "\n",
    "    appdata020 = df2.loc[df2['TableName']=='ClusterDemogrSummary'] \n",
    "    plt.figure(); \n",
    "    appdata020.plot(x='TodaysDate', y='RecordCount', color='r', linewidth=2.0); \n",
    "    plt.title('AppData: ClusterDemogrSummary') \n",
    "    plt.xlabel('TodaysDate', fontsize=12) \n",
    "    plt.ylabel('RecordCount', fontsize=12) \n",
    "    plt.xticks(rotation=90) \n",
    "    plt.tight_layout()\n",
    "    fig1 = plt.gcf()\n",
    "    plt.draw()\n",
    "    time.sleep(1)\n",
    "    pdf.savefig()  # saves the current figure into a pdf page \n",
    "    plt.close()\n",
    "\n",
    "    appdata021 = df2.loc[df2['TableName']=='ClusterProfileSummary'] \n",
    "    plt.figure(); \n",
    "    appdata021.plot(x='TodaysDate', y='RecordCount', color='r', linewidth=2.0); \n",
    "    plt.title('AppData: ClusterProfileSummary') \n",
    "    plt.xlabel('TodaysDate', fontsize=12) \n",
    "    plt.ylabel('RecordCount', fontsize=12) \n",
    "    plt.xticks(rotation=90) \n",
    "    plt.tight_layout()\n",
    "    fig1 = plt.gcf()\n",
    "    plt.draw()\n",
    "    time.sleep(1)\n",
    "    pdf.savefig()  # saves the current figure into a pdf page \n",
    "    plt.close()\n",
    "\n",
    "    appdata022 = df2.loc[df2['TableName']=='CombinedReportData'] \n",
    "    plt.figure(); \n",
    "    appdata022.plot(x='TodaysDate', y='RecordCount', color='r', linewidth=2.0); \n",
    "    plt.title('AppData: CombinedReportData') \n",
    "    plt.xlabel('TodaysDate', fontsize=12) \n",
    "    plt.ylabel('RecordCount', fontsize=12) \n",
    "    plt.xticks(rotation=90) \n",
    "    plt.tight_layout()\n",
    "    fig1 = plt.gcf()\n",
    "    plt.draw()\n",
    "    time.sleep(1)\n",
    "    pdf.savefig()  # saves the current figure into a pdf page \n",
    "    plt.close()\n",
    "\n",
    "    appdata023 = df2.loc[df2['TableName']=='Configuration'] \n",
    "    plt.figure(); \n",
    "    appdata023.plot(x='TodaysDate', y='RecordCount', color='r', linewidth=2.0); \n",
    "    plt.title('AppData: Configuration') \n",
    "    plt.xlabel('TodaysDate', fontsize=12) \n",
    "    plt.ylabel('RecordCount', fontsize=12) \n",
    "    plt.xticks(rotation=90) \n",
    "    plt.tight_layout()\n",
    "    fig1 = plt.gcf()\n",
    "    plt.draw()\n",
    "    time.sleep(1)\n",
    "    pdf.savefig()  # saves the current figure into a pdf page \n",
    "    plt.close()\n",
    "\n",
    "    appdata024 = df2.loc[df2['TableName']=='Counselors'] \n",
    "    plt.figure(); \n",
    "    appdata024.plot(x='TodaysDate', y='RecordCount', color='r', linewidth=2.0); \n",
    "    plt.title('AppData: Counselors') \n",
    "    plt.xlabel('TodaysDate', fontsize=12) \n",
    "    plt.ylabel('RecordCount', fontsize=12) \n",
    "    plt.xticks(rotation=90) \n",
    "    plt.tight_layout()\n",
    "    fig1 = plt.gcf()\n",
    "    plt.draw()\n",
    "    time.sleep(1)\n",
    "    pdf.savefig()  # saves the current figure into a pdf page \n",
    "    plt.close()\n",
    "\n",
    "    appdata025 = df2.loc[df2['TableName']=='Course'] \n",
    "    plt.figure(); \n",
    "    appdata025.plot(x='TodaysDate', y='RecordCount', color='r', linewidth=2.0); \n",
    "    plt.title('AppData: Course') \n",
    "    plt.xlabel('TodaysDate', fontsize=12) \n",
    "    plt.ylabel('RecordCount', fontsize=12) \n",
    "    plt.xticks(rotation=90) \n",
    "    plt.tight_layout()\n",
    "    fig1 = plt.gcf()\n",
    "    plt.draw()\n",
    "    time.sleep(1)\n",
    "    pdf.savefig()  # saves the current figure into a pdf page \n",
    "    plt.close()\n",
    "\n",
    "    appdata026 = df2.loc[df2['TableName']=='CourseCategory'] \n",
    "    plt.figure(); \n",
    "    appdata026.plot(x='TodaysDate', y='RecordCount', color='r', linewidth=2.0); \n",
    "    plt.title('AppData: CourseCategory') \n",
    "    plt.xlabel('TodaysDate', fontsize=12) \n",
    "    plt.ylabel('RecordCount', fontsize=12) \n",
    "    plt.xticks(rotation=90) \n",
    "    plt.tight_layout()\n",
    "    fig1 = plt.gcf()\n",
    "    plt.draw()\n",
    "    time.sleep(1)\n",
    "    pdf.savefig()  # saves the current figure into a pdf page \n",
    "    plt.close()\n",
    "\n",
    "    appdata027 = df2.loc[df2['TableName']=='CTI'] \n",
    "    plt.figure(); \n",
    "    appdata027.plot(x='TodaysDate', y='RecordCount', color='r', linewidth=2.0); \n",
    "    plt.title('AppData: CTI') \n",
    "    plt.xlabel('TodaysDate', fontsize=12) \n",
    "    plt.ylabel('RecordCount', fontsize=12) \n",
    "    plt.xticks(rotation=90) \n",
    "    plt.tight_layout()\n",
    "    fig1 = plt.gcf()\n",
    "    plt.draw()\n",
    "    time.sleep(1)\n",
    "    pdf.savefig()  # saves the current figure into a pdf page \n",
    "    plt.close()\n",
    "\n",
    "    appdata028 = df2.loc[df2['TableName']=='D2L_AssignmentGrades'] \n",
    "    plt.figure(); \n",
    "    appdata028.plot(x='TodaysDate', y='RecordCount', color='r', linewidth=2.0); \n",
    "    plt.title('AppData: D2L_AssignmentGrades') \n",
    "    plt.xlabel('TodaysDate', fontsize=12) \n",
    "    plt.ylabel('RecordCount', fontsize=12) \n",
    "    plt.xticks(rotation=90) \n",
    "    plt.tight_layout()\n",
    "    fig1 = plt.gcf()\n",
    "    plt.draw()\n",
    "    time.sleep(1)\n",
    "    pdf.savefig()  # saves the current figure into a pdf page \n",
    "    plt.close()\n",
    "\n",
    "    appdata029 = df2.loc[df2['TableName']=='D2L_FinalGrades'] \n",
    "    plt.figure(); \n",
    "    appdata029.plot(x='TodaysDate', y='RecordCount', color='r', linewidth=2.0); \n",
    "    plt.title('AppData: D2L_FinalGrades') \n",
    "    plt.xlabel('TodaysDate', fontsize=12) \n",
    "    plt.ylabel('RecordCount', fontsize=12) \n",
    "    plt.xticks(rotation=90) \n",
    "    plt.tight_layout()\n",
    "    fig1 = plt.gcf()\n",
    "    plt.draw()\n",
    "    time.sleep(1)\n",
    "    pdf.savefig()  # saves the current figure into a pdf page \n",
    "    plt.close()\n",
    "\n",
    "    appdata030 = df2.loc[df2['TableName']=='Defaults'] \n",
    "    plt.figure(); \n",
    "    appdata030.plot(x='TodaysDate', y='RecordCount', color='r', linewidth=2.0); \n",
    "    plt.title('AppData: Defaults') \n",
    "    plt.xlabel('TodaysDate', fontsize=12) \n",
    "    plt.ylabel('RecordCount', fontsize=12) \n",
    "    plt.xticks(rotation=90) \n",
    "    plt.tight_layout()\n",
    "    fig1 = plt.gcf()\n",
    "    plt.draw()\n",
    "    time.sleep(1)\n",
    "    pdf.savefig()  # saves the current figure into a pdf page \n",
    "    plt.close()\n",
    "\n",
    "    appdata031 = df2.loc[df2['TableName']=='DIM_AbsenceType'] \n",
    "    plt.figure(); \n",
    "    appdata031.plot(x='TodaysDate', y='RecordCount', color='r', linewidth=2.0); \n",
    "    plt.title('AppData: DIM_AbsenceType') \n",
    "    plt.xlabel('TodaysDate', fontsize=12) \n",
    "    plt.ylabel('RecordCount', fontsize=12) \n",
    "    plt.xticks(rotation=90) \n",
    "    plt.tight_layout()\n",
    "    fig1 = plt.gcf()\n",
    "    plt.draw()\n",
    "    time.sleep(1)\n",
    "    pdf.savefig()  # saves the current figure into a pdf page \n",
    "    plt.close()\n",
    "\n",
    "    appdata032 = df2.loc[df2['TableName']=='DIM_Calendar'] \n",
    "    plt.figure(); \n",
    "    appdata032.plot(x='TodaysDate', y='RecordCount', color='r', linewidth=2.0); \n",
    "    plt.title('AppData: DIM_Calendar') \n",
    "    plt.xlabel('TodaysDate', fontsize=12) \n",
    "    plt.ylabel('RecordCount', fontsize=12) \n",
    "    plt.xticks(rotation=90) \n",
    "    plt.tight_layout()\n",
    "    fig1 = plt.gcf()\n",
    "    plt.draw()\n",
    "    time.sleep(1)\n",
    "    pdf.savefig()  # saves the current figure into a pdf page \n",
    "    plt.close()\n",
    "\n",
    "    appdata033 = df2.loc[df2['TableName']=='DIM_ClassSchedule'] \n",
    "    plt.figure(); \n",
    "    appdata033.plot(x='TodaysDate', y='RecordCount', color='r', linewidth=2.0); \n",
    "    plt.title('AppData: DIM_ClassSchedule') \n",
    "    plt.xlabel('TodaysDate', fontsize=12) \n",
    "    plt.ylabel('RecordCount', fontsize=12) \n",
    "    plt.xticks(rotation=90) \n",
    "    plt.tight_layout()\n",
    "    fig1 = plt.gcf()\n",
    "    plt.draw()\n",
    "    time.sleep(1)\n",
    "    pdf.savefig()  # saves the current figure into a pdf page \n",
    "    plt.close()\n",
    "\n",
    "    appdata034 = df2.loc[df2['TableName']=='DIM_CodeTable'] \n",
    "    plt.figure(); \n",
    "    appdata034.plot(x='TodaysDate', y='RecordCount', color='r', linewidth=2.0); \n",
    "    plt.title('AppData: DIM_CodeTable') \n",
    "    plt.xlabel('TodaysDate', fontsize=12) \n",
    "    plt.ylabel('RecordCount', fontsize=12) \n",
    "    plt.xticks(rotation=90) \n",
    "    plt.tight_layout()\n",
    "    fig1 = plt.gcf()\n",
    "    plt.draw()\n",
    "    time.sleep(1)\n",
    "    pdf.savefig()  # saves the current figure into a pdf page \n",
    "    plt.close()\n",
    "\n",
    "    appdata035 = df2.loc[df2['TableName']=='DIM_Course'] \n",
    "    plt.figure(); \n",
    "    appdata035.plot(x='TodaysDate', y='RecordCount', color='r', linewidth=2.0); \n",
    "    plt.title('AppData: DIM_Course') \n",
    "    plt.xlabel('TodaysDate', fontsize=12) \n",
    "    plt.ylabel('RecordCount', fontsize=12) \n",
    "    plt.xticks(rotation=90) \n",
    "    plt.tight_layout()\n",
    "    fig1 = plt.gcf()\n",
    "    plt.draw()\n",
    "    time.sleep(1)\n",
    "    pdf.savefig()  # saves the current figure into a pdf page \n",
    "    plt.close()\n",
    "\n",
    "    appdata036 = df2.loc[df2['TableName']=='DIM_CourseCategory'] \n",
    "    plt.figure(); \n",
    "    appdata036.plot(x='TodaysDate', y='RecordCount', color='r', linewidth=2.0); \n",
    "    plt.title('AppData: DIM_CourseCategory') \n",
    "    plt.xlabel('TodaysDate', fontsize=12) \n",
    "    plt.ylabel('RecordCount', fontsize=12) \n",
    "    plt.xticks(rotation=90) \n",
    "    plt.tight_layout()\n",
    "    fig1 = plt.gcf()\n",
    "    plt.draw()\n",
    "    time.sleep(1)\n",
    "    pdf.savefig()  # saves the current figure into a pdf page \n",
    "    plt.close()\n",
    "\n",
    "    appdata037 = df2.loc[df2['TableName']=='DIM_CourseOffering'] \n",
    "    plt.figure(); \n",
    "    appdata037.plot(x='TodaysDate', y='RecordCount', color='r', linewidth=2.0); \n",
    "    plt.title('AppData: DIM_CourseOffering') \n",
    "    plt.xlabel('TodaysDate', fontsize=12) \n",
    "    plt.ylabel('RecordCount', fontsize=12) \n",
    "    plt.xticks(rotation=90) \n",
    "    plt.tight_layout()\n",
    "    fig1 = plt.gcf()\n",
    "    plt.draw()\n",
    "    time.sleep(1)\n",
    "    pdf.savefig()  # saves the current figure into a pdf page \n",
    "    plt.close()\n",
    "\n",
    "    appdata038 = df2.loc[df2['TableName']=='DIM_CoursePathways'] \n",
    "    plt.figure(); \n",
    "    appdata038.plot(x='TodaysDate', y='RecordCount', color='r', linewidth=2.0); \n",
    "    plt.title('AppData: DIM_CoursePathways') \n",
    "    plt.xlabel('TodaysDate', fontsize=12) \n",
    "    plt.ylabel('RecordCount', fontsize=12) \n",
    "    plt.xticks(rotation=90) \n",
    "    plt.tight_layout()\n",
    "    fig1 = plt.gcf()\n",
    "    plt.draw()\n",
    "    time.sleep(1)\n",
    "    pdf.savefig()  # saves the current figure into a pdf page \n",
    "    plt.close()\n",
    "\n",
    "    appdata039 = df2.loc[df2['TableName']=='DIM_CoursePathways_12202018'] \n",
    "    plt.figure(); \n",
    "    appdata039.plot(x='TodaysDate', y='RecordCount', color='r', linewidth=2.0); \n",
    "    plt.title('AppData: DIM_CoursePathways_12202018') \n",
    "    plt.xlabel('TodaysDate', fontsize=12) \n",
    "    plt.ylabel('RecordCount', fontsize=12) \n",
    "    plt.xticks(rotation=90) \n",
    "    plt.tight_layout()\n",
    "    fig1 = plt.gcf()\n",
    "    plt.draw()\n",
    "    time.sleep(1)\n",
    "    pdf.savefig()  # saves the current figure into a pdf page \n",
    "    plt.close()\n",
    "\n",
    "    appdata040 = df2.loc[df2['TableName']=='DIM_CourseSearch'] \n",
    "    plt.figure(); \n",
    "    appdata040.plot(x='TodaysDate', y='RecordCount', color='r', linewidth=2.0); \n",
    "    plt.title('AppData: DIM_CourseSearch') \n",
    "    plt.xlabel('TodaysDate', fontsize=12) \n",
    "    plt.ylabel('RecordCount', fontsize=12) \n",
    "    plt.xticks(rotation=90) \n",
    "    plt.tight_layout()\n",
    "    fig1 = plt.gcf()\n",
    "    plt.draw()\n",
    "    time.sleep(1)\n",
    "    pdf.savefig()  # saves the current figure into a pdf page \n",
    "    plt.close()\n",
    "\n",
    "    appdata041 = df2.loc[df2['TableName']=='DIM_DisciplineInfractionRules'] \n",
    "    plt.figure(); \n",
    "    appdata041.plot(x='TodaysDate', y='RecordCount', color='r', linewidth=2.0); \n",
    "    plt.title('AppData: DIM_DisciplineInfractionRules') \n",
    "    plt.xlabel('TodaysDate', fontsize=12) \n",
    "    plt.ylabel('RecordCount', fontsize=12) \n",
    "    plt.xticks(rotation=90) \n",
    "    plt.tight_layout()\n",
    "    fig1 = plt.gcf()\n",
    "    plt.draw()\n",
    "    time.sleep(1)\n",
    "    pdf.savefig()  # saves the current figure into a pdf page \n",
    "    plt.close()\n",
    "\n",
    "    appdata042 = df2.loc[df2['TableName']=='DIM_Educator'] \n",
    "    plt.figure(); \n",
    "    appdata042.plot(x='TodaysDate', y='RecordCount', color='r', linewidth=2.0); \n",
    "    plt.title('AppData: DIM_Educator') \n",
    "    plt.xlabel('TodaysDate', fontsize=12) \n",
    "    plt.ylabel('RecordCount', fontsize=12) \n",
    "    plt.xticks(rotation=90) \n",
    "    plt.tight_layout()\n",
    "    fig1 = plt.gcf()\n",
    "    plt.draw()\n",
    "    time.sleep(1)\n",
    "    pdf.savefig()  # saves the current figure into a pdf page \n",
    "    plt.close()\n",
    "\n",
    "    appdata043 = df2.loc[df2['TableName']=='DIM_EducatorSearch'] \n",
    "    plt.figure(); \n",
    "    appdata043.plot(x='TodaysDate', y='RecordCount', color='r', linewidth=2.0); \n",
    "    plt.title('AppData: DIM_EducatorSearch') \n",
    "    plt.xlabel('TodaysDate', fontsize=12) \n",
    "    plt.ylabel('RecordCount', fontsize=12) \n",
    "    plt.xticks(rotation=90) \n",
    "    plt.tight_layout()\n",
    "    fig1 = plt.gcf()\n",
    "    plt.draw()\n",
    "    time.sleep(1)\n",
    "    pdf.savefig()  # saves the current figure into a pdf page \n",
    "    plt.close()\n",
    "\n",
    "    appdata044 = df2.loc[df2['TableName']=='DIM_Employee'] \n",
    "    plt.figure(); \n",
    "    appdata044.plot(x='TodaysDate', y='RecordCount', color='r', linewidth=2.0); \n",
    "    plt.title('AppData: DIM_Employee') \n",
    "    plt.xlabel('TodaysDate', fontsize=12) \n",
    "    plt.ylabel('RecordCount', fontsize=12) \n",
    "    plt.xticks(rotation=90) \n",
    "    plt.tight_layout()\n",
    "    fig1 = plt.gcf()\n",
    "    plt.draw()\n",
    "    time.sleep(1)\n",
    "    pdf.savefig()  # saves the current figure into a pdf page \n",
    "    plt.close()\n",
    "\n",
    "    appdata045 = df2.loc[df2['TableName']=='DIM_JobCode'] \n",
    "    plt.figure(); \n",
    "    appdata045.plot(x='TodaysDate', y='RecordCount', color='r', linewidth=2.0); \n",
    "    plt.title('AppData: DIM_JobCode') \n",
    "    plt.xlabel('TodaysDate', fontsize=12) \n",
    "    plt.ylabel('RecordCount', fontsize=12) \n",
    "    plt.xticks(rotation=90) \n",
    "    plt.tight_layout()\n",
    "    fig1 = plt.gcf()\n",
    "    plt.draw()\n",
    "    time.sleep(1)\n",
    "    pdf.savefig()  # saves the current figure into a pdf page \n",
    "    plt.close()\n",
    "\n",
    "    appdata046 = df2.loc[df2['TableName']=='DIM_Location'] \n",
    "    plt.figure(); \n",
    "    appdata046.plot(x='TodaysDate', y='RecordCount', color='r', linewidth=2.0); \n",
    "    plt.title('AppData: DIM_Location') \n",
    "    plt.xlabel('TodaysDate', fontsize=12) \n",
    "    plt.ylabel('RecordCount', fontsize=12) \n",
    "    plt.xticks(rotation=90) \n",
    "    plt.tight_layout()\n",
    "    fig1 = plt.gcf()\n",
    "    plt.draw()\n",
    "    time.sleep(1)\n",
    "    pdf.savefig()  # saves the current figure into a pdf page \n",
    "    plt.close()\n",
    "\n",
    "    appdata047 = df2.loc[df2['TableName']=='DIM_PathwaySpecs'] \n",
    "    plt.figure(); \n",
    "    appdata047.plot(x='TodaysDate', y='RecordCount', color='r', linewidth=2.0); \n",
    "    plt.title('AppData: DIM_PathwaySpecs') \n",
    "    plt.xlabel('TodaysDate', fontsize=12) \n",
    "    plt.ylabel('RecordCount', fontsize=12) \n",
    "    plt.xticks(rotation=90) \n",
    "    plt.tight_layout()\n",
    "    fig1 = plt.gcf()\n",
    "    plt.draw()\n",
    "    time.sleep(1)\n",
    "    pdf.savefig()  # saves the current figure into a pdf page \n",
    "    plt.close()\n",
    "\n",
    "    appdata048 = df2.loc[df2['TableName']=='DIM_School'] \n",
    "    plt.figure(); \n",
    "    appdata048.plot(x='TodaysDate', y='RecordCount', color='r', linewidth=2.0); \n",
    "    plt.title('AppData: DIM_School') \n",
    "    plt.xlabel('TodaysDate', fontsize=12) \n",
    "    plt.ylabel('RecordCount', fontsize=12) \n",
    "    plt.xticks(rotation=90) \n",
    "    plt.tight_layout()\n",
    "    fig1 = plt.gcf()\n",
    "    plt.draw()\n",
    "    time.sleep(1)\n",
    "    pdf.savefig()  # saves the current figure into a pdf page \n",
    "    plt.close()\n",
    "\n",
    "    appdata049 = df2.loc[df2['TableName']=='DIM_ServiceProgramDefinition'] \n",
    "    plt.figure(); \n",
    "    appdata049.plot(x='TodaysDate', y='RecordCount', color='r', linewidth=2.0); \n",
    "    plt.title('AppData: DIM_ServiceProgramDefinition') \n",
    "    plt.xlabel('TodaysDate', fontsize=12) \n",
    "    plt.ylabel('RecordCount', fontsize=12) \n",
    "    plt.xticks(rotation=90) \n",
    "    plt.tight_layout()\n",
    "    fig1 = plt.gcf()\n",
    "    plt.draw()\n",
    "    time.sleep(1)\n",
    "    pdf.savefig()  # saves the current figure into a pdf page \n",
    "    plt.close()\n",
    "\n",
    "    appdata050 = df2.loc[df2['TableName']=='DIM_Student'] \n",
    "    plt.figure(); \n",
    "    appdata050.plot(x='TodaysDate', y='RecordCount', color='r', linewidth=2.0); \n",
    "    plt.title('AppData: DIM_Student') \n",
    "    plt.xlabel('TodaysDate', fontsize=12) \n",
    "    plt.ylabel('RecordCount', fontsize=12) \n",
    "    plt.xticks(rotation=90) \n",
    "    plt.tight_layout()\n",
    "    fig1 = plt.gcf()\n",
    "    plt.draw()\n",
    "    time.sleep(1)\n",
    "    pdf.savefig()  # saves the current figure into a pdf page \n",
    "    plt.close()\n",
    "\n",
    "    appdata051 = df2.loc[df2['TableName']=='DIM_StudentDistrictDetail'] \n",
    "    plt.figure(); \n",
    "    appdata051.plot(x='TodaysDate', y='RecordCount', color='r', linewidth=2.0); \n",
    "    plt.title('AppData: DIM_StudentDistrictDetail') \n",
    "    plt.xlabel('TodaysDate', fontsize=12) \n",
    "    plt.ylabel('RecordCount', fontsize=12) \n",
    "    plt.xticks(rotation=90) \n",
    "    plt.tight_layout()\n",
    "    fig1 = plt.gcf()\n",
    "    plt.draw()\n",
    "    time.sleep(1)\n",
    "    pdf.savefig()  # saves the current figure into a pdf page \n",
    "    plt.close()\n",
    "\n",
    "    appdata052 = df2.loc[df2['TableName']=='DIM_StudentEmail'] \n",
    "    plt.figure(); \n",
    "    appdata052.plot(x='TodaysDate', y='RecordCount', color='r', linewidth=2.0); \n",
    "    plt.title('AppData: DIM_StudentEmail') \n",
    "    plt.xlabel('TodaysDate', fontsize=12) \n",
    "    plt.ylabel('RecordCount', fontsize=12) \n",
    "    plt.xticks(rotation=90) \n",
    "    plt.tight_layout()\n",
    "    fig1 = plt.gcf()\n",
    "    plt.draw()\n",
    "    time.sleep(1)\n",
    "    pdf.savefig()  # saves the current figure into a pdf page \n",
    "    plt.close()\n",
    "\n",
    "    appdata053 = df2.loc[df2['TableName']=='DIM_StudentNext'] \n",
    "    plt.figure(); \n",
    "    appdata053.plot(x='TodaysDate', y='RecordCount', color='r', linewidth=2.0); \n",
    "    plt.title('AppData: DIM_StudentNext') \n",
    "    plt.xlabel('TodaysDate', fontsize=12) \n",
    "    plt.ylabel('RecordCount', fontsize=12) \n",
    "    plt.xticks(rotation=90) \n",
    "    plt.tight_layout()\n",
    "    fig1 = plt.gcf()\n",
    "    plt.draw()\n",
    "    time.sleep(1)\n",
    "    pdf.savefig()  # saves the current figure into a pdf page \n",
    "    plt.close()\n",
    "\n",
    "    appdata054 = df2.loc[df2['TableName']=='DIM_StudentPicture'] \n",
    "    plt.figure(); \n",
    "    appdata054.plot(x='TodaysDate', y='RecordCount', color='r', linewidth=2.0); \n",
    "    plt.title('AppData: DIM_StudentPicture') \n",
    "    plt.xlabel('TodaysDate', fontsize=12) \n",
    "    plt.ylabel('RecordCount', fontsize=12) \n",
    "    plt.xticks(rotation=90) \n",
    "    plt.tight_layout()\n",
    "    fig1 = plt.gcf()\n",
    "    plt.draw()\n",
    "    time.sleep(1)\n",
    "    pdf.savefig()  # saves the current figure into a pdf page \n",
    "    plt.close()\n",
    "\n",
    "    appdata055 = df2.loc[df2['TableName']=='DIM_StudentSearch'] \n",
    "    plt.figure(); \n",
    "    appdata055.plot(x='TodaysDate', y='RecordCount', color='r', linewidth=2.0); \n",
    "    plt.title('AppData: DIM_StudentSearch') \n",
    "    plt.xlabel('TodaysDate', fontsize=12) \n",
    "    plt.ylabel('RecordCount', fontsize=12) \n",
    "    plt.xticks(rotation=90) \n",
    "    plt.tight_layout()\n",
    "    fig1 = plt.gcf()\n",
    "    plt.draw()\n",
    "    time.sleep(1)\n",
    "    pdf.savefig()  # saves the current figure into a pdf page \n",
    "    plt.close()\n",
    "\n",
    "    appdata056 = df2.loc[df2['TableName']=='DIM_Term'] \n",
    "    plt.figure(); \n",
    "    appdata056.plot(x='TodaysDate', y='RecordCount', color='r', linewidth=2.0); \n",
    "    plt.title('AppData: DIM_Term') \n",
    "    plt.xlabel('TodaysDate', fontsize=12) \n",
    "    plt.ylabel('RecordCount', fontsize=12) \n",
    "    plt.xticks(rotation=90) \n",
    "    plt.tight_layout()\n",
    "    fig1 = plt.gcf()\n",
    "    plt.draw()\n",
    "    time.sleep(1)\n",
    "    pdf.savefig()  # saves the current figure into a pdf page \n",
    "    plt.close()\n",
    "\n",
    "    appdata057 = df2.loc[df2['TableName']=='DisplayTableMap'] \n",
    "    plt.figure(); \n",
    "    appdata057.plot(x='TodaysDate', y='RecordCount', color='r', linewidth=2.0); \n",
    "    plt.title('AppData: DisplayTableMap') \n",
    "    plt.xlabel('TodaysDate', fontsize=12) \n",
    "    plt.ylabel('RecordCount', fontsize=12) \n",
    "    plt.xticks(rotation=90) \n",
    "    plt.tight_layout()\n",
    "    fig1 = plt.gcf()\n",
    "    plt.draw()\n",
    "    time.sleep(1)\n",
    "    pdf.savefig()  # saves the current figure into a pdf page \n",
    "    plt.close()\n",
    "\n",
    "    appdata058 = df2.loc[df2['TableName']=='EdLevelDemogrSummary'] \n",
    "    plt.figure(); \n",
    "    appdata058.plot(x='TodaysDate', y='RecordCount', color='r', linewidth=2.0); \n",
    "    plt.title('AppData: EdLevelDemogrSummary') \n",
    "    plt.xlabel('TodaysDate', fontsize=12) \n",
    "    plt.ylabel('RecordCount', fontsize=12) \n",
    "    plt.xticks(rotation=90) \n",
    "    plt.tight_layout()\n",
    "    fig1 = plt.gcf()\n",
    "    plt.draw()\n",
    "    time.sleep(1)\n",
    "    pdf.savefig()  # saves the current figure into a pdf page \n",
    "    plt.close()\n",
    "\n",
    "    appdata059 = df2.loc[df2['TableName']=='EdLevelProfile'] \n",
    "    plt.figure(); \n",
    "    appdata059.plot(x='TodaysDate', y='RecordCount', color='r', linewidth=2.0); \n",
    "    plt.title('AppData: EdLevelProfile') \n",
    "    plt.xlabel('TodaysDate', fontsize=12) \n",
    "    plt.ylabel('RecordCount', fontsize=12) \n",
    "    plt.xticks(rotation=90) \n",
    "    plt.tight_layout()\n",
    "    fig1 = plt.gcf()\n",
    "    plt.draw()\n",
    "    time.sleep(1)\n",
    "    pdf.savefig()  # saves the current figure into a pdf page \n",
    "    plt.close()\n",
    "\n",
    "    appdata060 = df2.loc[df2['TableName']=='ElectionType'] \n",
    "    plt.figure(); \n",
    "    appdata060.plot(x='TodaysDate', y='RecordCount', color='r', linewidth=2.0); \n",
    "    plt.title('AppData: ElectionType') \n",
    "    plt.xlabel('TodaysDate', fontsize=12) \n",
    "    plt.ylabel('RecordCount', fontsize=12) \n",
    "    plt.xticks(rotation=90) \n",
    "    plt.tight_layout()\n",
    "    fig1 = plt.gcf()\n",
    "    plt.draw()\n",
    "    time.sleep(1)\n",
    "    pdf.savefig()  # saves the current figure into a pdf page \n",
    "    plt.close()\n",
    "\n",
    "    appdata061 = df2.loc[df2['TableName']=='EnvSettings'] \n",
    "    plt.figure(); \n",
    "    appdata061.plot(x='TodaysDate', y='RecordCount', color='r', linewidth=2.0); \n",
    "    plt.title('AppData: EnvSettings') \n",
    "    plt.xlabel('TodaysDate', fontsize=12) \n",
    "    plt.ylabel('RecordCount', fontsize=12) \n",
    "    plt.xticks(rotation=90) \n",
    "    plt.tight_layout()\n",
    "    fig1 = plt.gcf()\n",
    "    plt.draw()\n",
    "    time.sleep(1)\n",
    "    pdf.savefig()  # saves the current figure into a pdf page \n",
    "    plt.close()\n",
    "\n",
    "    appdata062 = df2.loc[df2['TableName']=='ESOL_SP'] \n",
    "    plt.figure(); \n",
    "    appdata062.plot(x='TodaysDate', y='RecordCount', color='r', linewidth=2.0); \n",
    "    plt.title('AppData: ESOL_SP') \n",
    "    plt.xlabel('TodaysDate', fontsize=12) \n",
    "    plt.ylabel('RecordCount', fontsize=12) \n",
    "    plt.xticks(rotation=90) \n",
    "    plt.tight_layout()\n",
    "    fig1 = plt.gcf()\n",
    "    plt.draw()\n",
    "    time.sleep(1)\n",
    "    pdf.savefig()  # saves the current figure into a pdf page \n",
    "    plt.close()\n",
    "\n",
    "    appdata063 = df2.loc[df2['TableName']=='FACT_A504'] \n",
    "    plt.figure(); \n",
    "    appdata063.plot(x='TodaysDate', y='RecordCount', color='r', linewidth=2.0); \n",
    "    plt.title('AppData: FACT_A504') \n",
    "    plt.xlabel('TodaysDate', fontsize=12) \n",
    "    plt.ylabel('RecordCount', fontsize=12) \n",
    "    plt.xticks(rotation=90) \n",
    "    plt.tight_layout()\n",
    "    fig1 = plt.gcf()\n",
    "    plt.draw()\n",
    "    time.sleep(1)\n",
    "    pdf.savefig()  # saves the current figure into a pdf page \n",
    "    plt.close()\n",
    "\n",
    "    appdata064 = df2.loc[df2['TableName']=='FACT_AcademicContract'] \n",
    "    plt.figure(); \n",
    "    appdata064.plot(x='TodaysDate', y='RecordCount', color='r', linewidth=2.0); \n",
    "    plt.title('AppData: FACT_AcademicContract') \n",
    "    plt.xlabel('TodaysDate', fontsize=12) \n",
    "    plt.ylabel('RecordCount', fontsize=12) \n",
    "    plt.xticks(rotation=90) \n",
    "    plt.tight_layout()\n",
    "    fig1 = plt.gcf()\n",
    "    plt.draw()\n",
    "    time.sleep(1)\n",
    "    pdf.savefig()  # saves the current figure into a pdf page \n",
    "    plt.close()\n",
    "\n",
    "    appdata065 = df2.loc[df2['TableName']=='FACT_AlternateTransportation'] \n",
    "    plt.figure(); \n",
    "    appdata065.plot(x='TodaysDate', y='RecordCount', color='r', linewidth=2.0); \n",
    "    plt.title('AppData: FACT_AlternateTransportation') \n",
    "    plt.xlabel('TodaysDate', fontsize=12) \n",
    "    plt.ylabel('RecordCount', fontsize=12) \n",
    "    plt.xticks(rotation=90) \n",
    "    plt.tight_layout()\n",
    "    fig1 = plt.gcf()\n",
    "    plt.draw()\n",
    "    time.sleep(1)\n",
    "    pdf.savefig()  # saves the current figure into a pdf page \n",
    "    plt.close()\n",
    "\n",
    "    appdata066 = df2.loc[df2['TableName']=='FACT_Assessment'] \n",
    "    plt.figure(); \n",
    "    appdata066.plot(x='TodaysDate', y='RecordCount', color='r', linewidth=2.0); \n",
    "    plt.title('AppData: FACT_Assessment') \n",
    "    plt.xlabel('TodaysDate', fontsize=12) \n",
    "    plt.ylabel('RecordCount', fontsize=12) \n",
    "    plt.xticks(rotation=90) \n",
    "    plt.tight_layout()\n",
    "    fig1 = plt.gcf()\n",
    "    plt.draw()\n",
    "    time.sleep(1)\n",
    "    pdf.savefig()  # saves the current figure into a pdf page \n",
    "    plt.close()\n",
    "\n",
    "    appdata067 = df2.loc[df2['TableName']=='FACT_AttendanceByPeriod'] \n",
    "    plt.figure(); \n",
    "    appdata067.plot(x='TodaysDate', y='RecordCount', color='r', linewidth=2.0); \n",
    "    plt.title('AppData: FACT_AttendanceByPeriod') \n",
    "    plt.xlabel('TodaysDate', fontsize=12) \n",
    "    plt.ylabel('RecordCount', fontsize=12) \n",
    "    plt.xticks(rotation=90) \n",
    "    plt.tight_layout()\n",
    "    fig1 = plt.gcf()\n",
    "    plt.draw()\n",
    "    time.sleep(1)\n",
    "    pdf.savefig()  # saves the current figure into a pdf page \n",
    "    plt.close()\n",
    "\n",
    "    appdata068 = df2.loc[df2['TableName']=='FACT_AttendanceByType'] \n",
    "    plt.figure(); \n",
    "    appdata068.plot(x='TodaysDate', y='RecordCount', color='r', linewidth=2.0); \n",
    "    plt.title('AppData: FACT_AttendanceByType') \n",
    "    plt.xlabel('TodaysDate', fontsize=12) \n",
    "    plt.ylabel('RecordCount', fontsize=12) \n",
    "    plt.xticks(rotation=90) \n",
    "    plt.tight_layout()\n",
    "    fig1 = plt.gcf()\n",
    "    plt.draw()\n",
    "    time.sleep(1)\n",
    "    pdf.savefig()  # saves the current figure into a pdf page \n",
    "    plt.close()\n",
    "\n",
    "    appdata069 = df2.loc[df2['TableName']=='FACT_AttendanceDaily'] \n",
    "    plt.figure(); \n",
    "    appdata069.plot(x='TodaysDate', y='RecordCount', color='r', linewidth=2.0); \n",
    "    plt.title('AppData: FACT_AttendanceDaily') \n",
    "    plt.xlabel('TodaysDate', fontsize=12) \n",
    "    plt.ylabel('RecordCount', fontsize=12) \n",
    "    plt.xticks(rotation=90) \n",
    "    plt.tight_layout()\n",
    "    fig1 = plt.gcf()\n",
    "    plt.draw()\n",
    "    time.sleep(1)\n",
    "    pdf.savefig()  # saves the current figure into a pdf page \n",
    "    plt.close()\n",
    "\n",
    "    appdata070 = df2.loc[df2['TableName']=='FACT_AttendanceDaily_History'] \n",
    "    plt.figure(); \n",
    "    appdata070.plot(x='TodaysDate', y='RecordCount', color='r', linewidth=2.0); \n",
    "    plt.title('AppData: FACT_AttendanceDaily_History') \n",
    "    plt.xlabel('TodaysDate', fontsize=12) \n",
    "    plt.ylabel('RecordCount', fontsize=12) \n",
    "    plt.xticks(rotation=90) \n",
    "    plt.tight_layout()\n",
    "    fig1 = plt.gcf()\n",
    "    plt.draw()\n",
    "    time.sleep(1)\n",
    "    pdf.savefig()  # saves the current figure into a pdf page \n",
    "    plt.close()\n",
    "\n",
    "    appdata071 = df2.loc[df2['TableName']=='FACT_BookFines'] \n",
    "    plt.figure(); \n",
    "    appdata071.plot(x='TodaysDate', y='RecordCount', color='r', linewidth=2.0); \n",
    "    plt.title('AppData: FACT_BookFines') \n",
    "    plt.xlabel('TodaysDate', fontsize=12) \n",
    "    plt.ylabel('RecordCount', fontsize=12) \n",
    "    plt.xticks(rotation=90) \n",
    "    plt.tight_layout()\n",
    "    fig1 = plt.gcf()\n",
    "    plt.draw()\n",
    "    time.sleep(1)\n",
    "    pdf.savefig()  # saves the current figure into a pdf page \n",
    "    plt.close()\n",
    "\n",
    "    appdata072 = df2.loc[df2['TableName']=='FACT_Books'] \n",
    "    plt.figure(); \n",
    "    appdata072.plot(x='TodaysDate', y='RecordCount', color='r', linewidth=2.0); \n",
    "    plt.title('AppData: FACT_Books') \n",
    "    plt.xlabel('TodaysDate', fontsize=12) \n",
    "    plt.ylabel('RecordCount', fontsize=12) \n",
    "    plt.xticks(rotation=90) \n",
    "    plt.tight_layout()\n",
    "    fig1 = plt.gcf()\n",
    "    plt.draw()\n",
    "    time.sleep(1)\n",
    "    pdf.savefig()  # saves the current figure into a pdf page \n",
    "    plt.close()\n",
    "\n",
    "    appdata073 = df2.loc[df2['TableName']=='FACT_BusRoute'] \n",
    "    plt.figure(); \n",
    "    appdata073.plot(x='TodaysDate', y='RecordCount', color='r', linewidth=2.0); \n",
    "    plt.title('AppData: FACT_BusRoute') \n",
    "    plt.xlabel('TodaysDate', fontsize=12) \n",
    "    plt.ylabel('RecordCount', fontsize=12) \n",
    "    plt.xticks(rotation=90) \n",
    "    plt.tight_layout()\n",
    "    fig1 = plt.gcf()\n",
    "    plt.draw()\n",
    "    time.sleep(1)\n",
    "    pdf.savefig()  # saves the current figure into a pdf page \n",
    "    plt.close()\n",
    "\n",
    "    appdata074 = df2.loc[df2['TableName']=='FACT_Cafeteria'] \n",
    "    plt.figure(); \n",
    "    appdata074.plot(x='TodaysDate', y='RecordCount', color='r', linewidth=2.0); \n",
    "    plt.title('AppData: FACT_Cafeteria') \n",
    "    plt.xlabel('TodaysDate', fontsize=12) \n",
    "    plt.ylabel('RecordCount', fontsize=12) \n",
    "    plt.xticks(rotation=90) \n",
    "    plt.tight_layout()\n",
    "    fig1 = plt.gcf()\n",
    "    plt.draw()\n",
    "    time.sleep(1)\n",
    "    pdf.savefig()  # saves the current figure into a pdf page \n",
    "    plt.close()\n",
    "\n",
    "    appdata075 = df2.loc[df2['TableName']=='FACT_CCRPI'] \n",
    "    plt.figure(); \n",
    "    appdata075.plot(x='TodaysDate', y='RecordCount', color='r', linewidth=2.0); \n",
    "    plt.title('AppData: FACT_CCRPI') \n",
    "    plt.xlabel('TodaysDate', fontsize=12) \n",
    "    plt.ylabel('RecordCount', fontsize=12) \n",
    "    plt.xticks(rotation=90) \n",
    "    plt.tight_layout()\n",
    "    fig1 = plt.gcf()\n",
    "    plt.draw()\n",
    "    time.sleep(1)\n",
    "    pdf.savefig()  # saves the current figure into a pdf page \n",
    "    plt.close()\n",
    "\n",
    "    appdata076 = df2.loc[df2['TableName']=='FACT_CheckInCheckOutDetail'] \n",
    "    plt.figure(); \n",
    "    appdata076.plot(x='TodaysDate', y='RecordCount', color='r', linewidth=2.0); \n",
    "    plt.title('AppData: FACT_CheckInCheckOutDetail') \n",
    "    plt.xlabel('TodaysDate', fontsize=12) \n",
    "    plt.ylabel('RecordCount', fontsize=12) \n",
    "    plt.xticks(rotation=90) \n",
    "    plt.tight_layout()\n",
    "    fig1 = plt.gcf()\n",
    "    plt.draw()\n",
    "    time.sleep(1)\n",
    "    pdf.savefig()  # saves the current figure into a pdf page \n",
    "    plt.close()\n",
    "\n",
    "    appdata077 = df2.loc[df2['TableName']=='FACT_ClinicVisit'] \n",
    "    plt.figure(); \n",
    "    appdata077.plot(x='TodaysDate', y='RecordCount', color='r', linewidth=2.0); \n",
    "    plt.title('AppData: FACT_ClinicVisit') \n",
    "    plt.xlabel('TodaysDate', fontsize=12) \n",
    "    plt.ylabel('RecordCount', fontsize=12) \n",
    "    plt.xticks(rotation=90) \n",
    "    plt.tight_layout()\n",
    "    fig1 = plt.gcf()\n",
    "    plt.draw()\n",
    "    time.sleep(1)\n",
    "    pdf.savefig()  # saves the current figure into a pdf page \n",
    "    plt.close()\n",
    "\n",
    "    appdata078 = df2.loc[df2['TableName']=='FACT_CourseHistoryDetails'] \n",
    "    plt.figure(); \n",
    "    appdata078.plot(x='TodaysDate', y='RecordCount', color='r', linewidth=2.0); \n",
    "    plt.title('AppData: FACT_CourseHistoryDetails') \n",
    "    plt.xlabel('TodaysDate', fontsize=12) \n",
    "    plt.ylabel('RecordCount', fontsize=12) \n",
    "    plt.xticks(rotation=90) \n",
    "    plt.tight_layout()\n",
    "    fig1 = plt.gcf()\n",
    "    plt.draw()\n",
    "    time.sleep(1)\n",
    "    pdf.savefig()  # saves the current figure into a pdf page \n",
    "    plt.close()\n",
    "\n",
    "    appdata079 = df2.loc[df2['TableName']=='FACT_CurrentLetterScore'] \n",
    "    plt.figure(); \n",
    "    appdata079.plot(x='TodaysDate', y='RecordCount', color='r', linewidth=2.0); \n",
    "    plt.title('AppData: FACT_CurrentLetterScore') \n",
    "    plt.xlabel('TodaysDate', fontsize=12) \n",
    "    plt.ylabel('RecordCount', fontsize=12) \n",
    "    plt.xticks(rotation=90) \n",
    "    plt.tight_layout()\n",
    "    fig1 = plt.gcf()\n",
    "    plt.draw()\n",
    "    time.sleep(1)\n",
    "    pdf.savefig()  # saves the current figure into a pdf page \n",
    "    plt.close()\n",
    "\n",
    "    appdata080 = df2.loc[df2['TableName']=='FACT_DisciplineIncident'] \n",
    "    plt.figure(); \n",
    "    appdata080.plot(x='TodaysDate', y='RecordCount', color='r', linewidth=2.0); \n",
    "    plt.title('AppData: FACT_DisciplineIncident') \n",
    "    plt.xlabel('TodaysDate', fontsize=12) \n",
    "    plt.ylabel('RecordCount', fontsize=12) \n",
    "    plt.xticks(rotation=90) \n",
    "    plt.tight_layout()\n",
    "    fig1 = plt.gcf()\n",
    "    plt.draw()\n",
    "    time.sleep(1)\n",
    "    pdf.savefig()  # saves the current figure into a pdf page \n",
    "    plt.close()\n",
    "\n",
    "    appdata081 = df2.loc[df2['TableName']=='FACT_DisciplineTotal'] \n",
    "    plt.figure(); \n",
    "    appdata081.plot(x='TodaysDate', y='RecordCount', color='r', linewidth=2.0); \n",
    "    plt.title('AppData: FACT_DisciplineTotal') \n",
    "    plt.xlabel('TodaysDate', fontsize=12) \n",
    "    plt.ylabel('RecordCount', fontsize=12) \n",
    "    plt.xticks(rotation=90) \n",
    "    plt.tight_layout()\n",
    "    fig1 = plt.gcf()\n",
    "    plt.draw()\n",
    "    time.sleep(1)\n",
    "    pdf.savefig()  # saves the current figure into a pdf page \n",
    "    plt.close()\n",
    "\n",
    "    appdata082 = df2.loc[df2['TableName']=='FACT_DistrictCourseMetrics'] \n",
    "    plt.figure(); \n",
    "    appdata082.plot(x='TodaysDate', y='RecordCount', color='r', linewidth=2.0); \n",
    "    plt.title('AppData: FACT_DistrictCourseMetrics') \n",
    "    plt.xlabel('TodaysDate', fontsize=12) \n",
    "    plt.ylabel('RecordCount', fontsize=12) \n",
    "    plt.xticks(rotation=90) \n",
    "    plt.tight_layout()\n",
    "    fig1 = plt.gcf()\n",
    "    plt.draw()\n",
    "    time.sleep(1)\n",
    "    pdf.savefig()  # saves the current figure into a pdf page \n",
    "    plt.close()\n",
    "\n",
    "    appdata083 = df2.loc[df2['TableName']=='FACT_EducatorClass'] \n",
    "    plt.figure(); \n",
    "    appdata083.plot(x='TodaysDate', y='RecordCount', color='r', linewidth=2.0); \n",
    "    plt.title('AppData: FACT_EducatorClass') \n",
    "    plt.xlabel('TodaysDate', fontsize=12) \n",
    "    plt.ylabel('RecordCount', fontsize=12) \n",
    "    plt.xticks(rotation=90) \n",
    "    plt.tight_layout()\n",
    "    fig1 = plt.gcf()\n",
    "    plt.draw()\n",
    "    time.sleep(1)\n",
    "    pdf.savefig()  # saves the current figure into a pdf page \n",
    "    plt.close()\n",
    "\n",
    "    appdata084 = df2.loc[df2['TableName']=='FACT_EducatorClassMetrics'] \n",
    "    plt.figure(); \n",
    "    appdata084.plot(x='TodaysDate', y='RecordCount', color='r', linewidth=2.0); \n",
    "    plt.title('AppData: FACT_EducatorClassMetrics') \n",
    "    plt.xlabel('TodaysDate', fontsize=12) \n",
    "    plt.ylabel('RecordCount', fontsize=12) \n",
    "    plt.xticks(rotation=90) \n",
    "    plt.tight_layout()\n",
    "    fig1 = plt.gcf()\n",
    "    plt.draw()\n",
    "    time.sleep(1)\n",
    "    pdf.savefig()  # saves the current figure into a pdf page \n",
    "    plt.close()\n",
    "\n",
    "    appdata085 = df2.loc[df2['TableName']=='FACT_EmergencyContact'] \n",
    "    plt.figure(); \n",
    "    appdata085.plot(x='TodaysDate', y='RecordCount', color='r', linewidth=2.0); \n",
    "    plt.title('AppData: FACT_EmergencyContact') \n",
    "    plt.xlabel('TodaysDate', fontsize=12) \n",
    "    plt.ylabel('RecordCount', fontsize=12) \n",
    "    plt.xticks(rotation=90) \n",
    "    plt.tight_layout()\n",
    "    fig1 = plt.gcf()\n",
    "    plt.draw()\n",
    "    time.sleep(1)\n",
    "    pdf.savefig()  # saves the current figure into a pdf page \n",
    "    plt.close()\n",
    "\n",
    "    appdata086 = df2.loc[df2['TableName']=='FACT_Enrollment'] \n",
    "    plt.figure(); \n",
    "    appdata086.plot(x='TodaysDate', y='RecordCount', color='r', linewidth=2.0); \n",
    "    plt.title('AppData: FACT_Enrollment') \n",
    "    plt.xlabel('TodaysDate', fontsize=12) \n",
    "    plt.ylabel('RecordCount', fontsize=12) \n",
    "    plt.xticks(rotation=90) \n",
    "    plt.tight_layout()\n",
    "    fig1 = plt.gcf()\n",
    "    plt.draw()\n",
    "    time.sleep(1)\n",
    "    pdf.savefig()  # saves the current figure into a pdf page \n",
    "    plt.close()\n",
    "\n",
    "    appdata087 = df2.loc[df2['TableName']=='FACT_EnrollmentHistory'] \n",
    "    plt.figure(); \n",
    "    appdata087.plot(x='TodaysDate', y='RecordCount', color='r', linewidth=2.0); \n",
    "    plt.title('AppData: FACT_EnrollmentHistory') \n",
    "    plt.xlabel('TodaysDate', fontsize=12) \n",
    "    plt.ylabel('RecordCount', fontsize=12) \n",
    "    plt.xticks(rotation=90) \n",
    "    plt.tight_layout()\n",
    "    fig1 = plt.gcf()\n",
    "    plt.draw()\n",
    "    time.sleep(1)\n",
    "    pdf.savefig()  # saves the current figure into a pdf page \n",
    "    plt.close()\n",
    "\n",
    "    appdata088 = df2.loc[df2['TableName']=='FACT_Fees'] \n",
    "    plt.figure(); \n",
    "    appdata088.plot(x='TodaysDate', y='RecordCount', color='r', linewidth=2.0); \n",
    "    plt.title('AppData: FACT_Fees') \n",
    "    plt.xlabel('TodaysDate', fontsize=12) \n",
    "    plt.ylabel('RecordCount', fontsize=12) \n",
    "    plt.xticks(rotation=90) \n",
    "    plt.tight_layout()\n",
    "    fig1 = plt.gcf()\n",
    "    plt.draw()\n",
    "    time.sleep(1)\n",
    "    pdf.savefig()  # saves the current figure into a pdf page \n",
    "    plt.close()\n",
    "\n",
    "    appdata089 = df2.loc[df2['TableName']=='FACT_GraduationAssessment'] \n",
    "    plt.figure(); \n",
    "    appdata089.plot(x='TodaysDate', y='RecordCount', color='r', linewidth=2.0); \n",
    "    plt.title('AppData: FACT_GraduationAssessment') \n",
    "    plt.xlabel('TodaysDate', fontsize=12) \n",
    "    plt.ylabel('RecordCount', fontsize=12) \n",
    "    plt.xticks(rotation=90) \n",
    "    plt.tight_layout()\n",
    "    fig1 = plt.gcf()\n",
    "    plt.draw() \n",
    "    time.sleep(1)\n",
    "    pdf.savefig()  # saves the current figure into a pdf page \n",
    "    plt.close()\n",
    "\n",
    "    appdata090 = df2.loc[df2['TableName']=='FACT_Guardian'] \n",
    "    plt.figure(); \n",
    "    appdata090.plot(x='TodaysDate', y='RecordCount', color='r', linewidth=2.0); \n",
    "    plt.title('AppData: FACT_Guardian') \n",
    "    plt.xlabel('TodaysDate', fontsize=12) \n",
    "    plt.ylabel('RecordCount', fontsize=12) \n",
    "    plt.xticks(rotation=90) \n",
    "    plt.tight_layout()\n",
    "    fig1 = plt.gcf()\n",
    "    plt.draw()\n",
    "    time.sleep(1)\n",
    "    pdf.savefig()  # saves the current figure into a pdf page \n",
    "    plt.close()\n",
    "\n",
    "    appdata091 = df2.loc[df2['TableName']=='FACT_IEPExport'] \n",
    "    plt.figure(); \n",
    "    appdata091.plot(x='TodaysDate', y='RecordCount', color='r', linewidth=2.0); \n",
    "    plt.title('AppData: FACT_IEPExport') \n",
    "    plt.xlabel('TodaysDate', fontsize=12) \n",
    "    plt.ylabel('RecordCount', fontsize=12) \n",
    "    plt.xticks(rotation=90) \n",
    "    plt.tight_layout()\n",
    "    fig1 = plt.gcf()\n",
    "    plt.draw() \n",
    "    time.sleep(1)\n",
    "    pdf.savefig()  # saves the current figure into a pdf page \n",
    "    plt.close()\n",
    "\n",
    "    appdata092 = df2.loc[df2['TableName']=='FACT_MedicalAlert'] \n",
    "    plt.figure(); \n",
    "    appdata092.plot(x='TodaysDate', y='RecordCount', color='r', linewidth=2.0); \n",
    "    plt.title('AppData: FACT_MedicalAlert') \n",
    "    plt.xlabel('TodaysDate', fontsize=12) \n",
    "    plt.ylabel('RecordCount', fontsize=12) \n",
    "    plt.xticks(rotation=90) \n",
    "    plt.tight_layout()\n",
    "    fig1 = plt.gcf()\n",
    "    plt.draw()\n",
    "    time.sleep(1)\n",
    "    pdf.savefig()  # saves the current figure into a pdf page \n",
    "    plt.close()\n",
    "\n",
    "    appdata093 = df2.loc[df2['TableName']=='FACT_PPortal_LastLogin'] \n",
    "    plt.figure(); \n",
    "    appdata093.plot(x='TodaysDate', y='RecordCount', color='r', linewidth=2.0); \n",
    "    plt.title('AppData: FACT_PPortal_LastLogin') \n",
    "    plt.xlabel('TodaysDate', fontsize=12) \n",
    "    plt.ylabel('RecordCount', fontsize=12) \n",
    "    plt.xticks(rotation=90) \n",
    "    plt.tight_layout()\n",
    "    fig1 = plt.gcf()\n",
    "    plt.draw()\n",
    "    time.sleep(1)\n",
    "    pdf.savefig()  # saves the current figure into a pdf page \n",
    "    plt.close()\n",
    "\n",
    "    appdata094 = df2.loc[df2['TableName']=='FACT_SEI'] \n",
    "    plt.figure(); \n",
    "    appdata094.plot(x='TodaysDate', y='RecordCount', color='r', linewidth=2.0); \n",
    "    plt.title('AppData: FACT_SEI') \n",
    "    plt.xlabel('TodaysDate', fontsize=12) \n",
    "    plt.ylabel('RecordCount', fontsize=12) \n",
    "    plt.xticks(rotation=90) \n",
    "    plt.tight_layout()\n",
    "    fig1 = plt.gcf()\n",
    "    plt.draw()\n",
    "    time.sleep(1)\n",
    "    pdf.savefig()  # saves the current figure into a pdf page \n",
    "    plt.close()\n",
    "\n",
    "    appdata095 = df2.loc[df2['TableName']=='FACT_ServiceProgramParticipation'] \n",
    "    plt.figure(); \n",
    "    appdata095.plot(x='TodaysDate', y='RecordCount', color='r', linewidth=2.0); \n",
    "    plt.title('AppData: FACT_ServiceProgramParticipation') \n",
    "    plt.xlabel('TodaysDate', fontsize=12) \n",
    "    plt.ylabel('RecordCount', fontsize=12) \n",
    "    plt.xticks(rotation=90) \n",
    "    plt.tight_layout()\n",
    "    fig1 = plt.gcf()\n",
    "    plt.draw()\n",
    "    time.sleep(1)\n",
    "    pdf.savefig()  # saves the current figure into a pdf page \n",
    "    plt.close()\n",
    "\n",
    "    appdata096 = df2.loc[df2['TableName']=='FACT_SPG_Export'] \n",
    "    plt.figure(); \n",
    "    appdata096.plot(x='TodaysDate', y='RecordCount', color='r', linewidth=2.0); \n",
    "    plt.title('AppData: FACT_SPG_Export') \n",
    "    plt.xlabel('TodaysDate', fontsize=12) \n",
    "    plt.ylabel('RecordCount', fontsize=12) \n",
    "    plt.xticks(rotation=90) \n",
    "    plt.tight_layout()\n",
    "    fig1 = plt.gcf()\n",
    "    plt.draw()\n",
    "    time.sleep(1)\n",
    "    pdf.savefig()  # saves the current figure into a pdf page \n",
    "    plt.close()\n",
    "\n",
    "    appdata097 = df2.loc[df2['TableName']=='FACT_SPortal_LastLogin'] \n",
    "    plt.figure(); \n",
    "    appdata097.plot(x='TodaysDate', y='RecordCount', color='r', linewidth=2.0); \n",
    "    plt.title('AppData: FACT_SPortal_LastLogin') \n",
    "    plt.xlabel('TodaysDate', fontsize=12) \n",
    "    plt.ylabel('RecordCount', fontsize=12) \n",
    "    plt.xticks(rotation=90) \n",
    "    plt.tight_layout()\n",
    "    fig1 = plt.gcf()\n",
    "    plt.draw()\n",
    "    time.sleep(1)\n",
    "    pdf.savefig()  # saves the current figure into a pdf page \n",
    "    plt.close()\n",
    "\n",
    "    appdata098 = df2.loc[df2['TableName']=='FACT_StudentAcademies'] \n",
    "    plt.figure(); \n",
    "    appdata098.plot(x='TodaysDate', y='RecordCount', color='r', linewidth=2.0); \n",
    "    plt.title('AppData: FACT_StudentAcademies') \n",
    "    plt.xlabel('TodaysDate', fontsize=12) \n",
    "    plt.ylabel('RecordCount', fontsize=12) \n",
    "    plt.xticks(rotation=90) \n",
    "    plt.tight_layout()\n",
    "    fig1 = plt.gcf()\n",
    "    plt.draw()\n",
    "    time.sleep(1)\n",
    "    pdf.savefig()  # saves the current figure into a pdf page \n",
    "    plt.close()\n",
    "\n",
    "    appdata099 = df2.loc[df2['TableName']=='FACT_StudentAssignmentScore'] \n",
    "    plt.figure(); \n",
    "    appdata099.plot(x='TodaysDate', y='RecordCount', color='r', linewidth=2.0); \n",
    "    plt.title('AppData: FACT_StudentAssignmentScore') \n",
    "    plt.xlabel('TodaysDate', fontsize=12) \n",
    "    plt.ylabel('RecordCount', fontsize=12) \n",
    "    plt.xticks(rotation=90) \n",
    "    plt.tight_layout()\n",
    "    fig1 = plt.gcf()\n",
    "    plt.draw()\n",
    "    time.sleep(1)\n",
    "    pdf.savefig()  # saves the current figure into a pdf page \n",
    "    plt.close()\n",
    "\n",
    "    appdata100 = df2.loc[df2['TableName']=='FACT_StudentClass'] \n",
    "    plt.figure(); \n",
    "    appdata100.plot(x='TodaysDate', y='RecordCount', color='r', linewidth=2.0); \n",
    "    plt.title('AppData: FACT_StudentClass') \n",
    "    plt.xlabel('TodaysDate', fontsize=12) \n",
    "    plt.ylabel('RecordCount', fontsize=12) \n",
    "    plt.xticks(rotation=90) \n",
    "    plt.tight_layout()\n",
    "    fig1 = plt.gcf()\n",
    "    plt.draw()\n",
    "    time.sleep(1)\n",
    "    pdf.savefig()  # saves the current figure into a pdf page \n",
    "    plt.close()\n",
    "\n",
    "    appdata101 = df2.loc[df2['TableName']=='FACT_StudentClassMetrics'] \n",
    "    plt.figure(); \n",
    "    appdata101.plot(x='TodaysDate', y='RecordCount', color='r', linewidth=2.0); \n",
    "    plt.title('AppData: FACT_StudentClassMetrics') \n",
    "    plt.xlabel('TodaysDate', fontsize=12) \n",
    "    plt.ylabel('RecordCount', fontsize=12) \n",
    "    plt.xticks(rotation=90) \n",
    "    plt.tight_layout()\n",
    "    fig1 = plt.gcf()\n",
    "    plt.draw()\n",
    "    time.sleep(1)\n",
    "    pdf.savefig()  # saves the current figure into a pdf page \n",
    "    plt.close()\n",
    "\n",
    "    appdata102 = df2.loc[df2['TableName']=='FACT_StudentClassScore'] \n",
    "    plt.figure(); \n",
    "    appdata102.plot(x='TodaysDate', y='RecordCount', color='r', linewidth=2.0); \n",
    "    plt.title('AppData: FACT_StudentClassScore') \n",
    "    plt.xlabel('TodaysDate', fontsize=12) \n",
    "    plt.ylabel('RecordCount', fontsize=12) \n",
    "    plt.xticks(rotation=90) \n",
    "    plt.tight_layout()\n",
    "    fig1 = plt.gcf()\n",
    "    plt.draw()\n",
    "    time.sleep(1)\n",
    "    pdf.savefig()  # saves the current figure into a pdf page \n",
    "    plt.close()\n",
    "\n",
    "    appdata103 = df2.loc[df2['TableName']=='FACT_StudentCoursesTaken'] \n",
    "    plt.figure(); \n",
    "    appdata103.plot(x='TodaysDate', y='RecordCount', color='r', linewidth=2.0); \n",
    "    plt.title('AppData: FACT_StudentCoursesTaken') \n",
    "    plt.xlabel('TodaysDate', fontsize=12) \n",
    "    plt.ylabel('RecordCount', fontsize=12) \n",
    "    plt.xticks(rotation=90) \n",
    "    plt.tight_layout()\n",
    "    fig1 = plt.gcf()\n",
    "    plt.draw()\n",
    "    time.sleep(1)\n",
    "    pdf.savefig()  # saves the current figure into a pdf page \n",
    "    plt.close()\n",
    "\n",
    "    appdata104 = df2.loc[df2['TableName']=='FACT_StudentCreditsEarned'] \n",
    "    plt.figure(); \n",
    "    appdata104.plot(x='TodaysDate', y='RecordCount', color='r', linewidth=2.0); \n",
    "    plt.title('AppData: FACT_StudentCreditsEarned') \n",
    "    plt.xlabel('TodaysDate', fontsize=12) \n",
    "    plt.ylabel('RecordCount', fontsize=12) \n",
    "    plt.xticks(rotation=90) \n",
    "    plt.tight_layout()\n",
    "    fig1 = plt.gcf()\n",
    "    plt.draw()\n",
    "    time.sleep(1)\n",
    "    pdf.savefig()  # saves the current figure into a pdf page \n",
    "    plt.close()\n",
    "\n",
    "    appdata105 = df2.loc[df2['TableName']=='FACT_StudentEngagementInstrument'] \n",
    "    plt.figure(); \n",
    "    appdata105.plot(x='TodaysDate', y='RecordCount', color='r', linewidth=2.0); \n",
    "    plt.title('AppData: FACT_StudentEngagementInstrument') \n",
    "    plt.xlabel('TodaysDate', fontsize=12) \n",
    "    plt.ylabel('RecordCount', fontsize=12) \n",
    "    plt.xticks(rotation=90) \n",
    "    plt.tight_layout()\n",
    "    fig1 = plt.gcf()\n",
    "    plt.draw()\n",
    "    time.sleep(1)\n",
    "    pdf.savefig()  # saves the current figure into a pdf page \n",
    "    plt.close()\n",
    "\n",
    "    appdata106 = df2.loc[df2['TableName']=='FACT_StudentEnrollmentPeriods'] \n",
    "    plt.figure(); \n",
    "    appdata106.plot(x='TodaysDate', y='RecordCount', color='r', linewidth=2.0); \n",
    "    plt.title('AppData: FACT_StudentEnrollmentPeriods') \n",
    "    plt.xlabel('TodaysDate', fontsize=12) \n",
    "    plt.ylabel('RecordCount', fontsize=12) \n",
    "    plt.xticks(rotation=90) \n",
    "    plt.tight_layout()\n",
    "    fig1 = plt.gcf()\n",
    "    plt.draw()\n",
    "    time.sleep(1)\n",
    "    pdf.savefig()  # saves the current figure into a pdf page \n",
    "    plt.close()\n",
    "\n",
    "    appdata107 = df2.loc[df2['TableName']=='FACT_StudentMetaData'] \n",
    "    plt.figure(); \n",
    "    appdata107.plot(x='TodaysDate', y='RecordCount', color='r', linewidth=2.0); \n",
    "    plt.title('AppData: FACT_StudentMetaData') \n",
    "    plt.xlabel('TodaysDate', fontsize=12) \n",
    "    plt.ylabel('RecordCount', fontsize=12) \n",
    "    plt.xticks(rotation=90) \n",
    "    plt.tight_layout()\n",
    "    fig1 = plt.gcf()\n",
    "    plt.draw()\n",
    "    time.sleep(1)\n",
    "    pdf.savefig()  # saves the current figure into a pdf page \n",
    "    plt.close()\n",
    "\n",
    "    appdata108 = df2.loc[df2['TableName']=='FACT_StudentRegisterDaily'] \n",
    "    plt.figure(); \n",
    "    appdata108.plot(x='TodaysDate', y='RecordCount', color='r', linewidth=2.0); \n",
    "    plt.title('AppData: FACT_StudentRegisterDaily') \n",
    "    plt.xlabel('TodaysDate', fontsize=12) \n",
    "    plt.ylabel('RecordCount', fontsize=12) \n",
    "    plt.xticks(rotation=90) \n",
    "    plt.tight_layout()\n",
    "    fig1 = plt.gcf()\n",
    "    plt.draw()\n",
    "    time.sleep(1)\n",
    "    pdf.savefig()  # saves the current figure into a pdf page \n",
    "    plt.close()\n",
    "\n",
    "    appdata109 = df2.loc[df2['TableName']=='FACT_StudentSchoolYear'] \n",
    "    plt.figure(); \n",
    "    appdata109.plot(x='TodaysDate', y='RecordCount', color='r', linewidth=2.0); \n",
    "    plt.title('AppData: FACT_StudentSchoolYear') \n",
    "    plt.xlabel('TodaysDate', fontsize=12) \n",
    "    plt.ylabel('RecordCount', fontsize=12) \n",
    "    plt.xticks(rotation=90) \n",
    "    plt.tight_layout()\n",
    "    fig1 = plt.gcf()\n",
    "    plt.draw()\n",
    "    time.sleep(1)\n",
    "    pdf.savefig()  # saves the current figure into a pdf page \n",
    "    plt.close()\n",
    "\n",
    "    appdata110 = df2.loc[df2['TableName']=='FACT_StudentSibling'] \n",
    "    plt.figure(); \n",
    "    appdata110.plot(x='TodaysDate', y='RecordCount', color='r', linewidth=2.0); \n",
    "    plt.title('AppData: FACT_StudentSibling') \n",
    "    plt.xlabel('TodaysDate', fontsize=12) \n",
    "    plt.ylabel('RecordCount', fontsize=12) \n",
    "    plt.xticks(rotation=90) \n",
    "    plt.tight_layout()\n",
    "    fig1 = plt.gcf()\n",
    "    plt.draw()\n",
    "    time.sleep(1)\n",
    "    pdf.savefig()  # saves the current figure into a pdf page \n",
    "    plt.close()\n",
    "\n",
    "    appdata111 = df2.loc[df2['TableName']=='FACT_StudentTrendingGrades'] \n",
    "    plt.figure(); \n",
    "    appdata111.plot(x='TodaysDate', y='RecordCount', color='r', linewidth=2.0); \n",
    "    plt.title('AppData: FACT_StudentTrendingGrades') \n",
    "    plt.xlabel('TodaysDate', fontsize=12) \n",
    "    plt.ylabel('RecordCount', fontsize=12) \n",
    "    plt.xticks(rotation=90) \n",
    "    plt.tight_layout()\n",
    "    fig1 = plt.gcf()\n",
    "    plt.draw()\n",
    "    time.sleep(1)\n",
    "    pdf.savefig()  # saves the current figure into a pdf page \n",
    "    plt.close()\n",
    "\n",
    "    appdata112 = df2.loc[df2['TableName']=='FACT_StudentTrendingGrades_20180101'] \n",
    "    plt.figure(); \n",
    "    appdata112.plot(x='TodaysDate', y='RecordCount', color='r', linewidth=2.0); \n",
    "    plt.title('AppData: FACT_StudentTrendingGrades_20180101') \n",
    "    plt.xlabel('TodaysDate', fontsize=12) \n",
    "    plt.ylabel('RecordCount', fontsize=12) \n",
    "    plt.xticks(rotation=90) \n",
    "    plt.tight_layout()\n",
    "    fig1 = plt.gcf()\n",
    "    plt.draw()\n",
    "    time.sleep(1)\n",
    "    pdf.savefig()  # saves the current figure into a pdf page \n",
    "    plt.close()\n",
    "\n",
    "    appdata113 = df2.loc[df2['TableName']=='FACT_StudentTrendingGrades_20180328'] \n",
    "    plt.figure(); \n",
    "    appdata113.plot(x='TodaysDate', y='RecordCount', color='r', linewidth=2.0); \n",
    "    plt.title('AppData: FACT_StudentTrendingGrades_20180328') \n",
    "    plt.xlabel('TodaysDate', fontsize=12) \n",
    "    plt.ylabel('RecordCount', fontsize=12) \n",
    "    plt.xticks(rotation=90) \n",
    "    plt.tight_layout()\n",
    "    fig1 = plt.gcf()\n",
    "    plt.draw()\n",
    "    time.sleep(1)\n",
    "    pdf.savefig()  # saves the current figure into a pdf page \n",
    "    plt.close()\n",
    "\n",
    "    appdata114 = df2.loc[df2['TableName']=='FACT_TeacherViewTrendingGrades'] \n",
    "    plt.figure(); \n",
    "    appdata114.plot(x='TodaysDate', y='RecordCount', color='r', linewidth=2.0); \n",
    "    plt.title('AppData: FACT_TeacherViewTrendingGrades') \n",
    "    plt.xlabel('TodaysDate', fontsize=12) \n",
    "    plt.ylabel('RecordCount', fontsize=12) \n",
    "    plt.xticks(rotation=90) \n",
    "    plt.tight_layout()\n",
    "    fig1 = plt.gcf()\n",
    "    plt.draw()\n",
    "    time.sleep(1)\n",
    "    pdf.savefig()  # saves the current figure into a pdf page \n",
    "    plt.close()\n",
    "\n",
    "    appdata115 = df2.loc[df2['TableName']=='FACT_YearlyAttendance'] \n",
    "    plt.figure(); \n",
    "    appdata115.plot(x='TodaysDate', y='RecordCount', color='r', linewidth=2.0); \n",
    "    plt.title('AppData: FACT_YearlyAttendance') \n",
    "    plt.xlabel('TodaysDate', fontsize=12) \n",
    "    plt.ylabel('RecordCount', fontsize=12) \n",
    "    plt.xticks(rotation=90) \n",
    "    plt.tight_layout()\n",
    "    fig1 = plt.gcf()\n",
    "    plt.draw()\n",
    "    time.sleep(1)\n",
    "    pdf.savefig()  # saves the current figure into a pdf page \n",
    "    plt.close()\n",
    "\n",
    "    appdata116 = df2.loc[df2['TableName']=='G_GBATCH'] \n",
    "    plt.figure(); \n",
    "    appdata116.plot(x='TodaysDate', y='RecordCount', color='r', linewidth=2.0); \n",
    "    plt.title('AppData: G_GBATCH') \n",
    "    plt.xlabel('TodaysDate', fontsize=12) \n",
    "    plt.ylabel('RecordCount', fontsize=12) \n",
    "    plt.xticks(rotation=90) \n",
    "    plt.tight_layout()\n",
    "    fig1 = plt.gcf()\n",
    "    plt.draw()\n",
    "    time.sleep(1)\n",
    "    pdf.savefig()  # saves the current figure into a pdf page \n",
    "    plt.close()\n",
    "\n",
    "    appdata117 = df2.loc[df2['TableName']=='G_GTID_HISTORY'] \n",
    "    plt.figure(); \n",
    "    appdata117.plot(x='TodaysDate', y='RecordCount', color='r', linewidth=2.0); \n",
    "    plt.title('AppData: G_GTID_HISTORY') \n",
    "    plt.xlabel('TodaysDate', fontsize=12) \n",
    "    plt.ylabel('RecordCount', fontsize=12) \n",
    "    plt.xticks(rotation=90) \n",
    "    plt.tight_layout()\n",
    "    fig1 = plt.gcf()\n",
    "    plt.draw()\n",
    "    time.sleep(1)\n",
    "    pdf.savefig()  # saves the current figure into a pdf page \n",
    "    plt.close()\n",
    "\n",
    "    appdata118 = df2.loc[df2['TableName']=='G_GTID_IMPORT'] \n",
    "    plt.figure(); \n",
    "    appdata118.plot(x='TodaysDate', y='RecordCount', color='r', linewidth=2.0); \n",
    "    plt.title('AppData: G_GTID_IMPORT') \n",
    "    plt.xlabel('TodaysDate', fontsize=12) \n",
    "    plt.ylabel('RecordCount', fontsize=12) \n",
    "    plt.xticks(rotation=90) \n",
    "    plt.tight_layout()\n",
    "    fig1 = plt.gcf()\n",
    "    plt.draw()\n",
    "    time.sleep(1)\n",
    "    pdf.savefig()  # saves the current figure into a pdf page \n",
    "    plt.close()\n",
    "\n",
    "    appdata119 = df2.loc[df2['TableName']=='G_GTID_IMPORT_ERROR_CODES'] \n",
    "    plt.figure(); \n",
    "    appdata119.plot(x='TodaysDate', y='RecordCount', color='r', linewidth=2.0); \n",
    "    plt.title('AppData: G_GTID_IMPORT_ERROR_CODES') \n",
    "    plt.xlabel('TodaysDate', fontsize=12) \n",
    "    plt.ylabel('RecordCount', fontsize=12) \n",
    "    plt.xticks(rotation=90) \n",
    "    plt.tight_layout()\n",
    "    fig1 = plt.gcf()\n",
    "    plt.draw()\n",
    "    time.sleep(1)\n",
    "    pdf.savefig()  # saves the current figure into a pdf page \n",
    "    plt.close()\n",
    "\n",
    "    appdata120 = df2.loc[df2['TableName']=='G_GTID_IMPORT_ERRORS'] \n",
    "    plt.figure(); \n",
    "    appdata120.plot(x='TodaysDate', y='RecordCount', color='r', linewidth=2.0); \n",
    "    plt.title('AppData: G_GTID_IMPORT_ERRORS') \n",
    "    plt.xlabel('TodaysDate', fontsize=12) \n",
    "    plt.ylabel('RecordCount', fontsize=12) \n",
    "    plt.xticks(rotation=90) \n",
    "    plt.tight_layout()\n",
    "    fig1 = plt.gcf()\n",
    "    plt.draw()\n",
    "    time.sleep(1)\n",
    "    pdf.savefig()  # saves the current figure into a pdf page \n",
    "    plt.close()\n",
    "\n",
    "    appdata121 = df2.loc[df2['TableName']=='G_GTID_STU_BATCH'] \n",
    "    plt.figure(); \n",
    "    appdata121.plot(x='TodaysDate', y='RecordCount', color='r', linewidth=2.0); \n",
    "    plt.title('AppData: G_GTID_STU_BATCH') \n",
    "    plt.xlabel('TodaysDate', fontsize=12) \n",
    "    plt.ylabel('RecordCount', fontsize=12) \n",
    "    plt.xticks(rotation=90) \n",
    "    plt.tight_layout()\n",
    "    fig1 = plt.gcf()\n",
    "    plt.draw()\n",
    "    time.sleep(1)\n",
    "    pdf.savefig()  # saves the current figure into a pdf page \n",
    "    plt.close()\n",
    "\n",
    "    appdata122 = df2.loc[df2['TableName']=='GradeLevel'] \n",
    "    plt.figure(); \n",
    "    appdata122.plot(x='TodaysDate', y='RecordCount', color='r', linewidth=2.0); \n",
    "    plt.title('AppData: GradeLevel') \n",
    "    plt.xlabel('TodaysDate', fontsize=12) \n",
    "    plt.ylabel('RecordCount', fontsize=12)\n",
    "    plt.xticks(rotation=90) \n",
    "    plt.tight_layout()\n",
    "    fig1 = plt.gcf()\n",
    "    plt.draw()\n",
    "    time.sleep(1)\n",
    "    pdf.savefig()  # saves the current figure into a pdf page \n",
    "    plt.close()\n",
    "\n",
    "    appdata123 = df2.loc[df2['TableName']=='GTRegistrationSP'] \n",
    "    plt.figure(); \n",
    "    appdata123.plot(x='TodaysDate', y='RecordCount', color='r', linewidth=2.0); \n",
    "    plt.title('AppData: GTRegistrationSP') \n",
    "    plt.xlabel('TodaysDate', fontsize=12) \n",
    "    plt.ylabel('RecordCount', fontsize=12) \n",
    "    plt.xticks(rotation=90) \n",
    "    plt.tight_layout()\n",
    "    fig1 = plt.gcf()\n",
    "    plt.draw()\n",
    "    time.sleep(1)\n",
    "    pdf.savefig()  # saves the current figure into a pdf page \n",
    "    plt.close()\n",
    "\n",
    "    appdata124 = df2.loc[df2['TableName']=='HomeSchoolCounselorsSP'] \n",
    "    plt.figure(); \n",
    "    appdata124.plot(x='TodaysDate', y='RecordCount', color='r', linewidth=2.0); \n",
    "    plt.title('AppData: HomeSchoolCounselorsSP') \n",
    "    plt.xlabel('TodaysDate', fontsize=12) \n",
    "    plt.ylabel('RecordCount', fontsize=12) \n",
    "    plt.xticks(rotation=90) \n",
    "    plt.tight_layout()\n",
    "    fig1 = plt.gcf()\n",
    "    plt.draw()\n",
    "    time.sleep(1)\n",
    "    pdf.savefig()  # saves the current figure into a pdf page \n",
    "    plt.close()\n",
    "\n",
    "    appdata125 = df2.loc[df2['TableName']=='HSGradeSummary'] \n",
    "    plt.figure(); \n",
    "    appdata125.plot(x='TodaysDate', y='RecordCount', color='r', linewidth=2.0); \n",
    "    plt.title('AppData: HSGradeSummary') \n",
    "    plt.xlabel('TodaysDate', fontsize=12) \n",
    "    plt.ylabel('RecordCount', fontsize=12) \n",
    "    plt.xticks(rotation=90) \n",
    "    plt.tight_layout()\n",
    "    fig1 = plt.gcf()\n",
    "    plt.draw()\n",
    "    time.sleep(1)\n",
    "    pdf.savefig()  # saves the current figure into a pdf page \n",
    "    plt.close()\n",
    "\n",
    "    appdata126 = df2.loc[df2['TableName']=='HSSElectives'] \n",
    "    plt.figure(); \n",
    "    appdata126.plot(x='TodaysDate', y='RecordCount', color='r', linewidth=2.0); \n",
    "    plt.title('AppData: HSSElectives') \n",
    "    plt.xlabel('TodaysDate', fontsize=12) \n",
    "    plt.ylabel('RecordCount', fontsize=12) \n",
    "    plt.xticks(rotation=90) \n",
    "    plt.tight_layout()\n",
    "    fig1 = plt.gcf()\n",
    "    plt.draw()\n",
    "    time.sleep(1)\n",
    "    pdf.savefig()  # saves the current figure into a pdf page \n",
    "    plt.close()\n",
    "\n",
    "    appdata127 = df2.loc[df2['TableName']=='IEPAccommodations'] \n",
    "    plt.figure(); \n",
    "    appdata127.plot(x='TodaysDate', y='RecordCount', color='r', linewidth=2.0); \n",
    "    plt.title('AppData: IEPAccommodations') \n",
    "    plt.xlabel('TodaysDate', fontsize=12) \n",
    "    plt.ylabel('RecordCount', fontsize=12) \n",
    "    plt.xticks(rotation=90) \n",
    "    plt.tight_layout()\n",
    "    fig1 = plt.gcf()\n",
    "    plt.draw()\n",
    "    time.sleep(1)\n",
    "    pdf.savefig()  # saves the current figure into a pdf page \n",
    "    plt.close()\n",
    "\n",
    "    appdata128 = df2.loc[df2['TableName']=='ImageSource'] \n",
    "    plt.figure(); \n",
    "    appdata128.plot(x='TodaysDate', y='RecordCount', color='r', linewidth=2.0); \n",
    "    plt.title('AppData: ImageSource') \n",
    "    plt.xlabel('TodaysDate', fontsize=12) \n",
    "    plt.ylabel('RecordCount', fontsize=12) \n",
    "    plt.xticks(rotation=90) \n",
    "    plt.tight_layout()\n",
    "    fig1 = plt.gcf()\n",
    "    plt.draw()\n",
    "    time.sleep(1)\n",
    "    pdf.savefig()  # saves the current figure into a pdf page \n",
    "    plt.close()\n",
    "\n",
    "    appdata129 = df2.loc[df2['TableName']=='Language'] \n",
    "    plt.figure(); \n",
    "    appdata129.plot(x='TodaysDate', y='RecordCount', color='r', linewidth=2.0); \n",
    "    plt.title('AppData: Language') \n",
    "    plt.xlabel('TodaysDate', fontsize=12) \n",
    "    plt.ylabel('RecordCount', fontsize=12) \n",
    "    plt.xticks(rotation=90) \n",
    "    plt.tight_layout()\n",
    "    fig1 = plt.gcf()\n",
    "    plt.draw()\n",
    "    time.sleep(1)\n",
    "    pdf.savefig()  # saves the current figure into a pdf page \n",
    "    plt.close()\n",
    "\n",
    "    appdata130 = df2.loc[df2['TableName']=='LocationType'] \n",
    "    plt.figure(); \n",
    "    appdata130.plot(x='TodaysDate', y='RecordCount', color='r', linewidth=2.0); \n",
    "    plt.title('AppData: LocationType') \n",
    "    plt.xlabel('TodaysDate', fontsize=12) \n",
    "    plt.ylabel('RecordCount', fontsize=12) \n",
    "    plt.xticks(rotation=90) \n",
    "    plt.tight_layout()\n",
    "    fig1 = plt.gcf()\n",
    "    plt.draw()\n",
    "    time.sleep(1)\n",
    "    pdf.savefig()  # saves the current figure into a pdf page \n",
    "    plt.close()\n",
    "\n",
    "    appdata131 = df2.loc[df2['TableName']=='LocationTypeOption'] \n",
    "    plt.figure(); \n",
    "    appdata131.plot(x='TodaysDate', y='RecordCount', color='r', linewidth=2.0); \n",
    "    plt.title('AppData: LocationTypeOption') \n",
    "    plt.xlabel('TodaysDate', fontsize=12) \n",
    "    plt.ylabel('RecordCount', fontsize=12) \n",
    "    plt.xticks(rotation=90) \n",
    "    plt.tight_layout()\n",
    "    fig1 = plt.gcf()\n",
    "    plt.draw()\n",
    "    time.sleep(1)\n",
    "    pdf.savefig()  # saves the current figure into a pdf page \n",
    "    plt.close()\n",
    "    \n",
    "    appdata132 = df2.loc[df2['TableName']=='Log4Net'] \n",
    "    plt.figure(); \n",
    "    appdata132.plot(x='TodaysDate', y='RecordCount', color='r', linewidth=2.0); \n",
    "    plt.title('AppData: Log4Net') \n",
    "    plt.xlabel('TodaysDate', fontsize=12) \n",
    "    plt.ylabel('RecordCount', fontsize=12) \n",
    "    plt.xticks(rotation=90) \n",
    "    plt.tight_layout()\n",
    "    fig1 = plt.gcf()\n",
    "    plt.draw()\n",
    "    time.sleep(1)\n",
    "    pdf.savefig()  # saves the current figure into a pdf page \n",
    "    plt.close()\n",
    "\n",
    "    appdata133 = df2.loc[df2['TableName']=='MAP_EducatorStudentCourse'] \n",
    "    plt.figure(); \n",
    "    appdata133.plot(x='TodaysDate', y='RecordCount', color='r', linewidth=2.0); \n",
    "    plt.title('AppData: MAP_EducatorStudentCourse') \n",
    "    plt.xlabel('TodaysDate', fontsize=12) \n",
    "    plt.ylabel('RecordCount', fontsize=12) \n",
    "    plt.xticks(rotation=90) \n",
    "    plt.tight_layout()\n",
    "    fig1 = plt.gcf()\n",
    "    plt.draw()\n",
    "    time.sleep(1)\n",
    "    pdf.savefig()  # saves the current figure into a pdf page \n",
    "    plt.close()\n",
    "\n",
    "    appdata134 = df2.loc[df2['TableName']=='MasterListSP'] \n",
    "    plt.figure(); \n",
    "    appdata134.plot(x='TodaysDate', y='RecordCount', color='r', linewidth=2.0); \n",
    "    plt.title('AppData: MasterListSP') \n",
    "    plt.xlabel('TodaysDate', fontsize=12) \n",
    "    plt.ylabel('RecordCount', fontsize=12) \n",
    "    plt.xticks(rotation=90) \n",
    "    plt.tight_layout()\n",
    "    fig1 = plt.gcf()\n",
    "    plt.draw()\n",
    "    time.sleep(1)\n",
    "    pdf.savefig()  # saves the current figure into a pdf page \n",
    "    plt.close()\n",
    "\n",
    "    appdata135 = df2.loc[df2['TableName']=='MeasureCluster'] \n",
    "    plt.figure(); \n",
    "    appdata135.plot(x='TodaysDate', y='RecordCount', color='r', linewidth=2.0); \n",
    "    plt.title('AppData: MeasureCluster') \n",
    "    plt.xlabel('TodaysDate', fontsize=12) \n",
    "    plt.ylabel('RecordCount', fontsize=12) \n",
    "    plt.xticks(rotation=90) \n",
    "    plt.tight_layout()\n",
    "    fig1 = plt.gcf()\n",
    "    plt.draw()\n",
    "    time.sleep(1)\n",
    "    pdf.savefig()  # saves the current figure into a pdf page \n",
    "    plt.close()\n",
    "\n",
    "    appdata136 = df2.loc[df2['TableName']=='MeasureResults'] \n",
    "    plt.figure(); \n",
    "    appdata136.plot(x='TodaysDate', y='RecordCount', color='r', linewidth=2.0); \n",
    "    plt.title('AppData: MeasureResults') \n",
    "    plt.xlabel('TodaysDate', fontsize=12) \n",
    "    plt.ylabel('RecordCount', fontsize=12) \n",
    "    plt.xticks(rotation=90) \n",
    "    plt.tight_layout()\n",
    "    fig1 = plt.gcf()\n",
    "    plt.draw()\n",
    "    time.sleep(1)\n",
    "    pdf.savefig()  # saves the current figure into a pdf page \n",
    "    plt.close()\n",
    "\n",
    "    appdata137 = df2.loc[df2['TableName']=='MediaCheckInType'] \n",
    "    plt.figure(); \n",
    "    appdata137.plot(x='TodaysDate', y='RecordCount', color='r', linewidth=2.0); \n",
    "    plt.title('AppData: MediaCheckInType') \n",
    "    plt.xlabel('TodaysDate', fontsize=12) \n",
    "    plt.ylabel('RecordCount', fontsize=12) \n",
    "    plt.xticks(rotation=90) \n",
    "    plt.tight_layout()\n",
    "    fig1 = plt.gcf()\n",
    "    plt.draw()\n",
    "    time.sleep(1)\n",
    "    pdf.savefig()  # saves the current figure into a pdf page \n",
    "    plt.close()\n",
    "\n",
    "    appdata138 = df2.loc[df2['TableName']=='MHSElectives'] \n",
    "    plt.figure(); \n",
    "    appdata138.plot(x='TodaysDate', y='RecordCount', color='r', linewidth=2.0); \n",
    "    plt.title('AppData: MHSElectives') \n",
    "    plt.xlabel('TodaysDate', fontsize=12) \n",
    "    plt.ylabel('RecordCount', fontsize=12) \n",
    "    plt.xticks(rotation=90) \n",
    "    plt.tight_layout()\n",
    "    fig1 = plt.gcf()\n",
    "    plt.draw()\n",
    "    time.sleep(1)\n",
    "    pdf.savefig()  # saves the current figure into a pdf page \n",
    "    plt.close()\n",
    "\n",
    "    appdata139 = df2.loc[df2['TableName']=='MSGradeSummary'] \n",
    "    plt.figure(); \n",
    "    appdata139.plot(x='TodaysDate', y='RecordCount', color='r', linewidth=2.0); \n",
    "    plt.title('AppData: MSGradeSummary') \n",
    "    plt.xlabel('TodaysDate', fontsize=12) \n",
    "    plt.ylabel('RecordCount', fontsize=12) \n",
    "    plt.xticks(rotation=90) \n",
    "    plt.tight_layout()\n",
    "    fig1 = plt.gcf()\n",
    "    plt.draw()\n",
    "    time.sleep(1)\n",
    "    pdf.savefig()  # saves the current figure into a pdf page \n",
    "    plt.close()\n",
    "\n",
    "    appdata140 = df2.loc[df2['TableName']=='Office'] \n",
    "    plt.figure(); \n",
    "    appdata140.plot(x='TodaysDate', y='RecordCount', color='r', linewidth=2.0); \n",
    "    plt.title('AppData: Office') \n",
    "    plt.xlabel('TodaysDate', fontsize=12) \n",
    "    plt.ylabel('RecordCount', fontsize=12) \n",
    "    plt.xticks(rotation=90) \n",
    "    plt.tight_layout()\n",
    "    fig1 = plt.gcf()\n",
    "    plt.draw()\n",
    "    time.sleep(1)\n",
    "    pdf.savefig()  # saves the current figure into a pdf page \n",
    "    plt.close()\n",
    "\n",
    "    appdata141 = df2.loc[df2['TableName']=='OfficeCluster'] \n",
    "    plt.figure(); \n",
    "    appdata141.plot(x='TodaysDate', y='RecordCount', color='r', linewidth=2.0); \n",
    "    plt.title('AppData: OfficeCluster') \n",
    "    plt.xlabel('TodaysDate', fontsize=12) \n",
    "    plt.ylabel('RecordCount', fontsize=12) \n",
    "    plt.xticks(rotation=90) \n",
    "    plt.tight_layout()\n",
    "    fig1 = plt.gcf()\n",
    "    plt.draw()\n",
    "    time.sleep(1)\n",
    "    pdf.savefig()  # saves the current figure into a pdf page \n",
    "    plt.close()\n",
    "    \n",
    "    appdata142 = df2.loc[df2['TableName']=='OpenHouse'] \n",
    "    plt.figure(); \n",
    "    appdata142.plot(x='TodaysDate', y='RecordCount', color='r', linewidth=2.0); \n",
    "    plt.title('AppData: OpenHouse') \n",
    "    plt.xlabel('TodaysDate', fontsize=12) \n",
    "    plt.ylabel('RecordCount', fontsize=12) \n",
    "    plt.xticks(rotation=90) \n",
    "    plt.tight_layout()\n",
    "    fig1 = plt.gcf()\n",
    "    plt.draw()\n",
    "    time.sleep(1)\n",
    "    pdf.savefig()  # saves the current figure into a pdf page \n",
    "    plt.close()\n",
    "\n",
    "    appdata143 = df2.loc[df2['TableName']=='PartyType'] \n",
    "    plt.figure(); \n",
    "    appdata143.plot(x='TodaysDate', y='RecordCount', color='r', linewidth=2.0); \n",
    "    plt.title('AppData: PartyType') \n",
    "    plt.xlabel('TodaysDate', fontsize=12) \n",
    "    plt.ylabel('RecordCount', fontsize=12) \n",
    "    plt.xticks(rotation=90) \n",
    "    plt.tight_layout()\n",
    "    fig1 = plt.gcf()\n",
    "    plt.draw()\n",
    "    time.sleep(1)\n",
    "    pdf.savefig()  # saves the current figure into a pdf page \n",
    "    plt.close()\n",
    "\n",
    "    appdata144 = df2.loc[df2['TableName']=='ProdStudentTrendingGrades'] \n",
    "    plt.figure(); \n",
    "    appdata144.plot(x='TodaysDate', y='RecordCount', color='r', linewidth=2.0); \n",
    "    plt.title('AppData: ProdStudentTrendingGrades') \n",
    "    plt.xlabel('TodaysDate', fontsize=12) \n",
    "    plt.ylabel('RecordCount', fontsize=12) \n",
    "    plt.xticks(rotation=90) \n",
    "    plt.tight_layout()\n",
    "    fig1 = plt.gcf()\n",
    "    plt.draw()\n",
    "    time.sleep(1)\n",
    "    pdf.savefig()  # saves the current figure into a pdf page \n",
    "    plt.close()\n",
    "\n",
    "    appdata145 = df2.loc[df2['TableName']=='ProgramChoices'] \n",
    "    plt.figure(); \n",
    "    appdata145.plot(x='TodaysDate', y='RecordCount', color='r', linewidth=2.0); \n",
    "    plt.title('AppData: ProgramChoices') \n",
    "    plt.xlabel('TodaysDate', fontsize=12) \n",
    "    plt.ylabel('RecordCount', fontsize=12) \n",
    "    plt.xticks(rotation=90) \n",
    "    plt.tight_layout()\n",
    "    fig1 = plt.gcf()\n",
    "    plt.draw()\n",
    "    time.sleep(1)\n",
    "    pdf.savefig()  # saves the current figure into a pdf page \n",
    "    plt.close()\n",
    "\n",
    "    appdata146 = df2.loc[df2['TableName']=='Registration'] \n",
    "    plt.figure(); \n",
    "    appdata146.plot(x='TodaysDate', y='RecordCount', color='r', linewidth=2.0); \n",
    "    plt.title('AppData: Registration') \n",
    "    plt.xlabel('TodaysDate', fontsize=12) \n",
    "    plt.ylabel('RecordCount', fontsize=12) \n",
    "    plt.xticks(rotation=90) \n",
    "    plt.tight_layout()\n",
    "    fig1 = plt.gcf()\n",
    "    plt.draw()\n",
    "    time.sleep(1)\n",
    "    pdf.savefig()  # saves the current figure into a pdf page \n",
    "    plt.close()\n",
    "\n",
    "    appdata147 = df2.loc[df2['TableName']=='RegistrationSP'] \n",
    "    plt.figure(); \n",
    "    appdata147.plot(x='TodaysDate', y='RecordCount', color='r', linewidth=2.0); \n",
    "    plt.title('AppData: RegistrationSP') \n",
    "    plt.xlabel('TodaysDate', fontsize=12) \n",
    "    plt.ylabel('RecordCount', fontsize=12) \n",
    "    plt.xticks(rotation=90) \n",
    "    plt.tight_layout()\n",
    "    fig1 = plt.gcf()\n",
    "    plt.draw()\n",
    "    time.sleep(1)\n",
    "    pdf.savefig()  # saves the current figure into a pdf page \n",
    "    plt.close()\n",
    "\n",
    "    appdata148 = df2.loc[df2['TableName']=='RegistrationStatus'] \n",
    "    plt.figure(); \n",
    "    appdata148.plot(x='TodaysDate', y='RecordCount', color='r', linewidth=2.0); \n",
    "    plt.title('AppData: RegistrationStatus') \n",
    "    plt.xlabel('TodaysDate', fontsize=12) \n",
    "    plt.ylabel('RecordCount', fontsize=12) \n",
    "    plt.xticks(rotation=90) \n",
    "    plt.tight_layout()\n",
    "    fig1 = plt.gcf()\n",
    "    plt.draw()\n",
    "    time.sleep(1)\n",
    "    pdf.savefig()  # saves the current figure into a pdf page \n",
    "    plt.close()\n",
    "\n",
    "    appdata149 = df2.loc[df2['TableName']=='RejectReason'] \n",
    "    plt.figure(); \n",
    "    appdata149.plot(x='TodaysDate', y='RecordCount', color='r', linewidth=2.0); \n",
    "    plt.title('AppData: RejectReason') \n",
    "    plt.xlabel('TodaysDate', fontsize=12) \n",
    "    plt.ylabel('RecordCount', fontsize=12) \n",
    "    plt.xticks(rotation=90) \n",
    "    plt.tight_layout()\n",
    "    fig1 = plt.gcf()\n",
    "    plt.draw()\n",
    "    time.sleep(1)\n",
    "    pdf.savefig()  # saves the current figure into a pdf page \n",
    "    plt.close()\n",
    "\n",
    "    appdata150 = df2.loc[df2['TableName']=='Role'] \n",
    "    plt.figure(); \n",
    "    appdata150.plot(x='TodaysDate', y='RecordCount', color='r', linewidth=2.0); \n",
    "    plt.title('AppData: Role') \n",
    "    plt.xlabel('TodaysDate', fontsize=12) \n",
    "    plt.ylabel('RecordCount', fontsize=12) \n",
    "    plt.xticks(rotation=90) \n",
    "    plt.tight_layout()\n",
    "    fig1 = plt.gcf()\n",
    "    plt.draw()\n",
    "    time.sleep(1)\n",
    "    pdf.savefig()  # saves the current figure into a pdf page \n",
    "    plt.close()\n",
    "\n",
    "    appdata151 = df2.loc[df2['TableName']=='RolePermission'] \n",
    "    plt.figure(); \n",
    "    appdata151.plot(x='TodaysDate', y='RecordCount', color='r', linewidth=2.0); \n",
    "    plt.title('AppData: RolePermission') \n",
    "    plt.xlabel('TodaysDate', fontsize=12) \n",
    "    plt.ylabel('RecordCount', fontsize=12) \n",
    "    plt.xticks(rotation=90) \n",
    "    plt.tight_layout()\n",
    "    fig1 = plt.gcf()\n",
    "    plt.draw()\n",
    "    time.sleep(1)\n",
    "    pdf.savefig()  # saves the current figure into a pdf page \n",
    "    plt.close()\n",
    "\n",
    "    appdata152 = df2.loc[df2['TableName']=='ROSTER_GSC'] \n",
    "    plt.figure(); \n",
    "    appdata152.plot(x='TodaysDate', y='RecordCount', color='r', linewidth=2.0); \n",
    "    plt.title('AppData: ROSTER_GSC') \n",
    "    plt.xlabel('TodaysDate', fontsize=12) \n",
    "    plt.ylabel('RecordCount', fontsize=12) \n",
    "    plt.xticks(rotation=90) \n",
    "    plt.tight_layout()\n",
    "    fig1 = plt.gcf()\n",
    "    plt.draw()\n",
    "    time.sleep(1)\n",
    "    pdf.savefig()  # saves the current figure into a pdf page \n",
    "    plt.close()\n",
    "\n",
    "    appdata153 = df2.loc[df2['TableName']=='ROSTER_GSS'] \n",
    "    plt.figure(); \n",
    "    appdata153.plot(x='TodaysDate', y='RecordCount', color='r', linewidth=2.0); \n",
    "    plt.title('AppData: ROSTER_GSS') \n",
    "    plt.xlabel('TodaysDate', fontsize=12) \n",
    "    plt.ylabel('RecordCount', fontsize=12) \n",
    "    plt.xticks(rotation=90) \n",
    "    plt.tight_layout()\n",
    "    fig1 = plt.gcf()\n",
    "    plt.draw()\n",
    "    time.sleep(1)\n",
    "    pdf.savefig()  # saves the current figure into a pdf page \n",
    "    plt.close()\n",
    "\n",
    "    appdata154 = df2.loc[df2['TableName']=='RUN'] \n",
    "    plt.figure(); \n",
    "    appdata154.plot(x='TodaysDate', y='RecordCount', color='r', linewidth=2.0); \n",
    "    plt.title('AppData: RUN') \n",
    "    plt.xlabel('TodaysDate', fontsize=12) \n",
    "    plt.ylabel('RecordCount', fontsize=12) \n",
    "    plt.xticks(rotation=90) \n",
    "    plt.tight_layout()\n",
    "    fig1 = plt.gcf()\n",
    "    plt.draw()\n",
    "    time.sleep(1)\n",
    "    pdf.savefig()  # saves the current figure into a pdf page \n",
    "    plt.close()\n",
    "\n",
    "    appdata155 = df2.loc[df2['TableName']=='RUN_ITEM'] \n",
    "    plt.figure(); \n",
    "    appdata155.plot(x='TodaysDate', y='RecordCount', color='r', linewidth=2.0); \n",
    "    plt.title('AppData: RUN_ITEM') \n",
    "    plt.xlabel('TodaysDate', fontsize=12) \n",
    "    plt.ylabel('RecordCount', fontsize=12) \n",
    "    plt.xticks(rotation=90) \n",
    "    plt.tight_layout()\n",
    "    fig1 = plt.gcf()\n",
    "    plt.draw()\n",
    "    time.sleep(1)\n",
    "    pdf.savefig()  # saves the current figure into a pdf page \n",
    "    plt.close()\n",
    "\n",
    "    appdata156 = df2.loc[df2['TableName']=='RUN_PACKAGE_OVERRIDES'] \n",
    "    plt.figure(); \n",
    "    appdata156.plot(x='TodaysDate', y='RecordCount', color='r', linewidth=2.0); \n",
    "    plt.title('AppData: RUN_PACKAGE_OVERRIDES') \n",
    "    plt.xlabel('TodaysDate', fontsize=12) \n",
    "    plt.ylabel('RecordCount', fontsize=12) \n",
    "    plt.xticks(rotation=90) \n",
    "    plt.tight_layout()\n",
    "    fig1 = plt.gcf()\n",
    "    plt.draw()\n",
    "    time.sleep(1)\n",
    " \n",
    "    pdf.savefig()  # saves the current figure into a pdf page \n",
    "    plt.close()\n",
    "\n",
    "    appdata157 = df2.loc[df2['TableName']=='School'] \n",
    "    plt.figure(); \n",
    "    appdata157.plot(x='TodaysDate', y='RecordCount', color='r', linewidth=2.0); \n",
    "    plt.title('AppData: School') \n",
    "    plt.xlabel('TodaysDate', fontsize=12) \n",
    "    plt.ylabel('RecordCount', fontsize=12) \n",
    "    plt.xticks(rotation=90) \n",
    "    plt.tight_layout()\n",
    "    fig1 = plt.gcf()\n",
    "    plt.draw()\n",
    "    time.sleep(1)\n",
    "    pdf.savefig()  # saves the current figure into a pdf page \n",
    "    plt.close()\n",
    "\n",
    "    appdata158 = df2.loc[df2['TableName']=='SchoolConfiguration'] \n",
    "    plt.figure(); \n",
    "    appdata158.plot(x='TodaysDate', y='RecordCount', color='r', linewidth=2.0); \n",
    "    plt.title('AppData: SchoolConfiguration') \n",
    "    plt.xlabel('TodaysDate', fontsize=12) \n",
    "    plt.ylabel('RecordCount', fontsize=12) \n",
    "    plt.xticks(rotation=90) \n",
    "    plt.tight_layout()\n",
    "    fig1 = plt.gcf()\n",
    "    plt.draw() \n",
    "    time.sleep(1)\n",
    "    pdf.savefig()  # saves the current figure into a pdf page \n",
    "    plt.close()\n",
    "\n",
    "    appdata159 = df2.loc[df2['TableName']=='SchoolDemogrSummary'] \n",
    "    plt.figure(); \n",
    "    appdata159.plot(x='TodaysDate', y='RecordCount', color='r', linewidth=2.0); \n",
    "    plt.title('AppData: SchoolDemogrSummary') \n",
    "    plt.xlabel('TodaysDate', fontsize=12) \n",
    "    plt.ylabel('RecordCount', fontsize=12) \n",
    "    plt.xticks(rotation=90) \n",
    "    plt.tight_layout()\n",
    "    fig1 = plt.gcf()\n",
    "    plt.draw()\n",
    "    time.sleep(1)\n",
    "    pdf.savefig()  # saves the current figure into a pdf page \n",
    "    plt.close()\n",
    "\n",
    "    appdata160 = df2.loc[df2['TableName']=='SchoolLocation'] \n",
    "    plt.figure(); \n",
    "    appdata160.plot(x='TodaysDate', y='RecordCount', color='r', linewidth=2.0); \n",
    "    plt.title('AppData: SchoolLocation') \n",
    "    plt.xlabel('TodaysDate', fontsize=12) \n",
    "    plt.ylabel('RecordCount', fontsize=12) \n",
    "    plt.xticks(rotation=90) \n",
    "    plt.tight_layout()\n",
    "    fig1 = plt.gcf()\n",
    "    plt.draw() \n",
    "    time.sleep(1)\n",
    "    pdf.savefig()  # saves the current figure into a pdf page \n",
    "    plt.close()\n",
    "\n",
    "    appdata161 = df2.loc[df2['TableName']=='SchoolProfileSummary'] \n",
    "    plt.figure(); \n",
    "    appdata161.plot(x='TodaysDate', y='RecordCount', color='r', linewidth=2.0); \n",
    "    plt.title('AppData: SchoolProfileSummary') \n",
    "    plt.xlabel('TodaysDate', fontsize=12) \n",
    "    plt.ylabel('RecordCount', fontsize=12) \n",
    "    plt.xticks(rotation=90) \n",
    "    plt.tight_layout()\n",
    "    fig1 = plt.gcf()\n",
    "    plt.draw()\n",
    "    time.sleep(1)\n",
    "    pdf.savefig()  # saves the current figure into a pdf page \n",
    "    plt.close()\n",
    "\n",
    "    appdata162 = df2.loc[df2['TableName']=='SchoolSetting'] \n",
    "    plt.figure(); \n",
    "    appdata162.plot(x='TodaysDate', y='RecordCount', color='r', linewidth=2.0); \n",
    "    plt.title('AppData: SchoolSetting') \n",
    "    plt.xlabel('TodaysDate', fontsize=12) \n",
    "    plt.ylabel('RecordCount', fontsize=12) \n",
    "    plt.xticks(rotation=90) \n",
    "    plt.tight_layout()\n",
    "    fig1 = plt.gcf()\n",
    "    plt.draw()\n",
    "    time.sleep(1)\n",
    "    pdf.savefig()  # saves the current figure into a pdf page \n",
    "    plt.close()\n",
    "\n",
    "    appdata163 = df2.loc[df2['TableName']=='SchoolTchStuCounts'] \n",
    "    plt.figure(); \n",
    "    appdata163.plot(x='TodaysDate', y='RecordCount', color='r', linewidth=2.0); \n",
    "    plt.title('AppData: SchoolTchStuCounts') \n",
    "    plt.xlabel('TodaysDate', fontsize=12) \n",
    "    plt.ylabel('RecordCount', fontsize=12) \n",
    "    plt.xticks(rotation=90) \n",
    "    plt.tight_layout()\n",
    "    fig1 = plt.gcf()\n",
    "    plt.draw()\n",
    "    time.sleep(1)\n",
    "    pdf.savefig()  # saves the current figure into a pdf page \n",
    "    plt.close()\n",
    "\n",
    "    appdata164 = df2.loc[df2['TableName']=='SecurityToken'] \n",
    "    plt.figure(); \n",
    "    appdata164.plot(x='TodaysDate', y='RecordCount', color='r', linewidth=2.0); \n",
    "    plt.title('AppData: SecurityToken') \n",
    "    plt.xlabel('TodaysDate', fontsize=12) \n",
    "    plt.ylabel('RecordCount', fontsize=12) \n",
    "    plt.xticks(rotation=90) \n",
    "    plt.tight_layout()\n",
    "    fig1 = plt.gcf()\n",
    "    plt.draw()\n",
    "    time.sleep(1)\n",
    "    pdf.savefig()  # saves the current figure into a pdf page \n",
    "    plt.close()\n",
    "\n",
    "    appdata165 = df2.loc[df2['TableName']=='State'] \n",
    "    plt.figure(); \n",
    "    appdata165.plot(x='TodaysDate', y='RecordCount', color='r', linewidth=2.0); \n",
    "    plt.title('AppData: State') \n",
    "    plt.xlabel('TodaysDate', fontsize=12) \n",
    "    plt.ylabel('RecordCount', fontsize=12) \n",
    "    plt.xticks(rotation=90) \n",
    "    plt.tight_layout()\n",
    "    fig1 = plt.gcf()\n",
    "    plt.draw()\n",
    "    time.sleep(1)\n",
    "    pdf.savefig()  # saves the current figure into a pdf page \n",
    "    plt.close()\n",
    "\n",
    "    appdata166 = df2.loc[df2['TableName']=='StudentCurrentYearSummary'] \n",
    "    plt.figure(); \n",
    "    appdata166.plot(x='TodaysDate', y='RecordCount', color='r', linewidth=2.0); \n",
    "    plt.title('AppData: StudentCurrentYearSummary') \n",
    "    plt.xlabel('TodaysDate', fontsize=12) \n",
    "    plt.ylabel('RecordCount', fontsize=12) \n",
    "    plt.xticks(rotation=90) \n",
    "    plt.tight_layout()\n",
    "    fig1 = plt.gcf()\n",
    "    plt.draw()\n",
    "    time.sleep(1)\n",
    "    pdf.savefig()  # saves the current figure into a pdf page \n",
    "    plt.close()\n",
    "\n",
    "    appdata167 = df2.loc[df2['TableName']=='StudentTeacherSchedule'] \n",
    "    plt.figure(); \n",
    "    appdata167.plot(x='TodaysDate', y='RecordCount', color='r', linewidth=2.0); \n",
    "    plt.title('AppData: StudentTeacherSchedule') \n",
    "    plt.xlabel('TodaysDate', fontsize=12) \n",
    "    plt.ylabel('RecordCount', fontsize=12) \n",
    "    plt.xticks(rotation=90) \n",
    "    plt.tight_layout()\n",
    "    fig1 = plt.gcf()\n",
    "    plt.draw()\n",
    "    time.sleep(1)\n",
    "    pdf.savefig()  # saves the current figure into a pdf page \n",
    "    plt.close()\n",
    "\n",
    "    appdata168 = df2.loc[df2['TableName']=='Submission'] \n",
    "    plt.figure(); \n",
    "    appdata168.plot(x='TodaysDate', y='RecordCount', color='r', linewidth=2.0); \n",
    "    plt.title('AppData: Submission') \n",
    "    plt.xlabel('TodaysDate', fontsize=12) \n",
    "    plt.ylabel('RecordCount', fontsize=12) \n",
    "    plt.xticks(rotation=90) \n",
    "    plt.tight_layout()\n",
    "    fig1 = plt.gcf()\n",
    "    plt.draw()\n",
    "    time.sleep(1)\n",
    "    pdf.savefig()  # saves the current figure into a pdf page \n",
    "    plt.close()\n",
    "\n",
    "    appdata169 = df2.loc[df2['TableName']=='Submission_Original'] \n",
    "    plt.figure(); \n",
    "    appdata169.plot(x='TodaysDate', y='RecordCount', color='r', linewidth=2.0); \n",
    "    plt.title('AppData: Submission_Original') \n",
    "    plt.xlabel('TodaysDate', fontsize=12) \n",
    "    plt.ylabel('RecordCount', fontsize=12) \n",
    "    plt.xticks(rotation=90) \n",
    "    plt.tight_layout()\n",
    "    fig1 = plt.gcf()\n",
    "    plt.draw()\n",
    "    time.sleep(1)\n",
    "    pdf.savefig()  # saves the current figure into a pdf page \n",
    "    plt.close()\n",
    "\n",
    "    appdata170 = df2.loc[df2['TableName']=='SubmissionHistory'] \n",
    "    plt.figure(); \n",
    "    appdata170.plot(x='TodaysDate', y='RecordCount', color='r', linewidth=2.0); \n",
    "    plt.title('AppData: SubmissionHistory') \n",
    "    plt.xlabel('TodaysDate', fontsize=12) \n",
    "    plt.ylabel('RecordCount', fontsize=12) \n",
    "    plt.xticks(rotation=90) \n",
    "    plt.tight_layout()\n",
    "    fig1 = plt.gcf()\n",
    "    plt.draw() \n",
    "    time.sleep(1)\n",
    "    pdf.savefig()  # saves the current figure into a pdf page \n",
    "    plt.close()\n",
    "\n",
    "    appdata171 = df2.loc[df2['TableName']=='SubmissionState'] \n",
    "    plt.figure(); \n",
    "    appdata171.plot(x='TodaysDate', y='RecordCount', color='r', linewidth=2.0); \n",
    "    plt.title('AppData: SubmissionState') \n",
    "    plt.xlabel('TodaysDate', fontsize=12) \n",
    "    plt.ylabel('RecordCount', fontsize=12) \n",
    "    plt.xticks(rotation=90) \n",
    "    plt.tight_layout()\n",
    "    fig1 = plt.gcf()\n",
    "    plt.draw()\n",
    "    time.sleep(1)\n",
    "    pdf.savefig()  # saves the current figure into a pdf page \n",
    "    plt.close()\n",
    "\n",
    "    appdata172 = df2.loc[df2['TableName']=='Survey_Report_Codes'] \n",
    "    plt.figure(); \n",
    "    appdata172.plot(x='TodaysDate', y='RecordCount', color='r', linewidth=2.0); \n",
    "    plt.title('AppData: Survey_Report_Codes') \n",
    "    plt.xlabel('TodaysDate', fontsize=12) \n",
    "    plt.ylabel('RecordCount', fontsize=12) \n",
    "    plt.xticks(rotation=90) \n",
    "    plt.tight_layout()\n",
    "    fig1 = plt.gcf()\n",
    "    plt.draw()\n",
    "    time.sleep(1)\n",
    "    pdf.savefig()  # saves the current figure into a pdf page \n",
    "    plt.close()\n",
    "\n",
    "    appdata173 = df2.loc[df2['TableName']=='Survey_Report_Summary'] \n",
    "    plt.figure(); \n",
    "    appdata173.plot(x='TodaysDate', y='RecordCount', color='r', linewidth=2.0); \n",
    "    plt.title('AppData: Survey_Report_Summary') \n",
    "    plt.xlabel('TodaysDate', fontsize=12) \n",
    "    plt.ylabel('RecordCount', fontsize=12) \n",
    "    plt.xticks(rotation=90) \n",
    "    plt.tight_layout()\n",
    "    fig1 = plt.gcf()\n",
    "    plt.draw()\n",
    "    time.sleep(1)\n",
    "    pdf.savefig()  # saves the current figure into a pdf page \n",
    "    plt.close()\n",
    "\n",
    "    appdata174 = df2.loc[df2['TableName']=='Survey_Respondent_Report'] \n",
    "    plt.figure(); \n",
    "    appdata174.plot(x='TodaysDate', y='RecordCount', color='r', linewidth=2.0); \n",
    "    plt.title('AppData: Survey_Respondent_Report') \n",
    "    plt.xlabel('TodaysDate', fontsize=12) \n",
    "    plt.ylabel('RecordCount', fontsize=12) \n",
    "    plt.xticks(rotation=90) \n",
    "    plt.tight_layout()\n",
    "    fig1 = plt.gcf()\n",
    "    plt.draw()\n",
    "    time.sleep(1)\n",
    "    pdf.savefig()  # saves the current figure into a pdf page \n",
    "    plt.close()\n",
    "\n",
    "    appdata175 = df2.loc[df2['TableName']=='sysdiagrams'] \n",
    "    plt.figure(); \n",
    "    appdata175.plot(x='TodaysDate', y='RecordCount', color='r', linewidth=2.0); \n",
    "    plt.title('AppData: sysdiagrams') \n",
    "    plt.xlabel('TodaysDate', fontsize=12) \n",
    "    plt.ylabel('RecordCount', fontsize=12) \n",
    "    plt.xticks(rotation=90) \n",
    "    plt.tight_layout()\n",
    "    fig1 = plt.gcf()\n",
    "    plt.draw()\n",
    "    time.sleep(1)\n",
    "    pdf.savefig()  # saves the current figure into a pdf page \n",
    "    plt.close()\n",
    "\n",
    "    appdata176 = df2.loc[df2['TableName']=='TeacherStudentSummary'] \n",
    "    plt.figure(); \n",
    "    appdata176.plot(x='TodaysDate', y='RecordCount', color='r', linewidth=2.0); \n",
    "    plt.title('AppData: TeacherStudentSummary') \n",
    "    plt.xlabel('TodaysDate', fontsize=12) \n",
    "    plt.ylabel('RecordCount', fontsize=12) \n",
    "    plt.xticks(rotation=90) \n",
    "    plt.tight_layout()\n",
    "    fig1 = plt.gcf()\n",
    "    plt.draw()\n",
    "    time.sleep(1)\n",
    "    pdf.savefig()  # saves the current figure into a pdf page \n",
    "    plt.close()\n",
    "\n",
    "    appdata177 = df2.loc[df2['TableName']=='TPP_Notes'] \n",
    "    plt.figure(); \n",
    "    appdata177.plot(x='TodaysDate', y='RecordCount', color='r', linewidth=2.0); \n",
    "    plt.title('AppData: TPP_Notes') \n",
    "    plt.xlabel('TodaysDate', fontsize=12) \n",
    "    plt.ylabel('RecordCount', fontsize=12) \n",
    "    plt.xticks(rotation=90) \n",
    "    plt.tight_layout()\n",
    "    fig1 = plt.gcf()\n",
    "    plt.draw()\n",
    "    time.sleep(1)\n",
    "    pdf.savefig()  # saves the current figure into a pdf page \n",
    "    plt.close()\n",
    "\n",
    "    appdata178 = df2.loc[df2['TableName']=='TypeCode'] \n",
    "    plt.figure(); \n",
    "    appdata178.plot(x='TodaysDate', y='RecordCount', color='r', linewidth=2.0); \n",
    "    plt.title('AppData: TypeCode') \n",
    "    plt.xlabel('TodaysDate', fontsize=12) \n",
    "    plt.ylabel('RecordCount', fontsize=12) \n",
    "    plt.xticks(rotation=90) \n",
    "    plt.tight_layout()\n",
    "    fig1 = plt.gcf()\n",
    "    plt.draw()\n",
    "    time.sleep(1)\n",
    "    pdf.savefig()  # saves the current figure into a pdf page \n",
    "    plt.close()\n",
    "\n",
    "    appdata179 = df2.loc[df2['TableName']=='User'] \n",
    "    plt.figure(); \n",
    "    appdata179.plot(x='TodaysDate', y='RecordCount', color='r', linewidth=2.0); \n",
    "    plt.title('AppData: User') \n",
    "    plt.xlabel('TodaysDate', fontsize=12) \n",
    "    plt.ylabel('RecordCount', fontsize=12) \n",
    "    plt.xticks(rotation=90) \n",
    "    plt.tight_layout()\n",
    "    fig1 = plt.gcf()\n",
    "    plt.draw()\n",
    "    time.sleep(1)\n",
    "    pdf.savefig()  # saves the current figure into a pdf page \n",
    "    plt.close()\n",
    "\n",
    "    appdata180 = df2.loc[df2['TableName']=='UserComments'] \n",
    "    plt.figure(); \n",
    "    appdata180.plot(x='TodaysDate', y='RecordCount', color='r', linewidth=2.0); \n",
    "    plt.title('AppData: UserComments') \n",
    "    plt.xlabel('TodaysDate', fontsize=12) \n",
    "    plt.ylabel('RecordCount', fontsize=12) \n",
    "    plt.xticks(rotation=90) \n",
    "    plt.tight_layout()\n",
    "    fig1 = plt.gcf()\n",
    "    plt.draw()\n",
    "    time.sleep(1)\n",
    "    pdf.savefig()  # saves the current figure into a pdf page \n",
    "    plt.close()\n",
    "\n",
    "    appdata181 = df2.loc[df2['TableName']=='UserPermission'] \n",
    "    plt.figure(); \n",
    "    appdata181.plot(x='TodaysDate', y='RecordCount', color='r', linewidth=2.0); \n",
    "    plt.title('AppData: UserPermission') \n",
    "    plt.xlabel('TodaysDate', fontsize=12) \n",
    "    plt.ylabel('RecordCount', fontsize=12) \n",
    "    plt.xticks(rotation=90) \n",
    "    plt.tight_layout()\n",
    "    fig1 = plt.gcf()\n",
    "    plt.draw()\n",
    "    time.sleep(1)\n",
    "    pdf.savefig()  # saves the current figure into a pdf page \n",
    "    plt.close()\n",
    "\n",
    "    appdata182 = df2.loc[df2['TableName']=='UserRolePermission'] \n",
    "    plt.figure(); \n",
    "    appdata182.plot(x='TodaysDate', y='RecordCount', color='r', linewidth=2.0); \n",
    "    plt.title('AppData: UserRolePermission') \n",
    "    plt.xlabel('TodaysDate', fontsize=12) \n",
    "    plt.ylabel('RecordCount', fontsize=12) \n",
    "    plt.xticks(rotation=90) \n",
    "    plt.tight_layout()\n",
    "    fig1 = plt.gcf()\n",
    "    plt.draw()\n",
    "    time.sleep(1)\n",
    "    pdf.savefig()  # saves the current figure into a pdf page \n",
    "    plt.close()\n",
    "\n",
    "    appdata183 = df2.loc[df2['TableName']=='UserRoles'] \n",
    "    plt.figure(); \n",
    "    appdata183.plot(x='TodaysDate', y='RecordCount', color='r', linewidth=2.0); \n",
    "    plt.title('AppData: UserRoles') \n",
    "    plt.xlabel('TodaysDate', fontsize=12) \n",
    "    plt.ylabel('RecordCount', fontsize=12) \n",
    "    plt.xticks(rotation=90) \n",
    "    plt.tight_layout()\n",
    "    fig1 = plt.gcf()\n",
    "    plt.draw()\n",
    "    time.sleep(1)\n",
    "    pdf.savefig()  # saves the current figure into a pdf page \n",
    "    plt.close()\n",
    "\n",
    "    #set the file's metadata via the PdfPages object:\n",
    "    d = pdf.infodict()\n",
    "    d['Title'] = 'ApplicationData Multipage PDF'\n",
    "    d['Author'] = u'Greg Turmel, Director Data Governance\\xe4nen'\n",
    "    d['Subject'] = 'ApplicationData multipage pdf file metadata'\n",
    "    d['Keywords'] = 'PdfPages multipage keywords author title subject'\n",
    "    d['CreationDate'] = datetime.datetime(2021, 5, 1) #Update the metadata for this date (on demand)\n",
    "    d['ModDate'] = datetime.datetime.today()\n",
    "    "
   ]
  },
  {
   "cell_type": "code",
   "execution_count": 6,
   "metadata": {},
   "outputs": [],
   "source": [
    "plt.close()"
   ]
  },
  {
   "cell_type": "code",
   "execution_count": 7,
   "metadata": {},
   "outputs": [],
   "source": [
    "#Date timestamp create to filename\n",
    "import os, time\n",
    "time.sleep(2)\n",
    "os.rename(\"multipage.pdf\", time.strftime(\"%Y%m%d%H%M%S_AppData_Multipage.pdf\"))"
   ]
  },
  {
   "cell_type": "code",
   "execution_count": 8,
   "metadata": {},
   "outputs": [],
   "source": [
    "# Clean up your plots after you are done with them:\n",
    "plt.close('all')"
   ]
  },
  {
   "cell_type": "code",
   "execution_count": 9,
   "metadata": {},
   "outputs": [
    {
     "name": "stdout",
     "output_type": "stream",
     "text": [
      " *** Note: tblRowCountAppDataWdata.csv file written - continue program ***\n"
     ]
    }
   ],
   "source": [
    "#import time\n",
    "time.sleep(1) # Sleep for 1 seconds\n",
    "print(' *** Note: tblRowCountAppDataWdata.csv file written - continue program ***')"
   ]
  },
  {
   "cell_type": "code",
   "execution_count": null,
   "metadata": {},
   "outputs": [],
   "source": []
  }
 ],
 "metadata": {
  "kernelspec": {
   "display_name": "Python 3",
   "language": "python",
   "name": "python3"
  },
  "language_info": {
   "codemirror_mode": {
    "name": "ipython",
    "version": 3
   },
   "file_extension": ".py",
   "mimetype": "text/x-python",
   "name": "python",
   "nbconvert_exporter": "python",
   "pygments_lexer": "ipython3",
   "version": "3.8.3"
  }
 },
 "nbformat": 4,
 "nbformat_minor": 4
}
